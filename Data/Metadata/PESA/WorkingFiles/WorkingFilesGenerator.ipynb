{
 "cells": [
  {
   "cell_type": "code",
   "execution_count": 1,
   "metadata": {},
   "outputs": [],
   "source": [
    "#\n",
    "# Import libraries\n",
    "#\n",
    "\n",
    "import os\n",
    "import pandas as pd\n",
    "import sys\n",
    "\n",
    "utilsPath = r'S:\\U_Proteomica\\UNIDAD\\software\\MacrosRafa\\data\\Metabolomics\\PESA_Integromics\\Data\\utils'\n",
    "if utilsPath not in sys.path:\n",
    "    sys.path.append(utilsPath)\n",
    "\n",
    "from MetadataStats import MetadataStats"
   ]
  },
  {
   "cell_type": "code",
   "execution_count": 2,
   "metadata": {},
   "outputs": [],
   "source": [
    "#\n",
    "# Set constants\n",
    "#\n",
    "\n",
    "mdata_path = r\"S:\\U_Proteomica\\UNIDAD\\software\\MacrosRafa\\data\\Metabolomics\\PESA_Integromics\\Data\\Metadata\\PESA\\OriginalFiles\\RBR_main_metadata.xlsx\"\n",
    "b2sn_path = r\"S:\\U_Proteomica\\UNIDAD\\software\\MacrosRafa\\data\\Metabolomics\\PESA_Integromics\\Data\\Metabolomics\\PESA\\WorkingFiles\\batchn2Seqn.tsv\"\n",
    "\n",
    "wpath = r'S:\\U_Proteomica\\UNIDAD\\software\\MacrosRafa\\data\\Metabolomics\\PESA_Integromics\\Data\\Metadata\\PESA\\WorkingFiles'\n",
    "\n",
    "filePlot = 'MetadataStats.html'\n",
    "if os.path.exists(filePlot): os.remove(filePlot)"
   ]
  },
  {
   "cell_type": "code",
   "execution_count": 3,
   "metadata": {},
   "outputs": [],
   "source": [
    "#\n",
    "# Read dataframe\n",
    "#\n",
    "\n",
    "mdata = pd.read_excel(mdata_path)\n",
    "#b2sn = pd.read_csv(b2sn_path, sep='\\t')"
   ]
  },
  {
   "cell_type": "code",
   "execution_count": 4,
   "metadata": {},
   "outputs": [],
   "source": [
    "#\n",
    "# Create main_metadata.tsv\n",
    "#\n",
    "\n",
    "#mdata = mdata.set_index('Name').T.reset_index(drop=True).set_index('Seqn').reset_index('Seqn')\n",
    "#mdata.to_csv(os.path.join(wpath, 'main_metadata.tsv'), index=False, sep='\\t')"
   ]
  },
  {
   "cell_type": "code",
   "execution_count": 5,
   "metadata": {},
   "outputs": [],
   "source": [
    "mdata['Caso/control'] = [0 if i=='C' else 1 for i in mdata['Group']]\n",
    "mdata['Smoke_dummy'] = [0 if i=='No' else 1 for i in mdata['Smoke']]"
   ]
  },
  {
   "cell_type": "code",
   "execution_count": 6,
   "metadata": {},
   "outputs": [],
   "source": [
    "mdata.to_csv(os.path.join(wpath, 'main_metadata.tsv'), index=False, sep='\\t')"
   ]
  },
  {
   "cell_type": "code",
   "execution_count": 7,
   "metadata": {},
   "outputs": [
    {
     "name": "stdout",
     "output_type": "stream",
     "text": [
      "Mann-Whitney U Test\n",
      "\n",
      "Plaque_thickness\n",
      "Statistic = 48729.5 | p-value = 7.609542359195774e-74\n",
      "\n",
      "Calcium_Score\n",
      "Statistic = 46015.5 | p-value = 8.466735662056474e-68\n",
      "\n",
      "Plaque_burden\n",
      "Statistic = 42526.0 | p-value = 2.0857589832848215e-45\n",
      "\n",
      "Total_Cholesterol\n",
      "Statistic = 28002.5 | p-value = 0.012926726429818059\n",
      "\n",
      "HDL\n",
      "Statistic = 22401.0 | p-value = 0.09737743132520268\n",
      "\n",
      "LDL\n",
      "Statistic = 27688.5 | p-value = 0.024226843646571395\n",
      "\n",
      "Ox-LDL\n",
      "Statistic = 30044.5 | p-value = 6.435386654758069e-05\n",
      "\n",
      "Mann-Whitney U Test\n",
      "\n",
      "Lipoprotein(a)\n",
      "Statistic = 26791.5 | p-value = 0.11172360667067427\n",
      "\n",
      "CRP\n",
      "Statistic = 23798.5 | p-value = 0.5325230273308303\n",
      "\n",
      "Framingham 10y\n",
      "Statistic = 31873.0 | p-value = 8.853589381658026e-08\n",
      "\n",
      "Framingham 30y\n",
      "Statistic = 33255.0 | p-value = 1.8771908055560133e-10\n",
      "\n",
      "deqage\n",
      "Statistic = 28152.5 | p-value = 0.009187374404343137\n",
      "\n",
      "Systolic Blodd Pressure\n",
      "Statistic = 29859.5 | p-value = 0.00011276055702050849\n",
      "\n",
      "Diastolic Blood Pressure\n",
      "Statistic = 28518.5 | p-value = 0.00411163245999857\n",
      "\n",
      "Chi-Square Homogeneity Sample Test\n",
      "\n",
      "Smoke_dummy\n",
      "Statistic = 39.60503416037397 | p-value = 3.1088088509890317e-10\n",
      "\n"
     ]
    }
   ],
   "source": [
    "mds = MetadataStats(mdata, file=filePlot)\n",
    "\n",
    "qualCols = ['Smoke_dummy']\n",
    "quanCols = [\n",
    "    'Plaque_thickness',\n",
    "    'Calcium_Score',\n",
    "    'Plaque_burden',\n",
    "    'Total_Cholesterol',\n",
    "    'HDL',\n",
    "    'LDL',\n",
    "    'Ox-LDL',\n",
    "    'Lipoprotein(a)',\n",
    "    'CRP',\n",
    "    'Framingham 10y',\n",
    "    'Framingham 30y',\n",
    "    'deqage',\n",
    "    'Systolic Blodd Pressure',\n",
    "    'Diastolic Blood Pressure'\n",
    "]\n",
    "\n",
    "mds.plotQuanCols(quanCols[:7])\n",
    "mds.plotQuanCols(quanCols[7:])\n",
    "mds.plotQualCols(qualCols)"
   ]
  },
  {
   "cell_type": "code",
   "execution_count": 9,
   "metadata": {},
   "outputs": [
    {
     "name": "stdout",
     "output_type": "stream",
     "text": [
      "Number of observations: 444\n",
      "\n",
      "Number of observations per Cohort:\n",
      "2    120\n",
      "3    120\n",
      "4    102\n",
      "5    102\n",
      "Name: Cohort, dtype: int64\n",
      "\n",
      "Number of observations per group:\n",
      "D    222\n",
      "C    222\n",
      "Name: Group, dtype: int64\n",
      "\n",
      "Number of observations per gorup:\n",
      "Cohort  Group\n",
      "2       C        60\n",
      "        D        60\n",
      "3       C        60\n",
      "        D        60\n",
      "4       C        51\n",
      "        D        51\n",
      "5       C        51\n",
      "        D        51\n",
      "dtype: int64\n"
     ]
    }
   ],
   "source": [
    "#\n",
    "# PESA DATA\n",
    "#\n",
    "\n",
    "\n",
    "print(f'Number of observations: {mdata.shape[0]}')\n",
    "print()\n",
    "print('Number of observations per Cohort:')\n",
    "print(mdata['Cohort'].value_counts())\n",
    "print()\n",
    "print('Number of observations per group:')\n",
    "print(mdata['Group'].value_counts())\n",
    "print()\n",
    "print('Number of observations per gorup:')\n",
    "print(mdata.loc[:, ['Cohort', 'Group']].groupby(['Cohort', 'Group']).size())\n",
    "\n",
    "\n"
   ]
  }
 ],
 "metadata": {
  "kernelspec": {
   "display_name": "Python 3.10.4 64-bit",
   "language": "python",
   "name": "python3"
  },
  "language_info": {
   "codemirror_mode": {
    "name": "ipython",
    "version": 3
   },
   "file_extension": ".py",
   "mimetype": "text/x-python",
   "name": "python",
   "nbconvert_exporter": "python",
   "pygments_lexer": "ipython3",
   "version": "3.10.4"
  },
  "orig_nbformat": 4,
  "vscode": {
   "interpreter": {
    "hash": "299fabdee10379681b2207a83aa9f93c313ee5d5504e286e44b436bd7e45d8f9"
   }
  }
 },
 "nbformat": 4,
 "nbformat_minor": 2
}
