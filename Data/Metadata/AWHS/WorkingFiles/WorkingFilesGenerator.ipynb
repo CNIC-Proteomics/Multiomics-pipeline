{
 "cells": [
  {
   "cell_type": "code",
   "execution_count": 1,
   "metadata": {},
   "outputs": [],
   "source": [
    "#\n",
    "# Import Libraries\n",
    "#\n",
    "\n",
    "import pandas as pd\n",
    "import numpy as np\n",
    "import os\n",
    "import sys\n",
    "\n",
    "utilsPath = r'S:\\U_Proteomica\\UNIDAD\\software\\MacrosRafa\\data\\Metabolomics\\PESA_Integromics\\Data\\utils'\n",
    "if utilsPath not in sys.path:\n",
    "    sys.path.append(utilsPath)\n",
    "\n",
    "from MetadataStats import MetadataStats"
   ]
  },
  {
   "cell_type": "code",
   "execution_count": 4,
   "metadata": {},
   "outputs": [],
   "source": [
    "#\n",
    "# Set constants\n",
    "#\n",
    "\n",
    "mdata_path = r'S:\\U_Proteomica\\UNIDAD\\software\\MacrosRafa\\data\\Metabolomics\\PESA_Integromics\\Data\\Metadata\\AWHS\\OriginalFiles\\Cohortes_AWHS.xlsx'\n",
    "sn2g_path = r'S:\\U_Proteomica\\UNIDAD\\software\\MacrosRafa\\data\\Metabolomics\\PESA_Integromics\\Data\\Metadata\\AWHS\\OriginalFiles\\Seqn2Disease.xlsx'\n",
    "mbatch_path = r\"S:\\U_Proteomica\\UNIDAD\\software\\MacrosRafa\\data\\Metabolomics\\PESA_Integromics\\Data\\Metadata\\AWHS\\OriginalFiles\\RBR_MetabolomicsBatch.xlsx\"\n",
    "fhs10y_path = r\"S:\\U_Proteomica\\UNIDAD\\software\\MacrosRafa\\data\\Metabolomics\\PESA_Integromics\\Data\\Metadata\\AWHS\\OriginalFiles\\FHS10years.xlsx\"\n",
    "\n",
    "cohs = ['Cohorte1_120','Cohorte2_120','Cohorte3_110']\n",
    "\n",
    "filePlot = 'MetadataStats.html'\n",
    "if os.path.exists(filePlot): os.remove(filePlot)"
   ]
  },
  {
   "cell_type": "code",
   "execution_count": 5,
   "metadata": {},
   "outputs": [],
   "source": [
    "#\n",
    "# Read df\n",
    "#\n",
    "\n",
    "mdata = [pd.read_excel(mdata_path, sheet_name=i) for i in cohs]\n",
    "\n",
    "for df,cn in zip(mdata,cohs):\n",
    "    df['Cohort'] = cn.split('_')[0][-1]\n",
    "\n",
    "mdata = pd.concat(mdata)\n",
    "\n",
    "sn2g = pd.read_excel(sn2g_path)"
   ]
  },
  {
   "cell_type": "code",
   "execution_count": 6,
   "metadata": {},
   "outputs": [],
   "source": [
    "#\n",
    "# Adapt columns\n",
    "#\n",
    "\n",
    "mdata = pd.merge(\n",
    "    sn2g,\n",
    "    mdata.drop('Ind Para Prot', axis=1).rename(columns={\n",
    "        'SEQN': 'Seqn'\n",
    "    }),\n",
    "    on='Seqn',\n",
    "    how='outer'\n",
    ")\n"
   ]
  },
  {
   "cell_type": "code",
   "execution_count": 7,
   "metadata": {},
   "outputs": [],
   "source": [
    "#\n",
    "# Add metabolomics batch\n",
    "#\n",
    "\n",
    "mdata = pd.merge(\n",
    "    mdata,\n",
    "    pd.read_excel(mbatch_path).loc[:, ['Metabo_Batch', 'Metabo_GlobalOrder', 'Seqn']],\n",
    "    on='Seqn',\n",
    "    how='outer'\n",
    ")"
   ]
  },
  {
   "cell_type": "code",
   "execution_count": 13,
   "metadata": {},
   "outputs": [],
   "source": [
    "#\n",
    "# Add Framingham 10years\n",
    "#\n",
    "\n",
    "mdata = pd.merge(\n",
    "    mdata,\n",
    "    pd.read_excel(fhs10y_path),\n",
    "    how='inner', on='Seqn'\n",
    ")"
   ]
  },
  {
   "cell_type": "code",
   "execution_count": 14,
   "metadata": {},
   "outputs": [],
   "source": [
    "#\n",
    "# Write main_metadata.tsv\n",
    "#\n",
    "\n",
    "mdata.to_csv(\n",
    "    os.path.join(r\"S:\\U_Proteomica\\UNIDAD\\software\\MacrosRafa\\data\\Metabolomics\\PESA_Integromics\\Data\\Metadata\\AWHS\\WorkingFiles\", 'main_metadata.tsv'),\n",
    "    sep='\\t',\n",
    "    index=False\n",
    ")"
   ]
  },
  {
   "cell_type": "code",
   "execution_count": 15,
   "metadata": {},
   "outputs": [
    {
     "name": "stdout",
     "output_type": "stream",
     "text": [
      "Mann-Whitney U Test\n",
      "\n",
      "Plaque thickness\n",
      "Statistic = 29803.5 | p-value = 4.856836395109511e-59\n",
      "\n",
      "Glucosa\n",
      "Statistic = 16355.0 | p-value = 0.27042676111508834\n",
      "\n",
      "Calcio Score\n",
      "Statistic = 24237.5 | p-value = 6.090529507475739e-37\n",
      "\n",
      "age\n",
      "Statistic = 18334.0 | p-value = 0.001290924496258573\n",
      "\n",
      "coltot\n",
      "Statistic = 16923.5 | p-value = 0.08870956750507607\n",
      "\n",
      "hdl\n",
      "Statistic = 12274.5 | p-value = 0.0013197859550785518\n",
      "\n",
      "presis\n",
      "Statistic = 16360.0 | p-value = 0.011518488411675307\n",
      "\n",
      "presdi\n",
      "Statistic = 15376.0 | p-value = 0.1551921779076202\n",
      "\n",
      "FHS10y\n",
      "Statistic = 19639.5 | p-value = 4.835081904826723e-06\n",
      "\n",
      "Chi-Square Homogeneity Sample Test\n",
      "\n",
      "diabetes\n",
      "Statistic = 0.07989043597352204 | p-value = 0.7774459434458258\n",
      "\n",
      "smoker\n",
      "Statistic = 2.713178294573644 | p-value = 0.09952252907239534\n",
      "\n",
      "HIPERTENSION_RF\n",
      "Statistic = 0.8177356055621254 | p-value = 0.3658430544271807\n",
      "\n",
      "DISLIPEMIA_RF\n",
      "Statistic = 3.108152609346334 | p-value = 0.0779012736823803\n",
      "\n"
     ]
    }
   ],
   "source": [
    "#\n",
    "# Some plots & statistics about metadata\n",
    "#\n",
    "\n",
    "mds = MetadataStats(mdata, file=filePlot)\n",
    "\n",
    "qualCols = ['diabetes', 'smoker', 'HIPERTENSION_RF', 'DISLIPEMIA_RF']\n",
    "quanCols = ['Plaque thickness', 'Glucosa', 'Calcio Score', 'age', 'coltot', 'hdl', 'presis', 'presdi', 'FHS10y']\n",
    "\n",
    "mds.plotQuanCols(quanCols)\n",
    "mds.plotQualCols(qualCols)"
   ]
  },
  {
   "cell_type": "code",
   "execution_count": 16,
   "metadata": {},
   "outputs": [
    {
     "name": "stdout",
     "output_type": "stream",
     "text": [
      "   diabetes\n",
      "0       337\n",
      "1        13\n",
      "\n",
      "   smoker\n",
      "1     215\n",
      "0     135\n",
      "\n",
      "     HIPERTENSION_RF\n",
      "0.0              242\n",
      "1.0               94\n",
      "\n",
      "     DISLIPEMIA_RF\n",
      "0.0            172\n",
      "1.0            120\n",
      "\n"
     ]
    }
   ],
   "source": [
    "for i in qualCols:\n",
    "    print(mdata[i].value_counts().to_frame())\n",
    "    print()"
   ]
  }
 ],
 "metadata": {
  "kernelspec": {
   "display_name": "Python 3",
   "language": "python",
   "name": "python3"
  },
  "language_info": {
   "codemirror_mode": {
    "name": "ipython",
    "version": 3
   },
   "file_extension": ".py",
   "mimetype": "text/x-python",
   "name": "python",
   "nbconvert_exporter": "python",
   "pygments_lexer": "ipython3",
   "version": "3.10.4"
  },
  "orig_nbformat": 4,
  "vscode": {
   "interpreter": {
    "hash": "1b0ede620bbcd53631b48e9156a057f8c0af7659ac1c11bd35c24f592ad5674e"
   }
  }
 },
 "nbformat": 4,
 "nbformat_minor": 2
}
