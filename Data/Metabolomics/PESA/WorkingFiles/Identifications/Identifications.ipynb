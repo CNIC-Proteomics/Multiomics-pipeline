{
 "cells": [
  {
   "cell_type": "code",
   "execution_count": 1,
   "metadata": {},
   "outputs": [],
   "source": [
    "#\n",
    "# Import libraries\n",
    "#\n",
    "\n",
    "import os\n",
    "import pandas as pd\n",
    "from dotmap import DotMap\n",
    "import requests\n",
    "import json\n",
    "import numpy as np"
   ]
  },
  {
   "cell_type": "code",
   "execution_count": 2,
   "metadata": {},
   "outputs": [],
   "source": [
    "modes = ['cp', 'cn', 'hp', 'hn']\n",
    "f2i_path = r\"S:\\U_Proteomica\\UNIDAD\\software\\MacrosRafa\\data\\Metabolomics\\PESA_Integromics\\Data\\Metabolomics\\PESA\\OriginalFiles\\RBR_f2i.xlsx\"\n",
    "f2i = DotMap({\n",
    "    'cp': pd.read_excel(f2i_path, sheet_name='C18P'),\n",
    "    'cn': pd.read_excel(f2i_path, sheet_name='C18N'),\n",
    "    'hp': pd.read_excel(f2i_path, sheet_name='HILP'),\n",
    "    'hn': pd.read_excel(f2i_path, sheet_name='HILN')\n",
    "})"
   ]
  },
  {
   "cell_type": "code",
   "execution_count": 3,
   "metadata": {},
   "outputs": [],
   "source": [
    "#\n",
    "# Obtain feature data for each CMM table and run TurboPutative\n",
    "#\n",
    "\n",
    "xm = pd.read_csv(\n",
    "    r\"S:\\U_Proteomica\\UNIDAD\\software\\MacrosRafa\\data\\Metabolomics\\PESA_Integromics\\Data\\Metabolomics\\PESA\\WorkingFiles\\Xm_norm.tsv\", \n",
    "    sep='\\t').set_index('Seqn')\n",
    "\n",
    "xm.index = [f'seqn_{i}' for i in xm.index]"
   ]
  },
  {
   "cell_type": "code",
   "execution_count": 4,
   "metadata": {},
   "outputs": [],
   "source": [
    "#\n",
    "# Adducts\n",
    "#\n",
    "\n",
    "posAdd = [\"M+H\", \"M+2H\", \"M+Na\", \"M+K\", \"M+H-H2O\", \"M+H+HCOONa\"]\n",
    "negAdd = [\"M-H\", \"M-2H\", \"M+Cl\", \"M-H-H20\", \"M-H+HCOONa\", \"M+Na-2H\", \"M+HCOOH-H\"]"
   ]
  },
  {
   "cell_type": "code",
   "execution_count": 5,
   "metadata": {},
   "outputs": [],
   "source": [
    "cmm = DotMap()\n",
    "\n",
    "uri = \"http://ceumass.eps.uspceu.es/mediator/api/v3/batch\"\n",
    "\n",
    "# C18P\n",
    "res = requests.post(\n",
    "    uri, headers={'Content-Type': 'application/json; charset=utf-8'}, \n",
    "    json={\n",
    "    \"metabolites_type\": \"all-except-peptides\",\n",
    "    \"databases\": [\"all-except-mine\"],\n",
    "    \"masses_mode\": \"mz\",\n",
    "    \"ion_mode\": \"positive\",\n",
    "    \"adducts\": ['all'],\n",
    "    \"tolerance\": 10.0,\n",
    "    \"tolerance_mode\": \"ppm\",\n",
    "    \"masses\": f2i.cp['Apex m/z'][np.isin(f2i.cp.fid, xm.columns)].to_list()\n",
    "    }\n",
    ")\n",
    "cmm.cp = pd.DataFrame(res.json()['results'])\n",
    "\n",
    "# # HILP\n",
    "res = requests.post(\n",
    "    uri, headers={'Content-Type': 'application/json; charset=utf-8'}, \n",
    "    json={\n",
    "    \"metabolites_type\": \"all-except-peptides\",\n",
    "    \"databases\": [\"all-except-mine\"],\n",
    "    \"masses_mode\": \"mz\",\n",
    "    \"ion_mode\": \"positive\",\n",
    "    \"adducts\": ['all'],\n",
    "    \"tolerance\": 10.0,\n",
    "    \"tolerance_mode\": \"ppm\",\n",
    "    \"masses\": f2i.hp['Apex m/z'][np.isin(f2i.hp.fid, xm.columns)].to_list()\n",
    "    }\n",
    ")\n",
    "cmm.hp = pd.DataFrame(res.json()['results'])\n",
    "\n",
    "# # C18N\n",
    "res = requests.post(\n",
    "    uri, headers={'Content-Type': 'application/json; charset=utf-8'}, \n",
    "    json={\n",
    "    \"metabolites_type\": \"all-except-peptides\",\n",
    "    \"databases\": [\"all-except-mine\"],\n",
    "    \"masses_mode\": \"mz\",\n",
    "    \"ion_mode\": \"negative\",\n",
    "    \"adducts\": ['all'],\n",
    "    \"tolerance\": 10.0,\n",
    "    \"tolerance_mode\": \"ppm\",\n",
    "    \"masses\": f2i.cn['Apex m/z'][np.isin(f2i.cn.fid, xm.columns)].to_list()\n",
    "    }\n",
    ")\n",
    "cmm.cn = pd.DataFrame(res.json()['results'])\n",
    "\n",
    "# HILN\n",
    "res = requests.post(\n",
    "    uri, headers={'Content-Type': 'application/json; charset=utf-8'}, \n",
    "    json={\n",
    "    \"metabolites_type\": \"all-except-peptides\",\n",
    "    \"databases\": [\"all-except-mine\"],\n",
    "    \"masses_mode\": \"mz\",\n",
    "    \"ion_mode\": \"negative\",\n",
    "    \"adducts\": ['all'],\n",
    "    \"tolerance\": 10.0,\n",
    "    \"tolerance_mode\": \"ppm\",\n",
    "    \"masses\": f2i.hn['Apex m/z'][np.isin(f2i.hn.fid, xm.columns)].to_list()\n",
    "    }\n",
    ")\n",
    "cmm.hn = pd.DataFrame(res.json()['results'])"
   ]
  },
  {
   "cell_type": "code",
   "execution_count": 6,
   "metadata": {},
   "outputs": [],
   "source": [
    "cmm.cp = cmm.cp[np.isin(cmm.cp.adduct, posAdd)]\n",
    "cmm.hp = cmm.hp[np.isin(cmm.hp.adduct, posAdd)]\n",
    "\n",
    "cmm.cn = cmm.cn[np.isin(cmm.cn.adduct, negAdd)]\n",
    "cmm.hn = cmm.hn[np.isin(cmm.hn.adduct, negAdd)]"
   ]
  },
  {
   "cell_type": "code",
   "execution_count": 7,
   "metadata": {},
   "outputs": [],
   "source": [
    "# Adapt columns to TP\n",
    "\n",
    "for i in modes: \n",
    "    cmm[i] = cmm[i].rename(columns={\n",
    "        'identifier': 'Identifier',\n",
    "        'EM': 'Experimental mass',\n",
    "        'adduct': 'Adduct',\n",
    "        'error_ppm': 'mz Error (ppm)',\n",
    "        'molecular_weight': 'Molecular Weight',\n",
    "        'name': 'Name',\n",
    "        'formula': 'Formula'\n",
    "    })"
   ]
  },
  {
   "cell_type": "code",
   "execution_count": 8,
   "metadata": {},
   "outputs": [],
   "source": [
    "# Identifiers to be removed\n",
    "remid = [188282]"
   ]
  },
  {
   "cell_type": "code",
   "execution_count": 9,
   "metadata": {},
   "outputs": [],
   "source": [
    "for i in modes:\n",
    "    cmm[i][~np.isin(cmm[i].Identifier, remid)].to_csv(f'CMM_{i}.tsv', sep='\\t', index=False)"
   ]
  },
  {
   "cell_type": "code",
   "execution_count": 10,
   "metadata": {},
   "outputs": [],
   "source": [
    "for i in modes:\n",
    "    f2i[i].set_index('fid')[['Apex m/z', 'RT [min]']]\\\n",
    "        .join(xm.T, how='inner')\\\n",
    "            .reset_index(names='FeatureInfo_Name')\\\n",
    "                .to_csv(f'FInfo_{i}.tsv', sep='\\t', index=False)"
   ]
  }
 ],
 "metadata": {
  "kernelspec": {
   "display_name": "Python 3",
   "language": "python",
   "name": "python3"
  },
  "language_info": {
   "codemirror_mode": {
    "name": "ipython",
    "version": 3
   },
   "file_extension": ".py",
   "mimetype": "text/x-python",
   "name": "python",
   "nbconvert_exporter": "python",
   "pygments_lexer": "ipython3",
   "version": "3.10.4"
  },
  "orig_nbformat": 4,
  "vscode": {
   "interpreter": {
    "hash": "299fabdee10379681b2207a83aa9f93c313ee5d5504e286e44b436bd7e45d8f9"
   }
  }
 },
 "nbformat": 4,
 "nbformat_minor": 2
}
