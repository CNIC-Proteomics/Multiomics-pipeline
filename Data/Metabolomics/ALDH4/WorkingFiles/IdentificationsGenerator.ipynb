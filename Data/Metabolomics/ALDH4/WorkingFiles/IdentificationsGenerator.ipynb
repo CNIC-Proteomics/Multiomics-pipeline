{
 "cells": [
  {
   "cell_type": "code",
   "execution_count": 1,
   "metadata": {},
   "outputs": [],
   "source": [
    "#\n",
    "# Import Libraries\n",
    "#\n",
    "\n",
    "import pandas as pd\n",
    "from dotmap import DotMap\n",
    "import os"
   ]
  },
  {
   "cell_type": "code",
   "execution_count": 3,
   "metadata": {},
   "outputs": [],
   "source": [
    "#\n",
    "# Constants\n",
    "#\n",
    "\n",
    "modes = ['C18N', 'C18P']\n",
    "\n",
    "# mfilt_path = r\"S:\\U_Proteomica\\UNIDAD\\software\\MacrosRafa\\data\\Metabolomics\\PESA_Integromics\\Data\\Analysis\\00-FeatureSelection\\ALDH4\\mfilt.tsv\"\n",
    "\n",
    "f2i_path = r\"S:\\U_Proteomica\\UNIDAD\\software\\MacrosRafa\\data\\Metabolomics\\PESA_Integromics\\Data\\Metabolomics\\ALDH4\\WorkingFiles\\f2i.tsv\"\n",
    "\n",
    "alid_path = r\"S:\\U_Proteomica\\UNIDAD\\software\\MacrosRafa\\data\\Metabolomics\\PESA_Integromics\\Data\\Metabolomics\\ALDH4\\OriginalFiles\\RBR_identifications.xlsx\"\n",
    "\n",
    "tp_path = r\"S:\\U_Proteomica\\UNIDAD\\software\\MacrosRafa\\data\\Metabolomics\\PESA_Integromics\\Data\\Metabolomics\\ALDH4\\WorkingFiles\\Identifications\\TP_results\""
   ]
  },
  {
   "cell_type": "code",
   "execution_count": 5,
   "metadata": {},
   "outputs": [],
   "source": [
    "f2i = pd.read_csv(f2i_path, sep='\\t')"
   ]
  },
  {
   "cell_type": "code",
   "execution_count": 38,
   "metadata": {},
   "outputs": [],
   "source": [
    "tpm = DotMap()\n",
    "tpm.cn = pd.read_csv(os.path.join(tp_path, 'C18N/4_TPFilter_CMM_cn.tsv'), sep='\\t')\n",
    "tpm.cp = pd.read_csv(os.path.join(tp_path, 'C18P/4_TPFilter_CMM_cp.tsv'), sep='\\t')"
   ]
  },
  {
   "cell_type": "code",
   "execution_count": 39,
   "metadata": {},
   "outputs": [],
   "source": [
    "tpm = pd.concat([tpm.cp, tpm.cn]).loc[:, [i for i in tpm.cn.columns if 'seqn_' not in i]]"
   ]
  },
  {
   "cell_type": "code",
   "execution_count": 40,
   "metadata": {},
   "outputs": [],
   "source": [
    "TP_columns = [\n",
    "    'FeatureInfo_Name',\n",
    "    'Name',\n",
    "    'Peptide',\n",
    "    'Halogenated',\n",
    "    'Plant',\n",
    "    'NaturalProduct',\n",
    "    'MDM',\n",
    "    'Drug',\n",
    "    'Food',\n",
    "    'Adduct',\n",
    "    'TP_Class_argmax',\n",
    "    'TPMetrics'\n",
    "]\n",
    "\n",
    "tpm = tpm.loc[:, TP_columns].drop_duplicates()"
   ]
  },
  {
   "cell_type": "code",
   "execution_count": 42,
   "metadata": {},
   "outputs": [],
   "source": [
    "tpm = tpm.fillna('')\\\n",
    "        .groupby('FeatureInfo_Name')\\\n",
    "            .agg(lambda x: ' | '.join([str(i) for i in list(x)]))\\\n",
    "                .reset_index()\\\n",
    "                    .rename(columns={'Name': 'TP_ID', 'Adduct':'TP_Adduct', 'FeatureInfo_Name':'fid'})"
   ]
  },
  {
   "cell_type": "code",
   "execution_count": 48,
   "metadata": {},
   "outputs": [],
   "source": [
    "f2i_tp = pd.merge(\n",
    "    f2i,\n",
    "    tpm,\n",
    "    how='outer',\n",
    "    on='fid'\n",
    ")"
   ]
  },
  {
   "cell_type": "code",
   "execution_count": 55,
   "metadata": {},
   "outputs": [],
   "source": [
    "f2i_tp.to_csv('f2i_TP.tsv', sep='\\t', index=False)"
   ]
  }
 ],
 "metadata": {
  "kernelspec": {
   "display_name": "Python 3",
   "language": "python",
   "name": "python3"
  },
  "language_info": {
   "codemirror_mode": {
    "name": "ipython",
    "version": 3
   },
   "file_extension": ".py",
   "mimetype": "text/x-python",
   "name": "python",
   "nbconvert_exporter": "python",
   "pygments_lexer": "ipython3",
   "version": "3.10.4"
  },
  "orig_nbformat": 4,
  "vscode": {
   "interpreter": {
    "hash": "299fabdee10379681b2207a83aa9f93c313ee5d5504e286e44b436bd7e45d8f9"
   }
  }
 },
 "nbformat": 4,
 "nbformat_minor": 2
}
