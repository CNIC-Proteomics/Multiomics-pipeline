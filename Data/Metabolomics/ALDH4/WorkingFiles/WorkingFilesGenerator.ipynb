{
 "cells": [
  {
   "cell_type": "code",
   "execution_count": 1,
   "metadata": {},
   "outputs": [],
   "source": [
    "#\n",
    "# Import Libraries\n",
    "#\n",
    "\n",
    "import numpy as np\n",
    "import os\n",
    "import pandas as pd\n",
    "import sys\n",
    "from dotmap import DotMap\n",
    "\n",
    "from plotly.subplots import make_subplots\n",
    "import plotly.graph_objects as go\n",
    "from plotly.colors import n_colors\n",
    "\n",
    "utilsPath = r'S:\\U_Proteomica\\UNIDAD\\software\\MacrosRafa\\data\\Metabolomics\\PESA_Integromics\\Data\\utils'\n",
    "if utilsPath not in sys.path:\n",
    "    sys.path.append(utilsPath)"
   ]
  },
  {
   "cell_type": "code",
   "execution_count": 2,
   "metadata": {},
   "outputs": [],
   "source": [
    "#\n",
    "# Constants\n",
    "#\n",
    "\n",
    "modes = ['cp', 'cn']\n",
    "\n",
    "xm_path = r\"S:\\U_Proteomica\\UNIDAD\\software\\MacrosRafa\\data\\Metabolomics\\PESA_Integromics\\Data\\Metabolomics\\ALDH4\\OriginalFiles\\RBR_Liver_Antibodies.xlsx\"\n",
    "f2i_path = r\"S:\\U_Proteomica\\UNIDAD\\software\\MacrosRafa\\data\\Metabolomics\\PESA_Integromics\\Data\\Metabolomics\\ALDH4\\OriginalFiles\\f2i.xlsx\"\n",
    "mdata_path = r\"S:\\U_Proteomica\\UNIDAD\\software\\MacrosRafa\\data\\Metabolomics\\PESA_Integromics\\Data\\Metadata\\ALDH4\\WorkingFiles\\main_metadata.tsv\"\n",
    "w_path = r\"S:\\U_Proteomica\\UNIDAD\\software\\MacrosRafa\\data\\Metabolomics\\PESA_Integromics\\Data\\Metabolomics\\ALDH4\\WorkingFiles\""
   ]
  },
  {
   "cell_type": "code",
   "execution_count": 3,
   "metadata": {},
   "outputs": [],
   "source": [
    "#\n",
    "# Read metadata\n",
    "#\n",
    "\n",
    "mdata = pd.read_csv(mdata_path, sep='\\t')"
   ]
  },
  {
   "cell_type": "code",
   "execution_count": 4,
   "metadata": {},
   "outputs": [],
   "source": [
    "#\n",
    "# Generate f2i.tsv\n",
    "#\n",
    "\n",
    "f2i = DotMap({\n",
    "    'cp': pd.read_excel(f2i_path, sheet_name='C18P'),\n",
    "    'cn': pd.read_excel(f2i_path, sheet_name='C18N')\n",
    "})\n",
    "\n",
    "f2i = pd.concat([f2i.cp, f2i.cn])\n",
    "f2i.to_csv(os.path.join(w_path, 'f2i.tsv'), sep='\\t', index=False)"
   ]
  },
  {
   "cell_type": "code",
   "execution_count": 5,
   "metadata": {},
   "outputs": [],
   "source": [
    "#\n",
    "# \n",
    "#\n",
    "\n",
    "xm = DotMap({\n",
    "    'cp': pd.read_excel(xm_path, sheet_name='C18P').set_index('fid').T,\n",
    "    'cn': pd.read_excel(xm_path, sheet_name='C18N').set_index('fid').T\n",
    "})\n",
    "\n",
    "qc = DotMap({\n",
    "    'cp': pd.read_excel(xm_path, sheet_name='C18P_QC').set_index('fid').T,\n",
    "    'cn': pd.read_excel(xm_path, sheet_name='C18N_QC').set_index('fid').T\n",
    "})"
   ]
  },
  {
   "cell_type": "code",
   "execution_count": 6,
   "metadata": {},
   "outputs": [
    {
     "name": "stdout",
     "output_type": "stream",
     "text": [
      "Samples:\n",
      "Features prior to filtration in cp: 3409\n",
      "Features after to filtration in cp: 2226\n",
      "QC:\n",
      "Features prior to filtration in cp: 3409\n",
      "Features after filtration in cp: 2884\n",
      "\n",
      "Samples:\n",
      "Features prior to filtration in cn: 1185\n",
      "Features after to filtration in cn: 709\n",
      "QC:\n",
      "Features prior to filtration in cn: 1185\n",
      "Features after filtration in cn: 1096\n",
      "\n"
     ]
    }
   ],
   "source": [
    "#\n",
    "# Remove from xm features with more than 1 missing value in any group\n",
    "# In QC, remove if it has more than 1 missing value\n",
    "\n",
    "thr = 1\n",
    "g2sn = mdata.groupby('Group').agg(list).Seqn\n",
    "\n",
    "xmf = DotMap()\n",
    "qcf = DotMap()\n",
    "\n",
    "for i in modes:\n",
    "    print('Samples:')\n",
    "    print(f'Features prior to filtration in {i}: {xm[i].shape[1]}')\n",
    "    xmf[i] = xm[i].loc[\n",
    "        :,\n",
    "        ~np.logical_or.reduce(\n",
    "            [xm[i].loc[j].isna().sum()>thr for j in g2sn]\n",
    "        )\n",
    "    ]\n",
    "    print(f'Features after to filtration in {i}: {xmf[i].shape[1]}')\n",
    "    print('QC:')\n",
    "    print(f'Features prior to filtration in {i}: {qc[i].shape[1]}')\n",
    "    qcf[i] = qc[i].loc[:, ~(qc[i].isna().sum()>1)]\n",
    "    print(f'Features after filtration in {i}: {qcf[i].shape[1]}')\n",
    "    print()"
   ]
  },
  {
   "cell_type": "code",
   "execution_count": 30,
   "metadata": {},
   "outputs": [],
   "source": [
    "# La normalización que ofrece mejores resultados es la que resta a cada su mediana, considerando todas las features"
   ]
  },
  {
   "cell_type": "code",
   "execution_count": 31,
   "metadata": {},
   "outputs": [],
   "source": [
    "#\n",
    "# Normalizar restando la mediana del logaritmo\n",
    "# \n",
    "\n",
    "#i = modes[0]\n",
    "\n",
    "xmfr = DotMap()\n",
    "qcr = DotMap()\n",
    "for i in modes:\n",
    "    # median = xmf[i].loc[:, ~xmf[i].isna().any()].median(axis=1) # Common\n",
    "    median = xmf[i].median(axis=1) # All\n",
    "    xmfr[i] = pd.DataFrame(index=xmf[i].index, columns=xmf[i].columns)\n",
    "    for j in range(xmfr[i].shape[1]):\n",
    "        col = xmfr[i].columns[j]\n",
    "        xmfr[i][col] = xmf[i].loc[:, col]/median\n",
    "\n",
    "    # apply ratio to quality control using the same features used with samples\n",
    "    median_qc = qc[i].loc[:, xmf[i].columns[~xmf[i].isna().any()]].median(axis=1)\n",
    "    qcr[i]  = pd.DataFrame(index=qc[i].index, columns=qc[i].columns)\n",
    "    for j in range(qcr[i].shape[1]):\n",
    "        col = qcr[i].columns[j]\n",
    "        qcr[i][col] = qc[i].loc[:, col]/median_qc"
   ]
  },
  {
   "cell_type": "code",
   "execution_count": 28,
   "metadata": {},
   "outputs": [],
   "source": [
    "#\n",
    "# Apply MSTUS using features with no missing values\n",
    "# Apply MSTUS to QC using the same features\n",
    "\n",
    "#i = modes[0]\n",
    "\n",
    "# xmfr = DotMap()\n",
    "# qcr = DotMap()\n",
    "# for i in modes:\n",
    "#     mstus = xmf[i].loc[:, ~xmf[i].isna().any()].sum(axis=1) # Common\n",
    "#     # mstus = xmf[i].sum(axis=1) # All\n",
    "#     xmfr[i] = pd.DataFrame(index=xmf[i].index, columns=xmf[i].columns)\n",
    "#     for j in range(xmfr[i].shape[1]):\n",
    "#         col = xmfr[i].columns[j]\n",
    "#         xmfr[i][col] = xmf[i].loc[:, col]/mstus\n",
    "\n",
    "#     # apply ratio to quality control using the same features used with samples\n",
    "#     mstusqc = qc[i].loc[:, xmf[i].columns[~xmf[i].isna().any()]].sum(axis=1)\n",
    "#     qcr[i]  = pd.DataFrame(index=qc[i].index, columns=qc[i].columns)\n",
    "#     for j in range(qcr[i].shape[1]):\n",
    "#         col = qcr[i].columns[j]\n",
    "#         qcr[i][col] = qc[i].loc[:, col]/mstusqc"
   ]
  },
  {
   "cell_type": "code",
   "execution_count": 8,
   "metadata": {},
   "outputs": [],
   "source": [
    "#\n",
    "# Check MSTUS in QC\n",
    "#"
   ]
  },
  {
   "cell_type": "code",
   "execution_count": 32,
   "metadata": {},
   "outputs": [],
   "source": [
    "files = ['Plots/MedianAll_Samples.html', 'Plots/MedianAll_QC.html']\n",
    "xmdf = [xmf, xmfr]\n",
    "qcdf = [qc, qcr]\n",
    "\n",
    "for file, dflist in [(files[0], xmdf), (files[1], qcdf)]:\n",
    "\n",
    "    if os.path.exists(file):\n",
    "        os.remove(file)\n",
    "\n",
    "\n",
    "    titles = ['C18P | Log', 'C18P | Log + MSTUS', 'C18N | Log', 'C18N | Log + MSTUS']\n",
    "\n",
    "    fig0 = make_subplots(rows=2, cols=2, subplot_titles=titles, vertical_spacing=0.1) \n",
    "    fig1 = make_subplots(rows=2, cols=2, subplot_titles=titles, vertical_spacing=0.1)\n",
    "    fig2 = make_subplots(rows=2, cols=2, subplot_titles=titles, vertical_spacing=0.1)\n",
    "\n",
    "\n",
    "    for nr,i in enumerate(modes):\n",
    "        for nc,df in enumerate(dflist):\n",
    "            colors = n_colors('rgb(5, 200, 200)', 'rgb(200, 10, 10)', df[i].shape[0], colortype='rgb')\n",
    "            for j,c in zip(df[i].index, colors):\n",
    "\n",
    "                fig0.add_trace(go.Box(\n",
    "                    #x=[j], \n",
    "                    y=np.log2(df[i].loc[j].to_numpy()),\n",
    "                    name=j, \n",
    "                    showlegend=False, marker_color=c\n",
    "                ), row=nr+1, col=nc+1)\n",
    "\n",
    "                fig1.add_trace(go.Violin(\n",
    "                    #x=[j], \n",
    "                    y=np.log2(df[i].loc[j].to_numpy()),\n",
    "                    name=j, box_visible=True, meanline_visible=False,\n",
    "                    line_color=c, showlegend=False, side=None\n",
    "                ), row=nr+1, col=nc+1)\n",
    "\n",
    "                fig2.add_trace(go.Violin(\n",
    "                    x=np.log2(df[i].loc[j].to_numpy()),\n",
    "                    side='positive', line_color=c, points=False, width=4, name=j, showlegend=False\n",
    "                ),row=nr+1, col=nc+1)\n",
    "\n",
    "    fig0.update_layout(height=1200, title='Boxplot')\n",
    "    fig1.update_layout(height=1200, title='Violin plot')\n",
    "    fig2.update_layout(height=1200, title='Density plot')\n",
    "    #fig.show(); fig2.show()\n",
    "    with open(file, 'a') as f:\n",
    "                f.write(fig0.to_html(full_html=False, include_plotlyjs='cdn', default_height='50%', default_width='80%'))\n",
    "                f.write(fig1.to_html(full_html=False, include_plotlyjs='cdn', default_height='50%', default_width='80%'))\n",
    "                f.write(fig2.to_html(full_html=False, include_plotlyjs='cdn', default_height='50%', default_width='80%'))"
   ]
  },
  {
   "cell_type": "code",
   "execution_count": 33,
   "metadata": {},
   "outputs": [],
   "source": [
    "#\n",
    "# Apply log transformation\n",
    "#\n",
    "\n",
    "for i in modes:\n",
    "    xmfr[i] = np.log2(xmfr[i])"
   ]
  },
  {
   "cell_type": "code",
   "execution_count": 41,
   "metadata": {},
   "outputs": [],
   "source": [
    "from PlotEDA import PlotEDA\n",
    "file = 'Plots/GroupsEffect_C18P_Median.html'\n",
    "if os.path.exists(file):\n",
    "    os.remove(file)\n",
    "\n",
    "plotEDA = PlotEDA(xmfr.cp, mdata, file=file)\n",
    "\n",
    "plotEDA.plotSummary(r11=(-10,10), r12=(0,2), r21=(-0.4,0.4), r22=(0,2), r3=(-4,4),vl3=[0], binsize=0.1)\n",
    "plotEDA.plotByGroup('Group', vl1=[0],vl2=[0], r1=(-10,10),binsize=0.1)\n",
    "plotEDA.plotByGroup('Ig', vl1=[0],vl2=[0], r1=(-10,10),binsize=0.1)\n",
    "plotEDA.plotByGroup('Control', vl1=[0],vl2=[0], r1=(-10,10),binsize=0.1)\n",
    "\n",
    "from PlotEDA import PlotEDA\n",
    "file = 'Plots/GroupsEffect_C18N_Median.html'\n",
    "if os.path.exists(file):\n",
    "    os.remove(file)\n",
    "\n",
    "plotEDA = PlotEDA(xmfr.cn, mdata, file=file)\n",
    "\n",
    "plotEDA.plotSummary(r11=(-10,10), r12=(0,2), r21=(-0.4,0.4), r22=(0,2), r3=(-4,4),vl3=[0], binsize=0.1)\n",
    "plotEDA.plotByGroup('Group', vl1=[0],vl2=[0], r1=(-10,10),binsize=0.1)\n",
    "plotEDA.plotByGroup('Ig', vl1=[0],vl2=[0], r1=(-10,10),binsize=0.1)\n",
    "plotEDA.plotByGroup('Control', vl1=[0],vl2=[0], r1=(-10,10),binsize=0.1)"
   ]
  },
  {
   "cell_type": "code",
   "execution_count": 42,
   "metadata": {},
   "outputs": [],
   "source": [
    "#\n",
    "# Combine cp and cn\n",
    "#\n",
    "\n",
    "xmfr = xmfr.cp.join(xmfr.cn)"
   ]
  },
  {
   "cell_type": "code",
   "execution_count": 89,
   "metadata": {},
   "outputs": [],
   "source": [
    "from PlotEDA import PlotEDA\n",
    "file = 'Plots/GroupsEffect_ALL_Median.html'\n",
    "if os.path.exists(file):\n",
    "    os.remove(file)\n",
    "\n",
    "plotEDA = PlotEDA(xmfr, mdata, file=file)\n",
    "\n",
    "plotEDA.plotSummary(r11=(-10,10), r12=(0,2), r21=(-0.4,0.4), r22=(0,2), r3=(-4,4),vl3=[0], binsize=0.1)\n",
    "plotEDA.plotByGroup('Group', vl1=[0],vl2=[0], r1=(-10,10),binsize=0.1)\n",
    "plotEDA.plotByGroup('Ig', vl1=[0],vl2=[0], r1=(-10,10),binsize=0.1)\n",
    "plotEDA.plotByGroup('Control', vl1=[0],vl2=[0], r1=(-10,10),binsize=0.1)"
   ]
  },
  {
   "cell_type": "code",
   "execution_count": 43,
   "metadata": {},
   "outputs": [],
   "source": [
    "#\n",
    "# Center and scale\n",
    "#\n",
    "\n",
    "from sklearn.preprocessing import StandardScaler\n",
    "\n",
    "xmfrn = pd.DataFrame(\n",
    "    StandardScaler().fit_transform(xmfr),\n",
    "    columns=xmfr.columns, index=xmfr.index\n",
    ")"
   ]
  },
  {
   "cell_type": "code",
   "execution_count": 44,
   "metadata": {},
   "outputs": [],
   "source": [
    "#\n",
    "# Imputation of missing values using KNN\n",
    "#\n",
    "\n",
    "from sklearn.impute import KNNImputer\n",
    "\n",
    "imputer = KNNImputer(n_neighbors=3)\n",
    "xmfrnv = pd.DataFrame(\n",
    "    imputer.fit_transform(xmfrn),\n",
    "    columns=xmfrn.columns,\n",
    "    index=xmfrn.index\n",
    ")"
   ]
  },
  {
   "cell_type": "code",
   "execution_count": 45,
   "metadata": {},
   "outputs": [
    {
     "name": "stdout",
     "output_type": "stream",
     "text": [
      "Total number of values: 52830\n",
      "Number of missing values imputed by KNN (n=3): 1184 (2.24%)\n"
     ]
    }
   ],
   "source": [
    "print(f\"Total number of values: {xmfrnv.shape[0]*xmfrnv.shape[1]}\")\n",
    "print(f\"Number of missing values imputed by KNN (n=3): {xmfrn.isna().sum().sum()} ({round(xmfrn.isna().sum().sum()/(xmfrnv.shape[0]*xmfrnv.shape[1])*100,2)}%)\")"
   ]
  },
  {
   "cell_type": "code",
   "execution_count": 46,
   "metadata": {},
   "outputs": [],
   "source": [
    "#\n",
    "# Write normalized \n",
    "#\n",
    "\n",
    "xmfrnv.to_csv('Xm_norm.tsv', sep='\\t')"
   ]
  },
  {
   "cell_type": "code",
   "execution_count": 52,
   "metadata": {},
   "outputs": [],
   "source": [
    "from PCA_UMAP import PCA_UMAP, PCA_Var\n",
    "file = 'Plots/PCA_UMAP_Median.html'\n",
    "if os.path.exists(file):\n",
    "    os.remove(file)\n",
    "\n",
    "\n",
    "pcaumap = PCA_UMAP(xmfrnv, mdata, file=file)\n",
    "pcaumap.plotReduction('Group', pcacomp=[0,1])\n",
    "pcaumap.plotReduction('Ig', pcacomp=[0,1])\n",
    "pcaumap.plotReduction('Control', pcacomp=[0,1])"
   ]
  },
  {
   "cell_type": "code",
   "execution_count": 76,
   "metadata": {},
   "outputs": [
    {
     "data": {
      "text/html": [
       "<div>\n",
       "<style scoped>\n",
       "    .dataframe tbody tr th:only-of-type {\n",
       "        vertical-align: middle;\n",
       "    }\n",
       "\n",
       "    .dataframe tbody tr th {\n",
       "        vertical-align: top;\n",
       "    }\n",
       "\n",
       "    .dataframe thead th {\n",
       "        text-align: right;\n",
       "    }\n",
       "</style>\n",
       "<table border=\"1\" class=\"dataframe\">\n",
       "  <thead>\n",
       "    <tr style=\"text-align: right;\">\n",
       "      <th></th>\n",
       "      <th>%Var PCA</th>\n",
       "      <th>Group</th>\n",
       "      <th>Ig</th>\n",
       "      <th>Control</th>\n",
       "    </tr>\n",
       "  </thead>\n",
       "  <tbody>\n",
       "    <tr>\n",
       "      <th>1</th>\n",
       "      <td>22.407936</td>\n",
       "      <td>0.924013</td>\n",
       "      <td>0.688833</td>\n",
       "      <td>0.879142</td>\n",
       "    </tr>\n",
       "    <tr>\n",
       "      <th>2</th>\n",
       "      <td>16.495109</td>\n",
       "      <td>0.027394</td>\n",
       "      <td>0.776986</td>\n",
       "      <td>0.014168</td>\n",
       "    </tr>\n",
       "    <tr>\n",
       "      <th>3</th>\n",
       "      <td>11.861955</td>\n",
       "      <td>0.276329</td>\n",
       "      <td>0.462073</td>\n",
       "      <td>0.399388</td>\n",
       "    </tr>\n",
       "    <tr>\n",
       "      <th>4</th>\n",
       "      <td>8.986936</td>\n",
       "      <td>0.550177</td>\n",
       "      <td>0.635397</td>\n",
       "      <td>0.536535</td>\n",
       "    </tr>\n",
       "    <tr>\n",
       "      <th>5</th>\n",
       "      <td>5.465797</td>\n",
       "      <td>0.000576</td>\n",
       "      <td>0.000099</td>\n",
       "      <td>0.197059</td>\n",
       "    </tr>\n",
       "    <tr>\n",
       "      <th>6</th>\n",
       "      <td>5.371582</td>\n",
       "      <td>0.194120</td>\n",
       "      <td>0.421151</td>\n",
       "      <td>0.065905</td>\n",
       "    </tr>\n",
       "    <tr>\n",
       "      <th>7</th>\n",
       "      <td>4.163760</td>\n",
       "      <td>0.652008</td>\n",
       "      <td>0.594719</td>\n",
       "      <td>0.348738</td>\n",
       "    </tr>\n",
       "    <tr>\n",
       "      <th>8</th>\n",
       "      <td>3.806349</td>\n",
       "      <td>0.598540</td>\n",
       "      <td>0.619012</td>\n",
       "      <td>0.603249</td>\n",
       "    </tr>\n",
       "    <tr>\n",
       "      <th>9</th>\n",
       "      <td>3.316956</td>\n",
       "      <td>0.801132</td>\n",
       "      <td>0.843476</td>\n",
       "      <td>0.509430</td>\n",
       "    </tr>\n",
       "    <tr>\n",
       "      <th>10</th>\n",
       "      <td>2.878576</td>\n",
       "      <td>0.672754</td>\n",
       "      <td>0.615961</td>\n",
       "      <td>0.366460</td>\n",
       "    </tr>\n",
       "  </tbody>\n",
       "</table>\n",
       "</div>"
      ],
      "text/plain": [
       "     %Var PCA     Group        Ig   Control\n",
       "1   22.407936  0.924013  0.688833  0.879142\n",
       "2   16.495109  0.027394  0.776986  0.014168\n",
       "3   11.861955  0.276329  0.462073  0.399388\n",
       "4    8.986936  0.550177  0.635397  0.536535\n",
       "5    5.465797  0.000576  0.000099  0.197059\n",
       "6    5.371582  0.194120  0.421151  0.065905\n",
       "7    4.163760  0.652008  0.594719  0.348738\n",
       "8    3.806349  0.598540  0.619012  0.603249\n",
       "9    3.316956  0.801132  0.843476  0.509430\n",
       "10   2.878576  0.672754  0.615961  0.366460"
      ]
     },
     "execution_count": 76,
     "metadata": {},
     "output_type": "execute_result"
    }
   ],
   "source": [
    "res = PCA_Var(xmfrnv, mdata, [], ['Group', 'Ig', 'Control'], n_comp=10)\n",
    "res"
   ]
  },
  {
   "cell_type": "code",
   "execution_count": 55,
   "metadata": {},
   "outputs": [],
   "source": [
    "from sklearn.decomposition import PCA\n",
    "comps = pd.DataFrame(PCA(n_components=10).fit_transform(xmfrnv), index=xmfrnv.index)"
   ]
  },
  {
   "cell_type": "code",
   "execution_count": 61,
   "metadata": {},
   "outputs": [],
   "source": [
    "from plotly import graph_objects as go"
   ]
  },
  {
   "cell_type": "code",
   "execution_count": 87,
   "metadata": {},
   "outputs": [
    {
     "data": {
      "application/vnd.plotly.v1+json": {
       "config": {
        "plotlyServerURL": "https://plot.ly"
       },
       "data": [
        {
         "mode": "markers",
         "name": "PBS",
         "type": "scatter",
         "x": [
          "PBS",
          "PBS",
          "PBS",
          "PBS",
          "PBS",
          "PBS"
         ],
         "y": [
          26.50786191247819,
          29.543883987462237,
          32.74546702256947,
          -31.10689505717948,
          -28.30260168432247,
          -16.05719478872667
         ]
        },
        {
         "mode": "markers",
         "name": "B1-8",
         "type": "scatter",
         "x": [
          "B1-8",
          "B1-8",
          "B1-8",
          "B1-8",
          "B1-8",
          "B1-8"
         ],
         "y": [
          4.690089527673811,
          15.702934325890078,
          17.467627842132387,
          15.089187384923568,
          11.907284964013483,
          27.00478374124588
         ]
        },
        {
         "mode": "markers",
         "name": "A12",
         "type": "scatter",
         "x": [
          "A12",
          "A12",
          "A12",
          "A12",
          "A12",
          "A12"
         ],
         "y": [
          -11.01798742247978,
          -27.954632306166026,
          -5.167020299619546,
          -27.666906930184318,
          -14.393055279732376,
          -18.992826939978315
         ]
        }
       ],
       "layout": {
        "template": {
         "data": {
          "bar": [
           {
            "error_x": {
             "color": "#2a3f5f"
            },
            "error_y": {
             "color": "#2a3f5f"
            },
            "marker": {
             "line": {
              "color": "#E5ECF6",
              "width": 0.5
             },
             "pattern": {
              "fillmode": "overlay",
              "size": 10,
              "solidity": 0.2
             }
            },
            "type": "bar"
           }
          ],
          "barpolar": [
           {
            "marker": {
             "line": {
              "color": "#E5ECF6",
              "width": 0.5
             },
             "pattern": {
              "fillmode": "overlay",
              "size": 10,
              "solidity": 0.2
             }
            },
            "type": "barpolar"
           }
          ],
          "carpet": [
           {
            "aaxis": {
             "endlinecolor": "#2a3f5f",
             "gridcolor": "white",
             "linecolor": "white",
             "minorgridcolor": "white",
             "startlinecolor": "#2a3f5f"
            },
            "baxis": {
             "endlinecolor": "#2a3f5f",
             "gridcolor": "white",
             "linecolor": "white",
             "minorgridcolor": "white",
             "startlinecolor": "#2a3f5f"
            },
            "type": "carpet"
           }
          ],
          "choropleth": [
           {
            "colorbar": {
             "outlinewidth": 0,
             "ticks": ""
            },
            "type": "choropleth"
           }
          ],
          "contour": [
           {
            "colorbar": {
             "outlinewidth": 0,
             "ticks": ""
            },
            "colorscale": [
             [
              0,
              "#0d0887"
             ],
             [
              0.1111111111111111,
              "#46039f"
             ],
             [
              0.2222222222222222,
              "#7201a8"
             ],
             [
              0.3333333333333333,
              "#9c179e"
             ],
             [
              0.4444444444444444,
              "#bd3786"
             ],
             [
              0.5555555555555556,
              "#d8576b"
             ],
             [
              0.6666666666666666,
              "#ed7953"
             ],
             [
              0.7777777777777778,
              "#fb9f3a"
             ],
             [
              0.8888888888888888,
              "#fdca26"
             ],
             [
              1,
              "#f0f921"
             ]
            ],
            "type": "contour"
           }
          ],
          "contourcarpet": [
           {
            "colorbar": {
             "outlinewidth": 0,
             "ticks": ""
            },
            "type": "contourcarpet"
           }
          ],
          "heatmap": [
           {
            "colorbar": {
             "outlinewidth": 0,
             "ticks": ""
            },
            "colorscale": [
             [
              0,
              "#0d0887"
             ],
             [
              0.1111111111111111,
              "#46039f"
             ],
             [
              0.2222222222222222,
              "#7201a8"
             ],
             [
              0.3333333333333333,
              "#9c179e"
             ],
             [
              0.4444444444444444,
              "#bd3786"
             ],
             [
              0.5555555555555556,
              "#d8576b"
             ],
             [
              0.6666666666666666,
              "#ed7953"
             ],
             [
              0.7777777777777778,
              "#fb9f3a"
             ],
             [
              0.8888888888888888,
              "#fdca26"
             ],
             [
              1,
              "#f0f921"
             ]
            ],
            "type": "heatmap"
           }
          ],
          "heatmapgl": [
           {
            "colorbar": {
             "outlinewidth": 0,
             "ticks": ""
            },
            "colorscale": [
             [
              0,
              "#0d0887"
             ],
             [
              0.1111111111111111,
              "#46039f"
             ],
             [
              0.2222222222222222,
              "#7201a8"
             ],
             [
              0.3333333333333333,
              "#9c179e"
             ],
             [
              0.4444444444444444,
              "#bd3786"
             ],
             [
              0.5555555555555556,
              "#d8576b"
             ],
             [
              0.6666666666666666,
              "#ed7953"
             ],
             [
              0.7777777777777778,
              "#fb9f3a"
             ],
             [
              0.8888888888888888,
              "#fdca26"
             ],
             [
              1,
              "#f0f921"
             ]
            ],
            "type": "heatmapgl"
           }
          ],
          "histogram": [
           {
            "marker": {
             "pattern": {
              "fillmode": "overlay",
              "size": 10,
              "solidity": 0.2
             }
            },
            "type": "histogram"
           }
          ],
          "histogram2d": [
           {
            "colorbar": {
             "outlinewidth": 0,
             "ticks": ""
            },
            "colorscale": [
             [
              0,
              "#0d0887"
             ],
             [
              0.1111111111111111,
              "#46039f"
             ],
             [
              0.2222222222222222,
              "#7201a8"
             ],
             [
              0.3333333333333333,
              "#9c179e"
             ],
             [
              0.4444444444444444,
              "#bd3786"
             ],
             [
              0.5555555555555556,
              "#d8576b"
             ],
             [
              0.6666666666666666,
              "#ed7953"
             ],
             [
              0.7777777777777778,
              "#fb9f3a"
             ],
             [
              0.8888888888888888,
              "#fdca26"
             ],
             [
              1,
              "#f0f921"
             ]
            ],
            "type": "histogram2d"
           }
          ],
          "histogram2dcontour": [
           {
            "colorbar": {
             "outlinewidth": 0,
             "ticks": ""
            },
            "colorscale": [
             [
              0,
              "#0d0887"
             ],
             [
              0.1111111111111111,
              "#46039f"
             ],
             [
              0.2222222222222222,
              "#7201a8"
             ],
             [
              0.3333333333333333,
              "#9c179e"
             ],
             [
              0.4444444444444444,
              "#bd3786"
             ],
             [
              0.5555555555555556,
              "#d8576b"
             ],
             [
              0.6666666666666666,
              "#ed7953"
             ],
             [
              0.7777777777777778,
              "#fb9f3a"
             ],
             [
              0.8888888888888888,
              "#fdca26"
             ],
             [
              1,
              "#f0f921"
             ]
            ],
            "type": "histogram2dcontour"
           }
          ],
          "mesh3d": [
           {
            "colorbar": {
             "outlinewidth": 0,
             "ticks": ""
            },
            "type": "mesh3d"
           }
          ],
          "parcoords": [
           {
            "line": {
             "colorbar": {
              "outlinewidth": 0,
              "ticks": ""
             }
            },
            "type": "parcoords"
           }
          ],
          "pie": [
           {
            "automargin": true,
            "type": "pie"
           }
          ],
          "scatter": [
           {
            "fillpattern": {
             "fillmode": "overlay",
             "size": 10,
             "solidity": 0.2
            },
            "type": "scatter"
           }
          ],
          "scatter3d": [
           {
            "line": {
             "colorbar": {
              "outlinewidth": 0,
              "ticks": ""
             }
            },
            "marker": {
             "colorbar": {
              "outlinewidth": 0,
              "ticks": ""
             }
            },
            "type": "scatter3d"
           }
          ],
          "scattercarpet": [
           {
            "marker": {
             "colorbar": {
              "outlinewidth": 0,
              "ticks": ""
             }
            },
            "type": "scattercarpet"
           }
          ],
          "scattergeo": [
           {
            "marker": {
             "colorbar": {
              "outlinewidth": 0,
              "ticks": ""
             }
            },
            "type": "scattergeo"
           }
          ],
          "scattergl": [
           {
            "marker": {
             "colorbar": {
              "outlinewidth": 0,
              "ticks": ""
             }
            },
            "type": "scattergl"
           }
          ],
          "scattermapbox": [
           {
            "marker": {
             "colorbar": {
              "outlinewidth": 0,
              "ticks": ""
             }
            },
            "type": "scattermapbox"
           }
          ],
          "scatterpolar": [
           {
            "marker": {
             "colorbar": {
              "outlinewidth": 0,
              "ticks": ""
             }
            },
            "type": "scatterpolar"
           }
          ],
          "scatterpolargl": [
           {
            "marker": {
             "colorbar": {
              "outlinewidth": 0,
              "ticks": ""
             }
            },
            "type": "scatterpolargl"
           }
          ],
          "scatterternary": [
           {
            "marker": {
             "colorbar": {
              "outlinewidth": 0,
              "ticks": ""
             }
            },
            "type": "scatterternary"
           }
          ],
          "surface": [
           {
            "colorbar": {
             "outlinewidth": 0,
             "ticks": ""
            },
            "colorscale": [
             [
              0,
              "#0d0887"
             ],
             [
              0.1111111111111111,
              "#46039f"
             ],
             [
              0.2222222222222222,
              "#7201a8"
             ],
             [
              0.3333333333333333,
              "#9c179e"
             ],
             [
              0.4444444444444444,
              "#bd3786"
             ],
             [
              0.5555555555555556,
              "#d8576b"
             ],
             [
              0.6666666666666666,
              "#ed7953"
             ],
             [
              0.7777777777777778,
              "#fb9f3a"
             ],
             [
              0.8888888888888888,
              "#fdca26"
             ],
             [
              1,
              "#f0f921"
             ]
            ],
            "type": "surface"
           }
          ],
          "table": [
           {
            "cells": {
             "fill": {
              "color": "#EBF0F8"
             },
             "line": {
              "color": "white"
             }
            },
            "header": {
             "fill": {
              "color": "#C8D4E3"
             },
             "line": {
              "color": "white"
             }
            },
            "type": "table"
           }
          ]
         },
         "layout": {
          "annotationdefaults": {
           "arrowcolor": "#2a3f5f",
           "arrowhead": 0,
           "arrowwidth": 1
          },
          "autotypenumbers": "strict",
          "coloraxis": {
           "colorbar": {
            "outlinewidth": 0,
            "ticks": ""
           }
          },
          "colorscale": {
           "diverging": [
            [
             0,
             "#8e0152"
            ],
            [
             0.1,
             "#c51b7d"
            ],
            [
             0.2,
             "#de77ae"
            ],
            [
             0.3,
             "#f1b6da"
            ],
            [
             0.4,
             "#fde0ef"
            ],
            [
             0.5,
             "#f7f7f7"
            ],
            [
             0.6,
             "#e6f5d0"
            ],
            [
             0.7,
             "#b8e186"
            ],
            [
             0.8,
             "#7fbc41"
            ],
            [
             0.9,
             "#4d9221"
            ],
            [
             1,
             "#276419"
            ]
           ],
           "sequential": [
            [
             0,
             "#0d0887"
            ],
            [
             0.1111111111111111,
             "#46039f"
            ],
            [
             0.2222222222222222,
             "#7201a8"
            ],
            [
             0.3333333333333333,
             "#9c179e"
            ],
            [
             0.4444444444444444,
             "#bd3786"
            ],
            [
             0.5555555555555556,
             "#d8576b"
            ],
            [
             0.6666666666666666,
             "#ed7953"
            ],
            [
             0.7777777777777778,
             "#fb9f3a"
            ],
            [
             0.8888888888888888,
             "#fdca26"
            ],
            [
             1,
             "#f0f921"
            ]
           ],
           "sequentialminus": [
            [
             0,
             "#0d0887"
            ],
            [
             0.1111111111111111,
             "#46039f"
            ],
            [
             0.2222222222222222,
             "#7201a8"
            ],
            [
             0.3333333333333333,
             "#9c179e"
            ],
            [
             0.4444444444444444,
             "#bd3786"
            ],
            [
             0.5555555555555556,
             "#d8576b"
            ],
            [
             0.6666666666666666,
             "#ed7953"
            ],
            [
             0.7777777777777778,
             "#fb9f3a"
            ],
            [
             0.8888888888888888,
             "#fdca26"
            ],
            [
             1,
             "#f0f921"
            ]
           ]
          },
          "colorway": [
           "#636efa",
           "#EF553B",
           "#00cc96",
           "#ab63fa",
           "#FFA15A",
           "#19d3f3",
           "#FF6692",
           "#B6E880",
           "#FF97FF",
           "#FECB52"
          ],
          "font": {
           "color": "#2a3f5f"
          },
          "geo": {
           "bgcolor": "white",
           "lakecolor": "white",
           "landcolor": "#E5ECF6",
           "showlakes": true,
           "showland": true,
           "subunitcolor": "white"
          },
          "hoverlabel": {
           "align": "left"
          },
          "hovermode": "closest",
          "mapbox": {
           "style": "light"
          },
          "paper_bgcolor": "white",
          "plot_bgcolor": "#E5ECF6",
          "polar": {
           "angularaxis": {
            "gridcolor": "white",
            "linecolor": "white",
            "ticks": ""
           },
           "bgcolor": "#E5ECF6",
           "radialaxis": {
            "gridcolor": "white",
            "linecolor": "white",
            "ticks": ""
           }
          },
          "scene": {
           "xaxis": {
            "backgroundcolor": "#E5ECF6",
            "gridcolor": "white",
            "gridwidth": 2,
            "linecolor": "white",
            "showbackground": true,
            "ticks": "",
            "zerolinecolor": "white"
           },
           "yaxis": {
            "backgroundcolor": "#E5ECF6",
            "gridcolor": "white",
            "gridwidth": 2,
            "linecolor": "white",
            "showbackground": true,
            "ticks": "",
            "zerolinecolor": "white"
           },
           "zaxis": {
            "backgroundcolor": "#E5ECF6",
            "gridcolor": "white",
            "gridwidth": 2,
            "linecolor": "white",
            "showbackground": true,
            "ticks": "",
            "zerolinecolor": "white"
           }
          },
          "shapedefaults": {
           "line": {
            "color": "#2a3f5f"
           }
          },
          "ternary": {
           "aaxis": {
            "gridcolor": "white",
            "linecolor": "white",
            "ticks": ""
           },
           "baxis": {
            "gridcolor": "white",
            "linecolor": "white",
            "ticks": ""
           },
           "bgcolor": "#E5ECF6",
           "caxis": {
            "gridcolor": "white",
            "linecolor": "white",
            "ticks": ""
           }
          },
          "title": {
           "x": 0.05
          },
          "xaxis": {
           "automargin": true,
           "gridcolor": "white",
           "linecolor": "white",
           "ticks": "",
           "title": {
            "standoff": 15
           },
           "zerolinecolor": "white",
           "zerolinewidth": 2
          },
          "yaxis": {
           "automargin": true,
           "gridcolor": "white",
           "linecolor": "white",
           "ticks": "",
           "title": {
            "standoff": 15
           },
           "zerolinecolor": "white",
           "zerolinewidth": 2
          }
         }
        },
        "title": {
         "text": "PCA 2 | 22.41%"
        },
        "width": 500
       }
      }
     },
     "metadata": {},
     "output_type": "display_data"
    }
   ],
   "source": [
    "n = 1\n",
    "\n",
    "fig = go.Figure()\n",
    "\n",
    "fig.add_trace(go.Scatter(\n",
    "    x = len(g2sn['PBS'])*['PBS'],\n",
    "    y=comps.loc[g2sn['PBS'],n],\n",
    "    mode='markers', name='PBS'\n",
    "))\n",
    "\n",
    "fig.add_trace(go.Scatter(\n",
    "    x = len(g2sn['B1-8'])*['B1-8'],\n",
    "    y=comps.loc[g2sn['B1-8'],n],\n",
    "    mode='markers', name='B1-8'\n",
    "))\n",
    "\n",
    "fig.add_trace(go.Scatter(\n",
    "    x = len(g2sn['A12'])*['A12'],\n",
    "    y=comps.loc[g2sn['A12'],n],\n",
    "    mode='markers', name='A12'\n",
    "))\n",
    "\n",
    "\n",
    "fig.update_layout(title=f'PCA {n+1} | {round(res.loc[n, \"%Var PCA\"], 2)}%', width=500)\n",
    "fig.show()\n",
    "\n"
   ]
  },
  {
   "cell_type": "code",
   "execution_count": 88,
   "metadata": {},
   "outputs": [
    {
     "data": {
      "text/html": [
       "<div>\n",
       "<style scoped>\n",
       "    .dataframe tbody tr th:only-of-type {\n",
       "        vertical-align: middle;\n",
       "    }\n",
       "\n",
       "    .dataframe tbody tr th {\n",
       "        vertical-align: top;\n",
       "    }\n",
       "\n",
       "    .dataframe thead th {\n",
       "        text-align: right;\n",
       "    }\n",
       "</style>\n",
       "<table border=\"1\" class=\"dataframe\">\n",
       "  <thead>\n",
       "    <tr style=\"text-align: right;\">\n",
       "      <th></th>\n",
       "      <th>Seqn</th>\n",
       "      <th>ID</th>\n",
       "      <th>Group</th>\n",
       "      <th>Ig</th>\n",
       "      <th>Control</th>\n",
       "      <th>TMT</th>\n",
       "      <th>Tag</th>\n",
       "      <th>ID_metabo</th>\n",
       "    </tr>\n",
       "  </thead>\n",
       "  <tbody>\n",
       "    <tr>\n",
       "      <th>0</th>\n",
       "      <td>LD2169</td>\n",
       "      <td>1</td>\n",
       "      <td>A12</td>\n",
       "      <td>1</td>\n",
       "      <td>0</td>\n",
       "      <td>TMT1</td>\n",
       "      <td>127_C</td>\n",
       "      <td>A12_01</td>\n",
       "    </tr>\n",
       "    <tr>\n",
       "      <th>1</th>\n",
       "      <td>LD2170</td>\n",
       "      <td>2</td>\n",
       "      <td>A12</td>\n",
       "      <td>1</td>\n",
       "      <td>0</td>\n",
       "      <td>TMT1</td>\n",
       "      <td>127_N</td>\n",
       "      <td>A12_02</td>\n",
       "    </tr>\n",
       "    <tr>\n",
       "      <th>2</th>\n",
       "      <td>LD2171</td>\n",
       "      <td>3</td>\n",
       "      <td>A12</td>\n",
       "      <td>1</td>\n",
       "      <td>0</td>\n",
       "      <td>TMT1</td>\n",
       "      <td>128_C</td>\n",
       "      <td>A12_03</td>\n",
       "    </tr>\n",
       "    <tr>\n",
       "      <th>3</th>\n",
       "      <td>LD2243</td>\n",
       "      <td>4</td>\n",
       "      <td>A12</td>\n",
       "      <td>1</td>\n",
       "      <td>0</td>\n",
       "      <td>TMT2</td>\n",
       "      <td>127_C</td>\n",
       "      <td>A12_04</td>\n",
       "    </tr>\n",
       "    <tr>\n",
       "      <th>4</th>\n",
       "      <td>LD2244</td>\n",
       "      <td>5</td>\n",
       "      <td>A12</td>\n",
       "      <td>1</td>\n",
       "      <td>0</td>\n",
       "      <td>TMT2</td>\n",
       "      <td>127_N</td>\n",
       "      <td>A12_05</td>\n",
       "    </tr>\n",
       "    <tr>\n",
       "      <th>5</th>\n",
       "      <td>LD2245</td>\n",
       "      <td>6</td>\n",
       "      <td>A12</td>\n",
       "      <td>1</td>\n",
       "      <td>0</td>\n",
       "      <td>TMT2</td>\n",
       "      <td>128_C</td>\n",
       "      <td>A12_06</td>\n",
       "    </tr>\n",
       "    <tr>\n",
       "      <th>6</th>\n",
       "      <td>LD2162</td>\n",
       "      <td>7</td>\n",
       "      <td>B1-8</td>\n",
       "      <td>1</td>\n",
       "      <td>1</td>\n",
       "      <td>TMT1</td>\n",
       "      <td>128_N</td>\n",
       "      <td>B18_01</td>\n",
       "    </tr>\n",
       "    <tr>\n",
       "      <th>7</th>\n",
       "      <td>LD2163</td>\n",
       "      <td>8</td>\n",
       "      <td>B1-8</td>\n",
       "      <td>1</td>\n",
       "      <td>1</td>\n",
       "      <td>TMT1</td>\n",
       "      <td>129_C</td>\n",
       "      <td>B18_02</td>\n",
       "    </tr>\n",
       "    <tr>\n",
       "      <th>8</th>\n",
       "      <td>LD2164</td>\n",
       "      <td>9</td>\n",
       "      <td>B1-8</td>\n",
       "      <td>1</td>\n",
       "      <td>1</td>\n",
       "      <td>TMT2</td>\n",
       "      <td>128_N</td>\n",
       "      <td>B18_03</td>\n",
       "    </tr>\n",
       "    <tr>\n",
       "      <th>9</th>\n",
       "      <td>LD2213</td>\n",
       "      <td>10</td>\n",
       "      <td>B1-8</td>\n",
       "      <td>1</td>\n",
       "      <td>1</td>\n",
       "      <td>NaN</td>\n",
       "      <td>NaN</td>\n",
       "      <td>B18_04</td>\n",
       "    </tr>\n",
       "    <tr>\n",
       "      <th>10</th>\n",
       "      <td>LD2214</td>\n",
       "      <td>11</td>\n",
       "      <td>B1-8</td>\n",
       "      <td>1</td>\n",
       "      <td>1</td>\n",
       "      <td>TMT1</td>\n",
       "      <td>129_N</td>\n",
       "      <td>B18_05</td>\n",
       "    </tr>\n",
       "    <tr>\n",
       "      <th>11</th>\n",
       "      <td>LD2215</td>\n",
       "      <td>12</td>\n",
       "      <td>B1-8</td>\n",
       "      <td>1</td>\n",
       "      <td>1</td>\n",
       "      <td>TMT2</td>\n",
       "      <td>129_N</td>\n",
       "      <td>B18_06</td>\n",
       "    </tr>\n",
       "    <tr>\n",
       "      <th>12</th>\n",
       "      <td>LD2166</td>\n",
       "      <td>13</td>\n",
       "      <td>PBS</td>\n",
       "      <td>0</td>\n",
       "      <td>1</td>\n",
       "      <td>TMT1</td>\n",
       "      <td>130_C</td>\n",
       "      <td>CTRL_01</td>\n",
       "    </tr>\n",
       "    <tr>\n",
       "      <th>13</th>\n",
       "      <td>LD2157</td>\n",
       "      <td>14</td>\n",
       "      <td>PBS</td>\n",
       "      <td>0</td>\n",
       "      <td>1</td>\n",
       "      <td>TMT1</td>\n",
       "      <td>130_N</td>\n",
       "      <td>CTRL_02</td>\n",
       "    </tr>\n",
       "    <tr>\n",
       "      <th>14</th>\n",
       "      <td>LD2158</td>\n",
       "      <td>15</td>\n",
       "      <td>PBS</td>\n",
       "      <td>0</td>\n",
       "      <td>1</td>\n",
       "      <td>TMT2</td>\n",
       "      <td>130_C</td>\n",
       "      <td>CTRL_03</td>\n",
       "    </tr>\n",
       "    <tr>\n",
       "      <th>15</th>\n",
       "      <td>LD2223</td>\n",
       "      <td>16</td>\n",
       "      <td>PBS</td>\n",
       "      <td>0</td>\n",
       "      <td>1</td>\n",
       "      <td>TMT1</td>\n",
       "      <td>131</td>\n",
       "      <td>CTRL_04</td>\n",
       "    </tr>\n",
       "    <tr>\n",
       "      <th>16</th>\n",
       "      <td>LD2224</td>\n",
       "      <td>17</td>\n",
       "      <td>PBS</td>\n",
       "      <td>0</td>\n",
       "      <td>1</td>\n",
       "      <td>NaN</td>\n",
       "      <td>NaN</td>\n",
       "      <td>CTRL_05</td>\n",
       "    </tr>\n",
       "    <tr>\n",
       "      <th>17</th>\n",
       "      <td>LD2225</td>\n",
       "      <td>18</td>\n",
       "      <td>PBS</td>\n",
       "      <td>0</td>\n",
       "      <td>1</td>\n",
       "      <td>TMT2</td>\n",
       "      <td>131</td>\n",
       "      <td>CTRL_06</td>\n",
       "    </tr>\n",
       "  </tbody>\n",
       "</table>\n",
       "</div>"
      ],
      "text/plain": [
       "      Seqn  ID Group  Ig  Control   TMT    Tag ID_metabo\n",
       "0   LD2169   1   A12   1        0  TMT1  127_C    A12_01\n",
       "1   LD2170   2   A12   1        0  TMT1  127_N    A12_02\n",
       "2   LD2171   3   A12   1        0  TMT1  128_C    A12_03\n",
       "3   LD2243   4   A12   1        0  TMT2  127_C    A12_04\n",
       "4   LD2244   5   A12   1        0  TMT2  127_N    A12_05\n",
       "5   LD2245   6   A12   1        0  TMT2  128_C    A12_06\n",
       "6   LD2162   7  B1-8   1        1  TMT1  128_N    B18_01\n",
       "7   LD2163   8  B1-8   1        1  TMT1  129_C    B18_02\n",
       "8   LD2164   9  B1-8   1        1  TMT2  128_N    B18_03\n",
       "9   LD2213  10  B1-8   1        1   NaN    NaN    B18_04\n",
       "10  LD2214  11  B1-8   1        1  TMT1  129_N    B18_05\n",
       "11  LD2215  12  B1-8   1        1  TMT2  129_N    B18_06\n",
       "12  LD2166  13   PBS   0        1  TMT1  130_C   CTRL_01\n",
       "13  LD2157  14   PBS   0        1  TMT1  130_N   CTRL_02\n",
       "14  LD2158  15   PBS   0        1  TMT2  130_C   CTRL_03\n",
       "15  LD2223  16   PBS   0        1  TMT1    131   CTRL_04\n",
       "16  LD2224  17   PBS   0        1   NaN    NaN   CTRL_05\n",
       "17  LD2225  18   PBS   0        1  TMT2    131   CTRL_06"
      ]
     },
     "execution_count": 88,
     "metadata": {},
     "output_type": "execute_result"
    }
   ],
   "source": [
    "mdata"
   ]
  }
 ],
 "metadata": {
  "kernelspec": {
   "display_name": "Python 3",
   "language": "python",
   "name": "python3"
  },
  "language_info": {
   "codemirror_mode": {
    "name": "ipython",
    "version": 3
   },
   "file_extension": ".py",
   "mimetype": "text/x-python",
   "name": "python",
   "nbconvert_exporter": "python",
   "pygments_lexer": "ipython3",
   "version": "3.10.4"
  },
  "orig_nbformat": 4,
  "vscode": {
   "interpreter": {
    "hash": "299fabdee10379681b2207a83aa9f93c313ee5d5504e286e44b436bd7e45d8f9"
   }
  }
 },
 "nbformat": 4,
 "nbformat_minor": 2
}
