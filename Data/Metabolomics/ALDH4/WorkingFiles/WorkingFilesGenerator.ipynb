{
 "cells": [
  {
   "cell_type": "code",
   "execution_count": 1,
   "metadata": {},
   "outputs": [],
   "source": [
    "#\n",
    "# Import Libraries\n",
    "#\n",
    "\n",
    "import numpy as np\n",
    "import os\n",
    "import pandas as pd\n",
    "import sys\n",
    "from dotmap import DotMap\n",
    "\n",
    "from plotly.subplots import make_subplots\n",
    "import plotly.graph_objects as go\n",
    "from plotly.colors import n_colors\n",
    "\n",
    "utilsPath = r'S:\\U_Proteomica\\UNIDAD\\software\\MacrosRafa\\data\\Metabolomics\\PESA_Integromics\\Data\\utils'\n",
    "if utilsPath not in sys.path:\n",
    "    sys.path.append(utilsPath)"
   ]
  },
  {
   "cell_type": "code",
   "execution_count": 2,
   "metadata": {},
   "outputs": [],
   "source": [
    "#\n",
    "# Constants\n",
    "#\n",
    "\n",
    "modes = ['cp', 'cn']\n",
    "\n",
    "xm_path = r\"S:\\U_Proteomica\\UNIDAD\\software\\MacrosRafa\\data\\Metabolomics\\PESA_Integromics\\Data\\Metabolomics\\ALDH4\\OriginalFiles\\RBR_Liver_Antibodies.xlsx\"\n",
    "f2i_path = r\"S:\\U_Proteomica\\UNIDAD\\software\\MacrosRafa\\data\\Metabolomics\\PESA_Integromics\\Data\\Metabolomics\\ALDH4\\OriginalFiles\\f2i.xlsx\"\n",
    "mdata_path = r\"S:\\U_Proteomica\\UNIDAD\\software\\MacrosRafa\\data\\Metabolomics\\PESA_Integromics\\Data\\Metadata\\ALDH4\\WorkingFiles\\main_metadata.tsv\"\n",
    "w_path = r\"S:\\U_Proteomica\\UNIDAD\\software\\MacrosRafa\\data\\Metabolomics\\PESA_Integromics\\Data\\Metabolomics\\ALDH4\\WorkingFiles\""
   ]
  },
  {
   "cell_type": "code",
   "execution_count": 3,
   "metadata": {},
   "outputs": [],
   "source": [
    "#\n",
    "# Read metadata\n",
    "#\n",
    "\n",
    "mdata = pd.read_csv(mdata_path, sep='\\t')"
   ]
  },
  {
   "cell_type": "code",
   "execution_count": 4,
   "metadata": {},
   "outputs": [],
   "source": [
    "#\n",
    "# Generate f2i.tsv\n",
    "#\n",
    "\n",
    "f2i = DotMap({\n",
    "    'cp': pd.read_excel(f2i_path, sheet_name='C18P'),\n",
    "    'cn': pd.read_excel(f2i_path, sheet_name='C18N')\n",
    "})\n",
    "\n",
    "f2i = pd.concat([f2i.cp, f2i.cn])\n",
    "f2i.to_csv(os.path.join(w_path, 'f2i.tsv'), sep='\\t', index=False)"
   ]
  },
  {
   "cell_type": "code",
   "execution_count": 5,
   "metadata": {},
   "outputs": [],
   "source": [
    "#\n",
    "# \n",
    "#\n",
    "\n",
    "xm = DotMap({\n",
    "    'cp': pd.read_excel(xm_path, sheet_name='C18P').set_index('fid').T,\n",
    "    'cn': pd.read_excel(xm_path, sheet_name='C18N').set_index('fid').T\n",
    "})\n",
    "\n",
    "qc = DotMap({\n",
    "    'cp': pd.read_excel(xm_path, sheet_name='C18P_QC').set_index('fid').T,\n",
    "    'cn': pd.read_excel(xm_path, sheet_name='C18N_QC').set_index('fid').T\n",
    "})"
   ]
  },
  {
   "cell_type": "code",
   "execution_count": 6,
   "metadata": {},
   "outputs": [
    {
     "name": "stdout",
     "output_type": "stream",
     "text": [
      "Samples:\n",
      "Features prior to filtration in cp: 3409\n",
      "Features after to filtration in cp: 2226\n",
      "QC:\n",
      "Features prior to filtration in cp: 3409\n",
      "Features after filtration in cp: 2884\n",
      "\n",
      "Samples:\n",
      "Features prior to filtration in cn: 1185\n",
      "Features after to filtration in cn: 709\n",
      "QC:\n",
      "Features prior to filtration in cn: 1185\n",
      "Features after filtration in cn: 1096\n",
      "\n"
     ]
    }
   ],
   "source": [
    "#\n",
    "# Remove from xm features with more than 1 missing value in any group\n",
    "# In QC, remove if it has more than 1 missing value\n",
    "\n",
    "thr = 1\n",
    "g2sn = mdata.groupby('Group').agg(list).Seqn\n",
    "\n",
    "xmf = DotMap()\n",
    "qcf = DotMap()\n",
    "\n",
    "for i in modes:\n",
    "    print('Samples:')\n",
    "    print(f'Features prior to filtration in {i}: {xm[i].shape[1]}')\n",
    "    xmf[i] = xm[i].loc[\n",
    "        :,\n",
    "        ~np.logical_or.reduce(\n",
    "            [xm[i].loc[j].isna().sum()>thr for j in g2sn]\n",
    "        )\n",
    "    ]\n",
    "    print(f'Features after to filtration in {i}: {xmf[i].shape[1]}')\n",
    "    print('QC:')\n",
    "    print(f'Features prior to filtration in {i}: {qc[i].shape[1]}')\n",
    "    qcf[i] = qc[i].loc[:, ~(qc[i].isna().sum()>1)]\n",
    "    print(f'Features after filtration in {i}: {qcf[i].shape[1]}')\n",
    "    print()"
   ]
  },
  {
   "cell_type": "code",
   "execution_count": 7,
   "metadata": {},
   "outputs": [],
   "source": [
    "#\n",
    "# Apply MSTUS using features with no missing values\n",
    "# Apply MSTUS to QC using the same features\n",
    "\n",
    "#i = modes[0]\n",
    "\n",
    "xmfr = DotMap()\n",
    "qcr = DotMap()\n",
    "for i in modes:\n",
    "    mstus = xmf[i].loc[:, ~xmf[i].isna().any()].sum(axis=1)\n",
    "    #mstus = xmf[i].sum(axis=1)\n",
    "    xmfr[i] = pd.DataFrame(index=xmf[i].index, columns=xmf[i].columns)\n",
    "    for j in range(xmfr[i].shape[1]):\n",
    "        col = xmfr[i].columns[j]\n",
    "        xmfr[i][col] = xmf[i].loc[:, col]/mstus\n",
    "\n",
    "    # apply ratio to quality control using the same features used with samples\n",
    "    mstusqc = qc[i].loc[:, xmf[i].columns[~xmf[i].isna().any()]].sum(axis=1)\n",
    "    qcr[i]  = pd.DataFrame(index=qc[i].index, columns=qc[i].columns)\n",
    "    for j in range(qcr[i].shape[1]):\n",
    "        col = qcr[i].columns[j]\n",
    "        qcr[i][col] = qc[i].loc[:, col]/mstusqc"
   ]
  },
  {
   "cell_type": "code",
   "execution_count": 8,
   "metadata": {},
   "outputs": [],
   "source": [
    "#\n",
    "# Check MSTUS in QC\n",
    "#"
   ]
  },
  {
   "cell_type": "code",
   "execution_count": 9,
   "metadata": {},
   "outputs": [],
   "source": [
    "files = ['Plots/MSTUS_Samples.html', 'Plots/MSTUS_QC.html']\n",
    "xmdf = [xmf, xmfr]\n",
    "qcdf = [qc, qcr]\n",
    "\n",
    "for file, dflist in [(files[0], xmdf), (files[1], qcdf)]:\n",
    "\n",
    "    if os.path.exists(file):\n",
    "        os.remove(file)\n",
    "\n",
    "\n",
    "    titles = ['C18P | Log', 'C18P | Log + MSTUS', 'C18N | Log', 'C18N | Log + MSTUS']\n",
    "\n",
    "    fig0 = make_subplots(rows=2, cols=2, subplot_titles=titles, vertical_spacing=0.1) \n",
    "    fig1 = make_subplots(rows=2, cols=2, subplot_titles=titles, vertical_spacing=0.1)\n",
    "    fig2 = make_subplots(rows=2, cols=2, subplot_titles=titles, vertical_spacing=0.1)\n",
    "\n",
    "\n",
    "    for nr,i in enumerate(modes):\n",
    "        for nc,df in enumerate(dflist):\n",
    "            colors = n_colors('rgb(5, 200, 200)', 'rgb(200, 10, 10)', df[i].shape[0], colortype='rgb')\n",
    "            for j,c in zip(df[i].index, colors):\n",
    "\n",
    "                fig0.add_trace(go.Box(\n",
    "                    #x=[j], \n",
    "                    y=np.log2(df[i].loc[j].to_numpy()),\n",
    "                    name=j, \n",
    "                    showlegend=False, marker_color=c\n",
    "                ), row=nr+1, col=nc+1)\n",
    "\n",
    "                fig1.add_trace(go.Violin(\n",
    "                    #x=[j], \n",
    "                    y=np.log2(df[i].loc[j].to_numpy()),\n",
    "                    name=j, box_visible=True, meanline_visible=False,\n",
    "                    line_color=c, showlegend=False, side=None\n",
    "                ), row=nr+1, col=nc+1)\n",
    "\n",
    "                fig2.add_trace(go.Violin(\n",
    "                    x=np.log2(df[i].loc[j].to_numpy()),\n",
    "                    side='positive', line_color=c, points=False, width=4, name=j, showlegend=False\n",
    "                ),row=nr+1, col=nc+1)\n",
    "\n",
    "    fig0.update_layout(height=1200, title='Boxplot')\n",
    "    fig1.update_layout(height=1200, title='Violin plot')\n",
    "    fig2.update_layout(height=1200, title='Density plot')\n",
    "    #fig.show(); fig2.show()\n",
    "    with open(file, 'a') as f:\n",
    "                f.write(fig0.to_html(full_html=False, include_plotlyjs='cdn', default_height='50%', default_width='80%'))\n",
    "                f.write(fig1.to_html(full_html=False, include_plotlyjs='cdn', default_height='50%', default_width='80%'))\n",
    "                f.write(fig2.to_html(full_html=False, include_plotlyjs='cdn', default_height='50%', default_width='80%'))"
   ]
  },
  {
   "cell_type": "code",
   "execution_count": 10,
   "metadata": {},
   "outputs": [],
   "source": [
    "#\n",
    "# Apply log transformation\n",
    "#\n",
    "\n",
    "for i in modes:\n",
    "    xmfr[i] = np.log2(xmfr[i])"
   ]
  },
  {
   "cell_type": "code",
   "execution_count": 11,
   "metadata": {},
   "outputs": [],
   "source": [
    "from PlotEDA import PlotEDA\n",
    "file = 'Plots/GroupsEffect_C18P.html'\n",
    "if os.path.exists(file):\n",
    "    os.remove(file)\n",
    "\n",
    "plotEDA = PlotEDA(xmfr.cp, mdata, file=file)\n",
    "\n",
    "plotEDA.plotSummary(r11=(-20,0), r12=(0,2), r21=(-0.4,0.4), r22=(0,2), r3=(-4,4),vl3=[0], binsize=0.1)\n",
    "plotEDA.plotByGroup('Group', vl1=[0],vl2=[0], r1=(-20, 0),binsize=0.1)\n",
    "plotEDA.plotByGroup('Ig', vl1=[0],vl2=[0], r1=(-20, 0),binsize=0.1)\n",
    "plotEDA.plotByGroup('Control', vl1=[0],vl2=[0], r1=(-20, 0),binsize=0.1)\n",
    "\n",
    "from PlotEDA import PlotEDA\n",
    "file = 'Plots/GroupsEffect_C18N.html'\n",
    "if os.path.exists(file):\n",
    "    os.remove(file)\n",
    "\n",
    "plotEDA = PlotEDA(xmfr.cn, mdata, file=file)\n",
    "\n",
    "plotEDA.plotSummary(r11=(-20,0), r12=(0,2), r21=(-0.4,0.4), r22=(0,2), r3=(-4,4),vl3=[0], binsize=0.1)\n",
    "plotEDA.plotByGroup('Group', vl1=[0],vl2=[0], r1=(-20, 0),binsize=0.1)\n",
    "plotEDA.plotByGroup('Ig', vl1=[0],vl2=[0], r1=(-20, 0),binsize=0.1)\n",
    "plotEDA.plotByGroup('Control', vl1=[0],vl2=[0], r1=(-20, 0),binsize=0.1)"
   ]
  },
  {
   "cell_type": "code",
   "execution_count": 12,
   "metadata": {},
   "outputs": [],
   "source": [
    "#\n",
    "# Combine cp and cn\n",
    "#\n",
    "\n",
    "xmfr = xmfr.cp.join(xmfr.cn)"
   ]
  },
  {
   "cell_type": "code",
   "execution_count": 13,
   "metadata": {},
   "outputs": [],
   "source": [
    "#\n",
    "# Center and scale\n",
    "#\n",
    "\n",
    "from sklearn.preprocessing import StandardScaler\n",
    "\n",
    "xmfrn = pd.DataFrame(\n",
    "    StandardScaler().fit_transform(xmfr),\n",
    "    columns=xmfr.columns, index=xmfr.index\n",
    ")"
   ]
  },
  {
   "cell_type": "code",
   "execution_count": 14,
   "metadata": {},
   "outputs": [],
   "source": [
    "#\n",
    "# Imputation of missing values using KNN\n",
    "#\n",
    "\n",
    "from sklearn.impute import KNNImputer\n",
    "\n",
    "imputer = KNNImputer(n_neighbors=3)\n",
    "xmfrnv = pd.DataFrame(\n",
    "    imputer.fit_transform(xmfrn),\n",
    "    columns=xmfrn.columns,\n",
    "    index=xmfrn.index\n",
    ")"
   ]
  },
  {
   "cell_type": "code",
   "execution_count": 15,
   "metadata": {},
   "outputs": [
    {
     "name": "stdout",
     "output_type": "stream",
     "text": [
      "Total number of values: 52830\n",
      "Number of missing values imputed by KNN (n=3): 1184 (2.24%)\n"
     ]
    }
   ],
   "source": [
    "print(f\"Total number of values: {xmfrnv.shape[0]*xmfrnv.shape[1]}\")\n",
    "print(f\"Number of missing values imputed by KNN (n=3): {xmfrn.isna().sum().sum()} ({round(xmfrn.isna().sum().sum()/(xmfrnv.shape[0]*xmfrnv.shape[1])*100,2)}%)\")"
   ]
  },
  {
   "cell_type": "code",
   "execution_count": 20,
   "metadata": {},
   "outputs": [],
   "source": [
    "#\n",
    "# Write normalized \n",
    "#\n",
    "\n",
    "xmfrnv.to_csv('Xm_norm.tsv', sep='\\t')"
   ]
  },
  {
   "cell_type": "code",
   "execution_count": 17,
   "metadata": {},
   "outputs": [],
   "source": [
    "from PCA_UMAP import PCA_UMAP, PCA_Var\n",
    "file = 'Plots/PCA_UMAP.html'\n",
    "if os.path.exists(file):\n",
    "    os.remove(file)\n",
    "\n",
    "\n",
    "pcaumap = PCA_UMAP(xmfrnv, mdata, file=file)\n",
    "pcaumap.plotReduction('Group', pcacomp=[0,1])\n",
    "pcaumap.plotReduction('Ig', pcacomp=[0,1])\n",
    "pcaumap.plotReduction('Control', pcacomp=[0,1])"
   ]
  },
  {
   "cell_type": "code",
   "execution_count": 18,
   "metadata": {},
   "outputs": [
    {
     "data": {
      "text/html": [
       "<div>\n",
       "<style scoped>\n",
       "    .dataframe tbody tr th:only-of-type {\n",
       "        vertical-align: middle;\n",
       "    }\n",
       "\n",
       "    .dataframe tbody tr th {\n",
       "        vertical-align: top;\n",
       "    }\n",
       "\n",
       "    .dataframe thead th {\n",
       "        text-align: right;\n",
       "    }\n",
       "</style>\n",
       "<table border=\"1\" class=\"dataframe\">\n",
       "  <thead>\n",
       "    <tr style=\"text-align: right;\">\n",
       "      <th></th>\n",
       "      <th>%Var PCA</th>\n",
       "      <th>Group</th>\n",
       "      <th>Ig</th>\n",
       "      <th>Control</th>\n",
       "    </tr>\n",
       "  </thead>\n",
       "  <tbody>\n",
       "    <tr>\n",
       "      <th>1</th>\n",
       "      <td>22.050658</td>\n",
       "      <td>0.8587</td>\n",
       "      <td>0.7102</td>\n",
       "      <td>0.8600</td>\n",
       "    </tr>\n",
       "    <tr>\n",
       "      <th>2</th>\n",
       "      <td>16.459395</td>\n",
       "      <td>0.0367</td>\n",
       "      <td>0.7280</td>\n",
       "      <td>0.0167</td>\n",
       "    </tr>\n",
       "    <tr>\n",
       "      <th>3</th>\n",
       "      <td>12.338912</td>\n",
       "      <td>0.3340</td>\n",
       "      <td>0.4906</td>\n",
       "      <td>0.4384</td>\n",
       "    </tr>\n",
       "    <tr>\n",
       "      <th>4</th>\n",
       "      <td>8.429696</td>\n",
       "      <td>0.3099</td>\n",
       "      <td>0.7365</td>\n",
       "      <td>0.2635</td>\n",
       "    </tr>\n",
       "    <tr>\n",
       "      <th>5</th>\n",
       "      <td>5.649381</td>\n",
       "      <td>0.0002</td>\n",
       "      <td>0.0000</td>\n",
       "      <td>0.1448</td>\n",
       "    </tr>\n",
       "    <tr>\n",
       "      <th>6</th>\n",
       "      <td>5.346861</td>\n",
       "      <td>0.3513</td>\n",
       "      <td>0.6351</td>\n",
       "      <td>0.1487</td>\n",
       "    </tr>\n",
       "    <tr>\n",
       "      <th>7</th>\n",
       "      <td>4.351831</td>\n",
       "      <td>0.5658</td>\n",
       "      <td>0.7179</td>\n",
       "      <td>0.2858</td>\n",
       "    </tr>\n",
       "    <tr>\n",
       "      <th>8</th>\n",
       "      <td>3.591798</td>\n",
       "      <td>0.6427</td>\n",
       "      <td>0.9580</td>\n",
       "      <td>0.4258</td>\n",
       "    </tr>\n",
       "    <tr>\n",
       "      <th>9</th>\n",
       "      <td>3.295505</td>\n",
       "      <td>0.8966</td>\n",
       "      <td>0.6580</td>\n",
       "      <td>0.9425</td>\n",
       "    </tr>\n",
       "    <tr>\n",
       "      <th>10</th>\n",
       "      <td>2.937202</td>\n",
       "      <td>0.5763</td>\n",
       "      <td>0.5623</td>\n",
       "      <td>0.2866</td>\n",
       "    </tr>\n",
       "  </tbody>\n",
       "</table>\n",
       "</div>"
      ],
      "text/plain": [
       "     %Var PCA   Group      Ig  Control\n",
       "1   22.050658  0.8587  0.7102   0.8600\n",
       "2   16.459395  0.0367  0.7280   0.0167\n",
       "3   12.338912  0.3340  0.4906   0.4384\n",
       "4    8.429696  0.3099  0.7365   0.2635\n",
       "5    5.649381  0.0002  0.0000   0.1448\n",
       "6    5.346861  0.3513  0.6351   0.1487\n",
       "7    4.351831  0.5658  0.7179   0.2858\n",
       "8    3.591798  0.6427  0.9580   0.4258\n",
       "9    3.295505  0.8966  0.6580   0.9425\n",
       "10   2.937202  0.5763  0.5623   0.2866"
      ]
     },
     "execution_count": 18,
     "metadata": {},
     "output_type": "execute_result"
    }
   ],
   "source": [
    "PCA_Var(xmfrnv, mdata, [], ['Group', 'Ig', 'Control'], n_comp=10)"
   ]
  }
 ],
 "metadata": {
  "kernelspec": {
   "display_name": "Python 3",
   "language": "python",
   "name": "python3"
  },
  "language_info": {
   "codemirror_mode": {
    "name": "ipython",
    "version": 3
   },
   "file_extension": ".py",
   "mimetype": "text/x-python",
   "name": "python",
   "nbconvert_exporter": "python",
   "pygments_lexer": "ipython3",
   "version": "3.10.4"
  },
  "orig_nbformat": 4,
  "vscode": {
   "interpreter": {
    "hash": "299fabdee10379681b2207a83aa9f93c313ee5d5504e286e44b436bd7e45d8f9"
   }
  }
 },
 "nbformat": 4,
 "nbformat_minor": 2
}
