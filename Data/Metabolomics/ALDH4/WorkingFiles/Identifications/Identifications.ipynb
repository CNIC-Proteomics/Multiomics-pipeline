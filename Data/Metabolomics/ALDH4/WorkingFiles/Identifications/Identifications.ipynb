{
 "cells": [
  {
   "cell_type": "code",
   "execution_count": 1,
   "metadata": {},
   "outputs": [],
   "source": [
    "#\n",
    "# Import libraries\n",
    "#\n",
    "\n",
    "import os\n",
    "import pandas as pd\n",
    "from dotmap import DotMap\n",
    "import requests\n",
    "import json\n",
    "import numpy as np\n",
    "from tqdm import tqdm\n",
    "import time"
   ]
  },
  {
   "cell_type": "code",
   "execution_count": 2,
   "metadata": {},
   "outputs": [],
   "source": [
    "modes = ['cp', 'cn']\n",
    "f2i_path = r\"S:\\U_Proteomica\\UNIDAD\\software\\MacrosRafa\\data\\Metabolomics\\PESA_Integromics\\Data\\Metabolomics\\ALDH4\\OriginalFiles\\f2i.xlsx\"\n",
    "f2i = DotMap({\n",
    "    'cp': pd.read_excel(f2i_path, sheet_name='C18P').set_index('fid'),\n",
    "    'cn': pd.read_excel(f2i_path, sheet_name='C18N').set_index('fid'),\n",
    "})"
   ]
  },
  {
   "cell_type": "code",
   "execution_count": 3,
   "metadata": {},
   "outputs": [],
   "source": [
    "#\n",
    "# Obtain feature data for each CMM table and run TurboPutative\n",
    "#\n",
    "\n",
    "xm = pd.read_csv(\n",
    "    r\"S:\\U_Proteomica\\UNIDAD\\software\\MacrosRafa\\data\\Metabolomics\\PESA_Integromics\\Data\\Metabolomics\\ALDH4\\WorkingFiles\\Xm_norm.tsv\", \n",
    "    sep='\\t', index_col=0)\n",
    "\n",
    "xm.index = [f'seqn_{i}' for i in xm.index]"
   ]
  },
  {
   "cell_type": "code",
   "execution_count": 4,
   "metadata": {},
   "outputs": [],
   "source": [
    "#\n",
    "# Read filtered features\n",
    "#\n",
    "\n",
    "mfilt = pd.read_csv(\n",
    "    r\"S:\\U_Proteomica\\UNIDAD\\software\\MacrosRafa\\data\\Metabolomics\\PESA_Integromics\\Data\\Analysis\\00-FeatureSelection\\ALDH4\\mfilt.tsv\",\n",
    "    sep='\\t', index_col=0\n",
    ")"
   ]
  },
  {
   "cell_type": "code",
   "execution_count": 5,
   "metadata": {},
   "outputs": [],
   "source": [
    "#\n",
    "# Adducts\n",
    "#\n",
    "\n",
    "posAdd = [\"M+H\", \"M+2H\", \"M+Na\", \"M+K\", \"M+H-H2O\", \"M+H+HCOONa\", \"M+NH4\"]\n",
    "negAdd = [\"M-H\", \"M-2H\", \"M+Cl\", \"M-H-H20\", \"M-H+HCOONa\", \"M+Na-2H\"]"
   ]
  },
  {
   "cell_type": "code",
   "execution_count": 6,
   "metadata": {},
   "outputs": [],
   "source": [
    "mz = f2i.cp.loc[\n",
    "    mfilt.index[np.isin(mfilt.index, f2i.cp.index)],\n",
    "    'Apex m/z'\n",
    "].tolist()\n",
    "\n",
    "n=5\n",
    "mz = [mz[i:i+n] for i in range(0, len(mz), n)]"
   ]
  },
  {
   "cell_type": "code",
   "execution_count": 7,
   "metadata": {},
   "outputs": [
    {
     "name": "stderr",
     "output_type": "stream",
     "text": [
      "100%|██████████| 137/137 [05:16<00:00,  2.31s/it]\n"
     ]
    }
   ],
   "source": [
    "cmm = DotMap()\n",
    "\n",
    "uri = \"http://ceumass.eps.uspceu.es/mediator/api/v3/batch\"\n",
    "\n",
    "# C18P\n",
    "res_all = []\n",
    "\n",
    "for mzi in tqdm(mz):\n",
    "    res = requests.post(\n",
    "        uri, headers={'Content-Type': 'application/json; charset=utf-8'}, \n",
    "        json={\n",
    "        \"metabolites_type\": \"all-except-peptides\",\n",
    "        \"databases\": [\"all-except-mine\"],\n",
    "        \"masses_mode\": \"mz\",\n",
    "        \"ion_mode\": \"positive\",\n",
    "        \"adducts\": posAdd,\n",
    "        \"tolerance\": 10.0,\n",
    "        \"tolerance_mode\": \"ppm\",\n",
    "        \"masses\": mzi\n",
    "        }\n",
    "    )\n",
    "    res_all.extend(res.json()['results'])\n",
    "    time.sleep(2)\n",
    "\n",
    "cmm.cp = pd.DataFrame(res_all)"
   ]
  },
  {
   "cell_type": "code",
   "execution_count": 8,
   "metadata": {},
   "outputs": [],
   "source": [
    "mz = f2i.cn.loc[\n",
    "    mfilt.index[np.isin(mfilt.index, f2i.cn.index)],\n",
    "    'Apex m/z'\n",
    "].tolist()\n",
    "\n",
    "n = 2 # chunk size\n",
    "mz = [mz[i:i+n] for i in range(0, len(mz), n)]"
   ]
  },
  {
   "cell_type": "code",
   "execution_count": 9,
   "metadata": {},
   "outputs": [
    {
     "name": "stderr",
     "output_type": "stream",
     "text": [
      "100%|██████████| 154/154 [05:42<00:00,  2.22s/it]\n"
     ]
    }
   ],
   "source": [
    "# C18N\n",
    "res_all = []\n",
    "\n",
    "for mzi in tqdm(mz):\n",
    "    res = requests.post(\n",
    "        uri, headers={'Content-Type': 'application/json; charset=utf-8'}, \n",
    "        json={\n",
    "        \"metabolites_type\": \"all-except-peptides\",\n",
    "        \"databases\": [\"all-except-mine\"],\n",
    "        \"masses_mode\": \"mz\",\n",
    "        \"ion_mode\": \"negative\",\n",
    "        \"adducts\": ['all'],\n",
    "        \"tolerance\": 10.0,\n",
    "        \"tolerance_mode\": \"ppm\",\n",
    "        \"masses\": mzi\n",
    "        }\n",
    "    )\n",
    "    res_all.extend(res.json()['results'])\n",
    "    time.sleep(2)\n",
    "\n",
    "cmm.cn = pd.DataFrame(res_all)"
   ]
  },
  {
   "cell_type": "code",
   "execution_count": 10,
   "metadata": {},
   "outputs": [],
   "source": [
    "cmmF = DotMap()\n",
    "cmmF.cp = cmm.cp[np.isin(cmm.cp.adduct, posAdd)]\n",
    "cmmF.cn = cmm.cn[np.isin(cmm.cn.adduct, negAdd)]"
   ]
  },
  {
   "cell_type": "code",
   "execution_count": 11,
   "metadata": {},
   "outputs": [],
   "source": [
    "# Adapt columns to TP\n",
    "\n",
    "for i in modes: \n",
    "    cmmF[i] = cmmF[i].rename(columns={\n",
    "        'identifier': 'Identifier',\n",
    "        'EM': 'Experimental mass',\n",
    "        'adduct': 'Adduct',\n",
    "        'error_ppm': 'mz Error (ppm)',\n",
    "        'molecular_weight': 'Molecular Weight',\n",
    "        'name': 'Name',\n",
    "        'formula': 'Formula'\n",
    "    })"
   ]
  },
  {
   "cell_type": "code",
   "execution_count": 12,
   "metadata": {},
   "outputs": [],
   "source": [
    "# Identifiers to be removed\n",
    "remid = [188282]"
   ]
  },
  {
   "cell_type": "code",
   "execution_count": 13,
   "metadata": {},
   "outputs": [],
   "source": [
    "# Write MS_Table.tsv\n",
    "for i in modes:\n",
    "    cmmF[i][~np.isin(cmmF[i].Identifier, remid)].to_csv(f'CMM_{i}.tsv', sep='\\t', index=False)"
   ]
  },
  {
   "cell_type": "code",
   "execution_count": null,
   "metadata": {},
   "outputs": [],
   "source": [
    "# Write Feature_Info.tsv\n",
    "for i in modes:\n",
    "    f2i[i].loc[\n",
    "        mfilt.index[np.isin(mfilt.index, f2i[i].index)],\n",
    "        ['Apex m/z', 'RT [min]']\n",
    "    ].join(xm.T, how='inner')\\\n",
    "            .reset_index(names='FeatureInfo_Name')\\\n",
    "                .to_csv(f'FInfo_{i}.tsv', sep='\\t', index=False)\n"
   ]
  }
 ],
 "metadata": {
  "kernelspec": {
   "display_name": "Python 3",
   "language": "python",
   "name": "python3"
  },
  "language_info": {
   "codemirror_mode": {
    "name": "ipython",
    "version": 3
   },
   "file_extension": ".py",
   "mimetype": "text/x-python",
   "name": "python",
   "nbconvert_exporter": "python",
   "pygments_lexer": "ipython3",
   "version": "3.10.4"
  },
  "orig_nbformat": 4,
  "vscode": {
   "interpreter": {
    "hash": "299fabdee10379681b2207a83aa9f93c313ee5d5504e286e44b436bd7e45d8f9"
   }
  }
 },
 "nbformat": 4,
 "nbformat_minor": 2
}
