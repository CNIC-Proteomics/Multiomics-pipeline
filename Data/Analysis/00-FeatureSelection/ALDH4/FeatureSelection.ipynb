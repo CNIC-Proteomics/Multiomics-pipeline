{
 "cells": [
  {
   "cell_type": "code",
   "execution_count": 1,
   "metadata": {},
   "outputs": [],
   "source": [
    "#\n",
    "# Library\n",
    "#\n",
    "\n",
    "import pandas as pd\n",
    "import numpy as np\n",
    "import sys\n",
    "from functools import reduce\n",
    "\n",
    "utilsPath = r'S:\\U_Proteomica\\UNIDAD\\software\\MacrosRafa\\data\\Metabolomics\\PESA_Integromics\\Data\\utils'\n",
    "if utilsPath not in sys.path:\n",
    "    sys.path.append(utilsPath)"
   ]
  },
  {
   "cell_type": "code",
   "execution_count": 2,
   "metadata": {},
   "outputs": [],
   "source": [
    "#\n",
    "# Constants\n",
    "#\n",
    "\n",
    "xq_path = r\"S:\\U_Proteomica\\UNIDAD\\software\\MacrosRafa\\data\\Metabolomics\\PESA_Integromics\\Data\\Proteomics\\ALDH4\\WorkingFiles\\Xq_minus_X_norm.tsv\"\n",
    "xm_path = r\"S:\\U_Proteomica\\UNIDAD\\software\\MacrosRafa\\data\\Metabolomics\\PESA_Integromics\\Data\\Metabolomics\\ALDH4\\WorkingFiles\\Xm_norm.tsv\""
   ]
  },
  {
   "cell_type": "code",
   "execution_count": 3,
   "metadata": {},
   "outputs": [],
   "source": [
    "xq = pd.read_csv(xq_path, sep='\\t', index_col=0)\n",
    "xm = pd.read_csv(xm_path, sep='\\t', index_col=0)"
   ]
  },
  {
   "cell_type": "code",
   "execution_count": 4,
   "metadata": {},
   "outputs": [],
   "source": [
    "mdata = pd.read_csv(\n",
    "    r\"S:\\U_Proteomica\\UNIDAD\\software\\MacrosRafa\\data\\Metabolomics\\PESA_Integromics\\Data\\Metadata\\ALDH4\\WorkingFiles\\main_metadata.tsv\",\n",
    "    sep='\\t'\n",
    "    )\n",
    "mdata.index = mdata['Seqn']"
   ]
  },
  {
   "cell_type": "code",
   "execution_count": 5,
   "metadata": {},
   "outputs": [],
   "source": [
    "#\n",
    "# Take significant features using F-test: feature vs Group \n",
    "#\n",
    "\n",
    "sxq = pd.read_csv(r\"S:\\U_Proteomica\\UNIDAD\\software\\MacrosRafa\\data\\Metabolomics\\PESA_Integromics\\Data\\Analysis\\01-BasicStats\\ALDH4\\Xq_stats.tsv\", \n",
    "                  sep='\\t', index_col=0, header=[0,1,2])\n",
    "\n",
    "sxm = pd.read_csv(r\"S:\\U_Proteomica\\UNIDAD\\software\\MacrosRafa\\data\\Metabolomics\\PESA_Integromics\\Data\\Analysis\\01-BasicStats\\ALDH4\\Xm_stats.tsv\", \n",
    "                  sep='\\t', index_col=0, header=[0,1,2])"
   ]
  },
  {
   "cell_type": "code",
   "execution_count": 6,
   "metadata": {},
   "outputs": [
    {
     "name": "stdout",
     "output_type": "stream",
     "text": [
      "Proteins selected: 279 / 4118\n",
      "Features selected: 226 / 2935\n"
     ]
    }
   ],
   "source": [
    "pThr = 0.05\n",
    "\n",
    "qsig = sxq.index[np.logical_and.reduce([\n",
    "    sxq[('Group', 'anova', 'pvalue')] < pThr,\n",
    "    np.logical_or.reduce([\n",
    "        sxq[('Group', 'anova', 'PBS_vs_A12')] < pThr,\n",
    "        sxq[('Group', 'anova', 'B1-8_vs_A12')] < pThr\n",
    "    ])\n",
    "])]\n",
    "\n",
    "print(f\"Proteins selected: {qsig.shape[0]} / {sxq.shape[0]}\")\n",
    "\n",
    "msig = sxm.index[np.logical_and.reduce([\n",
    "    sxm[('Group', 'anova', 'pvalue')] < pThr,\n",
    "    np.logical_or.reduce([\n",
    "        sxm[('Group', 'anova', 'PBS_vs_A12')] < pThr,\n",
    "        sxm[('Group', 'anova', 'B1-8_vs_A12')] < pThr\n",
    "    ])\n",
    "])]\n",
    "print(f\"Features selected: {msig.shape[0]} / {sxm.shape[0]}\")"
   ]
  },
  {
   "cell_type": "code",
   "execution_count": 7,
   "metadata": {},
   "outputs": [],
   "source": [
    "#\n",
    "# Select features using machine learning\n",
    "#\n",
    "\n",
    "from sklearn.feature_selection import SelectFromModel"
   ]
  },
  {
   "cell_type": "code",
   "execution_count": 8,
   "metadata": {},
   "outputs": [],
   "source": [
    "#\n",
    "# Feature selection using Random Forest \n",
    "#\n",
    "\n",
    "# from sklearn.feature_selection import SelectFromModel\n",
    "# from sklearn.ensemble import RandomForestClassifier\n",
    "\n",
    "\n",
    "# sel = SelectFromModel(RandomForestClassifier(n_estimators = 100, random_state=0))\n",
    "# sel.fit(xq, mdata.loc[xq.index, 'Control'])\n",
    "# qrfc = xq.columns[(sel.get_support())]\n",
    "# print(f\"Novel proteins: {(~np.isin(qrfc, qsig)).sum()} / {len(qrfc)}\")\n",
    "\n",
    "# sel = SelectFromModel(RandomForestClassifier(n_estimators = 100, random_state=0))\n",
    "# sel.fit(xm, mdata.loc[xm.index, 'Control'])\n",
    "# mrfc = xm.columns[(sel.get_support())]\n",
    "# print(f\"Novel features: {(~np.isin(mrfc, msig)).sum()} / {len(mrfc)}\")"
   ]
  },
  {
   "cell_type": "code",
   "execution_count": 9,
   "metadata": {},
   "outputs": [
    {
     "name": "stdout",
     "output_type": "stream",
     "text": [
      "Accuracy: 1.0\n",
      "Besta params {'C': 1.0976270078546495, 'penalty': 'l1'}\n",
      "Number of proteins selected: 50 / 4118\n",
      "\n",
      "Accuracy: 1.0\n",
      "Besta params {'C': 1.0976270078546495, 'penalty': 'l1'}\n",
      "Number of proteins selected: 93 / 2935\n"
     ]
    }
   ],
   "source": [
    "from sklearn.svm import LinearSVC\n",
    "from scipy.stats import uniform\n",
    "from sklearn.model_selection import RandomizedSearchCV\n",
    "from sklearn.model_selection import LeaveOneOut\n",
    "\n",
    "distributions = dict(C=uniform(loc=0, scale=2), penalty=['l1'])\n",
    "\n",
    "lsvc = LinearSVC(dual=False, tol=10**5, loss='squared_hinge', random_state=0)\n",
    "clf = RandomizedSearchCV(\n",
    "    estimator=lsvc, \n",
    "    param_distributions=distributions,\n",
    "    cv=LeaveOneOut().split(xq),\n",
    "    refit=True,\n",
    "    random_state=0\n",
    "    )\n",
    "search = clf.fit(xq, mdata.loc[xq.index, 'Control'])\n",
    "sel = SelectFromModel(search.best_estimator_)\n",
    "qsvc = xq.columns[sel.get_support()]\n",
    "\n",
    "print(f\"Accuracy: {search.best_estimator_.score(xq, mdata.loc[xq.index, 'Control'])}\")\n",
    "print('Besta params', search.best_params_)\n",
    "print(f\"Number of proteins selected: {len(qsvc)} / {xq.shape[1]}\")\n",
    "#print('Selected features:', xq.columns[sel.get_support()])\n",
    "\n",
    "print()\n",
    "\n",
    "clf = RandomizedSearchCV(\n",
    "    estimator=lsvc, \n",
    "    param_distributions=distributions,\n",
    "    cv=LeaveOneOut().split(xm),\n",
    "    refit=True,\n",
    "    random_state=0\n",
    "    )\n",
    "search = clf.fit(xm, mdata.loc[xm.index, 'Control'])\n",
    "sel = SelectFromModel(search.best_estimator_)\n",
    "msvc = xm.columns[sel.get_support()]\n",
    "\n",
    "print(f\"Accuracy: {search.best_estimator_.score(xm, mdata.loc[xm.index, 'Control'])}\")\n",
    "print('Besta params', search.best_params_)\n",
    "print(f\"Number of proteins selected: {len(msvc)} / {xm.shape[1]}\")"
   ]
  },
  {
   "cell_type": "code",
   "execution_count": 10,
   "metadata": {},
   "outputs": [
    {
     "name": "stdout",
     "output_type": "stream",
     "text": [
      "Proteins selected: 317 | 1000-317 = 683\n",
      "Features selected: 304 | 1000-304 = 696\n"
     ]
    }
   ],
   "source": [
    "#\n",
    "# Features selected until now\n",
    "#\n",
    "\n",
    "tmp = reduce(np.union1d, [qsig, qsvc]).shape[0]\n",
    "print(f\"Proteins selected: {tmp} | 1000-{tmp} = {1000-tmp}\")\n",
    "tmp = reduce(np.union1d, [msig, msvc]).shape[0]\n",
    "print(f\"Features selected: {tmp} | 1000-{tmp} = {1000-tmp}\")"
   ]
  },
  {
   "cell_type": "code",
   "execution_count": 11,
   "metadata": {},
   "outputs": [],
   "source": [
    "#\n",
    "# Sparse PCA\n",
    "#\n",
    "\n",
    "from sklearn.decomposition import SparsePCA\n",
    "\n",
    "def mySPCA(x, n_components=5, alpha=10):\n",
    "    transformer = SparsePCA(n_components=n_components, random_state=0, verbose=False, n_jobs=-1, alpha=alpha)\n",
    "    transformer.fit(x)\n",
    "\n",
    "    print('Number of non-zero features:')\n",
    "    _ = [print(f'Component {n+1}: {i} features') for n,i in enumerate((transformer.components_!=0).sum(axis=1))]\n",
    "    print(f'Total number of features: {np.logical_or.reduce(transformer.components_!=0).sum()}')\n",
    "\n",
    "    # Explained variance in the latent space\n",
    "\n",
    "    P = transformer.components_.T  # loadings\n",
    "    T = transformer.transform(x)  # score\n",
    "    Xc = x - x.mean(axis=0)  # center data\n",
    "\n",
    "    explained_variance = np.trace(P @ T.T @ T @ P.T)\n",
    "    total_variance = np.trace(Xc.T @ Xc)\n",
    "    print('Fraction explained variance in latent space:', explained_variance / total_variance)\n",
    "\n",
    "    return transformer, transformer.feature_names_in_[(transformer.components_!=0).any(axis=0)]\n"
   ]
  },
  {
   "cell_type": "code",
   "execution_count": 12,
   "metadata": {},
   "outputs": [
    {
     "name": "stdout",
     "output_type": "stream",
     "text": [
      "Number of non-zero features:\n",
      "Component 1: 250 features\n",
      "Component 2: 274 features\n",
      "Component 3: 82 features\n",
      "Component 4: 112 features\n",
      "Component 5: 3 features\n",
      "Total number of features: 717\n",
      "Fraction explained variance in latent space: 0.10157821848798573\n"
     ]
    }
   ],
   "source": [
    "spca_q, qpca = mySPCA(xq, 5, 2.8)"
   ]
  },
  {
   "cell_type": "code",
   "execution_count": 13,
   "metadata": {},
   "outputs": [
    {
     "name": "stdout",
     "output_type": "stream",
     "text": [
      "Number of non-zero features:\n",
      "Component 1: 249 features\n",
      "Component 2: 169 features\n",
      "Component 3: 90 features\n",
      "Component 4: 67 features\n",
      "Component 5: 178 features\n",
      "Total number of features: 748\n",
      "Fraction explained variance in latent space: 0.14657044326799226\n"
     ]
    }
   ],
   "source": [
    "spca_m, mpca = mySPCA(xm, 5, 3.2)\n"
   ]
  },
  {
   "cell_type": "code",
   "execution_count": 14,
   "metadata": {},
   "outputs": [],
   "source": [
    "#\n",
    "# Summary\n",
    "#"
   ]
  },
  {
   "cell_type": "code",
   "execution_count": 15,
   "metadata": {},
   "outputs": [],
   "source": [
    "#\n",
    "# Check PCA\n",
    "#\n",
    "\n",
    "from PCA_UMAP import PCA_UMAP, PCA_Var"
   ]
  },
  {
   "cell_type": "code",
   "execution_count": 16,
   "metadata": {},
   "outputs": [
    {
     "name": "stdout",
     "output_type": "stream",
     "text": [
      "Proteins selected by F-test: 279\n",
      "Proteins selected by SVC: 50\n",
      "Proteins selected by sPCA: 717\n",
      "Total number of features: 999\n"
     ]
    },
    {
     "data": {
      "text/html": [
       "<div>\n",
       "<style scoped>\n",
       "    .dataframe tbody tr th:only-of-type {\n",
       "        vertical-align: middle;\n",
       "    }\n",
       "\n",
       "    .dataframe tbody tr th {\n",
       "        vertical-align: top;\n",
       "    }\n",
       "\n",
       "    .dataframe thead th {\n",
       "        text-align: right;\n",
       "    }\n",
       "</style>\n",
       "<table border=\"1\" class=\"dataframe\">\n",
       "  <thead>\n",
       "    <tr style=\"text-align: right;\">\n",
       "      <th></th>\n",
       "      <th>%Var PCA</th>\n",
       "      <th>Group</th>\n",
       "      <th>Ig</th>\n",
       "      <th>Control</th>\n",
       "      <th>TMT</th>\n",
       "    </tr>\n",
       "  </thead>\n",
       "  <tbody>\n",
       "    <tr>\n",
       "      <th>1</th>\n",
       "      <td>33.108358</td>\n",
       "      <td>0.3449</td>\n",
       "      <td>0.5204</td>\n",
       "      <td>0.4441</td>\n",
       "      <td>0.6761</td>\n",
       "    </tr>\n",
       "    <tr>\n",
       "      <th>2</th>\n",
       "      <td>24.985595</td>\n",
       "      <td>0.0826</td>\n",
       "      <td>0.7555</td>\n",
       "      <td>0.0389</td>\n",
       "      <td>0.6601</td>\n",
       "    </tr>\n",
       "    <tr>\n",
       "      <th>3</th>\n",
       "      <td>12.644785</td>\n",
       "      <td>0.0053</td>\n",
       "      <td>0.0015</td>\n",
       "      <td>0.0369</td>\n",
       "      <td>0.9555</td>\n",
       "    </tr>\n",
       "    <tr>\n",
       "      <th>4</th>\n",
       "      <td>6.670894</td>\n",
       "      <td>0.6187</td>\n",
       "      <td>0.8934</td>\n",
       "      <td>0.4431</td>\n",
       "      <td>0.9148</td>\n",
       "    </tr>\n",
       "    <tr>\n",
       "      <th>5</th>\n",
       "      <td>4.703899</td>\n",
       "      <td>0.1327</td>\n",
       "      <td>0.3677</td>\n",
       "      <td>0.0409</td>\n",
       "      <td>0.7737</td>\n",
       "    </tr>\n",
       "    <tr>\n",
       "      <th>6</th>\n",
       "      <td>3.918167</td>\n",
       "      <td>0.0733</td>\n",
       "      <td>0.0778</td>\n",
       "      <td>0.8098</td>\n",
       "      <td>0.7458</td>\n",
       "    </tr>\n",
       "    <tr>\n",
       "      <th>7</th>\n",
       "      <td>2.595158</td>\n",
       "      <td>0.9004</td>\n",
       "      <td>0.7382</td>\n",
       "      <td>0.9186</td>\n",
       "      <td>0.9352</td>\n",
       "    </tr>\n",
       "    <tr>\n",
       "      <th>8</th>\n",
       "      <td>2.117437</td>\n",
       "      <td>0.6661</td>\n",
       "      <td>0.3605</td>\n",
       "      <td>0.5829</td>\n",
       "      <td>0.9877</td>\n",
       "    </tr>\n",
       "    <tr>\n",
       "      <th>9</th>\n",
       "      <td>1.946206</td>\n",
       "      <td>0.5865</td>\n",
       "      <td>0.2960</td>\n",
       "      <td>0.6679</td>\n",
       "      <td>0.8954</td>\n",
       "    </tr>\n",
       "    <tr>\n",
       "      <th>10</th>\n",
       "      <td>1.765661</td>\n",
       "      <td>0.9372</td>\n",
       "      <td>0.9122</td>\n",
       "      <td>0.7217</td>\n",
       "      <td>0.7446</td>\n",
       "    </tr>\n",
       "  </tbody>\n",
       "</table>\n",
       "</div>"
      ],
      "text/plain": [
       "     %Var PCA   Group      Ig  Control     TMT\n",
       "1   33.108358  0.3449  0.5204   0.4441  0.6761\n",
       "2   24.985595  0.0826  0.7555   0.0389  0.6601\n",
       "3   12.644785  0.0053  0.0015   0.0369  0.9555\n",
       "4    6.670894  0.6187  0.8934   0.4431  0.9148\n",
       "5    4.703899  0.1327  0.3677   0.0409  0.7737\n",
       "6    3.918167  0.0733  0.0778   0.8098  0.7458\n",
       "7    2.595158  0.9004  0.7382   0.9186  0.9352\n",
       "8    2.117437  0.6661  0.3605   0.5829  0.9877\n",
       "9    1.946206  0.5865  0.2960   0.6679  0.8954\n",
       "10   1.765661  0.9372  0.9122   0.7217  0.7446"
      ]
     },
     "execution_count": 16,
     "metadata": {},
     "output_type": "execute_result"
    }
   ],
   "source": [
    "tmp = reduce(np.union1d, [qsig, qsvc, qpca])\n",
    "print(f'Proteins selected by F-test: {qsig.shape[0]}')\n",
    "#print(f'Proteins selected by RFC: {qrfc.shape[0]}')\n",
    "print(f'Proteins selected by SVC: {qsvc.shape[0]}')\n",
    "print(f'Proteins selected by sPCA: {qpca.shape[0]}')\n",
    "print(f'Total number of features: {tmp.shape[0]}')\n",
    "PCA_Var(xq[tmp], mdata, [], ['Group', 'Ig', 'Control','TMT'], n_comp=10)"
   ]
  },
  {
   "cell_type": "code",
   "execution_count": 17,
   "metadata": {},
   "outputs": [
    {
     "name": "stdout",
     "output_type": "stream",
     "text": [
      "Features selected by F-test: 226\n",
      "Features selected by SVC: 93\n",
      "Features selected by sPCA: 748\n",
      "Total number of features: 992\n"
     ]
    },
    {
     "data": {
      "text/html": [
       "<div>\n",
       "<style scoped>\n",
       "    .dataframe tbody tr th:only-of-type {\n",
       "        vertical-align: middle;\n",
       "    }\n",
       "\n",
       "    .dataframe tbody tr th {\n",
       "        vertical-align: top;\n",
       "    }\n",
       "\n",
       "    .dataframe thead th {\n",
       "        text-align: right;\n",
       "    }\n",
       "</style>\n",
       "<table border=\"1\" class=\"dataframe\">\n",
       "  <thead>\n",
       "    <tr style=\"text-align: right;\">\n",
       "      <th></th>\n",
       "      <th>%Var PCA</th>\n",
       "      <th>Group</th>\n",
       "      <th>Ig</th>\n",
       "      <th>Control</th>\n",
       "    </tr>\n",
       "  </thead>\n",
       "  <tbody>\n",
       "    <tr>\n",
       "      <th>1</th>\n",
       "      <td>30.619708</td>\n",
       "      <td>0.5013</td>\n",
       "      <td>0.7144</td>\n",
       "      <td>0.4319</td>\n",
       "    </tr>\n",
       "    <tr>\n",
       "      <th>2</th>\n",
       "      <td>24.226354</td>\n",
       "      <td>0.0088</td>\n",
       "      <td>0.5522</td>\n",
       "      <td>0.0033</td>\n",
       "    </tr>\n",
       "    <tr>\n",
       "      <th>3</th>\n",
       "      <td>12.121718</td>\n",
       "      <td>0.3733</td>\n",
       "      <td>0.4089</td>\n",
       "      <td>0.5758</td>\n",
       "    </tr>\n",
       "    <tr>\n",
       "      <th>4</th>\n",
       "      <td>7.524170</td>\n",
       "      <td>0.7221</td>\n",
       "      <td>0.8369</td>\n",
       "      <td>0.4291</td>\n",
       "    </tr>\n",
       "    <tr>\n",
       "      <th>5</th>\n",
       "      <td>4.455311</td>\n",
       "      <td>0.0001</td>\n",
       "      <td>0.0000</td>\n",
       "      <td>0.0429</td>\n",
       "    </tr>\n",
       "    <tr>\n",
       "      <th>6</th>\n",
       "      <td>3.719203</td>\n",
       "      <td>0.2187</td>\n",
       "      <td>0.4845</td>\n",
       "      <td>0.3169</td>\n",
       "    </tr>\n",
       "    <tr>\n",
       "      <th>7</th>\n",
       "      <td>2.847143</td>\n",
       "      <td>0.7580</td>\n",
       "      <td>0.9617</td>\n",
       "      <td>0.5298</td>\n",
       "    </tr>\n",
       "    <tr>\n",
       "      <th>8</th>\n",
       "      <td>2.257910</td>\n",
       "      <td>0.6435</td>\n",
       "      <td>0.3397</td>\n",
       "      <td>0.6384</td>\n",
       "    </tr>\n",
       "    <tr>\n",
       "      <th>9</th>\n",
       "      <td>1.916394</td>\n",
       "      <td>0.3337</td>\n",
       "      <td>0.9040</td>\n",
       "      <td>0.1759</td>\n",
       "    </tr>\n",
       "    <tr>\n",
       "      <th>10</th>\n",
       "      <td>1.759110</td>\n",
       "      <td>0.9693</td>\n",
       "      <td>0.8046</td>\n",
       "      <td>0.9408</td>\n",
       "    </tr>\n",
       "  </tbody>\n",
       "</table>\n",
       "</div>"
      ],
      "text/plain": [
       "     %Var PCA   Group      Ig  Control\n",
       "1   30.619708  0.5013  0.7144   0.4319\n",
       "2   24.226354  0.0088  0.5522   0.0033\n",
       "3   12.121718  0.3733  0.4089   0.5758\n",
       "4    7.524170  0.7221  0.8369   0.4291\n",
       "5    4.455311  0.0001  0.0000   0.0429\n",
       "6    3.719203  0.2187  0.4845   0.3169\n",
       "7    2.847143  0.7580  0.9617   0.5298\n",
       "8    2.257910  0.6435  0.3397   0.6384\n",
       "9    1.916394  0.3337  0.9040   0.1759\n",
       "10   1.759110  0.9693  0.8046   0.9408"
      ]
     },
     "execution_count": 17,
     "metadata": {},
     "output_type": "execute_result"
    }
   ],
   "source": [
    "tmp = reduce(np.union1d, [msig, msvc, mpca])\n",
    "print(f'Features selected by F-test: {msig.shape[0]}')\n",
    "#print(f'Features selected by RFC: {mrfc.shape[0]}')\n",
    "print(f'Features selected by SVC: {msvc.shape[0]}')\n",
    "print(f'Features selected by sPCA: {mpca.shape[0]}')\n",
    "print(f'Total number of features: {tmp.shape[0]}')\n",
    "PCA_Var(xm[tmp], mdata, [], ['Group', 'Ig', 'Control'], n_comp=10)"
   ]
  },
  {
   "cell_type": "code",
   "execution_count": 18,
   "metadata": {},
   "outputs": [],
   "source": [
    "#\n",
    "# Write selected features\n",
    "#\n",
    "\n",
    "qres = []\n",
    "for i,j in zip([qsig, qsvc, qpca], ['sig', 'svc', 'pca']):\n",
    "    tmp = pd.DataFrame(index=i)\n",
    "    tmp[j] = True\n",
    "    qres.append(tmp)\n",
    "\n",
    "qres = reduce(lambda df1, df2: df1.join(df2, how='outer'), qres).fillna(False)\n",
    "\n",
    "mres = []\n",
    "for i,j in zip([msig, msvc, mpca], ['sig', 'svc', 'pca']):\n",
    "    tmp = pd.DataFrame(index=i)\n",
    "    tmp[j] = True\n",
    "    mres.append(tmp)\n",
    "\n",
    "mres = reduce(lambda df1, df2: df1.join(df2, how='outer'), mres).fillna(False)"
   ]
  },
  {
   "cell_type": "code",
   "execution_count": 19,
   "metadata": {},
   "outputs": [],
   "source": [
    "qres.to_csv('qfilt.tsv', sep='\\t', index=True)\n",
    "mres.to_csv('mfilt.tsv', sep='\\t', index=True)"
   ]
  },
  {
   "cell_type": "code",
   "execution_count": 20,
   "metadata": {},
   "outputs": [],
   "source": [
    "# Check if filtered features were identified by Alessia...\n",
    "\n",
    "mres\n",
    "f2i = pd.read_csv(r\"S:\\U_Proteomica\\UNIDAD\\software\\MacrosRafa\\data\\Metabolomics\\PESA_Integromics\\Data\\Metabolomics\\ALDH4\\WorkingFiles\\f2i.tsv\", sep='\\t')\n",
    "alid = pd.read_excel(r\"S:\\U_Proteomica\\UNIDAD\\software\\MacrosRafa\\data\\Metabolomics\\PESA_Integromics\\Data\\Metabolomics\\ALDH4\\OriginalFiles\\RBR_identifications.xlsx\").loc[:,['Features code', 'ID', 'Apex m/z', 'RT [min]']]\n",
    "\n",
    "tmp = pd.merge(\n",
    "    f2i, alid,\n",
    "    how='right',\n",
    "    on=['Apex m/z', 'RT [min]']\n",
    "    #left_on='Name', right_on='Features code'\n",
    ").set_index('fid').join(mres, how='left')"
   ]
  }
 ],
 "metadata": {
  "kernelspec": {
   "display_name": "Python 3",
   "language": "python",
   "name": "python3"
  },
  "language_info": {
   "codemirror_mode": {
    "name": "ipython",
    "version": 3
   },
   "file_extension": ".py",
   "mimetype": "text/x-python",
   "name": "python",
   "nbconvert_exporter": "python",
   "pygments_lexer": "ipython3",
   "version": "3.10.4"
  },
  "orig_nbformat": 4,
  "vscode": {
   "interpreter": {
    "hash": "299fabdee10379681b2207a83aa9f93c313ee5d5504e286e44b436bd7e45d8f9"
   }
  }
 },
 "nbformat": 4,
 "nbformat_minor": 2
}
