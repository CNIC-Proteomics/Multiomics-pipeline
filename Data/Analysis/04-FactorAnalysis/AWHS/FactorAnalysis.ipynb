{
 "cells": [
  {
   "cell_type": "code",
   "execution_count": 1,
   "metadata": {},
   "outputs": [],
   "source": [
    "#\n",
    "# Import Libraries\n",
    "#\n",
    "\n",
    "from dotmap import DotMap\n",
    "import numpy as np\n",
    "import os\n",
    "import pandas as pd\n",
    "import sys\n",
    "\n",
    "#from sklearn.decomposition import FactorAnalysis\n",
    "#from factor_analyzer import FactorAnalyzer\n",
    "\n",
    "from mofapy2.run.entry_point import entry_point\n",
    "import mofax as mfx\n",
    "\n",
    "import seaborn as sns\n",
    "import matplotlib.pyplot as plt\n",
    "from matplotlib import rcParams\n",
    "rcParams['figure.dpi'] = 200\n",
    "\n",
    "from plotly import graph_objects as go\n",
    "from plotly.subplots import make_subplots\n",
    "\n",
    "utilsPath = r'S:\\U_Proteomica\\UNIDAD\\software\\MacrosRafa\\data\\Metabolomics\\PESA_Integromics\\Data\\utils'\n",
    "if utilsPath not in sys.path:\n",
    "    sys.path.append(utilsPath)"
   ]
  },
  {
   "cell_type": "code",
   "execution_count": 2,
   "metadata": {},
   "outputs": [],
   "source": [
    "#\n",
    "# Set constants\n",
    "#\n",
    "\n",
    "Qworking_path = r\"S:\\U_Proteomica\\UNIDAD\\software\\MacrosRafa\\data\\Metabolomics\\PESA_Integromics\\Data\\Proteomics\\AWHS\"\n",
    "Mworking_path = r\"S:\\U_Proteomica\\UNIDAD\\software\\MacrosRafa\\data\\Metabolomics\\PESA_Integromics\\Data\\Metabolomics\\AWHS\"\n",
    "\n",
    "# X\n",
    "xq_path = os.path.join(Qworking_path, \"WorkingFiles\", \"Xq_minus_X_norm.tsv\")\n",
    "mq_path = os.path.join(Mworking_path, \"WorkingFiles\", \"Xm_norm_MS2.tsv\")\n",
    "\n",
    "# Feature info\n",
    "q2i_path = os.path.join(Qworking_path, \"WorkingFiles\", \"q2info.tsv\")\n",
    "m2i_path = os.path.join(Mworking_path, \"WorkingFiles\", \"m2info.tsv\")\n",
    "\n",
    "# metadata\n",
    "mdata_path = os.path.join(r\"S:\\U_Proteomica\\UNIDAD\\software\\MacrosRafa\\data\\Metabolomics\\PESA_Integromics\\Data\\Metadata\\AWHS\\WorkingFiles\\main_metadata.tsv\")\n",
    "\n",
    "# RPath\n",
    "rPath = r\"S:\\U_Proteomica\\UNIDAD\\software\\MacrosRafa\\data\\Metabolomics\\PESA_Integromics\\Data\\Analysis\\02-Correlations\\AWHS\\myRData\""
   ]
  },
  {
   "cell_type": "code",
   "execution_count": 3,
   "metadata": {},
   "outputs": [],
   "source": [
    "#\n",
    "# Read data\n",
    "#\n",
    "\n",
    "xq = pd.read_csv(xq_path, sep='\\t', index_col=0)\n",
    "xm = pd.read_csv(mq_path, sep='\\t', index_col=0)\n",
    "\n",
    "q2i = pd.read_csv(q2i_path, sep='\\t')\n",
    "m2i = pd.read_csv(m2i_path, sep='\\t')\n",
    "\n",
    "mdata = pd.read_csv(mdata_path, sep='\\t', index_col=0)"
   ]
  },
  {
   "cell_type": "code",
   "execution_count": 4,
   "metadata": {},
   "outputs": [],
   "source": [
    "tmp = m2i.set_index('fid').loc[xm.columns]['NAME']\n",
    "xm.columns = [f\"{i} | {j}\" for i,j in zip(tmp.index, tmp.values)]"
   ]
  },
  {
   "cell_type": "code",
   "execution_count": 5,
   "metadata": {},
   "outputs": [],
   "source": [
    "# Intersect q-omics and m-omics\n",
    "\n",
    "seqn = np.intersect1d(\n",
    "    xq.index,\n",
    "    xm.index\n",
    ")\n",
    "\n",
    "xqi = xq.loc[seqn].copy()\n",
    "xmi = xm.loc[seqn].copy()\n",
    "mdatai = mdata.loc[seqn]"
   ]
  },
  {
   "cell_type": "code",
   "execution_count": 24,
   "metadata": {},
   "outputs": [
    {
     "name": "stdout",
     "output_type": "stream",
     "text": [
      "\n",
      "        #########################################################\n",
      "        ###           __  __  ____  ______                    ### \n",
      "        ###          |  \\/  |/ __ \\|  ____/\\    _             ### \n",
      "        ###          | \\  / | |  | | |__ /  \\ _| |_           ### \n",
      "        ###          | |\\/| | |  | |  __/ /\\ \\_   _|          ###\n",
      "        ###          | |  | | |__| | | / ____ \\|_|            ###\n",
      "        ###          |_|  |_|\\____/|_|/_/    \\_\\              ###\n",
      "        ###                                                   ### \n",
      "        ######################################################### \n",
      "       \n",
      " \n",
      "        \n",
      "Groups names not provided, using default naming convention:\n",
      "- group1, group2, ..., groupG\n",
      "\n",
      "Successfully loaded view='q' group='group0' with N=312 samples and D=381 features...\n",
      "Successfully loaded view='m' group='group0' with N=312 samples and D=656 features...\n",
      "\n",
      "\n",
      "Model options:\n",
      "- Automatic Relevance Determination prior on the factors: True\n",
      "- Automatic Relevance Determination prior on the weights: True\n",
      "- Spike-and-slab prior on the factors: False\n",
      "- Spike-and-slab prior on the weights: True\n",
      "Likelihoods:\n",
      "- View 0 (q): gaussian\n",
      "- View 1 (m): gaussian\n",
      "\n",
      "\n"
     ]
    }
   ],
   "source": [
    "# Create data matrix object (without separating by groups)\n",
    "\n",
    "# data_mat = [\n",
    "#     [\n",
    "#     xqi.loc[mdatai[mdatai['Group']=='C'].index].to_numpy(),\n",
    "#     xqi.loc[mdatai[mdatai['Group']=='D'].index].to_numpy()\n",
    "#     ],\n",
    "#     [\n",
    "#     xmi.loc[mdatai[mdatai['Group']=='C'].index].to_numpy(),\n",
    "#     xmi.loc[mdatai[mdatai['Group']=='D'].index].to_numpy()\n",
    "#     ]\n",
    "# ]\n",
    "\n",
    "data_mat = [\n",
    "    [\n",
    "    xqi.to_numpy(),\n",
    "    ],\n",
    "    [\n",
    "    xmi.to_numpy(),\n",
    "    ]\n",
    "]\n",
    "\n",
    "ent = entry_point()\n",
    "ent.set_data_options(scale_groups=False, scale_views=False, center_groups=False)\n",
    "\n",
    "ent.set_data_matrix(\n",
    "    data_mat, \n",
    "    views_names=['q', 'm'], \n",
    "    #groups_names=['C', 'D'],\n",
    "    features_names=[xqi.columns, xmi.columns],\n",
    "    # samples_names=[\n",
    "    #     [str(i) for i in mdatai[mdatai['Group']=='C'].index], \n",
    "    #     [str(i) for i in mdatai[mdatai['Group']=='D'].index]\n",
    "    # ],\n",
    "    samples_names=[[str(i) for i in seqn]],\n",
    "    likelihoods=['gaussian', 'gaussian']\n",
    ")\n",
    "\n",
    "ent.set_model_options(\n",
    "    factors = 25, \n",
    "    spikeslab_weights = True, \n",
    "    spikeslab_factors=False,\n",
    "    ard_weights = True,\n",
    "    ard_factors=True\n",
    ")\n",
    "\n",
    "ent.set_train_options(\n",
    "    convergence_mode = \"slow\", \n",
    "    iter=10000,\n",
    "    dropR2 = 0.015, \n",
    "    gpu_mode = False, \n",
    "    seed = 1,\n",
    ")"
   ]
  },
  {
   "cell_type": "code",
   "execution_count": 25,
   "metadata": {},
   "outputs": [],
   "source": [
    "m.close()\n",
    "del m"
   ]
  },
  {
   "cell_type": "code",
   "execution_count": 26,
   "metadata": {},
   "outputs": [
    {
     "name": "stdout",
     "output_type": "stream",
     "text": [
      "\n",
      "\n",
      "######################################\n",
      "## Training the model with seed 1 ##\n",
      "######################################\n",
      "\n",
      "\n",
      "ELBO before training: -5117017.12 \n",
      "\n",
      "Iteration 1: time=0.28, ELBO=-434604.08, deltaELBO=4682413.040 (91.50669094%), Factors=24\n",
      "Iteration 2: time=0.32, ELBO=-378156.77, deltaELBO=56447.309 (1.10312918%), Factors=23\n",
      "Iteration 3: time=0.30, ELBO=-364092.35, deltaELBO=14064.421 (0.27485586%), Factors=22\n",
      "Iteration 4: time=0.30, ELBO=-341498.02, deltaELBO=22594.327 (0.44155270%), Factors=21\n",
      "Iteration 5: time=0.27, ELBO=-327993.36, deltaELBO=13504.658 (0.26391661%), Factors=20\n",
      "Iteration 6: time=0.24, ELBO=-323818.22, deltaELBO=4175.144 (0.08159331%), Factors=19\n",
      "Iteration 7: time=0.21, ELBO=-317567.96, deltaELBO=6250.263 (0.12214661%), Factors=18\n",
      "Iteration 8: time=0.22, ELBO=-312751.26, deltaELBO=4816.695 (0.09413092%), Factors=17\n",
      "Iteration 9: time=0.18, ELBO=-309950.34, deltaELBO=2800.924 (0.05473743%), Factors=16\n",
      "Iteration 10: time=0.20, ELBO=-386727.73, deltaELBO=-76777.396 (1.50043266%), Factors=15\n",
      "Warning, lower bound is decreasing...\u0007\n",
      "Iteration 11: time=0.17, ELBO=-330923.79, deltaELBO=55803.944 (1.09055614%), Factors=14\n",
      "Iteration 12: time=0.16, ELBO=-317642.88, deltaELBO=13280.913 (0.25954404%), Factors=13\n",
      "Iteration 13: time=0.15, ELBO=-318441.81, deltaELBO=-798.939 (0.01561337%), Factors=12\n",
      "Warning, lower bound is decreasing...\u0007\n",
      "Iteration 14: time=0.14, ELBO=-326038.69, deltaELBO=-7596.877 (0.14846299%), Factors=11\n",
      "Warning, lower bound is decreasing...\u0007\n",
      "Iteration 15: time=0.13, ELBO=-329546.87, deltaELBO=-3508.177 (0.06855901%), Factors=10\n",
      "Warning, lower bound is decreasing...\u0007\n",
      "Iteration 16: time=0.13, ELBO=-348789.81, deltaELBO=-19242.942 (0.37605779%), Factors=9\n",
      "Warning, lower bound is decreasing...\u0007\n",
      "Iteration 17: time=0.11, ELBO=-339756.99, deltaELBO=9032.819 (0.17652509%), Factors=8\n",
      "Iteration 18: time=0.10, ELBO=-336566.19, deltaELBO=3190.799 (0.06235662%), Factors=8\n",
      "Iteration 19: time=0.13, ELBO=-335140.35, deltaELBO=1425.844 (0.02786475%), Factors=8\n",
      "Iteration 20: time=0.11, ELBO=-334133.39, deltaELBO=1006.956 (0.01967857%), Factors=8\n",
      "Iteration 21: time=0.10, ELBO=-333019.47, deltaELBO=1113.923 (0.02176900%), Factors=8\n",
      "Iteration 22: time=0.09, ELBO=-331225.09, deltaELBO=1794.382 (0.03506695%), Factors=8\n",
      "Iteration 23: time=0.10, ELBO=-329230.60, deltaELBO=1994.486 (0.03897752%), Factors=8\n",
      "Iteration 24: time=0.09, ELBO=-328175.27, deltaELBO=1055.331 (0.02062394%), Factors=8\n",
      "Iteration 25: time=0.18, ELBO=-327730.74, deltaELBO=444.534 (0.00868737%), Factors=8\n",
      "Iteration 26: time=0.10, ELBO=-327455.02, deltaELBO=275.713 (0.00538817%), Factors=8\n",
      "Iteration 27: time=0.10, ELBO=-327233.09, deltaELBO=221.936 (0.00433721%), Factors=8\n",
      "Iteration 28: time=0.10, ELBO=-327041.63, deltaELBO=191.453 (0.00374149%), Factors=8\n",
      "Iteration 29: time=0.09, ELBO=-326874.58, deltaELBO=167.055 (0.00326469%), Factors=8\n",
      "Iteration 30: time=0.10, ELBO=-326728.73, deltaELBO=145.843 (0.00285016%), Factors=8\n",
      "Iteration 31: time=0.09, ELBO=-326602.62, deltaELBO=126.114 (0.00246461%), Factors=8\n",
      "Iteration 32: time=0.11, ELBO=-326497.63, deltaELBO=104.990 (0.00205178%), Factors=8\n",
      "Iteration 33: time=0.09, ELBO=-326412.54, deltaELBO=85.089 (0.00166286%), Factors=8\n",
      "Iteration 34: time=0.10, ELBO=-326343.46, deltaELBO=69.084 (0.00135008%), Factors=8\n",
      "Iteration 35: time=0.10, ELBO=-326285.98, deltaELBO=57.475 (0.00112322%), Factors=8\n",
      "Iteration 36: time=0.10, ELBO=-326236.47, deltaELBO=49.508 (0.00096752%), Factors=8\n",
      "Iteration 37: time=0.10, ELBO=-326192.53, deltaELBO=43.945 (0.00085879%), Factors=8\n",
      "Iteration 38: time=0.10, ELBO=-326152.99, deltaELBO=39.542 (0.00077276%), Factors=8\n",
      "Iteration 39: time=0.09, ELBO=-326117.56, deltaELBO=35.424 (0.00069227%), Factors=8\n",
      "Iteration 40: time=0.09, ELBO=-326086.32, deltaELBO=31.243 (0.00061056%), Factors=8\n",
      "Iteration 41: time=0.09, ELBO=-326059.22, deltaELBO=27.104 (0.00052967%), Factors=8\n",
      "Iteration 42: time=0.10, ELBO=-326035.93, deltaELBO=23.289 (0.00045514%), Factors=8\n",
      "Iteration 43: time=0.10, ELBO=-326015.92, deltaELBO=20.013 (0.00039110%), Factors=8\n",
      "Iteration 44: time=0.11, ELBO=-325998.58, deltaELBO=17.332 (0.00033871%), Factors=8\n",
      "Iteration 45: time=0.09, ELBO=-325983.39, deltaELBO=15.196 (0.00029697%), Factors=8\n",
      "Iteration 46: time=0.10, ELBO=-325969.88, deltaELBO=13.510 (0.00026402%), Factors=8\n",
      "Iteration 47: time=0.10, ELBO=-325957.70, deltaELBO=12.176 (0.00023796%), Factors=8\n",
      "Iteration 48: time=0.09, ELBO=-325946.59, deltaELBO=11.113 (0.00021717%), Factors=8\n",
      "Iteration 49: time=0.09, ELBO=-325936.33, deltaELBO=10.255 (0.00020040%), Factors=8\n",
      "Iteration 50: time=0.09, ELBO=-322912.45, deltaELBO=3023.889 (0.05909477%), Factors=8\n",
      "Iteration 51: time=0.09, ELBO=-322671.26, deltaELBO=241.182 (0.00471334%), Factors=8\n",
      "Iteration 52: time=0.10, ELBO=-322580.47, deltaELBO=90.795 (0.00177437%), Factors=8\n",
      "Iteration 53: time=0.11, ELBO=-322539.70, deltaELBO=40.763 (0.00079662%), Factors=8\n",
      "Iteration 54: time=0.10, ELBO=-322518.27, deltaELBO=21.431 (0.00041883%), Factors=8\n",
      "Iteration 55: time=0.10, ELBO=-322504.72, deltaELBO=13.553 (0.00026486%), Factors=8\n",
      "Iteration 56: time=0.10, ELBO=-322494.46, deltaELBO=10.264 (0.00020059%), Factors=8\n",
      "Iteration 57: time=0.10, ELBO=-322485.44, deltaELBO=9.019 (0.00017626%), Factors=8\n",
      "Iteration 58: time=0.09, ELBO=-322477.14, deltaELBO=8.301 (0.00016223%), Factors=8\n",
      "Iteration 59: time=0.09, ELBO=-322469.89, deltaELBO=7.246 (0.00014160%), Factors=8\n",
      "Iteration 60: time=0.09, ELBO=-322463.47, deltaELBO=6.424 (0.00012555%), Factors=8\n",
      "Iteration 61: time=0.10, ELBO=-322457.50, deltaELBO=5.967 (0.00011662%), Factors=8\n",
      "Iteration 62: time=0.10, ELBO=-322451.80, deltaELBO=5.695 (0.00011129%), Factors=8\n",
      "Iteration 63: time=0.10, ELBO=-322446.29, deltaELBO=5.509 (0.00010765%), Factors=8\n",
      "Iteration 64: time=0.09, ELBO=-322440.93, deltaELBO=5.365 (0.00010485%), Factors=8\n",
      "Iteration 65: time=0.09, ELBO=-322435.68, deltaELBO=5.246 (0.00010251%), Factors=8\n",
      "Iteration 66: time=0.10, ELBO=-322430.54, deltaELBO=5.141 (0.00010047%), Factors=8\n",
      "Iteration 67: time=0.10, ELBO=-322425.50, deltaELBO=5.047 (0.00009863%), Factors=8\n",
      "Iteration 68: time=0.10, ELBO=-322420.54, deltaELBO=4.961 (0.00009694%), Factors=8\n",
      "Iteration 69: time=0.10, ELBO=-322415.65, deltaELBO=4.882 (0.00009540%), Factors=8\n",
      "Iteration 70: time=0.10, ELBO=-322410.84, deltaELBO=4.810 (0.00009400%), Factors=8\n",
      "Iteration 71: time=0.10, ELBO=-322406.10, deltaELBO=4.746 (0.00009275%), Factors=8\n",
      "Iteration 72: time=0.10, ELBO=-322401.41, deltaELBO=4.690 (0.00009166%), Factors=8\n",
      "Iteration 73: time=0.09, ELBO=-322396.76, deltaELBO=4.643 (0.00009073%), Factors=8\n",
      "Iteration 74: time=0.09, ELBO=-322392.16, deltaELBO=4.605 (0.00008999%), Factors=8\n",
      "Iteration 75: time=0.10, ELBO=-322387.58, deltaELBO=4.577 (0.00008944%), Factors=8\n",
      "Iteration 76: time=0.09, ELBO=-322383.02, deltaELBO=4.559 (0.00008909%), Factors=8\n",
      "Iteration 77: time=0.10, ELBO=-322378.47, deltaELBO=4.552 (0.00008895%), Factors=8\n",
      "Iteration 78: time=0.10, ELBO=-322373.92, deltaELBO=4.557 (0.00008905%), Factors=8\n",
      "Iteration 79: time=0.10, ELBO=-322369.34, deltaELBO=4.575 (0.00008942%), Factors=8\n",
      "Iteration 80: time=0.09, ELBO=-322364.73, deltaELBO=4.610 (0.00009009%), Factors=8\n",
      "Iteration 81: time=0.10, ELBO=-322360.07, deltaELBO=4.662 (0.00009111%), Factors=8\n",
      "Iteration 82: time=0.09, ELBO=-322355.33, deltaELBO=4.733 (0.00009250%), Factors=8\n",
      "Iteration 83: time=0.10, ELBO=-322350.52, deltaELBO=4.819 (0.00009418%), Factors=8\n",
      "Iteration 84: time=0.10, ELBO=-322345.60, deltaELBO=4.913 (0.00009601%), Factors=8\n",
      "Iteration 85: time=0.09, ELBO=-322340.60, deltaELBO=5.004 (0.00009779%), Factors=8\n",
      "Iteration 86: time=0.09, ELBO=-322335.51, deltaELBO=5.089 (0.00009945%), Factors=8\n",
      "Iteration 87: time=0.10, ELBO=-322330.34, deltaELBO=5.170 (0.00010103%), Factors=8\n",
      "Iteration 88: time=0.10, ELBO=-322325.09, deltaELBO=5.251 (0.00010261%), Factors=8\n",
      "Iteration 89: time=0.10, ELBO=-322319.74, deltaELBO=5.345 (0.00010445%), Factors=8\n",
      "Iteration 90: time=0.09, ELBO=-322314.26, deltaELBO=5.481 (0.00010711%), Factors=8\n",
      "Iteration 91: time=0.09, ELBO=-322308.56, deltaELBO=5.701 (0.00011142%), Factors=8\n",
      "Iteration 92: time=0.10, ELBO=-322302.50, deltaELBO=6.059 (0.00011841%), Factors=8\n",
      "Iteration 93: time=0.17, ELBO=-322295.90, deltaELBO=6.607 (0.00012912%), Factors=8\n",
      "Iteration 94: time=0.09, ELBO=-322288.62, deltaELBO=7.279 (0.00014225%), Factors=8\n",
      "Iteration 95: time=0.10, ELBO=-322280.88, deltaELBO=7.739 (0.00015124%), Factors=8\n",
      "Iteration 96: time=0.09, ELBO=-322272.90, deltaELBO=7.983 (0.00015602%), Factors=8\n",
      "Iteration 97: time=0.09, ELBO=-322263.97, deltaELBO=8.921 (0.00017433%), Factors=8\n",
      "Iteration 98: time=0.10, ELBO=-322251.96, deltaELBO=12.011 (0.00023473%), Factors=8\n",
      "Iteration 99: time=0.09, ELBO=-322239.83, deltaELBO=12.136 (0.00023717%), Factors=8\n",
      "Iteration 100: time=0.09, ELBO=-322229.82, deltaELBO=10.010 (0.00019563%), Factors=8\n",
      "Iteration 101: time=0.10, ELBO=-322221.32, deltaELBO=8.496 (0.00016604%), Factors=8\n",
      "Iteration 102: time=0.10, ELBO=-322214.06, deltaELBO=7.259 (0.00014186%), Factors=8\n",
      "Iteration 103: time=0.10, ELBO=-322207.75, deltaELBO=6.316 (0.00012344%), Factors=8\n",
      "Iteration 104: time=0.10, ELBO=-322202.10, deltaELBO=5.642 (0.00011026%), Factors=8\n",
      "Iteration 105: time=0.10, ELBO=-322196.82, deltaELBO=5.283 (0.00010324%), Factors=8\n",
      "Iteration 106: time=0.09, ELBO=-322190.58, deltaELBO=6.237 (0.00012188%), Factors=8\n",
      "Iteration 107: time=0.09, ELBO=-322180.40, deltaELBO=10.182 (0.00019899%), Factors=8\n",
      "Iteration 108: time=0.09, ELBO=-322172.56, deltaELBO=7.843 (0.00015327%), Factors=8\n",
      "Iteration 109: time=0.10, ELBO=-322168.09, deltaELBO=4.470 (0.00008736%), Factors=8\n",
      "Iteration 110: time=0.10, ELBO=-322164.53, deltaELBO=3.562 (0.00006961%), Factors=8\n",
      "Iteration 111: time=0.10, ELBO=-322161.37, deltaELBO=3.161 (0.00006177%), Factors=8\n",
      "Iteration 112: time=0.10, ELBO=-322158.41, deltaELBO=2.957 (0.00005780%), Factors=8\n",
      "Iteration 113: time=0.10, ELBO=-322155.58, deltaELBO=2.832 (0.00005535%), Factors=8\n",
      "Iteration 114: time=0.10, ELBO=-322152.81, deltaELBO=2.764 (0.00005402%), Factors=8\n",
      "Iteration 115: time=0.10, ELBO=-322150.06, deltaELBO=2.749 (0.00005372%), Factors=8\n",
      "Iteration 116: time=0.09, ELBO=-322147.33, deltaELBO=2.736 (0.00005347%), Factors=8\n",
      "Iteration 117: time=0.09, ELBO=-322144.67, deltaELBO=2.659 (0.00005196%), Factors=8\n",
      "Iteration 118: time=0.10, ELBO=-322142.11, deltaELBO=2.559 (0.00005001%), Factors=8\n",
      "Iteration 119: time=0.10, ELBO=-322139.59, deltaELBO=2.518 (0.00004922%), Factors=8\n",
      "Iteration 120: time=0.09, ELBO=-322137.04, deltaELBO=2.546 (0.00004975%), Factors=8\n",
      "Iteration 121: time=0.10, ELBO=-322134.28, deltaELBO=2.764 (0.00005401%), Factors=8\n",
      "Iteration 122: time=0.10, ELBO=-322130.60, deltaELBO=3.678 (0.00007187%), Factors=8\n",
      "Iteration 123: time=0.09, ELBO=-322126.01, deltaELBO=4.596 (0.00008981%), Factors=8\n",
      "Iteration 124: time=0.10, ELBO=-322122.58, deltaELBO=3.427 (0.00006697%), Factors=8\n",
      "Iteration 125: time=0.09, ELBO=-322119.58, deltaELBO=2.996 (0.00005856%), Factors=8\n",
      "Iteration 126: time=0.10, ELBO=-322116.69, deltaELBO=2.897 (0.00005662%), Factors=8\n",
      "Iteration 127: time=0.10, ELBO=-322113.90, deltaELBO=2.786 (0.00005445%), Factors=8\n",
      "Iteration 128: time=0.09, ELBO=-322111.29, deltaELBO=2.607 (0.00005094%), Factors=8\n",
      "Iteration 129: time=0.10, ELBO=-322108.97, deltaELBO=2.325 (0.00004544%), Factors=8\n",
      "Iteration 130: time=0.10, ELBO=-322106.93, deltaELBO=2.039 (0.00003985%), Factors=8\n",
      "Iteration 131: time=0.09, ELBO=-322105.08, deltaELBO=1.853 (0.00003621%), Factors=8\n",
      "Iteration 132: time=0.10, ELBO=-322103.34, deltaELBO=1.740 (0.00003400%), Factors=8\n",
      "Iteration 133: time=0.09, ELBO=-322101.67, deltaELBO=1.668 (0.00003259%), Factors=8\n",
      "Iteration 134: time=0.09, ELBO=-322100.05, deltaELBO=1.623 (0.00003171%), Factors=8\n",
      "Iteration 135: time=0.10, ELBO=-322098.45, deltaELBO=1.595 (0.00003118%), Factors=8\n",
      "Iteration 136: time=0.10, ELBO=-322096.87, deltaELBO=1.579 (0.00003087%), Factors=8\n",
      "Iteration 137: time=0.10, ELBO=-322095.30, deltaELBO=1.568 (0.00003065%), Factors=8\n",
      "Iteration 138: time=0.10, ELBO=-322093.75, deltaELBO=1.555 (0.00003038%), Factors=8\n",
      "Iteration 139: time=0.10, ELBO=-322092.22, deltaELBO=1.533 (0.00002997%), Factors=8\n",
      "Iteration 140: time=0.09, ELBO=-322090.71, deltaELBO=1.505 (0.00002941%), Factors=8\n",
      "Iteration 141: time=0.09, ELBO=-322089.24, deltaELBO=1.475 (0.00002883%), Factors=8\n",
      "Iteration 142: time=0.09, ELBO=-322087.79, deltaELBO=1.449 (0.00002831%), Factors=8\n",
      "Iteration 143: time=0.09, ELBO=-322086.36, deltaELBO=1.427 (0.00002789%), Factors=8\n",
      "Iteration 144: time=0.10, ELBO=-322084.95, deltaELBO=1.410 (0.00002755%), Factors=8\n",
      "Iteration 145: time=0.09, ELBO=-322083.56, deltaELBO=1.396 (0.00002728%), Factors=8\n",
      "Iteration 146: time=0.10, ELBO=-322082.17, deltaELBO=1.384 (0.00002704%), Factors=8\n",
      "Iteration 147: time=0.10, ELBO=-322080.80, deltaELBO=1.373 (0.00002683%), Factors=8\n",
      "Iteration 148: time=0.10, ELBO=-322079.44, deltaELBO=1.363 (0.00002663%), Factors=8\n",
      "Iteration 149: time=0.09, ELBO=-322078.08, deltaELBO=1.353 (0.00002645%), Factors=8\n",
      "Iteration 150: time=0.09, ELBO=-322076.74, deltaELBO=1.345 (0.00002629%), Factors=8\n",
      "Iteration 151: time=0.10, ELBO=-322075.40, deltaELBO=1.338 (0.00002614%), Factors=8\n",
      "Iteration 152: time=0.10, ELBO=-322074.07, deltaELBO=1.331 (0.00002601%), Factors=8\n",
      "Iteration 153: time=0.10, ELBO=-322072.74, deltaELBO=1.326 (0.00002590%), Factors=8\n",
      "Iteration 154: time=0.10, ELBO=-322071.42, deltaELBO=1.321 (0.00002581%), Factors=8\n",
      "Iteration 155: time=0.10, ELBO=-322070.11, deltaELBO=1.316 (0.00002573%), Factors=8\n",
      "Iteration 156: time=0.10, ELBO=-322068.79, deltaELBO=1.313 (0.00002566%), Factors=8\n",
      "Iteration 157: time=0.18, ELBO=-322067.48, deltaELBO=1.309 (0.00002559%), Factors=8\n",
      "Iteration 158: time=0.09, ELBO=-322066.18, deltaELBO=1.306 (0.00002553%), Factors=8\n",
      "Iteration 159: time=0.10, ELBO=-322064.87, deltaELBO=1.303 (0.00002547%), Factors=8\n",
      "Iteration 160: time=0.10, ELBO=-322063.57, deltaELBO=1.300 (0.00002541%), Factors=8\n",
      "Iteration 161: time=0.10, ELBO=-322062.28, deltaELBO=1.298 (0.00002536%), Factors=8\n",
      "Iteration 162: time=0.10, ELBO=-322060.98, deltaELBO=1.295 (0.00002530%), Factors=8\n",
      "Iteration 163: time=0.10, ELBO=-322059.69, deltaELBO=1.292 (0.00002524%), Factors=8\n",
      "Iteration 164: time=0.10, ELBO=-322058.40, deltaELBO=1.289 (0.00002519%), Factors=8\n",
      "Iteration 165: time=0.09, ELBO=-322057.12, deltaELBO=1.286 (0.00002513%), Factors=8\n",
      "Iteration 166: time=0.10, ELBO=-322055.83, deltaELBO=1.283 (0.00002507%), Factors=8\n",
      "Iteration 167: time=0.09, ELBO=-322054.55, deltaELBO=1.280 (0.00002501%), Factors=8\n",
      "Iteration 168: time=0.09, ELBO=-322053.28, deltaELBO=1.277 (0.00002495%), Factors=8\n",
      "Iteration 169: time=0.10, ELBO=-322052.00, deltaELBO=1.274 (0.00002489%), Factors=8\n",
      "Iteration 170: time=0.10, ELBO=-322050.73, deltaELBO=1.271 (0.00002484%), Factors=8\n",
      "Iteration 171: time=0.09, ELBO=-322049.46, deltaELBO=1.268 (0.00002479%), Factors=8\n",
      "Iteration 172: time=0.10, ELBO=-322048.20, deltaELBO=1.266 (0.00002474%), Factors=8\n",
      "Iteration 173: time=0.09, ELBO=-322046.93, deltaELBO=1.263 (0.00002469%), Factors=8\n",
      "Iteration 174: time=0.09, ELBO=-322045.67, deltaELBO=1.261 (0.00002464%), Factors=8\n",
      "Iteration 175: time=0.10, ELBO=-322044.41, deltaELBO=1.259 (0.00002460%), Factors=8\n",
      "Iteration 176: time=0.10, ELBO=-322043.16, deltaELBO=1.257 (0.00002457%), Factors=8\n",
      "Iteration 177: time=0.09, ELBO=-322041.90, deltaELBO=1.255 (0.00002454%), Factors=8\n",
      "Iteration 178: time=0.10, ELBO=-322040.65, deltaELBO=1.254 (0.00002451%), Factors=8\n",
      "Iteration 179: time=0.09, ELBO=-322039.39, deltaELBO=1.253 (0.00002449%), Factors=8\n",
      "Iteration 180: time=0.10, ELBO=-322038.14, deltaELBO=1.252 (0.00002447%), Factors=8\n",
      "Iteration 181: time=0.10, ELBO=-322036.89, deltaELBO=1.252 (0.00002446%), Factors=8\n",
      "Iteration 182: time=0.10, ELBO=-322035.64, deltaELBO=1.251 (0.00002446%), Factors=8\n",
      "Iteration 183: time=0.10, ELBO=-322034.39, deltaELBO=1.252 (0.00002446%), Factors=8\n",
      "Iteration 184: time=0.10, ELBO=-322033.14, deltaELBO=1.252 (0.00002447%), Factors=8\n",
      "Iteration 185: time=0.09, ELBO=-322031.88, deltaELBO=1.253 (0.00002449%), Factors=8\n",
      "Iteration 186: time=0.10, ELBO=-322030.63, deltaELBO=1.255 (0.00002453%), Factors=8\n",
      "Iteration 187: time=0.10, ELBO=-322029.37, deltaELBO=1.258 (0.00002458%), Factors=8\n",
      "Iteration 188: time=0.09, ELBO=-322028.11, deltaELBO=1.261 (0.00002465%), Factors=8\n",
      "Iteration 189: time=0.10, ELBO=-322026.84, deltaELBO=1.266 (0.00002473%), Factors=8\n",
      "Iteration 190: time=0.10, ELBO=-322025.57, deltaELBO=1.271 (0.00002485%), Factors=8\n",
      "Iteration 191: time=0.10, ELBO=-322024.29, deltaELBO=1.279 (0.00002500%), Factors=8\n",
      "Iteration 192: time=0.09, ELBO=-322023.00, deltaELBO=1.289 (0.00002518%), Factors=8\n",
      "Iteration 193: time=0.09, ELBO=-322021.70, deltaELBO=1.301 (0.00002543%), Factors=8\n",
      "Iteration 194: time=0.10, ELBO=-322020.39, deltaELBO=1.317 (0.00002573%), Factors=8\n",
      "Iteration 195: time=0.10, ELBO=-322019.05, deltaELBO=1.337 (0.00002612%), Factors=8\n",
      "Iteration 196: time=0.10, ELBO=-322017.69, deltaELBO=1.362 (0.00002661%), Factors=8\n",
      "Iteration 197: time=0.10, ELBO=-322016.29, deltaELBO=1.393 (0.00002722%), Factors=8\n",
      "Iteration 198: time=0.18, ELBO=-322014.86, deltaELBO=1.431 (0.00002796%), Factors=8\n",
      "Iteration 199: time=0.09, ELBO=-322013.39, deltaELBO=1.477 (0.00002886%), Factors=8\n",
      "Iteration 200: time=0.11, ELBO=-322011.86, deltaELBO=1.530 (0.00002990%), Factors=8\n",
      "Iteration 201: time=0.09, ELBO=-322010.27, deltaELBO=1.588 (0.00003103%), Factors=8\n",
      "Iteration 202: time=0.10, ELBO=-322008.62, deltaELBO=1.648 (0.00003221%), Factors=8\n",
      "Iteration 203: time=0.09, ELBO=-322006.91, deltaELBO=1.706 (0.00003335%), Factors=8\n",
      "Iteration 204: time=0.09, ELBO=-322005.16, deltaELBO=1.759 (0.00003439%), Factors=8\n",
      "Iteration 205: time=0.09, ELBO=-322003.35, deltaELBO=1.807 (0.00003531%), Factors=8\n",
      "Iteration 206: time=0.10, ELBO=-322001.50, deltaELBO=1.850 (0.00003616%), Factors=8\n",
      "Iteration 207: time=0.09, ELBO=-321999.60, deltaELBO=1.894 (0.00003702%), Factors=8\n",
      "Iteration 208: time=0.09, ELBO=-321997.66, deltaELBO=1.945 (0.00003800%), Factors=8\n",
      "Iteration 209: time=0.10, ELBO=-321995.65, deltaELBO=2.006 (0.00003919%), Factors=8\n",
      "Iteration 210: time=0.10, ELBO=-321993.57, deltaELBO=2.081 (0.00004067%), Factors=8\n",
      "Iteration 211: time=0.10, ELBO=-321991.40, deltaELBO=2.171 (0.00004244%), Factors=8\n",
      "Iteration 212: time=0.09, ELBO=-321989.13, deltaELBO=2.272 (0.00004440%), Factors=8\n",
      "Iteration 213: time=0.13, ELBO=-321986.76, deltaELBO=2.367 (0.00004625%), Factors=8\n",
      "Iteration 214: time=0.09, ELBO=-321984.33, deltaELBO=2.429 (0.00004747%), Factors=8\n",
      "Iteration 215: time=0.10, ELBO=-321981.91, deltaELBO=2.426 (0.00004741%), Factors=8\n",
      "Iteration 216: time=0.10, ELBO=-321979.57, deltaELBO=2.343 (0.00004579%), Factors=8\n",
      "Iteration 217: time=0.09, ELBO=-321977.36, deltaELBO=2.201 (0.00004301%), Factors=8\n",
      "Iteration 218: time=0.10, ELBO=-321975.32, deltaELBO=2.043 (0.00003993%), Factors=8\n",
      "Iteration 219: time=0.10, ELBO=-321973.42, deltaELBO=1.905 (0.00003724%), Factors=8\n",
      "Iteration 220: time=0.10, ELBO=-321971.61, deltaELBO=1.802 (0.00003521%), Factors=8\n",
      "Iteration 221: time=0.10, ELBO=-321969.88, deltaELBO=1.731 (0.00003383%), Factors=8\n",
      "Iteration 222: time=0.09, ELBO=-321968.20, deltaELBO=1.686 (0.00003295%), Factors=8\n",
      "Iteration 223: time=0.19, ELBO=-321966.54, deltaELBO=1.658 (0.00003241%), Factors=8\n",
      "Iteration 224: time=0.10, ELBO=-321964.90, deltaELBO=1.641 (0.00003207%), Factors=8\n",
      "Iteration 225: time=0.10, ELBO=-321963.27, deltaELBO=1.631 (0.00003187%), Factors=8\n",
      "Iteration 226: time=0.09, ELBO=-321961.64, deltaELBO=1.623 (0.00003173%), Factors=8\n",
      "Iteration 227: time=0.10, ELBO=-321960.03, deltaELBO=1.618 (0.00003162%), Factors=8\n",
      "Iteration 228: time=0.10, ELBO=-321958.41, deltaELBO=1.613 (0.00003152%), Factors=8\n",
      "Iteration 229: time=0.09, ELBO=-321956.81, deltaELBO=1.607 (0.00003141%), Factors=8\n",
      "Iteration 230: time=0.10, ELBO=-321955.20, deltaELBO=1.602 (0.00003130%), Factors=8\n",
      "Iteration 231: time=0.10, ELBO=-321953.61, deltaELBO=1.595 (0.00003117%), Factors=8\n",
      "Iteration 232: time=0.10, ELBO=-321952.02, deltaELBO=1.588 (0.00003104%), Factors=8\n",
      "Iteration 233: time=0.09, ELBO=-321950.44, deltaELBO=1.580 (0.00003088%), Factors=8\n",
      "Iteration 234: time=0.10, ELBO=-321948.87, deltaELBO=1.572 (0.00003072%), Factors=8\n",
      "Iteration 235: time=0.09, ELBO=-321947.31, deltaELBO=1.563 (0.00003054%), Factors=8\n",
      "Iteration 236: time=0.10, ELBO=-321945.75, deltaELBO=1.553 (0.00003035%), Factors=8\n",
      "Iteration 237: time=0.09, ELBO=-321944.21, deltaELBO=1.543 (0.00003015%), Factors=8\n",
      "Iteration 238: time=0.09, ELBO=-321942.68, deltaELBO=1.532 (0.00002994%), Factors=8\n",
      "Iteration 239: time=0.09, ELBO=-321941.16, deltaELBO=1.521 (0.00002972%), Factors=8\n",
      "Iteration 240: time=0.11, ELBO=-321939.65, deltaELBO=1.509 (0.00002949%), Factors=8\n",
      "Iteration 241: time=0.09, ELBO=-321938.15, deltaELBO=1.497 (0.00002925%), Factors=8\n",
      "Iteration 242: time=0.09, ELBO=-321936.67, deltaELBO=1.484 (0.00002900%), Factors=8\n",
      "Iteration 243: time=0.10, ELBO=-321935.20, deltaELBO=1.471 (0.00002874%), Factors=8\n",
      "Iteration 244: time=0.10, ELBO=-321933.74, deltaELBO=1.457 (0.00002847%), Factors=8\n",
      "Iteration 245: time=0.09, ELBO=-321932.30, deltaELBO=1.442 (0.00002819%), Factors=8\n",
      "Iteration 246: time=0.10, ELBO=-321930.87, deltaELBO=1.428 (0.00002790%), Factors=8\n",
      "Iteration 247: time=0.09, ELBO=-321929.46, deltaELBO=1.413 (0.00002761%), Factors=8\n",
      "Iteration 248: time=0.10, ELBO=-321928.06, deltaELBO=1.398 (0.00002731%), Factors=8\n",
      "Iteration 249: time=0.10, ELBO=-321926.68, deltaELBO=1.382 (0.00002701%), Factors=8\n",
      "Iteration 250: time=0.09, ELBO=-321925.31, deltaELBO=1.367 (0.00002671%), Factors=8\n",
      "Iteration 251: time=0.10, ELBO=-321923.96, deltaELBO=1.352 (0.00002641%), Factors=8\n",
      "Iteration 252: time=0.09, ELBO=-321922.62, deltaELBO=1.336 (0.00002611%), Factors=8\n",
      "Iteration 253: time=0.10, ELBO=-321921.30, deltaELBO=1.321 (0.00002582%), Factors=8\n",
      "Iteration 254: time=0.10, ELBO=-321919.99, deltaELBO=1.306 (0.00002553%), Factors=8\n",
      "Iteration 255: time=0.10, ELBO=-321918.70, deltaELBO=1.292 (0.00002524%), Factors=8\n",
      "Iteration 256: time=0.10, ELBO=-321917.42, deltaELBO=1.278 (0.00002497%), Factors=8\n",
      "Iteration 257: time=0.10, ELBO=-321916.16, deltaELBO=1.264 (0.00002471%), Factors=8\n",
      "Iteration 258: time=0.09, ELBO=-321914.91, deltaELBO=1.252 (0.00002446%), Factors=8\n",
      "Iteration 259: time=0.09, ELBO=-321913.67, deltaELBO=1.240 (0.00002423%), Factors=8\n",
      "Iteration 260: time=0.10, ELBO=-321912.44, deltaELBO=1.229 (0.00002402%), Factors=8\n",
      "Iteration 261: time=0.10, ELBO=-321911.22, deltaELBO=1.220 (0.00002384%), Factors=8\n",
      "Iteration 262: time=0.09, ELBO=-321910.01, deltaELBO=1.212 (0.00002369%), Factors=8\n",
      "Iteration 263: time=0.10, ELBO=-321908.80, deltaELBO=1.207 (0.00002359%), Factors=8\n",
      "Iteration 264: time=0.09, ELBO=-321907.60, deltaELBO=1.205 (0.00002355%), Factors=8\n",
      "Iteration 265: time=0.10, ELBO=-321906.39, deltaELBO=1.207 (0.00002358%), Factors=8\n",
      "Iteration 266: time=0.10, ELBO=-321905.17, deltaELBO=1.214 (0.00002373%), Factors=8\n",
      "Iteration 267: time=0.10, ELBO=-321903.95, deltaELBO=1.229 (0.00002402%), Factors=8\n",
      "Iteration 268: time=0.09, ELBO=-321902.69, deltaELBO=1.255 (0.00002453%), Factors=8\n",
      "Iteration 269: time=0.10, ELBO=-321901.39, deltaELBO=1.296 (0.00002533%), Factors=8\n",
      "Iteration 270: time=0.09, ELBO=-321900.04, deltaELBO=1.355 (0.00002647%), Factors=8\n",
      "Iteration 271: time=0.10, ELBO=-321898.61, deltaELBO=1.428 (0.00002791%), Factors=8\n",
      "Iteration 272: time=0.10, ELBO=-321897.10, deltaELBO=1.507 (0.00002944%), Factors=8\n",
      "Iteration 273: time=0.10, ELBO=-321895.53, deltaELBO=1.578 (0.00003084%), Factors=8\n",
      "Iteration 274: time=0.10, ELBO=-321893.89, deltaELBO=1.639 (0.00003204%), Factors=8\n",
      "Iteration 275: time=0.10, ELBO=-321892.19, deltaELBO=1.696 (0.00003315%), Factors=8\n",
      "Iteration 276: time=0.10, ELBO=-321890.44, deltaELBO=1.750 (0.00003421%), Factors=8\n",
      "Iteration 277: time=0.10, ELBO=-321888.64, deltaELBO=1.797 (0.00003513%), Factors=8\n",
      "Iteration 278: time=0.10, ELBO=-321886.81, deltaELBO=1.837 (0.00003589%), Factors=8\n",
      "Iteration 279: time=0.10, ELBO=-321884.94, deltaELBO=1.866 (0.00003646%), Factors=8\n",
      "Iteration 280: time=0.10, ELBO=-321883.06, deltaELBO=1.878 (0.00003670%), Factors=8\n",
      "Iteration 281: time=0.10, ELBO=-321881.15, deltaELBO=1.913 (0.00003739%), Factors=8\n",
      "Iteration 282: time=0.10, ELBO=-321879.01, deltaELBO=2.139 (0.00004180%), Factors=8\n",
      "Iteration 283: time=0.10, ELBO=-321876.10, deltaELBO=2.908 (0.00005683%), Factors=8\n",
      "Iteration 284: time=0.10, ELBO=-321871.98, deltaELBO=4.120 (0.00008053%), Factors=8\n",
      "Iteration 285: time=0.10, ELBO=-321868.45, deltaELBO=3.530 (0.00006899%), Factors=8\n",
      "Iteration 286: time=0.10, ELBO=-321866.57, deltaELBO=1.886 (0.00003685%), Factors=8\n",
      "Iteration 287: time=0.10, ELBO=-321865.38, deltaELBO=1.188 (0.00002322%), Factors=8\n",
      "Iteration 288: time=0.19, ELBO=-321864.36, deltaELBO=1.018 (0.00001989%), Factors=8\n",
      "Iteration 289: time=0.09, ELBO=-321863.37, deltaELBO=0.987 (0.00001929%), Factors=8\n",
      "Iteration 290: time=0.10, ELBO=-321862.39, deltaELBO=0.984 (0.00001923%), Factors=8\n",
      "Iteration 291: time=0.10, ELBO=-321861.41, deltaELBO=0.983 (0.00001922%), Factors=8\n",
      "Iteration 292: time=0.09, ELBO=-321860.42, deltaELBO=0.982 (0.00001918%), Factors=8\n",
      "Iteration 293: time=0.10, ELBO=-321859.45, deltaELBO=0.979 (0.00001914%), Factors=8\n",
      "Iteration 294: time=0.09, ELBO=-321858.47, deltaELBO=0.977 (0.00001909%), Factors=8\n",
      "Iteration 295: time=0.10, ELBO=-321857.49, deltaELBO=0.975 (0.00001905%), Factors=8\n",
      "Iteration 296: time=0.10, ELBO=-321856.52, deltaELBO=0.973 (0.00001902%), Factors=8\n",
      "Iteration 297: time=0.10, ELBO=-321855.55, deltaELBO=0.972 (0.00001899%), Factors=8\n",
      "Iteration 298: time=0.09, ELBO=-321854.58, deltaELBO=0.971 (0.00001898%), Factors=8\n",
      "Iteration 299: time=0.10, ELBO=-321853.61, deltaELBO=0.971 (0.00001897%), Factors=8\n",
      "Iteration 300: time=0.10, ELBO=-321852.64, deltaELBO=0.970 (0.00001897%), Factors=8\n",
      "Iteration 301: time=0.10, ELBO=-321851.67, deltaELBO=0.970 (0.00001897%), Factors=8\n",
      "Iteration 302: time=0.10, ELBO=-321850.70, deltaELBO=0.971 (0.00001897%), Factors=8\n",
      "Iteration 303: time=0.09, ELBO=-321849.72, deltaELBO=0.971 (0.00001897%), Factors=8\n",
      "Iteration 304: time=0.10, ELBO=-321848.75, deltaELBO=0.971 (0.00001898%), Factors=8\n",
      "Iteration 305: time=0.09, ELBO=-321847.78, deltaELBO=0.972 (0.00001899%), Factors=8\n",
      "Iteration 306: time=0.10, ELBO=-321846.81, deltaELBO=0.973 (0.00001901%), Factors=8\n",
      "Iteration 307: time=0.19, ELBO=-321845.84, deltaELBO=0.973 (0.00001902%), Factors=8\n",
      "Iteration 308: time=0.09, ELBO=-321844.86, deltaELBO=0.974 (0.00001904%), Factors=8\n",
      "Iteration 309: time=0.10, ELBO=-321843.89, deltaELBO=0.975 (0.00001906%), Factors=8\n",
      "Iteration 310: time=0.10, ELBO=-321842.91, deltaELBO=0.977 (0.00001909%), Factors=8\n",
      "Iteration 311: time=0.10, ELBO=-321841.93, deltaELBO=0.978 (0.00001911%), Factors=8\n",
      "Iteration 312: time=0.09, ELBO=-321840.95, deltaELBO=0.979 (0.00001914%), Factors=8\n",
      "Iteration 313: time=0.10, ELBO=-321839.97, deltaELBO=0.981 (0.00001917%), Factors=8\n",
      "Iteration 314: time=0.09, ELBO=-321838.99, deltaELBO=0.982 (0.00001920%), Factors=8\n",
      "Iteration 315: time=0.09, ELBO=-321838.00, deltaELBO=0.984 (0.00001924%), Factors=8\n",
      "Iteration 316: time=0.10, ELBO=-321837.02, deltaELBO=0.986 (0.00001927%), Factors=8\n",
      "Iteration 317: time=0.09, ELBO=-321836.03, deltaELBO=0.988 (0.00001931%), Factors=8\n",
      "Iteration 318: time=0.09, ELBO=-321835.04, deltaELBO=0.990 (0.00001935%), Factors=8\n",
      "Iteration 319: time=0.09, ELBO=-321834.05, deltaELBO=0.993 (0.00001940%), Factors=8\n",
      "Iteration 320: time=0.10, ELBO=-321833.05, deltaELBO=0.995 (0.00001945%), Factors=8\n",
      "Iteration 321: time=0.09, ELBO=-321832.05, deltaELBO=0.998 (0.00001950%), Factors=8\n",
      "Iteration 322: time=0.10, ELBO=-321831.05, deltaELBO=1.000 (0.00001955%), Factors=8\n",
      "Iteration 323: time=0.09, ELBO=-321830.05, deltaELBO=1.003 (0.00001961%), Factors=8\n",
      "Iteration 324: time=0.10, ELBO=-321829.04, deltaELBO=1.007 (0.00001967%), Factors=8\n",
      "Iteration 325: time=0.09, ELBO=-321828.03, deltaELBO=1.010 (0.00001974%), Factors=8\n",
      "Iteration 326: time=0.10, ELBO=-321827.02, deltaELBO=1.014 (0.00001981%), Factors=8\n",
      "Iteration 327: time=0.09, ELBO=-321826.00, deltaELBO=1.018 (0.00001989%), Factors=8\n",
      "Iteration 328: time=0.10, ELBO=-321824.98, deltaELBO=1.022 (0.00001998%), Factors=8\n",
      "Iteration 329: time=0.09, ELBO=-321823.95, deltaELBO=1.027 (0.00002008%), Factors=8\n",
      "Iteration 330: time=0.09, ELBO=-321822.92, deltaELBO=1.033 (0.00002018%), Factors=8\n",
      "Iteration 331: time=0.09, ELBO=-321821.88, deltaELBO=1.039 (0.00002030%), Factors=8\n",
      "Iteration 332: time=0.10, ELBO=-321820.84, deltaELBO=1.045 (0.00002043%), Factors=8\n",
      "Iteration 333: time=0.10, ELBO=-321819.78, deltaELBO=1.052 (0.00002056%), Factors=8\n",
      "Iteration 334: time=0.10, ELBO=-321818.72, deltaELBO=1.060 (0.00002071%), Factors=8\n",
      "Iteration 335: time=0.09, ELBO=-321817.66, deltaELBO=1.068 (0.00002087%), Factors=8\n",
      "Iteration 336: time=0.09, ELBO=-321816.58, deltaELBO=1.077 (0.00002104%), Factors=8\n",
      "Iteration 337: time=0.10, ELBO=-321815.49, deltaELBO=1.086 (0.00002122%), Factors=8\n",
      "Iteration 338: time=0.09, ELBO=-321814.40, deltaELBO=1.095 (0.00002140%), Factors=8\n",
      "Iteration 339: time=0.09, ELBO=-321813.29, deltaELBO=1.104 (0.00002158%), Factors=8\n",
      "Iteration 340: time=0.10, ELBO=-321812.18, deltaELBO=1.113 (0.00002176%), Factors=8\n",
      "Iteration 341: time=0.10, ELBO=-321811.06, deltaELBO=1.122 (0.00002194%), Factors=8\n",
      "Iteration 342: time=0.10, ELBO=-321809.93, deltaELBO=1.131 (0.00002210%), Factors=8\n",
      "Iteration 343: time=0.10, ELBO=-321808.79, deltaELBO=1.139 (0.00002226%), Factors=8\n",
      "Iteration 344: time=0.10, ELBO=-321807.64, deltaELBO=1.146 (0.00002240%), Factors=8\n",
      "Iteration 345: time=0.10, ELBO=-321806.49, deltaELBO=1.152 (0.00002252%), Factors=8\n",
      "Iteration 346: time=0.19, ELBO=-321805.33, deltaELBO=1.157 (0.00002262%), Factors=8\n",
      "Iteration 347: time=0.10, ELBO=-321804.17, deltaELBO=1.161 (0.00002270%), Factors=8\n",
      "Iteration 348: time=0.10, ELBO=-321803.01, deltaELBO=1.165 (0.00002276%), Factors=8\n",
      "Iteration 349: time=0.10, ELBO=-321801.84, deltaELBO=1.167 (0.00002280%), Factors=8\n",
      "Iteration 350: time=0.11, ELBO=-321800.67, deltaELBO=1.167 (0.00002282%), Factors=8\n",
      "Iteration 351: time=0.09, ELBO=-321799.51, deltaELBO=1.167 (0.00002282%), Factors=8\n",
      "Iteration 352: time=0.10, ELBO=-321798.34, deltaELBO=1.167 (0.00002280%), Factors=8\n",
      "Iteration 353: time=0.09, ELBO=-321797.17, deltaELBO=1.165 (0.00002276%), Factors=8\n",
      "Iteration 354: time=0.10, ELBO=-321796.01, deltaELBO=1.162 (0.00002271%), Factors=8\n",
      "Iteration 355: time=0.09, ELBO=-321794.85, deltaELBO=1.159 (0.00002265%), Factors=8\n",
      "Iteration 356: time=0.10, ELBO=-321793.70, deltaELBO=1.155 (0.00002258%), Factors=8\n",
      "Iteration 357: time=0.09, ELBO=-321792.55, deltaELBO=1.151 (0.00002249%), Factors=8\n",
      "Iteration 358: time=0.10, ELBO=-321791.40, deltaELBO=1.146 (0.00002240%), Factors=8\n",
      "Iteration 359: time=0.09, ELBO=-321790.26, deltaELBO=1.141 (0.00002231%), Factors=8\n",
      "Iteration 360: time=0.09, ELBO=-321789.12, deltaELBO=1.136 (0.00002220%), Factors=8\n",
      "Iteration 361: time=0.10, ELBO=-321787.99, deltaELBO=1.131 (0.00002210%), Factors=8\n",
      "Iteration 362: time=0.10, ELBO=-321786.87, deltaELBO=1.125 (0.00002199%), Factors=8\n",
      "Iteration 363: time=0.10, ELBO=-321785.75, deltaELBO=1.120 (0.00002188%), Factors=8\n",
      "Iteration 364: time=0.09, ELBO=-321784.63, deltaELBO=1.114 (0.00002177%), Factors=8\n",
      "Iteration 365: time=0.10, ELBO=-321783.52, deltaELBO=1.108 (0.00002166%), Factors=8\n",
      "Iteration 366: time=0.10, ELBO=-321782.42, deltaELBO=1.103 (0.00002155%), Factors=8\n",
      "Iteration 367: time=0.11, ELBO=-321781.32, deltaELBO=1.098 (0.00002145%), Factors=8\n",
      "Iteration 368: time=0.09, ELBO=-321780.23, deltaELBO=1.092 (0.00002135%), Factors=8\n",
      "Iteration 369: time=0.10, ELBO=-321779.14, deltaELBO=1.087 (0.00002125%), Factors=8\n",
      "Iteration 370: time=0.10, ELBO=-321778.06, deltaELBO=1.082 (0.00002115%), Factors=8\n",
      "Iteration 371: time=0.10, ELBO=-321776.98, deltaELBO=1.078 (0.00002106%), Factors=8\n",
      "Iteration 372: time=0.10, ELBO=-321775.91, deltaELBO=1.073 (0.00002098%), Factors=8\n",
      "Iteration 373: time=0.10, ELBO=-321774.84, deltaELBO=1.069 (0.00002089%), Factors=8\n",
      "Iteration 374: time=0.11, ELBO=-321773.78, deltaELBO=1.065 (0.00002082%), Factors=8\n",
      "Iteration 375: time=0.11, ELBO=-321772.71, deltaELBO=1.062 (0.00002074%), Factors=8\n",
      "Iteration 376: time=0.10, ELBO=-321771.66, deltaELBO=1.058 (0.00002068%), Factors=8\n",
      "Iteration 377: time=0.10, ELBO=-321770.60, deltaELBO=1.055 (0.00002062%), Factors=8\n",
      "Iteration 378: time=0.10, ELBO=-321769.55, deltaELBO=1.052 (0.00002056%), Factors=8\n",
      "Iteration 379: time=0.10, ELBO=-321768.50, deltaELBO=1.049 (0.00002051%), Factors=8\n",
      "Iteration 380: time=0.09, ELBO=-321767.45, deltaELBO=1.047 (0.00002046%), Factors=8\n",
      "Iteration 381: time=0.10, ELBO=-321766.41, deltaELBO=1.045 (0.00002042%), Factors=8\n",
      "Iteration 382: time=0.10, ELBO=-321765.37, deltaELBO=1.043 (0.00002038%), Factors=8\n",
      "Iteration 383: time=0.09, ELBO=-321764.32, deltaELBO=1.041 (0.00002035%), Factors=8\n",
      "Iteration 384: time=0.10, ELBO=-321763.28, deltaELBO=1.040 (0.00002032%), Factors=8\n",
      "Iteration 385: time=0.09, ELBO=-321762.25, deltaELBO=1.038 (0.00002029%), Factors=8\n",
      "Iteration 386: time=0.10, ELBO=-321761.21, deltaELBO=1.037 (0.00002027%), Factors=8\n",
      "Iteration 387: time=0.10, ELBO=-321760.17, deltaELBO=1.036 (0.00002025%), Factors=8\n",
      "Iteration 388: time=0.09, ELBO=-321759.14, deltaELBO=1.035 (0.00002023%), Factors=8\n",
      "Iteration 389: time=0.18, ELBO=-321758.10, deltaELBO=1.034 (0.00002022%), Factors=8\n",
      "Iteration 390: time=0.10, ELBO=-321757.07, deltaELBO=1.034 (0.00002020%), Factors=8\n",
      "Iteration 391: time=0.10, ELBO=-321756.04, deltaELBO=1.033 (0.00002018%), Factors=8\n",
      "Iteration 392: time=0.11, ELBO=-321755.01, deltaELBO=1.032 (0.00002016%), Factors=8\n",
      "Iteration 393: time=0.10, ELBO=-321753.97, deltaELBO=1.030 (0.00002014%), Factors=8\n",
      "Iteration 394: time=0.10, ELBO=-321752.95, deltaELBO=1.029 (0.00002011%), Factors=8\n",
      "Iteration 395: time=0.10, ELBO=-321751.92, deltaELBO=1.028 (0.00002008%), Factors=8\n",
      "Iteration 396: time=0.09, ELBO=-321750.89, deltaELBO=1.026 (0.00002005%), Factors=8\n",
      "Iteration 397: time=0.09, ELBO=-321749.87, deltaELBO=1.024 (0.00002001%), Factors=8\n",
      "Iteration 398: time=0.09, ELBO=-321748.85, deltaELBO=1.022 (0.00001996%), Factors=8\n",
      "Iteration 399: time=0.19, ELBO=-321747.83, deltaELBO=1.019 (0.00001991%), Factors=8\n",
      "Iteration 400: time=0.10, ELBO=-321746.81, deltaELBO=1.016 (0.00001986%), Factors=8\n",
      "Iteration 401: time=0.10, ELBO=-321745.80, deltaELBO=1.013 (0.00001980%), Factors=8\n",
      "Iteration 402: time=0.09, ELBO=-321744.79, deltaELBO=1.010 (0.00001974%), Factors=8\n",
      "Iteration 403: time=0.10, ELBO=-321743.78, deltaELBO=1.007 (0.00001968%), Factors=8\n",
      "Iteration 404: time=0.09, ELBO=-321742.78, deltaELBO=1.003 (0.00001961%), Factors=8\n",
      "Iteration 405: time=0.10, ELBO=-321741.78, deltaELBO=1.000 (0.00001954%), Factors=8\n",
      "Iteration 406: time=0.09, ELBO=-321740.78, deltaELBO=0.997 (0.00001948%), Factors=8\n",
      "Iteration 407: time=0.10, ELBO=-321739.79, deltaELBO=0.993 (0.00001941%), Factors=8\n",
      "Iteration 408: time=0.10, ELBO=-321738.80, deltaELBO=0.990 (0.00001935%), Factors=8\n",
      "Iteration 409: time=0.09, ELBO=-321737.81, deltaELBO=0.987 (0.00001929%), Factors=8\n",
      "Iteration 410: time=0.09, ELBO=-321736.83, deltaELBO=0.984 (0.00001924%), Factors=8\n",
      "Iteration 411: time=0.10, ELBO=-321735.84, deltaELBO=0.982 (0.00001919%), Factors=8\n",
      "Iteration 412: time=0.09, ELBO=-321734.87, deltaELBO=0.980 (0.00001914%), Factors=8\n",
      "Iteration 413: time=0.10, ELBO=-321733.89, deltaELBO=0.978 (0.00001911%), Factors=8\n",
      "Iteration 414: time=0.10, ELBO=-321732.91, deltaELBO=0.976 (0.00001908%), Factors=8\n",
      "Iteration 415: time=0.10, ELBO=-321731.94, deltaELBO=0.975 (0.00001906%), Factors=8\n",
      "Iteration 416: time=0.10, ELBO=-321730.96, deltaELBO=0.975 (0.00001905%), Factors=8\n",
      "Iteration 417: time=0.09, ELBO=-321729.99, deltaELBO=0.975 (0.00001905%), Factors=8\n",
      "Iteration 418: time=0.10, ELBO=-321729.01, deltaELBO=0.975 (0.00001906%), Factors=8\n",
      "Iteration 419: time=0.09, ELBO=-321728.04, deltaELBO=0.976 (0.00001907%), Factors=8\n",
      "Iteration 420: time=0.09, ELBO=-321727.06, deltaELBO=0.977 (0.00001910%), Factors=8\n",
      "Iteration 421: time=0.10, ELBO=-321726.08, deltaELBO=0.979 (0.00001914%), Factors=8\n",
      "Iteration 422: time=0.09, ELBO=-321725.10, deltaELBO=0.982 (0.00001919%), Factors=8\n",
      "Iteration 423: time=0.09, ELBO=-321724.11, deltaELBO=0.985 (0.00001925%), Factors=8\n",
      "Iteration 424: time=0.09, ELBO=-321723.12, deltaELBO=0.989 (0.00001933%), Factors=8\n",
      "Iteration 425: time=0.10, ELBO=-321722.13, deltaELBO=0.994 (0.00001943%), Factors=8\n",
      "Iteration 426: time=0.10, ELBO=-321721.13, deltaELBO=1.001 (0.00001956%), Factors=8\n",
      "Iteration 427: time=0.10, ELBO=-321720.12, deltaELBO=1.010 (0.00001973%), Factors=8\n",
      "Iteration 428: time=0.09, ELBO=-321719.09, deltaELBO=1.022 (0.00001998%), Factors=8\n",
      "Iteration 429: time=0.09, ELBO=-321718.05, deltaELBO=1.040 (0.00002033%), Factors=8\n",
      "Iteration 430: time=0.09, ELBO=-321716.99, deltaELBO=1.069 (0.00002088%), Factors=8\n",
      "Iteration 431: time=0.10, ELBO=-321715.87, deltaELBO=1.113 (0.00002176%), Factors=8\n",
      "Iteration 432: time=0.09, ELBO=-321714.68, deltaELBO=1.188 (0.00002321%), Factors=8\n",
      "Iteration 433: time=0.09, ELBO=-321713.37, deltaELBO=1.315 (0.00002570%), Factors=8\n",
      "Iteration 434: time=0.10, ELBO=-321711.83, deltaELBO=1.542 (0.00003013%), Factors=8\n",
      "Iteration 435: time=0.10, ELBO=-321709.78, deltaELBO=2.047 (0.00004001%), Factors=8\n",
      "Iteration 436: time=0.09, ELBO=-321705.37, deltaELBO=4.413 (0.00008625%), Factors=8\n",
      "Iteration 437: time=0.09, ELBO=-321682.55, deltaELBO=22.818 (0.00044592%), Factors=8\n",
      "Iteration 438: time=0.10, ELBO=-321641.42, deltaELBO=41.133 (0.00080384%), Factors=8\n",
      "Iteration 439: time=0.10, ELBO=-321633.36, deltaELBO=8.053 (0.00015738%), Factors=8\n",
      "Iteration 440: time=0.10, ELBO=-321631.04, deltaELBO=2.322 (0.00004537%), Factors=8\n",
      "Iteration 441: time=0.09, ELBO=-321629.70, deltaELBO=1.339 (0.00002616%), Factors=8\n",
      "Iteration 442: time=0.10, ELBO=-321628.69, deltaELBO=1.015 (0.00001984%), Factors=8\n",
      "Iteration 443: time=0.09, ELBO=-321627.80, deltaELBO=0.885 (0.00001730%), Factors=8\n",
      "Iteration 444: time=0.09, ELBO=-321626.98, deltaELBO=0.819 (0.00001601%), Factors=8\n",
      "Iteration 445: time=0.10, ELBO=-321626.20, deltaELBO=0.783 (0.00001531%), Factors=8\n",
      "Iteration 446: time=0.10, ELBO=-321625.44, deltaELBO=0.765 (0.00001494%), Factors=8\n",
      "Iteration 447: time=0.09, ELBO=-321624.68, deltaELBO=0.755 (0.00001476%), Factors=8\n",
      "Iteration 448: time=0.10, ELBO=-321623.93, deltaELBO=0.752 (0.00001469%), Factors=8\n",
      "Iteration 449: time=0.17, ELBO=-321623.18, deltaELBO=0.751 (0.00001467%), Factors=8\n",
      "Iteration 450: time=0.11, ELBO=-321622.43, deltaELBO=0.752 (0.00001469%), Factors=8\n",
      "Iteration 451: time=0.10, ELBO=-321621.67, deltaELBO=0.754 (0.00001473%), Factors=8\n",
      "Iteration 452: time=0.10, ELBO=-321620.92, deltaELBO=0.757 (0.00001479%), Factors=8\n",
      "Iteration 453: time=0.09, ELBO=-321620.16, deltaELBO=0.760 (0.00001486%), Factors=8\n",
      "Iteration 454: time=0.09, ELBO=-321619.39, deltaELBO=0.764 (0.00001493%), Factors=8\n",
      "Iteration 455: time=0.10, ELBO=-321618.62, deltaELBO=0.768 (0.00001501%), Factors=8\n",
      "Iteration 456: time=0.18, ELBO=-321617.85, deltaELBO=0.772 (0.00001509%), Factors=8\n",
      "Iteration 457: time=0.09, ELBO=-321617.07, deltaELBO=0.777 (0.00001518%), Factors=8\n",
      "Iteration 458: time=0.10, ELBO=-321616.29, deltaELBO=0.781 (0.00001526%), Factors=8\n",
      "Iteration 459: time=0.09, ELBO=-321615.51, deltaELBO=0.785 (0.00001535%), Factors=8\n",
      "Iteration 460: time=0.11, ELBO=-321614.72, deltaELBO=0.790 (0.00001543%), Factors=8\n",
      "Iteration 461: time=0.11, ELBO=-321613.92, deltaELBO=0.794 (0.00001552%), Factors=8\n",
      "Iteration 462: time=0.10, ELBO=-321613.13, deltaELBO=0.799 (0.00001560%), Factors=8\n",
      "Iteration 463: time=0.10, ELBO=-321612.32, deltaELBO=0.803 (0.00001569%), Factors=8\n",
      "Iteration 464: time=0.11, ELBO=-321611.52, deltaELBO=0.807 (0.00001578%), Factors=8\n",
      "Iteration 465: time=0.10, ELBO=-321610.70, deltaELBO=0.812 (0.00001587%), Factors=8\n",
      "Iteration 466: time=0.10, ELBO=-321609.89, deltaELBO=0.817 (0.00001596%), Factors=8\n",
      "Iteration 467: time=0.09, ELBO=-321609.07, deltaELBO=0.821 (0.00001605%), Factors=8\n",
      "Iteration 468: time=0.10, ELBO=-321608.24, deltaELBO=0.826 (0.00001614%), Factors=8\n",
      "Iteration 469: time=0.09, ELBO=-321607.41, deltaELBO=0.831 (0.00001623%), Factors=8\n",
      "Iteration 470: time=0.09, ELBO=-321606.57, deltaELBO=0.835 (0.00001633%), Factors=8\n",
      "Iteration 471: time=0.10, ELBO=-321605.73, deltaELBO=0.840 (0.00001642%), Factors=8\n",
      "Iteration 472: time=0.09, ELBO=-321604.89, deltaELBO=0.845 (0.00001652%), Factors=8\n",
      "Iteration 473: time=0.09, ELBO=-321604.04, deltaELBO=0.850 (0.00001662%), Factors=8\n",
      "Iteration 474: time=0.10, ELBO=-321603.18, deltaELBO=0.856 (0.00001672%), Factors=8\n",
      "Iteration 475: time=0.11, ELBO=-321602.32, deltaELBO=0.861 (0.00001683%), Factors=8\n",
      "Iteration 476: time=0.10, ELBO=-321601.45, deltaELBO=0.866 (0.00001693%), Factors=8\n",
      "Iteration 477: time=0.09, ELBO=-321600.58, deltaELBO=0.872 (0.00001704%), Factors=8\n",
      "Iteration 478: time=0.09, ELBO=-321599.71, deltaELBO=0.877 (0.00001714%), Factors=8\n",
      "Iteration 479: time=0.10, ELBO=-321598.82, deltaELBO=0.883 (0.00001725%), Factors=8\n",
      "Iteration 480: time=0.09, ELBO=-321597.93, deltaELBO=0.888 (0.00001736%), Factors=8\n",
      "Iteration 481: time=0.09, ELBO=-321597.04, deltaELBO=0.894 (0.00001747%), Factors=8\n",
      "Iteration 482: time=0.09, ELBO=-321596.14, deltaELBO=0.899 (0.00001757%), Factors=8\n",
      "Iteration 483: time=0.09, ELBO=-321595.24, deltaELBO=0.904 (0.00001767%), Factors=8\n",
      "Iteration 484: time=0.10, ELBO=-321594.33, deltaELBO=0.909 (0.00001777%), Factors=8\n",
      "Iteration 485: time=0.10, ELBO=-321593.41, deltaELBO=0.914 (0.00001787%), Factors=8\n",
      "Iteration 486: time=0.09, ELBO=-321592.49, deltaELBO=0.919 (0.00001796%), Factors=8\n",
      "Iteration 487: time=0.09, ELBO=-321591.57, deltaELBO=0.923 (0.00001804%), Factors=8\n",
      "Iteration 488: time=0.10, ELBO=-321590.64, deltaELBO=0.927 (0.00001812%), Factors=8\n",
      "Iteration 489: time=0.09, ELBO=-321589.71, deltaELBO=0.931 (0.00001820%), Factors=8\n",
      "Iteration 490: time=0.09, ELBO=-321588.78, deltaELBO=0.935 (0.00001827%), Factors=8\n",
      "Iteration 491: time=0.10, ELBO=-321587.84, deltaELBO=0.939 (0.00001834%), Factors=8\n",
      "Iteration 492: time=0.10, ELBO=-321586.90, deltaELBO=0.942 (0.00001841%), Factors=8\n",
      "Iteration 493: time=0.10, ELBO=-321585.95, deltaELBO=0.946 (0.00001848%), Factors=8\n",
      "Iteration 494: time=0.10, ELBO=-321585.00, deltaELBO=0.949 (0.00001855%), Factors=8\n",
      "Iteration 495: time=0.10, ELBO=-321584.05, deltaELBO=0.953 (0.00001863%), Factors=8\n",
      "Iteration 496: time=0.10, ELBO=-321583.09, deltaELBO=0.957 (0.00001871%), Factors=8\n",
      "Iteration 497: time=0.10, ELBO=-321582.13, deltaELBO=0.962 (0.00001880%), Factors=8\n",
      "Iteration 498: time=0.18, ELBO=-321581.16, deltaELBO=0.967 (0.00001890%), Factors=8\n",
      "Iteration 499: time=0.09, ELBO=-321580.19, deltaELBO=0.973 (0.00001902%), Factors=8\n",
      "Iteration 500: time=0.11, ELBO=-321579.21, deltaELBO=0.980 (0.00001916%), Factors=8\n",
      "Iteration 501: time=0.09, ELBO=-321578.22, deltaELBO=0.989 (0.00001932%), Factors=8\n",
      "Iteration 502: time=0.09, ELBO=-321577.22, deltaELBO=0.998 (0.00001950%), Factors=8\n",
      "Iteration 503: time=0.09, ELBO=-321576.21, deltaELBO=1.008 (0.00001970%), Factors=8\n",
      "Iteration 504: time=0.09, ELBO=-321575.20, deltaELBO=1.019 (0.00001991%), Factors=8\n",
      "Iteration 505: time=0.10, ELBO=-321574.16, deltaELBO=1.031 (0.00002015%), Factors=8\n",
      "Iteration 506: time=0.09, ELBO=-321573.12, deltaELBO=1.044 (0.00002040%), Factors=8\n",
      "Iteration 507: time=0.09, ELBO=-321572.06, deltaELBO=1.057 (0.00002065%), Factors=8\n",
      "Iteration 508: time=0.10, ELBO=-321570.99, deltaELBO=1.070 (0.00002090%), Factors=8\n",
      "Iteration 509: time=0.10, ELBO=-321569.91, deltaELBO=1.082 (0.00002115%), Factors=8\n",
      "Iteration 510: time=0.09, ELBO=-321568.82, deltaELBO=1.095 (0.00002140%), Factors=8\n",
      "Iteration 511: time=0.10, ELBO=-321567.71, deltaELBO=1.108 (0.00002164%), Factors=8\n",
      "Iteration 512: time=0.09, ELBO=-321566.59, deltaELBO=1.121 (0.00002191%), Factors=8\n",
      "Iteration 513: time=0.09, ELBO=-321565.45, deltaELBO=1.137 (0.00002222%), Factors=8\n",
      "Iteration 514: time=0.09, ELBO=-321564.30, deltaELBO=1.156 (0.00002260%), Factors=8\n",
      "Iteration 515: time=0.10, ELBO=-321563.11, deltaELBO=1.180 (0.00002306%), Factors=8\n",
      "Iteration 516: time=0.19, ELBO=-321561.91, deltaELBO=1.209 (0.00002363%), Factors=8\n",
      "Iteration 517: time=0.09, ELBO=-321560.66, deltaELBO=1.243 (0.00002428%), Factors=8\n",
      "Iteration 518: time=0.11, ELBO=-321559.39, deltaELBO=1.278 (0.00002498%), Factors=8\n",
      "Iteration 519: time=0.09, ELBO=-321558.07, deltaELBO=1.311 (0.00002563%), Factors=8\n",
      "Iteration 520: time=0.10, ELBO=-321556.74, deltaELBO=1.338 (0.00002614%), Factors=8\n",
      "Iteration 521: time=0.10, ELBO=-321555.38, deltaELBO=1.353 (0.00002644%), Factors=8\n",
      "Iteration 522: time=0.09, ELBO=-321554.03, deltaELBO=1.357 (0.00002651%), Factors=8\n",
      "Iteration 523: time=0.09, ELBO=-321552.67, deltaELBO=1.354 (0.00002647%), Factors=8\n",
      "Iteration 524: time=0.10, ELBO=-321551.31, deltaELBO=1.359 (0.00002655%), Factors=8\n",
      "Iteration 525: time=0.10, ELBO=-321549.91, deltaELBO=1.399 (0.00002733%), Factors=8\n",
      "Iteration 526: time=0.09, ELBO=-321548.36, deltaELBO=1.557 (0.00003043%), Factors=8\n",
      "Iteration 527: time=0.09, ELBO=-321546.34, deltaELBO=2.017 (0.00003942%), Factors=8\n",
      "Iteration 528: time=0.10, ELBO=-321543.81, deltaELBO=2.533 (0.00004951%), Factors=8\n",
      "Iteration 529: time=0.10, ELBO=-321541.61, deltaELBO=2.198 (0.00004295%), Factors=8\n",
      "Iteration 530: time=0.09, ELBO=-321540.00, deltaELBO=1.606 (0.00003138%), Factors=8\n",
      "Iteration 531: time=0.10, ELBO=-321538.75, deltaELBO=1.252 (0.00002447%), Factors=8\n",
      "Iteration 532: time=0.09, ELBO=-321537.68, deltaELBO=1.077 (0.00002104%), Factors=8\n",
      "Iteration 533: time=0.10, ELBO=-321536.68, deltaELBO=0.991 (0.00001938%), Factors=8\n",
      "Iteration 534: time=0.10, ELBO=-321535.74, deltaELBO=0.948 (0.00001852%), Factors=8\n",
      "Iteration 535: time=0.10, ELBO=-321534.81, deltaELBO=0.923 (0.00001804%), Factors=8\n",
      "Iteration 536: time=0.10, ELBO=-321533.91, deltaELBO=0.908 (0.00001774%), Factors=8\n",
      "Iteration 537: time=0.09, ELBO=-321533.01, deltaELBO=0.897 (0.00001754%), Factors=8\n",
      "Iteration 538: time=0.09, ELBO=-321532.12, deltaELBO=0.890 (0.00001739%), Factors=8\n",
      "Iteration 539: time=0.10, ELBO=-321531.23, deltaELBO=0.884 (0.00001727%), Factors=8\n",
      "Iteration 540: time=0.09, ELBO=-321530.36, deltaELBO=0.879 (0.00001718%), Factors=8\n",
      "Iteration 541: time=0.09, ELBO=-321529.48, deltaELBO=0.875 (0.00001711%), Factors=8\n",
      "Iteration 542: time=0.10, ELBO=-321528.61, deltaELBO=0.873 (0.00001706%), Factors=8\n",
      "Iteration 543: time=0.09, ELBO=-321527.74, deltaELBO=0.871 (0.00001702%), Factors=8\n",
      "Iteration 544: time=0.09, ELBO=-321526.87, deltaELBO=0.870 (0.00001699%), Factors=8\n",
      "Iteration 545: time=0.11, ELBO=-321526.00, deltaELBO=0.869 (0.00001698%), Factors=8\n",
      "Iteration 546: time=0.09, ELBO=-321525.13, deltaELBO=0.869 (0.00001698%), Factors=8\n",
      "Iteration 547: time=0.09, ELBO=-321524.26, deltaELBO=0.869 (0.00001698%), Factors=8\n",
      "Iteration 548: time=0.17, ELBO=-321523.39, deltaELBO=0.870 (0.00001699%), Factors=8\n",
      "Iteration 549: time=0.10, ELBO=-321522.52, deltaELBO=0.870 (0.00001701%), Factors=8\n",
      "Iteration 550: time=0.10, ELBO=-321521.65, deltaELBO=0.871 (0.00001703%), Factors=8\n",
      "Iteration 551: time=0.10, ELBO=-321520.78, deltaELBO=0.873 (0.00001705%), Factors=8\n",
      "Iteration 552: time=0.09, ELBO=-321519.90, deltaELBO=0.874 (0.00001708%), Factors=8\n",
      "Iteration 553: time=0.09, ELBO=-321519.03, deltaELBO=0.875 (0.00001711%), Factors=8\n",
      "Iteration 554: time=0.10, ELBO=-321518.15, deltaELBO=0.877 (0.00001714%), Factors=8\n",
      "Iteration 555: time=0.10, ELBO=-321517.27, deltaELBO=0.878 (0.00001717%), Factors=8\n",
      "Iteration 556: time=0.10, ELBO=-321516.39, deltaELBO=0.880 (0.00001720%), Factors=8\n",
      "Iteration 557: time=0.10, ELBO=-321515.51, deltaELBO=0.882 (0.00001723%), Factors=8\n",
      "Iteration 558: time=0.10, ELBO=-321514.63, deltaELBO=0.883 (0.00001726%), Factors=8\n",
      "Iteration 559: time=0.09, ELBO=-321513.74, deltaELBO=0.885 (0.00001729%), Factors=8\n",
      "Iteration 560: time=0.09, ELBO=-321512.86, deltaELBO=0.886 (0.00001732%), Factors=8\n",
      "Iteration 561: time=0.09, ELBO=-321511.97, deltaELBO=0.887 (0.00001734%), Factors=8\n",
      "Iteration 562: time=0.10, ELBO=-321511.08, deltaELBO=0.889 (0.00001737%), Factors=8\n",
      "Iteration 563: time=0.09, ELBO=-321510.19, deltaELBO=0.890 (0.00001740%), Factors=8\n",
      "Iteration 564: time=0.09, ELBO=-321509.30, deltaELBO=0.891 (0.00001742%), Factors=8\n",
      "Iteration 565: time=0.10, ELBO=-321508.41, deltaELBO=0.893 (0.00001745%), Factors=8\n",
      "Iteration 566: time=0.10, ELBO=-321507.51, deltaELBO=0.894 (0.00001747%), Factors=8\n",
      "Iteration 567: time=0.10, ELBO=-321506.62, deltaELBO=0.895 (0.00001749%), Factors=8\n",
      "Iteration 568: time=0.09, ELBO=-321505.72, deltaELBO=0.896 (0.00001751%), Factors=8\n",
      "Iteration 569: time=0.17, ELBO=-321504.82, deltaELBO=0.897 (0.00001753%), Factors=8\n",
      "Iteration 570: time=0.09, ELBO=-321503.93, deltaELBO=0.898 (0.00001755%), Factors=8\n",
      "Iteration 571: time=0.10, ELBO=-321503.03, deltaELBO=0.899 (0.00001757%), Factors=8\n",
      "Iteration 572: time=0.10, ELBO=-321502.13, deltaELBO=0.900 (0.00001758%), Factors=8\n",
      "Iteration 573: time=0.09, ELBO=-321501.23, deltaELBO=0.901 (0.00001760%), Factors=8\n",
      "Iteration 574: time=0.10, ELBO=-321500.33, deltaELBO=0.901 (0.00001761%), Factors=8\n",
      "Iteration 575: time=0.09, ELBO=-321499.42, deltaELBO=0.902 (0.00001763%), Factors=8\n",
      "Iteration 576: time=0.10, ELBO=-321498.52, deltaELBO=0.903 (0.00001764%), Factors=8\n",
      "Iteration 577: time=0.09, ELBO=-321497.62, deltaELBO=0.903 (0.00001765%), Factors=8\n",
      "Iteration 578: time=0.10, ELBO=-321496.71, deltaELBO=0.904 (0.00001767%), Factors=8\n",
      "Iteration 579: time=0.10, ELBO=-321495.81, deltaELBO=0.905 (0.00001768%), Factors=8\n",
      "Iteration 580: time=0.09, ELBO=-321494.90, deltaELBO=0.905 (0.00001769%), Factors=8\n",
      "Iteration 581: time=0.10, ELBO=-321494.00, deltaELBO=0.906 (0.00001770%), Factors=8\n",
      "Iteration 582: time=0.10, ELBO=-321493.09, deltaELBO=0.906 (0.00001771%), Factors=8\n",
      "Iteration 583: time=0.09, ELBO=-321492.18, deltaELBO=0.907 (0.00001772%), Factors=8\n",
      "Iteration 584: time=0.10, ELBO=-321491.28, deltaELBO=0.907 (0.00001773%), Factors=8\n",
      "Iteration 585: time=0.09, ELBO=-321490.37, deltaELBO=0.908 (0.00001774%), Factors=8\n",
      "Iteration 586: time=0.09, ELBO=-321489.46, deltaELBO=0.908 (0.00001775%), Factors=8\n",
      "Iteration 587: time=0.09, ELBO=-321488.55, deltaELBO=0.909 (0.00001776%), Factors=8\n",
      "Iteration 588: time=0.10, ELBO=-321487.64, deltaELBO=0.909 (0.00001777%), Factors=8\n",
      "Iteration 589: time=0.10, ELBO=-321486.73, deltaELBO=0.910 (0.00001778%), Factors=8\n",
      "Iteration 590: time=0.10, ELBO=-321485.82, deltaELBO=0.911 (0.00001779%), Factors=8\n",
      "Iteration 591: time=0.10, ELBO=-321484.91, deltaELBO=0.911 (0.00001780%), Factors=8\n",
      "Iteration 592: time=0.09, ELBO=-321484.00, deltaELBO=0.912 (0.00001782%), Factors=8\n",
      "Iteration 593: time=0.10, ELBO=-321483.09, deltaELBO=0.912 (0.00001783%), Factors=8\n",
      "Iteration 594: time=0.09, ELBO=-321482.17, deltaELBO=0.913 (0.00001784%), Factors=8\n",
      "Iteration 595: time=0.10, ELBO=-321481.26, deltaELBO=0.913 (0.00001785%), Factors=8\n",
      "Iteration 596: time=0.09, ELBO=-321480.35, deltaELBO=0.914 (0.00001786%), Factors=8\n",
      "Iteration 597: time=0.18, ELBO=-321479.43, deltaELBO=0.915 (0.00001787%), Factors=8\n",
      "Iteration 598: time=0.09, ELBO=-321478.52, deltaELBO=0.915 (0.00001788%), Factors=8\n",
      "Iteration 599: time=0.09, ELBO=-321477.60, deltaELBO=0.916 (0.00001790%), Factors=8\n",
      "Iteration 600: time=0.10, ELBO=-321476.69, deltaELBO=0.916 (0.00001791%), Factors=8\n",
      "Iteration 601: time=0.10, ELBO=-321475.77, deltaELBO=0.917 (0.00001792%), Factors=8\n",
      "Iteration 602: time=0.10, ELBO=-321474.85, deltaELBO=0.918 (0.00001793%), Factors=8\n",
      "Iteration 603: time=0.09, ELBO=-321473.93, deltaELBO=0.918 (0.00001794%), Factors=8\n",
      "Iteration 604: time=0.09, ELBO=-321473.01, deltaELBO=0.919 (0.00001796%), Factors=8\n",
      "Iteration 605: time=0.10, ELBO=-321472.09, deltaELBO=0.919 (0.00001797%), Factors=8\n",
      "Iteration 606: time=0.09, ELBO=-321471.17, deltaELBO=0.920 (0.00001798%), Factors=8\n",
      "Iteration 607: time=0.10, ELBO=-321470.25, deltaELBO=0.921 (0.00001799%), Factors=8\n",
      "Iteration 608: time=0.09, ELBO=-321469.33, deltaELBO=0.921 (0.00001800%), Factors=8\n",
      "Iteration 609: time=0.09, ELBO=-321468.41, deltaELBO=0.922 (0.00001801%), Factors=8\n",
      "Iteration 610: time=0.09, ELBO=-321467.49, deltaELBO=0.922 (0.00001802%), Factors=8\n",
      "Iteration 611: time=0.10, ELBO=-321466.57, deltaELBO=0.923 (0.00001803%), Factors=8\n",
      "Iteration 612: time=0.09, ELBO=-321465.64, deltaELBO=0.923 (0.00001804%), Factors=8\n",
      "Iteration 613: time=0.10, ELBO=-321464.72, deltaELBO=0.924 (0.00001805%), Factors=8\n",
      "Iteration 614: time=0.09, ELBO=-321463.80, deltaELBO=0.924 (0.00001806%), Factors=8\n",
      "Iteration 615: time=0.09, ELBO=-321462.87, deltaELBO=0.925 (0.00001807%), Factors=8\n",
      "Iteration 616: time=0.18, ELBO=-321461.95, deltaELBO=0.925 (0.00001808%), Factors=8\n",
      "Iteration 617: time=0.10, ELBO=-321461.02, deltaELBO=0.926 (0.00001809%), Factors=8\n",
      "Iteration 618: time=0.10, ELBO=-321460.09, deltaELBO=0.926 (0.00001810%), Factors=8\n",
      "Iteration 619: time=0.09, ELBO=-321459.17, deltaELBO=0.926 (0.00001810%), Factors=8\n",
      "Iteration 620: time=0.09, ELBO=-321458.24, deltaELBO=0.927 (0.00001811%), Factors=8\n",
      "Iteration 621: time=0.10, ELBO=-321457.31, deltaELBO=0.927 (0.00001812%), Factors=8\n",
      "Iteration 622: time=0.10, ELBO=-321456.39, deltaELBO=0.928 (0.00001813%), Factors=8\n",
      "Iteration 623: time=0.10, ELBO=-321455.46, deltaELBO=0.928 (0.00001814%), Factors=8\n",
      "Iteration 624: time=0.09, ELBO=-321454.53, deltaELBO=0.929 (0.00001815%), Factors=8\n",
      "Iteration 625: time=0.10, ELBO=-321453.60, deltaELBO=0.929 (0.00001815%), Factors=8\n",
      "Iteration 626: time=0.09, ELBO=-321452.67, deltaELBO=0.929 (0.00001816%), Factors=8\n",
      "Iteration 627: time=0.10, ELBO=-321451.74, deltaELBO=0.930 (0.00001817%), Factors=8\n",
      "Iteration 628: time=0.09, ELBO=-321450.81, deltaELBO=0.930 (0.00001818%), Factors=8\n",
      "Iteration 629: time=0.09, ELBO=-321449.88, deltaELBO=0.931 (0.00001819%), Factors=8\n",
      "Iteration 630: time=0.09, ELBO=-321448.95, deltaELBO=0.931 (0.00001820%), Factors=8\n",
      "Iteration 631: time=0.10, ELBO=-321448.02, deltaELBO=0.932 (0.00001821%), Factors=8\n",
      "Iteration 632: time=0.09, ELBO=-321447.08, deltaELBO=0.933 (0.00001822%), Factors=8\n",
      "Iteration 633: time=0.10, ELBO=-321446.15, deltaELBO=0.933 (0.00001824%), Factors=8\n",
      "Iteration 634: time=0.09, ELBO=-321445.22, deltaELBO=0.934 (0.00001825%), Factors=8\n",
      "Iteration 635: time=0.10, ELBO=-321444.28, deltaELBO=0.934 (0.00001826%), Factors=8\n",
      "Iteration 636: time=0.14, ELBO=-321443.35, deltaELBO=0.935 (0.00001827%), Factors=8\n",
      "Iteration 637: time=0.20, ELBO=-321442.41, deltaELBO=0.936 (0.00001829%), Factors=8\n",
      "Iteration 638: time=0.16, ELBO=-321441.48, deltaELBO=0.936 (0.00001830%), Factors=8\n",
      "Iteration 639: time=0.13, ELBO=-321440.54, deltaELBO=0.937 (0.00001832%), Factors=8\n",
      "Iteration 640: time=0.12, ELBO=-321439.60, deltaELBO=0.938 (0.00001833%), Factors=8\n",
      "Iteration 641: time=0.10, ELBO=-321438.66, deltaELBO=0.939 (0.00001835%), Factors=8\n",
      "Iteration 642: time=0.10, ELBO=-321437.72, deltaELBO=0.940 (0.00001836%), Factors=8\n",
      "Iteration 643: time=0.20, ELBO=-321436.78, deltaELBO=0.940 (0.00001838%), Factors=8\n",
      "Iteration 644: time=0.09, ELBO=-321435.84, deltaELBO=0.941 (0.00001840%), Factors=8\n",
      "Iteration 645: time=0.10, ELBO=-321434.90, deltaELBO=0.942 (0.00001842%), Factors=8\n",
      "Iteration 646: time=0.09, ELBO=-321433.95, deltaELBO=0.943 (0.00001843%), Factors=8\n",
      "Iteration 647: time=0.10, ELBO=-321433.01, deltaELBO=0.944 (0.00001845%), Factors=8\n",
      "Iteration 648: time=0.09, ELBO=-321432.07, deltaELBO=0.945 (0.00001847%), Factors=8\n",
      "Iteration 649: time=0.11, ELBO=-321431.12, deltaELBO=0.946 (0.00001849%), Factors=8\n",
      "Iteration 650: time=0.10, ELBO=-321430.17, deltaELBO=0.947 (0.00001852%), Factors=8\n",
      "Iteration 651: time=0.11, ELBO=-321429.22, deltaELBO=0.949 (0.00001854%), Factors=8\n",
      "Iteration 652: time=0.10, ELBO=-321428.27, deltaELBO=0.950 (0.00001856%), Factors=8\n",
      "Iteration 653: time=0.09, ELBO=-321427.32, deltaELBO=0.951 (0.00001858%), Factors=8\n",
      "Iteration 654: time=0.10, ELBO=-321426.37, deltaELBO=0.952 (0.00001861%), Factors=8\n",
      "Iteration 655: time=0.10, ELBO=-321425.42, deltaELBO=0.953 (0.00001863%), Factors=8\n",
      "Iteration 656: time=0.11, ELBO=-321424.46, deltaELBO=0.955 (0.00001866%), Factors=8\n",
      "Iteration 657: time=0.12, ELBO=-321423.51, deltaELBO=0.956 (0.00001868%), Factors=8\n",
      "Iteration 658: time=0.12, ELBO=-321422.55, deltaELBO=0.957 (0.00001871%), Factors=8\n",
      "Iteration 659: time=0.12, ELBO=-321421.59, deltaELBO=0.959 (0.00001874%), Factors=8\n",
      "Iteration 660: time=0.10, ELBO=-321420.63, deltaELBO=0.960 (0.00001877%), Factors=8\n",
      "Iteration 661: time=0.10, ELBO=-321419.67, deltaELBO=0.962 (0.00001880%), Factors=8\n",
      "Iteration 662: time=0.09, ELBO=-321418.70, deltaELBO=0.963 (0.00001883%), Factors=8\n",
      "Iteration 663: time=0.18, ELBO=-321417.74, deltaELBO=0.965 (0.00001886%), Factors=8\n",
      "Iteration 664: time=0.10, ELBO=-321416.77, deltaELBO=0.967 (0.00001889%), Factors=8\n",
      "Iteration 665: time=0.10, ELBO=-321415.80, deltaELBO=0.968 (0.00001893%), Factors=8\n",
      "Iteration 666: time=0.10, ELBO=-321414.83, deltaELBO=0.970 (0.00001896%), Factors=8\n",
      "Iteration 667: time=0.10, ELBO=-321413.86, deltaELBO=0.972 (0.00001900%), Factors=8\n",
      "Iteration 668: time=0.10, ELBO=-321412.89, deltaELBO=0.974 (0.00001903%), Factors=8\n",
      "Iteration 669: time=0.10, ELBO=-321411.91, deltaELBO=0.976 (0.00001907%), Factors=8\n",
      "Iteration 670: time=0.10, ELBO=-321410.93, deltaELBO=0.978 (0.00001911%), Factors=8\n",
      "Iteration 671: time=0.11, ELBO=-321409.95, deltaELBO=0.980 (0.00001915%), Factors=8\n",
      "Iteration 672: time=0.12, ELBO=-321408.97, deltaELBO=0.982 (0.00001919%), Factors=8\n",
      "Iteration 673: time=0.10, ELBO=-321407.99, deltaELBO=0.984 (0.00001923%), Factors=8\n",
      "Iteration 674: time=0.10, ELBO=-321407.00, deltaELBO=0.986 (0.00001928%), Factors=8\n",
      "Iteration 675: time=0.10, ELBO=-321406.01, deltaELBO=0.989 (0.00001932%), Factors=8\n",
      "Iteration 676: time=0.10, ELBO=-321405.02, deltaELBO=0.991 (0.00001937%), Factors=8\n",
      "Iteration 677: time=0.10, ELBO=-321404.03, deltaELBO=0.994 (0.00001942%), Factors=8\n",
      "Iteration 678: time=0.10, ELBO=-321403.03, deltaELBO=0.996 (0.00001947%), Factors=8\n",
      "Iteration 679: time=0.10, ELBO=-321402.03, deltaELBO=0.999 (0.00001952%), Factors=8\n",
      "Iteration 680: time=0.09, ELBO=-321401.03, deltaELBO=1.002 (0.00001957%), Factors=8\n",
      "Iteration 681: time=0.10, ELBO=-321400.03, deltaELBO=1.005 (0.00001963%), Factors=8\n",
      "Iteration 682: time=0.10, ELBO=-321399.02, deltaELBO=1.007 (0.00001969%), Factors=8\n",
      "Iteration 683: time=0.10, ELBO=-321398.01, deltaELBO=1.011 (0.00001975%), Factors=8\n",
      "Iteration 684: time=0.10, ELBO=-321396.99, deltaELBO=1.014 (0.00001981%), Factors=8\n",
      "Iteration 685: time=0.09, ELBO=-321395.98, deltaELBO=1.017 (0.00001988%), Factors=8\n",
      "Iteration 686: time=0.09, ELBO=-321394.96, deltaELBO=1.021 (0.00001994%), Factors=8\n",
      "Iteration 687: time=0.10, ELBO=-321393.93, deltaELBO=1.024 (0.00002002%), Factors=8\n",
      "Iteration 688: time=0.10, ELBO=-321392.90, deltaELBO=1.028 (0.00002009%), Factors=8\n",
      "Iteration 689: time=0.09, ELBO=-321391.87, deltaELBO=1.032 (0.00002017%), Factors=8\n",
      "Iteration 690: time=0.17, ELBO=-321390.84, deltaELBO=1.036 (0.00002025%), Factors=8\n",
      "Iteration 691: time=0.09, ELBO=-321389.80, deltaELBO=1.040 (0.00002033%), Factors=8\n",
      "Iteration 692: time=0.10, ELBO=-321388.75, deltaELBO=1.045 (0.00002042%), Factors=8\n",
      "Iteration 693: time=0.10, ELBO=-321387.70, deltaELBO=1.049 (0.00002051%), Factors=8\n",
      "Iteration 694: time=0.10, ELBO=-321386.65, deltaELBO=1.054 (0.00002061%), Factors=8\n",
      "Iteration 695: time=0.10, ELBO=-321385.59, deltaELBO=1.060 (0.00002071%), Factors=8\n",
      "Iteration 696: time=0.10, ELBO=-321384.52, deltaELBO=1.065 (0.00002081%), Factors=8\n",
      "Iteration 697: time=0.10, ELBO=-321383.45, deltaELBO=1.071 (0.00002093%), Factors=8\n",
      "Iteration 698: time=0.09, ELBO=-321382.38, deltaELBO=1.077 (0.00002104%), Factors=8\n",
      "Iteration 699: time=0.09, ELBO=-321381.29, deltaELBO=1.083 (0.00002117%), Factors=8\n",
      "Iteration 700: time=0.10, ELBO=-321380.20, deltaELBO=1.090 (0.00002130%), Factors=8\n",
      "Iteration 701: time=0.10, ELBO=-321379.10, deltaELBO=1.097 (0.00002144%), Factors=8\n",
      "Iteration 702: time=0.09, ELBO=-321378.00, deltaELBO=1.105 (0.00002159%), Factors=8\n",
      "Iteration 703: time=0.09, ELBO=-321376.89, deltaELBO=1.113 (0.00002174%), Factors=8\n",
      "Iteration 704: time=0.09, ELBO=-321375.77, deltaELBO=1.121 (0.00002191%), Factors=8\n",
      "Iteration 705: time=0.09, ELBO=-321374.64, deltaELBO=1.130 (0.00002208%), Factors=8\n",
      "Iteration 706: time=0.10, ELBO=-321373.50, deltaELBO=1.140 (0.00002227%), Factors=8\n",
      "Iteration 707: time=0.18, ELBO=-321372.35, deltaELBO=1.150 (0.00002247%), Factors=8\n",
      "Iteration 708: time=0.10, ELBO=-321371.19, deltaELBO=1.161 (0.00002269%), Factors=8\n",
      "Iteration 709: time=0.10, ELBO=-321370.01, deltaELBO=1.173 (0.00002292%), Factors=8\n",
      "Iteration 710: time=0.10, ELBO=-321368.83, deltaELBO=1.186 (0.00002317%), Factors=8\n",
      "Iteration 711: time=0.09, ELBO=-321367.63, deltaELBO=1.200 (0.00002345%), Factors=8\n",
      "Iteration 712: time=0.09, ELBO=-321366.41, deltaELBO=1.215 (0.00002375%), Factors=8\n",
      "Iteration 713: time=0.10, ELBO=-321365.18, deltaELBO=1.232 (0.00002408%), Factors=8\n",
      "Iteration 714: time=0.09, ELBO=-321363.93, deltaELBO=1.251 (0.00002445%), Factors=8\n",
      "Iteration 715: time=0.09, ELBO=-321362.66, deltaELBO=1.273 (0.00002487%), Factors=8\n",
      "Iteration 716: time=0.09, ELBO=-321361.36, deltaELBO=1.297 (0.00002535%), Factors=8\n",
      "Iteration 717: time=0.09, ELBO=-321360.03, deltaELBO=1.326 (0.00002592%), Factors=8\n",
      "Iteration 718: time=0.09, ELBO=-321358.67, deltaELBO=1.361 (0.00002659%), Factors=8\n",
      "Iteration 719: time=0.10, ELBO=-321357.27, deltaELBO=1.403 (0.00002742%), Factors=8\n",
      "Iteration 720: time=0.10, ELBO=-321355.81, deltaELBO=1.458 (0.00002849%), Factors=8\n",
      "Iteration 721: time=0.09, ELBO=-321354.28, deltaELBO=1.531 (0.00002992%), Factors=8\n",
      "Iteration 722: time=0.09, ELBO=-321352.65, deltaELBO=1.634 (0.00003193%), Factors=8\n",
      "Iteration 723: time=0.10, ELBO=-321350.86, deltaELBO=1.782 (0.00003482%), Factors=8\n",
      "Iteration 724: time=0.09, ELBO=-321348.87, deltaELBO=1.993 (0.00003894%), Factors=8\n",
      "Iteration 725: time=0.10, ELBO=-321346.62, deltaELBO=2.255 (0.00004407%), Factors=8\n",
      "Iteration 726: time=0.09, ELBO=-321344.14, deltaELBO=2.478 (0.00004842%), Factors=8\n",
      "Iteration 727: time=0.09, ELBO=-321341.59, deltaELBO=2.547 (0.00004978%), Factors=8\n",
      "Iteration 728: time=0.10, ELBO=-321339.08, deltaELBO=2.510 (0.00004905%), Factors=8\n",
      "Iteration 729: time=0.10, ELBO=-321336.61, deltaELBO=2.472 (0.00004831%), Factors=8\n",
      "Iteration 730: time=0.11, ELBO=-321334.23, deltaELBO=2.375 (0.00004642%), Factors=8\n",
      "Iteration 731: time=0.10, ELBO=-321332.11, deltaELBO=2.127 (0.00004156%), Factors=8\n",
      "Iteration 732: time=0.10, ELBO=-321330.25, deltaELBO=1.859 (0.00003633%), Factors=8\n",
      "Iteration 733: time=0.09, ELBO=-321328.55, deltaELBO=1.695 (0.00003313%), Factors=8\n",
      "Iteration 734: time=0.10, ELBO=-321326.93, deltaELBO=1.625 (0.00003176%), Factors=8\n",
      "Iteration 735: time=0.09, ELBO=-321325.32, deltaELBO=1.605 (0.00003136%), Factors=8\n",
      "Iteration 736: time=0.32, ELBO=-321323.72, deltaELBO=1.606 (0.00003138%), Factors=8\n",
      "Iteration 737: time=0.17, ELBO=-321322.10, deltaELBO=1.614 (0.00003155%), Factors=8\n",
      "Iteration 738: time=0.14, ELBO=-321320.48, deltaELBO=1.624 (0.00003174%), Factors=8\n",
      "Iteration 739: time=0.16, ELBO=-321318.85, deltaELBO=1.632 (0.00003189%), Factors=8\n",
      "Iteration 740: time=0.12, ELBO=-321317.21, deltaELBO=1.633 (0.00003192%), Factors=8\n",
      "Iteration 741: time=0.12, ELBO=-321315.59, deltaELBO=1.627 (0.00003179%), Factors=8\n",
      "Iteration 742: time=0.15, ELBO=-321313.98, deltaELBO=1.611 (0.00003149%), Factors=8\n",
      "Iteration 743: time=0.12, ELBO=-321312.39, deltaELBO=1.587 (0.00003102%), Factors=8\n",
      "Iteration 744: time=0.12, ELBO=-321310.83, deltaELBO=1.557 (0.00003043%), Factors=8\n",
      "Iteration 745: time=0.11, ELBO=-321309.31, deltaELBO=1.523 (0.00002977%), Factors=8\n",
      "Iteration 746: time=0.12, ELBO=-321307.82, deltaELBO=1.489 (0.00002909%), Factors=8\n",
      "Iteration 747: time=0.14, ELBO=-321306.36, deltaELBO=1.456 (0.00002845%), Factors=8\n",
      "Iteration 748: time=0.13, ELBO=-321304.94, deltaELBO=1.425 (0.00002785%), Factors=8\n",
      "Iteration 749: time=0.15, ELBO=-321303.54, deltaELBO=1.398 (0.00002732%), Factors=8\n",
      "Iteration 750: time=0.15, ELBO=-321302.17, deltaELBO=1.375 (0.00002686%), Factors=8\n",
      "Iteration 751: time=0.23, ELBO=-321300.81, deltaELBO=1.355 (0.00002648%), Factors=8\n",
      "Iteration 752: time=0.12, ELBO=-321299.47, deltaELBO=1.339 (0.00002616%), Factors=8\n",
      "Iteration 753: time=0.12, ELBO=-321298.15, deltaELBO=1.325 (0.00002590%), Factors=8\n",
      "Iteration 754: time=0.11, ELBO=-321296.83, deltaELBO=1.315 (0.00002570%), Factors=8\n",
      "Iteration 755: time=0.15, ELBO=-321295.53, deltaELBO=1.307 (0.00002554%), Factors=8\n",
      "Iteration 756: time=0.18, ELBO=-321294.22, deltaELBO=1.301 (0.00002542%), Factors=8\n",
      "Iteration 757: time=0.20, ELBO=-321292.93, deltaELBO=1.297 (0.00002535%), Factors=8\n",
      "Iteration 758: time=0.14, ELBO=-321291.63, deltaELBO=1.295 (0.00002530%), Factors=8\n",
      "Iteration 759: time=0.12, ELBO=-321290.34, deltaELBO=1.294 (0.00002528%), Factors=8\n",
      "Iteration 760: time=0.13, ELBO=-321289.04, deltaELBO=1.294 (0.00002530%), Factors=8\n",
      "Iteration 761: time=0.15, ELBO=-321287.75, deltaELBO=1.296 (0.00002533%), Factors=8\n",
      "Iteration 762: time=0.14, ELBO=-321286.45, deltaELBO=1.299 (0.00002539%), Factors=8\n",
      "Iteration 763: time=0.11, ELBO=-321285.15, deltaELBO=1.304 (0.00002548%), Factors=8\n",
      "Iteration 764: time=0.11, ELBO=-321283.84, deltaELBO=1.309 (0.00002558%), Factors=8\n",
      "Iteration 765: time=0.12, ELBO=-321282.52, deltaELBO=1.316 (0.00002571%), Factors=8\n",
      "Iteration 766: time=0.10, ELBO=-321281.20, deltaELBO=1.323 (0.00002586%), Factors=8\n",
      "Iteration 767: time=0.10, ELBO=-321279.87, deltaELBO=1.332 (0.00002603%), Factors=8\n",
      "Iteration 768: time=0.10, ELBO=-321278.52, deltaELBO=1.342 (0.00002623%), Factors=8\n",
      "Iteration 769: time=0.10, ELBO=-321277.17, deltaELBO=1.353 (0.00002644%), Factors=8\n",
      "Iteration 770: time=0.10, ELBO=-321275.81, deltaELBO=1.365 (0.00002667%), Factors=8\n",
      "Iteration 771: time=0.10, ELBO=-321274.43, deltaELBO=1.377 (0.00002690%), Factors=8\n",
      "Iteration 772: time=0.10, ELBO=-321273.04, deltaELBO=1.388 (0.00002712%), Factors=8\n",
      "Iteration 773: time=0.12, ELBO=-321271.64, deltaELBO=1.397 (0.00002731%), Factors=8\n",
      "Iteration 774: time=0.20, ELBO=-321270.24, deltaELBO=1.405 (0.00002745%), Factors=8\n",
      "Iteration 775: time=0.09, ELBO=-321268.83, deltaELBO=1.409 (0.00002755%), Factors=8\n",
      "Iteration 776: time=0.10, ELBO=-321267.42, deltaELBO=1.412 (0.00002760%), Factors=8\n",
      "Iteration 777: time=0.10, ELBO=-321266.00, deltaELBO=1.415 (0.00002765%), Factors=8\n",
      "Iteration 778: time=0.10, ELBO=-321264.58, deltaELBO=1.417 (0.00002769%), Factors=8\n",
      "Iteration 779: time=0.10, ELBO=-321263.16, deltaELBO=1.420 (0.00002776%), Factors=8\n",
      "Iteration 780: time=0.10, ELBO=-321261.74, deltaELBO=1.424 (0.00002783%), Factors=8\n",
      "Iteration 781: time=0.10, ELBO=-321260.31, deltaELBO=1.429 (0.00002793%), Factors=8\n",
      "Iteration 782: time=0.10, ELBO=-321258.88, deltaELBO=1.434 (0.00002803%), Factors=8\n",
      "Iteration 783: time=0.10, ELBO=-321257.44, deltaELBO=1.439 (0.00002813%), Factors=8\n",
      "Iteration 784: time=0.10, ELBO=-321255.99, deltaELBO=1.445 (0.00002823%), Factors=8\n",
      "Iteration 785: time=0.10, ELBO=-321254.54, deltaELBO=1.450 (0.00002833%), Factors=8\n",
      "Iteration 786: time=0.10, ELBO=-321253.09, deltaELBO=1.455 (0.00002843%), Factors=8\n",
      "Iteration 787: time=0.10, ELBO=-321251.63, deltaELBO=1.460 (0.00002853%), Factors=8\n",
      "Iteration 788: time=0.10, ELBO=-321250.16, deltaELBO=1.464 (0.00002861%), Factors=8\n",
      "Iteration 789: time=0.10, ELBO=-321248.70, deltaELBO=1.468 (0.00002870%), Factors=8\n",
      "Iteration 790: time=0.12, ELBO=-321247.22, deltaELBO=1.472 (0.00002877%), Factors=8\n",
      "Iteration 791: time=0.11, ELBO=-321245.75, deltaELBO=1.476 (0.00002884%), Factors=8\n",
      "Iteration 792: time=0.10, ELBO=-321244.27, deltaELBO=1.479 (0.00002890%), Factors=8\n",
      "Iteration 793: time=0.10, ELBO=-321242.79, deltaELBO=1.481 (0.00002895%), Factors=8\n",
      "Iteration 794: time=0.10, ELBO=-321241.30, deltaELBO=1.484 (0.00002899%), Factors=8\n",
      "Iteration 795: time=0.09, ELBO=-321239.82, deltaELBO=1.485 (0.00002903%), Factors=8\n",
      "Iteration 796: time=0.17, ELBO=-321238.33, deltaELBO=1.486 (0.00002905%), Factors=8\n",
      "Iteration 797: time=0.11, ELBO=-321236.85, deltaELBO=1.487 (0.00002906%), Factors=8\n",
      "Iteration 798: time=0.09, ELBO=-321235.36, deltaELBO=1.487 (0.00002906%), Factors=8\n",
      "Iteration 799: time=0.09, ELBO=-321233.87, deltaELBO=1.486 (0.00002904%), Factors=8\n",
      "Iteration 800: time=0.10, ELBO=-321232.39, deltaELBO=1.484 (0.00002900%), Factors=8\n",
      "Iteration 801: time=0.09, ELBO=-321230.91, deltaELBO=1.482 (0.00002895%), Factors=8\n",
      "Iteration 802: time=0.10, ELBO=-321229.43, deltaELBO=1.478 (0.00002889%), Factors=8\n",
      "Iteration 803: time=0.10, ELBO=-321227.95, deltaELBO=1.474 (0.00002881%), Factors=8\n",
      "Iteration 804: time=0.10, ELBO=-321226.48, deltaELBO=1.470 (0.00002873%), Factors=8\n",
      "Iteration 805: time=0.12, ELBO=-321225.01, deltaELBO=1.470 (0.00002873%), Factors=8\n",
      "Iteration 806: time=0.11, ELBO=-321223.53, deltaELBO=1.486 (0.00002903%), Factors=8\n",
      "Iteration 807: time=0.10, ELBO=-321221.97, deltaELBO=1.554 (0.00003037%), Factors=8\n",
      "Iteration 808: time=0.10, ELBO=-321220.20, deltaELBO=1.779 (0.00003477%), Factors=8\n",
      "Iteration 809: time=0.10, ELBO=-321217.94, deltaELBO=2.255 (0.00004407%), Factors=8\n",
      "Iteration 810: time=0.10, ELBO=-321215.40, deltaELBO=2.545 (0.00004974%), Factors=8\n",
      "Iteration 811: time=0.10, ELBO=-321213.14, deltaELBO=2.253 (0.00004404%), Factors=8\n",
      "Iteration 812: time=0.09, ELBO=-321211.23, deltaELBO=1.909 (0.00003730%), Factors=8\n",
      "Iteration 813: time=0.10, ELBO=-321209.50, deltaELBO=1.729 (0.00003378%), Factors=8\n",
      "Iteration 814: time=0.10, ELBO=-321207.85, deltaELBO=1.654 (0.00003233%), Factors=8\n",
      "Iteration 815: time=0.10, ELBO=-321206.22, deltaELBO=1.628 (0.00003182%), Factors=8\n",
      "Iteration 816: time=0.18, ELBO=-321204.60, deltaELBO=1.619 (0.00003164%), Factors=8\n",
      "Iteration 817: time=0.09, ELBO=-321202.99, deltaELBO=1.617 (0.00003159%), Factors=8\n",
      "Iteration 818: time=0.09, ELBO=-321201.35, deltaELBO=1.636 (0.00003197%), Factors=8\n",
      "Iteration 819: time=0.10, ELBO=-321199.54, deltaELBO=1.815 (0.00003547%), Factors=8\n",
      "Iteration 820: time=0.10, ELBO=-321196.55, deltaELBO=2.987 (0.00005838%), Factors=8\n",
      "Iteration 821: time=0.09, ELBO=-321190.71, deltaELBO=5.840 (0.00011413%), Factors=8\n",
      "Iteration 822: time=0.10, ELBO=-321186.67, deltaELBO=4.041 (0.00007897%), Factors=8\n",
      "Iteration 823: time=0.10, ELBO=-321184.78, deltaELBO=1.890 (0.00003693%), Factors=8\n",
      "Iteration 824: time=0.10, ELBO=-321182.76, deltaELBO=2.013 (0.00003933%), Factors=8\n",
      "Iteration 825: time=0.10, ELBO=-321180.79, deltaELBO=1.975 (0.00003859%), Factors=8\n",
      "Iteration 826: time=0.10, ELBO=-321178.86, deltaELBO=1.928 (0.00003768%), Factors=8\n",
      "Iteration 827: time=0.09, ELBO=-321176.97, deltaELBO=1.891 (0.00003695%), Factors=8\n",
      "Iteration 828: time=0.09, ELBO=-321175.11, deltaELBO=1.862 (0.00003638%), Factors=8\n",
      "Iteration 829: time=0.09, ELBO=-321173.27, deltaELBO=1.838 (0.00003592%), Factors=8\n",
      "Iteration 830: time=0.10, ELBO=-321171.45, deltaELBO=1.819 (0.00003554%), Factors=8\n",
      "Iteration 831: time=0.18, ELBO=-321169.65, deltaELBO=1.803 (0.00003523%), Factors=8\n",
      "Iteration 832: time=0.09, ELBO=-321167.86, deltaELBO=1.789 (0.00003496%), Factors=8\n",
      "Iteration 833: time=0.10, ELBO=-321166.08, deltaELBO=1.777 (0.00003472%), Factors=8\n",
      "Iteration 834: time=0.09, ELBO=-321164.32, deltaELBO=1.766 (0.00003452%), Factors=8\n",
      "Iteration 835: time=0.09, ELBO=-321162.56, deltaELBO=1.757 (0.00003433%), Factors=8\n",
      "Iteration 836: time=0.10, ELBO=-321160.81, deltaELBO=1.748 (0.00003417%), Factors=8\n",
      "Iteration 837: time=0.11, ELBO=-321159.07, deltaELBO=1.741 (0.00003402%), Factors=8\n",
      "Iteration 838: time=0.09, ELBO=-321157.34, deltaELBO=1.734 (0.00003388%), Factors=8\n",
      "Iteration 839: time=0.09, ELBO=-321155.61, deltaELBO=1.727 (0.00003376%), Factors=8\n",
      "Iteration 840: time=0.10, ELBO=-321153.89, deltaELBO=1.722 (0.00003365%), Factors=8\n",
      "Iteration 841: time=0.09, ELBO=-321152.17, deltaELBO=1.717 (0.00003355%), Factors=8\n",
      "Iteration 842: time=0.10, ELBO=-321150.46, deltaELBO=1.713 (0.00003347%), Factors=8\n",
      "Iteration 843: time=0.09, ELBO=-321148.75, deltaELBO=1.709 (0.00003340%), Factors=8\n",
      "Iteration 844: time=0.10, ELBO=-321147.05, deltaELBO=1.706 (0.00003334%), Factors=8\n",
      "Iteration 845: time=0.09, ELBO=-321145.34, deltaELBO=1.704 (0.00003330%), Factors=8\n",
      "Iteration 846: time=0.10, ELBO=-321143.64, deltaELBO=1.703 (0.00003327%), Factors=8\n",
      "Iteration 847: time=0.10, ELBO=-321141.94, deltaELBO=1.702 (0.00003326%), Factors=8\n",
      "Iteration 848: time=0.09, ELBO=-321140.23, deltaELBO=1.702 (0.00003326%), Factors=8\n",
      "Iteration 849: time=0.18, ELBO=-321138.53, deltaELBO=1.703 (0.00003327%), Factors=8\n",
      "Iteration 850: time=0.09, ELBO=-321136.83, deltaELBO=1.704 (0.00003329%), Factors=8\n",
      "Iteration 851: time=0.09, ELBO=-321135.12, deltaELBO=1.705 (0.00003332%), Factors=8\n",
      "Iteration 852: time=0.10, ELBO=-321133.42, deltaELBO=1.707 (0.00003336%), Factors=8\n",
      "Iteration 853: time=0.09, ELBO=-321131.71, deltaELBO=1.709 (0.00003340%), Factors=8\n",
      "Iteration 854: time=0.09, ELBO=-321129.99, deltaELBO=1.712 (0.00003346%), Factors=8\n",
      "Iteration 855: time=0.09, ELBO=-321128.28, deltaELBO=1.716 (0.00003353%), Factors=8\n",
      "Iteration 856: time=0.09, ELBO=-321126.56, deltaELBO=1.720 (0.00003362%), Factors=8\n",
      "Iteration 857: time=0.11, ELBO=-321124.83, deltaELBO=1.726 (0.00003372%), Factors=8\n",
      "Iteration 858: time=0.10, ELBO=-321123.10, deltaELBO=1.733 (0.00003386%), Factors=8\n",
      "Iteration 859: time=0.09, ELBO=-321121.36, deltaELBO=1.741 (0.00003403%), Factors=8\n",
      "Iteration 860: time=0.10, ELBO=-321119.61, deltaELBO=1.752 (0.00003425%), Factors=8\n",
      "Iteration 861: time=0.10, ELBO=-321117.84, deltaELBO=1.766 (0.00003452%), Factors=8\n",
      "Iteration 862: time=0.10, ELBO=-321116.06, deltaELBO=1.783 (0.00003485%), Factors=8\n",
      "Iteration 863: time=0.10, ELBO=-321114.25, deltaELBO=1.804 (0.00003526%), Factors=8\n",
      "Iteration 864: time=0.11, ELBO=-321112.42, deltaELBO=1.830 (0.00003576%), Factors=8\n",
      "Iteration 865: time=0.10, ELBO=-321110.56, deltaELBO=1.861 (0.00003637%), Factors=8\n",
      "Iteration 866: time=0.11, ELBO=-321108.66, deltaELBO=1.899 (0.00003710%), Factors=8\n",
      "Iteration 867: time=0.10, ELBO=-321106.72, deltaELBO=1.943 (0.00003797%), Factors=8\n",
      "Iteration 868: time=0.17, ELBO=-321104.72, deltaELBO=1.995 (0.00003899%), Factors=8\n",
      "Iteration 869: time=0.09, ELBO=-321102.67, deltaELBO=2.054 (0.00004015%), Factors=8\n",
      "Iteration 870: time=0.10, ELBO=-321100.55, deltaELBO=2.121 (0.00004144%), Factors=8\n",
      "Iteration 871: time=0.13, ELBO=-321098.36, deltaELBO=2.193 (0.00004286%), Factors=8\n",
      "Iteration 872: time=0.11, ELBO=-321096.09, deltaELBO=2.269 (0.00004434%), Factors=8\n",
      "Iteration 873: time=0.09, ELBO=-321093.74, deltaELBO=2.347 (0.00004587%), Factors=8\n",
      "Iteration 874: time=0.10, ELBO=-321091.31, deltaELBO=2.426 (0.00004741%), Factors=8\n",
      "Iteration 875: time=0.10, ELBO=-321088.81, deltaELBO=2.505 (0.00004895%), Factors=8\n",
      "Iteration 876: time=0.09, ELBO=-321086.22, deltaELBO=2.585 (0.00005052%), Factors=8\n",
      "Iteration 877: time=0.09, ELBO=-321083.56, deltaELBO=2.669 (0.00005216%), Factors=8\n",
      "Iteration 878: time=0.09, ELBO=-321080.80, deltaELBO=2.759 (0.00005392%), Factors=8\n",
      "Iteration 879: time=0.10, ELBO=-321077.94, deltaELBO=2.857 (0.00005584%), Factors=8\n",
      "Iteration 880: time=0.09, ELBO=-321074.97, deltaELBO=2.965 (0.00005794%), Factors=8\n",
      "Iteration 881: time=0.10, ELBO=-321071.90, deltaELBO=3.079 (0.00006018%), Factors=8\n",
      "Iteration 882: time=0.09, ELBO=-321068.70, deltaELBO=3.198 (0.00006249%), Factors=8\n",
      "Iteration 883: time=0.09, ELBO=-321065.38, deltaELBO=3.318 (0.00006483%), Factors=8\n",
      "Iteration 884: time=0.10, ELBO=-321061.94, deltaELBO=3.444 (0.00006731%), Factors=8\n",
      "Iteration 885: time=0.10, ELBO=-321058.34, deltaELBO=3.600 (0.00007036%), Factors=8\n",
      "Iteration 886: time=0.09, ELBO=-321054.50, deltaELBO=3.834 (0.00007493%), Factors=8\n",
      "Iteration 887: time=0.09, ELBO=-321050.34, deltaELBO=4.157 (0.00008124%), Factors=8\n",
      "Iteration 888: time=0.17, ELBO=-321046.03, deltaELBO=4.313 (0.00008429%), Factors=8\n",
      "Iteration 889: time=0.09, ELBO=-321041.83, deltaELBO=4.197 (0.00008201%), Factors=8\n",
      "Iteration 890: time=0.09, ELBO=-321037.74, deltaELBO=4.097 (0.00008006%), Factors=8\n",
      "Iteration 891: time=0.10, ELBO=-321033.69, deltaELBO=4.046 (0.00007907%), Factors=8\n",
      "Iteration 892: time=0.09, ELBO=-321029.69, deltaELBO=4.002 (0.00007820%), Factors=8\n",
      "Iteration 893: time=0.09, ELBO=-321025.73, deltaELBO=3.957 (0.00007734%), Factors=8\n",
      "Iteration 894: time=0.10, ELBO=-321021.82, deltaELBO=3.916 (0.00007653%), Factors=8\n",
      "Iteration 895: time=0.10, ELBO=-321017.95, deltaELBO=3.870 (0.00007562%), Factors=8\n",
      "Iteration 896: time=0.10, ELBO=-321014.14, deltaELBO=3.807 (0.00007440%), Factors=8\n",
      "Iteration 897: time=0.10, ELBO=-321010.42, deltaELBO=3.721 (0.00007271%), Factors=8\n",
      "Iteration 898: time=0.09, ELBO=-321006.81, deltaELBO=3.607 (0.00007049%), Factors=8\n",
      "Iteration 899: time=0.09, ELBO=-321003.35, deltaELBO=3.462 (0.00006766%), Factors=8\n",
      "Iteration 900: time=0.09, ELBO=-321000.07, deltaELBO=3.279 (0.00006408%), Factors=8\n",
      "Iteration 901: time=0.10, ELBO=-320997.02, deltaELBO=3.052 (0.00005964%), Factors=8\n",
      "Iteration 902: time=0.18, ELBO=-320994.22, deltaELBO=2.799 (0.00005471%), Factors=8\n",
      "Iteration 903: time=0.09, ELBO=-320991.66, deltaELBO=2.564 (0.00005010%), Factors=8\n",
      "Iteration 904: time=0.09, ELBO=-320989.28, deltaELBO=2.373 (0.00004637%), Factors=8\n",
      "Iteration 905: time=0.09, ELBO=-320987.05, deltaELBO=2.233 (0.00004364%), Factors=8\n",
      "Iteration 906: time=0.09, ELBO=-320984.91, deltaELBO=2.139 (0.00004180%), Factors=8\n",
      "Iteration 907: time=0.09, ELBO=-320982.83, deltaELBO=2.084 (0.00004073%), Factors=8\n",
      "Iteration 908: time=0.10, ELBO=-320980.77, deltaELBO=2.061 (0.00004028%), Factors=8\n",
      "Iteration 909: time=0.09, ELBO=-320978.71, deltaELBO=2.058 (0.00004021%), Factors=8\n",
      "Iteration 910: time=0.10, ELBO=-320976.66, deltaELBO=2.048 (0.00004002%), Factors=8\n",
      "Iteration 911: time=0.10, ELBO=-320974.67, deltaELBO=1.994 (0.00003897%), Factors=8\n",
      "Iteration 912: time=0.09, ELBO=-320972.80, deltaELBO=1.865 (0.00003644%), Factors=8\n",
      "Iteration 913: time=0.10, ELBO=-320971.13, deltaELBO=1.669 (0.00003261%), Factors=8\n",
      "Iteration 914: time=0.09, ELBO=-320969.68, deltaELBO=1.452 (0.00002838%), Factors=8\n",
      "Iteration 915: time=0.10, ELBO=-320968.42, deltaELBO=1.261 (0.00002464%), Factors=8\n",
      "Iteration 916: time=0.09, ELBO=-320967.31, deltaELBO=1.114 (0.00002176%), Factors=8\n",
      "Iteration 917: time=0.09, ELBO=-320966.30, deltaELBO=1.007 (0.00001967%), Factors=8\n",
      "Iteration 918: time=0.10, ELBO=-320965.37, deltaELBO=0.931 (0.00001819%), Factors=8\n",
      "Iteration 919: time=0.10, ELBO=-320964.49, deltaELBO=0.876 (0.00001711%), Factors=8\n",
      "Iteration 920: time=0.10, ELBO=-320963.66, deltaELBO=0.836 (0.00001633%), Factors=8\n",
      "Iteration 921: time=0.10, ELBO=-320962.85, deltaELBO=0.805 (0.00001574%), Factors=8\n",
      "Iteration 922: time=0.18, ELBO=-320962.07, deltaELBO=0.782 (0.00001529%), Factors=8\n",
      "Iteration 923: time=0.10, ELBO=-320961.31, deltaELBO=0.764 (0.00001493%), Factors=8\n",
      "Iteration 924: time=0.11, ELBO=-320960.56, deltaELBO=0.749 (0.00001464%), Factors=8\n",
      "Iteration 925: time=0.09, ELBO=-320959.82, deltaELBO=0.737 (0.00001441%), Factors=8\n",
      "Iteration 926: time=0.09, ELBO=-320959.09, deltaELBO=0.727 (0.00001421%), Factors=8\n",
      "Iteration 927: time=0.10, ELBO=-320958.38, deltaELBO=0.718 (0.00001403%), Factors=8\n",
      "Iteration 928: time=0.09, ELBO=-320957.67, deltaELBO=0.710 (0.00001387%), Factors=8\n",
      "Iteration 929: time=0.09, ELBO=-320956.96, deltaELBO=0.702 (0.00001373%), Factors=8\n",
      "Iteration 930: time=0.10, ELBO=-320956.27, deltaELBO=0.696 (0.00001359%), Factors=8\n",
      "Iteration 931: time=0.10, ELBO=-320955.58, deltaELBO=0.689 (0.00001347%), Factors=8\n",
      "Iteration 932: time=0.10, ELBO=-320954.90, deltaELBO=0.683 (0.00001334%), Factors=8\n",
      "Iteration 933: time=0.09, ELBO=-320954.22, deltaELBO=0.677 (0.00001323%), Factors=8\n",
      "Iteration 934: time=0.10, ELBO=-320953.55, deltaELBO=0.671 (0.00001311%), Factors=8\n",
      "Iteration 935: time=0.18, ELBO=-320952.88, deltaELBO=0.665 (0.00001300%), Factors=8\n",
      "Iteration 936: time=0.09, ELBO=-320952.22, deltaELBO=0.659 (0.00001289%), Factors=8\n",
      "Iteration 937: time=0.09, ELBO=-320951.57, deltaELBO=0.654 (0.00001278%), Factors=8\n",
      "Iteration 938: time=0.10, ELBO=-320950.92, deltaELBO=0.648 (0.00001267%), Factors=8\n",
      "Iteration 939: time=0.10, ELBO=-320950.28, deltaELBO=0.643 (0.00001257%), Factors=8\n",
      "Iteration 940: time=0.10, ELBO=-320949.64, deltaELBO=0.638 (0.00001246%), Factors=8\n",
      "Iteration 941: time=0.09, ELBO=-320949.01, deltaELBO=0.632 (0.00001236%), Factors=8\n",
      "Iteration 942: time=0.09, ELBO=-320948.38, deltaELBO=0.627 (0.00001226%), Factors=8\n",
      "Iteration 943: time=0.09, ELBO=-320947.76, deltaELBO=0.622 (0.00001216%), Factors=8\n",
      "Iteration 944: time=0.09, ELBO=-320947.14, deltaELBO=0.617 (0.00001206%), Factors=8\n",
      "Iteration 945: time=0.10, ELBO=-320946.53, deltaELBO=0.612 (0.00001197%), Factors=8\n",
      "Iteration 946: time=0.09, ELBO=-320945.92, deltaELBO=0.607 (0.00001187%), Factors=8\n",
      "Iteration 947: time=0.09, ELBO=-320945.32, deltaELBO=0.603 (0.00001178%), Factors=8\n",
      "Iteration 948: time=0.09, ELBO=-320944.72, deltaELBO=0.598 (0.00001169%), Factors=8\n",
      "Iteration 949: time=0.10, ELBO=-320944.13, deltaELBO=0.594 (0.00001160%), Factors=8\n",
      "Iteration 950: time=0.11, ELBO=-320943.54, deltaELBO=0.589 (0.00001151%), Factors=8\n",
      "Iteration 951: time=0.10, ELBO=-320942.95, deltaELBO=0.585 (0.00001143%), Factors=8\n",
      "Iteration 952: time=0.09, ELBO=-320942.37, deltaELBO=0.580 (0.00001134%), Factors=8\n",
      "Iteration 953: time=0.09, ELBO=-320941.80, deltaELBO=0.576 (0.00001126%), Factors=8\n",
      "Iteration 954: time=0.10, ELBO=-320941.23, deltaELBO=0.572 (0.00001118%), Factors=8\n",
      "Iteration 955: time=0.17, ELBO=-320940.66, deltaELBO=0.568 (0.00001110%), Factors=8\n",
      "Iteration 956: time=0.10, ELBO=-320940.09, deltaELBO=0.564 (0.00001102%), Factors=8\n",
      "Iteration 957: time=0.09, ELBO=-320939.53, deltaELBO=0.560 (0.00001094%), Factors=8\n",
      "Iteration 958: time=0.10, ELBO=-320938.98, deltaELBO=0.556 (0.00001087%), Factors=8\n",
      "Iteration 959: time=0.10, ELBO=-320938.43, deltaELBO=0.552 (0.00001080%), Factors=8\n",
      "Iteration 960: time=0.10, ELBO=-320937.88, deltaELBO=0.549 (0.00001073%), Factors=8\n",
      "Iteration 961: time=0.09, ELBO=-320937.33, deltaELBO=0.545 (0.00001065%), Factors=8\n",
      "Iteration 962: time=0.10, ELBO=-320936.79, deltaELBO=0.542 (0.00001059%), Factors=8\n",
      "Iteration 963: time=0.10, ELBO=-320936.25, deltaELBO=0.538 (0.00001052%), Factors=8\n",
      "Iteration 964: time=0.09, ELBO=-320935.72, deltaELBO=0.535 (0.00001045%), Factors=8\n",
      "Iteration 965: time=0.09, ELBO=-320935.19, deltaELBO=0.531 (0.00001039%), Factors=8\n",
      "Iteration 966: time=0.09, ELBO=-320934.66, deltaELBO=0.528 (0.00001032%), Factors=8\n",
      "Iteration 967: time=0.09, ELBO=-320934.13, deltaELBO=0.525 (0.00001026%), Factors=8\n",
      "Iteration 968: time=0.18, ELBO=-320933.61, deltaELBO=0.522 (0.00001020%), Factors=8\n",
      "Iteration 969: time=0.10, ELBO=-320933.09, deltaELBO=0.519 (0.00001014%), Factors=8\n",
      "Iteration 970: time=0.09, ELBO=-320932.58, deltaELBO=0.516 (0.00001008%), Factors=8\n",
      "Iteration 971: time=0.09, ELBO=-320932.06, deltaELBO=0.513 (0.00001002%), Factors=8\n",
      "Iteration 972: time=0.09, ELBO=-320931.55, deltaELBO=0.510 (0.00000996%), Factors=8\n",
      "Iteration 973: time=0.09, ELBO=-320931.05, deltaELBO=0.507 (0.00000991%), Factors=8\n",
      "Iteration 974: time=0.09, ELBO=-320930.54, deltaELBO=0.504 (0.00000985%), Factors=8\n",
      "Iteration 975: time=0.09, ELBO=-320930.04, deltaELBO=0.501 (0.00000980%), Factors=8\n",
      "Iteration 976: time=0.10, ELBO=-320929.54, deltaELBO=0.499 (0.00000975%), Factors=8\n",
      "Iteration 977: time=0.09, ELBO=-320929.05, deltaELBO=0.496 (0.00000969%), Factors=8\n",
      "Iteration 978: time=0.10, ELBO=-320928.55, deltaELBO=0.493 (0.00000964%), Factors=8\n",
      "Iteration 979: time=0.10, ELBO=-320928.06, deltaELBO=0.491 (0.00000959%), Factors=8\n",
      "Iteration 980: time=0.09, ELBO=-320927.57, deltaELBO=0.488 (0.00000954%), Factors=8\n",
      "Iteration 981: time=0.10, ELBO=-320927.09, deltaELBO=0.486 (0.00000949%), Factors=8\n",
      "Iteration 982: time=0.09, ELBO=-320926.60, deltaELBO=0.483 (0.00000944%), Factors=8\n",
      "Iteration 983: time=0.09, ELBO=-320926.12, deltaELBO=0.481 (0.00000940%), Factors=8\n",
      "Iteration 984: time=0.10, ELBO=-320925.65, deltaELBO=0.478 (0.00000935%), Factors=8\n",
      "Iteration 985: time=0.09, ELBO=-320925.17, deltaELBO=0.476 (0.00000931%), Factors=8\n",
      "Iteration 986: time=0.17, ELBO=-320924.70, deltaELBO=0.474 (0.00000926%), Factors=8\n",
      "Iteration 987: time=0.09, ELBO=-320924.22, deltaELBO=0.472 (0.00000922%), Factors=8\n",
      "Iteration 988: time=0.09, ELBO=-320923.75, deltaELBO=0.469 (0.00000917%), Factors=8\n",
      "Iteration 989: time=0.09, ELBO=-320923.29, deltaELBO=0.467 (0.00000913%), Factors=8\n",
      "Iteration 990: time=0.10, ELBO=-320922.82, deltaELBO=0.465 (0.00000909%), Factors=8\n",
      "Iteration 991: time=0.09, ELBO=-320922.36, deltaELBO=0.463 (0.00000905%), Factors=8\n",
      "Iteration 992: time=0.10, ELBO=-320921.90, deltaELBO=0.461 (0.00000901%), Factors=8\n",
      "Iteration 993: time=0.09, ELBO=-320921.44, deltaELBO=0.459 (0.00000897%), Factors=8\n",
      "Iteration 994: time=0.10, ELBO=-320920.98, deltaELBO=0.457 (0.00000893%), Factors=8\n",
      "Iteration 995: time=0.09, ELBO=-320920.53, deltaELBO=0.455 (0.00000889%), Factors=8\n",
      "Iteration 996: time=0.09, ELBO=-320920.07, deltaELBO=0.453 (0.00000886%), Factors=8\n",
      "Iteration 997: time=0.09, ELBO=-320919.62, deltaELBO=0.452 (0.00000882%), Factors=8\n",
      "Iteration 998: time=0.10, ELBO=-320919.17, deltaELBO=0.450 (0.00000879%), Factors=8\n",
      "Iteration 999: time=0.09, ELBO=-320918.72, deltaELBO=0.448 (0.00000876%), Factors=8\n",
      "Iteration 1000: time=0.18, ELBO=-320918.28, deltaELBO=0.447 (0.00000874%), Factors=8\n",
      "Iteration 1001: time=0.09, ELBO=-320917.83, deltaELBO=0.446 (0.00000871%), Factors=8\n",
      "Iteration 1002: time=0.10, ELBO=-320917.39, deltaELBO=0.445 (0.00000869%), Factors=8\n",
      "Iteration 1003: time=0.10, ELBO=-320916.94, deltaELBO=0.444 (0.00000868%), Factors=8\n",
      "Iteration 1004: time=0.09, ELBO=-320916.50, deltaELBO=0.444 (0.00000867%), Factors=8\n",
      "Iteration 1005: time=0.09, ELBO=-320916.06, deltaELBO=0.444 (0.00000867%), Factors=8\n",
      "Iteration 1006: time=0.10, ELBO=-320915.61, deltaELBO=0.444 (0.00000868%), Factors=8\n",
      "Iteration 1007: time=0.09, ELBO=-320915.17, deltaELBO=0.446 (0.00000871%), Factors=8\n",
      "Iteration 1008: time=0.10, ELBO=-320914.72, deltaELBO=0.448 (0.00000876%), Factors=8\n",
      "Iteration 1009: time=0.09, ELBO=-320914.26, deltaELBO=0.454 (0.00000886%), Factors=8\n",
      "Iteration 1010: time=0.09, ELBO=-320913.80, deltaELBO=0.462 (0.00000903%), Factors=8\n",
      "Iteration 1011: time=0.10, ELBO=-320913.32, deltaELBO=0.478 (0.00000934%), Factors=8\n",
      "Iteration 1012: time=0.09, ELBO=-320912.82, deltaELBO=0.509 (0.00000994%), Factors=8\n",
      "Iteration 1013: time=0.09, ELBO=-320912.24, deltaELBO=0.574 (0.00001122%), Factors=8\n",
      "Iteration 1014: time=0.09, ELBO=-320911.50, deltaELBO=0.744 (0.00001455%), Factors=8\n",
      "Iteration 1015: time=0.09, ELBO=-320910.17, deltaELBO=1.327 (0.00002593%), Factors=8\n",
      "Iteration 1016: time=0.09, ELBO=-320905.62, deltaELBO=4.552 (0.00008896%), Factors=8\n",
      "Iteration 1017: time=0.18, ELBO=-320888.00, deltaELBO=17.615 (0.00034424%), Factors=8\n",
      "Iteration 1018: time=0.09, ELBO=-320877.84, deltaELBO=10.162 (0.00019860%), Factors=8\n",
      "Iteration 1019: time=0.10, ELBO=-320874.91, deltaELBO=2.930 (0.00005727%), Factors=8\n",
      "Iteration 1020: time=0.10, ELBO=-320874.29, deltaELBO=0.617 (0.00001206%), Factors=8\n",
      "Iteration 1021: time=0.11, ELBO=-320874.07, deltaELBO=0.225 (0.00000439%), Factors=8\n",
      "Iteration 1022: time=0.10, ELBO=-320873.82, deltaELBO=0.250 (0.00000488%), Factors=8\n",
      "\n",
      "Converged!\n",
      "\n",
      "\n",
      "\n",
      "#######################\n",
      "## Training finished ##\n",
      "#######################\n",
      "\n",
      "\n",
      "Warning: Output file ./modelpy.hdf5 already exists, it will be replaced\n",
      "Saving model in ./modelpy.hdf5...\n"
     ]
    }
   ],
   "source": [
    "ent.build()\n",
    "\n",
    "ent.run()\n",
    "\n",
    "# Save the output\n",
    "ent.save(outfile=r'./modelpy.hdf5')"
   ]
  },
  {
   "cell_type": "code",
   "execution_count": 27,
   "metadata": {},
   "outputs": [],
   "source": [
    "m = mfx.mofa_model('modelpy.hdf5')"
   ]
  },
  {
   "cell_type": "code",
   "execution_count": 28,
   "metadata": {},
   "outputs": [
    {
     "name": "stdout",
     "output_type": "stream",
     "text": [
      "Observations: 312\n",
      "Features: 1037\n",
      "Groups of observations: group0\n",
      "Views: q, m\n",
      "\n"
     ]
    }
   ],
   "source": [
    "print(f\"\"\"\\\n",
    "Observations: {m.shape[0]}\n",
    "Features: {m.shape[1]}\n",
    "Groups of observations: {', '.join(m.groups)}\n",
    "Views: {', '.join(m.views)}\n",
    "\"\"\")"
   ]
  },
  {
   "cell_type": "code",
   "execution_count": 29,
   "metadata": {},
   "outputs": [],
   "source": [
    "# Get weights from the model\n",
    "\n",
    "wq = m.get_weights(df=True).loc[xqi.columns]\n",
    "wm = m.get_weights(df=True).loc[xmi.columns]"
   ]
  },
  {
   "cell_type": "code",
   "execution_count": 30,
   "metadata": {},
   "outputs": [],
   "source": [
    "palette = ['#636EFA', '#EF553B']"
   ]
  },
  {
   "cell_type": "code",
   "execution_count": 31,
   "metadata": {},
   "outputs": [
    {
     "data": {
      "text/html": [
       "<div>\n",
       "<style scoped>\n",
       "    .dataframe tbody tr th:only-of-type {\n",
       "        vertical-align: middle;\n",
       "    }\n",
       "\n",
       "    .dataframe tbody tr th {\n",
       "        vertical-align: top;\n",
       "    }\n",
       "\n",
       "    .dataframe thead th {\n",
       "        text-align: right;\n",
       "    }\n",
       "</style>\n",
       "<table border=\"1\" class=\"dataframe\">\n",
       "  <thead>\n",
       "    <tr style=\"text-align: right;\">\n",
       "      <th>View</th>\n",
       "      <th>m</th>\n",
       "      <th>q</th>\n",
       "    </tr>\n",
       "    <tr>\n",
       "      <th>Factor</th>\n",
       "      <th></th>\n",
       "      <th></th>\n",
       "    </tr>\n",
       "  </thead>\n",
       "  <tbody>\n",
       "    <tr>\n",
       "      <th>Factor1</th>\n",
       "      <td>31.682004</td>\n",
       "      <td>1.081997</td>\n",
       "    </tr>\n",
       "    <tr>\n",
       "      <th>Factor2</th>\n",
       "      <td>7.062885</td>\n",
       "      <td>0.630928</td>\n",
       "    </tr>\n",
       "    <tr>\n",
       "      <th>Factor3</th>\n",
       "      <td>6.645778</td>\n",
       "      <td>0.173249</td>\n",
       "    </tr>\n",
       "    <tr>\n",
       "      <th>Factor4</th>\n",
       "      <td>5.004846</td>\n",
       "      <td>0.526826</td>\n",
       "    </tr>\n",
       "    <tr>\n",
       "      <th>Factor5</th>\n",
       "      <td>2.209049</td>\n",
       "      <td>0.059762</td>\n",
       "    </tr>\n",
       "    <tr>\n",
       "      <th>Factor6</th>\n",
       "      <td>2.241553</td>\n",
       "      <td>0.006387</td>\n",
       "    </tr>\n",
       "    <tr>\n",
       "      <th>Factor7</th>\n",
       "      <td>1.882586</td>\n",
       "      <td>0.196756</td>\n",
       "    </tr>\n",
       "    <tr>\n",
       "      <th>Factor8</th>\n",
       "      <td>1.960098</td>\n",
       "      <td>0.056130</td>\n",
       "    </tr>\n",
       "  </tbody>\n",
       "</table>\n",
       "</div>"
      ],
      "text/plain": [
       "View             m         q\n",
       "Factor                      \n",
       "Factor1  31.682004  1.081997\n",
       "Factor2   7.062885  0.630928\n",
       "Factor3   6.645778  0.173249\n",
       "Factor4   5.004846  0.526826\n",
       "Factor5   2.209049  0.059762\n",
       "Factor6   2.241553  0.006387\n",
       "Factor7   1.882586  0.196756\n",
       "Factor8   1.960098  0.056130"
      ]
     },
     "execution_count": 31,
     "metadata": {},
     "output_type": "execute_result"
    }
   ],
   "source": [
    "# Variance explained by factors\n",
    "\n",
    "explVar = pd.pivot_table(m.get_variance_explained(), values='R2', index='Factor', columns='View')\n",
    "explVar"
   ]
  },
  {
   "cell_type": "code",
   "execution_count": 32,
   "metadata": {},
   "outputs": [],
   "source": [
    "plotWD = {}\n",
    "\n",
    "for n,col in enumerate(wq.columns):\n",
    "\n",
    "    fig = make_subplots(rows=1, cols=2, subplot_titles=[f'q | {round(explVar.loc[col][\"q\"],4)}%', f'm | {round(explVar.loc[col][\"m\"],4)}%'])\n",
    "    \n",
    "    fig.add_trace(go.Scatter(\n",
    "        y=np.arange(wq.shape[0])/wq.shape[0],\n",
    "        x=sorted(wq[col].to_numpy()),\n",
    "        mode='markers',\n",
    "        marker_size=3,\n",
    "        marker_color=palette[0],\n",
    "        showlegend=False\n",
    "    ), row=1, col=1)\n",
    "\n",
    "    fig.add_trace(go.Scatter(\n",
    "        y=np.arange(wm.shape[0])/wm.shape[0],\n",
    "        x=sorted(wm[col].to_numpy()),\n",
    "        mode='markers',\n",
    "        marker_size=3,\n",
    "        marker_color=palette[1],\n",
    "        showlegend=False\n",
    "    ), row=1, col=2)\n",
    "\n",
    "\n",
    "    fig.update_xaxes(range=[-1,1])\n",
    "    fig.update_layout(height=400, title=f\"{col}\")\n",
    "\n",
    "    plotWD[col]=fig\n",
    "    #fig.show()"
   ]
  },
  {
   "attachments": {},
   "cell_type": "markdown",
   "metadata": {},
   "source": [
    "FACTOR EXPLORATION"
   ]
  },
  {
   "cell_type": "code",
   "execution_count": 185,
   "metadata": {},
   "outputs": [
    {
     "data": {
      "application/vnd.plotly.v1+json": {
       "config": {
        "plotlyServerURL": "https://plot.ly"
       },
       "data": [
        {
         "marker": {
          "color": [
           "black",
           "black",
           "black",
           "black",
           "black",
           "black",
           "black",
           "black",
           "black",
           "black",
           "black",
           "black",
           "black",
           "black",
           "black",
           "#636EFA",
           "#636EFA",
           "#636EFA",
           "#636EFA",
           "#636EFA",
           "#636EFA",
           "#636EFA",
           "#636EFA",
           "#636EFA",
           "#636EFA",
           "#636EFA",
           "#636EFA",
           "#636EFA",
           "#636EFA",
           "#636EFA",
           "#636EFA",
           "#636EFA",
           "#636EFA",
           "#636EFA",
           "#636EFA",
           "#636EFA",
           "#636EFA",
           "#636EFA",
           "#636EFA",
           "#636EFA",
           "#636EFA",
           "#636EFA",
           "#636EFA",
           "#636EFA",
           "#636EFA",
           "#636EFA",
           "#636EFA",
           "#636EFA",
           "#636EFA",
           "#636EFA",
           "#636EFA",
           "#636EFA",
           "#636EFA",
           "#636EFA",
           "#636EFA",
           "#636EFA",
           "#636EFA",
           "#636EFA",
           "#636EFA",
           "#636EFA",
           "#636EFA",
           "#636EFA",
           "#636EFA",
           "#636EFA",
           "#636EFA",
           "#636EFA",
           "#636EFA",
           "#636EFA",
           "#636EFA",
           "#636EFA",
           "#636EFA",
           "#636EFA",
           "#636EFA",
           "#636EFA",
           "#636EFA",
           "#636EFA",
           "#636EFA",
           "#636EFA",
           "#636EFA",
           "#636EFA",
           "#636EFA",
           "#636EFA",
           "#636EFA",
           "#636EFA",
           "#636EFA",
           "#636EFA",
           "#636EFA",
           "#636EFA",
           "#636EFA",
           "#636EFA",
           "#636EFA",
           "#636EFA",
           "#636EFA",
           "#636EFA",
           "#636EFA",
           "#636EFA",
           "#636EFA",
           "#636EFA",
           "#636EFA",
           "#636EFA",
           "#636EFA",
           "#636EFA",
           "#636EFA",
           "#636EFA",
           "#636EFA",
           "#636EFA",
           "#636EFA",
           "#636EFA",
           "#636EFA",
           "#636EFA",
           "#636EFA",
           "#636EFA",
           "#636EFA",
           "#636EFA",
           "#636EFA",
           "#636EFA",
           "#636EFA",
           "#636EFA",
           "#636EFA",
           "#636EFA",
           "#636EFA",
           "#636EFA",
           "#636EFA",
           "#636EFA",
           "#636EFA",
           "#636EFA",
           "#636EFA",
           "#636EFA",
           "#636EFA",
           "#636EFA",
           "#636EFA",
           "#636EFA",
           "#636EFA",
           "#636EFA",
           "#636EFA",
           "#636EFA",
           "#636EFA",
           "#636EFA",
           "#636EFA",
           "#636EFA",
           "#636EFA",
           "#636EFA",
           "#636EFA",
           "#636EFA",
           "#636EFA",
           "#636EFA",
           "#636EFA",
           "#636EFA",
           "#636EFA",
           "#636EFA",
           "#636EFA",
           "#636EFA",
           "#636EFA",
           "#636EFA",
           "#636EFA",
           "#636EFA",
           "#636EFA",
           "#636EFA",
           "#636EFA",
           "#636EFA",
           "#636EFA",
           "#636EFA",
           "#636EFA",
           "#636EFA",
           "#636EFA",
           "#636EFA",
           "#636EFA",
           "#636EFA",
           "#636EFA",
           "#636EFA",
           "#636EFA",
           "#636EFA",
           "#636EFA",
           "#636EFA",
           "#636EFA",
           "#636EFA",
           "#636EFA",
           "#636EFA",
           "#636EFA",
           "#636EFA",
           "#636EFA",
           "#636EFA",
           "#636EFA",
           "#636EFA",
           "#636EFA",
           "#636EFA",
           "#636EFA",
           "#636EFA",
           "#636EFA",
           "#636EFA",
           "#636EFA",
           "#636EFA",
           "#636EFA",
           "#636EFA",
           "#636EFA",
           "#636EFA",
           "#636EFA",
           "#636EFA",
           "#636EFA",
           "#636EFA",
           "#636EFA",
           "#636EFA",
           "#636EFA",
           "#636EFA",
           "#636EFA",
           "#636EFA",
           "#636EFA",
           "#636EFA",
           "#636EFA",
           "#636EFA",
           "#636EFA",
           "#636EFA",
           "#636EFA",
           "#636EFA",
           "#636EFA",
           "#636EFA",
           "#636EFA",
           "#636EFA",
           "#636EFA",
           "#636EFA",
           "#636EFA",
           "#636EFA",
           "#636EFA",
           "#636EFA",
           "#636EFA",
           "#636EFA",
           "#636EFA",
           "#636EFA",
           "#636EFA",
           "#636EFA",
           "#636EFA",
           "#636EFA",
           "#636EFA",
           "#636EFA",
           "#636EFA",
           "#636EFA",
           "#636EFA",
           "#636EFA",
           "#636EFA",
           "#636EFA",
           "#636EFA",
           "#636EFA",
           "#636EFA",
           "#636EFA",
           "#636EFA",
           "#636EFA",
           "#636EFA",
           "#636EFA",
           "#636EFA",
           "#636EFA",
           "#636EFA",
           "#636EFA",
           "#636EFA",
           "#636EFA",
           "#636EFA",
           "#636EFA",
           "#636EFA",
           "#636EFA",
           "#636EFA",
           "#636EFA",
           "#636EFA",
           "#636EFA",
           "#636EFA",
           "#636EFA",
           "#636EFA",
           "#636EFA",
           "#636EFA",
           "#636EFA",
           "#636EFA",
           "#636EFA",
           "#636EFA",
           "#636EFA",
           "#636EFA",
           "#636EFA",
           "#636EFA",
           "#636EFA",
           "#636EFA",
           "#636EFA",
           "#636EFA",
           "#636EFA",
           "#636EFA",
           "#636EFA",
           "#636EFA",
           "#636EFA",
           "#636EFA",
           "#636EFA",
           "#636EFA",
           "#636EFA",
           "#636EFA",
           "#636EFA",
           "#636EFA",
           "#636EFA",
           "#636EFA",
           "#636EFA",
           "#636EFA",
           "#636EFA",
           "#636EFA",
           "#636EFA",
           "#636EFA",
           "#636EFA",
           "#636EFA",
           "#636EFA",
           "#636EFA",
           "#636EFA",
           "#636EFA",
           "#636EFA",
           "#636EFA",
           "#636EFA",
           "#636EFA",
           "#636EFA",
           "#636EFA",
           "#636EFA",
           "#636EFA",
           "#636EFA",
           "#636EFA",
           "#636EFA",
           "#636EFA",
           "#636EFA",
           "#636EFA",
           "#636EFA",
           "#636EFA",
           "#636EFA",
           "#636EFA",
           "#636EFA",
           "#636EFA",
           "#636EFA",
           "#636EFA",
           "#636EFA",
           "#636EFA",
           "#636EFA",
           "#636EFA",
           "#636EFA",
           "#636EFA",
           "#636EFA",
           "#636EFA",
           "#636EFA",
           "#636EFA",
           "#636EFA",
           "#636EFA",
           "#636EFA",
           "#636EFA",
           "#636EFA",
           "#636EFA",
           "#636EFA",
           "#636EFA",
           "#636EFA",
           "#636EFA",
           "#636EFA",
           "#636EFA",
           "#636EFA",
           "#636EFA",
           "#636EFA",
           "#636EFA",
           "#636EFA",
           "#636EFA",
           "#636EFA",
           "#636EFA",
           "#636EFA",
           "#636EFA",
           "#636EFA",
           "#636EFA",
           "#636EFA",
           "#636EFA",
           "#636EFA",
           "#636EFA",
           "#636EFA",
           "black",
           "black",
           "black",
           "black",
           "black",
           "black",
           "black",
           "black",
           "black",
           "black",
           "black",
           "black",
           "black",
           "black",
           "black"
          ],
          "size": 3
         },
         "mode": "markers",
         "showlegend": false,
         "type": "scatter",
         "x": [
          -0.12010719020042443,
          -0.11665638208639471,
          -0.09701143541880285,
          -0.09395748215867007,
          -0.09099552857318488,
          -0.08332512468633024,
          -0.08010450640014646,
          -0.07918320409457053,
          -0.06885333523565428,
          -0.06681946517531329,
          -0.06113811257199052,
          -0.060871155661293794,
          -0.06066703496158242,
          -0.0604815210189539,
          -0.06025544283119552,
          -0.06021673758737584,
          -0.058780626622138316,
          -0.05638329650180392,
          -0.0557565916845457,
          -0.05507712377209819,
          -0.05491902624073896,
          -0.0535575481950441,
          -0.053136446829411814,
          -0.05199341084562754,
          -0.051363093530880186,
          -0.05110116199245908,
          -0.04989561969709735,
          -0.04983728186182048,
          -0.049685588412982096,
          -0.0495510030115287,
          -0.0491552114268702,
          -0.04913273952961361,
          -0.04831261764278991,
          -0.0480450651612961,
          -0.04779401714260834,
          -0.04742741167174356,
          -0.046839692900386844,
          -0.046527303786919466,
          -0.04570697269566296,
          -0.04337371757365638,
          -0.040987215043224855,
          -0.04043560558703732,
          -0.0403991210882266,
          -0.04014149192368906,
          -0.039733280724435154,
          -0.03965257849531539,
          -0.03896067278696533,
          -0.03831817414591312,
          -0.037890752446869694,
          -0.0373454570696594,
          -0.03673344965464591,
          -0.0364844118088345,
          -0.03594043609908768,
          -0.035186411665865044,
          -0.0351467923722078,
          -0.03506762630102003,
          -0.03483669221607981,
          -0.03394241340077989,
          -0.033580068215699324,
          -0.03331867867594158,
          -0.03229544892475412,
          -0.032254263352283895,
          -0.032040116925033946,
          -0.03170036504344971,
          -0.03168648446783447,
          -0.031415103727049386,
          -0.031233949112617513,
          -0.031009026265330312,
          -0.030962121477538934,
          -0.03077783109931453,
          -0.027132367484855393,
          -0.026546408875055928,
          -0.026217794480008428,
          -0.026140398745062746,
          -0.025472304012187523,
          -0.02471889167026281,
          -0.02470596319429512,
          -0.024317687214335863,
          -0.024181725132134596,
          -0.0238455744694171,
          -0.02333756025365525,
          -0.022993685196450234,
          -0.022160905661992858,
          -0.021839150844463386,
          -0.02160387051684838,
          -0.02154102838248777,
          -0.021473921043640837,
          -0.021293854630872057,
          -0.019639733624189856,
          -0.018825745255610468,
          -0.018655565740465476,
          -0.018498215566022855,
          -0.018399768925487673,
          -0.01786663458883886,
          -0.017788816956658654,
          -0.01771695440664028,
          -0.017700515100653774,
          -0.017442175791313706,
          -0.01736330312463751,
          -0.01710821047193886,
          -0.016926339034892737,
          -0.01679389242242397,
          -0.016786879717833318,
          -0.016184321656001338,
          -0.015477635611571942,
          -0.015067600958152128,
          -0.014538909523323918,
          -0.014276426345035835,
          -0.013967463304093345,
          -0.013722553128092584,
          -0.013365949547063468,
          -0.013212604253763912,
          -0.013210723599602361,
          -0.012676669336329932,
          -0.012279766337873107,
          -0.011957240214260334,
          -0.011763675420232914,
          -0.011414114860169418,
          -0.011313144351314013,
          -0.011280684012635869,
          -0.011033142617087691,
          -0.01089239246685994,
          -0.009956226472853673,
          -0.009665706123225835,
          -0.009609647622307581,
          -0.00947171350600594,
          -0.009159248095713403,
          -0.008999787825545232,
          -0.00888376324251023,
          -0.00870480892385434,
          -0.008257254311077957,
          -0.008245293059202592,
          -0.00787531274348857,
          -0.007624708110495197,
          -0.007547651807633239,
          -0.0074348585507205325,
          -0.007379552011331024,
          -0.00727852189740388,
          -0.00724480962674951,
          -0.007134362119028201,
          -0.0071114935381635285,
          -0.006539072385394116,
          -0.0064230188053208065,
          -0.006216813142833522,
          -0.005604374757557451,
          -0.005498674965704848,
          -0.0054267277821294715,
          -0.005425746748766072,
          -0.005136466581999195,
          -0.004908669807502429,
          -0.004006270434202984,
          -0.003971516946608388,
          -0.0023000683651602633,
          -0.002197295958540115,
          -0.002189583728482026,
          -0.002136988551327949,
          -0.0020757252385037476,
          -0.0017861683603383736,
          -0.0013952802289340686,
          -0.0013778200103596473,
          -0.001375493813858607,
          -0.0002587348211434538,
          -0.00024266776460265258,
          -0.00021916907859942375,
          -0.00013399175678061886,
          0.00004633920154168903,
          0.0005689326590667411,
          0.0006829580825663154,
          0.0006840710351879301,
          0.0010860092628504551,
          0.0014016229906863408,
          0.0014802830102087687,
          0.0016012463390645615,
          0.001622185480184474,
          0.002030213978070277,
          0.0021543266533831686,
          0.002158382461987228,
          0.002309342135241306,
          0.0025809503923867423,
          0.002613325644097988,
          0.0026171501315732175,
          0.002705154606226665,
          0.0029081439905122896,
          0.0031904418250569017,
          0.0033392957418936424,
          0.003461224494511835,
          0.0035032594379913787,
          0.0036410773034263,
          0.004099755209872906,
          0.004155295709060892,
          0.0042237446872534605,
          0.004339661575598157,
          0.004348501682825716,
          0.005321758080219905,
          0.005546814489061361,
          0.005600061045866128,
          0.005766063868689586,
          0.006331687827486329,
          0.006336509062326441,
          0.006477408582075537,
          0.0065280396569415,
          0.006713277465302613,
          0.007304875761658908,
          0.0075382466955675196,
          0.007598328327855406,
          0.008375434367731074,
          0.008717379896537576,
          0.008976143113694574,
          0.009132755725540937,
          0.009161793028358239,
          0.00929060823744521,
          0.009374983530709601,
          0.009693477068820868,
          0.009764205872303477,
          0.009859665635145877,
          0.009956664380460471,
          0.011057810611690465,
          0.011079029154590705,
          0.011574469101711189,
          0.011672318411295112,
          0.011994085882679561,
          0.01321654670385594,
          0.013520467891602666,
          0.013745812126194797,
          0.013836656000952876,
          0.01441284798954542,
          0.014577324761424742,
          0.014613502854175998,
          0.014694017699854012,
          0.014921281786475725,
          0.015131789512824338,
          0.015253515927178968,
          0.01546206228022858,
          0.01591104826280719,
          0.01616156117791633,
          0.016168328621835603,
          0.016193655387249258,
          0.016370376309532943,
          0.016631646629138356,
          0.016959053027001625,
          0.017127862164262823,
          0.01741381826519314,
          0.01774556102949973,
          0.018052386687799418,
          0.018068800286332506,
          0.01831363966599968,
          0.018790658860967046,
          0.01907991827979066,
          0.0193987060419029,
          0.019785539262975188,
          0.020687570775933677,
          0.02076018719676285,
          0.021033467651994056,
          0.021054831185666475,
          0.021234472747191792,
          0.02134641407083371,
          0.022142778773630592,
          0.02244684026092552,
          0.022734551909310938,
          0.02299696555006763,
          0.02330673865923738,
          0.02341225698307002,
          0.024244035284947955,
          0.024269332063386283,
          0.02442825239565806,
          0.024464315772600897,
          0.02458028382734488,
          0.024662108270909734,
          0.02518852679458924,
          0.025377625170971974,
          0.025426126861425848,
          0.025643749505839305,
          0.026298188262201386,
          0.026357013284929516,
          0.02636703727549229,
          0.02653722640688122,
          0.0271010636876303,
          0.027204004906511363,
          0.027270608524652976,
          0.027523033682225688,
          0.027768859765505964,
          0.02785156589021906,
          0.02798971871145218,
          0.02807404870669788,
          0.02840458830223784,
          0.029028050004892482,
          0.029133860602542375,
          0.029267010999470763,
          0.029283564109622337,
          0.02934072823652036,
          0.029351936763251252,
          0.029623504473356568,
          0.029708589796792723,
          0.030398931695076143,
          0.030644355990777868,
          0.031043186314895402,
          0.03168934224041866,
          0.03186898632099756,
          0.03251821562308294,
          0.03256660875591222,
          0.032966630745837076,
          0.033106842791509,
          0.0333217683722194,
          0.03363558492766967,
          0.03373194004564223,
          0.03383885983163328,
          0.03426174055790722,
          0.0343913164719536,
          0.03474769090081652,
          0.035121707126653495,
          0.03535064173667046,
          0.03556818578094235,
          0.03568576432124388,
          0.035729964182267024,
          0.03587321539232737,
          0.036587429975525644,
          0.03742903409686798,
          0.037497857976542925,
          0.03766479964060307,
          0.038392962182879714,
          0.038743225293237385,
          0.038844666891556544,
          0.039483821230253166,
          0.04034158205095526,
          0.040351913181617675,
          0.040377149755870985,
          0.042098267141487324,
          0.04223801273252358,
          0.04331809608044969,
          0.04347295254556562,
          0.044340521251631924,
          0.045350430558210655,
          0.04585141095876956,
          0.04621434411105666,
          0.04674087067259526,
          0.047319430102654554,
          0.047544852747708095,
          0.0484398274841499,
          0.04844377968033218,
          0.04854326067843741,
          0.048860855957274595,
          0.04890121949998773,
          0.04896316755534767,
          0.04967844010021565,
          0.051575033111896686,
          0.052769586484784435,
          0.05314112078116454,
          0.05322163054096916,
          0.053736515828149554,
          0.05390240117503177,
          0.05394043417534476,
          0.0541138736901213,
          0.05443270964123367,
          0.0555280659523066,
          0.05637055689187812,
          0.05643258243997986,
          0.05716356286249486,
          0.05755382589212116,
          0.058176154548451126,
          0.05851018000501957,
          0.058761121052050516,
          0.05913687410292186,
          0.06051162595941933,
          0.060788849755492036,
          0.06136996071747896,
          0.06322825668340852,
          0.0644573894021332,
          0.06452735625638846,
          0.06490582972671917,
          0.06712592279730803,
          0.0681582063237697,
          0.06822832536347612,
          0.06948865144244261,
          0.07252801339784364,
          0.07291781177419229,
          0.07694892188536123,
          0.07738307906073211,
          0.0781279877849759,
          0.08416512271384964,
          0.08605507103141279,
          0.09717430063890004
         ],
         "xaxis": "x",
         "y": [
          0,
          0.0026246719160104987,
          0.005249343832020997,
          0.007874015748031496,
          0.010498687664041995,
          0.013123359580052493,
          0.015748031496062992,
          0.01837270341207349,
          0.02099737532808399,
          0.023622047244094488,
          0.026246719160104987,
          0.028871391076115485,
          0.031496062992125984,
          0.03412073490813648,
          0.03674540682414698,
          0.03937007874015748,
          0.04199475065616798,
          0.04461942257217848,
          0.047244094488188976,
          0.049868766404199474,
          0.05249343832020997,
          0.05511811023622047,
          0.05774278215223097,
          0.06036745406824147,
          0.06299212598425197,
          0.06561679790026247,
          0.06824146981627296,
          0.07086614173228346,
          0.07349081364829396,
          0.07611548556430446,
          0.07874015748031496,
          0.08136482939632546,
          0.08398950131233596,
          0.08661417322834646,
          0.08923884514435695,
          0.09186351706036745,
          0.09448818897637795,
          0.09711286089238845,
          0.09973753280839895,
          0.10236220472440945,
          0.10498687664041995,
          0.10761154855643044,
          0.11023622047244094,
          0.11286089238845144,
          0.11548556430446194,
          0.11811023622047244,
          0.12073490813648294,
          0.12335958005249344,
          0.12598425196850394,
          0.12860892388451445,
          0.13123359580052493,
          0.13385826771653545,
          0.13648293963254593,
          0.13910761154855644,
          0.14173228346456693,
          0.14435695538057744,
          0.14698162729658792,
          0.14960629921259844,
          0.15223097112860892,
          0.15485564304461943,
          0.15748031496062992,
          0.16010498687664043,
          0.16272965879265092,
          0.16535433070866143,
          0.1679790026246719,
          0.17060367454068243,
          0.1732283464566929,
          0.17585301837270342,
          0.1784776902887139,
          0.18110236220472442,
          0.1837270341207349,
          0.18635170603674542,
          0.1889763779527559,
          0.19160104986876642,
          0.1942257217847769,
          0.1968503937007874,
          0.1994750656167979,
          0.2020997375328084,
          0.2047244094488189,
          0.2073490813648294,
          0.2099737532808399,
          0.2125984251968504,
          0.2152230971128609,
          0.2178477690288714,
          0.2204724409448819,
          0.2230971128608924,
          0.22572178477690288,
          0.2283464566929134,
          0.23097112860892388,
          0.2335958005249344,
          0.23622047244094488,
          0.2388451443569554,
          0.24146981627296588,
          0.2440944881889764,
          0.24671916010498687,
          0.24934383202099739,
          0.25196850393700787,
          0.2545931758530184,
          0.2572178477690289,
          0.25984251968503935,
          0.26246719160104987,
          0.2650918635170604,
          0.2677165354330709,
          0.27034120734908135,
          0.27296587926509186,
          0.2755905511811024,
          0.2782152230971129,
          0.28083989501312334,
          0.28346456692913385,
          0.28608923884514437,
          0.2887139107611549,
          0.29133858267716534,
          0.29396325459317585,
          0.29658792650918636,
          0.2992125984251969,
          0.30183727034120733,
          0.30446194225721784,
          0.30708661417322836,
          0.30971128608923887,
          0.3123359580052493,
          0.31496062992125984,
          0.31758530183727035,
          0.32020997375328086,
          0.3228346456692913,
          0.32545931758530183,
          0.32808398950131235,
          0.33070866141732286,
          0.3333333333333333,
          0.3359580052493438,
          0.33858267716535434,
          0.34120734908136485,
          0.3438320209973753,
          0.3464566929133858,
          0.34908136482939633,
          0.35170603674540685,
          0.3543307086614173,
          0.3569553805774278,
          0.35958005249343833,
          0.36220472440944884,
          0.3648293963254593,
          0.3674540682414698,
          0.3700787401574803,
          0.37270341207349084,
          0.3753280839895013,
          0.3779527559055118,
          0.3805774278215223,
          0.38320209973753283,
          0.3858267716535433,
          0.3884514435695538,
          0.3910761154855643,
          0.3937007874015748,
          0.3963254593175853,
          0.3989501312335958,
          0.4015748031496063,
          0.4041994750656168,
          0.4068241469816273,
          0.4094488188976378,
          0.4120734908136483,
          0.4146981627296588,
          0.41732283464566927,
          0.4199475065616798,
          0.4225721784776903,
          0.4251968503937008,
          0.42782152230971127,
          0.4304461942257218,
          0.4330708661417323,
          0.4356955380577428,
          0.43832020997375326,
          0.4409448818897638,
          0.4435695538057743,
          0.4461942257217848,
          0.44881889763779526,
          0.45144356955380577,
          0.4540682414698163,
          0.4566929133858268,
          0.45931758530183725,
          0.46194225721784776,
          0.4645669291338583,
          0.4671916010498688,
          0.46981627296587924,
          0.47244094488188976,
          0.47506561679790027,
          0.4776902887139108,
          0.48031496062992124,
          0.48293963254593175,
          0.48556430446194226,
          0.4881889763779528,
          0.49081364829396323,
          0.49343832020997375,
          0.49606299212598426,
          0.49868766404199477,
          0.5013123359580053,
          0.5039370078740157,
          0.5065616797900262,
          0.5091863517060368,
          0.5118110236220472,
          0.5144356955380578,
          0.5170603674540682,
          0.5196850393700787,
          0.5223097112860893,
          0.5249343832020997,
          0.5275590551181102,
          0.5301837270341208,
          0.5328083989501312,
          0.5354330708661418,
          0.5380577427821522,
          0.5406824146981627,
          0.5433070866141733,
          0.5459317585301837,
          0.5485564304461942,
          0.5511811023622047,
          0.5538057742782152,
          0.5564304461942258,
          0.5590551181102362,
          0.5616797900262467,
          0.5643044619422573,
          0.5669291338582677,
          0.5695538057742782,
          0.5721784776902887,
          0.5748031496062992,
          0.5774278215223098,
          0.5800524934383202,
          0.5826771653543307,
          0.5853018372703412,
          0.5879265091863517,
          0.5905511811023622,
          0.5931758530183727,
          0.5958005249343832,
          0.5984251968503937,
          0.6010498687664042,
          0.6036745406824147,
          0.6062992125984252,
          0.6089238845144357,
          0.6115485564304461,
          0.6141732283464567,
          0.6167979002624672,
          0.6194225721784777,
          0.6220472440944882,
          0.6246719160104987,
          0.6272965879265092,
          0.6299212598425197,
          0.6325459317585301,
          0.6351706036745407,
          0.6377952755905512,
          0.6404199475065617,
          0.6430446194225722,
          0.6456692913385826,
          0.6482939632545932,
          0.6509186351706037,
          0.6535433070866141,
          0.6561679790026247,
          0.6587926509186351,
          0.6614173228346457,
          0.6640419947506562,
          0.6666666666666666,
          0.6692913385826772,
          0.6719160104986877,
          0.6745406824146981,
          0.6771653543307087,
          0.6797900262467191,
          0.6824146981627297,
          0.6850393700787402,
          0.6876640419947506,
          0.6902887139107612,
          0.6929133858267716,
          0.6955380577427821,
          0.6981627296587927,
          0.7007874015748031,
          0.7034120734908137,
          0.7060367454068242,
          0.7086614173228346,
          0.7112860892388452,
          0.7139107611548556,
          0.7165354330708661,
          0.7191601049868767,
          0.7217847769028871,
          0.7244094488188977,
          0.7270341207349081,
          0.7296587926509186,
          0.7322834645669292,
          0.7349081364829396,
          0.7375328083989501,
          0.7401574803149606,
          0.7427821522309711,
          0.7454068241469817,
          0.7480314960629921,
          0.7506561679790026,
          0.7532808398950132,
          0.7559055118110236,
          0.7585301837270341,
          0.7611548556430446,
          0.7637795275590551,
          0.7664041994750657,
          0.7690288713910761,
          0.7716535433070866,
          0.7742782152230971,
          0.7769028871391076,
          0.7795275590551181,
          0.7821522309711286,
          0.7847769028871391,
          0.7874015748031497,
          0.7900262467191601,
          0.7926509186351706,
          0.7952755905511811,
          0.7979002624671916,
          0.800524934383202,
          0.8031496062992126,
          0.8057742782152231,
          0.8083989501312336,
          0.8110236220472441,
          0.8136482939632546,
          0.8162729658792651,
          0.8188976377952756,
          0.821522309711286,
          0.8241469816272966,
          0.8267716535433071,
          0.8293963254593176,
          0.8320209973753281,
          0.8346456692913385,
          0.8372703412073491,
          0.8398950131233596,
          0.84251968503937,
          0.8451443569553806,
          0.847769028871391,
          0.8503937007874016,
          0.8530183727034121,
          0.8556430446194225,
          0.8582677165354331,
          0.8608923884514436,
          0.863517060367454,
          0.8661417322834646,
          0.868766404199475,
          0.8713910761154856,
          0.8740157480314961,
          0.8766404199475065,
          0.8792650918635171,
          0.8818897637795275,
          0.884514435695538,
          0.8871391076115486,
          0.889763779527559,
          0.8923884514435696,
          0.89501312335958,
          0.8976377952755905,
          0.9002624671916011,
          0.9028871391076115,
          0.905511811023622,
          0.9081364829396326,
          0.910761154855643,
          0.9133858267716536,
          0.916010498687664,
          0.9186351706036745,
          0.9212598425196851,
          0.9238845144356955,
          0.926509186351706,
          0.9291338582677166,
          0.931758530183727,
          0.9343832020997376,
          0.937007874015748,
          0.9396325459317585,
          0.9422572178477691,
          0.9448818897637795,
          0.94750656167979,
          0.9501312335958005,
          0.952755905511811,
          0.9553805774278216,
          0.958005249343832,
          0.9606299212598425,
          0.963254593175853,
          0.9658792650918635,
          0.968503937007874,
          0.9711286089238845,
          0.973753280839895,
          0.9763779527559056,
          0.979002624671916,
          0.9816272965879265,
          0.984251968503937,
          0.9868766404199475,
          0.989501312335958,
          0.9921259842519685,
          0.994750656167979,
          0.9973753280839895
         ],
         "yaxis": "y"
        },
        {
         "marker": {
          "color": [
           "black",
           "black",
           "black",
           "black",
           "black",
           "black",
           "black",
           "black",
           "black",
           "black",
           "black",
           "black",
           "black",
           "black",
           "black",
           "#EF553B",
           "#EF553B",
           "#EF553B",
           "#EF553B",
           "#EF553B",
           "#EF553B",
           "#EF553B",
           "#EF553B",
           "#EF553B",
           "#EF553B",
           "#EF553B",
           "#EF553B",
           "#EF553B",
           "#EF553B",
           "#EF553B",
           "#EF553B",
           "#EF553B",
           "#EF553B",
           "#EF553B",
           "#EF553B",
           "#EF553B",
           "#EF553B",
           "#EF553B",
           "#EF553B",
           "#EF553B",
           "#EF553B",
           "#EF553B",
           "#EF553B",
           "#EF553B",
           "#EF553B",
           "#EF553B",
           "#EF553B",
           "#EF553B",
           "#EF553B",
           "#EF553B",
           "#EF553B",
           "#EF553B",
           "#EF553B",
           "#EF553B",
           "#EF553B",
           "#EF553B",
           "#EF553B",
           "#EF553B",
           "#EF553B",
           "#EF553B",
           "#EF553B",
           "#EF553B",
           "#EF553B",
           "#EF553B",
           "#EF553B",
           "#EF553B",
           "#EF553B",
           "#EF553B",
           "#EF553B",
           "#EF553B",
           "#EF553B",
           "#EF553B",
           "#EF553B",
           "#EF553B",
           "#EF553B",
           "#EF553B",
           "#EF553B",
           "#EF553B",
           "#EF553B",
           "#EF553B",
           "#EF553B",
           "#EF553B",
           "#EF553B",
           "#EF553B",
           "#EF553B",
           "#EF553B",
           "#EF553B",
           "#EF553B",
           "#EF553B",
           "#EF553B",
           "#EF553B",
           "#EF553B",
           "#EF553B",
           "#EF553B",
           "#EF553B",
           "#EF553B",
           "#EF553B",
           "#EF553B",
           "#EF553B",
           "#EF553B",
           "#EF553B",
           "#EF553B",
           "#EF553B",
           "#EF553B",
           "#EF553B",
           "#EF553B",
           "#EF553B",
           "#EF553B",
           "#EF553B",
           "#EF553B",
           "#EF553B",
           "#EF553B",
           "#EF553B",
           "#EF553B",
           "#EF553B",
           "#EF553B",
           "#EF553B",
           "#EF553B",
           "#EF553B",
           "#EF553B",
           "#EF553B",
           "#EF553B",
           "#EF553B",
           "#EF553B",
           "#EF553B",
           "#EF553B",
           "#EF553B",
           "#EF553B",
           "#EF553B",
           "#EF553B",
           "#EF553B",
           "#EF553B",
           "#EF553B",
           "#EF553B",
           "#EF553B",
           "#EF553B",
           "#EF553B",
           "#EF553B",
           "#EF553B",
           "#EF553B",
           "#EF553B",
           "#EF553B",
           "#EF553B",
           "#EF553B",
           "#EF553B",
           "#EF553B",
           "#EF553B",
           "#EF553B",
           "#EF553B",
           "#EF553B",
           "#EF553B",
           "#EF553B",
           "#EF553B",
           "#EF553B",
           "#EF553B",
           "#EF553B",
           "#EF553B",
           "#EF553B",
           "#EF553B",
           "#EF553B",
           "#EF553B",
           "#EF553B",
           "#EF553B",
           "#EF553B",
           "#EF553B",
           "#EF553B",
           "#EF553B",
           "#EF553B",
           "#EF553B",
           "#EF553B",
           "#EF553B",
           "#EF553B",
           "#EF553B",
           "#EF553B",
           "#EF553B",
           "#EF553B",
           "#EF553B",
           "#EF553B",
           "#EF553B",
           "#EF553B",
           "#EF553B",
           "#EF553B",
           "#EF553B",
           "#EF553B",
           "#EF553B",
           "#EF553B",
           "#EF553B",
           "#EF553B",
           "#EF553B",
           "#EF553B",
           "#EF553B",
           "#EF553B",
           "#EF553B",
           "#EF553B",
           "#EF553B",
           "#EF553B",
           "#EF553B",
           "#EF553B",
           "#EF553B",
           "#EF553B",
           "#EF553B",
           "#EF553B",
           "#EF553B",
           "#EF553B",
           "#EF553B",
           "#EF553B",
           "#EF553B",
           "#EF553B",
           "#EF553B",
           "#EF553B",
           "#EF553B",
           "#EF553B",
           "#EF553B",
           "#EF553B",
           "#EF553B",
           "#EF553B",
           "#EF553B",
           "#EF553B",
           "#EF553B",
           "#EF553B",
           "#EF553B",
           "#EF553B",
           "#EF553B",
           "#EF553B",
           "#EF553B",
           "#EF553B",
           "#EF553B",
           "#EF553B",
           "#EF553B",
           "#EF553B",
           "#EF553B",
           "#EF553B",
           "#EF553B",
           "#EF553B",
           "#EF553B",
           "#EF553B",
           "#EF553B",
           "#EF553B",
           "#EF553B",
           "#EF553B",
           "#EF553B",
           "#EF553B",
           "#EF553B",
           "#EF553B",
           "#EF553B",
           "#EF553B",
           "#EF553B",
           "#EF553B",
           "#EF553B",
           "#EF553B",
           "#EF553B",
           "#EF553B",
           "#EF553B",
           "#EF553B",
           "#EF553B",
           "#EF553B",
           "#EF553B",
           "#EF553B",
           "#EF553B",
           "#EF553B",
           "#EF553B",
           "#EF553B",
           "#EF553B",
           "#EF553B",
           "#EF553B",
           "#EF553B",
           "#EF553B",
           "#EF553B",
           "#EF553B",
           "#EF553B",
           "#EF553B",
           "#EF553B",
           "#EF553B",
           "#EF553B",
           "#EF553B",
           "#EF553B",
           "#EF553B",
           "#EF553B",
           "#EF553B",
           "#EF553B",
           "#EF553B",
           "#EF553B",
           "#EF553B",
           "#EF553B",
           "#EF553B",
           "#EF553B",
           "#EF553B",
           "#EF553B",
           "#EF553B",
           "#EF553B",
           "#EF553B",
           "#EF553B",
           "#EF553B",
           "#EF553B",
           "#EF553B",
           "#EF553B",
           "#EF553B",
           "#EF553B",
           "#EF553B",
           "#EF553B",
           "#EF553B",
           "#EF553B",
           "#EF553B",
           "#EF553B",
           "#EF553B",
           "#EF553B",
           "#EF553B",
           "#EF553B",
           "#EF553B",
           "#EF553B",
           "#EF553B",
           "#EF553B",
           "#EF553B",
           "#EF553B",
           "#EF553B",
           "#EF553B",
           "#EF553B",
           "#EF553B",
           "#EF553B",
           "#EF553B",
           "#EF553B",
           "#EF553B",
           "#EF553B",
           "#EF553B",
           "#EF553B",
           "#EF553B",
           "#EF553B",
           "#EF553B",
           "#EF553B",
           "#EF553B",
           "#EF553B",
           "#EF553B",
           "#EF553B",
           "#EF553B",
           "#EF553B",
           "#EF553B",
           "#EF553B",
           "#EF553B",
           "#EF553B",
           "#EF553B",
           "#EF553B",
           "#EF553B",
           "#EF553B",
           "#EF553B",
           "#EF553B",
           "#EF553B",
           "#EF553B",
           "#EF553B",
           "#EF553B",
           "#EF553B",
           "#EF553B",
           "#EF553B",
           "#EF553B",
           "#EF553B",
           "#EF553B",
           "#EF553B",
           "#EF553B",
           "#EF553B",
           "#EF553B",
           "#EF553B",
           "#EF553B",
           "#EF553B",
           "#EF553B",
           "#EF553B",
           "#EF553B",
           "#EF553B",
           "#EF553B",
           "#EF553B",
           "#EF553B",
           "#EF553B",
           "#EF553B",
           "#EF553B",
           "#EF553B",
           "#EF553B",
           "#EF553B",
           "#EF553B",
           "#EF553B",
           "#EF553B",
           "#EF553B",
           "#EF553B",
           "#EF553B",
           "#EF553B",
           "#EF553B",
           "#EF553B",
           "#EF553B",
           "#EF553B",
           "#EF553B",
           "#EF553B",
           "#EF553B",
           "#EF553B",
           "#EF553B",
           "#EF553B",
           "#EF553B",
           "#EF553B",
           "#EF553B",
           "#EF553B",
           "#EF553B",
           "#EF553B",
           "#EF553B",
           "#EF553B",
           "#EF553B",
           "#EF553B",
           "#EF553B",
           "#EF553B",
           "#EF553B",
           "#EF553B",
           "#EF553B",
           "#EF553B",
           "#EF553B",
           "#EF553B",
           "#EF553B",
           "#EF553B",
           "#EF553B",
           "#EF553B",
           "#EF553B",
           "#EF553B",
           "#EF553B",
           "#EF553B",
           "#EF553B",
           "#EF553B",
           "#EF553B",
           "#EF553B",
           "#EF553B",
           "#EF553B",
           "#EF553B",
           "#EF553B",
           "#EF553B",
           "#EF553B",
           "#EF553B",
           "#EF553B",
           "#EF553B",
           "#EF553B",
           "#EF553B",
           "#EF553B",
           "#EF553B",
           "#EF553B",
           "#EF553B",
           "#EF553B",
           "#EF553B",
           "#EF553B",
           "#EF553B",
           "#EF553B",
           "#EF553B",
           "#EF553B",
           "#EF553B",
           "#EF553B",
           "#EF553B",
           "#EF553B",
           "#EF553B",
           "#EF553B",
           "#EF553B",
           "#EF553B",
           "#EF553B",
           "#EF553B",
           "#EF553B",
           "#EF553B",
           "#EF553B",
           "#EF553B",
           "#EF553B",
           "#EF553B",
           "#EF553B",
           "#EF553B",
           "#EF553B",
           "#EF553B",
           "#EF553B",
           "#EF553B",
           "#EF553B",
           "#EF553B",
           "#EF553B",
           "#EF553B",
           "#EF553B",
           "#EF553B",
           "#EF553B",
           "#EF553B",
           "#EF553B",
           "#EF553B",
           "#EF553B",
           "#EF553B",
           "#EF553B",
           "#EF553B",
           "#EF553B",
           "#EF553B",
           "#EF553B",
           "#EF553B",
           "#EF553B",
           "#EF553B",
           "#EF553B",
           "#EF553B",
           "#EF553B",
           "#EF553B",
           "#EF553B",
           "#EF553B",
           "#EF553B",
           "#EF553B",
           "#EF553B",
           "#EF553B",
           "#EF553B",
           "#EF553B",
           "#EF553B",
           "#EF553B",
           "#EF553B",
           "#EF553B",
           "#EF553B",
           "#EF553B",
           "#EF553B",
           "#EF553B",
           "#EF553B",
           "#EF553B",
           "#EF553B",
           "#EF553B",
           "#EF553B",
           "#EF553B",
           "#EF553B",
           "#EF553B",
           "#EF553B",
           "#EF553B",
           "#EF553B",
           "#EF553B",
           "#EF553B",
           "#EF553B",
           "#EF553B",
           "#EF553B",
           "#EF553B",
           "#EF553B",
           "#EF553B",
           "#EF553B",
           "#EF553B",
           "#EF553B",
           "#EF553B",
           "#EF553B",
           "#EF553B",
           "#EF553B",
           "#EF553B",
           "#EF553B",
           "#EF553B",
           "#EF553B",
           "#EF553B",
           "#EF553B",
           "#EF553B",
           "#EF553B",
           "#EF553B",
           "#EF553B",
           "#EF553B",
           "#EF553B",
           "#EF553B",
           "#EF553B",
           "#EF553B",
           "#EF553B",
           "#EF553B",
           "#EF553B",
           "#EF553B",
           "#EF553B",
           "#EF553B",
           "#EF553B",
           "#EF553B",
           "#EF553B",
           "#EF553B",
           "#EF553B",
           "#EF553B",
           "#EF553B",
           "#EF553B",
           "#EF553B",
           "#EF553B",
           "#EF553B",
           "#EF553B",
           "#EF553B",
           "#EF553B",
           "#EF553B",
           "#EF553B",
           "#EF553B",
           "#EF553B",
           "#EF553B",
           "#EF553B",
           "#EF553B",
           "#EF553B",
           "#EF553B",
           "#EF553B",
           "#EF553B",
           "#EF553B",
           "#EF553B",
           "#EF553B",
           "#EF553B",
           "#EF553B",
           "#EF553B",
           "#EF553B",
           "#EF553B",
           "#EF553B",
           "#EF553B",
           "#EF553B",
           "#EF553B",
           "#EF553B",
           "#EF553B",
           "#EF553B",
           "#EF553B",
           "#EF553B",
           "#EF553B",
           "#EF553B",
           "#EF553B",
           "#EF553B",
           "#EF553B",
           "#EF553B",
           "#EF553B",
           "#EF553B",
           "#EF553B",
           "#EF553B",
           "#EF553B",
           "#EF553B",
           "#EF553B",
           "#EF553B",
           "#EF553B",
           "#EF553B",
           "#EF553B",
           "#EF553B",
           "#EF553B",
           "#EF553B",
           "#EF553B",
           "#EF553B",
           "#EF553B",
           "#EF553B",
           "#EF553B",
           "#EF553B",
           "#EF553B",
           "#EF553B",
           "#EF553B",
           "#EF553B",
           "#EF553B",
           "#EF553B",
           "#EF553B",
           "#EF553B",
           "#EF553B",
           "#EF553B",
           "#EF553B",
           "#EF553B",
           "#EF553B",
           "#EF553B",
           "#EF553B",
           "#EF553B",
           "#EF553B",
           "#EF553B",
           "#EF553B",
           "#EF553B",
           "black",
           "black",
           "black",
           "black",
           "black",
           "black",
           "black",
           "black",
           "black",
           "black",
           "black",
           "black",
           "black",
           "black",
           "black"
          ],
          "size": 3
         },
         "mode": "markers",
         "showlegend": false,
         "type": "scatter",
         "x": [
          -0.09254935963314878,
          -0.07865695876664024,
          -0.06935404196435653,
          -0.05302085791568125,
          -0.05186994866164775,
          -0.05164528025699827,
          -0.049098062569705336,
          -0.0476480644688242,
          -0.0449481108736798,
          -0.04362941977433533,
          -0.03922680100329592,
          -0.03922680100329592,
          -0.03894042139809008,
          -0.03696457868860433,
          -0.03282051707779914,
          -0.03229137814805166,
          -0.029306884381756996,
          -0.02723879607850051,
          -0.026901467442407012,
          -0.026464909923929237,
          -0.026136778613544017,
          -0.02499258826212868,
          -0.0191867257619002,
          -0.013710565571050224,
          -0.01207814551181387,
          -0.012005091923217383,
          -0.01181393608066348,
          -0.011633677405565477,
          -0.01157792959788844,
          -0.010587990317302565,
          -0.008039160783496828,
          -0.007919444854387432,
          -0.007797177671533163,
          -0.007618387691308588,
          -0.007499293600533464,
          -0.0072576056829972025,
          -0.0067559454409065285,
          -0.006692583934939696,
          -0.0066259215691994635,
          -0.006498257500450803,
          -0.00635823385864384,
          -0.006228723334774757,
          -0.0057838022840425,
          -0.005662831499054426,
          -0.005411951695977089,
          -0.005048710596083407,
          -0.004813223260427668,
          -0.004799468308351288,
          -0.004207813649877552,
          -0.004163105405724298,
          -0.004160447439208572,
          -0.004081866739649008,
          -0.004061251437645752,
          -0.004018987800078008,
          -0.003521050768288936,
          -0.0034711819978223445,
          -0.003428268442335662,
          -0.0034145463693614595,
          -0.0033711575242107595,
          -0.003302047865672737,
          -0.0031527096900612686,
          -0.0030940107083834508,
          -0.0026938680121765426,
          -0.0025950417789566975,
          -0.002430142949286174,
          -0.0023887241925651037,
          -0.00218154981371784,
          -0.002071074329067011,
          -0.002037001640543214,
          -0.0019873090663817547,
          -0.0019584485243856714,
          -0.0019394430603966958,
          -0.0017686987598728103,
          -0.001662464639697028,
          -0.0015897599457066597,
          -0.0013731008670281883,
          -0.0013731008670281883,
          -0.0013724435753523544,
          -0.0012692785139856743,
          -0.0012634927770028904,
          -0.001251582855328632,
          -0.0012428232482937242,
          -0.001205179526181874,
          -0.001183196067777782,
          -0.0011682690641350996,
          -0.001164433941278688,
          -0.0011643753608903706,
          -0.001093735316790607,
          -0.0010797600078669555,
          -0.0010709997185662746,
          -0.0010224321769305423,
          -0.0009956697744166834,
          -0.0009539569851482862,
          -0.0009321033545491541,
          -0.0009140972621211438,
          -0.0009042712134149466,
          -0.0007062831750150291,
          -0.0006737014724445644,
          -0.0006586083415330984,
          -0.0006512424430508466,
          -0.0006403522090326429,
          -0.0006213151768631091,
          -0.0006178630731722529,
          -0.0006032001748946153,
          -0.0006016913934434608,
          -0.0005831600966698055,
          -0.0005786189743034957,
          -0.0005712608349306337,
          -0.000555642293837179,
          -0.0005475300088380559,
          -0.0005424196886971538,
          -0.0005051330996105401,
          -0.0004854542263944898,
          -0.0004691041034526825,
          -0.00043156681871114573,
          -0.0004264313546169642,
          -0.0004219147694791537,
          -0.00039950656033316533,
          -0.00038888065393762733,
          -0.0003463622442654038,
          -0.00033765312679594634,
          -0.00031323471059671544,
          -0.00030500199091394633,
          -0.0003028344891154317,
          -0.00029862601322041995,
          -0.00029228709890881453,
          -0.0002921741667443957,
          -0.0002858930454121777,
          -0.0002575884973355193,
          -0.0002562065068072609,
          -0.0002456902629435501,
          -0.0002247216502323234,
          -0.00022162310850224888,
          -0.0002164211389922454,
          -0.00020471558669914872,
          -0.00019755929785432701,
          -0.00019587316123853161,
          -0.00019492468026350844,
          -0.00017741147504261062,
          -0.00017694992795170856,
          -0.00017573983707358447,
          -0.00017531113523984996,
          -0.00017165360238627714,
          -0.00016824561448485148,
          -0.000163758240435958,
          -0.00015273990986274931,
          -0.0001387907971322593,
          -0.00013810928145556044,
          -0.0001254481310370942,
          -0.0001239557731527223,
          -0.00011276671269078415,
          -0.00010743420371632223,
          -0.0001063283807706654,
          -0.00010588832678467035,
          -0.00010226963231891964,
          -0.00008287360669534196,
          -0.00008243208156281152,
          -0.00006944320898723509,
          -0.00006902210409840834,
          -0.00006481000370791898,
          -0.00006383082650216126,
          -0.00005947976639488589,
          -0.000058480484769704355,
          -0.000055785571867234125,
          -0.000041043573154717704,
          -0.000037756464039813474,
          -0.0000368165844099795,
          -0.00003438779280427325,
          -0.000023077613973609085,
          -0.000022098820592216374,
          -0.00002182785843844837,
          -0.000020253999157087925,
          -0.000019262730258970535,
          -0.000015787850872532947,
          -0.000015173093196382669,
          -0.000014237621230002823,
          -0.000014188115178349756,
          -0.000013642268425254181,
          -0.000011078234913170845,
          -0.000008030692111039596,
          -0.000007579793082334463,
          -0.000006796761545110462,
          -0.000005672591911368977,
          -0.00000555951351812638,
          -0.00000505299399220658,
          -0.000004339456052880735,
          -0.0000031457232054179223,
          -0.0000014935682097380327,
          -0.0000012935448757538947,
          -0.0000011870565208094474,
          -0.0000011294885553533206,
          -6.024910945723911e-7,
          -2.3682032483744133e-8,
          3.391842724794035e-9,
          3.168723597378889e-8,
          2.4049919166377297e-7,
          8.972058621870782e-7,
          0.000002291758289725952,
          0.000003944737862889252,
          0.0000055502967860228386,
          0.000007573344186896608,
          0.00000852291215192695,
          0.000008767574738968294,
          0.000008796294603285355,
          0.000012458252122005958,
          0.000012539664904996087,
          0.000017690413367369517,
          0.000021524201958707583,
          0.00002238968458109193,
          0.000022549630195593938,
          0.000023063071180682282,
          0.000023826749479171387,
          0.000025214067820301475,
          0.000029677793716257535,
          0.000039297024923517406,
          0.000042303228982266374,
          0.00005083908844677273,
          0.00006227422349947253,
          0.00006261299840567755,
          0.00007111221986966957,
          0.00008345361373670985,
          0.0000997533616805309,
          0.00010168739762694583,
          0.00010169285613354427,
          0.00010454471686714944,
          0.00010462499385312036,
          0.00012745755979593897,
          0.0001366492767113633,
          0.00015466521963772157,
          0.00015497162710693426,
          0.0001565467241099057,
          0.00015816938353583414,
          0.00016245054917107704,
          0.00016245475540048573,
          0.00016540968052281056,
          0.00017248093502346615,
          0.00018054797819677822,
          0.00018255307752838897,
          0.00018280301180745735,
          0.000184495076420231,
          0.0002057996320271742,
          0.00022405223154720643,
          0.00022731990185185575,
          0.000231333287518075,
          0.00023226055055637214,
          0.00023694876614433998,
          0.00024184637974968012,
          0.00024329721214089227,
          0.00024409880978779294,
          0.00026848745276368216,
          0.00027551403593015835,
          0.00029917915356806376,
          0.0003161654383060347,
          0.0003410537149552945,
          0.000354721873118336,
          0.00037422203081135435,
          0.0003814879742090163,
          0.0003823559760922234,
          0.00038493815719255854,
          0.0003872508547449874,
          0.0003892286037019539,
          0.0003927652382203827,
          0.00039550666462237537,
          0.00040069577126308233,
          0.0004015456893233253,
          0.0004163540126889564,
          0.0004186841874709957,
          0.00042001756400071534,
          0.0004361140952129496,
          0.0004464671725330344,
          0.00044729824086463255,
          0.00045105256820409664,
          0.00046139519943753774,
          0.00046862218884405343,
          0.00046975651768031305,
          0.0004773685245794751,
          0.0004907250990384153,
          0.000510233767472306,
          0.0005212965411456841,
          0.0005213314414279673,
          0.000534083807664482,
          0.0005672717842382496,
          0.0005857919255637813,
          0.0006002268189033753,
          0.0006120331029896041,
          0.0006132443939453222,
          0.0006202681078129863,
          0.0006243425370241794,
          0.000634495680548667,
          0.0006445244079746349,
          0.0006466177267113602,
          0.0006485662359629267,
          0.0006490702362205474,
          0.0006563932966877587,
          0.0006715791006915962,
          0.0006977059812047375,
          0.0007670707545045192,
          0.0007810948999223959,
          0.0007817437345531802,
          0.0007959485889478212,
          0.0008262966488351793,
          0.0008793427267758383,
          0.0009303389457008345,
          0.0009396934358011485,
          0.0009568224698259991,
          0.0009736590034899392,
          0.0010018789576344068,
          0.0010408512644581663,
          0.001045629741732782,
          0.0011917714361545768,
          0.0012312101017857922,
          0.0013085575391530186,
          0.0013148899511604903,
          0.001320426332141832,
          0.0013269324064430058,
          0.0013442141827696191,
          0.0013674181746952533,
          0.001369966889067839,
          0.0013935823275414195,
          0.0013954047463109963,
          0.001433922383138691,
          0.00148488375781052,
          0.0015296047629016543,
          0.001558528888632706,
          0.0015762162272857099,
          0.0015846953103700841,
          0.0016305251639288333,
          0.0016720242425797456,
          0.0017172399235282393,
          0.001725634522109787,
          0.001727164175126237,
          0.0017844403315254165,
          0.0018733001957248656,
          0.001924748907310142,
          0.0019376999295746624,
          0.0019809596320470853,
          0.0020950377064764217,
          0.0021054968622982455,
          0.0021416959685556527,
          0.002247755194101664,
          0.002299434039094866,
          0.0023557525761919136,
          0.002410938376720045,
          0.002440652778542965,
          0.0024557029736709574,
          0.002584540050581083,
          0.0026050122797490888,
          0.0026364944806035132,
          0.00264935459703247,
          0.002730897730649416,
          0.002834176746338344,
          0.0031065336300329675,
          0.0031275897569235083,
          0.0033371892964108303,
          0.0033959068226009433,
          0.003405193284743669,
          0.0034550349392542382,
          0.0035339411775710764,
          0.0036167792165204375,
          0.0038554244625429446,
          0.0038950204970353472,
          0.004124772737689503,
          0.004189981634605731,
          0.004204950390271902,
          0.004307833828888097,
          0.004556984100609059,
          0.004653786673308127,
          0.004679229954031023,
          0.004688679275872221,
          0.0047666640276528,
          0.0048267837363917465,
          0.004842558806672233,
          0.005152717511916669,
          0.005465555491073792,
          0.005577813100224318,
          0.0057372558965801,
          0.0058547167378074855,
          0.0059791263806732295,
          0.006736284322576117,
          0.008379379622115662,
          0.009096504589799527,
          0.009857563518081876,
          0.010215965229825097,
          0.010269570325597376,
          0.011029072926511034,
          0.011644710859810437,
          0.011799268553713169,
          0.012143100288161252,
          0.013887914799371312,
          0.014148549027429543,
          0.014420654464822973,
          0.014642800263726155,
          0.015198013084699561,
          0.015919416453852926,
          0.01620871781342669,
          0.016417449608292178,
          0.016531236321009564,
          0.016715400771985477,
          0.016715400771985477,
          0.017859106580179477,
          0.01823597091000078,
          0.018594803966704234,
          0.018730572502096685,
          0.01983781194409085,
          0.02014721524759494,
          0.02174063880740705,
          0.022324872292350282,
          0.02249130198361283,
          0.022834584565405103,
          0.02378751766339988,
          0.024056759000045825,
          0.024489393200230886,
          0.025420208994802403,
          0.02638295072517661,
          0.028248731174869073,
          0.03172231180341781,
          0.03349413225040336,
          0.034798459871783476,
          0.03486320998209476,
          0.035951475534126726,
          0.037210841959746055,
          0.03764530674925726,
          0.037807152553839415,
          0.04131831331160657,
          0.04346826675165996,
          0.044446731514531726,
          0.04629408376854246,
          0.04803112924275509,
          0.04841535386167807,
          0.04841535386167807,
          0.0490283851832676,
          0.049165661232529766,
          0.05042545628198404,
          0.05137237164570327,
          0.05222281571523519,
          0.05550819759972227,
          0.058356381800566876,
          0.059157250842303666,
          0.06311360660385239,
          0.06546975560938498,
          0.06580841912310269,
          0.06809821093159993,
          0.0685623447050784,
          0.07003281045116372,
          0.07209877258734386,
          0.07329947336677194,
          0.07379547548045692,
          0.07654959889256752,
          0.0774064484825552,
          0.07808855673313138,
          0.08229338136819697,
          0.08271219547580962,
          0.08318088025965717,
          0.08329278379083883,
          0.08406146675605501,
          0.08532243126265067,
          0.08592189911227391,
          0.09241265548993376,
          0.09327726202564064,
          0.10115777379684739,
          0.10285450155614537,
          0.10627995431399719,
          0.11089450460230033,
          0.11449589373780758,
          0.12024805181381727,
          0.12401670906747425,
          0.1243599593651848,
          0.12708716178533075,
          0.13595838266757737,
          0.13655760259791036,
          0.14011060565872965,
          0.1403896541841839,
          0.14151766001331495,
          0.14151766001331495,
          0.148907190821966,
          0.15044112878225058,
          0.15153886147008186,
          0.1524191841818493,
          0.15918080062754517,
          0.16180401362722638,
          0.16322995168497795,
          0.1685737297468922,
          0.17113850687691404,
          0.17589746912721002,
          0.17790000369906628,
          0.18540860463028408,
          0.18540860463028408,
          0.18831157671528626,
          0.18891742174102938,
          0.18891742174102938,
          0.18956441091881185,
          0.1915355779239215,
          0.19315228518123667,
          0.1947934841136869,
          0.1963808539117673,
          0.1982962787454362,
          0.19904095764796445,
          0.20134899302167286,
          0.20278563395121066,
          0.204786519585323,
          0.204786519585323,
          0.2048097764830991,
          0.20536025947991102,
          0.20536025947991102,
          0.2105405168808672,
          0.21136603216257802,
          0.21449438722756195,
          0.22588060616900366,
          0.22588060616900366,
          0.22608806357520872,
          0.22646500283996795,
          0.22879071940448767,
          0.22953933121980646,
          0.23032498614853464,
          0.23051870045304537,
          0.23119070400446398,
          0.23220534306680668,
          0.2334193185666836,
          0.23344639461369476,
          0.2335674694472444,
          0.23765634231622842,
          0.2378373818653901,
          0.23878442939226388,
          0.241321667359789,
          0.2421804318389033,
          0.24343627705114124,
          0.2442304530007873,
          0.24888876319962872,
          0.25471913823350606,
          0.256458324974883,
          0.25752603763312965,
          0.26120559221963613,
          0.2616976455186869,
          0.2622495237122207,
          0.26429516501475564,
          0.2650805223754481,
          0.26587044066890314,
          0.26587044066890314,
          0.26711708558735997,
          0.2674091153812772,
          0.26820071879134044,
          0.2710525040827929,
          0.2715219372243807,
          0.27371361347370854,
          0.2741360941713013,
          0.27619891899819343,
          0.2774026549241346,
          0.2788749607661905,
          0.2792540616422139,
          0.28141240376757193,
          0.28321258454832027,
          0.28458628115757517,
          0.28860426664249117,
          0.2924207333289339,
          0.29248289812441985,
          0.29311281336543293,
          0.29316136625226386,
          0.29426501428400903,
          0.29529801799143784,
          0.29830832997802337,
          0.29967179758257395,
          0.29967179758257395,
          0.29970580478779746,
          0.300862457773461,
          0.3057916727941445,
          0.30717246197205283,
          0.30800612654425485,
          0.30800612654425485,
          0.3144458889267098,
          0.315238263303698,
          0.31555306749272366,
          0.31651303400561426,
          0.31679712967790497,
          0.31743020910687636,
          0.31937173410259395,
          0.32030316193700487,
          0.32036021694193956,
          0.32041665212105025,
          0.32286002845519696,
          0.32305238577078094,
          0.32315725130379314,
          0.3232377901921317,
          0.323978879748664,
          0.32425069843843224,
          0.3254866646273567,
          0.32580845525132157,
          0.32661880309266084,
          0.32677470943654646,
          0.3279537708348303,
          0.328751037833364,
          0.32984033257128553,
          0.32984033257128553,
          0.33062357834383865,
          0.33079999292088,
          0.3317433259817062,
          0.3328608754258954,
          0.33325978523459004,
          0.3346056371426263,
          0.3385101027003266,
          0.3389127795230408,
          0.3398308549466613,
          0.3458612672722983,
          0.3544981386857248,
          0.35615012303568816,
          0.35615012303568816,
          0.35746526844563514,
          0.3605878411542771,
          0.3614377773629849,
          0.37628267238820834,
          0.37729146897670984,
          0.38274676002852753,
          0.3841801632873189,
          0.3851744599753483,
          0.3860450271216069,
          0.3876462473925317,
          0.38919944270399404,
          0.3913212034655841,
          0.3913212034655841,
          0.3928047942415884,
          0.3954017976086024,
          0.3995457095267214,
          0.4055067340963376,
          0.41057405155638327,
          0.41528684544582845,
          0.4180080334454176,
          0.41893331283853225,
          0.4205948593692538,
          0.4238106180750295,
          0.42492992457798223,
          0.4254425102694117,
          0.42767671937457,
          0.4290426846782804,
          0.4300037665139008,
          0.4315688477143516,
          0.4373931896054362,
          0.4373931896054362,
          0.44134614858782695,
          0.4430219054769043,
          0.4430219054769043,
          0.44852348124877334,
          0.4517004850906857,
          0.463187110154929,
          0.4635503856000358,
          0.46885099192170876,
          0.4810921790115656,
          0.4815643289048319,
          0.48192275285994457,
          0.48358760957670577,
          0.4887027342618962,
          0.49055989363947006,
          0.49336630042179735,
          0.4936712870823964,
          0.5129136084834346,
          0.5129136084834346,
          0.5193298215046362,
          0.5193298215046362
         ],
         "xaxis": "x2",
         "y": [
          0,
          0.001524390243902439,
          0.003048780487804878,
          0.004573170731707317,
          0.006097560975609756,
          0.007621951219512195,
          0.009146341463414634,
          0.010670731707317074,
          0.012195121951219513,
          0.013719512195121951,
          0.01524390243902439,
          0.01676829268292683,
          0.018292682926829267,
          0.019817073170731708,
          0.021341463414634148,
          0.022865853658536585,
          0.024390243902439025,
          0.025914634146341462,
          0.027439024390243903,
          0.028963414634146343,
          0.03048780487804878,
          0.03201219512195122,
          0.03353658536585366,
          0.0350609756097561,
          0.036585365853658534,
          0.038109756097560975,
          0.039634146341463415,
          0.041158536585365856,
          0.042682926829268296,
          0.04420731707317073,
          0.04573170731707317,
          0.04725609756097561,
          0.04878048780487805,
          0.05030487804878049,
          0.051829268292682924,
          0.053353658536585365,
          0.054878048780487805,
          0.056402439024390245,
          0.057926829268292686,
          0.05945121951219512,
          0.06097560975609756,
          0.0625,
          0.06402439024390244,
          0.06554878048780488,
          0.06707317073170732,
          0.06859756097560976,
          0.0701219512195122,
          0.07164634146341463,
          0.07317073170731707,
          0.07469512195121951,
          0.07621951219512195,
          0.07774390243902439,
          0.07926829268292683,
          0.08079268292682927,
          0.08231707317073171,
          0.08384146341463415,
          0.08536585365853659,
          0.08689024390243902,
          0.08841463414634146,
          0.0899390243902439,
          0.09146341463414634,
          0.09298780487804878,
          0.09451219512195122,
          0.09603658536585366,
          0.0975609756097561,
          0.09908536585365854,
          0.10060975609756098,
          0.10213414634146341,
          0.10365853658536585,
          0.10518292682926829,
          0.10670731707317073,
          0.10823170731707317,
          0.10975609756097561,
          0.11128048780487805,
          0.11280487804878049,
          0.11432926829268293,
          0.11585365853658537,
          0.1173780487804878,
          0.11890243902439024,
          0.12042682926829268,
          0.12195121951219512,
          0.12347560975609756,
          0.125,
          0.12652439024390244,
          0.12804878048780488,
          0.12957317073170732,
          0.13109756097560976,
          0.1326219512195122,
          0.13414634146341464,
          0.13567073170731708,
          0.13719512195121952,
          0.13871951219512196,
          0.1402439024390244,
          0.14176829268292682,
          0.14329268292682926,
          0.1448170731707317,
          0.14634146341463414,
          0.14786585365853658,
          0.14939024390243902,
          0.15091463414634146,
          0.1524390243902439,
          0.15396341463414634,
          0.15548780487804878,
          0.15701219512195122,
          0.15853658536585366,
          0.1600609756097561,
          0.16158536585365854,
          0.16310975609756098,
          0.16463414634146342,
          0.16615853658536586,
          0.1676829268292683,
          0.16920731707317074,
          0.17073170731707318,
          0.1722560975609756,
          0.17378048780487804,
          0.17530487804878048,
          0.17682926829268292,
          0.17835365853658536,
          0.1798780487804878,
          0.18140243902439024,
          0.18292682926829268,
          0.18445121951219512,
          0.18597560975609756,
          0.1875,
          0.18902439024390244,
          0.19054878048780488,
          0.19207317073170732,
          0.19359756097560976,
          0.1951219512195122,
          0.19664634146341464,
          0.19817073170731708,
          0.19969512195121952,
          0.20121951219512196,
          0.2027439024390244,
          0.20426829268292682,
          0.20579268292682926,
          0.2073170731707317,
          0.20884146341463414,
          0.21036585365853658,
          0.21189024390243902,
          0.21341463414634146,
          0.2149390243902439,
          0.21646341463414634,
          0.21798780487804878,
          0.21951219512195122,
          0.22103658536585366,
          0.2225609756097561,
          0.22408536585365854,
          0.22560975609756098,
          0.22713414634146342,
          0.22865853658536586,
          0.2301829268292683,
          0.23170731707317074,
          0.23323170731707318,
          0.2347560975609756,
          0.23628048780487804,
          0.23780487804878048,
          0.23932926829268292,
          0.24085365853658536,
          0.2423780487804878,
          0.24390243902439024,
          0.24542682926829268,
          0.24695121951219512,
          0.24847560975609756,
          0.25,
          0.25152439024390244,
          0.2530487804878049,
          0.2545731707317073,
          0.25609756097560976,
          0.2576219512195122,
          0.25914634146341464,
          0.2606707317073171,
          0.2621951219512195,
          0.26371951219512196,
          0.2652439024390244,
          0.26676829268292684,
          0.2682926829268293,
          0.2698170731707317,
          0.27134146341463417,
          0.2728658536585366,
          0.27439024390243905,
          0.2759146341463415,
          0.2774390243902439,
          0.27896341463414637,
          0.2804878048780488,
          0.2820121951219512,
          0.28353658536585363,
          0.2850609756097561,
          0.2865853658536585,
          0.28810975609756095,
          0.2896341463414634,
          0.29115853658536583,
          0.2926829268292683,
          0.2942073170731707,
          0.29573170731707316,
          0.2972560975609756,
          0.29878048780487804,
          0.3003048780487805,
          0.3018292682926829,
          0.30335365853658536,
          0.3048780487804878,
          0.30640243902439024,
          0.3079268292682927,
          0.3094512195121951,
          0.31097560975609756,
          0.3125,
          0.31402439024390244,
          0.3155487804878049,
          0.3170731707317073,
          0.31859756097560976,
          0.3201219512195122,
          0.32164634146341464,
          0.3231707317073171,
          0.3246951219512195,
          0.32621951219512196,
          0.3277439024390244,
          0.32926829268292684,
          0.3307926829268293,
          0.3323170731707317,
          0.33384146341463417,
          0.3353658536585366,
          0.33689024390243905,
          0.3384146341463415,
          0.3399390243902439,
          0.34146341463414637,
          0.3429878048780488,
          0.3445121951219512,
          0.34603658536585363,
          0.3475609756097561,
          0.3490853658536585,
          0.35060975609756095,
          0.3521341463414634,
          0.35365853658536583,
          0.3551829268292683,
          0.3567073170731707,
          0.35823170731707316,
          0.3597560975609756,
          0.36128048780487804,
          0.3628048780487805,
          0.3643292682926829,
          0.36585365853658536,
          0.3673780487804878,
          0.36890243902439024,
          0.3704268292682927,
          0.3719512195121951,
          0.37347560975609756,
          0.375,
          0.37652439024390244,
          0.3780487804878049,
          0.3795731707317073,
          0.38109756097560976,
          0.3826219512195122,
          0.38414634146341464,
          0.3856707317073171,
          0.3871951219512195,
          0.38871951219512196,
          0.3902439024390244,
          0.39176829268292684,
          0.3932926829268293,
          0.3948170731707317,
          0.39634146341463417,
          0.3978658536585366,
          0.39939024390243905,
          0.4009146341463415,
          0.4024390243902439,
          0.40396341463414637,
          0.4054878048780488,
          0.4070121951219512,
          0.40853658536585363,
          0.4100609756097561,
          0.4115853658536585,
          0.41310975609756095,
          0.4146341463414634,
          0.41615853658536583,
          0.4176829268292683,
          0.4192073170731707,
          0.42073170731707316,
          0.4222560975609756,
          0.42378048780487804,
          0.4253048780487805,
          0.4268292682926829,
          0.42835365853658536,
          0.4298780487804878,
          0.43140243902439024,
          0.4329268292682927,
          0.4344512195121951,
          0.43597560975609756,
          0.4375,
          0.43902439024390244,
          0.4405487804878049,
          0.4420731707317073,
          0.44359756097560976,
          0.4451219512195122,
          0.44664634146341464,
          0.4481707317073171,
          0.4496951219512195,
          0.45121951219512196,
          0.4527439024390244,
          0.45426829268292684,
          0.4557926829268293,
          0.4573170731707317,
          0.45884146341463417,
          0.4603658536585366,
          0.46189024390243905,
          0.4634146341463415,
          0.4649390243902439,
          0.46646341463414637,
          0.4679878048780488,
          0.4695121951219512,
          0.47103658536585363,
          0.4725609756097561,
          0.4740853658536585,
          0.47560975609756095,
          0.4771341463414634,
          0.47865853658536583,
          0.4801829268292683,
          0.4817073170731707,
          0.48323170731707316,
          0.4847560975609756,
          0.48628048780487804,
          0.4878048780487805,
          0.4893292682926829,
          0.49085365853658536,
          0.4923780487804878,
          0.49390243902439024,
          0.4954268292682927,
          0.4969512195121951,
          0.49847560975609756,
          0.5,
          0.5015243902439024,
          0.5030487804878049,
          0.5045731707317073,
          0.5060975609756098,
          0.5076219512195121,
          0.5091463414634146,
          0.510670731707317,
          0.5121951219512195,
          0.5137195121951219,
          0.5152439024390244,
          0.5167682926829268,
          0.5182926829268293,
          0.5198170731707317,
          0.5213414634146342,
          0.5228658536585366,
          0.524390243902439,
          0.5259146341463414,
          0.5274390243902439,
          0.5289634146341463,
          0.5304878048780488,
          0.5320121951219512,
          0.5335365853658537,
          0.5350609756097561,
          0.5365853658536586,
          0.538109756097561,
          0.5396341463414634,
          0.5411585365853658,
          0.5426829268292683,
          0.5442073170731707,
          0.5457317073170732,
          0.5472560975609756,
          0.5487804878048781,
          0.5503048780487805,
          0.551829268292683,
          0.5533536585365854,
          0.5548780487804879,
          0.5564024390243902,
          0.5579268292682927,
          0.5594512195121951,
          0.5609756097560976,
          0.5625,
          0.5640243902439024,
          0.5655487804878049,
          0.5670731707317073,
          0.5685975609756098,
          0.5701219512195121,
          0.5716463414634146,
          0.573170731707317,
          0.5746951219512195,
          0.5762195121951219,
          0.5777439024390244,
          0.5792682926829268,
          0.5807926829268293,
          0.5823170731707317,
          0.5838414634146342,
          0.5853658536585366,
          0.586890243902439,
          0.5884146341463414,
          0.5899390243902439,
          0.5914634146341463,
          0.5929878048780488,
          0.5945121951219512,
          0.5960365853658537,
          0.5975609756097561,
          0.5990853658536586,
          0.600609756097561,
          0.6021341463414634,
          0.6036585365853658,
          0.6051829268292683,
          0.6067073170731707,
          0.6082317073170732,
          0.6097560975609756,
          0.6112804878048781,
          0.6128048780487805,
          0.614329268292683,
          0.6158536585365854,
          0.6173780487804879,
          0.6189024390243902,
          0.6204268292682927,
          0.6219512195121951,
          0.6234756097560976,
          0.625,
          0.6265243902439024,
          0.6280487804878049,
          0.6295731707317073,
          0.6310975609756098,
          0.6326219512195121,
          0.6341463414634146,
          0.635670731707317,
          0.6371951219512195,
          0.6387195121951219,
          0.6402439024390244,
          0.6417682926829268,
          0.6432926829268293,
          0.6448170731707317,
          0.6463414634146342,
          0.6478658536585366,
          0.649390243902439,
          0.6509146341463414,
          0.6524390243902439,
          0.6539634146341463,
          0.6554878048780488,
          0.6570121951219512,
          0.6585365853658537,
          0.6600609756097561,
          0.6615853658536586,
          0.663109756097561,
          0.6646341463414634,
          0.6661585365853658,
          0.6676829268292683,
          0.6692073170731707,
          0.6707317073170732,
          0.6722560975609756,
          0.6737804878048781,
          0.6753048780487805,
          0.676829268292683,
          0.6783536585365854,
          0.6798780487804879,
          0.6814024390243902,
          0.6829268292682927,
          0.6844512195121951,
          0.6859756097560976,
          0.6875,
          0.6890243902439024,
          0.6905487804878049,
          0.6920731707317073,
          0.6935975609756098,
          0.6951219512195121,
          0.6966463414634146,
          0.698170731707317,
          0.6996951219512195,
          0.7012195121951219,
          0.7027439024390244,
          0.7042682926829268,
          0.7057926829268293,
          0.7073170731707317,
          0.7088414634146342,
          0.7103658536585366,
          0.711890243902439,
          0.7134146341463414,
          0.7149390243902439,
          0.7164634146341463,
          0.7179878048780488,
          0.7195121951219512,
          0.7210365853658537,
          0.7225609756097561,
          0.7240853658536586,
          0.725609756097561,
          0.7271341463414634,
          0.7286585365853658,
          0.7301829268292683,
          0.7317073170731707,
          0.7332317073170732,
          0.7347560975609756,
          0.7362804878048781,
          0.7378048780487805,
          0.739329268292683,
          0.7408536585365854,
          0.7423780487804879,
          0.7439024390243902,
          0.7454268292682927,
          0.7469512195121951,
          0.7484756097560976,
          0.75,
          0.7515243902439024,
          0.7530487804878049,
          0.7545731707317073,
          0.7560975609756098,
          0.7576219512195121,
          0.7591463414634146,
          0.760670731707317,
          0.7621951219512195,
          0.7637195121951219,
          0.7652439024390244,
          0.7667682926829268,
          0.7682926829268293,
          0.7698170731707317,
          0.7713414634146342,
          0.7728658536585366,
          0.774390243902439,
          0.7759146341463414,
          0.7774390243902439,
          0.7789634146341463,
          0.7804878048780488,
          0.7820121951219512,
          0.7835365853658537,
          0.7850609756097561,
          0.7865853658536586,
          0.788109756097561,
          0.7896341463414634,
          0.7911585365853658,
          0.7926829268292683,
          0.7942073170731707,
          0.7957317073170732,
          0.7972560975609756,
          0.7987804878048781,
          0.8003048780487805,
          0.801829268292683,
          0.8033536585365854,
          0.8048780487804879,
          0.8064024390243902,
          0.8079268292682927,
          0.8094512195121951,
          0.8109756097560976,
          0.8125,
          0.8140243902439024,
          0.8155487804878049,
          0.8170731707317073,
          0.8185975609756098,
          0.8201219512195121,
          0.8216463414634146,
          0.823170731707317,
          0.8246951219512195,
          0.8262195121951219,
          0.8277439024390244,
          0.8292682926829268,
          0.8307926829268293,
          0.8323170731707317,
          0.8338414634146342,
          0.8353658536585366,
          0.836890243902439,
          0.8384146341463414,
          0.8399390243902439,
          0.8414634146341463,
          0.8429878048780488,
          0.8445121951219512,
          0.8460365853658537,
          0.8475609756097561,
          0.8490853658536586,
          0.850609756097561,
          0.8521341463414634,
          0.8536585365853658,
          0.8551829268292683,
          0.8567073170731707,
          0.8582317073170732,
          0.8597560975609756,
          0.8612804878048781,
          0.8628048780487805,
          0.864329268292683,
          0.8658536585365854,
          0.8673780487804879,
          0.8689024390243902,
          0.8704268292682927,
          0.8719512195121951,
          0.8734756097560976,
          0.875,
          0.8765243902439024,
          0.8780487804878049,
          0.8795731707317073,
          0.8810975609756098,
          0.8826219512195121,
          0.8841463414634146,
          0.885670731707317,
          0.8871951219512195,
          0.8887195121951219,
          0.8902439024390244,
          0.8917682926829268,
          0.8932926829268293,
          0.8948170731707317,
          0.8963414634146342,
          0.8978658536585366,
          0.899390243902439,
          0.9009146341463414,
          0.9024390243902439,
          0.9039634146341463,
          0.9054878048780488,
          0.9070121951219512,
          0.9085365853658537,
          0.9100609756097561,
          0.9115853658536586,
          0.913109756097561,
          0.9146341463414634,
          0.9161585365853658,
          0.9176829268292683,
          0.9192073170731707,
          0.9207317073170732,
          0.9222560975609756,
          0.9237804878048781,
          0.9253048780487805,
          0.926829268292683,
          0.9283536585365854,
          0.9298780487804879,
          0.9314024390243902,
          0.9329268292682927,
          0.9344512195121951,
          0.9359756097560976,
          0.9375,
          0.9390243902439024,
          0.9405487804878049,
          0.9420731707317073,
          0.9435975609756098,
          0.9451219512195121,
          0.9466463414634146,
          0.948170731707317,
          0.9496951219512195,
          0.9512195121951219,
          0.9527439024390244,
          0.9542682926829268,
          0.9557926829268293,
          0.9573170731707317,
          0.9588414634146342,
          0.9603658536585366,
          0.961890243902439,
          0.9634146341463414,
          0.9649390243902439,
          0.9664634146341463,
          0.9679878048780488,
          0.9695121951219512,
          0.9710365853658537,
          0.9725609756097561,
          0.9740853658536586,
          0.975609756097561,
          0.9771341463414634,
          0.9786585365853658,
          0.9801829268292683,
          0.9817073170731707,
          0.9832317073170732,
          0.9847560975609756,
          0.9862804878048781,
          0.9878048780487805,
          0.989329268292683,
          0.9908536585365854,
          0.9923780487804879,
          0.9939024390243902,
          0.9954268292682927,
          0.9969512195121951,
          0.9984756097560976
         ],
         "yaxis": "y2"
        }
       ],
       "layout": {
        "annotations": [
         {
          "font": {
           "size": 16
          },
          "showarrow": false,
          "text": "q | 0.6309%",
          "x": 0.225,
          "xanchor": "center",
          "xref": "paper",
          "y": 1,
          "yanchor": "bottom",
          "yref": "paper"
         },
         {
          "font": {
           "size": 16
          },
          "showarrow": false,
          "text": "m | 7.0629%",
          "x": 0.775,
          "xanchor": "center",
          "xref": "paper",
          "y": 1,
          "yanchor": "bottom",
          "yref": "paper"
         }
        ],
        "template": {
         "data": {
          "bar": [
           {
            "error_x": {
             "color": "#2a3f5f"
            },
            "error_y": {
             "color": "#2a3f5f"
            },
            "marker": {
             "line": {
              "color": "#E5ECF6",
              "width": 0.5
             },
             "pattern": {
              "fillmode": "overlay",
              "size": 10,
              "solidity": 0.2
             }
            },
            "type": "bar"
           }
          ],
          "barpolar": [
           {
            "marker": {
             "line": {
              "color": "#E5ECF6",
              "width": 0.5
             },
             "pattern": {
              "fillmode": "overlay",
              "size": 10,
              "solidity": 0.2
             }
            },
            "type": "barpolar"
           }
          ],
          "carpet": [
           {
            "aaxis": {
             "endlinecolor": "#2a3f5f",
             "gridcolor": "white",
             "linecolor": "white",
             "minorgridcolor": "white",
             "startlinecolor": "#2a3f5f"
            },
            "baxis": {
             "endlinecolor": "#2a3f5f",
             "gridcolor": "white",
             "linecolor": "white",
             "minorgridcolor": "white",
             "startlinecolor": "#2a3f5f"
            },
            "type": "carpet"
           }
          ],
          "choropleth": [
           {
            "colorbar": {
             "outlinewidth": 0,
             "ticks": ""
            },
            "type": "choropleth"
           }
          ],
          "contour": [
           {
            "colorbar": {
             "outlinewidth": 0,
             "ticks": ""
            },
            "colorscale": [
             [
              0,
              "#0d0887"
             ],
             [
              0.1111111111111111,
              "#46039f"
             ],
             [
              0.2222222222222222,
              "#7201a8"
             ],
             [
              0.3333333333333333,
              "#9c179e"
             ],
             [
              0.4444444444444444,
              "#bd3786"
             ],
             [
              0.5555555555555556,
              "#d8576b"
             ],
             [
              0.6666666666666666,
              "#ed7953"
             ],
             [
              0.7777777777777778,
              "#fb9f3a"
             ],
             [
              0.8888888888888888,
              "#fdca26"
             ],
             [
              1,
              "#f0f921"
             ]
            ],
            "type": "contour"
           }
          ],
          "contourcarpet": [
           {
            "colorbar": {
             "outlinewidth": 0,
             "ticks": ""
            },
            "type": "contourcarpet"
           }
          ],
          "heatmap": [
           {
            "colorbar": {
             "outlinewidth": 0,
             "ticks": ""
            },
            "colorscale": [
             [
              0,
              "#0d0887"
             ],
             [
              0.1111111111111111,
              "#46039f"
             ],
             [
              0.2222222222222222,
              "#7201a8"
             ],
             [
              0.3333333333333333,
              "#9c179e"
             ],
             [
              0.4444444444444444,
              "#bd3786"
             ],
             [
              0.5555555555555556,
              "#d8576b"
             ],
             [
              0.6666666666666666,
              "#ed7953"
             ],
             [
              0.7777777777777778,
              "#fb9f3a"
             ],
             [
              0.8888888888888888,
              "#fdca26"
             ],
             [
              1,
              "#f0f921"
             ]
            ],
            "type": "heatmap"
           }
          ],
          "heatmapgl": [
           {
            "colorbar": {
             "outlinewidth": 0,
             "ticks": ""
            },
            "colorscale": [
             [
              0,
              "#0d0887"
             ],
             [
              0.1111111111111111,
              "#46039f"
             ],
             [
              0.2222222222222222,
              "#7201a8"
             ],
             [
              0.3333333333333333,
              "#9c179e"
             ],
             [
              0.4444444444444444,
              "#bd3786"
             ],
             [
              0.5555555555555556,
              "#d8576b"
             ],
             [
              0.6666666666666666,
              "#ed7953"
             ],
             [
              0.7777777777777778,
              "#fb9f3a"
             ],
             [
              0.8888888888888888,
              "#fdca26"
             ],
             [
              1,
              "#f0f921"
             ]
            ],
            "type": "heatmapgl"
           }
          ],
          "histogram": [
           {
            "marker": {
             "pattern": {
              "fillmode": "overlay",
              "size": 10,
              "solidity": 0.2
             }
            },
            "type": "histogram"
           }
          ],
          "histogram2d": [
           {
            "colorbar": {
             "outlinewidth": 0,
             "ticks": ""
            },
            "colorscale": [
             [
              0,
              "#0d0887"
             ],
             [
              0.1111111111111111,
              "#46039f"
             ],
             [
              0.2222222222222222,
              "#7201a8"
             ],
             [
              0.3333333333333333,
              "#9c179e"
             ],
             [
              0.4444444444444444,
              "#bd3786"
             ],
             [
              0.5555555555555556,
              "#d8576b"
             ],
             [
              0.6666666666666666,
              "#ed7953"
             ],
             [
              0.7777777777777778,
              "#fb9f3a"
             ],
             [
              0.8888888888888888,
              "#fdca26"
             ],
             [
              1,
              "#f0f921"
             ]
            ],
            "type": "histogram2d"
           }
          ],
          "histogram2dcontour": [
           {
            "colorbar": {
             "outlinewidth": 0,
             "ticks": ""
            },
            "colorscale": [
             [
              0,
              "#0d0887"
             ],
             [
              0.1111111111111111,
              "#46039f"
             ],
             [
              0.2222222222222222,
              "#7201a8"
             ],
             [
              0.3333333333333333,
              "#9c179e"
             ],
             [
              0.4444444444444444,
              "#bd3786"
             ],
             [
              0.5555555555555556,
              "#d8576b"
             ],
             [
              0.6666666666666666,
              "#ed7953"
             ],
             [
              0.7777777777777778,
              "#fb9f3a"
             ],
             [
              0.8888888888888888,
              "#fdca26"
             ],
             [
              1,
              "#f0f921"
             ]
            ],
            "type": "histogram2dcontour"
           }
          ],
          "mesh3d": [
           {
            "colorbar": {
             "outlinewidth": 0,
             "ticks": ""
            },
            "type": "mesh3d"
           }
          ],
          "parcoords": [
           {
            "line": {
             "colorbar": {
              "outlinewidth": 0,
              "ticks": ""
             }
            },
            "type": "parcoords"
           }
          ],
          "pie": [
           {
            "automargin": true,
            "type": "pie"
           }
          ],
          "scatter": [
           {
            "fillpattern": {
             "fillmode": "overlay",
             "size": 10,
             "solidity": 0.2
            },
            "type": "scatter"
           }
          ],
          "scatter3d": [
           {
            "line": {
             "colorbar": {
              "outlinewidth": 0,
              "ticks": ""
             }
            },
            "marker": {
             "colorbar": {
              "outlinewidth": 0,
              "ticks": ""
             }
            },
            "type": "scatter3d"
           }
          ],
          "scattercarpet": [
           {
            "marker": {
             "colorbar": {
              "outlinewidth": 0,
              "ticks": ""
             }
            },
            "type": "scattercarpet"
           }
          ],
          "scattergeo": [
           {
            "marker": {
             "colorbar": {
              "outlinewidth": 0,
              "ticks": ""
             }
            },
            "type": "scattergeo"
           }
          ],
          "scattergl": [
           {
            "marker": {
             "colorbar": {
              "outlinewidth": 0,
              "ticks": ""
             }
            },
            "type": "scattergl"
           }
          ],
          "scattermapbox": [
           {
            "marker": {
             "colorbar": {
              "outlinewidth": 0,
              "ticks": ""
             }
            },
            "type": "scattermapbox"
           }
          ],
          "scatterpolar": [
           {
            "marker": {
             "colorbar": {
              "outlinewidth": 0,
              "ticks": ""
             }
            },
            "type": "scatterpolar"
           }
          ],
          "scatterpolargl": [
           {
            "marker": {
             "colorbar": {
              "outlinewidth": 0,
              "ticks": ""
             }
            },
            "type": "scatterpolargl"
           }
          ],
          "scatterternary": [
           {
            "marker": {
             "colorbar": {
              "outlinewidth": 0,
              "ticks": ""
             }
            },
            "type": "scatterternary"
           }
          ],
          "surface": [
           {
            "colorbar": {
             "outlinewidth": 0,
             "ticks": ""
            },
            "colorscale": [
             [
              0,
              "#0d0887"
             ],
             [
              0.1111111111111111,
              "#46039f"
             ],
             [
              0.2222222222222222,
              "#7201a8"
             ],
             [
              0.3333333333333333,
              "#9c179e"
             ],
             [
              0.4444444444444444,
              "#bd3786"
             ],
             [
              0.5555555555555556,
              "#d8576b"
             ],
             [
              0.6666666666666666,
              "#ed7953"
             ],
             [
              0.7777777777777778,
              "#fb9f3a"
             ],
             [
              0.8888888888888888,
              "#fdca26"
             ],
             [
              1,
              "#f0f921"
             ]
            ],
            "type": "surface"
           }
          ],
          "table": [
           {
            "cells": {
             "fill": {
              "color": "#EBF0F8"
             },
             "line": {
              "color": "white"
             }
            },
            "header": {
             "fill": {
              "color": "#C8D4E3"
             },
             "line": {
              "color": "white"
             }
            },
            "type": "table"
           }
          ]
         },
         "layout": {
          "annotationdefaults": {
           "arrowcolor": "#2a3f5f",
           "arrowhead": 0,
           "arrowwidth": 1
          },
          "autotypenumbers": "strict",
          "coloraxis": {
           "colorbar": {
            "outlinewidth": 0,
            "ticks": ""
           }
          },
          "colorscale": {
           "diverging": [
            [
             0,
             "#8e0152"
            ],
            [
             0.1,
             "#c51b7d"
            ],
            [
             0.2,
             "#de77ae"
            ],
            [
             0.3,
             "#f1b6da"
            ],
            [
             0.4,
             "#fde0ef"
            ],
            [
             0.5,
             "#f7f7f7"
            ],
            [
             0.6,
             "#e6f5d0"
            ],
            [
             0.7,
             "#b8e186"
            ],
            [
             0.8,
             "#7fbc41"
            ],
            [
             0.9,
             "#4d9221"
            ],
            [
             1,
             "#276419"
            ]
           ],
           "sequential": [
            [
             0,
             "#0d0887"
            ],
            [
             0.1111111111111111,
             "#46039f"
            ],
            [
             0.2222222222222222,
             "#7201a8"
            ],
            [
             0.3333333333333333,
             "#9c179e"
            ],
            [
             0.4444444444444444,
             "#bd3786"
            ],
            [
             0.5555555555555556,
             "#d8576b"
            ],
            [
             0.6666666666666666,
             "#ed7953"
            ],
            [
             0.7777777777777778,
             "#fb9f3a"
            ],
            [
             0.8888888888888888,
             "#fdca26"
            ],
            [
             1,
             "#f0f921"
            ]
           ],
           "sequentialminus": [
            [
             0,
             "#0d0887"
            ],
            [
             0.1111111111111111,
             "#46039f"
            ],
            [
             0.2222222222222222,
             "#7201a8"
            ],
            [
             0.3333333333333333,
             "#9c179e"
            ],
            [
             0.4444444444444444,
             "#bd3786"
            ],
            [
             0.5555555555555556,
             "#d8576b"
            ],
            [
             0.6666666666666666,
             "#ed7953"
            ],
            [
             0.7777777777777778,
             "#fb9f3a"
            ],
            [
             0.8888888888888888,
             "#fdca26"
            ],
            [
             1,
             "#f0f921"
            ]
           ]
          },
          "colorway": [
           "#636efa",
           "#EF553B",
           "#00cc96",
           "#ab63fa",
           "#FFA15A",
           "#19d3f3",
           "#FF6692",
           "#B6E880",
           "#FF97FF",
           "#FECB52"
          ],
          "font": {
           "color": "#2a3f5f"
          },
          "geo": {
           "bgcolor": "white",
           "lakecolor": "white",
           "landcolor": "#E5ECF6",
           "showlakes": true,
           "showland": true,
           "subunitcolor": "white"
          },
          "hoverlabel": {
           "align": "left"
          },
          "hovermode": "closest",
          "mapbox": {
           "style": "light"
          },
          "paper_bgcolor": "white",
          "plot_bgcolor": "#E5ECF6",
          "polar": {
           "angularaxis": {
            "gridcolor": "white",
            "linecolor": "white",
            "ticks": ""
           },
           "bgcolor": "#E5ECF6",
           "radialaxis": {
            "gridcolor": "white",
            "linecolor": "white",
            "ticks": ""
           }
          },
          "scene": {
           "xaxis": {
            "backgroundcolor": "#E5ECF6",
            "gridcolor": "white",
            "gridwidth": 2,
            "linecolor": "white",
            "showbackground": true,
            "ticks": "",
            "zerolinecolor": "white"
           },
           "yaxis": {
            "backgroundcolor": "#E5ECF6",
            "gridcolor": "white",
            "gridwidth": 2,
            "linecolor": "white",
            "showbackground": true,
            "ticks": "",
            "zerolinecolor": "white"
           },
           "zaxis": {
            "backgroundcolor": "#E5ECF6",
            "gridcolor": "white",
            "gridwidth": 2,
            "linecolor": "white",
            "showbackground": true,
            "ticks": "",
            "zerolinecolor": "white"
           }
          },
          "shapedefaults": {
           "line": {
            "color": "#2a3f5f"
           }
          },
          "ternary": {
           "aaxis": {
            "gridcolor": "white",
            "linecolor": "white",
            "ticks": ""
           },
           "baxis": {
            "gridcolor": "white",
            "linecolor": "white",
            "ticks": ""
           },
           "bgcolor": "#E5ECF6",
           "caxis": {
            "gridcolor": "white",
            "linecolor": "white",
            "ticks": ""
           }
          },
          "title": {
           "x": 0.05
          },
          "xaxis": {
           "automargin": true,
           "gridcolor": "white",
           "linecolor": "white",
           "ticks": "",
           "title": {
            "standoff": 15
           },
           "zerolinecolor": "white",
           "zerolinewidth": 2
          },
          "yaxis": {
           "automargin": true,
           "gridcolor": "white",
           "linecolor": "white",
           "ticks": "",
           "title": {
            "standoff": 15
           },
           "zerolinecolor": "white",
           "zerolinewidth": 2
          }
         }
        },
        "xaxis": {
         "anchor": "y",
         "domain": [
          0,
          0.45
         ],
         "range": [
          -1,
          1
         ],
         "title": {
          "text": "Weight"
         }
        },
        "xaxis2": {
         "anchor": "y2",
         "domain": [
          0.55,
          1
         ],
         "range": [
          -1,
          1
         ],
         "title": {
          "text": "Weight"
         }
        },
        "yaxis": {
         "anchor": "x",
         "domain": [
          0,
          1
         ]
        },
        "yaxis2": {
         "anchor": "x2",
         "domain": [
          0,
          1
         ]
        }
       }
      }
     },
     "metadata": {},
     "output_type": "display_data"
    },
    {
     "data": {
      "application/vnd.plotly.v1+json": {
       "config": {
        "plotlyServerURL": "https://plot.ly"
       },
       "data": [
        {
         "orientation": "h",
         "showlegend": false,
         "type": "bar",
         "width": 0.1,
         "x": [
          0.0644573894021332,
          0.06452735625638846,
          0.06490582972671917,
          0.06712592279730803,
          0.0681582063237697,
          0.06822832536347612,
          0.06948865144244261,
          0.07252801339784364,
          0.07291781177419229,
          0.07694892188536123,
          0.07738307906073211,
          0.0781279877849759,
          0.08416512271384964,
          0.08605507103141279,
          0.09717430063890004
         ],
         "xaxis": "x2",
         "y": [
          "P12259",
          "P00746",
          "P07360",
          "P06727",
          "P07358",
          "Q2M296",
          "P08571",
          "P05090",
          "P04114",
          "P04278",
          "P08519",
          "P33151",
          "Q15848",
          "Q13790",
          "P02647"
         ],
         "yaxis": "y2"
        },
        {
         "orientation": "h",
         "showlegend": false,
         "type": "bar",
         "width": 0.1,
         "x": [
          -0.06025544283119552,
          -0.0604815210189539,
          -0.06066703496158242,
          -0.060871155661293794,
          -0.06113811257199052,
          -0.06681946517531329,
          -0.06885333523565428,
          -0.07918320409457053,
          -0.08010450640014646,
          -0.08332512468633024,
          -0.09099552857318488,
          -0.09395748215867007,
          -0.09701143541880285,
          -0.11665638208639471,
          -0.12010719020042443
         ],
         "xaxis": "x",
         "y": [
          "Q6ZMN8",
          "B2M0Y1",
          "A1YZ08",
          "P01614",
          "P01876",
          "D1MGQ2",
          "P00751",
          "P19652",
          "Q5VU43-12",
          "F6KPG5",
          "P43652",
          "V9HWA9",
          "B4E216",
          "B4DR57",
          "P08603"
         ],
         "yaxis": "y"
        }
       ],
       "layout": {
        "annotations": [
         {
          "font": {
           "size": 16
          },
          "showarrow": false,
          "text": "Negative",
          "x": 0.2125,
          "xanchor": "center",
          "xref": "paper",
          "y": 1,
          "yanchor": "bottom",
          "yref": "paper"
         },
         {
          "font": {
           "size": 16
          },
          "showarrow": false,
          "text": "Positive",
          "x": 0.7875,
          "xanchor": "center",
          "xref": "paper",
          "y": 1,
          "yanchor": "bottom",
          "yref": "paper"
         }
        ],
        "height": 625,
        "template": {
         "data": {
          "bar": [
           {
            "error_x": {
             "color": "#2a3f5f"
            },
            "error_y": {
             "color": "#2a3f5f"
            },
            "marker": {
             "line": {
              "color": "#E5ECF6",
              "width": 0.5
             },
             "pattern": {
              "fillmode": "overlay",
              "size": 10,
              "solidity": 0.2
             }
            },
            "type": "bar"
           }
          ],
          "barpolar": [
           {
            "marker": {
             "line": {
              "color": "#E5ECF6",
              "width": 0.5
             },
             "pattern": {
              "fillmode": "overlay",
              "size": 10,
              "solidity": 0.2
             }
            },
            "type": "barpolar"
           }
          ],
          "carpet": [
           {
            "aaxis": {
             "endlinecolor": "#2a3f5f",
             "gridcolor": "white",
             "linecolor": "white",
             "minorgridcolor": "white",
             "startlinecolor": "#2a3f5f"
            },
            "baxis": {
             "endlinecolor": "#2a3f5f",
             "gridcolor": "white",
             "linecolor": "white",
             "minorgridcolor": "white",
             "startlinecolor": "#2a3f5f"
            },
            "type": "carpet"
           }
          ],
          "choropleth": [
           {
            "colorbar": {
             "outlinewidth": 0,
             "ticks": ""
            },
            "type": "choropleth"
           }
          ],
          "contour": [
           {
            "colorbar": {
             "outlinewidth": 0,
             "ticks": ""
            },
            "colorscale": [
             [
              0,
              "#0d0887"
             ],
             [
              0.1111111111111111,
              "#46039f"
             ],
             [
              0.2222222222222222,
              "#7201a8"
             ],
             [
              0.3333333333333333,
              "#9c179e"
             ],
             [
              0.4444444444444444,
              "#bd3786"
             ],
             [
              0.5555555555555556,
              "#d8576b"
             ],
             [
              0.6666666666666666,
              "#ed7953"
             ],
             [
              0.7777777777777778,
              "#fb9f3a"
             ],
             [
              0.8888888888888888,
              "#fdca26"
             ],
             [
              1,
              "#f0f921"
             ]
            ],
            "type": "contour"
           }
          ],
          "contourcarpet": [
           {
            "colorbar": {
             "outlinewidth": 0,
             "ticks": ""
            },
            "type": "contourcarpet"
           }
          ],
          "heatmap": [
           {
            "colorbar": {
             "outlinewidth": 0,
             "ticks": ""
            },
            "colorscale": [
             [
              0,
              "#0d0887"
             ],
             [
              0.1111111111111111,
              "#46039f"
             ],
             [
              0.2222222222222222,
              "#7201a8"
             ],
             [
              0.3333333333333333,
              "#9c179e"
             ],
             [
              0.4444444444444444,
              "#bd3786"
             ],
             [
              0.5555555555555556,
              "#d8576b"
             ],
             [
              0.6666666666666666,
              "#ed7953"
             ],
             [
              0.7777777777777778,
              "#fb9f3a"
             ],
             [
              0.8888888888888888,
              "#fdca26"
             ],
             [
              1,
              "#f0f921"
             ]
            ],
            "type": "heatmap"
           }
          ],
          "heatmapgl": [
           {
            "colorbar": {
             "outlinewidth": 0,
             "ticks": ""
            },
            "colorscale": [
             [
              0,
              "#0d0887"
             ],
             [
              0.1111111111111111,
              "#46039f"
             ],
             [
              0.2222222222222222,
              "#7201a8"
             ],
             [
              0.3333333333333333,
              "#9c179e"
             ],
             [
              0.4444444444444444,
              "#bd3786"
             ],
             [
              0.5555555555555556,
              "#d8576b"
             ],
             [
              0.6666666666666666,
              "#ed7953"
             ],
             [
              0.7777777777777778,
              "#fb9f3a"
             ],
             [
              0.8888888888888888,
              "#fdca26"
             ],
             [
              1,
              "#f0f921"
             ]
            ],
            "type": "heatmapgl"
           }
          ],
          "histogram": [
           {
            "marker": {
             "pattern": {
              "fillmode": "overlay",
              "size": 10,
              "solidity": 0.2
             }
            },
            "type": "histogram"
           }
          ],
          "histogram2d": [
           {
            "colorbar": {
             "outlinewidth": 0,
             "ticks": ""
            },
            "colorscale": [
             [
              0,
              "#0d0887"
             ],
             [
              0.1111111111111111,
              "#46039f"
             ],
             [
              0.2222222222222222,
              "#7201a8"
             ],
             [
              0.3333333333333333,
              "#9c179e"
             ],
             [
              0.4444444444444444,
              "#bd3786"
             ],
             [
              0.5555555555555556,
              "#d8576b"
             ],
             [
              0.6666666666666666,
              "#ed7953"
             ],
             [
              0.7777777777777778,
              "#fb9f3a"
             ],
             [
              0.8888888888888888,
              "#fdca26"
             ],
             [
              1,
              "#f0f921"
             ]
            ],
            "type": "histogram2d"
           }
          ],
          "histogram2dcontour": [
           {
            "colorbar": {
             "outlinewidth": 0,
             "ticks": ""
            },
            "colorscale": [
             [
              0,
              "#0d0887"
             ],
             [
              0.1111111111111111,
              "#46039f"
             ],
             [
              0.2222222222222222,
              "#7201a8"
             ],
             [
              0.3333333333333333,
              "#9c179e"
             ],
             [
              0.4444444444444444,
              "#bd3786"
             ],
             [
              0.5555555555555556,
              "#d8576b"
             ],
             [
              0.6666666666666666,
              "#ed7953"
             ],
             [
              0.7777777777777778,
              "#fb9f3a"
             ],
             [
              0.8888888888888888,
              "#fdca26"
             ],
             [
              1,
              "#f0f921"
             ]
            ],
            "type": "histogram2dcontour"
           }
          ],
          "mesh3d": [
           {
            "colorbar": {
             "outlinewidth": 0,
             "ticks": ""
            },
            "type": "mesh3d"
           }
          ],
          "parcoords": [
           {
            "line": {
             "colorbar": {
              "outlinewidth": 0,
              "ticks": ""
             }
            },
            "type": "parcoords"
           }
          ],
          "pie": [
           {
            "automargin": true,
            "type": "pie"
           }
          ],
          "scatter": [
           {
            "fillpattern": {
             "fillmode": "overlay",
             "size": 10,
             "solidity": 0.2
            },
            "type": "scatter"
           }
          ],
          "scatter3d": [
           {
            "line": {
             "colorbar": {
              "outlinewidth": 0,
              "ticks": ""
             }
            },
            "marker": {
             "colorbar": {
              "outlinewidth": 0,
              "ticks": ""
             }
            },
            "type": "scatter3d"
           }
          ],
          "scattercarpet": [
           {
            "marker": {
             "colorbar": {
              "outlinewidth": 0,
              "ticks": ""
             }
            },
            "type": "scattercarpet"
           }
          ],
          "scattergeo": [
           {
            "marker": {
             "colorbar": {
              "outlinewidth": 0,
              "ticks": ""
             }
            },
            "type": "scattergeo"
           }
          ],
          "scattergl": [
           {
            "marker": {
             "colorbar": {
              "outlinewidth": 0,
              "ticks": ""
             }
            },
            "type": "scattergl"
           }
          ],
          "scattermapbox": [
           {
            "marker": {
             "colorbar": {
              "outlinewidth": 0,
              "ticks": ""
             }
            },
            "type": "scattermapbox"
           }
          ],
          "scatterpolar": [
           {
            "marker": {
             "colorbar": {
              "outlinewidth": 0,
              "ticks": ""
             }
            },
            "type": "scatterpolar"
           }
          ],
          "scatterpolargl": [
           {
            "marker": {
             "colorbar": {
              "outlinewidth": 0,
              "ticks": ""
             }
            },
            "type": "scatterpolargl"
           }
          ],
          "scatterternary": [
           {
            "marker": {
             "colorbar": {
              "outlinewidth": 0,
              "ticks": ""
             }
            },
            "type": "scatterternary"
           }
          ],
          "surface": [
           {
            "colorbar": {
             "outlinewidth": 0,
             "ticks": ""
            },
            "colorscale": [
             [
              0,
              "#0d0887"
             ],
             [
              0.1111111111111111,
              "#46039f"
             ],
             [
              0.2222222222222222,
              "#7201a8"
             ],
             [
              0.3333333333333333,
              "#9c179e"
             ],
             [
              0.4444444444444444,
              "#bd3786"
             ],
             [
              0.5555555555555556,
              "#d8576b"
             ],
             [
              0.6666666666666666,
              "#ed7953"
             ],
             [
              0.7777777777777778,
              "#fb9f3a"
             ],
             [
              0.8888888888888888,
              "#fdca26"
             ],
             [
              1,
              "#f0f921"
             ]
            ],
            "type": "surface"
           }
          ],
          "table": [
           {
            "cells": {
             "fill": {
              "color": "#EBF0F8"
             },
             "line": {
              "color": "white"
             }
            },
            "header": {
             "fill": {
              "color": "#C8D4E3"
             },
             "line": {
              "color": "white"
             }
            },
            "type": "table"
           }
          ]
         },
         "layout": {
          "annotationdefaults": {
           "arrowcolor": "#2a3f5f",
           "arrowhead": 0,
           "arrowwidth": 1
          },
          "autotypenumbers": "strict",
          "coloraxis": {
           "colorbar": {
            "outlinewidth": 0,
            "ticks": ""
           }
          },
          "colorscale": {
           "diverging": [
            [
             0,
             "#8e0152"
            ],
            [
             0.1,
             "#c51b7d"
            ],
            [
             0.2,
             "#de77ae"
            ],
            [
             0.3,
             "#f1b6da"
            ],
            [
             0.4,
             "#fde0ef"
            ],
            [
             0.5,
             "#f7f7f7"
            ],
            [
             0.6,
             "#e6f5d0"
            ],
            [
             0.7,
             "#b8e186"
            ],
            [
             0.8,
             "#7fbc41"
            ],
            [
             0.9,
             "#4d9221"
            ],
            [
             1,
             "#276419"
            ]
           ],
           "sequential": [
            [
             0,
             "#0d0887"
            ],
            [
             0.1111111111111111,
             "#46039f"
            ],
            [
             0.2222222222222222,
             "#7201a8"
            ],
            [
             0.3333333333333333,
             "#9c179e"
            ],
            [
             0.4444444444444444,
             "#bd3786"
            ],
            [
             0.5555555555555556,
             "#d8576b"
            ],
            [
             0.6666666666666666,
             "#ed7953"
            ],
            [
             0.7777777777777778,
             "#fb9f3a"
            ],
            [
             0.8888888888888888,
             "#fdca26"
            ],
            [
             1,
             "#f0f921"
            ]
           ],
           "sequentialminus": [
            [
             0,
             "#0d0887"
            ],
            [
             0.1111111111111111,
             "#46039f"
            ],
            [
             0.2222222222222222,
             "#7201a8"
            ],
            [
             0.3333333333333333,
             "#9c179e"
            ],
            [
             0.4444444444444444,
             "#bd3786"
            ],
            [
             0.5555555555555556,
             "#d8576b"
            ],
            [
             0.6666666666666666,
             "#ed7953"
            ],
            [
             0.7777777777777778,
             "#fb9f3a"
            ],
            [
             0.8888888888888888,
             "#fdca26"
            ],
            [
             1,
             "#f0f921"
            ]
           ]
          },
          "colorway": [
           "#636efa",
           "#EF553B",
           "#00cc96",
           "#ab63fa",
           "#FFA15A",
           "#19d3f3",
           "#FF6692",
           "#B6E880",
           "#FF97FF",
           "#FECB52"
          ],
          "font": {
           "color": "#2a3f5f"
          },
          "geo": {
           "bgcolor": "white",
           "lakecolor": "white",
           "landcolor": "#E5ECF6",
           "showlakes": true,
           "showland": true,
           "subunitcolor": "white"
          },
          "hoverlabel": {
           "align": "left"
          },
          "hovermode": "closest",
          "mapbox": {
           "style": "light"
          },
          "paper_bgcolor": "white",
          "plot_bgcolor": "#E5ECF6",
          "polar": {
           "angularaxis": {
            "gridcolor": "white",
            "linecolor": "white",
            "ticks": ""
           },
           "bgcolor": "#E5ECF6",
           "radialaxis": {
            "gridcolor": "white",
            "linecolor": "white",
            "ticks": ""
           }
          },
          "scene": {
           "xaxis": {
            "backgroundcolor": "#E5ECF6",
            "gridcolor": "white",
            "gridwidth": 2,
            "linecolor": "white",
            "showbackground": true,
            "ticks": "",
            "zerolinecolor": "white"
           },
           "yaxis": {
            "backgroundcolor": "#E5ECF6",
            "gridcolor": "white",
            "gridwidth": 2,
            "linecolor": "white",
            "showbackground": true,
            "ticks": "",
            "zerolinecolor": "white"
           },
           "zaxis": {
            "backgroundcolor": "#E5ECF6",
            "gridcolor": "white",
            "gridwidth": 2,
            "linecolor": "white",
            "showbackground": true,
            "ticks": "",
            "zerolinecolor": "white"
           }
          },
          "shapedefaults": {
           "line": {
            "color": "#2a3f5f"
           }
          },
          "ternary": {
           "aaxis": {
            "gridcolor": "white",
            "linecolor": "white",
            "ticks": ""
           },
           "baxis": {
            "gridcolor": "white",
            "linecolor": "white",
            "ticks": ""
           },
           "bgcolor": "#E5ECF6",
           "caxis": {
            "gridcolor": "white",
            "linecolor": "white",
            "ticks": ""
           }
          },
          "title": {
           "x": 0.05
          },
          "xaxis": {
           "automargin": true,
           "gridcolor": "white",
           "linecolor": "white",
           "ticks": "",
           "title": {
            "standoff": 15
           },
           "zerolinecolor": "white",
           "zerolinewidth": 2
          },
          "yaxis": {
           "automargin": true,
           "gridcolor": "white",
           "linecolor": "white",
           "ticks": "",
           "title": {
            "standoff": 15
           },
           "zerolinecolor": "white",
           "zerolinewidth": 2
          }
         }
        },
        "title": {
         "text": "q"
        },
        "xaxis": {
         "anchor": "y",
         "domain": [
          0,
          0.425
         ],
         "range": [
          -1,
          1
         ],
         "title": {
          "text": "Weight"
         }
        },
        "xaxis2": {
         "anchor": "y2",
         "domain": [
          0.575,
          1
         ],
         "range": [
          -1,
          1
         ],
         "title": {
          "text": "Weight"
         }
        },
        "yaxis": {
         "anchor": "x",
         "domain": [
          0,
          1
         ]
        },
        "yaxis2": {
         "anchor": "x2",
         "domain": [
          0,
          1
         ]
        }
       }
      }
     },
     "metadata": {},
     "output_type": "display_data"
    },
    {
     "data": {
      "application/vnd.plotly.v1+json": {
       "config": {
        "plotlyServerURL": "https://plot.ly"
       },
       "data": [
        {
         "orientation": "h",
         "showlegend": false,
         "type": "bar",
         "width": 0.1,
         "x": [
          0.463187110154929,
          0.4635503856000358,
          0.46885099192170876,
          0.4810921790115656,
          0.4815643289048319,
          0.48192275285994457,
          0.48358760957670577,
          0.4887027342618962,
          0.49055989363947006,
          0.49336630042179735,
          0.4936712870823964,
          0.5129136084834346,
          0.5129136084834346,
          0.5193298215046362,
          0.5193298215046362
         ],
         "xaxis": "x2",
         "y": [
          "N103 | PC-O [38:5]",
          "N113 | PC-O [34:2]",
          "N26 | LPC [18:2]",
          "P50 | LPC [18:2]",
          "P8 | SM [34:1;2]",
          "P6 | PC [36:2]",
          "N3 | PC [36:2]",
          "P547 | SM [34:2;2]",
          "P615 | PC-O [36:5]",
          "P567 | SM [40:2;2]",
          "N154 | PC [34:2]",
          "P634 | PC-O [38:5]",
          "P635 | PC [37:5]",
          "P5 | PC-O [34:3]",
          "P354 | PC [33:3]"
         ],
         "yaxis": "y2"
        },
        {
         "orientation": "h",
         "showlegend": false,
         "type": "bar",
         "width": 0.1,
         "x": [
          -0.03282051707779914,
          -0.03696457868860433,
          -0.03894042139809008,
          -0.03922680100329592,
          -0.03922680100329592,
          -0.04362941977433533,
          -0.0449481108736798,
          -0.0476480644688242,
          -0.049098062569705336,
          -0.05164528025699827,
          -0.05186994866164775,
          -0.05302085791568125,
          -0.06935404196435653,
          -0.07865695876664024,
          -0.09254935963314878
         ],
         "xaxis": "x",
         "y": [
          "P294 | TAG [47:1]",
          "P395 | TAG [48:3]",
          "P587 | TAG [46:3]",
          "P568 | PC-O [37:6]",
          "P569 | PC [36:6]",
          "P573 | TAG [56:7]",
          "P530 | TAG [58:8]",
          "P465 | TAG [58:8]",
          "P609 | TAG [52:6]",
          "P154 | TAG [56:8]",
          "P311 | TAG [48:3]",
          "P157 | TAG [56:8]",
          "P591 | TAG [44:1]",
          "P623 | TAG [44:1]",
          "P139 | TAG [54:6]"
         ],
         "yaxis": "y"
        }
       ],
       "layout": {
        "annotations": [
         {
          "font": {
           "size": 16
          },
          "showarrow": false,
          "text": "Negative",
          "x": 0.2125,
          "xanchor": "center",
          "xref": "paper",
          "y": 1,
          "yanchor": "bottom",
          "yref": "paper"
         },
         {
          "font": {
           "size": 16
          },
          "showarrow": false,
          "text": "Positive",
          "x": 0.7875,
          "xanchor": "center",
          "xref": "paper",
          "y": 1,
          "yanchor": "bottom",
          "yref": "paper"
         }
        ],
        "height": 625,
        "template": {
         "data": {
          "bar": [
           {
            "error_x": {
             "color": "#2a3f5f"
            },
            "error_y": {
             "color": "#2a3f5f"
            },
            "marker": {
             "line": {
              "color": "#E5ECF6",
              "width": 0.5
             },
             "pattern": {
              "fillmode": "overlay",
              "size": 10,
              "solidity": 0.2
             }
            },
            "type": "bar"
           }
          ],
          "barpolar": [
           {
            "marker": {
             "line": {
              "color": "#E5ECF6",
              "width": 0.5
             },
             "pattern": {
              "fillmode": "overlay",
              "size": 10,
              "solidity": 0.2
             }
            },
            "type": "barpolar"
           }
          ],
          "carpet": [
           {
            "aaxis": {
             "endlinecolor": "#2a3f5f",
             "gridcolor": "white",
             "linecolor": "white",
             "minorgridcolor": "white",
             "startlinecolor": "#2a3f5f"
            },
            "baxis": {
             "endlinecolor": "#2a3f5f",
             "gridcolor": "white",
             "linecolor": "white",
             "minorgridcolor": "white",
             "startlinecolor": "#2a3f5f"
            },
            "type": "carpet"
           }
          ],
          "choropleth": [
           {
            "colorbar": {
             "outlinewidth": 0,
             "ticks": ""
            },
            "type": "choropleth"
           }
          ],
          "contour": [
           {
            "colorbar": {
             "outlinewidth": 0,
             "ticks": ""
            },
            "colorscale": [
             [
              0,
              "#0d0887"
             ],
             [
              0.1111111111111111,
              "#46039f"
             ],
             [
              0.2222222222222222,
              "#7201a8"
             ],
             [
              0.3333333333333333,
              "#9c179e"
             ],
             [
              0.4444444444444444,
              "#bd3786"
             ],
             [
              0.5555555555555556,
              "#d8576b"
             ],
             [
              0.6666666666666666,
              "#ed7953"
             ],
             [
              0.7777777777777778,
              "#fb9f3a"
             ],
             [
              0.8888888888888888,
              "#fdca26"
             ],
             [
              1,
              "#f0f921"
             ]
            ],
            "type": "contour"
           }
          ],
          "contourcarpet": [
           {
            "colorbar": {
             "outlinewidth": 0,
             "ticks": ""
            },
            "type": "contourcarpet"
           }
          ],
          "heatmap": [
           {
            "colorbar": {
             "outlinewidth": 0,
             "ticks": ""
            },
            "colorscale": [
             [
              0,
              "#0d0887"
             ],
             [
              0.1111111111111111,
              "#46039f"
             ],
             [
              0.2222222222222222,
              "#7201a8"
             ],
             [
              0.3333333333333333,
              "#9c179e"
             ],
             [
              0.4444444444444444,
              "#bd3786"
             ],
             [
              0.5555555555555556,
              "#d8576b"
             ],
             [
              0.6666666666666666,
              "#ed7953"
             ],
             [
              0.7777777777777778,
              "#fb9f3a"
             ],
             [
              0.8888888888888888,
              "#fdca26"
             ],
             [
              1,
              "#f0f921"
             ]
            ],
            "type": "heatmap"
           }
          ],
          "heatmapgl": [
           {
            "colorbar": {
             "outlinewidth": 0,
             "ticks": ""
            },
            "colorscale": [
             [
              0,
              "#0d0887"
             ],
             [
              0.1111111111111111,
              "#46039f"
             ],
             [
              0.2222222222222222,
              "#7201a8"
             ],
             [
              0.3333333333333333,
              "#9c179e"
             ],
             [
              0.4444444444444444,
              "#bd3786"
             ],
             [
              0.5555555555555556,
              "#d8576b"
             ],
             [
              0.6666666666666666,
              "#ed7953"
             ],
             [
              0.7777777777777778,
              "#fb9f3a"
             ],
             [
              0.8888888888888888,
              "#fdca26"
             ],
             [
              1,
              "#f0f921"
             ]
            ],
            "type": "heatmapgl"
           }
          ],
          "histogram": [
           {
            "marker": {
             "pattern": {
              "fillmode": "overlay",
              "size": 10,
              "solidity": 0.2
             }
            },
            "type": "histogram"
           }
          ],
          "histogram2d": [
           {
            "colorbar": {
             "outlinewidth": 0,
             "ticks": ""
            },
            "colorscale": [
             [
              0,
              "#0d0887"
             ],
             [
              0.1111111111111111,
              "#46039f"
             ],
             [
              0.2222222222222222,
              "#7201a8"
             ],
             [
              0.3333333333333333,
              "#9c179e"
             ],
             [
              0.4444444444444444,
              "#bd3786"
             ],
             [
              0.5555555555555556,
              "#d8576b"
             ],
             [
              0.6666666666666666,
              "#ed7953"
             ],
             [
              0.7777777777777778,
              "#fb9f3a"
             ],
             [
              0.8888888888888888,
              "#fdca26"
             ],
             [
              1,
              "#f0f921"
             ]
            ],
            "type": "histogram2d"
           }
          ],
          "histogram2dcontour": [
           {
            "colorbar": {
             "outlinewidth": 0,
             "ticks": ""
            },
            "colorscale": [
             [
              0,
              "#0d0887"
             ],
             [
              0.1111111111111111,
              "#46039f"
             ],
             [
              0.2222222222222222,
              "#7201a8"
             ],
             [
              0.3333333333333333,
              "#9c179e"
             ],
             [
              0.4444444444444444,
              "#bd3786"
             ],
             [
              0.5555555555555556,
              "#d8576b"
             ],
             [
              0.6666666666666666,
              "#ed7953"
             ],
             [
              0.7777777777777778,
              "#fb9f3a"
             ],
             [
              0.8888888888888888,
              "#fdca26"
             ],
             [
              1,
              "#f0f921"
             ]
            ],
            "type": "histogram2dcontour"
           }
          ],
          "mesh3d": [
           {
            "colorbar": {
             "outlinewidth": 0,
             "ticks": ""
            },
            "type": "mesh3d"
           }
          ],
          "parcoords": [
           {
            "line": {
             "colorbar": {
              "outlinewidth": 0,
              "ticks": ""
             }
            },
            "type": "parcoords"
           }
          ],
          "pie": [
           {
            "automargin": true,
            "type": "pie"
           }
          ],
          "scatter": [
           {
            "fillpattern": {
             "fillmode": "overlay",
             "size": 10,
             "solidity": 0.2
            },
            "type": "scatter"
           }
          ],
          "scatter3d": [
           {
            "line": {
             "colorbar": {
              "outlinewidth": 0,
              "ticks": ""
             }
            },
            "marker": {
             "colorbar": {
              "outlinewidth": 0,
              "ticks": ""
             }
            },
            "type": "scatter3d"
           }
          ],
          "scattercarpet": [
           {
            "marker": {
             "colorbar": {
              "outlinewidth": 0,
              "ticks": ""
             }
            },
            "type": "scattercarpet"
           }
          ],
          "scattergeo": [
           {
            "marker": {
             "colorbar": {
              "outlinewidth": 0,
              "ticks": ""
             }
            },
            "type": "scattergeo"
           }
          ],
          "scattergl": [
           {
            "marker": {
             "colorbar": {
              "outlinewidth": 0,
              "ticks": ""
             }
            },
            "type": "scattergl"
           }
          ],
          "scattermapbox": [
           {
            "marker": {
             "colorbar": {
              "outlinewidth": 0,
              "ticks": ""
             }
            },
            "type": "scattermapbox"
           }
          ],
          "scatterpolar": [
           {
            "marker": {
             "colorbar": {
              "outlinewidth": 0,
              "ticks": ""
             }
            },
            "type": "scatterpolar"
           }
          ],
          "scatterpolargl": [
           {
            "marker": {
             "colorbar": {
              "outlinewidth": 0,
              "ticks": ""
             }
            },
            "type": "scatterpolargl"
           }
          ],
          "scatterternary": [
           {
            "marker": {
             "colorbar": {
              "outlinewidth": 0,
              "ticks": ""
             }
            },
            "type": "scatterternary"
           }
          ],
          "surface": [
           {
            "colorbar": {
             "outlinewidth": 0,
             "ticks": ""
            },
            "colorscale": [
             [
              0,
              "#0d0887"
             ],
             [
              0.1111111111111111,
              "#46039f"
             ],
             [
              0.2222222222222222,
              "#7201a8"
             ],
             [
              0.3333333333333333,
              "#9c179e"
             ],
             [
              0.4444444444444444,
              "#bd3786"
             ],
             [
              0.5555555555555556,
              "#d8576b"
             ],
             [
              0.6666666666666666,
              "#ed7953"
             ],
             [
              0.7777777777777778,
              "#fb9f3a"
             ],
             [
              0.8888888888888888,
              "#fdca26"
             ],
             [
              1,
              "#f0f921"
             ]
            ],
            "type": "surface"
           }
          ],
          "table": [
           {
            "cells": {
             "fill": {
              "color": "#EBF0F8"
             },
             "line": {
              "color": "white"
             }
            },
            "header": {
             "fill": {
              "color": "#C8D4E3"
             },
             "line": {
              "color": "white"
             }
            },
            "type": "table"
           }
          ]
         },
         "layout": {
          "annotationdefaults": {
           "arrowcolor": "#2a3f5f",
           "arrowhead": 0,
           "arrowwidth": 1
          },
          "autotypenumbers": "strict",
          "coloraxis": {
           "colorbar": {
            "outlinewidth": 0,
            "ticks": ""
           }
          },
          "colorscale": {
           "diverging": [
            [
             0,
             "#8e0152"
            ],
            [
             0.1,
             "#c51b7d"
            ],
            [
             0.2,
             "#de77ae"
            ],
            [
             0.3,
             "#f1b6da"
            ],
            [
             0.4,
             "#fde0ef"
            ],
            [
             0.5,
             "#f7f7f7"
            ],
            [
             0.6,
             "#e6f5d0"
            ],
            [
             0.7,
             "#b8e186"
            ],
            [
             0.8,
             "#7fbc41"
            ],
            [
             0.9,
             "#4d9221"
            ],
            [
             1,
             "#276419"
            ]
           ],
           "sequential": [
            [
             0,
             "#0d0887"
            ],
            [
             0.1111111111111111,
             "#46039f"
            ],
            [
             0.2222222222222222,
             "#7201a8"
            ],
            [
             0.3333333333333333,
             "#9c179e"
            ],
            [
             0.4444444444444444,
             "#bd3786"
            ],
            [
             0.5555555555555556,
             "#d8576b"
            ],
            [
             0.6666666666666666,
             "#ed7953"
            ],
            [
             0.7777777777777778,
             "#fb9f3a"
            ],
            [
             0.8888888888888888,
             "#fdca26"
            ],
            [
             1,
             "#f0f921"
            ]
           ],
           "sequentialminus": [
            [
             0,
             "#0d0887"
            ],
            [
             0.1111111111111111,
             "#46039f"
            ],
            [
             0.2222222222222222,
             "#7201a8"
            ],
            [
             0.3333333333333333,
             "#9c179e"
            ],
            [
             0.4444444444444444,
             "#bd3786"
            ],
            [
             0.5555555555555556,
             "#d8576b"
            ],
            [
             0.6666666666666666,
             "#ed7953"
            ],
            [
             0.7777777777777778,
             "#fb9f3a"
            ],
            [
             0.8888888888888888,
             "#fdca26"
            ],
            [
             1,
             "#f0f921"
            ]
           ]
          },
          "colorway": [
           "#636efa",
           "#EF553B",
           "#00cc96",
           "#ab63fa",
           "#FFA15A",
           "#19d3f3",
           "#FF6692",
           "#B6E880",
           "#FF97FF",
           "#FECB52"
          ],
          "font": {
           "color": "#2a3f5f"
          },
          "geo": {
           "bgcolor": "white",
           "lakecolor": "white",
           "landcolor": "#E5ECF6",
           "showlakes": true,
           "showland": true,
           "subunitcolor": "white"
          },
          "hoverlabel": {
           "align": "left"
          },
          "hovermode": "closest",
          "mapbox": {
           "style": "light"
          },
          "paper_bgcolor": "white",
          "plot_bgcolor": "#E5ECF6",
          "polar": {
           "angularaxis": {
            "gridcolor": "white",
            "linecolor": "white",
            "ticks": ""
           },
           "bgcolor": "#E5ECF6",
           "radialaxis": {
            "gridcolor": "white",
            "linecolor": "white",
            "ticks": ""
           }
          },
          "scene": {
           "xaxis": {
            "backgroundcolor": "#E5ECF6",
            "gridcolor": "white",
            "gridwidth": 2,
            "linecolor": "white",
            "showbackground": true,
            "ticks": "",
            "zerolinecolor": "white"
           },
           "yaxis": {
            "backgroundcolor": "#E5ECF6",
            "gridcolor": "white",
            "gridwidth": 2,
            "linecolor": "white",
            "showbackground": true,
            "ticks": "",
            "zerolinecolor": "white"
           },
           "zaxis": {
            "backgroundcolor": "#E5ECF6",
            "gridcolor": "white",
            "gridwidth": 2,
            "linecolor": "white",
            "showbackground": true,
            "ticks": "",
            "zerolinecolor": "white"
           }
          },
          "shapedefaults": {
           "line": {
            "color": "#2a3f5f"
           }
          },
          "ternary": {
           "aaxis": {
            "gridcolor": "white",
            "linecolor": "white",
            "ticks": ""
           },
           "baxis": {
            "gridcolor": "white",
            "linecolor": "white",
            "ticks": ""
           },
           "bgcolor": "#E5ECF6",
           "caxis": {
            "gridcolor": "white",
            "linecolor": "white",
            "ticks": ""
           }
          },
          "title": {
           "x": 0.05
          },
          "xaxis": {
           "automargin": true,
           "gridcolor": "white",
           "linecolor": "white",
           "ticks": "",
           "title": {
            "standoff": 15
           },
           "zerolinecolor": "white",
           "zerolinewidth": 2
          },
          "yaxis": {
           "automargin": true,
           "gridcolor": "white",
           "linecolor": "white",
           "ticks": "",
           "title": {
            "standoff": 15
           },
           "zerolinecolor": "white",
           "zerolinewidth": 2
          }
         }
        },
        "title": {
         "text": "m"
        },
        "xaxis": {
         "anchor": "y",
         "domain": [
          0,
          0.425
         ],
         "range": [
          -1,
          1
         ],
         "title": {
          "text": "Weight"
         }
        },
        "xaxis2": {
         "anchor": "y2",
         "domain": [
          0.575,
          1
         ],
         "range": [
          -1,
          1
         ],
         "title": {
          "text": "Weight"
         }
        },
        "yaxis": {
         "anchor": "x",
         "domain": [
          0,
          1
         ]
        },
        "yaxis2": {
         "anchor": "x2",
         "domain": [
          0,
          1
         ]
        }
       }
      }
     },
     "metadata": {},
     "output_type": "display_data"
    }
   ],
   "source": [
    "top = 15\n",
    "col = 'Factor2'\n",
    "\n",
    "fig = make_subplots(rows=1, cols=2, subplot_titles=[f'q | {round(explVar.loc[col][\"q\"],4)}%', f'm | {round(explVar.loc[col][\"m\"],4)}%'])\n",
    "fig.add_trace(go.Scatter(\n",
    "    y=np.arange(wq.shape[0])/wq.shape[0],\n",
    "    x=sorted(wq[col].to_numpy()),\n",
    "    mode='markers',\n",
    "    marker_size=3,\n",
    "    marker_color=top*['black'] + (wq.shape[0]-2*top)*[palette[0]] + top*['black'],\n",
    "    showlegend=False\n",
    "), row=1, col=1)\n",
    "\n",
    "fig.add_trace(go.Scatter(\n",
    "    y=np.arange(wm.shape[0])/wm.shape[0],\n",
    "    x=sorted(wm[col].to_numpy()),\n",
    "    mode='markers',\n",
    "    marker_size=3,\n",
    "    marker_color=top*['black'] + (wm.shape[0]-2*top)*[palette[1]] + top*['black'],\n",
    "    showlegend=False\n",
    "), row=1, col=2)\n",
    "\n",
    "fig.update_xaxes(range=(-1,1), title='Weight')\n",
    "fig.show()\n",
    "\n",
    "w_all = {}\n",
    "for df, omic, xi in [(wq, 'q', xqi), (wm, 'm', xmi)]:\n",
    "    fig = make_subplots(rows=1, cols=2, subplot_titles=['Negative', 'Positive'], horizontal_spacing=0.15)\n",
    "\n",
    "    tmp = df.sort_values(col, ascending=False)[col]\n",
    "    w_all[omic] = tmp\n",
    "    topup = tmp[:top]\n",
    "    topdo = tmp[-top:]\n",
    "\n",
    "    fig.add_trace(go.Bar(\n",
    "        y=topup.index[::-1],\n",
    "        x=topup.values[::-1],\n",
    "        orientation='h',\n",
    "        width=0.1, showlegend=False\n",
    "    ), row=1, col=2)\n",
    "\n",
    "    fig.add_trace(go.Bar(\n",
    "        y=topdo.index,\n",
    "        x=topdo.values,\n",
    "        orientation='h',\n",
    "        width=0.1, showlegend=False\n",
    "    ), row=1, col=1)\n",
    "    fig.update_xaxes(range=(-1,1), title='Weight')\n",
    "    fig.update_layout(height=400+15*top, title=omic)\n",
    "    fig.show()\n",
    "\n",
    "    #sns.clustermap(xi.loc[:, topup.index.tolist()+topdo.index.tolist()].T, cmap='vlag', figsize=(12,6), center=0, vmin=-3, vmax=3)"
   ]
  },
  {
   "cell_type": "code",
   "execution_count": 225,
   "metadata": {},
   "outputs": [
    {
     "data": {
      "text/plain": [
       "<seaborn.matrix.ClusterGrid at 0x26095ba52d0>"
      ]
     },
     "execution_count": 225,
     "metadata": {},
     "output_type": "execute_result"
    },
    {
     "data": {
      "image/png": "[encoded data removed]",
      "text/plain": [
       "<Figure size 864x576 with 4 Axes>"
      ]
     },
     "metadata": {
      "needs_background": "light"
     },
     "output_type": "display_data"
    }
   ],
   "source": [
    "# HEATMAP\n",
    "\n",
    "prots = ['P27169','P80108','P02647','P02652']\n",
    "tmp = xqi.loc[\n",
    "    :, \n",
    "    w_all['q'][:0].index.tolist()+w_all['q'][:0].index.tolist()\n",
    "    ].join(\n",
    "\n",
    "xmi.loc[\n",
    "    :, \n",
    "    w_all['m'][:40].index.tolist()+w_all['m'][-20:].index.tolist()\n",
    "    ]\n",
    ").T\n",
    "\n",
    "sns.clustermap(\n",
    "    tmp,\n",
    "    cmap='vlag', figsize=(12,8), center=0, row_cluster=False, col_cluster=True, vmin=-2, vmax=2)"
   ]
  },
  {
   "attachments": {},
   "cell_type": "markdown",
   "metadata": {},
   "source": [
    "STRING FUNCTIONS"
   ]
  },
  {
   "cell_type": "code",
   "execution_count": 197,
   "metadata": {},
   "outputs": [],
   "source": [
    "from STRING import Uniprot2String, FunctionalEnrichment"
   ]
  },
  {
   "cell_type": "code",
   "execution_count": 226,
   "metadata": {},
   "outputs": [],
   "source": [
    "background = Uniprot2String(\n",
    "    q2i['fid'].tolist()\n",
    ")\n",
    "\n",
    "background = [i[1] for i in background]"
   ]
  },
  {
   "cell_type": "code",
   "execution_count": 227,
   "metadata": {},
   "outputs": [],
   "source": [
    "my_genes = Uniprot2String(\n",
    "    w_all['q'].index.tolist()[:15]+w_all['q'].index.tolist()[-15:]\n",
    ")\n",
    "my_genes = [i[1] for i in my_genes]"
   ]
  },
  {
   "cell_type": "code",
   "execution_count": 228,
   "metadata": {},
   "outputs": [],
   "source": [
    "data = FunctionalEnrichment(my_genes, background, species=9606)\n",
    "\n",
    "from io import StringIO\n",
    "\n",
    "data = pd.read_csv(\n",
    "    StringIO(data),\n",
    "    sep='\\t'\n",
    ")"
   ]
  },
  {
   "cell_type": "code",
   "execution_count": 229,
   "metadata": {},
   "outputs": [
    {
     "data": {
      "text/html": [
       "<div>\n",
       "<style scoped>\n",
       "    .dataframe tbody tr th:only-of-type {\n",
       "        vertical-align: middle;\n",
       "    }\n",
       "\n",
       "    .dataframe tbody tr th {\n",
       "        vertical-align: top;\n",
       "    }\n",
       "\n",
       "    .dataframe thead th {\n",
       "        text-align: right;\n",
       "    }\n",
       "</style>\n",
       "<table border=\"1\" class=\"dataframe\">\n",
       "  <thead>\n",
       "    <tr style=\"text-align: right;\">\n",
       "      <th></th>\n",
       "      <th>category</th>\n",
       "      <th>number_of_genes</th>\n",
       "      <th>number_of_genes_in_background</th>\n",
       "      <th>fdr</th>\n",
       "      <th>description</th>\n",
       "    </tr>\n",
       "  </thead>\n",
       "  <tbody>\n",
       "    <tr>\n",
       "      <th>36</th>\n",
       "      <td>Component</td>\n",
       "      <td>9</td>\n",
       "      <td>86</td>\n",
       "      <td>0.000009</td>\n",
       "      <td>Blood microparticle</td>\n",
       "    </tr>\n",
       "    <tr>\n",
       "      <th>35</th>\n",
       "      <td>Component</td>\n",
       "      <td>19</td>\n",
       "      <td>769</td>\n",
       "      <td>0.000009</td>\n",
       "      <td>Extracellular space</td>\n",
       "    </tr>\n",
       "    <tr>\n",
       "      <th>11</th>\n",
       "      <td>Process</td>\n",
       "      <td>6</td>\n",
       "      <td>12</td>\n",
       "      <td>0.000017</td>\n",
       "      <td>Complement activation, alternative pathway</td>\n",
       "    </tr>\n",
       "    <tr>\n",
       "      <th>37</th>\n",
       "      <td>Component</td>\n",
       "      <td>16</td>\n",
       "      <td>578</td>\n",
       "      <td>0.000044</td>\n",
       "      <td>Extracellular vesicle</td>\n",
       "    </tr>\n",
       "    <tr>\n",
       "      <th>79</th>\n",
       "      <td>KEGG</td>\n",
       "      <td>7</td>\n",
       "      <td>60</td>\n",
       "      <td>0.000088</td>\n",
       "      <td>Complement and coagulation cascades</td>\n",
       "    </tr>\n",
       "    <tr>\n",
       "      <th>38</th>\n",
       "      <td>Component</td>\n",
       "      <td>15</td>\n",
       "      <td>574</td>\n",
       "      <td>0.000250</td>\n",
       "      <td>Extracellular exosome</td>\n",
       "    </tr>\n",
       "    <tr>\n",
       "      <th>39</th>\n",
       "      <td>Component</td>\n",
       "      <td>5</td>\n",
       "      <td>27</td>\n",
       "      <td>0.000560</td>\n",
       "      <td>Plasma lipoprotein particle</td>\n",
       "    </tr>\n",
       "    <tr>\n",
       "      <th>80</th>\n",
       "      <td>KEGG</td>\n",
       "      <td>3</td>\n",
       "      <td>6</td>\n",
       "      <td>0.003100</td>\n",
       "      <td>Fat digestion and absorption</td>\n",
       "    </tr>\n",
       "    <tr>\n",
       "      <th>81</th>\n",
       "      <td>KEGG</td>\n",
       "      <td>3</td>\n",
       "      <td>5</td>\n",
       "      <td>0.003100</td>\n",
       "      <td>Vitamin digestion and absorption</td>\n",
       "    </tr>\n",
       "    <tr>\n",
       "      <th>82</th>\n",
       "      <td>KEGG</td>\n",
       "      <td>4</td>\n",
       "      <td>22</td>\n",
       "      <td>0.003100</td>\n",
       "      <td>Cholesterol metabolism</td>\n",
       "    </tr>\n",
       "    <tr>\n",
       "      <th>41</th>\n",
       "      <td>Component</td>\n",
       "      <td>4</td>\n",
       "      <td>24</td>\n",
       "      <td>0.006700</td>\n",
       "      <td>High-density lipoprotein particle</td>\n",
       "    </tr>\n",
       "    <tr>\n",
       "      <th>40</th>\n",
       "      <td>Component</td>\n",
       "      <td>3</td>\n",
       "      <td>7</td>\n",
       "      <td>0.006700</td>\n",
       "      <td>Low-density lipoprotein particle</td>\n",
       "    </tr>\n",
       "    <tr>\n",
       "      <th>43</th>\n",
       "      <td>Component</td>\n",
       "      <td>3</td>\n",
       "      <td>9</td>\n",
       "      <td>0.009400</td>\n",
       "      <td>Endocytic vesicle lumen</td>\n",
       "    </tr>\n",
       "    <tr>\n",
       "      <th>42</th>\n",
       "      <td>Component</td>\n",
       "      <td>3</td>\n",
       "      <td>9</td>\n",
       "      <td>0.009400</td>\n",
       "      <td>Chylomicron</td>\n",
       "    </tr>\n",
       "    <tr>\n",
       "      <th>83</th>\n",
       "      <td>KEGG</td>\n",
       "      <td>4</td>\n",
       "      <td>39</td>\n",
       "      <td>0.014800</td>\n",
       "      <td>Staphylococcus aureus infection</td>\n",
       "    </tr>\n",
       "  </tbody>\n",
       "</table>\n",
       "</div>"
      ],
      "text/plain": [
       "     category  number_of_genes  number_of_genes_in_background       fdr  \\\n",
       "36  Component                9                             86  0.000009   \n",
       "35  Component               19                            769  0.000009   \n",
       "11    Process                6                             12  0.000017   \n",
       "37  Component               16                            578  0.000044   \n",
       "79       KEGG                7                             60  0.000088   \n",
       "38  Component               15                            574  0.000250   \n",
       "39  Component                5                             27  0.000560   \n",
       "80       KEGG                3                              6  0.003100   \n",
       "81       KEGG                3                              5  0.003100   \n",
       "82       KEGG                4                             22  0.003100   \n",
       "41  Component                4                             24  0.006700   \n",
       "40  Component                3                              7  0.006700   \n",
       "43  Component                3                              9  0.009400   \n",
       "42  Component                3                              9  0.009400   \n",
       "83       KEGG                4                             39  0.014800   \n",
       "\n",
       "                                   description  \n",
       "36                         Blood microparticle  \n",
       "35                         Extracellular space  \n",
       "11  Complement activation, alternative pathway  \n",
       "37                       Extracellular vesicle  \n",
       "79         Complement and coagulation cascades  \n",
       "38                       Extracellular exosome  \n",
       "39                 Plasma lipoprotein particle  \n",
       "80                Fat digestion and absorption  \n",
       "81            Vitamin digestion and absorption  \n",
       "82                      Cholesterol metabolism  \n",
       "41           High-density lipoprotein particle  \n",
       "40            Low-density lipoprotein particle  \n",
       "43                     Endocytic vesicle lumen  \n",
       "42                                 Chylomicron  \n",
       "83             Staphylococcus aureus infection  "
      ]
     },
     "execution_count": 229,
     "metadata": {},
     "output_type": "execute_result"
    }
   ],
   "source": [
    "col = ['category', 'number_of_genes', 'number_of_genes_in_background', 'fdr', 'description']\n",
    "categories = ['Process', 'KEGG', 'Component']\n",
    "data[np.isin(data['category'], categories)].sort_values('fdr').loc[:, col].head(15)"
   ]
  },
  {
   "cell_type": "code",
   "execution_count": 97,
   "metadata": {},
   "outputs": [],
   "source": [
    "def PlotNetwork(identifiers, species=9606):\n",
    "\n",
    "    ################################################################\n",
    "    ## For each protein in a list save the PNG image of\n",
    "    ## STRING network of its 15 most confident interaction partners.\n",
    "    ##\n",
    "    ## Requires requests module:\n",
    "    ## type \"python -m pip install requests\" in command line (win)\n",
    "    ## or terminal (mac/linux) to install the module\n",
    "    ################################################################\n",
    "\n",
    "    import requests ## python -m pip install requests\n",
    "    from time import sleep\n",
    "    \n",
    "\n",
    "    string_api_url = \"https://version-11-5.string-db.org/api\"\n",
    "    output_format = \"image\"\n",
    "    method = \"network\"\n",
    "\n",
    "    my_genes = [\"YMR055C\", \"YFR028C\",\n",
    "                \"YNL161W\", \"YOR373W\",\n",
    "                \"YFL009W\", \"YBR202W\"]\n",
    "\n",
    "\n",
    "    ##\n",
    "    ## Construct URL\n",
    "    ##\n",
    "\n",
    "\n",
    "    request_url = \"/\".join([string_api_url, output_format, method])\n",
    "\n",
    "    ## For each gene call STRING\n",
    "\n",
    "    #for gene in my_genes:\n",
    "\n",
    "    ##\n",
    "    ## Set parameters\n",
    "    ##\n",
    "\n",
    "    params = {\n",
    "\n",
    "        \"identifiers\" : \"\\r\".join(identifiers), # your protein\n",
    "        \"species\" : species, # species NCBI identifier \n",
    "        \"add_white_nodes\": 0, # add 15 white nodes to my protein \n",
    "        \"network_flavor\": \"confidence\", # show confidence links\n",
    "        \"caller_identity\" : \"www.awesome_app.org\" # your app name\n",
    "\n",
    "    }\n",
    "\n",
    "\n",
    "    ##\n",
    "    ## Call STRING\n",
    "    ##\n",
    "\n",
    "    response = requests.post(request_url, data=params)\n",
    "    return response.content\n",
    "\n",
    "    ##\n",
    "    ## Save the network to file\n",
    "    ##\n",
    "\n",
    "    #file_name = \"%s_network.png\" % gene\n",
    "    #print(\"Saving interaction network to %s\" % file_name)\n",
    "\n",
    "    #with open(file_name, 'wb') as fh:\n",
    "    #    fh.write(response.content)\n",
    "\n",
    "    #sleep(1)"
   ]
  },
  {
   "cell_type": "code",
   "execution_count": 231,
   "metadata": {},
   "outputs": [
    {
     "data": {
      "image/png": "[encoded data removed]",
      "text/plain": [
       "<IPython.core.display.Image object>"
      ]
     },
     "execution_count": 231,
     "metadata": {},
     "output_type": "execute_result"
    }
   ],
   "source": [
    "from IPython.display import Image\n",
    "\n",
    "Image(PlotNetwork(my_genes))"
   ]
  }
 ],
 "metadata": {
  "kernelspec": {
   "display_name": "Python 3",
   "language": "python",
   "name": "python3"
  },
  "language_info": {
   "codemirror_mode": {
    "name": "ipython",
    "version": 3
   },
   "file_extension": ".py",
   "mimetype": "text/x-python",
   "name": "python",
   "nbconvert_exporter": "python",
   "pygments_lexer": "ipython3",
   "version": "3.10.4"
  },
  "orig_nbformat": 4,
  "vscode": {
   "interpreter": {
    "hash": "299fabdee10379681b2207a83aa9f93c313ee5d5504e286e44b436bd7e45d8f9"
   }
  }
 },
 "nbformat": 4,
 "nbformat_minor": 2
}
