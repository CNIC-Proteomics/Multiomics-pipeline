{
 "cells": [
  {
   "cell_type": "code",
   "execution_count": 1,
   "metadata": {},
   "outputs": [],
   "source": [
    "#\n",
    "# Import Libraries\n",
    "#\n",
    "\n",
    "import os\n",
    "import pandas as pd\n",
    "import pickle\n",
    "import sys\n",
    "import networkx as nx\n",
    "import numpy as np\n",
    "from scipy.stats import poisson\n",
    "import itertools\n",
    "\n",
    "from scipy.stats import pearsonr, spearmanr, kendalltau\n",
    "\n",
    "from functools import reduce\n",
    "\n",
    "from plotly import graph_objects as go\n",
    "from plotly.subplots import make_subplots\n",
    "import plotly.express as px\n",
    "import plotly\n",
    "\n",
    "import re\n",
    "\n",
    "palette = plotly.colors.qualitative.Plotly\n",
    "\n",
    "from pyvis.network import Network\n",
    "\n",
    "import subprocess\n",
    "\n",
    "utilsPath = r'S:\\U_Proteomica\\UNIDAD\\software\\MacrosRafa\\data\\Metabolomics\\PESA_Integromics\\Data\\utils'\n",
    "if utilsPath not in sys.path:\n",
    "    sys.path.append(utilsPath)"
   ]
  },
  {
   "cell_type": "code",
   "execution_count": 2,
   "metadata": {},
   "outputs": [],
   "source": [
    "#\n",
    "# Paths & Constants\n",
    "#\n",
    "\n",
    "corr_path = r'S:\\U_Proteomica\\UNIDAD\\software\\MacrosRafa\\data\\Metabolomics\\PESA_Integromics\\Data\\Analysis\\02-Correlations\\AWHS\\corr.pkl'\n",
    "pval_path = r'S:\\U_Proteomica\\UNIDAD\\software\\MacrosRafa\\data\\Metabolomics\\PESA_Integromics\\Data\\Analysis\\02-Correlations\\AWHS\\pvals.pkl'\n",
    "\n",
    "xm_path = r'S:\\U_Proteomica\\UNIDAD\\software\\MacrosRafa\\data\\Metabolomics\\PESA_Integromics\\Data\\Metabolomics\\AWHS\\WorkingFiles\\Xm_norm_MS2.tsv'\n",
    "xq_path = r'S:\\U_Proteomica\\UNIDAD\\software\\MacrosRafa\\data\\Metabolomics\\PESA_Integromics\\Data\\Proteomics\\AWHS\\WorkingFiles\\Xq_minus_X_norm.tsv'\n",
    "\n",
    "m2i_path = r'S:\\U_Proteomica\\UNIDAD\\software\\MacrosRafa\\data\\Metabolomics\\PESA_Integromics\\Data\\Metabolomics\\AWHS\\WorkingFiles\\m2info.tsv'\n",
    "q2i_path = r'S:\\U_Proteomica\\UNIDAD\\software\\MacrosRafa\\data\\Metabolomics\\PESA_Integromics\\Data\\Proteomics\\AWHS\\WorkingFiles\\q2info.tsv'\n",
    "\n",
    "mdata_path = r'S:\\U_Proteomica\\UNIDAD\\software\\MacrosRafa\\data\\Metabolomics\\PESA_Integromics\\Data\\Metadata\\AWHS\\WorkingFiles\\main_metadata.tsv'"
   ]
  },
  {
   "cell_type": "code",
   "execution_count": 3,
   "metadata": {},
   "outputs": [],
   "source": [
    "xq = pd.read_csv(xq_path, sep='\\t', index_col='Seqn')\n",
    "xm = pd.read_csv(xm_path, sep='\\t', index_col='fid')\n",
    "\n",
    "q2i = pd.read_csv(q2i_path, sep='\\t', index_col='fid')\n",
    "m2i = pd.read_csv(m2i_path, sep='\\t', index_col='fid')\n",
    "\n",
    "mdata = pd.read_csv(mdata_path, sep='\\t')"
   ]
  },
  {
   "cell_type": "code",
   "execution_count": 4,
   "metadata": {},
   "outputs": [],
   "source": [
    "#\n",
    "# Read raw data from which the graph will be built\n",
    "#\n",
    "\n",
    "with open(corr_path, 'rb') as f:\n",
    "    corr, corrSL = pickle.load(f)\n",
    "\n",
    "with open(pval_path, 'rb') as f:\n",
    "    pv, adpv = pickle.load(f)"
   ]
  },
  {
   "attachments": {},
   "cell_type": "markdown",
   "metadata": {},
   "source": [
    "Analizar orden y tamaño del grafo usando diferentes tipos de correlaciones y umbrales de FDR"
   ]
  },
  {
   "cell_type": "code",
   "execution_count": 5,
   "metadata": {},
   "outputs": [],
   "source": [
    "#\n",
    "# \n",
    "#\n",
    "\n",
    "ctypes = ['rpc', 'psk']\n",
    "\n",
    "pvrange = np.arange(0,0.2,0.05)\n",
    "\n",
    "plot = {}\n",
    "\n",
    "for ctype in ctypes:\n",
    "    plot[ctype] = {\n",
    "        'qq': {'nodes':[], 'edges':[]},\n",
    "        'mm': {'nodes':[], 'edges':[]}, \n",
    "    }\n",
    "    for pv in pvrange:\n",
    "\n",
    "        qqc = getattr(corr, ctype).qq.dc.copy()\n",
    "        qqp = adpv[ctype].qq.dc.copy()\n",
    "        qqg = nx.from_pandas_adjacency(qqc[qqp<=pv].fillna(0))\n",
    "        plot[ctype]['qq']['nodes'].append((np.array(list(dict(nx.degree(qqg)).values()))>0).sum())\n",
    "        plot[ctype]['qq']['edges'].append(qqg.size())\n",
    "\n",
    "        mmc = getattr(corr, ctype).mm.dc.copy()\n",
    "        mmp = adpv[ctype].mm.dc.copy()\n",
    "        mmg = nx.from_pandas_adjacency(mmc[mmp<=pv].fillna(0))\n",
    "        plot[ctype]['mm']['nodes'].append((np.array(list(dict(nx.degree(mmg)).values()))>0).sum())\n",
    "        plot[ctype]['mm']['edges'].append(mmg.size())\n",
    "\n",
    "\n",
    "ctypes2 = ['rcca', 'psk', 'cca']\n",
    "\n",
    "for ctype in ctypes2:\n",
    "    if ctype not in plot.keys(): plot[ctype]={}\n",
    "    plot[ctype]['qm'] = {\n",
    "        'nodes':[], 'edges':[],\n",
    "    }\n",
    "    for pv in pvrange:\n",
    "\n",
    "        qmc = getattr(corr, ctype).qm.dc.copy()\n",
    "        qmp = adpv[ctype].qm.dc.copy()\n",
    "        qmg = qmc[qmp<pv].fillna(0)\n",
    "        qmg = pd.concat([\n",
    "            pd.DataFrame(columns=qmg.index, index=qmg.index).fillna(0).join(qmg),\n",
    "            qmg.T.join(pd.DataFrame(columns=qmg.columns, index=qmg.columns).fillna(0))\n",
    "        ])\n",
    "        qmg = nx.from_pandas_adjacency(qmg)\n",
    "        plot[ctype]['qm']['nodes'].append((np.array(list(dict(nx.degree(qmg)).values()))>0).sum())\n",
    "        plot[ctype]['qm']['edges'].append(qmg.size())"
   ]
  },
  {
   "cell_type": "code",
   "execution_count": 17,
   "metadata": {},
   "outputs": [
    {
     "data": {
      "application/vnd.plotly.v1+json": {
       "config": {
        "plotlyServerURL": "https://plot.ly"
       },
       "data": [
        {
         "legendgroup": "0",
         "marker": {
          "color": "#636EFA"
         },
         "name": "rpc",
         "type": "scatter",
         "x": [
          0,
          0.05,
          0.1,
          0.15000000000000002
         ],
         "xaxis": "x",
         "y": [
          0,
          380,
          380,
          380
         ],
         "yaxis": "y"
        },
        {
         "legendgroup": "0",
         "marker": {
          "color": "#636EFA"
         },
         "name": "rpc",
         "type": "scatter",
         "x": [
          0,
          0.05,
          0.1,
          0.15000000000000002
         ],
         "xaxis": "x2",
         "y": [
          0,
          5915,
          5915,
          5915
         ],
         "yaxis": "y2"
        },
        {
         "legendgroup": "0",
         "marker": {
          "color": "#636EFA"
         },
         "name": "rpc",
         "type": "scatter",
         "x": [
          0,
          0.05,
          0.1,
          0.15000000000000002
         ],
         "xaxis": "x3",
         "y": [
          0,
          501,
          501,
          501
         ],
         "yaxis": "y3"
        },
        {
         "legendgroup": "0",
         "marker": {
          "color": "#636EFA"
         },
         "name": "rpc",
         "type": "scatter",
         "x": [
          0,
          0.05,
          0.1,
          0.15000000000000002
         ],
         "xaxis": "x4",
         "y": [
          0,
          5095,
          5095,
          5095
         ],
         "yaxis": "y4"
        },
        {
         "legendgroup": "1",
         "marker": {
          "color": "#EF553B"
         },
         "name": "psk",
         "type": "scatter",
         "x": [
          0,
          0.05,
          0.1,
          0.15000000000000002
         ],
         "xaxis": "x",
         "y": [
          0,
          0,
          0,
          0
         ],
         "yaxis": "y"
        },
        {
         "legendgroup": "1",
         "marker": {
          "color": "#EF553B"
         },
         "name": "psk",
         "type": "scatter",
         "x": [
          0,
          0.05,
          0.1,
          0.15000000000000002
         ],
         "xaxis": "x2",
         "y": [
          0,
          0,
          0,
          0
         ],
         "yaxis": "y2"
        },
        {
         "legendgroup": "1",
         "marker": {
          "color": "#EF553B"
         },
         "name": "psk",
         "type": "scatter",
         "x": [
          0,
          0.05,
          0.1,
          0.15000000000000002
         ],
         "xaxis": "x3",
         "y": [
          0,
          0,
          0,
          0
         ],
         "yaxis": "y3"
        },
        {
         "legendgroup": "1",
         "marker": {
          "color": "#EF553B"
         },
         "name": "psk",
         "type": "scatter",
         "x": [
          0,
          0.05,
          0.1,
          0.15000000000000002
         ],
         "xaxis": "x4",
         "y": [
          0,
          0,
          0,
          0
         ],
         "yaxis": "y4"
        },
        {
         "legendgroup": "0",
         "marker": {
          "color": "#636EFA"
         },
         "name": "rcca",
         "type": "scatter",
         "x": [
          0,
          0.05,
          0.1,
          0.15000000000000002
         ],
         "xaxis": "x5",
         "y": [
          0,
          1017,
          1030,
          1034
         ],
         "yaxis": "y5"
        },
        {
         "legendgroup": "0",
         "marker": {
          "color": "#636EFA"
         },
         "name": "rcca",
         "type": "scatter",
         "x": [
          0,
          0.05,
          0.1,
          0.15000000000000002
         ],
         "xaxis": "x6",
         "y": [
          0,
          107485,
          128647,
          143539
         ],
         "yaxis": "y6"
        },
        {
         "legendgroup": "1",
         "marker": {
          "color": "#EF553B"
         },
         "name": "psk",
         "type": "scatter",
         "x": [
          0,
          0.05,
          0.1,
          0.15000000000000002
         ],
         "xaxis": "x5",
         "y": [
          0,
          0,
          259,
          363
         ],
         "yaxis": "y5"
        },
        {
         "legendgroup": "1",
         "marker": {
          "color": "#EF553B"
         },
         "name": "psk",
         "type": "scatter",
         "x": [
          0,
          0.05,
          0.1,
          0.15000000000000002
         ],
         "xaxis": "x6",
         "y": [
          0,
          0,
          541,
          931
         ],
         "yaxis": "y6"
        },
        {
         "legendgroup": "2",
         "marker": {
          "color": "#00CC96"
         },
         "name": "cca",
         "type": "scatter",
         "x": [
          0,
          0.05,
          0.1,
          0.15000000000000002
         ],
         "xaxis": "x5",
         "y": [
          0,
          1028,
          1032,
          1036
         ],
         "yaxis": "y5"
        },
        {
         "legendgroup": "2",
         "marker": {
          "color": "#00CC96"
         },
         "name": "cca",
         "type": "scatter",
         "x": [
          0,
          0.05,
          0.1,
          0.15000000000000002
         ],
         "xaxis": "x6",
         "y": [
          0,
          151544,
          168477,
          179342
         ],
         "yaxis": "y6"
        }
       ],
       "layout": {
        "annotations": [
         {
          "font": {
           "size": 16
          },
          "showarrow": false,
          "text": "qq - Nodes",
          "x": 0.225,
          "xanchor": "center",
          "xref": "paper",
          "y": 1,
          "yanchor": "bottom",
          "yref": "paper"
         },
         {
          "font": {
           "size": 16
          },
          "showarrow": false,
          "text": "qq - Edges",
          "x": 0.775,
          "xanchor": "center",
          "xref": "paper",
          "y": 1,
          "yanchor": "bottom",
          "yref": "paper"
         },
         {
          "font": {
           "size": 16
          },
          "showarrow": false,
          "text": "mm - Nodes",
          "x": 0.225,
          "xanchor": "center",
          "xref": "paper",
          "y": 0.6111111111111112,
          "yanchor": "bottom",
          "yref": "paper"
         },
         {
          "font": {
           "size": 16
          },
          "showarrow": false,
          "text": "mm - Edges",
          "x": 0.775,
          "xanchor": "center",
          "xref": "paper",
          "y": 0.6111111111111112,
          "yanchor": "bottom",
          "yref": "paper"
         },
         {
          "font": {
           "size": 16
          },
          "showarrow": false,
          "text": "qm - Nodes",
          "x": 0.225,
          "xanchor": "center",
          "xref": "paper",
          "y": 0.22222222222222224,
          "yanchor": "bottom",
          "yref": "paper"
         },
         {
          "font": {
           "size": 16
          },
          "showarrow": false,
          "text": "qm - Edges",
          "x": 0.775,
          "xanchor": "center",
          "xref": "paper",
          "y": 0.22222222222222224,
          "yanchor": "bottom",
          "yref": "paper"
         }
        ],
        "height": 500,
        "template": {
         "data": {
          "bar": [
           {
            "error_x": {
             "color": "#2a3f5f"
            },
            "error_y": {
             "color": "#2a3f5f"
            },
            "marker": {
             "line": {
              "color": "#E5ECF6",
              "width": 0.5
             },
             "pattern": {
              "fillmode": "overlay",
              "size": 10,
              "solidity": 0.2
             }
            },
            "type": "bar"
           }
          ],
          "barpolar": [
           {
            "marker": {
             "line": {
              "color": "#E5ECF6",
              "width": 0.5
             },
             "pattern": {
              "fillmode": "overlay",
              "size": 10,
              "solidity": 0.2
             }
            },
            "type": "barpolar"
           }
          ],
          "carpet": [
           {
            "aaxis": {
             "endlinecolor": "#2a3f5f",
             "gridcolor": "white",
             "linecolor": "white",
             "minorgridcolor": "white",
             "startlinecolor": "#2a3f5f"
            },
            "baxis": {
             "endlinecolor": "#2a3f5f",
             "gridcolor": "white",
             "linecolor": "white",
             "minorgridcolor": "white",
             "startlinecolor": "#2a3f5f"
            },
            "type": "carpet"
           }
          ],
          "choropleth": [
           {
            "colorbar": {
             "outlinewidth": 0,
             "ticks": ""
            },
            "type": "choropleth"
           }
          ],
          "contour": [
           {
            "colorbar": {
             "outlinewidth": 0,
             "ticks": ""
            },
            "colorscale": [
             [
              0,
              "#0d0887"
             ],
             [
              0.1111111111111111,
              "#46039f"
             ],
             [
              0.2222222222222222,
              "#7201a8"
             ],
             [
              0.3333333333333333,
              "#9c179e"
             ],
             [
              0.4444444444444444,
              "#bd3786"
             ],
             [
              0.5555555555555556,
              "#d8576b"
             ],
             [
              0.6666666666666666,
              "#ed7953"
             ],
             [
              0.7777777777777778,
              "#fb9f3a"
             ],
             [
              0.8888888888888888,
              "#fdca26"
             ],
             [
              1,
              "#f0f921"
             ]
            ],
            "type": "contour"
           }
          ],
          "contourcarpet": [
           {
            "colorbar": {
             "outlinewidth": 0,
             "ticks": ""
            },
            "type": "contourcarpet"
           }
          ],
          "heatmap": [
           {
            "colorbar": {
             "outlinewidth": 0,
             "ticks": ""
            },
            "colorscale": [
             [
              0,
              "#0d0887"
             ],
             [
              0.1111111111111111,
              "#46039f"
             ],
             [
              0.2222222222222222,
              "#7201a8"
             ],
             [
              0.3333333333333333,
              "#9c179e"
             ],
             [
              0.4444444444444444,
              "#bd3786"
             ],
             [
              0.5555555555555556,
              "#d8576b"
             ],
             [
              0.6666666666666666,
              "#ed7953"
             ],
             [
              0.7777777777777778,
              "#fb9f3a"
             ],
             [
              0.8888888888888888,
              "#fdca26"
             ],
             [
              1,
              "#f0f921"
             ]
            ],
            "type": "heatmap"
           }
          ],
          "heatmapgl": [
           {
            "colorbar": {
             "outlinewidth": 0,
             "ticks": ""
            },
            "colorscale": [
             [
              0,
              "#0d0887"
             ],
             [
              0.1111111111111111,
              "#46039f"
             ],
             [
              0.2222222222222222,
              "#7201a8"
             ],
             [
              0.3333333333333333,
              "#9c179e"
             ],
             [
              0.4444444444444444,
              "#bd3786"
             ],
             [
              0.5555555555555556,
              "#d8576b"
             ],
             [
              0.6666666666666666,
              "#ed7953"
             ],
             [
              0.7777777777777778,
              "#fb9f3a"
             ],
             [
              0.8888888888888888,
              "#fdca26"
             ],
             [
              1,
              "#f0f921"
             ]
            ],
            "type": "heatmapgl"
           }
          ],
          "histogram": [
           {
            "marker": {
             "pattern": {
              "fillmode": "overlay",
              "size": 10,
              "solidity": 0.2
             }
            },
            "type": "histogram"
           }
          ],
          "histogram2d": [
           {
            "colorbar": {
             "outlinewidth": 0,
             "ticks": ""
            },
            "colorscale": [
             [
              0,
              "#0d0887"
             ],
             [
              0.1111111111111111,
              "#46039f"
             ],
             [
              0.2222222222222222,
              "#7201a8"
             ],
             [
              0.3333333333333333,
              "#9c179e"
             ],
             [
              0.4444444444444444,
              "#bd3786"
             ],
             [
              0.5555555555555556,
              "#d8576b"
             ],
             [
              0.6666666666666666,
              "#ed7953"
             ],
             [
              0.7777777777777778,
              "#fb9f3a"
             ],
             [
              0.8888888888888888,
              "#fdca26"
             ],
             [
              1,
              "#f0f921"
             ]
            ],
            "type": "histogram2d"
           }
          ],
          "histogram2dcontour": [
           {
            "colorbar": {
             "outlinewidth": 0,
             "ticks": ""
            },
            "colorscale": [
             [
              0,
              "#0d0887"
             ],
             [
              0.1111111111111111,
              "#46039f"
             ],
             [
              0.2222222222222222,
              "#7201a8"
             ],
             [
              0.3333333333333333,
              "#9c179e"
             ],
             [
              0.4444444444444444,
              "#bd3786"
             ],
             [
              0.5555555555555556,
              "#d8576b"
             ],
             [
              0.6666666666666666,
              "#ed7953"
             ],
             [
              0.7777777777777778,
              "#fb9f3a"
             ],
             [
              0.8888888888888888,
              "#fdca26"
             ],
             [
              1,
              "#f0f921"
             ]
            ],
            "type": "histogram2dcontour"
           }
          ],
          "mesh3d": [
           {
            "colorbar": {
             "outlinewidth": 0,
             "ticks": ""
            },
            "type": "mesh3d"
           }
          ],
          "parcoords": [
           {
            "line": {
             "colorbar": {
              "outlinewidth": 0,
              "ticks": ""
             }
            },
            "type": "parcoords"
           }
          ],
          "pie": [
           {
            "automargin": true,
            "type": "pie"
           }
          ],
          "scatter": [
           {
            "fillpattern": {
             "fillmode": "overlay",
             "size": 10,
             "solidity": 0.2
            },
            "type": "scatter"
           }
          ],
          "scatter3d": [
           {
            "line": {
             "colorbar": {
              "outlinewidth": 0,
              "ticks": ""
             }
            },
            "marker": {
             "colorbar": {
              "outlinewidth": 0,
              "ticks": ""
             }
            },
            "type": "scatter3d"
           }
          ],
          "scattercarpet": [
           {
            "marker": {
             "colorbar": {
              "outlinewidth": 0,
              "ticks": ""
             }
            },
            "type": "scattercarpet"
           }
          ],
          "scattergeo": [
           {
            "marker": {
             "colorbar": {
              "outlinewidth": 0,
              "ticks": ""
             }
            },
            "type": "scattergeo"
           }
          ],
          "scattergl": [
           {
            "marker": {
             "colorbar": {
              "outlinewidth": 0,
              "ticks": ""
             }
            },
            "type": "scattergl"
           }
          ],
          "scattermapbox": [
           {
            "marker": {
             "colorbar": {
              "outlinewidth": 0,
              "ticks": ""
             }
            },
            "type": "scattermapbox"
           }
          ],
          "scatterpolar": [
           {
            "marker": {
             "colorbar": {
              "outlinewidth": 0,
              "ticks": ""
             }
            },
            "type": "scatterpolar"
           }
          ],
          "scatterpolargl": [
           {
            "marker": {
             "colorbar": {
              "outlinewidth": 0,
              "ticks": ""
             }
            },
            "type": "scatterpolargl"
           }
          ],
          "scatterternary": [
           {
            "marker": {
             "colorbar": {
              "outlinewidth": 0,
              "ticks": ""
             }
            },
            "type": "scatterternary"
           }
          ],
          "surface": [
           {
            "colorbar": {
             "outlinewidth": 0,
             "ticks": ""
            },
            "colorscale": [
             [
              0,
              "#0d0887"
             ],
             [
              0.1111111111111111,
              "#46039f"
             ],
             [
              0.2222222222222222,
              "#7201a8"
             ],
             [
              0.3333333333333333,
              "#9c179e"
             ],
             [
              0.4444444444444444,
              "#bd3786"
             ],
             [
              0.5555555555555556,
              "#d8576b"
             ],
             [
              0.6666666666666666,
              "#ed7953"
             ],
             [
              0.7777777777777778,
              "#fb9f3a"
             ],
             [
              0.8888888888888888,
              "#fdca26"
             ],
             [
              1,
              "#f0f921"
             ]
            ],
            "type": "surface"
           }
          ],
          "table": [
           {
            "cells": {
             "fill": {
              "color": "#EBF0F8"
             },
             "line": {
              "color": "white"
             }
            },
            "header": {
             "fill": {
              "color": "#C8D4E3"
             },
             "line": {
              "color": "white"
             }
            },
            "type": "table"
           }
          ]
         },
         "layout": {
          "annotationdefaults": {
           "arrowcolor": "#2a3f5f",
           "arrowhead": 0,
           "arrowwidth": 1
          },
          "autotypenumbers": "strict",
          "coloraxis": {
           "colorbar": {
            "outlinewidth": 0,
            "ticks": ""
           }
          },
          "colorscale": {
           "diverging": [
            [
             0,
             "#8e0152"
            ],
            [
             0.1,
             "#c51b7d"
            ],
            [
             0.2,
             "#de77ae"
            ],
            [
             0.3,
             "#f1b6da"
            ],
            [
             0.4,
             "#fde0ef"
            ],
            [
             0.5,
             "#f7f7f7"
            ],
            [
             0.6,
             "#e6f5d0"
            ],
            [
             0.7,
             "#b8e186"
            ],
            [
             0.8,
             "#7fbc41"
            ],
            [
             0.9,
             "#4d9221"
            ],
            [
             1,
             "#276419"
            ]
           ],
           "sequential": [
            [
             0,
             "#0d0887"
            ],
            [
             0.1111111111111111,
             "#46039f"
            ],
            [
             0.2222222222222222,
             "#7201a8"
            ],
            [
             0.3333333333333333,
             "#9c179e"
            ],
            [
             0.4444444444444444,
             "#bd3786"
            ],
            [
             0.5555555555555556,
             "#d8576b"
            ],
            [
             0.6666666666666666,
             "#ed7953"
            ],
            [
             0.7777777777777778,
             "#fb9f3a"
            ],
            [
             0.8888888888888888,
             "#fdca26"
            ],
            [
             1,
             "#f0f921"
            ]
           ],
           "sequentialminus": [
            [
             0,
             "#0d0887"
            ],
            [
             0.1111111111111111,
             "#46039f"
            ],
            [
             0.2222222222222222,
             "#7201a8"
            ],
            [
             0.3333333333333333,
             "#9c179e"
            ],
            [
             0.4444444444444444,
             "#bd3786"
            ],
            [
             0.5555555555555556,
             "#d8576b"
            ],
            [
             0.6666666666666666,
             "#ed7953"
            ],
            [
             0.7777777777777778,
             "#fb9f3a"
            ],
            [
             0.8888888888888888,
             "#fdca26"
            ],
            [
             1,
             "#f0f921"
            ]
           ]
          },
          "colorway": [
           "#636efa",
           "#EF553B",
           "#00cc96",
           "#ab63fa",
           "#FFA15A",
           "#19d3f3",
           "#FF6692",
           "#B6E880",
           "#FF97FF",
           "#FECB52"
          ],
          "font": {
           "color": "#2a3f5f"
          },
          "geo": {
           "bgcolor": "white",
           "lakecolor": "white",
           "landcolor": "#E5ECF6",
           "showlakes": true,
           "showland": true,
           "subunitcolor": "white"
          },
          "hoverlabel": {
           "align": "left"
          },
          "hovermode": "closest",
          "mapbox": {
           "style": "light"
          },
          "paper_bgcolor": "white",
          "plot_bgcolor": "#E5ECF6",
          "polar": {
           "angularaxis": {
            "gridcolor": "white",
            "linecolor": "white",
            "ticks": ""
           },
           "bgcolor": "#E5ECF6",
           "radialaxis": {
            "gridcolor": "white",
            "linecolor": "white",
            "ticks": ""
           }
          },
          "scene": {
           "xaxis": {
            "backgroundcolor": "#E5ECF6",
            "gridcolor": "white",
            "gridwidth": 2,
            "linecolor": "white",
            "showbackground": true,
            "ticks": "",
            "zerolinecolor": "white"
           },
           "yaxis": {
            "backgroundcolor": "#E5ECF6",
            "gridcolor": "white",
            "gridwidth": 2,
            "linecolor": "white",
            "showbackground": true,
            "ticks": "",
            "zerolinecolor": "white"
           },
           "zaxis": {
            "backgroundcolor": "#E5ECF6",
            "gridcolor": "white",
            "gridwidth": 2,
            "linecolor": "white",
            "showbackground": true,
            "ticks": "",
            "zerolinecolor": "white"
           }
          },
          "shapedefaults": {
           "line": {
            "color": "#2a3f5f"
           }
          },
          "ternary": {
           "aaxis": {
            "gridcolor": "white",
            "linecolor": "white",
            "ticks": ""
           },
           "baxis": {
            "gridcolor": "white",
            "linecolor": "white",
            "ticks": ""
           },
           "bgcolor": "#E5ECF6",
           "caxis": {
            "gridcolor": "white",
            "linecolor": "white",
            "ticks": ""
           }
          },
          "title": {
           "x": 0.05
          },
          "xaxis": {
           "automargin": true,
           "gridcolor": "white",
           "linecolor": "white",
           "ticks": "",
           "title": {
            "standoff": 15
           },
           "zerolinecolor": "white",
           "zerolinewidth": 2
          },
          "yaxis": {
           "automargin": true,
           "gridcolor": "white",
           "linecolor": "white",
           "ticks": "",
           "title": {
            "standoff": 15
           },
           "zerolinecolor": "white",
           "zerolinewidth": 2
          }
         }
        },
        "title": {
         "text": "Number of nodes and edges per correlation type"
        },
        "width": 700,
        "xaxis": {
         "anchor": "y",
         "domain": [
          0,
          0.45
         ]
        },
        "xaxis2": {
         "anchor": "y2",
         "domain": [
          0.55,
          1
         ]
        },
        "xaxis3": {
         "anchor": "y3",
         "domain": [
          0,
          0.45
         ]
        },
        "xaxis4": {
         "anchor": "y4",
         "domain": [
          0.55,
          1
         ]
        },
        "xaxis5": {
         "anchor": "y5",
         "domain": [
          0,
          0.45
         ]
        },
        "xaxis6": {
         "anchor": "y6",
         "domain": [
          0.55,
          1
         ]
        },
        "yaxis": {
         "anchor": "x",
         "domain": [
          0.7777777777777778,
          1
         ]
        },
        "yaxis2": {
         "anchor": "x2",
         "domain": [
          0.7777777777777778,
          1
         ]
        },
        "yaxis3": {
         "anchor": "x3",
         "domain": [
          0.3888888888888889,
          0.6111111111111112
         ]
        },
        "yaxis4": {
         "anchor": "x4",
         "domain": [
          0.3888888888888889,
          0.6111111111111112
         ]
        },
        "yaxis5": {
         "anchor": "x5",
         "domain": [
          0,
          0.22222222222222224
         ]
        },
        "yaxis6": {
         "anchor": "x6",
         "domain": [
          0,
          0.22222222222222224
         ]
        }
       }
      }
     },
     "metadata": {},
     "output_type": "display_data"
    }
   ],
   "source": [
    "from plotly.subplots import make_subplots\n",
    "from plotly import graph_objects as go\n",
    "import plotly.express as px\n",
    "\n",
    "palette = px.colors.qualitative.Plotly\n",
    "\n",
    "file = 'Plots/FDR_CorrType.html'\n",
    "if os.path.exists(file):\n",
    "    os.remove(file)\n",
    "\n",
    "fig = make_subplots(rows=3, cols=2, subplot_titles=['qq - Nodes', 'qq - Edges','mm - Nodes', 'mm - Edges', 'qm - Nodes', 'qm - Edges'])\n",
    "plot['psk']['qq']['nodes']\n",
    "\n",
    "for n,ctype in enumerate(ctypes):\n",
    "    fig.add_trace(go.Scatter(\n",
    "        x=pvrange,\n",
    "        y=plot[ctype]['qq']['nodes'],\n",
    "        name=ctype, marker_color=palette[n], legendgroup=n\n",
    "    ), row=1, col=1)\n",
    "    fig.add_trace(go.Scatter(\n",
    "        x=pvrange,\n",
    "        y=plot[ctype]['qq']['edges'],\n",
    "        name=ctype, marker_color=palette[n], legendgroup=n\n",
    "    ), row=1, col=2)\n",
    "    fig.add_trace(go.Scatter(\n",
    "        x=pvrange,\n",
    "        y=plot[ctype]['mm']['nodes'],\n",
    "        name=ctype, marker_color=palette[n], legendgroup=n\n",
    "    ), row=2, col=1)\n",
    "    fig.add_trace(go.Scatter(\n",
    "        x=pvrange,\n",
    "        y=plot[ctype]['mm']['edges'],\n",
    "        name=ctype, marker_color=palette[n], legendgroup=n\n",
    "    ), row=2, col=2)\n",
    "\n",
    "for n,ctype in enumerate(ctypes2):\n",
    "    fig.add_trace(go.Scatter(\n",
    "        x=pvrange,\n",
    "        y=plot[ctype]['qm']['nodes'],\n",
    "        name=ctype, marker_color=palette[n], legendgroup=n\n",
    "    ), row=3, col=1)\n",
    "    fig.add_trace(go.Scatter(\n",
    "        x=pvrange,\n",
    "        y=plot[ctype]['qm']['edges'],\n",
    "        name=ctype, marker_color=palette[n], legendgroup=n\n",
    "    ), row=3, col=2)\n",
    "\n",
    "fig.update_layout(title='Number of nodes and edges per correlation type', width=700, height=500)\n",
    "fig.show()\n",
    "\n",
    "with open(file, 'a') as f:\n",
    "    f.write(fig.to_html(full_html=False, include_plotlyjs='cdn', default_height='50%', default_width='80%'))\n"
   ]
  },
  {
   "attachments": {},
   "cell_type": "markdown",
   "metadata": {},
   "source": [
    "Construcción de grafo usando Graphical Lasso y rCCA con FDR <0.05"
   ]
  },
  {
   "cell_type": "code",
   "execution_count": 6,
   "metadata": {},
   "outputs": [],
   "source": [
    "pv = 0.05\n",
    "\n",
    "qqc = corr.rpc.qq.dc.copy()\n",
    "qqp = adpv.rpc.qq.dc.copy()\n",
    "qqg = nx.from_pandas_adjacency(qqc[qqp<=pv].fillna(0))\n",
    "\n",
    "mmc = corr.rpc.mm.dc.copy()\n",
    "mmp = adpv.rpc.mm.dc.copy()\n",
    "mmg = nx.from_pandas_adjacency(mmc[mmp<=pv].fillna(0))\n",
    "\n",
    "qmc = corr.rcca.qm.dc.copy()\n",
    "qmp = adpv.rcca.qm.dc.copy()\n",
    "qmg = qmc[qmp<pv].fillna(0)\n",
    "qmg = pd.concat([\n",
    "    pd.DataFrame(columns=qmg.index, index=qmg.index).fillna(0).join(qmg),\n",
    "    qmg.T.join(pd.DataFrame(columns=qmg.columns, index=qmg.columns).fillna(0))\n",
    "])\n",
    "qmg.index, qmg.columns = [i.replace('.', '-') for i in qmg.index], [i.replace('.', '-') for i in qmg.columns]\n",
    "qmg = nx.from_pandas_adjacency(qmg)"
   ]
  },
  {
   "cell_type": "code",
   "execution_count": 7,
   "metadata": {},
   "outputs": [],
   "source": [
    "#\n",
    "# Generate random graphs\n",
    "#\n",
    "n = 100\n",
    "\n",
    "qqA = [nx.gnm_random_graph(qqg.order(), qqg.size(), seed=i) for i in range(n)]\n",
    "mmA = [nx.gnm_random_graph(mmg.order(), mmg.size(), seed=i) for i in range(n)]"
   ]
  },
  {
   "cell_type": "code",
   "execution_count": 8,
   "metadata": {},
   "outputs": [
    {
     "name": "stdout",
     "output_type": "stream",
     "text": [
      "\n",
      "Proteomics\n",
      "\n",
      "Order: 381\n",
      "Size: 5915\n",
      "Density: 0.08171\n",
      "Average clustering: 0.22046 (random graph: mean = 0.08175, std = 0.00117)\n",
      "Average degree: 31.04987\n",
      "Number of connected components: 2 (random graph: mean = 1.0, std = 0.0)\n",
      "Number of connected components (order g.t. 1): 1 (random graph: mean = 1.0, std = 0.0)\n",
      "\n",
      "Metabolomics\n",
      "\n",
      "Order: 656\n",
      "Size: 5095\n",
      "Density: 0.02372\n",
      "Average clustering: 0.46898 (random graph: mean = 0.02372, std = 0.00108)\n",
      "Average degree: 15.53354\n",
      "Number of connected components: 197 (random graph: mean = 1.0, std = 0.0)\n",
      "Number of connected components (order g.t. 1): 42 (random graph: mean = 1.0, std = 0.0)\n"
     ]
    },
    {
     "data": {
      "application/vnd.plotly.v1+json": {
       "config": {
        "plotlyServerURL": "https://plot.ly"
       },
       "data": [
        {
         "marker": {
          "color": "#636EFA"
         },
         "offsetgroup": "1",
         "type": "bar",
         "x": [
          0,
          1,
          2,
          3,
          4,
          5,
          6,
          7,
          8,
          9,
          10,
          11,
          12,
          13,
          14,
          15,
          16,
          17,
          18,
          19,
          20,
          21,
          22,
          23,
          24,
          25,
          26,
          27,
          28,
          29,
          30,
          31,
          32,
          33,
          34,
          35,
          36,
          37,
          38,
          39,
          40,
          41,
          42,
          43,
          44,
          45,
          46,
          47,
          48,
          49,
          50,
          51,
          52,
          53,
          54,
          55,
          56,
          57,
          58,
          59,
          60,
          61,
          62,
          63,
          64,
          65,
          66,
          67,
          68,
          69,
          70,
          71
         ],
         "xaxis": "x",
         "y": [
          1,
          0,
          1,
          1,
          1,
          6,
          1,
          2,
          5,
          1,
          2,
          3,
          5,
          6,
          7,
          8,
          3,
          5,
          5,
          9,
          8,
          15,
          16,
          7,
          7,
          15,
          11,
          8,
          12,
          4,
          14,
          7,
          11,
          7,
          13,
          16,
          10,
          9,
          12,
          9,
          7,
          7,
          13,
          3,
          6,
          6,
          2,
          6,
          8,
          4,
          8,
          1,
          4,
          4,
          2,
          6,
          0,
          3,
          3,
          0,
          0,
          1,
          1,
          0,
          0,
          1,
          0,
          0,
          0,
          1,
          0,
          1
         ],
         "yaxis": "y"
        },
        {
         "marker": {
          "color": "black"
         },
         "offsetgroup": "1",
         "opacity": 0.2,
         "type": "bar",
         "x": [
          0,
          1,
          2,
          3,
          4,
          5,
          6,
          7,
          8,
          9,
          10,
          11,
          12,
          13,
          14,
          15,
          16,
          17,
          18,
          19,
          20,
          21,
          22,
          23,
          24,
          25,
          26,
          27,
          28,
          29,
          30,
          31,
          32,
          33,
          34,
          35,
          36,
          37,
          38,
          39,
          40,
          41,
          42,
          43,
          44,
          45,
          46,
          47,
          48,
          49,
          50,
          51,
          52,
          53,
          54,
          55,
          56,
          57,
          58,
          59,
          60,
          61,
          62,
          63,
          64,
          65,
          66,
          67,
          68,
          69,
          70,
          71
         ],
         "xaxis": "x",
         "y": [
          0.00011769949945548234,
          0.0018282894808709848,
          0.014199900769874478,
          0.07352489270580342,
          0.2855254026951738,
          0.8870438577633598,
          2.2964880362318723,
          5.096082989808961,
          9.89502394553225,
          17.078301830110714,
          26.52864262939448,
          37.46214916761785,
          48.49330538846897,
          57.94404103054626,
          64.29113437513759,
          66.57791252872471,
          64.63690250263947,
          59.061158222910336,
          50.968259001647816,
          41.66933241549983,
          32.36360497819689,
          23.939106760150146,
          16.90268139453498,
          11.41558347099094,
          7.388515978747384,
          4.590791330697278,
          2.742739426583342,
          1.5779423417391727,
          0.8753937533929694,
          0.4688952032734655,
          0.24278669315836546,
          0.12165599937469106,
          0.059054622409875926,
          0.02779779205268971,
          0.012699941760083957,
          0.005636428856065184,
          0.0024320464957360687,
          0.001021034681589954,
          0.0004173757784580107,
          0.00016623902370572222,
          0.00006455699891620749,
          0.000024458500109910853,
          0.000009045881101916179,
          0.0000032677796521739646,
          0.00000115364033590817,
          3.982247636484987e-7,
          1.3447475946375995e-7,
          4.444401267954325e-8,
          1.438276451996186e-8,
          4.55949385448014e-9,
          1.4165012919863586e-9,
          4.314367576919137e-10,
          1.288795896130583e-10,
          3.777275132757197e-11,
          1.0865637308829121e-11,
          3.068759539272952e-12,
          8.51226581696211e-13,
          2.3197472367042775e-13,
          6.212737684507902e-14,
          1.6356913240269042e-14,
          4.234678504022732e-15,
          1.0783530076967314e-15,
          2.70171546725754e-16,
          6.661459691094266e-17,
          1.6168129347430027e-17,
          3.8638189036190455e-18,
          9.093753378574792e-19,
          2.1083306090206026e-19,
          4.816151566068852e-20,
          1.0842299500318504e-20,
          2.405989370824315e-21,
          5.263876607844968e-22
         ],
         "yaxis": "y"
        },
        {
         "marker": {
          "color": "#EF553B"
         },
         "offsetgroup": "1",
         "type": "bar",
         "x": [
          0,
          1,
          2,
          3,
          4,
          5,
          6,
          7,
          8,
          9,
          10,
          11,
          12,
          13,
          14,
          15,
          16,
          17,
          18,
          19,
          20,
          21,
          22,
          23,
          24,
          25,
          26,
          27,
          28,
          29,
          30,
          31,
          32,
          33,
          34,
          35,
          36,
          37,
          38,
          39,
          40,
          41,
          42,
          43,
          44,
          45,
          46,
          47,
          48,
          49,
          50,
          51,
          52,
          53,
          54,
          55,
          56,
          57,
          58,
          59,
          60,
          61,
          62,
          63,
          64,
          65,
          66,
          67,
          68,
          69,
          70,
          71,
          72,
          73,
          74,
          75,
          76,
          77
         ],
         "xaxis": "x2",
         "y": [
          155,
          59,
          60,
          27,
          16,
          10,
          10,
          9,
          10,
          14,
          4,
          20,
          5,
          2,
          31,
          19,
          3,
          6,
          4,
          3,
          4,
          5,
          6,
          7,
          4,
          1,
          3,
          1,
          10,
          3,
          4,
          3,
          6,
          3,
          1,
          4,
          6,
          4,
          3,
          4,
          6,
          6,
          2,
          2,
          4,
          3,
          5,
          3,
          5,
          5,
          1,
          1,
          2,
          9,
          3,
          6,
          5,
          5,
          3,
          4,
          3,
          3,
          1,
          0,
          3,
          3,
          2,
          2,
          1,
          3,
          3,
          0,
          1,
          0,
          0,
          0,
          1,
          1
         ],
         "yaxis": "y2"
        },
        {
         "marker": {
          "color": "black"
         },
         "offsetgroup": "1",
         "opacity": 0.2,
         "type": "bar",
         "x": [
          0,
          1,
          2,
          3,
          4,
          5,
          6,
          7,
          8,
          9,
          10,
          11,
          12,
          13,
          14,
          15,
          16,
          17,
          18,
          19,
          20,
          21,
          22,
          23,
          24,
          25,
          26,
          27,
          28,
          29,
          30,
          31,
          32,
          33,
          34,
          35,
          36,
          37,
          38,
          39,
          40,
          41,
          42,
          43,
          44,
          45,
          46,
          47,
          48,
          49,
          50,
          51,
          52,
          53,
          54,
          55,
          56,
          57,
          58,
          59,
          60,
          61,
          62,
          63,
          64,
          65,
          66,
          67,
          68,
          69,
          70,
          71,
          72,
          73,
          74,
          75,
          76,
          77
         ],
         "xaxis": "x2",
         "y": [
          0.00011769949945548234,
          0.0018282894808709848,
          0.014199900769874478,
          0.07352489270580342,
          0.2855254026951738,
          0.8870438577633598,
          2.2964880362318723,
          5.096082989808961,
          9.89502394553225,
          17.078301830110714,
          26.52864262939448,
          37.46214916761785,
          48.49330538846897,
          57.94404103054626,
          64.29113437513759,
          66.57791252872471,
          64.63690250263947,
          59.061158222910336,
          50.968259001647816,
          41.66933241549983,
          32.36360497819689,
          23.939106760150146,
          16.90268139453498,
          11.41558347099094,
          7.388515978747384,
          4.590791330697278,
          2.742739426583342,
          1.5779423417391727,
          0.8753937533929694,
          0.4688952032734655,
          0.24278669315836546,
          0.12165599937469106,
          0.059054622409875926,
          0.02779779205268971,
          0.012699941760083957,
          0.005636428856065184,
          0.0024320464957360687,
          0.001021034681589954,
          0.0004173757784580107,
          0.00016623902370572222,
          0.00006455699891620749,
          0.000024458500109910853,
          0.000009045881101916179,
          0.0000032677796521739646,
          0.00000115364033590817,
          3.982247636484987e-7,
          1.3447475946375995e-7,
          4.444401267954325e-8,
          1.438276451996186e-8,
          4.55949385448014e-9,
          1.4165012919863586e-9,
          4.314367576919137e-10,
          1.288795896130583e-10,
          3.777275132757197e-11,
          1.0865637308829121e-11,
          3.068759539272952e-12,
          8.51226581696211e-13,
          2.3197472367042775e-13,
          6.212737684507902e-14,
          1.6356913240269042e-14,
          4.234678504022732e-15,
          1.0783530076967314e-15,
          2.70171546725754e-16,
          6.661459691094266e-17,
          1.6168129347430027e-17,
          3.8638189036190455e-18,
          9.093753378574792e-19,
          2.1083306090206026e-19,
          4.816151566068852e-20,
          1.0842299500318504e-20,
          2.405989370824315e-21,
          5.263876607844968e-22,
          1.1356474981779086e-22,
          2.4165235563049247e-23,
          5.0725887934139456e-24,
          1.0506032480668046e-24,
          2.1473136829670184e-25,
          4.33186696813311e-26
         ],
         "yaxis": "y2"
        }
       ],
       "layout": {
        "annotations": [
         {
          "font": {
           "size": 16
          },
          "showarrow": false,
          "text": "Proteomics",
          "x": 0.225,
          "xanchor": "center",
          "xref": "paper",
          "y": 1,
          "yanchor": "bottom",
          "yref": "paper"
         },
         {
          "font": {
           "size": 16
          },
          "showarrow": false,
          "text": "Metabolomics",
          "x": 0.775,
          "xanchor": "center",
          "xref": "paper",
          "y": 1,
          "yanchor": "bottom",
          "yref": "paper"
         }
        ],
        "bargap": 0.2,
        "showlegend": false,
        "template": {
         "data": {
          "bar": [
           {
            "error_x": {
             "color": "#2a3f5f"
            },
            "error_y": {
             "color": "#2a3f5f"
            },
            "marker": {
             "line": {
              "color": "#E5ECF6",
              "width": 0.5
             },
             "pattern": {
              "fillmode": "overlay",
              "size": 10,
              "solidity": 0.2
             }
            },
            "type": "bar"
           }
          ],
          "barpolar": [
           {
            "marker": {
             "line": {
              "color": "#E5ECF6",
              "width": 0.5
             },
             "pattern": {
              "fillmode": "overlay",
              "size": 10,
              "solidity": 0.2
             }
            },
            "type": "barpolar"
           }
          ],
          "carpet": [
           {
            "aaxis": {
             "endlinecolor": "#2a3f5f",
             "gridcolor": "white",
             "linecolor": "white",
             "minorgridcolor": "white",
             "startlinecolor": "#2a3f5f"
            },
            "baxis": {
             "endlinecolor": "#2a3f5f",
             "gridcolor": "white",
             "linecolor": "white",
             "minorgridcolor": "white",
             "startlinecolor": "#2a3f5f"
            },
            "type": "carpet"
           }
          ],
          "choropleth": [
           {
            "colorbar": {
             "outlinewidth": 0,
             "ticks": ""
            },
            "type": "choropleth"
           }
          ],
          "contour": [
           {
            "colorbar": {
             "outlinewidth": 0,
             "ticks": ""
            },
            "colorscale": [
             [
              0,
              "#0d0887"
             ],
             [
              0.1111111111111111,
              "#46039f"
             ],
             [
              0.2222222222222222,
              "#7201a8"
             ],
             [
              0.3333333333333333,
              "#9c179e"
             ],
             [
              0.4444444444444444,
              "#bd3786"
             ],
             [
              0.5555555555555556,
              "#d8576b"
             ],
             [
              0.6666666666666666,
              "#ed7953"
             ],
             [
              0.7777777777777778,
              "#fb9f3a"
             ],
             [
              0.8888888888888888,
              "#fdca26"
             ],
             [
              1,
              "#f0f921"
             ]
            ],
            "type": "contour"
           }
          ],
          "contourcarpet": [
           {
            "colorbar": {
             "outlinewidth": 0,
             "ticks": ""
            },
            "type": "contourcarpet"
           }
          ],
          "heatmap": [
           {
            "colorbar": {
             "outlinewidth": 0,
             "ticks": ""
            },
            "colorscale": [
             [
              0,
              "#0d0887"
             ],
             [
              0.1111111111111111,
              "#46039f"
             ],
             [
              0.2222222222222222,
              "#7201a8"
             ],
             [
              0.3333333333333333,
              "#9c179e"
             ],
             [
              0.4444444444444444,
              "#bd3786"
             ],
             [
              0.5555555555555556,
              "#d8576b"
             ],
             [
              0.6666666666666666,
              "#ed7953"
             ],
             [
              0.7777777777777778,
              "#fb9f3a"
             ],
             [
              0.8888888888888888,
              "#fdca26"
             ],
             [
              1,
              "#f0f921"
             ]
            ],
            "type": "heatmap"
           }
          ],
          "heatmapgl": [
           {
            "colorbar": {
             "outlinewidth": 0,
             "ticks": ""
            },
            "colorscale": [
             [
              0,
              "#0d0887"
             ],
             [
              0.1111111111111111,
              "#46039f"
             ],
             [
              0.2222222222222222,
              "#7201a8"
             ],
             [
              0.3333333333333333,
              "#9c179e"
             ],
             [
              0.4444444444444444,
              "#bd3786"
             ],
             [
              0.5555555555555556,
              "#d8576b"
             ],
             [
              0.6666666666666666,
              "#ed7953"
             ],
             [
              0.7777777777777778,
              "#fb9f3a"
             ],
             [
              0.8888888888888888,
              "#fdca26"
             ],
             [
              1,
              "#f0f921"
             ]
            ],
            "type": "heatmapgl"
           }
          ],
          "histogram": [
           {
            "marker": {
             "pattern": {
              "fillmode": "overlay",
              "size": 10,
              "solidity": 0.2
             }
            },
            "type": "histogram"
           }
          ],
          "histogram2d": [
           {
            "colorbar": {
             "outlinewidth": 0,
             "ticks": ""
            },
            "colorscale": [
             [
              0,
              "#0d0887"
             ],
             [
              0.1111111111111111,
              "#46039f"
             ],
             [
              0.2222222222222222,
              "#7201a8"
             ],
             [
              0.3333333333333333,
              "#9c179e"
             ],
             [
              0.4444444444444444,
              "#bd3786"
             ],
             [
              0.5555555555555556,
              "#d8576b"
             ],
             [
              0.6666666666666666,
              "#ed7953"
             ],
             [
              0.7777777777777778,
              "#fb9f3a"
             ],
             [
              0.8888888888888888,
              "#fdca26"
             ],
             [
              1,
              "#f0f921"
             ]
            ],
            "type": "histogram2d"
           }
          ],
          "histogram2dcontour": [
           {
            "colorbar": {
             "outlinewidth": 0,
             "ticks": ""
            },
            "colorscale": [
             [
              0,
              "#0d0887"
             ],
             [
              0.1111111111111111,
              "#46039f"
             ],
             [
              0.2222222222222222,
              "#7201a8"
             ],
             [
              0.3333333333333333,
              "#9c179e"
             ],
             [
              0.4444444444444444,
              "#bd3786"
             ],
             [
              0.5555555555555556,
              "#d8576b"
             ],
             [
              0.6666666666666666,
              "#ed7953"
             ],
             [
              0.7777777777777778,
              "#fb9f3a"
             ],
             [
              0.8888888888888888,
              "#fdca26"
             ],
             [
              1,
              "#f0f921"
             ]
            ],
            "type": "histogram2dcontour"
           }
          ],
          "mesh3d": [
           {
            "colorbar": {
             "outlinewidth": 0,
             "ticks": ""
            },
            "type": "mesh3d"
           }
          ],
          "parcoords": [
           {
            "line": {
             "colorbar": {
              "outlinewidth": 0,
              "ticks": ""
             }
            },
            "type": "parcoords"
           }
          ],
          "pie": [
           {
            "automargin": true,
            "type": "pie"
           }
          ],
          "scatter": [
           {
            "fillpattern": {
             "fillmode": "overlay",
             "size": 10,
             "solidity": 0.2
            },
            "type": "scatter"
           }
          ],
          "scatter3d": [
           {
            "line": {
             "colorbar": {
              "outlinewidth": 0,
              "ticks": ""
             }
            },
            "marker": {
             "colorbar": {
              "outlinewidth": 0,
              "ticks": ""
             }
            },
            "type": "scatter3d"
           }
          ],
          "scattercarpet": [
           {
            "marker": {
             "colorbar": {
              "outlinewidth": 0,
              "ticks": ""
             }
            },
            "type": "scattercarpet"
           }
          ],
          "scattergeo": [
           {
            "marker": {
             "colorbar": {
              "outlinewidth": 0,
              "ticks": ""
             }
            },
            "type": "scattergeo"
           }
          ],
          "scattergl": [
           {
            "marker": {
             "colorbar": {
              "outlinewidth": 0,
              "ticks": ""
             }
            },
            "type": "scattergl"
           }
          ],
          "scattermapbox": [
           {
            "marker": {
             "colorbar": {
              "outlinewidth": 0,
              "ticks": ""
             }
            },
            "type": "scattermapbox"
           }
          ],
          "scatterpolar": [
           {
            "marker": {
             "colorbar": {
              "outlinewidth": 0,
              "ticks": ""
             }
            },
            "type": "scatterpolar"
           }
          ],
          "scatterpolargl": [
           {
            "marker": {
             "colorbar": {
              "outlinewidth": 0,
              "ticks": ""
             }
            },
            "type": "scatterpolargl"
           }
          ],
          "scatterternary": [
           {
            "marker": {
             "colorbar": {
              "outlinewidth": 0,
              "ticks": ""
             }
            },
            "type": "scatterternary"
           }
          ],
          "surface": [
           {
            "colorbar": {
             "outlinewidth": 0,
             "ticks": ""
            },
            "colorscale": [
             [
              0,
              "#0d0887"
             ],
             [
              0.1111111111111111,
              "#46039f"
             ],
             [
              0.2222222222222222,
              "#7201a8"
             ],
             [
              0.3333333333333333,
              "#9c179e"
             ],
             [
              0.4444444444444444,
              "#bd3786"
             ],
             [
              0.5555555555555556,
              "#d8576b"
             ],
             [
              0.6666666666666666,
              "#ed7953"
             ],
             [
              0.7777777777777778,
              "#fb9f3a"
             ],
             [
              0.8888888888888888,
              "#fdca26"
             ],
             [
              1,
              "#f0f921"
             ]
            ],
            "type": "surface"
           }
          ],
          "table": [
           {
            "cells": {
             "fill": {
              "color": "#EBF0F8"
             },
             "line": {
              "color": "white"
             }
            },
            "header": {
             "fill": {
              "color": "#C8D4E3"
             },
             "line": {
              "color": "white"
             }
            },
            "type": "table"
           }
          ]
         },
         "layout": {
          "annotationdefaults": {
           "arrowcolor": "#2a3f5f",
           "arrowhead": 0,
           "arrowwidth": 1
          },
          "autotypenumbers": "strict",
          "coloraxis": {
           "colorbar": {
            "outlinewidth": 0,
            "ticks": ""
           }
          },
          "colorscale": {
           "diverging": [
            [
             0,
             "#8e0152"
            ],
            [
             0.1,
             "#c51b7d"
            ],
            [
             0.2,
             "#de77ae"
            ],
            [
             0.3,
             "#f1b6da"
            ],
            [
             0.4,
             "#fde0ef"
            ],
            [
             0.5,
             "#f7f7f7"
            ],
            [
             0.6,
             "#e6f5d0"
            ],
            [
             0.7,
             "#b8e186"
            ],
            [
             0.8,
             "#7fbc41"
            ],
            [
             0.9,
             "#4d9221"
            ],
            [
             1,
             "#276419"
            ]
           ],
           "sequential": [
            [
             0,
             "#0d0887"
            ],
            [
             0.1111111111111111,
             "#46039f"
            ],
            [
             0.2222222222222222,
             "#7201a8"
            ],
            [
             0.3333333333333333,
             "#9c179e"
            ],
            [
             0.4444444444444444,
             "#bd3786"
            ],
            [
             0.5555555555555556,
             "#d8576b"
            ],
            [
             0.6666666666666666,
             "#ed7953"
            ],
            [
             0.7777777777777778,
             "#fb9f3a"
            ],
            [
             0.8888888888888888,
             "#fdca26"
            ],
            [
             1,
             "#f0f921"
            ]
           ],
           "sequentialminus": [
            [
             0,
             "#0d0887"
            ],
            [
             0.1111111111111111,
             "#46039f"
            ],
            [
             0.2222222222222222,
             "#7201a8"
            ],
            [
             0.3333333333333333,
             "#9c179e"
            ],
            [
             0.4444444444444444,
             "#bd3786"
            ],
            [
             0.5555555555555556,
             "#d8576b"
            ],
            [
             0.6666666666666666,
             "#ed7953"
            ],
            [
             0.7777777777777778,
             "#fb9f3a"
            ],
            [
             0.8888888888888888,
             "#fdca26"
            ],
            [
             1,
             "#f0f921"
            ]
           ]
          },
          "colorway": [
           "#636efa",
           "#EF553B",
           "#00cc96",
           "#ab63fa",
           "#FFA15A",
           "#19d3f3",
           "#FF6692",
           "#B6E880",
           "#FF97FF",
           "#FECB52"
          ],
          "font": {
           "color": "#2a3f5f"
          },
          "geo": {
           "bgcolor": "white",
           "lakecolor": "white",
           "landcolor": "#E5ECF6",
           "showlakes": true,
           "showland": true,
           "subunitcolor": "white"
          },
          "hoverlabel": {
           "align": "left"
          },
          "hovermode": "closest",
          "mapbox": {
           "style": "light"
          },
          "paper_bgcolor": "white",
          "plot_bgcolor": "#E5ECF6",
          "polar": {
           "angularaxis": {
            "gridcolor": "white",
            "linecolor": "white",
            "ticks": ""
           },
           "bgcolor": "#E5ECF6",
           "radialaxis": {
            "gridcolor": "white",
            "linecolor": "white",
            "ticks": ""
           }
          },
          "scene": {
           "xaxis": {
            "backgroundcolor": "#E5ECF6",
            "gridcolor": "white",
            "gridwidth": 2,
            "linecolor": "white",
            "showbackground": true,
            "ticks": "",
            "zerolinecolor": "white"
           },
           "yaxis": {
            "backgroundcolor": "#E5ECF6",
            "gridcolor": "white",
            "gridwidth": 2,
            "linecolor": "white",
            "showbackground": true,
            "ticks": "",
            "zerolinecolor": "white"
           },
           "zaxis": {
            "backgroundcolor": "#E5ECF6",
            "gridcolor": "white",
            "gridwidth": 2,
            "linecolor": "white",
            "showbackground": true,
            "ticks": "",
            "zerolinecolor": "white"
           }
          },
          "shapedefaults": {
           "line": {
            "color": "#2a3f5f"
           }
          },
          "ternary": {
           "aaxis": {
            "gridcolor": "white",
            "linecolor": "white",
            "ticks": ""
           },
           "baxis": {
            "gridcolor": "white",
            "linecolor": "white",
            "ticks": ""
           },
           "bgcolor": "#E5ECF6",
           "caxis": {
            "gridcolor": "white",
            "linecolor": "white",
            "ticks": ""
           }
          },
          "title": {
           "x": 0.05
          },
          "xaxis": {
           "automargin": true,
           "gridcolor": "white",
           "linecolor": "white",
           "ticks": "",
           "title": {
            "standoff": 15
           },
           "zerolinecolor": "white",
           "zerolinewidth": 2
          },
          "yaxis": {
           "automargin": true,
           "gridcolor": "white",
           "linecolor": "white",
           "ticks": "",
           "title": {
            "standoff": 15
           },
           "zerolinecolor": "white",
           "zerolinewidth": 2
          }
         }
        },
        "title": {
         "text": "Degree Distribution"
        },
        "xaxis": {
         "anchor": "y",
         "domain": [
          0,
          0.45
         ]
        },
        "xaxis2": {
         "anchor": "y2",
         "domain": [
          0.55,
          1
         ]
        },
        "yaxis": {
         "anchor": "x",
         "domain": [
          0,
          1
         ]
        },
        "yaxis2": {
         "anchor": "x2",
         "domain": [
          0,
          1
         ]
        }
       }
      }
     },
     "metadata": {},
     "output_type": "display_data"
    }
   ],
   "source": [
    "#\n",
    "# Basic graph characteristics\n",
    "#\n",
    "\n",
    "G = qqg\n",
    "GA = qqA\n",
    "\n",
    "for G, GA, name in [(qqg, qqA, 'Proteomics'), (mmg, mmA, 'Metabolomics')]:\n",
    "\n",
    "    print()\n",
    "    print(name)\n",
    "    print()\n",
    "\n",
    "    print(f'Order: {G.order()}')\n",
    "    print(f'Size: {G.size()}')\n",
    "    print(f'Density: {round(nx.density(G), 5)}')\n",
    "\n",
    "    i = [nx.average_clustering(i) for i in GA]\n",
    "    print(f'Average clustering: {round(nx.average_clustering(G), 5)} (random graph: mean = {round(np.mean(i),5)}, std = {round(np.std(i),5)})')\n",
    "    print(f'Average degree: {round(np.mean(list(dict(G.degree).values())),5)}')\n",
    "\n",
    "    i = [len(list(nx.connected_components(i))) for i in GA]\n",
    "    print(f'Number of connected components: {round(len(list(nx.connected_components(G))), 5)} (random graph: mean = {round(np.mean(i), 5)}, std = {round(np.std(i), 5)})')\n",
    "\n",
    "    i = [len([i for i in nx.connected_components(g) if len(i)>1]) for g in GA]\n",
    "    print(f'Number of connected components (order g.t. 1): {round(len([i for i in nx.connected_components(G) if len(i)>1]), 5)} (random graph: mean = {round(np.mean(i),5)}, std = {round(np.std(i),5)})')\n",
    "\n",
    "fig = make_subplots(rows=1, cols=2, subplot_titles=['Proteomics', 'Metabolomics'])\n",
    "\n",
    "plot = nx.degree_histogram(qqg)\n",
    "fig.add_trace(go.Bar(\n",
    "    x=np.arange(0,len(plot)),\n",
    "    y=plot,\n",
    "    offsetgroup=1, marker_color=palette[0]\n",
    "), row=1,col=1)\n",
    "fig.add_trace(go.Bar(\n",
    "    x=np.arange(0,len(plot)),\n",
    "    y=G.order()*poisson.pmf(np.arange(0, len(plot)),2*G.size()/G.order()),\n",
    "    offsetgroup=1, marker_color='black', opacity=0.2\n",
    "), row=1,col=1)\n",
    "\n",
    "\n",
    "plot = nx.degree_histogram(mmg)\n",
    "fig.add_trace(go.Bar(\n",
    "    x=np.arange(0,len(plot)),\n",
    "    y=plot, \n",
    "    offsetgroup=1, marker_color=palette[1]\n",
    "), row=1,col=2)\n",
    "fig.add_trace(go.Bar(\n",
    "    x=np.arange(0,len(plot)),\n",
    "    y=G.order()*poisson.pmf(np.arange(0, len(plot)),2*G.size()/G.order()),\n",
    "    offsetgroup=1, marker_color='black', opacity=0.2\n",
    "), row=1,col=2)\n",
    "\n",
    "fig.update_layout(bargap=0.2, title='Degree Distribution', showlegend=False)"
   ]
  },
  {
   "cell_type": "code",
   "execution_count": 9,
   "metadata": {},
   "outputs": [
    {
     "data": {
      "application/vnd.plotly.v1+json": {
       "config": {
        "plotlyServerURL": "https://plot.ly"
       },
       "data": [
        {
         "text": [
          1,
          1
         ],
         "textposition": "auto",
         "type": "bar",
         "width": 0.5,
         "x": [
          "1",
          "380"
         ],
         "xaxis": "x",
         "y": [
          1,
          1
         ],
         "yaxis": "y"
        },
        {
         "text": [
          155,
          20,
          10,
          5,
          2,
          1,
          1,
          1,
          1,
          1
         ],
         "textposition": "auto",
         "type": "bar",
         "width": 0.5,
         "x": [
          "1",
          "2",
          "3",
          "4",
          "6",
          "10",
          "12",
          "16",
          "17",
          "344"
         ],
         "xaxis": "x2",
         "y": [
          155,
          20,
          10,
          5,
          2,
          1,
          1,
          1,
          1,
          1
         ],
         "yaxis": "y2"
        }
       ],
       "layout": {
        "annotations": [
         {
          "font": {
           "size": 16
          },
          "showarrow": false,
          "text": "Proteomics",
          "x": 0.225,
          "xanchor": "center",
          "xref": "paper",
          "y": 1,
          "yanchor": "bottom",
          "yref": "paper"
         },
         {
          "font": {
           "size": 16
          },
          "showarrow": false,
          "text": "Metabolomics",
          "x": 0.775,
          "xanchor": "center",
          "xref": "paper",
          "y": 1,
          "yanchor": "bottom",
          "yref": "paper"
         }
        ],
        "bargap": 1,
        "showlegend": false,
        "template": {
         "data": {
          "bar": [
           {
            "error_x": {
             "color": "#2a3f5f"
            },
            "error_y": {
             "color": "#2a3f5f"
            },
            "marker": {
             "line": {
              "color": "#E5ECF6",
              "width": 0.5
             },
             "pattern": {
              "fillmode": "overlay",
              "size": 10,
              "solidity": 0.2
             }
            },
            "type": "bar"
           }
          ],
          "barpolar": [
           {
            "marker": {
             "line": {
              "color": "#E5ECF6",
              "width": 0.5
             },
             "pattern": {
              "fillmode": "overlay",
              "size": 10,
              "solidity": 0.2
             }
            },
            "type": "barpolar"
           }
          ],
          "carpet": [
           {
            "aaxis": {
             "endlinecolor": "#2a3f5f",
             "gridcolor": "white",
             "linecolor": "white",
             "minorgridcolor": "white",
             "startlinecolor": "#2a3f5f"
            },
            "baxis": {
             "endlinecolor": "#2a3f5f",
             "gridcolor": "white",
             "linecolor": "white",
             "minorgridcolor": "white",
             "startlinecolor": "#2a3f5f"
            },
            "type": "carpet"
           }
          ],
          "choropleth": [
           {
            "colorbar": {
             "outlinewidth": 0,
             "ticks": ""
            },
            "type": "choropleth"
           }
          ],
          "contour": [
           {
            "colorbar": {
             "outlinewidth": 0,
             "ticks": ""
            },
            "colorscale": [
             [
              0,
              "#0d0887"
             ],
             [
              0.1111111111111111,
              "#46039f"
             ],
             [
              0.2222222222222222,
              "#7201a8"
             ],
             [
              0.3333333333333333,
              "#9c179e"
             ],
             [
              0.4444444444444444,
              "#bd3786"
             ],
             [
              0.5555555555555556,
              "#d8576b"
             ],
             [
              0.6666666666666666,
              "#ed7953"
             ],
             [
              0.7777777777777778,
              "#fb9f3a"
             ],
             [
              0.8888888888888888,
              "#fdca26"
             ],
             [
              1,
              "#f0f921"
             ]
            ],
            "type": "contour"
           }
          ],
          "contourcarpet": [
           {
            "colorbar": {
             "outlinewidth": 0,
             "ticks": ""
            },
            "type": "contourcarpet"
           }
          ],
          "heatmap": [
           {
            "colorbar": {
             "outlinewidth": 0,
             "ticks": ""
            },
            "colorscale": [
             [
              0,
              "#0d0887"
             ],
             [
              0.1111111111111111,
              "#46039f"
             ],
             [
              0.2222222222222222,
              "#7201a8"
             ],
             [
              0.3333333333333333,
              "#9c179e"
             ],
             [
              0.4444444444444444,
              "#bd3786"
             ],
             [
              0.5555555555555556,
              "#d8576b"
             ],
             [
              0.6666666666666666,
              "#ed7953"
             ],
             [
              0.7777777777777778,
              "#fb9f3a"
             ],
             [
              0.8888888888888888,
              "#fdca26"
             ],
             [
              1,
              "#f0f921"
             ]
            ],
            "type": "heatmap"
           }
          ],
          "heatmapgl": [
           {
            "colorbar": {
             "outlinewidth": 0,
             "ticks": ""
            },
            "colorscale": [
             [
              0,
              "#0d0887"
             ],
             [
              0.1111111111111111,
              "#46039f"
             ],
             [
              0.2222222222222222,
              "#7201a8"
             ],
             [
              0.3333333333333333,
              "#9c179e"
             ],
             [
              0.4444444444444444,
              "#bd3786"
             ],
             [
              0.5555555555555556,
              "#d8576b"
             ],
             [
              0.6666666666666666,
              "#ed7953"
             ],
             [
              0.7777777777777778,
              "#fb9f3a"
             ],
             [
              0.8888888888888888,
              "#fdca26"
             ],
             [
              1,
              "#f0f921"
             ]
            ],
            "type": "heatmapgl"
           }
          ],
          "histogram": [
           {
            "marker": {
             "pattern": {
              "fillmode": "overlay",
              "size": 10,
              "solidity": 0.2
             }
            },
            "type": "histogram"
           }
          ],
          "histogram2d": [
           {
            "colorbar": {
             "outlinewidth": 0,
             "ticks": ""
            },
            "colorscale": [
             [
              0,
              "#0d0887"
             ],
             [
              0.1111111111111111,
              "#46039f"
             ],
             [
              0.2222222222222222,
              "#7201a8"
             ],
             [
              0.3333333333333333,
              "#9c179e"
             ],
             [
              0.4444444444444444,
              "#bd3786"
             ],
             [
              0.5555555555555556,
              "#d8576b"
             ],
             [
              0.6666666666666666,
              "#ed7953"
             ],
             [
              0.7777777777777778,
              "#fb9f3a"
             ],
             [
              0.8888888888888888,
              "#fdca26"
             ],
             [
              1,
              "#f0f921"
             ]
            ],
            "type": "histogram2d"
           }
          ],
          "histogram2dcontour": [
           {
            "colorbar": {
             "outlinewidth": 0,
             "ticks": ""
            },
            "colorscale": [
             [
              0,
              "#0d0887"
             ],
             [
              0.1111111111111111,
              "#46039f"
             ],
             [
              0.2222222222222222,
              "#7201a8"
             ],
             [
              0.3333333333333333,
              "#9c179e"
             ],
             [
              0.4444444444444444,
              "#bd3786"
             ],
             [
              0.5555555555555556,
              "#d8576b"
             ],
             [
              0.6666666666666666,
              "#ed7953"
             ],
             [
              0.7777777777777778,
              "#fb9f3a"
             ],
             [
              0.8888888888888888,
              "#fdca26"
             ],
             [
              1,
              "#f0f921"
             ]
            ],
            "type": "histogram2dcontour"
           }
          ],
          "mesh3d": [
           {
            "colorbar": {
             "outlinewidth": 0,
             "ticks": ""
            },
            "type": "mesh3d"
           }
          ],
          "parcoords": [
           {
            "line": {
             "colorbar": {
              "outlinewidth": 0,
              "ticks": ""
             }
            },
            "type": "parcoords"
           }
          ],
          "pie": [
           {
            "automargin": true,
            "type": "pie"
           }
          ],
          "scatter": [
           {
            "fillpattern": {
             "fillmode": "overlay",
             "size": 10,
             "solidity": 0.2
            },
            "type": "scatter"
           }
          ],
          "scatter3d": [
           {
            "line": {
             "colorbar": {
              "outlinewidth": 0,
              "ticks": ""
             }
            },
            "marker": {
             "colorbar": {
              "outlinewidth": 0,
              "ticks": ""
             }
            },
            "type": "scatter3d"
           }
          ],
          "scattercarpet": [
           {
            "marker": {
             "colorbar": {
              "outlinewidth": 0,
              "ticks": ""
             }
            },
            "type": "scattercarpet"
           }
          ],
          "scattergeo": [
           {
            "marker": {
             "colorbar": {
              "outlinewidth": 0,
              "ticks": ""
             }
            },
            "type": "scattergeo"
           }
          ],
          "scattergl": [
           {
            "marker": {
             "colorbar": {
              "outlinewidth": 0,
              "ticks": ""
             }
            },
            "type": "scattergl"
           }
          ],
          "scattermapbox": [
           {
            "marker": {
             "colorbar": {
              "outlinewidth": 0,
              "ticks": ""
             }
            },
            "type": "scattermapbox"
           }
          ],
          "scatterpolar": [
           {
            "marker": {
             "colorbar": {
              "outlinewidth": 0,
              "ticks": ""
             }
            },
            "type": "scatterpolar"
           }
          ],
          "scatterpolargl": [
           {
            "marker": {
             "colorbar": {
              "outlinewidth": 0,
              "ticks": ""
             }
            },
            "type": "scatterpolargl"
           }
          ],
          "scatterternary": [
           {
            "marker": {
             "colorbar": {
              "outlinewidth": 0,
              "ticks": ""
             }
            },
            "type": "scatterternary"
           }
          ],
          "surface": [
           {
            "colorbar": {
             "outlinewidth": 0,
             "ticks": ""
            },
            "colorscale": [
             [
              0,
              "#0d0887"
             ],
             [
              0.1111111111111111,
              "#46039f"
             ],
             [
              0.2222222222222222,
              "#7201a8"
             ],
             [
              0.3333333333333333,
              "#9c179e"
             ],
             [
              0.4444444444444444,
              "#bd3786"
             ],
             [
              0.5555555555555556,
              "#d8576b"
             ],
             [
              0.6666666666666666,
              "#ed7953"
             ],
             [
              0.7777777777777778,
              "#fb9f3a"
             ],
             [
              0.8888888888888888,
              "#fdca26"
             ],
             [
              1,
              "#f0f921"
             ]
            ],
            "type": "surface"
           }
          ],
          "table": [
           {
            "cells": {
             "fill": {
              "color": "#EBF0F8"
             },
             "line": {
              "color": "white"
             }
            },
            "header": {
             "fill": {
              "color": "#C8D4E3"
             },
             "line": {
              "color": "white"
             }
            },
            "type": "table"
           }
          ]
         },
         "layout": {
          "annotationdefaults": {
           "arrowcolor": "#2a3f5f",
           "arrowhead": 0,
           "arrowwidth": 1
          },
          "autotypenumbers": "strict",
          "coloraxis": {
           "colorbar": {
            "outlinewidth": 0,
            "ticks": ""
           }
          },
          "colorscale": {
           "diverging": [
            [
             0,
             "#8e0152"
            ],
            [
             0.1,
             "#c51b7d"
            ],
            [
             0.2,
             "#de77ae"
            ],
            [
             0.3,
             "#f1b6da"
            ],
            [
             0.4,
             "#fde0ef"
            ],
            [
             0.5,
             "#f7f7f7"
            ],
            [
             0.6,
             "#e6f5d0"
            ],
            [
             0.7,
             "#b8e186"
            ],
            [
             0.8,
             "#7fbc41"
            ],
            [
             0.9,
             "#4d9221"
            ],
            [
             1,
             "#276419"
            ]
           ],
           "sequential": [
            [
             0,
             "#0d0887"
            ],
            [
             0.1111111111111111,
             "#46039f"
            ],
            [
             0.2222222222222222,
             "#7201a8"
            ],
            [
             0.3333333333333333,
             "#9c179e"
            ],
            [
             0.4444444444444444,
             "#bd3786"
            ],
            [
             0.5555555555555556,
             "#d8576b"
            ],
            [
             0.6666666666666666,
             "#ed7953"
            ],
            [
             0.7777777777777778,
             "#fb9f3a"
            ],
            [
             0.8888888888888888,
             "#fdca26"
            ],
            [
             1,
             "#f0f921"
            ]
           ],
           "sequentialminus": [
            [
             0,
             "#0d0887"
            ],
            [
             0.1111111111111111,
             "#46039f"
            ],
            [
             0.2222222222222222,
             "#7201a8"
            ],
            [
             0.3333333333333333,
             "#9c179e"
            ],
            [
             0.4444444444444444,
             "#bd3786"
            ],
            [
             0.5555555555555556,
             "#d8576b"
            ],
            [
             0.6666666666666666,
             "#ed7953"
            ],
            [
             0.7777777777777778,
             "#fb9f3a"
            ],
            [
             0.8888888888888888,
             "#fdca26"
            ],
            [
             1,
             "#f0f921"
            ]
           ]
          },
          "colorway": [
           "#636efa",
           "#EF553B",
           "#00cc96",
           "#ab63fa",
           "#FFA15A",
           "#19d3f3",
           "#FF6692",
           "#B6E880",
           "#FF97FF",
           "#FECB52"
          ],
          "font": {
           "color": "#2a3f5f"
          },
          "geo": {
           "bgcolor": "white",
           "lakecolor": "white",
           "landcolor": "#E5ECF6",
           "showlakes": true,
           "showland": true,
           "subunitcolor": "white"
          },
          "hoverlabel": {
           "align": "left"
          },
          "hovermode": "closest",
          "mapbox": {
           "style": "light"
          },
          "paper_bgcolor": "white",
          "plot_bgcolor": "#E5ECF6",
          "polar": {
           "angularaxis": {
            "gridcolor": "white",
            "linecolor": "white",
            "ticks": ""
           },
           "bgcolor": "#E5ECF6",
           "radialaxis": {
            "gridcolor": "white",
            "linecolor": "white",
            "ticks": ""
           }
          },
          "scene": {
           "xaxis": {
            "backgroundcolor": "#E5ECF6",
            "gridcolor": "white",
            "gridwidth": 2,
            "linecolor": "white",
            "showbackground": true,
            "ticks": "",
            "zerolinecolor": "white"
           },
           "yaxis": {
            "backgroundcolor": "#E5ECF6",
            "gridcolor": "white",
            "gridwidth": 2,
            "linecolor": "white",
            "showbackground": true,
            "ticks": "",
            "zerolinecolor": "white"
           },
           "zaxis": {
            "backgroundcolor": "#E5ECF6",
            "gridcolor": "white",
            "gridwidth": 2,
            "linecolor": "white",
            "showbackground": true,
            "ticks": "",
            "zerolinecolor": "white"
           }
          },
          "shapedefaults": {
           "line": {
            "color": "#2a3f5f"
           }
          },
          "ternary": {
           "aaxis": {
            "gridcolor": "white",
            "linecolor": "white",
            "ticks": ""
           },
           "baxis": {
            "gridcolor": "white",
            "linecolor": "white",
            "ticks": ""
           },
           "bgcolor": "#E5ECF6",
           "caxis": {
            "gridcolor": "white",
            "linecolor": "white",
            "ticks": ""
           }
          },
          "title": {
           "x": 0.05
          },
          "xaxis": {
           "automargin": true,
           "gridcolor": "white",
           "linecolor": "white",
           "ticks": "",
           "title": {
            "standoff": 15
           },
           "zerolinecolor": "white",
           "zerolinewidth": 2
          },
          "yaxis": {
           "automargin": true,
           "gridcolor": "white",
           "linecolor": "white",
           "ticks": "",
           "title": {
            "standoff": 15
           },
           "zerolinecolor": "white",
           "zerolinewidth": 2
          }
         }
        },
        "title": {
         "text": "Number of connected components with different order"
        },
        "xaxis": {
         "anchor": "y",
         "domain": [
          0,
          0.45
         ]
        },
        "xaxis2": {
         "anchor": "y2",
         "domain": [
          0.55,
          1
         ]
        },
        "yaxis": {
         "anchor": "x",
         "domain": [
          0,
          1
         ]
        },
        "yaxis2": {
         "anchor": "x2",
         "domain": [
          0,
          1
         ]
        }
       }
      }
     },
     "metadata": {},
     "output_type": "display_data"
    }
   ],
   "source": [
    "#\n",
    "# Number of connected components with different sizes\n",
    "#\n",
    "\n",
    "G = mmg\n",
    "\n",
    "fig = make_subplots(rows=1, cols=2, subplot_titles=['Proteomics', 'Metabolomics'])#go.Figure()\n",
    "for n,G in enumerate([qqg, mmg]):\n",
    "    plot = pd.Series([len(i) for i in nx.connected_components(G)]).value_counts().sort_index()\n",
    "    fig.add_trace(go.Bar(\n",
    "        x = [str(i) for i in plot.index],\n",
    "        y = plot.values,\n",
    "        width=0.5,\n",
    "        text=plot.values, textposition='auto', \n",
    "    ), row=1, col=n+1)\n",
    "\n",
    "fig.update_layout(bargap=1)\n",
    "fig.update_layout(title=f'Number of connected components with different order', showlegend=False)\n",
    "fig.show()"
   ]
  },
  {
   "cell_type": "code",
   "execution_count": 22,
   "metadata": {},
   "outputs": [
    {
     "data": {
      "application/vnd.plotly.v1+json": {
       "config": {
        "plotlyServerURL": "https://plot.ly"
       },
       "data": [
        {
         "text": [
          1,
          107,
          1317,
          2477,
          1534,
          503,
          86,
          11,
          1
         ],
         "textposition": "auto",
         "type": "bar",
         "width": 0.5,
         "x": [
          "1",
          "2",
          "3",
          "4",
          "5",
          "6",
          "7",
          "8",
          "9"
         ],
         "xaxis": "x",
         "y": [
          1,
          107,
          1317,
          2477,
          1534,
          503,
          86,
          11,
          1
         ],
         "yaxis": "y"
        },
        {
         "text": [
          155,
          65,
          45,
          30,
          22,
          23,
          73,
          106,
          107,
          121,
          134,
          163,
          166,
          205,
          198,
          194,
          119,
          75,
          41,
          17,
          20,
          11,
          11,
          2,
          5
         ],
         "textposition": "auto",
         "type": "bar",
         "width": 0.5,
         "x": [
          "1",
          "2",
          "3",
          "4",
          "5",
          "6",
          "7",
          "8",
          "9",
          "10",
          "11",
          "12",
          "13",
          "14",
          "15",
          "16",
          "17",
          "18",
          "19",
          "20",
          "21",
          "22",
          "23",
          "24",
          "25"
         ],
         "xaxis": "x2",
         "y": [
          155,
          65,
          45,
          30,
          22,
          23,
          73,
          106,
          107,
          121,
          134,
          163,
          166,
          205,
          198,
          194,
          119,
          75,
          41,
          17,
          20,
          11,
          11,
          2,
          5
         ],
         "yaxis": "y2"
        }
       ],
       "layout": {
        "annotations": [
         {
          "font": {
           "size": 16
          },
          "showarrow": false,
          "text": "Proteomics",
          "x": 0.225,
          "xanchor": "center",
          "xref": "paper",
          "y": 1,
          "yanchor": "bottom",
          "yref": "paper"
         },
         {
          "font": {
           "size": 16
          },
          "showarrow": false,
          "text": "Metabolomics",
          "x": 0.775,
          "xanchor": "center",
          "xref": "paper",
          "y": 1,
          "yanchor": "bottom",
          "yref": "paper"
         }
        ],
        "bargap": 1,
        "showlegend": false,
        "template": {
         "data": {
          "bar": [
           {
            "error_x": {
             "color": "#2a3f5f"
            },
            "error_y": {
             "color": "#2a3f5f"
            },
            "marker": {
             "line": {
              "color": "#E5ECF6",
              "width": 0.5
             },
             "pattern": {
              "fillmode": "overlay",
              "size": 10,
              "solidity": 0.2
             }
            },
            "type": "bar"
           }
          ],
          "barpolar": [
           {
            "marker": {
             "line": {
              "color": "#E5ECF6",
              "width": 0.5
             },
             "pattern": {
              "fillmode": "overlay",
              "size": 10,
              "solidity": 0.2
             }
            },
            "type": "barpolar"
           }
          ],
          "carpet": [
           {
            "aaxis": {
             "endlinecolor": "#2a3f5f",
             "gridcolor": "white",
             "linecolor": "white",
             "minorgridcolor": "white",
             "startlinecolor": "#2a3f5f"
            },
            "baxis": {
             "endlinecolor": "#2a3f5f",
             "gridcolor": "white",
             "linecolor": "white",
             "minorgridcolor": "white",
             "startlinecolor": "#2a3f5f"
            },
            "type": "carpet"
           }
          ],
          "choropleth": [
           {
            "colorbar": {
             "outlinewidth": 0,
             "ticks": ""
            },
            "type": "choropleth"
           }
          ],
          "contour": [
           {
            "colorbar": {
             "outlinewidth": 0,
             "ticks": ""
            },
            "colorscale": [
             [
              0,
              "#0d0887"
             ],
             [
              0.1111111111111111,
              "#46039f"
             ],
             [
              0.2222222222222222,
              "#7201a8"
             ],
             [
              0.3333333333333333,
              "#9c179e"
             ],
             [
              0.4444444444444444,
              "#bd3786"
             ],
             [
              0.5555555555555556,
              "#d8576b"
             ],
             [
              0.6666666666666666,
              "#ed7953"
             ],
             [
              0.7777777777777778,
              "#fb9f3a"
             ],
             [
              0.8888888888888888,
              "#fdca26"
             ],
             [
              1,
              "#f0f921"
             ]
            ],
            "type": "contour"
           }
          ],
          "contourcarpet": [
           {
            "colorbar": {
             "outlinewidth": 0,
             "ticks": ""
            },
            "type": "contourcarpet"
           }
          ],
          "heatmap": [
           {
            "colorbar": {
             "outlinewidth": 0,
             "ticks": ""
            },
            "colorscale": [
             [
              0,
              "#0d0887"
             ],
             [
              0.1111111111111111,
              "#46039f"
             ],
             [
              0.2222222222222222,
              "#7201a8"
             ],
             [
              0.3333333333333333,
              "#9c179e"
             ],
             [
              0.4444444444444444,
              "#bd3786"
             ],
             [
              0.5555555555555556,
              "#d8576b"
             ],
             [
              0.6666666666666666,
              "#ed7953"
             ],
             [
              0.7777777777777778,
              "#fb9f3a"
             ],
             [
              0.8888888888888888,
              "#fdca26"
             ],
             [
              1,
              "#f0f921"
             ]
            ],
            "type": "heatmap"
           }
          ],
          "heatmapgl": [
           {
            "colorbar": {
             "outlinewidth": 0,
             "ticks": ""
            },
            "colorscale": [
             [
              0,
              "#0d0887"
             ],
             [
              0.1111111111111111,
              "#46039f"
             ],
             [
              0.2222222222222222,
              "#7201a8"
             ],
             [
              0.3333333333333333,
              "#9c179e"
             ],
             [
              0.4444444444444444,
              "#bd3786"
             ],
             [
              0.5555555555555556,
              "#d8576b"
             ],
             [
              0.6666666666666666,
              "#ed7953"
             ],
             [
              0.7777777777777778,
              "#fb9f3a"
             ],
             [
              0.8888888888888888,
              "#fdca26"
             ],
             [
              1,
              "#f0f921"
             ]
            ],
            "type": "heatmapgl"
           }
          ],
          "histogram": [
           {
            "marker": {
             "pattern": {
              "fillmode": "overlay",
              "size": 10,
              "solidity": 0.2
             }
            },
            "type": "histogram"
           }
          ],
          "histogram2d": [
           {
            "colorbar": {
             "outlinewidth": 0,
             "ticks": ""
            },
            "colorscale": [
             [
              0,
              "#0d0887"
             ],
             [
              0.1111111111111111,
              "#46039f"
             ],
             [
              0.2222222222222222,
              "#7201a8"
             ],
             [
              0.3333333333333333,
              "#9c179e"
             ],
             [
              0.4444444444444444,
              "#bd3786"
             ],
             [
              0.5555555555555556,
              "#d8576b"
             ],
             [
              0.6666666666666666,
              "#ed7953"
             ],
             [
              0.7777777777777778,
              "#fb9f3a"
             ],
             [
              0.8888888888888888,
              "#fdca26"
             ],
             [
              1,
              "#f0f921"
             ]
            ],
            "type": "histogram2d"
           }
          ],
          "histogram2dcontour": [
           {
            "colorbar": {
             "outlinewidth": 0,
             "ticks": ""
            },
            "colorscale": [
             [
              0,
              "#0d0887"
             ],
             [
              0.1111111111111111,
              "#46039f"
             ],
             [
              0.2222222222222222,
              "#7201a8"
             ],
             [
              0.3333333333333333,
              "#9c179e"
             ],
             [
              0.4444444444444444,
              "#bd3786"
             ],
             [
              0.5555555555555556,
              "#d8576b"
             ],
             [
              0.6666666666666666,
              "#ed7953"
             ],
             [
              0.7777777777777778,
              "#fb9f3a"
             ],
             [
              0.8888888888888888,
              "#fdca26"
             ],
             [
              1,
              "#f0f921"
             ]
            ],
            "type": "histogram2dcontour"
           }
          ],
          "mesh3d": [
           {
            "colorbar": {
             "outlinewidth": 0,
             "ticks": ""
            },
            "type": "mesh3d"
           }
          ],
          "parcoords": [
           {
            "line": {
             "colorbar": {
              "outlinewidth": 0,
              "ticks": ""
             }
            },
            "type": "parcoords"
           }
          ],
          "pie": [
           {
            "automargin": true,
            "type": "pie"
           }
          ],
          "scatter": [
           {
            "fillpattern": {
             "fillmode": "overlay",
             "size": 10,
             "solidity": 0.2
            },
            "type": "scatter"
           }
          ],
          "scatter3d": [
           {
            "line": {
             "colorbar": {
              "outlinewidth": 0,
              "ticks": ""
             }
            },
            "marker": {
             "colorbar": {
              "outlinewidth": 0,
              "ticks": ""
             }
            },
            "type": "scatter3d"
           }
          ],
          "scattercarpet": [
           {
            "marker": {
             "colorbar": {
              "outlinewidth": 0,
              "ticks": ""
             }
            },
            "type": "scattercarpet"
           }
          ],
          "scattergeo": [
           {
            "marker": {
             "colorbar": {
              "outlinewidth": 0,
              "ticks": ""
             }
            },
            "type": "scattergeo"
           }
          ],
          "scattergl": [
           {
            "marker": {
             "colorbar": {
              "outlinewidth": 0,
              "ticks": ""
             }
            },
            "type": "scattergl"
           }
          ],
          "scattermapbox": [
           {
            "marker": {
             "colorbar": {
              "outlinewidth": 0,
              "ticks": ""
             }
            },
            "type": "scattermapbox"
           }
          ],
          "scatterpolar": [
           {
            "marker": {
             "colorbar": {
              "outlinewidth": 0,
              "ticks": ""
             }
            },
            "type": "scatterpolar"
           }
          ],
          "scatterpolargl": [
           {
            "marker": {
             "colorbar": {
              "outlinewidth": 0,
              "ticks": ""
             }
            },
            "type": "scatterpolargl"
           }
          ],
          "scatterternary": [
           {
            "marker": {
             "colorbar": {
              "outlinewidth": 0,
              "ticks": ""
             }
            },
            "type": "scatterternary"
           }
          ],
          "surface": [
           {
            "colorbar": {
             "outlinewidth": 0,
             "ticks": ""
            },
            "colorscale": [
             [
              0,
              "#0d0887"
             ],
             [
              0.1111111111111111,
              "#46039f"
             ],
             [
              0.2222222222222222,
              "#7201a8"
             ],
             [
              0.3333333333333333,
              "#9c179e"
             ],
             [
              0.4444444444444444,
              "#bd3786"
             ],
             [
              0.5555555555555556,
              "#d8576b"
             ],
             [
              0.6666666666666666,
              "#ed7953"
             ],
             [
              0.7777777777777778,
              "#fb9f3a"
             ],
             [
              0.8888888888888888,
              "#fdca26"
             ],
             [
              1,
              "#f0f921"
             ]
            ],
            "type": "surface"
           }
          ],
          "table": [
           {
            "cells": {
             "fill": {
              "color": "#EBF0F8"
             },
             "line": {
              "color": "white"
             }
            },
            "header": {
             "fill": {
              "color": "#C8D4E3"
             },
             "line": {
              "color": "white"
             }
            },
            "type": "table"
           }
          ]
         },
         "layout": {
          "annotationdefaults": {
           "arrowcolor": "#2a3f5f",
           "arrowhead": 0,
           "arrowwidth": 1
          },
          "autotypenumbers": "strict",
          "coloraxis": {
           "colorbar": {
            "outlinewidth": 0,
            "ticks": ""
           }
          },
          "colorscale": {
           "diverging": [
            [
             0,
             "#8e0152"
            ],
            [
             0.1,
             "#c51b7d"
            ],
            [
             0.2,
             "#de77ae"
            ],
            [
             0.3,
             "#f1b6da"
            ],
            [
             0.4,
             "#fde0ef"
            ],
            [
             0.5,
             "#f7f7f7"
            ],
            [
             0.6,
             "#e6f5d0"
            ],
            [
             0.7,
             "#b8e186"
            ],
            [
             0.8,
             "#7fbc41"
            ],
            [
             0.9,
             "#4d9221"
            ],
            [
             1,
             "#276419"
            ]
           ],
           "sequential": [
            [
             0,
             "#0d0887"
            ],
            [
             0.1111111111111111,
             "#46039f"
            ],
            [
             0.2222222222222222,
             "#7201a8"
            ],
            [
             0.3333333333333333,
             "#9c179e"
            ],
            [
             0.4444444444444444,
             "#bd3786"
            ],
            [
             0.5555555555555556,
             "#d8576b"
            ],
            [
             0.6666666666666666,
             "#ed7953"
            ],
            [
             0.7777777777777778,
             "#fb9f3a"
            ],
            [
             0.8888888888888888,
             "#fdca26"
            ],
            [
             1,
             "#f0f921"
            ]
           ],
           "sequentialminus": [
            [
             0,
             "#0d0887"
            ],
            [
             0.1111111111111111,
             "#46039f"
            ],
            [
             0.2222222222222222,
             "#7201a8"
            ],
            [
             0.3333333333333333,
             "#9c179e"
            ],
            [
             0.4444444444444444,
             "#bd3786"
            ],
            [
             0.5555555555555556,
             "#d8576b"
            ],
            [
             0.6666666666666666,
             "#ed7953"
            ],
            [
             0.7777777777777778,
             "#fb9f3a"
            ],
            [
             0.8888888888888888,
             "#fdca26"
            ],
            [
             1,
             "#f0f921"
            ]
           ]
          },
          "colorway": [
           "#636efa",
           "#EF553B",
           "#00cc96",
           "#ab63fa",
           "#FFA15A",
           "#19d3f3",
           "#FF6692",
           "#B6E880",
           "#FF97FF",
           "#FECB52"
          ],
          "font": {
           "color": "#2a3f5f"
          },
          "geo": {
           "bgcolor": "white",
           "lakecolor": "white",
           "landcolor": "#E5ECF6",
           "showlakes": true,
           "showland": true,
           "subunitcolor": "white"
          },
          "hoverlabel": {
           "align": "left"
          },
          "hovermode": "closest",
          "mapbox": {
           "style": "light"
          },
          "paper_bgcolor": "white",
          "plot_bgcolor": "#E5ECF6",
          "polar": {
           "angularaxis": {
            "gridcolor": "white",
            "linecolor": "white",
            "ticks": ""
           },
           "bgcolor": "#E5ECF6",
           "radialaxis": {
            "gridcolor": "white",
            "linecolor": "white",
            "ticks": ""
           }
          },
          "scene": {
           "xaxis": {
            "backgroundcolor": "#E5ECF6",
            "gridcolor": "white",
            "gridwidth": 2,
            "linecolor": "white",
            "showbackground": true,
            "ticks": "",
            "zerolinecolor": "white"
           },
           "yaxis": {
            "backgroundcolor": "#E5ECF6",
            "gridcolor": "white",
            "gridwidth": 2,
            "linecolor": "white",
            "showbackground": true,
            "ticks": "",
            "zerolinecolor": "white"
           },
           "zaxis": {
            "backgroundcolor": "#E5ECF6",
            "gridcolor": "white",
            "gridwidth": 2,
            "linecolor": "white",
            "showbackground": true,
            "ticks": "",
            "zerolinecolor": "white"
           }
          },
          "shapedefaults": {
           "line": {
            "color": "#2a3f5f"
           }
          },
          "ternary": {
           "aaxis": {
            "gridcolor": "white",
            "linecolor": "white",
            "ticks": ""
           },
           "baxis": {
            "gridcolor": "white",
            "linecolor": "white",
            "ticks": ""
           },
           "bgcolor": "#E5ECF6",
           "caxis": {
            "gridcolor": "white",
            "linecolor": "white",
            "ticks": ""
           }
          },
          "title": {
           "x": 0.05
          },
          "xaxis": {
           "automargin": true,
           "gridcolor": "white",
           "linecolor": "white",
           "ticks": "",
           "title": {
            "standoff": 15
           },
           "zerolinecolor": "white",
           "zerolinewidth": 2
          },
          "yaxis": {
           "automargin": true,
           "gridcolor": "white",
           "linecolor": "white",
           "ticks": "",
           "title": {
            "standoff": 15
           },
           "zerolinecolor": "white",
           "zerolinewidth": 2
          }
         }
        },
        "title": {
         "text": "Number of cliques with different order"
        },
        "xaxis": {
         "anchor": "y",
         "domain": [
          0,
          0.45
         ]
        },
        "xaxis2": {
         "anchor": "y2",
         "domain": [
          0.55,
          1
         ]
        },
        "yaxis": {
         "anchor": "x",
         "domain": [
          0,
          1
         ]
        },
        "yaxis2": {
         "anchor": "x2",
         "domain": [
          0,
          1
         ]
        }
       }
      }
     },
     "metadata": {},
     "output_type": "display_data"
    }
   ],
   "source": [
    "#\n",
    "# Number of cliques with diferent orders\n",
    "#\n",
    "\n",
    "fig = make_subplots(rows=1, cols=2, subplot_titles=['Proteomics', 'Metabolomics'])#go.Figure()\n",
    "\n",
    "for n,G in enumerate([qqg, mmg]):\n",
    "    plot = pd.Series([len(i) for i in nx.find_cliques(G)]).value_counts().sort_index()\n",
    "    fig.add_trace(go.Bar(\n",
    "        x = [str(i) for i in plot.index],\n",
    "        y = plot.values,\n",
    "        width=0.5,\n",
    "        text=plot.values, textposition='auto', \n",
    "    ), row=1, col=n+1)\n",
    "\n",
    "    fig.update_layout(bargap=1)\n",
    "fig.update_layout(title=f'Number of cliques with different order', showlegend=False)\n",
    "fig.show()"
   ]
  },
  {
   "cell_type": "code",
   "execution_count": 10,
   "metadata": {},
   "outputs": [],
   "source": [
    "#\n",
    "# Build complete graph adding omic type to each node\n",
    "#\n",
    "\n",
    "g = nx.compose_all([qqg, mmg, qmg])\n",
    "\n",
    "attr = {}\n",
    "_ = [attr.update({i:'q'}) for i in q2i.index]\n",
    "_ = [attr.update({i:'m'}) for i in m2i.index]\n",
    "nx.set_node_attributes(g, attr, 'group')\n",
    "attr = {}\n",
    "_ = [attr.update({i:q2i.loc[i, 'qdesc']}) for i in q2i.index]\n",
    "_ = [attr.update({i:m2i.loc[i, 'NAME']}) for i in m2i.index]\n",
    "nx.set_node_attributes(g, attr, 'title')\n",
    "# attr = {}\n",
    "# _ = [attr.update({i:'blue'}) for i in q2i.index]\n",
    "# _ = [attr.update({i:'red'}) for i in m2i.index]\n",
    "# nx.set_node_attributes(g, attr, 'color')"
   ]
  },
  {
   "cell_type": "code",
   "execution_count": 11,
   "metadata": {},
   "outputs": [],
   "source": [
    "# Get clustering consensus \n",
    "\n",
    "import leidenalg\n",
    "import igraph as ig\n",
    "import networkx.algorithms.community as nx_comm\n",
    "\n",
    "G= mmg\n",
    "n = 4\n",
    "thr=10\n",
    "\n",
    "\n",
    "def jaccard(list1, list2):\n",
    "    intersection = len(list(set(list1).intersection(list2)))\n",
    "    union = (len(list1) + len(list2)) - intersection\n",
    "    return float(intersection) / union\n",
    "\n",
    "def get_communities(G, n=5, thr=5):\n",
    "    comm = [\n",
    "        list(i.to_networkx().nodes)\n",
    "        for i in leidenalg.find_partition(\n",
    "                ig.Graph.from_networkx(G), leidenalg.ModularityVertexPartition, \n",
    "                n_iterations=-1, seed=-1\n",
    "            ).subgraphs()\n",
    "    ]\n",
    "\n",
    "    commL = [[i for i in comm if len(i)>thr]]\n",
    "\n",
    "    for i in range(n):\n",
    "        commi = [\n",
    "        list(i.to_networkx().nodes)\n",
    "        for i in leidenalg.find_partition(\n",
    "                ig.Graph.from_networkx(G), leidenalg.ModularityVertexPartition, \n",
    "                n_iterations=-1, seed=i\n",
    "            ).subgraphs()\n",
    "        ] \n",
    "        comm = [\n",
    "        np.intersect1d(j, commi[np.argmax([jaccard(j,k) for k in commi])]) for j in comm\n",
    "        ]\n",
    "\n",
    "        #comm = [j for j in comm if nx.is_connected(G.subgraph(j)) and len(j)>thr]\n",
    "        comm = [list(k) for j in comm for k in nx.connected_components(G.subgraph(j)) if len(k)>thr]\n",
    "        commL.append(comm)\n",
    "        if len(comm)==0: return commL\n",
    "    \n",
    "    return commL\n",
    "\n",
    "\n",
    "#qqcom = get_communities(qqg, n=n, thr=10)\n",
    "#mmcom = get_communities(mmg, n=n, thr=10)"
   ]
  },
  {
   "cell_type": "code",
   "execution_count": 12,
   "metadata": {},
   "outputs": [],
   "source": [
    "#\n",
    "# Apply get_communities function to random graphs so as to estimate \n",
    "# number of iterations n. \n",
    "# We calculate the minimum n at which <1% of random graphs have communities with order >thr\n",
    "# Probability under randomness of obtain a community\n",
    "\n",
    "thr = 10 # Minimum size of a community\n",
    "pvThr = 0.05 # Maximum fraction of random graph with a community greater than thr\n",
    "n = 100\n",
    "\n",
    "commLqq = [get_communities(i, n=n, thr=thr) for i in qqA]\n",
    "commLmm = [get_communities(i, n=n, thr=thr) for i in mmA]"
   ]
  },
  {
   "cell_type": "code",
   "execution_count": 13,
   "metadata": {},
   "outputs": [
    {
     "name": "stdout",
     "output_type": "stream",
     "text": [
      "Protoemics minimum iteration: 4\n",
      "Metabolomics minimum iteration: 5\n"
     ]
    }
   ],
   "source": [
    "# Get fraction of random graph containing communities after x iterations\n",
    "\n",
    "commLqqn = [[len(gA[i]) if len(gA)>i else 0 for i in range(n+1)] for gA in commLqq]\n",
    "commLmmn = [[len(gA[i]) if len(gA)>i else 0 for i in range(n+1)] for gA in commLmm]\n",
    "\n",
    "commLqqn = (np.array(commLqqn)>0).sum(axis=0)/len(qqA)\n",
    "commLmmn = (np.array(commLmmn)>0).sum(axis=0)/len(mmA)\n",
    "\n",
    "pvThr = 0.05\n",
    "qqThr = np.argwhere(commLqqn < pvThr)[0][0]\n",
    "mmThr = np.argwhere(commLmmn < pvThr)[0][0]\n",
    "\n",
    "print(f\"Protoemics minimum iteration: {qqThr+1}\")\n",
    "print(f\"Metabolomics minimum iteration: {mmThr+1}\")"
   ]
  },
  {
   "cell_type": "code",
   "execution_count": 14,
   "metadata": {},
   "outputs": [
    {
     "data": {
      "application/vnd.plotly.v1+json": {
       "config": {
        "plotlyServerURL": "https://plot.ly"
       },
       "data": [
        {
         "mode": "lines+markers",
         "name": "Proteomics",
         "type": "scatter",
         "x": [
          1,
          2,
          3,
          4,
          5,
          6,
          7,
          8,
          9,
          10,
          11,
          12,
          13,
          14,
          15,
          16,
          17,
          18,
          19,
          20,
          21,
          22,
          23,
          24,
          25,
          26,
          27,
          28,
          29,
          30,
          31,
          32,
          33,
          34,
          35,
          36,
          37,
          38,
          39,
          40
         ],
         "y": [
          1,
          1,
          0.24,
          0.01,
          0,
          0,
          0,
          0,
          0,
          0,
          0,
          0,
          0,
          0,
          0,
          0,
          0,
          0,
          0,
          0,
          0,
          0,
          0,
          0,
          0,
          0,
          0,
          0,
          0,
          0,
          0,
          0,
          0,
          0,
          0,
          0,
          0,
          0,
          0,
          0
         ]
        },
        {
         "mode": "lines+markers",
         "name": "Metabolomics",
         "type": "scatter",
         "x": [
          1,
          2,
          3,
          4,
          5,
          6,
          7,
          8,
          9,
          10,
          11,
          12,
          13,
          14,
          15,
          16,
          17,
          18,
          19,
          20,
          21,
          22,
          23,
          24,
          25,
          26,
          27,
          28,
          29,
          30,
          31,
          32,
          33,
          34,
          35,
          36,
          37,
          38,
          39,
          40
         ],
         "y": [
          1,
          1,
          0.83,
          0.2,
          0.04,
          0,
          0,
          0,
          0,
          0,
          0,
          0,
          0,
          0,
          0,
          0,
          0,
          0,
          0,
          0,
          0,
          0,
          0,
          0,
          0,
          0,
          0,
          0,
          0,
          0,
          0,
          0,
          0,
          0,
          0,
          0,
          0,
          0,
          0,
          0
         ]
        }
       ],
       "layout": {
        "shapes": [
         {
          "line": {
           "color": "black",
           "dash": "dot",
           "width": 1
          },
          "type": "line",
          "x0": 0,
          "x1": 1,
          "xref": "x domain",
          "y0": 0.05,
          "y1": 0.05,
          "yref": "y"
         }
        ],
        "template": {
         "data": {
          "bar": [
           {
            "error_x": {
             "color": "#2a3f5f"
            },
            "error_y": {
             "color": "#2a3f5f"
            },
            "marker": {
             "line": {
              "color": "#E5ECF6",
              "width": 0.5
             },
             "pattern": {
              "fillmode": "overlay",
              "size": 10,
              "solidity": 0.2
             }
            },
            "type": "bar"
           }
          ],
          "barpolar": [
           {
            "marker": {
             "line": {
              "color": "#E5ECF6",
              "width": 0.5
             },
             "pattern": {
              "fillmode": "overlay",
              "size": 10,
              "solidity": 0.2
             }
            },
            "type": "barpolar"
           }
          ],
          "carpet": [
           {
            "aaxis": {
             "endlinecolor": "#2a3f5f",
             "gridcolor": "white",
             "linecolor": "white",
             "minorgridcolor": "white",
             "startlinecolor": "#2a3f5f"
            },
            "baxis": {
             "endlinecolor": "#2a3f5f",
             "gridcolor": "white",
             "linecolor": "white",
             "minorgridcolor": "white",
             "startlinecolor": "#2a3f5f"
            },
            "type": "carpet"
           }
          ],
          "choropleth": [
           {
            "colorbar": {
             "outlinewidth": 0,
             "ticks": ""
            },
            "type": "choropleth"
           }
          ],
          "contour": [
           {
            "colorbar": {
             "outlinewidth": 0,
             "ticks": ""
            },
            "colorscale": [
             [
              0,
              "#0d0887"
             ],
             [
              0.1111111111111111,
              "#46039f"
             ],
             [
              0.2222222222222222,
              "#7201a8"
             ],
             [
              0.3333333333333333,
              "#9c179e"
             ],
             [
              0.4444444444444444,
              "#bd3786"
             ],
             [
              0.5555555555555556,
              "#d8576b"
             ],
             [
              0.6666666666666666,
              "#ed7953"
             ],
             [
              0.7777777777777778,
              "#fb9f3a"
             ],
             [
              0.8888888888888888,
              "#fdca26"
             ],
             [
              1,
              "#f0f921"
             ]
            ],
            "type": "contour"
           }
          ],
          "contourcarpet": [
           {
            "colorbar": {
             "outlinewidth": 0,
             "ticks": ""
            },
            "type": "contourcarpet"
           }
          ],
          "heatmap": [
           {
            "colorbar": {
             "outlinewidth": 0,
             "ticks": ""
            },
            "colorscale": [
             [
              0,
              "#0d0887"
             ],
             [
              0.1111111111111111,
              "#46039f"
             ],
             [
              0.2222222222222222,
              "#7201a8"
             ],
             [
              0.3333333333333333,
              "#9c179e"
             ],
             [
              0.4444444444444444,
              "#bd3786"
             ],
             [
              0.5555555555555556,
              "#d8576b"
             ],
             [
              0.6666666666666666,
              "#ed7953"
             ],
             [
              0.7777777777777778,
              "#fb9f3a"
             ],
             [
              0.8888888888888888,
              "#fdca26"
             ],
             [
              1,
              "#f0f921"
             ]
            ],
            "type": "heatmap"
           }
          ],
          "heatmapgl": [
           {
            "colorbar": {
             "outlinewidth": 0,
             "ticks": ""
            },
            "colorscale": [
             [
              0,
              "#0d0887"
             ],
             [
              0.1111111111111111,
              "#46039f"
             ],
             [
              0.2222222222222222,
              "#7201a8"
             ],
             [
              0.3333333333333333,
              "#9c179e"
             ],
             [
              0.4444444444444444,
              "#bd3786"
             ],
             [
              0.5555555555555556,
              "#d8576b"
             ],
             [
              0.6666666666666666,
              "#ed7953"
             ],
             [
              0.7777777777777778,
              "#fb9f3a"
             ],
             [
              0.8888888888888888,
              "#fdca26"
             ],
             [
              1,
              "#f0f921"
             ]
            ],
            "type": "heatmapgl"
           }
          ],
          "histogram": [
           {
            "marker": {
             "pattern": {
              "fillmode": "overlay",
              "size": 10,
              "solidity": 0.2
             }
            },
            "type": "histogram"
           }
          ],
          "histogram2d": [
           {
            "colorbar": {
             "outlinewidth": 0,
             "ticks": ""
            },
            "colorscale": [
             [
              0,
              "#0d0887"
             ],
             [
              0.1111111111111111,
              "#46039f"
             ],
             [
              0.2222222222222222,
              "#7201a8"
             ],
             [
              0.3333333333333333,
              "#9c179e"
             ],
             [
              0.4444444444444444,
              "#bd3786"
             ],
             [
              0.5555555555555556,
              "#d8576b"
             ],
             [
              0.6666666666666666,
              "#ed7953"
             ],
             [
              0.7777777777777778,
              "#fb9f3a"
             ],
             [
              0.8888888888888888,
              "#fdca26"
             ],
             [
              1,
              "#f0f921"
             ]
            ],
            "type": "histogram2d"
           }
          ],
          "histogram2dcontour": [
           {
            "colorbar": {
             "outlinewidth": 0,
             "ticks": ""
            },
            "colorscale": [
             [
              0,
              "#0d0887"
             ],
             [
              0.1111111111111111,
              "#46039f"
             ],
             [
              0.2222222222222222,
              "#7201a8"
             ],
             [
              0.3333333333333333,
              "#9c179e"
             ],
             [
              0.4444444444444444,
              "#bd3786"
             ],
             [
              0.5555555555555556,
              "#d8576b"
             ],
             [
              0.6666666666666666,
              "#ed7953"
             ],
             [
              0.7777777777777778,
              "#fb9f3a"
             ],
             [
              0.8888888888888888,
              "#fdca26"
             ],
             [
              1,
              "#f0f921"
             ]
            ],
            "type": "histogram2dcontour"
           }
          ],
          "mesh3d": [
           {
            "colorbar": {
             "outlinewidth": 0,
             "ticks": ""
            },
            "type": "mesh3d"
           }
          ],
          "parcoords": [
           {
            "line": {
             "colorbar": {
              "outlinewidth": 0,
              "ticks": ""
             }
            },
            "type": "parcoords"
           }
          ],
          "pie": [
           {
            "automargin": true,
            "type": "pie"
           }
          ],
          "scatter": [
           {
            "fillpattern": {
             "fillmode": "overlay",
             "size": 10,
             "solidity": 0.2
            },
            "type": "scatter"
           }
          ],
          "scatter3d": [
           {
            "line": {
             "colorbar": {
              "outlinewidth": 0,
              "ticks": ""
             }
            },
            "marker": {
             "colorbar": {
              "outlinewidth": 0,
              "ticks": ""
             }
            },
            "type": "scatter3d"
           }
          ],
          "scattercarpet": [
           {
            "marker": {
             "colorbar": {
              "outlinewidth": 0,
              "ticks": ""
             }
            },
            "type": "scattercarpet"
           }
          ],
          "scattergeo": [
           {
            "marker": {
             "colorbar": {
              "outlinewidth": 0,
              "ticks": ""
             }
            },
            "type": "scattergeo"
           }
          ],
          "scattergl": [
           {
            "marker": {
             "colorbar": {
              "outlinewidth": 0,
              "ticks": ""
             }
            },
            "type": "scattergl"
           }
          ],
          "scattermapbox": [
           {
            "marker": {
             "colorbar": {
              "outlinewidth": 0,
              "ticks": ""
             }
            },
            "type": "scattermapbox"
           }
          ],
          "scatterpolar": [
           {
            "marker": {
             "colorbar": {
              "outlinewidth": 0,
              "ticks": ""
             }
            },
            "type": "scatterpolar"
           }
          ],
          "scatterpolargl": [
           {
            "marker": {
             "colorbar": {
              "outlinewidth": 0,
              "ticks": ""
             }
            },
            "type": "scatterpolargl"
           }
          ],
          "scatterternary": [
           {
            "marker": {
             "colorbar": {
              "outlinewidth": 0,
              "ticks": ""
             }
            },
            "type": "scatterternary"
           }
          ],
          "surface": [
           {
            "colorbar": {
             "outlinewidth": 0,
             "ticks": ""
            },
            "colorscale": [
             [
              0,
              "#0d0887"
             ],
             [
              0.1111111111111111,
              "#46039f"
             ],
             [
              0.2222222222222222,
              "#7201a8"
             ],
             [
              0.3333333333333333,
              "#9c179e"
             ],
             [
              0.4444444444444444,
              "#bd3786"
             ],
             [
              0.5555555555555556,
              "#d8576b"
             ],
             [
              0.6666666666666666,
              "#ed7953"
             ],
             [
              0.7777777777777778,
              "#fb9f3a"
             ],
             [
              0.8888888888888888,
              "#fdca26"
             ],
             [
              1,
              "#f0f921"
             ]
            ],
            "type": "surface"
           }
          ],
          "table": [
           {
            "cells": {
             "fill": {
              "color": "#EBF0F8"
             },
             "line": {
              "color": "white"
             }
            },
            "header": {
             "fill": {
              "color": "#C8D4E3"
             },
             "line": {
              "color": "white"
             }
            },
            "type": "table"
           }
          ]
         },
         "layout": {
          "annotationdefaults": {
           "arrowcolor": "#2a3f5f",
           "arrowhead": 0,
           "arrowwidth": 1
          },
          "autotypenumbers": "strict",
          "coloraxis": {
           "colorbar": {
            "outlinewidth": 0,
            "ticks": ""
           }
          },
          "colorscale": {
           "diverging": [
            [
             0,
             "#8e0152"
            ],
            [
             0.1,
             "#c51b7d"
            ],
            [
             0.2,
             "#de77ae"
            ],
            [
             0.3,
             "#f1b6da"
            ],
            [
             0.4,
             "#fde0ef"
            ],
            [
             0.5,
             "#f7f7f7"
            ],
            [
             0.6,
             "#e6f5d0"
            ],
            [
             0.7,
             "#b8e186"
            ],
            [
             0.8,
             "#7fbc41"
            ],
            [
             0.9,
             "#4d9221"
            ],
            [
             1,
             "#276419"
            ]
           ],
           "sequential": [
            [
             0,
             "#0d0887"
            ],
            [
             0.1111111111111111,
             "#46039f"
            ],
            [
             0.2222222222222222,
             "#7201a8"
            ],
            [
             0.3333333333333333,
             "#9c179e"
            ],
            [
             0.4444444444444444,
             "#bd3786"
            ],
            [
             0.5555555555555556,
             "#d8576b"
            ],
            [
             0.6666666666666666,
             "#ed7953"
            ],
            [
             0.7777777777777778,
             "#fb9f3a"
            ],
            [
             0.8888888888888888,
             "#fdca26"
            ],
            [
             1,
             "#f0f921"
            ]
           ],
           "sequentialminus": [
            [
             0,
             "#0d0887"
            ],
            [
             0.1111111111111111,
             "#46039f"
            ],
            [
             0.2222222222222222,
             "#7201a8"
            ],
            [
             0.3333333333333333,
             "#9c179e"
            ],
            [
             0.4444444444444444,
             "#bd3786"
            ],
            [
             0.5555555555555556,
             "#d8576b"
            ],
            [
             0.6666666666666666,
             "#ed7953"
            ],
            [
             0.7777777777777778,
             "#fb9f3a"
            ],
            [
             0.8888888888888888,
             "#fdca26"
            ],
            [
             1,
             "#f0f921"
            ]
           ]
          },
          "colorway": [
           "#636efa",
           "#EF553B",
           "#00cc96",
           "#ab63fa",
           "#FFA15A",
           "#19d3f3",
           "#FF6692",
           "#B6E880",
           "#FF97FF",
           "#FECB52"
          ],
          "font": {
           "color": "#2a3f5f"
          },
          "geo": {
           "bgcolor": "white",
           "lakecolor": "white",
           "landcolor": "#E5ECF6",
           "showlakes": true,
           "showland": true,
           "subunitcolor": "white"
          },
          "hoverlabel": {
           "align": "left"
          },
          "hovermode": "closest",
          "mapbox": {
           "style": "light"
          },
          "paper_bgcolor": "white",
          "plot_bgcolor": "#E5ECF6",
          "polar": {
           "angularaxis": {
            "gridcolor": "white",
            "linecolor": "white",
            "ticks": ""
           },
           "bgcolor": "#E5ECF6",
           "radialaxis": {
            "gridcolor": "white",
            "linecolor": "white",
            "ticks": ""
           }
          },
          "scene": {
           "xaxis": {
            "backgroundcolor": "#E5ECF6",
            "gridcolor": "white",
            "gridwidth": 2,
            "linecolor": "white",
            "showbackground": true,
            "ticks": "",
            "zerolinecolor": "white"
           },
           "yaxis": {
            "backgroundcolor": "#E5ECF6",
            "gridcolor": "white",
            "gridwidth": 2,
            "linecolor": "white",
            "showbackground": true,
            "ticks": "",
            "zerolinecolor": "white"
           },
           "zaxis": {
            "backgroundcolor": "#E5ECF6",
            "gridcolor": "white",
            "gridwidth": 2,
            "linecolor": "white",
            "showbackground": true,
            "ticks": "",
            "zerolinecolor": "white"
           }
          },
          "shapedefaults": {
           "line": {
            "color": "#2a3f5f"
           }
          },
          "ternary": {
           "aaxis": {
            "gridcolor": "white",
            "linecolor": "white",
            "ticks": ""
           },
           "baxis": {
            "gridcolor": "white",
            "linecolor": "white",
            "ticks": ""
           },
           "bgcolor": "#E5ECF6",
           "caxis": {
            "gridcolor": "white",
            "linecolor": "white",
            "ticks": ""
           }
          },
          "title": {
           "x": 0.05
          },
          "xaxis": {
           "automargin": true,
           "gridcolor": "white",
           "linecolor": "white",
           "ticks": "",
           "title": {
            "standoff": 15
           },
           "zerolinecolor": "white",
           "zerolinewidth": 2
          },
          "yaxis": {
           "automargin": true,
           "gridcolor": "white",
           "linecolor": "white",
           "ticks": "",
           "title": {
            "standoff": 15
           },
           "zerolinecolor": "white",
           "zerolinewidth": 2
          }
         }
        },
        "title": {
         "text": "Fraction of Random Networks with communities vs N. Iterations"
        },
        "xaxis": {
         "title": {
          "text": "Iterations"
         }
        },
        "yaxis": {
         "title": {
          "text": "Fraction of Random Networks"
         }
        }
       }
      }
     },
     "metadata": {},
     "output_type": "display_data"
    }
   ],
   "source": [
    "i = 40\n",
    "\n",
    "file = 'Plots/ClusterConsensus.html'\n",
    "if os.path.exists(file):\n",
    "    os.remove(file)\n",
    "\n",
    "\n",
    "fig = go.Figure()\n",
    "fig.add_trace(go.Scatter(\n",
    "    x=np.arange(1, i+1),\n",
    "    y =commLqqn[:i],\n",
    "    mode='lines+markers',\n",
    "    name='Proteomics'\n",
    "))\n",
    "fig.add_trace(go.Scatter(\n",
    "    x=np.arange(1, i+1),\n",
    "    y =commLmmn[:i],\n",
    "    mode='lines+markers',\n",
    "    name='Metabolomics'\n",
    "))\n",
    "fig.add_hline(y=0.05,line_width=1, line_dash=\"dot\", line_color=\"black\")\n",
    "fig.update_layout(title='Fraction of Random Networks with communities vs N. Iterations')\n",
    "fig.update_xaxes(title='Iterations'); fig.update_yaxes(title='Fraction of Random Networks')\n",
    "\n",
    "fig.show()\n",
    "with open(file, 'a') as f:\n",
    "    f.write(fig.to_html(full_html=False, include_plotlyjs='cdn', default_height='50%', default_width='80%'))"
   ]
  },
  {
   "cell_type": "code",
   "execution_count": 15,
   "metadata": {},
   "outputs": [],
   "source": [
    "qqcoms = get_communities(qqg, n=n, thr=thr)\n",
    "mmcoms = get_communities(mmg, n=n, thr=thr)"
   ]
  },
  {
   "cell_type": "code",
   "execution_count": 16,
   "metadata": {},
   "outputs": [
    {
     "data": {
      "application/vnd.plotly.v1+json": {
       "config": {
        "plotlyServerURL": "https://plot.ly"
       },
       "data": [
        {
         "marker": {
          "color": "#636EFA"
         },
         "mode": "lines+markers",
         "name": "Proteomics",
         "type": "scatter",
         "x": [
          1,
          2,
          3,
          4,
          5,
          6,
          7,
          8,
          9,
          10,
          11,
          12,
          13,
          14,
          15,
          16,
          17,
          18,
          19,
          20,
          21,
          22,
          23,
          24,
          25,
          26,
          27,
          28,
          29,
          30,
          31,
          32,
          33,
          34,
          35,
          36,
          37,
          38,
          39,
          40
         ],
         "xaxis": "x",
         "y": [
          6,
          6,
          6,
          6,
          6,
          6,
          6,
          6,
          6,
          6,
          6,
          6,
          6,
          5,
          4,
          4,
          3,
          3,
          3,
          3,
          2,
          2,
          2,
          2,
          2,
          2,
          2,
          2,
          2,
          2,
          2,
          2,
          2,
          2,
          2,
          2,
          2,
          2,
          2,
          2
         ],
         "yaxis": "y"
        },
        {
         "marker": {
          "color": "#EF553B"
         },
         "mode": "lines+markers",
         "name": "Metabolomics",
         "type": "scatter",
         "x": [
          1,
          2,
          3,
          4,
          5,
          6,
          7,
          8,
          9,
          10,
          11,
          12,
          13,
          14,
          15,
          16,
          17,
          18,
          19,
          20,
          21,
          22,
          23,
          24,
          25,
          26,
          27,
          28,
          29,
          30,
          31,
          32,
          33,
          34,
          35,
          36,
          37,
          38,
          39,
          40
         ],
         "xaxis": "x",
         "y": [
          10,
          10,
          10,
          10,
          9,
          9,
          9,
          9,
          9,
          9,
          9,
          9,
          9,
          9,
          9,
          9,
          9,
          9,
          9,
          9,
          9,
          9,
          9,
          9,
          9,
          9,
          9,
          9,
          9,
          9,
          9,
          9,
          9,
          9,
          9,
          9,
          9,
          9,
          9,
          9
         ],
         "yaxis": "y"
        },
        {
         "marker": {
          "color": "#636EFA"
         },
         "mode": "lines+markers",
         "name": "Proteomics",
         "type": "scatter",
         "x": [
          1,
          2,
          3,
          4,
          5,
          6,
          7,
          8,
          9,
          10,
          11,
          12,
          13,
          14,
          15,
          16,
          17,
          18,
          19,
          20,
          21,
          22,
          23,
          24,
          25,
          26,
          27,
          28,
          29,
          30,
          31,
          32,
          33,
          34,
          35,
          36,
          37,
          38,
          39,
          40
         ],
         "xaxis": "x2",
         "y": [
          380,
          281,
          231,
          216,
          205,
          200,
          170,
          152,
          148,
          148,
          137,
          137,
          123,
          99,
          85,
          83,
          71,
          69,
          69,
          68,
          55,
          55,
          55,
          55,
          55,
          55,
          55,
          55,
          55,
          55,
          55,
          55,
          55,
          41,
          41,
          41,
          41,
          41,
          41,
          41
         ],
         "yaxis": "y2"
        },
        {
         "marker": {
          "color": "#EF553B"
         },
         "mode": "lines+markers",
         "name": "Metabolomics",
         "type": "scatter",
         "x": [
          1,
          2,
          3,
          4,
          5,
          6,
          7,
          8,
          9,
          10,
          11,
          12,
          13,
          14,
          15,
          16,
          17,
          18,
          19,
          20,
          21,
          22,
          23,
          24,
          25,
          26,
          27,
          28,
          29,
          30,
          31,
          32,
          33,
          34,
          35,
          36,
          37,
          38,
          39,
          40
         ],
         "xaxis": "x2",
         "y": [
          389,
          382,
          325,
          318,
          298,
          298,
          298,
          297,
          297,
          297,
          297,
          297,
          297,
          297,
          278,
          278,
          278,
          278,
          278,
          278,
          278,
          278,
          278,
          278,
          278,
          278,
          278,
          278,
          278,
          278,
          278,
          278,
          278,
          278,
          278,
          278,
          278,
          278,
          278,
          278
         ],
         "yaxis": "y2"
        }
       ],
       "layout": {
        "annotations": [
         {
          "font": {
           "size": 16
          },
          "showarrow": false,
          "text": "Number of communities",
          "x": 0.225,
          "xanchor": "center",
          "xref": "paper",
          "y": 1,
          "yanchor": "bottom",
          "yref": "paper"
         },
         {
          "font": {
           "size": 16
          },
          "showarrow": false,
          "text": "Number of features",
          "x": 0.775,
          "xanchor": "center",
          "xref": "paper",
          "y": 1,
          "yanchor": "bottom",
          "yref": "paper"
         },
         {
          "showarrow": false,
          "text": "Prot. Thr.",
          "x": 4,
          "xanchor": "left",
          "xref": "x",
          "y": 0,
          "yanchor": "bottom",
          "yref": "y domain"
         },
         {
          "showarrow": false,
          "text": "Prot. Thr.",
          "x": 4,
          "xanchor": "left",
          "xref": "x2",
          "y": 0,
          "yanchor": "bottom",
          "yref": "y2 domain"
         },
         {
          "showarrow": false,
          "text": "Metab. Thr.",
          "x": 5,
          "xanchor": "left",
          "xref": "x",
          "y": 1,
          "yanchor": "top",
          "yref": "y domain"
         },
         {
          "showarrow": false,
          "text": "Metab. Thr.",
          "x": 5,
          "xanchor": "left",
          "xref": "x2",
          "y": 1,
          "yanchor": "top",
          "yref": "y2 domain"
         }
        ],
        "shapes": [
         {
          "line": {
           "color": "black",
           "dash": "dot",
           "width": 1
          },
          "type": "line",
          "x0": 4,
          "x1": 4,
          "xref": "x",
          "y0": 0,
          "y1": 1,
          "yref": "y domain"
         },
         {
          "line": {
           "color": "black",
           "dash": "dot",
           "width": 1
          },
          "type": "line",
          "x0": 4,
          "x1": 4,
          "xref": "x2",
          "y0": 0,
          "y1": 1,
          "yref": "y2 domain"
         },
         {
          "line": {
           "color": "black",
           "dash": "dot",
           "width": 1
          },
          "type": "line",
          "x0": 5,
          "x1": 5,
          "xref": "x",
          "y0": 0,
          "y1": 1,
          "yref": "y domain"
         },
         {
          "line": {
           "color": "black",
           "dash": "dot",
           "width": 1
          },
          "type": "line",
          "x0": 5,
          "x1": 5,
          "xref": "x2",
          "y0": 0,
          "y1": 1,
          "yref": "y2 domain"
         }
        ],
        "template": {
         "data": {
          "bar": [
           {
            "error_x": {
             "color": "#2a3f5f"
            },
            "error_y": {
             "color": "#2a3f5f"
            },
            "marker": {
             "line": {
              "color": "#E5ECF6",
              "width": 0.5
             },
             "pattern": {
              "fillmode": "overlay",
              "size": 10,
              "solidity": 0.2
             }
            },
            "type": "bar"
           }
          ],
          "barpolar": [
           {
            "marker": {
             "line": {
              "color": "#E5ECF6",
              "width": 0.5
             },
             "pattern": {
              "fillmode": "overlay",
              "size": 10,
              "solidity": 0.2
             }
            },
            "type": "barpolar"
           }
          ],
          "carpet": [
           {
            "aaxis": {
             "endlinecolor": "#2a3f5f",
             "gridcolor": "white",
             "linecolor": "white",
             "minorgridcolor": "white",
             "startlinecolor": "#2a3f5f"
            },
            "baxis": {
             "endlinecolor": "#2a3f5f",
             "gridcolor": "white",
             "linecolor": "white",
             "minorgridcolor": "white",
             "startlinecolor": "#2a3f5f"
            },
            "type": "carpet"
           }
          ],
          "choropleth": [
           {
            "colorbar": {
             "outlinewidth": 0,
             "ticks": ""
            },
            "type": "choropleth"
           }
          ],
          "contour": [
           {
            "colorbar": {
             "outlinewidth": 0,
             "ticks": ""
            },
            "colorscale": [
             [
              0,
              "#0d0887"
             ],
             [
              0.1111111111111111,
              "#46039f"
             ],
             [
              0.2222222222222222,
              "#7201a8"
             ],
             [
              0.3333333333333333,
              "#9c179e"
             ],
             [
              0.4444444444444444,
              "#bd3786"
             ],
             [
              0.5555555555555556,
              "#d8576b"
             ],
             [
              0.6666666666666666,
              "#ed7953"
             ],
             [
              0.7777777777777778,
              "#fb9f3a"
             ],
             [
              0.8888888888888888,
              "#fdca26"
             ],
             [
              1,
              "#f0f921"
             ]
            ],
            "type": "contour"
           }
          ],
          "contourcarpet": [
           {
            "colorbar": {
             "outlinewidth": 0,
             "ticks": ""
            },
            "type": "contourcarpet"
           }
          ],
          "heatmap": [
           {
            "colorbar": {
             "outlinewidth": 0,
             "ticks": ""
            },
            "colorscale": [
             [
              0,
              "#0d0887"
             ],
             [
              0.1111111111111111,
              "#46039f"
             ],
             [
              0.2222222222222222,
              "#7201a8"
             ],
             [
              0.3333333333333333,
              "#9c179e"
             ],
             [
              0.4444444444444444,
              "#bd3786"
             ],
             [
              0.5555555555555556,
              "#d8576b"
             ],
             [
              0.6666666666666666,
              "#ed7953"
             ],
             [
              0.7777777777777778,
              "#fb9f3a"
             ],
             [
              0.8888888888888888,
              "#fdca26"
             ],
             [
              1,
              "#f0f921"
             ]
            ],
            "type": "heatmap"
           }
          ],
          "heatmapgl": [
           {
            "colorbar": {
             "outlinewidth": 0,
             "ticks": ""
            },
            "colorscale": [
             [
              0,
              "#0d0887"
             ],
             [
              0.1111111111111111,
              "#46039f"
             ],
             [
              0.2222222222222222,
              "#7201a8"
             ],
             [
              0.3333333333333333,
              "#9c179e"
             ],
             [
              0.4444444444444444,
              "#bd3786"
             ],
             [
              0.5555555555555556,
              "#d8576b"
             ],
             [
              0.6666666666666666,
              "#ed7953"
             ],
             [
              0.7777777777777778,
              "#fb9f3a"
             ],
             [
              0.8888888888888888,
              "#fdca26"
             ],
             [
              1,
              "#f0f921"
             ]
            ],
            "type": "heatmapgl"
           }
          ],
          "histogram": [
           {
            "marker": {
             "pattern": {
              "fillmode": "overlay",
              "size": 10,
              "solidity": 0.2
             }
            },
            "type": "histogram"
           }
          ],
          "histogram2d": [
           {
            "colorbar": {
             "outlinewidth": 0,
             "ticks": ""
            },
            "colorscale": [
             [
              0,
              "#0d0887"
             ],
             [
              0.1111111111111111,
              "#46039f"
             ],
             [
              0.2222222222222222,
              "#7201a8"
             ],
             [
              0.3333333333333333,
              "#9c179e"
             ],
             [
              0.4444444444444444,
              "#bd3786"
             ],
             [
              0.5555555555555556,
              "#d8576b"
             ],
             [
              0.6666666666666666,
              "#ed7953"
             ],
             [
              0.7777777777777778,
              "#fb9f3a"
             ],
             [
              0.8888888888888888,
              "#fdca26"
             ],
             [
              1,
              "#f0f921"
             ]
            ],
            "type": "histogram2d"
           }
          ],
          "histogram2dcontour": [
           {
            "colorbar": {
             "outlinewidth": 0,
             "ticks": ""
            },
            "colorscale": [
             [
              0,
              "#0d0887"
             ],
             [
              0.1111111111111111,
              "#46039f"
             ],
             [
              0.2222222222222222,
              "#7201a8"
             ],
             [
              0.3333333333333333,
              "#9c179e"
             ],
             [
              0.4444444444444444,
              "#bd3786"
             ],
             [
              0.5555555555555556,
              "#d8576b"
             ],
             [
              0.6666666666666666,
              "#ed7953"
             ],
             [
              0.7777777777777778,
              "#fb9f3a"
             ],
             [
              0.8888888888888888,
              "#fdca26"
             ],
             [
              1,
              "#f0f921"
             ]
            ],
            "type": "histogram2dcontour"
           }
          ],
          "mesh3d": [
           {
            "colorbar": {
             "outlinewidth": 0,
             "ticks": ""
            },
            "type": "mesh3d"
           }
          ],
          "parcoords": [
           {
            "line": {
             "colorbar": {
              "outlinewidth": 0,
              "ticks": ""
             }
            },
            "type": "parcoords"
           }
          ],
          "pie": [
           {
            "automargin": true,
            "type": "pie"
           }
          ],
          "scatter": [
           {
            "fillpattern": {
             "fillmode": "overlay",
             "size": 10,
             "solidity": 0.2
            },
            "type": "scatter"
           }
          ],
          "scatter3d": [
           {
            "line": {
             "colorbar": {
              "outlinewidth": 0,
              "ticks": ""
             }
            },
            "marker": {
             "colorbar": {
              "outlinewidth": 0,
              "ticks": ""
             }
            },
            "type": "scatter3d"
           }
          ],
          "scattercarpet": [
           {
            "marker": {
             "colorbar": {
              "outlinewidth": 0,
              "ticks": ""
             }
            },
            "type": "scattercarpet"
           }
          ],
          "scattergeo": [
           {
            "marker": {
             "colorbar": {
              "outlinewidth": 0,
              "ticks": ""
             }
            },
            "type": "scattergeo"
           }
          ],
          "scattergl": [
           {
            "marker": {
             "colorbar": {
              "outlinewidth": 0,
              "ticks": ""
             }
            },
            "type": "scattergl"
           }
          ],
          "scattermapbox": [
           {
            "marker": {
             "colorbar": {
              "outlinewidth": 0,
              "ticks": ""
             }
            },
            "type": "scattermapbox"
           }
          ],
          "scatterpolar": [
           {
            "marker": {
             "colorbar": {
              "outlinewidth": 0,
              "ticks": ""
             }
            },
            "type": "scatterpolar"
           }
          ],
          "scatterpolargl": [
           {
            "marker": {
             "colorbar": {
              "outlinewidth": 0,
              "ticks": ""
             }
            },
            "type": "scatterpolargl"
           }
          ],
          "scatterternary": [
           {
            "marker": {
             "colorbar": {
              "outlinewidth": 0,
              "ticks": ""
             }
            },
            "type": "scatterternary"
           }
          ],
          "surface": [
           {
            "colorbar": {
             "outlinewidth": 0,
             "ticks": ""
            },
            "colorscale": [
             [
              0,
              "#0d0887"
             ],
             [
              0.1111111111111111,
              "#46039f"
             ],
             [
              0.2222222222222222,
              "#7201a8"
             ],
             [
              0.3333333333333333,
              "#9c179e"
             ],
             [
              0.4444444444444444,
              "#bd3786"
             ],
             [
              0.5555555555555556,
              "#d8576b"
             ],
             [
              0.6666666666666666,
              "#ed7953"
             ],
             [
              0.7777777777777778,
              "#fb9f3a"
             ],
             [
              0.8888888888888888,
              "#fdca26"
             ],
             [
              1,
              "#f0f921"
             ]
            ],
            "type": "surface"
           }
          ],
          "table": [
           {
            "cells": {
             "fill": {
              "color": "#EBF0F8"
             },
             "line": {
              "color": "white"
             }
            },
            "header": {
             "fill": {
              "color": "#C8D4E3"
             },
             "line": {
              "color": "white"
             }
            },
            "type": "table"
           }
          ]
         },
         "layout": {
          "annotationdefaults": {
           "arrowcolor": "#2a3f5f",
           "arrowhead": 0,
           "arrowwidth": 1
          },
          "autotypenumbers": "strict",
          "coloraxis": {
           "colorbar": {
            "outlinewidth": 0,
            "ticks": ""
           }
          },
          "colorscale": {
           "diverging": [
            [
             0,
             "#8e0152"
            ],
            [
             0.1,
             "#c51b7d"
            ],
            [
             0.2,
             "#de77ae"
            ],
            [
             0.3,
             "#f1b6da"
            ],
            [
             0.4,
             "#fde0ef"
            ],
            [
             0.5,
             "#f7f7f7"
            ],
            [
             0.6,
             "#e6f5d0"
            ],
            [
             0.7,
             "#b8e186"
            ],
            [
             0.8,
             "#7fbc41"
            ],
            [
             0.9,
             "#4d9221"
            ],
            [
             1,
             "#276419"
            ]
           ],
           "sequential": [
            [
             0,
             "#0d0887"
            ],
            [
             0.1111111111111111,
             "#46039f"
            ],
            [
             0.2222222222222222,
             "#7201a8"
            ],
            [
             0.3333333333333333,
             "#9c179e"
            ],
            [
             0.4444444444444444,
             "#bd3786"
            ],
            [
             0.5555555555555556,
             "#d8576b"
            ],
            [
             0.6666666666666666,
             "#ed7953"
            ],
            [
             0.7777777777777778,
             "#fb9f3a"
            ],
            [
             0.8888888888888888,
             "#fdca26"
            ],
            [
             1,
             "#f0f921"
            ]
           ],
           "sequentialminus": [
            [
             0,
             "#0d0887"
            ],
            [
             0.1111111111111111,
             "#46039f"
            ],
            [
             0.2222222222222222,
             "#7201a8"
            ],
            [
             0.3333333333333333,
             "#9c179e"
            ],
            [
             0.4444444444444444,
             "#bd3786"
            ],
            [
             0.5555555555555556,
             "#d8576b"
            ],
            [
             0.6666666666666666,
             "#ed7953"
            ],
            [
             0.7777777777777778,
             "#fb9f3a"
            ],
            [
             0.8888888888888888,
             "#fdca26"
            ],
            [
             1,
             "#f0f921"
            ]
           ]
          },
          "colorway": [
           "#636efa",
           "#EF553B",
           "#00cc96",
           "#ab63fa",
           "#FFA15A",
           "#19d3f3",
           "#FF6692",
           "#B6E880",
           "#FF97FF",
           "#FECB52"
          ],
          "font": {
           "color": "#2a3f5f"
          },
          "geo": {
           "bgcolor": "white",
           "lakecolor": "white",
           "landcolor": "#E5ECF6",
           "showlakes": true,
           "showland": true,
           "subunitcolor": "white"
          },
          "hoverlabel": {
           "align": "left"
          },
          "hovermode": "closest",
          "mapbox": {
           "style": "light"
          },
          "paper_bgcolor": "white",
          "plot_bgcolor": "#E5ECF6",
          "polar": {
           "angularaxis": {
            "gridcolor": "white",
            "linecolor": "white",
            "ticks": ""
           },
           "bgcolor": "#E5ECF6",
           "radialaxis": {
            "gridcolor": "white",
            "linecolor": "white",
            "ticks": ""
           }
          },
          "scene": {
           "xaxis": {
            "backgroundcolor": "#E5ECF6",
            "gridcolor": "white",
            "gridwidth": 2,
            "linecolor": "white",
            "showbackground": true,
            "ticks": "",
            "zerolinecolor": "white"
           },
           "yaxis": {
            "backgroundcolor": "#E5ECF6",
            "gridcolor": "white",
            "gridwidth": 2,
            "linecolor": "white",
            "showbackground": true,
            "ticks": "",
            "zerolinecolor": "white"
           },
           "zaxis": {
            "backgroundcolor": "#E5ECF6",
            "gridcolor": "white",
            "gridwidth": 2,
            "linecolor": "white",
            "showbackground": true,
            "ticks": "",
            "zerolinecolor": "white"
           }
          },
          "shapedefaults": {
           "line": {
            "color": "#2a3f5f"
           }
          },
          "ternary": {
           "aaxis": {
            "gridcolor": "white",
            "linecolor": "white",
            "ticks": ""
           },
           "baxis": {
            "gridcolor": "white",
            "linecolor": "white",
            "ticks": ""
           },
           "bgcolor": "#E5ECF6",
           "caxis": {
            "gridcolor": "white",
            "linecolor": "white",
            "ticks": ""
           }
          },
          "title": {
           "x": 0.05
          },
          "xaxis": {
           "automargin": true,
           "gridcolor": "white",
           "linecolor": "white",
           "ticks": "",
           "title": {
            "standoff": 15
           },
           "zerolinecolor": "white",
           "zerolinewidth": 2
          },
          "yaxis": {
           "automargin": true,
           "gridcolor": "white",
           "linecolor": "white",
           "ticks": "",
           "title": {
            "standoff": 15
           },
           "zerolinecolor": "white",
           "zerolinewidth": 2
          }
         }
        },
        "xaxis": {
         "anchor": "y",
         "domain": [
          0,
          0.45
         ],
         "title": {
          "text": "Iterations"
         }
        },
        "xaxis2": {
         "anchor": "y2",
         "domain": [
          0.55,
          1
         ],
         "title": {
          "text": "Iterations"
         }
        },
        "yaxis": {
         "anchor": "x",
         "domain": [
          0,
          1
         ]
        },
        "yaxis2": {
         "anchor": "x2",
         "domain": [
          0,
          1
         ]
        }
       }
      }
     },
     "metadata": {},
     "output_type": "display_data"
    }
   ],
   "source": [
    "i = 40\n",
    "\n",
    "\n",
    "fig = make_subplots(rows=1, cols=2, subplot_titles=['Number of communities', 'Number of features'])\n",
    "\n",
    "fig.add_trace(go.Scatter(\n",
    "    x=np.arange(1,i+1),\n",
    "    y=[len(i) for i in qqcoms][:i],\n",
    "    mode='lines+markers',\n",
    "    name='Proteomics', marker_color=palette[0]\n",
    "), col=1, row=1)\n",
    "fig.add_trace(go.Scatter(\n",
    "    x=np.arange(1,i+1),\n",
    "    y=[len(i) for i in mmcoms][:i],\n",
    "    mode='lines+markers',\n",
    "    name='Metabolomics', marker_color=palette[1]\n",
    "), col=1, row=1)\n",
    "\n",
    "fig.add_trace(go.Scatter(\n",
    "    x=np.arange(1,i+1),\n",
    "    y=[sum([len(j) for j in i]) for i in qqcoms][:i],\n",
    "    mode='lines+markers',\n",
    "    name='Proteomics', marker_color=palette[0]\n",
    "), col=2, row=1)\n",
    "fig.add_trace(go.Scatter(\n",
    "    x=np.arange(1,i+1),\n",
    "    y=[sum([len(j) for j in i]) for i in mmcoms][:i],\n",
    "    mode='lines+markers',\n",
    "    name='Metabolomics', marker_color=palette[1]\n",
    "), col=2, row=1)\n",
    "\n",
    "fig.add_vline(x=qqThr+1,line_width=1, line_dash=\"dot\", line_color=\"black\", \n",
    "              annotation_text='Prot. Thr.', annotation_position='bottom right')\n",
    "fig.add_vline(x=mmThr+1,line_width=1, line_dash=\"dot\", line_color=\"black\", \n",
    "              annotation_text='Metab. Thr.', annotation_position='top right')\n",
    "\n",
    "fig.update_xaxes(title='Iterations')\n",
    "\n",
    "fig.show()\n",
    "with open(file, 'a') as f:\n",
    "    f.write(fig.to_html(full_html=False, include_plotlyjs='cdn', default_height='50%', default_width='80%'))"
   ]
  },
  {
   "cell_type": "code",
   "execution_count": 17,
   "metadata": {},
   "outputs": [],
   "source": [
    "qqcom = qqcoms[qqThr]\n",
    "mmcom = mmcoms[mmThr]"
   ]
  },
  {
   "cell_type": "code",
   "execution_count": 22,
   "metadata": {},
   "outputs": [
    {
     "data": {
      "application/vnd.plotly.v1+json": {
       "config": {
        "plotlyServerURL": "https://plot.ly"
       },
       "data": [
        {
         "showlegend": false,
         "type": "bar",
         "width": 0.1,
         "x": [
          "0",
          "1",
          "2",
          "3",
          "4",
          "5"
         ],
         "xaxis": "x",
         "y": [
          35,
          29,
          69,
          45,
          23,
          15
         ],
         "yaxis": "y"
        },
        {
         "showlegend": false,
         "type": "bar",
         "width": 0.2,
         "x": [
          "0",
          "1",
          "2",
          "3",
          "4",
          "5",
          "6",
          "7",
          "8"
         ],
         "xaxis": "x2",
         "y": [
          58,
          36,
          58,
          44,
          42,
          17,
          16,
          15,
          12
         ],
         "yaxis": "y2"
        }
       ],
       "layout": {
        "annotations": [
         {
          "font": {
           "size": 16
          },
          "showarrow": false,
          "text": "Proteomics",
          "x": 0.225,
          "xanchor": "center",
          "xref": "paper",
          "y": 1,
          "yanchor": "bottom",
          "yref": "paper"
         },
         {
          "font": {
           "size": 16
          },
          "showarrow": false,
          "text": "Metabolomics",
          "x": 0.775,
          "xanchor": "center",
          "xref": "paper",
          "y": 1,
          "yanchor": "bottom",
          "yref": "paper"
         }
        ],
        "template": {
         "data": {
          "bar": [
           {
            "error_x": {
             "color": "#2a3f5f"
            },
            "error_y": {
             "color": "#2a3f5f"
            },
            "marker": {
             "line": {
              "color": "#E5ECF6",
              "width": 0.5
             },
             "pattern": {
              "fillmode": "overlay",
              "size": 10,
              "solidity": 0.2
             }
            },
            "type": "bar"
           }
          ],
          "barpolar": [
           {
            "marker": {
             "line": {
              "color": "#E5ECF6",
              "width": 0.5
             },
             "pattern": {
              "fillmode": "overlay",
              "size": 10,
              "solidity": 0.2
             }
            },
            "type": "barpolar"
           }
          ],
          "carpet": [
           {
            "aaxis": {
             "endlinecolor": "#2a3f5f",
             "gridcolor": "white",
             "linecolor": "white",
             "minorgridcolor": "white",
             "startlinecolor": "#2a3f5f"
            },
            "baxis": {
             "endlinecolor": "#2a3f5f",
             "gridcolor": "white",
             "linecolor": "white",
             "minorgridcolor": "white",
             "startlinecolor": "#2a3f5f"
            },
            "type": "carpet"
           }
          ],
          "choropleth": [
           {
            "colorbar": {
             "outlinewidth": 0,
             "ticks": ""
            },
            "type": "choropleth"
           }
          ],
          "contour": [
           {
            "colorbar": {
             "outlinewidth": 0,
             "ticks": ""
            },
            "colorscale": [
             [
              0,
              "#0d0887"
             ],
             [
              0.1111111111111111,
              "#46039f"
             ],
             [
              0.2222222222222222,
              "#7201a8"
             ],
             [
              0.3333333333333333,
              "#9c179e"
             ],
             [
              0.4444444444444444,
              "#bd3786"
             ],
             [
              0.5555555555555556,
              "#d8576b"
             ],
             [
              0.6666666666666666,
              "#ed7953"
             ],
             [
              0.7777777777777778,
              "#fb9f3a"
             ],
             [
              0.8888888888888888,
              "#fdca26"
             ],
             [
              1,
              "#f0f921"
             ]
            ],
            "type": "contour"
           }
          ],
          "contourcarpet": [
           {
            "colorbar": {
             "outlinewidth": 0,
             "ticks": ""
            },
            "type": "contourcarpet"
           }
          ],
          "heatmap": [
           {
            "colorbar": {
             "outlinewidth": 0,
             "ticks": ""
            },
            "colorscale": [
             [
              0,
              "#0d0887"
             ],
             [
              0.1111111111111111,
              "#46039f"
             ],
             [
              0.2222222222222222,
              "#7201a8"
             ],
             [
              0.3333333333333333,
              "#9c179e"
             ],
             [
              0.4444444444444444,
              "#bd3786"
             ],
             [
              0.5555555555555556,
              "#d8576b"
             ],
             [
              0.6666666666666666,
              "#ed7953"
             ],
             [
              0.7777777777777778,
              "#fb9f3a"
             ],
             [
              0.8888888888888888,
              "#fdca26"
             ],
             [
              1,
              "#f0f921"
             ]
            ],
            "type": "heatmap"
           }
          ],
          "heatmapgl": [
           {
            "colorbar": {
             "outlinewidth": 0,
             "ticks": ""
            },
            "colorscale": [
             [
              0,
              "#0d0887"
             ],
             [
              0.1111111111111111,
              "#46039f"
             ],
             [
              0.2222222222222222,
              "#7201a8"
             ],
             [
              0.3333333333333333,
              "#9c179e"
             ],
             [
              0.4444444444444444,
              "#bd3786"
             ],
             [
              0.5555555555555556,
              "#d8576b"
             ],
             [
              0.6666666666666666,
              "#ed7953"
             ],
             [
              0.7777777777777778,
              "#fb9f3a"
             ],
             [
              0.8888888888888888,
              "#fdca26"
             ],
             [
              1,
              "#f0f921"
             ]
            ],
            "type": "heatmapgl"
           }
          ],
          "histogram": [
           {
            "marker": {
             "pattern": {
              "fillmode": "overlay",
              "size": 10,
              "solidity": 0.2
             }
            },
            "type": "histogram"
           }
          ],
          "histogram2d": [
           {
            "colorbar": {
             "outlinewidth": 0,
             "ticks": ""
            },
            "colorscale": [
             [
              0,
              "#0d0887"
             ],
             [
              0.1111111111111111,
              "#46039f"
             ],
             [
              0.2222222222222222,
              "#7201a8"
             ],
             [
              0.3333333333333333,
              "#9c179e"
             ],
             [
              0.4444444444444444,
              "#bd3786"
             ],
             [
              0.5555555555555556,
              "#d8576b"
             ],
             [
              0.6666666666666666,
              "#ed7953"
             ],
             [
              0.7777777777777778,
              "#fb9f3a"
             ],
             [
              0.8888888888888888,
              "#fdca26"
             ],
             [
              1,
              "#f0f921"
             ]
            ],
            "type": "histogram2d"
           }
          ],
          "histogram2dcontour": [
           {
            "colorbar": {
             "outlinewidth": 0,
             "ticks": ""
            },
            "colorscale": [
             [
              0,
              "#0d0887"
             ],
             [
              0.1111111111111111,
              "#46039f"
             ],
             [
              0.2222222222222222,
              "#7201a8"
             ],
             [
              0.3333333333333333,
              "#9c179e"
             ],
             [
              0.4444444444444444,
              "#bd3786"
             ],
             [
              0.5555555555555556,
              "#d8576b"
             ],
             [
              0.6666666666666666,
              "#ed7953"
             ],
             [
              0.7777777777777778,
              "#fb9f3a"
             ],
             [
              0.8888888888888888,
              "#fdca26"
             ],
             [
              1,
              "#f0f921"
             ]
            ],
            "type": "histogram2dcontour"
           }
          ],
          "mesh3d": [
           {
            "colorbar": {
             "outlinewidth": 0,
             "ticks": ""
            },
            "type": "mesh3d"
           }
          ],
          "parcoords": [
           {
            "line": {
             "colorbar": {
              "outlinewidth": 0,
              "ticks": ""
             }
            },
            "type": "parcoords"
           }
          ],
          "pie": [
           {
            "automargin": true,
            "type": "pie"
           }
          ],
          "scatter": [
           {
            "fillpattern": {
             "fillmode": "overlay",
             "size": 10,
             "solidity": 0.2
            },
            "type": "scatter"
           }
          ],
          "scatter3d": [
           {
            "line": {
             "colorbar": {
              "outlinewidth": 0,
              "ticks": ""
             }
            },
            "marker": {
             "colorbar": {
              "outlinewidth": 0,
              "ticks": ""
             }
            },
            "type": "scatter3d"
           }
          ],
          "scattercarpet": [
           {
            "marker": {
             "colorbar": {
              "outlinewidth": 0,
              "ticks": ""
             }
            },
            "type": "scattercarpet"
           }
          ],
          "scattergeo": [
           {
            "marker": {
             "colorbar": {
              "outlinewidth": 0,
              "ticks": ""
             }
            },
            "type": "scattergeo"
           }
          ],
          "scattergl": [
           {
            "marker": {
             "colorbar": {
              "outlinewidth": 0,
              "ticks": ""
             }
            },
            "type": "scattergl"
           }
          ],
          "scattermapbox": [
           {
            "marker": {
             "colorbar": {
              "outlinewidth": 0,
              "ticks": ""
             }
            },
            "type": "scattermapbox"
           }
          ],
          "scatterpolar": [
           {
            "marker": {
             "colorbar": {
              "outlinewidth": 0,
              "ticks": ""
             }
            },
            "type": "scatterpolar"
           }
          ],
          "scatterpolargl": [
           {
            "marker": {
             "colorbar": {
              "outlinewidth": 0,
              "ticks": ""
             }
            },
            "type": "scatterpolargl"
           }
          ],
          "scatterternary": [
           {
            "marker": {
             "colorbar": {
              "outlinewidth": 0,
              "ticks": ""
             }
            },
            "type": "scatterternary"
           }
          ],
          "surface": [
           {
            "colorbar": {
             "outlinewidth": 0,
             "ticks": ""
            },
            "colorscale": [
             [
              0,
              "#0d0887"
             ],
             [
              0.1111111111111111,
              "#46039f"
             ],
             [
              0.2222222222222222,
              "#7201a8"
             ],
             [
              0.3333333333333333,
              "#9c179e"
             ],
             [
              0.4444444444444444,
              "#bd3786"
             ],
             [
              0.5555555555555556,
              "#d8576b"
             ],
             [
              0.6666666666666666,
              "#ed7953"
             ],
             [
              0.7777777777777778,
              "#fb9f3a"
             ],
             [
              0.8888888888888888,
              "#fdca26"
             ],
             [
              1,
              "#f0f921"
             ]
            ],
            "type": "surface"
           }
          ],
          "table": [
           {
            "cells": {
             "fill": {
              "color": "#EBF0F8"
             },
             "line": {
              "color": "white"
             }
            },
            "header": {
             "fill": {
              "color": "#C8D4E3"
             },
             "line": {
              "color": "white"
             }
            },
            "type": "table"
           }
          ]
         },
         "layout": {
          "annotationdefaults": {
           "arrowcolor": "#2a3f5f",
           "arrowhead": 0,
           "arrowwidth": 1
          },
          "autotypenumbers": "strict",
          "coloraxis": {
           "colorbar": {
            "outlinewidth": 0,
            "ticks": ""
           }
          },
          "colorscale": {
           "diverging": [
            [
             0,
             "#8e0152"
            ],
            [
             0.1,
             "#c51b7d"
            ],
            [
             0.2,
             "#de77ae"
            ],
            [
             0.3,
             "#f1b6da"
            ],
            [
             0.4,
             "#fde0ef"
            ],
            [
             0.5,
             "#f7f7f7"
            ],
            [
             0.6,
             "#e6f5d0"
            ],
            [
             0.7,
             "#b8e186"
            ],
            [
             0.8,
             "#7fbc41"
            ],
            [
             0.9,
             "#4d9221"
            ],
            [
             1,
             "#276419"
            ]
           ],
           "sequential": [
            [
             0,
             "#0d0887"
            ],
            [
             0.1111111111111111,
             "#46039f"
            ],
            [
             0.2222222222222222,
             "#7201a8"
            ],
            [
             0.3333333333333333,
             "#9c179e"
            ],
            [
             0.4444444444444444,
             "#bd3786"
            ],
            [
             0.5555555555555556,
             "#d8576b"
            ],
            [
             0.6666666666666666,
             "#ed7953"
            ],
            [
             0.7777777777777778,
             "#fb9f3a"
            ],
            [
             0.8888888888888888,
             "#fdca26"
            ],
            [
             1,
             "#f0f921"
            ]
           ],
           "sequentialminus": [
            [
             0,
             "#0d0887"
            ],
            [
             0.1111111111111111,
             "#46039f"
            ],
            [
             0.2222222222222222,
             "#7201a8"
            ],
            [
             0.3333333333333333,
             "#9c179e"
            ],
            [
             0.4444444444444444,
             "#bd3786"
            ],
            [
             0.5555555555555556,
             "#d8576b"
            ],
            [
             0.6666666666666666,
             "#ed7953"
            ],
            [
             0.7777777777777778,
             "#fb9f3a"
            ],
            [
             0.8888888888888888,
             "#fdca26"
            ],
            [
             1,
             "#f0f921"
            ]
           ]
          },
          "colorway": [
           "#636efa",
           "#EF553B",
           "#00cc96",
           "#ab63fa",
           "#FFA15A",
           "#19d3f3",
           "#FF6692",
           "#B6E880",
           "#FF97FF",
           "#FECB52"
          ],
          "font": {
           "color": "#2a3f5f"
          },
          "geo": {
           "bgcolor": "white",
           "lakecolor": "white",
           "landcolor": "#E5ECF6",
           "showlakes": true,
           "showland": true,
           "subunitcolor": "white"
          },
          "hoverlabel": {
           "align": "left"
          },
          "hovermode": "closest",
          "mapbox": {
           "style": "light"
          },
          "paper_bgcolor": "white",
          "plot_bgcolor": "#E5ECF6",
          "polar": {
           "angularaxis": {
            "gridcolor": "white",
            "linecolor": "white",
            "ticks": ""
           },
           "bgcolor": "#E5ECF6",
           "radialaxis": {
            "gridcolor": "white",
            "linecolor": "white",
            "ticks": ""
           }
          },
          "scene": {
           "xaxis": {
            "backgroundcolor": "#E5ECF6",
            "gridcolor": "white",
            "gridwidth": 2,
            "linecolor": "white",
            "showbackground": true,
            "ticks": "",
            "zerolinecolor": "white"
           },
           "yaxis": {
            "backgroundcolor": "#E5ECF6",
            "gridcolor": "white",
            "gridwidth": 2,
            "linecolor": "white",
            "showbackground": true,
            "ticks": "",
            "zerolinecolor": "white"
           },
           "zaxis": {
            "backgroundcolor": "#E5ECF6",
            "gridcolor": "white",
            "gridwidth": 2,
            "linecolor": "white",
            "showbackground": true,
            "ticks": "",
            "zerolinecolor": "white"
           }
          },
          "shapedefaults": {
           "line": {
            "color": "#2a3f5f"
           }
          },
          "ternary": {
           "aaxis": {
            "gridcolor": "white",
            "linecolor": "white",
            "ticks": ""
           },
           "baxis": {
            "gridcolor": "white",
            "linecolor": "white",
            "ticks": ""
           },
           "bgcolor": "#E5ECF6",
           "caxis": {
            "gridcolor": "white",
            "linecolor": "white",
            "ticks": ""
           }
          },
          "title": {
           "x": 0.05
          },
          "xaxis": {
           "automargin": true,
           "gridcolor": "white",
           "linecolor": "white",
           "ticks": "",
           "title": {
            "standoff": 15
           },
           "zerolinecolor": "white",
           "zerolinewidth": 2
          },
          "yaxis": {
           "automargin": true,
           "gridcolor": "white",
           "linecolor": "white",
           "ticks": "",
           "title": {
            "standoff": 15
           },
           "zerolinecolor": "white",
           "zerolinewidth": 2
          }
         }
        },
        "xaxis": {
         "anchor": "y",
         "domain": [
          0,
          0.45
         ],
         "title": {
          "text": "Cluster"
         }
        },
        "xaxis2": {
         "anchor": "y2",
         "domain": [
          0.55,
          1
         ],
         "title": {
          "text": "Cluster"
         }
        },
        "yaxis": {
         "anchor": "x",
         "domain": [
          0,
          1
         ],
         "title": {
          "text": "N. Features"
         }
        },
        "yaxis2": {
         "anchor": "x2",
         "domain": [
          0,
          1
         ],
         "title": {
          "text": "N. Features"
         }
        }
       }
      }
     },
     "metadata": {},
     "output_type": "display_data"
    }
   ],
   "source": [
    "# Number of features per cluster\n",
    "\n",
    "fig = make_subplots(rows=1, cols=2, subplot_titles=['Proteomics', 'Metabolomics'])\n",
    "fig.add_trace(go.Bar(\n",
    "    x=[str(i) for i in range(len(qqcom))],\n",
    "    y=[len(i) for i in qqcom], width=0.1, showlegend=False\n",
    "), row=1, col=1)\n",
    "\n",
    "fig.add_trace(go.Bar(\n",
    "    x=[str(i) for i in range(len(mmcom))],\n",
    "    y=[len(i) for i in mmcom], width=0.2, showlegend=False\n",
    "), row=1, col=2)\n",
    "fig.update_xaxes(title='Cluster')\n",
    "fig.update_yaxes(title='N. Features')\n",
    "\n",
    "fig.show()\n",
    "with open(file, 'a') as f:\n",
    "    f.write(fig.to_html(full_html=False, include_plotlyjs='cdn', default_height='50%', default_width='80%'))"
   ]
  },
  {
   "cell_type": "code",
   "execution_count": 18,
   "metadata": {},
   "outputs": [
    {
     "data": {
      "application/vnd.plotly.v1+json": {
       "config": {
        "plotlyServerURL": "https://plot.ly"
       },
       "data": [
        {
         "showlegend": false,
         "type": "bar",
         "width": 0.1,
         "x": [
          "0",
          "1",
          "2",
          "3",
          "4",
          "5"
         ],
         "xaxis": "x",
         "y": [
          0.30959733862863037,
          0.29774774639196083,
          0.3258840416099606,
          0.28544268540771656,
          0.21664974939056428,
          0.5959736697382139
         ],
         "yaxis": "y"
        },
        {
         "showlegend": false,
         "type": "bar",
         "width": 0.2,
         "x": [
          "0",
          "1",
          "2",
          "3",
          "4",
          "5",
          "6",
          "7",
          "8"
         ],
         "xaxis": "x2",
         "y": [
          0.7772099349386175,
          0.9001228296996768,
          0.8809165306055814,
          0.6395523378037676,
          0.5079675429325654,
          0.8941455149294516,
          0.9399358144616826,
          0.9584483642496258,
          0.9872106713074351
         ],
         "yaxis": "y2"
        }
       ],
       "layout": {
        "annotations": [
         {
          "font": {
           "size": 16
          },
          "showarrow": false,
          "text": "Proteomics",
          "x": 0.225,
          "xanchor": "center",
          "xref": "paper",
          "y": 1,
          "yanchor": "bottom",
          "yref": "paper"
         },
         {
          "font": {
           "size": 16
          },
          "showarrow": false,
          "text": "Metabolomics",
          "x": 0.775,
          "xanchor": "center",
          "xref": "paper",
          "y": 1,
          "yanchor": "bottom",
          "yref": "paper"
         }
        ],
        "template": {
         "data": {
          "bar": [
           {
            "error_x": {
             "color": "#2a3f5f"
            },
            "error_y": {
             "color": "#2a3f5f"
            },
            "marker": {
             "line": {
              "color": "#E5ECF6",
              "width": 0.5
             },
             "pattern": {
              "fillmode": "overlay",
              "size": 10,
              "solidity": 0.2
             }
            },
            "type": "bar"
           }
          ],
          "barpolar": [
           {
            "marker": {
             "line": {
              "color": "#E5ECF6",
              "width": 0.5
             },
             "pattern": {
              "fillmode": "overlay",
              "size": 10,
              "solidity": 0.2
             }
            },
            "type": "barpolar"
           }
          ],
          "carpet": [
           {
            "aaxis": {
             "endlinecolor": "#2a3f5f",
             "gridcolor": "white",
             "linecolor": "white",
             "minorgridcolor": "white",
             "startlinecolor": "#2a3f5f"
            },
            "baxis": {
             "endlinecolor": "#2a3f5f",
             "gridcolor": "white",
             "linecolor": "white",
             "minorgridcolor": "white",
             "startlinecolor": "#2a3f5f"
            },
            "type": "carpet"
           }
          ],
          "choropleth": [
           {
            "colorbar": {
             "outlinewidth": 0,
             "ticks": ""
            },
            "type": "choropleth"
           }
          ],
          "contour": [
           {
            "colorbar": {
             "outlinewidth": 0,
             "ticks": ""
            },
            "colorscale": [
             [
              0,
              "#0d0887"
             ],
             [
              0.1111111111111111,
              "#46039f"
             ],
             [
              0.2222222222222222,
              "#7201a8"
             ],
             [
              0.3333333333333333,
              "#9c179e"
             ],
             [
              0.4444444444444444,
              "#bd3786"
             ],
             [
              0.5555555555555556,
              "#d8576b"
             ],
             [
              0.6666666666666666,
              "#ed7953"
             ],
             [
              0.7777777777777778,
              "#fb9f3a"
             ],
             [
              0.8888888888888888,
              "#fdca26"
             ],
             [
              1,
              "#f0f921"
             ]
            ],
            "type": "contour"
           }
          ],
          "contourcarpet": [
           {
            "colorbar": {
             "outlinewidth": 0,
             "ticks": ""
            },
            "type": "contourcarpet"
           }
          ],
          "heatmap": [
           {
            "colorbar": {
             "outlinewidth": 0,
             "ticks": ""
            },
            "colorscale": [
             [
              0,
              "#0d0887"
             ],
             [
              0.1111111111111111,
              "#46039f"
             ],
             [
              0.2222222222222222,
              "#7201a8"
             ],
             [
              0.3333333333333333,
              "#9c179e"
             ],
             [
              0.4444444444444444,
              "#bd3786"
             ],
             [
              0.5555555555555556,
              "#d8576b"
             ],
             [
              0.6666666666666666,
              "#ed7953"
             ],
             [
              0.7777777777777778,
              "#fb9f3a"
             ],
             [
              0.8888888888888888,
              "#fdca26"
             ],
             [
              1,
              "#f0f921"
             ]
            ],
            "type": "heatmap"
           }
          ],
          "heatmapgl": [
           {
            "colorbar": {
             "outlinewidth": 0,
             "ticks": ""
            },
            "colorscale": [
             [
              0,
              "#0d0887"
             ],
             [
              0.1111111111111111,
              "#46039f"
             ],
             [
              0.2222222222222222,
              "#7201a8"
             ],
             [
              0.3333333333333333,
              "#9c179e"
             ],
             [
              0.4444444444444444,
              "#bd3786"
             ],
             [
              0.5555555555555556,
              "#d8576b"
             ],
             [
              0.6666666666666666,
              "#ed7953"
             ],
             [
              0.7777777777777778,
              "#fb9f3a"
             ],
             [
              0.8888888888888888,
              "#fdca26"
             ],
             [
              1,
              "#f0f921"
             ]
            ],
            "type": "heatmapgl"
           }
          ],
          "histogram": [
           {
            "marker": {
             "pattern": {
              "fillmode": "overlay",
              "size": 10,
              "solidity": 0.2
             }
            },
            "type": "histogram"
           }
          ],
          "histogram2d": [
           {
            "colorbar": {
             "outlinewidth": 0,
             "ticks": ""
            },
            "colorscale": [
             [
              0,
              "#0d0887"
             ],
             [
              0.1111111111111111,
              "#46039f"
             ],
             [
              0.2222222222222222,
              "#7201a8"
             ],
             [
              0.3333333333333333,
              "#9c179e"
             ],
             [
              0.4444444444444444,
              "#bd3786"
             ],
             [
              0.5555555555555556,
              "#d8576b"
             ],
             [
              0.6666666666666666,
              "#ed7953"
             ],
             [
              0.7777777777777778,
              "#fb9f3a"
             ],
             [
              0.8888888888888888,
              "#fdca26"
             ],
             [
              1,
              "#f0f921"
             ]
            ],
            "type": "histogram2d"
           }
          ],
          "histogram2dcontour": [
           {
            "colorbar": {
             "outlinewidth": 0,
             "ticks": ""
            },
            "colorscale": [
             [
              0,
              "#0d0887"
             ],
             [
              0.1111111111111111,
              "#46039f"
             ],
             [
              0.2222222222222222,
              "#7201a8"
             ],
             [
              0.3333333333333333,
              "#9c179e"
             ],
             [
              0.4444444444444444,
              "#bd3786"
             ],
             [
              0.5555555555555556,
              "#d8576b"
             ],
             [
              0.6666666666666666,
              "#ed7953"
             ],
             [
              0.7777777777777778,
              "#fb9f3a"
             ],
             [
              0.8888888888888888,
              "#fdca26"
             ],
             [
              1,
              "#f0f921"
             ]
            ],
            "type": "histogram2dcontour"
           }
          ],
          "mesh3d": [
           {
            "colorbar": {
             "outlinewidth": 0,
             "ticks": ""
            },
            "type": "mesh3d"
           }
          ],
          "parcoords": [
           {
            "line": {
             "colorbar": {
              "outlinewidth": 0,
              "ticks": ""
             }
            },
            "type": "parcoords"
           }
          ],
          "pie": [
           {
            "automargin": true,
            "type": "pie"
           }
          ],
          "scatter": [
           {
            "fillpattern": {
             "fillmode": "overlay",
             "size": 10,
             "solidity": 0.2
            },
            "type": "scatter"
           }
          ],
          "scatter3d": [
           {
            "line": {
             "colorbar": {
              "outlinewidth": 0,
              "ticks": ""
             }
            },
            "marker": {
             "colorbar": {
              "outlinewidth": 0,
              "ticks": ""
             }
            },
            "type": "scatter3d"
           }
          ],
          "scattercarpet": [
           {
            "marker": {
             "colorbar": {
              "outlinewidth": 0,
              "ticks": ""
             }
            },
            "type": "scattercarpet"
           }
          ],
          "scattergeo": [
           {
            "marker": {
             "colorbar": {
              "outlinewidth": 0,
              "ticks": ""
             }
            },
            "type": "scattergeo"
           }
          ],
          "scattergl": [
           {
            "marker": {
             "colorbar": {
              "outlinewidth": 0,
              "ticks": ""
             }
            },
            "type": "scattergl"
           }
          ],
          "scattermapbox": [
           {
            "marker": {
             "colorbar": {
              "outlinewidth": 0,
              "ticks": ""
             }
            },
            "type": "scattermapbox"
           }
          ],
          "scatterpolar": [
           {
            "marker": {
             "colorbar": {
              "outlinewidth": 0,
              "ticks": ""
             }
            },
            "type": "scatterpolar"
           }
          ],
          "scatterpolargl": [
           {
            "marker": {
             "colorbar": {
              "outlinewidth": 0,
              "ticks": ""
             }
            },
            "type": "scatterpolargl"
           }
          ],
          "scatterternary": [
           {
            "marker": {
             "colorbar": {
              "outlinewidth": 0,
              "ticks": ""
             }
            },
            "type": "scatterternary"
           }
          ],
          "surface": [
           {
            "colorbar": {
             "outlinewidth": 0,
             "ticks": ""
            },
            "colorscale": [
             [
              0,
              "#0d0887"
             ],
             [
              0.1111111111111111,
              "#46039f"
             ],
             [
              0.2222222222222222,
              "#7201a8"
             ],
             [
              0.3333333333333333,
              "#9c179e"
             ],
             [
              0.4444444444444444,
              "#bd3786"
             ],
             [
              0.5555555555555556,
              "#d8576b"
             ],
             [
              0.6666666666666666,
              "#ed7953"
             ],
             [
              0.7777777777777778,
              "#fb9f3a"
             ],
             [
              0.8888888888888888,
              "#fdca26"
             ],
             [
              1,
              "#f0f921"
             ]
            ],
            "type": "surface"
           }
          ],
          "table": [
           {
            "cells": {
             "fill": {
              "color": "#EBF0F8"
             },
             "line": {
              "color": "white"
             }
            },
            "header": {
             "fill": {
              "color": "#C8D4E3"
             },
             "line": {
              "color": "white"
             }
            },
            "type": "table"
           }
          ]
         },
         "layout": {
          "annotationdefaults": {
           "arrowcolor": "#2a3f5f",
           "arrowhead": 0,
           "arrowwidth": 1
          },
          "autotypenumbers": "strict",
          "coloraxis": {
           "colorbar": {
            "outlinewidth": 0,
            "ticks": ""
           }
          },
          "colorscale": {
           "diverging": [
            [
             0,
             "#8e0152"
            ],
            [
             0.1,
             "#c51b7d"
            ],
            [
             0.2,
             "#de77ae"
            ],
            [
             0.3,
             "#f1b6da"
            ],
            [
             0.4,
             "#fde0ef"
            ],
            [
             0.5,
             "#f7f7f7"
            ],
            [
             0.6,
             "#e6f5d0"
            ],
            [
             0.7,
             "#b8e186"
            ],
            [
             0.8,
             "#7fbc41"
            ],
            [
             0.9,
             "#4d9221"
            ],
            [
             1,
             "#276419"
            ]
           ],
           "sequential": [
            [
             0,
             "#0d0887"
            ],
            [
             0.1111111111111111,
             "#46039f"
            ],
            [
             0.2222222222222222,
             "#7201a8"
            ],
            [
             0.3333333333333333,
             "#9c179e"
            ],
            [
             0.4444444444444444,
             "#bd3786"
            ],
            [
             0.5555555555555556,
             "#d8576b"
            ],
            [
             0.6666666666666666,
             "#ed7953"
            ],
            [
             0.7777777777777778,
             "#fb9f3a"
            ],
            [
             0.8888888888888888,
             "#fdca26"
            ],
            [
             1,
             "#f0f921"
            ]
           ],
           "sequentialminus": [
            [
             0,
             "#0d0887"
            ],
            [
             0.1111111111111111,
             "#46039f"
            ],
            [
             0.2222222222222222,
             "#7201a8"
            ],
            [
             0.3333333333333333,
             "#9c179e"
            ],
            [
             0.4444444444444444,
             "#bd3786"
            ],
            [
             0.5555555555555556,
             "#d8576b"
            ],
            [
             0.6666666666666666,
             "#ed7953"
            ],
            [
             0.7777777777777778,
             "#fb9f3a"
            ],
            [
             0.8888888888888888,
             "#fdca26"
            ],
            [
             1,
             "#f0f921"
            ]
           ]
          },
          "colorway": [
           "#636efa",
           "#EF553B",
           "#00cc96",
           "#ab63fa",
           "#FFA15A",
           "#19d3f3",
           "#FF6692",
           "#B6E880",
           "#FF97FF",
           "#FECB52"
          ],
          "font": {
           "color": "#2a3f5f"
          },
          "geo": {
           "bgcolor": "white",
           "lakecolor": "white",
           "landcolor": "#E5ECF6",
           "showlakes": true,
           "showland": true,
           "subunitcolor": "white"
          },
          "hoverlabel": {
           "align": "left"
          },
          "hovermode": "closest",
          "mapbox": {
           "style": "light"
          },
          "paper_bgcolor": "white",
          "plot_bgcolor": "#E5ECF6",
          "polar": {
           "angularaxis": {
            "gridcolor": "white",
            "linecolor": "white",
            "ticks": ""
           },
           "bgcolor": "#E5ECF6",
           "radialaxis": {
            "gridcolor": "white",
            "linecolor": "white",
            "ticks": ""
           }
          },
          "scene": {
           "xaxis": {
            "backgroundcolor": "#E5ECF6",
            "gridcolor": "white",
            "gridwidth": 2,
            "linecolor": "white",
            "showbackground": true,
            "ticks": "",
            "zerolinecolor": "white"
           },
           "yaxis": {
            "backgroundcolor": "#E5ECF6",
            "gridcolor": "white",
            "gridwidth": 2,
            "linecolor": "white",
            "showbackground": true,
            "ticks": "",
            "zerolinecolor": "white"
           },
           "zaxis": {
            "backgroundcolor": "#E5ECF6",
            "gridcolor": "white",
            "gridwidth": 2,
            "linecolor": "white",
            "showbackground": true,
            "ticks": "",
            "zerolinecolor": "white"
           }
          },
          "shapedefaults": {
           "line": {
            "color": "#2a3f5f"
           }
          },
          "ternary": {
           "aaxis": {
            "gridcolor": "white",
            "linecolor": "white",
            "ticks": ""
           },
           "baxis": {
            "gridcolor": "white",
            "linecolor": "white",
            "ticks": ""
           },
           "bgcolor": "#E5ECF6",
           "caxis": {
            "gridcolor": "white",
            "linecolor": "white",
            "ticks": ""
           }
          },
          "title": {
           "x": 0.05
          },
          "xaxis": {
           "automargin": true,
           "gridcolor": "white",
           "linecolor": "white",
           "ticks": "",
           "title": {
            "standoff": 15
           },
           "zerolinecolor": "white",
           "zerolinewidth": 2
          },
          "yaxis": {
           "automargin": true,
           "gridcolor": "white",
           "linecolor": "white",
           "ticks": "",
           "title": {
            "standoff": 15
           },
           "zerolinecolor": "white",
           "zerolinewidth": 2
          }
         }
        },
        "title": {
         "text": "Ratio of Explained Variance in the 1st PC"
        },
        "xaxis": {
         "anchor": "y",
         "domain": [
          0,
          0.45
         ],
         "title": {
          "text": "Cluster"
         }
        },
        "xaxis2": {
         "anchor": "y2",
         "domain": [
          0.55,
          1
         ],
         "title": {
          "text": "Cluster"
         }
        },
        "yaxis": {
         "anchor": "x",
         "domain": [
          0,
          1
         ],
         "range": [
          0,
          1
         ]
        },
        "yaxis2": {
         "anchor": "x2",
         "domain": [
          0,
          1
         ],
         "range": [
          0,
          1
         ]
        }
       }
      }
     },
     "metadata": {},
     "output_type": "display_data"
    }
   ],
   "source": [
    "from sklearn.decomposition import PCA\n",
    "\n",
    "qqcomPCA = [PCA(n_components=1).fit(xq[com]) for com in qqcom]\n",
    "mmcomPCA = [PCA(n_components=1).fit(xm[com]) for com in mmcom]\n",
    "\n",
    "fig = make_subplots(rows=1, cols=2, subplot_titles=['Proteomics', 'Metabolomics'])\n",
    "fig.add_trace(go.Bar(\n",
    "    x=[str(i) for i in range(len(qqcom))],\n",
    "    y=[qqcomPCA[i].explained_variance_ratio_[0] for i in range(len(qqcom))], \n",
    "    width=0.1, showlegend=False\n",
    "), row=1, col=1)\n",
    "\n",
    "fig.add_trace(go.Bar(\n",
    "    x=[str(i) for i in range(len(mmcom))],\n",
    "    y=[mmcomPCA[i].explained_variance_ratio_[0] for i in range(len(mmcom))], \n",
    "    width=0.2, showlegend=False\n",
    "), row=1, col=2)\n",
    "\n",
    "fig.update_yaxes(range=(0,1))\n",
    "fig.update_xaxes(title='Cluster')\n",
    "fig.update_layout(title='Ratio of Explained Variance in the 1st PC')"
   ]
  },
  {
   "cell_type": "code",
   "execution_count": 19,
   "metadata": {},
   "outputs": [],
   "source": [
    "qqcomE = pd.DataFrame(\n",
    "    np.array([PCA(n_components=1).fit_transform(xq[com])[:,0] for com in qqcom]).T,\n",
    "    index=xq.index\n",
    ")\n",
    "\n",
    "mmcomE = pd.DataFrame(\n",
    "    np.array([PCA(n_components=1).fit_transform(xm[com])[:,0] for com in mmcom]).T,\n",
    "    index=xm.index\n",
    ")"
   ]
  },
  {
   "attachments": {},
   "cell_type": "markdown",
   "metadata": {},
   "source": [
    "PESA & AWHS Proteins"
   ]
  },
  {
   "cell_type": "code",
   "execution_count": 83,
   "metadata": {},
   "outputs": [],
   "source": [
    "import socket\n",
    "import json\n",
    "\n",
    "s = socket.socket(socket.AF_INET, socket.SOCK_STREAM)\n",
    "s.bind((\"127.0.0.1\", 8080))\n",
    "s.listen(5)\n",
    "conn, addr = s.accept()\n",
    "data = conn.recv(3000)\n",
    "json_data = data.decode()\n",
    "xqqcom = json.loads(json_data)"
   ]
  },
  {
   "cell_type": "code",
   "execution_count": 183,
   "metadata": {},
   "outputs": [
    {
     "data": {
      "text/html": [
       "<div>\n",
       "<style scoped>\n",
       "    .dataframe tbody tr th:only-of-type {\n",
       "        vertical-align: middle;\n",
       "    }\n",
       "\n",
       "    .dataframe tbody tr th {\n",
       "        vertical-align: top;\n",
       "    }\n",
       "\n",
       "    .dataframe thead th {\n",
       "        text-align: right;\n",
       "    }\n",
       "</style>\n",
       "<table border=\"1\" class=\"dataframe\">\n",
       "  <thead>\n",
       "    <tr style=\"text-align: right;\">\n",
       "      <th></th>\n",
       "      <th>0</th>\n",
       "      <th>1</th>\n",
       "      <th>2</th>\n",
       "      <th>3</th>\n",
       "      <th>4</th>\n",
       "    </tr>\n",
       "  </thead>\n",
       "  <tbody>\n",
       "    <tr>\n",
       "      <th>0</th>\n",
       "      <td>5</td>\n",
       "      <td>6</td>\n",
       "      <td>4</td>\n",
       "      <td>1</td>\n",
       "      <td>2</td>\n",
       "    </tr>\n",
       "    <tr>\n",
       "      <th>1</th>\n",
       "      <td>5</td>\n",
       "      <td>1</td>\n",
       "      <td>3</td>\n",
       "      <td>3</td>\n",
       "      <td>0</td>\n",
       "    </tr>\n",
       "    <tr>\n",
       "      <th>2</th>\n",
       "      <td>5</td>\n",
       "      <td>5</td>\n",
       "      <td>6</td>\n",
       "      <td>10</td>\n",
       "      <td>0</td>\n",
       "    </tr>\n",
       "    <tr>\n",
       "      <th>3</th>\n",
       "      <td>1</td>\n",
       "      <td>12</td>\n",
       "      <td>0</td>\n",
       "      <td>4</td>\n",
       "      <td>0</td>\n",
       "    </tr>\n",
       "    <tr>\n",
       "      <th>4</th>\n",
       "      <td>8</td>\n",
       "      <td>0</td>\n",
       "      <td>8</td>\n",
       "      <td>1</td>\n",
       "      <td>0</td>\n",
       "    </tr>\n",
       "    <tr>\n",
       "      <th>5</th>\n",
       "      <td>1</td>\n",
       "      <td>0</td>\n",
       "      <td>0</td>\n",
       "      <td>0</td>\n",
       "      <td>3</td>\n",
       "    </tr>\n",
       "  </tbody>\n",
       "</table>\n",
       "</div>"
      ],
      "text/plain": [
       "   0   1  2   3  4\n",
       "0  5   6  4   1  2\n",
       "1  5   1  3   3  0\n",
       "2  5   5  6  10  0\n",
       "3  1  12  0   4  0\n",
       "4  8   0  8   1  0\n",
       "5  1   0  0   0  3"
      ]
     },
     "execution_count": 183,
     "metadata": {},
     "output_type": "execute_result"
    }
   ],
   "source": [
    "pd.DataFrame([[np.intersect1d(i,j).shape[0]/np.union1d(i,j).shape[0] for j in xqqcom] for i in qqcom])\n",
    "tmp = {(ni,nj): np.intersect1d(i,j).tolist() for ni,i in enumerate(qqcom) for nj,j in enumerate(xqqcom)}\n",
    "pd.DataFrame([[np.intersect1d(i,j).shape[0] for j in xqqcom] for i in qqcom])"
   ]
  },
  {
   "cell_type": "code",
   "execution_count": 184,
   "metadata": {},
   "outputs": [],
   "source": [
    "k = pd.DataFrame([], columns=['qdesc', 'Np', 'PESA', 'AWHS'])\n",
    "for ni, i in enumerate(qqcom):\n",
    "    for nj, j in enumerate(xqqcom):\n",
    "        ki = q2i.loc[tmp[(ni,nj)]]\n",
    "        ki['AWHS'], ki['PESA'] = ni, nj\n",
    "        k  =pd.concat([k,ki])\n",
    "        #ki['PESA'] = ni\n",
    "k.to_excel('Tables/PESA_AWHS.xlsx')"
   ]
  },
  {
   "cell_type": "code",
   "execution_count": 43,
   "metadata": {},
   "outputs": [],
   "source": [
    "#\n",
    "# Venn Diagram with enrichment results\n",
    "#\n",
    "\n",
    "pesaqq0 = pd.read_excel(\n",
    "    r\"S:\\U_Proteomica\\UNIDAD\\software\\MacrosRafa\\data\\Metabolomics\\PESA_Integromics\\Data\\Analysis\\03-Network\\PESA\\Clusters\\qq_allClusters.xlsx\",\n",
    "    sheet_name='qq_0_string'\n",
    "    )\n",
    "\n",
    "pesaqq2 = pd.read_excel(\n",
    "    r\"S:\\U_Proteomica\\UNIDAD\\software\\MacrosRafa\\data\\Metabolomics\\PESA_Integromics\\Data\\Analysis\\03-Network\\PESA\\Clusters\\qq_allClusters.xlsx\",\n",
    "    sheet_name='qq_2_string'\n",
    "    )\n",
    "\n",
    "awhsqq0 = pd.read_excel(\n",
    "    r\"S:\\U_Proteomica\\UNIDAD\\software\\MacrosRafa\\data\\Metabolomics\\PESA_Integromics\\Data\\Analysis\\03-Network\\AWHS\\Clusters\\qq_allClusters_AWHS.xlsx\",\n",
    "    sheet_name='qq_0_string'\n",
    "    )\n",
    "\n",
    "awhsqq4 = pd.read_excel(\n",
    "    r\"S:\\U_Proteomica\\UNIDAD\\software\\MacrosRafa\\data\\Metabolomics\\PESA_Integromics\\Data\\Analysis\\03-Network\\AWHS\\Clusters\\qq_allClusters_AWHS.xlsx\",\n",
    "    sheet_name='qq_4_string'\n",
    "    )"
   ]
  },
  {
   "cell_type": "code",
   "execution_count": 59,
   "metadata": {},
   "outputs": [
    {
     "data": {
      "image/png": "[encoded data removed]",
      "text/plain": [
       "<Figure size 432x288 with 1 Axes>"
      ]
     },
     "metadata": {},
     "output_type": "display_data"
    }
   ],
   "source": [
    "pesaD = np.union1d(pesaqq0.description,pesaqq2.description)\n",
    "awhsD = np.union1d(awhsqq0.description,awhsqq4.description)\n",
    "\n",
    "paD = np.intersect1d(pesaD, awhsD)\n",
    "\n",
    "# library\n",
    "import matplotlib.pyplot as plt\n",
    "from matplotlib_venn import venn2\n",
    "\n",
    "# Use the venn2 function\n",
    "venn2(subsets = (pesaD.shape[0]-paD.shape[0], awhsD.shape[0]-paD.shape[0], paD.shape[0]), set_labels = ('PESA', 'AWHS'))\n",
    "plt.show()"
   ]
  },
  {
   "cell_type": "code",
   "execution_count": 62,
   "metadata": {},
   "outputs": [
    {
     "data": {
      "text/plain": [
       "array(['Activation of immune response', 'Acute inflammatory response',\n",
       "       'Biological regulation', 'Blood coagulation',\n",
       "       'Blood coagulation, fibrin clot formation',\n",
       "       'Blood coagulation, intrinsic pathway', 'Cell killing',\n",
       "       'Cholesterol homeostasis', 'Cholesterol metabolic process',\n",
       "       'Cholesterol metabolism', 'Cholesterol transport', 'Chylomicron',\n",
       "       'Chylomicron assembly', 'Chylomicron remodeling', 'Cytolysis',\n",
       "       'Cytolysis by host of symbiont cells', 'Extracellular region',\n",
       "       'Extracellular vesicle', 'Fibrinogen complex', 'Fibrinolysis',\n",
       "       'Glycerolipid metabolic process',\n",
       "       'High-density lipoprotein particle remodeling',\n",
       "       'Interaction with symbiont', 'Killing of cells of other organism',\n",
       "       'Lipid transport', 'Lipoprotein biosynthetic process',\n",
       "       'Lipoprotein metabolic process', 'Localization',\n",
       "       'Low-density lipoprotein particle remodeling',\n",
       "       'Membrane attack complex', 'Membrane-bounded organelle',\n",
       "       'Metabolic process', 'Negative regulation of biological process',\n",
       "       'Negative regulation of blood coagulation',\n",
       "       'Negative regulation of cellular metabolic process',\n",
       "       'Negative regulation of cellular process',\n",
       "       'Negative regulation of complement activation',\n",
       "       'Negative regulation of fibrinolysis',\n",
       "       'Negative regulation of hemostasis',\n",
       "       'Negative regulation of immune effector process',\n",
       "       'Negative regulation of immune response',\n",
       "       'Negative regulation of macromolecule metabolic process',\n",
       "       'Negative regulation of metabolic process',\n",
       "       'Negative regulation of nitrogen compound metabolic process',\n",
       "       'Negative regulation of proteolysis',\n",
       "       'Negative regulation of response to external stimulus',\n",
       "       'Negative regulation of response to stimulus',\n",
       "       'Negative regulation of wound healing', 'Opsonization',\n",
       "       'Organic substance metabolic process',\n",
       "       'Organonitrogen compound metabolic process', 'Pertussis',\n",
       "       'Phosphatidylcholine biosynthetic process',\n",
       "       'Phosphatidylcholine metabolic process',\n",
       "       'Plasma lipoprotein particle',\n",
       "       'Plasma lipoprotein particle remodeling', 'Plasminogen activation',\n",
       "       'Platelet alpha granule', 'Platelet dense granule lumen',\n",
       "       'Positive regulation of biological process',\n",
       "       'Positive regulation of cholesterol esterification',\n",
       "       'Positive regulation of fibrinolysis',\n",
       "       'Positive regulation of immune response',\n",
       "       'Positive regulation of phagocytosis',\n",
       "       'Positive regulation of response to stimulus',\n",
       "       'Positive regulation of vasoconstriction',\n",
       "       'Post-translational protein modification',\n",
       "       'Protein metabolic process', 'Protein processing', 'Proteolysis',\n",
       "       'Regulation of biological process',\n",
       "       'Regulation of biological quality',\n",
       "       'Regulation of blood coagulation',\n",
       "       'Regulation of blood vessel diameter',\n",
       "       'Regulation of body fluid levels',\n",
       "       'Regulation of cellular protein metabolic process',\n",
       "       'Regulation of cholesterol transport',\n",
       "       'Regulation of complement activation', 'Regulation of hemostasis',\n",
       "       'Regulation of humoral immune response',\n",
       "       'Regulation of hydrolase activity',\n",
       "       'Regulation of immune effector process',\n",
       "       'Regulation of immune response',\n",
       "       'Regulation of immune system process',\n",
       "       'Regulation of lipid localization',\n",
       "       'Regulation of lipid transport', 'Regulation of phagocytosis',\n",
       "       'Regulation of plasminogen activation',\n",
       "       'Regulation of protein metabolic process',\n",
       "       'Regulation of response to external stimulus',\n",
       "       'Regulation of response to stimulus',\n",
       "       'Regulation of steroid metabolic process', 'Response to stimulus',\n",
       "       'Response to wounding', 'Reverse cholesterol transport',\n",
       "       'Secretion', 'Spherical high-density lipoprotein particle',\n",
       "       'Staphylococcus aureus infection', 'Steroid metabolic process',\n",
       "       'Systemic lupus erythematosus', 'Transport',\n",
       "       'Triglyceride-rich lipoprotein particle remodeling',\n",
       "       'Very-low-density lipoprotein particle',\n",
       "       'Very-low-density lipoprotein particle remodeling', 'Vesicle',\n",
       "       'Vesicle lumen', 'Vesicle-mediated transport',\n",
       "       'Vitamin digestion and absorption', 'Wound healing',\n",
       "       'Zymogen activation'], dtype=object)"
      ]
     },
     "execution_count": 62,
     "metadata": {},
     "output_type": "execute_result"
    }
   ],
   "source": [
    "np.setdiff1d(pesaD, paD)\n",
    "# paD"
   ]
  },
  {
   "attachments": {},
   "cell_type": "markdown",
   "metadata": {},
   "source": [
    "Module Eigenvector"
   ]
  },
  {
   "cell_type": "code",
   "execution_count": 20,
   "metadata": {},
   "outputs": [],
   "source": [
    "from PCA_UMAP import PCA_Var\n",
    "\n",
    "catVars = ['Group', 'smoker', 'diabetes']\n",
    "conVars = ['Plaque thickness', 'Glucosa', 'hdl', 'coltot', 'FHS10y']\n",
    "\n",
    "qqCP = pd.concat([\n",
    "    PCA_Var(xq[com], mdata, conVars, catVars+['Cohort'], n_comp=1)\n",
    "    for com in qqcom\n",
    "]).reset_index(drop=True).T\n",
    "\n",
    "mmCP = pd.concat([\n",
    "    PCA_Var(xm[com], mdata, conVars, catVars+['Cohort'], n_comp=2).loc[[1]]\n",
    "    for com in mmcom\n",
    "]).reset_index(drop=True).T\n",
    "\n",
    "\n",
    "# Apply FDR B-H correction\n",
    "\n",
    "from statsmodels.stats.multitest import multipletests\n",
    "\n",
    "qqCPF = qqCP.iloc[1:, :].copy().T\n",
    "for i in qqCPF.columns:\n",
    "    qqCPF[i] = multipletests(qqCPF.loc[:,i], method='fdr_bh')[1]\n",
    "\n",
    "mmCPF = mmCP.iloc[1:, :].copy().T\n",
    "for i in mmCPF.columns:\n",
    "    mmCPF[i] = multipletests(mmCPF.loc[:,i], method='fdr_bh')[1]"
   ]
  },
  {
   "cell_type": "code",
   "execution_count": 64,
   "metadata": {},
   "outputs": [
    {
     "data": {
      "text/html": [
       "<div>\n",
       "<style scoped>\n",
       "    .dataframe tbody tr th:only-of-type {\n",
       "        vertical-align: middle;\n",
       "    }\n",
       "\n",
       "    .dataframe tbody tr th {\n",
       "        vertical-align: top;\n",
       "    }\n",
       "\n",
       "    .dataframe thead th {\n",
       "        text-align: right;\n",
       "    }\n",
       "</style>\n",
       "<table border=\"1\" class=\"dataframe\">\n",
       "  <thead>\n",
       "    <tr style=\"text-align: right;\">\n",
       "      <th></th>\n",
       "      <th>0</th>\n",
       "      <th>1</th>\n",
       "      <th>2</th>\n",
       "      <th>3</th>\n",
       "      <th>4</th>\n",
       "      <th>5</th>\n",
       "      <th>6</th>\n",
       "      <th>7</th>\n",
       "      <th>8</th>\n",
       "    </tr>\n",
       "  </thead>\n",
       "  <tbody>\n",
       "    <tr>\n",
       "      <th>Plaque thickness</th>\n",
       "      <td>9.950253e-01</td>\n",
       "      <td>9.950253e-01</td>\n",
       "      <td>9.950253e-01</td>\n",
       "      <td>9.950253e-01</td>\n",
       "      <td>9.950253e-01</td>\n",
       "      <td>9.950253e-01</td>\n",
       "      <td>0.995025</td>\n",
       "      <td>0.995025</td>\n",
       "      <td>0.995025</td>\n",
       "    </tr>\n",
       "    <tr>\n",
       "      <th>Glucosa</th>\n",
       "      <td>1.563111e-01</td>\n",
       "      <td>1.964488e-01</td>\n",
       "      <td>2.633993e-01</td>\n",
       "      <td>2.224932e-01</td>\n",
       "      <td>4.219165e-01</td>\n",
       "      <td>8.890974e-02</td>\n",
       "      <td>0.733782</td>\n",
       "      <td>0.421917</td>\n",
       "      <td>0.470188</td>\n",
       "    </tr>\n",
       "    <tr>\n",
       "      <th>hdl</th>\n",
       "      <td>1.076156e-08</td>\n",
       "      <td>8.039026e-24</td>\n",
       "      <td>4.750891e-20</td>\n",
       "      <td>1.509549e-04</td>\n",
       "      <td>3.897592e-01</td>\n",
       "      <td>8.146067e-08</td>\n",
       "      <td>0.010866</td>\n",
       "      <td>0.000021</td>\n",
       "      <td>0.050150</td>\n",
       "    </tr>\n",
       "    <tr>\n",
       "      <th>coltot</th>\n",
       "      <td>8.316264e-05</td>\n",
       "      <td>9.382843e-05</td>\n",
       "      <td>2.316705e-04</td>\n",
       "      <td>1.063691e-08</td>\n",
       "      <td>1.001757e-11</td>\n",
       "      <td>2.985908e-04</td>\n",
       "      <td>0.121439</td>\n",
       "      <td>0.155629</td>\n",
       "      <td>0.455157</td>\n",
       "    </tr>\n",
       "    <tr>\n",
       "      <th>FHS10y</th>\n",
       "      <td>2.448598e-10</td>\n",
       "      <td>7.089764e-15</td>\n",
       "      <td>1.552335e-11</td>\n",
       "      <td>1.886214e-08</td>\n",
       "      <td>1.811202e-05</td>\n",
       "      <td>2.750652e-05</td>\n",
       "      <td>0.021411</td>\n",
       "      <td>0.007082</td>\n",
       "      <td>0.017350</td>\n",
       "    </tr>\n",
       "    <tr>\n",
       "      <th>Group</th>\n",
       "      <td>3.656875e-01</td>\n",
       "      <td>2.252228e-01</td>\n",
       "      <td>2.252228e-01</td>\n",
       "      <td>3.040666e-01</td>\n",
       "      <td>4.435619e-01</td>\n",
       "      <td>2.252228e-01</td>\n",
       "      <td>0.443562</td>\n",
       "      <td>0.443562</td>\n",
       "      <td>0.710467</td>\n",
       "    </tr>\n",
       "    <tr>\n",
       "      <th>smoker</th>\n",
       "      <td>7.586931e-01</td>\n",
       "      <td>6.203590e-01</td>\n",
       "      <td>7.586931e-01</td>\n",
       "      <td>6.209476e-01</td>\n",
       "      <td>6.442844e-01</td>\n",
       "      <td>6.209476e-01</td>\n",
       "      <td>0.620359</td>\n",
       "      <td>0.758693</td>\n",
       "      <td>0.623611</td>\n",
       "    </tr>\n",
       "    <tr>\n",
       "      <th>diabetes</th>\n",
       "      <td>4.100476e-01</td>\n",
       "      <td>4.100476e-01</td>\n",
       "      <td>5.714105e-01</td>\n",
       "      <td>5.714105e-01</td>\n",
       "      <td>8.886504e-01</td>\n",
       "      <td>5.390247e-01</td>\n",
       "      <td>0.888650</td>\n",
       "      <td>0.571410</td>\n",
       "      <td>0.571410</td>\n",
       "    </tr>\n",
       "    <tr>\n",
       "      <th>Cohort</th>\n",
       "      <td>9.883761e-01</td>\n",
       "      <td>9.883761e-01</td>\n",
       "      <td>9.883761e-01</td>\n",
       "      <td>9.883761e-01</td>\n",
       "      <td>9.883761e-01</td>\n",
       "      <td>9.883761e-01</td>\n",
       "      <td>0.988376</td>\n",
       "      <td>0.988376</td>\n",
       "      <td>0.988376</td>\n",
       "    </tr>\n",
       "  </tbody>\n",
       "</table>\n",
       "</div>"
      ],
      "text/plain": [
       "                             0             1             2             3  \\\n",
       "Plaque thickness  9.950253e-01  9.950253e-01  9.950253e-01  9.950253e-01   \n",
       "Glucosa           1.563111e-01  1.964488e-01  2.633993e-01  2.224932e-01   \n",
       "hdl               1.076156e-08  8.039026e-24  4.750891e-20  1.509549e-04   \n",
       "coltot            8.316264e-05  9.382843e-05  2.316705e-04  1.063691e-08   \n",
       "FHS10y            2.448598e-10  7.089764e-15  1.552335e-11  1.886214e-08   \n",
       "Group             3.656875e-01  2.252228e-01  2.252228e-01  3.040666e-01   \n",
       "smoker            7.586931e-01  6.203590e-01  7.586931e-01  6.209476e-01   \n",
       "diabetes          4.100476e-01  4.100476e-01  5.714105e-01  5.714105e-01   \n",
       "Cohort            9.883761e-01  9.883761e-01  9.883761e-01  9.883761e-01   \n",
       "\n",
       "                             4             5         6         7         8  \n",
       "Plaque thickness  9.950253e-01  9.950253e-01  0.995025  0.995025  0.995025  \n",
       "Glucosa           4.219165e-01  8.890974e-02  0.733782  0.421917  0.470188  \n",
       "hdl               3.897592e-01  8.146067e-08  0.010866  0.000021  0.050150  \n",
       "coltot            1.001757e-11  2.985908e-04  0.121439  0.155629  0.455157  \n",
       "FHS10y            1.811202e-05  2.750652e-05  0.021411  0.007082  0.017350  \n",
       "Group             4.435619e-01  2.252228e-01  0.443562  0.443562  0.710467  \n",
       "smoker            6.442844e-01  6.209476e-01  0.620359  0.758693  0.623611  \n",
       "diabetes          8.886504e-01  5.390247e-01  0.888650  0.571410  0.571410  \n",
       "Cohort            9.883761e-01  9.883761e-01  0.988376  0.988376  0.988376  "
      ]
     },
     "execution_count": 64,
     "metadata": {},
     "output_type": "execute_result"
    }
   ],
   "source": [
    "mmCPF.T\n",
    "# qqCPF.T"
   ]
  },
  {
   "cell_type": "code",
   "execution_count": 33,
   "metadata": {},
   "outputs": [
    {
     "data": {
      "application/vnd.plotly.v1+json": {
       "config": {
        "plotlyServerURL": "https://plot.ly"
       },
       "data": [
        {
         "box": {
          "visible": false
         },
         "legendgroup": "C",
         "line": {
          "color": "#636EFA"
         },
         "meanline": {
          "visible": true
         },
         "name": "C",
         "scalegroup": "C",
         "side": "negative",
         "type": "violin",
         "x": [
          0,
          1,
          2,
          3,
          4,
          5,
          0,
          1,
          2,
          3,
          4,
          5,
          0,
          1,
          2,
          3,
          4,
          5,
          0,
          1,
          2,
          3,
          4,
          5,
          0,
          1,
          2,
          3,
          4,
          5,
          0,
          1,
          2,
          3,
          4,
          5,
          0,
          1,
          2,
          3,
          4,
          5,
          0,
          1,
          2,
          3,
          4,
          5,
          0,
          1,
          2,
          3,
          4,
          5,
          0,
          1,
          2,
          3,
          4,
          5,
          0,
          1,
          2,
          3,
          4,
          5,
          0,
          1,
          2,
          3,
          4,
          5,
          0,
          1,
          2,
          3,
          4,
          5,
          0,
          1,
          2,
          3,
          4,
          5,
          0,
          1,
          2,
          3,
          4,
          5,
          0,
          1,
          2,
          3,
          4,
          5,
          0,
          1,
          2,
          3,
          4,
          5,
          0,
          1,
          2,
          3,
          4,
          5,
          0,
          1,
          2,
          3,
          4,
          5,
          0,
          1,
          2,
          3,
          4,
          5,
          0,
          1,
          2,
          3,
          4,
          5,
          0,
          1,
          2,
          3,
          4,
          5,
          0,
          1,
          2,
          3,
          4,
          5,
          0,
          1,
          2,
          3,
          4,
          5,
          0,
          1,
          2,
          3,
          4,
          5,
          0,
          1,
          2,
          3,
          4,
          5,
          0,
          1,
          2,
          3,
          4,
          5,
          0,
          1,
          2,
          3,
          4,
          5,
          0,
          1,
          2,
          3,
          4,
          5,
          0,
          1,
          2,
          3,
          4,
          5,
          0,
          1,
          2,
          3,
          4,
          5,
          0,
          1,
          2,
          3,
          4,
          5,
          0,
          1,
          2,
          3,
          4,
          5,
          0,
          1,
          2,
          3,
          4,
          5,
          0,
          1,
          2,
          3,
          4,
          5,
          0,
          1,
          2,
          3,
          4,
          5,
          0,
          1,
          2,
          3,
          4,
          5,
          0,
          1,
          2,
          3,
          4,
          5,
          0,
          1,
          2,
          3,
          4,
          5,
          0,
          1,
          2,
          3,
          4,
          5,
          0,
          1,
          2,
          3,
          4,
          5,
          0,
          1,
          2,
          3,
          4,
          5,
          0,
          1,
          2,
          3,
          4,
          5,
          0,
          1,
          2,
          3,
          4,
          5,
          0,
          1,
          2,
          3,
          4,
          5,
          0,
          1,
          2,
          3,
          4,
          5,
          0,
          1,
          2,
          3,
          4,
          5,
          0,
          1,
          2,
          3,
          4,
          5,
          0,
          1,
          2,
          3,
          4,
          5,
          0,
          1,
          2,
          3,
          4,
          5,
          0,
          1,
          2,
          3,
          4,
          5,
          0,
          1,
          2,
          3,
          4,
          5,
          0,
          1,
          2,
          3,
          4,
          5,
          0,
          1,
          2,
          3,
          4,
          5,
          0,
          1,
          2,
          3,
          4,
          5,
          0,
          1,
          2,
          3,
          4,
          5,
          0,
          1,
          2,
          3,
          4,
          5,
          0,
          1,
          2,
          3,
          4,
          5,
          0,
          1,
          2,
          3,
          4,
          5,
          0,
          1,
          2,
          3,
          4,
          5,
          0,
          1,
          2,
          3,
          4,
          5,
          0,
          1,
          2,
          3,
          4,
          5,
          0,
          1,
          2,
          3,
          4,
          5,
          0,
          1,
          2,
          3,
          4,
          5,
          0,
          1,
          2,
          3,
          4,
          5,
          0,
          1,
          2,
          3,
          4,
          5,
          0,
          1,
          2,
          3,
          4,
          5,
          0,
          1,
          2,
          3,
          4,
          5,
          0,
          1,
          2,
          3,
          4,
          5,
          0,
          1,
          2,
          3,
          4,
          5,
          0,
          1,
          2,
          3,
          4,
          5,
          0,
          1,
          2,
          3,
          4,
          5,
          0,
          1,
          2,
          3,
          4,
          5,
          0,
          1,
          2,
          3,
          4,
          5,
          0,
          1,
          2,
          3,
          4,
          5,
          0,
          1,
          2,
          3,
          4,
          5,
          0,
          1,
          2,
          3,
          4,
          5,
          0,
          1,
          2,
          3,
          4,
          5,
          0,
          1,
          2,
          3,
          4,
          5,
          0,
          1,
          2,
          3,
          4,
          5,
          0,
          1,
          2,
          3,
          4,
          5,
          0,
          1,
          2,
          3,
          4,
          5,
          0,
          1,
          2,
          3,
          4,
          5,
          0,
          1,
          2,
          3,
          4,
          5,
          0,
          1,
          2,
          3,
          4,
          5,
          0,
          1,
          2,
          3,
          4,
          5,
          0,
          1,
          2,
          3,
          4,
          5,
          0,
          1,
          2,
          3,
          4,
          5,
          0,
          1,
          2,
          3,
          4,
          5,
          0,
          1,
          2,
          3,
          4,
          5,
          0,
          1,
          2,
          3,
          4,
          5,
          0,
          1,
          2,
          3,
          4,
          5,
          0,
          1,
          2,
          3,
          4,
          5,
          0,
          1,
          2,
          3,
          4,
          5,
          0,
          1,
          2,
          3,
          4,
          5,
          0,
          1,
          2,
          3,
          4,
          5,
          0,
          1,
          2,
          3,
          4,
          5,
          0,
          1,
          2,
          3,
          4,
          5,
          0,
          1,
          2,
          3,
          4,
          5,
          0,
          1,
          2,
          3,
          4,
          5,
          0,
          1,
          2,
          3,
          4,
          5,
          0,
          1,
          2,
          3,
          4,
          5,
          0,
          1,
          2,
          3,
          4,
          5,
          0,
          1,
          2,
          3,
          4,
          5,
          0,
          1,
          2,
          3,
          4,
          5,
          0,
          1,
          2,
          3,
          4,
          5,
          0,
          1,
          2,
          3,
          4,
          5,
          0,
          1,
          2,
          3,
          4,
          5,
          0,
          1,
          2,
          3,
          4,
          5,
          0,
          1,
          2,
          3,
          4,
          5,
          0,
          1,
          2,
          3,
          4,
          5,
          0,
          1,
          2,
          3,
          4,
          5,
          0,
          1,
          2,
          3,
          4,
          5,
          0,
          1,
          2,
          3,
          4,
          5,
          0,
          1,
          2,
          3,
          4,
          5,
          0,
          1,
          2,
          3,
          4,
          5,
          0,
          1,
          2,
          3,
          4,
          5,
          0,
          1,
          2,
          3,
          4,
          5,
          0,
          1,
          2,
          3,
          4,
          5,
          0,
          1,
          2,
          3,
          4,
          5,
          0,
          1,
          2,
          3,
          4,
          5,
          0,
          1,
          2,
          3,
          4,
          5,
          0,
          1,
          2,
          3,
          4,
          5,
          0,
          1,
          2,
          3,
          4,
          5,
          0,
          1,
          2,
          3,
          4,
          5,
          0,
          1,
          2,
          3,
          4,
          5,
          0,
          1,
          2,
          3,
          4,
          5,
          0,
          1,
          2,
          3,
          4,
          5,
          0,
          1,
          2,
          3,
          4,
          5,
          0,
          1,
          2,
          3,
          4,
          5,
          0,
          1,
          2,
          3,
          4,
          5,
          0,
          1,
          2,
          3,
          4,
          5,
          0,
          1,
          2,
          3,
          4,
          5,
          0,
          1,
          2,
          3,
          4,
          5,
          0,
          1,
          2,
          3,
          4,
          5,
          0,
          1,
          2,
          3,
          4,
          5,
          0,
          1,
          2,
          3,
          4,
          5,
          0,
          1,
          2,
          3,
          4,
          5,
          0,
          1,
          2,
          3,
          4,
          5,
          0,
          1,
          2,
          3,
          4,
          5,
          0,
          1,
          2,
          3,
          4,
          5,
          0,
          1,
          2,
          3,
          4,
          5,
          0,
          1,
          2,
          3,
          4,
          5,
          0,
          1,
          2,
          3,
          4,
          5,
          0,
          1,
          2,
          3,
          4,
          5,
          0,
          1,
          2,
          3,
          4,
          5,
          0,
          1,
          2,
          3,
          4,
          5,
          0,
          1,
          2,
          3,
          4,
          5,
          0,
          1,
          2,
          3,
          4,
          5,
          0,
          1,
          2,
          3,
          4,
          5,
          0,
          1,
          2,
          3,
          4,
          5,
          0,
          1,
          2,
          3,
          4,
          5,
          0,
          1,
          2,
          3,
          4,
          5,
          0,
          1,
          2,
          3,
          4,
          5,
          0,
          1,
          2,
          3,
          4,
          5,
          0,
          1,
          2,
          3,
          4,
          5,
          0,
          1,
          2,
          3,
          4,
          5
         ],
         "y": [
          0.3624669449905246,
          0.1037627075036294,
          2.646309062115104,
          4.231455890443972,
          -2.1460606268365425,
          -1.3772968603364886,
          -2.4618132401508164,
          -1.7897854394237287,
          -2.8184031083589405,
          -0.6308113929387564,
          2.1396167188794526,
          -0.9892617814009312,
          -3.6070492089734927,
          0.24196603219616572,
          -1.8384579262222085,
          0.5855343506840538,
          0.5985501717879848,
          -1.4890160412504316,
          2.14585893094809,
          -1.3343802190512046,
          -1.8317359329785865,
          -3.9120495698234463,
          1.0403275745757132,
          2.9741593044482406,
          -0.0748926878411747,
          -2.7307027948185802,
          -1.2846175385094456,
          -5.00515870641886,
          2.6993183267133594,
          -3.1195748783746713,
          0.7702938649782709,
          -0.8167174347559807,
          0.6311407873463314,
          -5.018667945122922,
          -0.1267963727738086,
          -0.9777031741910719,
          -0.19588896557497348,
          -2.9929825335831666,
          0.40297748175987413,
          -1.7593296533662934,
          0.7708933061884835,
          -1.4697592722289046,
          0.7260514339907519,
          -2.3374732398398375,
          -4.035548361962594,
          3.186645049289247,
          0.4385505770868847,
          -2.033375587623999,
          2.28875325577929,
          -0.5706697967433887,
          0.09177727652254149,
          -3.5730491045636232,
          1.178537090781515,
          -1.3078733496923551,
          -2.093822298408104,
          2.4720485604807574,
          -4.567451303550484,
          2.7408541369451993,
          -1.1108635532403013,
          -3.999880216888668,
          -2.0626330619058004,
          3.2824879452773423,
          -3.448826452299783,
          5.676245442742848,
          -0.2733212462607413,
          -0.006915588194969401,
          7.7745993917003915,
          -0.2271927179930809,
          9.022259303089845,
          -1.233101184051216,
          -1.539752895740065,
          2.9719900442050404,
          0.2582494013422141,
          -1.6954415379046774,
          1.622141962977674,
          0.38719535623131723,
          -2.3580453540957893,
          -1.5603547856382494,
          -5.3129043773929885,
          5.723709245417965,
          0.8063954640836681,
          -2.6665640403110586,
          2.2601868252759827,
          -2.9242641507106395,
          -4.5969950662091215,
          1.7301765633272235,
          -2.1050976520346576,
          2.2542889743375176,
          1.270256800320925,
          -0.7535189587491324,
          0.23555767038623912,
          -0.8540328481076994,
          -2.35180451720282,
          3.9366392363003864,
          -0.02855561176721589,
          10.196506926479781,
          -1.3180782641483317,
          -1.9552584177240357,
          -5.789565666807357,
          -2.0892468695906534,
          -1.179489882115955,
          -3.0503554550209415,
          -1.5144719055260891,
          -1.5263728200082773,
          -1.2310958911849699,
          -0.44389583011865263,
          -0.9275663272852053,
          -2.9720342283308354,
          -0.5226094068988131,
          0.27922580178242756,
          -1.02473055056224,
          -3.1987236196118554,
          -0.2672392444577146,
          -3.8270403033573115,
          -1.8847462876602923,
          -0.8121438239980227,
          -0.468741824487668,
          0.07801513715231287,
          0.4940400349812767,
          0.5228500673858101,
          0.0711403653155012,
          -2.584105184299013,
          -1.8331482970937873,
          -3.1878527274091155,
          2.9182546355022083,
          1.289275284953343,
          0.14079989148990302,
          -0.9295361418950682,
          -0.7144624084150307,
          4.795060284421383,
          1.7411255313455536,
          -0.5352732688244582,
          -1.554019768196834,
          -2.278760512546256,
          -2.1003191941386032,
          -2.510314032267053,
          1.6237073367010568,
          -2.5702200767292647,
          1.335246541339454,
          -4.540496612541691,
          3.054855391020945,
          -10.156196712200588,
          -0.3856588003925221,
          -2.1107570327778467,
          -0.21029632276576796,
          -1.68752558838864,
          -0.00908660543812497,
          -1.7570517208328673,
          1.456563855744777,
          0.387396965071047,
          -3.0209625002327756,
          -1.0063060270876891,
          -6.095876047785491,
          -0.8802780413562845,
          4.044699845993119,
          -2.801372591092772,
          -4.6524134731321904,
          -0.17277175701577643,
          -4.725397108461991,
          2.2388144205837777,
          -0.2103895916592102,
          0.4730169475656199,
          -2.442777387440657,
          1.7929327364293497,
          -0.765696281059655,
          -3.45025773723935,
          -2.716234807279005,
          -3.7435232015792743,
          -1.545183290569968,
          1.1778536032617744,
          -3.5133545247854143,
          1.5685271255446918,
          -3.6519648879077575,
          -1.408247241673161,
          3.803625649745625,
          -4.1546742334461415,
          0.7106634555686103,
          -3.300628666847624,
          -0.4990832488831521,
          0.8890333629787928,
          -4.121618993552254,
          0.42354001062329927,
          -3.22709429434234,
          1.3012042251238176,
          1.5688440710335305,
          0.6576398734557519,
          4.4670200548222025,
          4.286074364750813,
          13.68200890694518,
          -3.376408924528907,
          1.2822014355715465,
          0.4377500109263472,
          0.8701016465378463,
          -1.010438938643493,
          2.3471930317079135,
          1.7052777623542719,
          1.3174391874018883,
          -1.3920394255668722,
          -0.2738519716729164,
          -3.0993090674901014,
          -2.202674047670308,
          -2.3225211315467678,
          -0.22932950474521194,
          -2.2247364513385244,
          1.1950631903303615,
          -1.6543483837512307,
          0.9631784438354374,
          1.1341716469131489,
          1.126234742330771,
          -1.3380341206507465,
          -2.097567801645648,
          -2.3155193324358665,
          -2.0057048589942816,
          -1.4953565260873936,
          0.6612632115108091,
          -4.132181154743587,
          -1.7705153436223555,
          5.125951770039471,
          5.0518919088901875,
          -2.911079856484447,
          -2.468729207349416,
          0.8642494661690661,
          -2.910018740167232,
          1.5561601066056892,
          -2.4153743824778173,
          2.0298903339273573,
          3.738448717281072,
          -1.854224212056098,
          -5.028107625499789,
          1.433166478086453,
          -4.833040977399773,
          2.5686076471967025,
          0.3323086455490925,
          1.523604778827108,
          -2.1490389085801276,
          -0.4296743667258533,
          0.29670317430367477,
          -1.034663839582512,
          1.5715412654115997,
          5.838745895021205,
          -2.3266790862658744,
          -2.574228888503122,
          -1.1961912890364508,
          -0.8363655911937179,
          0.23569556983763665,
          -3.5274442796542598,
          -2.4295226579535223,
          4.690124049786499,
          1.890371906259396,
          -4.2552126568371005,
          -0.3465850590422218,
          1.731236353730218,
          1.4830368923024366,
          -3.994108790643084,
          0.9602362862401844,
          -2.485860640743913,
          -1.0977237571657656,
          -1.6391204061962048,
          5.597936120956244,
          -1.7498415643236112,
          5.455162578739196,
          -1.4782531417526372,
          0.05858457670249026,
          1.7726357824696906,
          0.01456559192871631,
          -0.5112616664716776,
          0.8196214144423446,
          -1.3102711279315984,
          -1.036059486184619,
          -1.0181399058477811,
          -5.429075901307167,
          2.4639630403698343,
          -0.870134629264327,
          1.4696860354033068,
          1.4358755025775507,
          4.82820992642043,
          -3.4012543002935,
          2.394556550549962,
          -5.388625220326361,
          11.239660194004692,
          -1.0377264421997905,
          -3.4381185442007736,
          -1.480120550876585,
          -1.995110718897999,
          -4.352077720835411,
          2.2975244546177027,
          0.5957235189009419,
          -2.6237723179278576,
          0.5909138063995555,
          2.5499938469589862,
          3.9801759638188745,
          0.13034896553601882,
          0.0714338294700623,
          0.40524687977351254,
          0.7085413655005671,
          4.638235847351502,
          4.578739077187877,
          -1.4058042842973513,
          -5.015181838042999,
          0.6319522745388105,
          -2.0328480901488,
          3.4702583091446595,
          5.032844180598443,
          -6.090747616228568,
          0.25537545001235135,
          -3.2262255003315987,
          6.598451023149904,
          -6.637494787514998,
          1.638265355185895,
          0.8935720313951317,
          -0.0008942475140750679,
          3.821126666572642,
          -1.9937533557784612,
          2.286731146322199,
          0.02959211313024683,
          0.8185198823737735,
          -0.6713449270786501,
          -2.246195500332122,
          -1.005437480422454,
          -1.2269026849859948,
          -1.429627313492357,
          -1.450365950229158,
          1.1482153874400576,
          -1.2813355630451173,
          4.907407566168637,
          -1.4143368621244727,
          3.6501433677274004,
          -2.350124490526082,
          -0.7126824163010065,
          7.307177226309685,
          0.03366178977395357,
          -2.0211551018595872,
          1.096920809082253,
          -4.086332587857171,
          -1.3629010486435635,
          0.7260306957884798,
          0.13681825067532577,
          -0.7549741381458217,
          3.156181658513595,
          1.4131311267660123,
          0.33104510473439347,
          5.13921217378261,
          -2.209058048122988,
          0.689117017016471,
          -1.7219240774868534,
          -2.2436322968319597,
          -1.617624359138341,
          -0.6191249878121469,
          -2.527860466390015,
          0.08014241717973004,
          -5.0452795964601105,
          1.9791298596236295,
          0.401438221726065,
          -4.711660288130707,
          -3.8053322875292674,
          -1.9525927721253447,
          -3.804020530500571,
          4.224371148513475,
          -0.5333827159310937,
          0.1667657081087346,
          -4.719116317520958,
          -0.22453811257219267,
          -3.7447138208374784,
          2.975297025211142,
          1.7289570265561431,
          -1.2867708317971203,
          -3.608135844961196,
          0.43261851792429656,
          0.31503369709220586,
          -1.8460263818063338,
          3.045706761634467,
          0.8063412142909728,
          -1.0765868210597005,
          0.4895072901973947,
          -0.45688220802593127,
          2.543130739969169,
          2.6530793690775196,
          2.9275458447617027,
          0.2603877479053118,
          -2.4673450302353976,
          -2.8507584653611886,
          1.4716687621494688,
          -0.9783521129494411,
          -2.221538350762366,
          -0.012915194630453224,
          -2.4223793066779447,
          -1.1765985655663147,
          -2.8559714748300538,
          1.5961720639019457,
          -2.4287127626406493,
          -4.152377095791763,
          3.386261654444177,
          2.165627391281857,
          -5.571018678200063,
          1.2864121239917772,
          -2.6767604725938576,
          -0.4432497158572076,
          -1.9572926609196692,
          -2.4127510782641277,
          0.9508649208180762,
          1.2291075699053093,
          1.332252417802747,
          1.106890425813392,
          -1.140446985358875,
          0.12997541346382036,
          -3.8257741454852776,
          -3.1596547410482203,
          -1.437486528808737,
          -3.6643908272435914,
          0.6861234399532083,
          -5.745090054442556,
          3.3578174888953596,
          0.337331834723394,
          -1.493079471769594,
          -5.613189608644646,
          0.9300358763781665,
          -8.776311659018189,
          -0.47894195136505635,
          4.143757303312916,
          0.6470742463303868,
          6.992306184047623,
          -2.524170832371535,
          6.620353493459714,
          -1.3123446847140812,
          -2.4801332628124895,
          5.217394830304801,
          2.405212620974314,
          -1.2538056759331397,
          5.099401097094118,
          4.451516348778634,
          0.26047235792055873,
          1.6743031442236795,
          4.177229665675471,
          3.681114498771836,
          14.599899584164966,
          -9.375957132574245,
          -2.4285735448151837,
          4.666973358216691,
          -3.5876300527513436,
          -1.0401997051774665,
          -3.3629228052769995,
          3.2826950546673355,
          7.877738265911228,
          8.531636217719713,
          -0.17649679393884998,
          0.24423008847862854,
          2.980156788318704,
          1.6550558576935444,
          -0.9490862807591159,
          -0.6779147976709469,
          -2.353450769700441,
          -1.6950389045869068,
          -0.007174717497192153,
          0.41043199622660176,
          3.387268418398211,
          -1.5319217996340966,
          3.2790139413003003,
          2.1869153861864454,
          5.924029128644992,
          -2.8060760329258083,
          1.174766467216919,
          -1.0286245888693237,
          -0.41394055822666254,
          -1.5642218741685856,
          -0.9548266927692937,
          0.35236560202557604,
          2.476175618180146,
          -3.133831937479582,
          -4.587128692010486,
          -1.8974840390585406,
          -7.414503203637662,
          2.3188511763676614,
          5.3331977527615795,
          -2.612947727487738,
          -1.597264265201606,
          -1.0401282612434555,
          -1.9375989595873357,
          -2.1164405840704674,
          0.9669246219066852,
          -2.8861870370685967,
          1.3615183388559853,
          -3.4782549694907607,
          1.8147662650224705,
          -7.156557803769359,
          -0.534065268852017,
          -1.6257058547366587,
          5.621598891163856,
          5.263016285638541,
          12.94360346118309,
          -4.060527738773751,
          -0.18541053988558878,
          3.6409037099600083,
          -4.514699670275047,
          1.5155604432229557,
          -5.111488369283701,
          7.228413101508802,
          -1.6059825747854217,
          -1.9952684341105151,
          -2.1303672682890054,
          -0.20731880129350463,
          -0.9753125455883505,
          1.481190030649381,
          1.165243193212258,
          -2.5486459754195234,
          -5.412372760369865,
          3.004995273107392,
          -4.4945681811676526,
          7.070009263507753,
          3.4869632828924373,
          -2.316058403820718,
          -4.285232137544508,
          -1.6886076647761628,
          -2.9820549405596157,
          -3.1585488382276297,
          4.56445765280383,
          -0.3405927720740319,
          0.35157090028647425,
          0.5680967625316141,
          2.754740534593694,
          -3.447211011665498,
          1.5571202164306834,
          -0.6549036103890382,
          1.099139198057201,
          2.074248693532431,
          3.944932889350166,
          -1.2444494918155506,
          -0.29132768736654074,
          1.2429408084198583,
          0.05867117721714727,
          -5.823143459883531,
          -1.9533771450645427,
          -0.5176759565385778,
          1.9665561919293646,
          0.08346806522863262,
          -1.08701650787839,
          2.477559273265866,
          -2.4970263690541254,
          -1.6005422806382956,
          5.630308904806029,
          -0.724718654668873,
          -3.8367480690708295,
          0.4741209712791218,
          -3.6051496338864752,
          0.9217384213812818,
          -0.4084713522228976,
          -3.0585543419758245,
          0.33426288695113937,
          -2.9973985259525495,
          0.5345440768639358,
          -1.044031962326427,
          1.0412186366701774,
          -0.7496170857482158,
          2.646050569343007,
          0.128400090842612,
          3.2834315493845665,
          -4.802941528475199,
          1.066137066788761,
          0.6110892495912065,
          -0.35386189314095284,
          -0.9376630500460532,
          -0.17556163914350692,
          -1.1947018814616817,
          1.0699574590992598,
          -1.5208072705199964,
          0.742800464298424,
          -2.885079844865832,
          -3.5760669797857547,
          1.9089979467005365,
          -1.3805783718569027,
          -0.32259906698417284,
          -1.1600037035924018,
          -3.316831734587591,
          -3.4534545998103843,
          -1.2658726317097178,
          0.610722295876469,
          -3.622788315798963,
          -0.29423808435262333,
          -0.6302673661381012,
          -0.3884763086327988,
          2.3006585029920097,
          -1.349736384522827,
          0.013773519573973284,
          2.0885070232595018,
          -1.5906757101646292,
          1.294491810558657,
          2.4416156457561202,
          0.7007328428282847,
          6.562630393802842,
          -2.953004968346908,
          -0.4458523959444921,
          -5.611699540521732,
          3.1696005510194456,
          3.301632661720721,
          1.3614157015755501,
          1.338602137124608,
          -3.6014713117973045,
          -6.545116545571772,
          0.16364173447844796,
          2.6365943014194557,
          -0.20610769895843467,
          -2.5849568844687,
          -1.6596253987724434,
          -4.667699391292558,
          -0.239066233913967,
          1.5456934464649195,
          -2.0951545904666826,
          -0.574442394141168,
          -1.8510886277973733,
          -2.1165125681430292,
          -0.656591552205472,
          -1.5083364112027213,
          1.7173297958813887,
          0.45426256331752213,
          4.307086518879766,
          6.045646826564276,
          -3.8068761427306814,
          2.618494940701198,
          -1.7417339954219835,
          -4.176177802171092,
          8.30821455591485,
          9.698196304339307,
          -5.069211117445982,
          0.03721473669270668,
          6.927160304118641,
          -2.957277993190375,
          0.1890938512410047,
          -2.838521531561024,
          2.4958770977840343,
          1.578875813413114,
          -3.48350033364944,
          -0.3296659888925328,
          -2.8895510167070686,
          -1.6418928660017946,
          -1.250318212422247,
          1.284463530476913,
          -1.8224072923520946,
          -2.3433450453877227,
          -0.646942334215843,
          -2.4613112125514727,
          -1.029263944195226,
          -1.2421196408048623,
          0.45650572439200277,
          3.5256850054699362,
          -3.446318539730074,
          3.4380106238572696,
          -0.4094790333877598,
          0.06309394668848473,
          2.0011457937276336,
          -0.48304576305471947,
          -1.6818742031521263,
          -1.731693829976235,
          1.1672872371940546,
          -0.06032252923063697,
          -0.6588164642929217,
          0.6463663710948895,
          5.0427971158435305,
          5.910932580263809,
          -6.531562453317571,
          1.0020422393244564,
          2.8107789028025296,
          -3.4312770653222024,
          -0.973981798494315,
          -5.7911699415482785,
          0.42203555320589037,
          0.5799174835583315,
          -3.1502972248191266,
          -2.5497456005191426,
          -5.623816152380777,
          -9.13694719029977,
          0.8874408572562023,
          2.2739705914625254,
          -1.341036173505051,
          0.8991578124906806,
          -2.8908748522667738,
          -1.9342313424594941,
          3.48304388855185,
          0.4135365355260043,
          4.277410929650271,
          -3.173966120380242,
          -2.1740271609523627,
          -2.261788398357669,
          0.7425509760001103,
          1.808194694901723,
          -1.647539841018987,
          3.3751233047295948,
          -3.4244789522023362,
          -0.4649373970104777,
          -2.665802686676553,
          1.7116477827256271,
          -2.478939442740174,
          -2.4138229652718644,
          -0.1866071131991632,
          -8.784450594450968,
          -0.35793650444382685,
          -5.140846899962814,
          -5.01081476323645,
          0.7593666839487927,
          -1.0226489397722263,
          0.933917783539008,
          -5.544059297646411,
          3.367522546395914,
          -0.5686660255933063,
          -2.4281524076750456,
          -1.2132830523454183,
          -2.2845640144502792,
          -3.077438993740722,
          1.2745167983624797,
          -2.1483591145982666,
          -7.091512831787238,
          5.296834488408557,
          -2.2331121076432705,
          6.776270085606406,
          0.2623457631595904,
          -2.0684263351536383,
          -0.23968230163716933,
          -1.7518533976140231,
          -2.8690094060434093,
          1.1265177542182572,
          -1.1054707126498968,
          -0.9473362544554039,
          -0.15658260386541992,
          4.721951064394153,
          10.357069794539925,
          -3.465607192590791,
          0.38654978323196115,
          1.163540130555254,
          -1.507191548983307,
          4.239213301855785,
          5.066429236552207,
          -7.322062807184897,
          0.09492459530637601,
          -1.6283346208497769,
          4.874777335075585,
          0.5307860785575307,
          5.45007789939002,
          0.8298293938253314,
          -0.6886064259770855,
          0.6110408427234127,
          4.739172002302689,
          -3.5514732597011096,
          3.2542129664002717,
          -7.619567173671551,
          -0.3945007720664843,
          3.5358814930754625,
          3.58932363615697,
          -2.8643517091838326,
          1.7490851429978471,
          -2.3552697293857396,
          -0.14152456805016128,
          -0.06796130006212149,
          -1.5604449941063239,
          -0.7692927900707559,
          0.26241675802749187,
          4.529936676730298,
          -1.906352196126394,
          -1.1343403766223612,
          0.5013326022090657,
          4.038675177327743,
          4.939616696826488,
          -6.8606693205851315,
          -2.6068399287412065,
          -1.6483218404829816,
          -0.014371468623464069,
          -0.09691523502774413,
          -1.171831866789797,
          2.8560571509696593,
          -0.2725101531602182,
          -0.26342315642325465,
          2.129034261835554,
          0.912409845528731,
          3.6004123609010734,
          -0.48653370225457887,
          -1.4571900963022448,
          1.3856639760223362,
          -2.2158619951056,
          -0.013268439446283361,
          -4.198254256702929,
          2.1282705979391245,
          -1.0762094378827425,
          -4.411592074637815,
          -1.661818974946481,
          10.781973000132894,
          15.50591643461705,
          -0.9266298700202029,
          -3.7876655186148183,
          1.6820862985235205,
          -2.4969516674714236,
          -2.873393269717579,
          -4.196382817480642,
          3.164159402017256,
          0.306406778882332,
          -0.532726764932728,
          4.720188476536994,
          -0.9841298560143049,
          2.9064975860877054,
          -1.6762874713406999,
          -0.33350936234641815,
          3.587463365164097,
          -0.30281121336205524,
          0.15414086816052078,
          1.5287496743167321,
          -3.427157090668732,
          -2.277981556196131,
          -3.688188242781184,
          -1.9434526809607364,
          4.1989949443175245,
          -1.2076214926240416,
          1.0557277460358496,
          1.0059586404106498,
          -1.7781801181585155,
          -1.7965813495917824,
          3.3595511588388547,
          0.3647329831255203,
          -1.224783851658828,
          0.46360656807883804,
          -2.89340598487718,
          -1.8664996306258348,
          0.05462237041595679,
          0.8409231159847179,
          1.8929809242836482,
          0.032295403868946394,
          10.520846334725734,
          0.159682776345615,
          -0.9562735023561418,
          1.6615484384675285,
          -1.881493162778958,
          3.0612649117252917,
          5.628229830134993,
          -0.00464096797116942,
          1.2500380929610029,
          1.6013499589844327,
          3.317362431226349,
          -3.6847371047566235,
          1.638189009438876,
          0.8838123225397106,
          -2.131133340490214,
          -0.35153165798012675,
          -3.348997150537832,
          1.5874568754513052,
          -1.8871377157361848,
          1.5691783317287313,
          -2.825637673976536,
          -2.7404249342481877,
          3.292558385452214,
          -1.0492590866600306,
          -1.4457084415612838,
          -3.0841739356851274,
          1.4089941106172832,
          5.316358041876906,
          -4.663279687491519,
          0.8991080570924959,
          -3.467795466835778,
          -3.3899872193561915,
          -2.8094406045125586,
          -5.185347270225039,
          5.6914910810834405,
          0.3522997501666419,
          -1.5265699452963695,
          -3.79368441835538,
          -2.1503562947731356,
          -3.0278647405232473,
          -1.3761428205815858,
          0.0249644646341231,
          -3.609044487352798,
          -0.8771562287813593,
          4.777002203504992,
          5.519411487751625,
          -1.2971332435152214,
          -1.1095862480995844,
          0.38674791100666583,
          0.6658886493677207,
          1.2667731100625963,
          0.14098037117065768,
          5.578976368536184,
          0.23388866105805323,
          1.4017295376082008,
          -4.032682023958148,
          0.5960950599109054,
          -4.370121583166066,
          4.710158982173961,
          1.8856841969654148,
          -0.008888449301292269,
          -4.924738515067137,
          7.805162779608706,
          1.8992658938044016,
          0.9578395005941872,
          3.2245789898618353,
          10.632679877957612,
          -1.068027334089517,
          6.061301749957171,
          9.114742501874089,
          -0.5276176625029076,
          -1.9917476615882188,
          0.33016321156271944,
          -1.4921709974917725,
          2.7977361783244086,
          6.867442292170971,
          -1.4195150640416683,
          1.430876336505605,
          1.1576274217788822,
          -4.5309590446074335,
          5.945824242871389,
          -1.7011422160635692,
          7.064405037218313,
          -2.2998025981626435,
          -1.2597851560518127,
          0.2807437970227836,
          -2.602780992564433,
          -2.643904891471113,
          -0.28410646548624324,
          -2.1002087118269346,
          -0.1668042413078054,
          -1.43250825186122,
          -2.4149756477405724,
          -2.345219196429439,
          -3.522923860793974,
          1.3628108771738763,
          -4.528631402938785,
          -2.3645649275960796,
          0.8527466357610427,
          1.04434561069115,
          -0.00005045654295871108,
          -1.2156377070975368,
          -0.5734050042716248,
          -1.4716264834541013,
          -0.5483063122639503,
          1.7388525686558407,
          -3.144025767281483,
          3.4952351095687835,
          0.47442552124891013,
          1.2766718867843438,
          -4.368891924998596,
          0.7162696795982277,
          -6.5576481633714145,
          1.4178513412460785,
          -1.3594875968871145,
          -2.7154500061754105,
          10.828213778221539,
          7.814576360270586,
          -3.6393141474853556,
          -3.5376949769488766,
          -0.08852029929159347
         ]
        },
        {
         "box": {
          "visible": false
         },
         "legendgroup": "D",
         "line": {
          "color": "#EF553B"
         },
         "meanline": {
          "visible": true
         },
         "name": "D",
         "scalegroup": "D",
         "side": "positive",
         "type": "violin",
         "x": [
          0,
          1,
          2,
          3,
          4,
          5,
          0,
          1,
          2,
          3,
          4,
          5,
          0,
          1,
          2,
          3,
          4,
          5,
          0,
          1,
          2,
          3,
          4,
          5,
          0,
          1,
          2,
          3,
          4,
          5,
          0,
          1,
          2,
          3,
          4,
          5,
          0,
          1,
          2,
          3,
          4,
          5,
          0,
          1,
          2,
          3,
          4,
          5,
          0,
          1,
          2,
          3,
          4,
          5,
          0,
          1,
          2,
          3,
          4,
          5,
          0,
          1,
          2,
          3,
          4,
          5,
          0,
          1,
          2,
          3,
          4,
          5,
          0,
          1,
          2,
          3,
          4,
          5,
          0,
          1,
          2,
          3,
          4,
          5,
          0,
          1,
          2,
          3,
          4,
          5,
          0,
          1,
          2,
          3,
          4,
          5,
          0,
          1,
          2,
          3,
          4,
          5,
          0,
          1,
          2,
          3,
          4,
          5,
          0,
          1,
          2,
          3,
          4,
          5,
          0,
          1,
          2,
          3,
          4,
          5,
          0,
          1,
          2,
          3,
          4,
          5,
          0,
          1,
          2,
          3,
          4,
          5,
          0,
          1,
          2,
          3,
          4,
          5,
          0,
          1,
          2,
          3,
          4,
          5,
          0,
          1,
          2,
          3,
          4,
          5,
          0,
          1,
          2,
          3,
          4,
          5,
          0,
          1,
          2,
          3,
          4,
          5,
          0,
          1,
          2,
          3,
          4,
          5,
          0,
          1,
          2,
          3,
          4,
          5,
          0,
          1,
          2,
          3,
          4,
          5,
          0,
          1,
          2,
          3,
          4,
          5,
          0,
          1,
          2,
          3,
          4,
          5,
          0,
          1,
          2,
          3,
          4,
          5,
          0,
          1,
          2,
          3,
          4,
          5,
          0,
          1,
          2,
          3,
          4,
          5,
          0,
          1,
          2,
          3,
          4,
          5,
          0,
          1,
          2,
          3,
          4,
          5,
          0,
          1,
          2,
          3,
          4,
          5,
          0,
          1,
          2,
          3,
          4,
          5,
          0,
          1,
          2,
          3,
          4,
          5,
          0,
          1,
          2,
          3,
          4,
          5,
          0,
          1,
          2,
          3,
          4,
          5,
          0,
          1,
          2,
          3,
          4,
          5,
          0,
          1,
          2,
          3,
          4,
          5,
          0,
          1,
          2,
          3,
          4,
          5,
          0,
          1,
          2,
          3,
          4,
          5,
          0,
          1,
          2,
          3,
          4,
          5,
          0,
          1,
          2,
          3,
          4,
          5,
          0,
          1,
          2,
          3,
          4,
          5,
          0,
          1,
          2,
          3,
          4,
          5,
          0,
          1,
          2,
          3,
          4,
          5,
          0,
          1,
          2,
          3,
          4,
          5,
          0,
          1,
          2,
          3,
          4,
          5,
          0,
          1,
          2,
          3,
          4,
          5,
          0,
          1,
          2,
          3,
          4,
          5,
          0,
          1,
          2,
          3,
          4,
          5,
          0,
          1,
          2,
          3,
          4,
          5,
          0,
          1,
          2,
          3,
          4,
          5,
          0,
          1,
          2,
          3,
          4,
          5,
          0,
          1,
          2,
          3,
          4,
          5,
          0,
          1,
          2,
          3,
          4,
          5,
          0,
          1,
          2,
          3,
          4,
          5,
          0,
          1,
          2,
          3,
          4,
          5,
          0,
          1,
          2,
          3,
          4,
          5,
          0,
          1,
          2,
          3,
          4,
          5,
          0,
          1,
          2,
          3,
          4,
          5,
          0,
          1,
          2,
          3,
          4,
          5,
          0,
          1,
          2,
          3,
          4,
          5,
          0,
          1,
          2,
          3,
          4,
          5,
          0,
          1,
          2,
          3,
          4,
          5,
          0,
          1,
          2,
          3,
          4,
          5,
          0,
          1,
          2,
          3,
          4,
          5,
          0,
          1,
          2,
          3,
          4,
          5,
          0,
          1,
          2,
          3,
          4,
          5,
          0,
          1,
          2,
          3,
          4,
          5,
          0,
          1,
          2,
          3,
          4,
          5,
          0,
          1,
          2,
          3,
          4,
          5,
          0,
          1,
          2,
          3,
          4,
          5,
          0,
          1,
          2,
          3,
          4,
          5,
          0,
          1,
          2,
          3,
          4,
          5,
          0,
          1,
          2,
          3,
          4,
          5,
          0,
          1,
          2,
          3,
          4,
          5,
          0,
          1,
          2,
          3,
          4,
          5,
          0,
          1,
          2,
          3,
          4,
          5,
          0,
          1,
          2,
          3,
          4,
          5,
          0,
          1,
          2,
          3,
          4,
          5,
          0,
          1,
          2,
          3,
          4,
          5,
          0,
          1,
          2,
          3,
          4,
          5,
          0,
          1,
          2,
          3,
          4,
          5,
          0,
          1,
          2,
          3,
          4,
          5,
          0,
          1,
          2,
          3,
          4,
          5,
          0,
          1,
          2,
          3,
          4,
          5,
          0,
          1,
          2,
          3,
          4,
          5,
          0,
          1,
          2,
          3,
          4,
          5,
          0,
          1,
          2,
          3,
          4,
          5,
          0,
          1,
          2,
          3,
          4,
          5,
          0,
          1,
          2,
          3,
          4,
          5,
          0,
          1,
          2,
          3,
          4,
          5,
          0,
          1,
          2,
          3,
          4,
          5,
          0,
          1,
          2,
          3,
          4,
          5,
          0,
          1,
          2,
          3,
          4,
          5,
          0,
          1,
          2,
          3,
          4,
          5,
          0,
          1,
          2,
          3,
          4,
          5,
          0,
          1,
          2,
          3,
          4,
          5,
          0,
          1,
          2,
          3,
          4,
          5,
          0,
          1,
          2,
          3,
          4,
          5,
          0,
          1,
          2,
          3,
          4,
          5,
          0,
          1,
          2,
          3,
          4,
          5,
          0,
          1,
          2,
          3,
          4,
          5,
          0,
          1,
          2,
          3,
          4,
          5,
          0,
          1,
          2,
          3,
          4,
          5,
          0,
          1,
          2,
          3,
          4,
          5,
          0,
          1,
          2,
          3,
          4,
          5,
          0,
          1,
          2,
          3,
          4,
          5,
          0,
          1,
          2,
          3,
          4,
          5,
          0,
          1,
          2,
          3,
          4,
          5,
          0,
          1,
          2,
          3,
          4,
          5,
          0,
          1,
          2,
          3,
          4,
          5,
          0,
          1,
          2,
          3,
          4,
          5,
          0,
          1,
          2,
          3,
          4,
          5,
          0,
          1,
          2,
          3,
          4,
          5,
          0,
          1,
          2,
          3,
          4,
          5,
          0,
          1,
          2,
          3,
          4,
          5,
          0,
          1,
          2,
          3,
          4,
          5,
          0,
          1,
          2,
          3,
          4,
          5,
          0,
          1,
          2,
          3,
          4,
          5,
          0,
          1,
          2,
          3,
          4,
          5,
          0,
          1,
          2,
          3,
          4,
          5,
          0,
          1,
          2,
          3,
          4,
          5,
          0,
          1,
          2,
          3,
          4,
          5,
          0,
          1,
          2,
          3,
          4,
          5,
          0,
          1,
          2,
          3,
          4,
          5,
          0,
          1,
          2,
          3,
          4,
          5,
          0,
          1,
          2,
          3,
          4,
          5,
          0,
          1,
          2,
          3,
          4,
          5,
          0,
          1,
          2,
          3,
          4,
          5,
          0,
          1,
          2,
          3,
          4,
          5,
          0,
          1,
          2,
          3,
          4,
          5,
          0,
          1,
          2,
          3,
          4,
          5,
          0,
          1,
          2,
          3,
          4,
          5,
          0,
          1,
          2,
          3,
          4,
          5,
          0,
          1,
          2,
          3,
          4,
          5,
          0,
          1,
          2,
          3,
          4,
          5,
          0,
          1,
          2,
          3,
          4,
          5,
          0,
          1,
          2,
          3,
          4,
          5,
          0,
          1,
          2,
          3,
          4,
          5,
          0,
          1,
          2,
          3,
          4,
          5,
          0,
          1,
          2,
          3,
          4,
          5,
          0,
          1,
          2,
          3,
          4,
          5,
          0,
          1,
          2,
          3,
          4,
          5,
          0,
          1,
          2,
          3,
          4,
          5,
          0,
          1,
          2,
          3,
          4,
          5,
          0,
          1,
          2,
          3,
          4,
          5,
          0,
          1,
          2,
          3,
          4,
          5,
          0,
          1,
          2,
          3,
          4,
          5,
          0,
          1,
          2,
          3,
          4,
          5
         ],
         "y": [
          2.3304100387453897,
          0.6445991026620755,
          4.436447904244196,
          -0.3353029978378412,
          -1.2861158032074307,
          2.5676192847342127,
          5.022716457834674,
          -0.41595666061977393,
          -0.0005009221251497476,
          2.6035796789372023,
          -0.9684272399620862,
          2.3021952239406147,
          -2.974675887896132,
          1.678996451699989,
          2.2730459829532452,
          -2.2805135505794416,
          1.780879000792448,
          1.057011607986036,
          -0.7989013211052657,
          -1.1383838405589546,
          -5.2490494252215365,
          2.6069427713208757,
          -3.0522008594992944,
          0.5571524783057168,
          2.612411936634361,
          -1.2710867135975163,
          -3.6297804416039128,
          5.034033000260732,
          -1.375577237582109,
          1.6531832589733606,
          0.6211588846170835,
          2.5253354959088097,
          3.5240310688379486,
          -2.6735216490294946,
          -0.055451883640110854,
          -0.6728883696221238,
          0.34584358269438886,
          5.61031940670518,
          2.6260315726818138,
          6.645858876927617,
          2.0622784176763167,
          1.6025944706130688,
          1.8026667703850907,
          -0.276394572685534,
          -2.430933490571504,
          5.1473712911705976,
          1.6382812356548848,
          0.7901557052896006,
          -2.4595824758275238,
          0.029923406910354423,
          -2.2189166789486405,
          -3.66880993968878,
          2.911810255798507,
          7.7672027400390755,
          3.1389579286990275,
          -0.0330793517593526,
          1.0835910995302076,
          0.18345684303871196,
          0.9505465930860222,
          -1.120380711032501,
          0.8990125780897571,
          -0.5309874102456795,
          1.5545319007768559,
          2.887866747360807,
          -1.3160741821939703,
          -0.018050511897583298,
          7.45143952519032,
          -3.9234579918325374,
          2.493478170342069,
          -1.4356464475401076,
          -0.5668520837830506,
          6.712980688407355,
          -1.5406853147355526,
          -3.1833982804275256,
          1.0139748969551274,
          -3.3024704682868293,
          -0.8864719069549141,
          -0.5809660644309297,
          6.352309309282198,
          2.6398634864578745,
          2.4304224409305943,
          3.385236725785446,
          -5.696766482420922,
          0.26865909922747994,
          -4.853754923828042,
          1.4669166839663932,
          -6.060279672497338,
          3.318396617129866,
          -1.353959745935218,
          -1.467845923515958,
          -3.236001124433408,
          4.910856987820027,
          -1.514566277943065,
          4.59773306400732,
          -2.81739559856595,
          -1.3218824399730138,
          -4.2191532363644,
          0.5636650386129977,
          -3.854944325656054,
          1.051557176338681,
          -2.57365142461968,
          -3.6297146231702286,
          0.11130495933344185,
          1.2607049118250235,
          1.1242443103603923,
          0.3307009323951307,
          -3.6707435222096567,
          -2.13040502230987,
          0.5292321353115292,
          -2.593203574811241,
          0.44382190377292646,
          -3.122879441875016,
          1.6648037326655154,
          -4.121375406090321,
          -2.5227212509294397,
          1.2989947726557265,
          -7.184677933554433,
          2.9358436296433736,
          -0.8230985505769197,
          -3.500262120709376,
          -4.284709671183751,
          1.7817328565901356,
          -4.2868147852145215,
          5.792927749697796,
          0.34264788701852633,
          -0.9795314724049996,
          -2.8290829200572634,
          0.3851380709691406,
          -6.317083328310459,
          2.573682626555472,
          -3.458304502558731,
          -4.7202359275617285,
          -0.15555557213030988,
          -3.654578273605638,
          0.6827898959910838,
          -3.276483571319659,
          0.6944273443989145,
          -1.8543063062093847,
          3.481541897760772,
          -0.08882699679620852,
          5.163166094561346,
          -3.7297736463697753,
          -3.60178947109143,
          1.923990381494826,
          -1.0031370634174956,
          0.3820625151410889,
          1.3406113286452601,
          -1.8039581401185958,
          -0.1602146802824398,
          -3.773670227314205,
          4.99888113025402,
          4.632203270999386,
          15.31266484915012,
          -5.219767607299886,
          -0.031366102821000816,
          0.6781643512085626,
          -2.4780694750108543,
          -0.8723644485698705,
          -2.7151155791667,
          0.6747036879068958,
          -1.676797355680522,
          -4.444228389915758,
          4.819505176276308,
          -0.9111484777942186,
          1.7828329988887486,
          0.5489381271922376,
          1.8362138228448082,
          3.788799052079726,
          0.06358621529800762,
          1.8456893559100325,
          0.9464801207837522,
          -2.8444367539250925,
          2.8313589628335456,
          -3.8878110367471233,
          4.712400951877221,
          -1.8614336880352629,
          5.038831942166235,
          -5.122341686741827,
          1.2247713296460399,
          5.505930374143888,
          4.967122953174691,
          -0.8207815858949514,
          -2.663342225971668,
          4.390239790954823,
          -2.5563295097848577,
          -0.13185298043163435,
          -4.258946021059377,
          2.4945464858487205,
          -3.3830273730534683,
          2.965228502883825,
          3.8660633273032263,
          -0.10512705133301972,
          -2.4201038488970386,
          0.1309932245188502,
          -6.709028717887311,
          2.511947782674637,
          6.017945483360745,
          12.41456223069081,
          -1.3465371960657104,
          0.07448405976732801,
          -0.12880943380355414,
          -5.715978108410922,
          -3.889622040369714,
          -3.3118060879357083,
          0.30804322582790894,
          -4.389393299317921,
          -0.6181721484861202,
          -3.175710724645106,
          2.8497539661073024,
          0.3992433307052324,
          1.5210647951734304,
          -5.828232932605311,
          -9.136024496769197,
          2.9336185418429364,
          -3.4611064583238416,
          -3.2290649729576812,
          -0.8182966605827291,
          -2.465881647475487,
          -5.005992914112069,
          3.2867600773073096,
          -4.346954895168578,
          -0.26148937036648223,
          3.6752297768949873,
          -2.593160495780341,
          3.6204568857599977,
          -5.846026946774482,
          3.795224406385167,
          0.3604337845602131,
          -1.6920952175894244,
          -0.3529838173963312,
          -0.6859494043641784,
          -2.30672644867407,
          0.5313345059338439,
          1.3290727764769328,
          -3.694855704483392,
          -0.5856117535598648,
          -3.4208909354039307,
          1.6605629527858332,
          3.8960486586086756,
          -1.8978594068636019,
          -2.7400907042005063,
          -1.827613563765334,
          -4.839587801188024,
          -2.09190769155424,
          2.5956605788508322,
          -3.8652856448029844,
          -1.4494798919692513,
          0.8677171711633891,
          -2.627884669856993,
          1.5190800904401704,
          -2.1214435338943645,
          -2.0191290998646254,
          11.394765278705636,
          1.2590134027337165,
          12.971962899264032,
          0.10226438202921319,
          -3.3029510332228282,
          3.9283464774649888,
          -1.7603248435005738,
          2.4655573548742953,
          -1.8531827727980617,
          4.954460774992549,
          -1.895984829288495,
          -2.037207590071848,
          4.372609489344233,
          0.4893743360646994,
          -0.17201505099316244,
          4.747548010245732,
          -5.978216080429866,
          3.947964249883521,
          -5.145400293354278,
          5.481494664094013,
          -1.1437289944106477,
          4.7028130243407995,
          0.5615934033867238,
          -1.234321200679498,
          0.872562965838901,
          2.2925343552395008,
          5.079559866635893,
          1.5121878681847238,
          -0.04171450186765489,
          1.0061486831865898,
          -0.36850468766036804,
          -0.9176045886648412,
          1.4362387608521796,
          -4.8814801093259845,
          1.7444826826829742,
          -2.477747404092023,
          -0.6281598438529322,
          1.0732908650925772,
          -2.709953299192266,
          2.8508055706853415,
          3.522210516974803,
          -0.5090094504778072,
          0.2536392881974113,
          -0.9080682455162654,
          -1.718214069915566,
          2.4741339010873586,
          -0.920814948461719,
          -0.6206040051897708,
          3.8030288012391598,
          -2.0381578906137707,
          1.8251758307611783,
          -4.018723427383695,
          0.901426310703201,
          -1.0460291852209647,
          -2.4306315330017316,
          -3.213960692711732,
          -5.349536043937651,
          2.779702876509366,
          3.465944169920527,
          -1.2234027957623719,
          7.766790441052788,
          -3.547781248920027,
          2.9682886610447854,
          -0.15442875020271313,
          -1.3231396393263755,
          -1.0904989777505731,
          0.6937788303246541,
          0.6829201143103776,
          0.021540097529174518,
          4.140605931340621,
          -2.686173152384659,
          -3.550394548165054,
          1.40795279953715,
          -0.18135621777904398,
          1.1555897738691472,
          1.2245055573155605,
          -0.4268737642395958,
          1.9237967377046363,
          3.2841169659497904,
          1.9264385901224803,
          1.1409181671505613,
          0.9969593507399936,
          -2.503123097222229,
          2.266582213109385,
          -1.7838286745568608,
          4.3076179106447166,
          7.871336895755763,
          -4.261268375179412,
          1.6993215311457008,
          0.2904972445468456,
          4.469849906831872,
          -2.0676902233472703,
          1.6223039444063991,
          -1.2045232140560358,
          -3.4772784097479685,
          -0.7138341465234129,
          -3.73832376464874,
          -0.272002277789161,
          -4.278649299552183,
          -0.9377081591842128,
          1.9432477083957564,
          1.6094393707888701,
          -1.9374060985487904,
          -1.0775468081456643,
          -2.2463128161740564,
          7.091897268198825,
          -2.292501033312682,
          -1.9493291257281313,
          2.1556631434504148,
          -0.5879507669342489,
          1.3015724030539442,
          -5.382439295281221,
          2.656752311682044,
          -0.8202490275135658,
          -2.750710721060765,
          3.383737946603289,
          -1.4047616082665828,
          3.3787129782785166,
          1.8146476697807412,
          0.6406013323104395,
          -0.5804465548214935,
          -0.08630986349415025,
          -3.733149096675446,
          -1.6673993249382089,
          1.8195304754816897,
          -2.2885615054264243,
          3.995002849595876,
          0.012613770172312013,
          3.0315048458174876,
          2.8292878391448366,
          -3.875149302125539,
          0.18495837427613562,
          1.3208532038197136,
          0.35925579237093885,
          2.5961301483908326,
          -0.7343276252741219,
          0.1912439378504317,
          -1.4454571456502288,
          1.1968547330351953,
          -1.0583817353776914,
          2.2036452808784786,
          -0.7770225902493217,
          -1.4475462917450042,
          0.7739719701677565,
          5.16731185315356,
          -1.2811362555929868,
          4.684316862859165,
          0.9064341846186822,
          -0.14266311990961958,
          0.03193043556735577,
          -0.8093675503461594,
          1.1737446886765466,
          -3.4201826243638855,
          2.5252267052963493,
          1.6019373714476022,
          -0.4986690499799623,
          3.3898816118237467,
          -1.4879747444707343,
          -0.03463032144436697,
          -4.211537025022872,
          -1.590002582573021,
          -1.763547582726863,
          -0.5367950983068809,
          -2.552231809588724,
          -2.1572197926693724,
          -2.439443774079265,
          2.705824864947542,
          -1.064664533129183,
          -1.386312051477711,
          1.4197604626822273,
          -2.0541092671916905,
          1.5612355724604132,
          -1.833193279127987,
          -0.6415585138333748,
          1.903695682130594,
          -0.18306796426762215,
          -0.3794617107330024,
          2.2298038689674695,
          0.2116300011212928,
          -0.43752735671227705,
          0.1474108859680519,
          0.41845737360030816,
          -2.1582403353008757,
          3.2512325424112283,
          -1.3101325345756716,
          0.0973662443900099,
          3.147628038798374,
          -2.1201126823731915,
          0.24492847425400854,
          0.12830125363317046,
          1.6452382048810732,
          -0.39801229025134127,
          -2.1763837819679357,
          0.38528428584397373,
          -3.9353320457866903,
          0.7114301559752284,
          1.163902723040624,
          0.9955657216735901,
          -3.2507770347430776,
          -1.4478682958449947,
          -4.685751917874979,
          1.912053926888876,
          2.164624595493209,
          -7.131032021879216,
          3.9188153582960776,
          -1.3067888303853148,
          1.2795447102728632,
          6.267344672407575,
          -2.2886932487363327,
          0.7693851560290648,
          1.4157965618643285,
          -8.818640543093755,
          -9.519381080104006,
          1.7099940321863485,
          0.43708984337699575,
          -2.5957655370515593,
          -1.8286189508960546,
          -0.25996077102987525,
          -3.569506506238289,
          0.27840508040418455,
          1.5006311025665542,
          -2.354266917416381,
          1.78692867976428,
          3.223738361388708,
          1.022838331857512,
          0.6950751434069975,
          -4.4276043813277015,
          1.1272275510349534,
          -0.6804072010088823,
          3.17757528845902,
          7.794714793649217,
          -6.803972669832712,
          2.9848306882631794,
          2.1111905366487917,
          -1.5130102818202662,
          2.3898534763152073,
          -0.8266067213398942,
          0.4601745016453437,
          -0.7002740050807709,
          -3.718774405412463,
          -1.417604670041947,
          -0.9169139494759628,
          -4.438739981730841,
          4.2560816820082525,
          2.5836382299339276,
          -1.5324128517136677,
          3.249112944575822,
          -0.2875560902201361,
          -1.9566707007971114,
          2.324380502865367,
          -4.414803913920806,
          0.015530550111199967,
          6.026318174123512,
          -2.463867510753612,
          1.756807854639761,
          -1.1773939743648605,
          -3.389516828465981,
          0.21306654673679132,
          -3.2817113399860887,
          -0.5414616980145088,
          -6.102664708268056,
          -2.079718146663089,
          -0.10177159863264088,
          -0.9752860370142341,
          -2.510789645953138,
          -0.01392652847891111,
          -4.492889928997867,
          0.5698100553208569,
          1.069992848690992,
          -2.924360378207502,
          4.14204727800633,
          0.6212731099450874,
          -2.7107246066670374,
          2.767492386048158,
          -2.782486591936094,
          -0.12061040100903588,
          1.439493284727766,
          -5.8083815612149845,
          -4.484129032975929,
          -7.419229825275268,
          0.9408095741949493,
          -3.546822733433009,
          2.593452542502838,
          0.11103874428938364,
          0.8087977065933484,
          2.893539641551736,
          0.8383445227801207,
          1.015587746070042,
          3.3858475331322135,
          -0.88502953635124,
          0.41681956758950767,
          1.5610583297414387,
          -1.8885666461472945,
          6.9899821236003294,
          -3.091725706244906,
          -0.9299016247672587,
          -8.731564759134368,
          3.6689324113740764,
          -0.38943336854280436,
          -2.5962932032724244,
          -2.9692453225999005,
          3.275970922693758,
          2.3763942282641213,
          -0.5780880137334358,
          1.8666619633330608,
          0.016565676582929536,
          0.2530720616296549,
          -1.771872018394013,
          -0.8729094481140857,
          -2.4391677064565243,
          -1.0142903226682165,
          -0.6006102290367243,
          1.3255958110056232,
          -6.402642682728848,
          -6.390156571059282,
          -0.9182287375238286,
          0.13763205193023204,
          -0.7655568521168004,
          1.4883903590009182,
          1.6720633830523437,
          -2.3379683387294556,
          2.4940794937926216,
          -4.372998832252856,
          3.0753508165622367,
          1.7359171159168103,
          -3.538723049095537,
          -0.09829138075666598,
          -3.5199901503568167,
          0.531302658125971,
          -1.0658700145547924,
          -5.170296508803728,
          1.778579840369371,
          -2.400241189008313,
          0.778900578621736,
          4.913541698314649,
          3.0362929190409105,
          -6.191250167639835,
          0.4189140167610284,
          -5.870357341546819,
          3.7501003223798484,
          2.1849114670706595,
          1.073552299340804,
          -0.8104509330612346,
          -5.513444764187692,
          -10.167899551588398,
          4.345860686007061,
          -2.2036436955826524,
          3.158458303902333,
          3.061701607170715,
          -0.47753825702659264,
          2.7139853921221015,
          -0.9216704383803148,
          -5.447289703897192,
          -0.7000790655898742,
          8.750173239356506,
          -6.597448870992785,
          7.465864386104094,
          -4.823385610252227,
          -0.6721115599053943,
          3.392768389700358,
          1.7584572427678598,
          3.7414401258746652,
          2.020004294245493,
          6.66732554949756,
          -1.6725085195967342,
          -0.814047885907359,
          4.292901887363423,
          -0.41948101560038614,
          1.8083006411769413,
          0.8490442680680746,
          -2.5042312164617844,
          3.10949581106362,
          -3.6772450674888586,
          -0.26803024112023915,
          -5.081779425395691,
          2.6372844515282456,
          -1.315803182082215,
          -3.875484049055667,
          4.36141107092591,
          -1.4343083671379948,
          4.308369845306812,
          -2.222311215689528,
          0.22144577529601436,
          0.25350296697668856,
          -1.366529545401136,
          1.9030204900745817,
          -2.1746092657185128,
          4.056435322539006,
          -1.2348626512436132,
          -1.3931624692741413,
          -1.0242244572534938,
          -0.5003699685292406,
          -8.241617073924063,
          3.9696624249080528,
          -1.0704070098565848,
          11.082378992777738,
          1.5210336381087455,
          -0.8482472536375124,
          2.7836350537970684,
          -1.1622767267121725,
          -0.7826645587611101,
          -1.0217580835286921,
          2.9262549138015244,
          -1.3092089628072483,
          -0.7027061473483038,
          -1.9524195208445672,
          -1.8584958139640129,
          1.023252866727512,
          2.2646341954377402,
          1.8370699847441008,
          1.3183668976492164,
          1.6578659320173774,
          0.7197055095148361,
          2.1127904191117253,
          5.706455894537967,
          -1.7106847169497486,
          8.665441489940669,
          -3.6006187968847745,
          -0.214729321123216,
          5.449595964526313,
          -3.9180872836161393,
          6.920456937841499,
          9.167506453905053,
          -8.681531537178568,
          -0.7265444674827655,
          3.673828000972325,
          3.893300151127576,
          -2.4335858666287895,
          0.578180039398265,
          1.7214222985444785,
          1.2155553365141605,
          0.3913807849432605,
          2.410214807499537,
          -1.4671894512474473,
          0.7220557300795937,
          -0.6708904485484708,
          -0.43068598324504787,
          0.32212777672046805,
          2.5135458616703303,
          -0.5404506728018038,
          -0.10586194355016044,
          4.919287140662904,
          1.7893973008979456,
          1.0606112881657233,
          1.0638465743067955,
          8.62913093643816,
          10.327142451763565,
          -6.485608910620283,
          -0.5841913044540559,
          1.8636002932390037,
          2.8568120332461224,
          1.7491044093433155,
          0.6334360981849813,
          -4.94027779623619,
          1.557947617197588,
          2.2732176779891016,
          -1.7746173356046497,
          1.3129127914675205,
          -1.8941796673267886,
          1.0716478235566298,
          0.3985219400278511,
          2.2035614522204523,
          4.358076927829418,
          -0.010374257759048027,
          4.86136773118548,
          -1.3481679308312615,
          -1.4373233889349142,
          3.6154088696366484,
          2.220631290984002,
          1.5859483138333308,
          4.6950013087909355,
          4.393657817892723,
          2.9341319623859667,
          1.3064817496799983,
          -2.3881114706138415,
          0.1273183320468791,
          -3.4847142261062505,
          0.8567206542979766,
          0.45635491003521333,
          -0.0626469402980273,
          -1.9837245568878514,
          -1.1283440733952104,
          -4.968713442309129,
          4.506736000127168,
          1.9874608885668494,
          0.23357648114873883,
          -5.033985918251086,
          1.8797625138976348,
          -0.30087434034220967,
          -2.122670845042089,
          2.873656672929674,
          2.5049655997245437,
          8.641949947830357,
          -6.970058713237052,
          9.688958306581085,
          -4.299696106188155,
          -1.6190007607019097,
          3.6098667419911803,
          1.9666201773560306,
          2.0500044928892316,
          2.9942566396332966,
          2.7080689453724855,
          -1.7917430606874074,
          2.9803154521943087,
          -0.08741607240084544,
          -1.6277922518119656,
          0.790946869572713,
          -2.1661791597563065,
          -1.1873853323403973,
          -1.1973156011191182,
          -1.2575427405762503,
          2.0619353141281485,
          5.015780379454414,
          -5.896355047121287,
          0.052107063460997353,
          -1.4233322491694933,
          0.6723749120785193,
          1.9795568230507519,
          0.2409806665606869,
          6.441420488911338,
          0.4468303884817499,
          -3.624552568965569,
          -3.2945881761971276,
          -0.4937225320829384,
          -9.091532402658842,
          5.639357453246044,
          -2.2577981183129374,
          -2.2629494647336186,
          4.094090844714855,
          -6.960759128831057,
          0.4007059476620218,
          -3.9121995071580105,
          3.696873501316576,
          -0.7407028095187153,
          0.7127818817471978,
          0.46583945460878207,
          1.0599108830212265,
          0.4655562020880576,
          -0.10872139794571337,
          -2.292683599185461,
          6.185955321159771,
          0.49927328981544633,
          0.9028243586303394,
          5.486851330256799,
          -4.2612837566728174,
          0.8041061837658985,
          5.110904790620343,
          0.9341643396436525,
          4.350744972519598,
          -1.975030636622144,
          -4.161947637252652,
          0.775238120033117,
          -1.2626569397909753,
          -2.0797370837471525,
          -2.3400242845529062,
          -2.8907163947013137,
          1.8466000398193756,
          -3.402581961496285,
          6.314488559336063,
          4.976667931742706,
          17.37988932496975,
          -3.552715863468062,
          -3.213397554141022,
          6.704410106560865,
          1.008811806256466,
          -0.2880421358119667,
          0.15047636082839622,
          -0.9078047322191445,
          1.2262095758191693,
          1.2558929678650994,
          0.3590353397897246,
          -4.228122739367394,
          -2.4744365432204316,
          -2.534114684440913,
          2.4932548296836967,
          -0.2280486701390026,
          -3.331628738952358,
          0.51263029808977,
          -6.539854800171374,
          4.801852842199103,
          -0.6589397056046996,
          0.8394873663109934,
          -3.4700479747541673,
          0.8293777812421256,
          -4.707466372596657,
          1.9924306639724692,
          -2.8263639091862625,
          -0.3007425250509846,
          2.05641202541225,
          4.496225170113152,
          9.523026565017181,
          -4.5773127272994945,
          0.9106672922543229,
          -0.5864235743686413,
          4.7621130023017715,
          2.744993811291799,
          8.663722749133667,
          -5.453191638291631,
          -2.6351468738204002,
          1.0626833200219872,
          -2.1292593421653963,
          -2.125503922993352,
          -7.39821979865842,
          0.49621757327253374,
          -1.1418110160548747,
          -2.0505646104403965,
          3.6677354603532426,
          -0.27612583524951123,
          0.3059550004200916,
          -0.8798187492465656,
          0.8071908909983414,
          -0.3711489144959677,
          1.4026441992941032,
          -1.999386246325978,
          -0.3372071098260234,
          1.0366595894502357,
          -0.4813662182136978,
          -1.7844457715471982,
          4.054661640679191,
          5.285373387225331,
          7.244475062489901,
          4.200006714037477,
          -1.3168990744508486,
          3.6891086151288985,
          -0.7986929583473001,
          6.095055239716033,
          6.039408619293395,
          -3.0194348337316277,
          0.5574669013855156,
          -1.9958617468799364,
          -3.866847095001895,
          0.721899275589934,
          0.7877600488627272,
          4.268486225558233,
          -0.7258286379036909,
          -1.145763739397662,
          5.606447161929206,
          2.393924428591143,
          -2.626941113014497,
          6.011038566201572,
          -3.990244216860774,
          4.760642994042759,
          -1.3797809381914916,
          1.684244975500342,
          -1.2287235799471026,
          3.2495373266790195,
          0.1900269087196764,
          -0.8165921978592324,
          5.323834114434651,
          1.212550558745436,
          3.706121903126514,
          4.812297322781945,
          -4.874407907972785,
          4.223450447461118,
          -4.06820223060156,
          1.7825588098262402,
          -6.694627103215475,
          6.894019178824089,
          -5.426739270470297,
          -3.09612908687197,
          -2.2971660907788447,
          0.45160272361210235,
          -7.242262159207168,
          1.401786748957962,
          0.5721385234571146,
          2.6356629863321674,
          2.1792539141079756,
          -1.8625781843947828,
          2.890301994070084,
          -0.5371977810083942,
          1.2494248149396312,
          1.1098913479006072,
          11.065620540897305,
          0.3922034890863711,
          12.39352786035709,
          0.0012859002806598718,
          -0.6608351189941952,
          4.602783067616637,
          -5.329982247119343,
          2.2868927373064234,
          -6.076526743180352,
          4.20038567500981,
          0.6669194364274659,
          0.39727203056762483
         ]
        }
       ],
       "layout": {
        "template": {
         "data": {
          "bar": [
           {
            "error_x": {
             "color": "#2a3f5f"
            },
            "error_y": {
             "color": "#2a3f5f"
            },
            "marker": {
             "line": {
              "color": "#E5ECF6",
              "width": 0.5
             },
             "pattern": {
              "fillmode": "overlay",
              "size": 10,
              "solidity": 0.2
             }
            },
            "type": "bar"
           }
          ],
          "barpolar": [
           {
            "marker": {
             "line": {
              "color": "#E5ECF6",
              "width": 0.5
             },
             "pattern": {
              "fillmode": "overlay",
              "size": 10,
              "solidity": 0.2
             }
            },
            "type": "barpolar"
           }
          ],
          "carpet": [
           {
            "aaxis": {
             "endlinecolor": "#2a3f5f",
             "gridcolor": "white",
             "linecolor": "white",
             "minorgridcolor": "white",
             "startlinecolor": "#2a3f5f"
            },
            "baxis": {
             "endlinecolor": "#2a3f5f",
             "gridcolor": "white",
             "linecolor": "white",
             "minorgridcolor": "white",
             "startlinecolor": "#2a3f5f"
            },
            "type": "carpet"
           }
          ],
          "choropleth": [
           {
            "colorbar": {
             "outlinewidth": 0,
             "ticks": ""
            },
            "type": "choropleth"
           }
          ],
          "contour": [
           {
            "colorbar": {
             "outlinewidth": 0,
             "ticks": ""
            },
            "colorscale": [
             [
              0,
              "#0d0887"
             ],
             [
              0.1111111111111111,
              "#46039f"
             ],
             [
              0.2222222222222222,
              "#7201a8"
             ],
             [
              0.3333333333333333,
              "#9c179e"
             ],
             [
              0.4444444444444444,
              "#bd3786"
             ],
             [
              0.5555555555555556,
              "#d8576b"
             ],
             [
              0.6666666666666666,
              "#ed7953"
             ],
             [
              0.7777777777777778,
              "#fb9f3a"
             ],
             [
              0.8888888888888888,
              "#fdca26"
             ],
             [
              1,
              "#f0f921"
             ]
            ],
            "type": "contour"
           }
          ],
          "contourcarpet": [
           {
            "colorbar": {
             "outlinewidth": 0,
             "ticks": ""
            },
            "type": "contourcarpet"
           }
          ],
          "heatmap": [
           {
            "colorbar": {
             "outlinewidth": 0,
             "ticks": ""
            },
            "colorscale": [
             [
              0,
              "#0d0887"
             ],
             [
              0.1111111111111111,
              "#46039f"
             ],
             [
              0.2222222222222222,
              "#7201a8"
             ],
             [
              0.3333333333333333,
              "#9c179e"
             ],
             [
              0.4444444444444444,
              "#bd3786"
             ],
             [
              0.5555555555555556,
              "#d8576b"
             ],
             [
              0.6666666666666666,
              "#ed7953"
             ],
             [
              0.7777777777777778,
              "#fb9f3a"
             ],
             [
              0.8888888888888888,
              "#fdca26"
             ],
             [
              1,
              "#f0f921"
             ]
            ],
            "type": "heatmap"
           }
          ],
          "heatmapgl": [
           {
            "colorbar": {
             "outlinewidth": 0,
             "ticks": ""
            },
            "colorscale": [
             [
              0,
              "#0d0887"
             ],
             [
              0.1111111111111111,
              "#46039f"
             ],
             [
              0.2222222222222222,
              "#7201a8"
             ],
             [
              0.3333333333333333,
              "#9c179e"
             ],
             [
              0.4444444444444444,
              "#bd3786"
             ],
             [
              0.5555555555555556,
              "#d8576b"
             ],
             [
              0.6666666666666666,
              "#ed7953"
             ],
             [
              0.7777777777777778,
              "#fb9f3a"
             ],
             [
              0.8888888888888888,
              "#fdca26"
             ],
             [
              1,
              "#f0f921"
             ]
            ],
            "type": "heatmapgl"
           }
          ],
          "histogram": [
           {
            "marker": {
             "pattern": {
              "fillmode": "overlay",
              "size": 10,
              "solidity": 0.2
             }
            },
            "type": "histogram"
           }
          ],
          "histogram2d": [
           {
            "colorbar": {
             "outlinewidth": 0,
             "ticks": ""
            },
            "colorscale": [
             [
              0,
              "#0d0887"
             ],
             [
              0.1111111111111111,
              "#46039f"
             ],
             [
              0.2222222222222222,
              "#7201a8"
             ],
             [
              0.3333333333333333,
              "#9c179e"
             ],
             [
              0.4444444444444444,
              "#bd3786"
             ],
             [
              0.5555555555555556,
              "#d8576b"
             ],
             [
              0.6666666666666666,
              "#ed7953"
             ],
             [
              0.7777777777777778,
              "#fb9f3a"
             ],
             [
              0.8888888888888888,
              "#fdca26"
             ],
             [
              1,
              "#f0f921"
             ]
            ],
            "type": "histogram2d"
           }
          ],
          "histogram2dcontour": [
           {
            "colorbar": {
             "outlinewidth": 0,
             "ticks": ""
            },
            "colorscale": [
             [
              0,
              "#0d0887"
             ],
             [
              0.1111111111111111,
              "#46039f"
             ],
             [
              0.2222222222222222,
              "#7201a8"
             ],
             [
              0.3333333333333333,
              "#9c179e"
             ],
             [
              0.4444444444444444,
              "#bd3786"
             ],
             [
              0.5555555555555556,
              "#d8576b"
             ],
             [
              0.6666666666666666,
              "#ed7953"
             ],
             [
              0.7777777777777778,
              "#fb9f3a"
             ],
             [
              0.8888888888888888,
              "#fdca26"
             ],
             [
              1,
              "#f0f921"
             ]
            ],
            "type": "histogram2dcontour"
           }
          ],
          "mesh3d": [
           {
            "colorbar": {
             "outlinewidth": 0,
             "ticks": ""
            },
            "type": "mesh3d"
           }
          ],
          "parcoords": [
           {
            "line": {
             "colorbar": {
              "outlinewidth": 0,
              "ticks": ""
             }
            },
            "type": "parcoords"
           }
          ],
          "pie": [
           {
            "automargin": true,
            "type": "pie"
           }
          ],
          "scatter": [
           {
            "fillpattern": {
             "fillmode": "overlay",
             "size": 10,
             "solidity": 0.2
            },
            "type": "scatter"
           }
          ],
          "scatter3d": [
           {
            "line": {
             "colorbar": {
              "outlinewidth": 0,
              "ticks": ""
             }
            },
            "marker": {
             "colorbar": {
              "outlinewidth": 0,
              "ticks": ""
             }
            },
            "type": "scatter3d"
           }
          ],
          "scattercarpet": [
           {
            "marker": {
             "colorbar": {
              "outlinewidth": 0,
              "ticks": ""
             }
            },
            "type": "scattercarpet"
           }
          ],
          "scattergeo": [
           {
            "marker": {
             "colorbar": {
              "outlinewidth": 0,
              "ticks": ""
             }
            },
            "type": "scattergeo"
           }
          ],
          "scattergl": [
           {
            "marker": {
             "colorbar": {
              "outlinewidth": 0,
              "ticks": ""
             }
            },
            "type": "scattergl"
           }
          ],
          "scattermapbox": [
           {
            "marker": {
             "colorbar": {
              "outlinewidth": 0,
              "ticks": ""
             }
            },
            "type": "scattermapbox"
           }
          ],
          "scatterpolar": [
           {
            "marker": {
             "colorbar": {
              "outlinewidth": 0,
              "ticks": ""
             }
            },
            "type": "scatterpolar"
           }
          ],
          "scatterpolargl": [
           {
            "marker": {
             "colorbar": {
              "outlinewidth": 0,
              "ticks": ""
             }
            },
            "type": "scatterpolargl"
           }
          ],
          "scatterternary": [
           {
            "marker": {
             "colorbar": {
              "outlinewidth": 0,
              "ticks": ""
             }
            },
            "type": "scatterternary"
           }
          ],
          "surface": [
           {
            "colorbar": {
             "outlinewidth": 0,
             "ticks": ""
            },
            "colorscale": [
             [
              0,
              "#0d0887"
             ],
             [
              0.1111111111111111,
              "#46039f"
             ],
             [
              0.2222222222222222,
              "#7201a8"
             ],
             [
              0.3333333333333333,
              "#9c179e"
             ],
             [
              0.4444444444444444,
              "#bd3786"
             ],
             [
              0.5555555555555556,
              "#d8576b"
             ],
             [
              0.6666666666666666,
              "#ed7953"
             ],
             [
              0.7777777777777778,
              "#fb9f3a"
             ],
             [
              0.8888888888888888,
              "#fdca26"
             ],
             [
              1,
              "#f0f921"
             ]
            ],
            "type": "surface"
           }
          ],
          "table": [
           {
            "cells": {
             "fill": {
              "color": "#EBF0F8"
             },
             "line": {
              "color": "white"
             }
            },
            "header": {
             "fill": {
              "color": "#C8D4E3"
             },
             "line": {
              "color": "white"
             }
            },
            "type": "table"
           }
          ]
         },
         "layout": {
          "annotationdefaults": {
           "arrowcolor": "#2a3f5f",
           "arrowhead": 0,
           "arrowwidth": 1
          },
          "autotypenumbers": "strict",
          "coloraxis": {
           "colorbar": {
            "outlinewidth": 0,
            "ticks": ""
           }
          },
          "colorscale": {
           "diverging": [
            [
             0,
             "#8e0152"
            ],
            [
             0.1,
             "#c51b7d"
            ],
            [
             0.2,
             "#de77ae"
            ],
            [
             0.3,
             "#f1b6da"
            ],
            [
             0.4,
             "#fde0ef"
            ],
            [
             0.5,
             "#f7f7f7"
            ],
            [
             0.6,
             "#e6f5d0"
            ],
            [
             0.7,
             "#b8e186"
            ],
            [
             0.8,
             "#7fbc41"
            ],
            [
             0.9,
             "#4d9221"
            ],
            [
             1,
             "#276419"
            ]
           ],
           "sequential": [
            [
             0,
             "#0d0887"
            ],
            [
             0.1111111111111111,
             "#46039f"
            ],
            [
             0.2222222222222222,
             "#7201a8"
            ],
            [
             0.3333333333333333,
             "#9c179e"
            ],
            [
             0.4444444444444444,
             "#bd3786"
            ],
            [
             0.5555555555555556,
             "#d8576b"
            ],
            [
             0.6666666666666666,
             "#ed7953"
            ],
            [
             0.7777777777777778,
             "#fb9f3a"
            ],
            [
             0.8888888888888888,
             "#fdca26"
            ],
            [
             1,
             "#f0f921"
            ]
           ],
           "sequentialminus": [
            [
             0,
             "#0d0887"
            ],
            [
             0.1111111111111111,
             "#46039f"
            ],
            [
             0.2222222222222222,
             "#7201a8"
            ],
            [
             0.3333333333333333,
             "#9c179e"
            ],
            [
             0.4444444444444444,
             "#bd3786"
            ],
            [
             0.5555555555555556,
             "#d8576b"
            ],
            [
             0.6666666666666666,
             "#ed7953"
            ],
            [
             0.7777777777777778,
             "#fb9f3a"
            ],
            [
             0.8888888888888888,
             "#fdca26"
            ],
            [
             1,
             "#f0f921"
            ]
           ]
          },
          "colorway": [
           "#636efa",
           "#EF553B",
           "#00cc96",
           "#ab63fa",
           "#FFA15A",
           "#19d3f3",
           "#FF6692",
           "#B6E880",
           "#FF97FF",
           "#FECB52"
          ],
          "font": {
           "color": "#2a3f5f"
          },
          "geo": {
           "bgcolor": "white",
           "lakecolor": "white",
           "landcolor": "#E5ECF6",
           "showlakes": true,
           "showland": true,
           "subunitcolor": "white"
          },
          "hoverlabel": {
           "align": "left"
          },
          "hovermode": "closest",
          "mapbox": {
           "style": "light"
          },
          "paper_bgcolor": "white",
          "plot_bgcolor": "#E5ECF6",
          "polar": {
           "angularaxis": {
            "gridcolor": "white",
            "linecolor": "white",
            "ticks": ""
           },
           "bgcolor": "#E5ECF6",
           "radialaxis": {
            "gridcolor": "white",
            "linecolor": "white",
            "ticks": ""
           }
          },
          "scene": {
           "xaxis": {
            "backgroundcolor": "#E5ECF6",
            "gridcolor": "white",
            "gridwidth": 2,
            "linecolor": "white",
            "showbackground": true,
            "ticks": "",
            "zerolinecolor": "white"
           },
           "yaxis": {
            "backgroundcolor": "#E5ECF6",
            "gridcolor": "white",
            "gridwidth": 2,
            "linecolor": "white",
            "showbackground": true,
            "ticks": "",
            "zerolinecolor": "white"
           },
           "zaxis": {
            "backgroundcolor": "#E5ECF6",
            "gridcolor": "white",
            "gridwidth": 2,
            "linecolor": "white",
            "showbackground": true,
            "ticks": "",
            "zerolinecolor": "white"
           }
          },
          "shapedefaults": {
           "line": {
            "color": "#2a3f5f"
           }
          },
          "ternary": {
           "aaxis": {
            "gridcolor": "white",
            "linecolor": "white",
            "ticks": ""
           },
           "baxis": {
            "gridcolor": "white",
            "linecolor": "white",
            "ticks": ""
           },
           "bgcolor": "#E5ECF6",
           "caxis": {
            "gridcolor": "white",
            "linecolor": "white",
            "ticks": ""
           }
          },
          "title": {
           "x": 0.05
          },
          "xaxis": {
           "automargin": true,
           "gridcolor": "white",
           "linecolor": "white",
           "ticks": "",
           "title": {
            "standoff": 15
           },
           "zerolinecolor": "white",
           "zerolinewidth": 2
          },
          "yaxis": {
           "automargin": true,
           "gridcolor": "white",
           "linecolor": "white",
           "ticks": "",
           "title": {
            "standoff": 15
           },
           "zerolinecolor": "white",
           "zerolinewidth": 2
          }
         }
        },
        "title": {
         "text": "PC1 Projection Distribution per Group"
        },
        "violinmode": "overlay",
        "xaxis": {
         "title": {
          "text": "Protein Cluster"
         }
        },
        "yaxis": {
         "range": [
          -12,
          12
         ],
         "title": {
          "text": "PC1"
         }
        }
       }
      }
     },
     "metadata": {},
     "output_type": "display_data"
    }
   ],
   "source": [
    "# La PC1 de qq1 y qq3 separan entre grupos. Sacar violin plot de la proyección\n",
    "qqcomE\n",
    "tmp = dict(list(mdata.set_index('Seqn').loc[qqcomE.index].reset_index('Seqn').groupby('Group')))\n",
    "tmp2 = pd.melt(qqcomE.reset_index('Seqn'), id_vars='Seqn', value_vars=qqcomE.columns).set_index('Seqn')\n",
    "\n",
    "fig = go.Figure()\n",
    "fig.add_trace(go.Violin(x=tmp2.loc[tmp['C'].Seqn].variable,\n",
    "                        y=tmp2.loc[tmp['C'].Seqn].value,\n",
    "                        legendgroup='C', scalegroup='C', name='C',\n",
    "                        side='negative',\n",
    "                        line_color=palette[0])\n",
    "             )\n",
    "fig.add_trace(go.Violin(x=tmp2.loc[tmp['D'].Seqn].variable,\n",
    "                        y=tmp2.loc[tmp['D'].Seqn].value,\n",
    "                        legendgroup='D', scalegroup='D', name='D',\n",
    "                        side='positive',\n",
    "                        line_color=palette[1])\n",
    "             )\n",
    "\n",
    "fig.update_traces(box_visible=False, meanline_visible=True)\n",
    "fig.update_layout(violinmode='overlay', title='PC1 Projection Distribution per Group')\n",
    "fig.update_yaxes(title='PC1', range=(-12,12))\n",
    "fig.update_xaxes(title='Protein Cluster')\n",
    "fig.show()"
   ]
  },
  {
   "cell_type": "code",
   "execution_count": 141,
   "metadata": {},
   "outputs": [
    {
     "data": {
      "application/vnd.plotly.v1+json": {
       "config": {
        "plotlyServerURL": "https://plot.ly"
       },
       "data": [
        {
         "marker": {
          "color": "#636EFA",
          "size": 2.5
         },
         "mode": "markers",
         "showlegend": false,
         "type": "scatter",
         "x": [
          3.3165376063131875,
          8.24337266948272,
          -2.755610016950869,
          -0.242093264008922,
          -3.238776481683722,
          11.094500224243047,
          0.05626369989521037,
          -2.412162306247165,
          -4.858895942044474,
          1.2236798315546895,
          0.417522565167806,
          5.324889901669874,
          0.28146502622454395,
          -7.840658296619638,
          -13.98358014779203,
          6.8857891471954495,
          8.988552090779354,
          0.08328439176640381,
          -6.040340396765623,
          1.3866113455012752,
          -7.305766816571855,
          -7.672567714483552,
          -6.876073644961374,
          -2.9301913640689845,
          -3.134817274589799,
          0.35638849046545396,
          0.1335517945799171,
          10.947487231944312,
          7.865438451407631,
          -1.2959983357788842,
          4.526541247346857,
          7.948268489904472,
          -1.1723216032803465,
          -0.8963609088322299,
          2.134885428002109,
          16.35513684133739,
          -2.460705020869834,
          4.488619852662655,
          3.294837761314269,
          -3.12138435616937,
          -9.121420777668853,
          -6.867831552219888,
          -7.780508724702081,
          -8.827644778073065,
          -3.0227871689807375,
          -11.63989678611435,
          0.4906879982739568,
          5.0439512982292385,
          -7.011176707058105,
          -0.6677075142670995,
          1.1202879733203395,
          -5.722750312826759,
          -3.127561903107707,
          -8.06599386053487,
          4.9649000492793185,
          15.108706720745223,
          -4.874707929123763,
          -7.835333846901159,
          -8.321126362510315,
          -7.806172845485434,
          12.801545234596183,
          15.29159962295381,
          12.881158221646807,
          4.75428333674741,
          2.3739707078974503,
          -2.1008337900208316,
          1.006130637003103,
          9.61297459066199,
          -0.5909094642457552,
          -8.092261532594096,
          -11.466543668891427,
          6.3717041760815665,
          5.004685753212727,
          2.6722042629080596,
          1.6801461890160585,
          4.335544991593658,
          -9.40008759306223,
          -0.7754518145271928,
          0.7284298666278465,
          8.675347042416666,
          5.919276680066226,
          -4.812409135535027,
          -8.671276185781663,
          3.124359416075386,
          -5.316844048879851,
          1.1308377043166982,
          0.11962775477724058,
          -6.444289211296171,
          -0.28302092319079164,
          2.5259213426383713,
          -0.035392515185651965,
          -1.0808333195977506,
          9.788042282924167,
          -3.178243220416842,
          2.0088933230671007,
          -5.009622988476009,
          10.672358756357752,
          -3.57240019529948,
          -15.080746608665924,
          1.2311177784812188,
          0.005728822364069515,
          4.891545162048858,
          -2.4798415780684526,
          -3.6539928834326276,
          -5.47715672933599,
          5.7690636309175884,
          3.392589705696397,
          -2.228379527500258,
          -3.6233846857741567,
          2.5837414536997594,
          2.9222479001117345,
          0.0048860117128061535,
          -7.4006443278991005,
          5.45119816619824,
          -7.9086377880017285,
          -1.609292582988931,
          -7.866953492099638,
          3.540059985778667,
          5.916708002463938,
          -4.752963888476229,
          -2.014518851023106,
          -0.1147949762220435,
          -0.985651274526301,
          -5.758631985826356,
          7.985856110560931,
          2.9090428385958838,
          16.83084894358937,
          -2.840684177474414,
          1.7863833986286664,
          8.4786166753489,
          2.144910435763477,
          5.470871040957522,
          -6.37749356990947,
          5.59511849634574,
          0.715044965251312,
          -2.8273476269799227,
          0.365408075842481,
          -7.855750650484473,
          1.1754673493018373,
          -0.8541706833471777,
          3.2632465195901235,
          -5.657169712904364,
          -11.626930863874513,
          6.960947701223969,
          -4.143967442829022,
          2.018326994872618,
          -2.384096084815933,
          -1.0509970322475213,
          -1.2130805140146816,
          7.473829388895309,
          7.084287555267111,
          10.088117665213332,
          7.389421375654699,
          -2.94328388175292,
          25.88500575620814,
          7.675566312089239,
          -1.359078438096639,
          -7.943995739746285,
          0.33021845007314266,
          -11.351497361163839,
          9.232158712818121,
          -1.5763785942791302,
          4.188687268623017,
          -5.143659435622835,
          3.5451656506313354,
          -0.5921650798250029,
          12.07754768226773,
          -1.1726434416078766,
          4.700786875572648,
          5.881436763181983,
          8.867586970794648,
          6.144820407391766,
          -8.605946590088642,
          6.294490292050199,
          -0.961785431537272,
          10.378710642520515,
          -0.5464442330167018,
          9.113974968771574,
          5.995118792308433,
          -2.7670966486066257,
          -15.504866678813661,
          -11.248581157844086,
          -6.828237201940897,
          3.3629556052320284,
          -6.854150312069255,
          -6.512473533263271,
          -1.7822327906328632,
          -7.7974200403643765,
          5.509886669037302,
          -5.7524131779251775,
          -3.697879877714694,
          10.48799798226373,
          -15.846619108880676,
          5.647202564262638,
          1.2484539689192111,
          12.684073125618257,
          -7.146108949805638,
          -3.7069577734063253,
          7.523836233181412,
          -9.923076033598921,
          1.4221681427539405,
          -4.078228301660264,
          -2.5472048738793416,
          8.623153331401685,
          3.557523769750835,
          5.788854505380744,
          -6.097184201308488,
          -2.027902558235657,
          9.963354728331364,
          6.06552110181685,
          -1.6567371368003305,
          3.7431848300746116,
          6.886626411450653,
          6.909205710819059,
          2.0176211003967057,
          -11.955906022469417,
          -1.1722091061943074,
          -0.13715811570219275,
          -1.0642548436112855,
          7.941576477732657,
          0.46582760349639496,
          -1.646108873635319,
          -1.9661421671869934,
          3.334983496560855,
          -0.41466578193096354,
          -2.0366649525821847,
          0.620407411045162,
          -1.036419352162071,
          -8.931650133873273,
          1.5987369986240925,
          -4.3921340373403375,
          -0.4785662965390489,
          5.702531035849216,
          9.100040139093482,
          -3.3497893735007125,
          -8.219490614138698,
          -3.2897677987740157,
          1.1567044454671054,
          -5.135771583357409,
          -4.9820834244085175,
          3.3523584702299685,
          -4.140394722483673,
          -4.814732556359577,
          -6.4848020872976395,
          -0.9999853806738962,
          -4.866976835892427,
          -4.963405305898395,
          -1.4094933855758662,
          -1.931642760121612,
          -2.6038425635258746,
          -3.6348801974486573,
          -9.690493080696902,
          -5.294881375050635,
          7.412290970283318,
          9.6635371812742,
          -2.358156982308372,
          -0.5214935735797277,
          -2.7857840733454697,
          -3.8698683474177953,
          10.969691626649642,
          6.792675985614597,
          1.8750877402897235,
          2.4299655463406036,
          0.20062479496558103,
          2.0985713244553375,
          -9.944541595488692,
          10.523266576340697,
          -1.6212117647301492,
          -0.9600610562321726,
          -7.518027254560493,
          -1.3504263478042628,
          -5.506894514929283,
          -0.969916698024518,
          10.105989768210726,
          4.172723750866214,
          -0.2068120332396295,
          -2.945719014546516,
          1.2198457030545637,
          5.913718945425474,
          -4.434691362865206,
          -8.799240207656064,
          -1.7714219836202425,
          11.640096282053252,
          14.206315207670286,
          -4.444410536398957,
          4.4950794670095835,
          1.0004280989418195,
          1.9395055744107346,
          -11.026797487839909,
          4.410988157351837,
          6.83224643012618,
          -5.19892261243743,
          3.7651489876606723,
          -2.4668175586267753,
          2.4093258741109715,
          -8.932241477993028,
          13.827534766258585,
          10.908723571005318,
          0.820792585717873,
          -8.968395306891981,
          -2.1231405049766625,
          -6.942351672543833,
          -1.5099209174825003,
          -2.6814046161972516,
          5.360541547510183,
          -12.786385876637652,
          -0.7197069593737646,
          -4.802642784188017,
          -16.510418198061767,
          3.7200823523920983,
          -2.895425726704735,
          12.159561011351704,
          6.5505093147295295,
          6.929383673719327,
          -4.0319928925473825,
          -1.4478578366390236,
          3.9119156750300896,
          1.1338223804779033,
          3.6489811339399094,
          2.7313713154589045,
          -0.9857296165256089,
          1.9512623545903096,
          -3.6057445372392127,
          -10.327326983781756,
          0.4546670679754863,
          -8.17604553363448,
          1.8856450217205531,
          7.864088329395683,
          -8.800526279403925,
          -2.9816325504719097,
          -6.218168163282934,
          4.134626297994331,
          -5.5518709281983165,
          -2.214852522294749,
          -4.980491168123017,
          0.08316221441531575,
          9.39270214641318,
          -4.241977348773575,
          1.977849021081936,
          -5.785542588046913,
          0.1894645046404603,
          2.5751664687475064,
          -1.9195203889821768,
          0.1623941538460192,
          -6.113327305273145,
          -2.3022075100751564,
          0.9411819500292684,
          -1.6011978092777468
         ],
         "xaxis": "x",
         "y": [
          0.15082683279291,
          0.170103325738585,
          0.111034781880105,
          0.179776053100187,
          0.100869961564206,
          0.106425951970053,
          0.111342789483517,
          0.220707878312447,
          0.157231962502151,
          0.0941681217005429,
          0.27340138706609,
          0.0586886704453629,
          0.0752144237376745,
          0.439250260986213,
          0.143778728128999,
          0.0778732507642041,
          0.106386744107888,
          0.223434987929173,
          0.284416231429515,
          0.0636514085955379,
          0.324954101746078,
          0.234469313273207,
          0.187870162343416,
          0.188184734297115,
          0.166093700686288,
          0.143637908520016,
          0.116953974621397,
          0.0502998183470378,
          0.0404105538348015,
          0.0953940134994509,
          0.0955991859336274,
          0.114994681814444,
          0.121254433605169,
          0.0645810032089069,
          0.120997980452284,
          0.0665098391779751,
          0.0915679761343334,
          0.0666185026340703,
          0.0629604202687853,
          0.137955197400543,
          0.194626393303573,
          0.172904357418207,
          0.180631239773462,
          0.10970824564956,
          0.105584470325929,
          0.14356223689553,
          0.105810252102585,
          0.0588174729452046,
          0.134987894338949,
          0.0634675375903816,
          0.171161567804947,
          0.152040482921095,
          0.138316503146987,
          0.121062613522744,
          0.046115606944586,
          0.077704470289513,
          0.106045506313583,
          0.180631239773462,
          0.160911943578395,
          0.157662110725856,
          0.077704470289513,
          0.0526042770589985,
          0.10092446878243,
          0.105584470325929,
          0.0764232972244369,
          0.100869961564206,
          0.100869961564206,
          0.0802202346618589,
          0.121254433605169,
          0.0878911905398669,
          0.126917798243996,
          0.157662110725856,
          0.0927352873993959,
          0.088081022626797,
          0.0673618347662262,
          0.166436330389463,
          0.14039855660932,
          0.0610577232656411,
          0.102750533024375,
          0.0610577232656411,
          0.0922289014192794,
          0.130635988152675,
          0.0545909157643338,
          0.120534020422296,
          0.10988632750336,
          0.167492442605613,
          0.104655177024721,
          0.0724611395442526,
          0.0617727791767821,
          0.0309321401281847,
          0.0841552033474114,
          0.0920305885004012,
          0.0664989179969857,
          0.121062613522744,
          0.0677773712150112,
          0.08964711449881,
          0.0645142158630004,
          0.125882487374578,
          0.104632414618011,
          0.0966120487008631,
          0.179034558408018,
          0.0641521084773782,
          0.0872931753283576,
          0.0697227242783993,
          0.0737296336979398,
          0.0696810514640419,
          0.0805284508336762,
          0.0665754025808363,
          0.0646553590963955,
          0.0803118109632953,
          0.0889053148212213,
          0.0527524351980812,
          0.092734404444142,
          0.0801379781673042,
          0.120532890837621,
          0.0557799346071468,
          0.115696166971919,
          0.0825129728131481,
          0.0872931753283576,
          0.0914110691929276,
          0.0261107030223557,
          0.0515297420494464,
          0.0641179903486867,
          0.0912144250561531,
          0.0642924870210222,
          0.062018530104871,
          0.0561905620742311,
          0.0435570055031711,
          0.0891439928116553,
          0.0576736378219233,
          0.0812486545885092,
          0.052778109214312,
          0.0729974748924546,
          0.0968224575076632,
          0.0470093476790572,
          0.0363305346490497,
          0.0400260276411733,
          0.0697227242783993,
          0.0697227242783993,
          0.0555992097215521,
          0.0610577232656411,
          0.0584256488680705,
          0.0580645196981447,
          0.131677948777083,
          0.0746265711153169,
          0.0737296336979398,
          0.138163931454089,
          0.0619375079420486,
          0.0560673392539896,
          0.105270529822503,
          0.0697227242783993,
          0.0461692296411982,
          0.0456785438947673,
          0.0780491247160193,
          0.0252390071802939,
          0.098456893832748,
          0.106945981460668,
          0.121430611607064,
          0.041580660898287,
          0.145620895318114,
          0.0264702510258099,
          0.0536744687252528,
          0.0664302184712509,
          0.0669493999702591,
          0.0223157327706429,
          0.050754194028655,
          0.0541310720236634,
          0.0434948611545883,
          0.0223656544797152,
          0.0507270070048135,
          0.0366600866099749,
          0.0574445717334475,
          0.0883125388852117,
          0.0385011546511115,
          0.120997980452284,
          0.068964293506717,
          0.158926914254448,
          0.0854176893074037,
          0.0654502721227915,
          0.261636457657225,
          0.204386233027064,
          0.206397584552222,
          0.137956477094558,
          0.0633288986634414,
          0.0787269620607403,
          0.126917798243996,
          0.0932975761315708,
          0.496609617228571,
          0.142861687697837,
          0.172904357418207,
          0.175451963772391,
          0.160064564174353,
          0.243081079098034,
          0.0872931753283576,
          0.164330013608895,
          0.097841064752205,
          0.127534192084279,
          0.148982356840684,
          0.0716444008748531,
          0.165122333912218,
          0.171741267011961,
          0.067741395697164,
          0.0531672660893055,
          0.197006313933269,
          0.0955991859336274,
          0.131677948777083,
          0.208115406833498,
          0.107719313804258,
          0.0980512099976217,
          0.10459382813478,
          0.105810252102585,
          0.115640727479949,
          0.0802202346618589,
          0.212025205181607,
          0.17028755265665,
          0.195050399966279,
          0.0949506010392478,
          0.262039837868516,
          0.15807014283681,
          0.0752534819961292,
          0.15925621039731,
          0.221804278509727,
          0.157663555965087,
          0.205315801702019,
          0.13728613487929,
          0.165202206586141,
          0.125629873530123,
          0.121062613522744,
          0.0976777066302034,
          0.180631239773462,
          0.128565274648337,
          0.121254433605169,
          0.103928102148367,
          0.171741267011961,
          0.100869961564206,
          0.069837111486772,
          0.114994681814444,
          0.102641632696789,
          0.212027082847403,
          0.152040482921095,
          0.10036541896596,
          0.142861687697837,
          0.165036471822297,
          0.0922289014192794,
          0.15925621039731,
          0.214127699867959,
          0.21386083870267,
          0.143180452964929,
          0.0703812243200044,
          0.115886589155523,
          0.127185868978435,
          0.103200897945574,
          0.100692288919912,
          0.0746265711153169,
          0.0968196982616458,
          0.0874483693375157,
          0.137956477094558,
          0.175614283710826,
          0.0879247607760165,
          0.132979733860831,
          0.067741395697164,
          0.15833108745643,
          0.0610577232656411,
          0.0899374153860922,
          0.153874050929026,
          0.137956477094558,
          0.0872931753283576,
          0.159009908808881,
          0.179491789702368,
          0.121521635246106,
          0.151468088861726,
          0.0638963400667832,
          0.0540364026514413,
          0.105584470325929,
          0.151075530247025,
          0.0779577725416574,
          0.0877352490170272,
          0.0803118109632953,
          0.081108631378459,
          0.105284464080946,
          0.115176446796814,
          0.0803849898046683,
          0.0922772246943218,
          0.0606790911304087,
          0.121521635246106,
          0.0502998183470378,
          0.110605536856977,
          0.0922289014192794,
          0.16504852022226,
          0.115195937517527,
          0.0698748314937651,
          0.132528870327276,
          0.0759868786941116,
          0.112250475489009,
          0.0273229054938187,
          0.085279788286866,
          0.0399374998092346,
          0.0924355415259238,
          0.0920805673018588,
          0.0976777066302034,
          0.125769634260764,
          0.0703812243200044,
          0.11638961634491,
          0.0663538946849441,
          0.0514164595316982,
          0.100417765056745,
          0.0849063219280097,
          0.101133191303032,
          0.0581936891248754,
          0.0538889346042797,
          0.073929240192553,
          0.0675937620080552,
          0.138547577703496,
          0.0893023137493992,
          0.0716450910215998,
          0.0685371214212037,
          0.115298856230837,
          0.0816505529630068,
          0.062018530104871,
          0.0419629513262715,
          0.163798215089234,
          0.167015385193503,
          0.112250475489009,
          0.10988632750336,
          0.0801379781673042,
          0.0730691798555258,
          0.0800366139371931,
          0.0882788278688173,
          0.0883125388852117,
          0.128534098451325,
          0.179190095464056,
          0.165377143337542,
          0.10959449792953,
          0.102870254275211,
          0.0922289014192794,
          0.0765401295045555,
          0.0605463444648389,
          0.120851824050001,
          0.0509836220538049,
          0.120851824050001,
          0.0830869092511911,
          0.0920305885004012,
          0.0920305885004012,
          0.144499406417866,
          0.15789784284956,
          0.0606790911304087,
          0.15631747499531,
          0.0857949379947297
         ],
         "yaxis": "y"
        },
        {
         "line": {
          "color": "black",
          "width": 0.5
         },
         "mode": "lines",
         "showlegend": false,
         "type": "scatter",
         "x": [
          -16.510418198061767,
          25.88500575620814
         ],
         "xaxis": "x",
         "y": [
          0.15888879760805394,
          0.031017529862271354
         ],
         "yaxis": "y"
        },
        {
         "marker": {
          "color": "#636EFA",
          "size": 2.5
         },
         "mode": "markers",
         "showlegend": false,
         "type": "scatter",
         "x": [
          3.4789134450643227,
          11.902067681419087,
          -1.1243708161841526,
          -2.500168223773392,
          -2.8312012823814015,
          9.569125908643873,
          5.633481170573819,
          0.8609731659983656,
          -5.8841919275819805,
          -1.476357342975597,
          -2.9185894524625793,
          7.004688197718231,
          1.7319774096950211,
          -8.25165008398994,
          -4.398089845957947,
          4.182928146308999,
          5.5522463460914375,
          -3.039988333322774,
          -9.062850588471644,
          10.036763999405636,
          -11.600781881086505,
          -7.914269159496659,
          -6.319737264280392,
          -1.8048184803824863,
          -0.6552034573344319,
          -1.1834914275136492,
          1.8464847604022523,
          7.506226008066174,
          6.997679935048056,
          5.444994540867822,
          4.163139628202012,
          4.310599259622006,
          -2.50548321187795,
          3.189333204802703,
          3.342214089097185,
          2.2545860718401793,
          3.4243769751642303,
          7.289778984034106,
          -0.1704941357846993,
          6.64670282712448,
          -7.648804358566269,
          -6.7381710790635685,
          -9.946841878136265,
          -6.751665754494204,
          -5.580274168999949,
          -5.141184017393979,
          -2.190765031190554,
          14.532229950175752,
          2.3391445769224792,
          5.192497147897803,
          3.216475504503908,
          -8.151859719885236,
          -9.680961008927731,
          0.9607007282542421,
          2.9382177148085526,
          9.690094571579827,
          -4.218844714692754,
          -5.975498569925186,
          -6.1835086278211575,
          -11.74002069577686,
          3.2531189229416624,
          8.850375801309504,
          7.402403060321301,
          0.24934069244749457,
          4.6456270183744826,
          -2.015972827563425,
          1.1322921696995054,
          6.553668832762516,
          0.3214532718654588,
          -5.5750538934970235,
          -5.248276726448077,
          5.211941382060394,
          10.517809984584519,
          -1.1447381366278275,
          4.029022280953816,
          2.9010391054383065,
          0.5451387980726664,
          0.40499588092048794,
          -1.0775174016066662,
          6.01435259754501,
          4.686845434755377,
          -5.155951177188281,
          -4.38232714899046,
          -0.30114948210245945,
          -1.1938010305520164,
          0.15550562331652518,
          -6.2459688249942635,
          -3.0608360210776335,
          2.589892023329519,
          5.19182699178091,
          -3.5013157362004934,
          0.0879135248601634,
          8.856479973562418,
          1.5011507820224796,
          1.6017931513056316,
          -6.782192761941123,
          9.717942627517498,
          -5.068586079384199,
          -8.655285930966603,
          2.344336772766337,
          1.0559846870381173,
          1.81107055814116,
          -0.3215705775582204,
          -4.615690683512195,
          -3.6829552021589667,
          1.1544624983135905,
          -3.1390593305590895,
          -1.3839032721068127,
          -2.864817081420644,
          5.684621960607696,
          2.6118303428158174,
          -3.910896899441106,
          -4.282908783829336,
          2.7295881559109025,
          -3.8790017746146326,
          1.0378776008537565,
          -9.336704437110296,
          1.6049572505948995,
          1.0888187143069366,
          -2.394749773274635,
          0.01964142077778227,
          -1.0358937003057678,
          3.239428123429774,
          -4.130897973323786,
          3.0148644280551284,
          4.569543858816727,
          11.771858970840219,
          -4.608760637474427,
          -0.12045787139779,
          8.08147575835319,
          -3.1781700696689987,
          5.745662223722513,
          4.627251776440574,
          -1.4971018629239805,
          -0.43037433818815496,
          -0.7801792382986318,
          3.6253396869276493,
          -4.533527846303608,
          0.9616779392827806,
          0.1688068615530224,
          -2.402988913003378,
          -2.4531298623370574,
          -8.175840831348976,
          7.677315651898297,
          -8.05786632749772,
          12.552312597641704,
          -6.8267817763190655,
          -2.100552388090741,
          7.918126941431335,
          0.2744575300188118,
          2.0534978550577496,
          3.1152303981911413,
          -0.9415092528752095,
          -6.83956451513317,
          15.883834648268941,
          1.8673966205309562,
          4.589709955556075,
          -9.49857075273078,
          1.2091771354975824,
          -6.5242347467823025,
          10.021012346478747,
          7.129856427995164,
          -2.3480591491260676,
          -7.149289891380375,
          -0.028242771292390296,
          -1.1174207612551104,
          7.667074744600803,
          6.56876869753936,
          6.327309824107369,
          10.689315267342137,
          6.954116528954509,
          8.106178212862414,
          -7.081753055943382,
          8.38250708715439,
          -1.2083942382750221,
          8.88982565238009,
          0.27347783957592564,
          4.177200974540924,
          1.7324354960600334,
          -5.615718967568172,
          -15.38404191990352,
          -9.159127300729326,
          -3.6478482372958374,
          7.553417201938424,
          -3.9693196652379577,
          0.6574668675125567,
          -3.2038369710610453,
          -4.296505217693697,
          3.5278210380422435,
          -3.579403529690585,
          -6.277420776956354,
          3.534937335773595,
          -13.414284950512554,
          4.3114041230850155,
          -0.4783840269535621,
          3.927372963061793,
          -8.477599982455814,
          -6.501800625300377,
          9.260966564947916,
          -2.346515628555164,
          6.919579530888482,
          -0.951961933971318,
          -5.9912222808156,
          5.7271556417745195,
          3.716991672013381,
          1.0351952532106952,
          -5.2307887983526475,
          -1.2481743474470648,
          6.30355055704489,
          6.776167543573277,
          -3.281615847318383,
          -1.981193242761032,
          1.5165413751653845,
          3.0619713160790174,
          -2.7712364700580476,
          -5.790013402978823,
          -4.4108648093587615,
          -6.730834089930977,
          -0.49045970019432883,
          7.29970869633957,
          0.47906905381966075,
          -1.7096667251776017,
          2.1677691594498034,
          -3.7926980204652843,
          -1.2403486742660488,
          0.4063332636569728,
          0.49529533689735705,
          -4.3997031222358265,
          -2.358514800959714,
          -8.262451785165057,
          -2.250844528026263,
          0.8377336529862385,
          -0.47092226670810344,
          8.283890141872316,
          -1.413446229642559,
          -9.294168994358788,
          -2.69873758926431,
          0.16346072272490905,
          -1.6051376279179597,
          -2.1919940428188016,
          9.968007124707912,
          1.5565531334848697,
          -4.731654142771219,
          -4.7997552985868,
          -3.4580974712774917,
          -1.684428578669565,
          -10.25327700231861,
          -7.381167932641153,
          -1.0987969648565064,
          -2.3806272219028286,
          -0.15286864581314027,
          0.5973772687131307,
          1.5397971969093445,
          10.243446401209681,
          8.048708564435469,
          0.43871329312247925,
          -5.714305591509596,
          -5.455044109871234,
          -4.448522869824091,
          3.15093365075265,
          1.5428573687186402,
          -2.075539102271817,
          6.45579478047498,
          -1.9687229828579726,
          -6.776240884702502,
          -6.952312082417453,
          9.03909778976908,
          -5.24143307607346,
          -0.24958245556182188,
          -5.962065467243384,
          0.7879666652533797,
          -0.45731219112905597,
          -0.9733047588751169,
          4.614756675315121,
          0.350164214268676,
          0.4309067171952394,
          -4.821793338550282,
          3.892864494758905,
          4.832380318508652,
          -1.0860333400157436,
          -10.695518522998741,
          -1.4601711865839822,
          7.745867995581241,
          7.527380870016529,
          -0.06452710690016084,
          9.923390648850766,
          -0.21273669465365505,
          -1.210616558104875,
          -11.79000762960708,
          6.699165184525858,
          5.008131385464963,
          -2.949895769995062,
          1.0500108534962524,
          -0.6353191663137384,
          0.07863046000760819,
          0.3272592087803712,
          10.930465457883544,
          4.686893296915186,
          -1.4829146439058258,
          -7.216074621750314,
          -0.3836084997703559,
          -3.551188581687663,
          -2.965765122407941,
          -0.7475655000887415,
          10.31126318019297,
          -12.152196439572668,
          -0.3113837779896195,
          -8.14700123008302,
          -5.703699298139992,
          5.6507727908078,
          -0.8597661383673653,
          8.758620321225411,
          3.9317207802475744,
          6.09347508001746,
          -2.494455275973489,
          -1.1233222590930507,
          2.880166468796643,
          -5.484877481824279,
          4.842420888655323,
          10.724009296743365,
          -0.6529498005481839,
          5.241799863434607,
          -1.1657311501627732,
          -6.076209041521389,
          4.69801651340151,
          -8.45756993359794,
          5.362351359355919,
          -2.2405278209652186,
          -6.26155487360999,
          -3.752567951949127,
          -6.174944506735308,
          0.6369762893854918,
          3.3890907293002446,
          -3.622919483369011,
          -10.22952743864969,
          -0.17604911955697364,
          9.42447838439773,
          4.506370696828557,
          -0.9034619881731563,
          -6.258642434911337,
          0.6186126813329867,
          3.0963072021305797,
          -5.051658129434931,
          -1.5874090142943607,
          -6.478423937667296,
          -0.05497995337633942,
          2.211674061682881,
          -2.7688954933117924
         ],
         "xaxis": "x2",
         "y": [
          0.15082683279291,
          0.170103325738585,
          0.111034781880105,
          0.179776053100187,
          0.100869961564206,
          0.106425951970053,
          0.111342789483517,
          0.220707878312447,
          0.157231962502151,
          0.0941681217005429,
          0.27340138706609,
          0.0586886704453629,
          0.0752144237376745,
          0.439250260986213,
          0.143778728128999,
          0.0778732507642041,
          0.106386744107888,
          0.223434987929173,
          0.284416231429515,
          0.0636514085955379,
          0.324954101746078,
          0.234469313273207,
          0.187870162343416,
          0.188184734297115,
          0.166093700686288,
          0.143637908520016,
          0.116953974621397,
          0.0502998183470378,
          0.0404105538348015,
          0.0953940134994509,
          0.0955991859336274,
          0.114994681814444,
          0.121254433605169,
          0.0645810032089069,
          0.120997980452284,
          0.0665098391779751,
          0.0915679761343334,
          0.0666185026340703,
          0.0629604202687853,
          0.137955197400543,
          0.194626393303573,
          0.172904357418207,
          0.180631239773462,
          0.10970824564956,
          0.105584470325929,
          0.14356223689553,
          0.105810252102585,
          0.0588174729452046,
          0.134987894338949,
          0.0634675375903816,
          0.171161567804947,
          0.152040482921095,
          0.138316503146987,
          0.121062613522744,
          0.046115606944586,
          0.077704470289513,
          0.106045506313583,
          0.180631239773462,
          0.160911943578395,
          0.157662110725856,
          0.077704470289513,
          0.0526042770589985,
          0.10092446878243,
          0.105584470325929,
          0.0764232972244369,
          0.100869961564206,
          0.100869961564206,
          0.0802202346618589,
          0.121254433605169,
          0.0878911905398669,
          0.126917798243996,
          0.157662110725856,
          0.0927352873993959,
          0.088081022626797,
          0.0673618347662262,
          0.166436330389463,
          0.14039855660932,
          0.0610577232656411,
          0.102750533024375,
          0.0610577232656411,
          0.0922289014192794,
          0.130635988152675,
          0.0545909157643338,
          0.120534020422296,
          0.10988632750336,
          0.167492442605613,
          0.104655177024721,
          0.0724611395442526,
          0.0617727791767821,
          0.0309321401281847,
          0.0841552033474114,
          0.0920305885004012,
          0.0664989179969857,
          0.121062613522744,
          0.0677773712150112,
          0.08964711449881,
          0.0645142158630004,
          0.125882487374578,
          0.104632414618011,
          0.0966120487008631,
          0.179034558408018,
          0.0641521084773782,
          0.0872931753283576,
          0.0697227242783993,
          0.0737296336979398,
          0.0696810514640419,
          0.0805284508336762,
          0.0665754025808363,
          0.0646553590963955,
          0.0803118109632953,
          0.0889053148212213,
          0.0527524351980812,
          0.092734404444142,
          0.0801379781673042,
          0.120532890837621,
          0.0557799346071468,
          0.115696166971919,
          0.0825129728131481,
          0.0872931753283576,
          0.0914110691929276,
          0.0261107030223557,
          0.0515297420494464,
          0.0641179903486867,
          0.0912144250561531,
          0.0642924870210222,
          0.062018530104871,
          0.0561905620742311,
          0.0435570055031711,
          0.0891439928116553,
          0.0576736378219233,
          0.0812486545885092,
          0.052778109214312,
          0.0729974748924546,
          0.0968224575076632,
          0.0470093476790572,
          0.0363305346490497,
          0.0400260276411733,
          0.0697227242783993,
          0.0697227242783993,
          0.0555992097215521,
          0.0610577232656411,
          0.0584256488680705,
          0.0580645196981447,
          0.131677948777083,
          0.0746265711153169,
          0.0737296336979398,
          0.138163931454089,
          0.0619375079420486,
          0.0560673392539896,
          0.105270529822503,
          0.0697227242783993,
          0.0461692296411982,
          0.0456785438947673,
          0.0780491247160193,
          0.0252390071802939,
          0.098456893832748,
          0.106945981460668,
          0.121430611607064,
          0.041580660898287,
          0.145620895318114,
          0.0264702510258099,
          0.0536744687252528,
          0.0664302184712509,
          0.0669493999702591,
          0.0223157327706429,
          0.050754194028655,
          0.0541310720236634,
          0.0434948611545883,
          0.0223656544797152,
          0.0507270070048135,
          0.0366600866099749,
          0.0574445717334475,
          0.0883125388852117,
          0.0385011546511115,
          0.120997980452284,
          0.068964293506717,
          0.158926914254448,
          0.0854176893074037,
          0.0654502721227915,
          0.261636457657225,
          0.204386233027064,
          0.206397584552222,
          0.137956477094558,
          0.0633288986634414,
          0.0787269620607403,
          0.126917798243996,
          0.0932975761315708,
          0.496609617228571,
          0.142861687697837,
          0.172904357418207,
          0.175451963772391,
          0.160064564174353,
          0.243081079098034,
          0.0872931753283576,
          0.164330013608895,
          0.097841064752205,
          0.127534192084279,
          0.148982356840684,
          0.0716444008748531,
          0.165122333912218,
          0.171741267011961,
          0.067741395697164,
          0.0531672660893055,
          0.197006313933269,
          0.0955991859336274,
          0.131677948777083,
          0.208115406833498,
          0.107719313804258,
          0.0980512099976217,
          0.10459382813478,
          0.105810252102585,
          0.115640727479949,
          0.0802202346618589,
          0.212025205181607,
          0.17028755265665,
          0.195050399966279,
          0.0949506010392478,
          0.262039837868516,
          0.15807014283681,
          0.0752534819961292,
          0.15925621039731,
          0.221804278509727,
          0.157663555965087,
          0.205315801702019,
          0.13728613487929,
          0.165202206586141,
          0.125629873530123,
          0.121062613522744,
          0.0976777066302034,
          0.180631239773462,
          0.128565274648337,
          0.121254433605169,
          0.103928102148367,
          0.171741267011961,
          0.100869961564206,
          0.069837111486772,
          0.114994681814444,
          0.102641632696789,
          0.212027082847403,
          0.152040482921095,
          0.10036541896596,
          0.142861687697837,
          0.165036471822297,
          0.0922289014192794,
          0.15925621039731,
          0.214127699867959,
          0.21386083870267,
          0.143180452964929,
          0.0703812243200044,
          0.115886589155523,
          0.127185868978435,
          0.103200897945574,
          0.100692288919912,
          0.0746265711153169,
          0.0968196982616458,
          0.0874483693375157,
          0.137956477094558,
          0.175614283710826,
          0.0879247607760165,
          0.132979733860831,
          0.067741395697164,
          0.15833108745643,
          0.0610577232656411,
          0.0899374153860922,
          0.153874050929026,
          0.137956477094558,
          0.0872931753283576,
          0.159009908808881,
          0.179491789702368,
          0.121521635246106,
          0.151468088861726,
          0.0638963400667832,
          0.0540364026514413,
          0.105584470325929,
          0.151075530247025,
          0.0779577725416574,
          0.0877352490170272,
          0.0803118109632953,
          0.081108631378459,
          0.105284464080946,
          0.115176446796814,
          0.0803849898046683,
          0.0922772246943218,
          0.0606790911304087,
          0.121521635246106,
          0.0502998183470378,
          0.110605536856977,
          0.0922289014192794,
          0.16504852022226,
          0.115195937517527,
          0.0698748314937651,
          0.132528870327276,
          0.0759868786941116,
          0.112250475489009,
          0.0273229054938187,
          0.085279788286866,
          0.0399374998092346,
          0.0924355415259238,
          0.0920805673018588,
          0.0976777066302034,
          0.125769634260764,
          0.0703812243200044,
          0.11638961634491,
          0.0663538946849441,
          0.0514164595316982,
          0.100417765056745,
          0.0849063219280097,
          0.101133191303032,
          0.0581936891248754,
          0.0538889346042797,
          0.073929240192553,
          0.0675937620080552,
          0.138547577703496,
          0.0893023137493992,
          0.0716450910215998,
          0.0685371214212037,
          0.115298856230837,
          0.0816505529630068,
          0.062018530104871,
          0.0419629513262715,
          0.163798215089234,
          0.167015385193503,
          0.112250475489009,
          0.10988632750336,
          0.0801379781673042,
          0.0730691798555258,
          0.0800366139371931,
          0.0882788278688173,
          0.0883125388852117,
          0.128534098451325,
          0.179190095464056,
          0.165377143337542,
          0.10959449792953,
          0.102870254275211,
          0.0922289014192794,
          0.0765401295045555,
          0.0605463444648389,
          0.120851824050001,
          0.0509836220538049,
          0.120851824050001,
          0.0830869092511911,
          0.0920305885004012,
          0.0920305885004012,
          0.144499406417866,
          0.15789784284956,
          0.0606790911304087,
          0.15631747499531,
          0.0857949379947297
         ],
         "yaxis": "y2"
        },
        {
         "line": {
          "color": "black",
          "width": 0.5
         },
         "mode": "lines",
         "showlegend": false,
         "type": "scatter",
         "x": [
          -15.38404191990352,
          15.883834648268941
         ],
         "xaxis": "x2",
         "y": [
          0.17464035185374988,
          0.04141164901403273
         ],
         "yaxis": "y2"
        },
        {
         "marker": {
          "color": "#636EFA",
          "size": 2.5
         },
         "mode": "markers",
         "showlegend": false,
         "type": "scatter",
         "x": [
          -8.927420649861155,
          -19.222093100850344,
          4.058654098710185,
          2.035046478164241,
          -0.23862166339702434,
          -9.685699972612149,
          -9.17530813686653,
          -2.418809120172622,
          -0.30289469207742287,
          1.3839302291493996,
          6.701024952654881,
          -0.0493227663662523,
          -4.324058377531206,
          11.810918695473436,
          0.24798059570723652,
          -6.256320261152971,
          -9.047314407809937,
          6.701849390472418,
          16.82399241863402,
          -6.320808472800059,
          11.275949156247764,
          12.356731191948473,
          6.385288976060641,
          -0.8288991973908845,
          0.5491251471576691,
          1.6918585746371355,
          0.6712672287446195,
          -0.601245497122889,
          -8.199188468007273,
          -11.091802800491548,
          -8.675523640738536,
          1.588353192258143,
          2.1323578749523904,
          -10.277681167097036,
          -8.61187010379101,
          -1.2902168772861053,
          -5.798503917743937,
          -2.93544670941512,
          -3.3059535284231525,
          -5.965262045327799,
          4.573511984184707,
          10.177819367258136,
          8.589417245940034,
          11.78147841800299,
          9.660485714294165,
          3.628087656671039,
          0.6456476302046751,
          -17.41835617495842,
          -1.1706858308995685,
          -9.845058821330666,
          -6.1473834410570465,
          6.951984408743948,
          13.04029637372225,
          0.6173929901845842,
          -3.7805455834024984,
          -10.942368436937711,
          4.531116594901343,
          2.873333877267764,
          2.9745923148797835,
          9.085595128568746,
          1.146549701274576,
          -10.30465246824322,
          -1.487929338708228,
          -6.340920644519838,
          -16.219272014080417,
          9.856120711668284,
          -8.755658393265405,
          -3.7587908808177177,
          -5.094464479908409,
          3.3127465152940787,
          -0.895858449405245,
          -4.5904416703447914,
          -16.956528451431485,
          -0.9931087726523854,
          0.1624335109974208,
          0.48295643683021705,
          -7.427433385399292,
          -2.1054611948160535,
          2.288769888729816,
          5.02969460995181,
          -6.947705536249947,
          3.9483725429736958,
          5.0764950127296,
          -1.2673970369159768,
          -1.1647740620606104,
          -1.894734967633941,
          5.38502402693076,
          1.5683564379175385,
          -1.6971374058260476,
          -5.928838272655088,
          -2.2925442947757073,
          -3.0682750183454712,
          -10.983234654366997,
          -4.1439128219615045,
          -2.6774605285776794,
          14.194643687899044,
          -8.196485840828878,
          9.599689741883433,
          6.233982755041866,
          -3.3793089320796046,
          -0.18168383017285591,
          -0.6674080882574129,
          0.16582441958833413,
          7.810420801712874,
          5.140302933917707,
          3.0263481339459273,
          4.745767716949922,
          -0.0006146177755708178,
          2.642545577767191,
          -6.862256437597636,
          -1.7466728815544876,
          -2.1411368602519345,
          1.6855558242386501,
          12.434554362486486,
          2.103188465166403,
          -6.976652355148878,
          10.542210675409608,
          1.9897748887399356,
          2.5312003793270628,
          -2.1548464879826184,
          2.42960004228512,
          -2.345545083946483,
          -8.512266338946935,
          -1.4648450648692004,
          -1.7547231274302701,
          -5.207298956029765,
          -15.692340940276754,
          3.8184902051838385,
          -1.8317792993070117,
          -4.005389820684632,
          4.088111288117026,
          0.31832176737120166,
          -10.936564635703276,
          -4.81462971800637,
          3.833465253519642,
          4.1692347747373,
          -7.998808118484938,
          3.6494131092240676,
          11.497207182418162,
          -4.816120691396772,
          2.7774988464947623,
          -0.8607590395351956,
          4.86029753825398,
          -0.9605386803432703,
          15.865660483871727,
          -5.462713263607002,
          15.659281678388316,
          2.674634734300056,
          -11.336234824195436,
          2.4282593152049636,
          -2.297187365519913,
          -6.184110220211066,
          -1.0434362215208732,
          7.250498003503475,
          -21.839112905386337,
          -0.3207296807408113,
          -8.915722265301136,
          11.758035638016066,
          -5.086757238683119,
          2.2459638796017147,
          -10.843213439384822,
          -7.393176882071759,
          5.509239899881374,
          8.949527466092837,
          1.2057075068814431,
          4.482843146808362,
          -7.313829091127169,
          -5.445900748550996,
          -13.94541410527849,
          -9.974668822737357,
          -10.36765219393921,
          -1.019084905697265,
          10.468613630673842,
          -14.565298800743648,
          -2.903492427313996,
          -8.404538202612727,
          0.4108143291723306,
          -4.943851844494093,
          -4.51422481578042,
          11.44302390962208,
          11.582828799189436,
          10.338268836911942,
          2.101417919296325,
          -5.441394978565107,
          -0.0908155901853617,
          -2.5769096358226626,
          6.795968799369011,
          1.6590666034861048,
          -11.21639754829785,
          7.016147721895746,
          5.384314245546685,
          -6.14821450023189,
          17.808581181043433,
          5.011724582104942,
          -4.984202422215558,
          -6.990029514691708,
          5.0277989887026475,
          0.7934536160010033,
          -13.941790686480285,
          -0.2308107113878238,
          -8.466771160363482,
          -2.853833871811243,
          4.137210924598452,
          0.1466820204074096,
          -8.823027194230798,
          4.436549040415967,
          12.370388285784367,
          -1.5279026611501239,
          -7.892813769524785,
          -11.393213275384213,
          7.566898559132122,
          0.782850228417866,
          5.939704495081649,
          3.552257756101572,
          -5.82637623546635,
          1.41315832235822,
          5.313991280287311,
          22.72964104728881,
          -2.2406885977633526,
          -1.2990378990472244,
          -0.9454873582147375,
          6.126393464296228,
          -4.744494150378522,
          4.370199372117564,
          -4.907871780080745,
          -3.4308004968812593,
          -1.720069619180413,
          6.377505897286263,
          0.7585941689488435,
          7.3079426957305245,
          4.518681762939799,
          -3.3624174820287718,
          3.3813239320723536,
          -8.196219730875642,
          12.148849478001043,
          10.06018917360351,
          4.268882372500131,
          -2.664270288610584,
          -2.5693372531252456,
          -1.9845712557367425,
          -6.826992264184296,
          6.6162106120712565,
          0.7385385244801085,
          10.350896788747198,
          1.0431209690151086,
          0.18111912945585357,
          15.807699333000752,
          2.614589161759724,
          1.4626989249517772,
          4.615022943495355,
          -3.1166953454951707,
          -3.449933880234512,
          -2.859005765218469,
          -11.20687656305437,
          -1.2246729553469033,
          -1.7317259264062819,
          7.700830908398572,
          3.937868375620425,
          3.2381408119476487,
          1.431617202144758,
          -2.8367302215230876,
          3.72176482441915,
          -4.015290365234258,
          0.48482443069886666,
          13.452607041444752,
          8.660651461277963,
          3.5224249312561566,
          6.312199511580523,
          0.24788462904372247,
          1.73092275016685,
          -3.244895774102296,
          -2.9335966774405984,
          1.1768416770618455,
          -4.409167240847452,
          1.6397372943434805,
          4.72330788622226,
          1.2618007294169333,
          -11.723583892201933,
          -3.539051697621025,
          2.7343236530266752,
          2.290059636366857,
          0.78089258667642,
          0.42947035050763877,
          0.8635060792461992,
          -0.26235654109985335,
          -11.833173095774136,
          8.67777707875292,
          -3.546428369062569,
          12.942258402918402,
          -3.6782928404995054,
          -1.920547943753487,
          4.178623327339682,
          6.15490295539469,
          -5.213439424324686,
          1.454714100248615,
          -0.8941075595858642,
          -7.238302640136047,
          1.8585661603608499,
          1.997941129829761,
          9.144771971686517,
          0.9565046440521764,
          3.904520398538066,
          0.9083272975876339,
          4.946843001367388,
          -15.966748388584922,
          14.22156681138499,
          -1.0886795063913883,
          7.233769527498155,
          0.27806827443769494,
          -5.4225812524641235,
          6.16003089392261,
          -1.453488004319943,
          -4.876595819191314,
          -8.37357584799088,
          5.781067727548371,
          -1.9121165160861415,
          3.7432490157660987,
          2.829928251665959,
          -6.865717967381387,
          -13.218904428177444,
          2.3035506297552573,
          -11.27939020383306,
          7.5243895675207035,
          7.471921013494218,
          -5.223868194271835,
          3.5977196527808895,
          -6.8982248188241035,
          0.051146953024488,
          6.035492988055195,
          5.208629988161385,
          3.9800437956618278,
          -4.487440737299173,
          -9.280623377668787,
          0.0006188381293429602,
          5.8288885338806296,
          2.0609966738948975,
          -9.317748310281132,
          -3.8098076810665766,
          3.106320222202369,
          11.037681978201602,
          -5.182719182262463,
          -2.741229799005602,
          8.780205361072081,
          10.972651105388442,
          2.7895860738607325,
          -3.346172930820203,
          -0.2550433706727024,
          9.090863335921824
         ],
         "xaxis": "x3",
         "y": [
          0.15082683279291,
          0.170103325738585,
          0.111034781880105,
          0.179776053100187,
          0.100869961564206,
          0.106425951970053,
          0.111342789483517,
          0.220707878312447,
          0.157231962502151,
          0.0941681217005429,
          0.27340138706609,
          0.0586886704453629,
          0.0752144237376745,
          0.439250260986213,
          0.143778728128999,
          0.0778732507642041,
          0.106386744107888,
          0.223434987929173,
          0.284416231429515,
          0.0636514085955379,
          0.324954101746078,
          0.234469313273207,
          0.187870162343416,
          0.188184734297115,
          0.166093700686288,
          0.143637908520016,
          0.116953974621397,
          0.0502998183470378,
          0.0404105538348015,
          0.0953940134994509,
          0.0955991859336274,
          0.114994681814444,
          0.121254433605169,
          0.0645810032089069,
          0.120997980452284,
          0.0665098391779751,
          0.0915679761343334,
          0.0666185026340703,
          0.0629604202687853,
          0.137955197400543,
          0.194626393303573,
          0.172904357418207,
          0.180631239773462,
          0.10970824564956,
          0.105584470325929,
          0.14356223689553,
          0.105810252102585,
          0.0588174729452046,
          0.134987894338949,
          0.0634675375903816,
          0.171161567804947,
          0.152040482921095,
          0.138316503146987,
          0.121062613522744,
          0.046115606944586,
          0.077704470289513,
          0.106045506313583,
          0.180631239773462,
          0.160911943578395,
          0.157662110725856,
          0.077704470289513,
          0.0526042770589985,
          0.10092446878243,
          0.105584470325929,
          0.0764232972244369,
          0.100869961564206,
          0.100869961564206,
          0.0802202346618589,
          0.121254433605169,
          0.0878911905398669,
          0.126917798243996,
          0.157662110725856,
          0.0927352873993959,
          0.088081022626797,
          0.0673618347662262,
          0.166436330389463,
          0.14039855660932,
          0.0610577232656411,
          0.102750533024375,
          0.0610577232656411,
          0.0922289014192794,
          0.130635988152675,
          0.0545909157643338,
          0.120534020422296,
          0.10988632750336,
          0.167492442605613,
          0.104655177024721,
          0.0724611395442526,
          0.0617727791767821,
          0.0309321401281847,
          0.0841552033474114,
          0.0920305885004012,
          0.0664989179969857,
          0.121062613522744,
          0.0677773712150112,
          0.08964711449881,
          0.0645142158630004,
          0.125882487374578,
          0.104632414618011,
          0.0966120487008631,
          0.179034558408018,
          0.0641521084773782,
          0.0872931753283576,
          0.0697227242783993,
          0.0737296336979398,
          0.0696810514640419,
          0.0805284508336762,
          0.0665754025808363,
          0.0646553590963955,
          0.0803118109632953,
          0.0889053148212213,
          0.0527524351980812,
          0.092734404444142,
          0.0801379781673042,
          0.120532890837621,
          0.0557799346071468,
          0.115696166971919,
          0.0825129728131481,
          0.0872931753283576,
          0.0914110691929276,
          0.0261107030223557,
          0.0515297420494464,
          0.0641179903486867,
          0.0912144250561531,
          0.0642924870210222,
          0.062018530104871,
          0.0561905620742311,
          0.0435570055031711,
          0.0891439928116553,
          0.0576736378219233,
          0.0812486545885092,
          0.052778109214312,
          0.0729974748924546,
          0.0968224575076632,
          0.0470093476790572,
          0.0363305346490497,
          0.0400260276411733,
          0.0697227242783993,
          0.0697227242783993,
          0.0555992097215521,
          0.0610577232656411,
          0.0584256488680705,
          0.0580645196981447,
          0.131677948777083,
          0.0746265711153169,
          0.0737296336979398,
          0.138163931454089,
          0.0619375079420486,
          0.0560673392539896,
          0.105270529822503,
          0.0697227242783993,
          0.0461692296411982,
          0.0456785438947673,
          0.0780491247160193,
          0.0252390071802939,
          0.098456893832748,
          0.106945981460668,
          0.121430611607064,
          0.041580660898287,
          0.145620895318114,
          0.0264702510258099,
          0.0536744687252528,
          0.0664302184712509,
          0.0669493999702591,
          0.0223157327706429,
          0.050754194028655,
          0.0541310720236634,
          0.0434948611545883,
          0.0223656544797152,
          0.0507270070048135,
          0.0366600866099749,
          0.0574445717334475,
          0.0883125388852117,
          0.0385011546511115,
          0.120997980452284,
          0.068964293506717,
          0.158926914254448,
          0.0854176893074037,
          0.0654502721227915,
          0.261636457657225,
          0.204386233027064,
          0.206397584552222,
          0.137956477094558,
          0.0633288986634414,
          0.0787269620607403,
          0.126917798243996,
          0.0932975761315708,
          0.496609617228571,
          0.142861687697837,
          0.172904357418207,
          0.175451963772391,
          0.160064564174353,
          0.243081079098034,
          0.0872931753283576,
          0.164330013608895,
          0.097841064752205,
          0.127534192084279,
          0.148982356840684,
          0.0716444008748531,
          0.165122333912218,
          0.171741267011961,
          0.067741395697164,
          0.0531672660893055,
          0.197006313933269,
          0.0955991859336274,
          0.131677948777083,
          0.208115406833498,
          0.107719313804258,
          0.0980512099976217,
          0.10459382813478,
          0.105810252102585,
          0.115640727479949,
          0.0802202346618589,
          0.212025205181607,
          0.17028755265665,
          0.195050399966279,
          0.0949506010392478,
          0.262039837868516,
          0.15807014283681,
          0.0752534819961292,
          0.15925621039731,
          0.221804278509727,
          0.157663555965087,
          0.205315801702019,
          0.13728613487929,
          0.165202206586141,
          0.125629873530123,
          0.121062613522744,
          0.0976777066302034,
          0.180631239773462,
          0.128565274648337,
          0.121254433605169,
          0.103928102148367,
          0.171741267011961,
          0.100869961564206,
          0.069837111486772,
          0.114994681814444,
          0.102641632696789,
          0.212027082847403,
          0.152040482921095,
          0.10036541896596,
          0.142861687697837,
          0.165036471822297,
          0.0922289014192794,
          0.15925621039731,
          0.214127699867959,
          0.21386083870267,
          0.143180452964929,
          0.0703812243200044,
          0.115886589155523,
          0.127185868978435,
          0.103200897945574,
          0.100692288919912,
          0.0746265711153169,
          0.0968196982616458,
          0.0874483693375157,
          0.137956477094558,
          0.175614283710826,
          0.0879247607760165,
          0.132979733860831,
          0.067741395697164,
          0.15833108745643,
          0.0610577232656411,
          0.0899374153860922,
          0.153874050929026,
          0.137956477094558,
          0.0872931753283576,
          0.159009908808881,
          0.179491789702368,
          0.121521635246106,
          0.151468088861726,
          0.0638963400667832,
          0.0540364026514413,
          0.105584470325929,
          0.151075530247025,
          0.0779577725416574,
          0.0877352490170272,
          0.0803118109632953,
          0.081108631378459,
          0.105284464080946,
          0.115176446796814,
          0.0803849898046683,
          0.0922772246943218,
          0.0606790911304087,
          0.121521635246106,
          0.0502998183470378,
          0.110605536856977,
          0.0922289014192794,
          0.16504852022226,
          0.115195937517527,
          0.0698748314937651,
          0.132528870327276,
          0.0759868786941116,
          0.112250475489009,
          0.0273229054938187,
          0.085279788286866,
          0.0399374998092346,
          0.0924355415259238,
          0.0920805673018588,
          0.0976777066302034,
          0.125769634260764,
          0.0703812243200044,
          0.11638961634491,
          0.0663538946849441,
          0.0514164595316982,
          0.100417765056745,
          0.0849063219280097,
          0.101133191303032,
          0.0581936891248754,
          0.0538889346042797,
          0.073929240192553,
          0.0675937620080552,
          0.138547577703496,
          0.0893023137493992,
          0.0716450910215998,
          0.0685371214212037,
          0.115298856230837,
          0.0816505529630068,
          0.062018530104871,
          0.0419629513262715,
          0.163798215089234,
          0.167015385193503,
          0.112250475489009,
          0.10988632750336,
          0.0801379781673042,
          0.0730691798555258,
          0.0800366139371931,
          0.0882788278688173,
          0.0883125388852117,
          0.128534098451325,
          0.179190095464056,
          0.165377143337542,
          0.10959449792953,
          0.102870254275211,
          0.0922289014192794,
          0.0765401295045555,
          0.0605463444648389,
          0.120851824050001,
          0.0509836220538049,
          0.120851824050001,
          0.0830869092511911,
          0.0920305885004012,
          0.0920305885004012,
          0.144499406417866,
          0.15789784284956,
          0.0606790911304087,
          0.15631747499531,
          0.0857949379947297
         ],
         "yaxis": "y3"
        },
        {
         "line": {
          "color": "black",
          "width": 0.5
         },
         "mode": "lines",
         "showlegend": false,
         "type": "scatter",
         "x": [
          -21.839112905386337,
          22.72964104728881
         ],
         "xaxis": "x3",
         "y": [
          0.04468124780895859,
          0.1761267220607729
         ],
         "yaxis": "y3"
        },
        {
         "marker": {
          "color": "#636EFA",
          "size": 2.5
         },
         "mode": "markers",
         "showlegend": false,
         "type": "scatter",
         "x": [
          4.9691821695326714,
          11.773829220381982,
          -1.3320901306057342,
          -1.9615382004305173,
          -5.054194834815263,
          7.005919146582022,
          -0.5569450558581673,
          -3.049419916371808,
          -5.969768496418352,
          2.0508363928865903,
          -2.063809693378555,
          2.479403236922388,
          1.5026807470276213,
          -9.002365935833417,
          -8.340443726207338,
          5.647518169487177,
          2.787502233251936,
          -4.8205251575229715,
          -5.5095496544629645,
          6.661449790533846,
          -6.402404243450369,
          -3.6082705007652787,
          -2.9036086965840573,
          -8.013493737779518,
          3.106693056615145,
          2.9925993994812905,
          -10.44407670329643,
          1.8572457563828653,
          -1.0824207056988477,
          6.6205026299532195,
          -2.0696241878142616,
          -6.230445962430384,
          -2.6179758040698564,
          7.3144046330020585,
          12.098800352772233,
          3.395304803110062,
          1.452531689246924,
          2.3981486508131487,
          6.153592163235616,
          4.93033839649913,
          -2.628421268906616,
          -1.997207346938825,
          -3.9359426319328996,
          -5.97236191610233,
          -5.406899770698463,
          -0.5997553643689971,
          -0.13034802233296,
          3.6213142926818773,
          -0.2694680477098116,
          0.10564200572127924,
          2.8794348205650038,
          -9.614154543143057,
          -7.5214538644750775,
          -5.350951552399952,
          6.45546230303854,
          7.866087194094193,
          0.8793661950816709,
          -4.396529890089963,
          -1.6856738978658237,
          -6.314867613381119,
          4.651081286703975,
          -4.6936189265565025,
          7.741822728928025,
          8.2141198644079,
          4.360906820831842,
          0.7572600558278014,
          9.704170950121974,
          7.880051564959952,
          2.056409911475539,
          0.6747808206571193,
          -3.804710416086193,
          -0.87938743054322,
          4.165369268676742,
          1.2708559427038655,
          -2.0426026817382765,
          -1.211307571573885,
          2.53029224168872,
          4.850157575654588,
          -3.5330253682733104,
          1.3679005679197487,
          0.2570004203092607,
          -4.982444530123033,
          2.127417668274192,
          -3.3251685272667566,
          0.2303064581728634,
          6.788363150914031,
          0.027473156824524912,
          -7.316677022136964,
          2.4753038443811115,
          6.725175154947902,
          2.528080568827562,
          6.471370276184845,
          5.445221265231452,
          3.049340692339403,
          6.8039934850228425,
          0.6158922110528751,
          10.413615768187793,
          -5.814439597191285,
          -13.413054382453716,
          -4.0344909047333,
          -2.1231003701103717,
          -0.25923209282453546,
          1.5232046084314836,
          -3.5669375195724604,
          -2.8426702805797532,
          -2.9908876625430385,
          -4.662565759354909,
          1.0004165386184605,
          -2.255143565214457,
          -3.5615708213035533,
          8.41911878554589,
          8.342959366699327,
          -0.6646726641179318,
          2.901210039105113,
          -0.6999785499657134,
          7.062674108016557,
          -9.945360259263445,
          -5.289767498221784,
          0.6178550474201793,
          1.024094169799689,
          -2.2601318592833572,
          -0.3336380499725454,
          5.714400904151746,
          -1.2208440808162015,
          -4.267999613155322,
          4.27632075777764,
          4.630953798697869,
          -1.6859835916435606,
          1.2586544872679581,
          6.773078336542136,
          2.3793366450617244,
          -2.442650733300888,
          6.96263709865205,
          -2.821773382714674,
          -5.844678402459949,
          4.654427381803887,
          3.46325458327883,
          -1.1139892640581306,
          -4.030917210645575,
          1.8954651788146515,
          0.4373642892970039,
          -7.1200902738562215,
          -4.1130845786161,
          -2.1840622725970222,
          -3.1098970162102684,
          -2.925101409995523,
          -4.673673283405562,
          -1.7716427807482504,
          7.190542655561882,
          5.459456518667585,
          5.2479141641126725,
          2.5686397635211713,
          0.8492352780984004,
          -3.7226109579378877,
          14.669646720609984,
          -4.155499125562887,
          6.477200567905633,
          -9.004699786827171,
          1.4155467855103683,
          -0.7357930986035413,
          5.627656126791942,
          4.124816486811235,
          -4.050198901209433,
          -0.13413199357683445,
          2.17519430564985,
          0.19005447649071036,
          6.140993507389834,
          -4.836769506445483,
          7.3300806153544595,
          6.586958984784158,
          8.164605337118203,
          1.4486439745380157,
          -8.859123550598184,
          5.471783355778667,
          1.6450458474531504,
          8.87821574440409,
          0.756746523284418,
          7.3854111238589635,
          -0.6618386711054771,
          -10.297731707894295,
          -8.254438832087335,
          -6.4399864946369805,
          1.5105651568163148,
          2.0500036608099172,
          -1.0715374245175855,
          -3.1771695638780053,
          -4.795713938594272,
          1.2636509334597354,
          2.2441135197566857,
          -3.8975633574144863,
          -11.125727925831368,
          5.448149035925023,
          -9.29275514616582,
          -1.132609944285904,
          3.760710196533619,
          3.6124826811484274,
          -5.119150481519507,
          -3.084210823477327,
          8.359175372985835,
          -1.5637303554237825,
          2.3424029595699345,
          4.070330472686982,
          2.4591485241117783,
          1.1725525084379873,
          3.619829425154204,
          -1.6594971977218242,
          -6.484187723087811,
          -3.375015431925273,
          3.492443028613565,
          4.967515000946377,
          -0.6091744429718066,
          -1.9717830893375288,
          -2.8875180903053486,
          -3.5962996996763477,
          -2.3244655266522276,
          -2.880054462839307,
          -1.532253795998651,
          -0.5437790582143949,
          0.10827034351233489,
          4.50498912702544,
          1.2744637569278632,
          -2.3658075680005313,
          0.8705375628552567,
          -7.5519242758075364,
          1.4276766188684609,
          -0.06286478224160806,
          -2.170645877577378,
          -0.36866703468393003,
          -1.3483154996725542,
          -2.906685888414697,
          3.0674872846195202,
          2.6929569167385687,
          3.5380167565738745,
          1.3958821477224137,
          -2.385538874117217,
          -3.2855567214545287,
          2.9715798454850337,
          2.1383401111101614,
          -2.349802289539744,
          5.5296407408132895,
          9.409777609978342,
          -2.8234874074001053,
          -7.319592969596749,
          -1.8364244099258928,
          1.0188400916469789,
          3.8744819102726296,
          -2.4686669660755456,
          -1.1197804639219011,
          -5.838025293149873,
          -5.804515464639994,
          -3.7379481323798784,
          2.3415794699544623,
          -1.7900399968630853,
          1.4717659317823382,
          8.912010117477601,
          -6.469561541317442,
          -7.288759444038487,
          1.2506061156202481,
          -6.221175551686017,
          3.0208372107441415,
          8.058593762269632,
          3.275015696292525,
          0.303643393842872,
          -3.615862776477851,
          -3.7778231756464073,
          -6.074792361190376,
          -2.688287773086415,
          -8.382974852584788,
          -1.8135507819591872,
          -1.2516135925150296,
          0.6179951852641387,
          -0.7655790520848457,
          -4.939624492114366,
          2.782604192173863,
          2.936578287020881,
          -0.10525351285950313,
          -4.546224210064816,
          9.067262262309066,
          0.6528081990672386,
          -3.1992396171898987,
          -0.9247413139409831,
          -9.47108572194543,
          0.19767505236268285,
          5.996400475766081,
          -1.1479600585076273,
          1.6457317405406426,
          -0.9780742819228948,
          6.374938048967304,
          -4.995723534629479,
          5.306977427627419,
          1.5167778251081487,
          -7.959837646002107,
          -7.656479486134135,
          4.064856657269193,
          3.4669134974383975,
          -7.820538463867642,
          7.593562674885794,
          3.2651085152328054,
          2.9362106964438004,
          -3.540732778343137,
          -1.2869081713758848,
          -7.119831128663125,
          0.647899526622803,
          -9.240958623350968,
          8.932929471543577,
          -7.761572458933206,
          -1.2800392309566395,
          -10.512165853888495,
          -8.035657878279324,
          4.337932319950749,
          3.5135551845033466,
          8.274047174094116,
          10.60908208060895,
          6.403306894935614,
          -5.165694153189545,
          -3.5237145493416158,
          0.576815354254942,
          -2.7605906652267813,
          11.325837706912436,
          6.840287269130595,
          -3.87735383753266,
          4.989306917435487,
          6.250126869254022,
          -1.7189435919650988,
          0.8554437024252498,
          -2.5734629303795784,
          -1.1321734386905706,
          -6.615536067828076,
          -6.408660351306026,
          -9.291580728804586,
          0.0069004006489978035,
          -5.267244120465594,
          12.238760550309294,
          0.9643120574309967,
          -4.194486583138696,
          -1.504259201290808,
          3.909064074086918,
          2.7960337103234223,
          -5.524096856910282,
          -8.253739484326877,
          2.4956755346110895,
          3.4863577614086156,
          1.4836284150527819,
          0.30285191415298324,
          -0.2800283640395548,
          2.4828348323765046,
          -0.5689190606752432,
          1.7276090343746473
         ],
         "xaxis": "x4",
         "y": [
          0.15082683279291,
          0.170103325738585,
          0.111034781880105,
          0.179776053100187,
          0.100869961564206,
          0.106425951970053,
          0.111342789483517,
          0.220707878312447,
          0.157231962502151,
          0.0941681217005429,
          0.27340138706609,
          0.0586886704453629,
          0.0752144237376745,
          0.439250260986213,
          0.143778728128999,
          0.0778732507642041,
          0.106386744107888,
          0.223434987929173,
          0.284416231429515,
          0.0636514085955379,
          0.324954101746078,
          0.234469313273207,
          0.187870162343416,
          0.188184734297115,
          0.166093700686288,
          0.143637908520016,
          0.116953974621397,
          0.0502998183470378,
          0.0404105538348015,
          0.0953940134994509,
          0.0955991859336274,
          0.114994681814444,
          0.121254433605169,
          0.0645810032089069,
          0.120997980452284,
          0.0665098391779751,
          0.0915679761343334,
          0.0666185026340703,
          0.0629604202687853,
          0.137955197400543,
          0.194626393303573,
          0.172904357418207,
          0.180631239773462,
          0.10970824564956,
          0.105584470325929,
          0.14356223689553,
          0.105810252102585,
          0.0588174729452046,
          0.134987894338949,
          0.0634675375903816,
          0.171161567804947,
          0.152040482921095,
          0.138316503146987,
          0.121062613522744,
          0.046115606944586,
          0.077704470289513,
          0.106045506313583,
          0.180631239773462,
          0.160911943578395,
          0.157662110725856,
          0.077704470289513,
          0.0526042770589985,
          0.10092446878243,
          0.105584470325929,
          0.0764232972244369,
          0.100869961564206,
          0.100869961564206,
          0.0802202346618589,
          0.121254433605169,
          0.0878911905398669,
          0.126917798243996,
          0.157662110725856,
          0.0927352873993959,
          0.088081022626797,
          0.0673618347662262,
          0.166436330389463,
          0.14039855660932,
          0.0610577232656411,
          0.102750533024375,
          0.0610577232656411,
          0.0922289014192794,
          0.130635988152675,
          0.0545909157643338,
          0.120534020422296,
          0.10988632750336,
          0.167492442605613,
          0.104655177024721,
          0.0724611395442526,
          0.0617727791767821,
          0.0309321401281847,
          0.0841552033474114,
          0.0920305885004012,
          0.0664989179969857,
          0.121062613522744,
          0.0677773712150112,
          0.08964711449881,
          0.0645142158630004,
          0.125882487374578,
          0.104632414618011,
          0.0966120487008631,
          0.179034558408018,
          0.0641521084773782,
          0.0872931753283576,
          0.0697227242783993,
          0.0737296336979398,
          0.0696810514640419,
          0.0805284508336762,
          0.0665754025808363,
          0.0646553590963955,
          0.0803118109632953,
          0.0889053148212213,
          0.0527524351980812,
          0.092734404444142,
          0.0801379781673042,
          0.120532890837621,
          0.0557799346071468,
          0.115696166971919,
          0.0825129728131481,
          0.0872931753283576,
          0.0914110691929276,
          0.0261107030223557,
          0.0515297420494464,
          0.0641179903486867,
          0.0912144250561531,
          0.0642924870210222,
          0.062018530104871,
          0.0561905620742311,
          0.0435570055031711,
          0.0891439928116553,
          0.0576736378219233,
          0.0812486545885092,
          0.052778109214312,
          0.0729974748924546,
          0.0968224575076632,
          0.0470093476790572,
          0.0363305346490497,
          0.0400260276411733,
          0.0697227242783993,
          0.0697227242783993,
          0.0555992097215521,
          0.0610577232656411,
          0.0584256488680705,
          0.0580645196981447,
          0.131677948777083,
          0.0746265711153169,
          0.0737296336979398,
          0.138163931454089,
          0.0619375079420486,
          0.0560673392539896,
          0.105270529822503,
          0.0697227242783993,
          0.0461692296411982,
          0.0456785438947673,
          0.0780491247160193,
          0.0252390071802939,
          0.098456893832748,
          0.106945981460668,
          0.121430611607064,
          0.041580660898287,
          0.145620895318114,
          0.0264702510258099,
          0.0536744687252528,
          0.0664302184712509,
          0.0669493999702591,
          0.0223157327706429,
          0.050754194028655,
          0.0541310720236634,
          0.0434948611545883,
          0.0223656544797152,
          0.0507270070048135,
          0.0366600866099749,
          0.0574445717334475,
          0.0883125388852117,
          0.0385011546511115,
          0.120997980452284,
          0.068964293506717,
          0.158926914254448,
          0.0854176893074037,
          0.0654502721227915,
          0.261636457657225,
          0.204386233027064,
          0.206397584552222,
          0.137956477094558,
          0.0633288986634414,
          0.0787269620607403,
          0.126917798243996,
          0.0932975761315708,
          0.496609617228571,
          0.142861687697837,
          0.172904357418207,
          0.175451963772391,
          0.160064564174353,
          0.243081079098034,
          0.0872931753283576,
          0.164330013608895,
          0.097841064752205,
          0.127534192084279,
          0.148982356840684,
          0.0716444008748531,
          0.165122333912218,
          0.171741267011961,
          0.067741395697164,
          0.0531672660893055,
          0.197006313933269,
          0.0955991859336274,
          0.131677948777083,
          0.208115406833498,
          0.107719313804258,
          0.0980512099976217,
          0.10459382813478,
          0.105810252102585,
          0.115640727479949,
          0.0802202346618589,
          0.212025205181607,
          0.17028755265665,
          0.195050399966279,
          0.0949506010392478,
          0.262039837868516,
          0.15807014283681,
          0.0752534819961292,
          0.15925621039731,
          0.221804278509727,
          0.157663555965087,
          0.205315801702019,
          0.13728613487929,
          0.165202206586141,
          0.125629873530123,
          0.121062613522744,
          0.0976777066302034,
          0.180631239773462,
          0.128565274648337,
          0.121254433605169,
          0.103928102148367,
          0.171741267011961,
          0.100869961564206,
          0.069837111486772,
          0.114994681814444,
          0.102641632696789,
          0.212027082847403,
          0.152040482921095,
          0.10036541896596,
          0.142861687697837,
          0.165036471822297,
          0.0922289014192794,
          0.15925621039731,
          0.214127699867959,
          0.21386083870267,
          0.143180452964929,
          0.0703812243200044,
          0.115886589155523,
          0.127185868978435,
          0.103200897945574,
          0.100692288919912,
          0.0746265711153169,
          0.0968196982616458,
          0.0874483693375157,
          0.137956477094558,
          0.175614283710826,
          0.0879247607760165,
          0.132979733860831,
          0.067741395697164,
          0.15833108745643,
          0.0610577232656411,
          0.0899374153860922,
          0.153874050929026,
          0.137956477094558,
          0.0872931753283576,
          0.159009908808881,
          0.179491789702368,
          0.121521635246106,
          0.151468088861726,
          0.0638963400667832,
          0.0540364026514413,
          0.105584470325929,
          0.151075530247025,
          0.0779577725416574,
          0.0877352490170272,
          0.0803118109632953,
          0.081108631378459,
          0.105284464080946,
          0.115176446796814,
          0.0803849898046683,
          0.0922772246943218,
          0.0606790911304087,
          0.121521635246106,
          0.0502998183470378,
          0.110605536856977,
          0.0922289014192794,
          0.16504852022226,
          0.115195937517527,
          0.0698748314937651,
          0.132528870327276,
          0.0759868786941116,
          0.112250475489009,
          0.0273229054938187,
          0.085279788286866,
          0.0399374998092346,
          0.0924355415259238,
          0.0920805673018588,
          0.0976777066302034,
          0.125769634260764,
          0.0703812243200044,
          0.11638961634491,
          0.0663538946849441,
          0.0514164595316982,
          0.100417765056745,
          0.0849063219280097,
          0.101133191303032,
          0.0581936891248754,
          0.0538889346042797,
          0.073929240192553,
          0.0675937620080552,
          0.138547577703496,
          0.0893023137493992,
          0.0716450910215998,
          0.0685371214212037,
          0.115298856230837,
          0.0816505529630068,
          0.062018530104871,
          0.0419629513262715,
          0.163798215089234,
          0.167015385193503,
          0.112250475489009,
          0.10988632750336,
          0.0801379781673042,
          0.0730691798555258,
          0.0800366139371931,
          0.0882788278688173,
          0.0883125388852117,
          0.128534098451325,
          0.179190095464056,
          0.165377143337542,
          0.10959449792953,
          0.102870254275211,
          0.0922289014192794,
          0.0765401295045555,
          0.0605463444648389,
          0.120851824050001,
          0.0509836220538049,
          0.120851824050001,
          0.0830869092511911,
          0.0920305885004012,
          0.0920305885004012,
          0.144499406417866,
          0.15789784284956,
          0.0606790911304087,
          0.15631747499531,
          0.0857949379947297
         ],
         "yaxis": "y4"
        },
        {
         "line": {
          "color": "black",
          "width": 0.5
         },
         "mode": "lines",
         "showlegend": false,
         "type": "scatter",
         "x": [
          -13.413054382453716,
          14.669646720609984
         ],
         "xaxis": "x4",
         "y": [
          0.15518240954693335,
          0.05868108749144051
         ],
         "yaxis": "y4"
        },
        {
         "marker": {
          "color": "#636EFA",
          "size": 2.5
         },
         "mode": "markers",
         "showlegend": false,
         "type": "scatter",
         "x": [
          -2.1269888017662626,
          -1.753805481785828,
          -1.2277031148121456,
          -1.2713146838535576,
          3.7421480213618716,
          -4.464077294605743,
          2.981514950401417,
          1.5277873647434679,
          5.818339410185409,
          0.00514520466490638,
          1.4721973680594518,
          -4.762133517436085,
          -8.920386432275144,
          2.2224529619277513,
          3.43322684653931,
          -4.273857814708842,
          -0.6071946215459455,
          1.1209951558149378,
          3.4137606612231197,
          0.10872735595489813,
          2.2738314323528646,
          4.126073029369776,
          0.8157371567995452,
          1.8660689962007815,
          0.39745978701168466,
          0.6964792836246506,
          1.0705869835560156,
          -3.1894133921985617,
          -7.562343565676985,
          1.9322589673802644,
          0.15984191326830377,
          -1.493633437267573,
          5.8888187352725465,
          1.0809929582350135,
          -5.907893293899783,
          5.837879024832328,
          1.5882647626204733,
          -1.7073291578214975,
          -3.42094612882858,
          -2.5049635146301807,
          4.23098804019706,
          1.4027114587587726,
          -3.2456324363649927,
          6.111021161809978,
          3.23977901813644,
          11.92830153490952,
          -0.8483647109504757,
          -4.129020906031904,
          -6.912044304433506,
          6.926871729647264,
          -1.8713403544609701,
          6.054167003533751,
          0.31216964755666393,
          4.580988376856587,
          -4.305183903890324,
          -7.974870890346066,
          -2.8220391140176493,
          -0.8822630424424259,
          3.068133765130893,
          5.825060062538779,
          -6.110128280308532,
          -3.2922100577932096,
          -8.707038129927387,
          -1.0240593659612973,
          1.0047543366988272,
          3.211359480113594,
          -6.211616865344098,
          -1.8840039318770292,
          1.5187207522452886,
          -2.7699095904031825,
          2.103829724884421,
          -7.115454569631166,
          -2.7053681163551304,
          1.2385125235259948,
          -5.063713932172402,
          -4.533229871412022,
          4.645853820964764,
          -0.7701845708333148,
          0.29195657183145335,
          -1.8724875239356313,
          -3.8126115846721924,
          4.2947360129376255,
          -3.811451858441279,
          -3.38101875600379,
          2.114864439908404,
          -1.6146375456729325,
          3.390874187034072,
          9.138121481439935,
          2.13008370161797,
          -4.925067568277113,
          1.5788950639249966,
          1.3146882490255845,
          -5.752089783153387,
          -0.4457767936485136,
          -4.254069013585073,
          -0.7321635806171684,
          -6.672998739600054,
          2.784981996448506,
          22.534148161013963,
          0.03761547098984433,
          -1.1511710590172166,
          -4.5917437117567195,
          3.074036522032086,
          3.19285718723131,
          4.395488949981764,
          2.790016294527232,
          3.274102061287317,
          1.1379001437756477,
          0.3571644310890652,
          -1.1310129662178354,
          -0.9385360296487895,
          -11.07471425350892,
          1.4401351158930036,
          -4.759714062621809,
          0.10878108239619555,
          1.7897664701358134,
          -1.123232901137884,
          -2.4370384214645844,
          1.8344720100336627,
          1.054337605453273,
          2.3155799272771076,
          0.7556993218518063,
          2.4605943909686667,
          8.166669393976123,
          -0.5838368032114557,
          -4.320276511990745,
          -11.477787429998994,
          -3.7040092297176948,
          -5.148293664968069,
          -2.881305215417274,
          0.9656134511947536,
          -1.0314704667748154,
          0.14219909049124116,
          -1.0943317105665429,
          -5.411921039760718,
          1.2112223519062382,
          -2.4440997240445728,
          6.190100548003928,
          2.7762649040515366,
          2.8733946697736403,
          2.046307848948934,
          2.736099604422789,
          5.166316732235457,
          -2.2005359463777046,
          -1.5071341035862331,
          -0.4499465656647213,
          0.8990014291120477,
          4.087508674460539,
          -0.28441561844009494,
          -0.18227332314158337,
          -7.813118719016133,
          -3.1416103276773053,
          1.9405605423066952,
          -1.3107325253426774,
          -5.643778656343508,
          -3.882965302211217,
          -4.914670445117949,
          6.16927482006418,
          3.710862122201516,
          4.738608886433805,
          -4.835125244837512,
          -5.962894187685452,
          -0.998465460085317,
          1.5169522844032324,
          -0.6768345527158935,
          -0.33668467199604163,
          -10.692213874275634,
          5.2370996649749815,
          -0.8691213357050525,
          -5.876380018202275,
          -0.1494137297669244,
          3.519980684276733,
          3.6699925283734416,
          -5.792496131057165,
          3.1807553924233845,
          -9.335911959543662,
          0.2863565367411443,
          -8.327515818947338,
          -0.3311196431560898,
          -0.5648350340576377,
          13.422900106951712,
          10.1906993926635,
          6.429314265715844,
          -2.6760669494146025,
          0.24347955684937392,
          -1.4115819491944188,
          -1.747205916996355,
          2.556419562221973,
          -8.494788871111352,
          1.8900076898472797,
          2.045427536744169,
          -5.819933587868239,
          8.616256636181351,
          -2.639179911432739,
          2.0254386385795895,
          -1.753152455108508,
          1.3088187717259276,
          8.238880833324231,
          -3.722789117821392,
          7.919323508851651,
          -4.804117733802962,
          4.421038426055552,
          0.7693496846128318,
          -2.2033945171030087,
          -2.2744070478008456,
          0.8780759702133079,
          1.3534784160340632,
          6.467587492630931,
          -4.597189275648172,
          -9.751245338254046,
          -1.0220314742108454,
          3.396881158427472,
          3.981743477476658,
          1.5592436036933903,
          2.5199023879632576,
          6.714609330422516,
          -0.18063205464665544,
          2.6466249780285502,
          3.210402339260507,
          -0.863933911579531,
          -3.1620462002671923,
          -1.3804210697786992,
          5.019229366794037,
          0.9053528224687183,
          2.357870366832565,
          -4.484545007787818,
          3.2019206149252666,
          2.3362534407490427,
          -1.893357081423729,
          2.796274656558199,
          -2.6049520210751695,
          6.491157311216704,
          -4.565275245886285,
          -5.588929490366612,
          -1.2269418198211803,
          4.008556043109686,
          2.3341673558252594,
          -3.1244650108239074,
          2.417646570052971,
          1.3412763885942498,
          -5.891322112542253,
          7.33595343245294,
          -0.32016300823795985,
          3.290675463407624,
          -3.559873746740802,
          -0.6189337197057152,
          4.545059793193902,
          -0.3249807499079029,
          3.896201920033443,
          5.9720111865178644,
          -1.9505506724451454,
          1.13259189766411,
          0.18314672260604437,
          -11.141062561984132,
          -2.951361457070348,
          8.52239742835709,
          2.591543594471547,
          -0.8564518171393378,
          2.980522553922733,
          -1.8008543456315114,
          -1.5867848979862471,
          -2.7652157773705524,
          -3.953846848404146,
          -2.627592782263345,
          4.090113054788645,
          5.389680534185632,
          -4.09434474592908,
          0.4256345294534821,
          3.181799168281747,
          3.279401795915556,
          1.073204203347771,
          3.713112400942918,
          -1.9822934576935916,
          -3.405587047867465,
          -4.678429068717827,
          -0.6336002831748883,
          3.2110647798342713,
          -4.5368695965470085,
          -6.893372247447586,
          2.5744977061658156,
          4.409030412643444,
          4.043314507460384,
          -9.836630889939045,
          2.0609213956647516,
          0.11436382089168,
          -1.2057842418759261,
          -0.7376614955753752,
          0.5466747903023608,
          5.912644733303643,
          -5.188685681553842,
          1.3256609079272808,
          1.317231514725325,
          -3.5766561764038927,
          -0.843891888101745,
          1.0796012161540813,
          5.057734312492121,
          -5.381154239460486,
          -10.291201132027904,
          -0.5340596798350141,
          5.295351060172181,
          2.2483787244944202,
          6.0030482972615244,
          -2.1469864745756952,
          -4.221806853618682,
          -2.4411575164928974,
          8.234403888253038,
          -0.9613308234560971,
          1.6921878967743662,
          6.119515384549945,
          -9.23100632048433,
          -2.17107363020778,
          -3.23905761569707,
          -4.780286861156117,
          -2.4354849234022673,
          5.969947238589844,
          -1.9489568600006169,
          -2.2015854278659335,
          -2.581747402415184,
          -4.23401940564308,
          -4.898972705479711,
          3.042331262027013,
          -4.266531737793682,
          -2.6960596338771308,
          4.202526028735281,
          -2.904631730419562,
          0.78405046218811,
          0.9281665035611022,
          -1.1809625341378054,
          5.537217893308675,
          1.5674811828458801,
          -0.15631137763260702,
          1.7385941892479957,
          -3.3808085337616864,
          3.3843141480192838,
          13.726342732029503,
          0.5084759221794382,
          -3.7348094798533915,
          0.2738578543521865,
          0.8201680306283521,
          3.5650099375007507,
          3.3602917268302246,
          -2.1406264467604967,
          2.609538358843448,
          -0.7338653990415382,
          2.922847954576283,
          1.1946995200265231,
          1.644401516211532,
          -6.570794506679092
         ],
         "xaxis": "x5",
         "y": [
          0.15082683279291,
          0.170103325738585,
          0.111034781880105,
          0.179776053100187,
          0.100869961564206,
          0.106425951970053,
          0.111342789483517,
          0.220707878312447,
          0.157231962502151,
          0.0941681217005429,
          0.27340138706609,
          0.0586886704453629,
          0.0752144237376745,
          0.439250260986213,
          0.143778728128999,
          0.0778732507642041,
          0.106386744107888,
          0.223434987929173,
          0.284416231429515,
          0.0636514085955379,
          0.324954101746078,
          0.234469313273207,
          0.187870162343416,
          0.188184734297115,
          0.166093700686288,
          0.143637908520016,
          0.116953974621397,
          0.0502998183470378,
          0.0404105538348015,
          0.0953940134994509,
          0.0955991859336274,
          0.114994681814444,
          0.121254433605169,
          0.0645810032089069,
          0.120997980452284,
          0.0665098391779751,
          0.0915679761343334,
          0.0666185026340703,
          0.0629604202687853,
          0.137955197400543,
          0.194626393303573,
          0.172904357418207,
          0.180631239773462,
          0.10970824564956,
          0.105584470325929,
          0.14356223689553,
          0.105810252102585,
          0.0588174729452046,
          0.134987894338949,
          0.0634675375903816,
          0.171161567804947,
          0.152040482921095,
          0.138316503146987,
          0.121062613522744,
          0.046115606944586,
          0.077704470289513,
          0.106045506313583,
          0.180631239773462,
          0.160911943578395,
          0.157662110725856,
          0.077704470289513,
          0.0526042770589985,
          0.10092446878243,
          0.105584470325929,
          0.0764232972244369,
          0.100869961564206,
          0.100869961564206,
          0.0802202346618589,
          0.121254433605169,
          0.0878911905398669,
          0.126917798243996,
          0.157662110725856,
          0.0927352873993959,
          0.088081022626797,
          0.0673618347662262,
          0.166436330389463,
          0.14039855660932,
          0.0610577232656411,
          0.102750533024375,
          0.0610577232656411,
          0.0922289014192794,
          0.130635988152675,
          0.0545909157643338,
          0.120534020422296,
          0.10988632750336,
          0.167492442605613,
          0.104655177024721,
          0.0724611395442526,
          0.0617727791767821,
          0.0309321401281847,
          0.0841552033474114,
          0.0920305885004012,
          0.0664989179969857,
          0.121062613522744,
          0.0677773712150112,
          0.08964711449881,
          0.0645142158630004,
          0.125882487374578,
          0.104632414618011,
          0.0966120487008631,
          0.179034558408018,
          0.0641521084773782,
          0.0872931753283576,
          0.0697227242783993,
          0.0737296336979398,
          0.0696810514640419,
          0.0805284508336762,
          0.0665754025808363,
          0.0646553590963955,
          0.0803118109632953,
          0.0889053148212213,
          0.0527524351980812,
          0.092734404444142,
          0.0801379781673042,
          0.120532890837621,
          0.0557799346071468,
          0.115696166971919,
          0.0825129728131481,
          0.0872931753283576,
          0.0914110691929276,
          0.0261107030223557,
          0.0515297420494464,
          0.0641179903486867,
          0.0912144250561531,
          0.0642924870210222,
          0.062018530104871,
          0.0561905620742311,
          0.0435570055031711,
          0.0891439928116553,
          0.0576736378219233,
          0.0812486545885092,
          0.052778109214312,
          0.0729974748924546,
          0.0968224575076632,
          0.0470093476790572,
          0.0363305346490497,
          0.0400260276411733,
          0.0697227242783993,
          0.0697227242783993,
          0.0555992097215521,
          0.0610577232656411,
          0.0584256488680705,
          0.0580645196981447,
          0.131677948777083,
          0.0746265711153169,
          0.0737296336979398,
          0.138163931454089,
          0.0619375079420486,
          0.0560673392539896,
          0.105270529822503,
          0.0697227242783993,
          0.0461692296411982,
          0.0456785438947673,
          0.0780491247160193,
          0.0252390071802939,
          0.098456893832748,
          0.106945981460668,
          0.121430611607064,
          0.041580660898287,
          0.145620895318114,
          0.0264702510258099,
          0.0536744687252528,
          0.0664302184712509,
          0.0669493999702591,
          0.0223157327706429,
          0.050754194028655,
          0.0541310720236634,
          0.0434948611545883,
          0.0223656544797152,
          0.0507270070048135,
          0.0366600866099749,
          0.0574445717334475,
          0.0883125388852117,
          0.0385011546511115,
          0.120997980452284,
          0.068964293506717,
          0.158926914254448,
          0.0854176893074037,
          0.0654502721227915,
          0.261636457657225,
          0.204386233027064,
          0.206397584552222,
          0.137956477094558,
          0.0633288986634414,
          0.0787269620607403,
          0.126917798243996,
          0.0932975761315708,
          0.496609617228571,
          0.142861687697837,
          0.172904357418207,
          0.175451963772391,
          0.160064564174353,
          0.243081079098034,
          0.0872931753283576,
          0.164330013608895,
          0.097841064752205,
          0.127534192084279,
          0.148982356840684,
          0.0716444008748531,
          0.165122333912218,
          0.171741267011961,
          0.067741395697164,
          0.0531672660893055,
          0.197006313933269,
          0.0955991859336274,
          0.131677948777083,
          0.208115406833498,
          0.107719313804258,
          0.0980512099976217,
          0.10459382813478,
          0.105810252102585,
          0.115640727479949,
          0.0802202346618589,
          0.212025205181607,
          0.17028755265665,
          0.195050399966279,
          0.0949506010392478,
          0.262039837868516,
          0.15807014283681,
          0.0752534819961292,
          0.15925621039731,
          0.221804278509727,
          0.157663555965087,
          0.205315801702019,
          0.13728613487929,
          0.165202206586141,
          0.125629873530123,
          0.121062613522744,
          0.0976777066302034,
          0.180631239773462,
          0.128565274648337,
          0.121254433605169,
          0.103928102148367,
          0.171741267011961,
          0.100869961564206,
          0.069837111486772,
          0.114994681814444,
          0.102641632696789,
          0.212027082847403,
          0.152040482921095,
          0.10036541896596,
          0.142861687697837,
          0.165036471822297,
          0.0922289014192794,
          0.15925621039731,
          0.214127699867959,
          0.21386083870267,
          0.143180452964929,
          0.0703812243200044,
          0.115886589155523,
          0.127185868978435,
          0.103200897945574,
          0.100692288919912,
          0.0746265711153169,
          0.0968196982616458,
          0.0874483693375157,
          0.137956477094558,
          0.175614283710826,
          0.0879247607760165,
          0.132979733860831,
          0.067741395697164,
          0.15833108745643,
          0.0610577232656411,
          0.0899374153860922,
          0.153874050929026,
          0.137956477094558,
          0.0872931753283576,
          0.159009908808881,
          0.179491789702368,
          0.121521635246106,
          0.151468088861726,
          0.0638963400667832,
          0.0540364026514413,
          0.105584470325929,
          0.151075530247025,
          0.0779577725416574,
          0.0877352490170272,
          0.0803118109632953,
          0.081108631378459,
          0.105284464080946,
          0.115176446796814,
          0.0803849898046683,
          0.0922772246943218,
          0.0606790911304087,
          0.121521635246106,
          0.0502998183470378,
          0.110605536856977,
          0.0922289014192794,
          0.16504852022226,
          0.115195937517527,
          0.0698748314937651,
          0.132528870327276,
          0.0759868786941116,
          0.112250475489009,
          0.0273229054938187,
          0.085279788286866,
          0.0399374998092346,
          0.0924355415259238,
          0.0920805673018588,
          0.0976777066302034,
          0.125769634260764,
          0.0703812243200044,
          0.11638961634491,
          0.0663538946849441,
          0.0514164595316982,
          0.100417765056745,
          0.0849063219280097,
          0.101133191303032,
          0.0581936891248754,
          0.0538889346042797,
          0.073929240192553,
          0.0675937620080552,
          0.138547577703496,
          0.0893023137493992,
          0.0716450910215998,
          0.0685371214212037,
          0.115298856230837,
          0.0816505529630068,
          0.062018530104871,
          0.0419629513262715,
          0.163798215089234,
          0.167015385193503,
          0.112250475489009,
          0.10988632750336,
          0.0801379781673042,
          0.0730691798555258,
          0.0800366139371931,
          0.0882788278688173,
          0.0883125388852117,
          0.128534098451325,
          0.179190095464056,
          0.165377143337542,
          0.10959449792953,
          0.102870254275211,
          0.0922289014192794,
          0.0765401295045555,
          0.0605463444648389,
          0.120851824050001,
          0.0509836220538049,
          0.120851824050001,
          0.0830869092511911,
          0.0920305885004012,
          0.0920305885004012,
          0.144499406417866,
          0.15789784284956,
          0.0606790911304087,
          0.15631747499531,
          0.0857949379947297
         ],
         "yaxis": "y5"
        },
        {
         "line": {
          "color": "black",
          "width": 0.5
         },
         "mode": "lines",
         "showlegend": false,
         "type": "scatter",
         "x": [
          -11.477787429998994,
          22.534148161013963
         ],
         "xaxis": "x5",
         "y": [
          0.0743020049915272,
          0.17739099771521405
         ],
         "yaxis": "y5"
        },
        {
         "marker": {
          "color": "#636EFA",
          "size": 2.5
         },
         "mode": "markers",
         "showlegend": false,
         "type": "scatter",
         "x": [
          1.7586340797146156,
          5.716809178877391,
          -1.328766041882547,
          -0.9206863675730338,
          -0.8910111518531403,
          13.487537526924182,
          -1.3252527144989823,
          -0.9395451759743133,
          -0.9021665946598715,
          -0.7605408523300299,
          -1.1407440886777613,
          -0.5015128084396615,
          -0.9129642514343199,
          -1.9934879245959198,
          -2.234621863056235,
          0.566589442235769,
          1.1337782745702025,
          -1.796620533554932,
          -2.3564075860223226,
          -0.36056118447427987,
          -1.794193104816452,
          -1.9343121684242137,
          -1.5613626725963856,
          -1.4105886816173798,
          -1.0233013964153428,
          -0.8846826313668912,
          -1.952787618559318,
          -1.304705350331393,
          0.4422804694841875,
          -0.41879525121438055,
          -0.42352254057737126,
          -1.6758295423241565,
          -1.0202827959130267,
          2.566825183082948,
          13.072498314083472,
          0.703569378511243,
          -1.1628833194989445,
          0.3382542181813782,
          -0.16259492705428724,
          0.14498367040828136,
          -1.8430361616937483,
          -2.2590769888361866,
          -1.8001494385132981,
          -2.191289455567671,
          -2.149106110836844,
          -1.9330024669752346,
          -0.9310806122744787,
          2.4209405468194256,
          -1.9020203376738878,
          -0.4555348600159955,
          -0.6719569713234056,
          -1.5963007115969297,
          -2.0674517398518115,
          -1.8025589624673395,
          -0.200646775326294,
          11.913538853004564,
          -1.639134069689572,
          -1.768344839515409,
          -1.6545751216167224,
          -1.9083170577324546,
          -0.0002988785291508531,
          11.984445892965192,
          -0.4947552774410736,
          11.827881380092263,
          11.963729999763379,
          -1.0410474520316695,
          10.994450851658879,
          0.5742987081056585,
          -1.0505735236953149,
          -1.3777182505494567,
          -1.9636538731286215,
          -0.7845663201914342,
          11.29119251854938,
          -1.151756575099164,
          -1.3761519146838521,
          -1.6274350987244994,
          -0.8451040412511469,
          -1.2034513292791285,
          -1.7106635196114637,
          -1.846585409706586,
          -0.4666922204260111,
          -1.9948622739352135,
          -1.7046020471605285,
          -1.152647827659829,
          -1.7742682384414563,
          -0.9010634833704549,
          10.911600610447351,
          -1.419387722497613,
          -1.0171179092706024,
          -0.6691516604990668,
          -0.6603239440648151,
          -1.1218054557266164,
          10.787034365595593,
          -0.9769232621432721,
          10.74036913314853,
          -2.3551090381027873,
          10.937058269584575,
          -2.408208803409416,
          -2.23048057291373,
          -1.5187127316597882,
          -1.6839270784210223,
          -1.5410189084044024,
          -1.3965838607827077,
          -1.8225753632703499,
          -1.863321618489695,
          11.040446962745277,
          -1.5219862833533497,
          -1.7865213767191026,
          -1.4348763109061,
          -1.2009401004219227,
          -0.482523670494121,
          0.486305176355215,
          0.6684963915461921,
          -0.5080185647666776,
          -1.4767997873549474,
          -1.1464551554226576,
          -1.7078518670026115,
          -0.1165377446056657,
          -1.0304343177569801,
          -0.07609801669155947,
          -2.0444999841230977,
          -0.43616168810912975,
          0.18287881493951816,
          -0.7551848835532442,
          -0.3811143521882762,
          -0.6502853875146193,
          0.9555294917892707,
          -1.6132939265109139,
          -0.11233987649352424,
          0.37896885974842626,
          -0.14661962231727607,
          -1.5852104885704803,
          -0.73809973158029,
          -0.01911380779391343,
          -1.658579898954889,
          -1.419738168428956,
          -0.03662529618602046,
          -1.720169458186985,
          -2.9010206094892723,
          -0.7503672177666806,
          -0.9384577020824736,
          -1.293839804728429,
          -1.6215611208846148,
          -0.7493317357434045,
          -2.8205005415174447,
          -1.4353294555523886,
          -2.2997569670295266,
          -1.6118367015470456,
          14.937078688057255,
          -0.09480583706562795,
          0.1350559178405574,
          0.02553759431558203,
          -0.38694918629809855,
          -2.4414169942397463,
          6.541289592821608,
          -1.2040928129218536,
          -0.02625048156352382,
          -3.6545940670303256,
          -1.1608015430186907,
          -2.262715733115982,
          10.16664460836373,
          -1.1742884883323284,
          -2.405221184278681,
          -1.7153401553123662,
          -1.1988774757441945,
          -2.03830281928143,
          9.422004912925228,
          -1.452181296968726,
          9.654398306916967,
          9.261252278311437,
          1.0526122204258836,
          -1.2190494521494504,
          -3.0600511573798928,
          9.998627010588008,
          -0.47222356928999587,
          0.7619109564882967,
          -0.3041936258548258,
          -0.06545506554915248,
          0.13438545126470117,
          -2.0466305453232776,
          -2.572200107654227,
          -1.7965727935800886,
          -1.1162164599712088,
          -0.16395982634565737,
          -1.0407147668787846,
          -1.1641273786652147,
          -1.1806317138711415,
          -0.9781818700510929,
          0.3105402380722068,
          -1.6313935987306536,
          -1.7628282900788559,
          2.318027744719399,
          -3.1708938520322114,
          -1.275931635882907,
          0.12799205361212176,
          13.573955916100497,
          -1.8757892214995002,
          -1.5297057776606129,
          12.978570675585528,
          -1.6153318916927124,
          -0.22659630377406942,
          -1.119364087435553,
          -1.3769866218458795,
          -1.046450153863262,
          1.7092409163783242,
          -1.138268200302199,
          -2.2987669773806974,
          1.2944102248449745,
          3.658124390723081,
          0.6541017734100971,
          -2.0091944504106403,
          -0.563057707932789,
          -0.9156814612183616,
          -0.9351013791492649,
          -0.4992973106230038,
          -1.511080039730656,
          -1.458998252307637,
          -3.06990580244621,
          -1.0116791438096595,
          -0.7637492933317129,
          -0.9437399232960871,
          -1.5825200141083644,
          -1.133903411108307,
          -1.80858672556713,
          -0.9428388412221941,
          -1.2186918198688745,
          -1.1533345908821804,
          -2.0334260529786885,
          -1.7630959146380327,
          -1.7598478002852591,
          -1.6722646102996803,
          -0.5172537829448783,
          -1.2145269812643664,
          5.561996627865295,
          -2.1016321007244634,
          -2.210258521170226,
          -1.4254237633345812,
          -0.5987447303926943,
          -1.0991151910995225,
          -1.2331657309296207,
          11.187853268397708,
          -1.5534978057342086,
          -1.921034964245147,
          -2.01218293378225,
          -1.4938464987493587,
          -1.3962996414067783,
          -2.6823822855853727,
          -1.681901455352225,
          -1.8563339134892607,
          -1.8807916981891644,
          -1.0808172207406648,
          -1.7255359208273824,
          -1.5112005729793283,
          11.020401254121802,
          0.3888451747337157,
          -1.0958750997890125,
          -1.6952855758550582,
          -1.4620794681358202,
          -2.0414441823809275,
          -1.4893100648683113,
          -0.21335212793643732,
          -1.427826777009394,
          -1.1833787673950609,
          -1.3989215918189053,
          -2.5870430484070774,
          -2.2397195778366124,
          -1.9437368655144165,
          -1.9633743602372216,
          -1.5398399360370207,
          -1.9179060034533664,
          -1.1101611655708594,
          -1.8158892992381326,
          -1.685649657276828,
          10.779423722757237,
          -1.1958382065001432,
          -1.6669741084278122,
          -1.6455841069171822,
          -0.3825241226219391,
          -0.7345659125152022,
          -1.9761456273079023,
          -1.7142533828831044,
          -2.107403295971143,
          -1.2979191955614147,
          10.881963227821833,
          -0.20716748269704346,
          -0.2311654705036577,
          -1.8990804308367553,
          0.19366448027463115,
          -2.0141606132004113,
          -0.23090604790624375,
          -0.5357017048683334,
          -1.7265180455950444,
          -2.5459042358421873,
          -0.38139400658680844,
          -0.28409748108446686,
          -2.1217992851315826,
          1.2103224968967476,
          0.6140229494983023,
          -0.34325283545762936,
          -1.0767777736180661,
          -0.8957681457742612,
          -1.415486552504368,
          -0.8251726176052656,
          -2.2351918884384365,
          19.063680002896803,
          -1.3609252179295424,
          -1.1912541089801176,
          -1.2401890078220605,
          -2.292533331755722,
          -0.1254437910172638,
          -1.960607165800554,
          -0.46748010851342553,
          0.5327818457750322,
          15.091756612344797,
          -1.8640733376601328,
          -1.0491855452736678,
          -1.1629963009056516,
          -1.4030816823036978,
          0.48101471528766737,
          -0.179038690086786,
          -1.3860212692273888,
          0.12431782722302384,
          -2.1087989995696907,
          -1.6967136602507673,
          -0.6627727651852251,
          -1.664154784884568,
          -0.7631366866111994,
          -0.9934089995878553,
          -2.9422049645939308,
          -2.5767411700889356,
          -2.2894086394382387,
          -1.2810853828942022,
          1.8193679166420071,
          -1.108504582185874,
          -2.360310873394786,
          -1.7925355539151107,
          10.141662752559666,
          -1.4305807207819827,
          -1.546273272013463,
          -3.0593973196875837,
          9.905038855817054,
          -1.188161476463033,
          -2.1459950614953875,
          -2.4437462707907507,
          -2.18201100286525,
          -0.9047836971201293,
          -0.5566238080060613,
          -2.163842165158657
         ],
         "xaxis": "x6",
         "y": [
          0.15082683279291,
          0.170103325738585,
          0.111034781880105,
          0.179776053100187,
          0.100869961564206,
          0.106425951970053,
          0.111342789483517,
          0.220707878312447,
          0.157231962502151,
          0.0941681217005429,
          0.27340138706609,
          0.0586886704453629,
          0.0752144237376745,
          0.439250260986213,
          0.143778728128999,
          0.0778732507642041,
          0.106386744107888,
          0.223434987929173,
          0.284416231429515,
          0.0636514085955379,
          0.324954101746078,
          0.234469313273207,
          0.187870162343416,
          0.188184734297115,
          0.166093700686288,
          0.143637908520016,
          0.116953974621397,
          0.0502998183470378,
          0.0404105538348015,
          0.0953940134994509,
          0.0955991859336274,
          0.114994681814444,
          0.121254433605169,
          0.0645810032089069,
          0.120997980452284,
          0.0665098391779751,
          0.0915679761343334,
          0.0666185026340703,
          0.0629604202687853,
          0.137955197400543,
          0.194626393303573,
          0.172904357418207,
          0.180631239773462,
          0.10970824564956,
          0.105584470325929,
          0.14356223689553,
          0.105810252102585,
          0.0588174729452046,
          0.134987894338949,
          0.0634675375903816,
          0.171161567804947,
          0.152040482921095,
          0.138316503146987,
          0.121062613522744,
          0.046115606944586,
          0.077704470289513,
          0.106045506313583,
          0.180631239773462,
          0.160911943578395,
          0.157662110725856,
          0.077704470289513,
          0.0526042770589985,
          0.10092446878243,
          0.105584470325929,
          0.0764232972244369,
          0.100869961564206,
          0.100869961564206,
          0.0802202346618589,
          0.121254433605169,
          0.0878911905398669,
          0.126917798243996,
          0.157662110725856,
          0.0927352873993959,
          0.088081022626797,
          0.0673618347662262,
          0.166436330389463,
          0.14039855660932,
          0.0610577232656411,
          0.102750533024375,
          0.0610577232656411,
          0.0922289014192794,
          0.130635988152675,
          0.0545909157643338,
          0.120534020422296,
          0.10988632750336,
          0.167492442605613,
          0.104655177024721,
          0.0724611395442526,
          0.0617727791767821,
          0.0309321401281847,
          0.0841552033474114,
          0.0920305885004012,
          0.0664989179969857,
          0.121062613522744,
          0.0677773712150112,
          0.08964711449881,
          0.0645142158630004,
          0.125882487374578,
          0.104632414618011,
          0.0966120487008631,
          0.179034558408018,
          0.0641521084773782,
          0.0872931753283576,
          0.0697227242783993,
          0.0737296336979398,
          0.0696810514640419,
          0.0805284508336762,
          0.0665754025808363,
          0.0646553590963955,
          0.0803118109632953,
          0.0889053148212213,
          0.0527524351980812,
          0.092734404444142,
          0.0801379781673042,
          0.120532890837621,
          0.0557799346071468,
          0.115696166971919,
          0.0825129728131481,
          0.0872931753283576,
          0.0914110691929276,
          0.0261107030223557,
          0.0515297420494464,
          0.0641179903486867,
          0.0912144250561531,
          0.0642924870210222,
          0.062018530104871,
          0.0561905620742311,
          0.0435570055031711,
          0.0891439928116553,
          0.0576736378219233,
          0.0812486545885092,
          0.052778109214312,
          0.0729974748924546,
          0.0968224575076632,
          0.0470093476790572,
          0.0363305346490497,
          0.0400260276411733,
          0.0697227242783993,
          0.0697227242783993,
          0.0555992097215521,
          0.0610577232656411,
          0.0584256488680705,
          0.0580645196981447,
          0.131677948777083,
          0.0746265711153169,
          0.0737296336979398,
          0.138163931454089,
          0.0619375079420486,
          0.0560673392539896,
          0.105270529822503,
          0.0697227242783993,
          0.0461692296411982,
          0.0456785438947673,
          0.0780491247160193,
          0.0252390071802939,
          0.098456893832748,
          0.106945981460668,
          0.121430611607064,
          0.041580660898287,
          0.145620895318114,
          0.0264702510258099,
          0.0536744687252528,
          0.0664302184712509,
          0.0669493999702591,
          0.0223157327706429,
          0.050754194028655,
          0.0541310720236634,
          0.0434948611545883,
          0.0223656544797152,
          0.0507270070048135,
          0.0366600866099749,
          0.0574445717334475,
          0.0883125388852117,
          0.0385011546511115,
          0.120997980452284,
          0.068964293506717,
          0.158926914254448,
          0.0854176893074037,
          0.0654502721227915,
          0.261636457657225,
          0.204386233027064,
          0.206397584552222,
          0.137956477094558,
          0.0633288986634414,
          0.0787269620607403,
          0.126917798243996,
          0.0932975761315708,
          0.496609617228571,
          0.142861687697837,
          0.172904357418207,
          0.175451963772391,
          0.160064564174353,
          0.243081079098034,
          0.0872931753283576,
          0.164330013608895,
          0.097841064752205,
          0.127534192084279,
          0.148982356840684,
          0.0716444008748531,
          0.165122333912218,
          0.171741267011961,
          0.067741395697164,
          0.0531672660893055,
          0.197006313933269,
          0.0955991859336274,
          0.131677948777083,
          0.208115406833498,
          0.107719313804258,
          0.0980512099976217,
          0.10459382813478,
          0.105810252102585,
          0.115640727479949,
          0.0802202346618589,
          0.212025205181607,
          0.17028755265665,
          0.195050399966279,
          0.0949506010392478,
          0.262039837868516,
          0.15807014283681,
          0.0752534819961292,
          0.15925621039731,
          0.221804278509727,
          0.157663555965087,
          0.205315801702019,
          0.13728613487929,
          0.165202206586141,
          0.125629873530123,
          0.121062613522744,
          0.0976777066302034,
          0.180631239773462,
          0.128565274648337,
          0.121254433605169,
          0.103928102148367,
          0.171741267011961,
          0.100869961564206,
          0.069837111486772,
          0.114994681814444,
          0.102641632696789,
          0.212027082847403,
          0.152040482921095,
          0.10036541896596,
          0.142861687697837,
          0.165036471822297,
          0.0922289014192794,
          0.15925621039731,
          0.214127699867959,
          0.21386083870267,
          0.143180452964929,
          0.0703812243200044,
          0.115886589155523,
          0.127185868978435,
          0.103200897945574,
          0.100692288919912,
          0.0746265711153169,
          0.0968196982616458,
          0.0874483693375157,
          0.137956477094558,
          0.175614283710826,
          0.0879247607760165,
          0.132979733860831,
          0.067741395697164,
          0.15833108745643,
          0.0610577232656411,
          0.0899374153860922,
          0.153874050929026,
          0.137956477094558,
          0.0872931753283576,
          0.159009908808881,
          0.179491789702368,
          0.121521635246106,
          0.151468088861726,
          0.0638963400667832,
          0.0540364026514413,
          0.105584470325929,
          0.151075530247025,
          0.0779577725416574,
          0.0877352490170272,
          0.0803118109632953,
          0.081108631378459,
          0.105284464080946,
          0.115176446796814,
          0.0803849898046683,
          0.0922772246943218,
          0.0606790911304087,
          0.121521635246106,
          0.0502998183470378,
          0.110605536856977,
          0.0922289014192794,
          0.16504852022226,
          0.115195937517527,
          0.0698748314937651,
          0.132528870327276,
          0.0759868786941116,
          0.112250475489009,
          0.0273229054938187,
          0.085279788286866,
          0.0399374998092346,
          0.0924355415259238,
          0.0920805673018588,
          0.0976777066302034,
          0.125769634260764,
          0.0703812243200044,
          0.11638961634491,
          0.0663538946849441,
          0.0514164595316982,
          0.100417765056745,
          0.0849063219280097,
          0.101133191303032,
          0.0581936891248754,
          0.0538889346042797,
          0.073929240192553,
          0.0675937620080552,
          0.138547577703496,
          0.0893023137493992,
          0.0716450910215998,
          0.0685371214212037,
          0.115298856230837,
          0.0816505529630068,
          0.062018530104871,
          0.0419629513262715,
          0.163798215089234,
          0.167015385193503,
          0.112250475489009,
          0.10988632750336,
          0.0801379781673042,
          0.0730691798555258,
          0.0800366139371931,
          0.0882788278688173,
          0.0883125388852117,
          0.128534098451325,
          0.179190095464056,
          0.165377143337542,
          0.10959449792953,
          0.102870254275211,
          0.0922289014192794,
          0.0765401295045555,
          0.0605463444648389,
          0.120851824050001,
          0.0509836220538049,
          0.120851824050001,
          0.0830869092511911,
          0.0920305885004012,
          0.0920305885004012,
          0.144499406417866,
          0.15789784284956,
          0.0606790911304087,
          0.15631747499531,
          0.0857949379947297
         ],
         "yaxis": "y6"
        },
        {
         "line": {
          "color": "black",
          "width": 0.5
         },
         "mode": "lines",
         "showlegend": false,
         "type": "scatter",
         "x": [
          -3.6545940670303256,
          19.063680002896803
         ],
         "xaxis": "x6",
         "y": [
          0.12159484647662501,
          0.04386505650588729
         ],
         "yaxis": "y6"
        },
        {
         "marker": {
          "color": "#636EFA",
          "size": 2.5
         },
         "mode": "markers",
         "showlegend": false,
         "type": "scatter",
         "x": [
          2.3542637613969055,
          7.762461791660541,
          -0.4617810316393749,
          -1.2897219747929498,
          -2.1633954645388687,
          3.557997718423046,
          -0.8102222328178532,
          1.972037253037313,
          -3.009907941031219,
          2.733037202751829,
          0.6769075860481976,
          0.9883832460906696,
          4.551826079259516,
          -4.813405761957166,
          -1.92449443280183,
          -0.18870327383105623,
          3.9337050641351263,
          -0.13118542707523434,
          -6.379769486603395,
          4.710952386225227,
          -3.9914769513102417,
          -4.652985315032281,
          -1.8530706114729487,
          -0.9963502564305714,
          -1.005219371234193,
          -1.2579056578589505,
          0.43853732471863177,
          0.2564280339986438,
          0.8520237890748381,
          1.0658361538804828,
          0.6956748071656431,
          -0.49730466375176846,
          -1.0918405635112396,
          0.4613177676562669,
          -0.15866813550263362,
          -0.3411350957936302,
          0.19200012679804349,
          0.3688373120037938,
          -0.7449215360620737,
          -0.37787450932171396,
          -1.7653253728641187,
          -2.0002583058304713,
          -2.600393113718763,
          -2.2110897414898454,
          -6.198863553092492,
          -2.9604074830000244,
          -2.4810642537026752,
          5.943526596621306,
          3.135115836827218,
          2.026791214708549,
          5.016909919848426,
          -5.2312853572005515,
          -5.946374506476464,
          1.0852592090637345,
          -0.10089111756045975,
          4.692940029523415,
          1.1068202164301817,
          -1.019585137938094,
          -2.6919786775092187,
          -7.64655488498665,
          -2.7104846827032247,
          1.8618398327190888,
          2.4142833008771527,
          -0.437725887010068,
          4.532300436249099,
          -4.2002096367542165,
          2.8930435723020698,
          -2.2164025196512704,
          -0.28869667650100866,
          -5.06299539930876,
          -1.9295924194381253,
          3.176672335377022,
          3.242974946314078,
          -1.1236911847914268,
          1.873714418115087,
          3.8645139492553,
          2.971898459706727,
          1.025537739504063,
          -2.109027357689545,
          0.8395699749677898,
          2.8849008121831234,
          -0.43211386615708053,
          -2.0265676024328423,
          1.5275148487782166,
          0.830260495495358,
          -0.00892700417227172,
          -4.875881298290689,
          -5.206653824154704,
          -0.15249203831118396,
          0.720035410989232,
          -1.2347505010886668,
          0.000004293371211037149,
          1.4643168428737157,
          -0.18201474343505974,
          -0.7489709729376637,
          -1.977722646113344,
          1.1493351087770778,
          -1.9195092468969417,
          -2.1661215490311423,
          0.005464332184032909,
          -0.1455647553982139,
          -0.012995537500346077,
          -0.6458804635226922,
          -1.418367220137706,
          -1.4961795431617813,
          -0.6234330064196006,
          -1.1822575123221384,
          -0.08226332669820631,
          -1.0583446103563448,
          1.1243402340751862,
          -0.37959918570939466,
          -1.1870258651765704,
          -1.8595859041849945,
          25.864064007684338,
          -0.9252547843176577,
          0.17081735694316763,
          -2.158360215439994,
          -0.7517250977965481,
          -0.6856864877570265,
          -1.1682177773511855,
          -1.0110426363404843,
          -0.6305749506675021,
          0.6879736085053088,
          -0.7804162952512127,
          -0.2691059669132053,
          0.41373357047687287,
          1.3945899610659165,
          -1.6453319021739836,
          -0.5896185145369018,
          0.4553203716114428,
          -1.4984281428123076,
          -0.03671743215853536,
          0.8001211970310141,
          -0.8873022682290057,
          -1.046009265385638,
          -0.6867138822143033,
          0.021250850207355038,
          -1.621708581781821,
          18.00621972055368,
          -0.7600275312961594,
          -1.000104557194729,
          -0.8822027635342394,
          -1.5268398376481453,
          -0.17135534160907864,
          -2.3186751213609984,
          17.972357486381362,
          -2.6599118179171004,
          -0.4657560183285688,
          0.16239743810117802,
          -1.056699941711937,
          -0.5366880858060359,
          -0.1495307591335909,
          -0.6104276143419597,
          -1.9284757806884973,
          5.302287916261509,
          2.4746282857026163,
          3.5841208324622316,
          -2.090289813856032,
          -0.45869942046839474,
          -2.64059835286175,
          -1.2906790887278,
          6.414453516153411,
          -1.1833161605431943,
          -5.884402395225816,
          1.3812690216047394,
          0.4436095991116119,
          6.541131938114457,
          3.2733123070593315,
          5.394467909169002,
          5.020362929203112,
          3.444965097015553,
          -1.1014548472738357,
          -2.832548932965879,
          3.972972173481589,
          0.42700541099602407,
          6.9179612336720755,
          2.7353108742927175,
          1.313469851976651,
          -1.7838617262177872,
          -2.7776535263250755,
          -10.557649667233047,
          -3.07786278536805,
          -4.271128320454122,
          3.2308286357107048,
          -0.9267989674235532,
          5.074767260207797,
          1.1030518846042916,
          1.2700632932221925,
          2.0901433824782267,
          -0.7450274700490278,
          -2.11335132325304,
          4.39746996038001,
          -8.452785536143335,
          -0.6474557591102683,
          0.04961071145116499,
          1.0443096838101018,
          -1.8681520077497842,
          -1.4306264038402101,
          1.071817163972509,
          -0.9965338445058284,
          0.6524752611653473,
          -0.8906282554526137,
          -1.5319113345028708,
          -0.9448328420623106,
          0.3736013579890622,
          -1.0424616684701329,
          -2.0331100354314247,
          -0.5765485655979049,
          -0.39590162606937856,
          0.7802956214540251,
          -0.890218014269673,
          -1.4019212648916417,
          -1.009308373778137,
          -1.1471802067141188,
          -0.3762948429327593,
          -1.6263346893643815,
          -1.4665556077483246,
          23.847670214172677,
          1.4520469649477745,
          2.1987372038534128,
          4.644410776730705,
          0.00791241306842693,
          2.9529597218576185,
          -1.5060436705686782,
          2.219969466965692,
          2.3909708740755677,
          -2.9272201336128263,
          -2.9356487383935463,
          1.7175235257890082,
          -4.7186130516017935,
          -0.13301070859830721,
          0.5595762222678239,
          0.8825545425286905,
          4.663212072487093,
          -3.9338910496705517,
          -5.2886364522331135,
          -1.460072020388889,
          0.6870531784102758,
          1.405435973348544,
          4.551640634801744,
          4.574901047986944,
          -5.802501806825873,
          1.4146069062359743,
          -4.17697148393563,
          0.345153091932198,
          -0.7230216646137775,
          -6.38953142386696,
          -0.22611997427751254,
          0.5801332296262596,
          -2.7287490829849843,
          1.3360772489085386,
          4.808592444256201,
          4.208433301833578,
          9.009606832215816,
          1.3851523698914503,
          -4.572068198087848,
          -5.25494697026219,
          1.4397708355152448,
          -1.7693869361589527,
          0.6168450054309492,
          -0.09114462036522172,
          1.3231633786047972,
          0.9930403877313131,
          -0.9765968359307103,
          -2.5953549307799264,
          -0.9121327380272874,
          26.937600874462117,
          -1.2946764216093172,
          -0.6869476222580659,
          -1.5571321881542701,
          -0.42592880837571284,
          -0.22500804932312385,
          -0.47716171692103687,
          0.5034217367110252,
          -0.5882131130901739,
          -1.0504968733664006,
          -1.5220875770089097,
          0.8751835532230289,
          0.29043712844622765,
          -0.514017030304709,
          -2.1331770929400506,
          -0.2048567132710527,
          0.370410271682946,
          -0.11710947359138169,
          -0.24728768236098497,
          0.8571356634391771,
          -1.3305494315666562,
          -0.9125628523646407,
          -2.8626221157210834,
          0.3598111529943296,
          -0.3242099560116314,
          -1.0035983469985057,
          -0.4986962400833631,
          -0.7060217712821658,
          -0.46757688822418825,
          -0.5144280959107315,
          0.5813984447589914,
          -0.9892503568655718,
          -0.8622964540600906,
          -2.2771443959982807,
          -1.0377214279595868,
          -1.6917371428630106,
          -0.959104987953348,
          -0.6686326114945851,
          1.3460551368663263,
          -3.542576713437974,
          -0.8901573238472182,
          -2.500289106361742,
          -1.4634186286156046,
          -0.27486340618857896,
          -1.1721517920525044,
          0.0298155923289738,
          -1.033214780296927,
          0.07163870534828744,
          -1.3397653290144986,
          -1.2002631068511342,
          -1.0513843602651902,
          -1.4497877700571165,
          -0.06566239899388748,
          1.7352098859068572,
          -1.1690992357472845,
          -0.1534104103624388,
          -1.3296927541142005,
          -1.309232860379027,
          0.011129419078515643,
          -1.6108738546259604,
          0.1981757878859591,
          -1.5715316996530992,
          -1.0085342999302411,
          -0.6318297551949617,
          1.1277198003849895,
          0.8047429266336119,
          4.559605177185953,
          0.5068977279694291,
          -7.636146251996963,
          -1.7315571982697358,
          2.2256071941138234,
          4.984653920842057,
          -4.025829524631741,
          -4.749908156958058,
          -3.1098753642928774,
          1.6619730172841025,
          -4.067156634567715,
          -2.4939925167676464,
          0.06044216692152092,
          -0.19245173104062901,
          -1.5133486174463922,
          -4.4465618558318045
         ],
         "xaxis": "x7",
         "y": [
          0.15082683279291,
          0.170103325738585,
          0.111034781880105,
          0.179776053100187,
          0.100869961564206,
          0.106425951970053,
          0.111342789483517,
          0.220707878312447,
          0.157231962502151,
          0.0941681217005429,
          0.27340138706609,
          0.0586886704453629,
          0.0752144237376745,
          0.439250260986213,
          0.143778728128999,
          0.0778732507642041,
          0.106386744107888,
          0.223434987929173,
          0.284416231429515,
          0.0636514085955379,
          0.324954101746078,
          0.234469313273207,
          0.187870162343416,
          0.188184734297115,
          0.166093700686288,
          0.143637908520016,
          0.116953974621397,
          0.0502998183470378,
          0.0404105538348015,
          0.0953940134994509,
          0.0955991859336274,
          0.114994681814444,
          0.121254433605169,
          0.0645810032089069,
          0.120997980452284,
          0.0665098391779751,
          0.0915679761343334,
          0.0666185026340703,
          0.0629604202687853,
          0.137955197400543,
          0.194626393303573,
          0.172904357418207,
          0.180631239773462,
          0.10970824564956,
          0.105584470325929,
          0.14356223689553,
          0.105810252102585,
          0.0588174729452046,
          0.134987894338949,
          0.0634675375903816,
          0.171161567804947,
          0.152040482921095,
          0.138316503146987,
          0.121062613522744,
          0.046115606944586,
          0.077704470289513,
          0.106045506313583,
          0.180631239773462,
          0.160911943578395,
          0.157662110725856,
          0.077704470289513,
          0.0526042770589985,
          0.10092446878243,
          0.105584470325929,
          0.0764232972244369,
          0.100869961564206,
          0.100869961564206,
          0.0802202346618589,
          0.121254433605169,
          0.0878911905398669,
          0.126917798243996,
          0.157662110725856,
          0.0927352873993959,
          0.088081022626797,
          0.0673618347662262,
          0.166436330389463,
          0.14039855660932,
          0.0610577232656411,
          0.102750533024375,
          0.0610577232656411,
          0.0922289014192794,
          0.130635988152675,
          0.0545909157643338,
          0.120534020422296,
          0.10988632750336,
          0.167492442605613,
          0.104655177024721,
          0.0724611395442526,
          0.0617727791767821,
          0.0309321401281847,
          0.0841552033474114,
          0.0920305885004012,
          0.0664989179969857,
          0.121062613522744,
          0.0677773712150112,
          0.08964711449881,
          0.0645142158630004,
          0.125882487374578,
          0.104632414618011,
          0.0966120487008631,
          0.179034558408018,
          0.0641521084773782,
          0.0872931753283576,
          0.0697227242783993,
          0.0737296336979398,
          0.0696810514640419,
          0.0805284508336762,
          0.0665754025808363,
          0.0646553590963955,
          0.0803118109632953,
          0.0889053148212213,
          0.0527524351980812,
          0.092734404444142,
          0.0801379781673042,
          0.120532890837621,
          0.0557799346071468,
          0.115696166971919,
          0.0825129728131481,
          0.0872931753283576,
          0.0914110691929276,
          0.0261107030223557,
          0.0515297420494464,
          0.0641179903486867,
          0.0912144250561531,
          0.0642924870210222,
          0.062018530104871,
          0.0561905620742311,
          0.0435570055031711,
          0.0891439928116553,
          0.0576736378219233,
          0.0812486545885092,
          0.052778109214312,
          0.0729974748924546,
          0.0968224575076632,
          0.0470093476790572,
          0.0363305346490497,
          0.0400260276411733,
          0.0697227242783993,
          0.0697227242783993,
          0.0555992097215521,
          0.0610577232656411,
          0.0584256488680705,
          0.0580645196981447,
          0.131677948777083,
          0.0746265711153169,
          0.0737296336979398,
          0.138163931454089,
          0.0619375079420486,
          0.0560673392539896,
          0.105270529822503,
          0.0697227242783993,
          0.0461692296411982,
          0.0456785438947673,
          0.0780491247160193,
          0.0252390071802939,
          0.098456893832748,
          0.106945981460668,
          0.121430611607064,
          0.041580660898287,
          0.145620895318114,
          0.0264702510258099,
          0.0536744687252528,
          0.0664302184712509,
          0.0669493999702591,
          0.0223157327706429,
          0.050754194028655,
          0.0541310720236634,
          0.0434948611545883,
          0.0223656544797152,
          0.0507270070048135,
          0.0366600866099749,
          0.0574445717334475,
          0.0883125388852117,
          0.0385011546511115,
          0.120997980452284,
          0.068964293506717,
          0.158926914254448,
          0.0854176893074037,
          0.0654502721227915,
          0.261636457657225,
          0.204386233027064,
          0.206397584552222,
          0.137956477094558,
          0.0633288986634414,
          0.0787269620607403,
          0.126917798243996,
          0.0932975761315708,
          0.496609617228571,
          0.142861687697837,
          0.172904357418207,
          0.175451963772391,
          0.160064564174353,
          0.243081079098034,
          0.0872931753283576,
          0.164330013608895,
          0.097841064752205,
          0.127534192084279,
          0.148982356840684,
          0.0716444008748531,
          0.165122333912218,
          0.171741267011961,
          0.067741395697164,
          0.0531672660893055,
          0.197006313933269,
          0.0955991859336274,
          0.131677948777083,
          0.208115406833498,
          0.107719313804258,
          0.0980512099976217,
          0.10459382813478,
          0.105810252102585,
          0.115640727479949,
          0.0802202346618589,
          0.212025205181607,
          0.17028755265665,
          0.195050399966279,
          0.0949506010392478,
          0.262039837868516,
          0.15807014283681,
          0.0752534819961292,
          0.15925621039731,
          0.221804278509727,
          0.157663555965087,
          0.205315801702019,
          0.13728613487929,
          0.165202206586141,
          0.125629873530123,
          0.121062613522744,
          0.0976777066302034,
          0.180631239773462,
          0.128565274648337,
          0.121254433605169,
          0.103928102148367,
          0.171741267011961,
          0.100869961564206,
          0.069837111486772,
          0.114994681814444,
          0.102641632696789,
          0.212027082847403,
          0.152040482921095,
          0.10036541896596,
          0.142861687697837,
          0.165036471822297,
          0.0922289014192794,
          0.15925621039731,
          0.214127699867959,
          0.21386083870267,
          0.143180452964929,
          0.0703812243200044,
          0.115886589155523,
          0.127185868978435,
          0.103200897945574,
          0.100692288919912,
          0.0746265711153169,
          0.0968196982616458,
          0.0874483693375157,
          0.137956477094558,
          0.175614283710826,
          0.0879247607760165,
          0.132979733860831,
          0.067741395697164,
          0.15833108745643,
          0.0610577232656411,
          0.0899374153860922,
          0.153874050929026,
          0.137956477094558,
          0.0872931753283576,
          0.159009908808881,
          0.179491789702368,
          0.121521635246106,
          0.151468088861726,
          0.0638963400667832,
          0.0540364026514413,
          0.105584470325929,
          0.151075530247025,
          0.0779577725416574,
          0.0877352490170272,
          0.0803118109632953,
          0.081108631378459,
          0.105284464080946,
          0.115176446796814,
          0.0803849898046683,
          0.0922772246943218,
          0.0606790911304087,
          0.121521635246106,
          0.0502998183470378,
          0.110605536856977,
          0.0922289014192794,
          0.16504852022226,
          0.115195937517527,
          0.0698748314937651,
          0.132528870327276,
          0.0759868786941116,
          0.112250475489009,
          0.0273229054938187,
          0.085279788286866,
          0.0399374998092346,
          0.0924355415259238,
          0.0920805673018588,
          0.0976777066302034,
          0.125769634260764,
          0.0703812243200044,
          0.11638961634491,
          0.0663538946849441,
          0.0514164595316982,
          0.100417765056745,
          0.0849063219280097,
          0.101133191303032,
          0.0581936891248754,
          0.0538889346042797,
          0.073929240192553,
          0.0675937620080552,
          0.138547577703496,
          0.0893023137493992,
          0.0716450910215998,
          0.0685371214212037,
          0.115298856230837,
          0.0816505529630068,
          0.062018530104871,
          0.0419629513262715,
          0.163798215089234,
          0.167015385193503,
          0.112250475489009,
          0.10988632750336,
          0.0801379781673042,
          0.0730691798555258,
          0.0800366139371931,
          0.0882788278688173,
          0.0883125388852117,
          0.128534098451325,
          0.179190095464056,
          0.165377143337542,
          0.10959449792953,
          0.102870254275211,
          0.0922289014192794,
          0.0765401295045555,
          0.0605463444648389,
          0.120851824050001,
          0.0509836220538049,
          0.120851824050001,
          0.0830869092511911,
          0.0920305885004012,
          0.0920305885004012,
          0.144499406417866,
          0.15789784284956,
          0.0606790911304087,
          0.15631747499531,
          0.0857949379947297
         ],
         "yaxis": "y7"
        },
        {
         "line": {
          "color": "black",
          "width": 0.5
         },
         "mode": "lines",
         "showlegend": false,
         "type": "scatter",
         "x": [
          -10.557649667233047,
          26.937600874462117
         ],
         "xaxis": "x7",
         "y": [
          0.1285875935030748,
          0.05934510457777908
         ],
         "yaxis": "y7"
        },
        {
         "marker": {
          "color": "#636EFA",
          "size": 2.5
         },
         "mode": "markers",
         "showlegend": false,
         "type": "scatter",
         "x": [
          0.16625506967268727,
          17.772011857369492,
          -1.0622891190336246,
          -0.8743244037453889,
          -1.2500781257117657,
          17.78941088744848,
          0.4568661875981438,
          -0.5171014010100388,
          -1.560385455002325,
          -1.2649637676606984,
          -1.3784431460170958,
          0.4574277960344402,
          -0.16394866614038056,
          -2.287849766615746,
          -1.1272984907122603,
          0.28021992409213536,
          -0.05289936690847417,
          -1.6319490662570912,
          -2.947424567997311,
          1.0052879294308732,
          -2.9094844917359532,
          -2.201197741447872,
          -2.0315566546852524,
          -1.2469896039911463,
          -1.574165473047365,
          -1.083858080440461,
          14.108109001374427,
          -0.06807221275065078,
          0.23930896065288096,
          0.1958186551357968,
          -0.09159285246719231,
          -0.793667294707345,
          -1.184425000613716,
          -0.024057934217833723,
          -0.8066303486665521,
          14.281682192260892,
          0.06106637264057063,
          0.13851588970258108,
          -0.7876483211047007,
          13.611889060773665,
          -2.195616002382546,
          -2.1715056636662218,
          -2.7085983676125047,
          -2.185454736823488,
          -2.1097941507335873,
          -1.0154526961518913,
          -0.5856051220000569,
          22.43159768044218,
          0.13625952178796152,
          0.3499955799031673,
          0.4748961018605815,
          -1.8700192421347905,
          -2.5919212353032917,
          -0.039916245519820155,
          0.1720715183237197,
          3.8648481802335555,
          -1.1915521952284167,
          -1.2014819200278108,
          -1.2307306770130457,
          -2.59949013977554,
          -0.13415757885223872,
          0.5028427210512065,
          0.3353945600635468,
          -0.1907004591537115,
          0.4451454309278514,
          -1.4522499866118828,
          -0.6492491560173578,
          -0.05846333924908998,
          -0.7615566287275033,
          -1.442102841911331,
          -0.8438667749825323,
          -0.5797924708632141,
          0.8688796353643816,
          -1.041775809775548,
          -0.6293354386697919,
          -1.0761043031106636,
          -0.6020969066714992,
          -0.901950934405821,
          -0.9683444608266979,
          -0.7691628842233603,
          -0.3291868981876474,
          -1.8916204424435277,
          -1.4373517490966048,
          -1.0319493383786011,
          -0.8009917991938862,
          -1.082816090588795,
          -1.8371937358610448,
          -0.9974705770653859,
          -0.48101080597236223,
          0.1820454060459109,
          -0.7785807300953868,
          -0.7707689351171014,
          1.1572043797137415,
          -0.1655232382124405,
          -0.14801570393037392,
          -2.0420324980921554,
          1.0115632662722016,
          -2.1827187693472085,
          -1.8376125590218237,
          0.4248824566927056,
          -0.0029634710561049025,
          0.28038728180594125,
          -0.555873582918538,
          -1.7894065986164784,
          -1.0786569139817044,
          -0.8456767820907578,
          -1.2825881947974882,
          -0.9234212523717794,
          -0.9194498648237152,
          0.2534380604934705,
          -1.304738191554462,
          0.7598560873253499,
          2.2086700810368036,
          0.1902146603395061,
          0.7698795860792849,
          -3.750319868825909,
          -0.7114363068277725,
          1.735631493303652,
          -1.233290269353864,
          1.6048987410743245,
          -3.9763522656803376,
          -1.3380402383898515,
          -0.5811896974191375,
          1.4426887431766695,
          1.1776574081082447,
          0.31690257191804344,
          4.737180918826212,
          -5.232123649075352,
          0.2486290469299837,
          1.624579080819459,
          -0.12125533813329246,
          -0.7779173980842478,
          0.13126894635225575,
          2.6462410385529376,
          -1.2899667947205762,
          -4.056411977501145,
          0.7750982180700576,
          -0.8802869571114639,
          -3.041820678378848,
          0.5384059268064322,
          -0.869990798099005,
          -0.9930602217156599,
          -1.0792202660285601,
          0.9345082562227315,
          -6.13639320173352,
          1.764570926535814,
          0.8104738053122357,
          -5.504214407507242,
          3.97636295855497,
          1.1447449362773219,
          1.4553169051083117,
          -1.5671894097285621,
          -2.1051117712478704,
          -3.5927719931397326,
          17.341047424467558,
          -0.7998457417815324,
          -0.12645221946637777,
          -2.623753383499559,
          -0.3373403387508145,
          -1.8874870723763841,
          1.0252262644965016,
          0.3418891224532402,
          -1.4535168972139754,
          -2.057989603354733,
          -1.03984306196975,
          -1.3780440817121382,
          0.23528362297790303,
          0.5641793964119226,
          0.5597229110961517,
          17.064391464993662,
          0.683426849514611,
          1.0026210380756952,
          -2.2081547391370377,
          1.3067897941512852,
          -0.6603654249899686,
          0.8097061372112433,
          -0.9598614762842308,
          -0.22224406148502648,
          -0.25451560189968103,
          -1.8811526244794428,
          -3.3710293357557957,
          -2.40831485292709,
          -1.2624387210123587,
          0.6320230678074102,
          -1.0235923869124917,
          -0.5364480737937272,
          -1.4807238654962052,
          -1.187741424338537,
          0.27786047064038844,
          -1.2966416272305976,
          -1.7277542565829904,
          0.24343832259770762,
          -3.51597811387836,
          -0.5599549044985505,
          -0.3740707640883028,
          0.17483861958683963,
          -1.9513821514230232,
          -1.6017828588130982,
          1.2635130971035295,
          -1.1215922816419064,
          0.0033480651695006057,
          -0.5201445091082898,
          -1.6726259097500735,
          -1.011337142462345,
          -0.12132799459519017,
          -1.4487097062727619,
          -1.859457906057397,
          -1.194229214254493,
          -0.10994387511859945,
          -0.12005659272768131,
          -1.203583507886244,
          -1.2139022985819112,
          -1.2009731794144678,
          -1.6333957630486626,
          -1.2112925610621759,
          -1.8194470415998285,
          -1.6507972741131902,
          -2.709125457302485,
          -0.3330341914359288,
          0.16355468818558971,
          -0.02460517420753514,
          -0.520868867912707,
          0.09097697089429055,
          -1.0074562441398547,
          -0.5964246855940609,
          -1.1116808580872468,
          -0.5374088586317216,
          -1.5526932059999778,
          -0.5128641247755336,
          -1.8463554944549363,
          -0.6106462815763127,
          -0.20296182156087725,
          -0.95495555176406,
          1.0342435700068537,
          -1.3077740933429693,
          -2.2923284733028235,
          -0.9136236263694578,
          -0.3795599891115618,
          -0.0706630785729907,
          -0.2162870112123105,
          14.30171532582468,
          -0.7641596997032714,
          -2.060468226916946,
          -2.0427423442684924,
          -2.0197450604430984,
          -1.2603949931278193,
          -2.5100360236457444,
          -2.2045462688875666,
          -1.1454376416323528,
          -1.536709526235905,
          -0.38059971922651525,
          14.026844445429228,
          -0.937181238838837,
          14.171839536127228,
          -0.4959711300931245,
          -0.24256705613526536,
          -1.6964065665415324,
          -2.486107118033666,
          -1.4063822686183347,
          -1.0167632928183044,
          -0.6659038350225461,
          -1.7022421901186178,
          0.5221124362257816,
          -0.7254064474010918,
          -1.9882109849709717,
          -1.6008997738912973,
          22.44703954777886,
          -1.0631761776303366,
          -0.4952823854361613,
          -0.6735682540908907,
          -0.16069759415359985,
          0.1259683353111317,
          -0.7514115584821968,
          0.21878387291335635,
          0.0231264164472425,
          -1.0217800703483826,
          -0.7242094012947872,
          0.6068399555560231,
          0.25292636629925036,
          -0.48504680297562697,
          -1.7059418652799516,
          -0.3824893763374276,
          0.24751069366482095,
          -0.09678007704715612,
          5.373349724983427,
          0.10165986254289354,
          -4.2020931049759715,
          2.2547409341536557,
          -1.9851362886631982,
          5.290009722738886,
          2.5699987461916254,
          -3.122811620834637,
          -2.8338364747786904,
          1.3487823016559901,
          -1.9903783084138844,
          -2.7987934364711995,
          0.6865033355301817,
          5.352019820236491,
          0.5629465803292725,
          -0.1751523539622357,
          1.236767433785425,
          -2.9110194120896438,
          1.1528722337279504,
          -2.5547471885368065,
          4.929618135123851,
          -4.395579842354909,
          0.3772651817445913,
          1.6729501370337052,
          -0.7774067725459625,
          0.764216343709191,
          -0.14129488099971807,
          1.5633692873451241,
          5.300479802050825,
          -0.15010367246517473,
          -1.2818426100867033,
          0.8775661412895316,
          3.418379361676203,
          -3.333311949571937,
          -0.24226986262619504,
          -1.7609808260457278,
          2.9054454687531908,
          7.506757170775819,
          0.7200615522808642,
          -3.4870970322595634,
          1.7780925843487905,
          -1.980314118239669,
          5.047940259891243,
          1.591265197895227,
          -1.9562123724206557,
          -1.5012077531835757,
          -1.7647963717170059,
          -0.6970852709541148,
          -0.3296142317264686,
          -1.3275062145327612,
          -2.3957839277234436,
          -0.9576382796454995,
          0.6723395878258605,
          0.16523599864499186,
          -1.0105581928355198,
          -2.0365149435806016,
          -0.27053550377926305,
          -0.729889463663782,
          -2.0054857408032234,
          -1.9039769751269475,
          -1.9862410671720439,
          -0.6806208131839839,
          -0.5072804506395875,
          -1.7192548744928122
         ],
         "xaxis": "x8",
         "y": [
          0.15082683279291,
          0.170103325738585,
          0.111034781880105,
          0.179776053100187,
          0.100869961564206,
          0.106425951970053,
          0.111342789483517,
          0.220707878312447,
          0.157231962502151,
          0.0941681217005429,
          0.27340138706609,
          0.0586886704453629,
          0.0752144237376745,
          0.439250260986213,
          0.143778728128999,
          0.0778732507642041,
          0.106386744107888,
          0.223434987929173,
          0.284416231429515,
          0.0636514085955379,
          0.324954101746078,
          0.234469313273207,
          0.187870162343416,
          0.188184734297115,
          0.166093700686288,
          0.143637908520016,
          0.116953974621397,
          0.0502998183470378,
          0.0404105538348015,
          0.0953940134994509,
          0.0955991859336274,
          0.114994681814444,
          0.121254433605169,
          0.0645810032089069,
          0.120997980452284,
          0.0665098391779751,
          0.0915679761343334,
          0.0666185026340703,
          0.0629604202687853,
          0.137955197400543,
          0.194626393303573,
          0.172904357418207,
          0.180631239773462,
          0.10970824564956,
          0.105584470325929,
          0.14356223689553,
          0.105810252102585,
          0.0588174729452046,
          0.134987894338949,
          0.0634675375903816,
          0.171161567804947,
          0.152040482921095,
          0.138316503146987,
          0.121062613522744,
          0.046115606944586,
          0.077704470289513,
          0.106045506313583,
          0.180631239773462,
          0.160911943578395,
          0.157662110725856,
          0.077704470289513,
          0.0526042770589985,
          0.10092446878243,
          0.105584470325929,
          0.0764232972244369,
          0.100869961564206,
          0.100869961564206,
          0.0802202346618589,
          0.121254433605169,
          0.0878911905398669,
          0.126917798243996,
          0.157662110725856,
          0.0927352873993959,
          0.088081022626797,
          0.0673618347662262,
          0.166436330389463,
          0.14039855660932,
          0.0610577232656411,
          0.102750533024375,
          0.0610577232656411,
          0.0922289014192794,
          0.130635988152675,
          0.0545909157643338,
          0.120534020422296,
          0.10988632750336,
          0.167492442605613,
          0.104655177024721,
          0.0724611395442526,
          0.0617727791767821,
          0.0309321401281847,
          0.0841552033474114,
          0.0920305885004012,
          0.0664989179969857,
          0.121062613522744,
          0.0677773712150112,
          0.08964711449881,
          0.0645142158630004,
          0.125882487374578,
          0.104632414618011,
          0.0966120487008631,
          0.179034558408018,
          0.0641521084773782,
          0.0872931753283576,
          0.0697227242783993,
          0.0737296336979398,
          0.0696810514640419,
          0.0805284508336762,
          0.0665754025808363,
          0.0646553590963955,
          0.0803118109632953,
          0.0889053148212213,
          0.0527524351980812,
          0.092734404444142,
          0.0801379781673042,
          0.120532890837621,
          0.0557799346071468,
          0.115696166971919,
          0.0825129728131481,
          0.0872931753283576,
          0.0914110691929276,
          0.0261107030223557,
          0.0515297420494464,
          0.0641179903486867,
          0.0912144250561531,
          0.0642924870210222,
          0.062018530104871,
          0.0561905620742311,
          0.0435570055031711,
          0.0891439928116553,
          0.0576736378219233,
          0.0812486545885092,
          0.052778109214312,
          0.0729974748924546,
          0.0968224575076632,
          0.0470093476790572,
          0.0363305346490497,
          0.0400260276411733,
          0.0697227242783993,
          0.0697227242783993,
          0.0555992097215521,
          0.0610577232656411,
          0.0584256488680705,
          0.0580645196981447,
          0.131677948777083,
          0.0746265711153169,
          0.0737296336979398,
          0.138163931454089,
          0.0619375079420486,
          0.0560673392539896,
          0.105270529822503,
          0.0697227242783993,
          0.0461692296411982,
          0.0456785438947673,
          0.0780491247160193,
          0.0252390071802939,
          0.098456893832748,
          0.106945981460668,
          0.121430611607064,
          0.041580660898287,
          0.145620895318114,
          0.0264702510258099,
          0.0536744687252528,
          0.0664302184712509,
          0.0669493999702591,
          0.0223157327706429,
          0.050754194028655,
          0.0541310720236634,
          0.0434948611545883,
          0.0223656544797152,
          0.0507270070048135,
          0.0366600866099749,
          0.0574445717334475,
          0.0883125388852117,
          0.0385011546511115,
          0.120997980452284,
          0.068964293506717,
          0.158926914254448,
          0.0854176893074037,
          0.0654502721227915,
          0.261636457657225,
          0.204386233027064,
          0.206397584552222,
          0.137956477094558,
          0.0633288986634414,
          0.0787269620607403,
          0.126917798243996,
          0.0932975761315708,
          0.496609617228571,
          0.142861687697837,
          0.172904357418207,
          0.175451963772391,
          0.160064564174353,
          0.243081079098034,
          0.0872931753283576,
          0.164330013608895,
          0.097841064752205,
          0.127534192084279,
          0.148982356840684,
          0.0716444008748531,
          0.165122333912218,
          0.171741267011961,
          0.067741395697164,
          0.0531672660893055,
          0.197006313933269,
          0.0955991859336274,
          0.131677948777083,
          0.208115406833498,
          0.107719313804258,
          0.0980512099976217,
          0.10459382813478,
          0.105810252102585,
          0.115640727479949,
          0.0802202346618589,
          0.212025205181607,
          0.17028755265665,
          0.195050399966279,
          0.0949506010392478,
          0.262039837868516,
          0.15807014283681,
          0.0752534819961292,
          0.15925621039731,
          0.221804278509727,
          0.157663555965087,
          0.205315801702019,
          0.13728613487929,
          0.165202206586141,
          0.125629873530123,
          0.121062613522744,
          0.0976777066302034,
          0.180631239773462,
          0.128565274648337,
          0.121254433605169,
          0.103928102148367,
          0.171741267011961,
          0.100869961564206,
          0.069837111486772,
          0.114994681814444,
          0.102641632696789,
          0.212027082847403,
          0.152040482921095,
          0.10036541896596,
          0.142861687697837,
          0.165036471822297,
          0.0922289014192794,
          0.15925621039731,
          0.214127699867959,
          0.21386083870267,
          0.143180452964929,
          0.0703812243200044,
          0.115886589155523,
          0.127185868978435,
          0.103200897945574,
          0.100692288919912,
          0.0746265711153169,
          0.0968196982616458,
          0.0874483693375157,
          0.137956477094558,
          0.175614283710826,
          0.0879247607760165,
          0.132979733860831,
          0.067741395697164,
          0.15833108745643,
          0.0610577232656411,
          0.0899374153860922,
          0.153874050929026,
          0.137956477094558,
          0.0872931753283576,
          0.159009908808881,
          0.179491789702368,
          0.121521635246106,
          0.151468088861726,
          0.0638963400667832,
          0.0540364026514413,
          0.105584470325929,
          0.151075530247025,
          0.0779577725416574,
          0.0877352490170272,
          0.0803118109632953,
          0.081108631378459,
          0.105284464080946,
          0.115176446796814,
          0.0803849898046683,
          0.0922772246943218,
          0.0606790911304087,
          0.121521635246106,
          0.0502998183470378,
          0.110605536856977,
          0.0922289014192794,
          0.16504852022226,
          0.115195937517527,
          0.0698748314937651,
          0.132528870327276,
          0.0759868786941116,
          0.112250475489009,
          0.0273229054938187,
          0.085279788286866,
          0.0399374998092346,
          0.0924355415259238,
          0.0920805673018588,
          0.0976777066302034,
          0.125769634260764,
          0.0703812243200044,
          0.11638961634491,
          0.0663538946849441,
          0.0514164595316982,
          0.100417765056745,
          0.0849063219280097,
          0.101133191303032,
          0.0581936891248754,
          0.0538889346042797,
          0.073929240192553,
          0.0675937620080552,
          0.138547577703496,
          0.0893023137493992,
          0.0716450910215998,
          0.0685371214212037,
          0.115298856230837,
          0.0816505529630068,
          0.062018530104871,
          0.0419629513262715,
          0.163798215089234,
          0.167015385193503,
          0.112250475489009,
          0.10988632750336,
          0.0801379781673042,
          0.0730691798555258,
          0.0800366139371931,
          0.0882788278688173,
          0.0883125388852117,
          0.128534098451325,
          0.179190095464056,
          0.165377143337542,
          0.10959449792953,
          0.102870254275211,
          0.0922289014192794,
          0.0765401295045555,
          0.0605463444648389,
          0.120851824050001,
          0.0509836220538049,
          0.120851824050001,
          0.0830869092511911,
          0.0920305885004012,
          0.0920305885004012,
          0.144499406417866,
          0.15789784284956,
          0.0606790911304087,
          0.15631747499531,
          0.0857949379947297
         ],
         "yaxis": "y8"
        },
        {
         "line": {
          "color": "black",
          "width": 0.5
         },
         "mode": "lines",
         "showlegend": false,
         "type": "scatter",
         "x": [
          -6.13639320173352,
          22.44703954777886
         ],
         "xaxis": "x8",
         "y": [
          0.1234462930596795,
          0.05657804425816463
         ],
         "yaxis": "y8"
        },
        {
         "marker": {
          "color": "#636EFA",
          "size": 2.5
         },
         "mode": "markers",
         "showlegend": false,
         "type": "scatter",
         "x": [
          -0.0649224865024675,
          1.08893758432307,
          19.260161912667243,
          -0.5674838255756904,
          -1.1641823943589158,
          1.2114840993532863,
          -0.12002983532614755,
          -0.2807597128825836,
          -1.741066282988283,
          -0.507945163901645,
          -0.15373037795956132,
          1.39350028215561,
          -0.5225801791660281,
          -1.2575304195122132,
          -2.542545998604903,
          -0.16317591350050556,
          0.4532224187503158,
          -0.20270086383705013,
          -1.343606739484018,
          1.1927649119929784,
          -2.4444789814644166,
          -1.2903609892693455,
          -0.8154837636598334,
          -1.423782817199621,
          -0.7572680217624479,
          0.9631277479583658,
          0.277267404023268,
          4.767631464538576,
          3.4429978511700345,
          -0.5633496306194367,
          2.0752254606392606,
          5.409642697166905,
          -1.041912444413692,
          -2.6141373751961807,
          1.9648130490293536,
          3.4395848671242133,
          0.22663701882385331,
          4.213041851267302,
          -1.747878244275865,
          2.574813804930053,
          -3.977592853085315,
          -1.976219345584026,
          -6.240551257403869,
          -1.9365644349027245,
          -1.3003233602770083,
          -3.992082683680268,
          -0.44848133328303924,
          3.6790815971870687,
          -0.6107569043481536,
          0.9999035162266289,
          3.0577650903453124,
          -4.510894754608874,
          -3.0254280490947782,
          -0.5274072873072094,
          2.4423387205738667,
          6.1573951565711305,
          -0.7861180285411932,
          -4.964545923819488,
          -0.6370954206615589,
          -6.680798606107586,
          4.923229109655608,
          5.233294131808279,
          5.970674286922616,
          0.4247812165511447,
          -1.5674885575336048,
          1.6802824040408206,
          -0.7843307121976383,
          0.4867214068143843,
          -0.876851018340989,
          -1.5404478607714613,
          -1.861051420815835,
          0.07080227293639797,
          0.14165661432726587,
          -0.7951817495511099,
          15.736997968499626,
          -0.26702406973814324,
          -1.3240803717020162,
          -0.845852457382111,
          -1.2482729264269952,
          1.0196838673148196,
          -0.09522779131742472,
          -1.4612401157205384,
          -1.2480280484534563,
          -0.5889400981525492,
          -1.3299625554873575,
          -0.6794856027607686,
          -1.3068629574570005,
          -1.3857671710500954,
          -0.5675096947787095,
          -0.23154709219093167,
          -1.417086514985563,
          -0.8857642282642421,
          -0.009600103948346587,
          -0.8509260652331453,
          -0.6385300859670409,
          11.142325570130332,
          0.10779682450251421,
          -1.1221769556440353,
          -2.3468572440903936,
          -0.7600026976815701,
          -1.1023195881314303,
          -0.5518020761572849,
          -1.0400060016096662,
          -1.1481216111461572,
          -1.212753769300356,
          -0.5749536316804857,
          -1.103723071701512,
          -1.1784508419737685,
          -1.204953052357027,
          -0.6335193353525934,
          0.36613140331281746,
          -1.731904543296874,
          -1.1896581229489713,
          1.051249064309472,
          -1.6073905401847852,
          -0.7747444698910464,
          -1.83067409045009,
          0.47718919946229466,
          0.2635119420848988,
          -1.4286374899340657,
          -0.42294511216612457,
          -0.8744208691845381,
          -0.5030738724889101,
          -1.8338288777303635,
          0.4578379423463202,
          0.3227403567975507,
          1.46473866446423,
          -1.0480389688795437,
          -0.4012006510374775,
          1.1905841732501332,
          -0.790654241861377,
          1.5011729857585976,
          -1.0756782287567195,
          -1.078797440020274,
          -0.6649939602889539,
          -0.7283769376619433,
          -0.82657076375539,
          -1.4574463309502201,
          12.351737029202985,
          -1.2134058067697175,
          -1.001753275555498,
          -1.427829030423481,
          -2.037013630790785,
          0.32162616936887883,
          -1.4981687350062878,
          0.053181234474527696,
          12.205290587236574,
          -1.2465535294491248,
          -0.29451177033247544,
          -0.44553944261453315,
          -0.4744772214659944,
          -0.4820314808473056,
          -0.890340826113113,
          -1.3509767527431793,
          0.5363736277472867,
          -0.949625913198109,
          -1.1768249860832578,
          -2.4515398388335528,
          -1.1745701111389033,
          -2.553022278632664,
          0.3634602854453172,
          -0.4509258920256572,
          -0.9542284319821226,
          12.223162793141192,
          -0.8370477641345909,
          -0.8902320708390725,
          -0.06629531729400982,
          -0.7633778118422254,
          -0.645636369601137,
          0.16078467685765763,
          -0.3316769584672442,
          -0.13912937647325452,
          -1.8191143758251245,
          -0.39899518766876213,
          -0.8351673953650988,
          1.4991115758601172,
          -0.0581657016951092,
          0.5614853860842485,
          -0.07933172576342919,
          -0.7313065781784345,
          -3.9836148529504274,
          -1.8770541310074769,
          -1.6355378627201667,
          0.893510746191061,
          -1.7031752506820843,
          -1.1214475237798986,
          -0.4583604731178881,
          -0.959604595780844,
          -0.34447496539998496,
          -0.9928633432295864,
          -1.6561877886330791,
          0.323883387713691,
          -3.016320360938826,
          1.0536204443442714,
          -0.6053093226292223,
          0.5043642797115717,
          -5.512570325111602,
          -4.711418607433321,
          1.5602929698668195,
          -2.0130030881422534,
          2.6765870622568797,
          -1.9461451971292298,
          -1.833016979412948,
          4.3679651970289415,
          1.1269560079751462,
          3.943458192677235,
          -2.1577679537471863,
          -4.9146746920098145,
          3.5982041349446043,
          3.9106460491580664,
          -0.17121358415082374,
          -0.26221927263676376,
          3.8667618220763638,
          4.725645621195885,
          -4.176236868399196,
          -5.433715612111873,
          -3.6857331254056755,
          2.2272678822208754,
          -1.4318890351395228,
          3.267801226489246,
          0.6914809781377346,
          3.153447653167402,
          0.4168788909092796,
          1.366119232543829,
          -2.106587929308988,
          -1.0207084379281666,
          -0.17985394960106374,
          -0.6261887577331663,
          -1.5970951734148338,
          -1.907920318912936,
          -1.4623786526178062,
          -1.4039704013789425,
          3.2191759406387495,
          2.572223111249635,
          2.7514536832153147,
          -7.579622129313219,
          -0.26772788674766823,
          -0.7406133221834954,
          -2.2784723873329957,
          -4.606573953463373,
          0.4945482140888456,
          -0.4355245708640802,
          -1.822391978860973,
          -1.061163217240613,
          -1.2312118432174135,
          -1.2420679092797478,
          -1.7636610673382727,
          -1.6921588501630211,
          -0.9406668442691859,
          -1.145422361023206,
          -0.9505845475727047,
          -1.3745410099369664,
          -0.8834527728886703,
          0.4916803286828872,
          15.737368371150454,
          -0.6326683231691006,
          -1.290866894898676,
          -1.8049270287523438,
          -1.4379557348976906,
          0.30046477894948814,
          -0.3690376848021822,
          -0.19320150342847492,
          -0.15177417043472072,
          -0.8887469489384344,
          11.070673927941872,
          -1.7894621264296438,
          0.7191998166479964,
          -1.451085500570391,
          -1.1689199596323023,
          -1.835573244728921,
          -1.0215588660423167,
          -1.7241569949904054,
          -0.990563716720429,
          -0.1526686543731978,
          -0.7173167635076831,
          11.351095712264412,
          -1.7221321056504242,
          -1.013248673510079,
          11.19517939793559,
          -1.288611077190754,
          -2.5352150789057246,
          -1.3578522234098933,
          0.5986299144035154,
          -0.13344305974675424,
          -0.5228620066354223,
          0.7316449933577366,
          0.0188398774551209,
          -0.5470069061867564,
          -2.689271124757903,
          0.8610025831650778,
          0.5459949754610752,
          -0.9654348902426846,
          19.092576517659598,
          -1.3005626376599342,
          -0.04297458784427517,
          -1.2574492645629312,
          1.8195225305720402,
          1.614377671361079,
          -0.6803914315845243,
          -1.7038020463249348,
          -0.4550216000555039,
          -1.226321101523789,
          -1.1833567599420727,
          -0.48166537152274336,
          0.593121383971712,
          -2.88410678486277,
          -1.0388642164478619,
          -1.8513789882658525,
          -2.116047738544464,
          -0.0787895685287507,
          -0.9600430532243431,
          0.6970343507618868,
          -0.4579830152275087,
          -0.017278908116685792,
          -1.0107896659177658,
          -1.098559056915183,
          -0.5187196763664269,
          -1.2834552930845637,
          -0.09506329538232754,
          0.015548319954687589,
          -1.0028157890945355,
          -1.1268094063879046,
          -0.8181676057583859,
          12.281195970025813,
          -0.33194584600863486,
          -2.0827097236917678,
          -0.757548734919563,
          -0.9590191226079214,
          -2.027977246705356,
          -1.7536861692159638,
          -1.9733650456424496,
          -1.1369884354800874,
          -1.2321517218290483,
          -1.5348044543889119,
          -2.038563611215031,
          -1.0374926055804121,
          0.19815712245206646,
          -0.8429578044750935,
          -0.8190169973622455,
          -1.6966734293883758,
          -1.1226910978781948,
          -0.7970322699693387,
          12.23300488324283,
          12.142118641754138,
          -2.062555105547671,
          -1.2244382553790119,
          -0.8087964902868552,
          -0.7008477470764499
         ],
         "xaxis": "x9",
         "y": [
          0.15082683279291,
          0.170103325738585,
          0.111034781880105,
          0.179776053100187,
          0.100869961564206,
          0.106425951970053,
          0.111342789483517,
          0.220707878312447,
          0.157231962502151,
          0.0941681217005429,
          0.27340138706609,
          0.0586886704453629,
          0.0752144237376745,
          0.439250260986213,
          0.143778728128999,
          0.0778732507642041,
          0.106386744107888,
          0.223434987929173,
          0.284416231429515,
          0.0636514085955379,
          0.324954101746078,
          0.234469313273207,
          0.187870162343416,
          0.188184734297115,
          0.166093700686288,
          0.143637908520016,
          0.116953974621397,
          0.0502998183470378,
          0.0404105538348015,
          0.0953940134994509,
          0.0955991859336274,
          0.114994681814444,
          0.121254433605169,
          0.0645810032089069,
          0.120997980452284,
          0.0665098391779751,
          0.0915679761343334,
          0.0666185026340703,
          0.0629604202687853,
          0.137955197400543,
          0.194626393303573,
          0.172904357418207,
          0.180631239773462,
          0.10970824564956,
          0.105584470325929,
          0.14356223689553,
          0.105810252102585,
          0.0588174729452046,
          0.134987894338949,
          0.0634675375903816,
          0.171161567804947,
          0.152040482921095,
          0.138316503146987,
          0.121062613522744,
          0.046115606944586,
          0.077704470289513,
          0.106045506313583,
          0.180631239773462,
          0.160911943578395,
          0.157662110725856,
          0.077704470289513,
          0.0526042770589985,
          0.10092446878243,
          0.105584470325929,
          0.0764232972244369,
          0.100869961564206,
          0.100869961564206,
          0.0802202346618589,
          0.121254433605169,
          0.0878911905398669,
          0.126917798243996,
          0.157662110725856,
          0.0927352873993959,
          0.088081022626797,
          0.0673618347662262,
          0.166436330389463,
          0.14039855660932,
          0.0610577232656411,
          0.102750533024375,
          0.0610577232656411,
          0.0922289014192794,
          0.130635988152675,
          0.0545909157643338,
          0.120534020422296,
          0.10988632750336,
          0.167492442605613,
          0.104655177024721,
          0.0724611395442526,
          0.0617727791767821,
          0.0309321401281847,
          0.0841552033474114,
          0.0920305885004012,
          0.0664989179969857,
          0.121062613522744,
          0.0677773712150112,
          0.08964711449881,
          0.0645142158630004,
          0.125882487374578,
          0.104632414618011,
          0.0966120487008631,
          0.179034558408018,
          0.0641521084773782,
          0.0872931753283576,
          0.0697227242783993,
          0.0737296336979398,
          0.0696810514640419,
          0.0805284508336762,
          0.0665754025808363,
          0.0646553590963955,
          0.0803118109632953,
          0.0889053148212213,
          0.0527524351980812,
          0.092734404444142,
          0.0801379781673042,
          0.120532890837621,
          0.0557799346071468,
          0.115696166971919,
          0.0825129728131481,
          0.0872931753283576,
          0.0914110691929276,
          0.0261107030223557,
          0.0515297420494464,
          0.0641179903486867,
          0.0912144250561531,
          0.0642924870210222,
          0.062018530104871,
          0.0561905620742311,
          0.0435570055031711,
          0.0891439928116553,
          0.0576736378219233,
          0.0812486545885092,
          0.052778109214312,
          0.0729974748924546,
          0.0968224575076632,
          0.0470093476790572,
          0.0363305346490497,
          0.0400260276411733,
          0.0697227242783993,
          0.0697227242783993,
          0.0555992097215521,
          0.0610577232656411,
          0.0584256488680705,
          0.0580645196981447,
          0.131677948777083,
          0.0746265711153169,
          0.0737296336979398,
          0.138163931454089,
          0.0619375079420486,
          0.0560673392539896,
          0.105270529822503,
          0.0697227242783993,
          0.0461692296411982,
          0.0456785438947673,
          0.0780491247160193,
          0.0252390071802939,
          0.098456893832748,
          0.106945981460668,
          0.121430611607064,
          0.041580660898287,
          0.145620895318114,
          0.0264702510258099,
          0.0536744687252528,
          0.0664302184712509,
          0.0669493999702591,
          0.0223157327706429,
          0.050754194028655,
          0.0541310720236634,
          0.0434948611545883,
          0.0223656544797152,
          0.0507270070048135,
          0.0366600866099749,
          0.0574445717334475,
          0.0883125388852117,
          0.0385011546511115,
          0.120997980452284,
          0.068964293506717,
          0.158926914254448,
          0.0854176893074037,
          0.0654502721227915,
          0.261636457657225,
          0.204386233027064,
          0.206397584552222,
          0.137956477094558,
          0.0633288986634414,
          0.0787269620607403,
          0.126917798243996,
          0.0932975761315708,
          0.496609617228571,
          0.142861687697837,
          0.172904357418207,
          0.175451963772391,
          0.160064564174353,
          0.243081079098034,
          0.0872931753283576,
          0.164330013608895,
          0.097841064752205,
          0.127534192084279,
          0.148982356840684,
          0.0716444008748531,
          0.165122333912218,
          0.171741267011961,
          0.067741395697164,
          0.0531672660893055,
          0.197006313933269,
          0.0955991859336274,
          0.131677948777083,
          0.208115406833498,
          0.107719313804258,
          0.0980512099976217,
          0.10459382813478,
          0.105810252102585,
          0.115640727479949,
          0.0802202346618589,
          0.212025205181607,
          0.17028755265665,
          0.195050399966279,
          0.0949506010392478,
          0.262039837868516,
          0.15807014283681,
          0.0752534819961292,
          0.15925621039731,
          0.221804278509727,
          0.157663555965087,
          0.205315801702019,
          0.13728613487929,
          0.165202206586141,
          0.125629873530123,
          0.121062613522744,
          0.0976777066302034,
          0.180631239773462,
          0.128565274648337,
          0.121254433605169,
          0.103928102148367,
          0.171741267011961,
          0.100869961564206,
          0.069837111486772,
          0.114994681814444,
          0.102641632696789,
          0.212027082847403,
          0.152040482921095,
          0.10036541896596,
          0.142861687697837,
          0.165036471822297,
          0.0922289014192794,
          0.15925621039731,
          0.214127699867959,
          0.21386083870267,
          0.143180452964929,
          0.0703812243200044,
          0.115886589155523,
          0.127185868978435,
          0.103200897945574,
          0.100692288919912,
          0.0746265711153169,
          0.0968196982616458,
          0.0874483693375157,
          0.137956477094558,
          0.175614283710826,
          0.0879247607760165,
          0.132979733860831,
          0.067741395697164,
          0.15833108745643,
          0.0610577232656411,
          0.0899374153860922,
          0.153874050929026,
          0.137956477094558,
          0.0872931753283576,
          0.159009908808881,
          0.179491789702368,
          0.121521635246106,
          0.151468088861726,
          0.0638963400667832,
          0.0540364026514413,
          0.105584470325929,
          0.151075530247025,
          0.0779577725416574,
          0.0877352490170272,
          0.0803118109632953,
          0.081108631378459,
          0.105284464080946,
          0.115176446796814,
          0.0803849898046683,
          0.0922772246943218,
          0.0606790911304087,
          0.121521635246106,
          0.0502998183470378,
          0.110605536856977,
          0.0922289014192794,
          0.16504852022226,
          0.115195937517527,
          0.0698748314937651,
          0.132528870327276,
          0.0759868786941116,
          0.112250475489009,
          0.0273229054938187,
          0.085279788286866,
          0.0399374998092346,
          0.0924355415259238,
          0.0920805673018588,
          0.0976777066302034,
          0.125769634260764,
          0.0703812243200044,
          0.11638961634491,
          0.0663538946849441,
          0.0514164595316982,
          0.100417765056745,
          0.0849063219280097,
          0.101133191303032,
          0.0581936891248754,
          0.0538889346042797,
          0.073929240192553,
          0.0675937620080552,
          0.138547577703496,
          0.0893023137493992,
          0.0716450910215998,
          0.0685371214212037,
          0.115298856230837,
          0.0816505529630068,
          0.062018530104871,
          0.0419629513262715,
          0.163798215089234,
          0.167015385193503,
          0.112250475489009,
          0.10988632750336,
          0.0801379781673042,
          0.0730691798555258,
          0.0800366139371931,
          0.0882788278688173,
          0.0883125388852117,
          0.128534098451325,
          0.179190095464056,
          0.165377143337542,
          0.10959449792953,
          0.102870254275211,
          0.0922289014192794,
          0.0765401295045555,
          0.0605463444648389,
          0.120851824050001,
          0.0509836220538049,
          0.120851824050001,
          0.0830869092511911,
          0.0920305885004012,
          0.0920305885004012,
          0.144499406417866,
          0.15789784284956,
          0.0606790911304087,
          0.15631747499531,
          0.0857949379947297
         ],
         "yaxis": "y9"
        },
        {
         "line": {
          "color": "black",
          "width": 0.5
         },
         "mode": "lines",
         "showlegend": false,
         "type": "scatter",
         "x": [
          -7.579622129313219,
          19.260161912667243
         ],
         "xaxis": "x9",
         "y": [
          0.1257740670010412,
          0.0666977916576054
         ],
         "yaxis": "y9"
        }
       ],
       "layout": {
        "annotations": [
         {
          "font": {
           "size": 16
          },
          "showarrow": false,
          "text": "Cluster 0",
          "x": 0.14444444444444446,
          "xanchor": "center",
          "xref": "paper",
          "y": 1,
          "yanchor": "bottom",
          "yref": "paper"
         },
         {
          "font": {
           "size": 16
          },
          "showarrow": false,
          "text": "Cluster 1",
          "x": 0.5,
          "xanchor": "center",
          "xref": "paper",
          "y": 1,
          "yanchor": "bottom",
          "yref": "paper"
         },
         {
          "font": {
           "size": 16
          },
          "showarrow": false,
          "text": "Cluster 2",
          "x": 0.8555555555555556,
          "xanchor": "center",
          "xref": "paper",
          "y": 1,
          "yanchor": "bottom",
          "yref": "paper"
         },
         {
          "font": {
           "size": 16
          },
          "showarrow": false,
          "text": "Cluster 3",
          "x": 0.14444444444444446,
          "xanchor": "center",
          "xref": "paper",
          "y": 0.6433333333333333,
          "yanchor": "bottom",
          "yref": "paper"
         },
         {
          "font": {
           "size": 16
          },
          "showarrow": false,
          "text": "Cluster 4",
          "x": 0.5,
          "xanchor": "center",
          "xref": "paper",
          "y": 0.6433333333333333,
          "yanchor": "bottom",
          "yref": "paper"
         },
         {
          "font": {
           "size": 16
          },
          "showarrow": false,
          "text": "Cluster 5",
          "x": 0.8555555555555556,
          "xanchor": "center",
          "xref": "paper",
          "y": 0.6433333333333333,
          "yanchor": "bottom",
          "yref": "paper"
         },
         {
          "font": {
           "size": 16
          },
          "showarrow": false,
          "text": "Cluster 6",
          "x": 0.14444444444444446,
          "xanchor": "center",
          "xref": "paper",
          "y": 0.2866666666666667,
          "yanchor": "bottom",
          "yref": "paper"
         },
         {
          "font": {
           "size": 16
          },
          "showarrow": false,
          "text": "Cluster 7",
          "x": 0.5,
          "xanchor": "center",
          "xref": "paper",
          "y": 0.2866666666666667,
          "yanchor": "bottom",
          "yref": "paper"
         },
         {
          "font": {
           "size": 16
          },
          "showarrow": false,
          "text": "Cluster 8",
          "x": 0.8555555555555556,
          "xanchor": "center",
          "xref": "paper",
          "y": 0.2866666666666667,
          "yanchor": "bottom",
          "yref": "paper"
         }
        ],
        "height": 1000,
        "template": {
         "data": {
          "bar": [
           {
            "error_x": {
             "color": "#2a3f5f"
            },
            "error_y": {
             "color": "#2a3f5f"
            },
            "marker": {
             "line": {
              "color": "#E5ECF6",
              "width": 0.5
             },
             "pattern": {
              "fillmode": "overlay",
              "size": 10,
              "solidity": 0.2
             }
            },
            "type": "bar"
           }
          ],
          "barpolar": [
           {
            "marker": {
             "line": {
              "color": "#E5ECF6",
              "width": 0.5
             },
             "pattern": {
              "fillmode": "overlay",
              "size": 10,
              "solidity": 0.2
             }
            },
            "type": "barpolar"
           }
          ],
          "carpet": [
           {
            "aaxis": {
             "endlinecolor": "#2a3f5f",
             "gridcolor": "white",
             "linecolor": "white",
             "minorgridcolor": "white",
             "startlinecolor": "#2a3f5f"
            },
            "baxis": {
             "endlinecolor": "#2a3f5f",
             "gridcolor": "white",
             "linecolor": "white",
             "minorgridcolor": "white",
             "startlinecolor": "#2a3f5f"
            },
            "type": "carpet"
           }
          ],
          "choropleth": [
           {
            "colorbar": {
             "outlinewidth": 0,
             "ticks": ""
            },
            "type": "choropleth"
           }
          ],
          "contour": [
           {
            "colorbar": {
             "outlinewidth": 0,
             "ticks": ""
            },
            "colorscale": [
             [
              0,
              "#0d0887"
             ],
             [
              0.1111111111111111,
              "#46039f"
             ],
             [
              0.2222222222222222,
              "#7201a8"
             ],
             [
              0.3333333333333333,
              "#9c179e"
             ],
             [
              0.4444444444444444,
              "#bd3786"
             ],
             [
              0.5555555555555556,
              "#d8576b"
             ],
             [
              0.6666666666666666,
              "#ed7953"
             ],
             [
              0.7777777777777778,
              "#fb9f3a"
             ],
             [
              0.8888888888888888,
              "#fdca26"
             ],
             [
              1,
              "#f0f921"
             ]
            ],
            "type": "contour"
           }
          ],
          "contourcarpet": [
           {
            "colorbar": {
             "outlinewidth": 0,
             "ticks": ""
            },
            "type": "contourcarpet"
           }
          ],
          "heatmap": [
           {
            "colorbar": {
             "outlinewidth": 0,
             "ticks": ""
            },
            "colorscale": [
             [
              0,
              "#0d0887"
             ],
             [
              0.1111111111111111,
              "#46039f"
             ],
             [
              0.2222222222222222,
              "#7201a8"
             ],
             [
              0.3333333333333333,
              "#9c179e"
             ],
             [
              0.4444444444444444,
              "#bd3786"
             ],
             [
              0.5555555555555556,
              "#d8576b"
             ],
             [
              0.6666666666666666,
              "#ed7953"
             ],
             [
              0.7777777777777778,
              "#fb9f3a"
             ],
             [
              0.8888888888888888,
              "#fdca26"
             ],
             [
              1,
              "#f0f921"
             ]
            ],
            "type": "heatmap"
           }
          ],
          "heatmapgl": [
           {
            "colorbar": {
             "outlinewidth": 0,
             "ticks": ""
            },
            "colorscale": [
             [
              0,
              "#0d0887"
             ],
             [
              0.1111111111111111,
              "#46039f"
             ],
             [
              0.2222222222222222,
              "#7201a8"
             ],
             [
              0.3333333333333333,
              "#9c179e"
             ],
             [
              0.4444444444444444,
              "#bd3786"
             ],
             [
              0.5555555555555556,
              "#d8576b"
             ],
             [
              0.6666666666666666,
              "#ed7953"
             ],
             [
              0.7777777777777778,
              "#fb9f3a"
             ],
             [
              0.8888888888888888,
              "#fdca26"
             ],
             [
              1,
              "#f0f921"
             ]
            ],
            "type": "heatmapgl"
           }
          ],
          "histogram": [
           {
            "marker": {
             "pattern": {
              "fillmode": "overlay",
              "size": 10,
              "solidity": 0.2
             }
            },
            "type": "histogram"
           }
          ],
          "histogram2d": [
           {
            "colorbar": {
             "outlinewidth": 0,
             "ticks": ""
            },
            "colorscale": [
             [
              0,
              "#0d0887"
             ],
             [
              0.1111111111111111,
              "#46039f"
             ],
             [
              0.2222222222222222,
              "#7201a8"
             ],
             [
              0.3333333333333333,
              "#9c179e"
             ],
             [
              0.4444444444444444,
              "#bd3786"
             ],
             [
              0.5555555555555556,
              "#d8576b"
             ],
             [
              0.6666666666666666,
              "#ed7953"
             ],
             [
              0.7777777777777778,
              "#fb9f3a"
             ],
             [
              0.8888888888888888,
              "#fdca26"
             ],
             [
              1,
              "#f0f921"
             ]
            ],
            "type": "histogram2d"
           }
          ],
          "histogram2dcontour": [
           {
            "colorbar": {
             "outlinewidth": 0,
             "ticks": ""
            },
            "colorscale": [
             [
              0,
              "#0d0887"
             ],
             [
              0.1111111111111111,
              "#46039f"
             ],
             [
              0.2222222222222222,
              "#7201a8"
             ],
             [
              0.3333333333333333,
              "#9c179e"
             ],
             [
              0.4444444444444444,
              "#bd3786"
             ],
             [
              0.5555555555555556,
              "#d8576b"
             ],
             [
              0.6666666666666666,
              "#ed7953"
             ],
             [
              0.7777777777777778,
              "#fb9f3a"
             ],
             [
              0.8888888888888888,
              "#fdca26"
             ],
             [
              1,
              "#f0f921"
             ]
            ],
            "type": "histogram2dcontour"
           }
          ],
          "mesh3d": [
           {
            "colorbar": {
             "outlinewidth": 0,
             "ticks": ""
            },
            "type": "mesh3d"
           }
          ],
          "parcoords": [
           {
            "line": {
             "colorbar": {
              "outlinewidth": 0,
              "ticks": ""
             }
            },
            "type": "parcoords"
           }
          ],
          "pie": [
           {
            "automargin": true,
            "type": "pie"
           }
          ],
          "scatter": [
           {
            "fillpattern": {
             "fillmode": "overlay",
             "size": 10,
             "solidity": 0.2
            },
            "type": "scatter"
           }
          ],
          "scatter3d": [
           {
            "line": {
             "colorbar": {
              "outlinewidth": 0,
              "ticks": ""
             }
            },
            "marker": {
             "colorbar": {
              "outlinewidth": 0,
              "ticks": ""
             }
            },
            "type": "scatter3d"
           }
          ],
          "scattercarpet": [
           {
            "marker": {
             "colorbar": {
              "outlinewidth": 0,
              "ticks": ""
             }
            },
            "type": "scattercarpet"
           }
          ],
          "scattergeo": [
           {
            "marker": {
             "colorbar": {
              "outlinewidth": 0,
              "ticks": ""
             }
            },
            "type": "scattergeo"
           }
          ],
          "scattergl": [
           {
            "marker": {
             "colorbar": {
              "outlinewidth": 0,
              "ticks": ""
             }
            },
            "type": "scattergl"
           }
          ],
          "scattermapbox": [
           {
            "marker": {
             "colorbar": {
              "outlinewidth": 0,
              "ticks": ""
             }
            },
            "type": "scattermapbox"
           }
          ],
          "scatterpolar": [
           {
            "marker": {
             "colorbar": {
              "outlinewidth": 0,
              "ticks": ""
             }
            },
            "type": "scatterpolar"
           }
          ],
          "scatterpolargl": [
           {
            "marker": {
             "colorbar": {
              "outlinewidth": 0,
              "ticks": ""
             }
            },
            "type": "scatterpolargl"
           }
          ],
          "scatterternary": [
           {
            "marker": {
             "colorbar": {
              "outlinewidth": 0,
              "ticks": ""
             }
            },
            "type": "scatterternary"
           }
          ],
          "surface": [
           {
            "colorbar": {
             "outlinewidth": 0,
             "ticks": ""
            },
            "colorscale": [
             [
              0,
              "#0d0887"
             ],
             [
              0.1111111111111111,
              "#46039f"
             ],
             [
              0.2222222222222222,
              "#7201a8"
             ],
             [
              0.3333333333333333,
              "#9c179e"
             ],
             [
              0.4444444444444444,
              "#bd3786"
             ],
             [
              0.5555555555555556,
              "#d8576b"
             ],
             [
              0.6666666666666666,
              "#ed7953"
             ],
             [
              0.7777777777777778,
              "#fb9f3a"
             ],
             [
              0.8888888888888888,
              "#fdca26"
             ],
             [
              1,
              "#f0f921"
             ]
            ],
            "type": "surface"
           }
          ],
          "table": [
           {
            "cells": {
             "fill": {
              "color": "#EBF0F8"
             },
             "line": {
              "color": "white"
             }
            },
            "header": {
             "fill": {
              "color": "#C8D4E3"
             },
             "line": {
              "color": "white"
             }
            },
            "type": "table"
           }
          ]
         },
         "layout": {
          "annotationdefaults": {
           "arrowcolor": "#2a3f5f",
           "arrowhead": 0,
           "arrowwidth": 1
          },
          "autotypenumbers": "strict",
          "coloraxis": {
           "colorbar": {
            "outlinewidth": 0,
            "ticks": ""
           }
          },
          "colorscale": {
           "diverging": [
            [
             0,
             "#8e0152"
            ],
            [
             0.1,
             "#c51b7d"
            ],
            [
             0.2,
             "#de77ae"
            ],
            [
             0.3,
             "#f1b6da"
            ],
            [
             0.4,
             "#fde0ef"
            ],
            [
             0.5,
             "#f7f7f7"
            ],
            [
             0.6,
             "#e6f5d0"
            ],
            [
             0.7,
             "#b8e186"
            ],
            [
             0.8,
             "#7fbc41"
            ],
            [
             0.9,
             "#4d9221"
            ],
            [
             1,
             "#276419"
            ]
           ],
           "sequential": [
            [
             0,
             "#0d0887"
            ],
            [
             0.1111111111111111,
             "#46039f"
            ],
            [
             0.2222222222222222,
             "#7201a8"
            ],
            [
             0.3333333333333333,
             "#9c179e"
            ],
            [
             0.4444444444444444,
             "#bd3786"
            ],
            [
             0.5555555555555556,
             "#d8576b"
            ],
            [
             0.6666666666666666,
             "#ed7953"
            ],
            [
             0.7777777777777778,
             "#fb9f3a"
            ],
            [
             0.8888888888888888,
             "#fdca26"
            ],
            [
             1,
             "#f0f921"
            ]
           ],
           "sequentialminus": [
            [
             0,
             "#0d0887"
            ],
            [
             0.1111111111111111,
             "#46039f"
            ],
            [
             0.2222222222222222,
             "#7201a8"
            ],
            [
             0.3333333333333333,
             "#9c179e"
            ],
            [
             0.4444444444444444,
             "#bd3786"
            ],
            [
             0.5555555555555556,
             "#d8576b"
            ],
            [
             0.6666666666666666,
             "#ed7953"
            ],
            [
             0.7777777777777778,
             "#fb9f3a"
            ],
            [
             0.8888888888888888,
             "#fdca26"
            ],
            [
             1,
             "#f0f921"
            ]
           ]
          },
          "colorway": [
           "#636efa",
           "#EF553B",
           "#00cc96",
           "#ab63fa",
           "#FFA15A",
           "#19d3f3",
           "#FF6692",
           "#B6E880",
           "#FF97FF",
           "#FECB52"
          ],
          "font": {
           "color": "#2a3f5f"
          },
          "geo": {
           "bgcolor": "white",
           "lakecolor": "white",
           "landcolor": "#E5ECF6",
           "showlakes": true,
           "showland": true,
           "subunitcolor": "white"
          },
          "hoverlabel": {
           "align": "left"
          },
          "hovermode": "closest",
          "mapbox": {
           "style": "light"
          },
          "paper_bgcolor": "white",
          "plot_bgcolor": "#E5ECF6",
          "polar": {
           "angularaxis": {
            "gridcolor": "white",
            "linecolor": "white",
            "ticks": ""
           },
           "bgcolor": "#E5ECF6",
           "radialaxis": {
            "gridcolor": "white",
            "linecolor": "white",
            "ticks": ""
           }
          },
          "scene": {
           "xaxis": {
            "backgroundcolor": "#E5ECF6",
            "gridcolor": "white",
            "gridwidth": 2,
            "linecolor": "white",
            "showbackground": true,
            "ticks": "",
            "zerolinecolor": "white"
           },
           "yaxis": {
            "backgroundcolor": "#E5ECF6",
            "gridcolor": "white",
            "gridwidth": 2,
            "linecolor": "white",
            "showbackground": true,
            "ticks": "",
            "zerolinecolor": "white"
           },
           "zaxis": {
            "backgroundcolor": "#E5ECF6",
            "gridcolor": "white",
            "gridwidth": 2,
            "linecolor": "white",
            "showbackground": true,
            "ticks": "",
            "zerolinecolor": "white"
           }
          },
          "shapedefaults": {
           "line": {
            "color": "#2a3f5f"
           }
          },
          "ternary": {
           "aaxis": {
            "gridcolor": "white",
            "linecolor": "white",
            "ticks": ""
           },
           "baxis": {
            "gridcolor": "white",
            "linecolor": "white",
            "ticks": ""
           },
           "bgcolor": "#E5ECF6",
           "caxis": {
            "gridcolor": "white",
            "linecolor": "white",
            "ticks": ""
           }
          },
          "title": {
           "x": 0.05
          },
          "xaxis": {
           "automargin": true,
           "gridcolor": "white",
           "linecolor": "white",
           "ticks": "",
           "title": {
            "standoff": 15
           },
           "zerolinecolor": "white",
           "zerolinewidth": 2
          },
          "yaxis": {
           "automargin": true,
           "gridcolor": "white",
           "linecolor": "white",
           "ticks": "",
           "title": {
            "standoff": 15
           },
           "zerolinecolor": "white",
           "zerolinewidth": 2
          }
         }
        },
        "title": {
         "text": "AWHS"
        },
        "width": 1000,
        "xaxis": {
         "anchor": "y",
         "domain": [
          0,
          0.2888888888888889
         ]
        },
        "xaxis2": {
         "anchor": "y2",
         "domain": [
          0.35555555555555557,
          0.6444444444444445
         ]
        },
        "xaxis3": {
         "anchor": "y3",
         "domain": [
          0.7111111111111111,
          1
         ]
        },
        "xaxis4": {
         "anchor": "y4",
         "domain": [
          0,
          0.2888888888888889
         ]
        },
        "xaxis5": {
         "anchor": "y5",
         "domain": [
          0.35555555555555557,
          0.6444444444444445
         ]
        },
        "xaxis6": {
         "anchor": "y6",
         "domain": [
          0.7111111111111111,
          1
         ]
        },
        "xaxis7": {
         "anchor": "y7",
         "domain": [
          0,
          0.2888888888888889
         ],
         "title": {
          "text": "PC1"
         }
        },
        "xaxis8": {
         "anchor": "y8",
         "domain": [
          0.35555555555555557,
          0.6444444444444445
         ],
         "title": {
          "text": "PC1"
         }
        },
        "xaxis9": {
         "anchor": "y9",
         "domain": [
          0.7111111111111111,
          1
         ],
         "title": {
          "text": "PC1"
         }
        },
        "yaxis": {
         "anchor": "x",
         "domain": [
          0.7133333333333334,
          1
         ],
         "title": {
          "text": "FHS10y"
         }
        },
        "yaxis2": {
         "anchor": "x2",
         "domain": [
          0.7133333333333334,
          1
         ]
        },
        "yaxis3": {
         "anchor": "x3",
         "domain": [
          0.7133333333333334,
          1
         ]
        },
        "yaxis4": {
         "anchor": "x4",
         "domain": [
          0.3566666666666667,
          0.6433333333333333
         ],
         "title": {
          "text": "FHS10y"
         }
        },
        "yaxis5": {
         "anchor": "x5",
         "domain": [
          0.3566666666666667,
          0.6433333333333333
         ]
        },
        "yaxis6": {
         "anchor": "x6",
         "domain": [
          0.3566666666666667,
          0.6433333333333333
         ]
        },
        "yaxis7": {
         "anchor": "x7",
         "domain": [
          0,
          0.2866666666666667
         ],
         "title": {
          "text": "FHS10y"
         }
        },
        "yaxis8": {
         "anchor": "x8",
         "domain": [
          0,
          0.2866666666666667
         ]
        },
        "yaxis9": {
         "anchor": "x9",
         "domain": [
          0,
          0.2866666666666667
         ]
        }
       }
      }
     },
     "metadata": {},
     "output_type": "display_data"
    }
   ],
   "source": [
    "from scipy import stats\n",
    "\n",
    "fig = make_subplots(rows=3, cols=3, vertical_spacing=0.07, subplot_titles=[f'Cluster {i}' for i in range(9)])\n",
    "\n",
    "y = mdata.set_index('Seqn').FHS10y[mmcomE.index].to_numpy()\n",
    "\n",
    "i = 0\n",
    "\n",
    "for i in range(mmcomE.shape[1]):\n",
    "    x = mmcomE[i].to_numpy()\n",
    "    b1, b0, r, pvalue, std_err = stats.linregress(x,y)\n",
    "\n",
    "    fig.add_trace(go.Scatter(\n",
    "        x=x, y=y, mode='markers', marker_size=2.5,\n",
    "        marker_color=palette[0],\n",
    "        showlegend=False\n",
    "    ),row=1+i//3, col=1+i%3)\n",
    "    fig.add_trace(go.Scatter(\n",
    "        x=[x.min(), x.max()],\n",
    "        y=[x.min()*b1+b0, x.max()*b1+b0], mode='lines', \n",
    "        line_width=0.5, line_color='black', showlegend=False\n",
    "    ),row=1+i//3, col=1+i%3)\n",
    "\n",
    "    if i%3==0: fig.update_yaxes(title='FHS10y',row=1+i//3, col=1+i%3)\n",
    "    if i//3==2: fig.update_xaxes(title='PC1',row=1+i//3, col=1+i%3)\n",
    "\n",
    "fig.update_layout(height=1000, width=1000, title='AWHS')\n",
    "fig.show()"
   ]
  },
  {
   "attachments": {},
   "cell_type": "markdown",
   "metadata": {},
   "source": [
    "Pertenencia de cada nodo a su cluster"
   ]
  },
  {
   "cell_type": "code",
   "execution_count": 21,
   "metadata": {},
   "outputs": [],
   "source": [
    "q2iC = q2i.join(\n",
    "    pd.DataFrame(\n",
    "        {q: dict(zip(['ComCorr', 'ComPval', 'Com'], [*pearsonr(qqcomE[n], xq[q]), n])) \n",
    "        for n,com in enumerate(qqcom) for q in com}\n",
    "        ).T,\n",
    "    how='left'\n",
    ")\n",
    "\n",
    "m2iC = m2i.join(\n",
    "    pd.DataFrame(\n",
    "        {m: dict(zip(['ComCorr', 'ComPval', 'Com'], [*pearsonr(mmcomE[n], xm[m]), n])) \n",
    "        for n,com in enumerate(mmcom) for m in com}\n",
    "        ).T,\n",
    "    how='left'\n",
    ")#.loc[:, ['TP_ID', 'ComCorr', 'ComPval', 'Com']]"
   ]
  },
  {
   "cell_type": "code",
   "execution_count": null,
   "metadata": {},
   "outputs": [],
   "source": [
    "# Write feature info tables separated by cluster\n",
    "\n",
    "_ = [\n",
    "    i[1].to_csv(f'Clusters/qq_{int(i[0])}.tsv', sep='\\t')\n",
    "    for i in q2iC[~q2iC['Com'].isna()].groupby('Com')\n",
    "]\n",
    "\n",
    "_ = [\n",
    "    i[1].to_csv(f'Clusters/mm_{int(i[0])}.tsv', sep='\\t')\n",
    "    for i in m2iC[~m2iC['Com'].isna()].groupby('Com')\n",
    "]"
   ]
  },
  {
   "cell_type": "code",
   "execution_count": 37,
   "metadata": {},
   "outputs": [],
   "source": [
    "# Write feature info tables separated by cluster\n",
    "\n",
    "with pd.ExcelWriter(f'Clusters/qq_allClusters.xlsx') as writer:\n",
    "    _ = [\n",
    "        i[1].to_excel(writer, sheet_name=f'qq_{int(i[0])}')\n",
    "        for i in q2iC[~q2iC['Com'].isna()].groupby('Com')\n",
    "    ]\n",
    "\n",
    "with pd.ExcelWriter(f'Clusters/mm_allClusters.xlsx') as writer:\n",
    "    _ = [\n",
    "        i[1].to_excel(writer, sheet_name=f'mm_{int(i[0])}')\n",
    "        for i in m2iC[~m2iC['Com'].isna()].groupby('Com')\n",
    "    ]"
   ]
  },
  {
   "attachments": {},
   "cell_type": "markdown",
   "metadata": {},
   "source": [
    "Meta-Network WGCNA"
   ]
  },
  {
   "cell_type": "code",
   "execution_count": 22,
   "metadata": {},
   "outputs": [],
   "source": [
    "# Calcular meta-network mediante correlaciones entre autovectores de los clusteres\n",
    "\n",
    "import itertools\n",
    "\n",
    "\n",
    "metaqq = [\n",
    "    ([i0, i1], [*pearsonr(qqcomE[i0], qqcomE[i1])])\n",
    "    for i0, i1 in itertools.combinations(qqcomE.columns, 2)\n",
    "]\n",
    "\n",
    "metamm = [\n",
    "    ([i0, i1], [*pearsonr(mmcomE[i0], mmcomE[i1])])\n",
    "    for i0, i1 in itertools.combinations(mmcomE.columns, 2)\n",
    "]\n",
    "\n",
    "cidx = np.intersect1d(qqcomE.index, mmcomE.index)\n",
    "\n",
    "metaqm = [\n",
    "    ([i0, i1], [*pearsonr(qqcomE.loc[cidx, i0], mmcomE.loc[cidx, i1])])\n",
    "    for i0, i1 in itertools.product(qqcomE.columns, mmcomE.columns)\n",
    "]"
   ]
  },
  {
   "cell_type": "code",
   "execution_count": 23,
   "metadata": {},
   "outputs": [],
   "source": [
    "metaqm = [[i[0], [*i[1],j]] \n",
    " for i,j in zip(metaqm, multipletests(list(zip(*list(zip(*metaqm))[1]))[1], method='bonferroni')[1])]"
   ]
  },
  {
   "cell_type": "code",
   "execution_count": 165,
   "metadata": {},
   "outputs": [
    {
     "name": "stdout",
     "output_type": "stream",
     "text": [
      "NT_MetaNetwork_WGCNA.html\n"
     ]
    }
   ],
   "source": [
    "pvThr = 0.1\n",
    "metag = nx.Graph()\n",
    "\n",
    "_ = [metag.add_node(f'q{i}', group='q', sizee=1-np.log(qqCP.loc['Group',i])) for i in qqcomE.columns]\n",
    "_ = [metag.add_node(f'm{i}', group='m', sizee=1-np.log(mmCP.loc['Group',i])) for i in mmcomE.columns]\n",
    "_ = [\n",
    "    metag.add_edge(f'{xx[0]}{nodes[0]}', f'{xx[1]}{nodes[1]}', r=vals[0], p=vals[1], omic=xx)\n",
    "    for metaxx, xx in [(metaqq, 'qq'), (metamm, 'mm'), (metaqm, 'qm')][2:]\n",
    "    for nodes, vals in metaxx if vals[2]<pvThr\n",
    "]\n",
    "\n",
    "nt = Network(height='500px', width='100%', select_menu=True, filter_menu=True)\n",
    "nt.force_atlas_2based()\n",
    "nt.from_nx(metag)\n",
    "_ = [i.update({'color': palette[1]}) if i['group']=='m' else i.update({'color': palette[0]}) for i in nt.nodes]\n",
    "_ = [i.update({'color': 'grey'}) if i['r']>0 else i.update({'color': 'grey'}) for i in nt.edges]\n",
    "_ = [i.update({'width': -np.log(i['p'])}) for i in nt.edges]\n",
    "nt.show_buttons(filter_='physics')\n",
    "nt.show('NT_MetaNetwork_WGCNA.html', notebook=False)"
   ]
  },
  {
   "cell_type": "code",
   "execution_count": 166,
   "metadata": {},
   "outputs": [],
   "source": [
    "res = []\n",
    "\n",
    "pd.DataFrame(\n",
    "    [(f'q{i[0]}',f'm{i[1]}',j[0]) for i,j in metaqm if j[2]<pvThr],\n",
    "    columns=['var1', 'var2', 'value']\n",
    ").to_csv('ChordDiagram/meta-network_WGCNA.tsv', sep='\\t', index=False)\n",
    "\n",
    "\n",
    "#res.to_csv('ChordDiagram/meta-network_WGCNA.tsv', sep='\\t', index=False)\n",
    "#res"
   ]
  },
  {
   "attachments": {},
   "cell_type": "markdown",
   "metadata": {},
   "source": [
    "Conexiones entre qq y mm mediante Binomial, Poisson y Hypergeom"
   ]
  },
  {
   "cell_type": "code",
   "execution_count": 24,
   "metadata": {},
   "outputs": [],
   "source": [
    "#\n",
    "# Binomial\n",
    "#\n",
    "from scipy.stats import binom, poisson, hypergeom\n",
    "\n",
    "\n",
    "\n",
    "tmp = [\n",
    "    [(i,j), (len(qqcom[i]), len(mmcom[j]))] \n",
    "    for i,j in itertools.product(range(len(qqcom)), range(len(mmcom)))\n",
    "    ]\n",
    "\n",
    "binRes = []\n",
    "for iqm, vqm in tmp:\n",
    "\n",
    "    # The probability estimation for edge existence is the ratio of existing edges\n",
    "    p = qmg.size()/(xq.shape[1]*xm.shape[1])\n",
    "\n",
    "    # The number of tests is the total number of possible edges between both clusters\n",
    "    n = vqm[0]*vqm[1]\n",
    "\n",
    "    # The x value is the number of existing edges between clusters\n",
    "    x = qmg.subgraph(\n",
    "        qqcom[iqm[0]] + mmcom[iqm[1]]\n",
    "    ).size()\n",
    "\n",
    "    binRes.append(\n",
    "        [\n",
    "        iqm, x, n, p, \n",
    "        1-binom.cdf(x-1, n, p), \n",
    "        1-poisson.cdf(x-1, n*p),\n",
    "        1-hypergeom.cdf(x-1, xq.shape[1]*xm.shape[1], n, qmg.size())\n",
    "        ]\n",
    "    )\n",
    "\n",
    "binRes = pd.DataFrame(binRes,\n",
    "             columns=['iqm', 'x', 'n', 'p', 'Bin', 'Poi', 'Hyp']) \n",
    "\n",
    "for i in ['Bin', 'Poi', 'Hyp']:\n",
    "    binRes[i+'_adj'] = multipletests(binRes['Bin'], method='bonferroni')[1]"
   ]
  },
  {
   "cell_type": "code",
   "execution_count": 169,
   "metadata": {},
   "outputs": [
    {
     "data": {
      "text/html": [
       "<div>\n",
       "<style scoped>\n",
       "    .dataframe tbody tr th:only-of-type {\n",
       "        vertical-align: middle;\n",
       "    }\n",
       "\n",
       "    .dataframe tbody tr th {\n",
       "        vertical-align: top;\n",
       "    }\n",
       "\n",
       "    .dataframe thead th {\n",
       "        text-align: right;\n",
       "    }\n",
       "</style>\n",
       "<table border=\"1\" class=\"dataframe\">\n",
       "  <thead>\n",
       "    <tr style=\"text-align: right;\">\n",
       "      <th></th>\n",
       "      <th>var1</th>\n",
       "      <th>var2</th>\n",
       "      <th>value</th>\n",
       "    </tr>\n",
       "  </thead>\n",
       "  <tbody>\n",
       "    <tr>\n",
       "      <th>0</th>\n",
       "      <td>q0</td>\n",
       "      <td>m0</td>\n",
       "      <td>0.129771</td>\n",
       "    </tr>\n",
       "    <tr>\n",
       "      <th>1</th>\n",
       "      <td>q0</td>\n",
       "      <td>m1</td>\n",
       "      <td>0.110090</td>\n",
       "    </tr>\n",
       "    <tr>\n",
       "      <th>2</th>\n",
       "      <td>q0</td>\n",
       "      <td>m3</td>\n",
       "      <td>0.097165</td>\n",
       "    </tr>\n",
       "    <tr>\n",
       "      <th>3</th>\n",
       "      <td>q0</td>\n",
       "      <td>m7</td>\n",
       "      <td>0.122224</td>\n",
       "    </tr>\n",
       "    <tr>\n",
       "      <th>4</th>\n",
       "      <td>q2</td>\n",
       "      <td>m0</td>\n",
       "      <td>0.166560</td>\n",
       "    </tr>\n",
       "    <tr>\n",
       "      <th>5</th>\n",
       "      <td>q2</td>\n",
       "      <td>m1</td>\n",
       "      <td>0.119225</td>\n",
       "    </tr>\n",
       "    <tr>\n",
       "      <th>6</th>\n",
       "      <td>q2</td>\n",
       "      <td>m3</td>\n",
       "      <td>0.135387</td>\n",
       "    </tr>\n",
       "    <tr>\n",
       "      <th>7</th>\n",
       "      <td>q2</td>\n",
       "      <td>m7</td>\n",
       "      <td>0.129668</td>\n",
       "    </tr>\n",
       "    <tr>\n",
       "      <th>8</th>\n",
       "      <td>q2</td>\n",
       "      <td>m8</td>\n",
       "      <td>0.090760</td>\n",
       "    </tr>\n",
       "    <tr>\n",
       "      <th>9</th>\n",
       "      <td>q3</td>\n",
       "      <td>m0</td>\n",
       "      <td>0.108072</td>\n",
       "    </tr>\n",
       "    <tr>\n",
       "      <th>10</th>\n",
       "      <td>q4</td>\n",
       "      <td>m0</td>\n",
       "      <td>0.104649</td>\n",
       "    </tr>\n",
       "    <tr>\n",
       "      <th>11</th>\n",
       "      <td>q4</td>\n",
       "      <td>m3</td>\n",
       "      <td>0.102164</td>\n",
       "    </tr>\n",
       "    <tr>\n",
       "      <th>12</th>\n",
       "      <td>q5</td>\n",
       "      <td>m0</td>\n",
       "      <td>0.232249</td>\n",
       "    </tr>\n",
       "    <tr>\n",
       "      <th>13</th>\n",
       "      <td>q5</td>\n",
       "      <td>m1</td>\n",
       "      <td>0.189456</td>\n",
       "    </tr>\n",
       "    <tr>\n",
       "      <th>14</th>\n",
       "      <td>q5</td>\n",
       "      <td>m2</td>\n",
       "      <td>0.129165</td>\n",
       "    </tr>\n",
       "    <tr>\n",
       "      <th>15</th>\n",
       "      <td>q5</td>\n",
       "      <td>m3</td>\n",
       "      <td>0.195537</td>\n",
       "    </tr>\n",
       "    <tr>\n",
       "      <th>16</th>\n",
       "      <td>q5</td>\n",
       "      <td>m4</td>\n",
       "      <td>0.118200</td>\n",
       "    </tr>\n",
       "    <tr>\n",
       "      <th>17</th>\n",
       "      <td>q5</td>\n",
       "      <td>m7</td>\n",
       "      <td>0.192490</td>\n",
       "    </tr>\n",
       "    <tr>\n",
       "      <th>18</th>\n",
       "      <td>q5</td>\n",
       "      <td>m8</td>\n",
       "      <td>0.128811</td>\n",
       "    </tr>\n",
       "  </tbody>\n",
       "</table>\n",
       "</div>"
      ],
      "text/plain": [
       "   var1 var2     value\n",
       "0    q0   m0  0.129771\n",
       "1    q0   m1  0.110090\n",
       "2    q0   m3  0.097165\n",
       "3    q0   m7  0.122224\n",
       "4    q2   m0  0.166560\n",
       "5    q2   m1  0.119225\n",
       "6    q2   m3  0.135387\n",
       "7    q2   m7  0.129668\n",
       "8    q2   m8  0.090760\n",
       "9    q3   m0  0.108072\n",
       "10   q4   m0  0.104649\n",
       "11   q4   m3  0.102164\n",
       "12   q5   m0  0.232249\n",
       "13   q5   m1  0.189456\n",
       "14   q5   m2  0.129165\n",
       "15   q5   m3  0.195537\n",
       "16   q5   m4  0.118200\n",
       "17   q5   m7  0.192490\n",
       "18   q5   m8  0.128811"
      ]
     },
     "execution_count": 169,
     "metadata": {},
     "output_type": "execute_result"
    }
   ],
   "source": [
    "res = []\n",
    "\n",
    "tmp = qmc[qmp<0.05].fillna(0)\n",
    "tmp.index = [i.replace('.', '-') for i in tmp.index]\n",
    "\n",
    "for pair in binRes[binRes.Hyp_adj<0.01].iqm.tolist():\n",
    "    # pair = binRes[binRes.Hyp_adj<0.05].iqm.tolist()[0]\n",
    "\n",
    "    r = [tmp.loc[q, m] for q,m in list(itertools.product(qqcom[pair[0]], mmcom[pair[1]]))]\n",
    "    r = np.median([abs(i) for i in r if i!=0])\n",
    "    res.append([*pair, r])\n",
    "\n",
    "    # Positive and negative\n",
    "    # r = [(i, i>0) for i in r if i!=0]\n",
    "    # r.sort(key=lambda x:x[1])\n",
    "    # r = [np.median(list(zip(*list(j)))[0]) for i,j in itertools.groupby(r, lambda x:x[1])]\n",
    "    # res.append([*pair, r[0]]); res.append([*pair, r[1]])\n",
    "\n",
    "res = pd.DataFrame(\n",
    "    [[f\"q{i[0]}\", f\"m{i[1]}\", i[2]] for i in res],\n",
    "    columns=['var1', 'var2', 'value']\n",
    ")\n",
    "\n",
    "res.to_csv('ChordDiagram/meta-network.tsv', sep='\\t', index=False)\n",
    "res\n"
   ]
  },
  {
   "cell_type": "code",
   "execution_count": null,
   "metadata": {},
   "outputs": [],
   "source": [
    "pv = 0.01\n",
    "metag = nx.Graph()\n",
    "_ = [metag.add_node(f'q{i}', group='q') for i in range(len(qqcom))]\n",
    "_ = [metag.add_node(f'm{i}', group='m') for i in range(len(mmcom))]\n",
    "_ = [metag.add_edge(f'q{i}',f'm{j}') for i,j in binRes.iqm[binRes['Hyp_adj'] < pv]]"
   ]
  },
  {
   "cell_type": "code",
   "execution_count": null,
   "metadata": {},
   "outputs": [
    {
     "name": "stdout",
     "output_type": "stream",
     "text": [
      "NT_MetaNetwork_Hyper.html\n"
     ]
    }
   ],
   "source": [
    "nt = Network(height='500px', width='100%', select_menu=True, filter_menu=True)\n",
    "nt.force_atlas_2based()\n",
    "nt.from_nx(metag)\n",
    "_ = [i.update({'color': palette[1]}) if i['group']=='m' else i.update({'color': palette[0]}) for i in nt.nodes]\n",
    "_ = [i.update({'color': 'grey'}) for i in nt.edges]\n",
    "#_ = [i.update({'width': -np.log(i['p'])}) for i in nt.edges]\n",
    "nt.show_buttons(filter_='physics')\n",
    "nt.show('NT_MetaNetwork_Hyper.html', notebook=False)"
   ]
  },
  {
   "cell_type": "code",
   "execution_count": null,
   "metadata": {},
   "outputs": [],
   "source": []
  },
  {
   "attachments": {},
   "cell_type": "markdown",
   "metadata": {},
   "source": [
    "Calcular proteinas más conectadas con metabolitos"
   ]
  },
  {
   "cell_type": "code",
   "execution_count": 25,
   "metadata": {},
   "outputs": [],
   "source": [
    "qSig = pd.DataFrame([\n",
    "    (q,x, 1-hypergeom.cdf(x-1, xq.shape[1]*xm.shape[1], xm.shape[1], qmg.size())) \n",
    "    for q,x in pd.Series([i[0] for i in qmg.edges.data()]).value_counts().to_dict().items()\n",
    "], columns=['q', 'x', 'pv']).set_index('q')\n",
    "\n",
    "qSig['pv_adj'] = multipletests(qSig['pv'], method='bonferroni')[1]"
   ]
  },
  {
   "cell_type": "code",
   "execution_count": 26,
   "metadata": {},
   "outputs": [],
   "source": [
    "qSig = qSig.join(q2i)"
   ]
  },
  {
   "cell_type": "code",
   "execution_count": 175,
   "metadata": {},
   "outputs": [],
   "source": [
    "qSig_pesa = pd.read_csv(r\"S:\\U_Proteomica\\UNIDAD\\software\\MacrosRafa\\data\\Metabolomics\\PESA_Integromics\\Data\\Analysis\\03-Network\\PESA\\qSig.tsv\", sep='\\t', index_col='q')"
   ]
  },
  {
   "cell_type": "code",
   "execution_count": 216,
   "metadata": {},
   "outputs": [
    {
     "data": {
      "image/png": "[encoded data removed]",
      "text/plain": [
       "<Figure size 432x288 with 1 Axes>"
      ]
     },
     "metadata": {},
     "output_type": "display_data"
    }
   ],
   "source": [
    "awhsD = qSig.index[np.logical_and(qSig.pv_adj<0.05, qSig.Np>1)]\n",
    "pesaD = qSig_pesa.index[np.logical_and(qSig_pesa.pv_adj<0.05, qSig_pesa.Np>1)]\n",
    "\n",
    "paD = np.intersect1d(pesaD, awhsD)\n",
    "\n",
    "venn2(subsets = (pesaD.shape[0]-paD.shape[0], awhsD.shape[0]-paD.shape[0], paD.shape[0]), set_labels = ('PESA', 'AWHS'))\n",
    "plt.show()"
   ]
  },
  {
   "cell_type": "code",
   "execution_count": 221,
   "metadata": {},
   "outputs": [],
   "source": [
    "tmp = qSig.loc[paD]"
   ]
  },
  {
   "attachments": {},
   "cell_type": "markdown",
   "metadata": {},
   "source": [
    "Metabolitos más conectados con proteínas"
   ]
  },
  {
   "cell_type": "code",
   "execution_count": 28,
   "metadata": {},
   "outputs": [],
   "source": [
    "mSig = pd.DataFrame([\n",
    "    (m,x, 1-hypergeom.cdf(x-1, xq.shape[1]*xm.shape[1], xq.shape[1], qmg.size())) \n",
    "    for m,x in pd.Series([i[1] for i in qmg.edges.data()]).value_counts().to_dict().items()\n",
    "], columns=['m', 'x', 'pv']).set_index('m')\n",
    "\n",
    "mSig['pv_adj'] = multipletests(mSig['pv'], method='bonferroni')[1]"
   ]
  },
  {
   "cell_type": "code",
   "execution_count": 37,
   "metadata": {},
   "outputs": [],
   "source": [
    "mSig\n",
    "tmp = mSig.join(m2i).loc[:, ['x','pv', 'pv_adj', 'NAME']]"
   ]
  },
  {
   "attachments": {},
   "cell_type": "markdown",
   "metadata": {},
   "source": [
    "Explorar proteínas más asociadas a metabolitos de interés"
   ]
  },
  {
   "cell_type": "code",
   "execution_count": null,
   "metadata": {},
   "outputs": [],
   "source": [
    "metabolite = 'C18N71'\n",
    "\n",
    "tmp2 = pd.DataFrame(\n",
    "    [(i[0], i[2]['weight']) for i in qmg.edges.data() if i[1] == metabolite],\n",
    "    columns=['q', 'r']\n",
    ").set_index('q').join(q2i)"
   ]
  },
  {
   "cell_type": "code",
   "execution_count": 59,
   "metadata": {},
   "outputs": [],
   "source": [
    "midList = [\n",
    "    ('N14', 'PE(18:0_20:4)'),\n",
    "    ('N23', 'PE(18:0_20:4)'),\n",
    "    ('P21', 'PE(18:0_20:4)'),\n",
    "    ('P9', 'PE(20:4/16:0)'),\n",
    "    ('N13', 'PE(20:4/16:0)'),\n",
    "    ('N29', 'PC(38:4)'),\n",
    "    ('N30', 'PC(38:4)'),\n",
    "    ('P72', 'PC(38:4)'),\n",
    "    ('N19', 'LPE(20:4)'),\n",
    "    ('N98', 'LPE(18:1)'),\n",
    "    ('P50', 'LPC(18:2)'),\n",
    "    ('N26', 'LPC(18:2)'),\n",
    "\n",
    "    # ('HILN24', 'LPC(18:2)')\n",
    "]\n",
    "mid = midList[0]\n",
    "\n",
    "\n",
    "file = f'Plots/AlessiaLipids/Lipids_Ig_Apo_C_V1.html'\n",
    "if os.path.exists(file):\n",
    "    os.remove(file)\n",
    "\n",
    "for mid in midList:\n",
    "    fig = make_subplots(rows=1, cols=3, subplot_titles=['Inmunoglobulin C Region', 'Apolipoprotein', 'Complement'])\n",
    "\n",
    "    fig = plot_qgroup(fig, r=0, c=0, mid=mid[0], regex='chain C region', title='', cortype='rcca')\n",
    "    fig = plot_qgroup(fig, r=0, c=1, mid=mid[0], regex='Apolipoprotein', title='', cortype='rcca')\n",
    "    fig = plot_qgroup(fig, r=0, c=2, mid=mid[0], regex='Complement', title='', cortype='rcca')\n",
    "    fig.update_layout(title=f'{mid[1]} | {mid[0]}')\n",
    "\n",
    "    with open(file, 'a') as f:\n",
    "        f.write(fig.to_html(full_html=False, include_plotlyjs='cdn', default_height='50%', default_width='100%'))\n",
    "\n",
    "\n",
    "# fig.show()"
   ]
  },
  {
   "cell_type": "code",
   "execution_count": 38,
   "metadata": {},
   "outputs": [],
   "source": [
    "def plot_qgroup(fig, r, c, mid, regex='', title='q Group', cortype='rcca'):\n",
    "    #qid = 'P02741' # ApoB-100\n",
    "\n",
    "    atable = pd.DataFrame(\n",
    "    [\n",
    "        (\n",
    "        q2i.qdesc[i], \n",
    "        i,\n",
    "        k['weight'], \n",
    "        getattr(corr, cortype).qm.c.loc[i.replace('-','.'), mid], \n",
    "        getattr(corr, cortype).qm.d.loc[i.replace('-','.'), mid],\n",
    "        adpv[cortype].qm.c.loc[i.replace('-','.'), mid],\n",
    "        adpv[cortype].qm.d.loc[i.replace('-','.'), mid]\n",
    "        )\n",
    "        for i,j,k in qmg.edges.data() if j==mid\n",
    "    ],\n",
    "    columns=['qdesc', 'fid', 'dc_corr', 'c_corr', 'd_corr', 'c_pv', 'd_pv']\n",
    "    )\n",
    "\n",
    "    tmp = atable[[bool(re.search(fr'{regex}', str(i))) for i in atable.qdesc]]\n",
    "\n",
    "    y0 = tmp.c_corr.to_numpy()\n",
    "    y1 = tmp.d_corr.to_numpy()\n",
    "\n",
    "    cpv, dpv = tmp.c_pv.to_numpy(), tmp.d_pv.to_numpy()\n",
    "\n",
    "    df = pd.DataFrame({'graph_name':['Control']*len(y0)+['Disease']*len(y1),\n",
    "                    'value': np.concatenate([y0,y1],0)}\n",
    "                    # 'color':np.random.choice([0,1,2,3,4,5,6,7,8,9], size=100, replace=True)}\n",
    "                    )\n",
    "\n",
    "    #fig = go.Figure()\n",
    "\n",
    "    ## i will set jittering to 0.1\n",
    "    x0 = np.array([0]*len(y0)) + np.random.uniform(-0.05,0.05,len(y0))\n",
    "    x1 = np.array([1]*len(y0)) + np.random.uniform(-0.05,0.05,len(y0))\n",
    "\n",
    "    for x_start,x_end,y_start,y_end,name,cpvi,dpvi in zip(x0,x1,y0,y1,tmp.qdesc, cpv, dpv):\n",
    "        ## if the color hasn't been added to the legend yet, add a legend entry\n",
    "        text = name[:5]\n",
    "        text = re.search(r'GN=([^\\s]+)(.)', name)\n",
    "        text = text.groups()[0] if text else ''\n",
    "        fig.add_trace(\n",
    "            go.Scatter(\n",
    "                x=[x_start,x_end],\n",
    "                y=[y_start,y_end],\n",
    "                mode='lines+markers+text',\n",
    "                marker=dict(color=['rgba(48, 39, 245, 0.9)' if cpvi<0.05 else 'grey', 'rgba(48, 39, 245, 0.9)' if dpvi<0.05 else 'grey']),\n",
    "                line=dict(color=\"rgba(100,100,100,0.5)\"),\n",
    "                #legendgroup=color_number[color],\n",
    "                #name=color_number[color],\n",
    "                name='', \n",
    "                hovertemplate=name,\n",
    "                text=['', text], textposition='middle left',\n",
    "                showlegend=False,\n",
    "                line_width=0.8,\n",
    "                marker_size=4\n",
    "                #hoverinfo='skip'\n",
    "            ), row=r+1, col=c+1\n",
    "        )\n",
    "\n",
    "    fig.add_trace(go.Box(\n",
    "        y=df.query('graph_name == \"Control\"')['value'], x=len(y0)*[0],\n",
    "        name='Control',hoverinfo='skip', width=0.2, showlegend=False,\n",
    "        marker_color=palette[1], boxpoints = False), row=r+1, col=c+1\n",
    "    )\n",
    "    fig.add_trace(go.Box(\n",
    "        y=df.query('graph_name == \"Disease\"')['value'],  x=len(y1)*[1],\n",
    "        name='Disease',hoverinfo='skip', width=0.2, showlegend=False,\n",
    "        marker_color=palette[2], boxpoints = False), row=r+1, col=c+1\n",
    "    )\n",
    "\n",
    "    fig.update_xaxes(tickvals=[0,1], ticktext=['Control', 'Disease'], range=(-0.2,1.2), title=title, row=r+1, col=c+1)\n",
    "    return fig"
   ]
  },
  {
   "attachments": {},
   "cell_type": "markdown",
   "metadata": {},
   "source": [
    "Explorar proteinas y grupos de lipidos del meta-network"
   ]
  },
  {
   "cell_type": "code",
   "execution_count": 223,
   "metadata": {},
   "outputs": [],
   "source": [
    "qid = 'P06396'\n",
    "\n",
    "atable = pd.DataFrame(\n",
    "[\n",
    "    (\n",
    "    m2i.SPECIES[j], \n",
    "    j,\n",
    "    k['weight'],\n",
    "    corr.rcca.qm.c.loc[qid, j], \n",
    "    corr.rcca.qm.d.loc[qid, j],\n",
    "    adpv.rcca.qm.c.loc[qid, j],\n",
    "    adpv.rcca.qm.d.loc[qid, j]\n",
    "    )\n",
    "    for i,j,k in qmg.edges.data() if i==qid\n",
    "],\n",
    "columns=['TP_ID', 'fid', 'dc_corr', 'c_corr', 'd_corr', 'c_pv', 'd_pv']\n",
    ")"
   ]
  },
  {
   "cell_type": "code",
   "execution_count": 226,
   "metadata": {},
   "outputs": [],
   "source": [
    "def plot_qmclass(fig, r, c, qid, regex='', title='q vs lipid class', cortype='rcca'):\n",
    "    #qid = 'P02741' # ApoB-100\n",
    "\n",
    "    atable = pd.DataFrame(\n",
    "    [\n",
    "        (\n",
    "        m2i.SPECIES[j], \n",
    "        j,\n",
    "        k['weight'], \n",
    "        getattr(corr, cortype).qm.c.loc[qid, j], \n",
    "        getattr(corr, cortype).qm.d.loc[qid, j],\n",
    "        adpv[cortype].qm.c.loc[qid, j],\n",
    "        adpv[cortype].qm.d.loc[qid, j]\n",
    "        )\n",
    "        for i,j,k in qmg.edges.data() if i==qid\n",
    "    ],\n",
    "    columns=['TP_ID', 'fid', 'dc_corr', 'c_corr', 'd_corr', 'c_pv', 'd_pv']\n",
    "    )\n",
    "\n",
    "    tmp = atable[[bool(re.search(fr'{regex}', str(i))) for i in atable.TP_ID]]\n",
    "\n",
    "    y0 = tmp.c_corr.to_numpy()\n",
    "    y1 = tmp.d_corr.to_numpy()\n",
    "\n",
    "    cpv, dpv = tmp.c_pv.to_numpy(), tmp.d_pv.to_numpy()\n",
    "\n",
    "    df = pd.DataFrame({'graph_name':['Control']*len(y0)+['Disease']*len(y1),\n",
    "                    'value': np.concatenate([y0,y1],0)}\n",
    "                    # 'color':np.random.choice([0,1,2,3,4,5,6,7,8,9], size=100, replace=True)}\n",
    "                    )\n",
    "\n",
    "    #fig = go.Figure()\n",
    "\n",
    "    ## i will set jittering to 0.1\n",
    "    x0 = np.array([0]*len(y0)) + np.random.uniform(-0.05,0.05,len(y0))\n",
    "    x1 = np.array([1]*len(y0)) + np.random.uniform(-0.05,0.05,len(y0))\n",
    "\n",
    "    for x_start,x_end,y_start,y_end,name,cpvi,dpvi in zip(x0,x1,y0,y1,tmp.TP_ID, cpv, dpv):\n",
    "        ## if the color hasn't been added to the legend yet, add a legend entry\n",
    "        text = name[:5]\n",
    "        fig.add_trace(\n",
    "            go.Scatter(\n",
    "                x=[x_start,x_end],\n",
    "                y=[y_start,y_end],\n",
    "                mode='lines+markers',\n",
    "                marker=dict(color=['rgba(48, 39, 245, 0.9)' if cpvi<0.05 else 'grey', 'rgba(48, 39, 245, 0.9)' if dpvi<0.05 else 'grey']),\n",
    "                line=dict(color=\"rgba(100,100,100,0.5)\"),\n",
    "                #legendgroup=color_number[color],\n",
    "                #name=color_number[color],\n",
    "                name='', \n",
    "                hovertemplate=name,\n",
    "                text=text, textposition='top left',\n",
    "                showlegend=False,\n",
    "                line_width=0.8,\n",
    "                marker_size=4\n",
    "                #hoverinfo='skip'\n",
    "            ), row=r+1, col=c+1\n",
    "        )\n",
    "\n",
    "    fig.add_trace(go.Box(\n",
    "        y=df.query('graph_name == \"Control\"')['value'], x=len(y0)*[0],\n",
    "        name='Control',hoverinfo='skip', width=0.2, showlegend=False,\n",
    "        marker_color=palette[1], boxpoints = False), row=r+1, col=c+1\n",
    "    )\n",
    "    fig.add_trace(go.Box(\n",
    "        y=df.query('graph_name == \"Disease\"')['value'],  x=len(y1)*[1],\n",
    "        name='Disease',hoverinfo='skip', width=0.2, showlegend=False,\n",
    "        marker_color=palette[2], boxpoints = False), row=r+1, col=c+1\n",
    "    )\n",
    "\n",
    "    fig.update_xaxes(tickvals=[0,1], ticktext=['Control', 'Disease'], range=(-0.2,1.2), title=title, row=r+1, col=c+1)\n",
    "    return fig"
   ]
  },
  {
   "cell_type": "code",
   "execution_count": 258,
   "metadata": {},
   "outputs": [],
   "source": [
    "cortype='rcca'\n",
    "\n",
    "myProts = [\n",
    "    ('P04114', 'ApoB-100'),\n",
    "    ('P02647', 'ApoA-I'),\n",
    "    ('P02652', 'ApoA-II'),\n",
    "    ('P02649', 'ApoE'),\n",
    "    ('P02654', 'ApoC-I'),\n",
    "    ('P02655', 'ApoC-II'),\n",
    "    ('P01031', 'C5'),\n",
    "    ('P01834', 'Ig kappa chain C region'),\n",
    "    ('P01876', 'Ig alpha-1 chain C region'),\n",
    "    ('P01857', 'Ig gamma-1 chain C region'),\n",
    "    ('P01859', 'Ig gamma-2 chain C region'),\n",
    "    ('P01860', 'Ig gamma-3 chain C region'),\n",
    "    ('P0CG05', 'Ig lambda-2 chain C region'),\n",
    "    ('P00738', 'Haptoglobin'),\n",
    "    ('P05546', 'Hep2')\n",
    "]\n",
    "\n",
    "lipidClass = [\n",
    "    ('(^|\\s)DAG\\s', 'DG'),\n",
    "    ('(^|\\s)PC\\s', 'PC'),\n",
    "    ('(^|\\s)LPC\\s', 'LPC'),\n",
    "    ('(^|\\s)PE\\s', 'PE'),\n",
    "    ('(^|\\s)LPE\\s', 'LPE'),\n",
    "    ('(^|\\s)PS\\s', 'PS'),\n",
    "    ('(^|\\s)LPS\\s', 'LPS'),\n",
    "    ('(^|\\s)SM\\s', 'SM'),\n",
    "    ('(^|\\s)CAR\\s', 'CAR'),\n",
    "    ('(^|\\s)FA\\s', 'FA'),\n",
    "    ('(^|\\s)ST\\s', 'ST'),\n",
    "    ('(^|\\s)TAG\\s', 'TG'),\n",
    "]\n",
    "\n",
    "r=3; c=5\n",
    "\n",
    "for qid, qdesc in myProts:\n",
    "    fig = make_subplots(rows=r, cols=c, vertical_spacing=0.05)\n",
    "\n",
    "    file = f'Plots/q2LipidClass/{cortype}/{qid}_{qdesc}.html'\n",
    "    if os.path.exists(file):\n",
    "        os.remove(file)\n",
    "\n",
    "    #print(qSig.loc[[qid], :])\n",
    "    for n, (regex, lipid) in enumerate(lipidClass):\n",
    "        fig = plot_qmclass(fig, n//c, n%c, qid,  regex, lipid, cortype)\n",
    "\n",
    "    with open(file, 'a') as f:\n",
    "        f.write(fig.to_html(full_html=False, include_plotlyjs='cdn', default_height='150%', default_width='100%'))\n"
   ]
  },
  {
   "cell_type": "code",
   "execution_count": 260,
   "metadata": {},
   "outputs": [],
   "source": [
    "cortype = 'rcca'\n",
    "\n",
    "myProts = [\n",
    "    ('P01834', 'Ig kappa chain C region'),\n",
    "    ('P01876', 'Ig alpha-1 chain C region'),\n",
    "    ('P01857', 'Ig gamma-1 chain C region'),\n",
    "    ('P01859', 'Ig gamma-2 chain C region'),\n",
    "    ('P01860', 'Ig gamma-3 chain C region'),\n",
    "    ('P0CG05', 'Ig lambda-2 chain C region')\n",
    "]\n",
    "\n",
    "myProts = [\n",
    "    ('P04114', 'ApoB-100'),\n",
    "    ('P02647', 'ApoA-I'),\n",
    "    ('P02652', 'ApoA-II'),\n",
    "    ('P02649', 'ApoE'),\n",
    "    ('P02654', 'ApoC-I'),\n",
    "    ('P02655', 'ApoC-II'),\n",
    "    #('P05546', 'Hep2'),\n",
    "    ('P00738', 'Haptoglobin')\n",
    "]\n",
    "\n",
    "# myProts = [\n",
    "#     ('P01031', 'C5'),\n",
    "#     ('P00751', 'CFB'),\n",
    "#     ('P07360', 'CO8G'),\n",
    "#     ('P08603', 'CFH'),\n",
    "#     ('P0C0L4', 'C4A'),\n",
    "#     ('P0C0L5', 'C4B'),\n",
    "#     ('P13671', 'C6')\n",
    "# ]\n",
    "\n",
    "lipidClass = [\n",
    "    ('(^|\\s)DAG\\s', 'DG'),\n",
    "    ('(^|\\s)PC\\s', 'PC'),\n",
    "    ('(^|\\s)LPC\\s', 'LPC'),\n",
    "    ('(^|\\s)PE\\s', 'PE'),\n",
    "    ('(^|\\s)LPE\\s', 'LPE'),\n",
    "    ('(^|\\s)PS\\s', 'PS'),\n",
    "    ('(^|\\s)LPS\\s', 'LPS'),\n",
    "    ('(^|\\s)SM\\s', 'SM'),\n",
    "    ('(^|\\s)CAR\\s', 'CAR'),\n",
    "    ('(^|\\s)FA\\s', 'FA'),\n",
    "    ('(^|\\s)ST\\s', 'ST'),\n",
    "    ('(^|\\s)TAG\\s', 'TG'),\n",
    "]\n",
    "\n",
    "file = f'Plots/q2LipidClass/{cortype}/Apo_LipidClass.html'\n",
    "\n",
    "r=len(lipidClass); c=len(myProts)\n",
    "\n",
    "#for qid, qdesc in myProts:\n",
    "if os.path.exists(file):\n",
    "    os.remove(file)\n",
    "fig = make_subplots(rows=r, cols=c, vertical_spacing=0.03, subplot_titles=r*list(zip(*myProts))[1])\n",
    "\n",
    "for ni, (regex, lipid) in enumerate(lipidClass):\n",
    "    #print(qSig.loc[[qid], :])\n",
    "    for nj, (qid, qdesc) in enumerate(myProts):\n",
    "        fig = plot_qmclass(fig, ni, nj, qid,  regex, lipid, cortype)\n",
    "\n",
    "with open(file, 'a') as f:\n",
    "    f.write(fig.to_html(full_html=False, include_plotlyjs='cdn', default_height='500%', default_width='100%'))\n"
   ]
  },
  {
   "cell_type": "code",
   "execution_count": 250,
   "metadata": {},
   "outputs": [
    {
     "data": {
      "text/plain": [
       "Index(['P1', 'P8', 'P56', 'P73', 'P184', 'P256', 'P261', 'P262', 'P316',\n",
       "       'P455', 'P513', 'P534', 'P547', 'P567', 'P594', 'P613', 'P633', 'P642',\n",
       "       'P648', 'P652', 'P653', 'N1', 'N2', 'N18', 'N25', 'N31', 'N37', 'N45',\n",
       "       'N47', 'N65', 'N167', 'N169', 'N170', 'N171', 'N172', 'N173', 'N175',\n",
       "       'N177', 'N178', 'N179', 'N180', 'N182', 'N188', 'N192', 'N193'],\n",
       "      dtype='object', name='fid')"
      ]
     },
     "execution_count": 250,
     "metadata": {},
     "output_type": "execute_result"
    }
   ],
   "source": [
    "cidx = m2i.loc[[i[:2]=='SM' for i in m2i.NAME]].index\n",
    "cidx"
   ]
  },
  {
   "cell_type": "code",
   "execution_count": 257,
   "metadata": {},
   "outputs": [
    {
     "data": {
      "text/html": [
       "<div>\n",
       "<style scoped>\n",
       "    .dataframe tbody tr th:only-of-type {\n",
       "        vertical-align: middle;\n",
       "    }\n",
       "\n",
       "    .dataframe tbody tr th {\n",
       "        vertical-align: top;\n",
       "    }\n",
       "\n",
       "    .dataframe thead th {\n",
       "        text-align: right;\n",
       "    }\n",
       "</style>\n",
       "<table border=\"1\" class=\"dataframe\">\n",
       "  <thead>\n",
       "    <tr style=\"text-align: right;\">\n",
       "      <th></th>\n",
       "      <th>P1</th>\n",
       "      <th>P184</th>\n",
       "      <th>P256</th>\n",
       "      <th>P261</th>\n",
       "      <th>P262</th>\n",
       "      <th>P316</th>\n",
       "      <th>P455</th>\n",
       "      <th>P513</th>\n",
       "      <th>P534</th>\n",
       "      <th>P547</th>\n",
       "      <th>P56</th>\n",
       "      <th>P567</th>\n",
       "      <th>P633</th>\n",
       "      <th>P642</th>\n",
       "      <th>P73</th>\n",
       "      <th>P8</th>\n",
       "    </tr>\n",
       "  </thead>\n",
       "  <tbody>\n",
       "    <tr>\n",
       "      <th>P01834</th>\n",
       "      <td>0.035391</td>\n",
       "      <td>0.024568</td>\n",
       "      <td>-0.048849</td>\n",
       "      <td>0.027964</td>\n",
       "      <td>0.027964</td>\n",
       "      <td>-0.040644</td>\n",
       "      <td>-0.286811</td>\n",
       "      <td>-0.015266</td>\n",
       "      <td>-0.045577</td>\n",
       "      <td>0.023601</td>\n",
       "      <td>0.012259</td>\n",
       "      <td>-0.010782</td>\n",
       "      <td>-0.058113</td>\n",
       "      <td>0.013792</td>\n",
       "      <td>0.057077</td>\n",
       "      <td>0.011550</td>\n",
       "    </tr>\n",
       "    <tr>\n",
       "      <th>P01876</th>\n",
       "      <td>0.007109</td>\n",
       "      <td>-0.000636</td>\n",
       "      <td>-0.014185</td>\n",
       "      <td>0.014161</td>\n",
       "      <td>0.014161</td>\n",
       "      <td>-0.019668</td>\n",
       "      <td>-0.111150</td>\n",
       "      <td>-0.005818</td>\n",
       "      <td>-0.022515</td>\n",
       "      <td>0.007259</td>\n",
       "      <td>-0.004935</td>\n",
       "      <td>-0.009745</td>\n",
       "      <td>-0.021799</td>\n",
       "      <td>0.008540</td>\n",
       "      <td>0.017477</td>\n",
       "      <td>0.006844</td>\n",
       "    </tr>\n",
       "    <tr>\n",
       "      <th>P01857</th>\n",
       "      <td>0.042172</td>\n",
       "      <td>0.035669</td>\n",
       "      <td>-0.054557</td>\n",
       "      <td>0.024508</td>\n",
       "      <td>0.024508</td>\n",
       "      <td>-0.032689</td>\n",
       "      <td>-0.268695</td>\n",
       "      <td>-0.010810</td>\n",
       "      <td>-0.036375</td>\n",
       "      <td>0.022565</td>\n",
       "      <td>0.029285</td>\n",
       "      <td>0.000373</td>\n",
       "      <td>-0.050304</td>\n",
       "      <td>0.000201</td>\n",
       "      <td>0.056827</td>\n",
       "      <td>0.000768</td>\n",
       "    </tr>\n",
       "    <tr>\n",
       "      <th>P01859</th>\n",
       "      <td>-0.003425</td>\n",
       "      <td>-0.018910</td>\n",
       "      <td>-0.024161</td>\n",
       "      <td>0.025222</td>\n",
       "      <td>0.025222</td>\n",
       "      <td>-0.038303</td>\n",
       "      <td>-0.219923</td>\n",
       "      <td>-0.015749</td>\n",
       "      <td>-0.045641</td>\n",
       "      <td>0.004742</td>\n",
       "      <td>-0.013038</td>\n",
       "      <td>-0.038749</td>\n",
       "      <td>-0.041070</td>\n",
       "      <td>0.020050</td>\n",
       "      <td>0.030462</td>\n",
       "      <td>0.009263</td>\n",
       "    </tr>\n",
       "    <tr>\n",
       "      <th>P01860</th>\n",
       "      <td>-0.011408</td>\n",
       "      <td>-0.009556</td>\n",
       "      <td>-0.015662</td>\n",
       "      <td>-0.001546</td>\n",
       "      <td>-0.001546</td>\n",
       "      <td>-0.005268</td>\n",
       "      <td>-0.089346</td>\n",
       "      <td>-0.012506</td>\n",
       "      <td>-0.008563</td>\n",
       "      <td>-0.007994</td>\n",
       "      <td>0.013557</td>\n",
       "      <td>-0.030863</td>\n",
       "      <td>-0.014824</td>\n",
       "      <td>0.004258</td>\n",
       "      <td>0.017095</td>\n",
       "      <td>-0.008958</td>\n",
       "    </tr>\n",
       "    <tr>\n",
       "      <th>P0CG05</th>\n",
       "      <td>0.019060</td>\n",
       "      <td>0.031816</td>\n",
       "      <td>-0.021062</td>\n",
       "      <td>-0.015624</td>\n",
       "      <td>-0.015624</td>\n",
       "      <td>-0.003819</td>\n",
       "      <td>-0.120496</td>\n",
       "      <td>-0.028373</td>\n",
       "      <td>-0.002886</td>\n",
       "      <td>0.016671</td>\n",
       "      <td>0.011656</td>\n",
       "      <td>-0.019538</td>\n",
       "      <td>-0.049329</td>\n",
       "      <td>0.038606</td>\n",
       "      <td>0.049401</td>\n",
       "      <td>0.025562</td>\n",
       "    </tr>\n",
       "  </tbody>\n",
       "</table>\n",
       "</div>"
      ],
      "text/plain": [
       "              P1      P184      P256      P261      P262      P316      P455  \\\n",
       "P01834  0.035391  0.024568 -0.048849  0.027964  0.027964 -0.040644 -0.286811   \n",
       "P01876  0.007109 -0.000636 -0.014185  0.014161  0.014161 -0.019668 -0.111150   \n",
       "P01857  0.042172  0.035669 -0.054557  0.024508  0.024508 -0.032689 -0.268695   \n",
       "P01859 -0.003425 -0.018910 -0.024161  0.025222  0.025222 -0.038303 -0.219923   \n",
       "P01860 -0.011408 -0.009556 -0.015662 -0.001546 -0.001546 -0.005268 -0.089346   \n",
       "P0CG05  0.019060  0.031816 -0.021062 -0.015624 -0.015624 -0.003819 -0.120496   \n",
       "\n",
       "            P513      P534      P547       P56      P567      P633      P642  \\\n",
       "P01834 -0.015266 -0.045577  0.023601  0.012259 -0.010782 -0.058113  0.013792   \n",
       "P01876 -0.005818 -0.022515  0.007259 -0.004935 -0.009745 -0.021799  0.008540   \n",
       "P01857 -0.010810 -0.036375  0.022565  0.029285  0.000373 -0.050304  0.000201   \n",
       "P01859 -0.015749 -0.045641  0.004742 -0.013038 -0.038749 -0.041070  0.020050   \n",
       "P01860 -0.012506 -0.008563 -0.007994  0.013557 -0.030863 -0.014824  0.004258   \n",
       "P0CG05 -0.028373 -0.002886  0.016671  0.011656 -0.019538 -0.049329  0.038606   \n",
       "\n",
       "             P73        P8  \n",
       "P01834  0.057077  0.011550  \n",
       "P01876  0.017477  0.006844  \n",
       "P01857  0.056827  0.000768  \n",
       "P01859  0.030462  0.009263  \n",
       "P01860  0.017095 -0.008958  \n",
       "P0CG05  0.049401  0.025562  "
      ]
     },
     "execution_count": 257,
     "metadata": {},
     "output_type": "execute_result"
    }
   ],
   "source": [
    "prots = list(zip(*[\n",
    "    ('P01834', 'Ig kappa chain C region'),\n",
    "    ('P01876', 'Ig alpha-1 chain C region'),\n",
    "    ('P01857', 'Ig gamma-1 chain C region'),\n",
    "    ('P01859', 'Ig gamma-2 chain C region'),\n",
    "    ('P01860', 'Ig gamma-3 chain C region'),\n",
    "    ('P0CG05', 'Ig lambda-2 chain C region')\n",
    "]))[0]\n",
    "corr.rcca.qm.dc.loc[prots, np.intersect1d(corr.rcca.qm.dc.columns, cidx)]"
   ]
  },
  {
   "attachments": {},
   "cell_type": "markdown",
   "metadata": {},
   "source": [
    "STRING ENRICHMENT"
   ]
  },
  {
   "cell_type": "code",
   "execution_count": 40,
   "metadata": {},
   "outputs": [],
   "source": [
    "from STRING import Uniprot2String, FunctionalEnrichment\n",
    "background = Uniprot2String(\n",
    "    q2i.index.tolist()\n",
    ")\n",
    "\n",
    "background = [i[1] for i in background]"
   ]
  },
  {
   "cell_type": "code",
   "execution_count": 41,
   "metadata": {},
   "outputs": [
    {
     "name": "stdout",
     "output_type": "stream",
     "text": [
      "Proteomics Cluster 0\n",
      "url\n",
      "https://string-db.org/cgi/link?to=3DF6BB1FA7E75278\n",
      "\n",
      "Proteomics Cluster 1\n",
      "url\n",
      "https://string-db.org/cgi/link?to=0CD514AE631CA288\n",
      "\n",
      "Proteomics Cluster 2\n",
      "url\n",
      "https://string-db.org/cgi/link?to=9A65B7C0C5D74CCA\n",
      "\n",
      "Proteomics Cluster 3\n",
      "url\n",
      "https://string-db.org/cgi/link?to=AEA7B01F02FF6D0B\n",
      "\n",
      "Proteomics Cluster 4\n",
      "url\n",
      "https://string-db.org/cgi/link?to=2109F32A8F57635F\n",
      "\n",
      "Proteomics Cluster 5\n",
      "url\n",
      "https://string-db.org/cgi/link?to=7AC2350B845312EE\n",
      "\n"
     ]
    }
   ],
   "source": [
    "import requests\n",
    "\n",
    "for comm_ni in range(len(qqcom)):\n",
    "\n",
    "    my_genes = Uniprot2String(\n",
    "        qqcom[comm_ni],\n",
    "        #qSig.index[qSig.pv_adj<0.01].tolist()\n",
    "    )\n",
    "    my_genes = [i[1] for i in my_genes]\n",
    "    data = FunctionalEnrichment(my_genes, background, species=9606)\n",
    "\n",
    "    from io import StringIO\n",
    "\n",
    "    data = pd.read_csv(\n",
    "        StringIO(data),\n",
    "        sep='\\t'\n",
    "    )\n",
    "\n",
    "    col = ['category', 'number_of_genes', 'number_of_genes_in_background', 'fdr', 'description']\n",
    "    categories = ['Process', 'KEGG', 'Component']\n",
    "    atable = data[np.isin(data['category'], categories)].sort_values('fdr').loc[:, col]#.head(15)\n",
    "    atable.head(15)\n",
    "\n",
    "    with pd.ExcelWriter('Clusters/qq_allClusters.xlsx', mode='a') as writer:\n",
    "        atable.to_excel(writer, sheet_name=f'qq_{comm_ni}_string', index=False)\n",
    "    \n",
    "    # String network\n",
    "    res = requests.get(\n",
    "    f'https://string-db.org/api/tsv/get_link?identifiers={\"%0d\".join(my_genes)}&species=9606'\n",
    "    )\n",
    "\n",
    "    print(f'Proteomics Cluster {comm_ni}')\n",
    "    print(res.content.decode('ascii'))\n"
   ]
  },
  {
   "cell_type": "code",
   "execution_count": 158,
   "metadata": {},
   "outputs": [
    {
     "name": "stdout",
     "output_type": "stream",
     "text": [
      "url\n",
      "https://string-db.org/cgi/link?to=3DF6BB1FA7E75278\n",
      "\n"
     ]
    }
   ],
   "source": [
    "import requests\n",
    "\n",
    "my_genes = Uniprot2String(\n",
    "    qqcom[0],\n",
    "    #qSig.index[qSig.pv_adj<0.01].tolist()\n",
    ")\n",
    "my_genes = [i[1] for i in my_genes]\n",
    "data = FunctionalEnrichment(my_genes, background, species=9606)\n",
    "\n",
    "from io import StringIO\n",
    "\n",
    "data = pd.read_csv(\n",
    "    StringIO(data),\n",
    "    sep='\\t'\n",
    ")\n",
    "\n",
    "col = ['category', 'number_of_genes', 'number_of_genes_in_background', 'fdr', 'description']\n",
    "categories = ['Process', 'KEGG', 'Component']\n",
    "atable = data[np.isin(data['category'], categories)].sort_values('fdr').loc[:, col]#.head(15)\n",
    "atable.head(15)\n",
    "\n",
    "# String network\n",
    "res = requests.get(\n",
    "f'https://string-db.org/api/tsv/get_link?identifiers={\"%0d\".join(my_genes)}&species=9606'\n",
    ")\n",
    "\n",
    "print(res.content.decode('ascii'))\n"
   ]
  }
 ],
 "metadata": {
  "kernelspec": {
   "display_name": "Python 3",
   "language": "python",
   "name": "python3"
  },
  "language_info": {
   "codemirror_mode": {
    "name": "ipython",
    "version": 3
   },
   "file_extension": ".py",
   "mimetype": "text/x-python",
   "name": "python",
   "nbconvert_exporter": "python",
   "pygments_lexer": "ipython3",
   "version": "3.10.4"
  },
  "orig_nbformat": 4
 },
 "nbformat": 4,
 "nbformat_minor": 2
}
