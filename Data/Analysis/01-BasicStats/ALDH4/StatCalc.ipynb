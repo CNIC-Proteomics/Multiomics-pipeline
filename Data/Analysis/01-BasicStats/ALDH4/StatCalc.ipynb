{
 "cells": [
  {
   "cell_type": "code",
   "execution_count": 26,
   "metadata": {},
   "outputs": [],
   "source": [
    "#\n",
    "# Import Libraries\n",
    "#\n",
    "\n",
    "import os\n",
    "import sys\n",
    "import pandas as pd\n",
    "import numpy as np\n",
    "\n",
    "from scipy.stats import f_oneway\n",
    "from statsmodels.stats.multicomp import pairwise_tukeyhsd\n",
    "\n",
    "utilsPath = r'S:\\U_Proteomica\\UNIDAD\\software\\MacrosRafa\\data\\Metabolomics\\PESA_Integromics\\Data\\utils'\n",
    "if utilsPath not in sys.path:\n",
    "    sys.path.append(utilsPath)\n",
    "\n",
    "from BasicStats import Xstats, anova_calc, kruskal_calc, sign_calc"
   ]
  },
  {
   "cell_type": "code",
   "execution_count": 3,
   "metadata": {},
   "outputs": [],
   "source": [
    "#\n",
    "# Set constants\n",
    "#\n",
    "\n",
    "Qworking_path = r\"S:\\U_Proteomica\\UNIDAD\\software\\MacrosRafa\\data\\Metabolomics\\PESA_Integromics\\Data\\Proteomics\\ALDH4\"\n",
    "Mworking_path = r\"S:\\U_Proteomica\\UNIDAD\\software\\MacrosRafa\\data\\Metabolomics\\PESA_Integromics\\Data\\Metabolomics\\ALDH4\"\n",
    "\n",
    "# X\n",
    "xq_path = os.path.join(Qworking_path, \"WorkingFiles\", \"Xq_minus_X_norm.tsv\")\n",
    "mq_path = os.path.join(Mworking_path, \"WorkingFiles\", \"Xm_norm.tsv\")\n",
    "\n",
    "# Feature info\n",
    "q2i_path = os.path.join(Qworking_path, \"WorkingFiles\", \"q2info.tsv\")\n",
    "m2i_path = os.path.join(Mworking_path, \"WorkingFiles\", \"f2info_TP.tsv\")\n",
    "\n",
    "# metadata\n",
    "mdata_path = os.path.join(r\"S:\\U_Proteomica\\UNIDAD\\software\\MacrosRafa\\data\\Metabolomics\\PESA_Integromics\\Data\\Metadata\\ALDH4\\WorkingFiles\\main_metadata.tsv\")"
   ]
  },
  {
   "cell_type": "code",
   "execution_count": 4,
   "metadata": {},
   "outputs": [],
   "source": [
    "#\n",
    "# Read data\n",
    "#\n",
    "\n",
    "xq = pd.read_csv(xq_path, sep='\\t', index_col=0)\n",
    "xm = pd.read_csv(mq_path, sep='\\t', index_col=0)\n",
    "\n",
    "#q2i = pd.read_csv(q2i_path, sep='\\t')\n",
    "#m2i = pd.read_csv(m2i_path, sep='\\t')\n",
    "\n",
    "mdata = pd.read_csv(mdata_path, sep='\\t').set_index('Seqn')"
   ]
  },
  {
   "cell_type": "code",
   "execution_count": 32,
   "metadata": {},
   "outputs": [],
   "source": [
    "from scikit_posthocs import posthoc_tukey_hsd"
   ]
  },
  {
   "cell_type": "code",
   "execution_count": 42,
   "metadata": {},
   "outputs": [
    {
     "data": {
      "text/plain": [
       "[array([0.54937335, 0.20306887, 0.04015615]),\n",
       " array([0.54937335, 0.20306887, 0.04015615]),\n",
       " array([0.54937335, 0.20306887, 0.04015615]),\n",
       " array([0.54937335, 0.20306887, 0.04015615]),\n",
       " array([0.54937335, 0.20306887, 0.04015615]),\n",
       " array([0.54937335, 0.20306887, 0.04015615]),\n",
       " array([0.54937335, 0.20306887, 0.04015615]),\n",
       " array([0.54937335, 0.20306887, 0.04015615]),\n",
       " array([0.54937335, 0.20306887, 0.04015615]),\n",
       " array([0.54937335, 0.20306887, 0.04015615]),\n",
       " array([0.54937335, 0.20306887, 0.04015615]),\n",
       " array([0.54937335, 0.20306887, 0.04015615]),\n",
       " array([0.54937335, 0.20306887, 0.04015615]),\n",
       " array([0.54937335, 0.20306887, 0.04015615]),\n",
       " array([0.54937335, 0.20306887, 0.04015615]),\n",
       " array([0.54937335, 0.20306887, 0.04015615]),\n",
       " array([0.54937335, 0.20306887, 0.04015615]),\n",
       " array([0.54937335, 0.20306887, 0.04015615]),\n",
       " array([0.54937335, 0.20306887, 0.04015615]),\n",
       " array([0.54937335, 0.20306887, 0.04015615])]"
      ]
     },
     "execution_count": 42,
     "metadata": {},
     "output_type": "execute_result"
    }
   ],
   "source": [
    "[pairwise_tukeyhsd(x,y).pvalues for i in range(20)]"
   ]
  },
  {
   "cell_type": "code",
   "execution_count": null,
   "metadata": {},
   "outputs": [],
   "source": []
  },
  {
   "cell_type": "code",
   "execution_count": 48,
   "metadata": {},
   "outputs": [],
   "source": [
    "g2s = {i:j.index.tolist() for i,j in mdata.groupby('Group')}\n",
    "\n",
    "# qq\n",
    "\n",
    "g2sq = {\n",
    "    i: [k for k in j if k in xq.index] for i,j in g2s.items()\n",
    "}\n",
    "\n",
    "myanova = xq.join(mdata['Group'], how='left').groupby('Group').agg(list).to_dict()\n",
    "res_anova = {}\n",
    "\n",
    "for key,obj in myanova.items():\n",
    "    res_anova[key] = {}\n",
    "    x,y = list(zip(*[(v, g) for g in ['PBS', 'B1-8', 'A12'] for v in obj[g]]))\n",
    "    res_anova[key]['anova'] = f_oneway(*list(obj.values())).pvalue\n",
    "    tukey = pairwise_tukeyhsd(x,y) \n",
    "    res_anova[key]['anova_ph'] = tukey.pvalues if res_anova[key]['anova']<0.1 else None"
   ]
  },
  {
   "cell_type": "code",
   "execution_count": 76,
   "metadata": {},
   "outputs": [],
   "source": [
    "from itertools import combinations\n",
    "gg = list(combinations(tukey.groupsunique, 2))\n",
    "\n",
    "\n",
    "qstat = pd.DataFrame({\n",
    "    i: {'anova': j['anova']}\n",
    "    for i,j in res_anova.items()\n",
    "}).T.join(\n",
    "pd.DataFrame({\n",
    "    i: {'_'.join(k):j['anova_ph'][n] if type(j['anova_ph'])!=type(None) else None for n,k in enumerate(gg)}\n",
    "    for i,j in res_anova.items()\n",
    "}).T\n",
    ")"
   ]
  },
  {
   "cell_type": "code",
   "execution_count": 82,
   "metadata": {},
   "outputs": [],
   "source": [
    "qstat['LFC_A12_B1-8'] = xq.loc[g2sq['A12']].mean()-xq.loc[g2sq['B1-8']].mean()\n",
    "qstat['LFC_A12_PBS'] = xq.loc[g2sq['A12']].mean()-xq.loc[g2sq['PBS']].mean()"
   ]
  },
  {
   "cell_type": "code",
   "execution_count": 83,
   "metadata": {},
   "outputs": [],
   "source": [
    "g2s = {i:j.index.tolist() for i,j in mdata.groupby('Group')}\n",
    "\n",
    "# qq\n",
    "\n",
    "g2sm = {\n",
    "    i: [k for k in j if k in xm.index] for i,j in g2s.items()\n",
    "}\n",
    "\n",
    "myanova = xm.join(mdata['Group'], how='left').groupby('Group').agg(list).to_dict()\n",
    "res_anova = {}\n",
    "\n",
    "for key,obj in myanova.items():\n",
    "    res_anova[key] = {}\n",
    "    x,y = list(zip(*[(v, g) for g in ['PBS', 'B1-8', 'A12'] for v in obj[g]]))\n",
    "    res_anova[key]['anova'] = f_oneway(*list(obj.values())).pvalue\n",
    "    tukey = pairwise_tukeyhsd(x,y) \n",
    "    res_anova[key]['anova_ph'] = tukey.pvalues if res_anova[key]['anova']<0.1 else None\n",
    "from itertools import combinations\n",
    "gg = list(combinations(tukey.groupsunique, 2))"
   ]
  },
  {
   "cell_type": "code",
   "execution_count": null,
   "metadata": {},
   "outputs": [],
   "source": [
    "mstat = pd.DataFrame({\n",
    "    i: {'anova': j['anova']}\n",
    "    for i,j in res_anova.items()\n",
    "}).T.join(\n",
    "pd.DataFrame({\n",
    "    i: {'_'.join(k):j['anova_ph'][n] if type(j['anova_ph'])!=type(None) else None for n,k in enumerate(gg)}\n",
    "    for i,j in res_anova.items()\n",
    "}).T\n",
    ")\n",
    "mstat['LFC_A12_B1-8'] = xm.loc[g2sm['A12']].mean()-xm.loc[g2sm['B1-8']].mean()\n",
    "mstat['LFC_A12_PBS'] = xm.loc[g2sm['A12']].mean()-xm.loc[g2sm['PBS']].mean()"
   ]
  },
  {
   "cell_type": "code",
   "execution_count": 8,
   "metadata": {},
   "outputs": [],
   "source": [
    "qstat.to_csv('Xq_stats.tsv', sep='\\t')\n",
    "mstat.to_csv('Xm_stats.tsv', sep='\\t')"
   ]
  }
 ],
 "metadata": {
  "kernelspec": {
   "display_name": "Python 3",
   "language": "python",
   "name": "python3"
  },
  "language_info": {
   "codemirror_mode": {
    "name": "ipython",
    "version": 3
   },
   "file_extension": ".py",
   "mimetype": "text/x-python",
   "name": "python",
   "nbconvert_exporter": "python",
   "pygments_lexer": "ipython3",
   "version": "3.10.4"
  },
  "orig_nbformat": 4,
  "vscode": {
   "interpreter": {
    "hash": "299fabdee10379681b2207a83aa9f93c313ee5d5504e286e44b436bd7e45d8f9"
   }
  }
 },
 "nbformat": 4,
 "nbformat_minor": 2
}
