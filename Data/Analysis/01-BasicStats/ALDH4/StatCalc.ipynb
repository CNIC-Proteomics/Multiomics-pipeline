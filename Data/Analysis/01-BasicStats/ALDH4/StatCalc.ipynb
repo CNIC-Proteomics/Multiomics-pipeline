{
 "cells": [
  {
   "cell_type": "code",
   "execution_count": 1,
   "metadata": {},
   "outputs": [],
   "source": [
    "#\n",
    "# Import Libraries\n",
    "#\n",
    "\n",
    "import os\n",
    "import sys\n",
    "import pandas as pd\n",
    "import numpy as np\n",
    "\n",
    "utilsPath = r'S:\\U_Proteomica\\UNIDAD\\software\\MacrosRafa\\data\\Metabolomics\\PESA_Integromics\\Data\\utils'\n",
    "if utilsPath not in sys.path:\n",
    "    sys.path.append(utilsPath)\n",
    "\n",
    "from BasicStats import Xstats, anova_calc, kruskal_calc, sign_calc"
   ]
  },
  {
   "cell_type": "code",
   "execution_count": 2,
   "metadata": {},
   "outputs": [],
   "source": [
    "#\n",
    "# Set constants\n",
    "#\n",
    "\n",
    "Qworking_path = r\"S:\\U_Proteomica\\UNIDAD\\software\\MacrosRafa\\data\\Metabolomics\\PESA_Integromics\\Data\\Proteomics\\ALDH4\"\n",
    "Mworking_path = r\"S:\\U_Proteomica\\UNIDAD\\software\\MacrosRafa\\data\\Metabolomics\\PESA_Integromics\\Data\\Metabolomics\\ALDH4\"\n",
    "\n",
    "# X\n",
    "xq_path = os.path.join(Qworking_path, \"WorkingFiles\", \"Xq_minus_X_norm.tsv\")\n",
    "mq_path = os.path.join(Mworking_path, \"WorkingFiles\", \"Xm_norm.tsv\")\n",
    "\n",
    "# Feature info\n",
    "q2i_path = os.path.join(Qworking_path, \"WorkingFiles\", \"q2info.tsv\")\n",
    "m2i_path = os.path.join(Mworking_path, \"WorkingFiles\", \"f2info.tsv\")\n",
    "\n",
    "# metadata\n",
    "mdata_path = os.path.join(r\"S:\\U_Proteomica\\UNIDAD\\software\\MacrosRafa\\data\\Metabolomics\\PESA_Integromics\\Data\\Metadata\\ALDH4\\WorkingFiles\\main_metadata.tsv\")"
   ]
  },
  {
   "cell_type": "code",
   "execution_count": 3,
   "metadata": {},
   "outputs": [],
   "source": [
    "#\n",
    "# Read data\n",
    "#\n",
    "\n",
    "xq = pd.read_csv(xq_path, sep='\\t', index_col=0)\n",
    "xm = pd.read_csv(mq_path, sep='\\t', index_col=0)\n",
    "\n",
    "#q2i = pd.read_csv(q2i_path, sep='\\t')\n",
    "#m2i = pd.read_csv(m2i_path, sep='\\t')\n",
    "\n",
    "mdata = pd.read_csv(mdata_path, sep='\\t').set_index('Seqn')"
   ]
  },
  {
   "cell_type": "code",
   "execution_count": 5,
   "metadata": {},
   "outputs": [],
   "source": [
    "xqs = anova_calc(xq, mdata, factor='Group')\n",
    "xms = anova_calc(xm, mdata, factor='Group')"
   ]
  },
  {
   "cell_type": "code",
   "execution_count": 6,
   "metadata": {},
   "outputs": [],
   "source": [
    "xqs = xqs.join(kruskal_calc(xq, mdata, 'Group'))\n",
    "xms = xms.join(kruskal_calc(xm, mdata, 'Group'))"
   ]
  },
  {
   "cell_type": "code",
   "execution_count": 7,
   "metadata": {},
   "outputs": [],
   "source": [
    "xqs = xqs.join(sign_calc(xq, mdata, 'Group', 'A12', 'PBS'))\n",
    "xqs = xqs.join(sign_calc(xq, mdata, 'Group', 'B1-8', 'PBS'))\n",
    "\n",
    "xms = xms.join(sign_calc(xm, mdata, 'Group', 'A12', 'PBS'))\n",
    "xms = xms.join(sign_calc(xm, mdata, 'Group', 'B1-8', 'PBS'))"
   ]
  },
  {
   "cell_type": "code",
   "execution_count": 8,
   "metadata": {},
   "outputs": [],
   "source": [
    "xqs.to_csv('Xq_stats.tsv', sep='\\t')\n",
    "xms.to_csv('Xm_stats.tsv', sep='\\t')"
   ]
  }
 ],
 "metadata": {
  "kernelspec": {
   "display_name": "Python 3",
   "language": "python",
   "name": "python3"
  },
  "language_info": {
   "codemirror_mode": {
    "name": "ipython",
    "version": 3
   },
   "file_extension": ".py",
   "mimetype": "text/x-python",
   "name": "python",
   "nbconvert_exporter": "python",
   "pygments_lexer": "ipython3",
   "version": "3.10.4"
  },
  "orig_nbformat": 4,
  "vscode": {
   "interpreter": {
    "hash": "299fabdee10379681b2207a83aa9f93c313ee5d5504e286e44b436bd7e45d8f9"
   }
  }
 },
 "nbformat": 4,
 "nbformat_minor": 2
}
