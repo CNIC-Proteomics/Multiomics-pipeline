{
 "cells": [
  {
   "cell_type": "code",
   "execution_count": 25,
   "metadata": {},
   "outputs": [],
   "source": [
    "#\n",
    "# Import Libraries\n",
    "#\n",
    "\n",
    "import os\n",
    "import pandas as pd\n",
    "import pickle\n",
    "import sys\n",
    "import networkx as nx\n",
    "import numpy as np\n",
    "from scipy.stats import poisson\n",
    "import itertools\n",
    "\n",
    "from scipy.stats import pearsonr, spearmanr, kendalltau\n",
    "\n",
    "from functools import reduce\n",
    "\n",
    "from plotly import graph_objects as go\n",
    "from plotly.subplots import make_subplots\n",
    "import plotly.express as px\n",
    "import plotly\n",
    "\n",
    "import re\n",
    "\n",
    "palette = plotly.colors.qualitative.Plotly\n",
    "\n",
    "from pyvis.network import Network\n",
    "\n",
    "import subprocess\n",
    "\n",
    "utilsPath = r'S:\\U_Proteomica\\UNIDAD\\software\\MacrosRafa\\data\\Metabolomics\\PESA_Integromics\\Data\\utils'\n",
    "if utilsPath not in sys.path:\n",
    "    sys.path.append(utilsPath)"
   ]
  },
  {
   "cell_type": "code",
   "execution_count": 26,
   "metadata": {},
   "outputs": [],
   "source": [
    "#\n",
    "# Paths & Constants\n",
    "#\n",
    "\n",
    "corr_path = r'S:\\U_Proteomica\\UNIDAD\\software\\MacrosRafa\\data\\Metabolomics\\PESA_Integromics\\Data\\Analysis\\02-Correlations\\PESA_V2\\corr.pkl'\n",
    "pval_path = r'S:\\U_Proteomica\\UNIDAD\\software\\MacrosRafa\\data\\Metabolomics\\PESA_Integromics\\Data\\Analysis\\02-Correlations\\PESA_V2\\pvals.pkl'\n",
    "\n",
    "xm_path = r'S:\\U_Proteomica\\UNIDAD\\software\\MacrosRafa\\data\\Metabolomics\\PESA_Integromics\\Data\\Metabolomics\\PESA_V2\\WorkingFiles\\Xm_norm.tsv'\n",
    "xq_path = r'S:\\U_Proteomica\\UNIDAD\\software\\MacrosRafa\\data\\Metabolomics\\PESA_Integromics\\Data\\Proteomics\\PESA_V2\\WorkingFiles\\Xq_minus_X_norm.tsv'\n",
    "\n",
    "m2i_path = r'S:\\U_Proteomica\\UNIDAD\\software\\MacrosRafa\\data\\Metabolomics\\PESA_Integromics\\Data\\Metabolomics\\PESA_V2\\WorkingFiles\\f2i.tsv'\n",
    "q2i_path = r'S:\\U_Proteomica\\UNIDAD\\software\\MacrosRafa\\data\\Metabolomics\\PESA_Integromics\\Data\\Proteomics\\PESA_V2\\WorkingFiles\\q2info.tsv'\n",
    "\n",
    "mdata_path = r'S:\\U_Proteomica\\UNIDAD\\software\\MacrosRafa\\data\\Metabolomics\\PESA_Integromics\\Data\\Metadata\\PESA_V2\\WorkingFiles\\main_metadata.tsv'"
   ]
  },
  {
   "cell_type": "code",
   "execution_count": 27,
   "metadata": {},
   "outputs": [],
   "source": [
    "xq = pd.read_csv(xq_path, sep='\\t', index_col='seqn')\n",
    "xm = pd.read_csv(xm_path, sep='\\t', index_col='Seqn')\n",
    "\n",
    "q2i = pd.read_csv(q2i_path, sep='\\t', index_col='fid')\n",
    "m2i = pd.read_csv(m2i_path, sep='\\t', index_col='fid')\n",
    "\n",
    "mdata = pd.read_csv(mdata_path, sep='\\t')"
   ]
  },
  {
   "cell_type": "code",
   "execution_count": 28,
   "metadata": {},
   "outputs": [],
   "source": [
    "#\n",
    "# Read raw data from which the graph will be built\n",
    "#\n",
    "\n",
    "with open(corr_path, 'rb') as f:\n",
    "    corr, corrSL = pickle.load(f)\n",
    "\n",
    "with open(pval_path, 'rb') as f:\n",
    "    pv, adpv = pickle.load(f)"
   ]
  },
  {
   "attachments": {},
   "cell_type": "markdown",
   "metadata": {},
   "source": [
    "Analizar orden y tamaño del grafo usando diferentes tipos de correlaciones y umbrales de FDR"
   ]
  },
  {
   "cell_type": "code",
   "execution_count": 29,
   "metadata": {},
   "outputs": [],
   "source": [
    "#\n",
    "# \n",
    "#\n",
    "\n",
    "ctypes = ['rpc', 'psk']\n",
    "\n",
    "pvrange = np.arange(0,0.2,0.05)\n",
    "\n",
    "plot = {}\n",
    "\n",
    "for ctype in ctypes:\n",
    "    plot[ctype] = {\n",
    "        'qq': {'nodes':[], 'edges':[]},\n",
    "        'mm': {'nodes':[], 'edges':[]}, \n",
    "    }\n",
    "    for pv in pvrange:\n",
    "\n",
    "        qqc = getattr(corr, ctype).qq.dc.copy()\n",
    "        qqp = adpv[ctype].qq.dc.copy()\n",
    "        qqg = nx.from_pandas_adjacency(qqc[qqp<=pv].fillna(0))\n",
    "        plot[ctype]['qq']['nodes'].append((np.array(list(dict(nx.degree(qqg)).values()))>0).sum())\n",
    "        plot[ctype]['qq']['edges'].append(qqg.size())\n",
    "\n",
    "        mmc = getattr(corr, ctype).mm.dc.copy()\n",
    "        mmp = adpv[ctype].mm.dc.copy()\n",
    "        mmg = nx.from_pandas_adjacency(mmc[mmp<=pv].fillna(0))\n",
    "        plot[ctype]['mm']['nodes'].append((np.array(list(dict(nx.degree(mmg)).values()))>0).sum())\n",
    "        plot[ctype]['mm']['edges'].append(mmg.size())\n",
    "\n",
    "\n",
    "ctypes2 = ['rcca', 'psk', 'cca']\n",
    "\n",
    "for ctype in ctypes2:\n",
    "    if ctype not in plot.keys(): plot[ctype]={}\n",
    "    plot[ctype]['qm'] = {\n",
    "        'nodes':[], 'edges':[],\n",
    "    }\n",
    "    for pv in pvrange:\n",
    "\n",
    "        qmc = getattr(corr, ctype).qm.dc.copy()\n",
    "        qmp = adpv[ctype].qm.dc.copy()\n",
    "        qmg = qmc[qmp<pv].fillna(0)\n",
    "        qmg = pd.concat([\n",
    "            pd.DataFrame(columns=qmg.index, index=qmg.index).fillna(0).join(qmg),\n",
    "            qmg.T.join(pd.DataFrame(columns=qmg.columns, index=qmg.columns).fillna(0))\n",
    "        ])\n",
    "        qmg = nx.from_pandas_adjacency(qmg)\n",
    "        plot[ctype]['qm']['nodes'].append((np.array(list(dict(nx.degree(qmg)).values()))>0).sum())\n",
    "        plot[ctype]['qm']['edges'].append(qmg.size())"
   ]
  },
  {
   "cell_type": "code",
   "execution_count": 30,
   "metadata": {},
   "outputs": [
    {
     "data": {
      "application/vnd.plotly.v1+json": {
       "config": {
        "plotlyServerURL": "https://plot.ly"
       },
       "data": [
        {
         "legendgroup": "0",
         "marker": {
          "color": "#636EFA"
         },
         "name": "rpc",
         "type": "scatter",
         "x": [
          0,
          0.05,
          0.1,
          0.15000000000000002
         ],
         "xaxis": "x",
         "y": [
          0,
          247,
          247,
          247
         ],
         "yaxis": "y"
        },
        {
         "legendgroup": "0",
         "marker": {
          "color": "#636EFA"
         },
         "name": "rpc",
         "type": "scatter",
         "x": [
          0,
          0.05,
          0.1,
          0.15000000000000002
         ],
         "xaxis": "x2",
         "y": [
          0,
          2546,
          2546,
          2546
         ],
         "yaxis": "y2"
        },
        {
         "legendgroup": "0",
         "marker": {
          "color": "#636EFA"
         },
         "name": "rpc",
         "type": "scatter",
         "x": [
          0,
          0.05,
          0.1,
          0.15000000000000002
         ],
         "xaxis": "x3",
         "y": [
          0,
          1241,
          1241,
          1241
         ],
         "yaxis": "y3"
        },
        {
         "legendgroup": "0",
         "marker": {
          "color": "#636EFA"
         },
         "name": "rpc",
         "type": "scatter",
         "x": [
          0,
          0.05,
          0.1,
          0.15000000000000002
         ],
         "xaxis": "x4",
         "y": [
          0,
          6134,
          6134,
          6134
         ],
         "yaxis": "y4"
        },
        {
         "legendgroup": "1",
         "marker": {
          "color": "#EF553B"
         },
         "name": "psk",
         "type": "scatter",
         "x": [
          0,
          0.05,
          0.1,
          0.15000000000000002
         ],
         "xaxis": "x",
         "y": [
          0,
          0,
          0,
          0
         ],
         "yaxis": "y"
        },
        {
         "legendgroup": "1",
         "marker": {
          "color": "#EF553B"
         },
         "name": "psk",
         "type": "scatter",
         "x": [
          0,
          0.05,
          0.1,
          0.15000000000000002
         ],
         "xaxis": "x2",
         "y": [
          0,
          0,
          0,
          0
         ],
         "yaxis": "y2"
        },
        {
         "legendgroup": "1",
         "marker": {
          "color": "#EF553B"
         },
         "name": "psk",
         "type": "scatter",
         "x": [
          0,
          0.05,
          0.1,
          0.15000000000000002
         ],
         "xaxis": "x3",
         "y": [
          0,
          0,
          248,
          248
         ],
         "yaxis": "y3"
        },
        {
         "legendgroup": "1",
         "marker": {
          "color": "#EF553B"
         },
         "name": "psk",
         "type": "scatter",
         "x": [
          0,
          0.05,
          0.1,
          0.15000000000000002
         ],
         "xaxis": "x4",
         "y": [
          0,
          0,
          214,
          214
         ],
         "yaxis": "y4"
        },
        {
         "legendgroup": "0",
         "marker": {
          "color": "#636EFA"
         },
         "name": "rcca",
         "type": "scatter",
         "x": [
          0,
          0.05,
          0.1,
          0.15000000000000002
         ],
         "xaxis": "x5",
         "y": [
          0,
          2140,
          2229,
          2261
         ],
         "yaxis": "y5"
        },
        {
         "legendgroup": "0",
         "marker": {
          "color": "#636EFA"
         },
         "name": "rcca",
         "type": "scatter",
         "x": [
          0,
          0.05,
          0.1,
          0.15000000000000002
         ],
         "xaxis": "x6",
         "y": [
          0,
          118713,
          167705,
          203779
         ],
         "yaxis": "y6"
        },
        {
         "legendgroup": "1",
         "marker": {
          "color": "#EF553B"
         },
         "name": "psk",
         "type": "scatter",
         "x": [
          0,
          0.05,
          0.1,
          0.15000000000000002
         ],
         "xaxis": "x5",
         "y": [
          0,
          0,
          0,
          0
         ],
         "yaxis": "y5"
        },
        {
         "legendgroup": "1",
         "marker": {
          "color": "#EF553B"
         },
         "name": "psk",
         "type": "scatter",
         "x": [
          0,
          0.05,
          0.1,
          0.15000000000000002
         ],
         "xaxis": "x6",
         "y": [
          0,
          0,
          0,
          0
         ],
         "yaxis": "y6"
        },
        {
         "legendgroup": "2",
         "marker": {
          "color": "#00CC96"
         },
         "name": "cca",
         "type": "scatter",
         "x": [
          0,
          0.05,
          0.1,
          0.15000000000000002
         ],
         "xaxis": "x5",
         "y": [
          0,
          0,
          657,
          1333
         ],
         "yaxis": "y5"
        },
        {
         "legendgroup": "2",
         "marker": {
          "color": "#00CC96"
         },
         "name": "cca",
         "type": "scatter",
         "x": [
          0,
          0.05,
          0.1,
          0.15000000000000002
         ],
         "xaxis": "x6",
         "y": [
          0,
          0,
          3113,
          12285
         ],
         "yaxis": "y6"
        }
       ],
       "layout": {
        "annotations": [
         {
          "font": {
           "size": 16
          },
          "showarrow": false,
          "text": "qq - Nodes",
          "x": 0.225,
          "xanchor": "center",
          "xref": "paper",
          "y": 1,
          "yanchor": "bottom",
          "yref": "paper"
         },
         {
          "font": {
           "size": 16
          },
          "showarrow": false,
          "text": "qq - Edges",
          "x": 0.775,
          "xanchor": "center",
          "xref": "paper",
          "y": 1,
          "yanchor": "bottom",
          "yref": "paper"
         },
         {
          "font": {
           "size": 16
          },
          "showarrow": false,
          "text": "mm - Nodes",
          "x": 0.225,
          "xanchor": "center",
          "xref": "paper",
          "y": 0.6111111111111112,
          "yanchor": "bottom",
          "yref": "paper"
         },
         {
          "font": {
           "size": 16
          },
          "showarrow": false,
          "text": "mm - Edges",
          "x": 0.775,
          "xanchor": "center",
          "xref": "paper",
          "y": 0.6111111111111112,
          "yanchor": "bottom",
          "yref": "paper"
         },
         {
          "font": {
           "size": 16
          },
          "showarrow": false,
          "text": "qm - Nodes",
          "x": 0.225,
          "xanchor": "center",
          "xref": "paper",
          "y": 0.22222222222222224,
          "yanchor": "bottom",
          "yref": "paper"
         },
         {
          "font": {
           "size": 16
          },
          "showarrow": false,
          "text": "qm - Edges",
          "x": 0.775,
          "xanchor": "center",
          "xref": "paper",
          "y": 0.22222222222222224,
          "yanchor": "bottom",
          "yref": "paper"
         }
        ],
        "height": 500,
        "template": {
         "data": {
          "bar": [
           {
            "error_x": {
             "color": "#2a3f5f"
            },
            "error_y": {
             "color": "#2a3f5f"
            },
            "marker": {
             "line": {
              "color": "#E5ECF6",
              "width": 0.5
             },
             "pattern": {
              "fillmode": "overlay",
              "size": 10,
              "solidity": 0.2
             }
            },
            "type": "bar"
           }
          ],
          "barpolar": [
           {
            "marker": {
             "line": {
              "color": "#E5ECF6",
              "width": 0.5
             },
             "pattern": {
              "fillmode": "overlay",
              "size": 10,
              "solidity": 0.2
             }
            },
            "type": "barpolar"
           }
          ],
          "carpet": [
           {
            "aaxis": {
             "endlinecolor": "#2a3f5f",
             "gridcolor": "white",
             "linecolor": "white",
             "minorgridcolor": "white",
             "startlinecolor": "#2a3f5f"
            },
            "baxis": {
             "endlinecolor": "#2a3f5f",
             "gridcolor": "white",
             "linecolor": "white",
             "minorgridcolor": "white",
             "startlinecolor": "#2a3f5f"
            },
            "type": "carpet"
           }
          ],
          "choropleth": [
           {
            "colorbar": {
             "outlinewidth": 0,
             "ticks": ""
            },
            "type": "choropleth"
           }
          ],
          "contour": [
           {
            "colorbar": {
             "outlinewidth": 0,
             "ticks": ""
            },
            "colorscale": [
             [
              0,
              "#0d0887"
             ],
             [
              0.1111111111111111,
              "#46039f"
             ],
             [
              0.2222222222222222,
              "#7201a8"
             ],
             [
              0.3333333333333333,
              "#9c179e"
             ],
             [
              0.4444444444444444,
              "#bd3786"
             ],
             [
              0.5555555555555556,
              "#d8576b"
             ],
             [
              0.6666666666666666,
              "#ed7953"
             ],
             [
              0.7777777777777778,
              "#fb9f3a"
             ],
             [
              0.8888888888888888,
              "#fdca26"
             ],
             [
              1,
              "#f0f921"
             ]
            ],
            "type": "contour"
           }
          ],
          "contourcarpet": [
           {
            "colorbar": {
             "outlinewidth": 0,
             "ticks": ""
            },
            "type": "contourcarpet"
           }
          ],
          "heatmap": [
           {
            "colorbar": {
             "outlinewidth": 0,
             "ticks": ""
            },
            "colorscale": [
             [
              0,
              "#0d0887"
             ],
             [
              0.1111111111111111,
              "#46039f"
             ],
             [
              0.2222222222222222,
              "#7201a8"
             ],
             [
              0.3333333333333333,
              "#9c179e"
             ],
             [
              0.4444444444444444,
              "#bd3786"
             ],
             [
              0.5555555555555556,
              "#d8576b"
             ],
             [
              0.6666666666666666,
              "#ed7953"
             ],
             [
              0.7777777777777778,
              "#fb9f3a"
             ],
             [
              0.8888888888888888,
              "#fdca26"
             ],
             [
              1,
              "#f0f921"
             ]
            ],
            "type": "heatmap"
           }
          ],
          "heatmapgl": [
           {
            "colorbar": {
             "outlinewidth": 0,
             "ticks": ""
            },
            "colorscale": [
             [
              0,
              "#0d0887"
             ],
             [
              0.1111111111111111,
              "#46039f"
             ],
             [
              0.2222222222222222,
              "#7201a8"
             ],
             [
              0.3333333333333333,
              "#9c179e"
             ],
             [
              0.4444444444444444,
              "#bd3786"
             ],
             [
              0.5555555555555556,
              "#d8576b"
             ],
             [
              0.6666666666666666,
              "#ed7953"
             ],
             [
              0.7777777777777778,
              "#fb9f3a"
             ],
             [
              0.8888888888888888,
              "#fdca26"
             ],
             [
              1,
              "#f0f921"
             ]
            ],
            "type": "heatmapgl"
           }
          ],
          "histogram": [
           {
            "marker": {
             "pattern": {
              "fillmode": "overlay",
              "size": 10,
              "solidity": 0.2
             }
            },
            "type": "histogram"
           }
          ],
          "histogram2d": [
           {
            "colorbar": {
             "outlinewidth": 0,
             "ticks": ""
            },
            "colorscale": [
             [
              0,
              "#0d0887"
             ],
             [
              0.1111111111111111,
              "#46039f"
             ],
             [
              0.2222222222222222,
              "#7201a8"
             ],
             [
              0.3333333333333333,
              "#9c179e"
             ],
             [
              0.4444444444444444,
              "#bd3786"
             ],
             [
              0.5555555555555556,
              "#d8576b"
             ],
             [
              0.6666666666666666,
              "#ed7953"
             ],
             [
              0.7777777777777778,
              "#fb9f3a"
             ],
             [
              0.8888888888888888,
              "#fdca26"
             ],
             [
              1,
              "#f0f921"
             ]
            ],
            "type": "histogram2d"
           }
          ],
          "histogram2dcontour": [
           {
            "colorbar": {
             "outlinewidth": 0,
             "ticks": ""
            },
            "colorscale": [
             [
              0,
              "#0d0887"
             ],
             [
              0.1111111111111111,
              "#46039f"
             ],
             [
              0.2222222222222222,
              "#7201a8"
             ],
             [
              0.3333333333333333,
              "#9c179e"
             ],
             [
              0.4444444444444444,
              "#bd3786"
             ],
             [
              0.5555555555555556,
              "#d8576b"
             ],
             [
              0.6666666666666666,
              "#ed7953"
             ],
             [
              0.7777777777777778,
              "#fb9f3a"
             ],
             [
              0.8888888888888888,
              "#fdca26"
             ],
             [
              1,
              "#f0f921"
             ]
            ],
            "type": "histogram2dcontour"
           }
          ],
          "mesh3d": [
           {
            "colorbar": {
             "outlinewidth": 0,
             "ticks": ""
            },
            "type": "mesh3d"
           }
          ],
          "parcoords": [
           {
            "line": {
             "colorbar": {
              "outlinewidth": 0,
              "ticks": ""
             }
            },
            "type": "parcoords"
           }
          ],
          "pie": [
           {
            "automargin": true,
            "type": "pie"
           }
          ],
          "scatter": [
           {
            "fillpattern": {
             "fillmode": "overlay",
             "size": 10,
             "solidity": 0.2
            },
            "type": "scatter"
           }
          ],
          "scatter3d": [
           {
            "line": {
             "colorbar": {
              "outlinewidth": 0,
              "ticks": ""
             }
            },
            "marker": {
             "colorbar": {
              "outlinewidth": 0,
              "ticks": ""
             }
            },
            "type": "scatter3d"
           }
          ],
          "scattercarpet": [
           {
            "marker": {
             "colorbar": {
              "outlinewidth": 0,
              "ticks": ""
             }
            },
            "type": "scattercarpet"
           }
          ],
          "scattergeo": [
           {
            "marker": {
             "colorbar": {
              "outlinewidth": 0,
              "ticks": ""
             }
            },
            "type": "scattergeo"
           }
          ],
          "scattergl": [
           {
            "marker": {
             "colorbar": {
              "outlinewidth": 0,
              "ticks": ""
             }
            },
            "type": "scattergl"
           }
          ],
          "scattermapbox": [
           {
            "marker": {
             "colorbar": {
              "outlinewidth": 0,
              "ticks": ""
             }
            },
            "type": "scattermapbox"
           }
          ],
          "scatterpolar": [
           {
            "marker": {
             "colorbar": {
              "outlinewidth": 0,
              "ticks": ""
             }
            },
            "type": "scatterpolar"
           }
          ],
          "scatterpolargl": [
           {
            "marker": {
             "colorbar": {
              "outlinewidth": 0,
              "ticks": ""
             }
            },
            "type": "scatterpolargl"
           }
          ],
          "scatterternary": [
           {
            "marker": {
             "colorbar": {
              "outlinewidth": 0,
              "ticks": ""
             }
            },
            "type": "scatterternary"
           }
          ],
          "surface": [
           {
            "colorbar": {
             "outlinewidth": 0,
             "ticks": ""
            },
            "colorscale": [
             [
              0,
              "#0d0887"
             ],
             [
              0.1111111111111111,
              "#46039f"
             ],
             [
              0.2222222222222222,
              "#7201a8"
             ],
             [
              0.3333333333333333,
              "#9c179e"
             ],
             [
              0.4444444444444444,
              "#bd3786"
             ],
             [
              0.5555555555555556,
              "#d8576b"
             ],
             [
              0.6666666666666666,
              "#ed7953"
             ],
             [
              0.7777777777777778,
              "#fb9f3a"
             ],
             [
              0.8888888888888888,
              "#fdca26"
             ],
             [
              1,
              "#f0f921"
             ]
            ],
            "type": "surface"
           }
          ],
          "table": [
           {
            "cells": {
             "fill": {
              "color": "#EBF0F8"
             },
             "line": {
              "color": "white"
             }
            },
            "header": {
             "fill": {
              "color": "#C8D4E3"
             },
             "line": {
              "color": "white"
             }
            },
            "type": "table"
           }
          ]
         },
         "layout": {
          "annotationdefaults": {
           "arrowcolor": "#2a3f5f",
           "arrowhead": 0,
           "arrowwidth": 1
          },
          "autotypenumbers": "strict",
          "coloraxis": {
           "colorbar": {
            "outlinewidth": 0,
            "ticks": ""
           }
          },
          "colorscale": {
           "diverging": [
            [
             0,
             "#8e0152"
            ],
            [
             0.1,
             "#c51b7d"
            ],
            [
             0.2,
             "#de77ae"
            ],
            [
             0.3,
             "#f1b6da"
            ],
            [
             0.4,
             "#fde0ef"
            ],
            [
             0.5,
             "#f7f7f7"
            ],
            [
             0.6,
             "#e6f5d0"
            ],
            [
             0.7,
             "#b8e186"
            ],
            [
             0.8,
             "#7fbc41"
            ],
            [
             0.9,
             "#4d9221"
            ],
            [
             1,
             "#276419"
            ]
           ],
           "sequential": [
            [
             0,
             "#0d0887"
            ],
            [
             0.1111111111111111,
             "#46039f"
            ],
            [
             0.2222222222222222,
             "#7201a8"
            ],
            [
             0.3333333333333333,
             "#9c179e"
            ],
            [
             0.4444444444444444,
             "#bd3786"
            ],
            [
             0.5555555555555556,
             "#d8576b"
            ],
            [
             0.6666666666666666,
             "#ed7953"
            ],
            [
             0.7777777777777778,
             "#fb9f3a"
            ],
            [
             0.8888888888888888,
             "#fdca26"
            ],
            [
             1,
             "#f0f921"
            ]
           ],
           "sequentialminus": [
            [
             0,
             "#0d0887"
            ],
            [
             0.1111111111111111,
             "#46039f"
            ],
            [
             0.2222222222222222,
             "#7201a8"
            ],
            [
             0.3333333333333333,
             "#9c179e"
            ],
            [
             0.4444444444444444,
             "#bd3786"
            ],
            [
             0.5555555555555556,
             "#d8576b"
            ],
            [
             0.6666666666666666,
             "#ed7953"
            ],
            [
             0.7777777777777778,
             "#fb9f3a"
            ],
            [
             0.8888888888888888,
             "#fdca26"
            ],
            [
             1,
             "#f0f921"
            ]
           ]
          },
          "colorway": [
           "#636efa",
           "#EF553B",
           "#00cc96",
           "#ab63fa",
           "#FFA15A",
           "#19d3f3",
           "#FF6692",
           "#B6E880",
           "#FF97FF",
           "#FECB52"
          ],
          "font": {
           "color": "#2a3f5f"
          },
          "geo": {
           "bgcolor": "white",
           "lakecolor": "white",
           "landcolor": "#E5ECF6",
           "showlakes": true,
           "showland": true,
           "subunitcolor": "white"
          },
          "hoverlabel": {
           "align": "left"
          },
          "hovermode": "closest",
          "mapbox": {
           "style": "light"
          },
          "paper_bgcolor": "white",
          "plot_bgcolor": "#E5ECF6",
          "polar": {
           "angularaxis": {
            "gridcolor": "white",
            "linecolor": "white",
            "ticks": ""
           },
           "bgcolor": "#E5ECF6",
           "radialaxis": {
            "gridcolor": "white",
            "linecolor": "white",
            "ticks": ""
           }
          },
          "scene": {
           "xaxis": {
            "backgroundcolor": "#E5ECF6",
            "gridcolor": "white",
            "gridwidth": 2,
            "linecolor": "white",
            "showbackground": true,
            "ticks": "",
            "zerolinecolor": "white"
           },
           "yaxis": {
            "backgroundcolor": "#E5ECF6",
            "gridcolor": "white",
            "gridwidth": 2,
            "linecolor": "white",
            "showbackground": true,
            "ticks": "",
            "zerolinecolor": "white"
           },
           "zaxis": {
            "backgroundcolor": "#E5ECF6",
            "gridcolor": "white",
            "gridwidth": 2,
            "linecolor": "white",
            "showbackground": true,
            "ticks": "",
            "zerolinecolor": "white"
           }
          },
          "shapedefaults": {
           "line": {
            "color": "#2a3f5f"
           }
          },
          "ternary": {
           "aaxis": {
            "gridcolor": "white",
            "linecolor": "white",
            "ticks": ""
           },
           "baxis": {
            "gridcolor": "white",
            "linecolor": "white",
            "ticks": ""
           },
           "bgcolor": "#E5ECF6",
           "caxis": {
            "gridcolor": "white",
            "linecolor": "white",
            "ticks": ""
           }
          },
          "title": {
           "x": 0.05
          },
          "xaxis": {
           "automargin": true,
           "gridcolor": "white",
           "linecolor": "white",
           "ticks": "",
           "title": {
            "standoff": 15
           },
           "zerolinecolor": "white",
           "zerolinewidth": 2
          },
          "yaxis": {
           "automargin": true,
           "gridcolor": "white",
           "linecolor": "white",
           "ticks": "",
           "title": {
            "standoff": 15
           },
           "zerolinecolor": "white",
           "zerolinewidth": 2
          }
         }
        },
        "title": {
         "text": "Number of nodes and edges per correlation type"
        },
        "width": 700,
        "xaxis": {
         "anchor": "y",
         "domain": [
          0,
          0.45
         ]
        },
        "xaxis2": {
         "anchor": "y2",
         "domain": [
          0.55,
          1
         ]
        },
        "xaxis3": {
         "anchor": "y3",
         "domain": [
          0,
          0.45
         ]
        },
        "xaxis4": {
         "anchor": "y4",
         "domain": [
          0.55,
          1
         ]
        },
        "xaxis5": {
         "anchor": "y5",
         "domain": [
          0,
          0.45
         ]
        },
        "xaxis6": {
         "anchor": "y6",
         "domain": [
          0.55,
          1
         ]
        },
        "yaxis": {
         "anchor": "x",
         "domain": [
          0.7777777777777778,
          1
         ]
        },
        "yaxis2": {
         "anchor": "x2",
         "domain": [
          0.7777777777777778,
          1
         ]
        },
        "yaxis3": {
         "anchor": "x3",
         "domain": [
          0.3888888888888889,
          0.6111111111111112
         ]
        },
        "yaxis4": {
         "anchor": "x4",
         "domain": [
          0.3888888888888889,
          0.6111111111111112
         ]
        },
        "yaxis5": {
         "anchor": "x5",
         "domain": [
          0,
          0.22222222222222224
         ]
        },
        "yaxis6": {
         "anchor": "x6",
         "domain": [
          0,
          0.22222222222222224
         ]
        }
       }
      }
     },
     "metadata": {},
     "output_type": "display_data"
    }
   ],
   "source": [
    "from plotly.subplots import make_subplots\n",
    "from plotly import graph_objects as go\n",
    "import plotly.express as px\n",
    "\n",
    "palette = px.colors.qualitative.Plotly\n",
    "\n",
    "file = 'Plots/FDR_CorrType.html'\n",
    "if os.path.exists(file):\n",
    "    os.remove(file)\n",
    "\n",
    "fig = make_subplots(rows=3, cols=2, subplot_titles=['qq - Nodes', 'qq - Edges','mm - Nodes', 'mm - Edges', 'qm - Nodes', 'qm - Edges'])\n",
    "plot['psk']['qq']['nodes']\n",
    "\n",
    "for n,ctype in enumerate(ctypes):\n",
    "    fig.add_trace(go.Scatter(\n",
    "        x=pvrange,\n",
    "        y=plot[ctype]['qq']['nodes'],\n",
    "        name=ctype, marker_color=palette[n], legendgroup=n\n",
    "    ), row=1, col=1)\n",
    "    fig.add_trace(go.Scatter(\n",
    "        x=pvrange,\n",
    "        y=plot[ctype]['qq']['edges'],\n",
    "        name=ctype, marker_color=palette[n], legendgroup=n\n",
    "    ), row=1, col=2)\n",
    "    fig.add_trace(go.Scatter(\n",
    "        x=pvrange,\n",
    "        y=plot[ctype]['mm']['nodes'],\n",
    "        name=ctype, marker_color=palette[n], legendgroup=n\n",
    "    ), row=2, col=1)\n",
    "    fig.add_trace(go.Scatter(\n",
    "        x=pvrange,\n",
    "        y=plot[ctype]['mm']['edges'],\n",
    "        name=ctype, marker_color=palette[n], legendgroup=n\n",
    "    ), row=2, col=2)\n",
    "\n",
    "for n,ctype in enumerate(ctypes2):\n",
    "    fig.add_trace(go.Scatter(\n",
    "        x=pvrange,\n",
    "        y=plot[ctype]['qm']['nodes'],\n",
    "        name=ctype, marker_color=palette[n], legendgroup=n\n",
    "    ), row=3, col=1)\n",
    "    fig.add_trace(go.Scatter(\n",
    "        x=pvrange,\n",
    "        y=plot[ctype]['qm']['edges'],\n",
    "        name=ctype, marker_color=palette[n], legendgroup=n\n",
    "    ), row=3, col=2)\n",
    "\n",
    "fig.update_layout(title='Number of nodes and edges per correlation type', width=700, height=500)\n",
    "fig.show()\n",
    "\n",
    "with open(file, 'a') as f:\n",
    "    f.write(fig.to_html(full_html=False, include_plotlyjs='cdn', default_height='50%', default_width='80%'))\n"
   ]
  },
  {
   "attachments": {},
   "cell_type": "markdown",
   "metadata": {},
   "source": [
    "Construcción de grafo usando Graphical Lasso y rCCA con FDR <0.05"
   ]
  },
  {
   "cell_type": "code",
   "execution_count": 31,
   "metadata": {},
   "outputs": [],
   "source": [
    "# Checkpoint\n",
    "qqc,qqp,qqg,mmc,mmp,mmg,qmc,qmp,qmg = pickle.load(open('sourceData.pkl', 'rb'))"
   ]
  },
  {
   "cell_type": "code",
   "execution_count": 32,
   "metadata": {},
   "outputs": [],
   "source": [
    "pv = 0.05\n",
    "\n",
    "qqc = corr.rpc.qq.dc.copy()\n",
    "qqp = adpv.rpc.qq.dc.copy()\n",
    "qqg = nx.from_pandas_adjacency(qqc[qqp<=pv].fillna(0))\n",
    "\n",
    "mmc = corr.rpc.mm.dc.copy()\n",
    "mmp = adpv.rpc.mm.dc.copy()\n",
    "mmg = nx.from_pandas_adjacency(mmc[mmp<=pv].fillna(0))\n",
    "\n",
    "qmc = corr.rcca.qm.dc.copy()\n",
    "qmp = adpv.rcca.qm.dc.copy()\n",
    "qmg = qmc[qmp<pv].fillna(0)\n",
    "qmg = pd.concat([\n",
    "    pd.DataFrame(columns=qmg.index, index=qmg.index).fillna(0).join(qmg),\n",
    "    qmg.T.join(pd.DataFrame(columns=qmg.columns, index=qmg.columns).fillna(0))\n",
    "])\n",
    "qmg.index, qmg.columns = [i.replace('.', '-') for i in qmg.index], [i.replace('.', '-') for i in qmg.columns]\n",
    "qmg = nx.from_pandas_adjacency(qmg)"
   ]
  },
  {
   "cell_type": "code",
   "execution_count": 33,
   "metadata": {},
   "outputs": [],
   "source": [
    "# Checkpoint\n",
    "pickle.dump([qqc,qqp,qqg,mmc,mmp,mmg,qmc,qmp,qmg], open('sourceData.pkl', 'wb'))"
   ]
  },
  {
   "cell_type": "code",
   "execution_count": 34,
   "metadata": {},
   "outputs": [],
   "source": [
    "#\n",
    "# Generate random graphs\n",
    "#\n",
    "n = 100\n",
    "\n",
    "qqA = [nx.gnm_random_graph(qqg.order(), qqg.size(), seed=i) for i in range(n)]\n",
    "mmA = [nx.gnm_random_graph(mmg.order(), mmg.size(), seed=i) for i in range(n)]"
   ]
  },
  {
   "cell_type": "code",
   "execution_count": 35,
   "metadata": {},
   "outputs": [
    {
     "name": "stdout",
     "output_type": "stream",
     "text": [
      "\n",
      "Proteomics\n",
      "\n",
      "Order: 249\n",
      "Size: 2546\n",
      "Density: 0.08246\n",
      "Average clustering: 0.25056 (random graph: mean = 0.08267, std = 0.0023)\n",
      "Average degree: 20.4498\n",
      "Number of connected components: 3 (random graph: mean = 1.0, std = 0.0)\n",
      "Number of connected components (order g.t. 1): 1 (random graph: mean = 1.0, std = 0.0)\n",
      "\n",
      "Metabolomics\n",
      "\n",
      "Order: 2062\n",
      "Size: 6134\n",
      "Density: 0.00289\n",
      "Average clustering: 0.3258 (random graph: mean = 0.0028, std = 0.00057)\n",
      "Average degree: 5.94956\n",
      "Number of connected components: 904 (random graph: mean = 5.84, std = 2.48081)\n",
      "Number of connected components (order g.t. 1): 83 (random graph: mean = 1.04, std = 0.19596)\n"
     ]
    },
    {
     "data": {
      "application/vnd.plotly.v1+json": {
       "config": {
        "plotlyServerURL": "https://plot.ly"
       },
       "data": [
        {
         "marker": {
          "color": "#636EFA"
         },
         "offsetgroup": "1",
         "type": "bar",
         "x": [
          0,
          1,
          2,
          3,
          4,
          5,
          6,
          7,
          8,
          9,
          10,
          11,
          12,
          13,
          14,
          15,
          16,
          17,
          18,
          19,
          20,
          21,
          22,
          23,
          24,
          25,
          26,
          27,
          28,
          29,
          30,
          31,
          32,
          33,
          34,
          35,
          36,
          37,
          38,
          39,
          40,
          41,
          42,
          43,
          44,
          45,
          46,
          47,
          48,
          49,
          50,
          51,
          52,
          53,
          54,
          55,
          56,
          57,
          58,
          59,
          60,
          61,
          62,
          63,
          64,
          65,
          66,
          67,
          68
         ],
         "xaxis": "x",
         "y": [
          2,
          6,
          5,
          5,
          7,
          3,
          3,
          3,
          6,
          6,
          3,
          11,
          8,
          5,
          5,
          7,
          9,
          11,
          8,
          12,
          6,
          10,
          6,
          5,
          8,
          8,
          12,
          8,
          10,
          6,
          3,
          3,
          5,
          3,
          3,
          5,
          1,
          0,
          3,
          3,
          1,
          3,
          1,
          2,
          3,
          1,
          1,
          0,
          1,
          0,
          0,
          0,
          0,
          0,
          0,
          0,
          0,
          0,
          0,
          1,
          0,
          1,
          0,
          0,
          0,
          0,
          0,
          0,
          1
         ],
         "yaxis": "y"
        },
        {
         "marker": {
          "color": "black"
         },
         "offsetgroup": "1",
         "opacity": 0.2,
         "type": "bar",
         "x": [
          0,
          1,
          2,
          3,
          4,
          5,
          6,
          7,
          8,
          9,
          10,
          11,
          12,
          13,
          14,
          15,
          16,
          17,
          18,
          19,
          20,
          21,
          22,
          23,
          24,
          25,
          26,
          27,
          28,
          29,
          30,
          31,
          32,
          33,
          34,
          35,
          36,
          37,
          38,
          39,
          40,
          41,
          42,
          43,
          44,
          45,
          46,
          47,
          48,
          49,
          50,
          51,
          52,
          53,
          54,
          55,
          56,
          57,
          58,
          59,
          60,
          61,
          62,
          63,
          64,
          65,
          66,
          67,
          68
         ],
         "xaxis": "x",
         "y": [
          5.375588917315759,
          31.982407777705994,
          95.14068346675487,
          188.68184687522614,
          280.64365876155125,
          333.94145544972963,
          331.13431744724215,
          281.4435226855183,
          209.30826481001066,
          138.36586877299345,
          82.32165267250649,
          44.52526386501679,
          22.075490506628917,
          10.103041018254272,
          4.293477456420366,
          1.7029544595979595,
          0.6332397341885242,
          0.22161764874264936,
          0.07325157114923009,
          0.022937625066587308,
          0.006823442878683138,
          0.0019331669954201788,
          0.0005227954479281982,
          0.00013523498830141946,
          0.00003352454810220289,
          0.000007978257150685308,
          0.0000018256595300419123,
          4.0229175404235884e-7,
          8.548072673187647e-8,
          1.7537000494108037e-8,
          3.4779166191677402e-9,
          6.674866412807785e-10,
          1.241016930654797e-10,
          2.237426991340086e-11,
          3.915210008809375e-12,
          6.655368766533659e-13,
          1.0999038693263508e-13,
          1.7686345805562703e-14,
          2.7691062629873966e-15,
          4.2243522139731947e-16,
          6.283262968116221e-17,
          9.11772492877506e-18,
          1.2915829456631658e-18,
          1.7870592535352165e-19,
          2.4164142185841902e-20,
          3.1948022021327267e-21,
          4.1321040585086324e-22,
          5.230684172542887e-23,
          6.4833932901670586e-24,
          7.872114341512116e-25,
          9.36712887892057e-26,
          1.0927515365492665e-26,
          1.2502682095786786e-27,
          1.4035000270035548e-28,
          1.5463356621833942e-29,
          1.672731320312637e-30,
          1.777146653526046e-31,
          1.8549555996952339e-32,
          1.9027889977140286e-33,
          1.9187735639214984e-34,
          1.9026442032159543e-35,
          1.8557217316510743e-36,
          1.7807636028203525e-37,
          1.6817089187104478e-38,
          1.563349070588286e-39,
          1.4309607101378358e-40,
          1.2899381294984666e-41,
          1.1454580376020322e-42,
          1.0022022597493587e-43
         ],
         "yaxis": "y"
        },
        {
         "marker": {
          "color": "#EF553B"
         },
         "offsetgroup": "1",
         "type": "bar",
         "x": [
          0,
          1,
          2,
          3,
          4,
          5,
          6,
          7,
          8,
          9,
          10,
          11,
          12,
          13,
          14,
          15,
          16,
          17,
          18,
          19,
          20,
          21,
          22,
          23,
          24,
          25,
          26,
          27,
          28,
          29,
          30,
          31,
          32,
          33,
          34,
          35,
          36,
          37,
          38,
          39,
          40,
          41,
          42,
          43,
          44,
          45,
          46,
          47,
          48,
          49,
          50,
          51,
          52,
          53,
          54,
          55,
          56,
          57,
          58,
          59
         ],
         "xaxis": "x2",
         "y": [
          821,
          193,
          135,
          118,
          85,
          78,
          57,
          48,
          43,
          51,
          28,
          32,
          24,
          22,
          18,
          23,
          19,
          17,
          18,
          19,
          30,
          28,
          12,
          11,
          14,
          9,
          5,
          11,
          3,
          9,
          7,
          7,
          4,
          3,
          6,
          7,
          4,
          8,
          3,
          2,
          3,
          3,
          2,
          3,
          3,
          2,
          0,
          1,
          1,
          4,
          5,
          0,
          1,
          0,
          0,
          0,
          1,
          0,
          0,
          1
         ],
         "yaxis": "y2"
        },
        {
         "marker": {
          "color": "black"
         },
         "offsetgroup": "1",
         "opacity": 0.2,
         "type": "bar",
         "x": [
          0,
          1,
          2,
          3,
          4,
          5,
          6,
          7,
          8,
          9,
          10,
          11,
          12,
          13,
          14,
          15,
          16,
          17,
          18,
          19,
          20,
          21,
          22,
          23,
          24,
          25,
          26,
          27,
          28,
          29,
          30,
          31,
          32,
          33,
          34,
          35,
          36,
          37,
          38,
          39,
          40,
          41,
          42,
          43,
          44,
          45,
          46,
          47,
          48,
          49,
          50,
          51,
          52,
          53,
          54,
          55,
          56,
          57,
          58,
          59
         ],
         "xaxis": "x2",
         "y": [
          5.375588917315759,
          31.982407777705994,
          95.14068346675487,
          188.68184687522614,
          280.64365876155125,
          333.94145544972963,
          331.13431744724215,
          281.4435226855183,
          209.30826481001066,
          138.36586877299345,
          82.32165267250649,
          44.52526386501679,
          22.075490506628917,
          10.103041018254272,
          4.293477456420366,
          1.7029544595979595,
          0.6332397341885242,
          0.22161764874264936,
          0.07325157114923009,
          0.022937625066587308,
          0.006823442878683138,
          0.0019331669954201788,
          0.0005227954479281982,
          0.00013523498830141946,
          0.00003352454810220289,
          0.000007978257150685308,
          0.0000018256595300419123,
          4.0229175404235884e-7,
          8.548072673187647e-8,
          1.7537000494108037e-8,
          3.4779166191677402e-9,
          6.674866412807785e-10,
          1.241016930654797e-10,
          2.237426991340086e-11,
          3.915210008809375e-12,
          6.655368766533659e-13,
          1.0999038693263508e-13,
          1.7686345805562703e-14,
          2.7691062629873966e-15,
          4.2243522139731947e-16,
          6.283262968116221e-17,
          9.11772492877506e-18,
          1.2915829456631658e-18,
          1.7870592535352165e-19,
          2.4164142185841902e-20,
          3.1948022021327267e-21,
          4.1321040585086324e-22,
          5.230684172542887e-23,
          6.4833932901670586e-24,
          7.872114341512116e-25,
          9.36712887892057e-26,
          1.0927515365492665e-26,
          1.2502682095786786e-27,
          1.4035000270035548e-28,
          1.5463356621833942e-29,
          1.672731320312637e-30,
          1.777146653526046e-31,
          1.8549555996952339e-32,
          1.9027889977140286e-33,
          1.9187735639214984e-34
         ],
         "yaxis": "y2"
        }
       ],
       "layout": {
        "annotations": [
         {
          "font": {
           "size": 16
          },
          "showarrow": false,
          "text": "Proteomics",
          "x": 0.225,
          "xanchor": "center",
          "xref": "paper",
          "y": 1,
          "yanchor": "bottom",
          "yref": "paper"
         },
         {
          "font": {
           "size": 16
          },
          "showarrow": false,
          "text": "Metabolomics",
          "x": 0.775,
          "xanchor": "center",
          "xref": "paper",
          "y": 1,
          "yanchor": "bottom",
          "yref": "paper"
         }
        ],
        "bargap": 0.2,
        "showlegend": false,
        "template": {
         "data": {
          "bar": [
           {
            "error_x": {
             "color": "#2a3f5f"
            },
            "error_y": {
             "color": "#2a3f5f"
            },
            "marker": {
             "line": {
              "color": "#E5ECF6",
              "width": 0.5
             },
             "pattern": {
              "fillmode": "overlay",
              "size": 10,
              "solidity": 0.2
             }
            },
            "type": "bar"
           }
          ],
          "barpolar": [
           {
            "marker": {
             "line": {
              "color": "#E5ECF6",
              "width": 0.5
             },
             "pattern": {
              "fillmode": "overlay",
              "size": 10,
              "solidity": 0.2
             }
            },
            "type": "barpolar"
           }
          ],
          "carpet": [
           {
            "aaxis": {
             "endlinecolor": "#2a3f5f",
             "gridcolor": "white",
             "linecolor": "white",
             "minorgridcolor": "white",
             "startlinecolor": "#2a3f5f"
            },
            "baxis": {
             "endlinecolor": "#2a3f5f",
             "gridcolor": "white",
             "linecolor": "white",
             "minorgridcolor": "white",
             "startlinecolor": "#2a3f5f"
            },
            "type": "carpet"
           }
          ],
          "choropleth": [
           {
            "colorbar": {
             "outlinewidth": 0,
             "ticks": ""
            },
            "type": "choropleth"
           }
          ],
          "contour": [
           {
            "colorbar": {
             "outlinewidth": 0,
             "ticks": ""
            },
            "colorscale": [
             [
              0,
              "#0d0887"
             ],
             [
              0.1111111111111111,
              "#46039f"
             ],
             [
              0.2222222222222222,
              "#7201a8"
             ],
             [
              0.3333333333333333,
              "#9c179e"
             ],
             [
              0.4444444444444444,
              "#bd3786"
             ],
             [
              0.5555555555555556,
              "#d8576b"
             ],
             [
              0.6666666666666666,
              "#ed7953"
             ],
             [
              0.7777777777777778,
              "#fb9f3a"
             ],
             [
              0.8888888888888888,
              "#fdca26"
             ],
             [
              1,
              "#f0f921"
             ]
            ],
            "type": "contour"
           }
          ],
          "contourcarpet": [
           {
            "colorbar": {
             "outlinewidth": 0,
             "ticks": ""
            },
            "type": "contourcarpet"
           }
          ],
          "heatmap": [
           {
            "colorbar": {
             "outlinewidth": 0,
             "ticks": ""
            },
            "colorscale": [
             [
              0,
              "#0d0887"
             ],
             [
              0.1111111111111111,
              "#46039f"
             ],
             [
              0.2222222222222222,
              "#7201a8"
             ],
             [
              0.3333333333333333,
              "#9c179e"
             ],
             [
              0.4444444444444444,
              "#bd3786"
             ],
             [
              0.5555555555555556,
              "#d8576b"
             ],
             [
              0.6666666666666666,
              "#ed7953"
             ],
             [
              0.7777777777777778,
              "#fb9f3a"
             ],
             [
              0.8888888888888888,
              "#fdca26"
             ],
             [
              1,
              "#f0f921"
             ]
            ],
            "type": "heatmap"
           }
          ],
          "heatmapgl": [
           {
            "colorbar": {
             "outlinewidth": 0,
             "ticks": ""
            },
            "colorscale": [
             [
              0,
              "#0d0887"
             ],
             [
              0.1111111111111111,
              "#46039f"
             ],
             [
              0.2222222222222222,
              "#7201a8"
             ],
             [
              0.3333333333333333,
              "#9c179e"
             ],
             [
              0.4444444444444444,
              "#bd3786"
             ],
             [
              0.5555555555555556,
              "#d8576b"
             ],
             [
              0.6666666666666666,
              "#ed7953"
             ],
             [
              0.7777777777777778,
              "#fb9f3a"
             ],
             [
              0.8888888888888888,
              "#fdca26"
             ],
             [
              1,
              "#f0f921"
             ]
            ],
            "type": "heatmapgl"
           }
          ],
          "histogram": [
           {
            "marker": {
             "pattern": {
              "fillmode": "overlay",
              "size": 10,
              "solidity": 0.2
             }
            },
            "type": "histogram"
           }
          ],
          "histogram2d": [
           {
            "colorbar": {
             "outlinewidth": 0,
             "ticks": ""
            },
            "colorscale": [
             [
              0,
              "#0d0887"
             ],
             [
              0.1111111111111111,
              "#46039f"
             ],
             [
              0.2222222222222222,
              "#7201a8"
             ],
             [
              0.3333333333333333,
              "#9c179e"
             ],
             [
              0.4444444444444444,
              "#bd3786"
             ],
             [
              0.5555555555555556,
              "#d8576b"
             ],
             [
              0.6666666666666666,
              "#ed7953"
             ],
             [
              0.7777777777777778,
              "#fb9f3a"
             ],
             [
              0.8888888888888888,
              "#fdca26"
             ],
             [
              1,
              "#f0f921"
             ]
            ],
            "type": "histogram2d"
           }
          ],
          "histogram2dcontour": [
           {
            "colorbar": {
             "outlinewidth": 0,
             "ticks": ""
            },
            "colorscale": [
             [
              0,
              "#0d0887"
             ],
             [
              0.1111111111111111,
              "#46039f"
             ],
             [
              0.2222222222222222,
              "#7201a8"
             ],
             [
              0.3333333333333333,
              "#9c179e"
             ],
             [
              0.4444444444444444,
              "#bd3786"
             ],
             [
              0.5555555555555556,
              "#d8576b"
             ],
             [
              0.6666666666666666,
              "#ed7953"
             ],
             [
              0.7777777777777778,
              "#fb9f3a"
             ],
             [
              0.8888888888888888,
              "#fdca26"
             ],
             [
              1,
              "#f0f921"
             ]
            ],
            "type": "histogram2dcontour"
           }
          ],
          "mesh3d": [
           {
            "colorbar": {
             "outlinewidth": 0,
             "ticks": ""
            },
            "type": "mesh3d"
           }
          ],
          "parcoords": [
           {
            "line": {
             "colorbar": {
              "outlinewidth": 0,
              "ticks": ""
             }
            },
            "type": "parcoords"
           }
          ],
          "pie": [
           {
            "automargin": true,
            "type": "pie"
           }
          ],
          "scatter": [
           {
            "fillpattern": {
             "fillmode": "overlay",
             "size": 10,
             "solidity": 0.2
            },
            "type": "scatter"
           }
          ],
          "scatter3d": [
           {
            "line": {
             "colorbar": {
              "outlinewidth": 0,
              "ticks": ""
             }
            },
            "marker": {
             "colorbar": {
              "outlinewidth": 0,
              "ticks": ""
             }
            },
            "type": "scatter3d"
           }
          ],
          "scattercarpet": [
           {
            "marker": {
             "colorbar": {
              "outlinewidth": 0,
              "ticks": ""
             }
            },
            "type": "scattercarpet"
           }
          ],
          "scattergeo": [
           {
            "marker": {
             "colorbar": {
              "outlinewidth": 0,
              "ticks": ""
             }
            },
            "type": "scattergeo"
           }
          ],
          "scattergl": [
           {
            "marker": {
             "colorbar": {
              "outlinewidth": 0,
              "ticks": ""
             }
            },
            "type": "scattergl"
           }
          ],
          "scattermapbox": [
           {
            "marker": {
             "colorbar": {
              "outlinewidth": 0,
              "ticks": ""
             }
            },
            "type": "scattermapbox"
           }
          ],
          "scatterpolar": [
           {
            "marker": {
             "colorbar": {
              "outlinewidth": 0,
              "ticks": ""
             }
            },
            "type": "scatterpolar"
           }
          ],
          "scatterpolargl": [
           {
            "marker": {
             "colorbar": {
              "outlinewidth": 0,
              "ticks": ""
             }
            },
            "type": "scatterpolargl"
           }
          ],
          "scatterternary": [
           {
            "marker": {
             "colorbar": {
              "outlinewidth": 0,
              "ticks": ""
             }
            },
            "type": "scatterternary"
           }
          ],
          "surface": [
           {
            "colorbar": {
             "outlinewidth": 0,
             "ticks": ""
            },
            "colorscale": [
             [
              0,
              "#0d0887"
             ],
             [
              0.1111111111111111,
              "#46039f"
             ],
             [
              0.2222222222222222,
              "#7201a8"
             ],
             [
              0.3333333333333333,
              "#9c179e"
             ],
             [
              0.4444444444444444,
              "#bd3786"
             ],
             [
              0.5555555555555556,
              "#d8576b"
             ],
             [
              0.6666666666666666,
              "#ed7953"
             ],
             [
              0.7777777777777778,
              "#fb9f3a"
             ],
             [
              0.8888888888888888,
              "#fdca26"
             ],
             [
              1,
              "#f0f921"
             ]
            ],
            "type": "surface"
           }
          ],
          "table": [
           {
            "cells": {
             "fill": {
              "color": "#EBF0F8"
             },
             "line": {
              "color": "white"
             }
            },
            "header": {
             "fill": {
              "color": "#C8D4E3"
             },
             "line": {
              "color": "white"
             }
            },
            "type": "table"
           }
          ]
         },
         "layout": {
          "annotationdefaults": {
           "arrowcolor": "#2a3f5f",
           "arrowhead": 0,
           "arrowwidth": 1
          },
          "autotypenumbers": "strict",
          "coloraxis": {
           "colorbar": {
            "outlinewidth": 0,
            "ticks": ""
           }
          },
          "colorscale": {
           "diverging": [
            [
             0,
             "#8e0152"
            ],
            [
             0.1,
             "#c51b7d"
            ],
            [
             0.2,
             "#de77ae"
            ],
            [
             0.3,
             "#f1b6da"
            ],
            [
             0.4,
             "#fde0ef"
            ],
            [
             0.5,
             "#f7f7f7"
            ],
            [
             0.6,
             "#e6f5d0"
            ],
            [
             0.7,
             "#b8e186"
            ],
            [
             0.8,
             "#7fbc41"
            ],
            [
             0.9,
             "#4d9221"
            ],
            [
             1,
             "#276419"
            ]
           ],
           "sequential": [
            [
             0,
             "#0d0887"
            ],
            [
             0.1111111111111111,
             "#46039f"
            ],
            [
             0.2222222222222222,
             "#7201a8"
            ],
            [
             0.3333333333333333,
             "#9c179e"
            ],
            [
             0.4444444444444444,
             "#bd3786"
            ],
            [
             0.5555555555555556,
             "#d8576b"
            ],
            [
             0.6666666666666666,
             "#ed7953"
            ],
            [
             0.7777777777777778,
             "#fb9f3a"
            ],
            [
             0.8888888888888888,
             "#fdca26"
            ],
            [
             1,
             "#f0f921"
            ]
           ],
           "sequentialminus": [
            [
             0,
             "#0d0887"
            ],
            [
             0.1111111111111111,
             "#46039f"
            ],
            [
             0.2222222222222222,
             "#7201a8"
            ],
            [
             0.3333333333333333,
             "#9c179e"
            ],
            [
             0.4444444444444444,
             "#bd3786"
            ],
            [
             0.5555555555555556,
             "#d8576b"
            ],
            [
             0.6666666666666666,
             "#ed7953"
            ],
            [
             0.7777777777777778,
             "#fb9f3a"
            ],
            [
             0.8888888888888888,
             "#fdca26"
            ],
            [
             1,
             "#f0f921"
            ]
           ]
          },
          "colorway": [
           "#636efa",
           "#EF553B",
           "#00cc96",
           "#ab63fa",
           "#FFA15A",
           "#19d3f3",
           "#FF6692",
           "#B6E880",
           "#FF97FF",
           "#FECB52"
          ],
          "font": {
           "color": "#2a3f5f"
          },
          "geo": {
           "bgcolor": "white",
           "lakecolor": "white",
           "landcolor": "#E5ECF6",
           "showlakes": true,
           "showland": true,
           "subunitcolor": "white"
          },
          "hoverlabel": {
           "align": "left"
          },
          "hovermode": "closest",
          "mapbox": {
           "style": "light"
          },
          "paper_bgcolor": "white",
          "plot_bgcolor": "#E5ECF6",
          "polar": {
           "angularaxis": {
            "gridcolor": "white",
            "linecolor": "white",
            "ticks": ""
           },
           "bgcolor": "#E5ECF6",
           "radialaxis": {
            "gridcolor": "white",
            "linecolor": "white",
            "ticks": ""
           }
          },
          "scene": {
           "xaxis": {
            "backgroundcolor": "#E5ECF6",
            "gridcolor": "white",
            "gridwidth": 2,
            "linecolor": "white",
            "showbackground": true,
            "ticks": "",
            "zerolinecolor": "white"
           },
           "yaxis": {
            "backgroundcolor": "#E5ECF6",
            "gridcolor": "white",
            "gridwidth": 2,
            "linecolor": "white",
            "showbackground": true,
            "ticks": "",
            "zerolinecolor": "white"
           },
           "zaxis": {
            "backgroundcolor": "#E5ECF6",
            "gridcolor": "white",
            "gridwidth": 2,
            "linecolor": "white",
            "showbackground": true,
            "ticks": "",
            "zerolinecolor": "white"
           }
          },
          "shapedefaults": {
           "line": {
            "color": "#2a3f5f"
           }
          },
          "ternary": {
           "aaxis": {
            "gridcolor": "white",
            "linecolor": "white",
            "ticks": ""
           },
           "baxis": {
            "gridcolor": "white",
            "linecolor": "white",
            "ticks": ""
           },
           "bgcolor": "#E5ECF6",
           "caxis": {
            "gridcolor": "white",
            "linecolor": "white",
            "ticks": ""
           }
          },
          "title": {
           "x": 0.05
          },
          "xaxis": {
           "automargin": true,
           "gridcolor": "white",
           "linecolor": "white",
           "ticks": "",
           "title": {
            "standoff": 15
           },
           "zerolinecolor": "white",
           "zerolinewidth": 2
          },
          "yaxis": {
           "automargin": true,
           "gridcolor": "white",
           "linecolor": "white",
           "ticks": "",
           "title": {
            "standoff": 15
           },
           "zerolinecolor": "white",
           "zerolinewidth": 2
          }
         }
        },
        "title": {
         "text": "Degree Distribution"
        },
        "xaxis": {
         "anchor": "y",
         "domain": [
          0,
          0.45
         ]
        },
        "xaxis2": {
         "anchor": "y2",
         "domain": [
          0.55,
          1
         ]
        },
        "yaxis": {
         "anchor": "x",
         "domain": [
          0,
          1
         ]
        },
        "yaxis2": {
         "anchor": "x2",
         "domain": [
          0,
          1
         ]
        }
       }
      }
     },
     "metadata": {},
     "output_type": "display_data"
    }
   ],
   "source": [
    "#\n",
    "# Basic graph characteristics\n",
    "#\n",
    "\n",
    "G = qqg\n",
    "GA = qqA\n",
    "\n",
    "for G, GA, name in [(qqg, qqA, 'Proteomics'), (mmg, mmA, 'Metabolomics')]:\n",
    "\n",
    "    print()\n",
    "    print(name)\n",
    "    print()\n",
    "\n",
    "    print(f'Order: {G.order()}')\n",
    "    print(f'Size: {G.size()}')\n",
    "    print(f'Density: {round(nx.density(G), 5)}')\n",
    "\n",
    "    i = [nx.average_clustering(i) for i in GA]\n",
    "    print(f'Average clustering: {round(nx.average_clustering(G), 5)} (random graph: mean = {round(np.mean(i),5)}, std = {round(np.std(i),5)})')\n",
    "    print(f'Average degree: {round(np.mean(list(dict(G.degree).values())),5)}')\n",
    "\n",
    "    i = [len(list(nx.connected_components(i))) for i in GA]\n",
    "    print(f'Number of connected components: {round(len(list(nx.connected_components(G))), 5)} (random graph: mean = {round(np.mean(i), 5)}, std = {round(np.std(i), 5)})')\n",
    "\n",
    "    i = [len([i for i in nx.connected_components(g) if len(i)>1]) for g in GA]\n",
    "    print(f'Number of connected components (order g.t. 1): {round(len([i for i in nx.connected_components(G) if len(i)>1]), 5)} (random graph: mean = {round(np.mean(i),5)}, std = {round(np.std(i),5)})')\n",
    "\n",
    "fig = make_subplots(rows=1, cols=2, subplot_titles=['Proteomics', 'Metabolomics'])\n",
    "\n",
    "plot = nx.degree_histogram(qqg)\n",
    "fig.add_trace(go.Bar(\n",
    "    x=np.arange(0,len(plot)),\n",
    "    y=plot,\n",
    "    offsetgroup=1, marker_color=palette[0]\n",
    "), row=1,col=1)\n",
    "fig.add_trace(go.Bar(\n",
    "    x=np.arange(0,len(plot)),\n",
    "    y=G.order()*poisson.pmf(np.arange(0, len(plot)),2*G.size()/G.order()),\n",
    "    offsetgroup=1, marker_color='black', opacity=0.2\n",
    "), row=1,col=1)\n",
    "\n",
    "\n",
    "plot = nx.degree_histogram(mmg)\n",
    "fig.add_trace(go.Bar(\n",
    "    x=np.arange(0,len(plot)),\n",
    "    y=plot, \n",
    "    offsetgroup=1, marker_color=palette[1]\n",
    "), row=1,col=2)\n",
    "fig.add_trace(go.Bar(\n",
    "    x=np.arange(0,len(plot)),\n",
    "    y=G.order()*poisson.pmf(np.arange(0, len(plot)),2*G.size()/G.order()),\n",
    "    offsetgroup=1, marker_color='black', opacity=0.2\n",
    "), row=1,col=2)\n",
    "\n",
    "fig.update_layout(bargap=0.2, title='Degree Distribution', showlegend=False)"
   ]
  },
  {
   "cell_type": "code",
   "execution_count": 36,
   "metadata": {},
   "outputs": [
    {
     "data": {
      "application/vnd.plotly.v1+json": {
       "config": {
        "plotlyServerURL": "https://plot.ly"
       },
       "data": [
        {
         "text": [
          2,
          1
         ],
         "textposition": "auto",
         "type": "bar",
         "width": 0.5,
         "x": [
          "1",
          "247"
         ],
         "xaxis": "x",
         "y": [
          2,
          1
         ],
         "yaxis": "y"
        },
        {
         "text": [
          821,
          36,
          9,
          9,
          6,
          2,
          4,
          4,
          2,
          2,
          1,
          2,
          1,
          1,
          1,
          1,
          1,
          1
         ],
         "textposition": "auto",
         "type": "bar",
         "width": 0.5,
         "x": [
          "1",
          "2",
          "3",
          "4",
          "5",
          "6",
          "7",
          "9",
          "10",
          "11",
          "13",
          "15",
          "16",
          "22",
          "25",
          "68",
          "114",
          "670"
         ],
         "xaxis": "x2",
         "y": [
          821,
          36,
          9,
          9,
          6,
          2,
          4,
          4,
          2,
          2,
          1,
          2,
          1,
          1,
          1,
          1,
          1,
          1
         ],
         "yaxis": "y2"
        }
       ],
       "layout": {
        "annotations": [
         {
          "font": {
           "size": 16
          },
          "showarrow": false,
          "text": "Proteomics",
          "x": 0.225,
          "xanchor": "center",
          "xref": "paper",
          "y": 1,
          "yanchor": "bottom",
          "yref": "paper"
         },
         {
          "font": {
           "size": 16
          },
          "showarrow": false,
          "text": "Metabolomics",
          "x": 0.775,
          "xanchor": "center",
          "xref": "paper",
          "y": 1,
          "yanchor": "bottom",
          "yref": "paper"
         }
        ],
        "bargap": 1,
        "showlegend": false,
        "template": {
         "data": {
          "bar": [
           {
            "error_x": {
             "color": "#2a3f5f"
            },
            "error_y": {
             "color": "#2a3f5f"
            },
            "marker": {
             "line": {
              "color": "#E5ECF6",
              "width": 0.5
             },
             "pattern": {
              "fillmode": "overlay",
              "size": 10,
              "solidity": 0.2
             }
            },
            "type": "bar"
           }
          ],
          "barpolar": [
           {
            "marker": {
             "line": {
              "color": "#E5ECF6",
              "width": 0.5
             },
             "pattern": {
              "fillmode": "overlay",
              "size": 10,
              "solidity": 0.2
             }
            },
            "type": "barpolar"
           }
          ],
          "carpet": [
           {
            "aaxis": {
             "endlinecolor": "#2a3f5f",
             "gridcolor": "white",
             "linecolor": "white",
             "minorgridcolor": "white",
             "startlinecolor": "#2a3f5f"
            },
            "baxis": {
             "endlinecolor": "#2a3f5f",
             "gridcolor": "white",
             "linecolor": "white",
             "minorgridcolor": "white",
             "startlinecolor": "#2a3f5f"
            },
            "type": "carpet"
           }
          ],
          "choropleth": [
           {
            "colorbar": {
             "outlinewidth": 0,
             "ticks": ""
            },
            "type": "choropleth"
           }
          ],
          "contour": [
           {
            "colorbar": {
             "outlinewidth": 0,
             "ticks": ""
            },
            "colorscale": [
             [
              0,
              "#0d0887"
             ],
             [
              0.1111111111111111,
              "#46039f"
             ],
             [
              0.2222222222222222,
              "#7201a8"
             ],
             [
              0.3333333333333333,
              "#9c179e"
             ],
             [
              0.4444444444444444,
              "#bd3786"
             ],
             [
              0.5555555555555556,
              "#d8576b"
             ],
             [
              0.6666666666666666,
              "#ed7953"
             ],
             [
              0.7777777777777778,
              "#fb9f3a"
             ],
             [
              0.8888888888888888,
              "#fdca26"
             ],
             [
              1,
              "#f0f921"
             ]
            ],
            "type": "contour"
           }
          ],
          "contourcarpet": [
           {
            "colorbar": {
             "outlinewidth": 0,
             "ticks": ""
            },
            "type": "contourcarpet"
           }
          ],
          "heatmap": [
           {
            "colorbar": {
             "outlinewidth": 0,
             "ticks": ""
            },
            "colorscale": [
             [
              0,
              "#0d0887"
             ],
             [
              0.1111111111111111,
              "#46039f"
             ],
             [
              0.2222222222222222,
              "#7201a8"
             ],
             [
              0.3333333333333333,
              "#9c179e"
             ],
             [
              0.4444444444444444,
              "#bd3786"
             ],
             [
              0.5555555555555556,
              "#d8576b"
             ],
             [
              0.6666666666666666,
              "#ed7953"
             ],
             [
              0.7777777777777778,
              "#fb9f3a"
             ],
             [
              0.8888888888888888,
              "#fdca26"
             ],
             [
              1,
              "#f0f921"
             ]
            ],
            "type": "heatmap"
           }
          ],
          "heatmapgl": [
           {
            "colorbar": {
             "outlinewidth": 0,
             "ticks": ""
            },
            "colorscale": [
             [
              0,
              "#0d0887"
             ],
             [
              0.1111111111111111,
              "#46039f"
             ],
             [
              0.2222222222222222,
              "#7201a8"
             ],
             [
              0.3333333333333333,
              "#9c179e"
             ],
             [
              0.4444444444444444,
              "#bd3786"
             ],
             [
              0.5555555555555556,
              "#d8576b"
             ],
             [
              0.6666666666666666,
              "#ed7953"
             ],
             [
              0.7777777777777778,
              "#fb9f3a"
             ],
             [
              0.8888888888888888,
              "#fdca26"
             ],
             [
              1,
              "#f0f921"
             ]
            ],
            "type": "heatmapgl"
           }
          ],
          "histogram": [
           {
            "marker": {
             "pattern": {
              "fillmode": "overlay",
              "size": 10,
              "solidity": 0.2
             }
            },
            "type": "histogram"
           }
          ],
          "histogram2d": [
           {
            "colorbar": {
             "outlinewidth": 0,
             "ticks": ""
            },
            "colorscale": [
             [
              0,
              "#0d0887"
             ],
             [
              0.1111111111111111,
              "#46039f"
             ],
             [
              0.2222222222222222,
              "#7201a8"
             ],
             [
              0.3333333333333333,
              "#9c179e"
             ],
             [
              0.4444444444444444,
              "#bd3786"
             ],
             [
              0.5555555555555556,
              "#d8576b"
             ],
             [
              0.6666666666666666,
              "#ed7953"
             ],
             [
              0.7777777777777778,
              "#fb9f3a"
             ],
             [
              0.8888888888888888,
              "#fdca26"
             ],
             [
              1,
              "#f0f921"
             ]
            ],
            "type": "histogram2d"
           }
          ],
          "histogram2dcontour": [
           {
            "colorbar": {
             "outlinewidth": 0,
             "ticks": ""
            },
            "colorscale": [
             [
              0,
              "#0d0887"
             ],
             [
              0.1111111111111111,
              "#46039f"
             ],
             [
              0.2222222222222222,
              "#7201a8"
             ],
             [
              0.3333333333333333,
              "#9c179e"
             ],
             [
              0.4444444444444444,
              "#bd3786"
             ],
             [
              0.5555555555555556,
              "#d8576b"
             ],
             [
              0.6666666666666666,
              "#ed7953"
             ],
             [
              0.7777777777777778,
              "#fb9f3a"
             ],
             [
              0.8888888888888888,
              "#fdca26"
             ],
             [
              1,
              "#f0f921"
             ]
            ],
            "type": "histogram2dcontour"
           }
          ],
          "mesh3d": [
           {
            "colorbar": {
             "outlinewidth": 0,
             "ticks": ""
            },
            "type": "mesh3d"
           }
          ],
          "parcoords": [
           {
            "line": {
             "colorbar": {
              "outlinewidth": 0,
              "ticks": ""
             }
            },
            "type": "parcoords"
           }
          ],
          "pie": [
           {
            "automargin": true,
            "type": "pie"
           }
          ],
          "scatter": [
           {
            "fillpattern": {
             "fillmode": "overlay",
             "size": 10,
             "solidity": 0.2
            },
            "type": "scatter"
           }
          ],
          "scatter3d": [
           {
            "line": {
             "colorbar": {
              "outlinewidth": 0,
              "ticks": ""
             }
            },
            "marker": {
             "colorbar": {
              "outlinewidth": 0,
              "ticks": ""
             }
            },
            "type": "scatter3d"
           }
          ],
          "scattercarpet": [
           {
            "marker": {
             "colorbar": {
              "outlinewidth": 0,
              "ticks": ""
             }
            },
            "type": "scattercarpet"
           }
          ],
          "scattergeo": [
           {
            "marker": {
             "colorbar": {
              "outlinewidth": 0,
              "ticks": ""
             }
            },
            "type": "scattergeo"
           }
          ],
          "scattergl": [
           {
            "marker": {
             "colorbar": {
              "outlinewidth": 0,
              "ticks": ""
             }
            },
            "type": "scattergl"
           }
          ],
          "scattermapbox": [
           {
            "marker": {
             "colorbar": {
              "outlinewidth": 0,
              "ticks": ""
             }
            },
            "type": "scattermapbox"
           }
          ],
          "scatterpolar": [
           {
            "marker": {
             "colorbar": {
              "outlinewidth": 0,
              "ticks": ""
             }
            },
            "type": "scatterpolar"
           }
          ],
          "scatterpolargl": [
           {
            "marker": {
             "colorbar": {
              "outlinewidth": 0,
              "ticks": ""
             }
            },
            "type": "scatterpolargl"
           }
          ],
          "scatterternary": [
           {
            "marker": {
             "colorbar": {
              "outlinewidth": 0,
              "ticks": ""
             }
            },
            "type": "scatterternary"
           }
          ],
          "surface": [
           {
            "colorbar": {
             "outlinewidth": 0,
             "ticks": ""
            },
            "colorscale": [
             [
              0,
              "#0d0887"
             ],
             [
              0.1111111111111111,
              "#46039f"
             ],
             [
              0.2222222222222222,
              "#7201a8"
             ],
             [
              0.3333333333333333,
              "#9c179e"
             ],
             [
              0.4444444444444444,
              "#bd3786"
             ],
             [
              0.5555555555555556,
              "#d8576b"
             ],
             [
              0.6666666666666666,
              "#ed7953"
             ],
             [
              0.7777777777777778,
              "#fb9f3a"
             ],
             [
              0.8888888888888888,
              "#fdca26"
             ],
             [
              1,
              "#f0f921"
             ]
            ],
            "type": "surface"
           }
          ],
          "table": [
           {
            "cells": {
             "fill": {
              "color": "#EBF0F8"
             },
             "line": {
              "color": "white"
             }
            },
            "header": {
             "fill": {
              "color": "#C8D4E3"
             },
             "line": {
              "color": "white"
             }
            },
            "type": "table"
           }
          ]
         },
         "layout": {
          "annotationdefaults": {
           "arrowcolor": "#2a3f5f",
           "arrowhead": 0,
           "arrowwidth": 1
          },
          "autotypenumbers": "strict",
          "coloraxis": {
           "colorbar": {
            "outlinewidth": 0,
            "ticks": ""
           }
          },
          "colorscale": {
           "diverging": [
            [
             0,
             "#8e0152"
            ],
            [
             0.1,
             "#c51b7d"
            ],
            [
             0.2,
             "#de77ae"
            ],
            [
             0.3,
             "#f1b6da"
            ],
            [
             0.4,
             "#fde0ef"
            ],
            [
             0.5,
             "#f7f7f7"
            ],
            [
             0.6,
             "#e6f5d0"
            ],
            [
             0.7,
             "#b8e186"
            ],
            [
             0.8,
             "#7fbc41"
            ],
            [
             0.9,
             "#4d9221"
            ],
            [
             1,
             "#276419"
            ]
           ],
           "sequential": [
            [
             0,
             "#0d0887"
            ],
            [
             0.1111111111111111,
             "#46039f"
            ],
            [
             0.2222222222222222,
             "#7201a8"
            ],
            [
             0.3333333333333333,
             "#9c179e"
            ],
            [
             0.4444444444444444,
             "#bd3786"
            ],
            [
             0.5555555555555556,
             "#d8576b"
            ],
            [
             0.6666666666666666,
             "#ed7953"
            ],
            [
             0.7777777777777778,
             "#fb9f3a"
            ],
            [
             0.8888888888888888,
             "#fdca26"
            ],
            [
             1,
             "#f0f921"
            ]
           ],
           "sequentialminus": [
            [
             0,
             "#0d0887"
            ],
            [
             0.1111111111111111,
             "#46039f"
            ],
            [
             0.2222222222222222,
             "#7201a8"
            ],
            [
             0.3333333333333333,
             "#9c179e"
            ],
            [
             0.4444444444444444,
             "#bd3786"
            ],
            [
             0.5555555555555556,
             "#d8576b"
            ],
            [
             0.6666666666666666,
             "#ed7953"
            ],
            [
             0.7777777777777778,
             "#fb9f3a"
            ],
            [
             0.8888888888888888,
             "#fdca26"
            ],
            [
             1,
             "#f0f921"
            ]
           ]
          },
          "colorway": [
           "#636efa",
           "#EF553B",
           "#00cc96",
           "#ab63fa",
           "#FFA15A",
           "#19d3f3",
           "#FF6692",
           "#B6E880",
           "#FF97FF",
           "#FECB52"
          ],
          "font": {
           "color": "#2a3f5f"
          },
          "geo": {
           "bgcolor": "white",
           "lakecolor": "white",
           "landcolor": "#E5ECF6",
           "showlakes": true,
           "showland": true,
           "subunitcolor": "white"
          },
          "hoverlabel": {
           "align": "left"
          },
          "hovermode": "closest",
          "mapbox": {
           "style": "light"
          },
          "paper_bgcolor": "white",
          "plot_bgcolor": "#E5ECF6",
          "polar": {
           "angularaxis": {
            "gridcolor": "white",
            "linecolor": "white",
            "ticks": ""
           },
           "bgcolor": "#E5ECF6",
           "radialaxis": {
            "gridcolor": "white",
            "linecolor": "white",
            "ticks": ""
           }
          },
          "scene": {
           "xaxis": {
            "backgroundcolor": "#E5ECF6",
            "gridcolor": "white",
            "gridwidth": 2,
            "linecolor": "white",
            "showbackground": true,
            "ticks": "",
            "zerolinecolor": "white"
           },
           "yaxis": {
            "backgroundcolor": "#E5ECF6",
            "gridcolor": "white",
            "gridwidth": 2,
            "linecolor": "white",
            "showbackground": true,
            "ticks": "",
            "zerolinecolor": "white"
           },
           "zaxis": {
            "backgroundcolor": "#E5ECF6",
            "gridcolor": "white",
            "gridwidth": 2,
            "linecolor": "white",
            "showbackground": true,
            "ticks": "",
            "zerolinecolor": "white"
           }
          },
          "shapedefaults": {
           "line": {
            "color": "#2a3f5f"
           }
          },
          "ternary": {
           "aaxis": {
            "gridcolor": "white",
            "linecolor": "white",
            "ticks": ""
           },
           "baxis": {
            "gridcolor": "white",
            "linecolor": "white",
            "ticks": ""
           },
           "bgcolor": "#E5ECF6",
           "caxis": {
            "gridcolor": "white",
            "linecolor": "white",
            "ticks": ""
           }
          },
          "title": {
           "x": 0.05
          },
          "xaxis": {
           "automargin": true,
           "gridcolor": "white",
           "linecolor": "white",
           "ticks": "",
           "title": {
            "standoff": 15
           },
           "zerolinecolor": "white",
           "zerolinewidth": 2
          },
          "yaxis": {
           "automargin": true,
           "gridcolor": "white",
           "linecolor": "white",
           "ticks": "",
           "title": {
            "standoff": 15
           },
           "zerolinecolor": "white",
           "zerolinewidth": 2
          }
         }
        },
        "title": {
         "text": "Number of connected components with different order"
        },
        "xaxis": {
         "anchor": "y",
         "domain": [
          0,
          0.45
         ]
        },
        "xaxis2": {
         "anchor": "y2",
         "domain": [
          0.55,
          1
         ]
        },
        "yaxis": {
         "anchor": "x",
         "domain": [
          0,
          1
         ]
        },
        "yaxis2": {
         "anchor": "x2",
         "domain": [
          0,
          1
         ]
        }
       }
      }
     },
     "metadata": {},
     "output_type": "display_data"
    }
   ],
   "source": [
    "#\n",
    "# Number of connected components with different sizes\n",
    "#\n",
    "\n",
    "G = mmg\n",
    "\n",
    "fig = make_subplots(rows=1, cols=2, subplot_titles=['Proteomics', 'Metabolomics'])#go.Figure()\n",
    "for n,G in enumerate([qqg, mmg]):\n",
    "    plot = pd.Series([len(i) for i in nx.connected_components(G)]).value_counts().sort_index()\n",
    "    fig.add_trace(go.Bar(\n",
    "        x = [str(i) for i in plot.index],\n",
    "        y = plot.values,\n",
    "        width=0.5,\n",
    "        text=plot.values, textposition='auto', \n",
    "    ), row=1, col=n+1)\n",
    "\n",
    "fig.update_layout(bargap=1)\n",
    "fig.update_layout(title=f'Number of connected components with different order', showlegend=False)\n",
    "fig.show()"
   ]
  },
  {
   "cell_type": "code",
   "execution_count": 37,
   "metadata": {},
   "outputs": [
    {
     "data": {
      "application/vnd.plotly.v1+json": {
       "config": {
        "plotlyServerURL": "https://plot.ly"
       },
       "data": [
        {
         "text": [
          2,
          73,
          544,
          826,
          439,
          100,
          6
         ],
         "textposition": "auto",
         "type": "bar",
         "width": 0.5,
         "x": [
          "1",
          "2",
          "3",
          "4",
          "5",
          "6",
          "7"
         ],
         "xaxis": "x",
         "y": [
          2,
          73,
          544,
          826,
          439,
          100,
          6
         ],
         "yaxis": "y"
        },
        {
         "text": [
          821,
          269,
          193,
          170,
          199,
          174,
          201,
          189,
          194,
          283,
          338,
          322,
          190,
          36,
          15,
          1,
          1,
          1
         ],
         "textposition": "auto",
         "type": "bar",
         "width": 0.5,
         "x": [
          "1",
          "2",
          "3",
          "4",
          "5",
          "6",
          "7",
          "8",
          "9",
          "10",
          "11",
          "12",
          "13",
          "14",
          "15",
          "16",
          "18",
          "20"
         ],
         "xaxis": "x2",
         "y": [
          821,
          269,
          193,
          170,
          199,
          174,
          201,
          189,
          194,
          283,
          338,
          322,
          190,
          36,
          15,
          1,
          1,
          1
         ],
         "yaxis": "y2"
        }
       ],
       "layout": {
        "annotations": [
         {
          "font": {
           "size": 16
          },
          "showarrow": false,
          "text": "Proteomics",
          "x": 0.225,
          "xanchor": "center",
          "xref": "paper",
          "y": 1,
          "yanchor": "bottom",
          "yref": "paper"
         },
         {
          "font": {
           "size": 16
          },
          "showarrow": false,
          "text": "Metabolomics",
          "x": 0.775,
          "xanchor": "center",
          "xref": "paper",
          "y": 1,
          "yanchor": "bottom",
          "yref": "paper"
         }
        ],
        "bargap": 1,
        "showlegend": false,
        "template": {
         "data": {
          "bar": [
           {
            "error_x": {
             "color": "#2a3f5f"
            },
            "error_y": {
             "color": "#2a3f5f"
            },
            "marker": {
             "line": {
              "color": "#E5ECF6",
              "width": 0.5
             },
             "pattern": {
              "fillmode": "overlay",
              "size": 10,
              "solidity": 0.2
             }
            },
            "type": "bar"
           }
          ],
          "barpolar": [
           {
            "marker": {
             "line": {
              "color": "#E5ECF6",
              "width": 0.5
             },
             "pattern": {
              "fillmode": "overlay",
              "size": 10,
              "solidity": 0.2
             }
            },
            "type": "barpolar"
           }
          ],
          "carpet": [
           {
            "aaxis": {
             "endlinecolor": "#2a3f5f",
             "gridcolor": "white",
             "linecolor": "white",
             "minorgridcolor": "white",
             "startlinecolor": "#2a3f5f"
            },
            "baxis": {
             "endlinecolor": "#2a3f5f",
             "gridcolor": "white",
             "linecolor": "white",
             "minorgridcolor": "white",
             "startlinecolor": "#2a3f5f"
            },
            "type": "carpet"
           }
          ],
          "choropleth": [
           {
            "colorbar": {
             "outlinewidth": 0,
             "ticks": ""
            },
            "type": "choropleth"
           }
          ],
          "contour": [
           {
            "colorbar": {
             "outlinewidth": 0,
             "ticks": ""
            },
            "colorscale": [
             [
              0,
              "#0d0887"
             ],
             [
              0.1111111111111111,
              "#46039f"
             ],
             [
              0.2222222222222222,
              "#7201a8"
             ],
             [
              0.3333333333333333,
              "#9c179e"
             ],
             [
              0.4444444444444444,
              "#bd3786"
             ],
             [
              0.5555555555555556,
              "#d8576b"
             ],
             [
              0.6666666666666666,
              "#ed7953"
             ],
             [
              0.7777777777777778,
              "#fb9f3a"
             ],
             [
              0.8888888888888888,
              "#fdca26"
             ],
             [
              1,
              "#f0f921"
             ]
            ],
            "type": "contour"
           }
          ],
          "contourcarpet": [
           {
            "colorbar": {
             "outlinewidth": 0,
             "ticks": ""
            },
            "type": "contourcarpet"
           }
          ],
          "heatmap": [
           {
            "colorbar": {
             "outlinewidth": 0,
             "ticks": ""
            },
            "colorscale": [
             [
              0,
              "#0d0887"
             ],
             [
              0.1111111111111111,
              "#46039f"
             ],
             [
              0.2222222222222222,
              "#7201a8"
             ],
             [
              0.3333333333333333,
              "#9c179e"
             ],
             [
              0.4444444444444444,
              "#bd3786"
             ],
             [
              0.5555555555555556,
              "#d8576b"
             ],
             [
              0.6666666666666666,
              "#ed7953"
             ],
             [
              0.7777777777777778,
              "#fb9f3a"
             ],
             [
              0.8888888888888888,
              "#fdca26"
             ],
             [
              1,
              "#f0f921"
             ]
            ],
            "type": "heatmap"
           }
          ],
          "heatmapgl": [
           {
            "colorbar": {
             "outlinewidth": 0,
             "ticks": ""
            },
            "colorscale": [
             [
              0,
              "#0d0887"
             ],
             [
              0.1111111111111111,
              "#46039f"
             ],
             [
              0.2222222222222222,
              "#7201a8"
             ],
             [
              0.3333333333333333,
              "#9c179e"
             ],
             [
              0.4444444444444444,
              "#bd3786"
             ],
             [
              0.5555555555555556,
              "#d8576b"
             ],
             [
              0.6666666666666666,
              "#ed7953"
             ],
             [
              0.7777777777777778,
              "#fb9f3a"
             ],
             [
              0.8888888888888888,
              "#fdca26"
             ],
             [
              1,
              "#f0f921"
             ]
            ],
            "type": "heatmapgl"
           }
          ],
          "histogram": [
           {
            "marker": {
             "pattern": {
              "fillmode": "overlay",
              "size": 10,
              "solidity": 0.2
             }
            },
            "type": "histogram"
           }
          ],
          "histogram2d": [
           {
            "colorbar": {
             "outlinewidth": 0,
             "ticks": ""
            },
            "colorscale": [
             [
              0,
              "#0d0887"
             ],
             [
              0.1111111111111111,
              "#46039f"
             ],
             [
              0.2222222222222222,
              "#7201a8"
             ],
             [
              0.3333333333333333,
              "#9c179e"
             ],
             [
              0.4444444444444444,
              "#bd3786"
             ],
             [
              0.5555555555555556,
              "#d8576b"
             ],
             [
              0.6666666666666666,
              "#ed7953"
             ],
             [
              0.7777777777777778,
              "#fb9f3a"
             ],
             [
              0.8888888888888888,
              "#fdca26"
             ],
             [
              1,
              "#f0f921"
             ]
            ],
            "type": "histogram2d"
           }
          ],
          "histogram2dcontour": [
           {
            "colorbar": {
             "outlinewidth": 0,
             "ticks": ""
            },
            "colorscale": [
             [
              0,
              "#0d0887"
             ],
             [
              0.1111111111111111,
              "#46039f"
             ],
             [
              0.2222222222222222,
              "#7201a8"
             ],
             [
              0.3333333333333333,
              "#9c179e"
             ],
             [
              0.4444444444444444,
              "#bd3786"
             ],
             [
              0.5555555555555556,
              "#d8576b"
             ],
             [
              0.6666666666666666,
              "#ed7953"
             ],
             [
              0.7777777777777778,
              "#fb9f3a"
             ],
             [
              0.8888888888888888,
              "#fdca26"
             ],
             [
              1,
              "#f0f921"
             ]
            ],
            "type": "histogram2dcontour"
           }
          ],
          "mesh3d": [
           {
            "colorbar": {
             "outlinewidth": 0,
             "ticks": ""
            },
            "type": "mesh3d"
           }
          ],
          "parcoords": [
           {
            "line": {
             "colorbar": {
              "outlinewidth": 0,
              "ticks": ""
             }
            },
            "type": "parcoords"
           }
          ],
          "pie": [
           {
            "automargin": true,
            "type": "pie"
           }
          ],
          "scatter": [
           {
            "fillpattern": {
             "fillmode": "overlay",
             "size": 10,
             "solidity": 0.2
            },
            "type": "scatter"
           }
          ],
          "scatter3d": [
           {
            "line": {
             "colorbar": {
              "outlinewidth": 0,
              "ticks": ""
             }
            },
            "marker": {
             "colorbar": {
              "outlinewidth": 0,
              "ticks": ""
             }
            },
            "type": "scatter3d"
           }
          ],
          "scattercarpet": [
           {
            "marker": {
             "colorbar": {
              "outlinewidth": 0,
              "ticks": ""
             }
            },
            "type": "scattercarpet"
           }
          ],
          "scattergeo": [
           {
            "marker": {
             "colorbar": {
              "outlinewidth": 0,
              "ticks": ""
             }
            },
            "type": "scattergeo"
           }
          ],
          "scattergl": [
           {
            "marker": {
             "colorbar": {
              "outlinewidth": 0,
              "ticks": ""
             }
            },
            "type": "scattergl"
           }
          ],
          "scattermapbox": [
           {
            "marker": {
             "colorbar": {
              "outlinewidth": 0,
              "ticks": ""
             }
            },
            "type": "scattermapbox"
           }
          ],
          "scatterpolar": [
           {
            "marker": {
             "colorbar": {
              "outlinewidth": 0,
              "ticks": ""
             }
            },
            "type": "scatterpolar"
           }
          ],
          "scatterpolargl": [
           {
            "marker": {
             "colorbar": {
              "outlinewidth": 0,
              "ticks": ""
             }
            },
            "type": "scatterpolargl"
           }
          ],
          "scatterternary": [
           {
            "marker": {
             "colorbar": {
              "outlinewidth": 0,
              "ticks": ""
             }
            },
            "type": "scatterternary"
           }
          ],
          "surface": [
           {
            "colorbar": {
             "outlinewidth": 0,
             "ticks": ""
            },
            "colorscale": [
             [
              0,
              "#0d0887"
             ],
             [
              0.1111111111111111,
              "#46039f"
             ],
             [
              0.2222222222222222,
              "#7201a8"
             ],
             [
              0.3333333333333333,
              "#9c179e"
             ],
             [
              0.4444444444444444,
              "#bd3786"
             ],
             [
              0.5555555555555556,
              "#d8576b"
             ],
             [
              0.6666666666666666,
              "#ed7953"
             ],
             [
              0.7777777777777778,
              "#fb9f3a"
             ],
             [
              0.8888888888888888,
              "#fdca26"
             ],
             [
              1,
              "#f0f921"
             ]
            ],
            "type": "surface"
           }
          ],
          "table": [
           {
            "cells": {
             "fill": {
              "color": "#EBF0F8"
             },
             "line": {
              "color": "white"
             }
            },
            "header": {
             "fill": {
              "color": "#C8D4E3"
             },
             "line": {
              "color": "white"
             }
            },
            "type": "table"
           }
          ]
         },
         "layout": {
          "annotationdefaults": {
           "arrowcolor": "#2a3f5f",
           "arrowhead": 0,
           "arrowwidth": 1
          },
          "autotypenumbers": "strict",
          "coloraxis": {
           "colorbar": {
            "outlinewidth": 0,
            "ticks": ""
           }
          },
          "colorscale": {
           "diverging": [
            [
             0,
             "#8e0152"
            ],
            [
             0.1,
             "#c51b7d"
            ],
            [
             0.2,
             "#de77ae"
            ],
            [
             0.3,
             "#f1b6da"
            ],
            [
             0.4,
             "#fde0ef"
            ],
            [
             0.5,
             "#f7f7f7"
            ],
            [
             0.6,
             "#e6f5d0"
            ],
            [
             0.7,
             "#b8e186"
            ],
            [
             0.8,
             "#7fbc41"
            ],
            [
             0.9,
             "#4d9221"
            ],
            [
             1,
             "#276419"
            ]
           ],
           "sequential": [
            [
             0,
             "#0d0887"
            ],
            [
             0.1111111111111111,
             "#46039f"
            ],
            [
             0.2222222222222222,
             "#7201a8"
            ],
            [
             0.3333333333333333,
             "#9c179e"
            ],
            [
             0.4444444444444444,
             "#bd3786"
            ],
            [
             0.5555555555555556,
             "#d8576b"
            ],
            [
             0.6666666666666666,
             "#ed7953"
            ],
            [
             0.7777777777777778,
             "#fb9f3a"
            ],
            [
             0.8888888888888888,
             "#fdca26"
            ],
            [
             1,
             "#f0f921"
            ]
           ],
           "sequentialminus": [
            [
             0,
             "#0d0887"
            ],
            [
             0.1111111111111111,
             "#46039f"
            ],
            [
             0.2222222222222222,
             "#7201a8"
            ],
            [
             0.3333333333333333,
             "#9c179e"
            ],
            [
             0.4444444444444444,
             "#bd3786"
            ],
            [
             0.5555555555555556,
             "#d8576b"
            ],
            [
             0.6666666666666666,
             "#ed7953"
            ],
            [
             0.7777777777777778,
             "#fb9f3a"
            ],
            [
             0.8888888888888888,
             "#fdca26"
            ],
            [
             1,
             "#f0f921"
            ]
           ]
          },
          "colorway": [
           "#636efa",
           "#EF553B",
           "#00cc96",
           "#ab63fa",
           "#FFA15A",
           "#19d3f3",
           "#FF6692",
           "#B6E880",
           "#FF97FF",
           "#FECB52"
          ],
          "font": {
           "color": "#2a3f5f"
          },
          "geo": {
           "bgcolor": "white",
           "lakecolor": "white",
           "landcolor": "#E5ECF6",
           "showlakes": true,
           "showland": true,
           "subunitcolor": "white"
          },
          "hoverlabel": {
           "align": "left"
          },
          "hovermode": "closest",
          "mapbox": {
           "style": "light"
          },
          "paper_bgcolor": "white",
          "plot_bgcolor": "#E5ECF6",
          "polar": {
           "angularaxis": {
            "gridcolor": "white",
            "linecolor": "white",
            "ticks": ""
           },
           "bgcolor": "#E5ECF6",
           "radialaxis": {
            "gridcolor": "white",
            "linecolor": "white",
            "ticks": ""
           }
          },
          "scene": {
           "xaxis": {
            "backgroundcolor": "#E5ECF6",
            "gridcolor": "white",
            "gridwidth": 2,
            "linecolor": "white",
            "showbackground": true,
            "ticks": "",
            "zerolinecolor": "white"
           },
           "yaxis": {
            "backgroundcolor": "#E5ECF6",
            "gridcolor": "white",
            "gridwidth": 2,
            "linecolor": "white",
            "showbackground": true,
            "ticks": "",
            "zerolinecolor": "white"
           },
           "zaxis": {
            "backgroundcolor": "#E5ECF6",
            "gridcolor": "white",
            "gridwidth": 2,
            "linecolor": "white",
            "showbackground": true,
            "ticks": "",
            "zerolinecolor": "white"
           }
          },
          "shapedefaults": {
           "line": {
            "color": "#2a3f5f"
           }
          },
          "ternary": {
           "aaxis": {
            "gridcolor": "white",
            "linecolor": "white",
            "ticks": ""
           },
           "baxis": {
            "gridcolor": "white",
            "linecolor": "white",
            "ticks": ""
           },
           "bgcolor": "#E5ECF6",
           "caxis": {
            "gridcolor": "white",
            "linecolor": "white",
            "ticks": ""
           }
          },
          "title": {
           "x": 0.05
          },
          "xaxis": {
           "automargin": true,
           "gridcolor": "white",
           "linecolor": "white",
           "ticks": "",
           "title": {
            "standoff": 15
           },
           "zerolinecolor": "white",
           "zerolinewidth": 2
          },
          "yaxis": {
           "automargin": true,
           "gridcolor": "white",
           "linecolor": "white",
           "ticks": "",
           "title": {
            "standoff": 15
           },
           "zerolinecolor": "white",
           "zerolinewidth": 2
          }
         }
        },
        "title": {
         "text": "Number of cliques with different order"
        },
        "xaxis": {
         "anchor": "y",
         "domain": [
          0,
          0.45
         ]
        },
        "xaxis2": {
         "anchor": "y2",
         "domain": [
          0.55,
          1
         ]
        },
        "yaxis": {
         "anchor": "x",
         "domain": [
          0,
          1
         ]
        },
        "yaxis2": {
         "anchor": "x2",
         "domain": [
          0,
          1
         ]
        }
       }
      }
     },
     "metadata": {},
     "output_type": "display_data"
    }
   ],
   "source": [
    "#\n",
    "# Number of cliques with diferent orders\n",
    "#\n",
    "\n",
    "fig = make_subplots(rows=1, cols=2, subplot_titles=['Proteomics', 'Metabolomics'])#go.Figure()\n",
    "\n",
    "for n,G in enumerate([qqg, mmg]):\n",
    "    plot = pd.Series([len(i) for i in nx.find_cliques(G)]).value_counts().sort_index()\n",
    "    fig.add_trace(go.Bar(\n",
    "        x = [str(i) for i in plot.index],\n",
    "        y = plot.values,\n",
    "        width=0.5,\n",
    "        text=plot.values, textposition='auto', \n",
    "    ), row=1, col=n+1)\n",
    "\n",
    "    fig.update_layout(bargap=1)\n",
    "fig.update_layout(title=f'Number of cliques with different order', showlegend=False)\n",
    "fig.show()"
   ]
  },
  {
   "cell_type": "code",
   "execution_count": 38,
   "metadata": {},
   "outputs": [],
   "source": [
    "#\n",
    "# Build complete graph adding omic type to each node\n",
    "#\n",
    "\n",
    "g = nx.compose_all([qqg, mmg, qmg])\n",
    "\n",
    "attr = {}\n",
    "_ = [attr.update({i:'q'}) for i in q2i.index]\n",
    "_ = [attr.update({i:'m'}) for i in m2i.index]\n",
    "nx.set_node_attributes(g, attr, 'group')\n",
    "attr = {}\n",
    "_ = [attr.update({i:q2i.loc[i, 'qdesc']}) for i in q2i.index]\n",
    "_ = [attr.update({i:m2i.loc[i, 'TP_ID']}) for i in m2i.index]\n",
    "nx.set_node_attributes(g, attr, 'title')\n",
    "# attr = {}\n",
    "# _ = [attr.update({i:'blue'}) for i in q2i.index]\n",
    "# _ = [attr.update({i:'red'}) for i in m2i.index]\n",
    "# nx.set_node_attributes(g, attr, 'color')"
   ]
  },
  {
   "attachments": {},
   "cell_type": "markdown",
   "metadata": {},
   "source": [
    "OBTAIN CLUSTERS/COMMUNITIES"
   ]
  },
  {
   "cell_type": "code",
   "execution_count": 39,
   "metadata": {},
   "outputs": [],
   "source": [
    "#\n",
    "# Detect communities (clusters) \n",
    "# Louvain & Leiden; Finally we use Leiden\n",
    "\n",
    "# comm = nx_comm.louvain_communities(g, resolution=1, seed=0)"
   ]
  },
  {
   "cell_type": "code",
   "execution_count": 40,
   "metadata": {},
   "outputs": [],
   "source": [
    "# Get clustering consensus \n",
    "\n",
    "import leidenalg\n",
    "import igraph as ig\n",
    "import networkx.algorithms.community as nx_comm\n",
    "\n",
    "G= mmg\n",
    "n = 4\n",
    "thr=10\n",
    "\n",
    "\n",
    "def jaccard(list1, list2):\n",
    "    intersection = len(list(set(list1).intersection(list2)))\n",
    "    union = (len(list1) + len(list2)) - intersection\n",
    "    return float(intersection) / union\n",
    "\n",
    "def get_communities(G, n=5, thr=5):\n",
    "    comm = [\n",
    "        list(i.to_networkx().nodes)\n",
    "        for i in leidenalg.find_partition(\n",
    "                ig.Graph.from_networkx(G), leidenalg.ModularityVertexPartition, \n",
    "                n_iterations=-1, seed=-1\n",
    "            ).subgraphs()\n",
    "    ]\n",
    "\n",
    "    commL = [[i for i in comm if len(i)>thr]]\n",
    "\n",
    "    for i in range(n):\n",
    "        commi = [\n",
    "        list(i.to_networkx().nodes)\n",
    "        for i in leidenalg.find_partition(\n",
    "                ig.Graph.from_networkx(G), leidenalg.ModularityVertexPartition, \n",
    "                n_iterations=-1, seed=i\n",
    "            ).subgraphs()\n",
    "        ] \n",
    "        comm = [\n",
    "        np.intersect1d(j, commi[np.argmax([jaccard(j,k) for k in commi])]) for j in comm\n",
    "        ]\n",
    "\n",
    "        #comm = [j for j in comm if nx.is_connected(G.subgraph(j)) and len(j)>thr]\n",
    "        comm = [list(k) for j in comm for k in nx.connected_components(G.subgraph(j)) if len(k)>thr]\n",
    "        commL.append(comm)\n",
    "        if len(comm)==0: return commL\n",
    "    \n",
    "    return commL\n",
    "\n",
    "\n",
    "#qqcom = get_communities(qqg, n=n, thr=10)\n",
    "#mmcom = get_communities(mmg, n=n, thr=10)"
   ]
  },
  {
   "cell_type": "code",
   "execution_count": 41,
   "metadata": {},
   "outputs": [],
   "source": [
    "#\n",
    "# Apply get_communities function to random graphs so as to estimate \n",
    "# number of iterations n. \n",
    "# We calculate the minimum n at which <1% of random graphs have communities with order >thr\n",
    "# Probability under randomness of obtain a community\n",
    "\n",
    "thr = 10 # Minimum size of a community\n",
    "pvThr = 0.05 # Maximum fraction of random graph with a community greater than thr\n",
    "n = 100\n",
    "\n",
    "commLqq = [get_communities(i, n=n, thr=thr) for i in qqA]\n",
    "commLmm = [get_communities(i, n=n, thr=thr) for i in mmA]"
   ]
  },
  {
   "cell_type": "code",
   "execution_count": 42,
   "metadata": {},
   "outputs": [
    {
     "name": "stdout",
     "output_type": "stream",
     "text": [
      "Protoemics minimum iteration: 5\n",
      "Metabolomics minimum iteration: 5\n"
     ]
    }
   ],
   "source": [
    "# Get fraction of random graph containing communities after x iterations\n",
    "\n",
    "commLqqn = [[len(gA[i]) if len(gA)>i else 0 for i in range(n+1)] for gA in commLqq]\n",
    "commLmmn = [[len(gA[i]) if len(gA)>i else 0 for i in range(n+1)] for gA in commLmm]\n",
    "\n",
    "commLqqn = (np.array(commLqqn)>0).sum(axis=0)/len(qqA)\n",
    "commLmmn = (np.array(commLmmn)>0).sum(axis=0)/len(mmA)\n",
    "\n",
    "pvThr = 0.05\n",
    "qqThr = np.argwhere(commLqqn < pvThr)[0][0]\n",
    "mmThr = np.argwhere(commLmmn < pvThr)[0][0]\n",
    "\n",
    "print(f\"Protoemics minimum iteration: {qqThr+1}\")\n",
    "print(f\"Metabolomics minimum iteration: {mmThr+1}\")"
   ]
  },
  {
   "cell_type": "code",
   "execution_count": 43,
   "metadata": {},
   "outputs": [
    {
     "data": {
      "application/vnd.plotly.v1+json": {
       "config": {
        "plotlyServerURL": "https://plot.ly"
       },
       "data": [
        {
         "mode": "lines+markers",
         "name": "Proteomics",
         "type": "scatter",
         "x": [
          1,
          2,
          3,
          4,
          5,
          6,
          7,
          8,
          9,
          10,
          11,
          12,
          13,
          14,
          15,
          16,
          17,
          18,
          19,
          20,
          21,
          22,
          23,
          24,
          25,
          26,
          27,
          28,
          29,
          30,
          31,
          32,
          33,
          34,
          35,
          36,
          37,
          38,
          39,
          40
         ],
         "y": [
          1,
          0.99,
          0.4,
          0.08,
          0.02,
          0.01,
          0.01,
          0,
          0,
          0,
          0,
          0,
          0,
          0,
          0,
          0,
          0,
          0,
          0,
          0,
          0,
          0,
          0,
          0,
          0,
          0,
          0,
          0,
          0,
          0,
          0,
          0,
          0,
          0,
          0,
          0,
          0,
          0,
          0,
          0
         ]
        },
        {
         "mode": "lines+markers",
         "name": "Metabolomics",
         "type": "scatter",
         "x": [
          1,
          2,
          3,
          4,
          5,
          6,
          7,
          8,
          9,
          10,
          11,
          12,
          13,
          14,
          15,
          16,
          17,
          18,
          19,
          20,
          21,
          22,
          23,
          24,
          25,
          26,
          27,
          28,
          29,
          30,
          31,
          32,
          33,
          34,
          35,
          36,
          37,
          38,
          39,
          40
         ],
         "y": [
          1,
          1,
          0.81,
          0.12,
          0.01,
          0,
          0,
          0,
          0,
          0,
          0,
          0,
          0,
          0,
          0,
          0,
          0,
          0,
          0,
          0,
          0,
          0,
          0,
          0,
          0,
          0,
          0,
          0,
          0,
          0,
          0,
          0,
          0,
          0,
          0,
          0,
          0,
          0,
          0,
          0
         ]
        }
       ],
       "layout": {
        "shapes": [
         {
          "line": {
           "color": "black",
           "dash": "dot",
           "width": 1
          },
          "type": "line",
          "x0": 0,
          "x1": 1,
          "xref": "x domain",
          "y0": 0.05,
          "y1": 0.05,
          "yref": "y"
         }
        ],
        "template": {
         "data": {
          "bar": [
           {
            "error_x": {
             "color": "#2a3f5f"
            },
            "error_y": {
             "color": "#2a3f5f"
            },
            "marker": {
             "line": {
              "color": "#E5ECF6",
              "width": 0.5
             },
             "pattern": {
              "fillmode": "overlay",
              "size": 10,
              "solidity": 0.2
             }
            },
            "type": "bar"
           }
          ],
          "barpolar": [
           {
            "marker": {
             "line": {
              "color": "#E5ECF6",
              "width": 0.5
             },
             "pattern": {
              "fillmode": "overlay",
              "size": 10,
              "solidity": 0.2
             }
            },
            "type": "barpolar"
           }
          ],
          "carpet": [
           {
            "aaxis": {
             "endlinecolor": "#2a3f5f",
             "gridcolor": "white",
             "linecolor": "white",
             "minorgridcolor": "white",
             "startlinecolor": "#2a3f5f"
            },
            "baxis": {
             "endlinecolor": "#2a3f5f",
             "gridcolor": "white",
             "linecolor": "white",
             "minorgridcolor": "white",
             "startlinecolor": "#2a3f5f"
            },
            "type": "carpet"
           }
          ],
          "choropleth": [
           {
            "colorbar": {
             "outlinewidth": 0,
             "ticks": ""
            },
            "type": "choropleth"
           }
          ],
          "contour": [
           {
            "colorbar": {
             "outlinewidth": 0,
             "ticks": ""
            },
            "colorscale": [
             [
              0,
              "#0d0887"
             ],
             [
              0.1111111111111111,
              "#46039f"
             ],
             [
              0.2222222222222222,
              "#7201a8"
             ],
             [
              0.3333333333333333,
              "#9c179e"
             ],
             [
              0.4444444444444444,
              "#bd3786"
             ],
             [
              0.5555555555555556,
              "#d8576b"
             ],
             [
              0.6666666666666666,
              "#ed7953"
             ],
             [
              0.7777777777777778,
              "#fb9f3a"
             ],
             [
              0.8888888888888888,
              "#fdca26"
             ],
             [
              1,
              "#f0f921"
             ]
            ],
            "type": "contour"
           }
          ],
          "contourcarpet": [
           {
            "colorbar": {
             "outlinewidth": 0,
             "ticks": ""
            },
            "type": "contourcarpet"
           }
          ],
          "heatmap": [
           {
            "colorbar": {
             "outlinewidth": 0,
             "ticks": ""
            },
            "colorscale": [
             [
              0,
              "#0d0887"
             ],
             [
              0.1111111111111111,
              "#46039f"
             ],
             [
              0.2222222222222222,
              "#7201a8"
             ],
             [
              0.3333333333333333,
              "#9c179e"
             ],
             [
              0.4444444444444444,
              "#bd3786"
             ],
             [
              0.5555555555555556,
              "#d8576b"
             ],
             [
              0.6666666666666666,
              "#ed7953"
             ],
             [
              0.7777777777777778,
              "#fb9f3a"
             ],
             [
              0.8888888888888888,
              "#fdca26"
             ],
             [
              1,
              "#f0f921"
             ]
            ],
            "type": "heatmap"
           }
          ],
          "heatmapgl": [
           {
            "colorbar": {
             "outlinewidth": 0,
             "ticks": ""
            },
            "colorscale": [
             [
              0,
              "#0d0887"
             ],
             [
              0.1111111111111111,
              "#46039f"
             ],
             [
              0.2222222222222222,
              "#7201a8"
             ],
             [
              0.3333333333333333,
              "#9c179e"
             ],
             [
              0.4444444444444444,
              "#bd3786"
             ],
             [
              0.5555555555555556,
              "#d8576b"
             ],
             [
              0.6666666666666666,
              "#ed7953"
             ],
             [
              0.7777777777777778,
              "#fb9f3a"
             ],
             [
              0.8888888888888888,
              "#fdca26"
             ],
             [
              1,
              "#f0f921"
             ]
            ],
            "type": "heatmapgl"
           }
          ],
          "histogram": [
           {
            "marker": {
             "pattern": {
              "fillmode": "overlay",
              "size": 10,
              "solidity": 0.2
             }
            },
            "type": "histogram"
           }
          ],
          "histogram2d": [
           {
            "colorbar": {
             "outlinewidth": 0,
             "ticks": ""
            },
            "colorscale": [
             [
              0,
              "#0d0887"
             ],
             [
              0.1111111111111111,
              "#46039f"
             ],
             [
              0.2222222222222222,
              "#7201a8"
             ],
             [
              0.3333333333333333,
              "#9c179e"
             ],
             [
              0.4444444444444444,
              "#bd3786"
             ],
             [
              0.5555555555555556,
              "#d8576b"
             ],
             [
              0.6666666666666666,
              "#ed7953"
             ],
             [
              0.7777777777777778,
              "#fb9f3a"
             ],
             [
              0.8888888888888888,
              "#fdca26"
             ],
             [
              1,
              "#f0f921"
             ]
            ],
            "type": "histogram2d"
           }
          ],
          "histogram2dcontour": [
           {
            "colorbar": {
             "outlinewidth": 0,
             "ticks": ""
            },
            "colorscale": [
             [
              0,
              "#0d0887"
             ],
             [
              0.1111111111111111,
              "#46039f"
             ],
             [
              0.2222222222222222,
              "#7201a8"
             ],
             [
              0.3333333333333333,
              "#9c179e"
             ],
             [
              0.4444444444444444,
              "#bd3786"
             ],
             [
              0.5555555555555556,
              "#d8576b"
             ],
             [
              0.6666666666666666,
              "#ed7953"
             ],
             [
              0.7777777777777778,
              "#fb9f3a"
             ],
             [
              0.8888888888888888,
              "#fdca26"
             ],
             [
              1,
              "#f0f921"
             ]
            ],
            "type": "histogram2dcontour"
           }
          ],
          "mesh3d": [
           {
            "colorbar": {
             "outlinewidth": 0,
             "ticks": ""
            },
            "type": "mesh3d"
           }
          ],
          "parcoords": [
           {
            "line": {
             "colorbar": {
              "outlinewidth": 0,
              "ticks": ""
             }
            },
            "type": "parcoords"
           }
          ],
          "pie": [
           {
            "automargin": true,
            "type": "pie"
           }
          ],
          "scatter": [
           {
            "fillpattern": {
             "fillmode": "overlay",
             "size": 10,
             "solidity": 0.2
            },
            "type": "scatter"
           }
          ],
          "scatter3d": [
           {
            "line": {
             "colorbar": {
              "outlinewidth": 0,
              "ticks": ""
             }
            },
            "marker": {
             "colorbar": {
              "outlinewidth": 0,
              "ticks": ""
             }
            },
            "type": "scatter3d"
           }
          ],
          "scattercarpet": [
           {
            "marker": {
             "colorbar": {
              "outlinewidth": 0,
              "ticks": ""
             }
            },
            "type": "scattercarpet"
           }
          ],
          "scattergeo": [
           {
            "marker": {
             "colorbar": {
              "outlinewidth": 0,
              "ticks": ""
             }
            },
            "type": "scattergeo"
           }
          ],
          "scattergl": [
           {
            "marker": {
             "colorbar": {
              "outlinewidth": 0,
              "ticks": ""
             }
            },
            "type": "scattergl"
           }
          ],
          "scattermapbox": [
           {
            "marker": {
             "colorbar": {
              "outlinewidth": 0,
              "ticks": ""
             }
            },
            "type": "scattermapbox"
           }
          ],
          "scatterpolar": [
           {
            "marker": {
             "colorbar": {
              "outlinewidth": 0,
              "ticks": ""
             }
            },
            "type": "scatterpolar"
           }
          ],
          "scatterpolargl": [
           {
            "marker": {
             "colorbar": {
              "outlinewidth": 0,
              "ticks": ""
             }
            },
            "type": "scatterpolargl"
           }
          ],
          "scatterternary": [
           {
            "marker": {
             "colorbar": {
              "outlinewidth": 0,
              "ticks": ""
             }
            },
            "type": "scatterternary"
           }
          ],
          "surface": [
           {
            "colorbar": {
             "outlinewidth": 0,
             "ticks": ""
            },
            "colorscale": [
             [
              0,
              "#0d0887"
             ],
             [
              0.1111111111111111,
              "#46039f"
             ],
             [
              0.2222222222222222,
              "#7201a8"
             ],
             [
              0.3333333333333333,
              "#9c179e"
             ],
             [
              0.4444444444444444,
              "#bd3786"
             ],
             [
              0.5555555555555556,
              "#d8576b"
             ],
             [
              0.6666666666666666,
              "#ed7953"
             ],
             [
              0.7777777777777778,
              "#fb9f3a"
             ],
             [
              0.8888888888888888,
              "#fdca26"
             ],
             [
              1,
              "#f0f921"
             ]
            ],
            "type": "surface"
           }
          ],
          "table": [
           {
            "cells": {
             "fill": {
              "color": "#EBF0F8"
             },
             "line": {
              "color": "white"
             }
            },
            "header": {
             "fill": {
              "color": "#C8D4E3"
             },
             "line": {
              "color": "white"
             }
            },
            "type": "table"
           }
          ]
         },
         "layout": {
          "annotationdefaults": {
           "arrowcolor": "#2a3f5f",
           "arrowhead": 0,
           "arrowwidth": 1
          },
          "autotypenumbers": "strict",
          "coloraxis": {
           "colorbar": {
            "outlinewidth": 0,
            "ticks": ""
           }
          },
          "colorscale": {
           "diverging": [
            [
             0,
             "#8e0152"
            ],
            [
             0.1,
             "#c51b7d"
            ],
            [
             0.2,
             "#de77ae"
            ],
            [
             0.3,
             "#f1b6da"
            ],
            [
             0.4,
             "#fde0ef"
            ],
            [
             0.5,
             "#f7f7f7"
            ],
            [
             0.6,
             "#e6f5d0"
            ],
            [
             0.7,
             "#b8e186"
            ],
            [
             0.8,
             "#7fbc41"
            ],
            [
             0.9,
             "#4d9221"
            ],
            [
             1,
             "#276419"
            ]
           ],
           "sequential": [
            [
             0,
             "#0d0887"
            ],
            [
             0.1111111111111111,
             "#46039f"
            ],
            [
             0.2222222222222222,
             "#7201a8"
            ],
            [
             0.3333333333333333,
             "#9c179e"
            ],
            [
             0.4444444444444444,
             "#bd3786"
            ],
            [
             0.5555555555555556,
             "#d8576b"
            ],
            [
             0.6666666666666666,
             "#ed7953"
            ],
            [
             0.7777777777777778,
             "#fb9f3a"
            ],
            [
             0.8888888888888888,
             "#fdca26"
            ],
            [
             1,
             "#f0f921"
            ]
           ],
           "sequentialminus": [
            [
             0,
             "#0d0887"
            ],
            [
             0.1111111111111111,
             "#46039f"
            ],
            [
             0.2222222222222222,
             "#7201a8"
            ],
            [
             0.3333333333333333,
             "#9c179e"
            ],
            [
             0.4444444444444444,
             "#bd3786"
            ],
            [
             0.5555555555555556,
             "#d8576b"
            ],
            [
             0.6666666666666666,
             "#ed7953"
            ],
            [
             0.7777777777777778,
             "#fb9f3a"
            ],
            [
             0.8888888888888888,
             "#fdca26"
            ],
            [
             1,
             "#f0f921"
            ]
           ]
          },
          "colorway": [
           "#636efa",
           "#EF553B",
           "#00cc96",
           "#ab63fa",
           "#FFA15A",
           "#19d3f3",
           "#FF6692",
           "#B6E880",
           "#FF97FF",
           "#FECB52"
          ],
          "font": {
           "color": "#2a3f5f"
          },
          "geo": {
           "bgcolor": "white",
           "lakecolor": "white",
           "landcolor": "#E5ECF6",
           "showlakes": true,
           "showland": true,
           "subunitcolor": "white"
          },
          "hoverlabel": {
           "align": "left"
          },
          "hovermode": "closest",
          "mapbox": {
           "style": "light"
          },
          "paper_bgcolor": "white",
          "plot_bgcolor": "#E5ECF6",
          "polar": {
           "angularaxis": {
            "gridcolor": "white",
            "linecolor": "white",
            "ticks": ""
           },
           "bgcolor": "#E5ECF6",
           "radialaxis": {
            "gridcolor": "white",
            "linecolor": "white",
            "ticks": ""
           }
          },
          "scene": {
           "xaxis": {
            "backgroundcolor": "#E5ECF6",
            "gridcolor": "white",
            "gridwidth": 2,
            "linecolor": "white",
            "showbackground": true,
            "ticks": "",
            "zerolinecolor": "white"
           },
           "yaxis": {
            "backgroundcolor": "#E5ECF6",
            "gridcolor": "white",
            "gridwidth": 2,
            "linecolor": "white",
            "showbackground": true,
            "ticks": "",
            "zerolinecolor": "white"
           },
           "zaxis": {
            "backgroundcolor": "#E5ECF6",
            "gridcolor": "white",
            "gridwidth": 2,
            "linecolor": "white",
            "showbackground": true,
            "ticks": "",
            "zerolinecolor": "white"
           }
          },
          "shapedefaults": {
           "line": {
            "color": "#2a3f5f"
           }
          },
          "ternary": {
           "aaxis": {
            "gridcolor": "white",
            "linecolor": "white",
            "ticks": ""
           },
           "baxis": {
            "gridcolor": "white",
            "linecolor": "white",
            "ticks": ""
           },
           "bgcolor": "#E5ECF6",
           "caxis": {
            "gridcolor": "white",
            "linecolor": "white",
            "ticks": ""
           }
          },
          "title": {
           "x": 0.05
          },
          "xaxis": {
           "automargin": true,
           "gridcolor": "white",
           "linecolor": "white",
           "ticks": "",
           "title": {
            "standoff": 15
           },
           "zerolinecolor": "white",
           "zerolinewidth": 2
          },
          "yaxis": {
           "automargin": true,
           "gridcolor": "white",
           "linecolor": "white",
           "ticks": "",
           "title": {
            "standoff": 15
           },
           "zerolinecolor": "white",
           "zerolinewidth": 2
          }
         }
        },
        "title": {
         "text": "Fraction of Random Networks with communities vs N. Iterations"
        },
        "xaxis": {
         "title": {
          "text": "Iterations"
         }
        },
        "yaxis": {
         "title": {
          "text": "Fraction of Random Networks"
         }
        }
       }
      }
     },
     "metadata": {},
     "output_type": "display_data"
    }
   ],
   "source": [
    "i = 40\n",
    "\n",
    "file = 'Plots/ClusterConsensus.html'\n",
    "if os.path.exists(file):\n",
    "    os.remove(file)\n",
    "\n",
    "\n",
    "fig = go.Figure()\n",
    "fig.add_trace(go.Scatter(\n",
    "    x=np.arange(1, i+1),\n",
    "    y =commLqqn[:i],\n",
    "    mode='lines+markers',\n",
    "    name='Proteomics'\n",
    "))\n",
    "fig.add_trace(go.Scatter(\n",
    "    x=np.arange(1, i+1),\n",
    "    y =commLmmn[:i],\n",
    "    mode='lines+markers',\n",
    "    name='Metabolomics'\n",
    "))\n",
    "fig.add_hline(y=0.05,line_width=1, line_dash=\"dot\", line_color=\"black\")\n",
    "fig.update_layout(title='Fraction of Random Networks with communities vs N. Iterations')\n",
    "fig.update_xaxes(title='Iterations'); fig.update_yaxes(title='Fraction of Random Networks')\n",
    "\n",
    "fig.show()\n",
    "with open(file, 'a') as f:\n",
    "    f.write(fig.to_html(full_html=False, include_plotlyjs='cdn', default_height='50%', default_width='80%'))"
   ]
  },
  {
   "cell_type": "code",
   "execution_count": 44,
   "metadata": {},
   "outputs": [],
   "source": [
    "qqcoms = get_communities(qqg, n=n, thr=thr)\n",
    "mmcoms = get_communities(mmg, n=n, thr=thr)"
   ]
  },
  {
   "cell_type": "code",
   "execution_count": 45,
   "metadata": {},
   "outputs": [
    {
     "data": {
      "application/vnd.plotly.v1+json": {
       "config": {
        "plotlyServerURL": "https://plot.ly"
       },
       "data": [
        {
         "marker": {
          "color": "#636EFA"
         },
         "mode": "lines+markers",
         "name": "Proteomics",
         "type": "scatter",
         "x": [
          1,
          2,
          3,
          4,
          5,
          6,
          7,
          8,
          9,
          10,
          11,
          12,
          13,
          14,
          15,
          16,
          17,
          18,
          19,
          20,
          21,
          22,
          23,
          24,
          25,
          26,
          27,
          28,
          29,
          30,
          31,
          32,
          33,
          34,
          35,
          36,
          37,
          38,
          39,
          40
         ],
         "xaxis": "x",
         "y": [
          6,
          6,
          5,
          5,
          5,
          5,
          5,
          3,
          3,
          3,
          3,
          3,
          3,
          2,
          2,
          2,
          2,
          2,
          2,
          2,
          2,
          2,
          2,
          2,
          2,
          2,
          2,
          2,
          2,
          2,
          2,
          2,
          2,
          2,
          2,
          2,
          1,
          1,
          1,
          1
         ],
         "yaxis": "y"
        },
        {
         "marker": {
          "color": "#EF553B"
         },
         "mode": "lines+markers",
         "name": "Metabolomics",
         "type": "scatter",
         "x": [
          1,
          2,
          3,
          4,
          5,
          6,
          7,
          8,
          9,
          10,
          11,
          12,
          13,
          14,
          15,
          16,
          17,
          18,
          19,
          20,
          21,
          22,
          23,
          24,
          25,
          26,
          27,
          28,
          29,
          30,
          31,
          32,
          33,
          34,
          35,
          36,
          37,
          38,
          39,
          40
         ],
         "xaxis": "x",
         "y": [
          22,
          22,
          22,
          22,
          22,
          22,
          22,
          22,
          22,
          22,
          22,
          22,
          22,
          22,
          22,
          22,
          22,
          22,
          22,
          22,
          22,
          22,
          22,
          22,
          22,
          22,
          22,
          22,
          22,
          22,
          22,
          22,
          22,
          22,
          22,
          22,
          22,
          22,
          22,
          22
         ],
         "yaxis": "y"
        },
        {
         "marker": {
          "color": "#636EFA"
         },
         "mode": "lines+markers",
         "name": "Proteomics",
         "type": "scatter",
         "x": [
          1,
          2,
          3,
          4,
          5,
          6,
          7,
          8,
          9,
          10,
          11,
          12,
          13,
          14,
          15,
          16,
          17,
          18,
          19,
          20,
          21,
          22,
          23,
          24,
          25,
          26,
          27,
          28,
          29,
          30,
          31,
          32,
          33,
          34,
          35,
          36,
          37,
          38,
          39,
          40
         ],
         "xaxis": "x2",
         "y": [
          247,
          214,
          141,
          127,
          114,
          103,
          95,
          73,
          67,
          66,
          66,
          60,
          60,
          49,
          49,
          49,
          49,
          41,
          41,
          41,
          41,
          41,
          41,
          41,
          41,
          41,
          29,
          29,
          29,
          29,
          26,
          26,
          26,
          26,
          26,
          26,
          15,
          15,
          15,
          15
         ],
         "yaxis": "y2"
        },
        {
         "marker": {
          "color": "#EF553B"
         },
         "mode": "lines+markers",
         "name": "Metabolomics",
         "type": "scatter",
         "x": [
          1,
          2,
          3,
          4,
          5,
          6,
          7,
          8,
          9,
          10,
          11,
          12,
          13,
          14,
          15,
          16,
          17,
          18,
          19,
          20,
          21,
          22,
          23,
          24,
          25,
          26,
          27,
          28,
          29,
          30,
          31,
          32,
          33,
          34,
          35,
          36,
          37,
          38,
          39,
          40
         ],
         "xaxis": "x2",
         "y": [
          969,
          961,
          961,
          961,
          961,
          961,
          961,
          961,
          961,
          961,
          961,
          961,
          961,
          949,
          946,
          946,
          946,
          946,
          946,
          946,
          936,
          936,
          936,
          936,
          936,
          936,
          936,
          936,
          936,
          936,
          936,
          936,
          936,
          936,
          936,
          936,
          936,
          936,
          936,
          936
         ],
         "yaxis": "y2"
        }
       ],
       "layout": {
        "annotations": [
         {
          "font": {
           "size": 16
          },
          "showarrow": false,
          "text": "Number of communities",
          "x": 0.225,
          "xanchor": "center",
          "xref": "paper",
          "y": 1,
          "yanchor": "bottom",
          "yref": "paper"
         },
         {
          "font": {
           "size": 16
          },
          "showarrow": false,
          "text": "Number of features",
          "x": 0.775,
          "xanchor": "center",
          "xref": "paper",
          "y": 1,
          "yanchor": "bottom",
          "yref": "paper"
         },
         {
          "showarrow": false,
          "text": "Prot. Thr.",
          "x": 5,
          "xanchor": "left",
          "xref": "x",
          "y": 0,
          "yanchor": "bottom",
          "yref": "y domain"
         },
         {
          "showarrow": false,
          "text": "Prot. Thr.",
          "x": 5,
          "xanchor": "left",
          "xref": "x2",
          "y": 0,
          "yanchor": "bottom",
          "yref": "y2 domain"
         },
         {
          "showarrow": false,
          "text": "Metab. Thr.",
          "x": 5,
          "xanchor": "left",
          "xref": "x",
          "y": 1,
          "yanchor": "top",
          "yref": "y domain"
         },
         {
          "showarrow": false,
          "text": "Metab. Thr.",
          "x": 5,
          "xanchor": "left",
          "xref": "x2",
          "y": 1,
          "yanchor": "top",
          "yref": "y2 domain"
         }
        ],
        "shapes": [
         {
          "line": {
           "color": "black",
           "dash": "dot",
           "width": 1
          },
          "type": "line",
          "x0": 5,
          "x1": 5,
          "xref": "x",
          "y0": 0,
          "y1": 1,
          "yref": "y domain"
         },
         {
          "line": {
           "color": "black",
           "dash": "dot",
           "width": 1
          },
          "type": "line",
          "x0": 5,
          "x1": 5,
          "xref": "x2",
          "y0": 0,
          "y1": 1,
          "yref": "y2 domain"
         },
         {
          "line": {
           "color": "black",
           "dash": "dot",
           "width": 1
          },
          "type": "line",
          "x0": 5,
          "x1": 5,
          "xref": "x",
          "y0": 0,
          "y1": 1,
          "yref": "y domain"
         },
         {
          "line": {
           "color": "black",
           "dash": "dot",
           "width": 1
          },
          "type": "line",
          "x0": 5,
          "x1": 5,
          "xref": "x2",
          "y0": 0,
          "y1": 1,
          "yref": "y2 domain"
         }
        ],
        "template": {
         "data": {
          "bar": [
           {
            "error_x": {
             "color": "#2a3f5f"
            },
            "error_y": {
             "color": "#2a3f5f"
            },
            "marker": {
             "line": {
              "color": "#E5ECF6",
              "width": 0.5
             },
             "pattern": {
              "fillmode": "overlay",
              "size": 10,
              "solidity": 0.2
             }
            },
            "type": "bar"
           }
          ],
          "barpolar": [
           {
            "marker": {
             "line": {
              "color": "#E5ECF6",
              "width": 0.5
             },
             "pattern": {
              "fillmode": "overlay",
              "size": 10,
              "solidity": 0.2
             }
            },
            "type": "barpolar"
           }
          ],
          "carpet": [
           {
            "aaxis": {
             "endlinecolor": "#2a3f5f",
             "gridcolor": "white",
             "linecolor": "white",
             "minorgridcolor": "white",
             "startlinecolor": "#2a3f5f"
            },
            "baxis": {
             "endlinecolor": "#2a3f5f",
             "gridcolor": "white",
             "linecolor": "white",
             "minorgridcolor": "white",
             "startlinecolor": "#2a3f5f"
            },
            "type": "carpet"
           }
          ],
          "choropleth": [
           {
            "colorbar": {
             "outlinewidth": 0,
             "ticks": ""
            },
            "type": "choropleth"
           }
          ],
          "contour": [
           {
            "colorbar": {
             "outlinewidth": 0,
             "ticks": ""
            },
            "colorscale": [
             [
              0,
              "#0d0887"
             ],
             [
              0.1111111111111111,
              "#46039f"
             ],
             [
              0.2222222222222222,
              "#7201a8"
             ],
             [
              0.3333333333333333,
              "#9c179e"
             ],
             [
              0.4444444444444444,
              "#bd3786"
             ],
             [
              0.5555555555555556,
              "#d8576b"
             ],
             [
              0.6666666666666666,
              "#ed7953"
             ],
             [
              0.7777777777777778,
              "#fb9f3a"
             ],
             [
              0.8888888888888888,
              "#fdca26"
             ],
             [
              1,
              "#f0f921"
             ]
            ],
            "type": "contour"
           }
          ],
          "contourcarpet": [
           {
            "colorbar": {
             "outlinewidth": 0,
             "ticks": ""
            },
            "type": "contourcarpet"
           }
          ],
          "heatmap": [
           {
            "colorbar": {
             "outlinewidth": 0,
             "ticks": ""
            },
            "colorscale": [
             [
              0,
              "#0d0887"
             ],
             [
              0.1111111111111111,
              "#46039f"
             ],
             [
              0.2222222222222222,
              "#7201a8"
             ],
             [
              0.3333333333333333,
              "#9c179e"
             ],
             [
              0.4444444444444444,
              "#bd3786"
             ],
             [
              0.5555555555555556,
              "#d8576b"
             ],
             [
              0.6666666666666666,
              "#ed7953"
             ],
             [
              0.7777777777777778,
              "#fb9f3a"
             ],
             [
              0.8888888888888888,
              "#fdca26"
             ],
             [
              1,
              "#f0f921"
             ]
            ],
            "type": "heatmap"
           }
          ],
          "heatmapgl": [
           {
            "colorbar": {
             "outlinewidth": 0,
             "ticks": ""
            },
            "colorscale": [
             [
              0,
              "#0d0887"
             ],
             [
              0.1111111111111111,
              "#46039f"
             ],
             [
              0.2222222222222222,
              "#7201a8"
             ],
             [
              0.3333333333333333,
              "#9c179e"
             ],
             [
              0.4444444444444444,
              "#bd3786"
             ],
             [
              0.5555555555555556,
              "#d8576b"
             ],
             [
              0.6666666666666666,
              "#ed7953"
             ],
             [
              0.7777777777777778,
              "#fb9f3a"
             ],
             [
              0.8888888888888888,
              "#fdca26"
             ],
             [
              1,
              "#f0f921"
             ]
            ],
            "type": "heatmapgl"
           }
          ],
          "histogram": [
           {
            "marker": {
             "pattern": {
              "fillmode": "overlay",
              "size": 10,
              "solidity": 0.2
             }
            },
            "type": "histogram"
           }
          ],
          "histogram2d": [
           {
            "colorbar": {
             "outlinewidth": 0,
             "ticks": ""
            },
            "colorscale": [
             [
              0,
              "#0d0887"
             ],
             [
              0.1111111111111111,
              "#46039f"
             ],
             [
              0.2222222222222222,
              "#7201a8"
             ],
             [
              0.3333333333333333,
              "#9c179e"
             ],
             [
              0.4444444444444444,
              "#bd3786"
             ],
             [
              0.5555555555555556,
              "#d8576b"
             ],
             [
              0.6666666666666666,
              "#ed7953"
             ],
             [
              0.7777777777777778,
              "#fb9f3a"
             ],
             [
              0.8888888888888888,
              "#fdca26"
             ],
             [
              1,
              "#f0f921"
             ]
            ],
            "type": "histogram2d"
           }
          ],
          "histogram2dcontour": [
           {
            "colorbar": {
             "outlinewidth": 0,
             "ticks": ""
            },
            "colorscale": [
             [
              0,
              "#0d0887"
             ],
             [
              0.1111111111111111,
              "#46039f"
             ],
             [
              0.2222222222222222,
              "#7201a8"
             ],
             [
              0.3333333333333333,
              "#9c179e"
             ],
             [
              0.4444444444444444,
              "#bd3786"
             ],
             [
              0.5555555555555556,
              "#d8576b"
             ],
             [
              0.6666666666666666,
              "#ed7953"
             ],
             [
              0.7777777777777778,
              "#fb9f3a"
             ],
             [
              0.8888888888888888,
              "#fdca26"
             ],
             [
              1,
              "#f0f921"
             ]
            ],
            "type": "histogram2dcontour"
           }
          ],
          "mesh3d": [
           {
            "colorbar": {
             "outlinewidth": 0,
             "ticks": ""
            },
            "type": "mesh3d"
           }
          ],
          "parcoords": [
           {
            "line": {
             "colorbar": {
              "outlinewidth": 0,
              "ticks": ""
             }
            },
            "type": "parcoords"
           }
          ],
          "pie": [
           {
            "automargin": true,
            "type": "pie"
           }
          ],
          "scatter": [
           {
            "fillpattern": {
             "fillmode": "overlay",
             "size": 10,
             "solidity": 0.2
            },
            "type": "scatter"
           }
          ],
          "scatter3d": [
           {
            "line": {
             "colorbar": {
              "outlinewidth": 0,
              "ticks": ""
             }
            },
            "marker": {
             "colorbar": {
              "outlinewidth": 0,
              "ticks": ""
             }
            },
            "type": "scatter3d"
           }
          ],
          "scattercarpet": [
           {
            "marker": {
             "colorbar": {
              "outlinewidth": 0,
              "ticks": ""
             }
            },
            "type": "scattercarpet"
           }
          ],
          "scattergeo": [
           {
            "marker": {
             "colorbar": {
              "outlinewidth": 0,
              "ticks": ""
             }
            },
            "type": "scattergeo"
           }
          ],
          "scattergl": [
           {
            "marker": {
             "colorbar": {
              "outlinewidth": 0,
              "ticks": ""
             }
            },
            "type": "scattergl"
           }
          ],
          "scattermapbox": [
           {
            "marker": {
             "colorbar": {
              "outlinewidth": 0,
              "ticks": ""
             }
            },
            "type": "scattermapbox"
           }
          ],
          "scatterpolar": [
           {
            "marker": {
             "colorbar": {
              "outlinewidth": 0,
              "ticks": ""
             }
            },
            "type": "scatterpolar"
           }
          ],
          "scatterpolargl": [
           {
            "marker": {
             "colorbar": {
              "outlinewidth": 0,
              "ticks": ""
             }
            },
            "type": "scatterpolargl"
           }
          ],
          "scatterternary": [
           {
            "marker": {
             "colorbar": {
              "outlinewidth": 0,
              "ticks": ""
             }
            },
            "type": "scatterternary"
           }
          ],
          "surface": [
           {
            "colorbar": {
             "outlinewidth": 0,
             "ticks": ""
            },
            "colorscale": [
             [
              0,
              "#0d0887"
             ],
             [
              0.1111111111111111,
              "#46039f"
             ],
             [
              0.2222222222222222,
              "#7201a8"
             ],
             [
              0.3333333333333333,
              "#9c179e"
             ],
             [
              0.4444444444444444,
              "#bd3786"
             ],
             [
              0.5555555555555556,
              "#d8576b"
             ],
             [
              0.6666666666666666,
              "#ed7953"
             ],
             [
              0.7777777777777778,
              "#fb9f3a"
             ],
             [
              0.8888888888888888,
              "#fdca26"
             ],
             [
              1,
              "#f0f921"
             ]
            ],
            "type": "surface"
           }
          ],
          "table": [
           {
            "cells": {
             "fill": {
              "color": "#EBF0F8"
             },
             "line": {
              "color": "white"
             }
            },
            "header": {
             "fill": {
              "color": "#C8D4E3"
             },
             "line": {
              "color": "white"
             }
            },
            "type": "table"
           }
          ]
         },
         "layout": {
          "annotationdefaults": {
           "arrowcolor": "#2a3f5f",
           "arrowhead": 0,
           "arrowwidth": 1
          },
          "autotypenumbers": "strict",
          "coloraxis": {
           "colorbar": {
            "outlinewidth": 0,
            "ticks": ""
           }
          },
          "colorscale": {
           "diverging": [
            [
             0,
             "#8e0152"
            ],
            [
             0.1,
             "#c51b7d"
            ],
            [
             0.2,
             "#de77ae"
            ],
            [
             0.3,
             "#f1b6da"
            ],
            [
             0.4,
             "#fde0ef"
            ],
            [
             0.5,
             "#f7f7f7"
            ],
            [
             0.6,
             "#e6f5d0"
            ],
            [
             0.7,
             "#b8e186"
            ],
            [
             0.8,
             "#7fbc41"
            ],
            [
             0.9,
             "#4d9221"
            ],
            [
             1,
             "#276419"
            ]
           ],
           "sequential": [
            [
             0,
             "#0d0887"
            ],
            [
             0.1111111111111111,
             "#46039f"
            ],
            [
             0.2222222222222222,
             "#7201a8"
            ],
            [
             0.3333333333333333,
             "#9c179e"
            ],
            [
             0.4444444444444444,
             "#bd3786"
            ],
            [
             0.5555555555555556,
             "#d8576b"
            ],
            [
             0.6666666666666666,
             "#ed7953"
            ],
            [
             0.7777777777777778,
             "#fb9f3a"
            ],
            [
             0.8888888888888888,
             "#fdca26"
            ],
            [
             1,
             "#f0f921"
            ]
           ],
           "sequentialminus": [
            [
             0,
             "#0d0887"
            ],
            [
             0.1111111111111111,
             "#46039f"
            ],
            [
             0.2222222222222222,
             "#7201a8"
            ],
            [
             0.3333333333333333,
             "#9c179e"
            ],
            [
             0.4444444444444444,
             "#bd3786"
            ],
            [
             0.5555555555555556,
             "#d8576b"
            ],
            [
             0.6666666666666666,
             "#ed7953"
            ],
            [
             0.7777777777777778,
             "#fb9f3a"
            ],
            [
             0.8888888888888888,
             "#fdca26"
            ],
            [
             1,
             "#f0f921"
            ]
           ]
          },
          "colorway": [
           "#636efa",
           "#EF553B",
           "#00cc96",
           "#ab63fa",
           "#FFA15A",
           "#19d3f3",
           "#FF6692",
           "#B6E880",
           "#FF97FF",
           "#FECB52"
          ],
          "font": {
           "color": "#2a3f5f"
          },
          "geo": {
           "bgcolor": "white",
           "lakecolor": "white",
           "landcolor": "#E5ECF6",
           "showlakes": true,
           "showland": true,
           "subunitcolor": "white"
          },
          "hoverlabel": {
           "align": "left"
          },
          "hovermode": "closest",
          "mapbox": {
           "style": "light"
          },
          "paper_bgcolor": "white",
          "plot_bgcolor": "#E5ECF6",
          "polar": {
           "angularaxis": {
            "gridcolor": "white",
            "linecolor": "white",
            "ticks": ""
           },
           "bgcolor": "#E5ECF6",
           "radialaxis": {
            "gridcolor": "white",
            "linecolor": "white",
            "ticks": ""
           }
          },
          "scene": {
           "xaxis": {
            "backgroundcolor": "#E5ECF6",
            "gridcolor": "white",
            "gridwidth": 2,
            "linecolor": "white",
            "showbackground": true,
            "ticks": "",
            "zerolinecolor": "white"
           },
           "yaxis": {
            "backgroundcolor": "#E5ECF6",
            "gridcolor": "white",
            "gridwidth": 2,
            "linecolor": "white",
            "showbackground": true,
            "ticks": "",
            "zerolinecolor": "white"
           },
           "zaxis": {
            "backgroundcolor": "#E5ECF6",
            "gridcolor": "white",
            "gridwidth": 2,
            "linecolor": "white",
            "showbackground": true,
            "ticks": "",
            "zerolinecolor": "white"
           }
          },
          "shapedefaults": {
           "line": {
            "color": "#2a3f5f"
           }
          },
          "ternary": {
           "aaxis": {
            "gridcolor": "white",
            "linecolor": "white",
            "ticks": ""
           },
           "baxis": {
            "gridcolor": "white",
            "linecolor": "white",
            "ticks": ""
           },
           "bgcolor": "#E5ECF6",
           "caxis": {
            "gridcolor": "white",
            "linecolor": "white",
            "ticks": ""
           }
          },
          "title": {
           "x": 0.05
          },
          "xaxis": {
           "automargin": true,
           "gridcolor": "white",
           "linecolor": "white",
           "ticks": "",
           "title": {
            "standoff": 15
           },
           "zerolinecolor": "white",
           "zerolinewidth": 2
          },
          "yaxis": {
           "automargin": true,
           "gridcolor": "white",
           "linecolor": "white",
           "ticks": "",
           "title": {
            "standoff": 15
           },
           "zerolinecolor": "white",
           "zerolinewidth": 2
          }
         }
        },
        "xaxis": {
         "anchor": "y",
         "domain": [
          0,
          0.45
         ],
         "title": {
          "text": "Iterations"
         }
        },
        "xaxis2": {
         "anchor": "y2",
         "domain": [
          0.55,
          1
         ],
         "title": {
          "text": "Iterations"
         }
        },
        "yaxis": {
         "anchor": "x",
         "domain": [
          0,
          1
         ]
        },
        "yaxis2": {
         "anchor": "x2",
         "domain": [
          0,
          1
         ]
        }
       }
      }
     },
     "metadata": {},
     "output_type": "display_data"
    }
   ],
   "source": [
    "i = 40\n",
    "\n",
    "\n",
    "fig = make_subplots(rows=1, cols=2, subplot_titles=['Number of communities', 'Number of features'])\n",
    "\n",
    "fig.add_trace(go.Scatter(\n",
    "    x=np.arange(1,i+1),\n",
    "    y=[len(i) for i in qqcoms][:i],\n",
    "    mode='lines+markers',\n",
    "    name='Proteomics', marker_color=palette[0]\n",
    "), col=1, row=1)\n",
    "fig.add_trace(go.Scatter(\n",
    "    x=np.arange(1,i+1),\n",
    "    y=[len(i) for i in mmcoms][:i],\n",
    "    mode='lines+markers',\n",
    "    name='Metabolomics', marker_color=palette[1]\n",
    "), col=1, row=1)\n",
    "\n",
    "fig.add_trace(go.Scatter(\n",
    "    x=np.arange(1,i+1),\n",
    "    y=[sum([len(j) for j in i]) for i in qqcoms][:i],\n",
    "    mode='lines+markers',\n",
    "    name='Proteomics', marker_color=palette[0]\n",
    "), col=2, row=1)\n",
    "fig.add_trace(go.Scatter(\n",
    "    x=np.arange(1,i+1),\n",
    "    y=[sum([len(j) for j in i]) for i in mmcoms][:i],\n",
    "    mode='lines+markers',\n",
    "    name='Metabolomics', marker_color=palette[1]\n",
    "), col=2, row=1)\n",
    "\n",
    "fig.add_vline(x=qqThr+1,line_width=1, line_dash=\"dot\", line_color=\"black\", \n",
    "              annotation_text='Prot. Thr.', annotation_position='bottom right')\n",
    "fig.add_vline(x=mmThr+1,line_width=1, line_dash=\"dot\", line_color=\"black\", \n",
    "              annotation_text='Metab. Thr.', annotation_position='top right')\n",
    "\n",
    "fig.update_xaxes(title='Iterations')\n",
    "\n",
    "fig.show()\n",
    "with open(file, 'a') as f:\n",
    "    f.write(fig.to_html(full_html=False, include_plotlyjs='cdn', default_height='50%', default_width='80%'))"
   ]
  },
  {
   "cell_type": "code",
   "execution_count": 46,
   "metadata": {},
   "outputs": [],
   "source": [
    "qqcom = qqcoms[qqThr]\n",
    "mmcom = mmcoms[mmThr]"
   ]
  },
  {
   "cell_type": "code",
   "execution_count": 73,
   "metadata": {},
   "outputs": [
    {
     "data": {
      "application/vnd.plotly.v1+json": {
       "config": {
        "plotlyServerURL": "https://plot.ly"
       },
       "data": [
        {
         "showlegend": false,
         "type": "bar",
         "width": 0.1,
         "x": [
          "0",
          "1",
          "2",
          "3",
          "4"
         ],
         "xaxis": "x",
         "y": [
          37,
          15,
          33,
          14,
          15
         ],
         "yaxis": "y"
        },
        {
         "showlegend": false,
         "type": "bar",
         "width": 0.2,
         "x": [
          "4",
          "6",
          "20",
          "21"
         ],
         "xaxis": "x2",
         "y": [
          68,
          62,
          11,
          11
         ],
         "yaxis": "y2"
        }
       ],
       "layout": {
        "annotations": [
         {
          "font": {
           "size": 16
          },
          "showarrow": false,
          "text": "Proteomics",
          "x": 0.225,
          "xanchor": "center",
          "xref": "paper",
          "y": 1,
          "yanchor": "bottom",
          "yref": "paper"
         },
         {
          "font": {
           "size": 16
          },
          "showarrow": false,
          "text": "Metabolomics",
          "x": 0.775,
          "xanchor": "center",
          "xref": "paper",
          "y": 1,
          "yanchor": "bottom",
          "yref": "paper"
         }
        ],
        "template": {
         "data": {
          "bar": [
           {
            "error_x": {
             "color": "#2a3f5f"
            },
            "error_y": {
             "color": "#2a3f5f"
            },
            "marker": {
             "line": {
              "color": "#E5ECF6",
              "width": 0.5
             },
             "pattern": {
              "fillmode": "overlay",
              "size": 10,
              "solidity": 0.2
             }
            },
            "type": "bar"
           }
          ],
          "barpolar": [
           {
            "marker": {
             "line": {
              "color": "#E5ECF6",
              "width": 0.5
             },
             "pattern": {
              "fillmode": "overlay",
              "size": 10,
              "solidity": 0.2
             }
            },
            "type": "barpolar"
           }
          ],
          "carpet": [
           {
            "aaxis": {
             "endlinecolor": "#2a3f5f",
             "gridcolor": "white",
             "linecolor": "white",
             "minorgridcolor": "white",
             "startlinecolor": "#2a3f5f"
            },
            "baxis": {
             "endlinecolor": "#2a3f5f",
             "gridcolor": "white",
             "linecolor": "white",
             "minorgridcolor": "white",
             "startlinecolor": "#2a3f5f"
            },
            "type": "carpet"
           }
          ],
          "choropleth": [
           {
            "colorbar": {
             "outlinewidth": 0,
             "ticks": ""
            },
            "type": "choropleth"
           }
          ],
          "contour": [
           {
            "colorbar": {
             "outlinewidth": 0,
             "ticks": ""
            },
            "colorscale": [
             [
              0,
              "#0d0887"
             ],
             [
              0.1111111111111111,
              "#46039f"
             ],
             [
              0.2222222222222222,
              "#7201a8"
             ],
             [
              0.3333333333333333,
              "#9c179e"
             ],
             [
              0.4444444444444444,
              "#bd3786"
             ],
             [
              0.5555555555555556,
              "#d8576b"
             ],
             [
              0.6666666666666666,
              "#ed7953"
             ],
             [
              0.7777777777777778,
              "#fb9f3a"
             ],
             [
              0.8888888888888888,
              "#fdca26"
             ],
             [
              1,
              "#f0f921"
             ]
            ],
            "type": "contour"
           }
          ],
          "contourcarpet": [
           {
            "colorbar": {
             "outlinewidth": 0,
             "ticks": ""
            },
            "type": "contourcarpet"
           }
          ],
          "heatmap": [
           {
            "colorbar": {
             "outlinewidth": 0,
             "ticks": ""
            },
            "colorscale": [
             [
              0,
              "#0d0887"
             ],
             [
              0.1111111111111111,
              "#46039f"
             ],
             [
              0.2222222222222222,
              "#7201a8"
             ],
             [
              0.3333333333333333,
              "#9c179e"
             ],
             [
              0.4444444444444444,
              "#bd3786"
             ],
             [
              0.5555555555555556,
              "#d8576b"
             ],
             [
              0.6666666666666666,
              "#ed7953"
             ],
             [
              0.7777777777777778,
              "#fb9f3a"
             ],
             [
              0.8888888888888888,
              "#fdca26"
             ],
             [
              1,
              "#f0f921"
             ]
            ],
            "type": "heatmap"
           }
          ],
          "heatmapgl": [
           {
            "colorbar": {
             "outlinewidth": 0,
             "ticks": ""
            },
            "colorscale": [
             [
              0,
              "#0d0887"
             ],
             [
              0.1111111111111111,
              "#46039f"
             ],
             [
              0.2222222222222222,
              "#7201a8"
             ],
             [
              0.3333333333333333,
              "#9c179e"
             ],
             [
              0.4444444444444444,
              "#bd3786"
             ],
             [
              0.5555555555555556,
              "#d8576b"
             ],
             [
              0.6666666666666666,
              "#ed7953"
             ],
             [
              0.7777777777777778,
              "#fb9f3a"
             ],
             [
              0.8888888888888888,
              "#fdca26"
             ],
             [
              1,
              "#f0f921"
             ]
            ],
            "type": "heatmapgl"
           }
          ],
          "histogram": [
           {
            "marker": {
             "pattern": {
              "fillmode": "overlay",
              "size": 10,
              "solidity": 0.2
             }
            },
            "type": "histogram"
           }
          ],
          "histogram2d": [
           {
            "colorbar": {
             "outlinewidth": 0,
             "ticks": ""
            },
            "colorscale": [
             [
              0,
              "#0d0887"
             ],
             [
              0.1111111111111111,
              "#46039f"
             ],
             [
              0.2222222222222222,
              "#7201a8"
             ],
             [
              0.3333333333333333,
              "#9c179e"
             ],
             [
              0.4444444444444444,
              "#bd3786"
             ],
             [
              0.5555555555555556,
              "#d8576b"
             ],
             [
              0.6666666666666666,
              "#ed7953"
             ],
             [
              0.7777777777777778,
              "#fb9f3a"
             ],
             [
              0.8888888888888888,
              "#fdca26"
             ],
             [
              1,
              "#f0f921"
             ]
            ],
            "type": "histogram2d"
           }
          ],
          "histogram2dcontour": [
           {
            "colorbar": {
             "outlinewidth": 0,
             "ticks": ""
            },
            "colorscale": [
             [
              0,
              "#0d0887"
             ],
             [
              0.1111111111111111,
              "#46039f"
             ],
             [
              0.2222222222222222,
              "#7201a8"
             ],
             [
              0.3333333333333333,
              "#9c179e"
             ],
             [
              0.4444444444444444,
              "#bd3786"
             ],
             [
              0.5555555555555556,
              "#d8576b"
             ],
             [
              0.6666666666666666,
              "#ed7953"
             ],
             [
              0.7777777777777778,
              "#fb9f3a"
             ],
             [
              0.8888888888888888,
              "#fdca26"
             ],
             [
              1,
              "#f0f921"
             ]
            ],
            "type": "histogram2dcontour"
           }
          ],
          "mesh3d": [
           {
            "colorbar": {
             "outlinewidth": 0,
             "ticks": ""
            },
            "type": "mesh3d"
           }
          ],
          "parcoords": [
           {
            "line": {
             "colorbar": {
              "outlinewidth": 0,
              "ticks": ""
             }
            },
            "type": "parcoords"
           }
          ],
          "pie": [
           {
            "automargin": true,
            "type": "pie"
           }
          ],
          "scatter": [
           {
            "fillpattern": {
             "fillmode": "overlay",
             "size": 10,
             "solidity": 0.2
            },
            "type": "scatter"
           }
          ],
          "scatter3d": [
           {
            "line": {
             "colorbar": {
              "outlinewidth": 0,
              "ticks": ""
             }
            },
            "marker": {
             "colorbar": {
              "outlinewidth": 0,
              "ticks": ""
             }
            },
            "type": "scatter3d"
           }
          ],
          "scattercarpet": [
           {
            "marker": {
             "colorbar": {
              "outlinewidth": 0,
              "ticks": ""
             }
            },
            "type": "scattercarpet"
           }
          ],
          "scattergeo": [
           {
            "marker": {
             "colorbar": {
              "outlinewidth": 0,
              "ticks": ""
             }
            },
            "type": "scattergeo"
           }
          ],
          "scattergl": [
           {
            "marker": {
             "colorbar": {
              "outlinewidth": 0,
              "ticks": ""
             }
            },
            "type": "scattergl"
           }
          ],
          "scattermapbox": [
           {
            "marker": {
             "colorbar": {
              "outlinewidth": 0,
              "ticks": ""
             }
            },
            "type": "scattermapbox"
           }
          ],
          "scatterpolar": [
           {
            "marker": {
             "colorbar": {
              "outlinewidth": 0,
              "ticks": ""
             }
            },
            "type": "scatterpolar"
           }
          ],
          "scatterpolargl": [
           {
            "marker": {
             "colorbar": {
              "outlinewidth": 0,
              "ticks": ""
             }
            },
            "type": "scatterpolargl"
           }
          ],
          "scatterternary": [
           {
            "marker": {
             "colorbar": {
              "outlinewidth": 0,
              "ticks": ""
             }
            },
            "type": "scatterternary"
           }
          ],
          "surface": [
           {
            "colorbar": {
             "outlinewidth": 0,
             "ticks": ""
            },
            "colorscale": [
             [
              0,
              "#0d0887"
             ],
             [
              0.1111111111111111,
              "#46039f"
             ],
             [
              0.2222222222222222,
              "#7201a8"
             ],
             [
              0.3333333333333333,
              "#9c179e"
             ],
             [
              0.4444444444444444,
              "#bd3786"
             ],
             [
              0.5555555555555556,
              "#d8576b"
             ],
             [
              0.6666666666666666,
              "#ed7953"
             ],
             [
              0.7777777777777778,
              "#fb9f3a"
             ],
             [
              0.8888888888888888,
              "#fdca26"
             ],
             [
              1,
              "#f0f921"
             ]
            ],
            "type": "surface"
           }
          ],
          "table": [
           {
            "cells": {
             "fill": {
              "color": "#EBF0F8"
             },
             "line": {
              "color": "white"
             }
            },
            "header": {
             "fill": {
              "color": "#C8D4E3"
             },
             "line": {
              "color": "white"
             }
            },
            "type": "table"
           }
          ]
         },
         "layout": {
          "annotationdefaults": {
           "arrowcolor": "#2a3f5f",
           "arrowhead": 0,
           "arrowwidth": 1
          },
          "autotypenumbers": "strict",
          "coloraxis": {
           "colorbar": {
            "outlinewidth": 0,
            "ticks": ""
           }
          },
          "colorscale": {
           "diverging": [
            [
             0,
             "#8e0152"
            ],
            [
             0.1,
             "#c51b7d"
            ],
            [
             0.2,
             "#de77ae"
            ],
            [
             0.3,
             "#f1b6da"
            ],
            [
             0.4,
             "#fde0ef"
            ],
            [
             0.5,
             "#f7f7f7"
            ],
            [
             0.6,
             "#e6f5d0"
            ],
            [
             0.7,
             "#b8e186"
            ],
            [
             0.8,
             "#7fbc41"
            ],
            [
             0.9,
             "#4d9221"
            ],
            [
             1,
             "#276419"
            ]
           ],
           "sequential": [
            [
             0,
             "#0d0887"
            ],
            [
             0.1111111111111111,
             "#46039f"
            ],
            [
             0.2222222222222222,
             "#7201a8"
            ],
            [
             0.3333333333333333,
             "#9c179e"
            ],
            [
             0.4444444444444444,
             "#bd3786"
            ],
            [
             0.5555555555555556,
             "#d8576b"
            ],
            [
             0.6666666666666666,
             "#ed7953"
            ],
            [
             0.7777777777777778,
             "#fb9f3a"
            ],
            [
             0.8888888888888888,
             "#fdca26"
            ],
            [
             1,
             "#f0f921"
            ]
           ],
           "sequentialminus": [
            [
             0,
             "#0d0887"
            ],
            [
             0.1111111111111111,
             "#46039f"
            ],
            [
             0.2222222222222222,
             "#7201a8"
            ],
            [
             0.3333333333333333,
             "#9c179e"
            ],
            [
             0.4444444444444444,
             "#bd3786"
            ],
            [
             0.5555555555555556,
             "#d8576b"
            ],
            [
             0.6666666666666666,
             "#ed7953"
            ],
            [
             0.7777777777777778,
             "#fb9f3a"
            ],
            [
             0.8888888888888888,
             "#fdca26"
            ],
            [
             1,
             "#f0f921"
            ]
           ]
          },
          "colorway": [
           "#636efa",
           "#EF553B",
           "#00cc96",
           "#ab63fa",
           "#FFA15A",
           "#19d3f3",
           "#FF6692",
           "#B6E880",
           "#FF97FF",
           "#FECB52"
          ],
          "font": {
           "color": "#2a3f5f"
          },
          "geo": {
           "bgcolor": "white",
           "lakecolor": "white",
           "landcolor": "#E5ECF6",
           "showlakes": true,
           "showland": true,
           "subunitcolor": "white"
          },
          "hoverlabel": {
           "align": "left"
          },
          "hovermode": "closest",
          "mapbox": {
           "style": "light"
          },
          "paper_bgcolor": "white",
          "plot_bgcolor": "#E5ECF6",
          "polar": {
           "angularaxis": {
            "gridcolor": "white",
            "linecolor": "white",
            "ticks": ""
           },
           "bgcolor": "#E5ECF6",
           "radialaxis": {
            "gridcolor": "white",
            "linecolor": "white",
            "ticks": ""
           }
          },
          "scene": {
           "xaxis": {
            "backgroundcolor": "#E5ECF6",
            "gridcolor": "white",
            "gridwidth": 2,
            "linecolor": "white",
            "showbackground": true,
            "ticks": "",
            "zerolinecolor": "white"
           },
           "yaxis": {
            "backgroundcolor": "#E5ECF6",
            "gridcolor": "white",
            "gridwidth": 2,
            "linecolor": "white",
            "showbackground": true,
            "ticks": "",
            "zerolinecolor": "white"
           },
           "zaxis": {
            "backgroundcolor": "#E5ECF6",
            "gridcolor": "white",
            "gridwidth": 2,
            "linecolor": "white",
            "showbackground": true,
            "ticks": "",
            "zerolinecolor": "white"
           }
          },
          "shapedefaults": {
           "line": {
            "color": "#2a3f5f"
           }
          },
          "ternary": {
           "aaxis": {
            "gridcolor": "white",
            "linecolor": "white",
            "ticks": ""
           },
           "baxis": {
            "gridcolor": "white",
            "linecolor": "white",
            "ticks": ""
           },
           "bgcolor": "#E5ECF6",
           "caxis": {
            "gridcolor": "white",
            "linecolor": "white",
            "ticks": ""
           }
          },
          "title": {
           "x": 0.05
          },
          "xaxis": {
           "automargin": true,
           "gridcolor": "white",
           "linecolor": "white",
           "ticks": "",
           "title": {
            "standoff": 15
           },
           "zerolinecolor": "white",
           "zerolinewidth": 2
          },
          "yaxis": {
           "automargin": true,
           "gridcolor": "white",
           "linecolor": "white",
           "ticks": "",
           "title": {
            "standoff": 15
           },
           "zerolinecolor": "white",
           "zerolinewidth": 2
          }
         }
        },
        "xaxis": {
         "anchor": "y",
         "domain": [
          0,
          0.45
         ],
         "title": {
          "text": "Cluster"
         }
        },
        "xaxis2": {
         "anchor": "y2",
         "domain": [
          0.55,
          1
         ],
         "title": {
          "text": "Cluster"
         }
        },
        "yaxis": {
         "anchor": "x",
         "domain": [
          0,
          1
         ],
         "title": {
          "text": "N. Features"
         }
        },
        "yaxis2": {
         "anchor": "x2",
         "domain": [
          0,
          1
         ],
         "title": {
          "text": "N. Features"
         }
        }
       }
      }
     },
     "metadata": {},
     "output_type": "display_data"
    }
   ],
   "source": [
    "# Number of features per cluster\n",
    "\n",
    "fig = make_subplots(rows=1, cols=2, subplot_titles=['Proteomics', 'Metabolomics'])\n",
    "fig.add_trace(go.Bar(\n",
    "    x=[str(i) for i in range(len(qqcom))],\n",
    "    y=[len(i) for i in qqcom], width=0.1, showlegend=False\n",
    "), row=1, col=1)\n",
    "\n",
    "mmcl = [4,6,20,21]\n",
    "fig.add_trace(go.Bar(\n",
    "    x=[str(i) for i in range(len(mmcom)) if i in mmcl],\n",
    "    y=[len(i) for n,i in enumerate(mmcom) if n in mmcl], width=0.2, showlegend=False\n",
    "), row=1, col=2)\n",
    "fig.update_xaxes(title='Cluster')\n",
    "fig.update_yaxes(title='N. Features')\n",
    "\n",
    "fig.show()\n",
    "with open(file, 'a') as f:\n",
    "    f.write(fig.to_html(full_html=False, include_plotlyjs='cdn', default_height='50%', default_width='80%'))"
   ]
  },
  {
   "cell_type": "code",
   "execution_count": 48,
   "metadata": {},
   "outputs": [],
   "source": [
    "# import socket\n",
    "# import json\n",
    "\n",
    "# json_data = json.dumps(qqcom)\n",
    "# s = socket.socket(socket.AF_INET, socket.SOCK_STREAM)\n",
    "# s.connect(('127.0.0.1', 8080))\n",
    "# s.send(json_data.encode())"
   ]
  },
  {
   "attachments": {},
   "cell_type": "markdown",
   "metadata": {},
   "source": [
    "Module Eigenvector"
   ]
  },
  {
   "cell_type": "code",
   "execution_count": 71,
   "metadata": {},
   "outputs": [
    {
     "data": {
      "application/vnd.plotly.v1+json": {
       "config": {
        "plotlyServerURL": "https://plot.ly"
       },
       "data": [
        {
         "showlegend": false,
         "type": "bar",
         "width": 0.1,
         "x": [
          "0",
          "1",
          "2",
          "3",
          "4"
         ],
         "xaxis": "x",
         "y": [
          0.2462464585345518,
          0.2927599887518714,
          0.2314861328863793,
          0.3220611538384226,
          0.24343609327194107
         ],
         "yaxis": "y"
        },
        {
         "showlegend": false,
         "type": "bar",
         "width": 0.2,
         "x": [
          "0",
          "1",
          "2",
          "3",
          "4",
          "5",
          "6",
          "7",
          "8",
          "9",
          "10",
          "11",
          "12",
          "13",
          "14",
          "15",
          "16",
          "17",
          "18",
          "19",
          "20",
          "21"
         ],
         "xaxis": "x2",
         "y": [
          0.37472977761314186,
          0.4646629955382477,
          0.6737953456148106,
          0.2968938750732011,
          0.5250991739280021,
          0.6010177603270356,
          0.248715028098326,
          0.27671080892877437,
          0.6056461319628874,
          0.5614267972684661,
          0.6303808535291137,
          0.5723798543848567,
          0.7405737718821203,
          0.8500913526376551,
          0.7361900418109658,
          0.7739305792009741,
          0.6765510073852624,
          0.6448709218220036,
          0.7074571255669609,
          0.7360796368156153,
          0.6193929279305372,
          0.777440607178395
         ],
         "yaxis": "y2"
        }
       ],
       "layout": {
        "annotations": [
         {
          "font": {
           "size": 16
          },
          "showarrow": false,
          "text": "Proteomics",
          "x": 0.225,
          "xanchor": "center",
          "xref": "paper",
          "y": 1,
          "yanchor": "bottom",
          "yref": "paper"
         },
         {
          "font": {
           "size": 16
          },
          "showarrow": false,
          "text": "Metabolomics",
          "x": 0.775,
          "xanchor": "center",
          "xref": "paper",
          "y": 1,
          "yanchor": "bottom",
          "yref": "paper"
         }
        ],
        "template": {
         "data": {
          "bar": [
           {
            "error_x": {
             "color": "#2a3f5f"
            },
            "error_y": {
             "color": "#2a3f5f"
            },
            "marker": {
             "line": {
              "color": "#E5ECF6",
              "width": 0.5
             },
             "pattern": {
              "fillmode": "overlay",
              "size": 10,
              "solidity": 0.2
             }
            },
            "type": "bar"
           }
          ],
          "barpolar": [
           {
            "marker": {
             "line": {
              "color": "#E5ECF6",
              "width": 0.5
             },
             "pattern": {
              "fillmode": "overlay",
              "size": 10,
              "solidity": 0.2
             }
            },
            "type": "barpolar"
           }
          ],
          "carpet": [
           {
            "aaxis": {
             "endlinecolor": "#2a3f5f",
             "gridcolor": "white",
             "linecolor": "white",
             "minorgridcolor": "white",
             "startlinecolor": "#2a3f5f"
            },
            "baxis": {
             "endlinecolor": "#2a3f5f",
             "gridcolor": "white",
             "linecolor": "white",
             "minorgridcolor": "white",
             "startlinecolor": "#2a3f5f"
            },
            "type": "carpet"
           }
          ],
          "choropleth": [
           {
            "colorbar": {
             "outlinewidth": 0,
             "ticks": ""
            },
            "type": "choropleth"
           }
          ],
          "contour": [
           {
            "colorbar": {
             "outlinewidth": 0,
             "ticks": ""
            },
            "colorscale": [
             [
              0,
              "#0d0887"
             ],
             [
              0.1111111111111111,
              "#46039f"
             ],
             [
              0.2222222222222222,
              "#7201a8"
             ],
             [
              0.3333333333333333,
              "#9c179e"
             ],
             [
              0.4444444444444444,
              "#bd3786"
             ],
             [
              0.5555555555555556,
              "#d8576b"
             ],
             [
              0.6666666666666666,
              "#ed7953"
             ],
             [
              0.7777777777777778,
              "#fb9f3a"
             ],
             [
              0.8888888888888888,
              "#fdca26"
             ],
             [
              1,
              "#f0f921"
             ]
            ],
            "type": "contour"
           }
          ],
          "contourcarpet": [
           {
            "colorbar": {
             "outlinewidth": 0,
             "ticks": ""
            },
            "type": "contourcarpet"
           }
          ],
          "heatmap": [
           {
            "colorbar": {
             "outlinewidth": 0,
             "ticks": ""
            },
            "colorscale": [
             [
              0,
              "#0d0887"
             ],
             [
              0.1111111111111111,
              "#46039f"
             ],
             [
              0.2222222222222222,
              "#7201a8"
             ],
             [
              0.3333333333333333,
              "#9c179e"
             ],
             [
              0.4444444444444444,
              "#bd3786"
             ],
             [
              0.5555555555555556,
              "#d8576b"
             ],
             [
              0.6666666666666666,
              "#ed7953"
             ],
             [
              0.7777777777777778,
              "#fb9f3a"
             ],
             [
              0.8888888888888888,
              "#fdca26"
             ],
             [
              1,
              "#f0f921"
             ]
            ],
            "type": "heatmap"
           }
          ],
          "heatmapgl": [
           {
            "colorbar": {
             "outlinewidth": 0,
             "ticks": ""
            },
            "colorscale": [
             [
              0,
              "#0d0887"
             ],
             [
              0.1111111111111111,
              "#46039f"
             ],
             [
              0.2222222222222222,
              "#7201a8"
             ],
             [
              0.3333333333333333,
              "#9c179e"
             ],
             [
              0.4444444444444444,
              "#bd3786"
             ],
             [
              0.5555555555555556,
              "#d8576b"
             ],
             [
              0.6666666666666666,
              "#ed7953"
             ],
             [
              0.7777777777777778,
              "#fb9f3a"
             ],
             [
              0.8888888888888888,
              "#fdca26"
             ],
             [
              1,
              "#f0f921"
             ]
            ],
            "type": "heatmapgl"
           }
          ],
          "histogram": [
           {
            "marker": {
             "pattern": {
              "fillmode": "overlay",
              "size": 10,
              "solidity": 0.2
             }
            },
            "type": "histogram"
           }
          ],
          "histogram2d": [
           {
            "colorbar": {
             "outlinewidth": 0,
             "ticks": ""
            },
            "colorscale": [
             [
              0,
              "#0d0887"
             ],
             [
              0.1111111111111111,
              "#46039f"
             ],
             [
              0.2222222222222222,
              "#7201a8"
             ],
             [
              0.3333333333333333,
              "#9c179e"
             ],
             [
              0.4444444444444444,
              "#bd3786"
             ],
             [
              0.5555555555555556,
              "#d8576b"
             ],
             [
              0.6666666666666666,
              "#ed7953"
             ],
             [
              0.7777777777777778,
              "#fb9f3a"
             ],
             [
              0.8888888888888888,
              "#fdca26"
             ],
             [
              1,
              "#f0f921"
             ]
            ],
            "type": "histogram2d"
           }
          ],
          "histogram2dcontour": [
           {
            "colorbar": {
             "outlinewidth": 0,
             "ticks": ""
            },
            "colorscale": [
             [
              0,
              "#0d0887"
             ],
             [
              0.1111111111111111,
              "#46039f"
             ],
             [
              0.2222222222222222,
              "#7201a8"
             ],
             [
              0.3333333333333333,
              "#9c179e"
             ],
             [
              0.4444444444444444,
              "#bd3786"
             ],
             [
              0.5555555555555556,
              "#d8576b"
             ],
             [
              0.6666666666666666,
              "#ed7953"
             ],
             [
              0.7777777777777778,
              "#fb9f3a"
             ],
             [
              0.8888888888888888,
              "#fdca26"
             ],
             [
              1,
              "#f0f921"
             ]
            ],
            "type": "histogram2dcontour"
           }
          ],
          "mesh3d": [
           {
            "colorbar": {
             "outlinewidth": 0,
             "ticks": ""
            },
            "type": "mesh3d"
           }
          ],
          "parcoords": [
           {
            "line": {
             "colorbar": {
              "outlinewidth": 0,
              "ticks": ""
             }
            },
            "type": "parcoords"
           }
          ],
          "pie": [
           {
            "automargin": true,
            "type": "pie"
           }
          ],
          "scatter": [
           {
            "fillpattern": {
             "fillmode": "overlay",
             "size": 10,
             "solidity": 0.2
            },
            "type": "scatter"
           }
          ],
          "scatter3d": [
           {
            "line": {
             "colorbar": {
              "outlinewidth": 0,
              "ticks": ""
             }
            },
            "marker": {
             "colorbar": {
              "outlinewidth": 0,
              "ticks": ""
             }
            },
            "type": "scatter3d"
           }
          ],
          "scattercarpet": [
           {
            "marker": {
             "colorbar": {
              "outlinewidth": 0,
              "ticks": ""
             }
            },
            "type": "scattercarpet"
           }
          ],
          "scattergeo": [
           {
            "marker": {
             "colorbar": {
              "outlinewidth": 0,
              "ticks": ""
             }
            },
            "type": "scattergeo"
           }
          ],
          "scattergl": [
           {
            "marker": {
             "colorbar": {
              "outlinewidth": 0,
              "ticks": ""
             }
            },
            "type": "scattergl"
           }
          ],
          "scattermapbox": [
           {
            "marker": {
             "colorbar": {
              "outlinewidth": 0,
              "ticks": ""
             }
            },
            "type": "scattermapbox"
           }
          ],
          "scatterpolar": [
           {
            "marker": {
             "colorbar": {
              "outlinewidth": 0,
              "ticks": ""
             }
            },
            "type": "scatterpolar"
           }
          ],
          "scatterpolargl": [
           {
            "marker": {
             "colorbar": {
              "outlinewidth": 0,
              "ticks": ""
             }
            },
            "type": "scatterpolargl"
           }
          ],
          "scatterternary": [
           {
            "marker": {
             "colorbar": {
              "outlinewidth": 0,
              "ticks": ""
             }
            },
            "type": "scatterternary"
           }
          ],
          "surface": [
           {
            "colorbar": {
             "outlinewidth": 0,
             "ticks": ""
            },
            "colorscale": [
             [
              0,
              "#0d0887"
             ],
             [
              0.1111111111111111,
              "#46039f"
             ],
             [
              0.2222222222222222,
              "#7201a8"
             ],
             [
              0.3333333333333333,
              "#9c179e"
             ],
             [
              0.4444444444444444,
              "#bd3786"
             ],
             [
              0.5555555555555556,
              "#d8576b"
             ],
             [
              0.6666666666666666,
              "#ed7953"
             ],
             [
              0.7777777777777778,
              "#fb9f3a"
             ],
             [
              0.8888888888888888,
              "#fdca26"
             ],
             [
              1,
              "#f0f921"
             ]
            ],
            "type": "surface"
           }
          ],
          "table": [
           {
            "cells": {
             "fill": {
              "color": "#EBF0F8"
             },
             "line": {
              "color": "white"
             }
            },
            "header": {
             "fill": {
              "color": "#C8D4E3"
             },
             "line": {
              "color": "white"
             }
            },
            "type": "table"
           }
          ]
         },
         "layout": {
          "annotationdefaults": {
           "arrowcolor": "#2a3f5f",
           "arrowhead": 0,
           "arrowwidth": 1
          },
          "autotypenumbers": "strict",
          "coloraxis": {
           "colorbar": {
            "outlinewidth": 0,
            "ticks": ""
           }
          },
          "colorscale": {
           "diverging": [
            [
             0,
             "#8e0152"
            ],
            [
             0.1,
             "#c51b7d"
            ],
            [
             0.2,
             "#de77ae"
            ],
            [
             0.3,
             "#f1b6da"
            ],
            [
             0.4,
             "#fde0ef"
            ],
            [
             0.5,
             "#f7f7f7"
            ],
            [
             0.6,
             "#e6f5d0"
            ],
            [
             0.7,
             "#b8e186"
            ],
            [
             0.8,
             "#7fbc41"
            ],
            [
             0.9,
             "#4d9221"
            ],
            [
             1,
             "#276419"
            ]
           ],
           "sequential": [
            [
             0,
             "#0d0887"
            ],
            [
             0.1111111111111111,
             "#46039f"
            ],
            [
             0.2222222222222222,
             "#7201a8"
            ],
            [
             0.3333333333333333,
             "#9c179e"
            ],
            [
             0.4444444444444444,
             "#bd3786"
            ],
            [
             0.5555555555555556,
             "#d8576b"
            ],
            [
             0.6666666666666666,
             "#ed7953"
            ],
            [
             0.7777777777777778,
             "#fb9f3a"
            ],
            [
             0.8888888888888888,
             "#fdca26"
            ],
            [
             1,
             "#f0f921"
            ]
           ],
           "sequentialminus": [
            [
             0,
             "#0d0887"
            ],
            [
             0.1111111111111111,
             "#46039f"
            ],
            [
             0.2222222222222222,
             "#7201a8"
            ],
            [
             0.3333333333333333,
             "#9c179e"
            ],
            [
             0.4444444444444444,
             "#bd3786"
            ],
            [
             0.5555555555555556,
             "#d8576b"
            ],
            [
             0.6666666666666666,
             "#ed7953"
            ],
            [
             0.7777777777777778,
             "#fb9f3a"
            ],
            [
             0.8888888888888888,
             "#fdca26"
            ],
            [
             1,
             "#f0f921"
            ]
           ]
          },
          "colorway": [
           "#636efa",
           "#EF553B",
           "#00cc96",
           "#ab63fa",
           "#FFA15A",
           "#19d3f3",
           "#FF6692",
           "#B6E880",
           "#FF97FF",
           "#FECB52"
          ],
          "font": {
           "color": "#2a3f5f"
          },
          "geo": {
           "bgcolor": "white",
           "lakecolor": "white",
           "landcolor": "#E5ECF6",
           "showlakes": true,
           "showland": true,
           "subunitcolor": "white"
          },
          "hoverlabel": {
           "align": "left"
          },
          "hovermode": "closest",
          "mapbox": {
           "style": "light"
          },
          "paper_bgcolor": "white",
          "plot_bgcolor": "#E5ECF6",
          "polar": {
           "angularaxis": {
            "gridcolor": "white",
            "linecolor": "white",
            "ticks": ""
           },
           "bgcolor": "#E5ECF6",
           "radialaxis": {
            "gridcolor": "white",
            "linecolor": "white",
            "ticks": ""
           }
          },
          "scene": {
           "xaxis": {
            "backgroundcolor": "#E5ECF6",
            "gridcolor": "white",
            "gridwidth": 2,
            "linecolor": "white",
            "showbackground": true,
            "ticks": "",
            "zerolinecolor": "white"
           },
           "yaxis": {
            "backgroundcolor": "#E5ECF6",
            "gridcolor": "white",
            "gridwidth": 2,
            "linecolor": "white",
            "showbackground": true,
            "ticks": "",
            "zerolinecolor": "white"
           },
           "zaxis": {
            "backgroundcolor": "#E5ECF6",
            "gridcolor": "white",
            "gridwidth": 2,
            "linecolor": "white",
            "showbackground": true,
            "ticks": "",
            "zerolinecolor": "white"
           }
          },
          "shapedefaults": {
           "line": {
            "color": "#2a3f5f"
           }
          },
          "ternary": {
           "aaxis": {
            "gridcolor": "white",
            "linecolor": "white",
            "ticks": ""
           },
           "baxis": {
            "gridcolor": "white",
            "linecolor": "white",
            "ticks": ""
           },
           "bgcolor": "#E5ECF6",
           "caxis": {
            "gridcolor": "white",
            "linecolor": "white",
            "ticks": ""
           }
          },
          "title": {
           "x": 0.05
          },
          "xaxis": {
           "automargin": true,
           "gridcolor": "white",
           "linecolor": "white",
           "ticks": "",
           "title": {
            "standoff": 15
           },
           "zerolinecolor": "white",
           "zerolinewidth": 2
          },
          "yaxis": {
           "automargin": true,
           "gridcolor": "white",
           "linecolor": "white",
           "ticks": "",
           "title": {
            "standoff": 15
           },
           "zerolinecolor": "white",
           "zerolinewidth": 2
          }
         }
        },
        "title": {
         "text": "Ratio of Explained Variance in the 1st PC"
        },
        "xaxis": {
         "anchor": "y",
         "domain": [
          0,
          0.45
         ],
         "title": {
          "text": "Cluster"
         }
        },
        "xaxis2": {
         "anchor": "y2",
         "domain": [
          0.55,
          1
         ],
         "title": {
          "text": "Cluster"
         }
        },
        "yaxis": {
         "anchor": "x",
         "domain": [
          0,
          1
         ],
         "range": [
          0,
          1
         ]
        },
        "yaxis2": {
         "anchor": "x2",
         "domain": [
          0,
          1
         ],
         "range": [
          0,
          1
         ]
        }
       }
      }
     },
     "metadata": {},
     "output_type": "display_data"
    }
   ],
   "source": [
    "from sklearn.decomposition import PCA\n",
    "\n",
    "qqcomPCA = [PCA(n_components=1).fit(xq[com]) for com in qqcom]\n",
    "mmcomPCA = [PCA(n_components=1).fit(xm[com]) for com in mmcom]\n",
    "\n",
    "fig = make_subplots(rows=1, cols=2, subplot_titles=['Proteomics', 'Metabolomics'])\n",
    "fig.add_trace(go.Bar(\n",
    "    x=[str(i) for i in range(len(qqcom))],\n",
    "    y=[qqcomPCA[i].explained_variance_ratio_[0] for i in range(len(qqcom))], \n",
    "    width=0.1, showlegend=False\n",
    "), row=1, col=1)\n",
    "\n",
    "\n",
    "fig.add_trace(go.Bar(\n",
    "    x=[str(i) for i in range(len(mmcom))],\n",
    "    y=[mmcomPCA[i].explained_variance_ratio_[0] for i in range(len(mmcom))], \n",
    "    width=0.2, showlegend=False\n",
    "), row=1, col=2)\n",
    "\n",
    "fig.update_yaxes(range=(0,1))\n",
    "fig.update_xaxes(title='Cluster')\n",
    "fig.update_layout(title='Ratio of Explained Variance in the 1st PC')"
   ]
  },
  {
   "cell_type": "code",
   "execution_count": 50,
   "metadata": {},
   "outputs": [],
   "source": [
    "qqcomE = pd.DataFrame(\n",
    "    np.array([PCA(n_components=1).fit_transform(xq[com])[:,0] for com in qqcom]).T,\n",
    "    index=xq.index\n",
    ")\n",
    "\n",
    "mmcomE = pd.DataFrame(\n",
    "    np.array([PCA(n_components=1).fit_transform(xm[com])[:,0] for com in mmcom]).T,\n",
    "    index=xm.index\n",
    ")"
   ]
  },
  {
   "cell_type": "code",
   "execution_count": 51,
   "metadata": {},
   "outputs": [],
   "source": [
    "from PCA_UMAP import PCA_Var\n",
    "\n",
    "catVars = ['Group', 'Smoke_dummy']\n",
    "conVars = ['Calcium_Score', 'HDL', 'LDL', 'Total_Cholesterol','Ox-LDL','Lipoprotein a',\n",
    "           'CRP', 'Plaque_thickness','Framingham 10y','Framingham 30y','Systolic Blood Pressure',\n",
    "           'Diastolic Blood Pressure']\n",
    "\n",
    "qqCP = pd.concat([\n",
    "    PCA_Var(xq[com], mdata, conVars, catVars+['Cohort'], n_comp=1)\n",
    "    for com in qqcom\n",
    "]).reset_index(drop=True).T\n",
    "\n",
    "mmCP = pd.concat([\n",
    "    PCA_Var(xm[com], mdata, conVars, catVars+['Cohort'], n_comp=2).loc[[1]]\n",
    "    for com in mmcom\n",
    "]).reset_index(drop=True).T\n",
    "\n",
    "\n",
    "# Apply FDR B-H correction\n",
    "\n",
    "from statsmodels.stats.multitest import multipletests\n",
    "\n",
    "qqCPF = qqCP.iloc[1:, :].copy().T\n",
    "for i in qqCPF.columns:\n",
    "    qqCPF[i] = multipletests(qqCPF.loc[:,i], method='fdr_bh')[1]\n",
    "\n",
    "mmCPF = mmCP.iloc[1:, :].copy().T\n",
    "for i in mmCPF.columns:\n",
    "    mmCPF[i] = multipletests(mmCPF.loc[:,i], method='fdr_bh')[1]"
   ]
  },
  {
   "cell_type": "code",
   "execution_count": 69,
   "metadata": {},
   "outputs": [
    {
     "data": {
      "text/html": [
       "<div>\n",
       "<style scoped>\n",
       "    .dataframe tbody tr th:only-of-type {\n",
       "        vertical-align: middle;\n",
       "    }\n",
       "\n",
       "    .dataframe tbody tr th {\n",
       "        vertical-align: top;\n",
       "    }\n",
       "\n",
       "    .dataframe thead th {\n",
       "        text-align: right;\n",
       "    }\n",
       "</style>\n",
       "<table border=\"1\" class=\"dataframe\">\n",
       "  <thead>\n",
       "    <tr style=\"text-align: right;\">\n",
       "      <th></th>\n",
       "      <th>10</th>\n",
       "      <th>11</th>\n",
       "      <th>12</th>\n",
       "      <th>13</th>\n",
       "      <th>14</th>\n",
       "      <th>15</th>\n",
       "      <th>16</th>\n",
       "      <th>17</th>\n",
       "      <th>18</th>\n",
       "      <th>19</th>\n",
       "      <th>20</th>\n",
       "      <th>21</th>\n",
       "    </tr>\n",
       "  </thead>\n",
       "  <tbody>\n",
       "    <tr>\n",
       "      <th>Calcium_Score</th>\n",
       "      <td>0.984459</td>\n",
       "      <td>0.224568</td>\n",
       "      <td>0.121376</td>\n",
       "      <td>0.755498</td>\n",
       "      <td>0.755498</td>\n",
       "      <td>0.755498</td>\n",
       "      <td>0.755498</td>\n",
       "      <td>0.719862</td>\n",
       "      <td>0.559008</td>\n",
       "      <td>0.559008</td>\n",
       "      <td>1.142668e-02</td>\n",
       "      <td>1.028507e-01</td>\n",
       "    </tr>\n",
       "    <tr>\n",
       "      <th>HDL</th>\n",
       "      <td>0.001193</td>\n",
       "      <td>0.454819</td>\n",
       "      <td>0.501365</td>\n",
       "      <td>0.002700</td>\n",
       "      <td>0.937431</td>\n",
       "      <td>0.937431</td>\n",
       "      <td>0.501063</td>\n",
       "      <td>0.797933</td>\n",
       "      <td>0.428724</td>\n",
       "      <td>0.937431</td>\n",
       "      <td>2.806867e-02</td>\n",
       "      <td>3.325185e-25</td>\n",
       "    </tr>\n",
       "    <tr>\n",
       "      <th>LDL</th>\n",
       "      <td>0.295739</td>\n",
       "      <td>0.997812</td>\n",
       "      <td>0.591630</td>\n",
       "      <td>0.000403</td>\n",
       "      <td>0.560855</td>\n",
       "      <td>0.050137</td>\n",
       "      <td>0.000020</td>\n",
       "      <td>0.213308</td>\n",
       "      <td>0.955782</td>\n",
       "      <td>0.087568</td>\n",
       "      <td>3.470535e-01</td>\n",
       "      <td>5.952995e-01</td>\n",
       "    </tr>\n",
       "    <tr>\n",
       "      <th>Total_Cholesterol</th>\n",
       "      <td>0.965364</td>\n",
       "      <td>0.965364</td>\n",
       "      <td>0.733944</td>\n",
       "      <td>0.000217</td>\n",
       "      <td>0.610684</td>\n",
       "      <td>0.038207</td>\n",
       "      <td>0.000023</td>\n",
       "      <td>0.610684</td>\n",
       "      <td>0.930227</td>\n",
       "      <td>0.129676</td>\n",
       "      <td>9.653640e-01</td>\n",
       "      <td>6.106845e-01</td>\n",
       "    </tr>\n",
       "    <tr>\n",
       "      <th>Ox-LDL</th>\n",
       "      <td>0.488430</td>\n",
       "      <td>0.629136</td>\n",
       "      <td>0.908805</td>\n",
       "      <td>0.066926</td>\n",
       "      <td>0.656726</td>\n",
       "      <td>0.057917</td>\n",
       "      <td>0.066926</td>\n",
       "      <td>0.629136</td>\n",
       "      <td>0.488430</td>\n",
       "      <td>0.488430</td>\n",
       "      <td>6.291359e-01</td>\n",
       "      <td>3.407194e-03</td>\n",
       "    </tr>\n",
       "    <tr>\n",
       "      <th>Lipoprotein a</th>\n",
       "      <td>0.987602</td>\n",
       "      <td>0.987602</td>\n",
       "      <td>0.987602</td>\n",
       "      <td>0.987602</td>\n",
       "      <td>0.987602</td>\n",
       "      <td>0.987602</td>\n",
       "      <td>0.987602</td>\n",
       "      <td>0.987602</td>\n",
       "      <td>0.987602</td>\n",
       "      <td>0.987602</td>\n",
       "      <td>9.876022e-01</td>\n",
       "      <td>9.876022e-01</td>\n",
       "    </tr>\n",
       "    <tr>\n",
       "      <th>CRP</th>\n",
       "      <td>0.198141</td>\n",
       "      <td>0.337973</td>\n",
       "      <td>0.091609</td>\n",
       "      <td>0.391530</td>\n",
       "      <td>0.741461</td>\n",
       "      <td>0.337973</td>\n",
       "      <td>0.002784</td>\n",
       "      <td>0.337973</td>\n",
       "      <td>0.337973</td>\n",
       "      <td>0.337973</td>\n",
       "      <td>9.931380e-03</td>\n",
       "      <td>9.160925e-02</td>\n",
       "    </tr>\n",
       "    <tr>\n",
       "      <th>Plaque_thickness</th>\n",
       "      <td>0.732485</td>\n",
       "      <td>0.919827</td>\n",
       "      <td>0.812775</td>\n",
       "      <td>0.812775</td>\n",
       "      <td>0.732485</td>\n",
       "      <td>0.916310</td>\n",
       "      <td>0.812775</td>\n",
       "      <td>0.812775</td>\n",
       "      <td>0.177882</td>\n",
       "      <td>0.603756</td>\n",
       "      <td>4.460482e-04</td>\n",
       "      <td>1.647297e-02</td>\n",
       "    </tr>\n",
       "    <tr>\n",
       "      <th>Framingham 10y</th>\n",
       "      <td>0.188924</td>\n",
       "      <td>0.408702</td>\n",
       "      <td>0.408702</td>\n",
       "      <td>0.000008</td>\n",
       "      <td>0.915262</td>\n",
       "      <td>0.175559</td>\n",
       "      <td>0.002556</td>\n",
       "      <td>0.623296</td>\n",
       "      <td>0.096635</td>\n",
       "      <td>0.188924</td>\n",
       "      <td>3.685622e-06</td>\n",
       "      <td>1.363802e-15</td>\n",
       "    </tr>\n",
       "    <tr>\n",
       "      <th>Framingham 30y</th>\n",
       "      <td>0.221260</td>\n",
       "      <td>0.219753</td>\n",
       "      <td>0.220848</td>\n",
       "      <td>0.000075</td>\n",
       "      <td>0.477548</td>\n",
       "      <td>0.129530</td>\n",
       "      <td>0.001829</td>\n",
       "      <td>0.118280</td>\n",
       "      <td>0.097720</td>\n",
       "      <td>0.219753</td>\n",
       "      <td>5.207454e-08</td>\n",
       "      <td>5.615226e-17</td>\n",
       "    </tr>\n",
       "    <tr>\n",
       "      <th>Systolic Blood Pressure</th>\n",
       "      <td>0.417618</td>\n",
       "      <td>0.545117</td>\n",
       "      <td>0.081680</td>\n",
       "      <td>0.417618</td>\n",
       "      <td>0.560161</td>\n",
       "      <td>0.417618</td>\n",
       "      <td>0.301626</td>\n",
       "      <td>0.411554</td>\n",
       "      <td>0.081680</td>\n",
       "      <td>0.410507</td>\n",
       "      <td>1.351693e-01</td>\n",
       "      <td>5.601609e-01</td>\n",
       "    </tr>\n",
       "    <tr>\n",
       "      <th>Diastolic Blood Pressure</th>\n",
       "      <td>0.103881</td>\n",
       "      <td>0.501499</td>\n",
       "      <td>0.076357</td>\n",
       "      <td>0.712646</td>\n",
       "      <td>0.996002</td>\n",
       "      <td>0.158944</td>\n",
       "      <td>0.076357</td>\n",
       "      <td>0.580319</td>\n",
       "      <td>0.120560</td>\n",
       "      <td>0.792082</td>\n",
       "      <td>7.635708e-02</td>\n",
       "      <td>1.038808e-01</td>\n",
       "    </tr>\n",
       "    <tr>\n",
       "      <th>Group</th>\n",
       "      <td>0.838571</td>\n",
       "      <td>0.838600</td>\n",
       "      <td>0.838571</td>\n",
       "      <td>0.828986</td>\n",
       "      <td>0.449542</td>\n",
       "      <td>0.356693</td>\n",
       "      <td>0.758962</td>\n",
       "      <td>0.828986</td>\n",
       "      <td>0.181374</td>\n",
       "      <td>0.181374</td>\n",
       "      <td>4.072392e-02</td>\n",
       "      <td>2.697229e-02</td>\n",
       "    </tr>\n",
       "    <tr>\n",
       "      <th>Smoke_dummy</th>\n",
       "      <td>0.606379</td>\n",
       "      <td>0.890214</td>\n",
       "      <td>0.890214</td>\n",
       "      <td>0.890214</td>\n",
       "      <td>0.461987</td>\n",
       "      <td>0.042846</td>\n",
       "      <td>0.116132</td>\n",
       "      <td>0.700042</td>\n",
       "      <td>0.890214</td>\n",
       "      <td>0.000012</td>\n",
       "      <td>8.902139e-01</td>\n",
       "      <td>1.228346e-02</td>\n",
       "    </tr>\n",
       "    <tr>\n",
       "      <th>Cohort</th>\n",
       "      <td>0.998655</td>\n",
       "      <td>0.998655</td>\n",
       "      <td>0.998655</td>\n",
       "      <td>0.998655</td>\n",
       "      <td>0.998655</td>\n",
       "      <td>0.998655</td>\n",
       "      <td>0.998655</td>\n",
       "      <td>0.998655</td>\n",
       "      <td>0.998655</td>\n",
       "      <td>0.998655</td>\n",
       "      <td>9.986549e-01</td>\n",
       "      <td>9.986549e-01</td>\n",
       "    </tr>\n",
       "  </tbody>\n",
       "</table>\n",
       "</div>"
      ],
      "text/plain": [
       "                                10        11        12        13        14  \\\n",
       "Calcium_Score             0.984459  0.224568  0.121376  0.755498  0.755498   \n",
       "HDL                       0.001193  0.454819  0.501365  0.002700  0.937431   \n",
       "LDL                       0.295739  0.997812  0.591630  0.000403  0.560855   \n",
       "Total_Cholesterol         0.965364  0.965364  0.733944  0.000217  0.610684   \n",
       "Ox-LDL                    0.488430  0.629136  0.908805  0.066926  0.656726   \n",
       "Lipoprotein a             0.987602  0.987602  0.987602  0.987602  0.987602   \n",
       "CRP                       0.198141  0.337973  0.091609  0.391530  0.741461   \n",
       "Plaque_thickness          0.732485  0.919827  0.812775  0.812775  0.732485   \n",
       "Framingham 10y            0.188924  0.408702  0.408702  0.000008  0.915262   \n",
       "Framingham 30y            0.221260  0.219753  0.220848  0.000075  0.477548   \n",
       "Systolic Blood Pressure   0.417618  0.545117  0.081680  0.417618  0.560161   \n",
       "Diastolic Blood Pressure  0.103881  0.501499  0.076357  0.712646  0.996002   \n",
       "Group                     0.838571  0.838600  0.838571  0.828986  0.449542   \n",
       "Smoke_dummy               0.606379  0.890214  0.890214  0.890214  0.461987   \n",
       "Cohort                    0.998655  0.998655  0.998655  0.998655  0.998655   \n",
       "\n",
       "                                15        16        17        18        19  \\\n",
       "Calcium_Score             0.755498  0.755498  0.719862  0.559008  0.559008   \n",
       "HDL                       0.937431  0.501063  0.797933  0.428724  0.937431   \n",
       "LDL                       0.050137  0.000020  0.213308  0.955782  0.087568   \n",
       "Total_Cholesterol         0.038207  0.000023  0.610684  0.930227  0.129676   \n",
       "Ox-LDL                    0.057917  0.066926  0.629136  0.488430  0.488430   \n",
       "Lipoprotein a             0.987602  0.987602  0.987602  0.987602  0.987602   \n",
       "CRP                       0.337973  0.002784  0.337973  0.337973  0.337973   \n",
       "Plaque_thickness          0.916310  0.812775  0.812775  0.177882  0.603756   \n",
       "Framingham 10y            0.175559  0.002556  0.623296  0.096635  0.188924   \n",
       "Framingham 30y            0.129530  0.001829  0.118280  0.097720  0.219753   \n",
       "Systolic Blood Pressure   0.417618  0.301626  0.411554  0.081680  0.410507   \n",
       "Diastolic Blood Pressure  0.158944  0.076357  0.580319  0.120560  0.792082   \n",
       "Group                     0.356693  0.758962  0.828986  0.181374  0.181374   \n",
       "Smoke_dummy               0.042846  0.116132  0.700042  0.890214  0.000012   \n",
       "Cohort                    0.998655  0.998655  0.998655  0.998655  0.998655   \n",
       "\n",
       "                                    20            21  \n",
       "Calcium_Score             1.142668e-02  1.028507e-01  \n",
       "HDL                       2.806867e-02  3.325185e-25  \n",
       "LDL                       3.470535e-01  5.952995e-01  \n",
       "Total_Cholesterol         9.653640e-01  6.106845e-01  \n",
       "Ox-LDL                    6.291359e-01  3.407194e-03  \n",
       "Lipoprotein a             9.876022e-01  9.876022e-01  \n",
       "CRP                       9.931380e-03  9.160925e-02  \n",
       "Plaque_thickness          4.460482e-04  1.647297e-02  \n",
       "Framingham 10y            3.685622e-06  1.363802e-15  \n",
       "Framingham 30y            5.207454e-08  5.615226e-17  \n",
       "Systolic Blood Pressure   1.351693e-01  5.601609e-01  \n",
       "Diastolic Blood Pressure  7.635708e-02  1.038808e-01  \n",
       "Group                     4.072392e-02  2.697229e-02  \n",
       "Smoke_dummy               8.902139e-01  1.228346e-02  \n",
       "Cohort                    9.986549e-01  9.986549e-01  "
      ]
     },
     "execution_count": 69,
     "metadata": {},
     "output_type": "execute_result"
    }
   ],
   "source": [
    "mmCPF.T.iloc[:, 10:]\n",
    "# qqCPF.T"
   ]
  },
  {
   "cell_type": "code",
   "execution_count": 53,
   "metadata": {},
   "outputs": [
    {
     "data": {
      "application/vnd.plotly.v1+json": {
       "config": {
        "plotlyServerURL": "https://plot.ly"
       },
       "data": [
        {
         "box": {
          "visible": false
         },
         "legendgroup": "C",
         "line": {
          "color": "#636EFA"
         },
         "meanline": {
          "visible": true
         },
         "name": "C",
         "scalegroup": "C",
         "side": "negative",
         "type": "violin",
         "x": [
          0,
          1,
          2,
          3,
          4,
          0,
          1,
          2,
          3,
          4,
          0,
          1,
          2,
          3,
          4,
          0,
          1,
          2,
          3,
          4,
          0,
          1,
          2,
          3,
          4,
          0,
          1,
          2,
          3,
          4,
          0,
          1,
          2,
          3,
          4,
          0,
          1,
          2,
          3,
          4,
          0,
          1,
          2,
          3,
          4,
          0,
          1,
          2,
          3,
          4,
          0,
          1,
          2,
          3,
          4,
          0,
          1,
          2,
          3,
          4,
          0,
          1,
          2,
          3,
          4,
          0,
          1,
          2,
          3,
          4,
          0,
          1,
          2,
          3,
          4,
          0,
          1,
          2,
          3,
          4,
          0,
          1,
          2,
          3,
          4,
          0,
          1,
          2,
          3,
          4,
          0,
          1,
          2,
          3,
          4,
          0,
          1,
          2,
          3,
          4,
          0,
          1,
          2,
          3,
          4,
          0,
          1,
          2,
          3,
          4,
          0,
          1,
          2,
          3,
          4,
          0,
          1,
          2,
          3,
          4,
          0,
          1,
          2,
          3,
          4,
          0,
          1,
          2,
          3,
          4,
          0,
          1,
          2,
          3,
          4,
          0,
          1,
          2,
          3,
          4,
          0,
          1,
          2,
          3,
          4,
          0,
          1,
          2,
          3,
          4,
          0,
          1,
          2,
          3,
          4,
          0,
          1,
          2,
          3,
          4,
          0,
          1,
          2,
          3,
          4,
          0,
          1,
          2,
          3,
          4,
          0,
          1,
          2,
          3,
          4,
          0,
          1,
          2,
          3,
          4,
          0,
          1,
          2,
          3,
          4,
          0,
          1,
          2,
          3,
          4,
          0,
          1,
          2,
          3,
          4,
          0,
          1,
          2,
          3,
          4,
          0,
          1,
          2,
          3,
          4,
          0,
          1,
          2,
          3,
          4,
          0,
          1,
          2,
          3,
          4,
          0,
          1,
          2,
          3,
          4,
          0,
          1,
          2,
          3,
          4,
          0,
          1,
          2,
          3,
          4,
          0,
          1,
          2,
          3,
          4,
          0,
          1,
          2,
          3,
          4,
          0,
          1,
          2,
          3,
          4,
          0,
          1,
          2,
          3,
          4,
          0,
          1,
          2,
          3,
          4,
          0,
          1,
          2,
          3,
          4,
          0,
          1,
          2,
          3,
          4,
          0,
          1,
          2,
          3,
          4,
          0,
          1,
          2,
          3,
          4,
          0,
          1,
          2,
          3,
          4,
          0,
          1,
          2,
          3,
          4,
          0,
          1,
          2,
          3,
          4,
          0,
          1,
          2,
          3,
          4,
          0,
          1,
          2,
          3,
          4,
          0,
          1,
          2,
          3,
          4,
          0,
          1,
          2,
          3,
          4,
          0,
          1,
          2,
          3,
          4,
          0,
          1,
          2,
          3,
          4,
          0,
          1,
          2,
          3,
          4,
          0,
          1,
          2,
          3,
          4,
          0,
          1,
          2,
          3,
          4,
          0,
          1,
          2,
          3,
          4,
          0,
          1,
          2,
          3,
          4,
          0,
          1,
          2,
          3,
          4,
          0,
          1,
          2,
          3,
          4,
          0,
          1,
          2,
          3,
          4,
          0,
          1,
          2,
          3,
          4,
          0,
          1,
          2,
          3,
          4,
          0,
          1,
          2,
          3,
          4,
          0,
          1,
          2,
          3,
          4,
          0,
          1,
          2,
          3,
          4,
          0,
          1,
          2,
          3,
          4,
          0,
          1,
          2,
          3,
          4,
          0,
          1,
          2,
          3,
          4,
          0,
          1,
          2,
          3,
          4,
          0,
          1,
          2,
          3,
          4,
          0,
          1,
          2,
          3,
          4,
          0,
          1,
          2,
          3,
          4,
          0,
          1,
          2,
          3,
          4,
          0,
          1,
          2,
          3,
          4,
          0,
          1,
          2,
          3,
          4,
          0,
          1,
          2,
          3,
          4,
          0,
          1,
          2,
          3,
          4,
          0,
          1,
          2,
          3,
          4,
          0,
          1,
          2,
          3,
          4,
          0,
          1,
          2,
          3,
          4,
          0,
          1,
          2,
          3,
          4,
          0,
          1,
          2,
          3,
          4,
          0,
          1,
          2,
          3,
          4,
          0,
          1,
          2,
          3,
          4,
          0,
          1,
          2,
          3,
          4,
          0,
          1,
          2,
          3,
          4,
          0,
          1,
          2,
          3,
          4,
          0,
          1,
          2,
          3,
          4,
          0,
          1,
          2,
          3,
          4,
          0,
          1,
          2,
          3,
          4,
          0,
          1,
          2,
          3,
          4,
          0,
          1,
          2,
          3,
          4,
          0,
          1,
          2,
          3,
          4,
          0,
          1,
          2,
          3,
          4,
          0,
          1,
          2,
          3,
          4,
          0,
          1,
          2,
          3,
          4,
          0,
          1,
          2,
          3,
          4,
          0,
          1,
          2,
          3,
          4,
          0,
          1,
          2,
          3,
          4,
          0,
          1,
          2,
          3,
          4,
          0,
          1,
          2,
          3,
          4,
          0,
          1,
          2,
          3,
          4,
          0,
          1,
          2,
          3,
          4,
          0,
          1,
          2,
          3,
          4,
          0,
          1,
          2,
          3,
          4,
          0,
          1,
          2,
          3,
          4,
          0,
          1,
          2,
          3,
          4,
          0,
          1,
          2,
          3,
          4,
          0,
          1,
          2,
          3,
          4,
          0,
          1,
          2,
          3,
          4,
          0,
          1,
          2,
          3,
          4,
          0,
          1,
          2,
          3,
          4,
          0,
          1,
          2,
          3,
          4,
          0,
          1,
          2,
          3,
          4,
          0,
          1,
          2,
          3,
          4,
          0,
          1,
          2,
          3,
          4,
          0,
          1,
          2,
          3,
          4,
          0,
          1,
          2,
          3,
          4,
          0,
          1,
          2,
          3,
          4,
          0,
          1,
          2,
          3,
          4,
          0,
          1,
          2,
          3,
          4,
          0,
          1,
          2,
          3,
          4,
          0,
          1,
          2,
          3,
          4,
          0,
          1,
          2,
          3,
          4,
          0,
          1,
          2,
          3,
          4,
          0,
          1,
          2,
          3,
          4,
          0,
          1,
          2,
          3,
          4,
          0,
          1,
          2,
          3,
          4,
          0,
          1,
          2,
          3,
          4,
          0,
          1,
          2,
          3,
          4,
          0,
          1,
          2,
          3,
          4,
          0,
          1,
          2,
          3,
          4,
          0,
          1,
          2,
          3,
          4,
          0,
          1,
          2,
          3,
          4,
          0,
          1,
          2,
          3,
          4,
          0,
          1,
          2,
          3,
          4,
          0,
          1,
          2,
          3,
          4,
          0,
          1,
          2,
          3,
          4,
          0,
          1,
          2,
          3,
          4,
          0,
          1,
          2,
          3,
          4,
          0,
          1,
          2,
          3,
          4,
          0,
          1,
          2,
          3,
          4,
          0,
          1,
          2,
          3,
          4,
          0,
          1,
          2,
          3,
          4,
          0,
          1,
          2,
          3,
          4,
          0,
          1,
          2,
          3,
          4,
          0,
          1,
          2,
          3,
          4,
          0,
          1,
          2,
          3,
          4,
          0,
          1,
          2,
          3,
          4,
          0,
          1,
          2,
          3,
          4,
          0,
          1,
          2,
          3,
          4,
          0,
          1,
          2,
          3,
          4,
          0,
          1,
          2,
          3,
          4,
          0,
          1,
          2,
          3,
          4,
          0,
          1,
          2,
          3,
          4,
          0,
          1,
          2,
          3,
          4,
          0,
          1,
          2,
          3,
          4,
          0,
          1,
          2,
          3,
          4,
          0,
          1,
          2,
          3,
          4,
          0,
          1,
          2,
          3,
          4,
          0,
          1,
          2,
          3,
          4,
          0,
          1,
          2,
          3,
          4,
          0,
          1,
          2,
          3,
          4,
          0,
          1,
          2,
          3,
          4,
          0,
          1,
          2,
          3,
          4,
          0,
          1,
          2,
          3,
          4,
          0,
          1,
          2,
          3,
          4,
          0,
          1,
          2,
          3,
          4,
          0,
          1,
          2,
          3,
          4,
          0,
          1,
          2,
          3,
          4,
          0,
          1,
          2,
          3,
          4,
          0,
          1,
          2,
          3,
          4,
          0,
          1,
          2,
          3,
          4,
          0,
          1,
          2,
          3,
          4,
          0,
          1,
          2,
          3,
          4,
          0,
          1,
          2,
          3,
          4,
          0,
          1,
          2,
          3,
          4,
          0,
          1,
          2,
          3,
          4,
          0,
          1,
          2,
          3,
          4,
          0,
          1,
          2,
          3,
          4,
          0,
          1,
          2,
          3,
          4,
          0,
          1,
          2,
          3,
          4,
          0,
          1,
          2,
          3,
          4,
          0,
          1,
          2,
          3,
          4,
          0,
          1,
          2,
          3,
          4,
          0,
          1,
          2,
          3,
          4,
          0,
          1,
          2,
          3,
          4,
          0,
          1,
          2,
          3,
          4,
          0,
          1,
          2,
          3,
          4,
          0,
          1,
          2,
          3,
          4,
          0,
          1,
          2,
          3,
          4,
          0,
          1,
          2,
          3,
          4,
          0,
          1,
          2,
          3,
          4,
          0,
          1,
          2,
          3,
          4,
          0,
          1,
          2,
          3,
          4,
          0,
          1,
          2,
          3,
          4,
          0,
          1,
          2,
          3,
          4,
          0,
          1,
          2,
          3,
          4,
          0,
          1,
          2,
          3,
          4,
          0,
          1,
          2,
          3,
          4,
          0,
          1,
          2,
          3,
          4,
          0,
          1,
          2,
          3,
          4
         ],
         "y": [
          0.1426501147066668,
          -0.42246416498891537,
          -1.529265864875024,
          -2.209166033843958,
          1.7684441558361423,
          -1.8031130300289018,
          4.9281130919749705,
          3.0466315301240257,
          -2.2829013285639763,
          -2.5813785202863757,
          1.0156288480568727,
          2.308824680120793,
          -2.9216511181507205,
          -2.6406056225382835,
          0.45781515782213916,
          2.5102478676764104,
          -2.7422930343091743,
          -3.5716591929909987,
          -0.30433392658829767,
          1.2543768802981063,
          -1.6466770127378045,
          -0.3131273660275036,
          1.5655187476349826,
          1.150078224276594,
          1.5604607961892412,
          -1.5836672268126217,
          -0.5877368717276016,
          2.1185673849731055,
          2.081468889534861,
          2.633779388843605,
          -4.417450690707444,
          1.3418053037522304,
          0.8709667938450899,
          3.391149112252488,
          -3.789516153073476,
          1.118878593173346,
          -0.9157879601684334,
          -1.7867903611046247,
          0.4289470651966702,
          -0.8827634576142047,
          1.7075191744491132,
          -1.6237777818729486,
          0.06868344708829488,
          1.1624873059442058,
          1.123638214606785,
          -0.5755305412914243,
          -0.4735767143859681,
          0.8915077235441505,
          -0.8637269753794494,
          0.5973662106814961,
          -3.0543949739402274,
          2.971404619286096,
          3.711936118785471,
          0.152523833811617,
          -0.782940400815965,
          1.2221591114113568,
          -0.2037047019061831,
          0.8407253000184479,
          0.26862091943603167,
          0.724993556847229,
          6.553080186228924,
          -4.390165418341832,
          -0.22936214008283035,
          -0.1345864790768428,
          3.686015175354101,
          -5.528093192124623,
          0.9581259846487452,
          4.134676136249483,
          2.3718736016046895,
          -0.5622538125833106,
          -6.873338578137508,
          3.2229240457368684,
          4.760723486684456,
          1.7439025322096855,
          1.7926597960945232,
          0.25048374190153244,
          -0.14525079249793277,
          -2.0283998542210977,
          0.15586286053527065,
          -1.30965875334464,
          1.5114461164471586,
          -4.557954317898117,
          -2.9261899895865096,
          -1.5778377317082257,
          4.207359799766343,
          0.010809711906020411,
          1.7013966682074841,
          -1.0234010606301494,
          -0.09306669449699924,
          -0.8758722969497038,
          2.41952209430588,
          4.4823631794760175,
          0.2719185613098518,
          3.6130250954006238,
          -0.1003427995987596,
          -1.0768420553200233,
          0.9392860831483404,
          1.3401610041801644,
          2.4851741391897844,
          2.310305028695196,
          0.967093377604466,
          -0.9743009525717352,
          -1.4870067731753582,
          0.003606541793444147,
          0.1984454001744262,
          -0.93662718748863,
          -0.7809319389753004,
          -0.09909250748664061,
          -1.0244941718087546,
          1.3821547193626533,
          0.9572295649471889,
          -2.583347815408442,
          2.7022901448803944,
          -1.4508253383032823,
          -0.5102320157643255,
          2.7782596941955537,
          0.5842050585129981,
          -0.10206951578842038,
          0.5621114483972985,
          -1.006680240482404,
          3.740848823094782,
          -1.334948636671424,
          0.33794969152752763,
          -2.6962562523873697,
          0.9774257989527146,
          -2.82207602934264,
          0.49152597683091315,
          3.588824056706881,
          0.5771519671263883,
          -0.734156591050709,
          -2.594589566259139,
          1.005521639069019,
          3.057399781183522,
          1.941837177362947,
          1.0768979895027677,
          0.8708302605479411,
          1.616640958477874,
          1.295042125110631,
          0.7540024041142326,
          0.042829888005507286,
          0.6797206016478249,
          -1.4050396320613066,
          -0.90223131089556,
          -0.8366489117596907,
          -0.3069427724236036,
          -5.3331325008167,
          1.2814514308005256,
          4.899764595942962,
          1.3455611215133079,
          1.1302091559768859,
          -0.0844637559299334,
          -1.5392667518538559,
          -0.113526406770911,
          -1.936920856754526,
          -1.9648947279987172,
          2.2815345844384898,
          -0.356782457093263,
          -2.8690817670944866,
          -3.996272363161576,
          -1.9826749483874844,
          -2.2200626123552056,
          0.1735396408202181,
          -0.9107430722922654,
          -4.657509973454207,
          -0.07550816810439542,
          -2.765976946499603,
          2.834089870101675,
          0.4414052808826242,
          1.0658506572885686,
          1.5642851219166758,
          -1.060789687400052,
          0.6786439822364595,
          -2.3371865831944363,
          -0.5932396502890489,
          0.9789066579077867,
          -3.1320676823304585,
          -1.8082201469653048,
          3.8911883968044076,
          1.2443537703061087,
          -1.7479088780019174,
          -1.599492471971389,
          1.991256416593167,
          1.1410215428124555,
          -3.494746475927071,
          -1.9430830752672805,
          0.215554988193155,
          -0.35725259535445947,
          0.849663788711712,
          -0.24919081285220332,
          0.6043481919791766,
          -5.496626162146919,
          3.1642306079401914,
          2.7227949677565446,
          -0.43918474661240775,
          0.4547154868661792,
          -1.9413926472519458,
          -0.16735733028456315,
          2.1859196661801445,
          0.8836119214336119,
          0.9213363359797715,
          0.07179756402957842,
          -0.3075353325868657,
          -1.3833946793613063,
          -1.6998930363584486,
          0.3403742744163338,
          -1.23394473007145,
          -2.3184156520866863,
          -0.8909827446114978,
          -1.38130346929627,
          0.9492195699978158,
          -1.251775768711456,
          0.014211123236146296,
          3.1254798106628567,
          -0.9056048363255832,
          0.2068337713886631,
          3.087112284773462,
          -2.9840299105933736,
          0.8488762226036479,
          1.1732011967790987,
          1.1235135977561912,
          1.0256392464698,
          -0.1135976399063906,
          -0.08174457080769647,
          0.9151826541885039,
          -0.32455694999669127,
          -2.6504443326759786,
          -1.158922281146069,
          -0.8869681767514479,
          -1.4276876038325328,
          -2.3914705449190024,
          3.689165406691506,
          -1.67150422478765,
          -4.2121489193106525,
          2.207739033501526,
          0.9185716448257261,
          -3.7466308188760733,
          1.1188107910610627,
          4.6173177473324065,
          0.7019039951481524,
          -0.39247648800129636,
          -3.7095285152467357,
          0.06380591863339609,
          -1.7448728560120828,
          -1.0029374802439457,
          1.6865106741934333,
          1.2384141589058353,
          0.23243825097830023,
          1.063400539035988,
          -0.9593400752406822,
          1.560903772333126,
          -2.491214212942151,
          -1.6438167312711396,
          0.7590137306596779,
          -0.6889404387721398,
          1.442717553699214,
          -4.19583284595681,
          2.1568414859960656,
          2.6875981337464663,
          1.6970785039105523,
          -2.1565666913403665,
          0.6058800546323893,
          -2.9845263771293165,
          -2.059271128039933,
          1.0901728576016585,
          4.438182551199195,
          0.48322585699774007,
          -0.047745271752678904,
          -0.6657843163777784,
          -0.9420751031777788,
          -0.2070375902920198,
          9.636106121224303,
          -4.654916033208083,
          -2.5487070864486854,
          -1.5049390239849567,
          4.847374590376333,
          -0.34932539513517075,
          -0.3638313464789931,
          -0.04135920127949891,
          -0.8699791924580564,
          1.8812249548744024,
          -2.889386042858485,
          2.0389161328763543,
          2.1155889476929244,
          2.377423976935461,
          -0.3125589885750551,
          1.0218995174043513,
          -1.8834076775880202,
          -1.5788432236004166,
          0.5873316737119267,
          2.437541784175044,
          -4.048051897017227,
          -1.7768697210612534,
          -5.48211181969088,
          -1.5597626370093267,
          3.9582686680189094,
          4.313885585438696,
          -2.3100638520772074,
          -1.2087024852925816,
          -0.2774145657509685,
          0.7269394393775156,
          -0.7143172225417653,
          1.712484004061055,
          0.9141514334417471,
          -1.794165113933697,
          -1.9428105041738704,
          2.8254256447474733,
          -1.1699195826329842,
          1.9416964757240691,
          -3.274939040260624,
          -1.6260456693065481,
          4.390382618286452,
          -0.7529518597314181,
          -0.04690984838555904,
          -2.047835265713596,
          1.679059774560088,
          -2.828821713229163,
          0.47331980183978706,
          -0.15881003956033332,
          1.375617392873139,
          -0.5001124260657144,
          -0.8498375068389241,
          -0.050121155249772974,
          2.481997003159824,
          2.0407047255993325,
          -2.60788368855877,
          -2.6194702496543143,
          -1.243334685518061,
          -0.2443084096031182,
          2.582481959503498,
          2.676852807839245,
          -2.2691172253568905,
          -0.7093741617070802,
          1.3026794052595585,
          -0.8661049588494117,
          3.3508136055091104,
          -2.5910091190101605,
          0.1819802609552335,
          1.5869709695091894,
          0.8595749363300071,
          0.6991396032090714,
          0.9911231849839638,
          1.2487377138032185,
          -0.4085351696067078,
          -1.616386658089393,
          -0.6370237946128829,
          1.740430211705417,
          1.025051072099411,
          -0.19859278968204075,
          0.3678973673754783,
          0.038474917373176175,
          7.88504173501403,
          -5.496382871327968,
          -6.650799940831938,
          -2.354005298780041,
          1.873173289574885,
          1.5503374698178347,
          -0.5694878821747095,
          -0.648217699190254,
          -0.5572646104505814,
          -1.6567420694589703,
          -0.37644213251303554,
          -0.11558020083082628,
          -2.0314448595404118,
          -0.664987122089218,
          -1.8555211379708911,
          -3.5882234831160607,
          1.085453200933473,
          2.600686146438976,
          0.26215665907386576,
          0.7879269794123959,
          5.924429474381733,
          -3.250229566708758,
          -3.405333863694899,
          -1.1529695618747495,
          0.7588425295180627,
          -0.07745240864906604,
          1.3705208789474104,
          -2.148240395452215,
          -1.7900982085444077,
          0.3413468526106044,
          0.5132737283253846,
          -0.16213399441472756,
          0.2749233341933592,
          1.960544945669263,
          0.07266239770711286,
          0.5770272793866525,
          3.986002494336587,
          2.662022012346929,
          -1.3668859115055387,
          -3.636664824407835,
          2.332085616620523,
          -2.369980297255454,
          -2.2004042026219834,
          1.2545083900118057,
          3.8891042877073994,
          -3.7325331055556803,
          -0.1953098343905878,
          6.817603830921853,
          1.229143228870806,
          1.1013752375684953,
          0.04699187876522925,
          -0.9822776877649584,
          1.322530505157576,
          1.9131881251088172,
          1.6471268614964192,
          1.118440332594046,
          -0.7531037394741097,
          1.4872722153300055,
          1.225466419133188,
          0.6707478381442085,
          -0.5747328043156105,
          -0.6562008724455993,
          -1.3826946391155086,
          1.231993438488317,
          1.03152545689421,
          -0.6867320185142718,
          0.46917066095060184,
          -0.5519855789419306,
          -0.4789591054321997,
          -0.49646914447732166,
          -2.8788790257909915,
          2.655845396392137,
          4.809663766759548,
          2.40331407650552,
          2.2137864180973406,
          4.143629403949129,
          0.654975194428415,
          -3.123790075109537,
          -1.8489869121018605,
          -2.054899035155895,
          2.9760047928711115,
          -3.618447013577074,
          -3.229206273367307,
          -1.054798762969556,
          3.04127305185211,
          -4.876866992920507,
          1.895661920941248,
          2.4351819534144465,
          3.1283283192360862,
          -0.33671978570023975,
          0.9685254114598683,
          -4.6116332213903135,
          -1.334480766546218,
          -2.23150057445286,
          7.5437161980910306,
          -2.53732430841439,
          3.774561499388246,
          2.269145814234718,
          1.0829560189885974,
          -3.4010424952720233,
          -0.13078962381500198,
          -0.9673907908452245,
          -1.2741445283411446,
          -1.3361621041384542,
          3.1583056980220716,
          2.0440935942556675,
          -2.790868084625194,
          -1.620268079982777,
          0.13339604878708927,
          2.778585180881283,
          2.024624935359681,
          -1.081185879466175,
          -1.0203476836636085,
          -2.1222288987597233,
          0.061471384308367176,
          4.1005459484904385,
          0.4230345393911757,
          -0.10232812413023465,
          -2.490170030300923,
          -1.6115995065320639,
          2.3242296484087404,
          -0.3261171052770773,
          -0.03641142814884544,
          0.4462455689546143,
          -1.7874008093930975,
          -2.9409596143539125,
          0.6927442413476504,
          4.527158825815611,
          1.6178473989474664,
          1.8474568856630642,
          -4.58546165132365,
          3.4802794371175327,
          1.169852931014193,
          1.1984197609258256,
          -1.451793848088684,
          -1.8586777757960593,
          3.6728219156420265,
          6.00928775011155,
          4.407543456801143,
          -3.123601460455485,
          4.46021448043247,
          -0.48073880198811475,
          -1.483039164852108,
          -2.3399984950617947,
          0.2762203965882824,
          -2.4967712822895427,
          -0.46300041822059546,
          -0.8043416938929723,
          0.5841737361102406,
          -0.01309155420016759,
          5.015468257711411,
          2.3565432295516042,
          0.6671109243328694,
          0.8168794137319986,
          -2.6128534698167436,
          3.213864874925462,
          -1.1871311276595606,
          -3.403189654675734,
          0.3522941933471487,
          0.21892049615695466,
          -1.9415321527740645,
          0.23773231743373088,
          -3.018382879187869,
          -0.9647695892508203,
          2.4786246370246565,
          -2.272173724569293,
          0.264655763402438,
          1.2712939479689194,
          -0.8628530330823027,
          1.5792179241335396,
          -3.5656706142442895,
          -1.1905351948862963,
          0.12356331133868982,
          -1.8161827322937512,
          -1.8876463362347182,
          0.8151104954782427,
          -0.19728489270741398,
          -1.5497731634258105,
          2.5636559579844573,
          -0.09056703241023202,
          -4.665724755437449,
          4.6264915519483525,
          -3.1603019163670214,
          1.6750866757033418,
          0.854668265133326,
          -4.490251117733034,
          3.76580115472094,
          2.9602607282394686,
          1.223531991509493,
          -3.7392490663429947,
          -3.630619079804533,
          0.11093586688178574,
          -0.06097214504623827,
          1.4750848851755758,
          1.4526734125548102,
          -2.2695151525024566,
          -0.11964334069902237,
          0.6835543849318303,
          -1.638562882408577,
          3.7698531560493533,
          -2.4532988840842815,
          1.3610231306753302,
          -0.6447848384468098,
          -0.11794786327030927,
          1.0555550070717292,
          -0.9935865594897815,
          0.4379149009066475,
          1.6830891933592391,
          2.211603802756555,
          -0.29574265695688734,
          -2.9530166110522216,
          -1.0341192568768098,
          -0.7426071256107474,
          -1.1499956252630161,
          3.3766414123075363,
          -1.0999207886259976,
          0.7760115463835945,
          2.9300223449272034,
          2.412273446783657,
          3.056556425750978,
          0.6899436406605162,
          0.12968433554488995,
          -3.580099183257434,
          0.23164305643566602,
          -1.4063906254837881,
          2.942186577924227,
          -1.3441492757081366,
          1.7595205961077973,
          -2.915510270585046,
          1.456947647407845,
          4.180324139475096,
          6.101886346450174,
          -0.9656714923259568,
          5.127647456384611,
          -0.9436127187058271,
          -0.49339465883765793,
          1.1038475086858919,
          -1.6784838684162493,
          -0.618656839030253,
          -3.518423707335026,
          3.0401827440149143,
          -1.894159567069324,
          -0.45835571787388774,
          -0.4678184352134671,
          2.459902946304867,
          -0.17329912448874102,
          -2.0997199494516274,
          0.19133887222065796,
          0.40612471302990766,
          1.0991218565978735,
          0.799095353319243,
          -0.9319034698693089,
          -0.9395041631080875,
          -1.3598934973782921,
          -2.897167136011055,
          -4.777487688600021,
          2.1419796107394338,
          1.4163776997956872,
          3.77517326674255,
          3.0124408500713655,
          0.45234013261897954,
          -0.22668649243124347,
          0.9812517301586798,
          1.9328046803073025,
          0.10600338645893329,
          0.5595227081319866,
          -0.5321442289955967,
          -0.18846747560869273,
          2.7847339341708195,
          -0.16180632909672907,
          -2.055925210854428,
          -1.3981682022568358,
          0.7567998705841417,
          0.5212115125784803,
          -0.29617696730403265,
          0.8048526466064893,
          -2.300092910332338,
          -2.268771191575714,
          -2.202010138633143,
          0.6519356792243136,
          -1.700533404600454,
          0.2208666817364515,
          -3.172025883697848,
          -2.3186506646885663,
          0.6758380958839681,
          -0.5243857938453333,
          0.5096032326721603,
          3.624498339722871,
          1.4156659395563862,
          0.08777481643641316,
          1.566184203818136,
          -0.28297484578215737,
          -0.21245048733634403,
          -0.3664869132995137,
          1.6860336789618386,
          4.072177456401588,
          -2.1299091200833997,
          -3.926270664655912,
          -1.2011552149119193,
          2.7356023719974756,
          4.7749321683756705,
          -4.153539736438777,
          -2.727500720271959,
          -0.8099080366853701,
          1.403667246418465,
          2.488718283196016,
          0.087161036716386,
          -1.836843404849405,
          -1.3565289781918757,
          -1.3427683267381425,
          5.0471107329432,
          0.7171691770746842,
          -5.573525618214515,
          -2.843207249935653,
          -1.2672052008517858,
          1.7764898566760754,
          3.4305257591804894,
          2.7455219044636,
          5.606780005419221,
          -2.2582875073990727,
          -0.7141247522285129,
          0.5310287982869578,
          -2.2225960308902533,
          -1.7578771468934273,
          -0.8900872793832126,
          6.22424570240308,
          -2.3089277170219082,
          -1.8363993836987726,
          0.5049018516222672,
          1.222485362558481,
          -1.4980020052481782,
          1.9041762291005027,
          -0.03677758697056624,
          0.4643935468090102,
          0.8483981986344102,
          -3.236436959475864,
          0.8942333915288088,
          3.972610437364141,
          1.2607329931387514,
          1.4834332459625958,
          3.417766938057679,
          -3.390642130646161,
          1.6218546950974788,
          1.0017342096240223,
          -1.2797593146016346,
          -2.874923996263205,
          0.24136263261731242,
          -0.8681030984798139,
          0.7118519684726023,
          5.465503069890629,
          -1.8072258671346058,
          1.6507035639363463,
          4.319755552989371,
          3.6794340844989826,
          -0.2812919779052448,
          6.388425972729527,
          0.09816586445264494,
          -1.6878895040101538,
          -0.8001589430739094,
          0.6380535126619131,
          -0.6759546039234318,
          -0.7457412002332521,
          0.3147143862593106,
          -0.1368118074386598,
          1.2338294246277954,
          -1.1761590042454795,
          0.5798621438514107,
          3.3344378427767363,
          0.7520557705430196,
          -0.7558651767967538,
          1.6768461337253913,
          -2.1879086097116662,
          -2.044916408819936,
          0.0923267714957319,
          0.9995496563293321,
          -1.9924430188554396,
          -1.5046193734466309,
          3.016658063906497,
          -0.4999385278072537,
          -0.12294827668056563,
          -2.452636265605629,
          1.447629432314098,
          6.469865538068424,
          0.7277051105706301,
          -4.325215450579979,
          -3.7313181769140704,
          3.473015210324557,
          0.39405948293972515,
          -0.10375962098481327,
          -3.9442220752293715,
          -2.018529415799631,
          -1.051965319085295,
          0.9566401096967961,
          -2.2884383379831887,
          -0.3741687746377921,
          6.070728747082425,
          -2.3314265476267515,
          3.2923910164919343,
          1.927668464102988,
          -2.722710111019547,
          1.2153662878053635,
          0.9864265492739316,
          0.14921947264409813,
          -0.6368434978293257,
          -0.4775719212585832,
          2.911445805333939,
          3.133536664425596,
          1.0645469148700784,
          3.160277025506013,
          -1.7910348423365536,
          -0.6215100123127316,
          -0.12135059920898515,
          1.822517441844799,
          -0.13087437546398398,
          -1.0078850649701292,
          0.6667284147930587,
          -0.05485313136090985,
          1.4596817586012938,
          -0.3126811745862957,
          3.1740652798603057,
          -2.715544876296304,
          0.3839085107554972,
          0.8255020658078859,
          -0.5446529627136075,
          1.7946187215132494,
          -2.120792188814555,
          -1.0143246704663444,
          2.2931875461983786,
          0.2626698208015502,
          0.6736369333601845,
          -1.3827911441451335,
          2.687461004626533,
          0.6234695804428695,
          -1.9060571690696209,
          -0.1833784551659365,
          1.4775483046771845,
          -2.8429824048818224,
          -1.558438173613108,
          -0.8076040290612193,
          1.3873828014778742,
          -4.927198864536277,
          2.9624502969793127,
          2.0134511013575946,
          1.2301126148417172,
          -0.09326133680002527,
          3.1970938028290354,
          0.2886086450785839,
          1.9804999797331295,
          3.6971342705298262,
          -1.2179664453411632,
          -0.7244642423210553,
          0.5429602489834574,
          3.5500631536103846,
          0.6883546482523426,
          -4.261196533031697,
          -0.9792688752686411,
          0.45892543063684593,
          -0.7851506190257861,
          0.3465139253834266,
          -0.6211929972431581,
          -3.29064009367526,
          -0.7079181506771304,
          2.0625180849862113,
          0.3775293783033473,
          -0.37482306653671116,
          -5.244106836519172,
          -0.7582191885242658,
          0.40609364568256495,
          -0.6210481255392596,
          0.10659416557762909,
          -3.7725475586109405,
          1.1078994708796948,
          5.711462973390773,
          -0.36443589992749725,
          -2.7677078099183574,
          1.2109298514103102,
          -2.047413367688602,
          4.120162044049144,
          -1.1964374182890505,
          -0.7414478160416946,
          -3.6549738931707734,
          -0.8742847716384707,
          1.3132606111289564,
          2.3309971837871797,
          0.4892294767784227,
          -2.262385179529007,
          -1.5537390080230977,
          1.746515265823517,
          -1.3567747310940954,
          -0.17887102801747004,
          -3.7745010790389193,
          1.9474314085917546,
          8.262272602277065,
          2.604693169492826,
          1.2301618129495409,
          2.010438652590677,
          1.9009324832034866,
          2.6790320279235242,
          1.318024412072635,
          1.0068496027440945,
          -1.0075940575194158,
          1.2168074196999614,
          3.449911286823337,
          0.016130656474580663,
          -1.2624663973497168,
          -3.5065855501036203,
          -0.01994763849384656,
          4.857624409707665,
          0.583036361399944,
          -0.5232778296893619,
          -0.04480230779304803,
          -0.09946908338387156,
          -1.7797336783628366,
          -0.20635710087411543,
          0.34388073949027137,
          0.9642469747342586,
          0.6502986868739339,
          -0.41267611162314843,
          0.0346815709984441,
          1.3970833686447468,
          4.0275052718958415,
          -0.4073453164504461,
          -2.2938689610589282,
          -1.9591687148435721,
          0.8469695190170197,
          3.401415743379116,
          -2.8903635910682643,
          0.060499892481129317,
          0.5412816646631259,
          1.9053948356535775,
          -4.0072944630417355,
          2.6018623628700865,
          5.344616388142216,
          2.413919132235455,
          -2.0313250104062557,
          -4.579771203287298,
          -2.6374727886010585,
          1.5506917994647242,
          0.46458000041649583,
          1.2259813429419304,
          4.344970822834679,
          -0.7769871604851427,
          -4.203377881490305,
          -0.759996796576471,
          1.5417837449508398,
          1.1808896092637686,
          -0.8761278758907806,
          -1.8582588745711892,
          -2.253976072500933,
          0.6895215007186802,
          5.445097787605441,
          -3.7720870561995055,
          -3.6758303519576914,
          0.8744051015355866,
          4.166297175006059,
          -0.8313369581024364,
          -0.5904261634903241,
          -1.297626070141962,
          1.800968403555312,
          -1.1667084991757193,
          0.333198538279784,
          0.2239135684729108,
          -5.254502769508161,
          -0.5404320257446061,
          -1.5652097440718613,
          -0.4467953526476957,
          2.391438499971492,
          1.9636201178416244,
          -1.1087332024512715,
          -2.235914248363496,
          -0.9002329668044915,
          -1.0564077707715096,
          0.36296432965510317,
          0.09615410933172386,
          -1.3000683946818297,
          0.8160298356234291,
          0.21947907646557235,
          -0.7541980082054646,
          0.6362188695279856,
          -0.5101075560472542,
          -0.3997178934473342,
          -0.6023745708965732,
          -0.5746467488188394,
          -2.0628833604404844,
          1.4148313593676622,
          2.4288590813810935,
          1.8682688531974698,
          1.4404037249149462,
          2.380857407558609,
          -1.0908107045965274,
          -0.9029081542464862,
          -0.9810448940170531,
          -1.5513232979929596,
          1.8088849986136801,
          0.5757188588358666,
          -1.2814382664857797,
          -0.7820289552760804,
          -1.268947108205029,
          0.8056516989470051,
          0.7221346677972588,
          3.8635940697955227,
          2.596308098240398,
          2.985894502426844,
          1.2423653578928235,
          -1.2295763488229627,
          2.16398859484172,
          -0.3778872767290165,
          3.1153271519144456,
          -0.38882770826738255,
          -2.0934689947925254,
          0.14274313108151196,
          1.1250743919000372,
          3.104427796255569,
          0.2606477033702024,
          0.9048770212736041,
          -3.8204507278214237,
          3.892502406790067,
          5.514768637799518,
          2.28134721088706,
          -4.707752095546378,
          0.3656068877813778,
          0.820587665849093,
          -1.596659121969054,
          0.6106272330566987,
          -0.6747979914878965,
          -0.1660782738757756,
          -0.6168632726709317,
          -0.7944468979584547,
          -2.1817046125545514,
          -1.215032747801566,
          2.4520336055273497,
          -0.8229743887884007,
          -1.4860149328710035,
          1.1488299839501694,
          -1.6053576177041224,
          -3.2194864151295444,
          2.8666145031712333,
          -1.4374605201491266,
          -0.48569936335232533,
          3.9447440674977923,
          0.3635719390502894,
          -0.4657306008965617,
          2.7566676724738866,
          0.3491365502902974,
          -4.680651391205799,
          8.367008661386409,
          9.344593582555262,
          -0.19499770370499195,
          7.846592021289267,
          -1.346822766751575,
          4.89101743224666,
          3.1914782552800447,
          0.7513943107369443,
          -0.22324853921845494,
          3.7310633462459926,
          -5.2533805694727125,
          1.9162206915927407,
          3.0491414014538214,
          0.911497531733979,
          -0.8820727390582722,
          -5.104003462541966,
          0.8107865917961546,
          4.321416249844773,
          2.9873517089839874,
          2.6148923983963477,
          1.475963901695787,
          -0.38816177035635524,
          0.3168439902966126,
          -2.8551392827304887,
          0.956426780546476,
          7.511781200828147,
          6.702303514341846,
          5.113633624797091,
          6.832536665146001,
          -1.644516221685527,
          -3.2691419363368706,
          1.2969021060752508,
          1.13403885009156,
          0.2781339240565234,
          1.2221166784359183,
          -2.6881224375819435,
          2.5687894280387162,
          -1.280891957311592,
          -2.011047590741044,
          -0.6823087180129,
          -1.9647260237625959,
          1.9907825937698953,
          -3.234522652600959,
          -0.493882287711286,
          -1.1401131230909487,
          -2.0402807306902924,
          -0.012759959275704738,
          -1.1025194666423472,
          -1.5121888244168553,
          1.1771549765111633,
          -1.363868146794772,
          3.8667972827015182,
          2.477064242691977,
          2.352293078397821,
          -1.19371586864612,
          -3.2496886891033667,
          2.1776891805227243,
          0.6170003687835065,
          0.8305256380467205,
          2.2807162934406047,
          -1.099692790017985,
          -2.4778483646766523,
          0.8844317421157487,
          -0.07426682522683468,
          0.6326792231415584,
          -3.9620435747277014,
          0.09149629385835616,
          -1.8634951442416932,
          0.6488693683877116,
          1.6215955852367936,
          -1.0153756512431513,
          1.2278440939434085,
          1.6073328600913235,
          1.864728635592171,
          -0.5527760261126053
         ]
        },
        {
         "box": {
          "visible": false
         },
         "legendgroup": "D",
         "line": {
          "color": "#EF553B"
         },
         "meanline": {
          "visible": true
         },
         "name": "D",
         "scalegroup": "D",
         "side": "positive",
         "type": "violin",
         "x": [
          0,
          1,
          2,
          3,
          4,
          0,
          1,
          2,
          3,
          4,
          0,
          1,
          2,
          3,
          4,
          0,
          1,
          2,
          3,
          4,
          0,
          1,
          2,
          3,
          4,
          0,
          1,
          2,
          3,
          4,
          0,
          1,
          2,
          3,
          4,
          0,
          1,
          2,
          3,
          4,
          0,
          1,
          2,
          3,
          4,
          0,
          1,
          2,
          3,
          4,
          0,
          1,
          2,
          3,
          4,
          0,
          1,
          2,
          3,
          4,
          0,
          1,
          2,
          3,
          4,
          0,
          1,
          2,
          3,
          4,
          0,
          1,
          2,
          3,
          4,
          0,
          1,
          2,
          3,
          4,
          0,
          1,
          2,
          3,
          4,
          0,
          1,
          2,
          3,
          4,
          0,
          1,
          2,
          3,
          4,
          0,
          1,
          2,
          3,
          4,
          0,
          1,
          2,
          3,
          4,
          0,
          1,
          2,
          3,
          4,
          0,
          1,
          2,
          3,
          4,
          0,
          1,
          2,
          3,
          4,
          0,
          1,
          2,
          3,
          4,
          0,
          1,
          2,
          3,
          4,
          0,
          1,
          2,
          3,
          4,
          0,
          1,
          2,
          3,
          4,
          0,
          1,
          2,
          3,
          4,
          0,
          1,
          2,
          3,
          4,
          0,
          1,
          2,
          3,
          4,
          0,
          1,
          2,
          3,
          4,
          0,
          1,
          2,
          3,
          4,
          0,
          1,
          2,
          3,
          4,
          0,
          1,
          2,
          3,
          4,
          0,
          1,
          2,
          3,
          4,
          0,
          1,
          2,
          3,
          4,
          0,
          1,
          2,
          3,
          4,
          0,
          1,
          2,
          3,
          4,
          0,
          1,
          2,
          3,
          4,
          0,
          1,
          2,
          3,
          4,
          0,
          1,
          2,
          3,
          4,
          0,
          1,
          2,
          3,
          4,
          0,
          1,
          2,
          3,
          4,
          0,
          1,
          2,
          3,
          4,
          0,
          1,
          2,
          3,
          4,
          0,
          1,
          2,
          3,
          4,
          0,
          1,
          2,
          3,
          4,
          0,
          1,
          2,
          3,
          4,
          0,
          1,
          2,
          3,
          4,
          0,
          1,
          2,
          3,
          4,
          0,
          1,
          2,
          3,
          4,
          0,
          1,
          2,
          3,
          4,
          0,
          1,
          2,
          3,
          4,
          0,
          1,
          2,
          3,
          4,
          0,
          1,
          2,
          3,
          4,
          0,
          1,
          2,
          3,
          4,
          0,
          1,
          2,
          3,
          4,
          0,
          1,
          2,
          3,
          4,
          0,
          1,
          2,
          3,
          4,
          0,
          1,
          2,
          3,
          4,
          0,
          1,
          2,
          3,
          4,
          0,
          1,
          2,
          3,
          4,
          0,
          1,
          2,
          3,
          4,
          0,
          1,
          2,
          3,
          4,
          0,
          1,
          2,
          3,
          4,
          0,
          1,
          2,
          3,
          4,
          0,
          1,
          2,
          3,
          4,
          0,
          1,
          2,
          3,
          4,
          0,
          1,
          2,
          3,
          4,
          0,
          1,
          2,
          3,
          4,
          0,
          1,
          2,
          3,
          4,
          0,
          1,
          2,
          3,
          4,
          0,
          1,
          2,
          3,
          4,
          0,
          1,
          2,
          3,
          4,
          0,
          1,
          2,
          3,
          4,
          0,
          1,
          2,
          3,
          4,
          0,
          1,
          2,
          3,
          4,
          0,
          1,
          2,
          3,
          4,
          0,
          1,
          2,
          3,
          4,
          0,
          1,
          2,
          3,
          4,
          0,
          1,
          2,
          3,
          4,
          0,
          1,
          2,
          3,
          4,
          0,
          1,
          2,
          3,
          4,
          0,
          1,
          2,
          3,
          4,
          0,
          1,
          2,
          3,
          4,
          0,
          1,
          2,
          3,
          4,
          0,
          1,
          2,
          3,
          4,
          0,
          1,
          2,
          3,
          4,
          0,
          1,
          2,
          3,
          4,
          0,
          1,
          2,
          3,
          4,
          0,
          1,
          2,
          3,
          4,
          0,
          1,
          2,
          3,
          4,
          0,
          1,
          2,
          3,
          4,
          0,
          1,
          2,
          3,
          4,
          0,
          1,
          2,
          3,
          4,
          0,
          1,
          2,
          3,
          4,
          0,
          1,
          2,
          3,
          4,
          0,
          1,
          2,
          3,
          4,
          0,
          1,
          2,
          3,
          4,
          0,
          1,
          2,
          3,
          4,
          0,
          1,
          2,
          3,
          4,
          0,
          1,
          2,
          3,
          4,
          0,
          1,
          2,
          3,
          4,
          0,
          1,
          2,
          3,
          4,
          0,
          1,
          2,
          3,
          4,
          0,
          1,
          2,
          3,
          4,
          0,
          1,
          2,
          3,
          4,
          0,
          1,
          2,
          3,
          4,
          0,
          1,
          2,
          3,
          4,
          0,
          1,
          2,
          3,
          4,
          0,
          1,
          2,
          3,
          4,
          0,
          1,
          2,
          3,
          4,
          0,
          1,
          2,
          3,
          4,
          0,
          1,
          2,
          3,
          4,
          0,
          1,
          2,
          3,
          4,
          0,
          1,
          2,
          3,
          4,
          0,
          1,
          2,
          3,
          4,
          0,
          1,
          2,
          3,
          4,
          0,
          1,
          2,
          3,
          4,
          0,
          1,
          2,
          3,
          4,
          0,
          1,
          2,
          3,
          4,
          0,
          1,
          2,
          3,
          4,
          0,
          1,
          2,
          3,
          4,
          0,
          1,
          2,
          3,
          4,
          0,
          1,
          2,
          3,
          4,
          0,
          1,
          2,
          3,
          4,
          0,
          1,
          2,
          3,
          4,
          0,
          1,
          2,
          3,
          4,
          0,
          1,
          2,
          3,
          4,
          0,
          1,
          2,
          3,
          4,
          0,
          1,
          2,
          3,
          4,
          0,
          1,
          2,
          3,
          4,
          0,
          1,
          2,
          3,
          4,
          0,
          1,
          2,
          3,
          4,
          0,
          1,
          2,
          3,
          4,
          0,
          1,
          2,
          3,
          4,
          0,
          1,
          2,
          3,
          4,
          0,
          1,
          2,
          3,
          4,
          0,
          1,
          2,
          3,
          4,
          0,
          1,
          2,
          3,
          4,
          0,
          1,
          2,
          3,
          4,
          0,
          1,
          2,
          3,
          4,
          0,
          1,
          2,
          3,
          4,
          0,
          1,
          2,
          3,
          4,
          0,
          1,
          2,
          3,
          4,
          0,
          1,
          2,
          3,
          4,
          0,
          1,
          2,
          3,
          4,
          0,
          1,
          2,
          3,
          4,
          0,
          1,
          2,
          3,
          4,
          0,
          1,
          2,
          3,
          4,
          0,
          1,
          2,
          3,
          4,
          0,
          1,
          2,
          3,
          4,
          0,
          1,
          2,
          3,
          4,
          0,
          1,
          2,
          3,
          4,
          0,
          1,
          2,
          3,
          4,
          0,
          1,
          2,
          3,
          4,
          0,
          1,
          2,
          3,
          4,
          0,
          1,
          2,
          3,
          4,
          0,
          1,
          2,
          3,
          4,
          0,
          1,
          2,
          3,
          4,
          0,
          1,
          2,
          3,
          4,
          0,
          1,
          2,
          3,
          4,
          0,
          1,
          2,
          3,
          4,
          0,
          1,
          2,
          3,
          4,
          0,
          1,
          2,
          3,
          4,
          0,
          1,
          2,
          3,
          4,
          0,
          1,
          2,
          3,
          4,
          0,
          1,
          2,
          3,
          4,
          0,
          1,
          2,
          3,
          4,
          0,
          1,
          2,
          3,
          4,
          0,
          1,
          2,
          3,
          4,
          0,
          1,
          2,
          3,
          4,
          0,
          1,
          2,
          3,
          4,
          0,
          1,
          2,
          3,
          4,
          0,
          1,
          2,
          3,
          4,
          0,
          1,
          2,
          3,
          4,
          0,
          1,
          2,
          3,
          4,
          0,
          1,
          2,
          3,
          4,
          0,
          1,
          2,
          3,
          4,
          0,
          1,
          2,
          3,
          4,
          0,
          1,
          2,
          3,
          4,
          0,
          1,
          2,
          3,
          4,
          0,
          1,
          2,
          3,
          4,
          0,
          1,
          2,
          3,
          4,
          0,
          1,
          2,
          3,
          4,
          0,
          1,
          2,
          3,
          4,
          0,
          1,
          2,
          3,
          4,
          0,
          1,
          2,
          3,
          4,
          0,
          1,
          2,
          3,
          4,
          0,
          1,
          2,
          3,
          4,
          0,
          1,
          2,
          3,
          4,
          0,
          1,
          2,
          3,
          4,
          0,
          1,
          2,
          3,
          4,
          0,
          1,
          2,
          3,
          4,
          0,
          1,
          2,
          3,
          4,
          0,
          1,
          2,
          3,
          4,
          0,
          1,
          2,
          3,
          4,
          0,
          1,
          2,
          3,
          4,
          0,
          1,
          2,
          3,
          4,
          0,
          1,
          2,
          3,
          4,
          0,
          1,
          2,
          3,
          4,
          0,
          1,
          2,
          3,
          4,
          0,
          1,
          2,
          3,
          4,
          0,
          1,
          2,
          3,
          4,
          0,
          1,
          2,
          3,
          4,
          0,
          1,
          2,
          3,
          4,
          0,
          1,
          2,
          3,
          4,
          0,
          1,
          2,
          3,
          4,
          0,
          1,
          2,
          3,
          4,
          0,
          1,
          2,
          3,
          4,
          0,
          1,
          2,
          3,
          4,
          0,
          1,
          2,
          3,
          4,
          0,
          1,
          2,
          3,
          4
         ],
         "y": [
          -0.2885265902810157,
          -0.8044444560505787,
          -4.836283465117515,
          -1.7072615644550213,
          1.3862433533956173,
          -0.839821193170333,
          0.49452280073870386,
          -1.031305549765893,
          -0.2352872268493424,
          1.2017859937202897,
          -2.4268010800652147,
          0.040695496667660085,
          3.647184711408499,
          -0.31939725000345187,
          1.288026298799685,
          -3.095108753865033,
          0.2837337640206128,
          1.305768082471358,
          -1.1466004654390984,
          3.113622822947982,
          -1.587020791679639,
          -1.3109942809814767,
          1.9387280369619826,
          0.17068205310908258,
          1.67594948319959,
          -4.937683958705276,
          0.23356910800257788,
          1.6680626048353053,
          1.2067494748938277,
          -2.6913613980730546,
          -0.5579348736023864,
          0.03670865715558793,
          0.05209243627566331,
          1.676173768189719,
          0.9985035663029437,
          -5.053132607230635,
          3.459247840470385,
          1.6319754531408035,
          -0.1175668545443442,
          -2.243073401688356,
          -1.2907864008532342,
          -1.0868583248781691,
          -3.5440163204844786,
          -2.5679154795270116,
          0.5861513940365661,
          -0.8146703786128923,
          0.3897468846562167,
          1.0662134516851598,
          -0.24786159802993754,
          -0.07220768901101333,
          -3.2137953580826575,
          0.18260889878335534,
          1.423416058914979,
          -0.5345962720840757,
          -0.10835284446146624,
          -0.8123458714660468,
          -0.9552125148593928,
          0.01331455626693311,
          -0.16787826120086546,
          1.905531520593666,
          -4.475547410303315,
          2.407467790737207,
          3.9825616897298577,
          2.111898811020986,
          0.10737728326443305,
          0.6281678178267349,
          0.6022814642464208,
          1.244920329026896,
          0.19071430166178338,
          0.6599321129491282,
          -2.759547931038918,
          2.87673266000469,
          0.40832843548710024,
          3.5373725948975006,
          -3.437826450872765,
          6.088752189045257,
          -3.1646824392719473,
          -4.1129644240303085,
          -4.459016761985702,
          3.7658952143051856,
          -4.0139737365920265,
          -2.02988698527156,
          -4.353132854791603,
          -2.5329336442681587,
          0.5634526156071572,
          -3.2826495515512804,
          -0.5286267261854711,
          -2.2073116327600326,
          -3.563995037150661,
          2.1772411059244536,
          2.5371244954302012,
          -0.1985049053792404,
          -0.6598607010926578,
          1.1766966835959478,
          -1.8193531327290524,
          0.07156620693986077,
          -1.0708366948148569,
          1.610036564632535,
          0.7520360004708898,
          -1.0484225261264737,
          -1.5702828923513643,
          -0.5871864808896403,
          0.13586727054213008,
          -1.7096122108350165,
          -1.1993397398232202,
          -1.3664738861023682,
          0.25576068869177737,
          2.279994227649793,
          2.2027736971171317,
          -1.2246021220653407,
          3.514254580482798,
          -0.37714972621949544,
          -1.0622487959395583,
          1.1062058210586556,
          -1.7536402224429972,
          0.18774721768024066,
          1.9087238449016855,
          -5.212473164061943,
          3.4747723201966516,
          -1.8224655203159734,
          -3.000938006226567,
          0.5229311799183728,
          1.0769872944955468,
          -1.8784461673872297,
          -1.3865066511991633,
          0.16937151805413775,
          1.3994191306451678,
          -0.8200642480277437,
          -1.111253326145388,
          0.14334925737028567,
          -0.492403858600821,
          0.023604709644759993,
          -3.1710067441829315,
          -0.010146665504575554,
          -1.8405899001061925,
          1.5040341019469572,
          -0.696304638360189,
          -0.5843943637516843,
          0.7509626507303016,
          1.2969149080151277,
          2.035869132661288,
          -4.515435377091985,
          -4.599109201315194,
          2.2210669059400647,
          4.300513101162473,
          -0.8077547299604362,
          0.5913603642825529,
          8.16658521724501,
          6.518951306399736,
          -4.143241119315321,
          -1.0675373520239657,
          -2.231158236103919,
          0.1096989308091984,
          -2.817294983162865,
          1.7738472981861917,
          -1.3585743232719971,
          1.2197305217638612,
          1.7175638531520265,
          0.9045201369436097,
          0.9022729500923785,
          -1.4859416137908157,
          2.7400387143019524,
          4.753561923171786,
          2.6535496270990673,
          -0.17964847734559566,
          -0.7296112647654738,
          -0.6813752655743532,
          1.0748478409138857,
          -0.1005679269733528,
          0.32578507511804333,
          1.216847885782906,
          -0.13351112703403242,
          0.292975372422642,
          -1.4782576019270255,
          2.0172123203627264,
          -3.750837103107701,
          0.005445761197453891,
          -0.08858712410923045,
          2.129145318760943,
          0.5487519906144731,
          -1.995932497957357,
          -0.5118614467363205,
          0.2709389067120089,
          0.2048232156368413,
          0.1683916992313322,
          3.4697410266388236,
          1.0308042494672713,
          -4.46886387522749,
          -0.8283082278845387,
          -1.1401177107124147,
          2.0487718927230185,
          -1.8386319252968077,
          -0.8853330779433444,
          0.9955402100453951,
          1.2700370503170733,
          1.150721775092632,
          -2.8477163467540425,
          -2.2471220761778574,
          1.4552865633110215,
          3.03182470507843,
          -3.4854963330073407,
          0.6452580455290196,
          1.605056010927619,
          -1.0554165705690928,
          -3.006447009961566,
          0.2852939318225727,
          2.016402896749881,
          -0.5794838773169113,
          -2.3032945371024187,
          0.2701774132015859,
          2.8565359819574208,
          -0.6219579938551757,
          -1.3129773632820714,
          1.0152093050897344,
          2.4977057915422103,
          -0.4979761473618422,
          0.1308944260273069,
          -0.5397555879123638,
          -0.16615264383753842,
          -1.405205655823246,
          8.300717510162446,
          -4.24787623810247,
          -0.1735019229764619,
          -4.597449170761471,
          0.09971171666786578,
          -2.7758932967426873,
          -3.8367181844077405,
          -2.4189374602338396,
          0.4221014377581953,
          1.1292772934747122,
          -0.8539397636790679,
          -0.15640970358035802,
          -0.6318458142580773,
          -1.8835068811523592,
          -1.5754273240226713,
          0.7616472597817151,
          1.4378370278325627,
          0.9624226411422101,
          4.2751285616311945,
          -1.8539394866111114,
          -0.524668272161418,
          -0.2712184442093922,
          -0.25319815788921063,
          -0.412941173613822,
          3.2673657708940014,
          1.3725417960659803,
          -1.4020744214881928,
          1.2334639599503607,
          2.19695592491078,
          0.6086112454851207,
          0.7428469982406549,
          -1.2253802911555731,
          -2.911004207020329,
          -2.377605661370625,
          0.3853229889625596,
          1.2827949459987167,
          0.06731043067019359,
          -1.2888247009337042,
          1.0821301951254483,
          -0.974451647445473,
          0.9430084747322178,
          0.05560463163900637,
          -1.503017657331987,
          -0.10118487744119967,
          -1.906824254309871,
          -2.0418182108551646,
          0.7541936803038225,
          3.1537173900883264,
          0.1236930306088938,
          -0.7474548941975165,
          0.8628194713552267,
          -0.14098676324128412,
          0.4895449465924504,
          -0.5597991737510017,
          -0.9001684697105864,
          0.8245053266843474,
          -3.0117838716930345,
          -3.6928788589539936,
          -1.1922137412034453,
          0.3975427598310957,
          0.07758098181295182,
          -0.534217274464646,
          -1.1365323301838253,
          -2.024646890862611,
          1.6313367678530744,
          6.129391561675786,
          -2.588859052094512,
          -2.4349522319519203,
          -1.36723437709236,
          -0.5107343286014854,
          5.976333269339613,
          -2.830570288457196,
          -8.182167708485792,
          -2.852580556368853,
          2.9179892286406055,
          -0.868531673142865,
          0.5062584595857008,
          0.04771648072502667,
          0.7936961690352481,
          2.0665586912136917,
          -2.6206382606375693,
          -2.066790634830738,
          -1.0408137829604607,
          -2.099038693580129,
          1.2376035648490065,
          -2.3035225700488833,
          2.355133276495061,
          4.535026285633554,
          0.8406355868584929,
          -1.5682400229644733,
          3.5621395805972904,
          1.6541824019493032,
          -2.9415129526908896,
          -3.167844182314326,
          -1.4681004569596905,
          1.4660221892840544,
          -1.3506980619803182,
          -2.72048094759794,
          1.5988347722704284,
          -0.16752356007213828,
          -2.6455715962441833,
          0.5234913839695116,
          -0.3074367015537965,
          1.96142231394279,
          1.5280548529806555,
          -2.8825162210286783,
          -1.3436519188280127,
          0.9787753361696452,
          0.44519825516375117,
          0.6467562163220995,
          1.6044160855169602,
          0.38404455391509706,
          -0.12527271754177366,
          0.11642679887278579,
          -0.8741000107236677,
          0.22258227241832787,
          -0.34225081892125214,
          -2.535021746541512,
          -1.4256922145756132,
          -1.2247780497809677,
          -3.989707060795079,
          1.997264158287161,
          4.461459695396642,
          1.4100406186535193,
          -2.3747666933936045,
          -3.853433406952231,
          -0.1511350879289488,
          -1.6200616852477718,
          -1.4399345780960076,
          0.9858681662376803,
          5.100094506573057,
          -0.2706905091588084,
          -3.939627303737709,
          -0.8123822955038694,
          0.25506162781684566,
          -1.2394581026310563,
          2.578183050288108,
          2.0590323273167845,
          0.18899101569865165,
          0.9993201226787087,
          1.012723223044897,
          -0.11814755998385609,
          -1.2344452728514668,
          0.935070933026778,
          0.4020637564603148,
          -1.2949699062078035,
          0.610981138342314,
          -0.09231706304792858,
          -0.664715639967338,
          -1.5870497594756314,
          2.828188024593029,
          -0.09783687530297357,
          -3.1296427183961812,
          0.687995822140541,
          -1.3834166461580082,
          0.73815260024222,
          0.18564584704002027,
          4.019741262779699,
          6.899647721683986,
          -1.8653327575898253,
          -2.4190635372297704,
          1.96736821547104,
          1.5589008267458129,
          0.04286261349889849,
          -0.34314868782120767,
          3.2225442591096103,
          -2.8542353630592885,
          -0.9899546056751968,
          4.426589318101224,
          1.1804730718926755,
          -1.6286060272340137,
          1.4280176518195444,
          -1.0997781431218705,
          2.0202805225507228,
          -1.4426565092288135,
          3.4354959536616843,
          -3.721760446770179,
          -4.530226507749221,
          -3.207921000333359,
          -0.5403998913009793,
          -1.403289243320234,
          2.7908120447928684,
          -1.553142460326626,
          -4.074313217981588,
          -1.8248045684145353,
          -1.127047406741679,
          1.215543108540412,
          2.1235793561811165,
          -0.3920180763334543,
          -1.255668041911595,
          3.270196492494958,
          -2.1678357447106094,
          -3.2171217055481587,
          -2.3872987260623995,
          2.0747830660759154,
          2.0312715661155654,
          -1.4419778203916147,
          -1.7988248804076397,
          -0.05745614900200798,
          -1.7672298578089174,
          -4.212534785092932,
          -2.28455881302917,
          1.644924996234479,
          -0.9398596283348188,
          -1.4295919021657086,
          3.7553009972844134,
          -2.3364574424603637,
          -3.4454846147203764,
          -1.566561214722836,
          -2.340385297089901,
          3.386705804976332,
          -0.9955855081004004,
          -2.9967564589562903,
          -3.187347237948449,
          -0.28588141315892696,
          -0.42147195323249,
          -0.2785940320457954,
          -0.8077964673439963,
          -1.4440142387864425,
          0.6928372802217927,
          0.19738143331409683,
          -1.3293563181145522,
          -2.246629010717583,
          -2.4282226071978057,
          1.3547830178765827,
          -0.9537035125876907,
          -1.3206899150941998,
          -1.2242773032918361,
          -0.4676354080519124,
          -1.8082591220043427,
          -1.215043991197743,
          1.0566618817638795,
          3.55241369627392,
          5.207679674151658,
          -0.783587514116133,
          -2.3519243879064473,
          2.139003916882538,
          2.9432416527693595,
          1.3173519513270489,
          -1.9235317666686726,
          0.24196255851041643,
          2.457307784519767,
          -1.5415651681560392,
          0.6268883403551209,
          0.4429110069965974,
          -6.1348048024848065,
          4.865530141010455,
          5.7126874225957405,
          0.953907922747021,
          -1.575819571956803,
          0.6254444665112278,
          4.970086536259035,
          3.2130137548614397,
          7.1602130561678194,
          -2.332750694116061,
          4.041392607713609,
          -1.824066541285712,
          -5.796865914921117,
          -2.1771163993588183,
          -2.0166875571602216,
          -0.6493578173260109,
          -0.42114118876661,
          -2.060245360292743,
          -0.8575987205438493,
          0.7783393217882365,
          -1.0851547689656111,
          -1.7804820382182027,
          -2.578975635228139,
          -3.394469742596585,
          1.1194763906038065,
          -0.6145514070426541,
          -2.2546091339523273,
          0.5603367297478741,
          0.14915803364769945,
          0.4232896851606449,
          -1.4031214469761286,
          0.10232019468345614,
          0.7752300399886467,
          -2.9736586306640427,
          -2.1825654413834483,
          2.9616922888018204,
          1.0004768433378444,
          1.1667965180543296,
          2.3739116851028146,
          -1.3955049072631809,
          -0.3984471550233801,
          -1.150252153241037,
          0.4475447895398949,
          1.930707108691574,
          0.8036639028475941,
          1.8737021921669998,
          1.6947879426277837,
          -0.0018884031547831512,
          0.6031481694699042,
          -1.5888864639473375,
          -2.588033607383564,
          3.701370714426707,
          -0.9775008221850493,
          3.3337706383733767,
          -4.412079532327262,
          3.544904537566948,
          -1.735434858553535,
          0.07121918019831337,
          -0.020332253346350533,
          1.8495449574226084,
          -2.5109955121976344,
          -1.6451044020886867,
          0.8485795920692782,
          -0.2186168088729495,
          -0.7881105872540013,
          -2.041791500024025,
          0.38704675780508674,
          -0.1816919021527614,
          2.2399388321038063,
          1.4578321474696494,
          0.6635362830383341,
          0.14865349637685002,
          1.5347881971706208,
          -3.544072400910324,
          0.3276519511309553,
          -0.3581895880248927,
          -2.051457571920734,
          -3.1852233211668683,
          -2.469049642076593,
          1.3347167049792268,
          6.674149977818098,
          -4.613964513422448,
          -3.4233917436418424,
          -0.6011325600741915,
          3.210674730064136,
          1.5424141805778433,
          0.3644380082754605,
          -2.5824796309528315,
          -2.2657479861903,
          -2.0882654436269235,
          0.07475851088458824,
          -0.7866468712907756,
          0.7741094997018853,
          1.646903420213133,
          3.116616152039916,
          4.999681388534656,
          -2.248801993626395,
          -1.594070759616394,
          -1.0952030310466325,
          1.9098113073392167,
          -0.7107508164613219,
          0.5927752114442134,
          0.21364069690251403,
          -0.7972562414120814,
          -1.354157669208168,
          1.3916477314320774,
          -0.5619863301973846,
          -1.8155376763969706,
          -0.052359664893859674,
          -1.5165809713656329,
          3.560838808947339,
          0.05088723362602602,
          -0.5638904873915592,
          -0.7502119625097162,
          -1.9632281238258764,
          -0.20304177349881916,
          0.49489043222001133,
          1.0965263770296336,
          2.520592406846258,
          -1.1968097839873766,
          1.9214043036930393,
          -0.7085898498197403,
          -2.2282007245252164,
          0.219719399012055,
          -0.6711749537908016,
          1.384287464558557,
          -0.05022191453948884,
          0.47100952191240336,
          -2.43141054197226,
          -2.5729279567859287,
          0.670566543832468,
          0.08387652367303107,
          -2.301856656888674,
          -2.309214393707716,
          -1.0175677211474867,
          1.1265486063847179,
          0.7227292115785954,
          -2.810029520464365,
          -2.3187818240393874,
          -1.0626806866970888,
          1.9476441869630066,
          -1.7889833178325236,
          1.054508911851221,
          1.3357178231845623,
          -1.3528875007431946,
          1.014010998493798,
          0.04305208638826048,
          -3.5676619813169594,
          -0.5646923552226077,
          -2.4923296840002283,
          -2.4210193332361385,
          -0.18260162899927174,
          -0.6816247452973853,
          -1.8918587651158842,
          -1.122945486713001,
          3.8096243305990716,
          -3.695124190693128,
          -2.725988910849402,
          -2.844139823235899,
          3.691296205211861,
          -3.163429256555967,
          -0.8060578771606655,
          1.7831173803733404,
          -1.2027674254033014,
          2.1069457797827176,
          -0.3866917741005376,
          -0.40110782204552986,
          -1.4136956022362854,
          -2.5327860584501525,
          2.056184782248563,
          3.3865907478917623,
          -1.7447227484022565,
          -0.30286414153386054,
          0.13182499494550337,
          -0.27350599817793086,
          2.2018252852865277,
          0.698746125906554,
          -2.769732426749501,
          0.6449780347348558,
          -0.4089114414890866,
          -1.9398298321375917,
          2.1863766262136908,
          -0.9490871602885503,
          -1.7334520872930432,
          0.8585033996638247,
          3.126911437938667,
          -4.296215304820644,
          -7.876873257551268,
          -3.723103347809931,
          1.7774747895676173,
          -5.5450643988425465,
          2.8357585549292095,
          1.797277299790538,
          0.15751463867500912,
          -0.716668404772308,
          1.6587474065597458,
          -1.277132575579971,
          -2.4114909137151472,
          -1.102907234314424,
          1.0331573270753123,
          -4.404155472102191,
          3.8978835410489223,
          2.2200484204436814,
          1.8614868127181805,
          -2.256706040107855,
          -0.5481429144151113,
          1.4003942064538075,
          2.2701264944966373,
          1.2137503892852295,
          0.604341322959379,
          2.1022576474083414,
          -2.4830228589558185,
          -1.1121599172035583,
          -2.39443976342968,
          2.2586965577795173,
          0.09691186896105126,
          -0.2727108640331231,
          -0.4306096473416492,
          -3.121249177497989,
          1.2207382440243202,
          0.0032119490458396376,
          0.4538720026192905,
          -1.85242022751011,
          2.148743605457452,
          0.9094207457410408,
          -2.3123995354213562,
          2.162386150234176,
          2.5663222825786067,
          1.8368168978923884,
          -0.9982463440918586,
          -3.9107627696446574,
          1.6148392526090443,
          3.5741304360443475,
          -1.1405146218150142,
          -0.6406168867236544,
          -4.7032039933754675,
          -0.05111958217373503,
          3.9744247883269055,
          2.022750608803535,
          -3.910586270592901,
          -2.3978529785082348,
          -0.6088499716224731,
          0.5213023163822438,
          1.9739533634138329,
          3.324166940239154,
          -1.5924187628023436,
          0.6986892585784981,
          4.7539298390880775,
          5.193295402165915,
          -1.3837277580523215,
          2.244306185362914,
          -1.7780168564101597,
          -2.2957174221410455,
          -2.1115041721466237,
          1.458913308113774,
          1.5721441178221787,
          0.1849145217112278,
          -3.5604342988707343,
          -2.570115004056875,
          -4.117193840880422,
          2.709110842085561,
          -1.785684819175533,
          1.686813026130855,
          -2.9158993318659165,
          -0.6318209449366169,
          -0.3512368351645683,
          -0.6885232698325537,
          -0.5295584620138318,
          3.582034393383168,
          -0.6518314895194528,
          0.5883782183384483,
          -3.2270366251155203,
          -3.913597871767903,
          -4.332028123011578,
          3.9889926965863327,
          -1.7501482970769364,
          0.6731189678456634,
          2.4417491279755645,
          -1.06758337954489,
          -2.634888391482638,
          -2.563812602629091,
          2.9521473320598033,
          1.1746493682048291,
          0.48229021369172487,
          -1.7102337764536732,
          4.480652145963181,
          -1.471553058450714,
          -0.7829329827838236,
          -0.7958599590689613,
          -1.5368560865671714,
          -0.32361120177941705,
          -0.21335598977873216,
          -0.28446135404243905,
          1.6324118288642258,
          1.1758201537540909,
          3.5817532314530416,
          -0.3493058234360356,
          -1.3042355016025353,
          -2.778214985722333,
          0.9602236871846256,
          0.4452914095804847,
          0.4733066177392306,
          -1.1861290609845694,
          1.8223833394381435,
          0.48184878677088616,
          -1.5522015817518957,
          -0.536970971071544,
          0.6092539790075794,
          -0.6083553312986385,
          -2.560746553624901,
          7.04542038497434,
          -2.818953570680883,
          -2.0180500605768947,
          -2.8145497270585604,
          -2.15793061482483,
          -2.592237900105409,
          2.17023411155778,
          -0.5161474167018115,
          -1.3598132450941882,
          -2.71336954776023,
          0.9743550794860788,
          -1.582072735336213,
          0.32269581950297055,
          0.37248403655508383,
          -0.9105689342431759,
          0.7679736876179232,
          -1.317203194473455,
          2.52745322170607,
          0.02544780131283299,
          -0.3034461770441405,
          2.5687493463646605,
          -0.2348828378391451,
          -2.2224829721009067,
          -0.17851189177592214,
          1.4428323202895668,
          3.620115294517921,
          -1.7502794108535942,
          -3.4065828187407723,
          -0.5271712018383008,
          2.382038267886204,
          1.8310914598684513,
          -1.5155419335733455,
          -4.6617225449631094,
          -1.9023489776226932,
          -0.5050537965967316,
          5.283390213801144,
          -0.5391135284429066,
          -3.9833472468462285,
          -1.5857319025502465,
          -0.7003873769158327,
          3.997187994028019,
          5.341167430515826,
          1.0740478307733214,
          3.852160750790516,
          -1.0239170711100516,
          7.607107615127495,
          -1.8714488039664103,
          -2.5498626863524554,
          -4.634842673829819,
          2.4425386685419883,
          2.0136579280481666,
          -2.729898096658311,
          -2.725031273574562,
          -1.5902438927873084,
          4.707163158777551,
          0.8477371255178224,
          -2.7976408626675244,
          -0.6565760252933797,
          0.5507705355453948,
          2.148483799118435,
          2.8584480394818166,
          -1.038295827853732,
          -2.264879800685012,
          0.3062653671215184,
          -2.364709844308373,
          -2.59149167465358,
          0.6288170203358867,
          2.5231658423237353,
          1.1352418526083274,
          -0.5850998960332608,
          1.8725945397419204,
          -2.836887668472431,
          -0.8418202977709912,
          -1.2921854742195293,
          -0.3471696072801616,
          -1.8225479633083062,
          -1.4083656206139545,
          0.12477216970582977,
          -2.8954813560322767,
          -0.5614715479638287,
          0.3742735959846254,
          -1.4160474269398082,
          0.5606467022355022,
          0.10202411612641057,
          1.6497520861223032,
          8.173264414857993,
          -4.425213262553972,
          -5.267871574784968,
          -3.363953099584076,
          1.004289418909919,
          -0.5299621368012585,
          1.438720121301013,
          3.576587815335806,
          0.2201253106890005,
          -1.9157963132221585,
          4.911778654531755,
          -1.9569511016364367,
          -1.56908775340592,
          -0.7067430300479411,
          1.0710446579548227,
          0.2210383945887504,
          0.6326087298394992,
          0.4870524966425137,
          -1.7179145010606096,
          -0.2152017380016958,
          -0.042409658603938465,
          -0.26122758603924257,
          -5.859209554353683,
          -1.1551176127110707,
          1.6702530313710644,
          1.0529517958639032,
          -0.6537961707907015,
          -1.335901417412815,
          -0.4258292375375533,
          -0.007674061313518537,
          -2.656304842116643,
          1.3400508108783151,
          -0.4937574081722612,
          -1.507360162837617,
          0.3336194046437771,
          -1.805249188386212,
          -1.7826940349986449,
          -0.04046150811688272,
          -2.3386447643515464,
          -1.9266570880638705,
          -2.2519299952618885,
          1.1032327413016692,
          3.400522086357585,
          2.0015441729258097,
          -0.1084931216207147,
          4.799491915598517,
          5.409235402559884,
          -3.528506016931589,
          4.052988481731849,
          -2.0659893528429847,
          3.052103973542934,
          -2.04674765083984,
          -3.7446151893192687,
          0.19506408589375884,
          -0.9142426228220204,
          -0.3925397288461448,
          -0.16467007126634547,
          -3.3829445535430858,
          1.4456486289078627,
          -0.38747562735198804,
          3.8126282783112604,
          -2.421783084280621,
          -0.9997308941399057,
          2.5572657020352736,
          0.20421218042359512,
          -2.6035668508732868,
          1.015489476891228,
          3.2022231362818427,
          -0.21426488559394433,
          -0.5082411916846943,
          0.4226293804158996,
          -0.28824663567341985,
          -0.04080736003882085,
          3.1148087503105644,
          -1.8386963275201555,
          0.6445462202490899,
          -1.2820791190354714,
          -7.518744825918118,
          -5.31572282393509,
          0.7740077017346861,
          3.715732511433278,
          -2.1561489253153354,
          -3.4095237733735972,
          -2.9748646829907504,
          0.7291085314856778,
          -2.9890705924711423,
          2.6351945977217333,
          4.069066778977286,
          0.5761979285731098,
          -1.602904145767907,
          3.3323514183959686,
          0.28336220138139806,
          -2.5173998483269244,
          -0.04835471019512041,
          -1.881760732945103,
          -1.3534321393558724,
          4.117666403899629,
          -4.063042037572128,
          -1.2889191430412925,
          -1.4208795131144256,
          0.3361695013252964,
          0.06363963269810176,
          -0.14139422457143053,
          -1.8221201777729727,
          -0.5017378147747446,
          -0.41019267668087667,
          -0.7171546830846532,
          1.8697081605100025,
          0.13934090507428235,
          -1.72412702493714,
          -0.8397207331648393,
          -0.7811864799250384,
          3.1679268964327494,
          1.1007693068301003,
          -1.6840715455507778,
          -3.65544270121376,
          1.9571611430174383,
          0.9695902953955438,
          2.504659546671676,
          -1.446528157092449,
          7.604636378166888,
          8.603495009825362,
          -2.43472992315748,
          5.036443916200738,
          -2.734862423669064,
          -0.5495534475478611,
          1.1638695678612974,
          -0.3579273138810086,
          0.09795166214028436,
          -1.3987027254929734,
          -2.983431567328886,
          0.48532506199806613,
          2.345126673008957,
          0.256028775296162,
          -1.1419842253066401,
          -4.899040242992814,
          -0.13788340480346237,
          2.706713024162066,
          -0.6255892093157974,
          -0.9350469838107939,
          -2.3697039629680368,
          -1.2524977682900063,
          3.219988472553753,
          1.6385433414245443,
          2.1684478309554467,
          3.876101598286682,
          -2.6829748737536416,
          -0.5372269427914226,
          0.2555356574405988,
          -2.495810286138878,
          -4.173106530055443,
          2.204944276423357,
          6.986403361022762,
          2.131044285585577,
          -0.42403219448470814,
          5.4435028284403915,
          -0.7715060460622699,
          -1.7301613439927845,
          -4.260939796818201,
          0.3410524177086107,
          -0.065179575191015,
          -0.8047588163141639,
          -6.532233265214176,
          -5.288122160212542,
          -1.8839842402865894,
          -4.744895494804928,
          0.29907103611444363,
          8.575136181113562,
          1.497543118778705,
          -3.8435717942245238,
          0.11918740298369579,
          0.7538118689756834,
          -1.0846022864804612,
          -1.4271916012254433,
          -1.552779367089978,
          -5.600291250059213,
          -0.41608112106665057,
          2.993503228237115,
          -0.04504629534352481,
          0.8131041861952695,
          0.4402755279254115,
          0.7961505815808917,
          -0.6846641830928968,
          2.2068821378307786,
          -2.2807847619879382,
          -0.48749877385546825,
          -0.368786093959967,
          2.772265000399126,
          -0.5840002841939412,
          1.681849014750917,
          -1.8793848760662062,
          2.2464787436211,
          3.0898602819490737,
          1.346297510790573,
          -0.02397283157959494,
          1.040320170952918,
          1.711464563651962,
          -0.4935456189120333,
          -2.3175865625381347,
          1.0593297300860935,
          -0.7445890555397173,
          3.689562809548529,
          0.34633651509734303,
          0.3392081398378167,
          -0.1479440148093999,
          -1.66634790367839,
          -2.049467129765301,
          0.16018629512158555,
          -2.5279861744927477,
          -1.8160817900912878
         ]
        }
       ],
       "layout": {
        "template": {
         "data": {
          "bar": [
           {
            "error_x": {
             "color": "#2a3f5f"
            },
            "error_y": {
             "color": "#2a3f5f"
            },
            "marker": {
             "line": {
              "color": "#E5ECF6",
              "width": 0.5
             },
             "pattern": {
              "fillmode": "overlay",
              "size": 10,
              "solidity": 0.2
             }
            },
            "type": "bar"
           }
          ],
          "barpolar": [
           {
            "marker": {
             "line": {
              "color": "#E5ECF6",
              "width": 0.5
             },
             "pattern": {
              "fillmode": "overlay",
              "size": 10,
              "solidity": 0.2
             }
            },
            "type": "barpolar"
           }
          ],
          "carpet": [
           {
            "aaxis": {
             "endlinecolor": "#2a3f5f",
             "gridcolor": "white",
             "linecolor": "white",
             "minorgridcolor": "white",
             "startlinecolor": "#2a3f5f"
            },
            "baxis": {
             "endlinecolor": "#2a3f5f",
             "gridcolor": "white",
             "linecolor": "white",
             "minorgridcolor": "white",
             "startlinecolor": "#2a3f5f"
            },
            "type": "carpet"
           }
          ],
          "choropleth": [
           {
            "colorbar": {
             "outlinewidth": 0,
             "ticks": ""
            },
            "type": "choropleth"
           }
          ],
          "contour": [
           {
            "colorbar": {
             "outlinewidth": 0,
             "ticks": ""
            },
            "colorscale": [
             [
              0,
              "#0d0887"
             ],
             [
              0.1111111111111111,
              "#46039f"
             ],
             [
              0.2222222222222222,
              "#7201a8"
             ],
             [
              0.3333333333333333,
              "#9c179e"
             ],
             [
              0.4444444444444444,
              "#bd3786"
             ],
             [
              0.5555555555555556,
              "#d8576b"
             ],
             [
              0.6666666666666666,
              "#ed7953"
             ],
             [
              0.7777777777777778,
              "#fb9f3a"
             ],
             [
              0.8888888888888888,
              "#fdca26"
             ],
             [
              1,
              "#f0f921"
             ]
            ],
            "type": "contour"
           }
          ],
          "contourcarpet": [
           {
            "colorbar": {
             "outlinewidth": 0,
             "ticks": ""
            },
            "type": "contourcarpet"
           }
          ],
          "heatmap": [
           {
            "colorbar": {
             "outlinewidth": 0,
             "ticks": ""
            },
            "colorscale": [
             [
              0,
              "#0d0887"
             ],
             [
              0.1111111111111111,
              "#46039f"
             ],
             [
              0.2222222222222222,
              "#7201a8"
             ],
             [
              0.3333333333333333,
              "#9c179e"
             ],
             [
              0.4444444444444444,
              "#bd3786"
             ],
             [
              0.5555555555555556,
              "#d8576b"
             ],
             [
              0.6666666666666666,
              "#ed7953"
             ],
             [
              0.7777777777777778,
              "#fb9f3a"
             ],
             [
              0.8888888888888888,
              "#fdca26"
             ],
             [
              1,
              "#f0f921"
             ]
            ],
            "type": "heatmap"
           }
          ],
          "heatmapgl": [
           {
            "colorbar": {
             "outlinewidth": 0,
             "ticks": ""
            },
            "colorscale": [
             [
              0,
              "#0d0887"
             ],
             [
              0.1111111111111111,
              "#46039f"
             ],
             [
              0.2222222222222222,
              "#7201a8"
             ],
             [
              0.3333333333333333,
              "#9c179e"
             ],
             [
              0.4444444444444444,
              "#bd3786"
             ],
             [
              0.5555555555555556,
              "#d8576b"
             ],
             [
              0.6666666666666666,
              "#ed7953"
             ],
             [
              0.7777777777777778,
              "#fb9f3a"
             ],
             [
              0.8888888888888888,
              "#fdca26"
             ],
             [
              1,
              "#f0f921"
             ]
            ],
            "type": "heatmapgl"
           }
          ],
          "histogram": [
           {
            "marker": {
             "pattern": {
              "fillmode": "overlay",
              "size": 10,
              "solidity": 0.2
             }
            },
            "type": "histogram"
           }
          ],
          "histogram2d": [
           {
            "colorbar": {
             "outlinewidth": 0,
             "ticks": ""
            },
            "colorscale": [
             [
              0,
              "#0d0887"
             ],
             [
              0.1111111111111111,
              "#46039f"
             ],
             [
              0.2222222222222222,
              "#7201a8"
             ],
             [
              0.3333333333333333,
              "#9c179e"
             ],
             [
              0.4444444444444444,
              "#bd3786"
             ],
             [
              0.5555555555555556,
              "#d8576b"
             ],
             [
              0.6666666666666666,
              "#ed7953"
             ],
             [
              0.7777777777777778,
              "#fb9f3a"
             ],
             [
              0.8888888888888888,
              "#fdca26"
             ],
             [
              1,
              "#f0f921"
             ]
            ],
            "type": "histogram2d"
           }
          ],
          "histogram2dcontour": [
           {
            "colorbar": {
             "outlinewidth": 0,
             "ticks": ""
            },
            "colorscale": [
             [
              0,
              "#0d0887"
             ],
             [
              0.1111111111111111,
              "#46039f"
             ],
             [
              0.2222222222222222,
              "#7201a8"
             ],
             [
              0.3333333333333333,
              "#9c179e"
             ],
             [
              0.4444444444444444,
              "#bd3786"
             ],
             [
              0.5555555555555556,
              "#d8576b"
             ],
             [
              0.6666666666666666,
              "#ed7953"
             ],
             [
              0.7777777777777778,
              "#fb9f3a"
             ],
             [
              0.8888888888888888,
              "#fdca26"
             ],
             [
              1,
              "#f0f921"
             ]
            ],
            "type": "histogram2dcontour"
           }
          ],
          "mesh3d": [
           {
            "colorbar": {
             "outlinewidth": 0,
             "ticks": ""
            },
            "type": "mesh3d"
           }
          ],
          "parcoords": [
           {
            "line": {
             "colorbar": {
              "outlinewidth": 0,
              "ticks": ""
             }
            },
            "type": "parcoords"
           }
          ],
          "pie": [
           {
            "automargin": true,
            "type": "pie"
           }
          ],
          "scatter": [
           {
            "fillpattern": {
             "fillmode": "overlay",
             "size": 10,
             "solidity": 0.2
            },
            "type": "scatter"
           }
          ],
          "scatter3d": [
           {
            "line": {
             "colorbar": {
              "outlinewidth": 0,
              "ticks": ""
             }
            },
            "marker": {
             "colorbar": {
              "outlinewidth": 0,
              "ticks": ""
             }
            },
            "type": "scatter3d"
           }
          ],
          "scattercarpet": [
           {
            "marker": {
             "colorbar": {
              "outlinewidth": 0,
              "ticks": ""
             }
            },
            "type": "scattercarpet"
           }
          ],
          "scattergeo": [
           {
            "marker": {
             "colorbar": {
              "outlinewidth": 0,
              "ticks": ""
             }
            },
            "type": "scattergeo"
           }
          ],
          "scattergl": [
           {
            "marker": {
             "colorbar": {
              "outlinewidth": 0,
              "ticks": ""
             }
            },
            "type": "scattergl"
           }
          ],
          "scattermapbox": [
           {
            "marker": {
             "colorbar": {
              "outlinewidth": 0,
              "ticks": ""
             }
            },
            "type": "scattermapbox"
           }
          ],
          "scatterpolar": [
           {
            "marker": {
             "colorbar": {
              "outlinewidth": 0,
              "ticks": ""
             }
            },
            "type": "scatterpolar"
           }
          ],
          "scatterpolargl": [
           {
            "marker": {
             "colorbar": {
              "outlinewidth": 0,
              "ticks": ""
             }
            },
            "type": "scatterpolargl"
           }
          ],
          "scatterternary": [
           {
            "marker": {
             "colorbar": {
              "outlinewidth": 0,
              "ticks": ""
             }
            },
            "type": "scatterternary"
           }
          ],
          "surface": [
           {
            "colorbar": {
             "outlinewidth": 0,
             "ticks": ""
            },
            "colorscale": [
             [
              0,
              "#0d0887"
             ],
             [
              0.1111111111111111,
              "#46039f"
             ],
             [
              0.2222222222222222,
              "#7201a8"
             ],
             [
              0.3333333333333333,
              "#9c179e"
             ],
             [
              0.4444444444444444,
              "#bd3786"
             ],
             [
              0.5555555555555556,
              "#d8576b"
             ],
             [
              0.6666666666666666,
              "#ed7953"
             ],
             [
              0.7777777777777778,
              "#fb9f3a"
             ],
             [
              0.8888888888888888,
              "#fdca26"
             ],
             [
              1,
              "#f0f921"
             ]
            ],
            "type": "surface"
           }
          ],
          "table": [
           {
            "cells": {
             "fill": {
              "color": "#EBF0F8"
             },
             "line": {
              "color": "white"
             }
            },
            "header": {
             "fill": {
              "color": "#C8D4E3"
             },
             "line": {
              "color": "white"
             }
            },
            "type": "table"
           }
          ]
         },
         "layout": {
          "annotationdefaults": {
           "arrowcolor": "#2a3f5f",
           "arrowhead": 0,
           "arrowwidth": 1
          },
          "autotypenumbers": "strict",
          "coloraxis": {
           "colorbar": {
            "outlinewidth": 0,
            "ticks": ""
           }
          },
          "colorscale": {
           "diverging": [
            [
             0,
             "#8e0152"
            ],
            [
             0.1,
             "#c51b7d"
            ],
            [
             0.2,
             "#de77ae"
            ],
            [
             0.3,
             "#f1b6da"
            ],
            [
             0.4,
             "#fde0ef"
            ],
            [
             0.5,
             "#f7f7f7"
            ],
            [
             0.6,
             "#e6f5d0"
            ],
            [
             0.7,
             "#b8e186"
            ],
            [
             0.8,
             "#7fbc41"
            ],
            [
             0.9,
             "#4d9221"
            ],
            [
             1,
             "#276419"
            ]
           ],
           "sequential": [
            [
             0,
             "#0d0887"
            ],
            [
             0.1111111111111111,
             "#46039f"
            ],
            [
             0.2222222222222222,
             "#7201a8"
            ],
            [
             0.3333333333333333,
             "#9c179e"
            ],
            [
             0.4444444444444444,
             "#bd3786"
            ],
            [
             0.5555555555555556,
             "#d8576b"
            ],
            [
             0.6666666666666666,
             "#ed7953"
            ],
            [
             0.7777777777777778,
             "#fb9f3a"
            ],
            [
             0.8888888888888888,
             "#fdca26"
            ],
            [
             1,
             "#f0f921"
            ]
           ],
           "sequentialminus": [
            [
             0,
             "#0d0887"
            ],
            [
             0.1111111111111111,
             "#46039f"
            ],
            [
             0.2222222222222222,
             "#7201a8"
            ],
            [
             0.3333333333333333,
             "#9c179e"
            ],
            [
             0.4444444444444444,
             "#bd3786"
            ],
            [
             0.5555555555555556,
             "#d8576b"
            ],
            [
             0.6666666666666666,
             "#ed7953"
            ],
            [
             0.7777777777777778,
             "#fb9f3a"
            ],
            [
             0.8888888888888888,
             "#fdca26"
            ],
            [
             1,
             "#f0f921"
            ]
           ]
          },
          "colorway": [
           "#636efa",
           "#EF553B",
           "#00cc96",
           "#ab63fa",
           "#FFA15A",
           "#19d3f3",
           "#FF6692",
           "#B6E880",
           "#FF97FF",
           "#FECB52"
          ],
          "font": {
           "color": "#2a3f5f"
          },
          "geo": {
           "bgcolor": "white",
           "lakecolor": "white",
           "landcolor": "#E5ECF6",
           "showlakes": true,
           "showland": true,
           "subunitcolor": "white"
          },
          "hoverlabel": {
           "align": "left"
          },
          "hovermode": "closest",
          "mapbox": {
           "style": "light"
          },
          "paper_bgcolor": "white",
          "plot_bgcolor": "#E5ECF6",
          "polar": {
           "angularaxis": {
            "gridcolor": "white",
            "linecolor": "white",
            "ticks": ""
           },
           "bgcolor": "#E5ECF6",
           "radialaxis": {
            "gridcolor": "white",
            "linecolor": "white",
            "ticks": ""
           }
          },
          "scene": {
           "xaxis": {
            "backgroundcolor": "#E5ECF6",
            "gridcolor": "white",
            "gridwidth": 2,
            "linecolor": "white",
            "showbackground": true,
            "ticks": "",
            "zerolinecolor": "white"
           },
           "yaxis": {
            "backgroundcolor": "#E5ECF6",
            "gridcolor": "white",
            "gridwidth": 2,
            "linecolor": "white",
            "showbackground": true,
            "ticks": "",
            "zerolinecolor": "white"
           },
           "zaxis": {
            "backgroundcolor": "#E5ECF6",
            "gridcolor": "white",
            "gridwidth": 2,
            "linecolor": "white",
            "showbackground": true,
            "ticks": "",
            "zerolinecolor": "white"
           }
          },
          "shapedefaults": {
           "line": {
            "color": "#2a3f5f"
           }
          },
          "ternary": {
           "aaxis": {
            "gridcolor": "white",
            "linecolor": "white",
            "ticks": ""
           },
           "baxis": {
            "gridcolor": "white",
            "linecolor": "white",
            "ticks": ""
           },
           "bgcolor": "#E5ECF6",
           "caxis": {
            "gridcolor": "white",
            "linecolor": "white",
            "ticks": ""
           }
          },
          "title": {
           "x": 0.05
          },
          "xaxis": {
           "automargin": true,
           "gridcolor": "white",
           "linecolor": "white",
           "ticks": "",
           "title": {
            "standoff": 15
           },
           "zerolinecolor": "white",
           "zerolinewidth": 2
          },
          "yaxis": {
           "automargin": true,
           "gridcolor": "white",
           "linecolor": "white",
           "ticks": "",
           "title": {
            "standoff": 15
           },
           "zerolinecolor": "white",
           "zerolinewidth": 2
          }
         }
        },
        "title": {
         "text": "PC1 Projection Distribution per Group"
        },
        "violinmode": "overlay",
        "xaxis": {
         "title": {
          "text": "Protein Cluster"
         }
        },
        "yaxis": {
         "range": [
          -12,
          12
         ],
         "title": {
          "text": "PC1"
         }
        }
       }
      }
     },
     "metadata": {},
     "output_type": "display_data"
    }
   ],
   "source": [
    "# La PC1 de qq1 y qq3 separan entre grupos. Sacar violin plot de la proyección\n",
    "qqcomE\n",
    "tmp = dict(list(mdata.set_index('Seqn').loc[qqcomE.index].reset_index(names='Seqn').groupby('Group')))\n",
    "tmp2 = pd.melt(qqcomE.reset_index(names='Seqn'), id_vars='Seqn', value_vars=qqcomE.columns).set_index('Seqn')\n",
    "\n",
    "fig = go.Figure()\n",
    "fig.add_trace(go.Violin(x=tmp2.loc[tmp['C'].Seqn].variable,\n",
    "                        y=tmp2.loc[tmp['C'].Seqn].value,\n",
    "                        legendgroup='C', scalegroup='C', name='C',\n",
    "                        side='negative',\n",
    "                        line_color=palette[0])\n",
    "             )\n",
    "fig.add_trace(go.Violin(x=tmp2.loc[tmp['D'].Seqn].variable,\n",
    "                        y=tmp2.loc[tmp['D'].Seqn].value,\n",
    "                        legendgroup='D', scalegroup='D', name='D',\n",
    "                        side='positive',\n",
    "                        line_color=palette[1])\n",
    "             )\n",
    "\n",
    "fig.update_traces(box_visible=False, meanline_visible=True)\n",
    "fig.update_layout(violinmode='overlay', title='PC1 Projection Distribution per Group')\n",
    "fig.update_yaxes(title='PC1', range=(-12,12))\n",
    "fig.update_xaxes(title='Protein Cluster')\n",
    "fig.show()"
   ]
  },
  {
   "cell_type": "code",
   "execution_count": 54,
   "metadata": {},
   "outputs": [
    {
     "data": {
      "application/vnd.plotly.v1+json": {
       "config": {
        "plotlyServerURL": "https://plot.ly"
       },
       "data": [
        {
         "box": {
          "visible": false
         },
         "legendgroup": "C",
         "line": {
          "color": "#636EFA"
         },
         "meanline": {
          "visible": true
         },
         "name": "C",
         "scalegroup": "C",
         "side": "negative",
         "type": "violin",
         "x": [
          "4",
          "6",
          "20",
          "21",
          "4",
          "6",
          "20",
          "21",
          "4",
          "6",
          "20",
          "21",
          "4",
          "6",
          "20",
          "21",
          "4",
          "6",
          "20",
          "21",
          "4",
          "6",
          "20",
          "21",
          "4",
          "6",
          "20",
          "21",
          "4",
          "6",
          "20",
          "21",
          "4",
          "6",
          "20",
          "21",
          "4",
          "6",
          "20",
          "21",
          "4",
          "6",
          "20",
          "21",
          "4",
          "6",
          "20",
          "21",
          "4",
          "6",
          "20",
          "21",
          "4",
          "6",
          "20",
          "21",
          "4",
          "6",
          "20",
          "21",
          "4",
          "6",
          "20",
          "21",
          "4",
          "6",
          "20",
          "21",
          "4",
          "6",
          "20",
          "21",
          "4",
          "6",
          "20",
          "21",
          "4",
          "6",
          "20",
          "21",
          "4",
          "6",
          "20",
          "21",
          "4",
          "6",
          "20",
          "21",
          "4",
          "6",
          "20",
          "21",
          "4",
          "6",
          "20",
          "21",
          "4",
          "6",
          "20",
          "21",
          "4",
          "6",
          "20",
          "21",
          "4",
          "6",
          "20",
          "21",
          "4",
          "6",
          "20",
          "21",
          "4",
          "6",
          "20",
          "21",
          "4",
          "6",
          "20",
          "21",
          "4",
          "6",
          "20",
          "21",
          "4",
          "6",
          "20",
          "21",
          "4",
          "6",
          "20",
          "21",
          "4",
          "6",
          "20",
          "21",
          "4",
          "6",
          "20",
          "21",
          "4",
          "6",
          "20",
          "21",
          "4",
          "6",
          "20",
          "21",
          "4",
          "6",
          "20",
          "21",
          "4",
          "6",
          "20",
          "21",
          "4",
          "6",
          "20",
          "21",
          "4",
          "6",
          "20",
          "21",
          "4",
          "6",
          "20",
          "21",
          "4",
          "6",
          "20",
          "21",
          "4",
          "6",
          "20",
          "21",
          "4",
          "6",
          "20",
          "21",
          "4",
          "6",
          "20",
          "21",
          "4",
          "6",
          "20",
          "21",
          "4",
          "6",
          "20",
          "21",
          "4",
          "6",
          "20",
          "21",
          "4",
          "6",
          "20",
          "21",
          "4",
          "6",
          "20",
          "21",
          "4",
          "6",
          "20",
          "21",
          "4",
          "6",
          "20",
          "21",
          "4",
          "6",
          "20",
          "21",
          "4",
          "6",
          "20",
          "21",
          "4",
          "6",
          "20",
          "21",
          "4",
          "6",
          "20",
          "21",
          "4",
          "6",
          "20",
          "21",
          "4",
          "6",
          "20",
          "21",
          "4",
          "6",
          "20",
          "21",
          "4",
          "6",
          "20",
          "21",
          "4",
          "6",
          "20",
          "21",
          "4",
          "6",
          "20",
          "21",
          "4",
          "6",
          "20",
          "21",
          "4",
          "6",
          "20",
          "21",
          "4",
          "6",
          "20",
          "21",
          "4",
          "6",
          "20",
          "21",
          "4",
          "6",
          "20",
          "21",
          "4",
          "6",
          "20",
          "21",
          "4",
          "6",
          "20",
          "21",
          "4",
          "6",
          "20",
          "21",
          "4",
          "6",
          "20",
          "21",
          "4",
          "6",
          "20",
          "21",
          "4",
          "6",
          "20",
          "21",
          "4",
          "6",
          "20",
          "21",
          "4",
          "6",
          "20",
          "21",
          "4",
          "6",
          "20",
          "21",
          "4",
          "6",
          "20",
          "21",
          "4",
          "6",
          "20",
          "21",
          "4",
          "6",
          "20",
          "21",
          "4",
          "6",
          "20",
          "21",
          "4",
          "6",
          "20",
          "21",
          "4",
          "6",
          "20",
          "21",
          "4",
          "6",
          "20",
          "21",
          "4",
          "6",
          "20",
          "21",
          "4",
          "6",
          "20",
          "21",
          "4",
          "6",
          "20",
          "21",
          "4",
          "6",
          "20",
          "21",
          "4",
          "6",
          "20",
          "21",
          "4",
          "6",
          "20",
          "21",
          "4",
          "6",
          "20",
          "21",
          "4",
          "6",
          "20",
          "21",
          "4",
          "6",
          "20",
          "21",
          "4",
          "6",
          "20",
          "21",
          "4",
          "6",
          "20",
          "21",
          "4",
          "6",
          "20",
          "21",
          "4",
          "6",
          "20",
          "21",
          "4",
          "6",
          "20",
          "21",
          "4",
          "6",
          "20",
          "21",
          "4",
          "6",
          "20",
          "21",
          "4",
          "6",
          "20",
          "21",
          "4",
          "6",
          "20",
          "21",
          "4",
          "6",
          "20",
          "21",
          "4",
          "6",
          "20",
          "21",
          "4",
          "6",
          "20",
          "21",
          "4",
          "6",
          "20",
          "21",
          "4",
          "6",
          "20",
          "21",
          "4",
          "6",
          "20",
          "21",
          "4",
          "6",
          "20",
          "21",
          "4",
          "6",
          "20",
          "21",
          "4",
          "6",
          "20",
          "21",
          "4",
          "6",
          "20",
          "21",
          "4",
          "6",
          "20",
          "21",
          "4",
          "6",
          "20",
          "21",
          "4",
          "6",
          "20",
          "21",
          "4",
          "6",
          "20",
          "21",
          "4",
          "6",
          "20",
          "21",
          "4",
          "6",
          "20",
          "21",
          "4",
          "6",
          "20",
          "21",
          "4",
          "6",
          "20",
          "21",
          "4",
          "6",
          "20",
          "21",
          "4",
          "6",
          "20",
          "21",
          "4",
          "6",
          "20",
          "21",
          "4",
          "6",
          "20",
          "21",
          "4",
          "6",
          "20",
          "21",
          "4",
          "6",
          "20",
          "21",
          "4",
          "6",
          "20",
          "21",
          "4",
          "6",
          "20",
          "21",
          "4",
          "6",
          "20",
          "21",
          "4",
          "6",
          "20",
          "21",
          "4",
          "6",
          "20",
          "21",
          "4",
          "6",
          "20",
          "21",
          "4",
          "6",
          "20",
          "21",
          "4",
          "6",
          "20",
          "21",
          "4",
          "6",
          "20",
          "21",
          "4",
          "6",
          "20",
          "21",
          "4",
          "6",
          "20",
          "21",
          "4",
          "6",
          "20",
          "21",
          "4",
          "6",
          "20",
          "21",
          "4",
          "6",
          "20",
          "21",
          "4",
          "6",
          "20",
          "21",
          "4",
          "6",
          "20",
          "21",
          "4",
          "6",
          "20",
          "21",
          "4",
          "6",
          "20",
          "21",
          "4",
          "6",
          "20",
          "21",
          "4",
          "6",
          "20",
          "21",
          "4",
          "6",
          "20",
          "21",
          "4",
          "6",
          "20",
          "21",
          "4",
          "6",
          "20",
          "21",
          "4",
          "6",
          "20",
          "21",
          "4",
          "6",
          "20",
          "21",
          "4",
          "6",
          "20",
          "21",
          "4",
          "6",
          "20",
          "21",
          "4",
          "6",
          "20",
          "21",
          "4",
          "6",
          "20",
          "21",
          "4",
          "6",
          "20",
          "21",
          "4",
          "6",
          "20",
          "21",
          "4",
          "6",
          "20",
          "21",
          "4",
          "6",
          "20",
          "21",
          "4",
          "6",
          "20",
          "21",
          "4",
          "6",
          "20",
          "21",
          "4",
          "6",
          "20",
          "21",
          "4",
          "6",
          "20",
          "21",
          "4",
          "6",
          "20",
          "21",
          "4",
          "6",
          "20",
          "21",
          "4",
          "6",
          "20",
          "21",
          "4",
          "6",
          "20",
          "21",
          "4",
          "6",
          "20",
          "21",
          "4",
          "6",
          "20",
          "21",
          "4",
          "6",
          "20",
          "21",
          "4",
          "6",
          "20",
          "21",
          "4",
          "6",
          "20",
          "21",
          "4",
          "6",
          "20",
          "21",
          "4",
          "6",
          "20",
          "21",
          "4",
          "6",
          "20",
          "21",
          "4",
          "6",
          "20",
          "21",
          "4",
          "6",
          "20",
          "21",
          "4",
          "6",
          "20",
          "21",
          "4",
          "6",
          "20",
          "21",
          "4",
          "6",
          "20",
          "21",
          "4",
          "6",
          "20",
          "21",
          "4",
          "6",
          "20",
          "21",
          "4",
          "6",
          "20",
          "21",
          "4",
          "6",
          "20",
          "21",
          "4",
          "6",
          "20",
          "21",
          "4",
          "6",
          "20",
          "21",
          "4",
          "6",
          "20",
          "21",
          "4",
          "6",
          "20",
          "21",
          "4",
          "6",
          "20",
          "21",
          "4",
          "6",
          "20",
          "21",
          "4",
          "6",
          "20",
          "21",
          "4",
          "6",
          "20",
          "21",
          "4",
          "6",
          "20",
          "21",
          "4",
          "6",
          "20",
          "21",
          "4",
          "6",
          "20",
          "21",
          "4",
          "6",
          "20",
          "21",
          "4",
          "6",
          "20",
          "21",
          "4",
          "6",
          "20",
          "21",
          "4",
          "6",
          "20",
          "21",
          "4",
          "6",
          "20",
          "21",
          "4",
          "6",
          "20",
          "21",
          "4",
          "6",
          "20",
          "21",
          "4",
          "6",
          "20",
          "21",
          "4",
          "6",
          "20",
          "21",
          "4",
          "6",
          "20",
          "21",
          "4",
          "6",
          "20",
          "21",
          "4",
          "6",
          "20",
          "21",
          "4",
          "6",
          "20",
          "21",
          "4",
          "6",
          "20",
          "21",
          "4",
          "6",
          "20",
          "21",
          "4",
          "6",
          "20",
          "21",
          "4",
          "6",
          "20",
          "21",
          "4",
          "6",
          "20",
          "21",
          "4",
          "6",
          "20",
          "21",
          "4",
          "6",
          "20",
          "21",
          "4",
          "6",
          "20",
          "21",
          "4",
          "6",
          "20",
          "21",
          "4",
          "6",
          "20",
          "21",
          "4",
          "6",
          "20",
          "21",
          "4",
          "6",
          "20",
          "21"
         ],
         "y": [
          18.767037202829943,
          -1.1207048039862249,
          -2.295851605961601,
          1.8617335371383716,
          -1.919300795823253,
          -1.7533752511945042,
          3.5968672337686063,
          3.513728012818062,
          -0.041255871729192505,
          11.559823143933887,
          3.3206893625747154,
          -0.30394996624007753,
          -2.553328213780035,
          -3.58996245232106,
          1.3582257450836706,
          -0.12807047322982087,
          0.5835593738160365,
          -2.122960396507868,
          -0.9109560526200446,
          3.106985660533206,
          -1.199685966128573,
          -1.5097440069107904,
          -1.1381063228892554,
          1.6210399397321205,
          0.5609050853884849,
          1.4070974531578408,
          3.7681532962266684,
          -7.923144199653007,
          -2.1407645290248825,
          2.6775890251065637,
          -1.4601198652669733,
          0.5705143714934683,
          -2.5583493354023408,
          -0.0707940639964565,
          -0.27643223781023685,
          -1.5267544499346777,
          -5.120270342947884,
          -0.815944025921106,
          -3.3427725293384394,
          -2.336950278210732,
          0.6165351408263254,
          6.479059068566651,
          -0.8877871996217457,
          -0.7170486853846342,
          -0.29812699241013,
          3.0908420491928097,
          3.20687200959858,
          0.8963297629933911,
          -2.829394702440929,
          -3.1330975175462883,
          0.794432375531401,
          1.7946192970832997,
          0.33795028333682264,
          9.795689114102473,
          1.354109460311904,
          1.3686611994594697,
          -3.4245900106911473,
          -9.05790603001625,
          -3.6397534974656365,
          2.7159022020427397,
          -5.004818846335212,
          -2.7249188954206423,
          1.7914144332556161,
          0.13261270772057257,
          4.566507920402453,
          0.4231690690103511,
          -1.870197920027524,
          -1.0175377148905855,
          -1.2252982639609868,
          0.9970446792504248,
          -1.988339091024131,
          1.1817340765354054,
          -3.7121538563686,
          0.6830125859424863,
          -2.4429925009565685,
          -0.030207331525934106,
          2.1457628412087106,
          -1.0338594659055451,
          -3.038556436538983,
          3.5301105590094926,
          -1.741371395831592,
          -0.16852776212155215,
          -0.3882989634011486,
          0.5659343073166884,
          -4.780409678527477,
          11.611235936657268,
          -0.507498588576553,
          5.244243671375404,
          0.9252414565778596,
          -1.747124364260197,
          -0.740895216352943,
          0.019169602325386132,
          2.671202326559372,
          1.6167743121029885,
          -3.910208389593891,
          -1.325506177846183,
          -3.0530458091768797,
          -2.973186645119955,
          -0.5464158429022544,
          4.743599962805407,
          -3.861502406063289,
          -0.3701432438499433,
          -2.9259528377084707,
          -0.12908217704443156,
          1.3752658912529112,
          -3.091411448013608,
          -3.96241403371348,
          1.1172491051654372,
          -2.742855846571335,
          -0.30148602154647064,
          -0.8708360609640083,
          -1.6718730381070919,
          14.783080985143725,
          5.6869467627203525,
          1.3034443580731048,
          -0.2614294420638101,
          0.2832676025557401,
          2.6757184841652184,
          -1.899573591434678,
          3.1744354995415156,
          -4.875352363599479,
          -6.63295950483104,
          1.7558583263561869,
          -0.2681543825303559,
          -8.095434364769462,
          0.7376699824964625,
          1.6240035650639022,
          2.226330185170834,
          -0.20542569198862679,
          -5.8466452508836335,
          0.35898755769542484,
          -1.4996726523968567,
          -5.247344772581261,
          -8.737577924658233,
          -2.3665714040175003,
          0.625995032540305,
          1.3699157293511572,
          5.359740605873601,
          -1.4291860791433362,
          2.382511617591979,
          15.83640209336504,
          -2.1066642119073213,
          -2.5413095550393803,
          0.5924555602225641,
          -0.05765756751857086,
          2.6333185042064486,
          0.6695180006078937,
          -0.569416045403935,
          -0.9734926770566346,
          -0.002190382347206939,
          -2.208494528100652,
          0.7964562730960293,
          -2.982734526364799,
          3.5221483349627043,
          -5.277828903141073,
          3.584043763101251,
          -0.4679453132114469,
          -3.2047465738282295,
          -2.0673063062403565,
          1.0379390320795099,
          -2.1414374029072887,
          0.8271090842836415,
          -0.4292488859808612,
          0.11989206136925201,
          2.8739196988336078,
          -1.7405342052061021,
          -0.9969395209026326,
          0.023768978250644134,
          4.573791185178182,
          2.51452151113578,
          1.2217942744425043,
          -3.4524734769103893,
          -1.04425926834853,
          -0.5604298415789314,
          0.7950246306930823,
          0.29901296007599826,
          -4.758543705926847,
          -2.6222475720937526,
          -3.108388210469058,
          -5.546354846457225,
          -3.904492624267792,
          2.298656524812796,
          -1.4162524877676999,
          -5.6297307571968025,
          -3.8807886291508753,
          -7.438487808416324,
          -1.9010335247823236,
          -0.12178115647749703,
          0.3395256462927341,
          -3.620840296176784,
          -0.9979433944540487,
          1.0113206552288325,
          8.497810863321213,
          -7.937967587307303,
          3.7206915789472106,
          -3.0274584846825072,
          2.08561870017053,
          1.7741317895120254,
          -0.8501135751800086,
          -2.245020317268982,
          -4.094139523975915,
          -1.979938466399523,
          -2.3391350444143493,
          -2.1876480806985583,
          -2.0305846966829946,
          2.770186549429578,
          1.0020571061150045,
          6.360216086510492,
          -4.062454831521913,
          -0.7551634094840071,
          -0.49743928462527975,
          -4.73464269229561,
          -3.7906477729078665,
          -0.242834918216977,
          -0.015902762724201446,
          1.0406754561495601,
          -1.486384386926187,
          -3.858500569713877,
          0.07877164663875365,
          0.8846134437971331,
          -2.494432437642989,
          -2.8813518421152553,
          -0.5427062317105966,
          3.501861113077361,
          -1.0110987781387484,
          -3.434426497459419,
          -1.173536445109846,
          4.212876875901492,
          0.33114207946895197,
          -2.5370890165698605,
          -1.720599081979544,
          1.716014606671209,
          5.492305538431635,
          2.484166668138457,
          -1.312441167620049,
          0.39280105400953125,
          1.9497284539871114,
          8.037018591993307,
          0.1811075252690477,
          1.121491626053085,
          -2.6153914980033863,
          -1.4775977152302617,
          -2.7921858219063735,
          2.097344287567779,
          -0.6318483422644194,
          -3.6753997975001464,
          -0.10131924639417869,
          2.538478389733466,
          -2.751985836274005,
          0.06817495659729407,
          -2.0802492403671233,
          0.5815270337908497,
          -5.9555232464918975,
          -4.853360861371462,
          -1.5709641553639178,
          -0.4251520462968242,
          -6.063940240591504,
          -1.417757118282456,
          -2.8495505634915967,
          2.2243577386789277,
          -2.6006042868333576,
          -5.340538164202601,
          -0.3625782015215988,
          -1.1426252870628872,
          2.5451108073727107,
          3.7791067190759557,
          -0.5452421371932379,
          -1.2536910294713532,
          2.054413359115715,
          6.911194186677463,
          0.48767839996243056,
          1.5609420570371475,
          -1.832727570358558,
          1.962156999588061,
          1.7388623617732784,
          1.467552543200111,
          -4.502620482981497,
          -2.0015230076856656,
          -2.806091599756949,
          -0.23311128935643513,
          0.7402076004283145,
          1.2081803179425157,
          0.2712112269984107,
          4.347268071447733,
          -6.529591915477619,
          -3.7738290030369006,
          -0.16873381722321498,
          1.7457558861318991,
          -1.5602732342141097,
          -2.3469189141655007,
          2.538977204149245,
          1.0862401693661161,
          -6.7530634766583475,
          -0.301883150505368,
          5.605324112137014,
          -5.894250872602659,
          3.9498016973058805,
          1.6050594445399573,
          0.5872283967838332,
          2.146048739483885,
          1.4243131535184943,
          -3.782683361203119,
          -1.0892795216477107,
          1.4632907515377793,
          13.862289253911706,
          4.747553353075661,
          -0.9771179847626404,
          -2.2942876595480763,
          -4.653732253410497,
          -4.671435468743112,
          -2.180048520660881,
          0.6669339282431592,
          -5.952700397804744,
          3.23828838978765,
          0.7081217336242464,
          -1.7476864068195144,
          -2.711280134907263,
          -1.635604122706237,
          -5.102530916035622,
          -0.05382455719553596,
          -5.61898890885451,
          -1.4090510102764742,
          -2.036074408286292,
          1.4965364408177777,
          -3.2498810328444283,
          3.0383404449849865,
          -0.4004835555225144,
          -2.9630386438399325,
          -2.6072486752522335,
          1.6146191795777933,
          -0.9397928000451609,
          0.9456915321690378,
          -4.823997796072338,
          -2.7378262819937262,
          0.2600012672037128,
          2.6632559625227836,
          6.185001852366892,
          3.548791879981785,
          -0.3710378493734535,
          -0.6592622759102423,
          -1.8551768097247923,
          -2.2663709541388255,
          0.4007172640980789,
          -1.3235371422155269,
          -4.836502211955515,
          4.4706382893462715,
          -1.5771060055795714,
          2.7447891161795948,
          -3.388028286764515,
          3.4567499817054412,
          0.7964149887109181,
          0.06907824032138477,
          14.891387812335948,
          -3.434095724758221,
          -0.5341024528880375,
          2.1558729391336455,
          -4.14046645398735,
          -2.6964192316203612,
          0.2777428612431654,
          5.313359270123485,
          -1.0776366468165044,
          -0.182392114103175,
          -1.8137941260236765,
          -0.11849853735186902,
          -2.3782950880283567,
          3.054292381068043,
          1.8359408878555508,
          -1.8261609183863186,
          2.112788240190091,
          -3.9977414482233984,
          -2.3516790250088273,
          6.26635509819375,
          -3.933799672218869,
          -4.181840335071441,
          -3.0071622607832857,
          -2.533453254592975,
          -0.9787289320290185,
          -2.9590025388568573,
          0.6569226000269027,
          0.13405474601427003,
          -2.529108494305685,
          -0.9519281139186611,
          -6.121663373054529,
          -1.6734135310104266,
          -0.6864163878275872,
          -1.0469793361947615,
          2.357968953301078,
          -5.093424216825991,
          -2.2880478083680513,
          1.6948482470143247,
          -1.567711727754796,
          -3.8207432779887625,
          -4.972052965855643,
          -3.065492372344447,
          -0.35913428453246726,
          2.123152517848266,
          -1.2530451374658376,
          2.9984377124061665,
          -0.021767742796207915,
          0.7421126883770572,
          -2.977745109896082,
          -5.279229922849903,
          3.9856084705083346,
          3.329698686606809,
          -1.4183157915895777,
          -4.456546967941279,
          2.5594037413122503,
          -0.8572550536453817,
          -2.58927137858733,
          -7.174765533732491,
          1.5918745650664243,
          5.409718068654823,
          -0.6846094521204051,
          2.5562682231495897,
          -0.7494371852102318,
          -0.9136411772016445,
          -1.673094515438322,
          0.9455954609626174,
          1.6435255600418062,
          -1.9635018382047702,
          2.1852469944394373,
          4.484958184221572,
          -1.2652574826224825,
          3.689509628641226,
          4.085978938233921,
          -3.514415125310128,
          -0.44137440487966345,
          1.0424856739518404,
          -1.1583904852530982,
          -2.092423404744996,
          2.346741318682309,
          -2.881453166514404,
          4.995879461767147,
          2.8751642973264415,
          5.054677995142754,
          -0.24811286882268663,
          -2.201752447589041,
          -7.316353551482294,
          -0.27259085198309124,
          0.4562540556029606,
          -4.103971951103404,
          -1.6291781087308759,
          1.5565662516790673,
          -4.783877747806647,
          10.173841218908912,
          -4.612114604105842,
          -0.8560155127213683,
          0.3874965383950734,
          0.1258376241750137,
          -4.451500997332194,
          -0.9999048746513932,
          3.0448823062031294,
          -5.405069360637274,
          -5.235095708900947,
          1.2895114816787934,
          0.21989980936398157,
          -7.000008678808849,
          1.6902101548671806,
          0.4909141251663522,
          0.29871746095628365,
          -4.5658100652000275,
          -2.095730656459541,
          0.928436190764449,
          4.404331760019487,
          -5.340971574623624,
          -2.371025779260384,
          -1.960381288289021,
          1.0387224217680808,
          -3.786611691474764,
          -1.4027935909740832,
          -0.20252005080277735,
          -1.444080647793816,
          -2.9411618099702226,
          0.21537784098432092,
          2.095893406702357,
          1.4963615485469075,
          0.44398747264730504,
          1.1053681664425454,
          0.7326602607509004,
          2.085406807679346,
          0.951520714858881,
          -7.308362856056613,
          -1.4089256971748918,
          -1.339063155136314,
          -5.565615930048575,
          0.2096233331675425,
          -3.026601935048145,
          2.262582267409315,
          4.972874703058156,
          4.741258529888565,
          -1.8577815669024709,
          3.694727375055691,
          -3.851772905397769,
          2.341304259492686,
          2.7064093991788614,
          -2.3174017712163315,
          -6.09622515989387,
          -3.5642585391650905,
          -2.0512513965070993,
          -4.602035848320691,
          0.18590815318497364,
          -1.752267948290244,
          -0.08767207322723139,
          1.7867963916969452,
          -6.999843559951404,
          4.2905280950676845,
          -2.0382671074160337,
          -0.1360217567346771,
          -2.673091595748235,
          1.9108204334404713,
          2.014885205885435,
          -0.8655879102747528,
          -2.4793928513881793,
          -4.025066917891201,
          2.8006861549216007,
          9.396721770092089,
          0.24489359224050378,
          -4.650435626040231,
          -0.00761002513251923,
          1.33350652741585,
          -2.422600337958633,
          2.0982490320654734,
          0.7269696285733002,
          -2.8751189467268192,
          -6.606186187949687,
          2.389230422650487,
          -0.9950082680681129,
          2.615573139256632,
          -4.572794182821408,
          3.7629509541021036,
          1.324458746940832,
          1.2496574994125764,
          -2.118732566401575,
          -0.6664653869882068,
          1.1130479144693817,
          0.5211867068053607,
          0.1799094721891949,
          0.6914717244565346,
          1.2383373836742089,
          -0.45578025712408365,
          -0.463085307380477,
          -1.8869496391294842,
          2.1023244737509317,
          0.5019163781665227,
          12.047759866316685,
          4.834558681792253,
          0.12231756360655967,
          0.42005890249010647,
          -4.537815346559471,
          1.4768903690329251,
          -1.4023833674714161,
          4.767809328339401,
          -0.7756577573997536,
          3.0777556398165746,
          -0.38927271330457536,
          -0.9046293851755728,
          0.16617324667974268,
          0.2612440932988468,
          -1.5680628664444556,
          -4.318413328628785,
          0.22798672886918864,
          -5.0634081914000735,
          0.973892844162339,
          0.09432212973263226,
          -4.180127233867214,
          -4.5336490485969865,
          0.7532824874007837,
          4.260289998061438,
          -5.424912705489905,
          -3.8548182342504758,
          -0.4082693621837314,
          -3.4774105048787556,
          0.41337917558141907,
          2.9493792236991,
          0.016694968840677196,
          3.6687995840490655,
          1.0634739451972663,
          -7.355171295130549,
          -2.584778826706899,
          -3.63406305139375,
          -0.5286409749292434,
          -1.889698544444029,
          0.9820736206769141,
          -1.499663268037605,
          -1.6304208921309855,
          -6.841426807575719,
          -1.3269503235194564,
          7.596885346851869,
          -0.9207422250688772,
          1.6118434374438124,
          1.1532235206146295,
          -2.3154192887293505,
          -0.7421408477882385,
          -4.843288602055686,
          1.1094272126475995,
          0.8559155255496608,
          -4.43518171691884,
          1.7145706713808564,
          0.6158378079892546,
          -1.0000962529608128,
          -3.8019814264124823,
          -4.41852134185896,
          -0.6763136750722074,
          3.5220037012084413,
          1.1937821414921188,
          -0.38589677598531313,
          0.12208919870020721,
          -5.215726965089332,
          -2.937605891397242,
          -2.8706591010151628,
          -0.44284911037652747,
          3.457648716368169,
          -5.171796034115488,
          -2.9223407140306983,
          0.20400261947464196,
          1.5559396933148923,
          -7.2286391335175315,
          -0.7280465187043492,
          1.3639466627098773,
          -3.8907266028072827,
          -4.509094549149002,
          -5.2974455798951245,
          -1.1935159901620698,
          -1.0636572350167204,
          -5.547260292411083,
          -0.49129117379750886,
          0.3311435590229442,
          1.1669776773837266,
          -2.554595777424578,
          0.6495387814518254,
          1.3857062001066656,
          0.719531929305471,
          -1.6854764986600634,
          -2.0636572668174042,
          -1.6409637916201667,
          0.905164113157574,
          -0.6683030632864151,
          0.3721979141697808,
          -1.0193204600527963,
          1.9890278329276305,
          -3.613316392230186,
          -0.431617639907908,
          -0.4858810476026187,
          2.577838534779979,
          -6.944136219830228,
          -4.878784705223219,
          -3.5291162856043616,
          -0.1532005258544954,
          -3.685883883662792,
          0.43013277072013406,
          0.2179909413637212,
          -1.3267272944664,
          2.1512467624151648,
          2.324620812949614,
          -1.0882302943145357,
          4.136839214841511,
          -3.957805309813828,
          -3.2781769726357024,
          6.633664254911604,
          -5.090254051295411,
          -4.892279407152704,
          -5.368485593154495,
          0.3886651793996247,
          -2.5000642452261728,
          5.596454266075028,
          -3.0251804803935527,
          1.3054331772872085,
          6.9739555513045755,
          -4.433704981328505,
          1.1716637285200935,
          -1.1702076702367543,
          -2.545264252343895,
          0.7969008280748717,
          1.0187975170591772,
          -1.4033005403110321,
          -1.24277614938146,
          13.648890486740214,
          5.945645075348887,
          -1.6108065751147282,
          0.21990238870682222,
          -1.059312425182957,
          1.302573699525276,
          -1.273426948406739,
          3.9274203633825535,
          -1.554883333706444,
          2.1728267828672108,
          3.6241447334733743,
          -1.1396729878955547,
          -2.476524083668667,
          -1.7624072431715612,
          0.8094935775933101,
          -1.4283129336391722,
          0.7046706924298101,
          -3.1472729925384395,
          0.1769696358825863,
          4.727220993956091,
          -5.409586499559812,
          -9.893764522905213,
          1.1996421653281177,
          0.09078076525433441,
          -4.393272950697124,
          -0.21469523178907268,
          -0.3197977194108076,
          -0.5911256634454669,
          2.2642976330510516,
          -0.4688657797214574,
          -0.5339636409895847,
          1.3573977105439443,
          0.3426234107378291,
          -0.6522055992864173,
          0.7588063318299919,
          4.66614223250625,
          1.4568701454237762,
          7.423698917593119,
          -0.14486310506294772,
          1.2735588979177923,
          -0.24612349318255958,
          5.952287463876063,
          0.7884897346977144,
          2.07102619697962,
          0.7609663126643333,
          -0.220501187187423,
          0.3521985804513197,
          -0.12925741379397385,
          -3.1599708947488145,
          -1.8059359177831564,
          1.8490834575575947,
          1.1033678429123166,
          -3.425131206199985,
          -3.1842226507067513,
          -2.4103436702011436,
          -3.3494388990483213,
          2.02404963869956,
          -6.74657273141408,
          0.426856665241289,
          -0.8164304868325951,
          -6.524659688635317,
          -5.7610017778147204,
          0.08002169630987906,
          3.0376937963360695,
          -5.21713987989516,
          -5.295328371243142,
          0.9589962120848592,
          5.466990352135958,
          4.139907844143031,
          0.435953387538083,
          -1.613107154327842,
          1.766589381677485,
          13.349302550138365,
          -2.6507902422639065,
          -1.0821418966498781,
          -2.3930483695287545,
          -5.937962321670901,
          -5.005354386270576,
          -1.9408837048746623,
          -4.185850817966317,
          -2.522496628504011,
          -2.296478637501678,
          -5.037538226132286,
          4.822207417843271,
          -0.40290033317372037,
          -2.8565610581149556,
          1.4026479932643143,
          0.5235378308035373,
          -1.6901667958243305,
          1.8363778948168805,
          -1.2199114390407282,
          -5.934586501875039,
          -2.3662914481923756,
          0.7229557860127562,
          -0.11656713337967012,
          2.4761888512613806,
          -5.355636635972519,
          -0.13012867239951229,
          -1.866075632617551,
          1.4745254180760257,
          1.4086980088321055,
          -2.959356311761303,
          0.15111659846862377,
          -0.25522628327843433,
          -0.707834004590423,
          -3.1853378123509017,
          2.6696052275266258,
          0.690646652801171,
          -4.6487758091212354,
          -0.3177238858316094,
          -4.134553729944873,
          -4.426921023888,
          -4.060010470289462,
          -3.61744302937316,
          -2.5752585025707924,
          -2.149317323108427,
          -1.7560389681011308,
          -2.157064513920036,
          -1.541036014846352,
          -4.837954405581698,
          -1.328026348302801,
          1.7458592885186135,
          -1.4050734229260253,
          -2.416561866440368,
          -5.871999870998054,
          -4.385684301527046,
          -2.2244325331176564,
          -1.8389182133229285,
          -0.3429870599706961,
          7.776690987953956,
          0.5740352401279667,
          -6.628652892981956,
          -4.2825036095258575,
          -4.657572016278078,
          6.859921622619903,
          -2.8075787700142074,
          -1.5943868595515793,
          1.2680786738615322,
          -3.9251862504609596,
          4.098703657781604,
          0.21429864105642674,
          1.835505896109192,
          -1.0103600920280347,
          -1.9906647154760875,
          -3.4047036285767525,
          -3.715733264429815,
          -1.4848615949420492,
          2.2444299215420074,
          0.01567339180555864,
          0.5936968821961944,
          0.928283571758522,
          -0.11063299457518698,
          -5.412846923938367,
          -0.005508937977174541,
          -0.9879405635859346,
          2.5238312564395886,
          -2.986605661747074,
          1.1306843731113152,
          -2.5375975610540027,
          1.898786200921536,
          2.235674566310362,
          -3.6714627482421016,
          0.0902114469278039,
          4.560601165496456,
          -4.519360544957023,
          4.709899302515572,
          -0.9684123302244414,
          0.7302059167682544,
          -6.002616153330484,
          0.4573975417496967,
          -0.10406499462517141,
          4.576772990049444,
          8.767656621156503,
          0.44973670386965287,
          -3.791222521022271,
          1.3631005765813846,
          -3.259928775315535,
          -1.726466744265781,
          -1.7046014461075218,
          1.6794736724287533,
          14.04320924867001,
          -3.485199306464201,
          2.257653568245111,
          0.7377891155894689,
          -1.0905227531193291,
          5.332479722769297,
          -1.5037936213676661,
          1.3971274741810542,
          -2.201059450244828,
          -0.36304900150831654,
          -0.6209211780225392,
          1.7359930632217058,
          -3.1773822362854474,
          -0.8563394570070214,
          0.9696486099734883,
          1.9456803279357948,
          -4.276152592987898,
          -3.386405767269018,
          -2.3998295206432383,
          1.7158571451380367,
          -3.9998642077054685,
          -2.7161316970242195,
          2.218891271909019,
          -6.069709321736654
         ]
        },
        {
         "box": {
          "visible": false
         },
         "legendgroup": "D",
         "line": {
          "color": "#EF553B"
         },
         "meanline": {
          "visible": true
         },
         "name": "D",
         "scalegroup": "D",
         "side": "positive",
         "type": "violin",
         "x": [
          "4",
          "6",
          "20",
          "21",
          "4",
          "6",
          "20",
          "21",
          "4",
          "6",
          "20",
          "21",
          "4",
          "6",
          "20",
          "21",
          "4",
          "6",
          "20",
          "21",
          "4",
          "6",
          "20",
          "21",
          "4",
          "6",
          "20",
          "21",
          "4",
          "6",
          "20",
          "21",
          "4",
          "6",
          "20",
          "21",
          "4",
          "6",
          "20",
          "21",
          "4",
          "6",
          "20",
          "21",
          "4",
          "6",
          "20",
          "21",
          "4",
          "6",
          "20",
          "21",
          "4",
          "6",
          "20",
          "21",
          "4",
          "6",
          "20",
          "21",
          "4",
          "6",
          "20",
          "21",
          "4",
          "6",
          "20",
          "21",
          "4",
          "6",
          "20",
          "21",
          "4",
          "6",
          "20",
          "21",
          "4",
          "6",
          "20",
          "21",
          "4",
          "6",
          "20",
          "21",
          "4",
          "6",
          "20",
          "21",
          "4",
          "6",
          "20",
          "21",
          "4",
          "6",
          "20",
          "21",
          "4",
          "6",
          "20",
          "21",
          "4",
          "6",
          "20",
          "21",
          "4",
          "6",
          "20",
          "21",
          "4",
          "6",
          "20",
          "21",
          "4",
          "6",
          "20",
          "21",
          "4",
          "6",
          "20",
          "21",
          "4",
          "6",
          "20",
          "21",
          "4",
          "6",
          "20",
          "21",
          "4",
          "6",
          "20",
          "21",
          "4",
          "6",
          "20",
          "21",
          "4",
          "6",
          "20",
          "21",
          "4",
          "6",
          "20",
          "21",
          "4",
          "6",
          "20",
          "21",
          "4",
          "6",
          "20",
          "21",
          "4",
          "6",
          "20",
          "21",
          "4",
          "6",
          "20",
          "21",
          "4",
          "6",
          "20",
          "21",
          "4",
          "6",
          "20",
          "21",
          "4",
          "6",
          "20",
          "21",
          "4",
          "6",
          "20",
          "21",
          "4",
          "6",
          "20",
          "21",
          "4",
          "6",
          "20",
          "21",
          "4",
          "6",
          "20",
          "21",
          "4",
          "6",
          "20",
          "21",
          "4",
          "6",
          "20",
          "21",
          "4",
          "6",
          "20",
          "21",
          "4",
          "6",
          "20",
          "21",
          "4",
          "6",
          "20",
          "21",
          "4",
          "6",
          "20",
          "21",
          "4",
          "6",
          "20",
          "21",
          "4",
          "6",
          "20",
          "21",
          "4",
          "6",
          "20",
          "21",
          "4",
          "6",
          "20",
          "21",
          "4",
          "6",
          "20",
          "21",
          "4",
          "6",
          "20",
          "21",
          "4",
          "6",
          "20",
          "21",
          "4",
          "6",
          "20",
          "21",
          "4",
          "6",
          "20",
          "21",
          "4",
          "6",
          "20",
          "21",
          "4",
          "6",
          "20",
          "21",
          "4",
          "6",
          "20",
          "21",
          "4",
          "6",
          "20",
          "21",
          "4",
          "6",
          "20",
          "21",
          "4",
          "6",
          "20",
          "21",
          "4",
          "6",
          "20",
          "21",
          "4",
          "6",
          "20",
          "21",
          "4",
          "6",
          "20",
          "21",
          "4",
          "6",
          "20",
          "21",
          "4",
          "6",
          "20",
          "21",
          "4",
          "6",
          "20",
          "21",
          "4",
          "6",
          "20",
          "21",
          "4",
          "6",
          "20",
          "21",
          "4",
          "6",
          "20",
          "21",
          "4",
          "6",
          "20",
          "21",
          "4",
          "6",
          "20",
          "21",
          "4",
          "6",
          "20",
          "21",
          "4",
          "6",
          "20",
          "21",
          "4",
          "6",
          "20",
          "21",
          "4",
          "6",
          "20",
          "21",
          "4",
          "6",
          "20",
          "21",
          "4",
          "6",
          "20",
          "21",
          "4",
          "6",
          "20",
          "21",
          "4",
          "6",
          "20",
          "21",
          "4",
          "6",
          "20",
          "21",
          "4",
          "6",
          "20",
          "21",
          "4",
          "6",
          "20",
          "21",
          "4",
          "6",
          "20",
          "21",
          "4",
          "6",
          "20",
          "21",
          "4",
          "6",
          "20",
          "21",
          "4",
          "6",
          "20",
          "21",
          "4",
          "6",
          "20",
          "21",
          "4",
          "6",
          "20",
          "21",
          "4",
          "6",
          "20",
          "21",
          "4",
          "6",
          "20",
          "21",
          "4",
          "6",
          "20",
          "21",
          "4",
          "6",
          "20",
          "21",
          "4",
          "6",
          "20",
          "21",
          "4",
          "6",
          "20",
          "21",
          "4",
          "6",
          "20",
          "21",
          "4",
          "6",
          "20",
          "21",
          "4",
          "6",
          "20",
          "21",
          "4",
          "6",
          "20",
          "21",
          "4",
          "6",
          "20",
          "21",
          "4",
          "6",
          "20",
          "21",
          "4",
          "6",
          "20",
          "21",
          "4",
          "6",
          "20",
          "21",
          "4",
          "6",
          "20",
          "21",
          "4",
          "6",
          "20",
          "21",
          "4",
          "6",
          "20",
          "21",
          "4",
          "6",
          "20",
          "21",
          "4",
          "6",
          "20",
          "21",
          "4",
          "6",
          "20",
          "21",
          "4",
          "6",
          "20",
          "21",
          "4",
          "6",
          "20",
          "21",
          "4",
          "6",
          "20",
          "21",
          "4",
          "6",
          "20",
          "21",
          "4",
          "6",
          "20",
          "21",
          "4",
          "6",
          "20",
          "21",
          "4",
          "6",
          "20",
          "21",
          "4",
          "6",
          "20",
          "21",
          "4",
          "6",
          "20",
          "21",
          "4",
          "6",
          "20",
          "21",
          "4",
          "6",
          "20",
          "21",
          "4",
          "6",
          "20",
          "21",
          "4",
          "6",
          "20",
          "21",
          "4",
          "6",
          "20",
          "21",
          "4",
          "6",
          "20",
          "21",
          "4",
          "6",
          "20",
          "21",
          "4",
          "6",
          "20",
          "21",
          "4",
          "6",
          "20",
          "21",
          "4",
          "6",
          "20",
          "21",
          "4",
          "6",
          "20",
          "21",
          "4",
          "6",
          "20",
          "21",
          "4",
          "6",
          "20",
          "21",
          "4",
          "6",
          "20",
          "21",
          "4",
          "6",
          "20",
          "21",
          "4",
          "6",
          "20",
          "21",
          "4",
          "6",
          "20",
          "21",
          "4",
          "6",
          "20",
          "21",
          "4",
          "6",
          "20",
          "21",
          "4",
          "6",
          "20",
          "21",
          "4",
          "6",
          "20",
          "21",
          "4",
          "6",
          "20",
          "21",
          "4",
          "6",
          "20",
          "21",
          "4",
          "6",
          "20",
          "21",
          "4",
          "6",
          "20",
          "21",
          "4",
          "6",
          "20",
          "21",
          "4",
          "6",
          "20",
          "21",
          "4",
          "6",
          "20",
          "21",
          "4",
          "6",
          "20",
          "21",
          "4",
          "6",
          "20",
          "21",
          "4",
          "6",
          "20",
          "21",
          "4",
          "6",
          "20",
          "21",
          "4",
          "6",
          "20",
          "21",
          "4",
          "6",
          "20",
          "21",
          "4",
          "6",
          "20",
          "21",
          "4",
          "6",
          "20",
          "21",
          "4",
          "6",
          "20",
          "21",
          "4",
          "6",
          "20",
          "21",
          "4",
          "6",
          "20",
          "21",
          "4",
          "6",
          "20",
          "21",
          "4",
          "6",
          "20",
          "21",
          "4",
          "6",
          "20",
          "21",
          "4",
          "6",
          "20",
          "21",
          "4",
          "6",
          "20",
          "21",
          "4",
          "6",
          "20",
          "21",
          "4",
          "6",
          "20",
          "21",
          "4",
          "6",
          "20",
          "21",
          "4",
          "6",
          "20",
          "21",
          "4",
          "6",
          "20",
          "21",
          "4",
          "6",
          "20",
          "21",
          "4",
          "6",
          "20",
          "21",
          "4",
          "6",
          "20",
          "21",
          "4",
          "6",
          "20",
          "21",
          "4",
          "6",
          "20",
          "21",
          "4",
          "6",
          "20",
          "21",
          "4",
          "6",
          "20",
          "21",
          "4",
          "6",
          "20",
          "21",
          "4",
          "6",
          "20",
          "21",
          "4",
          "6",
          "20",
          "21",
          "4",
          "6",
          "20",
          "21",
          "4",
          "6",
          "20",
          "21",
          "4",
          "6",
          "20",
          "21",
          "4",
          "6",
          "20",
          "21",
          "4",
          "6",
          "20",
          "21",
          "4",
          "6",
          "20",
          "21",
          "4",
          "6",
          "20",
          "21",
          "4",
          "6",
          "20",
          "21",
          "4",
          "6",
          "20",
          "21",
          "4",
          "6",
          "20",
          "21",
          "4",
          "6",
          "20",
          "21",
          "4",
          "6",
          "20",
          "21",
          "4",
          "6",
          "20",
          "21",
          "4",
          "6",
          "20",
          "21",
          "4",
          "6",
          "20",
          "21",
          "4",
          "6",
          "20",
          "21",
          "4",
          "6",
          "20",
          "21",
          "4",
          "6",
          "20",
          "21",
          "4",
          "6",
          "20",
          "21",
          "4",
          "6",
          "20",
          "21",
          "4",
          "6",
          "20",
          "21",
          "4",
          "6",
          "20",
          "21",
          "4",
          "6",
          "20",
          "21",
          "4",
          "6",
          "20",
          "21",
          "4",
          "6",
          "20",
          "21",
          "4",
          "6",
          "20",
          "21",
          "4",
          "6",
          "20",
          "21",
          "4",
          "6",
          "20",
          "21",
          "4",
          "6",
          "20",
          "21",
          "4",
          "6",
          "20",
          "21",
          "4",
          "6",
          "20",
          "21",
          "4",
          "6",
          "20",
          "21",
          "4",
          "6",
          "20",
          "21",
          "4",
          "6",
          "20",
          "21",
          "4",
          "6",
          "20",
          "21",
          "4",
          "6",
          "20",
          "21"
         ],
         "y": [
          -2.4804668676393113,
          1.5913164504640391,
          -2.9352043033466653,
          0.25914849612164675,
          -4.1192656795671425,
          -6.273363275528389,
          0.7838097201933927,
          1.0181102866992326,
          -6.656069656063699,
          -4.595945962886781,
          -1.5123613962776699,
          2.118460609139904,
          -2.351252452229395,
          -0.13271730445704286,
          4.165413654251135,
          1.00266003779702,
          -3.8075031561903927,
          -5.033842340453919,
          0.11336848706718569,
          3.6351727586461835,
          -3.189694015086703,
          1.0421380166946637,
          -1.6952580781196507,
          4.170999453558244,
          -3.8682581278197516,
          4.288788476288678,
          0.6366223214711306,
          -4.034127283445736,
          -4.296685673776807,
          -1.6316376063707634,
          -0.6686220699312121,
          -2.2789860507858912,
          8.421730526791622,
          -0.8500368319987821,
          -2.5213141289879113,
          0.14072235404212122,
          13.164671611562138,
          2.5002617534659675,
          11.472289674239674,
          -2.8568451768375756,
          -0.5751942591873888,
          -1.6022058362075917,
          -1.7068718517625692,
          -1.2570189568583108,
          1.380236250724891,
          9.759328985602584,
          -0.6143298503600468,
          -1.425013938298393,
          -4.75138589718162,
          -5.9730595914915385,
          -0.35698618340204114,
          2.8042641153712937,
          -5.0108997675397315,
          -3.7682102188844073,
          -1.7233992910547191,
          5.159875740085693,
          -2.0509582639783766,
          4.472799756654407,
          -0.27292990966627656,
          0.29736925129223346,
          -2.298473757633593,
          -2.564652214320276,
          -2.132693346853791,
          -0.21648023375556394,
          12.814914658306256,
          3.452877961085719,
          -0.4803481894201805,
          -1.3165664297825304,
          -2.1551384972197347,
          -2.837077382713741,
          -0.46403107938866833,
          6.177295501758959,
          9.98527505249726,
          -6.36985898366119,
          -0.04594553536920745,
          0.5509844529179032,
          -2.9129007103383837,
          -1.2053216543106566,
          0.9031150773382791,
          -1.70118283615109,
          12.712002854016024,
          3.461458691341756,
          2.494347344284255,
          -0.5707564731270891,
          -4.238201280535646,
          -5.3389674791722985,
          -0.2732583101880275,
          -1.947245985876775,
          -3.5307085336707447,
          -1.5040828182863926,
          -1.1956980896484408,
          1.9800570983276282,
          -3.244041214085222,
          0.2796630618148257,
          0.14442105008805392,
          -0.6084921759310866,
          17.435010322042377,
          8.85328235473613,
          10.33505063926405,
          -6.2669853839006375,
          -4.30785427653389,
          5.273519472327815,
          -4.332572418626308,
          -0.2679626812209695,
          -1.6617930357662225,
          -6.928690845672905,
          4.166563855791697,
          -2.3625716877409313,
          4.607259466415039,
          -3.42011036195283,
          -3.233234156454727,
          -1.4897903166334485,
          2.780804275340732,
          -2.1112247084708984,
          -0.8309438468149656,
          -0.5653176428520093,
          -4.258748541791443,
          -4.127417924632855,
          -0.916753725097361,
          -0.9163192575032115,
          -2.592337643755588,
          4.652831124465031,
          -0.42785362687611483,
          1.6052945007894102,
          -1.6870662053116627,
          -3.0045490387589124,
          2.2496061301809904,
          1.595508378802711,
          -1.2010096820841243,
          -4.315338336652992,
          0.5859219374444238,
          0.3909377492422138,
          -7.081932543812472,
          -6.845533784287861,
          0.27204739210909,
          0.9026318994026873,
          -3.8192598099515798,
          -2.8368055504577563,
          -0.7453104094473851,
          -0.4823984758465053,
          0.058928550226877395,
          -1.2518872211063987,
          -0.37188687902494116,
          -1.914413406473909,
          -2.912931872148822,
          -2.32043320845059,
          0.8474366110734605,
          0.8169539469041371,
          -6.065565369788144,
          -0.6772180736131503,
          -4.916721067350963,
          2.873635637179247,
          4.047062322345658,
          -0.33553623052014314,
          -2.7849396101328368,
          3.6907636856703547,
          -0.4394205566679299,
          4.354813760410253,
          -2.278970276873787,
          -3.3626305589274965,
          11.04125689830497,
          -3.1068172180846174,
          5.253176718355731,
          -4.319520084274375,
          0.21832825880243573,
          -0.7938919423702814,
          -1.5962420945277636,
          -0.8991068037293444,
          -1.0964904434900478,
          1.7888012381968712,
          -1.776095696085502,
          -2.176138664082189,
          -3.584659577703699,
          -0.9778520164175794,
          0.7715407903063016,
          2.18308460165902,
          11.237531102779196,
          -1.8577215928323731,
          0.31330389842405504,
          -0.49266099224668375,
          0.6182507494139086,
          -6.952526537847065,
          0.49474307193776973,
          0.3992209857627803,
          2.1804748162949794,
          -4.859568217248742,
          1.648366556643967,
          0.05659163543007492,
          2.066061650309803,
          -1.0916079503206169,
          1.8820917839662237,
          0.44348989911585934,
          -1.2997702083445828,
          -2.7353834493957807,
          1.8569216843016523,
          2.2763228278317404,
          -4.135533530997446,
          -0.40236706755635837,
          3.163705821568004,
          -0.49935467969774133,
          1.3165152705242489,
          3.492184953466987,
          0.16296322806410687,
          -0.7675117027358487,
          -3.700392287648846,
          1.4469000939091718,
          0.15226764187232947,
          -0.41370010164477916,
          -4.48022272028105,
          1.4434024813547472,
          -0.0687538066932492,
          2.25076927315455,
          -5.557895672670271,
          0.13855149175253814,
          1.3036329297504134,
          5.043287879825909,
          -4.045653701577992,
          0.4641181662311322,
          1.4354750961024054,
          2.749087774232524,
          -1.380438255017744,
          2.9628614230319217,
          -0.9424848004350289,
          -2.834368924982665,
          2.982539191255509,
          -6.244023760455495,
          -2.3492974927703827,
          2.1042644901662753,
          -0.3479605264926766,
          0.2341182377804809,
          -1.7433089283258778,
          -4.3614651304614505,
          -1.8434044959759832,
          0.16710276009880007,
          -0.9541719119701664,
          1.774520292886606,
          -1.3952627550281742,
          3.1955378747958427,
          0.09526308653076766,
          0.21490478012346387,
          5.254375186822447,
          -2.5135352462496927,
          0.9295878623597555,
          4.264355274706012,
          -17.917636513183083,
          5.7443849120406485,
          0.31282419211957063,
          -0.2238822210952288,
          -5.407692603093708,
          -6.92604425615424,
          -1.1003681633345872,
          2.238093135909525,
          -2.3736515523512938,
          -0.21862423396527203,
          2.449748948342898,
          -3.6970699281734323,
          -3.344347913473262,
          4.061377408547336,
          0.7960318636940305,
          1.3511697089563912,
          -3.5406804692578633,
          0.15242494052017005,
          -2.7715639950170847,
          -2.8591298391111137,
          8.278126228967102,
          12.043451453155196,
          -0.8502073593423723,
          2.4218484142058965,
          1.0355341564449114,
          2.4849179308925553,
          0.5792102343927301,
          -1.9612243965305576,
          -3.5360175773815437,
          2.7029312547585467,
          2.306974601011009,
          1.5492050623836924,
          -3.518802851710612,
          -0.04748008260133942,
          -1.3140257001233808,
          0.923861655347846,
          -3.8794602270266054,
          -1.5027232215496915,
          1.128040993743234,
          -5.429786417649182,
          -2.167747018040138,
          -1.5001172607578448,
          0.05601115016927589,
          1.3706093897235698,
          -3.541027045592083,
          -4.215055547067539,
          -3.5025612755031084,
          -1.7812531900864468,
          12.983545131657005,
          -1.8451054713446247,
          3.8737658217662827,
          -4.269152296506186,
          -3.7743851483967883,
          -5.905770962867185,
          -1.639154498803013,
          -3.6208977206965813,
          -0.753503275959889,
          -0.1825764457034805,
          0.260895768580046,
          0.34558488110477814,
          -1.7107262821473266,
          1.9445038650169884,
          1.9534283349176778,
          4.218211028106878,
          9.097269601352401,
          1.7404989927461296,
          1.984162674181359,
          -1.9648885469521902,
          -5.213405308171592,
          -4.230458888261195,
          -0.5290529962200744,
          -2.7783643638228996,
          -3.2836702334265304,
          -1.8150738573349765,
          1.8746132869747079,
          -3.6310926793194658,
          1.9784658077195845,
          -2.040989224279063,
          -2.7216902088035915,
          0.3919964919275118,
          -2.610723609648912,
          0.35113407056303164,
          0.9129748852197211,
          0.2719253968355798,
          -0.01748377644868042,
          9.665592407069703,
          4.278298594554605,
          -7.792919495829572,
          -0.18843971160451456,
          -0.6904524806231714,
          -0.3425018526779188,
          -1.297844006449961,
          15.344170204412709,
          3.438269830882801,
          -0.5064292235316521,
          -5.282477098159222,
          -2.7213369067055826,
          0.09253299233295058,
          1.1083314821540753,
          -4.3543711863520365,
          1.7609509865740622,
          2.288769128190364,
          -2.1137014198688338,
          0.6234209219504875,
          -0.2810891460657059,
          3.4029604900322394,
          1.1757352248790722,
          0.13484241738778643,
          -5.970777448680064,
          2.503187457105148,
          -2.9042707288069094,
          2.518386607190501,
          -1.6710733594140224,
          2.4552043012827354,
          1.958738797573285,
          -0.4042901771770226,
          -1.7435379320556592,
          2.3468367390174296,
          6.965209809817178,
          -4.251620210707172,
          -3.864857679550584,
          -0.302482229850534,
          -0.29554102116949915,
          -3.472043780898328,
          14.465187480585662,
          1.3170317277192638,
          -4.103140788250202,
          2.0911458795316946,
          -6.079207829359705,
          3.9754800939483146,
          -0.3516497047947889,
          -3.3863670029588753,
          -4.283898826383878,
          -4.9621498825545975,
          -1.080942218848467,
          -0.3178858847503759,
          -0.16761634500536135,
          -1.0122627859099183,
          -4.272804936476123,
          -1.8196465853723565,
          0.014297380695785218,
          0.9833318386683716,
          -0.6780911058473957,
          0.9347404121872849,
          -0.8676861339692358,
          2.694542114377358,
          6.124668500375653,
          -4.587379670379274,
          -3.9908677178746137,
          -0.02896011136128018,
          0.7776297311907437,
          4.733757318897863,
          -5.443983954132454,
          6.53275536113167,
          2.9474330423872885,
          -0.5674832910603337,
          12.754719596526375,
          4.013142560685538,
          -2.499252897098326,
          0.08204330383171289,
          13.42269426491633,
          -2.901389861991122,
          0.506252934833166,
          2.213789709694512,
          -0.45092378318743864,
          -6.259712553585352,
          0.21751095658359307,
          6.124947708739383,
          -2.5780236037382505,
          1.3650255173082262,
          0.1207273642547643,
          -4.465990172733054,
          -0.5397597694771511,
          3.836341897935709,
          -2.4130046370314284,
          -2.0828034900556314,
          12.80325820049751,
          -2.9212420711248877,
          2.3284898639005163,
          -0.18740848771645405,
          -0.6453879845289269,
          3.389486801221131,
          -0.004108316748197702,
          0.5165890804042967,
          17.809337659632497,
          9.91478295277784,
          3.5971647896975516,
          -5.0559744820316865,
          0.3375474313053878,
          3.741757286074315,
          -1.1714810371939708,
          4.421074890265953,
          1.3226497128813055,
          0.4200845096326882,
          -0.24322750668440926,
          -3.0499183914084753,
          -4.445224543346599,
          -4.212022075624248,
          0.6793785916766526,
          2.9169919546416634,
          12.183975026140688,
          4.852974695119056,
          -1.6562009254775185,
          0.42442283796453756,
          -1.6102158112489904,
          0.923508952163043,
          2.9161593113628737,
          7.631230073961437,
          0.591950755292102,
          0.07247156766304823,
          1.3494563919086242,
          0.10585475289432766,
          -1.84187837311831,
          0.08400031798519414,
          1.637811633606827,
          -3.2666073859509503,
          -6.121764124049607,
          6.067746208534841,
          -4.598287885698467,
          2.7124363675045977,
          6.921291588457729,
          -1.0907451827520658,
          -4.5670501289668906,
          1.60410188129606,
          -4.627048931488211,
          -0.5347185841904387,
          0.23188760395830285,
          -3.9803693741511244,
          -4.034088255343799,
          1.0558666272378312,
          1.7317357017143569,
          -3.986856898310672,
          -4.894360651886341,
          -1.9254822015545365,
          1.550977273580109,
          -4.698279907711639,
          -4.617735672619739,
          3.46646402018265,
          0.42674397589942525,
          -1.8585224308039412,
          0.8045414148261193,
          0.407426721480404,
          -1.0054399618064822,
          1.8354234798401208,
          8.181953123708112,
          -0.20931015177263493,
          1.2715516350098324,
          -1.3858699553770788,
          18.54407559115813,
          0.12792924102376033,
          1.2620337137273712,
          -4.849477521927022,
          14.769204997685074,
          -0.4280846143431937,
          5.913605060904139,
          -2.2546679872127777,
          5.390943807992298,
          1.1708767892191485,
          -0.8996761833774896,
          1.609303803355352,
          3.324623847754812,
          1.3970003276546652,
          0.21748179004687962,
          0.3490059801805684,
          5.12842826300914,
          2.065234757248192,
          -1.334313197794693,
          -0.10857457844764985,
          -3.0613816950321096,
          -1.1275075895137379,
          3.8783003560579403,
          1.614307823478499,
          -2.608668933106255,
          -2.1974330650045744,
          -4.583061449237054,
          3.0545030378004716,
          -2.532017264053091,
          4.746537761687281,
          -2.8336676919911725,
          0.9601939092943572,
          -5.686766837135313,
          -4.154677776900407,
          1.1706562480351879,
          -1.0254577399800446,
          15.383544114810938,
          6.389226129083622,
          3.052764308040618,
          -1.6250014378877506,
          5.8471196586395635,
          -0.6360225830082183,
          -2.453932859977135,
          -1.1779534611498859,
          -11.32729661595992,
          7.603318366845112,
          -2.8353787178039296,
          3.6908462527069292,
          0.37738741030766176,
          -3.8785112940673248,
          -1.166726207428674,
          0.9380717496243149,
          5.70496519781562,
          0.8085814967524775,
          0.23172587337137707,
          1.8568234055583415,
          -2.6336501645564514,
          4.07187725512349,
          0.5608948590164298,
          -0.29570522962886137,
          0.45009579923934134,
          9.673717128036738,
          7.96940887071517,
          -1.6943792966128735,
          -2.0654858043009767,
          -1.5387318778965529,
          -2.175530677862263,
          2.944294660515052,
          -1.5823967128675718,
          -2.0688955525451016,
          -3.707412082065249,
          1.7627928613576869,
          -4.351359041570648,
          1.461672887235085,
          -1.2532642511581684,
          1.1746542247670393,
          -2.368076251502292,
          8.59924111330755,
          5.620257890339284,
          -3.005597623027735,
          7.040446875309761,
          -2.2953222215951548,
          0.09839147595210102,
          0.8571003327800155,
          -0.14457385220982846,
          -0.14598142805323935,
          -1.9072712546862995,
          0.9799769267484243,
          1.7333928660636195,
          0.8806863218046379,
          0.6442293163571379,
          -3.0891757070652948,
          11.360059380579624,
          4.635864491184615,
          -1.0415542747521833,
          3.1048394303040103,
          -1.837278594616158,
          4.324821146973162,
          0.31507291633026735,
          -0.06530145037793313,
          -4.457967109243753,
          -0.6061203383185683,
          -0.2818467152113199,
          2.9925691588257735,
          1.720888834060014,
          6.749969791082965,
          0.619422758886589,
          -3.8493263833548474,
          0.9950791784937549,
          0.7868073039196061,
          1.5793688636602141,
          1.3423997001587713,
          1.2640354241259493,
          -5.676938223117525,
          1.858225192853833,
          1.7238714646347455,
          12.331633385243004,
          0.3402604802916142,
          -1.788790586946194,
          3.131452291884243,
          18.562463504334957,
          3.1456807167365244,
          -0.7749797484972895,
          -2.4973667353776468,
          12.193046312385336,
          3.7817178920725185,
          -3.478683492231638,
          -0.5147068888138326,
          -2.904561683132999,
          8.041887731376484,
          -0.7041627988180124,
          0.5845952712297008,
          -2.095640478729927,
          -2.6667144685169677,
          2.026749783203788,
          -0.8671182584576171,
          -0.4830872070167276,
          0.047587556878281694,
          -3.4873676309776527,
          -2.321503616576238,
          -2.83396042663474,
          4.670151674819294,
          2.6334750446794253,
          -1.339162894872962,
          0.9440898051926139,
          4.052437034902284,
          -0.9178353049482095,
          -2.188710631638404,
          2.583441709317681,
          5.653407966689727,
          2.373417596072752,
          -0.7009278627943666,
          -2.399093890313743,
          -0.24335493563685007,
          14.273638975059699,
          -0.6832643440213897,
          2.616313881879635,
          -7.059709137867378,
          -1.5430168551504653,
          -1.5450925202404064,
          1.9878192222844544,
          1.2387736532589266,
          -1.3053401710443715,
          -0.7007643481297066,
          13.756798344314936,
          13.323521291061683,
          -1.3284353898284855,
          1.7443230239592107,
          -6.5833662495035865,
          -0.2074476863170057,
          -2.5870655545417955,
          2.3654527250871444,
          -3.2997894205691645,
          5.903489716847479,
          4.169237258908106,
          -3.654411486900941,
          -5.4650975463363896,
          5.688273167400997,
          3.240342194163833,
          -6.037470354908018,
          -0.9072285983831081,
          -5.960455041376957,
          5.897471826051653,
          -5.155862969716569,
          15.05997562306643,
          3.124983636708645,
          -0.6568449982731903,
          3.943590532947748,
          9.427440219955994,
          -1.8197966530784437,
          -2.3697662168626796,
          1.106137478026863,
          0.004181070102838947,
          4.947009326298535,
          -0.386517941914347,
          -6.049577772590171,
          -4.2494815276363544,
          0.46704842544129405,
          -1.356700566337254,
          -4.652484354928534,
          0.45187542487428195,
          5.937931554705372,
          3.9044555623312025,
          -0.3094819218105879,
          -2.821773839188576,
          2.3159194499733657,
          0.27166261247615225,
          -3.0745140041914456,
          18.42539814908161,
          8.794011687512661,
          -0.38803896148074135,
          -8.319162926256382,
          -4.617048269229324,
          0.4274870766526457,
          1.3417745128521132,
          2.285557334282918,
          7.207117999569959,
          0.5219923448741589,
          -4.940664332326035,
          -0.6280910797034011,
          -1.9797542252537632,
          -4.913861197720353,
          1.1299448049075353,
          0.5999658840563241,
          -2.2121756223081688,
          -5.605252442498563,
          9.81463349321127,
          -0.9278641849021546,
          4.383070397023323,
          4.425522360871823,
          1.9712194713000228,
          1.0519097573561758,
          -5.328411765191056,
          -0.18154015603806747,
          -1.1411835572124258,
          2.5227252478855586,
          -1.3516272488436845,
          4.093803096033511,
          -1.0341310597485531,
          3.126559349197582,
          -7.0988342254975745,
          3.26098264685066,
          3.3518425840421293,
          0.5348909641404961,
          -4.2860647658159134,
          0.34526566780650075,
          1.955007784456892,
          0.8749015586069505,
          4.014569920116874,
          1.6953020002253685,
          0.08839367272289203,
          -2.3091747358890373,
          13.801012509165806,
          -1.9798287941773591,
          -1.126363997632401,
          -6.716531206611417,
          -7.844213628628288,
          0.5224607144679282,
          -0.4220278438313795,
          1.2181513087277476,
          -1.5481510701340735,
          -1.3144954335050398,
          7.844181611039576,
          -4.2579221161136465,
          13.560849208296984,
          11.615666933582379,
          -3.258418060804468,
          -2.7704321437215493,
          -2.9877080193804124,
          -0.29264588099789884,
          -1.5346833896307752,
          -2.5821096594288373,
          -3.33749465999695,
          -2.217858141344612,
          0.7223716270263937,
          -0.9278397161672506,
          2.197245926742025,
          1.008766832585485,
          -0.2502045765145365,
          -0.35964161500071856,
          17.551878832843016,
          1.420424939006084,
          -4.353603673030981,
          -1.5990975137119467,
          1.5159027011381316,
          4.1744987759231895,
          -1.29482277941673,
          1.8767492460822106,
          10.328381655066506,
          5.195329955790294,
          12.400776157103166,
          -4.823770330959509,
          15.188181541270101,
          3.8371430669190367,
          0.016972372955012107,
          -1.2698938832310278,
          11.365447790686277,
          1.3944801730237677,
          0.4988602522252098,
          -0.8743468893104133,
          -1.2733580723292575,
          3.3187311946435916,
          -2.0664342822076924,
          0.39883628113460584,
          1.0644664059438482,
          0.5323547096688958,
          2.7080547520010674,
          -2.052079582105561,
          -2.8332809429809944,
          -3.0406950733162543,
          -2.0154329001183413,
          1.7326106065801976,
          15.810315635694414,
          3.332536831409306,
          5.742233593045601,
          -2.2069895978521075,
          2.445647065358769,
          -3.9775570219360126,
          6.15047847952829,
          -5.619234532421105,
          -4.5895550543847525,
          -2.72768165288119,
          -3.287754781251119,
          0.40015586277337634,
          -5.3515482129291065,
          -0.1437312156820806,
          -0.6360818031820017,
          5.270614113012603,
          -3.1340289000755592,
          2.949361033896104,
          0.23044609989042358,
          3.7669966663011736,
          -1.6564975547206084,
          -4.254365162987326,
          0.7574876525475929,
          -2.784166196435513,
          9.832140771478619,
          0.2683009234122141,
          -0.11799340025112136,
          -6.987225178393675,
          2.1395107166828073,
          0.7915971359739024,
          0.6269844995472188,
          -1.2746500720046998,
          8.26517010935429,
          2.441840646241432,
          -4.5627981500718,
          3.950561386660176,
          8.698003757348658,
          1.8018899217270163,
          0.545553244443028,
          -5.305451099712984,
          4.798934935732007,
          -2.2928048206430582,
          2.2739556203708027,
          -2.488270368320791,
          -2.331950058142558,
          1.19194140314797,
          -1.1259914664035695,
          0.5819245621556942,
          1.766638533171544,
          1.808842668163628,
          2.0690599804459597,
          1.7600738524816024,
          1.5493594263851445,
          -1.2812171105195225,
          1.4144624407451116,
          2.1854727556708142,
          2.179821929434441,
          4.220804524528655,
          -0.36446756268167374,
          1.6758577640271997,
          -3.5892643117919723,
          -1.8513580861935235,
          -0.8560109824188255,
          1.062786951551812,
          15.657942739584144,
          4.20934875120553,
          -0.28611138015848886,
          -1.0885087915103517,
          9.294868788528463,
          6.141688490311342,
          -2.701388876522262,
          2.4896299218005407,
          -5.252956133615768,
          2.798387685996545,
          -2.3841730869722335,
          -1.4130260248223923
         ]
        }
       ],
       "layout": {
        "template": {
         "data": {
          "bar": [
           {
            "error_x": {
             "color": "#2a3f5f"
            },
            "error_y": {
             "color": "#2a3f5f"
            },
            "marker": {
             "line": {
              "color": "#E5ECF6",
              "width": 0.5
             },
             "pattern": {
              "fillmode": "overlay",
              "size": 10,
              "solidity": 0.2
             }
            },
            "type": "bar"
           }
          ],
          "barpolar": [
           {
            "marker": {
             "line": {
              "color": "#E5ECF6",
              "width": 0.5
             },
             "pattern": {
              "fillmode": "overlay",
              "size": 10,
              "solidity": 0.2
             }
            },
            "type": "barpolar"
           }
          ],
          "carpet": [
           {
            "aaxis": {
             "endlinecolor": "#2a3f5f",
             "gridcolor": "white",
             "linecolor": "white",
             "minorgridcolor": "white",
             "startlinecolor": "#2a3f5f"
            },
            "baxis": {
             "endlinecolor": "#2a3f5f",
             "gridcolor": "white",
             "linecolor": "white",
             "minorgridcolor": "white",
             "startlinecolor": "#2a3f5f"
            },
            "type": "carpet"
           }
          ],
          "choropleth": [
           {
            "colorbar": {
             "outlinewidth": 0,
             "ticks": ""
            },
            "type": "choropleth"
           }
          ],
          "contour": [
           {
            "colorbar": {
             "outlinewidth": 0,
             "ticks": ""
            },
            "colorscale": [
             [
              0,
              "#0d0887"
             ],
             [
              0.1111111111111111,
              "#46039f"
             ],
             [
              0.2222222222222222,
              "#7201a8"
             ],
             [
              0.3333333333333333,
              "#9c179e"
             ],
             [
              0.4444444444444444,
              "#bd3786"
             ],
             [
              0.5555555555555556,
              "#d8576b"
             ],
             [
              0.6666666666666666,
              "#ed7953"
             ],
             [
              0.7777777777777778,
              "#fb9f3a"
             ],
             [
              0.8888888888888888,
              "#fdca26"
             ],
             [
              1,
              "#f0f921"
             ]
            ],
            "type": "contour"
           }
          ],
          "contourcarpet": [
           {
            "colorbar": {
             "outlinewidth": 0,
             "ticks": ""
            },
            "type": "contourcarpet"
           }
          ],
          "heatmap": [
           {
            "colorbar": {
             "outlinewidth": 0,
             "ticks": ""
            },
            "colorscale": [
             [
              0,
              "#0d0887"
             ],
             [
              0.1111111111111111,
              "#46039f"
             ],
             [
              0.2222222222222222,
              "#7201a8"
             ],
             [
              0.3333333333333333,
              "#9c179e"
             ],
             [
              0.4444444444444444,
              "#bd3786"
             ],
             [
              0.5555555555555556,
              "#d8576b"
             ],
             [
              0.6666666666666666,
              "#ed7953"
             ],
             [
              0.7777777777777778,
              "#fb9f3a"
             ],
             [
              0.8888888888888888,
              "#fdca26"
             ],
             [
              1,
              "#f0f921"
             ]
            ],
            "type": "heatmap"
           }
          ],
          "heatmapgl": [
           {
            "colorbar": {
             "outlinewidth": 0,
             "ticks": ""
            },
            "colorscale": [
             [
              0,
              "#0d0887"
             ],
             [
              0.1111111111111111,
              "#46039f"
             ],
             [
              0.2222222222222222,
              "#7201a8"
             ],
             [
              0.3333333333333333,
              "#9c179e"
             ],
             [
              0.4444444444444444,
              "#bd3786"
             ],
             [
              0.5555555555555556,
              "#d8576b"
             ],
             [
              0.6666666666666666,
              "#ed7953"
             ],
             [
              0.7777777777777778,
              "#fb9f3a"
             ],
             [
              0.8888888888888888,
              "#fdca26"
             ],
             [
              1,
              "#f0f921"
             ]
            ],
            "type": "heatmapgl"
           }
          ],
          "histogram": [
           {
            "marker": {
             "pattern": {
              "fillmode": "overlay",
              "size": 10,
              "solidity": 0.2
             }
            },
            "type": "histogram"
           }
          ],
          "histogram2d": [
           {
            "colorbar": {
             "outlinewidth": 0,
             "ticks": ""
            },
            "colorscale": [
             [
              0,
              "#0d0887"
             ],
             [
              0.1111111111111111,
              "#46039f"
             ],
             [
              0.2222222222222222,
              "#7201a8"
             ],
             [
              0.3333333333333333,
              "#9c179e"
             ],
             [
              0.4444444444444444,
              "#bd3786"
             ],
             [
              0.5555555555555556,
              "#d8576b"
             ],
             [
              0.6666666666666666,
              "#ed7953"
             ],
             [
              0.7777777777777778,
              "#fb9f3a"
             ],
             [
              0.8888888888888888,
              "#fdca26"
             ],
             [
              1,
              "#f0f921"
             ]
            ],
            "type": "histogram2d"
           }
          ],
          "histogram2dcontour": [
           {
            "colorbar": {
             "outlinewidth": 0,
             "ticks": ""
            },
            "colorscale": [
             [
              0,
              "#0d0887"
             ],
             [
              0.1111111111111111,
              "#46039f"
             ],
             [
              0.2222222222222222,
              "#7201a8"
             ],
             [
              0.3333333333333333,
              "#9c179e"
             ],
             [
              0.4444444444444444,
              "#bd3786"
             ],
             [
              0.5555555555555556,
              "#d8576b"
             ],
             [
              0.6666666666666666,
              "#ed7953"
             ],
             [
              0.7777777777777778,
              "#fb9f3a"
             ],
             [
              0.8888888888888888,
              "#fdca26"
             ],
             [
              1,
              "#f0f921"
             ]
            ],
            "type": "histogram2dcontour"
           }
          ],
          "mesh3d": [
           {
            "colorbar": {
             "outlinewidth": 0,
             "ticks": ""
            },
            "type": "mesh3d"
           }
          ],
          "parcoords": [
           {
            "line": {
             "colorbar": {
              "outlinewidth": 0,
              "ticks": ""
             }
            },
            "type": "parcoords"
           }
          ],
          "pie": [
           {
            "automargin": true,
            "type": "pie"
           }
          ],
          "scatter": [
           {
            "fillpattern": {
             "fillmode": "overlay",
             "size": 10,
             "solidity": 0.2
            },
            "type": "scatter"
           }
          ],
          "scatter3d": [
           {
            "line": {
             "colorbar": {
              "outlinewidth": 0,
              "ticks": ""
             }
            },
            "marker": {
             "colorbar": {
              "outlinewidth": 0,
              "ticks": ""
             }
            },
            "type": "scatter3d"
           }
          ],
          "scattercarpet": [
           {
            "marker": {
             "colorbar": {
              "outlinewidth": 0,
              "ticks": ""
             }
            },
            "type": "scattercarpet"
           }
          ],
          "scattergeo": [
           {
            "marker": {
             "colorbar": {
              "outlinewidth": 0,
              "ticks": ""
             }
            },
            "type": "scattergeo"
           }
          ],
          "scattergl": [
           {
            "marker": {
             "colorbar": {
              "outlinewidth": 0,
              "ticks": ""
             }
            },
            "type": "scattergl"
           }
          ],
          "scattermapbox": [
           {
            "marker": {
             "colorbar": {
              "outlinewidth": 0,
              "ticks": ""
             }
            },
            "type": "scattermapbox"
           }
          ],
          "scatterpolar": [
           {
            "marker": {
             "colorbar": {
              "outlinewidth": 0,
              "ticks": ""
             }
            },
            "type": "scatterpolar"
           }
          ],
          "scatterpolargl": [
           {
            "marker": {
             "colorbar": {
              "outlinewidth": 0,
              "ticks": ""
             }
            },
            "type": "scatterpolargl"
           }
          ],
          "scatterternary": [
           {
            "marker": {
             "colorbar": {
              "outlinewidth": 0,
              "ticks": ""
             }
            },
            "type": "scatterternary"
           }
          ],
          "surface": [
           {
            "colorbar": {
             "outlinewidth": 0,
             "ticks": ""
            },
            "colorscale": [
             [
              0,
              "#0d0887"
             ],
             [
              0.1111111111111111,
              "#46039f"
             ],
             [
              0.2222222222222222,
              "#7201a8"
             ],
             [
              0.3333333333333333,
              "#9c179e"
             ],
             [
              0.4444444444444444,
              "#bd3786"
             ],
             [
              0.5555555555555556,
              "#d8576b"
             ],
             [
              0.6666666666666666,
              "#ed7953"
             ],
             [
              0.7777777777777778,
              "#fb9f3a"
             ],
             [
              0.8888888888888888,
              "#fdca26"
             ],
             [
              1,
              "#f0f921"
             ]
            ],
            "type": "surface"
           }
          ],
          "table": [
           {
            "cells": {
             "fill": {
              "color": "#EBF0F8"
             },
             "line": {
              "color": "white"
             }
            },
            "header": {
             "fill": {
              "color": "#C8D4E3"
             },
             "line": {
              "color": "white"
             }
            },
            "type": "table"
           }
          ]
         },
         "layout": {
          "annotationdefaults": {
           "arrowcolor": "#2a3f5f",
           "arrowhead": 0,
           "arrowwidth": 1
          },
          "autotypenumbers": "strict",
          "coloraxis": {
           "colorbar": {
            "outlinewidth": 0,
            "ticks": ""
           }
          },
          "colorscale": {
           "diverging": [
            [
             0,
             "#8e0152"
            ],
            [
             0.1,
             "#c51b7d"
            ],
            [
             0.2,
             "#de77ae"
            ],
            [
             0.3,
             "#f1b6da"
            ],
            [
             0.4,
             "#fde0ef"
            ],
            [
             0.5,
             "#f7f7f7"
            ],
            [
             0.6,
             "#e6f5d0"
            ],
            [
             0.7,
             "#b8e186"
            ],
            [
             0.8,
             "#7fbc41"
            ],
            [
             0.9,
             "#4d9221"
            ],
            [
             1,
             "#276419"
            ]
           ],
           "sequential": [
            [
             0,
             "#0d0887"
            ],
            [
             0.1111111111111111,
             "#46039f"
            ],
            [
             0.2222222222222222,
             "#7201a8"
            ],
            [
             0.3333333333333333,
             "#9c179e"
            ],
            [
             0.4444444444444444,
             "#bd3786"
            ],
            [
             0.5555555555555556,
             "#d8576b"
            ],
            [
             0.6666666666666666,
             "#ed7953"
            ],
            [
             0.7777777777777778,
             "#fb9f3a"
            ],
            [
             0.8888888888888888,
             "#fdca26"
            ],
            [
             1,
             "#f0f921"
            ]
           ],
           "sequentialminus": [
            [
             0,
             "#0d0887"
            ],
            [
             0.1111111111111111,
             "#46039f"
            ],
            [
             0.2222222222222222,
             "#7201a8"
            ],
            [
             0.3333333333333333,
             "#9c179e"
            ],
            [
             0.4444444444444444,
             "#bd3786"
            ],
            [
             0.5555555555555556,
             "#d8576b"
            ],
            [
             0.6666666666666666,
             "#ed7953"
            ],
            [
             0.7777777777777778,
             "#fb9f3a"
            ],
            [
             0.8888888888888888,
             "#fdca26"
            ],
            [
             1,
             "#f0f921"
            ]
           ]
          },
          "colorway": [
           "#636efa",
           "#EF553B",
           "#00cc96",
           "#ab63fa",
           "#FFA15A",
           "#19d3f3",
           "#FF6692",
           "#B6E880",
           "#FF97FF",
           "#FECB52"
          ],
          "font": {
           "color": "#2a3f5f"
          },
          "geo": {
           "bgcolor": "white",
           "lakecolor": "white",
           "landcolor": "#E5ECF6",
           "showlakes": true,
           "showland": true,
           "subunitcolor": "white"
          },
          "hoverlabel": {
           "align": "left"
          },
          "hovermode": "closest",
          "mapbox": {
           "style": "light"
          },
          "paper_bgcolor": "white",
          "plot_bgcolor": "#E5ECF6",
          "polar": {
           "angularaxis": {
            "gridcolor": "white",
            "linecolor": "white",
            "ticks": ""
           },
           "bgcolor": "#E5ECF6",
           "radialaxis": {
            "gridcolor": "white",
            "linecolor": "white",
            "ticks": ""
           }
          },
          "scene": {
           "xaxis": {
            "backgroundcolor": "#E5ECF6",
            "gridcolor": "white",
            "gridwidth": 2,
            "linecolor": "white",
            "showbackground": true,
            "ticks": "",
            "zerolinecolor": "white"
           },
           "yaxis": {
            "backgroundcolor": "#E5ECF6",
            "gridcolor": "white",
            "gridwidth": 2,
            "linecolor": "white",
            "showbackground": true,
            "ticks": "",
            "zerolinecolor": "white"
           },
           "zaxis": {
            "backgroundcolor": "#E5ECF6",
            "gridcolor": "white",
            "gridwidth": 2,
            "linecolor": "white",
            "showbackground": true,
            "ticks": "",
            "zerolinecolor": "white"
           }
          },
          "shapedefaults": {
           "line": {
            "color": "#2a3f5f"
           }
          },
          "ternary": {
           "aaxis": {
            "gridcolor": "white",
            "linecolor": "white",
            "ticks": ""
           },
           "baxis": {
            "gridcolor": "white",
            "linecolor": "white",
            "ticks": ""
           },
           "bgcolor": "#E5ECF6",
           "caxis": {
            "gridcolor": "white",
            "linecolor": "white",
            "ticks": ""
           }
          },
          "title": {
           "x": 0.05
          },
          "xaxis": {
           "automargin": true,
           "gridcolor": "white",
           "linecolor": "white",
           "ticks": "",
           "title": {
            "standoff": 15
           },
           "zerolinecolor": "white",
           "zerolinewidth": 2
          },
          "yaxis": {
           "automargin": true,
           "gridcolor": "white",
           "linecolor": "white",
           "ticks": "",
           "title": {
            "standoff": 15
           },
           "zerolinecolor": "white",
           "zerolinewidth": 2
          }
         }
        },
        "title": {
         "text": "PC1 Projection Distribution per Group"
        },
        "violinmode": "overlay",
        "xaxis": {
         "title": {
          "text": "Protein Cluster"
         }
        },
        "yaxis": {
         "range": [
          -12,
          12
         ],
         "title": {
          "text": "PC1"
         }
        }
       }
      }
     },
     "metadata": {},
     "output_type": "display_data"
    }
   ],
   "source": [
    "# La PC1 de qq1 y qq3 separan entre grupos. Sacar violin plot de la proyección\n",
    "qqcomE\n",
    "\n",
    "clusters = [4,6,20,21]\n",
    "mmcomE_tmp = mmcomE.iloc[:, clusters]\n",
    "\n",
    "tmp = dict(list(mdata.set_index('Seqn').loc[mmcomE_tmp.index].reset_index(names='Seqn').groupby('Group')))\n",
    "tmp2 = pd.melt(mmcomE_tmp.reset_index(names='Seqn'), id_vars='Seqn', value_vars=mmcomE_tmp.columns).set_index('Seqn')\n",
    "\n",
    "fig = go.Figure()\n",
    "fig.add_trace(go.Violin(x=[str(i) for i in tmp2.loc[tmp['C'].Seqn].variable],\n",
    "                        y=tmp2.loc[tmp['C'].Seqn].value,\n",
    "                        legendgroup='C', scalegroup='C', name='C',\n",
    "                        side='negative',\n",
    "                        line_color=palette[0])\n",
    "             )\n",
    "fig.add_trace(go.Violin(x=[str(i) for i in tmp2.loc[tmp['D'].Seqn].variable],\n",
    "                        y=tmp2.loc[tmp['D'].Seqn].value,\n",
    "                        legendgroup='D', scalegroup='D', name='D',\n",
    "                        side='positive',\n",
    "                        line_color=palette[1])\n",
    "             )\n",
    "\n",
    "fig.update_traces(box_visible=False, meanline_visible=True)\n",
    "fig.update_layout(violinmode='overlay', title='PC1 Projection Distribution per Group')\n",
    "fig.update_yaxes(title='PC1', range=(-12,12))\n",
    "fig.update_xaxes(title='Protein Cluster')\n",
    "fig.show()"
   ]
  },
  {
   "cell_type": "code",
   "execution_count": 55,
   "metadata": {},
   "outputs": [],
   "source": [
    "atable = q2i.loc[qqcom[0]]\n",
    "atable = m2i.loc[mmcom[9], ['TP_ID']]"
   ]
  },
  {
   "cell_type": "code",
   "execution_count": 62,
   "metadata": {},
   "outputs": [],
   "source": [
    "q2i['qName'] = [re.search(r'HUMAN (.*) OS=', i).groups()[0] for i in q2i.qdesc]"
   ]
  },
  {
   "cell_type": "code",
   "execution_count": 63,
   "metadata": {},
   "outputs": [],
   "source": [
    "writer = pd.ExcelWriter('Clusters/DCA.xlsx', engine='openpyxl', mode='w')\n",
    "\n",
    "pd.DataFrame(\n",
    "    [(q2i.loc[i0, 'qName'],q2i.loc[i1, 'qName'],w['weight']) for i0, i1, w in qqg.edges.data()]\n",
    "    ).to_excel(writer, sheet_name='q')\n",
    "\n",
    "pd.DataFrame(\n",
    "    [(m2i.loc[i0,'TP_ID'],m2i.loc[i1,'TP_ID'],w['weight']) for i0, i1, w in mmg.edges.data()]\n",
    "    ).to_excel(writer, sheet_name='m')\n",
    "\n",
    "pd.DataFrame(\n",
    "    [(q2i.loc[i0, 'qName'],m2i.loc[i1,'TP_ID'],w['weight']) for i0, i1, w in qmg.edges.data()]\n",
    "    ).to_excel(writer, sheet_name='qm')\n",
    "\n",
    "writer.close()"
   ]
  },
  {
   "attachments": {},
   "cell_type": "markdown",
   "metadata": {},
   "source": [
    "Pertenencia de cada nodo a su cluster"
   ]
  },
  {
   "cell_type": "code",
   "execution_count": 74,
   "metadata": {},
   "outputs": [],
   "source": [
    "q2iC = q2i.join(\n",
    "    pd.DataFrame(\n",
    "        {q: dict(zip(['ComCorr', 'ComPval', 'Com'], [*pearsonr(qqcomE[n], xq[q]), n])) \n",
    "        for n,com in enumerate(qqcom) for q in com}\n",
    "        ).T,\n",
    "    how='left'\n",
    ")\n",
    "\n",
    "m2iC = m2i.join(\n",
    "    pd.DataFrame(\n",
    "        {m: dict(zip(['ComCorr', 'ComPval', 'Com'], [*pearsonr(mmcomE[n], xm[m]), n])) \n",
    "        for n,com in enumerate(mmcom) for m in com}\n",
    "        ).T,\n",
    "    how='left'\n",
    ")#.loc[:, ['TP_ID', 'ComCorr', 'ComPval', 'Com']]"
   ]
  },
  {
   "cell_type": "code",
   "execution_count": 43,
   "metadata": {},
   "outputs": [],
   "source": [
    "# Write feature info tables separated by cluster\n",
    "\n",
    "_ = [\n",
    "    i[1].to_csv(f'Clusters/qq_{int(i[0])}.tsv', sep='\\t')\n",
    "    for i in q2iC[~q2iC['Com'].isna()].groupby('Com')\n",
    "]\n",
    "\n",
    "_ = [\n",
    "    i[1].to_csv(f'Clusters/mm_{int(i[0])}.tsv', sep='\\t')\n",
    "    for i in m2iC[~m2iC['Com'].isna()].groupby('Com')\n",
    "]"
   ]
  },
  {
   "cell_type": "code",
   "execution_count": 56,
   "metadata": {},
   "outputs": [],
   "source": [
    "# Write feature info tables separated by cluster\n",
    "\n",
    "with pd.ExcelWriter(f'Clusters/qq_allClusters_V2.xlsx') as writer:\n",
    "    _ = [\n",
    "        i[1].to_excel(writer, sheet_name=f'qq_{int(i[0])}')\n",
    "        for i in q2iC[~q2iC['Com'].isna()].groupby('Com')\n",
    "    ]\n",
    "\n",
    "with pd.ExcelWriter(f'Clusters/mm_allClusters_V2.xlsx') as writer:\n",
    "    _ = [\n",
    "        i[1].to_excel(writer, sheet_name=f'mm_{int(i[0])}')\n",
    "        for i in m2iC[~m2iC['Com'].isna()].groupby('Com')\n",
    "    ]"
   ]
  },
  {
   "attachments": {},
   "cell_type": "markdown",
   "metadata": {},
   "source": [
    "Ilustracion de clusteres"
   ]
  },
  {
   "cell_type": "code",
   "execution_count": 64,
   "metadata": {},
   "outputs": [],
   "source": [
    "file='Plots/qqClusterCorrDif.html'\n",
    "if os.path.exists(file):\n",
    "    os.remove(file)\n",
    "\n",
    "for i in range(len(qqcom)):\n",
    "    tmp = qqcom[i]\n",
    "\n",
    "    tmp2 = adpv.rpc.qq.dc.loc[tmp,tmp].to_numpy()[\n",
    "        np.triu_indices(len(tmp), 1)\n",
    "    ]<0.05\n",
    "\n",
    "    rc = corr.rpc.qq.c.loc[tmp,tmp].to_numpy()[\n",
    "        np.triu_indices(len(tmp), 1)\n",
    "    ]\n",
    "\n",
    "    rd = corr.rpc.qq.d.loc[tmp,tmp].to_numpy()[\n",
    "        np.triu_indices(len(tmp), 1)\n",
    "    ]\n",
    "\n",
    "    fig = go.Figure()\n",
    "\n",
    "    fig.add_trace(go.Scatter(\n",
    "        x=rc,\n",
    "        y=rd,\n",
    "        mode='markers', marker_size=2.5, showlegend=False\n",
    "    ))\n",
    "\n",
    "    fig.add_trace(go.Scatter(\n",
    "        x=rc[tmp2],\n",
    "        y=rd[tmp2],\n",
    "        mode='markers', marker_size=2.5, marker_color=palette[1], showlegend=False\n",
    "    ))\n",
    "\n",
    "    fig.update_xaxes(range=(-0.2,0.5), title='Control correlation')\n",
    "    fig.update_yaxes(range=(-0.2,0.5), title='Disease correlation')\n",
    "    fig.add_shape(\n",
    "        type='line',\n",
    "        x0=-1, x1=1, y0=-1, y1=1,\n",
    "        line=dict(width=0.5)\n",
    "    )\n",
    "    fig.update_layout(width=600, height=600, title=f'Proteomics Cluster {i}')\n",
    "\n",
    "    with open(file, 'a') as f:\n",
    "        f.write(fig.to_html(full_html=False, include_plotlyjs='cdn', default_height='50%', default_width='80%'))\n",
    "\n",
    "#corr.rpc.qq.c.loc[qqcom[0],qqcom[0]]"
   ]
  },
  {
   "cell_type": "code",
   "execution_count": 65,
   "metadata": {},
   "outputs": [],
   "source": [
    "file='Plots/mmClusterCorrDif.html'\n",
    "if os.path.exists(file):\n",
    "    os.remove(file)\n",
    "\n",
    "for i in range(len(mmcom)):\n",
    "    tmp = mmcom[i]\n",
    "\n",
    "    tmp2 = adpv.rpc.mm.dc.loc[tmp,tmp].to_numpy()[\n",
    "        np.triu_indices(len(tmp), 1)\n",
    "    ]<0.05\n",
    "\n",
    "    rc = corr.rpc.mm.c.loc[tmp,tmp].to_numpy()[\n",
    "        np.triu_indices(len(tmp), 1)\n",
    "    ]\n",
    "\n",
    "    rd = corr.rpc.mm.d.loc[tmp,tmp].to_numpy()[\n",
    "        np.triu_indices(len(tmp), 1)\n",
    "    ]\n",
    "\n",
    "    fig = go.Figure()\n",
    "\n",
    "    fig.add_trace(go.Scatter(\n",
    "        x=rc,\n",
    "        y=rd,\n",
    "        mode='markers', marker_size=2.5, showlegend=False\n",
    "    ))\n",
    "\n",
    "    fig.add_trace(go.Scatter(\n",
    "        x=rc[tmp2],\n",
    "        y=rd[tmp2],\n",
    "        mode='markers', marker_size=2.5, marker_color=palette[1], showlegend=False\n",
    "    ))\n",
    "\n",
    "    fig.update_xaxes(range=(-0.2,0.5), title='Control correlation')\n",
    "    fig.update_yaxes(range=(-0.2,0.5), title='Disease correlation')\n",
    "    fig.add_shape(\n",
    "        type='line',\n",
    "        x0=-1, x1=1, y0=-1, y1=1,\n",
    "        line=dict(width=0.5)\n",
    "    )\n",
    "    fig.update_layout(width=600, height=600, title=f'Metabolomics Cluster {i}')\n",
    "\n",
    "    with open(file, 'a') as f:\n",
    "        f.write(fig.to_html(full_html=False, include_plotlyjs='cdn', default_height='50%', default_width='80%'))\n",
    "\n",
    "#corr.rpc.qq.c.loc[qqcom[0],qqcom[0]]"
   ]
  },
  {
   "cell_type": "code",
   "execution_count": 66,
   "metadata": {},
   "outputs": [],
   "source": [
    "Rengine = r\"C:\\Users\\rbarreror\\AppData\\Local\\Programs\\R\\R-4.2.2\\bin\\Rscript.exe\"\n",
    "Rpath = r\"S:\\U_Proteomica\\UNIDAD\\software\\MacrosRafa\\data\\Metabolomics\\PESA_Integromics\\Data\\utils\\ChordDiagram.R\"\n",
    "wpath = r\"S:\\U_Proteomica\\UNIDAD\\software\\MacrosRafa\\data\\Metabolomics\\PESA_Integromics\\Data\\Analysis\\03-Network\\PESA\\ChordDiagram\"\n",
    "\n",
    "omic = 'qq'\n",
    "n = 0\n",
    "\n",
    "for omic, coms in [('qq',qqcom), ('mm',mmcom)]:\n",
    "    for n in range(len(coms)):\n",
    "        comL = coms[n]\n",
    "\n",
    "        tmp_pv = adpv.rpc[omic].dc.loc[comL, comL]\n",
    "        tmp_pv = pd.melt(tmp_pv.reset_index(), id_vars='index', value_vars=tmp_pv.columns)\n",
    "\n",
    "        tmp_c = corr.rpc[omic].c.loc[comL, comL].copy()\n",
    "        tmp_c.to_numpy()[np.tril_indices(tmp_c.shape[0])] = 0\n",
    "        tmp_c = pd.melt(tmp_c.reset_index(), id_vars='index', value_vars=tmp_c.columns)\n",
    "        tmp_c.columns = ['var1', 'var2', 'c']\n",
    "        tmp_c = tmp_c[tmp_pv.value<0.05]\n",
    "\n",
    "        tmp_d = corr.rpc[omic].d.loc[comL, comL].copy()\n",
    "        tmp_d.to_numpy()[np.tril_indices(tmp_d.shape[0])] = 0\n",
    "        tmp_d = pd.melt(tmp_d.reset_index(), id_vars='index', value_vars=tmp_d.columns)\n",
    "        tmp_d.columns = ['var1', 'var2', 'd']\n",
    "        tmp_d = tmp_d[tmp_pv.value<0.05]\n",
    "\n",
    "        tmp = pd.merge(\n",
    "            tmp_c, tmp_d,\n",
    "            how='inner', on=['var1', 'var2']\n",
    "        )\n",
    "\n",
    "        tmp.to_csv(f'{wpath}/{omic}_{n}.tsv', sep='\\t', index=False)\n"
   ]
  },
  {
   "attachments": {},
   "cell_type": "markdown",
   "metadata": {},
   "source": [
    "Meta-Network WGCNA"
   ]
  },
  {
   "cell_type": "code",
   "execution_count": 75,
   "metadata": {},
   "outputs": [],
   "source": [
    "# Calcular meta-network mediante correlaciones entre autovectores de los clusteres\n",
    "\n",
    "import itertools\n",
    "\n",
    "\n",
    "metaqq = [\n",
    "    ([i0, i1], [*pearsonr(qqcomE[i0], qqcomE[i1])])\n",
    "    for i0, i1 in itertools.combinations(qqcomE.columns, 2)\n",
    "]\n",
    "\n",
    "metamm = [\n",
    "    ([i0, i1], [*pearsonr(mmcomE[i0], mmcomE[i1])])\n",
    "    for i0, i1 in itertools.combinations(mmcomE.columns, 2)\n",
    "]\n",
    "\n",
    "cidx = np.intersect1d(qqcomE.index, mmcomE.index)\n",
    "\n",
    "metaqm = [\n",
    "    ([i0, i1], [*pearsonr(qqcomE.loc[cidx, i0], mmcomE.loc[cidx, i1])])\n",
    "    for i0, i1 in itertools.product(qqcomE.columns, mmcomE.columns)\n",
    "]"
   ]
  },
  {
   "cell_type": "code",
   "execution_count": 76,
   "metadata": {},
   "outputs": [
    {
     "data": {
      "text/plain": [
       "(array([False, False, False, False, False, False, False,  True, False,\n",
       "        False, False, False, False, False, False, False,  True, False,\n",
       "        False, False, False, False,  True, False, False, False, False,\n",
       "        False, False, False, False, False, False, False, False,  True,\n",
       "        False, False, False, False, False, False, False, False,  True,\n",
       "        False, False, False,  True, False, False, False, False, False,\n",
       "        False, False, False, False, False, False,  True, False, False,\n",
       "        False, False, False, False, False, False, False,  True, False,\n",
       "        False, False, False, False, False, False, False, False, False,\n",
       "        False, False, False, False, False, False, False,  True, False,\n",
       "        False, False, False, False, False,  True,  True, False, False,\n",
       "        False, False,  True, False, False, False,  True, False, False,\n",
       "         True,  True]),\n",
       " array([5.24897071e-01, 7.49436221e-01, 2.46572634e-01, 1.18169401e-01,\n",
       "        5.64375252e-01, 3.64710637e-01, 4.92008715e-01, 1.88308430e-02,\n",
       "        5.41029464e-01, 3.64710637e-01, 2.31130954e-01, 8.38228372e-01,\n",
       "        7.84754614e-01, 8.66273665e-02, 8.78790692e-01, 1.17262023e-01,\n",
       "        1.88308430e-02, 3.67501126e-01, 6.33171025e-01, 1.18169401e-01,\n",
       "        2.78117506e-01, 1.00802382e-01, 1.59981004e-02, 2.72419574e-01,\n",
       "        6.01708813e-01, 1.28181758e-01, 8.38228372e-01, 6.72256875e-01,\n",
       "        7.74087850e-01, 8.38228372e-01, 1.17262023e-01, 9.93296146e-01,\n",
       "        8.38228372e-01, 3.67501126e-01, 3.68920313e-01, 6.53987243e-03,\n",
       "        5.01014226e-01, 8.96234001e-01, 5.72458209e-01, 4.02280645e-01,\n",
       "        2.07196463e-01, 7.28427575e-01, 9.05489634e-01, 3.64710637e-01,\n",
       "        4.16414926e-03, 3.68920313e-01, 2.07196463e-01, 2.07196463e-01,\n",
       "        9.48824272e-03, 5.01014226e-01, 2.84383829e-01, 7.82219078e-02,\n",
       "        6.13725931e-01, 3.27409626e-01, 4.47288710e-01, 6.29926031e-01,\n",
       "        6.94248719e-01, 1.00802382e-01, 4.95235762e-01, 2.78117506e-01,\n",
       "        2.75816338e-03, 3.64710637e-01, 7.56361101e-01, 1.82493140e-01,\n",
       "        1.00802382e-01, 6.15975032e-01, 9.15160739e-01, 4.74167021e-01,\n",
       "        6.29926031e-01, 3.25886565e-01, 4.31315424e-03, 9.31826368e-02,\n",
       "        4.15784532e-01, 7.22048717e-01, 2.14168365e-01, 8.96234001e-01,\n",
       "        7.26790591e-01, 6.14731278e-01, 3.99000416e-01, 2.07196463e-01,\n",
       "        9.93296146e-01, 3.50785824e-01, 1.17262023e-01, 9.92246655e-01,\n",
       "        3.36473689e-01, 1.17262023e-01, 7.11601223e-01, 5.41029464e-01,\n",
       "        1.88308430e-02, 2.07196463e-01, 8.38228372e-01, 7.56361101e-01,\n",
       "        9.92246655e-01, 8.38228372e-01, 1.26635361e-01, 8.19693402e-07,\n",
       "        1.88308430e-02, 8.41399801e-01, 1.89983109e-01, 9.92246655e-01,\n",
       "        8.58775344e-01, 5.79159771e-04, 9.28078403e-01, 9.46605071e-01,\n",
       "        8.46989693e-01, 5.37793696e-03, 9.52577267e-01, 5.41029464e-01,\n",
       "        4.10548804e-03, 3.18666115e-15]),\n",
       " 0.0004661939740542298,\n",
       " 0.00045454545454545455)"
      ]
     },
     "execution_count": 76,
     "metadata": {},
     "output_type": "execute_result"
    }
   ],
   "source": [
    "multipletests(list(zip(*list(zip(*metaqm))[1]))[1], method='fdr_bh')"
   ]
  },
  {
   "cell_type": "code",
   "execution_count": 69,
   "metadata": {},
   "outputs": [
    {
     "name": "stdout",
     "output_type": "stream",
     "text": [
      "NT_MetaNetwork_WGCNA.html\n"
     ]
    }
   ],
   "source": [
    "metag = nx.Graph()\n",
    "\n",
    "_ = [metag.add_node(f'q{i}', group='q', sizee=1-np.log(qqCP.loc['Group',i])) for i in qqcomE.columns]\n",
    "_ = [metag.add_node(f'm{i}', group='m', sizee=1-np.log(mmCP.loc['Group',i])) for i in mmcomE.columns]\n",
    "_ = [\n",
    "    metag.add_edge(f'{xx[0]}{nodes[0]}', f'{xx[1]}{nodes[1]}', r=vals[0], p=vals[1], omic=xx)\n",
    "    for metaxx, xx in [(metaqq, 'qq'), (metamm, 'mm'), (metaqm, 'qm')][2:]\n",
    "    for nodes, vals in metaxx if vals[1]<0.05\n",
    "]\n",
    "\n",
    "nt = Network(height='500px', width='100%', select_menu=True, filter_menu=True)\n",
    "nt.force_atlas_2based()\n",
    "nt.from_nx(metag)\n",
    "_ = [i.update({'color': palette[1]}) if i['group']=='m' else i.update({'color': palette[0]}) for i in nt.nodes]\n",
    "_ = [i.update({'color': 'grey'}) if i['r']>0 else i.update({'color': 'grey'}) for i in nt.edges]\n",
    "_ = [i.update({'width': -np.log(i['p'])}) for i in nt.edges]\n",
    "nt.show_buttons(filter_='physics')\n",
    "nt.show('NT_MetaNetwork_WGCNA.html', notebook=False)"
   ]
  },
  {
   "cell_type": "code",
   "execution_count": 80,
   "metadata": {},
   "outputs": [],
   "source": [
    "res = []\n",
    "\n",
    "\n",
    "pd.DataFrame(\n",
    "    [(f'q{i[0]}',f'm{i[1]}',j[0]) for i,j in metaqm if j[1]<0.01],\n",
    "    columns=['var1', 'var2', 'value']\n",
    ").to_csv('ChordDiagram/meta-network_WGCNA.tsv', sep='\\t', index=False)\n",
    "\n",
    "\n",
    "#res.to_csv('ChordDiagram/meta-network_WGCNA.tsv', sep='\\t', index=False)\n",
    "#res"
   ]
  },
  {
   "attachments": {},
   "cell_type": "markdown",
   "metadata": {},
   "source": [
    "Conexiones entre qq y mm mediante Binomial, Poisson y Hypergeom"
   ]
  },
  {
   "cell_type": "code",
   "execution_count": 81,
   "metadata": {},
   "outputs": [],
   "source": [
    "#\n",
    "# Binomial\n",
    "#\n",
    "from scipy.stats import binom, poisson, hypergeom\n",
    "\n",
    "mmclusters = list(zip(*np.argwhere([mmCPF.Group<0.1]).tolist()))[1]\n",
    "\n",
    "\n",
    "tmp = [\n",
    "    [(i,j), (len(qqcom[i]), len(mmcom[j]))] \n",
    "    for i,j in itertools.product(range(len(qqcom)), range(len(mmcom)))\n",
    "    ]\n",
    "\n",
    "binRes = []\n",
    "for iqm, vqm in tmp:\n",
    "\n",
    "    # The probability estimation for edge existence is the ratio of existing edges\n",
    "    p = qmg.size()/(xq.shape[1]*xm.shape[1])\n",
    "\n",
    "    # The number of tests is the total number of possible edges between both clusters\n",
    "    n = vqm[0]*vqm[1]\n",
    "\n",
    "    # The x value is the number of existing edges between clusters\n",
    "    x = qmg.subgraph(\n",
    "        qqcom[iqm[0]] + mmcom[iqm[1]]\n",
    "    ).size()\n",
    "\n",
    "    binRes.append(\n",
    "        [\n",
    "        iqm, x, n, p, \n",
    "        1-binom.cdf(x-1, n, p), \n",
    "        1-poisson.cdf(x-1, n*p),\n",
    "        1-hypergeom.cdf(x-1, xq.shape[1]*xm.shape[1], n, qmg.size())\n",
    "        ]\n",
    "    )\n",
    "\n",
    "binRes = pd.DataFrame(binRes,\n",
    "             columns=['iqm', 'x', 'n', 'p', 'Bin', 'Poi', 'Hyp']) \n",
    "\n",
    "for i in ['Bin', 'Poi', 'Hyp']:\n",
    "    binRes[i+'_adj'] = multipletests(binRes['Bin'], method='fdr_bh')[1]\n",
    "\n",
    "binRes = binRes[[i1 in mmclusters for i0,i1 in binRes.iqm]]"
   ]
  },
  {
   "cell_type": "code",
   "execution_count": 82,
   "metadata": {},
   "outputs": [
    {
     "data": {
      "text/html": [
       "<div>\n",
       "<style scoped>\n",
       "    .dataframe tbody tr th:only-of-type {\n",
       "        vertical-align: middle;\n",
       "    }\n",
       "\n",
       "    .dataframe tbody tr th {\n",
       "        vertical-align: top;\n",
       "    }\n",
       "\n",
       "    .dataframe thead th {\n",
       "        text-align: right;\n",
       "    }\n",
       "</style>\n",
       "<table border=\"1\" class=\"dataframe\">\n",
       "  <thead>\n",
       "    <tr style=\"text-align: right;\">\n",
       "      <th></th>\n",
       "      <th>var1</th>\n",
       "      <th>var2</th>\n",
       "      <th>value</th>\n",
       "    </tr>\n",
       "  </thead>\n",
       "  <tbody>\n",
       "    <tr>\n",
       "      <th>0</th>\n",
       "      <td>q0</td>\n",
       "      <td>m4</td>\n",
       "      <td>0.090639</td>\n",
       "    </tr>\n",
       "    <tr>\n",
       "      <th>1</th>\n",
       "      <td>q0</td>\n",
       "      <td>m6</td>\n",
       "      <td>0.077262</td>\n",
       "    </tr>\n",
       "    <tr>\n",
       "      <th>2</th>\n",
       "      <td>q0</td>\n",
       "      <td>m20</td>\n",
       "      <td>0.082182</td>\n",
       "    </tr>\n",
       "    <tr>\n",
       "      <th>3</th>\n",
       "      <td>q0</td>\n",
       "      <td>m21</td>\n",
       "      <td>0.093195</td>\n",
       "    </tr>\n",
       "    <tr>\n",
       "      <th>4</th>\n",
       "      <td>q1</td>\n",
       "      <td>m4</td>\n",
       "      <td>0.076240</td>\n",
       "    </tr>\n",
       "    <tr>\n",
       "      <th>5</th>\n",
       "      <td>q1</td>\n",
       "      <td>m6</td>\n",
       "      <td>0.091892</td>\n",
       "    </tr>\n",
       "    <tr>\n",
       "      <th>6</th>\n",
       "      <td>q1</td>\n",
       "      <td>m20</td>\n",
       "      <td>0.107085</td>\n",
       "    </tr>\n",
       "    <tr>\n",
       "      <th>7</th>\n",
       "      <td>q1</td>\n",
       "      <td>m21</td>\n",
       "      <td>0.119917</td>\n",
       "    </tr>\n",
       "    <tr>\n",
       "      <th>8</th>\n",
       "      <td>q2</td>\n",
       "      <td>m4</td>\n",
       "      <td>0.075368</td>\n",
       "    </tr>\n",
       "    <tr>\n",
       "      <th>9</th>\n",
       "      <td>q2</td>\n",
       "      <td>m6</td>\n",
       "      <td>0.072789</td>\n",
       "    </tr>\n",
       "    <tr>\n",
       "      <th>10</th>\n",
       "      <td>q2</td>\n",
       "      <td>m21</td>\n",
       "      <td>0.076057</td>\n",
       "    </tr>\n",
       "    <tr>\n",
       "      <th>11</th>\n",
       "      <td>q3</td>\n",
       "      <td>m20</td>\n",
       "      <td>0.087124</td>\n",
       "    </tr>\n",
       "    <tr>\n",
       "      <th>12</th>\n",
       "      <td>q3</td>\n",
       "      <td>m21</td>\n",
       "      <td>0.089678</td>\n",
       "    </tr>\n",
       "    <tr>\n",
       "      <th>13</th>\n",
       "      <td>q4</td>\n",
       "      <td>m4</td>\n",
       "      <td>0.087313</td>\n",
       "    </tr>\n",
       "    <tr>\n",
       "      <th>14</th>\n",
       "      <td>q4</td>\n",
       "      <td>m6</td>\n",
       "      <td>0.081634</td>\n",
       "    </tr>\n",
       "    <tr>\n",
       "      <th>15</th>\n",
       "      <td>q4</td>\n",
       "      <td>m20</td>\n",
       "      <td>0.100873</td>\n",
       "    </tr>\n",
       "    <tr>\n",
       "      <th>16</th>\n",
       "      <td>q4</td>\n",
       "      <td>m21</td>\n",
       "      <td>0.085403</td>\n",
       "    </tr>\n",
       "  </tbody>\n",
       "</table>\n",
       "</div>"
      ],
      "text/plain": [
       "   var1 var2     value\n",
       "0    q0   m4  0.090639\n",
       "1    q0   m6  0.077262\n",
       "2    q0  m20  0.082182\n",
       "3    q0  m21  0.093195\n",
       "4    q1   m4  0.076240\n",
       "5    q1   m6  0.091892\n",
       "6    q1  m20  0.107085\n",
       "7    q1  m21  0.119917\n",
       "8    q2   m4  0.075368\n",
       "9    q2   m6  0.072789\n",
       "10   q2  m21  0.076057\n",
       "11   q3  m20  0.087124\n",
       "12   q3  m21  0.089678\n",
       "13   q4   m4  0.087313\n",
       "14   q4   m6  0.081634\n",
       "15   q4  m20  0.100873\n",
       "16   q4  m21  0.085403"
      ]
     },
     "execution_count": 82,
     "metadata": {},
     "output_type": "execute_result"
    }
   ],
   "source": [
    "res = []\n",
    "\n",
    "tmp = qmc[qmp<0.05].fillna(0)\n",
    "tmp.index = [i.replace('.', '-') for i in tmp.index]\n",
    "\n",
    "for pair in binRes[binRes.Hyp_adj<0.01].iqm.tolist():\n",
    "    # pair = binRes[binRes.Hyp_adj<0.05].iqm.tolist()[0]\n",
    "\n",
    "    r = [tmp.loc[q, m] for q,m in list(itertools.product(qqcom[pair[0]], mmcom[pair[1]]))]\n",
    "    r = np.median([abs(i) for i in r if i!=0])\n",
    "    res.append([*pair, r])\n",
    "\n",
    "    # Positive and negative\n",
    "    # r = [(i, i>0) for i in r if i!=0]\n",
    "    # r.sort(key=lambda x:x[1])\n",
    "    # r = [np.median(list(zip(*list(j)))[0]) for i,j in itertools.groupby(r, lambda x:x[1])]\n",
    "    # res.append([*pair, r[0]]); res.append([*pair, r[1]])\n",
    "\n",
    "res = pd.DataFrame(\n",
    "    [[f\"q{i[0]}\", f\"m{i[1]}\", i[2]] for i in res],\n",
    "    columns=['var1', 'var2', 'value']\n",
    ")\n",
    "\n",
    "res.to_csv('ChordDiagram/meta-network.tsv', sep='\\t', index=False)\n",
    "res\n"
   ]
  },
  {
   "cell_type": "code",
   "execution_count": 21,
   "metadata": {},
   "outputs": [],
   "source": [
    "pv = 0.01\n",
    "metag = nx.Graph()\n",
    "_ = [metag.add_node(f'q{i}', group='q') for i in range(len(qqcom))]\n",
    "_ = [metag.add_node(f'm{i}', group='m') for i in range(len(mmcom))]\n",
    "_ = [metag.add_edge(f'q{i}',f'm{j}') for i,j in binRes.iqm[binRes['Hyp_adj'] < pv]]"
   ]
  },
  {
   "cell_type": "code",
   "execution_count": 318,
   "metadata": {},
   "outputs": [
    {
     "name": "stdout",
     "output_type": "stream",
     "text": [
      "NT_MetaNetwork_Hyper.html\n"
     ]
    }
   ],
   "source": [
    "nt = Network(height='500px', width='100%', select_menu=True, filter_menu=True)\n",
    "nt.force_atlas_2based()\n",
    "nt.from_nx(metag)\n",
    "_ = [i.update({'color': palette[1]}) if i['group']=='m' else i.update({'color': palette[0]}) for i in nt.nodes]\n",
    "_ = [i.update({'color': 'grey'}) for i in nt.edges]\n",
    "#_ = [i.update({'width': -np.log(i['p'])}) for i in nt.edges]\n",
    "nt.show_buttons(filter_='physics')\n",
    "nt.show('NT_MetaNetwork_Hyper.html', notebook=False)"
   ]
  },
  {
   "cell_type": "code",
   "execution_count": 87,
   "metadata": {},
   "outputs": [],
   "source": [
    "# Intersection WGCNA & Hypergeometric\n",
    "wgcna = pd.read_csv(r\"S:\\U_Proteomica\\UNIDAD\\software\\MacrosRafa\\data\\Metabolomics\\PESA_Integromics\\Data\\Analysis\\03-Network\\PESA_V2\\ChordDiagram\\meta-network_WGCNA.tsv\", sep='\\t', index_col=['var1', 'var2'])\n",
    "hyper = pd.read_csv(r\"S:\\U_Proteomica\\UNIDAD\\software\\MacrosRafa\\data\\Metabolomics\\PESA_Integromics\\Data\\Analysis\\03-Network\\PESA_V2\\ChordDiagram\\meta-network.tsv\", sep='\\t', index_col=['var1', 'var2'])"
   ]
  },
  {
   "cell_type": "code",
   "execution_count": 92,
   "metadata": {},
   "outputs": [
    {
     "data": {
      "text/plain": [
       "array([('q2', 'm4'), ('q4', 'm20'), ('q4', 'm21')], dtype=object)"
      ]
     },
     "execution_count": 92,
     "metadata": {},
     "output_type": "execute_result"
    }
   ],
   "source": [
    "np.intersect1d(\n",
    "wgcna.index,\n",
    "hyper.index\n",
    ")"
   ]
  },
  {
   "attachments": {},
   "cell_type": "markdown",
   "metadata": {},
   "source": [
    "Calcular proteinas más conectadas con metabolitos"
   ]
  },
  {
   "cell_type": "code",
   "execution_count": 100,
   "metadata": {},
   "outputs": [],
   "source": [
    "qSig = pd.DataFrame([\n",
    "    (q,x, 1-hypergeom.cdf(x-1, xq.shape[1]*xm.shape[1], xm.shape[1], qmg.size())) \n",
    "    for q,x in pd.Series([i[0] for i in qmg.edges.data()]).value_counts().to_dict().items()\n",
    "], columns=['q', 'x', 'pv']).set_index('q')\n",
    "\n",
    "qSig['pv_adj'] = multipletests(qSig['pv'], method='bonferroni')[1]"
   ]
  },
  {
   "cell_type": "code",
   "execution_count": 101,
   "metadata": {},
   "outputs": [],
   "source": [
    "qSig = qSig.join(q2i)"
   ]
  },
  {
   "cell_type": "code",
   "execution_count": 102,
   "metadata": {},
   "outputs": [],
   "source": [
    "qSig.to_csv('qSig.tsv', sep='\\t')"
   ]
  },
  {
   "attachments": {},
   "cell_type": "markdown",
   "metadata": {},
   "source": [
    "Metabolitos más conectados con proteínas"
   ]
  },
  {
   "cell_type": "code",
   "execution_count": 103,
   "metadata": {},
   "outputs": [],
   "source": [
    "mSig = pd.DataFrame([\n",
    "    (m,x, 1-hypergeom.cdf(x-1, xq.shape[1]*xm.shape[1], xq.shape[1], qmg.size())) \n",
    "    for m,x in pd.Series([i[1] for i in qmg.edges.data()]).value_counts().to_dict().items()\n",
    "], columns=['m', 'x', 'pv']).set_index('m')\n",
    "\n",
    "mSig['pv_adj'] = multipletests(mSig['pv'], method='bonferroni')[1]"
   ]
  },
  {
   "cell_type": "code",
   "execution_count": 105,
   "metadata": {},
   "outputs": [],
   "source": [
    "mSig\n",
    "tmp = mSig.join(m2i).loc[:, ['x','pv', 'pv_adj', 'TP_ID']]"
   ]
  },
  {
   "attachments": {},
   "cell_type": "markdown",
   "metadata": {},
   "source": [
    "Explorar proteínas más asociadas a metabolitos de interés"
   ]
  },
  {
   "cell_type": "code",
   "execution_count": 106,
   "metadata": {},
   "outputs": [],
   "source": [
    "metabolite = 'C18N71'\n",
    "\n",
    "tmp2 = pd.DataFrame(\n",
    "    [(i[0], i[2]['weight']) for i in qmg.edges.data() if i[1] == metabolite],\n",
    "    columns=['q', 'r']\n",
    ").set_index('q').join(q2i)"
   ]
  },
  {
   "cell_type": "code",
   "execution_count": 109,
   "metadata": {},
   "outputs": [],
   "source": [
    "midList = [\n",
    "    ('C18N756', 'PE(38:4)'),\n",
    "    ('HILP1984', 'PE(38:4)'),\n",
    "    ('C18N687', 'PE(36:4)'),\n",
    "    ('HILP833', 'PC(38:4)'),\n",
    "    ('C18P829', 'LPE(20:4)'),\n",
    "    ('HILP658', 'LPE(20:4)'),\n",
    "    ('C18N301', 'LPE(18:1)'),\n",
    "    ('HILP632', 'LPE(18:1)'),\n",
    "    ('C18N217', 'LPC(18:2)'),\n",
    "    ('C18P834', 'LPC(18:2)'),\n",
    "    ('HILP669', 'LPC(18:2)'),\n",
    "]\n",
    "\n",
    "# midList = [\n",
    "#     ('HILP520', 'Arginine'),\n",
    "#     ('HILP78', 'Biliverdin'), \n",
    "#     ('C18P619', 'Biliverdin'), \n",
    "#     ('C18P380', 'Atorvastatin'),\n",
    "# ]\n",
    "\n",
    "mid = midList[2]\n",
    "\n",
    "\n",
    "file = f'Plots/AlessiaLipids/PESA_V2_Lipids_Ig_Apo_C.html'\n",
    "if os.path.exists(file):\n",
    "    os.remove(file)\n",
    "\n",
    "for mid in midList:\n",
    "    fig = make_subplots(rows=1, cols=3, subplot_titles=['Inmunoglobulin C Region', 'Apolipoprotein', 'Complement'])\n",
    "\n",
    "    fig = plot_qgroup(fig, r=0, c=0, mid=mid[0], regex='chain C region', title='', cortype='rcca')\n",
    "    fig = plot_qgroup(fig, r=0, c=1, mid=mid[0], regex='Apolipoprotein', title='', cortype='rcca')\n",
    "    fig = plot_qgroup(fig, r=0, c=2, mid=mid[0], regex='Complement', title='', cortype='rcca')\n",
    "    fig.update_layout(title=f'{mid[1]} | {mid[0]}')\n",
    "\n",
    "    with open(file, 'a') as f:\n",
    "        f.write(fig.to_html(full_html=False, include_plotlyjs='cdn', default_height='50%', default_width='100%'))\n",
    "\n",
    "\n",
    "# fig.show()"
   ]
  },
  {
   "cell_type": "code",
   "execution_count": 107,
   "metadata": {},
   "outputs": [],
   "source": [
    "def plot_qgroup(fig, r, c, mid, regex='', title='q Group', cortype='rcca'):\n",
    "    #qid = 'P02741' # ApoB-100\n",
    "\n",
    "    atable = pd.DataFrame(\n",
    "    [\n",
    "        (\n",
    "        q2i.qdesc[i], \n",
    "        i,\n",
    "        k['weight'], \n",
    "        getattr(corr, cortype).qm.c.loc[i.replace('-','.'), mid], \n",
    "        getattr(corr, cortype).qm.d.loc[i.replace('-','.'), mid],\n",
    "        adpv[cortype].qm.c.loc[i.replace('-','.'), mid],\n",
    "        adpv[cortype].qm.d.loc[i.replace('-','.'), mid]\n",
    "        )\n",
    "        for i,j,k in qmg.edges.data() if j==mid\n",
    "    ],\n",
    "    columns=['qdesc', 'fid', 'dc_corr', 'c_corr', 'd_corr', 'c_pv', 'd_pv']\n",
    "    )\n",
    "\n",
    "    tmp = atable[[bool(re.search(fr'{regex}', str(i))) for i in atable.qdesc]]\n",
    "\n",
    "    y0 = tmp.c_corr.to_numpy()\n",
    "    y1 = tmp.d_corr.to_numpy()\n",
    "\n",
    "    cpv, dpv = tmp.c_pv.to_numpy(), tmp.d_pv.to_numpy()\n",
    "\n",
    "    df = pd.DataFrame({'graph_name':['Control']*len(y0)+['Disease']*len(y1),\n",
    "                    'value': np.concatenate([y0,y1],0)}\n",
    "                    # 'color':np.random.choice([0,1,2,3,4,5,6,7,8,9], size=100, replace=True)}\n",
    "                    )\n",
    "\n",
    "    #fig = go.Figure()\n",
    "\n",
    "    ## i will set jittering to 0.1\n",
    "    x0 = np.array([0]*len(y0)) + np.random.uniform(-0.05,0.05,len(y0))\n",
    "    x1 = np.array([1]*len(y0)) + np.random.uniform(-0.05,0.05,len(y0))\n",
    "\n",
    "    for x_start,x_end,y_start,y_end,name,cpvi,dpvi in zip(x0,x1,y0,y1,tmp.qdesc, cpv, dpv):\n",
    "        ## if the color hasn't been added to the legend yet, add a legend entry\n",
    "        text = name[:5]\n",
    "        text = re.search(r'GN=([^\\s]+)(.)', name)\n",
    "        text = text.groups()[0] if text else ''\n",
    "        fig.add_trace(\n",
    "            go.Scatter(\n",
    "                x=[x_start,x_end],\n",
    "                y=[y_start,y_end],\n",
    "                mode='lines+markers+text',\n",
    "                marker=dict(color=['rgba(48, 39, 245, 0.9)' if cpvi<0.05 else 'grey', 'rgba(48, 39, 245, 0.9)' if dpvi<0.05 else 'grey']),\n",
    "                line=dict(color=\"rgba(100,100,100,0.5)\"),\n",
    "                #legendgroup=color_number[color],\n",
    "                #name=color_number[color],\n",
    "                name='', \n",
    "                hovertemplate=name,\n",
    "                text=['', text], textposition='middle left',\n",
    "                showlegend=False,\n",
    "                line_width=0.8,\n",
    "                marker_size=4\n",
    "                #hoverinfo='skip'\n",
    "            ), row=r+1, col=c+1\n",
    "        )\n",
    "\n",
    "    fig.add_trace(go.Box(\n",
    "        y=df.query('graph_name == \"Control\"')['value'], x=len(y0)*[0],\n",
    "        name='Control',hoverinfo='skip', width=0.2, showlegend=False,\n",
    "        marker_color=palette[1], boxpoints = False), row=r+1, col=c+1\n",
    "    )\n",
    "    fig.add_trace(go.Box(\n",
    "        y=df.query('graph_name == \"Disease\"')['value'],  x=len(y1)*[1],\n",
    "        name='Disease',hoverinfo='skip', width=0.2, showlegend=False,\n",
    "        marker_color=palette[2], boxpoints = False), row=r+1, col=c+1\n",
    "    )\n",
    "\n",
    "    fig.update_xaxes(tickvals=[0,1], ticktext=['Control', 'Disease'], range=(-0.2,1.2), title=title, row=r+1, col=c+1)\n",
    "    return fig"
   ]
  },
  {
   "attachments": {},
   "cell_type": "markdown",
   "metadata": {},
   "source": [
    "Explorar proteinas y grupos de lipidos del meta-network"
   ]
  },
  {
   "cell_type": "code",
   "execution_count": 110,
   "metadata": {},
   "outputs": [],
   "source": [
    "qid = 'P06396'\n",
    "\n",
    "atable = pd.DataFrame(\n",
    "[\n",
    "    (\n",
    "    m2i.TP_ID[j], \n",
    "    j,\n",
    "    k['weight'],\n",
    "    corr.rcca.qm.c.loc[qid, j], \n",
    "    corr.rcca.qm.d.loc[qid, j],\n",
    "    adpv.rcca.qm.c.loc[qid, j],\n",
    "    adpv.rcca.qm.d.loc[qid, j]\n",
    "    )\n",
    "    for i,j,k in qmg.edges.data() if i==qid\n",
    "],\n",
    "columns=['TP_ID', 'fid', 'dc_corr', 'c_corr', 'd_corr', 'c_pv', 'd_pv']\n",
    ")"
   ]
  },
  {
   "cell_type": "code",
   "execution_count": 111,
   "metadata": {},
   "outputs": [],
   "source": [
    "def plot_qmclass(fig, r, c, qid, regex='', title='q vs lipid class', cortype='rcca'):\n",
    "    #qid = 'P02741' # ApoB-100\n",
    "\n",
    "    atable = pd.DataFrame(\n",
    "    [\n",
    "        (\n",
    "        m2i.TP_ID[j], \n",
    "        j,\n",
    "        k['weight'], \n",
    "        getattr(corr, cortype).qm.c.loc[qid, j], \n",
    "        getattr(corr, cortype).qm.d.loc[qid, j],\n",
    "        adpv[cortype].qm.c.loc[qid, j],\n",
    "        adpv[cortype].qm.d.loc[qid, j]\n",
    "        )\n",
    "        for i,j,k in qmg.edges.data() if i==qid\n",
    "    ],\n",
    "    columns=['TP_ID', 'fid', 'dc_corr', 'c_corr', 'd_corr', 'c_pv', 'd_pv']\n",
    "    )\n",
    "\n",
    "    tmp = atable[[bool(re.search(fr'{regex}', str(i))) for i in atable.TP_ID]]\n",
    "\n",
    "    y0 = tmp.c_corr.to_numpy()\n",
    "    y1 = tmp.d_corr.to_numpy()\n",
    "\n",
    "    cpv, dpv = tmp.c_pv.to_numpy(), tmp.d_pv.to_numpy()\n",
    "\n",
    "    df = pd.DataFrame({'graph_name':['Control']*len(y0)+['Disease']*len(y1),\n",
    "                    'value': np.concatenate([y0,y1],0)}\n",
    "                    # 'color':np.random.choice([0,1,2,3,4,5,6,7,8,9], size=100, replace=True)}\n",
    "                    )\n",
    "\n",
    "    #fig = go.Figure()\n",
    "\n",
    "    ## i will set jittering to 0.1\n",
    "    x0 = np.array([0]*len(y0)) + np.random.uniform(-0.05,0.05,len(y0))\n",
    "    x1 = np.array([1]*len(y0)) + np.random.uniform(-0.05,0.05,len(y0))\n",
    "\n",
    "    for x_start,x_end,y_start,y_end,name,cpvi,dpvi in zip(x0,x1,y0,y1,tmp.TP_ID, cpv, dpv):\n",
    "        ## if the color hasn't been added to the legend yet, add a legend entry\n",
    "        text = name[:5]\n",
    "        fig.add_trace(\n",
    "            go.Scatter(\n",
    "                x=[x_start,x_end],\n",
    "                y=[y_start,y_end],\n",
    "                mode='lines+markers',\n",
    "                marker=dict(color=['rgba(48, 39, 245, 0.9)' if cpvi<0.05 else 'grey', 'rgba(48, 39, 245, 0.9)' if dpvi<0.05 else 'grey']),\n",
    "                line=dict(color=\"rgba(100,100,100,0.5)\"),\n",
    "                #legendgroup=color_number[color],\n",
    "                #name=color_number[color],\n",
    "                name='', \n",
    "                hovertemplate=name,\n",
    "                text=text, textposition='top left',\n",
    "                showlegend=False,\n",
    "                line_width=0.8,\n",
    "                marker_size=4\n",
    "                #hoverinfo='skip'\n",
    "            ), row=r+1, col=c+1\n",
    "        )\n",
    "\n",
    "    fig.add_trace(go.Box(\n",
    "        y=df.query('graph_name == \"Control\"')['value'], x=len(y0)*[0],\n",
    "        name='Control',hoverinfo='skip', width=0.2, showlegend=False,\n",
    "        marker_color=palette[1], boxpoints = False), row=r+1, col=c+1\n",
    "    )\n",
    "    fig.add_trace(go.Box(\n",
    "        y=df.query('graph_name == \"Disease\"')['value'],  x=len(y1)*[1],\n",
    "        name='Disease',hoverinfo='skip', width=0.2, showlegend=False,\n",
    "        marker_color=palette[2], boxpoints = False), row=r+1, col=c+1\n",
    "    )\n",
    "\n",
    "    fig.update_xaxes(tickvals=[0,1], ticktext=['Control', 'Disease'], range=(-0.2,1.2), title=title, row=r+1, col=c+1)\n",
    "    return fig"
   ]
  },
  {
   "cell_type": "code",
   "execution_count": 124,
   "metadata": {},
   "outputs": [],
   "source": [
    "cortype='rcca'\n",
    "\n",
    "myProts = [\n",
    "    # ('P04114', 'ApoB-100'),\n",
    "    # ('P02647', 'ApoA-I'),\n",
    "    # ('P02652', 'ApoA-II'),\n",
    "    # ('P02649', 'ApoE'),\n",
    "    # ('P02654', 'ApoC-I'),\n",
    "    # ('P02655', 'ApoC-II'),\n",
    "    # ('P01031', 'C5'),\n",
    "    # ('P01834', 'Ig kappa chain C region'),\n",
    "    # ('P01876', 'Ig alpha-1 chain C region'),\n",
    "    # ('P01857', 'Ig gamma-1 chain C region'),\n",
    "    # ('P01859', 'Ig gamma-2 chain C region'),\n",
    "    # ('P01860', 'Ig gamma-3 chain C region'),\n",
    "    # ('P0CG05', 'Ig lambda-2 chain C region'),\n",
    "    ('P00738', 'Haptoglobin'),\n",
    "    ('P05546', 'Hep2'),\n",
    "    ('P01877', 'IGHA2'),\n",
    "    ('P08519', 'APOA')\n",
    "]\n",
    "\n",
    "lipidClass = [\n",
    "    ('(^|\\s)DG\\s', 'DG'),\n",
    "    ('(^|\\s)PC\\s', 'PC'),\n",
    "    ('(^|\\s)LPC\\s', 'LPC'),\n",
    "    ('(^|\\s)PE\\s', 'PE'),\n",
    "    ('(^|\\s)LPE\\s', 'LPE'),\n",
    "    ('(^|\\s)PS\\s', 'PS'),\n",
    "    ('(^|\\s)LPS\\s', 'LPS'),\n",
    "    ('(^|\\s)SM\\s', 'SM'),\n",
    "    ('(^|\\s)CAR\\s', 'CAR'),\n",
    "    ('(^|\\s)FA\\s', 'FA'),\n",
    "    ('(^|\\s)ST\\s', 'ST'),\n",
    "]\n",
    "\n",
    "r=3; c=5\n",
    "\n",
    "for qid, qdesc in myProts:\n",
    "    fig = make_subplots(rows=r, cols=c, vertical_spacing=0.05)\n",
    "\n",
    "    file = f'Plots/q2LipidClass/{cortype}/{qid}_{qdesc}.html'\n",
    "    if os.path.exists(file):\n",
    "        os.remove(file)\n",
    "\n",
    "    #print(qSig.loc[[qid], :])\n",
    "    for n, (regex, lipid) in enumerate(lipidClass):\n",
    "        fig = plot_qmclass(fig, n//c, n%c, qid,  regex, lipid, cortype)\n",
    "\n",
    "    with open(file, 'a') as f:\n",
    "        f.write(fig.to_html(full_html=False, include_plotlyjs='cdn', default_height='150%', default_width='100%'))\n"
   ]
  },
  {
   "cell_type": "code",
   "execution_count": 121,
   "metadata": {},
   "outputs": [],
   "source": [
    "cortype = 'rcca'\n",
    "\n",
    "# myProts = [\n",
    "#     ('P01834', 'Ig kappa chain C region'),\n",
    "#     ('P01876', 'Ig alpha-1 chain C region'),\n",
    "#     ('P01857', 'Ig gamma-1 chain C region'),\n",
    "#     ('P01859', 'Ig gamma-2 chain C region'),\n",
    "#     ('P01860', 'Ig gamma-3 chain C region'),\n",
    "#     ('P0CG05', 'Ig lambda-2 chain C region')\n",
    "# ]\n",
    "\n",
    "myProts = [\n",
    "    ('P04114', 'ApoB-100'),\n",
    "    ('P02647', 'ApoA-I'),\n",
    "    ('P02652', 'ApoA-II'),\n",
    "    ('P02649', 'ApoE'),\n",
    "    ('P02654', 'ApoC-I'),\n",
    "    ('P02655', 'ApoC-II'),\n",
    "    #('P05546', 'Hep2'),\n",
    "    # ('P00738', 'Haptoglobin')\n",
    "]\n",
    "\n",
    "myProts = [\n",
    "    ('P01031', 'C5'),\n",
    "    ('P00751', 'CFB'),\n",
    "    ('P07360', 'CO8G'),\n",
    "    ('P08603', 'CFH'),\n",
    "    ('P0C0L4', 'C4A'),\n",
    "    ('P0C0L5', 'C4B'),\n",
    "    ('P13671', 'C6'),\n",
    "    ('P05546', 'Hep2'),\n",
    "    ('P00738', 'Haptoglobin')\n",
    "]\n",
    "\n",
    "lipidClass = [\n",
    "    ('(^|\\s)DG\\s', 'DG'),\n",
    "    ('(^|\\s)PC\\s', 'PC'),\n",
    "    ('(^|\\s)LPC\\s', 'LPC'),\n",
    "    ('(^|\\s)PE\\s', 'PE'),\n",
    "    ('(^|\\s)LPE\\s', 'LPE'),\n",
    "    ('(^|\\s)PS\\s', 'PS'),\n",
    "    ('(^|\\s)LPS\\s', 'LPS'),\n",
    "    ('(^|\\s)SM\\s', 'SM'),\n",
    "    ('(^|\\s)CAR\\s', 'CAR'),\n",
    "    ('(^|\\s)FA\\s', 'FA'),\n",
    "    ('(^|\\s)ST\\s', 'ST'),\n",
    "]\n",
    "\n",
    "file = f'Plots/q2LipidClass/{cortype}/Compl_LipidClass.html'\n",
    "\n",
    "r=len(lipidClass); c=len(myProts)\n",
    "\n",
    "#for qid, qdesc in myProts:\n",
    "if os.path.exists(file):\n",
    "    os.remove(file)\n",
    "fig = make_subplots(rows=r, cols=c, vertical_spacing=0.03, subplot_titles=r*list(zip(*myProts))[1])\n",
    "\n",
    "for ni, (regex, lipid) in enumerate(lipidClass):\n",
    "    #print(qSig.loc[[qid], :])\n",
    "    for nj, (qid, qdesc) in enumerate(myProts):\n",
    "        fig = plot_qmclass(fig, ni, nj, qid,  regex, lipid, cortype)\n",
    "\n",
    "with open(file, 'a') as f:\n",
    "    f.write(fig.to_html(full_html=False, include_plotlyjs='cdn', default_height='500%', default_width='100%'))\n"
   ]
  },
  {
   "attachments": {},
   "cell_type": "markdown",
   "metadata": {},
   "source": [
    "Representar correlaciones diferenciales en proteínas significativas por Limma"
   ]
  },
  {
   "cell_type": "code",
   "execution_count": 59,
   "metadata": {},
   "outputs": [],
   "source": [
    "# Read results from Limma\n",
    "\n",
    "qlim = pd.read_csv(r\"S:\\U_Proteomica\\UNIDAD\\software\\MacrosRafa\\data\\Metabolomics\\PESA_Integromics\\Data\\Analysis\\01-BasicStats\\PESA\\qLimma.tsv\", sep='\\t')\n",
    "mlim = pd.read_csv(r\"S:\\U_Proteomica\\UNIDAD\\software\\MacrosRafa\\data\\Metabolomics\\PESA_Integromics\\Data\\Analysis\\01-BasicStats\\PESA\\mLimma.tsv\", sep='\\t')\n",
    "\n",
    "qlim.index = [i.replace('.', '-') for i in qlim.index]\n",
    "\n",
    "qlim = q2i.join(qlim, how='right')\n",
    "mlim = m2i.loc[:, ['ID', 'TP_ID']].join(mlim, how='right')"
   ]
  },
  {
   "cell_type": "code",
   "execution_count": 80,
   "metadata": {},
   "outputs": [],
   "source": [
    "# Get Limma significative proteins\n",
    "pv = 0.1\n",
    "cortype='rcca'\n",
    "\n",
    "\n",
    "myProts = [\n",
    "    (i,re.search(r'GN=([A-z0-9]+)',j))\n",
    "    for i,j in zip(\n",
    "        qlim.index[qlim['adj.P.Val']<pv],\n",
    "        qlim.qdesc[qlim['adj.P.Val']<pv]\n",
    "    )\n",
    "][12:]\n",
    "\n",
    "myProts = [\n",
    "(i, j.groups()[0]) if j else\n",
    "(i, i)\n",
    "for i,j in myProts\n",
    "]\n",
    "\n",
    "file = f'Plots/q2LipidClass/{cortype}/Limma_LipidClass_12-24.html'\n",
    "\n",
    "r=len(lipidClass); c=len(myProts)\n",
    "\n",
    "#for qid, qdesc in myProts:\n",
    "if os.path.exists(file):\n",
    "    os.remove(file)\n",
    "fig = make_subplots(rows=r, cols=c, vertical_spacing=0.03, subplot_titles=r*list(zip(*myProts))[1])\n",
    "\n",
    "for ni, (regex, lipid) in enumerate(lipidClass):\n",
    "    #print(qSig.loc[[qid], :])\n",
    "    for nj, (qid, qdesc) in enumerate(myProts):\n",
    "        fig = plot_qmclass(fig, ni, nj, qid,  regex, lipid, cortype)\n",
    "\n",
    "with open(file, 'a') as f:\n",
    "    f.write(fig.to_html(full_html=False, include_plotlyjs='cdn', default_height='500%', default_width='100%'))\n"
   ]
  },
  {
   "attachments": {},
   "cell_type": "markdown",
   "metadata": {},
   "source": [
    "Representar distribucion de valores de proteinas en control y AS"
   ]
  },
  {
   "cell_type": "code",
   "execution_count": 93,
   "metadata": {},
   "outputs": [],
   "source": [
    "myProts = [\n",
    "    ('P04114', 'ApoB-100'),\n",
    "    ('P02647', 'ApoA-I'),\n",
    "    ('P02652', 'ApoA-II'),\n",
    "    ('P02649', 'ApoE'),\n",
    "    ('P02654', 'ApoC-I'),\n",
    "    ('P02655', 'ApoC-II'),\n",
    "    # ('P01031', 'C5'),\n",
    "    # ('P00738', 'Haptoglobin'),\n",
    "    # ('P05546', 'Hep2')\n",
    "    # ('P01834', 'Ig kappa chain C region'),\n",
    "    # ('P01876', 'Ig alpha-1 chain C region'),\n",
    "    # ('P01857', 'Ig gamma-1 chain C region'),\n",
    "    # ('P01859', 'Ig gamma-2 chain C region'),\n",
    "    # ('P01860', 'Ig gamma-3 chain C region'),\n",
    "    # ('P0CG05', 'Ig lambda-2 chain C region'),\n",
    "]\n",
    "\n",
    "\n",
    "# Limma proteins\n",
    "\n",
    "# pv=0.1\n",
    "# myProts = [\n",
    "#     (i,re.search(r'GN=([A-z0-9]+)',j))\n",
    "#     for i,j in zip(\n",
    "#         qlim.index[qlim['adj.P.Val']<pv],\n",
    "#         qlim.qdesc[qlim['adj.P.Val']<pv]\n",
    "#     )\n",
    "# ][:]\n",
    "\n",
    "# myProts = [\n",
    "# (i, j.groups()[0]) if j else\n",
    "# (i, i)\n",
    "# for i,j in myProts\n",
    "# ]"
   ]
  },
  {
   "cell_type": "code",
   "execution_count": 92,
   "metadata": {},
   "outputs": [
    {
     "data": {
      "application/vnd.plotly.v1+json": {
       "config": {
        "plotlyServerURL": "https://plot.ly"
       },
       "data": [
        {
         "hoverinfo": "skip",
         "legendgroup": "Yes",
         "line": {
          "color": "#EF553B"
         },
         "meanline": {
          "visible": true
         },
         "name": "Control",
         "scalegroup": "Yes",
         "showlegend": false,
         "side": "negative",
         "type": "violin",
         "x": [
          "ApoB-100",
          "ApoB-100",
          "ApoB-100",
          "ApoB-100",
          "ApoB-100",
          "ApoB-100",
          "ApoB-100",
          "ApoB-100",
          "ApoB-100",
          "ApoB-100",
          "ApoB-100",
          "ApoB-100",
          "ApoB-100",
          "ApoB-100",
          "ApoB-100",
          "ApoB-100",
          "ApoB-100",
          "ApoB-100",
          "ApoB-100",
          "ApoB-100",
          "ApoB-100",
          "ApoB-100",
          "ApoB-100",
          "ApoB-100",
          "ApoB-100",
          "ApoB-100",
          "ApoB-100",
          "ApoB-100",
          "ApoB-100",
          "ApoB-100",
          "ApoB-100",
          "ApoB-100",
          "ApoB-100",
          "ApoB-100",
          "ApoB-100",
          "ApoB-100",
          "ApoB-100",
          "ApoB-100",
          "ApoB-100",
          "ApoB-100",
          "ApoB-100",
          "ApoB-100",
          "ApoB-100",
          "ApoB-100",
          "ApoB-100",
          "ApoB-100",
          "ApoB-100",
          "ApoB-100",
          "ApoB-100",
          "ApoB-100",
          "ApoB-100",
          "ApoB-100",
          "ApoB-100",
          "ApoB-100",
          "ApoB-100",
          "ApoB-100",
          "ApoB-100",
          "ApoB-100",
          "ApoB-100",
          "ApoB-100",
          "ApoB-100",
          "ApoB-100",
          "ApoB-100",
          "ApoB-100",
          "ApoB-100",
          "ApoB-100",
          "ApoB-100",
          "ApoB-100",
          "ApoB-100",
          "ApoB-100",
          "ApoB-100",
          "ApoB-100",
          "ApoB-100",
          "ApoB-100",
          "ApoB-100",
          "ApoB-100",
          "ApoB-100",
          "ApoB-100",
          "ApoB-100",
          "ApoB-100",
          "ApoB-100",
          "ApoB-100",
          "ApoB-100",
          "ApoB-100",
          "ApoB-100",
          "ApoB-100",
          "ApoB-100",
          "ApoB-100",
          "ApoB-100",
          "ApoB-100",
          "ApoB-100",
          "ApoB-100",
          "ApoB-100",
          "ApoB-100",
          "ApoB-100",
          "ApoB-100",
          "ApoB-100",
          "ApoB-100",
          "ApoB-100",
          "ApoB-100",
          "ApoB-100",
          "ApoB-100",
          "ApoB-100",
          "ApoB-100",
          "ApoB-100",
          "ApoB-100",
          "ApoB-100",
          "ApoB-100",
          "ApoB-100",
          "ApoB-100",
          "ApoB-100",
          "ApoB-100",
          "ApoB-100",
          "ApoB-100",
          "ApoB-100",
          "ApoB-100",
          "ApoB-100",
          "ApoB-100",
          "ApoB-100",
          "ApoB-100",
          "ApoB-100",
          "ApoB-100",
          "ApoB-100",
          "ApoB-100",
          "ApoB-100",
          "ApoB-100",
          "ApoB-100",
          "ApoB-100",
          "ApoB-100",
          "ApoB-100",
          "ApoB-100",
          "ApoB-100",
          "ApoB-100",
          "ApoB-100",
          "ApoB-100",
          "ApoB-100",
          "ApoB-100",
          "ApoB-100",
          "ApoB-100",
          "ApoB-100",
          "ApoB-100",
          "ApoB-100",
          "ApoB-100",
          "ApoB-100",
          "ApoB-100",
          "ApoB-100",
          "ApoB-100",
          "ApoB-100",
          "ApoB-100",
          "ApoB-100",
          "ApoB-100",
          "ApoB-100",
          "ApoB-100",
          "ApoB-100",
          "ApoB-100",
          "ApoB-100",
          "ApoB-100",
          "ApoB-100",
          "ApoB-100",
          "ApoB-100",
          "ApoB-100",
          "ApoB-100",
          "ApoB-100",
          "ApoB-100",
          "ApoB-100",
          "ApoB-100",
          "ApoB-100",
          "ApoB-100",
          "ApoB-100",
          "ApoB-100",
          "ApoB-100",
          "ApoB-100",
          "ApoB-100",
          "ApoB-100",
          "ApoB-100",
          "ApoB-100",
          "ApoB-100",
          "ApoB-100",
          "ApoB-100",
          "ApoB-100",
          "ApoB-100",
          "ApoB-100",
          "ApoB-100",
          "ApoB-100",
          "ApoB-100",
          "ApoB-100",
          "ApoB-100",
          "ApoB-100",
          "ApoB-100",
          "ApoB-100",
          "ApoB-100",
          "ApoB-100",
          "ApoB-100",
          "ApoB-100",
          "ApoB-100",
          "ApoB-100",
          "ApoB-100",
          "ApoB-100",
          "ApoB-100",
          "ApoB-100",
          "ApoB-100",
          "ApoB-100",
          "ApoB-100",
          "ApoB-100",
          "ApoB-100",
          "ApoB-100",
          "ApoB-100",
          "ApoB-100",
          "ApoB-100",
          "ApoB-100",
          "ApoB-100",
          "ApoB-100"
         ],
         "y": [
          1.00210899215802,
          -0.595859922489217,
          0.475915078683226,
          -0.509829959695855,
          -0.463558859170245,
          1.58448258954654,
          1.07922375940846,
          -0.0514816683595082,
          -0.903335530279523,
          -0.0924464119211888,
          -0.0688488804882498,
          -2.29135071603711,
          0.090107544200613,
          1.35372864609087,
          0.0014842950355801,
          0.770089449748049,
          -0.997233196824772,
          0.568442357893217,
          1.03301937429275,
          1.53362443984644,
          -0.737151518333434,
          0.0142087092518735,
          0.839850648915903,
          -0.968957998776702,
          0.783563052637373,
          -0.576324184062801,
          1.15071779732823,
          -2.84199822012993,
          0.144361823465896,
          0.201289678928861,
          -0.972736469592891,
          0.426668283613457,
          0.585859645270538,
          -1.02716731322683,
          -2.3628675016147,
          -0.107890701369327,
          -1.45645012796037,
          0.695886441208052,
          0.428358064183053,
          0.225080614867031,
          1.0427227926739,
          -0.986362150916779,
          1.4889520060018,
          0.349267834060387,
          0.0567780337814786,
          0.526935904453401,
          -1.59379481173033,
          0.343777900264569,
          0.371736102636599,
          1.18106173723148,
          0.619090214559544,
          0.307948837817266,
          -1.67678148911665,
          0.427660041759824,
          -1.8483926363695,
          -1.61263270981514,
          0.688276385778681,
          -0.517374851116293,
          0.380259269921295,
          0.0719571873524248,
          -1.35450383399996,
          -0.815367508660105,
          -0.389141632629189,
          -0.660290892948686,
          0.0866244463356467,
          0.0788260850570873,
          0.515513385648866,
          1.81976128732107,
          -1.43880327605759,
          0.459287032245525,
          -0.25260324194844,
          0.529550411511929,
          -0.827617566271253,
          -0.405295801991365,
          1.0376340101833,
          -0.787889532882778,
          -1.24947686086999,
          -1.22693219956342,
          0.0648856936920302,
          -0.826755905322429,
          0.574732352606738,
          -2.25142983608121,
          0.791505053986505,
          1.68173292855057,
          0.114378655490622,
          0.666365433073756,
          0.207596901265258,
          0.287886188647005,
          -0.486420398362034,
          -1.63013360731738,
          -1.63540564533621,
          -1.27305179663843,
          -0.661556799148368,
          -1.17775743143386,
          -1.73252199323209,
          -1.38959398260889,
          -0.0291383134097754,
          0.273506285570906,
          -2.11516078786661,
          0.545953004657648,
          -0.611735041608038,
          -0.987231186756651,
          0.0271000033915633,
          0.986282065414798,
          0.502704407507169,
          0.538546204764503,
          -1.01690187598722,
          -0.291944510145222,
          0.717462645830564,
          0.499287494934785,
          -2.25083076336229,
          0.512487132628504,
          1.41442909396744,
          -0.853491254087815,
          0.0798752295290765,
          0.0038829973907589,
          1.4636199148925,
          1.16588515474055,
          0.860157196469804,
          0.480139673262867,
          -0.35558006352547,
          0.0945978130145194,
          -0.301135801490165,
          -0.174513290776697,
          0.190383185042738,
          1.06774074803846,
          -1.09665142834784,
          0.554696132294544,
          0.556164624497108,
          0.651484016456728,
          0.992055849590061,
          -1.88507533773268,
          0.966000320229181,
          0.445581488490182,
          0.177938503880339,
          -2.53112087405713,
          0.660684040572825,
          0.404099536091903,
          0.818257745249378,
          0.608892112587528,
          -0.397087600409326,
          -1.10732531212957,
          0.567501870678262,
          0.995520105785848,
          1.12532296036306,
          -0.437508104630898,
          -2.53334795356073,
          -0.674398176105022,
          0.852366673645727,
          -1.34291585225783,
          -1.75071877431836,
          -2.87929325670879,
          -1.00240001198148,
          -0.313317291765233,
          -1.79562880088104,
          -0.68868196416725,
          -0.084050872026061,
          -1.06798481680296,
          -0.556469867641599,
          0.428623050499665,
          -3.81527975252299,
          -0.521833147033238,
          -0.699687912226834,
          0.483725798321332,
          0.112872229995338,
          -0.646213112910515,
          -0.123388096981684,
          -0.67315816319041,
          -1.04303058210456,
          -1.86371609922308,
          0.832682596830115,
          0.698941765900264,
          -0.9467282104436,
          -0.691148354904933,
          0.746840410268773,
          -0.482530970810704,
          -1.01116641784852,
          0.314873329598624,
          -0.511562508369772,
          0.116317025568071,
          -1.39159075648803,
          -0.462302053501388,
          -1.02276410503303,
          0.215180105760018,
          0.760269270383907,
          0.0095103204590048,
          -0.55451290225975,
          -0.663385880742616,
          -0.659576451042958,
          1.27327591019059,
          1.41397231777988,
          -0.317952876854871,
          0.508669065346111,
          0.593352138199965,
          -0.393493900453049,
          -0.200145069591196,
          -0.616333720775712,
          0.857909952572196,
          0.906620569542482,
          -1.46776869602897,
          -1.50395086029559,
          -1.11080344928215,
          0.437653186808583,
          -0.313791913978022,
          -0.038256949495437,
          0.354520328301367,
          0.70716532847895,
          1.80271927962375,
          -0.943677164463791,
          -1.82816241857238,
          -1.08411037498806,
          0.64458882910415
         ]
        },
        {
         "hoverinfo": "skip",
         "legendgroup": "No",
         "line": {
          "color": "#00CC96"
         },
         "meanline": {
          "visible": true
         },
         "name": "Disease",
         "scalegroup": "No",
         "showlegend": false,
         "side": "positive",
         "type": "violin",
         "x": [
          "ApoB-100",
          "ApoB-100",
          "ApoB-100",
          "ApoB-100",
          "ApoB-100",
          "ApoB-100",
          "ApoB-100",
          "ApoB-100",
          "ApoB-100",
          "ApoB-100",
          "ApoB-100",
          "ApoB-100",
          "ApoB-100",
          "ApoB-100",
          "ApoB-100",
          "ApoB-100",
          "ApoB-100",
          "ApoB-100",
          "ApoB-100",
          "ApoB-100",
          "ApoB-100",
          "ApoB-100",
          "ApoB-100",
          "ApoB-100",
          "ApoB-100",
          "ApoB-100",
          "ApoB-100",
          "ApoB-100",
          "ApoB-100",
          "ApoB-100",
          "ApoB-100",
          "ApoB-100",
          "ApoB-100",
          "ApoB-100",
          "ApoB-100",
          "ApoB-100",
          "ApoB-100",
          "ApoB-100",
          "ApoB-100",
          "ApoB-100",
          "ApoB-100",
          "ApoB-100",
          "ApoB-100",
          "ApoB-100",
          "ApoB-100",
          "ApoB-100",
          "ApoB-100",
          "ApoB-100",
          "ApoB-100",
          "ApoB-100",
          "ApoB-100",
          "ApoB-100",
          "ApoB-100",
          "ApoB-100",
          "ApoB-100",
          "ApoB-100",
          "ApoB-100",
          "ApoB-100",
          "ApoB-100",
          "ApoB-100",
          "ApoB-100",
          "ApoB-100",
          "ApoB-100",
          "ApoB-100",
          "ApoB-100",
          "ApoB-100",
          "ApoB-100",
          "ApoB-100",
          "ApoB-100",
          "ApoB-100",
          "ApoB-100",
          "ApoB-100",
          "ApoB-100",
          "ApoB-100",
          "ApoB-100",
          "ApoB-100",
          "ApoB-100",
          "ApoB-100",
          "ApoB-100",
          "ApoB-100",
          "ApoB-100",
          "ApoB-100",
          "ApoB-100",
          "ApoB-100",
          "ApoB-100",
          "ApoB-100",
          "ApoB-100",
          "ApoB-100",
          "ApoB-100",
          "ApoB-100",
          "ApoB-100",
          "ApoB-100",
          "ApoB-100",
          "ApoB-100",
          "ApoB-100",
          "ApoB-100",
          "ApoB-100",
          "ApoB-100",
          "ApoB-100",
          "ApoB-100",
          "ApoB-100",
          "ApoB-100",
          "ApoB-100",
          "ApoB-100",
          "ApoB-100",
          "ApoB-100",
          "ApoB-100",
          "ApoB-100",
          "ApoB-100",
          "ApoB-100",
          "ApoB-100",
          "ApoB-100",
          "ApoB-100",
          "ApoB-100",
          "ApoB-100",
          "ApoB-100",
          "ApoB-100",
          "ApoB-100",
          "ApoB-100",
          "ApoB-100",
          "ApoB-100",
          "ApoB-100",
          "ApoB-100",
          "ApoB-100",
          "ApoB-100",
          "ApoB-100",
          "ApoB-100",
          "ApoB-100",
          "ApoB-100",
          "ApoB-100",
          "ApoB-100",
          "ApoB-100",
          "ApoB-100",
          "ApoB-100",
          "ApoB-100",
          "ApoB-100",
          "ApoB-100",
          "ApoB-100",
          "ApoB-100",
          "ApoB-100",
          "ApoB-100",
          "ApoB-100",
          "ApoB-100",
          "ApoB-100",
          "ApoB-100",
          "ApoB-100",
          "ApoB-100",
          "ApoB-100",
          "ApoB-100",
          "ApoB-100",
          "ApoB-100",
          "ApoB-100",
          "ApoB-100",
          "ApoB-100",
          "ApoB-100",
          "ApoB-100",
          "ApoB-100",
          "ApoB-100",
          "ApoB-100",
          "ApoB-100",
          "ApoB-100",
          "ApoB-100",
          "ApoB-100",
          "ApoB-100",
          "ApoB-100",
          "ApoB-100",
          "ApoB-100",
          "ApoB-100",
          "ApoB-100",
          "ApoB-100",
          "ApoB-100",
          "ApoB-100",
          "ApoB-100",
          "ApoB-100",
          "ApoB-100",
          "ApoB-100",
          "ApoB-100",
          "ApoB-100",
          "ApoB-100",
          "ApoB-100",
          "ApoB-100",
          "ApoB-100",
          "ApoB-100",
          "ApoB-100",
          "ApoB-100",
          "ApoB-100",
          "ApoB-100",
          "ApoB-100",
          "ApoB-100",
          "ApoB-100",
          "ApoB-100",
          "ApoB-100",
          "ApoB-100",
          "ApoB-100",
          "ApoB-100",
          "ApoB-100",
          "ApoB-100",
          "ApoB-100",
          "ApoB-100",
          "ApoB-100",
          "ApoB-100",
          "ApoB-100",
          "ApoB-100",
          "ApoB-100",
          "ApoB-100",
          "ApoB-100",
          "ApoB-100",
          "ApoB-100",
          "ApoB-100",
          "ApoB-100",
          "ApoB-100",
          "ApoB-100"
         ],
         "y": [
          0.587564215467355,
          -0.337524942734693,
          -0.289061841540488,
          -0.217412752249074,
          1.86907159186247,
          0.286558704505484,
          -0.603895897778906,
          1.30241204740538,
          0.717324351116874,
          -0.319327829674109,
          1.65850092096548,
          0.703322427838748,
          -1.20136815377897,
          0.691365298992455,
          -0.427191560893436,
          -0.579024265712782,
          0.555754178045008,
          -0.121223733871952,
          1.21336231516951,
          1.16670452017859,
          0.336657273616422,
          -0.806200652291699,
          -1.21276509564042,
          0.188653117704949,
          1.56332794525356,
          1.195818435089,
          0.0056055196664106,
          0.952758420088062,
          -0.423505316091324,
          -1.00616519335569,
          1.81897695118845,
          -0.929594286633631,
          -0.0874496507702741,
          0.945311791294859,
          -0.104128888710308,
          -0.0658695414283291,
          0.437184338497028,
          0.847024158524333,
          -0.269676920968146,
          0.582771331067591,
          0.617550561269267,
          -0.378203215701051,
          0.539639315240327,
          1.07031070539007,
          1.14338806148709,
          0.0418417435254806,
          0.263784884147039,
          1.03777712084638,
          -1.58553422464591,
          -0.0170588366184864,
          0.921794693516011,
          1.83893041400521,
          -0.814020908315715,
          -0.31224599814715,
          1.12777327687241,
          -1.08447073863913,
          1.14326644582781,
          0.583663386904504,
          -1.11871601260517,
          0.792271252946036,
          0.069314344718376,
          1.09676697369022,
          1.51953565335216,
          0.242883938098847,
          -0.388914725753686,
          0.225211327032639,
          -0.131840015767664,
          -0.755630052269385,
          0.756155461183866,
          -0.292395156463613,
          -1.16611380341681,
          -0.0826276486019416,
          -1.06283527583867,
          -0.295344600660997,
          0.0570145024362956,
          2.23048343940984,
          -0.844706005872557,
          0.707654243091991,
          -0.351803986376633,
          0.349188185073879,
          1.62765099847331,
          -1.33645005257147,
          1.18295231025004,
          0.931192141129199,
          -1.46068418468769,
          0.838801265983498,
          -0.0580283660825514,
          1.71964933736385,
          0.294301023249556,
          -1.21116749712722,
          1.69369866432216,
          -1.52689785293438,
          0.441600047764949,
          2.10893293041111,
          -1.07256766266692,
          0.514286661201795,
          -0.0252993175960374,
          0.742890342819373,
          2.42677665584484,
          0.653615002279893,
          1.43792736757756,
          1.80547776999608,
          -0.987536043230169,
          0.769355852660871,
          -0.525679130817361,
          -0.861305838465765,
          0.193561215746647,
          0.413881669680354,
          0.560167275856702,
          0.263445590278324,
          0.708855595521927,
          0.214261479330508,
          -0.717141973601329,
          1.07583913170581,
          -0.869997416419529,
          -0.467512004804504,
          1.75301827814902,
          0.190954475718758,
          -0.362676553153287,
          0.29880124886528,
          -0.749951495585713,
          0.359400037748057,
          0.839153773543222,
          -1.4822658864567,
          0.481645656364106,
          0.353184578228331,
          1.06662762666272,
          0.0295551128534956,
          -0.496906056879095,
          1.19488968829586,
          1.84368693787087,
          0.634687724984749,
          -0.575034208037406,
          1.12245111911273,
          0.212125686118799,
          0.555292616544643,
          -0.346138582049066,
          -0.744322862755005,
          0.307131414735249,
          0.652664146698984,
          1.35795068333574,
          0.222495988363356,
          -1.38697426295075,
          0.398623945183758,
          0.741095321548113,
          0.700876799843914,
          -1.30220421690285,
          1.67153176690219,
          0.321019720853708,
          0.606628948659231,
          0.191342662281596,
          0.649270010151077,
          -0.575089647821689,
          -0.963823128446399,
          -0.432580907197341,
          0.0540192869438411,
          0.87872857318661,
          0.404256984533334,
          -0.519213553945532,
          0.268557983561191,
          0.5963658633513,
          0.335476181151751,
          -0.47538756077238,
          -1.26756923221638,
          -1.27546778634119,
          0.0871019255474325,
          0.685127749437205,
          0.931199138683574,
          -0.195370269198873,
          0.18722714400576,
          -1.01434975585363,
          0.0430043267720541,
          -1.0245179535166,
          1.46612096101584,
          0.355821532691101,
          -0.798062725605601,
          -0.436426299627446,
          -0.0469027203103882,
          2.00454869562983,
          0.877213009765651,
          -1.11043691889021,
          0.525298886525632,
          0.533264810039347,
          -0.946806993872717,
          0.275901842972634,
          0.105197390517295,
          0.0006950317167077,
          -0.209550390402694,
          0.967327532955169,
          -1.44525861208839,
          0.352594261887323,
          0.893349520288505,
          0.625848457446116,
          0.910197188350452,
          0.168802078230653,
          0.0806190879784389,
          0.379757084451472,
          -0.505752638210659,
          0.780960995364923,
          0.875746227328408,
          0.715501680029613,
          0.29150942237458,
          1.82107308724782,
          -2.05904697912938,
          0.131783905809016,
          -0.0336680550765264,
          0.299246722334834,
          -1.1368295407146,
          -1.44642694745107,
          -0.200664638429518,
          -1.7525517406607,
          0.0447300792292818
         ]
        },
        {
         "hoverinfo": "skip",
         "legendgroup": "Yes",
         "line": {
          "color": "#EF553B"
         },
         "meanline": {
          "visible": true
         },
         "name": "Control",
         "scalegroup": "Yes",
         "showlegend": false,
         "side": "negative",
         "type": "violin",
         "x": [
          "ApoA-I",
          "ApoA-I",
          "ApoA-I",
          "ApoA-I",
          "ApoA-I",
          "ApoA-I",
          "ApoA-I",
          "ApoA-I",
          "ApoA-I",
          "ApoA-I",
          "ApoA-I",
          "ApoA-I",
          "ApoA-I",
          "ApoA-I",
          "ApoA-I",
          "ApoA-I",
          "ApoA-I",
          "ApoA-I",
          "ApoA-I",
          "ApoA-I",
          "ApoA-I",
          "ApoA-I",
          "ApoA-I",
          "ApoA-I",
          "ApoA-I",
          "ApoA-I",
          "ApoA-I",
          "ApoA-I",
          "ApoA-I",
          "ApoA-I",
          "ApoA-I",
          "ApoA-I",
          "ApoA-I",
          "ApoA-I",
          "ApoA-I",
          "ApoA-I",
          "ApoA-I",
          "ApoA-I",
          "ApoA-I",
          "ApoA-I",
          "ApoA-I",
          "ApoA-I",
          "ApoA-I",
          "ApoA-I",
          "ApoA-I",
          "ApoA-I",
          "ApoA-I",
          "ApoA-I",
          "ApoA-I",
          "ApoA-I",
          "ApoA-I",
          "ApoA-I",
          "ApoA-I",
          "ApoA-I",
          "ApoA-I",
          "ApoA-I",
          "ApoA-I",
          "ApoA-I",
          "ApoA-I",
          "ApoA-I",
          "ApoA-I",
          "ApoA-I",
          "ApoA-I",
          "ApoA-I",
          "ApoA-I",
          "ApoA-I",
          "ApoA-I",
          "ApoA-I",
          "ApoA-I",
          "ApoA-I",
          "ApoA-I",
          "ApoA-I",
          "ApoA-I",
          "ApoA-I",
          "ApoA-I",
          "ApoA-I",
          "ApoA-I",
          "ApoA-I",
          "ApoA-I",
          "ApoA-I",
          "ApoA-I",
          "ApoA-I",
          "ApoA-I",
          "ApoA-I",
          "ApoA-I",
          "ApoA-I",
          "ApoA-I",
          "ApoA-I",
          "ApoA-I",
          "ApoA-I",
          "ApoA-I",
          "ApoA-I",
          "ApoA-I",
          "ApoA-I",
          "ApoA-I",
          "ApoA-I",
          "ApoA-I",
          "ApoA-I",
          "ApoA-I",
          "ApoA-I",
          "ApoA-I",
          "ApoA-I",
          "ApoA-I",
          "ApoA-I",
          "ApoA-I",
          "ApoA-I",
          "ApoA-I",
          "ApoA-I",
          "ApoA-I",
          "ApoA-I",
          "ApoA-I",
          "ApoA-I",
          "ApoA-I",
          "ApoA-I",
          "ApoA-I",
          "ApoA-I",
          "ApoA-I",
          "ApoA-I",
          "ApoA-I",
          "ApoA-I",
          "ApoA-I",
          "ApoA-I",
          "ApoA-I",
          "ApoA-I",
          "ApoA-I",
          "ApoA-I",
          "ApoA-I",
          "ApoA-I",
          "ApoA-I",
          "ApoA-I",
          "ApoA-I",
          "ApoA-I",
          "ApoA-I",
          "ApoA-I",
          "ApoA-I",
          "ApoA-I",
          "ApoA-I",
          "ApoA-I",
          "ApoA-I",
          "ApoA-I",
          "ApoA-I",
          "ApoA-I",
          "ApoA-I",
          "ApoA-I",
          "ApoA-I",
          "ApoA-I",
          "ApoA-I",
          "ApoA-I",
          "ApoA-I",
          "ApoA-I",
          "ApoA-I",
          "ApoA-I",
          "ApoA-I",
          "ApoA-I",
          "ApoA-I",
          "ApoA-I",
          "ApoA-I",
          "ApoA-I",
          "ApoA-I",
          "ApoA-I",
          "ApoA-I",
          "ApoA-I",
          "ApoA-I",
          "ApoA-I",
          "ApoA-I",
          "ApoA-I",
          "ApoA-I",
          "ApoA-I",
          "ApoA-I",
          "ApoA-I",
          "ApoA-I",
          "ApoA-I",
          "ApoA-I",
          "ApoA-I",
          "ApoA-I",
          "ApoA-I",
          "ApoA-I",
          "ApoA-I",
          "ApoA-I",
          "ApoA-I",
          "ApoA-I",
          "ApoA-I",
          "ApoA-I",
          "ApoA-I",
          "ApoA-I",
          "ApoA-I",
          "ApoA-I",
          "ApoA-I",
          "ApoA-I",
          "ApoA-I",
          "ApoA-I",
          "ApoA-I",
          "ApoA-I",
          "ApoA-I",
          "ApoA-I",
          "ApoA-I",
          "ApoA-I",
          "ApoA-I",
          "ApoA-I",
          "ApoA-I",
          "ApoA-I",
          "ApoA-I",
          "ApoA-I",
          "ApoA-I",
          "ApoA-I",
          "ApoA-I",
          "ApoA-I",
          "ApoA-I",
          "ApoA-I",
          "ApoA-I",
          "ApoA-I",
          "ApoA-I"
         ],
         "y": [
          0.997336294799314,
          0.384029644553847,
          0.407373768932439,
          0.45752427579551,
          0.0392333405511365,
          -0.0540708669374579,
          0.0660546913689173,
          -0.393724212297409,
          -0.0317241974264993,
          -0.465566352584464,
          1.07305713395757,
          -2.33656456248024,
          0.431305744722643,
          0.266134392668329,
          1.1374905214668,
          0.415475250895704,
          0.88077075144951,
          0.603713916175396,
          0.321565957949007,
          0.608091080643009,
          -0.941808533539773,
          -1.24945455051906,
          -0.457073518876847,
          0.074549559804625,
          0.773292873937817,
          0.199438072278366,
          0.0053383902821964,
          -1.61009623619671,
          -0.418909202047286,
          -0.206159919989082,
          -0.220027883361343,
          0.827239276120876,
          0.191660041376855,
          -0.722367121419124,
          -2.46203339714596,
          -0.547760769017075,
          0.439687355167079,
          0.284972313784133,
          0.499282278773591,
          -0.293940154517341,
          -0.316215859232757,
          -0.648119346583596,
          -0.482718889905727,
          0.469227388749314,
          0.206375629996988,
          0.533143764241706,
          -0.364051276902507,
          -0.468315036998097,
          1.20222209596934,
          0.624343161413425,
          1.694804403361,
          0.165603699777043,
          -1.04699279998665,
          0.809788173606014,
          -0.614479604792173,
          -1.33427273177902,
          0.703755701458414,
          0.103011895478457,
          -0.0668999299952604,
          1.24971240837697,
          0.730436467286598,
          -0.0894413867826935,
          1.34277091984377,
          0.819743790124589,
          0.968293300515888,
          -0.260931335297823,
          0.180499406411513,
          0.353482052477525,
          -0.354412628289443,
          0.960982965723038,
          0.272990949108223,
          1.56255230104384,
          0.554856798128005,
          -0.0032670561352447,
          -0.324320015426791,
          0.696353736952789,
          0.569553927504693,
          0.730240524450445,
          0.946360427571024,
          1.42100013830531,
          -0.512821381391159,
          -1.23961155886543,
          0.655323187379945,
          0.0124672859394884,
          1.0410688093238,
          0.676416691380907,
          -1.66133541355701,
          2.32055572246013,
          0.300776008549024,
          0.472178680831242,
          -0.126105812299776,
          -1.35399570874466,
          -0.308336471598326,
          -0.0030603560842412,
          -1.7908648108362,
          -0.856515438914239,
          0.164145117459329,
          -0.0013732509495933,
          -2.57287225216646,
          0.492700817371311,
          1.47503964329004,
          0.298964086845922,
          0.523722460873184,
          0.321751474461943,
          0.105111518424356,
          -0.894174344279167,
          -1.39819213902387,
          1.32210997346101,
          0.250649004934175,
          0.2587420981022,
          -0.63875324114997,
          0.845371045762154,
          0.135585864108761,
          -0.152167956663667,
          0.162428626629021,
          0.402583436515487,
          0.0706425633971116,
          1.32434597146731,
          -0.0347077428811882,
          -0.497748668884569,
          1.7601076873528,
          -0.492016078913607,
          -0.326197865785872,
          1.13009061072485,
          0.468775124531159,
          0.754474357781021,
          -0.605743530607293,
          0.50289987411854,
          0.946882215989031,
          0.372798756843706,
          -0.639896990044461,
          -2.01097134024669,
          -0.406757818469413,
          0.877398665743883,
          0.464085559176649,
          1.05075963548646,
          0.361479399219069,
          0.218243893455356,
          -0.0217827511240278,
          0.289546793413435,
          1.1951954033047,
          -0.586344375326105,
          0.0962180039700472,
          0.494380189823192,
          -0.130156156023327,
          -0.138137122061056,
          -1.69366054704027,
          0.822525461285297,
          -0.617210696588566,
          -1.39213716993329,
          -2.21994567754948,
          -0.529717186269896,
          0.0169033416865698,
          0.152001128462463,
          5.87884431899361,
          -0.228381901947719,
          0.0768898879296842,
          -0.70272482270223,
          0.906494794753529,
          -0.238346118208547,
          -3.40643354815965,
          0.0312757346894675,
          0.275289583269098,
          0.257094942448819,
          -0.153746562734617,
          -0.636196792474007,
          -0.234758599797747,
          0.341022701973811,
          0.309718981827949,
          0.356629449625266,
          0.989255441035067,
          1.34113994405519,
          -0.721043590348503,
          -0.60875407508549,
          -0.275148839752087,
          -0.745180655647005,
          -0.016488752659084,
          0.781312412456343,
          0.851113825807382,
          2.56480003396138,
          -0.679655220880538,
          -0.82473586083506,
          1.2714214179064,
          -0.435572188458554,
          -0.230054677494981,
          -0.626675967598747,
          -0.535280429030217,
          0.463189300732231,
          0.153418008726607,
          0.379844307248095,
          -0.260645345675499,
          -0.373841209330569,
          -1.14501096954138,
          1.11261089398286,
          -1.10592144928434,
          -1.71671207762856,
          -1.36686533868497,
          0.465469414431334,
          0.754815449921988,
          -1.55109054435058,
          -0.75720241820636,
          -2.17444646497217,
          0.493730241185881,
          -0.0895276110865295,
          -1.0276010884857,
          0.0955893377646508,
          0.335981615810978,
          0.0249456246097377,
          1.16406127568731,
          -0.583450804882159,
          1.2208531380493,
          0.0315476541080375
         ]
        },
        {
         "hoverinfo": "skip",
         "legendgroup": "No",
         "line": {
          "color": "#00CC96"
         },
         "meanline": {
          "visible": true
         },
         "name": "Disease",
         "scalegroup": "No",
         "showlegend": false,
         "side": "positive",
         "type": "violin",
         "x": [
          "ApoA-I",
          "ApoA-I",
          "ApoA-I",
          "ApoA-I",
          "ApoA-I",
          "ApoA-I",
          "ApoA-I",
          "ApoA-I",
          "ApoA-I",
          "ApoA-I",
          "ApoA-I",
          "ApoA-I",
          "ApoA-I",
          "ApoA-I",
          "ApoA-I",
          "ApoA-I",
          "ApoA-I",
          "ApoA-I",
          "ApoA-I",
          "ApoA-I",
          "ApoA-I",
          "ApoA-I",
          "ApoA-I",
          "ApoA-I",
          "ApoA-I",
          "ApoA-I",
          "ApoA-I",
          "ApoA-I",
          "ApoA-I",
          "ApoA-I",
          "ApoA-I",
          "ApoA-I",
          "ApoA-I",
          "ApoA-I",
          "ApoA-I",
          "ApoA-I",
          "ApoA-I",
          "ApoA-I",
          "ApoA-I",
          "ApoA-I",
          "ApoA-I",
          "ApoA-I",
          "ApoA-I",
          "ApoA-I",
          "ApoA-I",
          "ApoA-I",
          "ApoA-I",
          "ApoA-I",
          "ApoA-I",
          "ApoA-I",
          "ApoA-I",
          "ApoA-I",
          "ApoA-I",
          "ApoA-I",
          "ApoA-I",
          "ApoA-I",
          "ApoA-I",
          "ApoA-I",
          "ApoA-I",
          "ApoA-I",
          "ApoA-I",
          "ApoA-I",
          "ApoA-I",
          "ApoA-I",
          "ApoA-I",
          "ApoA-I",
          "ApoA-I",
          "ApoA-I",
          "ApoA-I",
          "ApoA-I",
          "ApoA-I",
          "ApoA-I",
          "ApoA-I",
          "ApoA-I",
          "ApoA-I",
          "ApoA-I",
          "ApoA-I",
          "ApoA-I",
          "ApoA-I",
          "ApoA-I",
          "ApoA-I",
          "ApoA-I",
          "ApoA-I",
          "ApoA-I",
          "ApoA-I",
          "ApoA-I",
          "ApoA-I",
          "ApoA-I",
          "ApoA-I",
          "ApoA-I",
          "ApoA-I",
          "ApoA-I",
          "ApoA-I",
          "ApoA-I",
          "ApoA-I",
          "ApoA-I",
          "ApoA-I",
          "ApoA-I",
          "ApoA-I",
          "ApoA-I",
          "ApoA-I",
          "ApoA-I",
          "ApoA-I",
          "ApoA-I",
          "ApoA-I",
          "ApoA-I",
          "ApoA-I",
          "ApoA-I",
          "ApoA-I",
          "ApoA-I",
          "ApoA-I",
          "ApoA-I",
          "ApoA-I",
          "ApoA-I",
          "ApoA-I",
          "ApoA-I",
          "ApoA-I",
          "ApoA-I",
          "ApoA-I",
          "ApoA-I",
          "ApoA-I",
          "ApoA-I",
          "ApoA-I",
          "ApoA-I",
          "ApoA-I",
          "ApoA-I",
          "ApoA-I",
          "ApoA-I",
          "ApoA-I",
          "ApoA-I",
          "ApoA-I",
          "ApoA-I",
          "ApoA-I",
          "ApoA-I",
          "ApoA-I",
          "ApoA-I",
          "ApoA-I",
          "ApoA-I",
          "ApoA-I",
          "ApoA-I",
          "ApoA-I",
          "ApoA-I",
          "ApoA-I",
          "ApoA-I",
          "ApoA-I",
          "ApoA-I",
          "ApoA-I",
          "ApoA-I",
          "ApoA-I",
          "ApoA-I",
          "ApoA-I",
          "ApoA-I",
          "ApoA-I",
          "ApoA-I",
          "ApoA-I",
          "ApoA-I",
          "ApoA-I",
          "ApoA-I",
          "ApoA-I",
          "ApoA-I",
          "ApoA-I",
          "ApoA-I",
          "ApoA-I",
          "ApoA-I",
          "ApoA-I",
          "ApoA-I",
          "ApoA-I",
          "ApoA-I",
          "ApoA-I",
          "ApoA-I",
          "ApoA-I",
          "ApoA-I",
          "ApoA-I",
          "ApoA-I",
          "ApoA-I",
          "ApoA-I",
          "ApoA-I",
          "ApoA-I",
          "ApoA-I",
          "ApoA-I",
          "ApoA-I",
          "ApoA-I",
          "ApoA-I",
          "ApoA-I",
          "ApoA-I",
          "ApoA-I",
          "ApoA-I",
          "ApoA-I",
          "ApoA-I",
          "ApoA-I",
          "ApoA-I",
          "ApoA-I",
          "ApoA-I",
          "ApoA-I",
          "ApoA-I",
          "ApoA-I",
          "ApoA-I",
          "ApoA-I",
          "ApoA-I",
          "ApoA-I",
          "ApoA-I",
          "ApoA-I",
          "ApoA-I",
          "ApoA-I",
          "ApoA-I",
          "ApoA-I",
          "ApoA-I",
          "ApoA-I",
          "ApoA-I",
          "ApoA-I",
          "ApoA-I",
          "ApoA-I"
         ],
         "y": [
          0.509007969953013,
          -0.438342199863081,
          -0.053444225469812,
          0.851983928932329,
          -0.178089448500148,
          0.266331429202248,
          -0.808670093942424,
          1.11971579706024,
          -1.35341383130383,
          0.0220444392567728,
          0.0244441935271329,
          0.582161303189913,
          -0.263579523071013,
          0.344713478021442,
          -0.776975693375588,
          0.98868453636624,
          0.906127307144933,
          1.08004027516728,
          -0.0631294553477986,
          0.136050480627534,
          -0.0340274046821734,
          -0.783042649550664,
          0.790309787042659,
          -0.313568872861542,
          0.68583976448615,
          0.160344070256621,
          -1.09786938827739,
          0.410389862475852,
          -0.111723521142806,
          0.0833613506909187,
          -0.276688213061036,
          -0.925428352434851,
          0.227468349029369,
          0.657560475990843,
          0.762081354698374,
          -0.0102519471604266,
          0.414923545817633,
          0.53793017958674,
          -2.91112686838706,
          0.659953903853273,
          0.970011677762947,
          -1.2887488926927,
          -1.55205896211476,
          0.321637261216263,
          -0.337523572558584,
          -1.04832926794274,
          1.49653241529819,
          0.00450318097971,
          -1.39915666133874,
          0.249741027862759,
          0.588375170723083,
          0.280797194237363,
          -0.364847606803525,
          0.932519859902088,
          -0.112286985873278,
          0.231303294742829,
          -0.0055600306689289,
          0.757963993893709,
          -1.15110639125471,
          -0.258882053355722,
          -1.26639167706558,
          0.825753285764213,
          -0.157378904093761,
          0.700110210143909,
          -0.424930245967067,
          0.972188334257663,
          0.422828431789602,
          -0.399230173693866,
          0.838914267271902,
          -0.0580546253777862,
          -1.48540887666084,
          -0.101676018708325,
          -0.685011295953673,
          0.344185163186722,
          -0.623680511860249,
          0.171728599409204,
          -0.560138408169104,
          -0.810267561908252,
          -2.05192346567208,
          0.125400311037411,
          1.21103056759012,
          0.453624486218816,
          0.208643297167356,
          -0.990607645334911,
          0.938006994211075,
          0.61704666274694,
          1.3085156273448,
          -0.121221996263578,
          1.04432634338146,
          -2.34024672359242,
          -0.0734607133418505,
          -1.62245603131561,
          0.556511591981542,
          -0.221629185582818,
          -1.68537582334237,
          -0.253298351401928,
          0.745469158413136,
          -0.165987685653261,
          -0.610033937293956,
          0.0654744611856252,
          -0.0521203840265911,
          -0.695454454844865,
          0.474717603590289,
          0.226461692068539,
          1.00782792715439,
          0.850841026172658,
          0.756037520903637,
          1.99053745219523,
          -1.36934004070603,
          1.76964561244291,
          1.2836613116807,
          1.10827364119855,
          -1.90309425329137,
          -0.500313035896912,
          -1.17768424240508,
          -0.335646746122538,
          -0.611305839528399,
          -0.185267545107258,
          0.169892018346917,
          0.641486116202782,
          -1.42270653189867,
          -0.402343007139339,
          0.621720890908688,
          0.473695037315476,
          1.05078355972249,
          1.33659221380789,
          0.77049121478709,
          -0.159905113614775,
          1.10663080495716,
          1.48651589028627,
          0.680794332151486,
          -1.37341750999333,
          0.0837004287078496,
          -0.174850307204117,
          0.590941795913726,
          -0.28475940807513,
          -0.943084844953244,
          -1.17416149043332,
          -0.98707960672928,
          0.511275129981079,
          -0.238449855653565,
          -0.0493868230170724,
          -2.15075739075591,
          0.977282588384456,
          0.237708385708072,
          0.959157534965365,
          0.875566852096846,
          0.252734436512557,
          -1.21563061082771,
          -0.117184417366666,
          -0.55866936819592,
          1.63038362768996,
          -0.870643701613158,
          -0.830879141429143,
          -0.508361722562643,
          -0.0718470452935922,
          1.16486988158142,
          0.52368733801968,
          -1.81210241808886,
          0.307470862691238,
          0.0424926770785424,
          1.62105871427488,
          0.223760980464855,
          -2.19429254084703,
          0.381184980346674,
          0.356618799716132,
          0.020351523972938,
          0.0808005141993112,
          0.678385111747224,
          -0.479975709176209,
          -1.22628736870461,
          0.998607414000082,
          -1.0466804913067,
          -0.328578049709346,
          -0.122421157316398,
          0.894046819440676,
          -0.587121711111562,
          0.790188028866381,
          0.134485793781522,
          -0.205433775984117,
          -0.360326584449916,
          0.23981187612246,
          -0.0179794859666669,
          -0.645812734329256,
          0.333880740205117,
          0.923121948884984,
          -0.35561151645107,
          -0.387204877407889,
          -0.209380732178714,
          -1.18731682728817,
          1.03588404149805,
          0.473112390555415,
          0.219698973278212,
          0.292946913544335,
          -0.164572057967297,
          -0.37778670351116,
          0.370711304739332,
          0.976648175803881,
          0.940003413345767,
          -2.34240449006012,
          -1.64054620990796,
          0.0717636625432939,
          0.0699141083098876,
          -0.798268881758545,
          0.466485011552502,
          0.831516354857848,
          0.845918411205957,
          -0.538092305554459,
          -1.44440477024824,
          -0.552147350113786,
          1.93768015957149,
          -0.155781992913176
         ]
        },
        {
         "hoverinfo": "skip",
         "legendgroup": "Yes",
         "line": {
          "color": "#EF553B"
         },
         "meanline": {
          "visible": true
         },
         "name": "Control",
         "scalegroup": "Yes",
         "showlegend": false,
         "side": "negative",
         "type": "violin",
         "x": [
          "ApoA-II",
          "ApoA-II",
          "ApoA-II",
          "ApoA-II",
          "ApoA-II",
          "ApoA-II",
          "ApoA-II",
          "ApoA-II",
          "ApoA-II",
          "ApoA-II",
          "ApoA-II",
          "ApoA-II",
          "ApoA-II",
          "ApoA-II",
          "ApoA-II",
          "ApoA-II",
          "ApoA-II",
          "ApoA-II",
          "ApoA-II",
          "ApoA-II",
          "ApoA-II",
          "ApoA-II",
          "ApoA-II",
          "ApoA-II",
          "ApoA-II",
          "ApoA-II",
          "ApoA-II",
          "ApoA-II",
          "ApoA-II",
          "ApoA-II",
          "ApoA-II",
          "ApoA-II",
          "ApoA-II",
          "ApoA-II",
          "ApoA-II",
          "ApoA-II",
          "ApoA-II",
          "ApoA-II",
          "ApoA-II",
          "ApoA-II",
          "ApoA-II",
          "ApoA-II",
          "ApoA-II",
          "ApoA-II",
          "ApoA-II",
          "ApoA-II",
          "ApoA-II",
          "ApoA-II",
          "ApoA-II",
          "ApoA-II",
          "ApoA-II",
          "ApoA-II",
          "ApoA-II",
          "ApoA-II",
          "ApoA-II",
          "ApoA-II",
          "ApoA-II",
          "ApoA-II",
          "ApoA-II",
          "ApoA-II",
          "ApoA-II",
          "ApoA-II",
          "ApoA-II",
          "ApoA-II",
          "ApoA-II",
          "ApoA-II",
          "ApoA-II",
          "ApoA-II",
          "ApoA-II",
          "ApoA-II",
          "ApoA-II",
          "ApoA-II",
          "ApoA-II",
          "ApoA-II",
          "ApoA-II",
          "ApoA-II",
          "ApoA-II",
          "ApoA-II",
          "ApoA-II",
          "ApoA-II",
          "ApoA-II",
          "ApoA-II",
          "ApoA-II",
          "ApoA-II",
          "ApoA-II",
          "ApoA-II",
          "ApoA-II",
          "ApoA-II",
          "ApoA-II",
          "ApoA-II",
          "ApoA-II",
          "ApoA-II",
          "ApoA-II",
          "ApoA-II",
          "ApoA-II",
          "ApoA-II",
          "ApoA-II",
          "ApoA-II",
          "ApoA-II",
          "ApoA-II",
          "ApoA-II",
          "ApoA-II",
          "ApoA-II",
          "ApoA-II",
          "ApoA-II",
          "ApoA-II",
          "ApoA-II",
          "ApoA-II",
          "ApoA-II",
          "ApoA-II",
          "ApoA-II",
          "ApoA-II",
          "ApoA-II",
          "ApoA-II",
          "ApoA-II",
          "ApoA-II",
          "ApoA-II",
          "ApoA-II",
          "ApoA-II",
          "ApoA-II",
          "ApoA-II",
          "ApoA-II",
          "ApoA-II",
          "ApoA-II",
          "ApoA-II",
          "ApoA-II",
          "ApoA-II",
          "ApoA-II",
          "ApoA-II",
          "ApoA-II",
          "ApoA-II",
          "ApoA-II",
          "ApoA-II",
          "ApoA-II",
          "ApoA-II",
          "ApoA-II",
          "ApoA-II",
          "ApoA-II",
          "ApoA-II",
          "ApoA-II",
          "ApoA-II",
          "ApoA-II",
          "ApoA-II",
          "ApoA-II",
          "ApoA-II",
          "ApoA-II",
          "ApoA-II",
          "ApoA-II",
          "ApoA-II",
          "ApoA-II",
          "ApoA-II",
          "ApoA-II",
          "ApoA-II",
          "ApoA-II",
          "ApoA-II",
          "ApoA-II",
          "ApoA-II",
          "ApoA-II",
          "ApoA-II",
          "ApoA-II",
          "ApoA-II",
          "ApoA-II",
          "ApoA-II",
          "ApoA-II",
          "ApoA-II",
          "ApoA-II",
          "ApoA-II",
          "ApoA-II",
          "ApoA-II",
          "ApoA-II",
          "ApoA-II",
          "ApoA-II",
          "ApoA-II",
          "ApoA-II",
          "ApoA-II",
          "ApoA-II",
          "ApoA-II",
          "ApoA-II",
          "ApoA-II",
          "ApoA-II",
          "ApoA-II",
          "ApoA-II",
          "ApoA-II",
          "ApoA-II",
          "ApoA-II",
          "ApoA-II",
          "ApoA-II",
          "ApoA-II",
          "ApoA-II",
          "ApoA-II",
          "ApoA-II",
          "ApoA-II",
          "ApoA-II",
          "ApoA-II",
          "ApoA-II",
          "ApoA-II",
          "ApoA-II",
          "ApoA-II",
          "ApoA-II",
          "ApoA-II",
          "ApoA-II",
          "ApoA-II",
          "ApoA-II",
          "ApoA-II",
          "ApoA-II",
          "ApoA-II",
          "ApoA-II",
          "ApoA-II",
          "ApoA-II",
          "ApoA-II",
          "ApoA-II",
          "ApoA-II"
         ],
         "y": [
          0.913796135392057,
          -0.308504373903312,
          0.326002705424604,
          -1.37139633142159,
          3.4155749268088,
          1.06494452671861,
          0.76951438320548,
          -0.965295699474444,
          -0.166155278274518,
          -1.1355710275605,
          0.296696041846226,
          1.02402690295749,
          0.242901575234775,
          0.232273164383095,
          0.73638035376662,
          0.541912095471565,
          -0.527727880961175,
          0.855352450721891,
          -0.0330520739288403,
          0.926228776183537,
          -0.238030487809032,
          -0.181584127911469,
          0.467983284166009,
          -0.207340169338275,
          -0.469638773542834,
          0.926008353911975,
          0.31153505190727,
          -0.247205708868995,
          -0.86972289665162,
          -1.00742596998325,
          -0.337352750623008,
          1.32526339585674,
          0.839975239590455,
          -0.531814019362471,
          -2.52374847115611,
          -0.985253676660065,
          0.509589001375541,
          0.674993363186025,
          -0.414102248411548,
          -0.619757731521172,
          0.0806232124524823,
          -0.388694705693886,
          0.135913573017622,
          0.027010391812173,
          -0.489192849831181,
          0.392359893101003,
          0.342918135113744,
          -0.579498920198843,
          0.621019905755548,
          0.0882115942552863,
          0.915385328325805,
          -0.181154092893685,
          -0.36601701376542,
          0.859487405466943,
          -0.425261686967761,
          -2.02633488963358,
          1.52766360345699,
          -0.642265519185272,
          0.221074424262908,
          1.16689710468587,
          0.446363169557461,
          -0.474466912171108,
          0.86046025298864,
          -0.558803968314258,
          0.312642644979044,
          1.71045476619964,
          0.496741964632353,
          0.878222286644751,
          -0.393002000122939,
          -0.218015457289301,
          -0.471559524686144,
          0.743416083921996,
          0.0790049306131704,
          1.17856685026211,
          -0.539625785716748,
          0.908692328293157,
          0.202943250007186,
          0.615153297009351,
          -0.403866521816719,
          1.19893603668467,
          -1.01646290686071,
          -2.38773867587808,
          0.399340650420881,
          0.568647808681282,
          0.454231316080372,
          -0.273243590891803,
          -0.0166716816104706,
          1.19599392246634,
          -0.373463510650678,
          1.32813049969554,
          -1.40157259903407,
          0.118428330280753,
          0.849742305589835,
          0.529743573129244,
          -1.490417335154,
          -1.2491755194532,
          0.94562177472423,
          -0.476022401355075,
          -2.28068474093993,
          -0.200996937224784,
          0.725774188350323,
          0.261438250033327,
          1.19259130319171,
          0.902350058624308,
          -0.51191089739773,
          -0.554163034304562,
          0.0150269192183048,
          0.421183942857196,
          0.279369540619972,
          0.563707389069965,
          -1.63836268039281,
          -1.23720298408552,
          0.620482615389686,
          -0.338127431358871,
          -0.543028225943577,
          0.558434325669806,
          0.122122999185484,
          -0.028917405937492,
          0.270138084240427,
          -0.383794652132957,
          -0.841147567167031,
          -0.628406696020698,
          -0.0050491429273237,
          0.2563771564283,
          0.062663962630145,
          0.570073608364369,
          0.0990093829783481,
          1.37147389419121,
          3.01477243178032,
          -0.0359733404628359,
          -0.556896159287701,
          -1.1123727539172,
          -0.994701171014104,
          1.07696482519564,
          0.0737068912756179,
          0.72569366877791,
          0.626407824962303,
          -0.0868699692316043,
          -0.0098614819758293,
          0.0857950047585421,
          1.39189864632341,
          0.195205322423788,
          0.110308123776156,
          0.559089948791953,
          -0.644573999186732,
          -0.407573568714589,
          -0.577719197759637,
          1.14014952311708,
          0.525664317422538,
          -0.567255129264177,
          -2.13576901666422,
          0.0820120100772632,
          -0.739612408161065,
          -0.740408548793099,
          1.56250683124928,
          -0.124821330058069,
          0.445054190999312,
          -0.91047330200612,
          0.737187226109006,
          0.201987916700214,
          -3.4606492076191,
          0.562668478250373,
          0.177163706638245,
          0.433609064664361,
          -0.907275790103947,
          0.637650071846597,
          -0.297949986233321,
          -0.0152179552315991,
          -2.54831579724213,
          -1.4506655873378,
          0.489857034049266,
          0.460241467616779,
          0.702474770875417,
          -0.0437065342210437,
          0.676447947831329,
          -1.24360299501859,
          0.0539488581530277,
          -0.573451746444075,
          -0.165603026541858,
          3.01308044217522,
          -0.200762269258426,
          -0.220235082668434,
          -0.0308552279591495,
          0.21501503507636,
          -0.0397584456265082,
          -0.382580844362345,
          -0.54291774332148,
          0.982223871651713,
          0.265729591725826,
          0.480985579478717,
          -0.362851234091043,
          0.0341574077884718,
          -1.12525297042599,
          -0.469109952998787,
          -0.83296107399756,
          -1.65506703096574,
          -0.575152584679639,
          -0.0827659108301637,
          0.761424809576871,
          -2.23513692185995,
          -1.02350670245088,
          -1.26561363309367,
          0.958194912016305,
          0.712853808281983,
          -0.195471841139915,
          -0.52867058447263,
          -0.588097481039901,
          0.880219752493451,
          0.657655182983817,
          -1.56679904880649,
          0.404862838813113,
          0.0864025877143491
         ]
        },
        {
         "hoverinfo": "skip",
         "legendgroup": "No",
         "line": {
          "color": "#00CC96"
         },
         "meanline": {
          "visible": true
         },
         "name": "Disease",
         "scalegroup": "No",
         "showlegend": false,
         "side": "positive",
         "type": "violin",
         "x": [
          "ApoA-II",
          "ApoA-II",
          "ApoA-II",
          "ApoA-II",
          "ApoA-II",
          "ApoA-II",
          "ApoA-II",
          "ApoA-II",
          "ApoA-II",
          "ApoA-II",
          "ApoA-II",
          "ApoA-II",
          "ApoA-II",
          "ApoA-II",
          "ApoA-II",
          "ApoA-II",
          "ApoA-II",
          "ApoA-II",
          "ApoA-II",
          "ApoA-II",
          "ApoA-II",
          "ApoA-II",
          "ApoA-II",
          "ApoA-II",
          "ApoA-II",
          "ApoA-II",
          "ApoA-II",
          "ApoA-II",
          "ApoA-II",
          "ApoA-II",
          "ApoA-II",
          "ApoA-II",
          "ApoA-II",
          "ApoA-II",
          "ApoA-II",
          "ApoA-II",
          "ApoA-II",
          "ApoA-II",
          "ApoA-II",
          "ApoA-II",
          "ApoA-II",
          "ApoA-II",
          "ApoA-II",
          "ApoA-II",
          "ApoA-II",
          "ApoA-II",
          "ApoA-II",
          "ApoA-II",
          "ApoA-II",
          "ApoA-II",
          "ApoA-II",
          "ApoA-II",
          "ApoA-II",
          "ApoA-II",
          "ApoA-II",
          "ApoA-II",
          "ApoA-II",
          "ApoA-II",
          "ApoA-II",
          "ApoA-II",
          "ApoA-II",
          "ApoA-II",
          "ApoA-II",
          "ApoA-II",
          "ApoA-II",
          "ApoA-II",
          "ApoA-II",
          "ApoA-II",
          "ApoA-II",
          "ApoA-II",
          "ApoA-II",
          "ApoA-II",
          "ApoA-II",
          "ApoA-II",
          "ApoA-II",
          "ApoA-II",
          "ApoA-II",
          "ApoA-II",
          "ApoA-II",
          "ApoA-II",
          "ApoA-II",
          "ApoA-II",
          "ApoA-II",
          "ApoA-II",
          "ApoA-II",
          "ApoA-II",
          "ApoA-II",
          "ApoA-II",
          "ApoA-II",
          "ApoA-II",
          "ApoA-II",
          "ApoA-II",
          "ApoA-II",
          "ApoA-II",
          "ApoA-II",
          "ApoA-II",
          "ApoA-II",
          "ApoA-II",
          "ApoA-II",
          "ApoA-II",
          "ApoA-II",
          "ApoA-II",
          "ApoA-II",
          "ApoA-II",
          "ApoA-II",
          "ApoA-II",
          "ApoA-II",
          "ApoA-II",
          "ApoA-II",
          "ApoA-II",
          "ApoA-II",
          "ApoA-II",
          "ApoA-II",
          "ApoA-II",
          "ApoA-II",
          "ApoA-II",
          "ApoA-II",
          "ApoA-II",
          "ApoA-II",
          "ApoA-II",
          "ApoA-II",
          "ApoA-II",
          "ApoA-II",
          "ApoA-II",
          "ApoA-II",
          "ApoA-II",
          "ApoA-II",
          "ApoA-II",
          "ApoA-II",
          "ApoA-II",
          "ApoA-II",
          "ApoA-II",
          "ApoA-II",
          "ApoA-II",
          "ApoA-II",
          "ApoA-II",
          "ApoA-II",
          "ApoA-II",
          "ApoA-II",
          "ApoA-II",
          "ApoA-II",
          "ApoA-II",
          "ApoA-II",
          "ApoA-II",
          "ApoA-II",
          "ApoA-II",
          "ApoA-II",
          "ApoA-II",
          "ApoA-II",
          "ApoA-II",
          "ApoA-II",
          "ApoA-II",
          "ApoA-II",
          "ApoA-II",
          "ApoA-II",
          "ApoA-II",
          "ApoA-II",
          "ApoA-II",
          "ApoA-II",
          "ApoA-II",
          "ApoA-II",
          "ApoA-II",
          "ApoA-II",
          "ApoA-II",
          "ApoA-II",
          "ApoA-II",
          "ApoA-II",
          "ApoA-II",
          "ApoA-II",
          "ApoA-II",
          "ApoA-II",
          "ApoA-II",
          "ApoA-II",
          "ApoA-II",
          "ApoA-II",
          "ApoA-II",
          "ApoA-II",
          "ApoA-II",
          "ApoA-II",
          "ApoA-II",
          "ApoA-II",
          "ApoA-II",
          "ApoA-II",
          "ApoA-II",
          "ApoA-II",
          "ApoA-II",
          "ApoA-II",
          "ApoA-II",
          "ApoA-II",
          "ApoA-II",
          "ApoA-II",
          "ApoA-II",
          "ApoA-II",
          "ApoA-II",
          "ApoA-II",
          "ApoA-II",
          "ApoA-II",
          "ApoA-II",
          "ApoA-II",
          "ApoA-II",
          "ApoA-II",
          "ApoA-II",
          "ApoA-II",
          "ApoA-II",
          "ApoA-II",
          "ApoA-II",
          "ApoA-II",
          "ApoA-II",
          "ApoA-II",
          "ApoA-II",
          "ApoA-II",
          "ApoA-II"
         ],
         "y": [
          0.874825199789272,
          -0.836987991756904,
          -1.62815225129676,
          0.822301889258697,
          0.428815917400633,
          0.421797635437503,
          0.028105486893005,
          -0.464929248625988,
          -2.44647727170935,
          0.417701556761614,
          0.118529695112201,
          -0.702351348142577,
          -0.761002148646522,
          -0.974983702110043,
          -0.452250074385853,
          1.13385151715957,
          0.902142809709331,
          0.847875721889756,
          -0.0750221476667854,
          0.0235662552151136,
          1.11361486378808,
          -1.15864951373252,
          -0.231571731912756,
          -0.314504249323512,
          -0.271980930669113,
          0.240062931368992,
          0.883346759472522,
          0.905999659548784,
          1.34005929392635,
          0.42058327745896,
          1.48571407390052,
          -0.45105111921532,
          0.760508449445803,
          0.912761946301677,
          0.0473699288822956,
          0.409309407612494,
          0.229232609331021,
          1.03928939460482,
          0.564553736519486,
          0.720007462019539,
          -0.156074121957895,
          -0.0464734910158508,
          -0.334699409248591,
          0.362501703053368,
          -0.403989986319924,
          -0.202192672162423,
          0.694041697002217,
          -0.867185104404342,
          0.111936602935187,
          1.01496012666872,
          0.476692729855126,
          1.13664030269842,
          -0.323562593662713,
          -0.571233357357501,
          0.545114591054425,
          -0.069327725243268,
          0.211260416186868,
          -0.268282371634819,
          -0.510048869220841,
          0.0569718261568718,
          -0.267164199802324,
          1.89084195444323,
          -0.403411007834764,
          0.565970676310505,
          -1.01317634402916,
          0.891119264588349,
          -0.393194167597166,
          0.486604750399905,
          1.17354023016074,
          -1.13234098251647,
          -0.363170294482239,
          -0.14312629433366,
          -0.636408017301516,
          0.467524211161431,
          -0.967860654392736,
          0.708169649065412,
          0.0143427608600374,
          -0.22825481074728,
          -0.569565663214147,
          -1.02090408178363,
          0.170151459505805,
          -0.0738197444359291,
          -0.0447374408493509,
          1.22725351308726,
          -0.470088980915409,
          0.809350640737442,
          0.241092773983073,
          0.247992512042424,
          0.908138282127612,
          0.720711543029637,
          -0.720263744798017,
          -1.4153053159171,
          0.223473535975182,
          0.295487598198322,
          -2.05675428684128,
          -0.241336219904102,
          2.02520810606156,
          -1.0850651416014,
          -3.87002472191048,
          0.257540776837477,
          0.640219407072275,
          -0.209935425194911,
          1.55752174481497,
          0.528054607217835,
          0.505621926322418,
          0.0716307806114275,
          -0.0550647935071021,
          1.81348562951238,
          -0.844905941499538,
          1.22626823428954,
          1.10368446573094,
          0.7005950176116,
          -1.43742352524894,
          -0.062485122430987,
          -0.54387243360994,
          -0.88980333291961,
          -0.978357838860258,
          0.593852314807441,
          0.193337020963301,
          1.24967179838063,
          -0.372141306613315,
          -0.810710854319494,
          1.43047257554713,
          0.0418865138184278,
          0.556663013474048,
          1.67764439594419,
          1.00160997575374,
          -1.04030730310075,
          0.2128797971677,
          0.100777796963863,
          0.871142162425502,
          -0.966261169143772,
          -0.702676954681962,
          0.415897653173499,
          -0.303635497008133,
          0.723340642662356,
          -0.278033102806336,
          -0.267200425311925,
          -0.195497218593371,
          1.37053398405976,
          -0.501177458330659,
          0.282572601759755,
          -3.14519370755934,
          -0.235891226920608,
          0.801046464933373,
          -0.104459263406868,
          0.0146852792120372,
          0.454557125200382,
          -1.14251618678127,
          0.368058921731248,
          0.0234785667682408,
          1.18285136039575,
          -0.710298267411076,
          -1.96185919778785,
          -0.220467672514344,
          0.0152951275429504,
          1.40376210268115,
          0.66226915840993,
          -1.40351333259318,
          0.819460700366763,
          0.535639103027003,
          1.51174394633371,
          0.538143326042588,
          -3.41291427618906,
          0.0448901826231161,
          -0.318536833521076,
          -0.844365504090845,
          0.212252784026333,
          2.52058863253589,
          0.528349367488537,
          -0.871277445225326,
          0.844642810972427,
          -1.74989597007728,
          -0.562052363473226,
          -0.427969727797111,
          0.599265171726279,
          -0.228415699293775,
          0.569603380129445,
          -0.32316963234146,
          -0.0220800671141394,
          -0.447755070692175,
          0.0565687052914922,
          -0.412704779279461,
          -0.486823712534217,
          -0.888399074826303,
          0.674708332208262,
          -0.181093391401349,
          -0.94605782595838,
          0.183828658900071,
          -0.700710203138202,
          0.99034567695404,
          -0.4853101806983,
          0.600251823519645,
          0.63551431542961,
          -0.315605423279093,
          -0.714817576481239,
          -1.10246081704346,
          1.50252836199577,
          0.51429698909533,
          -2.02828662476605,
          -2.49026210108952,
          -0.347091532467912,
          0.512930489512756,
          -0.660003117607312,
          0.242381732557431,
          0.179891043277057,
          1.32217782184373,
          0.113854672110602,
          -0.193423827480886,
          -0.351836968457003,
          3.0536416855345,
          0.858945086422775
         ]
        },
        {
         "hoverinfo": "skip",
         "legendgroup": "Yes",
         "line": {
          "color": "#EF553B"
         },
         "meanline": {
          "visible": true
         },
         "name": "Control",
         "scalegroup": "Yes",
         "showlegend": false,
         "side": "negative",
         "type": "violin",
         "x": [
          "ApoE",
          "ApoE",
          "ApoE",
          "ApoE",
          "ApoE",
          "ApoE",
          "ApoE",
          "ApoE",
          "ApoE",
          "ApoE",
          "ApoE",
          "ApoE",
          "ApoE",
          "ApoE",
          "ApoE",
          "ApoE",
          "ApoE",
          "ApoE",
          "ApoE",
          "ApoE",
          "ApoE",
          "ApoE",
          "ApoE",
          "ApoE",
          "ApoE",
          "ApoE",
          "ApoE",
          "ApoE",
          "ApoE",
          "ApoE",
          "ApoE",
          "ApoE",
          "ApoE",
          "ApoE",
          "ApoE",
          "ApoE",
          "ApoE",
          "ApoE",
          "ApoE",
          "ApoE",
          "ApoE",
          "ApoE",
          "ApoE",
          "ApoE",
          "ApoE",
          "ApoE",
          "ApoE",
          "ApoE",
          "ApoE",
          "ApoE",
          "ApoE",
          "ApoE",
          "ApoE",
          "ApoE",
          "ApoE",
          "ApoE",
          "ApoE",
          "ApoE",
          "ApoE",
          "ApoE",
          "ApoE",
          "ApoE",
          "ApoE",
          "ApoE",
          "ApoE",
          "ApoE",
          "ApoE",
          "ApoE",
          "ApoE",
          "ApoE",
          "ApoE",
          "ApoE",
          "ApoE",
          "ApoE",
          "ApoE",
          "ApoE",
          "ApoE",
          "ApoE",
          "ApoE",
          "ApoE",
          "ApoE",
          "ApoE",
          "ApoE",
          "ApoE",
          "ApoE",
          "ApoE",
          "ApoE",
          "ApoE",
          "ApoE",
          "ApoE",
          "ApoE",
          "ApoE",
          "ApoE",
          "ApoE",
          "ApoE",
          "ApoE",
          "ApoE",
          "ApoE",
          "ApoE",
          "ApoE",
          "ApoE",
          "ApoE",
          "ApoE",
          "ApoE",
          "ApoE",
          "ApoE",
          "ApoE",
          "ApoE",
          "ApoE",
          "ApoE",
          "ApoE",
          "ApoE",
          "ApoE",
          "ApoE",
          "ApoE",
          "ApoE",
          "ApoE",
          "ApoE",
          "ApoE",
          "ApoE",
          "ApoE",
          "ApoE",
          "ApoE",
          "ApoE",
          "ApoE",
          "ApoE",
          "ApoE",
          "ApoE",
          "ApoE",
          "ApoE",
          "ApoE",
          "ApoE",
          "ApoE",
          "ApoE",
          "ApoE",
          "ApoE",
          "ApoE",
          "ApoE",
          "ApoE",
          "ApoE",
          "ApoE",
          "ApoE",
          "ApoE",
          "ApoE",
          "ApoE",
          "ApoE",
          "ApoE",
          "ApoE",
          "ApoE",
          "ApoE",
          "ApoE",
          "ApoE",
          "ApoE",
          "ApoE",
          "ApoE",
          "ApoE",
          "ApoE",
          "ApoE",
          "ApoE",
          "ApoE",
          "ApoE",
          "ApoE",
          "ApoE",
          "ApoE",
          "ApoE",
          "ApoE",
          "ApoE",
          "ApoE",
          "ApoE",
          "ApoE",
          "ApoE",
          "ApoE",
          "ApoE",
          "ApoE",
          "ApoE",
          "ApoE",
          "ApoE",
          "ApoE",
          "ApoE",
          "ApoE",
          "ApoE",
          "ApoE",
          "ApoE",
          "ApoE",
          "ApoE",
          "ApoE",
          "ApoE",
          "ApoE",
          "ApoE",
          "ApoE",
          "ApoE",
          "ApoE",
          "ApoE",
          "ApoE",
          "ApoE",
          "ApoE",
          "ApoE",
          "ApoE",
          "ApoE",
          "ApoE",
          "ApoE",
          "ApoE",
          "ApoE",
          "ApoE",
          "ApoE",
          "ApoE",
          "ApoE",
          "ApoE",
          "ApoE",
          "ApoE",
          "ApoE",
          "ApoE"
         ],
         "y": [
          -0.2106090936213,
          -0.258212049692981,
          0.611197481366751,
          1.69065427400069,
          -0.944482139823111,
          0.430378318580387,
          1.40782103685409,
          0.490057903955749,
          -0.603944036957489,
          -0.183758735461108,
          -1.60176854776992,
          -1.36107777667202,
          1.34881005399594,
          0.896688659287005,
          0.453568754975474,
          -0.631641093269233,
          0.559778401552316,
          1.32119702284722,
          0.804732989451604,
          -0.482419466700075,
          -0.0210334083956206,
          1.15198363304268,
          -0.389405241467497,
          -1.40407428815839,
          -0.0943048809648617,
          -0.0463763053807203,
          1.41911377435338,
          -0.221033168984509,
          -0.946057026168075,
          0.646583612595781,
          -0.693366419054444,
          0.97177968781217,
          -0.368690706123097,
          0.325165000185551,
          -1.43789369193678,
          -0.17967943995407,
          -0.485974622191463,
          -0.314630295891929,
          0.238973530583152,
          -0.0647785620648424,
          2.4281346338457,
          -0.286349202429969,
          0.114904159841491,
          -0.248296511947778,
          0.312669287638924,
          -0.841313877613628,
          -1.66352358348182,
          -1.18068645934125,
          0.926150984979047,
          -0.066075842290072,
          0.582742209724276,
          -1.60649492057389,
          0.618205361801226,
          1.47730159912377,
          -0.339552716401708,
          -1.51131719129852,
          0.604677428172553,
          -1.59752871965483,
          -0.0915779605092187,
          0.0764720951225474,
          0.349119746346374,
          -0.612525996023291,
          -1.51716052414114,
          -1.38662725291724,
          2.74877946375405,
          0.451590000730373,
          -0.522109892096412,
          2.30892027476462,
          0.254502242235051,
          0.154629631481471,
          -1.58328394793123,
          -0.55147761739876,
          -0.507163271328894,
          0.913315645400811,
          0.537378969835488,
          0.597444943405813,
          1.1402878736845,
          0.85307424362169,
          0.172789710227234,
          1.94121828513598,
          0.539238175290657,
          -0.608904619879774,
          0.71272775774233,
          2.28792786116802,
          -0.326141424191044,
          1.17319341903073,
          0.77791452966416,
          -1.11795826671561,
          -1.45020504688011,
          0.542338003590352,
          -1.10374760274973,
          -1.75502381323981,
          -1.08581028482403,
          -0.466529556354899,
          -1.08926941837379,
          0.583878793007036,
          0.27199931932802,
          -0.400536048659985,
          -1.74278140919882,
          -1.0311467121112,
          0.825194494545498,
          -0.360858637492269,
          0.0005852669416149,
          -0.366695287902697,
          -2.00713953967615,
          0.0389729130284344,
          1.40125249385023,
          0.624227205839853,
          1.33847813141439,
          -0.597271478313592,
          -0.411171157051131,
          0.0096278132444839,
          -0.723195810868881,
          -1.56150513353298,
          0.771329474276498,
          0.579381329556941,
          0.828347025980916,
          -0.0558351231066962,
          0.78085391548287,
          0.0624048675906487,
          2.00073746203355,
          0.562910730142259,
          0.0698937823960576,
          -0.395092595641713,
          0.171664483603123,
          -0.400020898537335,
          0.355812674506765,
          -0.331961988650227,
          1.37660394098568,
          -1.06639079717097,
          -0.239510465156973,
          -1.29754242463922,
          -0.309518740171695,
          0.548780691582098,
          -1.30395313178246,
          -1.07345226425469,
          -0.426602363178726,
          -0.475691763369423,
          0.701401326817088,
          0.0940530010377347,
          0.0909065578908052,
          0.466156725604332,
          0.254682058758639,
          -0.497773883481411,
          -0.451456143850242,
          3.19994682130918,
          -0.609388373689082,
          -0.488166125104375,
          1.72405870434956,
          0.405569824628975,
          -1.6372694937675,
          3.08688424373203,
          1.49888155351105,
          -0.395544209032897,
          1.79052202521918,
          0.0384764465900567,
          -0.321529831947633,
          -1.016961811957,
          -0.237279002459738,
          -0.82560852095715,
          -0.673922229512645,
          1.10167258048855,
          -0.245858525089526,
          -0.349839193704401,
          -0.453092102983784,
          -1.08510546094182,
          -1.48735392811377,
          -1.51133864966461,
          1.12433773990561,
          -1.09786754190832,
          0.838812859150007,
          1.41692031910192,
          -1.00416890121459,
          -1.09363285616267,
          -0.703058466276711,
          0.0999793479038802,
          -0.400475651653959,
          0.440126255671562,
          -1.50588328133567,
          1.3740157417758,
          0.221950608245319,
          0.367568190543725,
          -0.122580268421144,
          0.204389500420787,
          -0.192254723212872,
          -1.75349298647122,
          -0.854992928695852,
          -0.620626619464945,
          1.33727656489686,
          1.38756390630863,
          1.10471897877555,
          -0.350793163443469,
          0.828143304230384,
          0.212565271515281,
          -0.185408476812386,
          0.0176977137261877,
          1.93037840365532,
          0.201180508203545,
          0.379199743873719,
          -2.52059854375051,
          -0.747277181829739,
          0.114658717710888,
          0.11407342158554,
          -0.845623331827375,
          -0.637945113838275,
          -0.942185189841146,
          0.885208058531471,
          1.10129942535493,
          0.502683225138084,
          -0.981361934681076,
          0.337969892477141,
          1.08974471721155
         ]
        },
        {
         "hoverinfo": "skip",
         "legendgroup": "No",
         "line": {
          "color": "#00CC96"
         },
         "meanline": {
          "visible": true
         },
         "name": "Disease",
         "scalegroup": "No",
         "showlegend": false,
         "side": "positive",
         "type": "violin",
         "x": [
          "ApoE",
          "ApoE",
          "ApoE",
          "ApoE",
          "ApoE",
          "ApoE",
          "ApoE",
          "ApoE",
          "ApoE",
          "ApoE",
          "ApoE",
          "ApoE",
          "ApoE",
          "ApoE",
          "ApoE",
          "ApoE",
          "ApoE",
          "ApoE",
          "ApoE",
          "ApoE",
          "ApoE",
          "ApoE",
          "ApoE",
          "ApoE",
          "ApoE",
          "ApoE",
          "ApoE",
          "ApoE",
          "ApoE",
          "ApoE",
          "ApoE",
          "ApoE",
          "ApoE",
          "ApoE",
          "ApoE",
          "ApoE",
          "ApoE",
          "ApoE",
          "ApoE",
          "ApoE",
          "ApoE",
          "ApoE",
          "ApoE",
          "ApoE",
          "ApoE",
          "ApoE",
          "ApoE",
          "ApoE",
          "ApoE",
          "ApoE",
          "ApoE",
          "ApoE",
          "ApoE",
          "ApoE",
          "ApoE",
          "ApoE",
          "ApoE",
          "ApoE",
          "ApoE",
          "ApoE",
          "ApoE",
          "ApoE",
          "ApoE",
          "ApoE",
          "ApoE",
          "ApoE",
          "ApoE",
          "ApoE",
          "ApoE",
          "ApoE",
          "ApoE",
          "ApoE",
          "ApoE",
          "ApoE",
          "ApoE",
          "ApoE",
          "ApoE",
          "ApoE",
          "ApoE",
          "ApoE",
          "ApoE",
          "ApoE",
          "ApoE",
          "ApoE",
          "ApoE",
          "ApoE",
          "ApoE",
          "ApoE",
          "ApoE",
          "ApoE",
          "ApoE",
          "ApoE",
          "ApoE",
          "ApoE",
          "ApoE",
          "ApoE",
          "ApoE",
          "ApoE",
          "ApoE",
          "ApoE",
          "ApoE",
          "ApoE",
          "ApoE",
          "ApoE",
          "ApoE",
          "ApoE",
          "ApoE",
          "ApoE",
          "ApoE",
          "ApoE",
          "ApoE",
          "ApoE",
          "ApoE",
          "ApoE",
          "ApoE",
          "ApoE",
          "ApoE",
          "ApoE",
          "ApoE",
          "ApoE",
          "ApoE",
          "ApoE",
          "ApoE",
          "ApoE",
          "ApoE",
          "ApoE",
          "ApoE",
          "ApoE",
          "ApoE",
          "ApoE",
          "ApoE",
          "ApoE",
          "ApoE",
          "ApoE",
          "ApoE",
          "ApoE",
          "ApoE",
          "ApoE",
          "ApoE",
          "ApoE",
          "ApoE",
          "ApoE",
          "ApoE",
          "ApoE",
          "ApoE",
          "ApoE",
          "ApoE",
          "ApoE",
          "ApoE",
          "ApoE",
          "ApoE",
          "ApoE",
          "ApoE",
          "ApoE",
          "ApoE",
          "ApoE",
          "ApoE",
          "ApoE",
          "ApoE",
          "ApoE",
          "ApoE",
          "ApoE",
          "ApoE",
          "ApoE",
          "ApoE",
          "ApoE",
          "ApoE",
          "ApoE",
          "ApoE",
          "ApoE",
          "ApoE",
          "ApoE",
          "ApoE",
          "ApoE",
          "ApoE",
          "ApoE",
          "ApoE",
          "ApoE",
          "ApoE",
          "ApoE",
          "ApoE",
          "ApoE",
          "ApoE",
          "ApoE",
          "ApoE",
          "ApoE",
          "ApoE",
          "ApoE",
          "ApoE",
          "ApoE",
          "ApoE",
          "ApoE",
          "ApoE",
          "ApoE",
          "ApoE",
          "ApoE",
          "ApoE",
          "ApoE",
          "ApoE",
          "ApoE",
          "ApoE",
          "ApoE",
          "ApoE",
          "ApoE",
          "ApoE",
          "ApoE",
          "ApoE",
          "ApoE",
          "ApoE",
          "ApoE",
          "ApoE",
          "ApoE"
         ],
         "y": [
          0.0982227777631129,
          1.42682067862851,
          -1.07188831596089,
          -0.513139820735899,
          -0.559504149307322,
          -0.806684158290066,
          -0.938600346000757,
          1.4059002104295,
          -1.14467737225555,
          0.0580191216613149,
          0.291739900421571,
          -0.170662613080483,
          -0.741989546957567,
          0.752260589745261,
          0.0827128275118098,
          -0.356622616808254,
          -0.612754125543062,
          -0.0537185341826511,
          0.461233261518889,
          1.1066919005697,
          0.83130316171515,
          -0.514211164973612,
          -0.614311035175563,
          -1.70777494253514,
          3.20966935748131,
          0.510912947282179,
          0.19877824604686,
          1.79388598966114,
          1.12896750035954,
          -0.625938597318468,
          1.01036900366697,
          -1.06439645581969,
          0.121166832649455,
          -0.280566978607745,
          -0.890555325026532,
          -1.26322528784967,
          -0.619595109714392,
          2.0255617791974,
          0.407848047064026,
          0.261204770876175,
          -0.227907314812246,
          -1.32998711747282,
          -0.624528855218768,
          -0.687232459266695,
          0.350176331105084,
          0.28839297873401,
          1.06238299132545,
          0.720191235198286,
          -1.60295553850214,
          0.469692902630001,
          0.60249676667289,
          1.30745927569479,
          -0.411255288315237,
          -1.01029819036995,
          -1.67036331272846,
          -1.20497874276623,
          -0.805889025403508,
          0.294088820555548,
          -1.36068096896939,
          0.394725045674358,
          -1.2752823003104,
          1.63066366103362,
          1.11322806454926,
          -2.38457079231077,
          -0.346274529207787,
          -0.0740271483060191,
          -2.27007112360968,
          -0.550623268432175,
          0.751692241586171,
          -0.103506000548877,
          -0.613690021136536,
          -0.285844829000404,
          -0.436324946559621,
          0.376448172903022,
          -0.412481875543351,
          1.17595773198234,
          -0.520886084561799,
          -1.30864439116746,
          -1.07859190855732,
          0.396848686516513,
          0.762224435726695,
          -1.42773995804751,
          -0.458644113812488,
          -0.0216901775830757,
          -0.501889682807056,
          -0.675302518812176,
          -0.447050186249766,
          1.2971938251923,
          0.804553080672633,
          -0.449481547873242,
          0.405040107413892,
          -1.30892417036799,
          1.0348968253835,
          0.470699676297544,
          -1.19679031677717,
          -0.281870645429778,
          0.192737401872469,
          0.715087795327553,
          1.49021211561698,
          0.168372694086499,
          -0.501463142692524,
          3.37230119824877,
          -0.543366624231463,
          -0.110309649263348,
          -0.15006369233157,
          -0.908037629705736,
          -0.0346853299227728,
          -0.488680375875494,
          1.37690001919956,
          -0.0128016416404054,
          0.251603578525937,
          3.22745046095795,
          -0.954066796113283,
          1.67073988411899,
          -0.0315334594472042,
          -0.0954397797343062,
          0.0462910031500284,
          -0.876744134041007,
          -0.724239754754254,
          0.179182032134162,
          -0.219547499854286,
          -0.282073710442225,
          0.597968520190317,
          -1.20804886774892,
          -1.18118887613006,
          0.662224853505832,
          0.1555696158312,
          -0.636314354138055,
          -0.130316781776673,
          0.973826518881132,
          1.48162515228793,
          0.255789036466998,
          -1.04415716993297,
          -0.0558430957669767,
          1.43798547715858,
          1.36211517909991,
          -0.455276574690625,
          -0.730136129259334,
          -0.444394742261163,
          1.47642366883488,
          -0.197647125848714,
          -0.136265126698633,
          0.10657200903367,
          1.05075299471159,
          0.700903900707261,
          -0.427372451935448,
          -0.2085125450072,
          0.631596538188128,
          0.399410244728473,
          1.15681400319105,
          0.810293923835113,
          -0.350319145544016,
          0.0401930718653473,
          -1.62600422885054,
          -0.646433507158844,
          -0.507214483203717,
          -0.696191333138493,
          -0.0167717048361659,
          -0.0133922129791096,
          1.57560332737619,
          0.23896215207241,
          -0.93068045663091,
          -0.963572817707391,
          -0.30351725733174,
          -0.297011459211976,
          -0.0522793755043677,
          1.70645978295903,
          0.825359100267076,
          -0.023546468016213,
          1.08928490556743,
          -1.32718137745908,
          0.42006096213263,
          -0.818377878930003,
          0.863015090503525,
          -0.408591303627396,
          -0.725404791472418,
          0.126980775250675,
          -0.43851505631468,
          0.5403935000701,
          1.37804740949056,
          -1.44416315092193,
          0.500877826410038,
          -0.917934802861191,
          0.0900918104345007,
          -0.576736560484842,
          -0.664977948058536,
          -1.27346226090042,
          -1.62116088915911,
          0.039996567664755,
          -0.892358639560535,
          1.67872047723816,
          1.0211929272202,
          1.65889635691073,
          0.0408224410809698,
          1.09889386152216,
          -0.70303173861942,
          1.46138201349845,
          -1.1033317457771,
          0.487535588610757,
          0.524964402873502,
          -1.55688631846339,
          -0.227050318998317,
          0.815683914864736,
          -1.37298973048886,
          -1.06862121846517,
          0.160916681642398,
          -0.210984911752094,
          -0.260685294275059,
          -0.584370751704366,
          0.575084326284032,
          1.92276569593426,
          -0.423188754357474
         ]
        },
        {
         "hoverinfo": "skip",
         "legendgroup": "Yes",
         "line": {
          "color": "#EF553B"
         },
         "meanline": {
          "visible": true
         },
         "name": "Control",
         "scalegroup": "Yes",
         "showlegend": false,
         "side": "negative",
         "type": "violin",
         "x": [
          "ApoC-I",
          "ApoC-I",
          "ApoC-I",
          "ApoC-I",
          "ApoC-I",
          "ApoC-I",
          "ApoC-I",
          "ApoC-I",
          "ApoC-I",
          "ApoC-I",
          "ApoC-I",
          "ApoC-I",
          "ApoC-I",
          "ApoC-I",
          "ApoC-I",
          "ApoC-I",
          "ApoC-I",
          "ApoC-I",
          "ApoC-I",
          "ApoC-I",
          "ApoC-I",
          "ApoC-I",
          "ApoC-I",
          "ApoC-I",
          "ApoC-I",
          "ApoC-I",
          "ApoC-I",
          "ApoC-I",
          "ApoC-I",
          "ApoC-I",
          "ApoC-I",
          "ApoC-I",
          "ApoC-I",
          "ApoC-I",
          "ApoC-I",
          "ApoC-I",
          "ApoC-I",
          "ApoC-I",
          "ApoC-I",
          "ApoC-I",
          "ApoC-I",
          "ApoC-I",
          "ApoC-I",
          "ApoC-I",
          "ApoC-I",
          "ApoC-I",
          "ApoC-I",
          "ApoC-I",
          "ApoC-I",
          "ApoC-I",
          "ApoC-I",
          "ApoC-I",
          "ApoC-I",
          "ApoC-I",
          "ApoC-I",
          "ApoC-I",
          "ApoC-I",
          "ApoC-I",
          "ApoC-I",
          "ApoC-I",
          "ApoC-I",
          "ApoC-I",
          "ApoC-I",
          "ApoC-I",
          "ApoC-I",
          "ApoC-I",
          "ApoC-I",
          "ApoC-I",
          "ApoC-I",
          "ApoC-I",
          "ApoC-I",
          "ApoC-I",
          "ApoC-I",
          "ApoC-I",
          "ApoC-I",
          "ApoC-I",
          "ApoC-I",
          "ApoC-I",
          "ApoC-I",
          "ApoC-I",
          "ApoC-I",
          "ApoC-I",
          "ApoC-I",
          "ApoC-I",
          "ApoC-I",
          "ApoC-I",
          "ApoC-I",
          "ApoC-I",
          "ApoC-I",
          "ApoC-I",
          "ApoC-I",
          "ApoC-I",
          "ApoC-I",
          "ApoC-I",
          "ApoC-I",
          "ApoC-I",
          "ApoC-I",
          "ApoC-I",
          "ApoC-I",
          "ApoC-I",
          "ApoC-I",
          "ApoC-I",
          "ApoC-I",
          "ApoC-I",
          "ApoC-I",
          "ApoC-I",
          "ApoC-I",
          "ApoC-I",
          "ApoC-I",
          "ApoC-I",
          "ApoC-I",
          "ApoC-I",
          "ApoC-I",
          "ApoC-I",
          "ApoC-I",
          "ApoC-I",
          "ApoC-I",
          "ApoC-I",
          "ApoC-I",
          "ApoC-I",
          "ApoC-I",
          "ApoC-I",
          "ApoC-I",
          "ApoC-I",
          "ApoC-I",
          "ApoC-I",
          "ApoC-I",
          "ApoC-I",
          "ApoC-I",
          "ApoC-I",
          "ApoC-I",
          "ApoC-I",
          "ApoC-I",
          "ApoC-I",
          "ApoC-I",
          "ApoC-I",
          "ApoC-I",
          "ApoC-I",
          "ApoC-I",
          "ApoC-I",
          "ApoC-I",
          "ApoC-I",
          "ApoC-I",
          "ApoC-I",
          "ApoC-I",
          "ApoC-I",
          "ApoC-I",
          "ApoC-I",
          "ApoC-I",
          "ApoC-I",
          "ApoC-I",
          "ApoC-I",
          "ApoC-I",
          "ApoC-I",
          "ApoC-I",
          "ApoC-I",
          "ApoC-I",
          "ApoC-I",
          "ApoC-I",
          "ApoC-I",
          "ApoC-I",
          "ApoC-I",
          "ApoC-I",
          "ApoC-I",
          "ApoC-I",
          "ApoC-I",
          "ApoC-I",
          "ApoC-I",
          "ApoC-I",
          "ApoC-I",
          "ApoC-I",
          "ApoC-I",
          "ApoC-I",
          "ApoC-I",
          "ApoC-I",
          "ApoC-I",
          "ApoC-I",
          "ApoC-I",
          "ApoC-I",
          "ApoC-I",
          "ApoC-I",
          "ApoC-I",
          "ApoC-I",
          "ApoC-I",
          "ApoC-I",
          "ApoC-I",
          "ApoC-I",
          "ApoC-I",
          "ApoC-I",
          "ApoC-I",
          "ApoC-I",
          "ApoC-I",
          "ApoC-I",
          "ApoC-I",
          "ApoC-I",
          "ApoC-I",
          "ApoC-I",
          "ApoC-I",
          "ApoC-I",
          "ApoC-I",
          "ApoC-I",
          "ApoC-I",
          "ApoC-I",
          "ApoC-I",
          "ApoC-I",
          "ApoC-I",
          "ApoC-I",
          "ApoC-I",
          "ApoC-I",
          "ApoC-I",
          "ApoC-I",
          "ApoC-I"
         ],
         "y": [
          -0.397400506992664,
          -0.513712089467383,
          -0.308253613375424,
          1.3385628424207,
          -1.71335213948262,
          0.410255166572834,
          0.376676501999146,
          -0.590813202049687,
          -0.204919035898123,
          1.29031381514384,
          1.90455552387019,
          -1.81935310249122,
          0.531016347538108,
          -0.0728083329713951,
          0.444717286556381,
          -0.673386771721995,
          -0.420236127199547,
          0.715155525391105,
          0.429732939183424,
          0.0007759828194522,
          -0.621638765797983,
          -0.269866436777333,
          -0.483405207556561,
          -1.4600546436363,
          -0.983790617014715,
          -0.807249596962299,
          -0.507411130885955,
          0.772609876683261,
          -0.946404247810426,
          1.58990754699884,
          1.80213506282285,
          0.858551549826349,
          0.172267473655863,
          1.55833777191873,
          -1.34434666882166,
          -1.0249086459954,
          0.729066681441221,
          0.340018385550734,
          0.312369599254491,
          -0.217405735005046,
          0.540639965417408,
          -0.361383667870769,
          -0.0712711197542096,
          -1.47774574117734,
          -0.126045277173378,
          -0.0562290268555465,
          -0.848609409327293,
          -0.839157341454417,
          1.8850240102788,
          -0.571088103230835,
          0.771245735391434,
          -0.503441081368213,
          1.6187925853191,
          0.760945364083007,
          2.2089928475273,
          -1.71569062529198,
          0.121221830585948,
          0.0775199579629772,
          -0.395945217833788,
          -1.125955577147,
          0.187841185837857,
          0.543649870886567,
          0.793298122737239,
          0.0478148565628869,
          0.220335086070577,
          -0.812890805828171,
          0.42210348279146,
          0.65155228138822,
          0.313358172777456,
          -0.632661386107196,
          0.957448874995627,
          0.510882608109941,
          -0.640418515613602,
          0.0526047772049537,
          0.14508310731436,
          0.774977316398758,
          2.12715116179057,
          1.67221963079279,
          0.420923659763686,
          0.371341708940773,
          1.22854428584298,
          3.88018822895729,
          -0.425446996137191,
          1.19414828460996,
          1.10264700785804,
          0.66814180255562,
          -0.728341119416958,
          -0.308434566959158,
          0.392672435840453,
          0.769225178396614,
          -0.979593254837658,
          -0.105922019618403,
          -0.675224047672226,
          -0.468029955743807,
          0.162964785795762,
          0.371894613230498,
          -0.63603353801594,
          0.71387987061743,
          -1.63471377060887,
          1.27960141234006,
          -0.0826892899063642,
          0.74017188017528,
          -0.3314616230781,
          -0.413269903315874,
          -0.253862788115249,
          -0.563635737942154,
          -0.400488902576484,
          -0.740841182042528,
          0.788061822085741,
          -0.396218382968965,
          0.104267628631776,
          -1.18287962185633,
          -0.455023610253374,
          -1.0754274675951,
          -0.448445270754225,
          -0.156347871701135,
          1.18694232619476,
          -0.332284243935188,
          0.572737415983866,
          -0.151371587139662,
          1.84048999569862,
          -1.40886954355907,
          -1.08883614223875,
          0.150765760321109,
          0.322622654754877,
          -1.07359325488241,
          0.0308765219384011,
          -0.0483712087595604,
          1.8454455674467,
          -1.07543864797577,
          0.398140658055933,
          -1.01783947886007,
          -0.619441707761833,
          0.750423363091118,
          0.736325366235978,
          1.46575937105807,
          -0.378243022985637,
          -0.311314918694217,
          -0.345796906222621,
          0.507282808774109,
          -0.419496195323761,
          -0.995782098242163,
          -0.98332001192072,
          -1.47972179630265,
          0.816347828173277,
          -0.198837927281828,
          -0.585201156113289,
          -1.00324200295609,
          0.238249255563619,
          -1.90695671722157,
          -0.585825728522151,
          0.18820883236184,
          0.45987641691773,
          0.42906918930725,
          5.93733103504581,
          -0.745323085279689,
          -0.651190074074856,
          -0.415236770711906,
          0.58304441040182,
          -0.138799767723206,
          -0.712705782397221,
          -0.443972009300691,
          -0.0251188414880371,
          0.0684027940467354,
          -0.879107945486663,
          -1.38564045732918,
          -0.639864062152107,
          -0.156697825246723,
          -0.061310058437973,
          -0.573565066406743,
          0.241431358427906,
          1.40495724681574,
          -1.59249676292505,
          -1.52721659271628,
          -1.86942573271885,
          -0.36036006769824,
          -0.956497026485278,
          0.53326255029068,
          -0.262465659590978,
          1.76116769212988,
          -1.21361190648222,
          -0.725927886635424,
          -0.747039422768027,
          1.03071608283092,
          -0.317885153156009,
          -1.38836196100971,
          -0.900807094808497,
          2.12657759391859,
          0.106833107369235,
          1.40013281293598,
          0.653437479505985,
          -0.857029164796261,
          1.06604174796557,
          1.1850013263717,
          -1.79442163492938,
          -1.78859077317659,
          0.976636317382822,
          0.76978637620901,
          -0.0802332666406929,
          -0.679403328547129,
          -0.606131655027553,
          3.75035311120533,
          -0.830307925548861,
          -0.928263866342716,
          -1.48644779275016,
          0.0798554271021493,
          0.620714922990375,
          -0.622281454879823,
          -0.107229872315293,
          1.00320104668026,
          0.416139061856427,
          -0.590879248539377
         ]
        },
        {
         "hoverinfo": "skip",
         "legendgroup": "No",
         "line": {
          "color": "#00CC96"
         },
         "meanline": {
          "visible": true
         },
         "name": "Disease",
         "scalegroup": "No",
         "showlegend": false,
         "side": "positive",
         "type": "violin",
         "x": [
          "ApoC-I",
          "ApoC-I",
          "ApoC-I",
          "ApoC-I",
          "ApoC-I",
          "ApoC-I",
          "ApoC-I",
          "ApoC-I",
          "ApoC-I",
          "ApoC-I",
          "ApoC-I",
          "ApoC-I",
          "ApoC-I",
          "ApoC-I",
          "ApoC-I",
          "ApoC-I",
          "ApoC-I",
          "ApoC-I",
          "ApoC-I",
          "ApoC-I",
          "ApoC-I",
          "ApoC-I",
          "ApoC-I",
          "ApoC-I",
          "ApoC-I",
          "ApoC-I",
          "ApoC-I",
          "ApoC-I",
          "ApoC-I",
          "ApoC-I",
          "ApoC-I",
          "ApoC-I",
          "ApoC-I",
          "ApoC-I",
          "ApoC-I",
          "ApoC-I",
          "ApoC-I",
          "ApoC-I",
          "ApoC-I",
          "ApoC-I",
          "ApoC-I",
          "ApoC-I",
          "ApoC-I",
          "ApoC-I",
          "ApoC-I",
          "ApoC-I",
          "ApoC-I",
          "ApoC-I",
          "ApoC-I",
          "ApoC-I",
          "ApoC-I",
          "ApoC-I",
          "ApoC-I",
          "ApoC-I",
          "ApoC-I",
          "ApoC-I",
          "ApoC-I",
          "ApoC-I",
          "ApoC-I",
          "ApoC-I",
          "ApoC-I",
          "ApoC-I",
          "ApoC-I",
          "ApoC-I",
          "ApoC-I",
          "ApoC-I",
          "ApoC-I",
          "ApoC-I",
          "ApoC-I",
          "ApoC-I",
          "ApoC-I",
          "ApoC-I",
          "ApoC-I",
          "ApoC-I",
          "ApoC-I",
          "ApoC-I",
          "ApoC-I",
          "ApoC-I",
          "ApoC-I",
          "ApoC-I",
          "ApoC-I",
          "ApoC-I",
          "ApoC-I",
          "ApoC-I",
          "ApoC-I",
          "ApoC-I",
          "ApoC-I",
          "ApoC-I",
          "ApoC-I",
          "ApoC-I",
          "ApoC-I",
          "ApoC-I",
          "ApoC-I",
          "ApoC-I",
          "ApoC-I",
          "ApoC-I",
          "ApoC-I",
          "ApoC-I",
          "ApoC-I",
          "ApoC-I",
          "ApoC-I",
          "ApoC-I",
          "ApoC-I",
          "ApoC-I",
          "ApoC-I",
          "ApoC-I",
          "ApoC-I",
          "ApoC-I",
          "ApoC-I",
          "ApoC-I",
          "ApoC-I",
          "ApoC-I",
          "ApoC-I",
          "ApoC-I",
          "ApoC-I",
          "ApoC-I",
          "ApoC-I",
          "ApoC-I",
          "ApoC-I",
          "ApoC-I",
          "ApoC-I",
          "ApoC-I",
          "ApoC-I",
          "ApoC-I",
          "ApoC-I",
          "ApoC-I",
          "ApoC-I",
          "ApoC-I",
          "ApoC-I",
          "ApoC-I",
          "ApoC-I",
          "ApoC-I",
          "ApoC-I",
          "ApoC-I",
          "ApoC-I",
          "ApoC-I",
          "ApoC-I",
          "ApoC-I",
          "ApoC-I",
          "ApoC-I",
          "ApoC-I",
          "ApoC-I",
          "ApoC-I",
          "ApoC-I",
          "ApoC-I",
          "ApoC-I",
          "ApoC-I",
          "ApoC-I",
          "ApoC-I",
          "ApoC-I",
          "ApoC-I",
          "ApoC-I",
          "ApoC-I",
          "ApoC-I",
          "ApoC-I",
          "ApoC-I",
          "ApoC-I",
          "ApoC-I",
          "ApoC-I",
          "ApoC-I",
          "ApoC-I",
          "ApoC-I",
          "ApoC-I",
          "ApoC-I",
          "ApoC-I",
          "ApoC-I",
          "ApoC-I",
          "ApoC-I",
          "ApoC-I",
          "ApoC-I",
          "ApoC-I",
          "ApoC-I",
          "ApoC-I",
          "ApoC-I",
          "ApoC-I",
          "ApoC-I",
          "ApoC-I",
          "ApoC-I",
          "ApoC-I",
          "ApoC-I",
          "ApoC-I",
          "ApoC-I",
          "ApoC-I",
          "ApoC-I",
          "ApoC-I",
          "ApoC-I",
          "ApoC-I",
          "ApoC-I",
          "ApoC-I",
          "ApoC-I",
          "ApoC-I",
          "ApoC-I",
          "ApoC-I",
          "ApoC-I",
          "ApoC-I",
          "ApoC-I",
          "ApoC-I",
          "ApoC-I",
          "ApoC-I",
          "ApoC-I",
          "ApoC-I",
          "ApoC-I",
          "ApoC-I",
          "ApoC-I",
          "ApoC-I",
          "ApoC-I",
          "ApoC-I",
          "ApoC-I",
          "ApoC-I",
          "ApoC-I",
          "ApoC-I",
          "ApoC-I"
         ],
         "y": [
          -0.521125732291066,
          0.0585026263826919,
          0.0579406326998319,
          0.111471587728614,
          -0.891545198807805,
          -0.730331065497396,
          -1.06496475791244,
          -0.7767022884072,
          -0.349772807801409,
          -0.587768579354779,
          -0.657044269030038,
          0.518064663252761,
          0.407725282886467,
          0.698228292855677,
          -0.924067263205038,
          1.49295097449467,
          1.15206808039764,
          1.30759356183596,
          1.25743364510307,
          0.180353836137376,
          -0.629458236766091,
          1.50025433437332,
          -0.13611823465475,
          -0.0991919126436832,
          1.84577836704242,
          0.0334202220598655,
          -1.44098703591916,
          1.09580184736237,
          0.21888701041668,
          -0.0878963241353213,
          0.34517544139517,
          -0.712584979498053,
          -0.763683209553539,
          0.366691197671848,
          -0.775535621112192,
          -0.0646917885632913,
          -0.15157447223604,
          1.5623518919978,
          -1.12067810084596,
          -0.189254149717287,
          1.24598538024967,
          -1.0675973188003,
          -0.817372356793054,
          -0.0259038196571504,
          -0.494637219576382,
          0.584495929116709,
          0.0274833524492279,
          0.937038610959837,
          -0.907053216358254,
          0.513688526392068,
          0.287880343073336,
          -1.0335658791758,
          -0.573738069805635,
          -0.449321611941519,
          0.215026677153446,
          0.0663534181462185,
          -0.231237083993378,
          -0.719182175532019,
          -1.49345122317361,
          -0.127479329750568,
          -0.812535327256654,
          0.239539447097035,
          0.544320668816468,
          -0.172554284681374,
          2.09406839071323,
          0.391528035665447,
          -0.285236934321789,
          -1.42319179454266,
          0.647675342367526,
          -0.69693665353063,
          -1.62924403191663,
          -0.603187408060894,
          2.06756434224477,
          0.324169999392717,
          -0.307570831370897,
          0.705860403538164,
          0.168190970919169,
          -0.085955011242167,
          -0.192808586494327,
          -1.69406633739663,
          -0.948260249468245,
          -0.0976357695106456,
          0.0616687499780657,
          -0.149453313342355,
          -0.595612334337589,
          -0.359898683058424,
          -0.818791128765845,
          0.750245318271196,
          0.0205658350999397,
          -0.508570192483256,
          0.662874921919295,
          0.647485262949807,
          0.60143158341737,
          -0.804847046552166,
          -1.30786098358844,
          -0.393763598537633,
          -1.11082131410077,
          0.313707800426319,
          2.65132388222395,
          0.73731583716163,
          0.500428719050464,
          0.136887003362271,
          -1.06419591964708,
          -1.19230217295273,
          2.84664467090324,
          -1.30891125380282,
          0.0848398604670202,
          1.16276508759082,
          0.0064009372372098,
          0.920956379247421,
          -1.32242906979368,
          1.34027270966454,
          -0.190529847630382,
          -0.301300055315023,
          -1.46591005636761,
          -0.882184946078081,
          -0.347863341482953,
          0.145673879207946,
          0.0043740330679167,
          0.375811855444209,
          1.72142132104204,
          0.37941351778395,
          0.428198112884322,
          -0.0451158817007586,
          -1.84420278650431,
          1.14631570150917,
          0.330346094111746,
          -0.494814395968279,
          -0.665301818940204,
          0.991171705460112,
          -0.0938839287923098,
          -0.798014630409459,
          -1.80545955468858,
          -0.754443984443711,
          0.410678665275922,
          -0.279624099836121,
          0.230127919464721,
          -0.490158043816608,
          -0.426159595534541,
          0.524935616864548,
          -0.252695085121455,
          -0.544978096808952,
          -1.85973325267676,
          0.684344938558842,
          0.942477098726987,
          0.142567291065736,
          0.134772909422738,
          0.268663402083179,
          0.915978124957979,
          -0.269282795219894,
          1.70833276701632,
          0.492681791134735,
          -0.655662317513698,
          -1.86681969301904,
          -0.370529303485454,
          -0.356253581632607,
          1.25514810674224,
          1.05358693682209,
          -0.50467035459982,
          1.82550701123791,
          -0.694662470364509,
          -0.80565334116558,
          -1.45639934606019,
          -1.00894402734605,
          -0.485404072261425,
          0.684750713110413,
          0.782844796584717,
          0.661726768954624,
          -1.08309177651539,
          -2.33239099483814,
          -1.59556124969035,
          1.12681656726504,
          -0.761069241558173,
          -0.0327565794560055,
          0.279691681753135,
          -0.913706292724701,
          -0.0565701530480986,
          0.514019914083076,
          -0.0361303854470046,
          0.0305289999008505,
          0.140618047118688,
          0.704464942118268,
          -0.837779673524379,
          1.06493166587367,
          0.448195189259273,
          -0.323308548087152,
          -0.676407047057628,
          1.63702745232059,
          0.341221283153153,
          -0.207228647987864,
          0.0741973933265861,
          0.407428220006734,
          1.62879918384542,
          -0.547639160109408,
          1.18489677559884,
          0.852995437712987,
          0.546654777858963,
          -0.150319169859435,
          0.6107278579481,
          1.55292690415056,
          1.16170823798813,
          -0.0352259215404898,
          -0.383821692170802,
          -0.135552552799378,
          -0.565356027935208,
          0.237882339371834,
          -0.0220583203106132,
          1.72436579627617,
          -0.778497757539412,
          0.260031789751428,
          0.78349931284022,
          -0.32228578931175
         ]
        },
        {
         "hoverinfo": "skip",
         "legendgroup": "Yes",
         "line": {
          "color": "#EF553B"
         },
         "meanline": {
          "visible": true
         },
         "name": "Control",
         "scalegroup": "Yes",
         "showlegend": false,
         "side": "negative",
         "type": "violin",
         "x": [
          "ApoC-II",
          "ApoC-II",
          "ApoC-II",
          "ApoC-II",
          "ApoC-II",
          "ApoC-II",
          "ApoC-II",
          "ApoC-II",
          "ApoC-II",
          "ApoC-II",
          "ApoC-II",
          "ApoC-II",
          "ApoC-II",
          "ApoC-II",
          "ApoC-II",
          "ApoC-II",
          "ApoC-II",
          "ApoC-II",
          "ApoC-II",
          "ApoC-II",
          "ApoC-II",
          "ApoC-II",
          "ApoC-II",
          "ApoC-II",
          "ApoC-II",
          "ApoC-II",
          "ApoC-II",
          "ApoC-II",
          "ApoC-II",
          "ApoC-II",
          "ApoC-II",
          "ApoC-II",
          "ApoC-II",
          "ApoC-II",
          "ApoC-II",
          "ApoC-II",
          "ApoC-II",
          "ApoC-II",
          "ApoC-II",
          "ApoC-II",
          "ApoC-II",
          "ApoC-II",
          "ApoC-II",
          "ApoC-II",
          "ApoC-II",
          "ApoC-II",
          "ApoC-II",
          "ApoC-II",
          "ApoC-II",
          "ApoC-II",
          "ApoC-II",
          "ApoC-II",
          "ApoC-II",
          "ApoC-II",
          "ApoC-II",
          "ApoC-II",
          "ApoC-II",
          "ApoC-II",
          "ApoC-II",
          "ApoC-II",
          "ApoC-II",
          "ApoC-II",
          "ApoC-II",
          "ApoC-II",
          "ApoC-II",
          "ApoC-II",
          "ApoC-II",
          "ApoC-II",
          "ApoC-II",
          "ApoC-II",
          "ApoC-II",
          "ApoC-II",
          "ApoC-II",
          "ApoC-II",
          "ApoC-II",
          "ApoC-II",
          "ApoC-II",
          "ApoC-II",
          "ApoC-II",
          "ApoC-II",
          "ApoC-II",
          "ApoC-II",
          "ApoC-II",
          "ApoC-II",
          "ApoC-II",
          "ApoC-II",
          "ApoC-II",
          "ApoC-II",
          "ApoC-II",
          "ApoC-II",
          "ApoC-II",
          "ApoC-II",
          "ApoC-II",
          "ApoC-II",
          "ApoC-II",
          "ApoC-II",
          "ApoC-II",
          "ApoC-II",
          "ApoC-II",
          "ApoC-II",
          "ApoC-II",
          "ApoC-II",
          "ApoC-II",
          "ApoC-II",
          "ApoC-II",
          "ApoC-II",
          "ApoC-II",
          "ApoC-II",
          "ApoC-II",
          "ApoC-II",
          "ApoC-II",
          "ApoC-II",
          "ApoC-II",
          "ApoC-II",
          "ApoC-II",
          "ApoC-II",
          "ApoC-II",
          "ApoC-II",
          "ApoC-II",
          "ApoC-II",
          "ApoC-II",
          "ApoC-II",
          "ApoC-II",
          "ApoC-II",
          "ApoC-II",
          "ApoC-II",
          "ApoC-II",
          "ApoC-II",
          "ApoC-II",
          "ApoC-II",
          "ApoC-II",
          "ApoC-II",
          "ApoC-II",
          "ApoC-II",
          "ApoC-II",
          "ApoC-II",
          "ApoC-II",
          "ApoC-II",
          "ApoC-II",
          "ApoC-II",
          "ApoC-II",
          "ApoC-II",
          "ApoC-II",
          "ApoC-II",
          "ApoC-II",
          "ApoC-II",
          "ApoC-II",
          "ApoC-II",
          "ApoC-II",
          "ApoC-II",
          "ApoC-II",
          "ApoC-II",
          "ApoC-II",
          "ApoC-II",
          "ApoC-II",
          "ApoC-II",
          "ApoC-II",
          "ApoC-II",
          "ApoC-II",
          "ApoC-II",
          "ApoC-II",
          "ApoC-II",
          "ApoC-II",
          "ApoC-II",
          "ApoC-II",
          "ApoC-II",
          "ApoC-II",
          "ApoC-II",
          "ApoC-II",
          "ApoC-II",
          "ApoC-II",
          "ApoC-II",
          "ApoC-II",
          "ApoC-II",
          "ApoC-II",
          "ApoC-II",
          "ApoC-II",
          "ApoC-II",
          "ApoC-II",
          "ApoC-II",
          "ApoC-II",
          "ApoC-II",
          "ApoC-II",
          "ApoC-II",
          "ApoC-II",
          "ApoC-II",
          "ApoC-II",
          "ApoC-II",
          "ApoC-II",
          "ApoC-II",
          "ApoC-II",
          "ApoC-II",
          "ApoC-II",
          "ApoC-II",
          "ApoC-II",
          "ApoC-II",
          "ApoC-II",
          "ApoC-II",
          "ApoC-II",
          "ApoC-II",
          "ApoC-II",
          "ApoC-II",
          "ApoC-II",
          "ApoC-II",
          "ApoC-II",
          "ApoC-II",
          "ApoC-II",
          "ApoC-II",
          "ApoC-II",
          "ApoC-II",
          "ApoC-II",
          "ApoC-II"
         ],
         "y": [
          -0.741892459404744,
          -1.49543219165415,
          0.319923366497426,
          0.267734813475689,
          -0.456828775400047,
          0.622366845530301,
          0.564756986462242,
          0.42636824671477,
          0.0422804273691737,
          -1.34759884279689,
          0.708345833911697,
          -1.27812413008314,
          0.358816547612339,
          1.15686046262211,
          1.23085647229441,
          -0.800838410224053,
          -0.227838565843737,
          0.75476667451575,
          0.653025976283364,
          -0.923106954935012,
          -1.7550722175744,
          -1.08581577557095,
          -0.567161349394549,
          -0.64858101885096,
          -0.720856051616469,
          0.294500376746536,
          0.202276046450272,
          -1.03327643940427,
          -1.01939096856346,
          -0.132457709128164,
          0.251558209596769,
          -0.326371471838957,
          0.594177675373814,
          -0.0043187637584116,
          -1.54903642672455,
          -1.31654829777967,
          -1.70165306793829,
          0.068318809768306,
          0.48084782522202,
          -0.494306474734911,
          2.04989808260013,
          -0.109603677334216,
          -0.118492280802255,
          0.0870312490673453,
          0.232693297233174,
          -1.185203091581,
          -1.60916191243267,
          1.1632041522229,
          0.073910992664794,
          0.371141787001005,
          0.0518067453097971,
          -0.647255190659542,
          0.197146562623293,
          0.674996691613504,
          -1.46521453839934,
          -1.82160548261639,
          0.577627008574376,
          -1.50526478016883,
          0.544701181638165,
          0.031562638178244,
          1.26920437844673,
          0.103850210281018,
          -0.187485776489157,
          -0.894877409349554,
          1.03506479353586,
          -1.5681000292045,
          0.124805052746735,
          0.582326832144533,
          1.12892064191385,
          -0.824164466848507,
          -0.967559186534176,
          1.51380689983351,
          -0.610806654159046,
          0.16086116376088,
          -0.151107268169173,
          0.294789463619725,
          -0.104731623607865,
          -0.810769494132021,
          -0.314671589446612,
          0.116875296365041,
          1.13442378775508,
          -2.34145791870493,
          0.398408224615957,
          3.26128579686992,
          -0.499164526147286,
          -0.161157286893889,
          0.280141843420901,
          -1.00071723340396,
          -0.326026475634513,
          0.867280674634687,
          -0.893830761951075,
          -0.813343983895179,
          0.0724673715867383,
          0.342685814825937,
          -0.628530118665947,
          -0.201071458635867,
          -0.416513939249232,
          -0.393730751191306,
          -2.22934424464116,
          0.446489357364305,
          -0.64755841366753,
          -0.125655537907375,
          0.129901642648207,
          0.826402691251113,
          -0.470812879151906,
          0.131322075428534,
          -0.922976534039429,
          0.685823024554396,
          0.500339251201607,
          -0.284575136660351,
          -1.7402696339724,
          -0.506393749103374,
          1.25614057957973,
          -0.399236405594528,
          0.256223740161857,
          -0.101078068122487,
          0.040156839113559,
          -0.20152362576159,
          0.305873865768436,
          0.988351799948868,
          -0.220055400700404,
          -0.907056795357845,
          0.0412947974117848,
          -0.909135260608121,
          0.15972458152777,
          -0.784473777926241,
          0.368247525502007,
          -0.0474693613607145,
          1.94600325787663,
          -0.541568371299837,
          0.855921235321965,
          -1.43437769455883,
          -0.358912610848706,
          0.311058710045636,
          0.411950040906455,
          -2.00245679019967,
          0.147873495536839,
          -1.54058624986745,
          0.982108003352146,
          0.211906423291038,
          -0.0508381830722877,
          0.040870884166997,
          0.433695274991407,
          0.843156653796479,
          -1.08257637495257,
          0.628929838166091,
          -1.40509283751575,
          1.0474244489581,
          0.447818388874281,
          0.381513041275753,
          -1.96625787347301,
          0.63888872522575,
          0.175039906816605,
          -0.299043604782235,
          5.22563529906243,
          -1.21289834804542,
          -0.487403312137021,
          -1.69420969220926,
          0.988690353187629,
          -0.785195070946135,
          -2.5340842721101,
          0.383222075255723,
          0.203245636180569,
          -0.126060358940026,
          0.262654378698352,
          -0.898330911912972,
          -0.575265965954299,
          -0.425885611689488,
          0.912498156197752,
          -1.85955449055542,
          -0.576578571192552,
          1.15198463715858,
          -0.807030715981069,
          1.80703006623006,
          0.07465350410679,
          -0.410022902449683,
          0.540144433564941,
          0.21467941205469,
          -2.43968524440236,
          0.608027720911541,
          -0.462509275600947,
          -0.281405928678914,
          -0.120854127546454,
          0.877576022529885,
          0.321398193538525,
          -1.65900103873277,
          -0.802305791625122,
          0.390454780441304,
          0.927029463124002,
          1.76624660913752,
          1.05962787231524,
          -0.480363042097274,
          1.36685190027778,
          0.423421100158703,
          -0.741263577213075,
          -0.475165606086792,
          0.89164559500437,
          0.0955661146482318,
          -0.162163188300083,
          -2.56186072932782,
          -0.772806400491345,
          -2.0217195893492,
          0.932658216127602,
          -0.527975303672049,
          -1.48190271249844,
          -0.81492081478366,
          0.151114982766508,
          -0.0693285761981195,
          -0.65468594762086,
          -1.63254107367455,
          -0.714260455526511,
          1.23859962442807
         ]
        },
        {
         "hoverinfo": "skip",
         "legendgroup": "No",
         "line": {
          "color": "#00CC96"
         },
         "meanline": {
          "visible": true
         },
         "name": "Disease",
         "scalegroup": "No",
         "showlegend": false,
         "side": "positive",
         "type": "violin",
         "x": [
          "ApoC-II",
          "ApoC-II",
          "ApoC-II",
          "ApoC-II",
          "ApoC-II",
          "ApoC-II",
          "ApoC-II",
          "ApoC-II",
          "ApoC-II",
          "ApoC-II",
          "ApoC-II",
          "ApoC-II",
          "ApoC-II",
          "ApoC-II",
          "ApoC-II",
          "ApoC-II",
          "ApoC-II",
          "ApoC-II",
          "ApoC-II",
          "ApoC-II",
          "ApoC-II",
          "ApoC-II",
          "ApoC-II",
          "ApoC-II",
          "ApoC-II",
          "ApoC-II",
          "ApoC-II",
          "ApoC-II",
          "ApoC-II",
          "ApoC-II",
          "ApoC-II",
          "ApoC-II",
          "ApoC-II",
          "ApoC-II",
          "ApoC-II",
          "ApoC-II",
          "ApoC-II",
          "ApoC-II",
          "ApoC-II",
          "ApoC-II",
          "ApoC-II",
          "ApoC-II",
          "ApoC-II",
          "ApoC-II",
          "ApoC-II",
          "ApoC-II",
          "ApoC-II",
          "ApoC-II",
          "ApoC-II",
          "ApoC-II",
          "ApoC-II",
          "ApoC-II",
          "ApoC-II",
          "ApoC-II",
          "ApoC-II",
          "ApoC-II",
          "ApoC-II",
          "ApoC-II",
          "ApoC-II",
          "ApoC-II",
          "ApoC-II",
          "ApoC-II",
          "ApoC-II",
          "ApoC-II",
          "ApoC-II",
          "ApoC-II",
          "ApoC-II",
          "ApoC-II",
          "ApoC-II",
          "ApoC-II",
          "ApoC-II",
          "ApoC-II",
          "ApoC-II",
          "ApoC-II",
          "ApoC-II",
          "ApoC-II",
          "ApoC-II",
          "ApoC-II",
          "ApoC-II",
          "ApoC-II",
          "ApoC-II",
          "ApoC-II",
          "ApoC-II",
          "ApoC-II",
          "ApoC-II",
          "ApoC-II",
          "ApoC-II",
          "ApoC-II",
          "ApoC-II",
          "ApoC-II",
          "ApoC-II",
          "ApoC-II",
          "ApoC-II",
          "ApoC-II",
          "ApoC-II",
          "ApoC-II",
          "ApoC-II",
          "ApoC-II",
          "ApoC-II",
          "ApoC-II",
          "ApoC-II",
          "ApoC-II",
          "ApoC-II",
          "ApoC-II",
          "ApoC-II",
          "ApoC-II",
          "ApoC-II",
          "ApoC-II",
          "ApoC-II",
          "ApoC-II",
          "ApoC-II",
          "ApoC-II",
          "ApoC-II",
          "ApoC-II",
          "ApoC-II",
          "ApoC-II",
          "ApoC-II",
          "ApoC-II",
          "ApoC-II",
          "ApoC-II",
          "ApoC-II",
          "ApoC-II",
          "ApoC-II",
          "ApoC-II",
          "ApoC-II",
          "ApoC-II",
          "ApoC-II",
          "ApoC-II",
          "ApoC-II",
          "ApoC-II",
          "ApoC-II",
          "ApoC-II",
          "ApoC-II",
          "ApoC-II",
          "ApoC-II",
          "ApoC-II",
          "ApoC-II",
          "ApoC-II",
          "ApoC-II",
          "ApoC-II",
          "ApoC-II",
          "ApoC-II",
          "ApoC-II",
          "ApoC-II",
          "ApoC-II",
          "ApoC-II",
          "ApoC-II",
          "ApoC-II",
          "ApoC-II",
          "ApoC-II",
          "ApoC-II",
          "ApoC-II",
          "ApoC-II",
          "ApoC-II",
          "ApoC-II",
          "ApoC-II",
          "ApoC-II",
          "ApoC-II",
          "ApoC-II",
          "ApoC-II",
          "ApoC-II",
          "ApoC-II",
          "ApoC-II",
          "ApoC-II",
          "ApoC-II",
          "ApoC-II",
          "ApoC-II",
          "ApoC-II",
          "ApoC-II",
          "ApoC-II",
          "ApoC-II",
          "ApoC-II",
          "ApoC-II",
          "ApoC-II",
          "ApoC-II",
          "ApoC-II",
          "ApoC-II",
          "ApoC-II",
          "ApoC-II",
          "ApoC-II",
          "ApoC-II",
          "ApoC-II",
          "ApoC-II",
          "ApoC-II",
          "ApoC-II",
          "ApoC-II",
          "ApoC-II",
          "ApoC-II",
          "ApoC-II",
          "ApoC-II",
          "ApoC-II",
          "ApoC-II",
          "ApoC-II",
          "ApoC-II",
          "ApoC-II",
          "ApoC-II",
          "ApoC-II",
          "ApoC-II",
          "ApoC-II",
          "ApoC-II",
          "ApoC-II",
          "ApoC-II",
          "ApoC-II",
          "ApoC-II",
          "ApoC-II",
          "ApoC-II",
          "ApoC-II",
          "ApoC-II",
          "ApoC-II",
          "ApoC-II",
          "ApoC-II",
          "ApoC-II"
         ],
         "y": [
          0.377611570243473,
          0.121418022608459,
          -1.22320653233282,
          0.561064501536043,
          0.0910106114532144,
          -1.25777289614593,
          -0.773230136837981,
          0.537014965917822,
          -2.32000811978934,
          0.250159123751638,
          0.068724325440803,
          0.315523347088353,
          -1.1361313443199,
          -0.119442831061937,
          -0.150930515266492,
          -0.275174031969844,
          -0.714282388676382,
          -0.626788501430034,
          -0.555726828159383,
          1.76844665725604,
          -0.396343938357703,
          -1.64928713888987,
          -0.589153895443333,
          0.710800009209037,
          2.30326088354898,
          0.549797025371059,
          0.056605616709703,
          0.751822799043046,
          -0.827192189999132,
          -0.534710287169419,
          1.67945226394501,
          0.471553522506444,
          0.327744256749222,
          0.513949136116094,
          0.164209841492314,
          -0.444407392832916,
          -0.541459093234538,
          1.25054139959685,
          0.162279840488937,
          -0.112826321523318,
          2.60859676165042,
          -2.42307737053918,
          -1.09492439664233,
          -0.0945114962066501,
          0.805892716138329,
          0.16243452017304,
          0.555985145619271,
          0.937781442811228,
          -0.44244565878681,
          0.145799315041803,
          0.276996101783653,
          0.296277496814171,
          -1.59477275610514,
          0.316378001875432,
          0.584144735545554,
          -0.111389574099341,
          0.0244231657618744,
          -0.486869918820345,
          -0.677903186517527,
          0.17685728841382,
          -1.47865135775648,
          2.44395486447895,
          0.850478246787418,
          -1.00322472788483,
          -0.482679015352795,
          -0.0749807789509352,
          0.145305303304957,
          -0.106477829933811,
          0.913494532482674,
          -0.839327564677534,
          -0.253275626961657,
          -0.382097633923354,
          0.175890066128307,
          -0.618342591447064,
          0.0473536209662226,
          1.38377165373953,
          0.737375500162778,
          0.178160639105691,
          -0.531160345767424,
          0.002480513549062,
          0.445597812114789,
          -0.219088963018435,
          0.435140121150221,
          -1.12937849294984,
          -0.0165988598393707,
          -1.18476921274012,
          -1.30612081512189,
          1.13297682258802,
          0.711020749601894,
          0.386874088562119,
          0.374727497835386,
          -0.801094386165627,
          1.04280527594327,
          0.877235476745857,
          -1.22883369415956,
          -0.101029280841148,
          0.659000059187587,
          0.957689678979979,
          1.23349430724714,
          0.889819080009308,
          0.667493120388475,
          1.51437361592675,
          -0.759385782220403,
          0.261749021279225,
          0.219985607296351,
          -0.57827064714303,
          -0.631656316736953,
          0.241274516957707,
          -0.177076299402257,
          0.375244650509728,
          0.0825587904395953,
          1.39203503820058,
          -0.562325279403431,
          2.22082591028266,
          0.758894748768576,
          -0.490377793342549,
          0.0955951716308794,
          1.46555647186753,
          -0.233027870152363,
          0.768289317931165,
          -1.07806449797156,
          -0.385869554198414,
          1.77469742269552,
          0.13716235560043,
          -0.0122750831603411,
          0.581803556273893,
          -0.387605394617644,
          -0.450831471869962,
          1.15527145450882,
          0.863160039410872,
          0.675891740890789,
          0.114878737959585,
          -0.335465839644246,
          0.542359136598072,
          0.0112479439595843,
          0.86396596625027,
          0.59283066886423,
          -0.653481323088904,
          -0.683820195539032,
          1.17804435691294,
          -0.0616190753285507,
          -0.540110384025558,
          -1.01022306288361,
          0.863844651078998,
          -0.461215236873863,
          -0.858390443515235,
          0.845808920202622,
          1.90287596434153,
          1.09166348847955,
          0.113455249766003,
          -0.637597607284178,
          0.360073930137706,
          1.12406106332729,
          -1.19929361415351,
          0.201283160555281,
          -0.181250683661893,
          0.0047993984449251,
          0.144912140422258,
          -1.32888821567692,
          3.10962037431586,
          0.438322747878231,
          0.151341693900934,
          -0.278121267497551,
          -2.13690338533274,
          -0.221991281817538,
          0.868848417268083,
          2.02356673253059,
          0.994779982999124,
          0.462531742930074,
          1.51037646171874,
          -1.48496937313505,
          1.38123301728227,
          -1.03138361116044,
          -0.891881678709362,
          0.147334325305495,
          -0.442525914821369,
          0.481851809430102,
          0.36143733109097,
          0.0803005698229538,
          1.96005103781049,
          -0.611907827106669,
          2.075787818498,
          -0.952136878522659,
          -0.575857198488678,
          -0.723843718754527,
          -0.95380633618063,
          -0.204403671862001,
          0.853576546532769,
          0.926940644817446,
          -0.607464381394549,
          0.59924853469815,
          1.36223774811406,
          0.87936372842814,
          -0.0116302500403034,
          0.508080692812877,
          0.545213812258977,
          0.632246338671737,
          0.284315522432291,
          1.79772648503934,
          0.448618308645675,
          0.751190082263017,
          0.218038211444695,
          1.57237219474626,
          0.317119322210662,
          -1.04478357067058,
          -0.449996452999055,
          0.922812739841752,
          -0.596705818870063,
          -1.25768071195432,
          -0.353528805732627,
          0.631286963638257,
          -0.199068786433166
         ]
        }
       ],
       "layout": {
        "template": {
         "data": {
          "bar": [
           {
            "error_x": {
             "color": "#2a3f5f"
            },
            "error_y": {
             "color": "#2a3f5f"
            },
            "marker": {
             "line": {
              "color": "#E5ECF6",
              "width": 0.5
             },
             "pattern": {
              "fillmode": "overlay",
              "size": 10,
              "solidity": 0.2
             }
            },
            "type": "bar"
           }
          ],
          "barpolar": [
           {
            "marker": {
             "line": {
              "color": "#E5ECF6",
              "width": 0.5
             },
             "pattern": {
              "fillmode": "overlay",
              "size": 10,
              "solidity": 0.2
             }
            },
            "type": "barpolar"
           }
          ],
          "carpet": [
           {
            "aaxis": {
             "endlinecolor": "#2a3f5f",
             "gridcolor": "white",
             "linecolor": "white",
             "minorgridcolor": "white",
             "startlinecolor": "#2a3f5f"
            },
            "baxis": {
             "endlinecolor": "#2a3f5f",
             "gridcolor": "white",
             "linecolor": "white",
             "minorgridcolor": "white",
             "startlinecolor": "#2a3f5f"
            },
            "type": "carpet"
           }
          ],
          "choropleth": [
           {
            "colorbar": {
             "outlinewidth": 0,
             "ticks": ""
            },
            "type": "choropleth"
           }
          ],
          "contour": [
           {
            "colorbar": {
             "outlinewidth": 0,
             "ticks": ""
            },
            "colorscale": [
             [
              0,
              "#0d0887"
             ],
             [
              0.1111111111111111,
              "#46039f"
             ],
             [
              0.2222222222222222,
              "#7201a8"
             ],
             [
              0.3333333333333333,
              "#9c179e"
             ],
             [
              0.4444444444444444,
              "#bd3786"
             ],
             [
              0.5555555555555556,
              "#d8576b"
             ],
             [
              0.6666666666666666,
              "#ed7953"
             ],
             [
              0.7777777777777778,
              "#fb9f3a"
             ],
             [
              0.8888888888888888,
              "#fdca26"
             ],
             [
              1,
              "#f0f921"
             ]
            ],
            "type": "contour"
           }
          ],
          "contourcarpet": [
           {
            "colorbar": {
             "outlinewidth": 0,
             "ticks": ""
            },
            "type": "contourcarpet"
           }
          ],
          "heatmap": [
           {
            "colorbar": {
             "outlinewidth": 0,
             "ticks": ""
            },
            "colorscale": [
             [
              0,
              "#0d0887"
             ],
             [
              0.1111111111111111,
              "#46039f"
             ],
             [
              0.2222222222222222,
              "#7201a8"
             ],
             [
              0.3333333333333333,
              "#9c179e"
             ],
             [
              0.4444444444444444,
              "#bd3786"
             ],
             [
              0.5555555555555556,
              "#d8576b"
             ],
             [
              0.6666666666666666,
              "#ed7953"
             ],
             [
              0.7777777777777778,
              "#fb9f3a"
             ],
             [
              0.8888888888888888,
              "#fdca26"
             ],
             [
              1,
              "#f0f921"
             ]
            ],
            "type": "heatmap"
           }
          ],
          "heatmapgl": [
           {
            "colorbar": {
             "outlinewidth": 0,
             "ticks": ""
            },
            "colorscale": [
             [
              0,
              "#0d0887"
             ],
             [
              0.1111111111111111,
              "#46039f"
             ],
             [
              0.2222222222222222,
              "#7201a8"
             ],
             [
              0.3333333333333333,
              "#9c179e"
             ],
             [
              0.4444444444444444,
              "#bd3786"
             ],
             [
              0.5555555555555556,
              "#d8576b"
             ],
             [
              0.6666666666666666,
              "#ed7953"
             ],
             [
              0.7777777777777778,
              "#fb9f3a"
             ],
             [
              0.8888888888888888,
              "#fdca26"
             ],
             [
              1,
              "#f0f921"
             ]
            ],
            "type": "heatmapgl"
           }
          ],
          "histogram": [
           {
            "marker": {
             "pattern": {
              "fillmode": "overlay",
              "size": 10,
              "solidity": 0.2
             }
            },
            "type": "histogram"
           }
          ],
          "histogram2d": [
           {
            "colorbar": {
             "outlinewidth": 0,
             "ticks": ""
            },
            "colorscale": [
             [
              0,
              "#0d0887"
             ],
             [
              0.1111111111111111,
              "#46039f"
             ],
             [
              0.2222222222222222,
              "#7201a8"
             ],
             [
              0.3333333333333333,
              "#9c179e"
             ],
             [
              0.4444444444444444,
              "#bd3786"
             ],
             [
              0.5555555555555556,
              "#d8576b"
             ],
             [
              0.6666666666666666,
              "#ed7953"
             ],
             [
              0.7777777777777778,
              "#fb9f3a"
             ],
             [
              0.8888888888888888,
              "#fdca26"
             ],
             [
              1,
              "#f0f921"
             ]
            ],
            "type": "histogram2d"
           }
          ],
          "histogram2dcontour": [
           {
            "colorbar": {
             "outlinewidth": 0,
             "ticks": ""
            },
            "colorscale": [
             [
              0,
              "#0d0887"
             ],
             [
              0.1111111111111111,
              "#46039f"
             ],
             [
              0.2222222222222222,
              "#7201a8"
             ],
             [
              0.3333333333333333,
              "#9c179e"
             ],
             [
              0.4444444444444444,
              "#bd3786"
             ],
             [
              0.5555555555555556,
              "#d8576b"
             ],
             [
              0.6666666666666666,
              "#ed7953"
             ],
             [
              0.7777777777777778,
              "#fb9f3a"
             ],
             [
              0.8888888888888888,
              "#fdca26"
             ],
             [
              1,
              "#f0f921"
             ]
            ],
            "type": "histogram2dcontour"
           }
          ],
          "mesh3d": [
           {
            "colorbar": {
             "outlinewidth": 0,
             "ticks": ""
            },
            "type": "mesh3d"
           }
          ],
          "parcoords": [
           {
            "line": {
             "colorbar": {
              "outlinewidth": 0,
              "ticks": ""
             }
            },
            "type": "parcoords"
           }
          ],
          "pie": [
           {
            "automargin": true,
            "type": "pie"
           }
          ],
          "scatter": [
           {
            "fillpattern": {
             "fillmode": "overlay",
             "size": 10,
             "solidity": 0.2
            },
            "type": "scatter"
           }
          ],
          "scatter3d": [
           {
            "line": {
             "colorbar": {
              "outlinewidth": 0,
              "ticks": ""
             }
            },
            "marker": {
             "colorbar": {
              "outlinewidth": 0,
              "ticks": ""
             }
            },
            "type": "scatter3d"
           }
          ],
          "scattercarpet": [
           {
            "marker": {
             "colorbar": {
              "outlinewidth": 0,
              "ticks": ""
             }
            },
            "type": "scattercarpet"
           }
          ],
          "scattergeo": [
           {
            "marker": {
             "colorbar": {
              "outlinewidth": 0,
              "ticks": ""
             }
            },
            "type": "scattergeo"
           }
          ],
          "scattergl": [
           {
            "marker": {
             "colorbar": {
              "outlinewidth": 0,
              "ticks": ""
             }
            },
            "type": "scattergl"
           }
          ],
          "scattermapbox": [
           {
            "marker": {
             "colorbar": {
              "outlinewidth": 0,
              "ticks": ""
             }
            },
            "type": "scattermapbox"
           }
          ],
          "scatterpolar": [
           {
            "marker": {
             "colorbar": {
              "outlinewidth": 0,
              "ticks": ""
             }
            },
            "type": "scatterpolar"
           }
          ],
          "scatterpolargl": [
           {
            "marker": {
             "colorbar": {
              "outlinewidth": 0,
              "ticks": ""
             }
            },
            "type": "scatterpolargl"
           }
          ],
          "scatterternary": [
           {
            "marker": {
             "colorbar": {
              "outlinewidth": 0,
              "ticks": ""
             }
            },
            "type": "scatterternary"
           }
          ],
          "surface": [
           {
            "colorbar": {
             "outlinewidth": 0,
             "ticks": ""
            },
            "colorscale": [
             [
              0,
              "#0d0887"
             ],
             [
              0.1111111111111111,
              "#46039f"
             ],
             [
              0.2222222222222222,
              "#7201a8"
             ],
             [
              0.3333333333333333,
              "#9c179e"
             ],
             [
              0.4444444444444444,
              "#bd3786"
             ],
             [
              0.5555555555555556,
              "#d8576b"
             ],
             [
              0.6666666666666666,
              "#ed7953"
             ],
             [
              0.7777777777777778,
              "#fb9f3a"
             ],
             [
              0.8888888888888888,
              "#fdca26"
             ],
             [
              1,
              "#f0f921"
             ]
            ],
            "type": "surface"
           }
          ],
          "table": [
           {
            "cells": {
             "fill": {
              "color": "#EBF0F8"
             },
             "line": {
              "color": "white"
             }
            },
            "header": {
             "fill": {
              "color": "#C8D4E3"
             },
             "line": {
              "color": "white"
             }
            },
            "type": "table"
           }
          ]
         },
         "layout": {
          "annotationdefaults": {
           "arrowcolor": "#2a3f5f",
           "arrowhead": 0,
           "arrowwidth": 1
          },
          "autotypenumbers": "strict",
          "coloraxis": {
           "colorbar": {
            "outlinewidth": 0,
            "ticks": ""
           }
          },
          "colorscale": {
           "diverging": [
            [
             0,
             "#8e0152"
            ],
            [
             0.1,
             "#c51b7d"
            ],
            [
             0.2,
             "#de77ae"
            ],
            [
             0.3,
             "#f1b6da"
            ],
            [
             0.4,
             "#fde0ef"
            ],
            [
             0.5,
             "#f7f7f7"
            ],
            [
             0.6,
             "#e6f5d0"
            ],
            [
             0.7,
             "#b8e186"
            ],
            [
             0.8,
             "#7fbc41"
            ],
            [
             0.9,
             "#4d9221"
            ],
            [
             1,
             "#276419"
            ]
           ],
           "sequential": [
            [
             0,
             "#0d0887"
            ],
            [
             0.1111111111111111,
             "#46039f"
            ],
            [
             0.2222222222222222,
             "#7201a8"
            ],
            [
             0.3333333333333333,
             "#9c179e"
            ],
            [
             0.4444444444444444,
             "#bd3786"
            ],
            [
             0.5555555555555556,
             "#d8576b"
            ],
            [
             0.6666666666666666,
             "#ed7953"
            ],
            [
             0.7777777777777778,
             "#fb9f3a"
            ],
            [
             0.8888888888888888,
             "#fdca26"
            ],
            [
             1,
             "#f0f921"
            ]
           ],
           "sequentialminus": [
            [
             0,
             "#0d0887"
            ],
            [
             0.1111111111111111,
             "#46039f"
            ],
            [
             0.2222222222222222,
             "#7201a8"
            ],
            [
             0.3333333333333333,
             "#9c179e"
            ],
            [
             0.4444444444444444,
             "#bd3786"
            ],
            [
             0.5555555555555556,
             "#d8576b"
            ],
            [
             0.6666666666666666,
             "#ed7953"
            ],
            [
             0.7777777777777778,
             "#fb9f3a"
            ],
            [
             0.8888888888888888,
             "#fdca26"
            ],
            [
             1,
             "#f0f921"
            ]
           ]
          },
          "colorway": [
           "#636efa",
           "#EF553B",
           "#00cc96",
           "#ab63fa",
           "#FFA15A",
           "#19d3f3",
           "#FF6692",
           "#B6E880",
           "#FF97FF",
           "#FECB52"
          ],
          "font": {
           "color": "#2a3f5f"
          },
          "geo": {
           "bgcolor": "white",
           "lakecolor": "white",
           "landcolor": "#E5ECF6",
           "showlakes": true,
           "showland": true,
           "subunitcolor": "white"
          },
          "hoverlabel": {
           "align": "left"
          },
          "hovermode": "closest",
          "mapbox": {
           "style": "light"
          },
          "paper_bgcolor": "white",
          "plot_bgcolor": "#E5ECF6",
          "polar": {
           "angularaxis": {
            "gridcolor": "white",
            "linecolor": "white",
            "ticks": ""
           },
           "bgcolor": "#E5ECF6",
           "radialaxis": {
            "gridcolor": "white",
            "linecolor": "white",
            "ticks": ""
           }
          },
          "scene": {
           "xaxis": {
            "backgroundcolor": "#E5ECF6",
            "gridcolor": "white",
            "gridwidth": 2,
            "linecolor": "white",
            "showbackground": true,
            "ticks": "",
            "zerolinecolor": "white"
           },
           "yaxis": {
            "backgroundcolor": "#E5ECF6",
            "gridcolor": "white",
            "gridwidth": 2,
            "linecolor": "white",
            "showbackground": true,
            "ticks": "",
            "zerolinecolor": "white"
           },
           "zaxis": {
            "backgroundcolor": "#E5ECF6",
            "gridcolor": "white",
            "gridwidth": 2,
            "linecolor": "white",
            "showbackground": true,
            "ticks": "",
            "zerolinecolor": "white"
           }
          },
          "shapedefaults": {
           "line": {
            "color": "#2a3f5f"
           }
          },
          "ternary": {
           "aaxis": {
            "gridcolor": "white",
            "linecolor": "white",
            "ticks": ""
           },
           "baxis": {
            "gridcolor": "white",
            "linecolor": "white",
            "ticks": ""
           },
           "bgcolor": "#E5ECF6",
           "caxis": {
            "gridcolor": "white",
            "linecolor": "white",
            "ticks": ""
           }
          },
          "title": {
           "x": 0.05
          },
          "xaxis": {
           "automargin": true,
           "gridcolor": "white",
           "linecolor": "white",
           "ticks": "",
           "title": {
            "standoff": 15
           },
           "zerolinecolor": "white",
           "zerolinewidth": 2
          },
          "yaxis": {
           "automargin": true,
           "gridcolor": "white",
           "linecolor": "white",
           "ticks": "",
           "title": {
            "standoff": 15
           },
           "zerolinecolor": "white",
           "zerolinewidth": 2
          }
         }
        },
        "violingap": 0,
        "violinmode": "overlay",
        "xaxis": {
         "range": [
          -0.5,
          6
         ],
         "tickangle": 20
        }
       }
      }
     },
     "metadata": {},
     "output_type": "display_data"
    }
   ],
   "source": [
    "qid, qdesc = [('P02647', 'ApoB-100')][0]\n",
    "\n",
    "cidx = np.intersect1d(xq.index, mdata.Seqn).tolist()\n",
    "qmdata = mdata.set_index('Seqn').loc[cidx]\n",
    "\n",
    "\n",
    "c = qmdata.index[qmdata.Group=='C'].tolist()\n",
    "d = qmdata.index[qmdata.Group=='D'].tolist()\n",
    "\n",
    "\n",
    "fig = go.Figure()\n",
    "\n",
    "for qid, qdesc in myProts:\n",
    "\n",
    "    fig.add_trace(go.Violin(x=len(c)*[qdesc],\n",
    "                            y=xq.loc[c, qid],\n",
    "                            legendgroup='Yes', scalegroup='Yes', name='Control',\n",
    "                            side='negative', showlegend=False,\n",
    "                            line_color=palette[1], hoverinfo='skip')\n",
    "                )\n",
    "    fig.add_trace(go.Violin(x=len(d)*[qdesc],\n",
    "                            y=xq.loc[d, qid],\n",
    "                            legendgroup='No', scalegroup='No', name='Disease',\n",
    "                            side='positive', showlegend=False,\n",
    "                            line_color=palette[2], hoverinfo='skip')\n",
    "                )\n",
    "fig.update_traces(meanline_visible=True)\n",
    "fig.update_xaxes(tickangle=20, range=(-0.5, len(myProts)))\n",
    "fig.update_layout(violingap=0, violinmode='overlay')\n",
    "fig.show()\n",
    "\n",
    "# xq.loc[c, qid]\n",
    "# xq.loc[d, qid]\n",
    "# mdata.loc[cidx, ['Seqn', 'Group']]\n"
   ]
  },
  {
   "attachments": {},
   "cell_type": "markdown",
   "metadata": {},
   "source": [
    "Explorar Proteinas del paper de PESA no exploradas antes"
   ]
  },
  {
   "cell_type": "code",
   "execution_count": 138,
   "metadata": {},
   "outputs": [
    {
     "name": "stdout",
     "output_type": "stream",
     "text": [
      "NT_qq3_mm11.html\n"
     ]
    }
   ],
   "source": [
    "g.subgraph(qqcom[3]+mmcom[11])\n",
    "\n",
    "sg = nx.Graph()\n",
    "sg.add_nodes_from(qqcom[3], group='q')\n",
    "sg.add_nodes_from(mmcom[11], group='m')\n",
    "\n",
    "qmg.edges(data=True)\n",
    "_ = [sg.add_edge(i[0], i[1], weight=i[2]['weight']) for i in qmg.edges.data() if i[0] in sg.nodes and i[1] in sg.nodes]\n",
    "\n",
    "\n",
    "nt = Network(height='500px', width='100%', select_menu=True, filter_menu=True)\n",
    "nt.from_nx(sg)\n",
    "\n",
    "_ = [i.update({'color': palette[1]}) if i['group']=='m' else i.update({'color': palette[0]}) for i in nt.nodes]\n",
    "_ = [i.update({'color': palette[3]}) if i['width']>0 else i.update({'color': palette[4]}) for i in nt.edges]\n",
    "\n",
    "nt.show_buttons(filter_='physics')\n",
    "nt.force_atlas_2based()\n",
    "nt.show('NT_qq3_mm11.html', notebook=False)"
   ]
  },
  {
   "cell_type": "code",
   "execution_count": 50,
   "metadata": {},
   "outputs": [
    {
     "data": {
      "application/vnd.plotly.v1+json": {
       "config": {
        "plotlyServerURL": "https://plot.ly"
       },
       "data": [
        {
         "name": "Control",
         "opacity": 0.8,
         "type": "bar",
         "x": [
          "C18P32-DG 36:2; LMSD{ DG 36:2 } // DG 36:2",
          "C18P33-DG 36:2; LMSD{ DG 36:2 } // DG 36:2",
          "C18P34-UNK",
          "C18P35-DG 36:2; LMSD{ DG 36:2 } // DG 36:2",
          "C18P38-LMSD{ FA 21:1;O2 }",
          "C18P49-DG 36:3; LMSD{ DG 36:3 } // DG 36:3",
          "C18P50-Cer 36:0(Me)(OH); LMSD{ Cer 37:0;O4 }",
          "C18P51-DG 36:3; LMSD{ DG 36:3 } // DG 36:3"
         ],
         "y": [
          0.0696371181665073,
          0.0563795790039167,
          0.0636591485140438,
          0.0746752114991049,
          0.070392723277022,
          0.0940942144196045,
          0.0995084212436151,
          0.0949496377692027
         ]
        },
        {
         "name": "Disease",
         "opacity": 0.8,
         "type": "bar",
         "x": [
          "C18P32-DG 36:2; LMSD{ DG 36:2 } // DG 36:2",
          "C18P33-DG 36:2; LMSD{ DG 36:2 } // DG 36:2",
          "C18P34-UNK",
          "C18P35-DG 36:2; LMSD{ DG 36:2 } // DG 36:2",
          "C18P38-LMSD{ FA 21:1;O2 }",
          "C18P49-DG 36:3; LMSD{ DG 36:3 } // DG 36:3",
          "C18P50-Cer 36:0(Me)(OH); LMSD{ Cer 37:0;O4 }",
          "C18P51-DG 36:3; LMSD{ DG 36:3 } // DG 36:3"
         ],
         "y": [
          0.18360355014957,
          0.190720236199049,
          0.156085814702749,
          0.156596357991244,
          0.183493430455637,
          0.19682382361392,
          0.179794332007558,
          0.188288690246512
         ]
        }
       ],
       "layout": {
        "barmode": "group",
        "template": {
         "data": {
          "bar": [
           {
            "error_x": {
             "color": "#2a3f5f"
            },
            "error_y": {
             "color": "#2a3f5f"
            },
            "marker": {
             "line": {
              "color": "#E5ECF6",
              "width": 0.5
             },
             "pattern": {
              "fillmode": "overlay",
              "size": 10,
              "solidity": 0.2
             }
            },
            "type": "bar"
           }
          ],
          "barpolar": [
           {
            "marker": {
             "line": {
              "color": "#E5ECF6",
              "width": 0.5
             },
             "pattern": {
              "fillmode": "overlay",
              "size": 10,
              "solidity": 0.2
             }
            },
            "type": "barpolar"
           }
          ],
          "carpet": [
           {
            "aaxis": {
             "endlinecolor": "#2a3f5f",
             "gridcolor": "white",
             "linecolor": "white",
             "minorgridcolor": "white",
             "startlinecolor": "#2a3f5f"
            },
            "baxis": {
             "endlinecolor": "#2a3f5f",
             "gridcolor": "white",
             "linecolor": "white",
             "minorgridcolor": "white",
             "startlinecolor": "#2a3f5f"
            },
            "type": "carpet"
           }
          ],
          "choropleth": [
           {
            "colorbar": {
             "outlinewidth": 0,
             "ticks": ""
            },
            "type": "choropleth"
           }
          ],
          "contour": [
           {
            "colorbar": {
             "outlinewidth": 0,
             "ticks": ""
            },
            "colorscale": [
             [
              0,
              "#0d0887"
             ],
             [
              0.1111111111111111,
              "#46039f"
             ],
             [
              0.2222222222222222,
              "#7201a8"
             ],
             [
              0.3333333333333333,
              "#9c179e"
             ],
             [
              0.4444444444444444,
              "#bd3786"
             ],
             [
              0.5555555555555556,
              "#d8576b"
             ],
             [
              0.6666666666666666,
              "#ed7953"
             ],
             [
              0.7777777777777778,
              "#fb9f3a"
             ],
             [
              0.8888888888888888,
              "#fdca26"
             ],
             [
              1,
              "#f0f921"
             ]
            ],
            "type": "contour"
           }
          ],
          "contourcarpet": [
           {
            "colorbar": {
             "outlinewidth": 0,
             "ticks": ""
            },
            "type": "contourcarpet"
           }
          ],
          "heatmap": [
           {
            "colorbar": {
             "outlinewidth": 0,
             "ticks": ""
            },
            "colorscale": [
             [
              0,
              "#0d0887"
             ],
             [
              0.1111111111111111,
              "#46039f"
             ],
             [
              0.2222222222222222,
              "#7201a8"
             ],
             [
              0.3333333333333333,
              "#9c179e"
             ],
             [
              0.4444444444444444,
              "#bd3786"
             ],
             [
              0.5555555555555556,
              "#d8576b"
             ],
             [
              0.6666666666666666,
              "#ed7953"
             ],
             [
              0.7777777777777778,
              "#fb9f3a"
             ],
             [
              0.8888888888888888,
              "#fdca26"
             ],
             [
              1,
              "#f0f921"
             ]
            ],
            "type": "heatmap"
           }
          ],
          "heatmapgl": [
           {
            "colorbar": {
             "outlinewidth": 0,
             "ticks": ""
            },
            "colorscale": [
             [
              0,
              "#0d0887"
             ],
             [
              0.1111111111111111,
              "#46039f"
             ],
             [
              0.2222222222222222,
              "#7201a8"
             ],
             [
              0.3333333333333333,
              "#9c179e"
             ],
             [
              0.4444444444444444,
              "#bd3786"
             ],
             [
              0.5555555555555556,
              "#d8576b"
             ],
             [
              0.6666666666666666,
              "#ed7953"
             ],
             [
              0.7777777777777778,
              "#fb9f3a"
             ],
             [
              0.8888888888888888,
              "#fdca26"
             ],
             [
              1,
              "#f0f921"
             ]
            ],
            "type": "heatmapgl"
           }
          ],
          "histogram": [
           {
            "marker": {
             "pattern": {
              "fillmode": "overlay",
              "size": 10,
              "solidity": 0.2
             }
            },
            "type": "histogram"
           }
          ],
          "histogram2d": [
           {
            "colorbar": {
             "outlinewidth": 0,
             "ticks": ""
            },
            "colorscale": [
             [
              0,
              "#0d0887"
             ],
             [
              0.1111111111111111,
              "#46039f"
             ],
             [
              0.2222222222222222,
              "#7201a8"
             ],
             [
              0.3333333333333333,
              "#9c179e"
             ],
             [
              0.4444444444444444,
              "#bd3786"
             ],
             [
              0.5555555555555556,
              "#d8576b"
             ],
             [
              0.6666666666666666,
              "#ed7953"
             ],
             [
              0.7777777777777778,
              "#fb9f3a"
             ],
             [
              0.8888888888888888,
              "#fdca26"
             ],
             [
              1,
              "#f0f921"
             ]
            ],
            "type": "histogram2d"
           }
          ],
          "histogram2dcontour": [
           {
            "colorbar": {
             "outlinewidth": 0,
             "ticks": ""
            },
            "colorscale": [
             [
              0,
              "#0d0887"
             ],
             [
              0.1111111111111111,
              "#46039f"
             ],
             [
              0.2222222222222222,
              "#7201a8"
             ],
             [
              0.3333333333333333,
              "#9c179e"
             ],
             [
              0.4444444444444444,
              "#bd3786"
             ],
             [
              0.5555555555555556,
              "#d8576b"
             ],
             [
              0.6666666666666666,
              "#ed7953"
             ],
             [
              0.7777777777777778,
              "#fb9f3a"
             ],
             [
              0.8888888888888888,
              "#fdca26"
             ],
             [
              1,
              "#f0f921"
             ]
            ],
            "type": "histogram2dcontour"
           }
          ],
          "mesh3d": [
           {
            "colorbar": {
             "outlinewidth": 0,
             "ticks": ""
            },
            "type": "mesh3d"
           }
          ],
          "parcoords": [
           {
            "line": {
             "colorbar": {
              "outlinewidth": 0,
              "ticks": ""
             }
            },
            "type": "parcoords"
           }
          ],
          "pie": [
           {
            "automargin": true,
            "type": "pie"
           }
          ],
          "scatter": [
           {
            "fillpattern": {
             "fillmode": "overlay",
             "size": 10,
             "solidity": 0.2
            },
            "type": "scatter"
           }
          ],
          "scatter3d": [
           {
            "line": {
             "colorbar": {
              "outlinewidth": 0,
              "ticks": ""
             }
            },
            "marker": {
             "colorbar": {
              "outlinewidth": 0,
              "ticks": ""
             }
            },
            "type": "scatter3d"
           }
          ],
          "scattercarpet": [
           {
            "marker": {
             "colorbar": {
              "outlinewidth": 0,
              "ticks": ""
             }
            },
            "type": "scattercarpet"
           }
          ],
          "scattergeo": [
           {
            "marker": {
             "colorbar": {
              "outlinewidth": 0,
              "ticks": ""
             }
            },
            "type": "scattergeo"
           }
          ],
          "scattergl": [
           {
            "marker": {
             "colorbar": {
              "outlinewidth": 0,
              "ticks": ""
             }
            },
            "type": "scattergl"
           }
          ],
          "scattermapbox": [
           {
            "marker": {
             "colorbar": {
              "outlinewidth": 0,
              "ticks": ""
             }
            },
            "type": "scattermapbox"
           }
          ],
          "scatterpolar": [
           {
            "marker": {
             "colorbar": {
              "outlinewidth": 0,
              "ticks": ""
             }
            },
            "type": "scatterpolar"
           }
          ],
          "scatterpolargl": [
           {
            "marker": {
             "colorbar": {
              "outlinewidth": 0,
              "ticks": ""
             }
            },
            "type": "scatterpolargl"
           }
          ],
          "scatterternary": [
           {
            "marker": {
             "colorbar": {
              "outlinewidth": 0,
              "ticks": ""
             }
            },
            "type": "scatterternary"
           }
          ],
          "surface": [
           {
            "colorbar": {
             "outlinewidth": 0,
             "ticks": ""
            },
            "colorscale": [
             [
              0,
              "#0d0887"
             ],
             [
              0.1111111111111111,
              "#46039f"
             ],
             [
              0.2222222222222222,
              "#7201a8"
             ],
             [
              0.3333333333333333,
              "#9c179e"
             ],
             [
              0.4444444444444444,
              "#bd3786"
             ],
             [
              0.5555555555555556,
              "#d8576b"
             ],
             [
              0.6666666666666666,
              "#ed7953"
             ],
             [
              0.7777777777777778,
              "#fb9f3a"
             ],
             [
              0.8888888888888888,
              "#fdca26"
             ],
             [
              1,
              "#f0f921"
             ]
            ],
            "type": "surface"
           }
          ],
          "table": [
           {
            "cells": {
             "fill": {
              "color": "#EBF0F8"
             },
             "line": {
              "color": "white"
             }
            },
            "header": {
             "fill": {
              "color": "#C8D4E3"
             },
             "line": {
              "color": "white"
             }
            },
            "type": "table"
           }
          ]
         },
         "layout": {
          "annotationdefaults": {
           "arrowcolor": "#2a3f5f",
           "arrowhead": 0,
           "arrowwidth": 1
          },
          "autotypenumbers": "strict",
          "coloraxis": {
           "colorbar": {
            "outlinewidth": 0,
            "ticks": ""
           }
          },
          "colorscale": {
           "diverging": [
            [
             0,
             "#8e0152"
            ],
            [
             0.1,
             "#c51b7d"
            ],
            [
             0.2,
             "#de77ae"
            ],
            [
             0.3,
             "#f1b6da"
            ],
            [
             0.4,
             "#fde0ef"
            ],
            [
             0.5,
             "#f7f7f7"
            ],
            [
             0.6,
             "#e6f5d0"
            ],
            [
             0.7,
             "#b8e186"
            ],
            [
             0.8,
             "#7fbc41"
            ],
            [
             0.9,
             "#4d9221"
            ],
            [
             1,
             "#276419"
            ]
           ],
           "sequential": [
            [
             0,
             "#0d0887"
            ],
            [
             0.1111111111111111,
             "#46039f"
            ],
            [
             0.2222222222222222,
             "#7201a8"
            ],
            [
             0.3333333333333333,
             "#9c179e"
            ],
            [
             0.4444444444444444,
             "#bd3786"
            ],
            [
             0.5555555555555556,
             "#d8576b"
            ],
            [
             0.6666666666666666,
             "#ed7953"
            ],
            [
             0.7777777777777778,
             "#fb9f3a"
            ],
            [
             0.8888888888888888,
             "#fdca26"
            ],
            [
             1,
             "#f0f921"
            ]
           ],
           "sequentialminus": [
            [
             0,
             "#0d0887"
            ],
            [
             0.1111111111111111,
             "#46039f"
            ],
            [
             0.2222222222222222,
             "#7201a8"
            ],
            [
             0.3333333333333333,
             "#9c179e"
            ],
            [
             0.4444444444444444,
             "#bd3786"
            ],
            [
             0.5555555555555556,
             "#d8576b"
            ],
            [
             0.6666666666666666,
             "#ed7953"
            ],
            [
             0.7777777777777778,
             "#fb9f3a"
            ],
            [
             0.8888888888888888,
             "#fdca26"
            ],
            [
             1,
             "#f0f921"
            ]
           ]
          },
          "colorway": [
           "#636efa",
           "#EF553B",
           "#00cc96",
           "#ab63fa",
           "#FFA15A",
           "#19d3f3",
           "#FF6692",
           "#B6E880",
           "#FF97FF",
           "#FECB52"
          ],
          "font": {
           "color": "#2a3f5f"
          },
          "geo": {
           "bgcolor": "white",
           "lakecolor": "white",
           "landcolor": "#E5ECF6",
           "showlakes": true,
           "showland": true,
           "subunitcolor": "white"
          },
          "hoverlabel": {
           "align": "left"
          },
          "hovermode": "closest",
          "mapbox": {
           "style": "light"
          },
          "paper_bgcolor": "white",
          "plot_bgcolor": "#E5ECF6",
          "polar": {
           "angularaxis": {
            "gridcolor": "white",
            "linecolor": "white",
            "ticks": ""
           },
           "bgcolor": "#E5ECF6",
           "radialaxis": {
            "gridcolor": "white",
            "linecolor": "white",
            "ticks": ""
           }
          },
          "scene": {
           "xaxis": {
            "backgroundcolor": "#E5ECF6",
            "gridcolor": "white",
            "gridwidth": 2,
            "linecolor": "white",
            "showbackground": true,
            "ticks": "",
            "zerolinecolor": "white"
           },
           "yaxis": {
            "backgroundcolor": "#E5ECF6",
            "gridcolor": "white",
            "gridwidth": 2,
            "linecolor": "white",
            "showbackground": true,
            "ticks": "",
            "zerolinecolor": "white"
           },
           "zaxis": {
            "backgroundcolor": "#E5ECF6",
            "gridcolor": "white",
            "gridwidth": 2,
            "linecolor": "white",
            "showbackground": true,
            "ticks": "",
            "zerolinecolor": "white"
           }
          },
          "shapedefaults": {
           "line": {
            "color": "#2a3f5f"
           }
          },
          "ternary": {
           "aaxis": {
            "gridcolor": "white",
            "linecolor": "white",
            "ticks": ""
           },
           "baxis": {
            "gridcolor": "white",
            "linecolor": "white",
            "ticks": ""
           },
           "bgcolor": "#E5ECF6",
           "caxis": {
            "gridcolor": "white",
            "linecolor": "white",
            "ticks": ""
           }
          },
          "title": {
           "x": 0.05
          },
          "xaxis": {
           "automargin": true,
           "gridcolor": "white",
           "linecolor": "white",
           "ticks": "",
           "title": {
            "standoff": 15
           },
           "zerolinecolor": "white",
           "zerolinewidth": 2
          },
          "yaxis": {
           "automargin": true,
           "gridcolor": "white",
           "linecolor": "white",
           "ticks": "",
           "title": {
            "standoff": 15
           },
           "zerolinecolor": "white",
           "zerolinewidth": 2
          }
         }
        },
        "title": {
         "text": "Correlation Difference | P00738 & Cluster 9"
        }
       }
      }
     },
     "metadata": {},
     "output_type": "display_data"
    }
   ],
   "source": [
    "myprotein = 'P00738'\n",
    "mmcom_ni = 9\n",
    "\n",
    "file = f'Plots/{myprotein}_mm{mmcom_ni}.html'\n",
    "\n",
    "tmp = m2i.loc[[j for i,j,k in g.edges.data() if i=='P00738' and j in mmcom[mmcom_ni]], 'TP_ID']\n",
    "\n",
    "corr.rcca.qm.c.loc['P00738',tmp.keys()]\n",
    "corr.rcca.qm.d[adpv.rcca.qm.c<0.05].loc['P00738',tmp.keys()]\n",
    "\n",
    "x = [f'{j}-{i}' for i,j in zip(tmp, tmp.keys())]\n",
    "\n",
    "fig = go.Figure(data=[\n",
    "    go.Bar(name='Control', x=x, y=corr.rcca.qm.c[adpv.rcca.qm.c<0.05].loc['P00738',tmp.keys()], opacity=0.8),\n",
    "    go.Bar(name='Disease', x=x, y=corr.rcca.qm.d[adpv.rcca.qm.d<0.05].loc['P00738',tmp.keys()], opacity=0.8),\n",
    "])\n",
    "\n",
    "fig.update_layout(barmode='group', title=f'Correlation Difference | {myprotein} & Cluster {mmcom_ni}')\n",
    "fig.show()\n",
    "\n",
    "with open(file, 'a') as f:\n",
    "    f.write(fig.to_html(full_html=False, include_plotlyjs='cdn', default_height='50%', default_width='80%'))"
   ]
  },
  {
   "attachments": {},
   "cell_type": "markdown",
   "metadata": {},
   "source": [
    "GRAPH VISUALIZATION"
   ]
  },
  {
   "cell_type": "code",
   "execution_count": 123,
   "metadata": {},
   "outputs": [],
   "source": [
    "# G = leidenalg.find_partition(\n",
    "#     ig.Graph.from_networkx(g), leidenalg.ModularityVertexPartition, \n",
    "#     n_iterations=-1, seed=0\n",
    "# ).subgraphs()[0]\n",
    "#G = g.subgraph(G.to_networkx().nodes)\n",
    "\n",
    "G = nx_comm.louvain_communities(g, resolution=2, seed=0)[1]\n",
    "G = g.subgraph(G)"
   ]
  },
  {
   "cell_type": "code",
   "execution_count": 142,
   "metadata": {},
   "outputs": [],
   "source": [
    "G = g.subgraph(qqcom[3])"
   ]
  },
  {
   "cell_type": "code",
   "execution_count": 151,
   "metadata": {},
   "outputs": [
    {
     "name": "stdout",
     "output_type": "stream",
     "text": [
      "nx.html\n"
     ]
    }
   ],
   "source": [
    "\n",
    "\n",
    "nt = Network(height='500px', width='100%', select_menu=True, filter_menu=True)\n",
    "nt.force_atlas_2based()\n",
    "nt.from_nx(metag)\n",
    "#nt.from_nx(g.subgraph(mmcom[1]))\n",
    "#nt.from_nx(qqA[0].subgraph(list(get_communities(qqA[0], n=n)[0])))\n",
    "_ = [i.update({'color': palette[1]}) if i['group']=='m' else i.update({'color': palette[0]}) for i in nt.nodes]\n",
    "_ = [i.update({'color': 'grey'}) if i['r']>0 else i.update({'color': 'grey'}) for i in nt.edges]\n",
    "_ = [i.update({'width': -np.log(i['p'])}) for i in nt.edges]\n",
    "nt.show_buttons(filter_='physics')\n",
    "nt.show('nx.html', notebook=False)"
   ]
  },
  {
   "attachments": {},
   "cell_type": "markdown",
   "metadata": {},
   "source": [
    "STRING ENRICHMENT"
   ]
  },
  {
   "cell_type": "code",
   "execution_count": 271,
   "metadata": {},
   "outputs": [],
   "source": [
    "from STRING import Uniprot2String, FunctionalEnrichment\n",
    "background = Uniprot2String(\n",
    "    q2i.index.tolist()\n",
    ")\n",
    "\n",
    "background = [i[1] for i in background]"
   ]
  },
  {
   "cell_type": "code",
   "execution_count": null,
   "metadata": {},
   "outputs": [],
   "source": [
    "import requests\n",
    "\n",
    "for comm_ni in range(len(qqcom)):\n",
    "\n",
    "    my_genes = Uniprot2String(\n",
    "        #qqcom[comm_ni],\n",
    "        qSig.index[qSig.pv_adj<0.01].tolist()\n",
    "    )\n",
    "    my_genes = [i[1] for i in my_genes]\n",
    "    data = FunctionalEnrichment(my_genes, background, species=9606)\n",
    "\n",
    "    from io import StringIO\n",
    "\n",
    "    data = pd.read_csv(\n",
    "        StringIO(data),\n",
    "        sep='\\t'\n",
    "    )\n",
    "\n",
    "    col = ['category', 'number_of_genes', 'number_of_genes_in_background', 'fdr', 'description']\n",
    "    categories = ['Process', 'KEGG', 'Component']\n",
    "    atable = data[np.isin(data['category'], categories)].sort_values('fdr').loc[:, col]#.head(15)\n",
    "    atable.head(15)\n",
    "\n",
    "    with pd.ExcelWriter('Clusters/qq_allClusters.xlsx', mode='a') as writer:\n",
    "        atable.to_excel(writer, sheet_name=f'qq_{comm_ni}_string', index=False)\n",
    "    \n",
    "    # String network\n",
    "    res = requests.get(\n",
    "    f'https://string-db.org/api/tsv/get_link?identifiers={\"%0d\".join(my_genes)}&species=9606'\n",
    "    )\n",
    "\n",
    "    print(f'Proteomics Cluster {comm_ni}')\n",
    "    print(res.content.decode('ascii'))\n"
   ]
  },
  {
   "cell_type": "code",
   "execution_count": 276,
   "metadata": {},
   "outputs": [
    {
     "name": "stdout",
     "output_type": "stream",
     "text": [
      "url\n",
      "https://string-db.org/cgi/link?to=AE6938C979F29147\n",
      "\n"
     ]
    }
   ],
   "source": [
    "import requests\n",
    "\n",
    "my_genes = Uniprot2String(\n",
    "    #qqcom[comm_ni],\n",
    "    qSig.index[qSig.pv_adj<0.01].tolist()\n",
    ")\n",
    "my_genes = [i[1] for i in my_genes]\n",
    "data = FunctionalEnrichment(my_genes, background, species=9606)\n",
    "\n",
    "from io import StringIO\n",
    "\n",
    "data = pd.read_csv(\n",
    "    StringIO(data),\n",
    "    sep='\\t'\n",
    ")\n",
    "\n",
    "col = ['category', 'number_of_genes', 'number_of_genes_in_background', 'fdr', 'description']\n",
    "categories = ['Process', 'KEGG', 'Component']\n",
    "atable = data[np.isin(data['category'], categories)].sort_values('fdr').loc[:, col]#.head(15)\n",
    "atable.head(15)\n",
    "\n",
    "# String network\n",
    "res = requests.get(\n",
    "f'https://string-db.org/api/tsv/get_link?identifiers={\"%0d\".join(my_genes)}&species=9606'\n",
    ")\n",
    "\n",
    "print(res.content.decode('ascii'))\n"
   ]
  }
 ],
 "metadata": {
  "kernelspec": {
   "display_name": "Python 3",
   "language": "python",
   "name": "python3"
  },
  "language_info": {
   "codemirror_mode": {
    "name": "ipython",
    "version": 3
   },
   "file_extension": ".py",
   "mimetype": "text/x-python",
   "name": "python",
   "nbconvert_exporter": "python",
   "pygments_lexer": "ipython3",
   "version": "3.10.4"
  },
  "orig_nbformat": 4,
  "vscode": {
   "interpreter": {
    "hash": "299fabdee10379681b2207a83aa9f93c313ee5d5504e286e44b436bd7e45d8f9"
   }
  }
 },
 "nbformat": 4,
 "nbformat_minor": 2
}
