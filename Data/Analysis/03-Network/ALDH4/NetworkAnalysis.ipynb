{
 "cells": [
  {
   "cell_type": "code",
   "execution_count": 1,
   "metadata": {},
   "outputs": [],
   "source": [
    "#\n",
    "# Import Libraries\n",
    "#\n",
    "\n",
    "import os\n",
    "import pandas as pd\n",
    "import pickle\n",
    "import sys\n",
    "import networkx as nx\n",
    "import numpy as np\n",
    "from scipy.stats import poisson\n",
    "import itertools\n",
    "\n",
    "from scipy.stats import pearsonr, spearmanr, kendalltau\n",
    "\n",
    "from functools import reduce\n",
    "\n",
    "from plotly import graph_objects as go\n",
    "from plotly.subplots import make_subplots\n",
    "import plotly.express as px\n",
    "import plotly\n",
    "\n",
    "import re\n",
    "\n",
    "palette = plotly.colors.qualitative.Plotly\n",
    "\n",
    "from pyvis.network import Network\n",
    "\n",
    "import subprocess\n",
    "\n",
    "utilsPath = r'S:\\U_Proteomica\\UNIDAD\\software\\MacrosRafa\\data\\Metabolomics\\PESA_Integromics\\Data\\utils'\n",
    "if utilsPath not in sys.path:\n",
    "    sys.path.append(utilsPath)"
   ]
  },
  {
   "cell_type": "code",
   "execution_count": 7,
   "metadata": {},
   "outputs": [],
   "source": [
    "#\n",
    "# Paths & Constants\n",
    "#\n",
    "\n",
    "corr_path = r'S:\\U_Proteomica\\UNIDAD\\software\\MacrosRafa\\data\\Metabolomics\\PESA_Integromics\\Data\\Analysis\\02-Correlations\\ALDH4\\corr_groupby.pkl'\n",
    "pval_path = r'S:\\U_Proteomica\\UNIDAD\\software\\MacrosRafa\\data\\Metabolomics\\PESA_Integromics\\Data\\Analysis\\02-Correlations\\ALDH4\\pvals_groupby.pkl'\n",
    "\n",
    "xm_path = r'S:\\U_Proteomica\\UNIDAD\\software\\MacrosRafa\\data\\Metabolomics\\PESA_Integromics\\Data\\Metabolomics\\ALDH4\\WorkingFiles\\Xm_norm.tsv'\n",
    "xq_path = r'S:\\U_Proteomica\\UNIDAD\\software\\MacrosRafa\\data\\Metabolomics\\PESA_Integromics\\Data\\Proteomics\\ALDH4\\WorkingFiles\\Xq_minus_X_norm.tsv'\n",
    "\n",
    "m2i_path = r'S:\\U_Proteomica\\UNIDAD\\software\\MacrosRafa\\data\\Metabolomics\\PESA_Integromics\\Data\\Metabolomics\\ALDH4\\WorkingFiles\\f2i_TP.tsv'\n",
    "q2i_path = r'S:\\U_Proteomica\\UNIDAD\\software\\MacrosRafa\\data\\Metabolomics\\PESA_Integromics\\Data\\Proteomics\\ALDH4\\WorkingFiles\\q2info.tsv'\n",
    "\n",
    "mdata_path = r'S:\\U_Proteomica\\UNIDAD\\software\\MacrosRafa\\data\\Metabolomics\\PESA_Integromics\\Data\\Metadata\\ALDH4\\WorkingFiles\\main_metadata.tsv'"
   ]
  },
  {
   "cell_type": "code",
   "execution_count": 8,
   "metadata": {},
   "outputs": [],
   "source": [
    "xq = pd.read_csv(xq_path, sep='\\t', index_col=0)\n",
    "xm = pd.read_csv(xm_path, sep='\\t', index_col=0)\n",
    "\n",
    "q2i = pd.read_csv(q2i_path, sep='\\t', index_col='fid')\n",
    "m2i = pd.read_csv(m2i_path, sep='\\t', index_col='fid')\n",
    "\n",
    "mdata = pd.read_csv(mdata_path, sep='\\t')"
   ]
  },
  {
   "cell_type": "code",
   "execution_count": 16,
   "metadata": {},
   "outputs": [],
   "source": [
    "#\n",
    "# Read raw data from which the graph will be built\n",
    "#\n",
    "\n",
    "with open(corr_path, 'rb') as f:\n",
    "    corr_all, corrSL_all = pickle.load(f)\n",
    "\n",
    "with open(pval_path, 'rb') as f:\n",
    "    pv_all, adpv_all = pickle.load(f)"
   ]
  },
  {
   "cell_type": "code",
   "execution_count": 17,
   "metadata": {},
   "outputs": [],
   "source": [
    "g1g2 = 'A12_B1-8'\n",
    "corr, corrSL, pv, adpv = corr_all[g1g2], corrSL_all[g1g2], pv_all[g1g2], adpv_all[g1g2]"
   ]
  },
  {
   "attachments": {},
   "cell_type": "markdown",
   "metadata": {},
   "source": [
    "Analizar orden y tamaño del grafo usando diferentes tipos de correlaciones y umbrales de FDR"
   ]
  },
  {
   "cell_type": "code",
   "execution_count": 18,
   "metadata": {},
   "outputs": [],
   "source": [
    "#\n",
    "# \n",
    "#\n",
    "\n",
    "ctypes = ['rpc', 'psk']\n",
    "\n",
    "pvrange = np.arange(0,0.2,0.05)\n",
    "\n",
    "plot = {}\n",
    "\n",
    "for ctype in ctypes:\n",
    "    plot[ctype] = {\n",
    "        'qq': {'nodes':[], 'edges':[]},\n",
    "        'mm': {'nodes':[], 'edges':[]}, \n",
    "    }\n",
    "    for pv in pvrange:\n",
    "\n",
    "        qqc = getattr(corr, ctype).qq.dc.copy()\n",
    "        qqp = adpv[ctype].qq.dc.copy()\n",
    "        qqg = nx.from_pandas_adjacency(qqc[qqp<=pv].fillna(0))\n",
    "        plot[ctype]['qq']['nodes'].append((np.array(list(dict(nx.degree(qqg)).values()))>0).sum())\n",
    "        plot[ctype]['qq']['edges'].append(qqg.size())\n",
    "\n",
    "        mmc = getattr(corr, ctype).mm.dc.copy()\n",
    "        mmp = adpv[ctype].mm.dc.copy()\n",
    "        mmg = nx.from_pandas_adjacency(mmc[mmp<=pv].fillna(0))\n",
    "        plot[ctype]['mm']['nodes'].append((np.array(list(dict(nx.degree(mmg)).values()))>0).sum())\n",
    "        plot[ctype]['mm']['edges'].append(mmg.size())\n",
    "\n",
    "\n",
    "ctypes2 = ['rcca', 'psk', 'cca']\n",
    "\n",
    "for ctype in ctypes2:\n",
    "    if ctype not in plot.keys(): plot[ctype]={}\n",
    "    plot[ctype]['qm'] = {\n",
    "        'nodes':[], 'edges':[],\n",
    "    }\n",
    "    for pv in pvrange:\n",
    "\n",
    "        qmc = getattr(corr, ctype).qm.dc.copy()\n",
    "        qmp = adpv[ctype].qm.dc.copy()\n",
    "        qmg = qmc[qmp<pv].fillna(0)\n",
    "        qmg = pd.concat([\n",
    "            pd.DataFrame(columns=qmg.index, index=qmg.index).fillna(0).join(qmg),\n",
    "            qmg.T.join(pd.DataFrame(columns=qmg.columns, index=qmg.columns).fillna(0))\n",
    "        ])\n",
    "        qmg = nx.from_pandas_adjacency(qmg)\n",
    "        plot[ctype]['qm']['nodes'].append((np.array(list(dict(nx.degree(qmg)).values()))>0).sum())\n",
    "        plot[ctype]['qm']['edges'].append(qmg.size())"
   ]
  },
  {
   "cell_type": "code",
   "execution_count": 20,
   "metadata": {},
   "outputs": [
    {
     "data": {
      "application/vnd.plotly.v1+json": {
       "config": {
        "plotlyServerURL": "https://plot.ly"
       },
       "data": [
        {
         "legendgroup": "0",
         "marker": {
          "color": "#636EFA"
         },
         "name": "rpc",
         "type": "scatter",
         "x": [
          0,
          0.05,
          0.1,
          0.15000000000000002
         ],
         "xaxis": "x",
         "y": [
          0,
          0,
          0,
          0
         ],
         "yaxis": "y"
        },
        {
         "legendgroup": "0",
         "marker": {
          "color": "#636EFA"
         },
         "name": "rpc",
         "type": "scatter",
         "x": [
          0,
          0.05,
          0.1,
          0.15000000000000002
         ],
         "xaxis": "x2",
         "y": [
          0,
          0,
          0,
          0
         ],
         "yaxis": "y2"
        },
        {
         "legendgroup": "0",
         "marker": {
          "color": "#636EFA"
         },
         "name": "rpc",
         "type": "scatter",
         "x": [
          0,
          0.05,
          0.1,
          0.15000000000000002
         ],
         "xaxis": "x3",
         "y": [
          0,
          0,
          0,
          0
         ],
         "yaxis": "y3"
        },
        {
         "legendgroup": "0",
         "marker": {
          "color": "#636EFA"
         },
         "name": "rpc",
         "type": "scatter",
         "x": [
          0,
          0.05,
          0.1,
          0.15000000000000002
         ],
         "xaxis": "x4",
         "y": [
          0,
          0,
          0,
          0
         ],
         "yaxis": "y4"
        },
        {
         "legendgroup": "1",
         "marker": {
          "color": "#EF553B"
         },
         "name": "psk",
         "type": "scatter",
         "x": [
          0,
          0.05,
          0.1,
          0.15000000000000002
         ],
         "xaxis": "x",
         "y": [
          0,
          0,
          0,
          0
         ],
         "yaxis": "y"
        },
        {
         "legendgroup": "1",
         "marker": {
          "color": "#EF553B"
         },
         "name": "psk",
         "type": "scatter",
         "x": [
          0,
          0.05,
          0.1,
          0.15000000000000002
         ],
         "xaxis": "x2",
         "y": [
          0,
          0,
          0,
          0
         ],
         "yaxis": "y2"
        },
        {
         "legendgroup": "1",
         "marker": {
          "color": "#EF553B"
         },
         "name": "psk",
         "type": "scatter",
         "x": [
          0,
          0.05,
          0.1,
          0.15000000000000002
         ],
         "xaxis": "x3",
         "y": [
          0,
          0,
          0,
          0
         ],
         "yaxis": "y3"
        },
        {
         "legendgroup": "1",
         "marker": {
          "color": "#EF553B"
         },
         "name": "psk",
         "type": "scatter",
         "x": [
          0,
          0.05,
          0.1,
          0.15000000000000002
         ],
         "xaxis": "x4",
         "y": [
          0,
          0,
          0,
          0
         ],
         "yaxis": "y4"
        },
        {
         "legendgroup": "0",
         "marker": {
          "color": "#636EFA"
         },
         "name": "rcca",
         "type": "scatter",
         "x": [
          0,
          0.05,
          0.1,
          0.15000000000000002
         ],
         "xaxis": "x5",
         "y": [
          0,
          66,
          225,
          448
         ],
         "yaxis": "y5"
        },
        {
         "legendgroup": "0",
         "marker": {
          "color": "#636EFA"
         },
         "name": "rcca",
         "type": "scatter",
         "x": [
          0,
          0.05,
          0.1,
          0.15000000000000002
         ],
         "xaxis": "x6",
         "y": [
          0,
          78,
          551,
          2470
         ],
         "yaxis": "y6"
        },
        {
         "legendgroup": "1",
         "marker": {
          "color": "#EF553B"
         },
         "name": "psk",
         "type": "scatter",
         "x": [
          0,
          0.05,
          0.1,
          0.15000000000000002
         ],
         "xaxis": "x5",
         "y": [
          0,
          0,
          0,
          0
         ],
         "yaxis": "y5"
        },
        {
         "legendgroup": "1",
         "marker": {
          "color": "#EF553B"
         },
         "name": "psk",
         "type": "scatter",
         "x": [
          0,
          0.05,
          0.1,
          0.15000000000000002
         ],
         "xaxis": "x6",
         "y": [
          0,
          0,
          0,
          0
         ],
         "yaxis": "y6"
        },
        {
         "legendgroup": "2",
         "marker": {
          "color": "#00CC96"
         },
         "name": "cca",
         "type": "scatter",
         "x": [
          0,
          0.05,
          0.1,
          0.15000000000000002
         ],
         "xaxis": "x5",
         "y": [
          0,
          0,
          0,
          0
         ],
         "yaxis": "y5"
        },
        {
         "legendgroup": "2",
         "marker": {
          "color": "#00CC96"
         },
         "name": "cca",
         "type": "scatter",
         "x": [
          0,
          0.05,
          0.1,
          0.15000000000000002
         ],
         "xaxis": "x6",
         "y": [
          0,
          0,
          0,
          0
         ],
         "yaxis": "y6"
        }
       ],
       "layout": {
        "annotations": [
         {
          "font": {
           "size": 16
          },
          "showarrow": false,
          "text": "qq - Nodes",
          "x": 0.225,
          "xanchor": "center",
          "xref": "paper",
          "y": 1,
          "yanchor": "bottom",
          "yref": "paper"
         },
         {
          "font": {
           "size": 16
          },
          "showarrow": false,
          "text": "qq - Edges",
          "x": 0.775,
          "xanchor": "center",
          "xref": "paper",
          "y": 1,
          "yanchor": "bottom",
          "yref": "paper"
         },
         {
          "font": {
           "size": 16
          },
          "showarrow": false,
          "text": "mm - Nodes",
          "x": 0.225,
          "xanchor": "center",
          "xref": "paper",
          "y": 0.6111111111111112,
          "yanchor": "bottom",
          "yref": "paper"
         },
         {
          "font": {
           "size": 16
          },
          "showarrow": false,
          "text": "mm - Edges",
          "x": 0.775,
          "xanchor": "center",
          "xref": "paper",
          "y": 0.6111111111111112,
          "yanchor": "bottom",
          "yref": "paper"
         },
         {
          "font": {
           "size": 16
          },
          "showarrow": false,
          "text": "qm - Nodes",
          "x": 0.225,
          "xanchor": "center",
          "xref": "paper",
          "y": 0.22222222222222224,
          "yanchor": "bottom",
          "yref": "paper"
         },
         {
          "font": {
           "size": 16
          },
          "showarrow": false,
          "text": "qm - Edges",
          "x": 0.775,
          "xanchor": "center",
          "xref": "paper",
          "y": 0.22222222222222224,
          "yanchor": "bottom",
          "yref": "paper"
         }
        ],
        "height": 700,
        "template": {
         "data": {
          "bar": [
           {
            "error_x": {
             "color": "#2a3f5f"
            },
            "error_y": {
             "color": "#2a3f5f"
            },
            "marker": {
             "line": {
              "color": "#E5ECF6",
              "width": 0.5
             },
             "pattern": {
              "fillmode": "overlay",
              "size": 10,
              "solidity": 0.2
             }
            },
            "type": "bar"
           }
          ],
          "barpolar": [
           {
            "marker": {
             "line": {
              "color": "#E5ECF6",
              "width": 0.5
             },
             "pattern": {
              "fillmode": "overlay",
              "size": 10,
              "solidity": 0.2
             }
            },
            "type": "barpolar"
           }
          ],
          "carpet": [
           {
            "aaxis": {
             "endlinecolor": "#2a3f5f",
             "gridcolor": "white",
             "linecolor": "white",
             "minorgridcolor": "white",
             "startlinecolor": "#2a3f5f"
            },
            "baxis": {
             "endlinecolor": "#2a3f5f",
             "gridcolor": "white",
             "linecolor": "white",
             "minorgridcolor": "white",
             "startlinecolor": "#2a3f5f"
            },
            "type": "carpet"
           }
          ],
          "choropleth": [
           {
            "colorbar": {
             "outlinewidth": 0,
             "ticks": ""
            },
            "type": "choropleth"
           }
          ],
          "contour": [
           {
            "colorbar": {
             "outlinewidth": 0,
             "ticks": ""
            },
            "colorscale": [
             [
              0,
              "#0d0887"
             ],
             [
              0.1111111111111111,
              "#46039f"
             ],
             [
              0.2222222222222222,
              "#7201a8"
             ],
             [
              0.3333333333333333,
              "#9c179e"
             ],
             [
              0.4444444444444444,
              "#bd3786"
             ],
             [
              0.5555555555555556,
              "#d8576b"
             ],
             [
              0.6666666666666666,
              "#ed7953"
             ],
             [
              0.7777777777777778,
              "#fb9f3a"
             ],
             [
              0.8888888888888888,
              "#fdca26"
             ],
             [
              1,
              "#f0f921"
             ]
            ],
            "type": "contour"
           }
          ],
          "contourcarpet": [
           {
            "colorbar": {
             "outlinewidth": 0,
             "ticks": ""
            },
            "type": "contourcarpet"
           }
          ],
          "heatmap": [
           {
            "colorbar": {
             "outlinewidth": 0,
             "ticks": ""
            },
            "colorscale": [
             [
              0,
              "#0d0887"
             ],
             [
              0.1111111111111111,
              "#46039f"
             ],
             [
              0.2222222222222222,
              "#7201a8"
             ],
             [
              0.3333333333333333,
              "#9c179e"
             ],
             [
              0.4444444444444444,
              "#bd3786"
             ],
             [
              0.5555555555555556,
              "#d8576b"
             ],
             [
              0.6666666666666666,
              "#ed7953"
             ],
             [
              0.7777777777777778,
              "#fb9f3a"
             ],
             [
              0.8888888888888888,
              "#fdca26"
             ],
             [
              1,
              "#f0f921"
             ]
            ],
            "type": "heatmap"
           }
          ],
          "heatmapgl": [
           {
            "colorbar": {
             "outlinewidth": 0,
             "ticks": ""
            },
            "colorscale": [
             [
              0,
              "#0d0887"
             ],
             [
              0.1111111111111111,
              "#46039f"
             ],
             [
              0.2222222222222222,
              "#7201a8"
             ],
             [
              0.3333333333333333,
              "#9c179e"
             ],
             [
              0.4444444444444444,
              "#bd3786"
             ],
             [
              0.5555555555555556,
              "#d8576b"
             ],
             [
              0.6666666666666666,
              "#ed7953"
             ],
             [
              0.7777777777777778,
              "#fb9f3a"
             ],
             [
              0.8888888888888888,
              "#fdca26"
             ],
             [
              1,
              "#f0f921"
             ]
            ],
            "type": "heatmapgl"
           }
          ],
          "histogram": [
           {
            "marker": {
             "pattern": {
              "fillmode": "overlay",
              "size": 10,
              "solidity": 0.2
             }
            },
            "type": "histogram"
           }
          ],
          "histogram2d": [
           {
            "colorbar": {
             "outlinewidth": 0,
             "ticks": ""
            },
            "colorscale": [
             [
              0,
              "#0d0887"
             ],
             [
              0.1111111111111111,
              "#46039f"
             ],
             [
              0.2222222222222222,
              "#7201a8"
             ],
             [
              0.3333333333333333,
              "#9c179e"
             ],
             [
              0.4444444444444444,
              "#bd3786"
             ],
             [
              0.5555555555555556,
              "#d8576b"
             ],
             [
              0.6666666666666666,
              "#ed7953"
             ],
             [
              0.7777777777777778,
              "#fb9f3a"
             ],
             [
              0.8888888888888888,
              "#fdca26"
             ],
             [
              1,
              "#f0f921"
             ]
            ],
            "type": "histogram2d"
           }
          ],
          "histogram2dcontour": [
           {
            "colorbar": {
             "outlinewidth": 0,
             "ticks": ""
            },
            "colorscale": [
             [
              0,
              "#0d0887"
             ],
             [
              0.1111111111111111,
              "#46039f"
             ],
             [
              0.2222222222222222,
              "#7201a8"
             ],
             [
              0.3333333333333333,
              "#9c179e"
             ],
             [
              0.4444444444444444,
              "#bd3786"
             ],
             [
              0.5555555555555556,
              "#d8576b"
             ],
             [
              0.6666666666666666,
              "#ed7953"
             ],
             [
              0.7777777777777778,
              "#fb9f3a"
             ],
             [
              0.8888888888888888,
              "#fdca26"
             ],
             [
              1,
              "#f0f921"
             ]
            ],
            "type": "histogram2dcontour"
           }
          ],
          "mesh3d": [
           {
            "colorbar": {
             "outlinewidth": 0,
             "ticks": ""
            },
            "type": "mesh3d"
           }
          ],
          "parcoords": [
           {
            "line": {
             "colorbar": {
              "outlinewidth": 0,
              "ticks": ""
             }
            },
            "type": "parcoords"
           }
          ],
          "pie": [
           {
            "automargin": true,
            "type": "pie"
           }
          ],
          "scatter": [
           {
            "fillpattern": {
             "fillmode": "overlay",
             "size": 10,
             "solidity": 0.2
            },
            "type": "scatter"
           }
          ],
          "scatter3d": [
           {
            "line": {
             "colorbar": {
              "outlinewidth": 0,
              "ticks": ""
             }
            },
            "marker": {
             "colorbar": {
              "outlinewidth": 0,
              "ticks": ""
             }
            },
            "type": "scatter3d"
           }
          ],
          "scattercarpet": [
           {
            "marker": {
             "colorbar": {
              "outlinewidth": 0,
              "ticks": ""
             }
            },
            "type": "scattercarpet"
           }
          ],
          "scattergeo": [
           {
            "marker": {
             "colorbar": {
              "outlinewidth": 0,
              "ticks": ""
             }
            },
            "type": "scattergeo"
           }
          ],
          "scattergl": [
           {
            "marker": {
             "colorbar": {
              "outlinewidth": 0,
              "ticks": ""
             }
            },
            "type": "scattergl"
           }
          ],
          "scattermapbox": [
           {
            "marker": {
             "colorbar": {
              "outlinewidth": 0,
              "ticks": ""
             }
            },
            "type": "scattermapbox"
           }
          ],
          "scatterpolar": [
           {
            "marker": {
             "colorbar": {
              "outlinewidth": 0,
              "ticks": ""
             }
            },
            "type": "scatterpolar"
           }
          ],
          "scatterpolargl": [
           {
            "marker": {
             "colorbar": {
              "outlinewidth": 0,
              "ticks": ""
             }
            },
            "type": "scatterpolargl"
           }
          ],
          "scatterternary": [
           {
            "marker": {
             "colorbar": {
              "outlinewidth": 0,
              "ticks": ""
             }
            },
            "type": "scatterternary"
           }
          ],
          "surface": [
           {
            "colorbar": {
             "outlinewidth": 0,
             "ticks": ""
            },
            "colorscale": [
             [
              0,
              "#0d0887"
             ],
             [
              0.1111111111111111,
              "#46039f"
             ],
             [
              0.2222222222222222,
              "#7201a8"
             ],
             [
              0.3333333333333333,
              "#9c179e"
             ],
             [
              0.4444444444444444,
              "#bd3786"
             ],
             [
              0.5555555555555556,
              "#d8576b"
             ],
             [
              0.6666666666666666,
              "#ed7953"
             ],
             [
              0.7777777777777778,
              "#fb9f3a"
             ],
             [
              0.8888888888888888,
              "#fdca26"
             ],
             [
              1,
              "#f0f921"
             ]
            ],
            "type": "surface"
           }
          ],
          "table": [
           {
            "cells": {
             "fill": {
              "color": "#EBF0F8"
             },
             "line": {
              "color": "white"
             }
            },
            "header": {
             "fill": {
              "color": "#C8D4E3"
             },
             "line": {
              "color": "white"
             }
            },
            "type": "table"
           }
          ]
         },
         "layout": {
          "annotationdefaults": {
           "arrowcolor": "#2a3f5f",
           "arrowhead": 0,
           "arrowwidth": 1
          },
          "autotypenumbers": "strict",
          "coloraxis": {
           "colorbar": {
            "outlinewidth": 0,
            "ticks": ""
           }
          },
          "colorscale": {
           "diverging": [
            [
             0,
             "#8e0152"
            ],
            [
             0.1,
             "#c51b7d"
            ],
            [
             0.2,
             "#de77ae"
            ],
            [
             0.3,
             "#f1b6da"
            ],
            [
             0.4,
             "#fde0ef"
            ],
            [
             0.5,
             "#f7f7f7"
            ],
            [
             0.6,
             "#e6f5d0"
            ],
            [
             0.7,
             "#b8e186"
            ],
            [
             0.8,
             "#7fbc41"
            ],
            [
             0.9,
             "#4d9221"
            ],
            [
             1,
             "#276419"
            ]
           ],
           "sequential": [
            [
             0,
             "#0d0887"
            ],
            [
             0.1111111111111111,
             "#46039f"
            ],
            [
             0.2222222222222222,
             "#7201a8"
            ],
            [
             0.3333333333333333,
             "#9c179e"
            ],
            [
             0.4444444444444444,
             "#bd3786"
            ],
            [
             0.5555555555555556,
             "#d8576b"
            ],
            [
             0.6666666666666666,
             "#ed7953"
            ],
            [
             0.7777777777777778,
             "#fb9f3a"
            ],
            [
             0.8888888888888888,
             "#fdca26"
            ],
            [
             1,
             "#f0f921"
            ]
           ],
           "sequentialminus": [
            [
             0,
             "#0d0887"
            ],
            [
             0.1111111111111111,
             "#46039f"
            ],
            [
             0.2222222222222222,
             "#7201a8"
            ],
            [
             0.3333333333333333,
             "#9c179e"
            ],
            [
             0.4444444444444444,
             "#bd3786"
            ],
            [
             0.5555555555555556,
             "#d8576b"
            ],
            [
             0.6666666666666666,
             "#ed7953"
            ],
            [
             0.7777777777777778,
             "#fb9f3a"
            ],
            [
             0.8888888888888888,
             "#fdca26"
            ],
            [
             1,
             "#f0f921"
            ]
           ]
          },
          "colorway": [
           "#636efa",
           "#EF553B",
           "#00cc96",
           "#ab63fa",
           "#FFA15A",
           "#19d3f3",
           "#FF6692",
           "#B6E880",
           "#FF97FF",
           "#FECB52"
          ],
          "font": {
           "color": "#2a3f5f"
          },
          "geo": {
           "bgcolor": "white",
           "lakecolor": "white",
           "landcolor": "#E5ECF6",
           "showlakes": true,
           "showland": true,
           "subunitcolor": "white"
          },
          "hoverlabel": {
           "align": "left"
          },
          "hovermode": "closest",
          "mapbox": {
           "style": "light"
          },
          "paper_bgcolor": "white",
          "plot_bgcolor": "#E5ECF6",
          "polar": {
           "angularaxis": {
            "gridcolor": "white",
            "linecolor": "white",
            "ticks": ""
           },
           "bgcolor": "#E5ECF6",
           "radialaxis": {
            "gridcolor": "white",
            "linecolor": "white",
            "ticks": ""
           }
          },
          "scene": {
           "xaxis": {
            "backgroundcolor": "#E5ECF6",
            "gridcolor": "white",
            "gridwidth": 2,
            "linecolor": "white",
            "showbackground": true,
            "ticks": "",
            "zerolinecolor": "white"
           },
           "yaxis": {
            "backgroundcolor": "#E5ECF6",
            "gridcolor": "white",
            "gridwidth": 2,
            "linecolor": "white",
            "showbackground": true,
            "ticks": "",
            "zerolinecolor": "white"
           },
           "zaxis": {
            "backgroundcolor": "#E5ECF6",
            "gridcolor": "white",
            "gridwidth": 2,
            "linecolor": "white",
            "showbackground": true,
            "ticks": "",
            "zerolinecolor": "white"
           }
          },
          "shapedefaults": {
           "line": {
            "color": "#2a3f5f"
           }
          },
          "ternary": {
           "aaxis": {
            "gridcolor": "white",
            "linecolor": "white",
            "ticks": ""
           },
           "baxis": {
            "gridcolor": "white",
            "linecolor": "white",
            "ticks": ""
           },
           "bgcolor": "#E5ECF6",
           "caxis": {
            "gridcolor": "white",
            "linecolor": "white",
            "ticks": ""
           }
          },
          "title": {
           "x": 0.05
          },
          "xaxis": {
           "automargin": true,
           "gridcolor": "white",
           "linecolor": "white",
           "ticks": "",
           "title": {
            "standoff": 15
           },
           "zerolinecolor": "white",
           "zerolinewidth": 2
          },
          "yaxis": {
           "automargin": true,
           "gridcolor": "white",
           "linecolor": "white",
           "ticks": "",
           "title": {
            "standoff": 15
           },
           "zerolinecolor": "white",
           "zerolinewidth": 2
          }
         }
        },
        "title": {
         "text": "Number of nodes and edges per correlation type"
        },
        "width": 1000,
        "xaxis": {
         "anchor": "y",
         "domain": [
          0,
          0.45
         ]
        },
        "xaxis2": {
         "anchor": "y2",
         "domain": [
          0.55,
          1
         ]
        },
        "xaxis3": {
         "anchor": "y3",
         "domain": [
          0,
          0.45
         ]
        },
        "xaxis4": {
         "anchor": "y4",
         "domain": [
          0.55,
          1
         ]
        },
        "xaxis5": {
         "anchor": "y5",
         "domain": [
          0,
          0.45
         ]
        },
        "xaxis6": {
         "anchor": "y6",
         "domain": [
          0.55,
          1
         ]
        },
        "yaxis": {
         "anchor": "x",
         "domain": [
          0.7777777777777778,
          1
         ]
        },
        "yaxis2": {
         "anchor": "x2",
         "domain": [
          0.7777777777777778,
          1
         ]
        },
        "yaxis3": {
         "anchor": "x3",
         "domain": [
          0.3888888888888889,
          0.6111111111111112
         ]
        },
        "yaxis4": {
         "anchor": "x4",
         "domain": [
          0.3888888888888889,
          0.6111111111111112
         ]
        },
        "yaxis5": {
         "anchor": "x5",
         "domain": [
          0,
          0.22222222222222224
         ]
        },
        "yaxis6": {
         "anchor": "x6",
         "domain": [
          0,
          0.22222222222222224
         ]
        }
       }
      }
     },
     "metadata": {},
     "output_type": "display_data"
    }
   ],
   "source": [
    "from plotly.subplots import make_subplots\n",
    "from plotly import graph_objects as go\n",
    "import plotly.express as px\n",
    "\n",
    "palette = px.colors.qualitative.Plotly\n",
    "\n",
    "file = 'Plots/FDR_CorrType.html'\n",
    "if os.path.exists(file):\n",
    "    os.remove(file)\n",
    "\n",
    "fig = make_subplots(rows=3, cols=2, subplot_titles=['qq - Nodes', 'qq - Edges','mm - Nodes', 'mm - Edges', 'qm - Nodes', 'qm - Edges'])\n",
    "plot['psk']['qq']['nodes']\n",
    "\n",
    "for n,ctype in enumerate(ctypes):\n",
    "    fig.add_trace(go.Scatter(\n",
    "        x=pvrange,\n",
    "        y=plot[ctype]['qq']['nodes'],\n",
    "        name=ctype, marker_color=palette[n], legendgroup=n\n",
    "    ), row=1, col=1)\n",
    "    fig.add_trace(go.Scatter(\n",
    "        x=pvrange,\n",
    "        y=plot[ctype]['qq']['edges'],\n",
    "        name=ctype, marker_color=palette[n], legendgroup=n\n",
    "    ), row=1, col=2)\n",
    "    fig.add_trace(go.Scatter(\n",
    "        x=pvrange,\n",
    "        y=plot[ctype]['mm']['nodes'],\n",
    "        name=ctype, marker_color=palette[n], legendgroup=n\n",
    "    ), row=2, col=1)\n",
    "    fig.add_trace(go.Scatter(\n",
    "        x=pvrange,\n",
    "        y=plot[ctype]['mm']['edges'],\n",
    "        name=ctype, marker_color=palette[n], legendgroup=n\n",
    "    ), row=2, col=2)\n",
    "\n",
    "for n,ctype in enumerate(ctypes2):\n",
    "    fig.add_trace(go.Scatter(\n",
    "        x=pvrange,\n",
    "        y=plot[ctype]['qm']['nodes'],\n",
    "        name=ctype, marker_color=palette[n], legendgroup=n\n",
    "    ), row=3, col=1)\n",
    "    fig.add_trace(go.Scatter(\n",
    "        x=pvrange,\n",
    "        y=plot[ctype]['qm']['edges'],\n",
    "        name=ctype, marker_color=palette[n], legendgroup=n\n",
    "    ), row=3, col=2)\n",
    "\n",
    "fig.update_layout(title='Number of nodes and edges per correlation type', width=1000, height=700)\n",
    "fig.show()\n",
    "\n",
    "with open(file, 'a') as f:\n",
    "    f.write(fig.to_html(full_html=False, include_plotlyjs='cdn', default_height='50%', default_width='80%'))\n"
   ]
  },
  {
   "attachments": {},
   "cell_type": "markdown",
   "metadata": {},
   "source": [
    "Construcción de grafo usando Graphical Lasso y rCCA con FDR <0.05"
   ]
  },
  {
   "cell_type": "code",
   "execution_count": null,
   "metadata": {},
   "outputs": [],
   "source": [
    "# Checkpoint\n",
    "qqc,qqp,qqg,mmc,mmp,mmg,qmc,qmp,qmg = pickle.load(open('sourceData.pkl', 'rb'))"
   ]
  },
  {
   "cell_type": "code",
   "execution_count": 22,
   "metadata": {},
   "outputs": [],
   "source": [
    "pv = 0.1\n",
    "\n",
    "qqc = corr.rpc.qq.dc.copy()\n",
    "qqp = adpv.rpc.qq.dc.copy()\n",
    "qqg = nx.from_pandas_adjacency(qqc[qqp<=pv].fillna(0))\n",
    "\n",
    "mmc = corr.rpc.mm.dc.copy()\n",
    "mmp = adpv.rpc.mm.dc.copy()\n",
    "mmg = nx.from_pandas_adjacency(mmc[mmp<=pv].fillna(0))\n",
    "\n",
    "qmc = corr.rcca.qm.dc.copy()\n",
    "qmp = adpv.rcca.qm.dc.copy()\n",
    "qmg = qmc[qmp<pv].fillna(0)\n",
    "qmg = pd.concat([\n",
    "    pd.DataFrame(columns=qmg.index, index=qmg.index).fillna(0).join(qmg),\n",
    "    qmg.T.join(pd.DataFrame(columns=qmg.columns, index=qmg.columns).fillna(0))\n",
    "])\n",
    "qmg.index, qmg.columns = [i.replace('.', '-') for i in qmg.index], [i.replace('.', '-') for i in qmg.columns]\n",
    "qmg = nx.from_pandas_adjacency(qmg)"
   ]
  },
  {
   "cell_type": "code",
   "execution_count": 23,
   "metadata": {},
   "outputs": [],
   "source": [
    "# Checkpoint\n",
    "pickle.dump([qqc,qqp,qqg,mmc,mmp,mmg,qmc,qmp,qmg], open('sourceData.pkl', 'wb'))"
   ]
  },
  {
   "cell_type": "code",
   "execution_count": 24,
   "metadata": {},
   "outputs": [],
   "source": [
    "#\n",
    "# Generate random graphs\n",
    "#\n",
    "n = 100\n",
    "\n",
    "qqA = [nx.gnm_random_graph(qqg.order(), qqg.size(), seed=i) for i in range(n)]\n",
    "mmA = [nx.gnm_random_graph(mmg.order(), mmg.size(), seed=i) for i in range(n)]"
   ]
  },
  {
   "cell_type": "code",
   "execution_count": 29,
   "metadata": {},
   "outputs": [
    {
     "name": "stdout",
     "output_type": "stream",
     "text": [
      "\n",
      "Proteomics\n",
      "\n",
      "Order: 500\n",
      "Size: 0\n",
      "Density: 0\n",
      "Average clustering: 0.0 (random graph: mean = 0.0, std = 0.0)\n",
      "Average degree: 0.0\n",
      "Number of connected components: 500 (random graph: mean = 500.0, std = 0.0)\n",
      "Number of connected components (order g.t. 1): 0 (random graph: mean = 0.0, std = 0.0)\n",
      "\n",
      "Metabolomics\n",
      "\n",
      "Order: 500\n",
      "Size: 0\n",
      "Density: 0\n",
      "Average clustering: 0.0 (random graph: mean = 0.0, std = 0.0)\n",
      "Average degree: 0.0\n",
      "Number of connected components: 500 (random graph: mean = 500.0, std = 0.0)\n",
      "Number of connected components (order g.t. 1): 0 (random graph: mean = 0.0, std = 0.0)\n"
     ]
    },
    {
     "data": {
      "application/vnd.plotly.v1+json": {
       "config": {
        "plotlyServerURL": "https://plot.ly"
       },
       "data": [
        {
         "marker": {
          "color": "#636EFA"
         },
         "offsetgroup": "1",
         "type": "bar",
         "x": [
          0
         ],
         "xaxis": "x",
         "y": [
          500
         ],
         "yaxis": "y"
        },
        {
         "marker": {
          "color": "black"
         },
         "offsetgroup": "1",
         "opacity": 0.2,
         "type": "bar",
         "x": [
          0
         ],
         "xaxis": "x",
         "y": [
          500
         ],
         "yaxis": "y"
        },
        {
         "marker": {
          "color": "#EF553B"
         },
         "offsetgroup": "1",
         "type": "bar",
         "x": [
          0
         ],
         "xaxis": "x2",
         "y": [
          500
         ],
         "yaxis": "y2"
        },
        {
         "marker": {
          "color": "black"
         },
         "offsetgroup": "1",
         "opacity": 0.2,
         "type": "bar",
         "x": [
          0
         ],
         "xaxis": "x2",
         "y": [
          500
         ],
         "yaxis": "y2"
        }
       ],
       "layout": {
        "annotations": [
         {
          "font": {
           "size": 16
          },
          "showarrow": false,
          "text": "Proteomics",
          "x": 0.225,
          "xanchor": "center",
          "xref": "paper",
          "y": 1,
          "yanchor": "bottom",
          "yref": "paper"
         },
         {
          "font": {
           "size": 16
          },
          "showarrow": false,
          "text": "Metabolomics",
          "x": 0.775,
          "xanchor": "center",
          "xref": "paper",
          "y": 1,
          "yanchor": "bottom",
          "yref": "paper"
         }
        ],
        "bargap": 0.2,
        "showlegend": false,
        "template": {
         "data": {
          "bar": [
           {
            "error_x": {
             "color": "#2a3f5f"
            },
            "error_y": {
             "color": "#2a3f5f"
            },
            "marker": {
             "line": {
              "color": "#E5ECF6",
              "width": 0.5
             },
             "pattern": {
              "fillmode": "overlay",
              "size": 10,
              "solidity": 0.2
             }
            },
            "type": "bar"
           }
          ],
          "barpolar": [
           {
            "marker": {
             "line": {
              "color": "#E5ECF6",
              "width": 0.5
             },
             "pattern": {
              "fillmode": "overlay",
              "size": 10,
              "solidity": 0.2
             }
            },
            "type": "barpolar"
           }
          ],
          "carpet": [
           {
            "aaxis": {
             "endlinecolor": "#2a3f5f",
             "gridcolor": "white",
             "linecolor": "white",
             "minorgridcolor": "white",
             "startlinecolor": "#2a3f5f"
            },
            "baxis": {
             "endlinecolor": "#2a3f5f",
             "gridcolor": "white",
             "linecolor": "white",
             "minorgridcolor": "white",
             "startlinecolor": "#2a3f5f"
            },
            "type": "carpet"
           }
          ],
          "choropleth": [
           {
            "colorbar": {
             "outlinewidth": 0,
             "ticks": ""
            },
            "type": "choropleth"
           }
          ],
          "contour": [
           {
            "colorbar": {
             "outlinewidth": 0,
             "ticks": ""
            },
            "colorscale": [
             [
              0,
              "#0d0887"
             ],
             [
              0.1111111111111111,
              "#46039f"
             ],
             [
              0.2222222222222222,
              "#7201a8"
             ],
             [
              0.3333333333333333,
              "#9c179e"
             ],
             [
              0.4444444444444444,
              "#bd3786"
             ],
             [
              0.5555555555555556,
              "#d8576b"
             ],
             [
              0.6666666666666666,
              "#ed7953"
             ],
             [
              0.7777777777777778,
              "#fb9f3a"
             ],
             [
              0.8888888888888888,
              "#fdca26"
             ],
             [
              1,
              "#f0f921"
             ]
            ],
            "type": "contour"
           }
          ],
          "contourcarpet": [
           {
            "colorbar": {
             "outlinewidth": 0,
             "ticks": ""
            },
            "type": "contourcarpet"
           }
          ],
          "heatmap": [
           {
            "colorbar": {
             "outlinewidth": 0,
             "ticks": ""
            },
            "colorscale": [
             [
              0,
              "#0d0887"
             ],
             [
              0.1111111111111111,
              "#46039f"
             ],
             [
              0.2222222222222222,
              "#7201a8"
             ],
             [
              0.3333333333333333,
              "#9c179e"
             ],
             [
              0.4444444444444444,
              "#bd3786"
             ],
             [
              0.5555555555555556,
              "#d8576b"
             ],
             [
              0.6666666666666666,
              "#ed7953"
             ],
             [
              0.7777777777777778,
              "#fb9f3a"
             ],
             [
              0.8888888888888888,
              "#fdca26"
             ],
             [
              1,
              "#f0f921"
             ]
            ],
            "type": "heatmap"
           }
          ],
          "heatmapgl": [
           {
            "colorbar": {
             "outlinewidth": 0,
             "ticks": ""
            },
            "colorscale": [
             [
              0,
              "#0d0887"
             ],
             [
              0.1111111111111111,
              "#46039f"
             ],
             [
              0.2222222222222222,
              "#7201a8"
             ],
             [
              0.3333333333333333,
              "#9c179e"
             ],
             [
              0.4444444444444444,
              "#bd3786"
             ],
             [
              0.5555555555555556,
              "#d8576b"
             ],
             [
              0.6666666666666666,
              "#ed7953"
             ],
             [
              0.7777777777777778,
              "#fb9f3a"
             ],
             [
              0.8888888888888888,
              "#fdca26"
             ],
             [
              1,
              "#f0f921"
             ]
            ],
            "type": "heatmapgl"
           }
          ],
          "histogram": [
           {
            "marker": {
             "pattern": {
              "fillmode": "overlay",
              "size": 10,
              "solidity": 0.2
             }
            },
            "type": "histogram"
           }
          ],
          "histogram2d": [
           {
            "colorbar": {
             "outlinewidth": 0,
             "ticks": ""
            },
            "colorscale": [
             [
              0,
              "#0d0887"
             ],
             [
              0.1111111111111111,
              "#46039f"
             ],
             [
              0.2222222222222222,
              "#7201a8"
             ],
             [
              0.3333333333333333,
              "#9c179e"
             ],
             [
              0.4444444444444444,
              "#bd3786"
             ],
             [
              0.5555555555555556,
              "#d8576b"
             ],
             [
              0.6666666666666666,
              "#ed7953"
             ],
             [
              0.7777777777777778,
              "#fb9f3a"
             ],
             [
              0.8888888888888888,
              "#fdca26"
             ],
             [
              1,
              "#f0f921"
             ]
            ],
            "type": "histogram2d"
           }
          ],
          "histogram2dcontour": [
           {
            "colorbar": {
             "outlinewidth": 0,
             "ticks": ""
            },
            "colorscale": [
             [
              0,
              "#0d0887"
             ],
             [
              0.1111111111111111,
              "#46039f"
             ],
             [
              0.2222222222222222,
              "#7201a8"
             ],
             [
              0.3333333333333333,
              "#9c179e"
             ],
             [
              0.4444444444444444,
              "#bd3786"
             ],
             [
              0.5555555555555556,
              "#d8576b"
             ],
             [
              0.6666666666666666,
              "#ed7953"
             ],
             [
              0.7777777777777778,
              "#fb9f3a"
             ],
             [
              0.8888888888888888,
              "#fdca26"
             ],
             [
              1,
              "#f0f921"
             ]
            ],
            "type": "histogram2dcontour"
           }
          ],
          "mesh3d": [
           {
            "colorbar": {
             "outlinewidth": 0,
             "ticks": ""
            },
            "type": "mesh3d"
           }
          ],
          "parcoords": [
           {
            "line": {
             "colorbar": {
              "outlinewidth": 0,
              "ticks": ""
             }
            },
            "type": "parcoords"
           }
          ],
          "pie": [
           {
            "automargin": true,
            "type": "pie"
           }
          ],
          "scatter": [
           {
            "fillpattern": {
             "fillmode": "overlay",
             "size": 10,
             "solidity": 0.2
            },
            "type": "scatter"
           }
          ],
          "scatter3d": [
           {
            "line": {
             "colorbar": {
              "outlinewidth": 0,
              "ticks": ""
             }
            },
            "marker": {
             "colorbar": {
              "outlinewidth": 0,
              "ticks": ""
             }
            },
            "type": "scatter3d"
           }
          ],
          "scattercarpet": [
           {
            "marker": {
             "colorbar": {
              "outlinewidth": 0,
              "ticks": ""
             }
            },
            "type": "scattercarpet"
           }
          ],
          "scattergeo": [
           {
            "marker": {
             "colorbar": {
              "outlinewidth": 0,
              "ticks": ""
             }
            },
            "type": "scattergeo"
           }
          ],
          "scattergl": [
           {
            "marker": {
             "colorbar": {
              "outlinewidth": 0,
              "ticks": ""
             }
            },
            "type": "scattergl"
           }
          ],
          "scattermapbox": [
           {
            "marker": {
             "colorbar": {
              "outlinewidth": 0,
              "ticks": ""
             }
            },
            "type": "scattermapbox"
           }
          ],
          "scatterpolar": [
           {
            "marker": {
             "colorbar": {
              "outlinewidth": 0,
              "ticks": ""
             }
            },
            "type": "scatterpolar"
           }
          ],
          "scatterpolargl": [
           {
            "marker": {
             "colorbar": {
              "outlinewidth": 0,
              "ticks": ""
             }
            },
            "type": "scatterpolargl"
           }
          ],
          "scatterternary": [
           {
            "marker": {
             "colorbar": {
              "outlinewidth": 0,
              "ticks": ""
             }
            },
            "type": "scatterternary"
           }
          ],
          "surface": [
           {
            "colorbar": {
             "outlinewidth": 0,
             "ticks": ""
            },
            "colorscale": [
             [
              0,
              "#0d0887"
             ],
             [
              0.1111111111111111,
              "#46039f"
             ],
             [
              0.2222222222222222,
              "#7201a8"
             ],
             [
              0.3333333333333333,
              "#9c179e"
             ],
             [
              0.4444444444444444,
              "#bd3786"
             ],
             [
              0.5555555555555556,
              "#d8576b"
             ],
             [
              0.6666666666666666,
              "#ed7953"
             ],
             [
              0.7777777777777778,
              "#fb9f3a"
             ],
             [
              0.8888888888888888,
              "#fdca26"
             ],
             [
              1,
              "#f0f921"
             ]
            ],
            "type": "surface"
           }
          ],
          "table": [
           {
            "cells": {
             "fill": {
              "color": "#EBF0F8"
             },
             "line": {
              "color": "white"
             }
            },
            "header": {
             "fill": {
              "color": "#C8D4E3"
             },
             "line": {
              "color": "white"
             }
            },
            "type": "table"
           }
          ]
         },
         "layout": {
          "annotationdefaults": {
           "arrowcolor": "#2a3f5f",
           "arrowhead": 0,
           "arrowwidth": 1
          },
          "autotypenumbers": "strict",
          "coloraxis": {
           "colorbar": {
            "outlinewidth": 0,
            "ticks": ""
           }
          },
          "colorscale": {
           "diverging": [
            [
             0,
             "#8e0152"
            ],
            [
             0.1,
             "#c51b7d"
            ],
            [
             0.2,
             "#de77ae"
            ],
            [
             0.3,
             "#f1b6da"
            ],
            [
             0.4,
             "#fde0ef"
            ],
            [
             0.5,
             "#f7f7f7"
            ],
            [
             0.6,
             "#e6f5d0"
            ],
            [
             0.7,
             "#b8e186"
            ],
            [
             0.8,
             "#7fbc41"
            ],
            [
             0.9,
             "#4d9221"
            ],
            [
             1,
             "#276419"
            ]
           ],
           "sequential": [
            [
             0,
             "#0d0887"
            ],
            [
             0.1111111111111111,
             "#46039f"
            ],
            [
             0.2222222222222222,
             "#7201a8"
            ],
            [
             0.3333333333333333,
             "#9c179e"
            ],
            [
             0.4444444444444444,
             "#bd3786"
            ],
            [
             0.5555555555555556,
             "#d8576b"
            ],
            [
             0.6666666666666666,
             "#ed7953"
            ],
            [
             0.7777777777777778,
             "#fb9f3a"
            ],
            [
             0.8888888888888888,
             "#fdca26"
            ],
            [
             1,
             "#f0f921"
            ]
           ],
           "sequentialminus": [
            [
             0,
             "#0d0887"
            ],
            [
             0.1111111111111111,
             "#46039f"
            ],
            [
             0.2222222222222222,
             "#7201a8"
            ],
            [
             0.3333333333333333,
             "#9c179e"
            ],
            [
             0.4444444444444444,
             "#bd3786"
            ],
            [
             0.5555555555555556,
             "#d8576b"
            ],
            [
             0.6666666666666666,
             "#ed7953"
            ],
            [
             0.7777777777777778,
             "#fb9f3a"
            ],
            [
             0.8888888888888888,
             "#fdca26"
            ],
            [
             1,
             "#f0f921"
            ]
           ]
          },
          "colorway": [
           "#636efa",
           "#EF553B",
           "#00cc96",
           "#ab63fa",
           "#FFA15A",
           "#19d3f3",
           "#FF6692",
           "#B6E880",
           "#FF97FF",
           "#FECB52"
          ],
          "font": {
           "color": "#2a3f5f"
          },
          "geo": {
           "bgcolor": "white",
           "lakecolor": "white",
           "landcolor": "#E5ECF6",
           "showlakes": true,
           "showland": true,
           "subunitcolor": "white"
          },
          "hoverlabel": {
           "align": "left"
          },
          "hovermode": "closest",
          "mapbox": {
           "style": "light"
          },
          "paper_bgcolor": "white",
          "plot_bgcolor": "#E5ECF6",
          "polar": {
           "angularaxis": {
            "gridcolor": "white",
            "linecolor": "white",
            "ticks": ""
           },
           "bgcolor": "#E5ECF6",
           "radialaxis": {
            "gridcolor": "white",
            "linecolor": "white",
            "ticks": ""
           }
          },
          "scene": {
           "xaxis": {
            "backgroundcolor": "#E5ECF6",
            "gridcolor": "white",
            "gridwidth": 2,
            "linecolor": "white",
            "showbackground": true,
            "ticks": "",
            "zerolinecolor": "white"
           },
           "yaxis": {
            "backgroundcolor": "#E5ECF6",
            "gridcolor": "white",
            "gridwidth": 2,
            "linecolor": "white",
            "showbackground": true,
            "ticks": "",
            "zerolinecolor": "white"
           },
           "zaxis": {
            "backgroundcolor": "#E5ECF6",
            "gridcolor": "white",
            "gridwidth": 2,
            "linecolor": "white",
            "showbackground": true,
            "ticks": "",
            "zerolinecolor": "white"
           }
          },
          "shapedefaults": {
           "line": {
            "color": "#2a3f5f"
           }
          },
          "ternary": {
           "aaxis": {
            "gridcolor": "white",
            "linecolor": "white",
            "ticks": ""
           },
           "baxis": {
            "gridcolor": "white",
            "linecolor": "white",
            "ticks": ""
           },
           "bgcolor": "#E5ECF6",
           "caxis": {
            "gridcolor": "white",
            "linecolor": "white",
            "ticks": ""
           }
          },
          "title": {
           "x": 0.05
          },
          "xaxis": {
           "automargin": true,
           "gridcolor": "white",
           "linecolor": "white",
           "ticks": "",
           "title": {
            "standoff": 15
           },
           "zerolinecolor": "white",
           "zerolinewidth": 2
          },
          "yaxis": {
           "automargin": true,
           "gridcolor": "white",
           "linecolor": "white",
           "ticks": "",
           "title": {
            "standoff": 15
           },
           "zerolinecolor": "white",
           "zerolinewidth": 2
          }
         }
        },
        "title": {
         "text": "Degree Distribution"
        },
        "xaxis": {
         "anchor": "y",
         "domain": [
          0,
          0.45
         ]
        },
        "xaxis2": {
         "anchor": "y2",
         "domain": [
          0.55,
          1
         ]
        },
        "yaxis": {
         "anchor": "x",
         "domain": [
          0,
          1
         ]
        },
        "yaxis2": {
         "anchor": "x2",
         "domain": [
          0,
          1
         ]
        }
       }
      }
     },
     "metadata": {},
     "output_type": "display_data"
    }
   ],
   "source": [
    "#\n",
    "# Basic graph characteristics\n",
    "#\n",
    "\n",
    "G = qqg\n",
    "GA = qqA\n",
    "\n",
    "for G, GA, name in [(qqg, qqA, 'Proteomics'), (mmg, mmA, 'Metabolomics')]:\n",
    "\n",
    "    print()\n",
    "    print(name)\n",
    "    print()\n",
    "\n",
    "    print(f'Order: {G.order()}')\n",
    "    print(f'Size: {G.size()}')\n",
    "    print(f'Density: {round(nx.density(G), 5)}')\n",
    "\n",
    "    i = [nx.average_clustering(i) for i in GA]\n",
    "    print(f'Average clustering: {round(nx.average_clustering(G), 5)} (random graph: mean = {round(np.mean(i),5)}, std = {round(np.std(i),5)})')\n",
    "    print(f'Average degree: {round(np.mean(list(dict(G.degree).values())),5)}')\n",
    "\n",
    "    i = [len(list(nx.connected_components(i))) for i in GA]\n",
    "    print(f'Number of connected components: {round(len(list(nx.connected_components(G))), 5)} (random graph: mean = {round(np.mean(i), 5)}, std = {round(np.std(i), 5)})')\n",
    "\n",
    "    i = [len([i for i in nx.connected_components(g) if len(i)>1]) for g in GA]\n",
    "    print(f'Number of connected components (order g.t. 1): {round(len([i for i in nx.connected_components(G) if len(i)>1]), 5)} (random graph: mean = {round(np.mean(i),5)}, std = {round(np.std(i),5)})')\n",
    "\n",
    "fig = make_subplots(rows=1, cols=2, subplot_titles=['Proteomics', 'Metabolomics'])\n",
    "\n",
    "plot = nx.degree_histogram(qqg)\n",
    "fig.add_trace(go.Bar(\n",
    "    x=np.arange(0,len(plot)),\n",
    "    y=plot,\n",
    "    offsetgroup=1, marker_color=palette[0]\n",
    "), row=1,col=1)\n",
    "fig.add_trace(go.Bar(\n",
    "    x=np.arange(0,len(plot)),\n",
    "    y=G.order()*poisson.pmf(np.arange(0, len(plot)),2*G.size()/G.order()),\n",
    "    offsetgroup=1, marker_color='black', opacity=0.2\n",
    "), row=1,col=1)\n",
    "\n",
    "\n",
    "plot = nx.degree_histogram(mmg)\n",
    "fig.add_trace(go.Bar(\n",
    "    x=np.arange(0,len(plot)),\n",
    "    y=plot, \n",
    "    offsetgroup=1, marker_color=palette[1]\n",
    "), row=1,col=2)\n",
    "fig.add_trace(go.Bar(\n",
    "    x=np.arange(0,len(plot)),\n",
    "    y=G.order()*poisson.pmf(np.arange(0, len(plot)),2*G.size()/G.order()),\n",
    "    offsetgroup=1, marker_color='black', opacity=0.2\n",
    "), row=1,col=2)\n",
    "\n",
    "fig.update_layout(bargap=0.2, title='Degree Distribution', showlegend=False)"
   ]
  },
  {
   "cell_type": "code",
   "execution_count": 30,
   "metadata": {},
   "outputs": [
    {
     "data": {
      "application/vnd.plotly.v1+json": {
       "config": {
        "plotlyServerURL": "https://plot.ly"
       },
       "data": [
        {
         "text": [
          500
         ],
         "textposition": "auto",
         "type": "bar",
         "width": 0.5,
         "x": [
          "1"
         ],
         "xaxis": "x",
         "y": [
          500
         ],
         "yaxis": "y"
        },
        {
         "text": [
          500
         ],
         "textposition": "auto",
         "type": "bar",
         "width": 0.5,
         "x": [
          "1"
         ],
         "xaxis": "x2",
         "y": [
          500
         ],
         "yaxis": "y2"
        }
       ],
       "layout": {
        "annotations": [
         {
          "font": {
           "size": 16
          },
          "showarrow": false,
          "text": "Proteomics",
          "x": 0.225,
          "xanchor": "center",
          "xref": "paper",
          "y": 1,
          "yanchor": "bottom",
          "yref": "paper"
         },
         {
          "font": {
           "size": 16
          },
          "showarrow": false,
          "text": "Metabolomics",
          "x": 0.775,
          "xanchor": "center",
          "xref": "paper",
          "y": 1,
          "yanchor": "bottom",
          "yref": "paper"
         }
        ],
        "bargap": 1,
        "showlegend": false,
        "template": {
         "data": {
          "bar": [
           {
            "error_x": {
             "color": "#2a3f5f"
            },
            "error_y": {
             "color": "#2a3f5f"
            },
            "marker": {
             "line": {
              "color": "#E5ECF6",
              "width": 0.5
             },
             "pattern": {
              "fillmode": "overlay",
              "size": 10,
              "solidity": 0.2
             }
            },
            "type": "bar"
           }
          ],
          "barpolar": [
           {
            "marker": {
             "line": {
              "color": "#E5ECF6",
              "width": 0.5
             },
             "pattern": {
              "fillmode": "overlay",
              "size": 10,
              "solidity": 0.2
             }
            },
            "type": "barpolar"
           }
          ],
          "carpet": [
           {
            "aaxis": {
             "endlinecolor": "#2a3f5f",
             "gridcolor": "white",
             "linecolor": "white",
             "minorgridcolor": "white",
             "startlinecolor": "#2a3f5f"
            },
            "baxis": {
             "endlinecolor": "#2a3f5f",
             "gridcolor": "white",
             "linecolor": "white",
             "minorgridcolor": "white",
             "startlinecolor": "#2a3f5f"
            },
            "type": "carpet"
           }
          ],
          "choropleth": [
           {
            "colorbar": {
             "outlinewidth": 0,
             "ticks": ""
            },
            "type": "choropleth"
           }
          ],
          "contour": [
           {
            "colorbar": {
             "outlinewidth": 0,
             "ticks": ""
            },
            "colorscale": [
             [
              0,
              "#0d0887"
             ],
             [
              0.1111111111111111,
              "#46039f"
             ],
             [
              0.2222222222222222,
              "#7201a8"
             ],
             [
              0.3333333333333333,
              "#9c179e"
             ],
             [
              0.4444444444444444,
              "#bd3786"
             ],
             [
              0.5555555555555556,
              "#d8576b"
             ],
             [
              0.6666666666666666,
              "#ed7953"
             ],
             [
              0.7777777777777778,
              "#fb9f3a"
             ],
             [
              0.8888888888888888,
              "#fdca26"
             ],
             [
              1,
              "#f0f921"
             ]
            ],
            "type": "contour"
           }
          ],
          "contourcarpet": [
           {
            "colorbar": {
             "outlinewidth": 0,
             "ticks": ""
            },
            "type": "contourcarpet"
           }
          ],
          "heatmap": [
           {
            "colorbar": {
             "outlinewidth": 0,
             "ticks": ""
            },
            "colorscale": [
             [
              0,
              "#0d0887"
             ],
             [
              0.1111111111111111,
              "#46039f"
             ],
             [
              0.2222222222222222,
              "#7201a8"
             ],
             [
              0.3333333333333333,
              "#9c179e"
             ],
             [
              0.4444444444444444,
              "#bd3786"
             ],
             [
              0.5555555555555556,
              "#d8576b"
             ],
             [
              0.6666666666666666,
              "#ed7953"
             ],
             [
              0.7777777777777778,
              "#fb9f3a"
             ],
             [
              0.8888888888888888,
              "#fdca26"
             ],
             [
              1,
              "#f0f921"
             ]
            ],
            "type": "heatmap"
           }
          ],
          "heatmapgl": [
           {
            "colorbar": {
             "outlinewidth": 0,
             "ticks": ""
            },
            "colorscale": [
             [
              0,
              "#0d0887"
             ],
             [
              0.1111111111111111,
              "#46039f"
             ],
             [
              0.2222222222222222,
              "#7201a8"
             ],
             [
              0.3333333333333333,
              "#9c179e"
             ],
             [
              0.4444444444444444,
              "#bd3786"
             ],
             [
              0.5555555555555556,
              "#d8576b"
             ],
             [
              0.6666666666666666,
              "#ed7953"
             ],
             [
              0.7777777777777778,
              "#fb9f3a"
             ],
             [
              0.8888888888888888,
              "#fdca26"
             ],
             [
              1,
              "#f0f921"
             ]
            ],
            "type": "heatmapgl"
           }
          ],
          "histogram": [
           {
            "marker": {
             "pattern": {
              "fillmode": "overlay",
              "size": 10,
              "solidity": 0.2
             }
            },
            "type": "histogram"
           }
          ],
          "histogram2d": [
           {
            "colorbar": {
             "outlinewidth": 0,
             "ticks": ""
            },
            "colorscale": [
             [
              0,
              "#0d0887"
             ],
             [
              0.1111111111111111,
              "#46039f"
             ],
             [
              0.2222222222222222,
              "#7201a8"
             ],
             [
              0.3333333333333333,
              "#9c179e"
             ],
             [
              0.4444444444444444,
              "#bd3786"
             ],
             [
              0.5555555555555556,
              "#d8576b"
             ],
             [
              0.6666666666666666,
              "#ed7953"
             ],
             [
              0.7777777777777778,
              "#fb9f3a"
             ],
             [
              0.8888888888888888,
              "#fdca26"
             ],
             [
              1,
              "#f0f921"
             ]
            ],
            "type": "histogram2d"
           }
          ],
          "histogram2dcontour": [
           {
            "colorbar": {
             "outlinewidth": 0,
             "ticks": ""
            },
            "colorscale": [
             [
              0,
              "#0d0887"
             ],
             [
              0.1111111111111111,
              "#46039f"
             ],
             [
              0.2222222222222222,
              "#7201a8"
             ],
             [
              0.3333333333333333,
              "#9c179e"
             ],
             [
              0.4444444444444444,
              "#bd3786"
             ],
             [
              0.5555555555555556,
              "#d8576b"
             ],
             [
              0.6666666666666666,
              "#ed7953"
             ],
             [
              0.7777777777777778,
              "#fb9f3a"
             ],
             [
              0.8888888888888888,
              "#fdca26"
             ],
             [
              1,
              "#f0f921"
             ]
            ],
            "type": "histogram2dcontour"
           }
          ],
          "mesh3d": [
           {
            "colorbar": {
             "outlinewidth": 0,
             "ticks": ""
            },
            "type": "mesh3d"
           }
          ],
          "parcoords": [
           {
            "line": {
             "colorbar": {
              "outlinewidth": 0,
              "ticks": ""
             }
            },
            "type": "parcoords"
           }
          ],
          "pie": [
           {
            "automargin": true,
            "type": "pie"
           }
          ],
          "scatter": [
           {
            "fillpattern": {
             "fillmode": "overlay",
             "size": 10,
             "solidity": 0.2
            },
            "type": "scatter"
           }
          ],
          "scatter3d": [
           {
            "line": {
             "colorbar": {
              "outlinewidth": 0,
              "ticks": ""
             }
            },
            "marker": {
             "colorbar": {
              "outlinewidth": 0,
              "ticks": ""
             }
            },
            "type": "scatter3d"
           }
          ],
          "scattercarpet": [
           {
            "marker": {
             "colorbar": {
              "outlinewidth": 0,
              "ticks": ""
             }
            },
            "type": "scattercarpet"
           }
          ],
          "scattergeo": [
           {
            "marker": {
             "colorbar": {
              "outlinewidth": 0,
              "ticks": ""
             }
            },
            "type": "scattergeo"
           }
          ],
          "scattergl": [
           {
            "marker": {
             "colorbar": {
              "outlinewidth": 0,
              "ticks": ""
             }
            },
            "type": "scattergl"
           }
          ],
          "scattermapbox": [
           {
            "marker": {
             "colorbar": {
              "outlinewidth": 0,
              "ticks": ""
             }
            },
            "type": "scattermapbox"
           }
          ],
          "scatterpolar": [
           {
            "marker": {
             "colorbar": {
              "outlinewidth": 0,
              "ticks": ""
             }
            },
            "type": "scatterpolar"
           }
          ],
          "scatterpolargl": [
           {
            "marker": {
             "colorbar": {
              "outlinewidth": 0,
              "ticks": ""
             }
            },
            "type": "scatterpolargl"
           }
          ],
          "scatterternary": [
           {
            "marker": {
             "colorbar": {
              "outlinewidth": 0,
              "ticks": ""
             }
            },
            "type": "scatterternary"
           }
          ],
          "surface": [
           {
            "colorbar": {
             "outlinewidth": 0,
             "ticks": ""
            },
            "colorscale": [
             [
              0,
              "#0d0887"
             ],
             [
              0.1111111111111111,
              "#46039f"
             ],
             [
              0.2222222222222222,
              "#7201a8"
             ],
             [
              0.3333333333333333,
              "#9c179e"
             ],
             [
              0.4444444444444444,
              "#bd3786"
             ],
             [
              0.5555555555555556,
              "#d8576b"
             ],
             [
              0.6666666666666666,
              "#ed7953"
             ],
             [
              0.7777777777777778,
              "#fb9f3a"
             ],
             [
              0.8888888888888888,
              "#fdca26"
             ],
             [
              1,
              "#f0f921"
             ]
            ],
            "type": "surface"
           }
          ],
          "table": [
           {
            "cells": {
             "fill": {
              "color": "#EBF0F8"
             },
             "line": {
              "color": "white"
             }
            },
            "header": {
             "fill": {
              "color": "#C8D4E3"
             },
             "line": {
              "color": "white"
             }
            },
            "type": "table"
           }
          ]
         },
         "layout": {
          "annotationdefaults": {
           "arrowcolor": "#2a3f5f",
           "arrowhead": 0,
           "arrowwidth": 1
          },
          "autotypenumbers": "strict",
          "coloraxis": {
           "colorbar": {
            "outlinewidth": 0,
            "ticks": ""
           }
          },
          "colorscale": {
           "diverging": [
            [
             0,
             "#8e0152"
            ],
            [
             0.1,
             "#c51b7d"
            ],
            [
             0.2,
             "#de77ae"
            ],
            [
             0.3,
             "#f1b6da"
            ],
            [
             0.4,
             "#fde0ef"
            ],
            [
             0.5,
             "#f7f7f7"
            ],
            [
             0.6,
             "#e6f5d0"
            ],
            [
             0.7,
             "#b8e186"
            ],
            [
             0.8,
             "#7fbc41"
            ],
            [
             0.9,
             "#4d9221"
            ],
            [
             1,
             "#276419"
            ]
           ],
           "sequential": [
            [
             0,
             "#0d0887"
            ],
            [
             0.1111111111111111,
             "#46039f"
            ],
            [
             0.2222222222222222,
             "#7201a8"
            ],
            [
             0.3333333333333333,
             "#9c179e"
            ],
            [
             0.4444444444444444,
             "#bd3786"
            ],
            [
             0.5555555555555556,
             "#d8576b"
            ],
            [
             0.6666666666666666,
             "#ed7953"
            ],
            [
             0.7777777777777778,
             "#fb9f3a"
            ],
            [
             0.8888888888888888,
             "#fdca26"
            ],
            [
             1,
             "#f0f921"
            ]
           ],
           "sequentialminus": [
            [
             0,
             "#0d0887"
            ],
            [
             0.1111111111111111,
             "#46039f"
            ],
            [
             0.2222222222222222,
             "#7201a8"
            ],
            [
             0.3333333333333333,
             "#9c179e"
            ],
            [
             0.4444444444444444,
             "#bd3786"
            ],
            [
             0.5555555555555556,
             "#d8576b"
            ],
            [
             0.6666666666666666,
             "#ed7953"
            ],
            [
             0.7777777777777778,
             "#fb9f3a"
            ],
            [
             0.8888888888888888,
             "#fdca26"
            ],
            [
             1,
             "#f0f921"
            ]
           ]
          },
          "colorway": [
           "#636efa",
           "#EF553B",
           "#00cc96",
           "#ab63fa",
           "#FFA15A",
           "#19d3f3",
           "#FF6692",
           "#B6E880",
           "#FF97FF",
           "#FECB52"
          ],
          "font": {
           "color": "#2a3f5f"
          },
          "geo": {
           "bgcolor": "white",
           "lakecolor": "white",
           "landcolor": "#E5ECF6",
           "showlakes": true,
           "showland": true,
           "subunitcolor": "white"
          },
          "hoverlabel": {
           "align": "left"
          },
          "hovermode": "closest",
          "mapbox": {
           "style": "light"
          },
          "paper_bgcolor": "white",
          "plot_bgcolor": "#E5ECF6",
          "polar": {
           "angularaxis": {
            "gridcolor": "white",
            "linecolor": "white",
            "ticks": ""
           },
           "bgcolor": "#E5ECF6",
           "radialaxis": {
            "gridcolor": "white",
            "linecolor": "white",
            "ticks": ""
           }
          },
          "scene": {
           "xaxis": {
            "backgroundcolor": "#E5ECF6",
            "gridcolor": "white",
            "gridwidth": 2,
            "linecolor": "white",
            "showbackground": true,
            "ticks": "",
            "zerolinecolor": "white"
           },
           "yaxis": {
            "backgroundcolor": "#E5ECF6",
            "gridcolor": "white",
            "gridwidth": 2,
            "linecolor": "white",
            "showbackground": true,
            "ticks": "",
            "zerolinecolor": "white"
           },
           "zaxis": {
            "backgroundcolor": "#E5ECF6",
            "gridcolor": "white",
            "gridwidth": 2,
            "linecolor": "white",
            "showbackground": true,
            "ticks": "",
            "zerolinecolor": "white"
           }
          },
          "shapedefaults": {
           "line": {
            "color": "#2a3f5f"
           }
          },
          "ternary": {
           "aaxis": {
            "gridcolor": "white",
            "linecolor": "white",
            "ticks": ""
           },
           "baxis": {
            "gridcolor": "white",
            "linecolor": "white",
            "ticks": ""
           },
           "bgcolor": "#E5ECF6",
           "caxis": {
            "gridcolor": "white",
            "linecolor": "white",
            "ticks": ""
           }
          },
          "title": {
           "x": 0.05
          },
          "xaxis": {
           "automargin": true,
           "gridcolor": "white",
           "linecolor": "white",
           "ticks": "",
           "title": {
            "standoff": 15
           },
           "zerolinecolor": "white",
           "zerolinewidth": 2
          },
          "yaxis": {
           "automargin": true,
           "gridcolor": "white",
           "linecolor": "white",
           "ticks": "",
           "title": {
            "standoff": 15
           },
           "zerolinecolor": "white",
           "zerolinewidth": 2
          }
         }
        },
        "title": {
         "text": "Number of connected components with different order"
        },
        "xaxis": {
         "anchor": "y",
         "domain": [
          0,
          0.45
         ]
        },
        "xaxis2": {
         "anchor": "y2",
         "domain": [
          0.55,
          1
         ]
        },
        "yaxis": {
         "anchor": "x",
         "domain": [
          0,
          1
         ]
        },
        "yaxis2": {
         "anchor": "x2",
         "domain": [
          0,
          1
         ]
        }
       }
      }
     },
     "metadata": {},
     "output_type": "display_data"
    }
   ],
   "source": [
    "#\n",
    "# Number of connected components with different sizes\n",
    "#\n",
    "\n",
    "G = mmg\n",
    "\n",
    "fig = make_subplots(rows=1, cols=2, subplot_titles=['Proteomics', 'Metabolomics'])#go.Figure()\n",
    "for n,G in enumerate([qqg, mmg]):\n",
    "    plot = pd.Series([len(i) for i in nx.connected_components(G)]).value_counts().sort_index()\n",
    "    fig.add_trace(go.Bar(\n",
    "        x = [str(i) for i in plot.index],\n",
    "        y = plot.values,\n",
    "        width=0.5,\n",
    "        text=plot.values, textposition='auto', \n",
    "    ), row=1, col=n+1)\n",
    "\n",
    "fig.update_layout(bargap=1)\n",
    "fig.update_layout(title=f'Number of connected components with different order', showlegend=False)\n",
    "fig.show()"
   ]
  },
  {
   "cell_type": "code",
   "execution_count": 31,
   "metadata": {},
   "outputs": [
    {
     "data": {
      "application/vnd.plotly.v1+json": {
       "config": {
        "plotlyServerURL": "https://plot.ly"
       },
       "data": [
        {
         "text": [
          500
         ],
         "textposition": "auto",
         "type": "bar",
         "width": 0.5,
         "x": [
          "1"
         ],
         "xaxis": "x",
         "y": [
          500
         ],
         "yaxis": "y"
        },
        {
         "text": [
          500
         ],
         "textposition": "auto",
         "type": "bar",
         "width": 0.5,
         "x": [
          "1"
         ],
         "xaxis": "x2",
         "y": [
          500
         ],
         "yaxis": "y2"
        }
       ],
       "layout": {
        "annotations": [
         {
          "font": {
           "size": 16
          },
          "showarrow": false,
          "text": "Proteomics",
          "x": 0.225,
          "xanchor": "center",
          "xref": "paper",
          "y": 1,
          "yanchor": "bottom",
          "yref": "paper"
         },
         {
          "font": {
           "size": 16
          },
          "showarrow": false,
          "text": "Metabolomics",
          "x": 0.775,
          "xanchor": "center",
          "xref": "paper",
          "y": 1,
          "yanchor": "bottom",
          "yref": "paper"
         }
        ],
        "bargap": 1,
        "showlegend": false,
        "template": {
         "data": {
          "bar": [
           {
            "error_x": {
             "color": "#2a3f5f"
            },
            "error_y": {
             "color": "#2a3f5f"
            },
            "marker": {
             "line": {
              "color": "#E5ECF6",
              "width": 0.5
             },
             "pattern": {
              "fillmode": "overlay",
              "size": 10,
              "solidity": 0.2
             }
            },
            "type": "bar"
           }
          ],
          "barpolar": [
           {
            "marker": {
             "line": {
              "color": "#E5ECF6",
              "width": 0.5
             },
             "pattern": {
              "fillmode": "overlay",
              "size": 10,
              "solidity": 0.2
             }
            },
            "type": "barpolar"
           }
          ],
          "carpet": [
           {
            "aaxis": {
             "endlinecolor": "#2a3f5f",
             "gridcolor": "white",
             "linecolor": "white",
             "minorgridcolor": "white",
             "startlinecolor": "#2a3f5f"
            },
            "baxis": {
             "endlinecolor": "#2a3f5f",
             "gridcolor": "white",
             "linecolor": "white",
             "minorgridcolor": "white",
             "startlinecolor": "#2a3f5f"
            },
            "type": "carpet"
           }
          ],
          "choropleth": [
           {
            "colorbar": {
             "outlinewidth": 0,
             "ticks": ""
            },
            "type": "choropleth"
           }
          ],
          "contour": [
           {
            "colorbar": {
             "outlinewidth": 0,
             "ticks": ""
            },
            "colorscale": [
             [
              0,
              "#0d0887"
             ],
             [
              0.1111111111111111,
              "#46039f"
             ],
             [
              0.2222222222222222,
              "#7201a8"
             ],
             [
              0.3333333333333333,
              "#9c179e"
             ],
             [
              0.4444444444444444,
              "#bd3786"
             ],
             [
              0.5555555555555556,
              "#d8576b"
             ],
             [
              0.6666666666666666,
              "#ed7953"
             ],
             [
              0.7777777777777778,
              "#fb9f3a"
             ],
             [
              0.8888888888888888,
              "#fdca26"
             ],
             [
              1,
              "#f0f921"
             ]
            ],
            "type": "contour"
           }
          ],
          "contourcarpet": [
           {
            "colorbar": {
             "outlinewidth": 0,
             "ticks": ""
            },
            "type": "contourcarpet"
           }
          ],
          "heatmap": [
           {
            "colorbar": {
             "outlinewidth": 0,
             "ticks": ""
            },
            "colorscale": [
             [
              0,
              "#0d0887"
             ],
             [
              0.1111111111111111,
              "#46039f"
             ],
             [
              0.2222222222222222,
              "#7201a8"
             ],
             [
              0.3333333333333333,
              "#9c179e"
             ],
             [
              0.4444444444444444,
              "#bd3786"
             ],
             [
              0.5555555555555556,
              "#d8576b"
             ],
             [
              0.6666666666666666,
              "#ed7953"
             ],
             [
              0.7777777777777778,
              "#fb9f3a"
             ],
             [
              0.8888888888888888,
              "#fdca26"
             ],
             [
              1,
              "#f0f921"
             ]
            ],
            "type": "heatmap"
           }
          ],
          "heatmapgl": [
           {
            "colorbar": {
             "outlinewidth": 0,
             "ticks": ""
            },
            "colorscale": [
             [
              0,
              "#0d0887"
             ],
             [
              0.1111111111111111,
              "#46039f"
             ],
             [
              0.2222222222222222,
              "#7201a8"
             ],
             [
              0.3333333333333333,
              "#9c179e"
             ],
             [
              0.4444444444444444,
              "#bd3786"
             ],
             [
              0.5555555555555556,
              "#d8576b"
             ],
             [
              0.6666666666666666,
              "#ed7953"
             ],
             [
              0.7777777777777778,
              "#fb9f3a"
             ],
             [
              0.8888888888888888,
              "#fdca26"
             ],
             [
              1,
              "#f0f921"
             ]
            ],
            "type": "heatmapgl"
           }
          ],
          "histogram": [
           {
            "marker": {
             "pattern": {
              "fillmode": "overlay",
              "size": 10,
              "solidity": 0.2
             }
            },
            "type": "histogram"
           }
          ],
          "histogram2d": [
           {
            "colorbar": {
             "outlinewidth": 0,
             "ticks": ""
            },
            "colorscale": [
             [
              0,
              "#0d0887"
             ],
             [
              0.1111111111111111,
              "#46039f"
             ],
             [
              0.2222222222222222,
              "#7201a8"
             ],
             [
              0.3333333333333333,
              "#9c179e"
             ],
             [
              0.4444444444444444,
              "#bd3786"
             ],
             [
              0.5555555555555556,
              "#d8576b"
             ],
             [
              0.6666666666666666,
              "#ed7953"
             ],
             [
              0.7777777777777778,
              "#fb9f3a"
             ],
             [
              0.8888888888888888,
              "#fdca26"
             ],
             [
              1,
              "#f0f921"
             ]
            ],
            "type": "histogram2d"
           }
          ],
          "histogram2dcontour": [
           {
            "colorbar": {
             "outlinewidth": 0,
             "ticks": ""
            },
            "colorscale": [
             [
              0,
              "#0d0887"
             ],
             [
              0.1111111111111111,
              "#46039f"
             ],
             [
              0.2222222222222222,
              "#7201a8"
             ],
             [
              0.3333333333333333,
              "#9c179e"
             ],
             [
              0.4444444444444444,
              "#bd3786"
             ],
             [
              0.5555555555555556,
              "#d8576b"
             ],
             [
              0.6666666666666666,
              "#ed7953"
             ],
             [
              0.7777777777777778,
              "#fb9f3a"
             ],
             [
              0.8888888888888888,
              "#fdca26"
             ],
             [
              1,
              "#f0f921"
             ]
            ],
            "type": "histogram2dcontour"
           }
          ],
          "mesh3d": [
           {
            "colorbar": {
             "outlinewidth": 0,
             "ticks": ""
            },
            "type": "mesh3d"
           }
          ],
          "parcoords": [
           {
            "line": {
             "colorbar": {
              "outlinewidth": 0,
              "ticks": ""
             }
            },
            "type": "parcoords"
           }
          ],
          "pie": [
           {
            "automargin": true,
            "type": "pie"
           }
          ],
          "scatter": [
           {
            "fillpattern": {
             "fillmode": "overlay",
             "size": 10,
             "solidity": 0.2
            },
            "type": "scatter"
           }
          ],
          "scatter3d": [
           {
            "line": {
             "colorbar": {
              "outlinewidth": 0,
              "ticks": ""
             }
            },
            "marker": {
             "colorbar": {
              "outlinewidth": 0,
              "ticks": ""
             }
            },
            "type": "scatter3d"
           }
          ],
          "scattercarpet": [
           {
            "marker": {
             "colorbar": {
              "outlinewidth": 0,
              "ticks": ""
             }
            },
            "type": "scattercarpet"
           }
          ],
          "scattergeo": [
           {
            "marker": {
             "colorbar": {
              "outlinewidth": 0,
              "ticks": ""
             }
            },
            "type": "scattergeo"
           }
          ],
          "scattergl": [
           {
            "marker": {
             "colorbar": {
              "outlinewidth": 0,
              "ticks": ""
             }
            },
            "type": "scattergl"
           }
          ],
          "scattermapbox": [
           {
            "marker": {
             "colorbar": {
              "outlinewidth": 0,
              "ticks": ""
             }
            },
            "type": "scattermapbox"
           }
          ],
          "scatterpolar": [
           {
            "marker": {
             "colorbar": {
              "outlinewidth": 0,
              "ticks": ""
             }
            },
            "type": "scatterpolar"
           }
          ],
          "scatterpolargl": [
           {
            "marker": {
             "colorbar": {
              "outlinewidth": 0,
              "ticks": ""
             }
            },
            "type": "scatterpolargl"
           }
          ],
          "scatterternary": [
           {
            "marker": {
             "colorbar": {
              "outlinewidth": 0,
              "ticks": ""
             }
            },
            "type": "scatterternary"
           }
          ],
          "surface": [
           {
            "colorbar": {
             "outlinewidth": 0,
             "ticks": ""
            },
            "colorscale": [
             [
              0,
              "#0d0887"
             ],
             [
              0.1111111111111111,
              "#46039f"
             ],
             [
              0.2222222222222222,
              "#7201a8"
             ],
             [
              0.3333333333333333,
              "#9c179e"
             ],
             [
              0.4444444444444444,
              "#bd3786"
             ],
             [
              0.5555555555555556,
              "#d8576b"
             ],
             [
              0.6666666666666666,
              "#ed7953"
             ],
             [
              0.7777777777777778,
              "#fb9f3a"
             ],
             [
              0.8888888888888888,
              "#fdca26"
             ],
             [
              1,
              "#f0f921"
             ]
            ],
            "type": "surface"
           }
          ],
          "table": [
           {
            "cells": {
             "fill": {
              "color": "#EBF0F8"
             },
             "line": {
              "color": "white"
             }
            },
            "header": {
             "fill": {
              "color": "#C8D4E3"
             },
             "line": {
              "color": "white"
             }
            },
            "type": "table"
           }
          ]
         },
         "layout": {
          "annotationdefaults": {
           "arrowcolor": "#2a3f5f",
           "arrowhead": 0,
           "arrowwidth": 1
          },
          "autotypenumbers": "strict",
          "coloraxis": {
           "colorbar": {
            "outlinewidth": 0,
            "ticks": ""
           }
          },
          "colorscale": {
           "diverging": [
            [
             0,
             "#8e0152"
            ],
            [
             0.1,
             "#c51b7d"
            ],
            [
             0.2,
             "#de77ae"
            ],
            [
             0.3,
             "#f1b6da"
            ],
            [
             0.4,
             "#fde0ef"
            ],
            [
             0.5,
             "#f7f7f7"
            ],
            [
             0.6,
             "#e6f5d0"
            ],
            [
             0.7,
             "#b8e186"
            ],
            [
             0.8,
             "#7fbc41"
            ],
            [
             0.9,
             "#4d9221"
            ],
            [
             1,
             "#276419"
            ]
           ],
           "sequential": [
            [
             0,
             "#0d0887"
            ],
            [
             0.1111111111111111,
             "#46039f"
            ],
            [
             0.2222222222222222,
             "#7201a8"
            ],
            [
             0.3333333333333333,
             "#9c179e"
            ],
            [
             0.4444444444444444,
             "#bd3786"
            ],
            [
             0.5555555555555556,
             "#d8576b"
            ],
            [
             0.6666666666666666,
             "#ed7953"
            ],
            [
             0.7777777777777778,
             "#fb9f3a"
            ],
            [
             0.8888888888888888,
             "#fdca26"
            ],
            [
             1,
             "#f0f921"
            ]
           ],
           "sequentialminus": [
            [
             0,
             "#0d0887"
            ],
            [
             0.1111111111111111,
             "#46039f"
            ],
            [
             0.2222222222222222,
             "#7201a8"
            ],
            [
             0.3333333333333333,
             "#9c179e"
            ],
            [
             0.4444444444444444,
             "#bd3786"
            ],
            [
             0.5555555555555556,
             "#d8576b"
            ],
            [
             0.6666666666666666,
             "#ed7953"
            ],
            [
             0.7777777777777778,
             "#fb9f3a"
            ],
            [
             0.8888888888888888,
             "#fdca26"
            ],
            [
             1,
             "#f0f921"
            ]
           ]
          },
          "colorway": [
           "#636efa",
           "#EF553B",
           "#00cc96",
           "#ab63fa",
           "#FFA15A",
           "#19d3f3",
           "#FF6692",
           "#B6E880",
           "#FF97FF",
           "#FECB52"
          ],
          "font": {
           "color": "#2a3f5f"
          },
          "geo": {
           "bgcolor": "white",
           "lakecolor": "white",
           "landcolor": "#E5ECF6",
           "showlakes": true,
           "showland": true,
           "subunitcolor": "white"
          },
          "hoverlabel": {
           "align": "left"
          },
          "hovermode": "closest",
          "mapbox": {
           "style": "light"
          },
          "paper_bgcolor": "white",
          "plot_bgcolor": "#E5ECF6",
          "polar": {
           "angularaxis": {
            "gridcolor": "white",
            "linecolor": "white",
            "ticks": ""
           },
           "bgcolor": "#E5ECF6",
           "radialaxis": {
            "gridcolor": "white",
            "linecolor": "white",
            "ticks": ""
           }
          },
          "scene": {
           "xaxis": {
            "backgroundcolor": "#E5ECF6",
            "gridcolor": "white",
            "gridwidth": 2,
            "linecolor": "white",
            "showbackground": true,
            "ticks": "",
            "zerolinecolor": "white"
           },
           "yaxis": {
            "backgroundcolor": "#E5ECF6",
            "gridcolor": "white",
            "gridwidth": 2,
            "linecolor": "white",
            "showbackground": true,
            "ticks": "",
            "zerolinecolor": "white"
           },
           "zaxis": {
            "backgroundcolor": "#E5ECF6",
            "gridcolor": "white",
            "gridwidth": 2,
            "linecolor": "white",
            "showbackground": true,
            "ticks": "",
            "zerolinecolor": "white"
           }
          },
          "shapedefaults": {
           "line": {
            "color": "#2a3f5f"
           }
          },
          "ternary": {
           "aaxis": {
            "gridcolor": "white",
            "linecolor": "white",
            "ticks": ""
           },
           "baxis": {
            "gridcolor": "white",
            "linecolor": "white",
            "ticks": ""
           },
           "bgcolor": "#E5ECF6",
           "caxis": {
            "gridcolor": "white",
            "linecolor": "white",
            "ticks": ""
           }
          },
          "title": {
           "x": 0.05
          },
          "xaxis": {
           "automargin": true,
           "gridcolor": "white",
           "linecolor": "white",
           "ticks": "",
           "title": {
            "standoff": 15
           },
           "zerolinecolor": "white",
           "zerolinewidth": 2
          },
          "yaxis": {
           "automargin": true,
           "gridcolor": "white",
           "linecolor": "white",
           "ticks": "",
           "title": {
            "standoff": 15
           },
           "zerolinecolor": "white",
           "zerolinewidth": 2
          }
         }
        },
        "title": {
         "text": "Number of cliques with different order"
        },
        "xaxis": {
         "anchor": "y",
         "domain": [
          0,
          0.45
         ]
        },
        "xaxis2": {
         "anchor": "y2",
         "domain": [
          0.55,
          1
         ]
        },
        "yaxis": {
         "anchor": "x",
         "domain": [
          0,
          1
         ]
        },
        "yaxis2": {
         "anchor": "x2",
         "domain": [
          0,
          1
         ]
        }
       }
      }
     },
     "metadata": {},
     "output_type": "display_data"
    }
   ],
   "source": [
    "#\n",
    "# Number of cliques with diferent orders\n",
    "#\n",
    "\n",
    "fig = make_subplots(rows=1, cols=2, subplot_titles=['Proteomics', 'Metabolomics'])#go.Figure()\n",
    "\n",
    "for n,G in enumerate([qqg, mmg]):\n",
    "    plot = pd.Series([len(i) for i in nx.find_cliques(G)]).value_counts().sort_index()\n",
    "    fig.add_trace(go.Bar(\n",
    "        x = [str(i) for i in plot.index],\n",
    "        y = plot.values,\n",
    "        width=0.5,\n",
    "        text=plot.values, textposition='auto', \n",
    "    ), row=1, col=n+1)\n",
    "\n",
    "    fig.update_layout(bargap=1)\n",
    "fig.update_layout(title=f'Number of cliques with different order', showlegend=False)\n",
    "fig.show()"
   ]
  },
  {
   "cell_type": "code",
   "execution_count": 32,
   "metadata": {},
   "outputs": [],
   "source": [
    "#\n",
    "# Build complete graph adding omic type to each node\n",
    "#\n",
    "\n",
    "g = nx.compose_all([qqg, mmg, qmg])\n",
    "\n",
    "attr = {}\n",
    "_ = [attr.update({i:'q'}) for i in q2i.index]\n",
    "_ = [attr.update({i:'m'}) for i in m2i.index]\n",
    "nx.set_node_attributes(g, attr, 'group')\n",
    "attr = {}\n",
    "_ = [attr.update({i:q2i.loc[i, 'qdesc']}) for i in q2i.index]\n",
    "_ = [attr.update({i:m2i.loc[i, 'TP_ID']}) for i in m2i.index]\n",
    "nx.set_node_attributes(g, attr, 'title')\n",
    "# attr = {}\n",
    "# _ = [attr.update({i:'blue'}) for i in q2i.index]\n",
    "# _ = [attr.update({i:'red'}) for i in m2i.index]\n",
    "# nx.set_node_attributes(g, attr, 'color')"
   ]
  },
  {
   "cell_type": "code",
   "execution_count": 18,
   "metadata": {},
   "outputs": [
    {
     "name": "stdout",
     "output_type": "stream",
     "text": [
      "Q92954 C18N71\n",
      "0.300103283932757\n"
     ]
    },
    {
     "data": {
      "text/plain": [
       "'PE 38:4 // PE 38:4; LMSD{ PE 38:4 } // PE P-38:4(OH); LMSD{ PE O-38:5;O } // PE 36:4; LMSD{ PE 36:4 }'"
      ]
     },
     "execution_count": 18,
     "metadata": {},
     "output_type": "execute_result"
    }
   ],
   "source": [
    "print(corr.rcca.qm.a.index[66], corr.rcca.qm.dc.columns[546])\n",
    "print(corr.rcca.qm.a.loc['Q92954', 'C18N71'])\n",
    "m2i.loc['C18N71', 'TP_ID']"
   ]
  },
  {
   "attachments": {},
   "cell_type": "markdown",
   "metadata": {},
   "source": [
    "OBTAIN CLUSTERS/COMMUNITIES"
   ]
  },
  {
   "cell_type": "code",
   "execution_count": 19,
   "metadata": {},
   "outputs": [],
   "source": [
    "#\n",
    "# Detect communities (clusters) \n",
    "# Louvain & Leiden; Finally we use Leiden\n",
    "\n",
    "# comm = nx_comm.louvain_communities(g, resolution=1, seed=0)"
   ]
  },
  {
   "cell_type": "code",
   "execution_count": 20,
   "metadata": {},
   "outputs": [],
   "source": [
    "# Get clustering consensus \n",
    "\n",
    "import leidenalg\n",
    "import igraph as ig\n",
    "import networkx.algorithms.community as nx_comm\n",
    "\n",
    "G= mmg\n",
    "n = 4\n",
    "thr=10\n",
    "\n",
    "\n",
    "def jaccard(list1, list2):\n",
    "    intersection = len(list(set(list1).intersection(list2)))\n",
    "    union = (len(list1) + len(list2)) - intersection\n",
    "    return float(intersection) / union\n",
    "\n",
    "def get_communities(G, n=5, thr=5):\n",
    "    comm = [\n",
    "        list(i.to_networkx().nodes)\n",
    "        for i in leidenalg.find_partition(\n",
    "                ig.Graph.from_networkx(G), leidenalg.ModularityVertexPartition, \n",
    "                n_iterations=-1, seed=-1\n",
    "            ).subgraphs()\n",
    "    ]\n",
    "\n",
    "    commL = [[i for i in comm if len(i)>thr]]\n",
    "\n",
    "    for i in range(n):\n",
    "        commi = [\n",
    "        list(i.to_networkx().nodes)\n",
    "        for i in leidenalg.find_partition(\n",
    "                ig.Graph.from_networkx(G), leidenalg.ModularityVertexPartition, \n",
    "                n_iterations=-1, seed=i\n",
    "            ).subgraphs()\n",
    "        ] \n",
    "        comm = [\n",
    "        np.intersect1d(j, commi[np.argmax([jaccard(j,k) for k in commi])]) for j in comm\n",
    "        ]\n",
    "\n",
    "        #comm = [j for j in comm if nx.is_connected(G.subgraph(j)) and len(j)>thr]\n",
    "        comm = [list(k) for j in comm for k in nx.connected_components(G.subgraph(j)) if len(k)>thr]\n",
    "        commL.append(comm)\n",
    "        if len(comm)==0: return commL\n",
    "    \n",
    "    return commL\n",
    "\n",
    "\n",
    "#qqcom = get_communities(qqg, n=n, thr=10)\n",
    "#mmcom = get_communities(mmg, n=n, thr=10)"
   ]
  },
  {
   "cell_type": "code",
   "execution_count": 21,
   "metadata": {},
   "outputs": [],
   "source": [
    "#\n",
    "# Apply get_communities function to random graphs so as to estimate \n",
    "# number of iterations n. \n",
    "# We calculate the minimum n at which <1% of random graphs have communities with order >thr\n",
    "# Probability under randomness of obtain a community\n",
    "\n",
    "thr = 10 # Minimum size of a community\n",
    "pvThr = 0.05 # Maximum fraction of random graph with a community greater than thr\n",
    "n = 100\n",
    "\n",
    "commLqq = [get_communities(i, n=n, thr=thr) for i in qqA]\n",
    "commLmm = [get_communities(i, n=n, thr=thr) for i in mmA]"
   ]
  },
  {
   "cell_type": "code",
   "execution_count": 22,
   "metadata": {},
   "outputs": [
    {
     "name": "stdout",
     "output_type": "stream",
     "text": [
      "Protoemics minimum iteration: 4\n",
      "Metabolomics minimum iteration: 6\n"
     ]
    }
   ],
   "source": [
    "# Get fraction of random graph containing communities after x iterations\n",
    "\n",
    "commLqqn = [[len(gA[i]) if len(gA)>i else 0 for i in range(n+1)] for gA in commLqq]\n",
    "commLmmn = [[len(gA[i]) if len(gA)>i else 0 for i in range(n+1)] for gA in commLmm]\n",
    "\n",
    "commLqqn = (np.array(commLqqn)>0).sum(axis=0)/len(qqA)\n",
    "commLmmn = (np.array(commLmmn)>0).sum(axis=0)/len(mmA)\n",
    "\n",
    "pvThr = 0.05\n",
    "qqThr = np.argwhere(commLqqn < pvThr)[0][0]\n",
    "mmThr = np.argwhere(commLmmn < pvThr)[0][0]\n",
    "\n",
    "print(f\"Protoemics minimum iteration: {qqThr+1}\")\n",
    "print(f\"Metabolomics minimum iteration: {mmThr+1}\")"
   ]
  },
  {
   "cell_type": "code",
   "execution_count": 23,
   "metadata": {},
   "outputs": [
    {
     "data": {
      "application/vnd.plotly.v1+json": {
       "config": {
        "plotlyServerURL": "https://plot.ly"
       },
       "data": [
        {
         "mode": "lines+markers",
         "name": "Proteomics",
         "type": "scatter",
         "x": [
          1,
          2,
          3,
          4,
          5,
          6,
          7,
          8,
          9,
          10,
          11,
          12,
          13,
          14,
          15,
          16,
          17,
          18,
          19,
          20,
          21,
          22,
          23,
          24,
          25,
          26,
          27,
          28,
          29,
          30,
          31,
          32,
          33,
          34,
          35,
          36,
          37,
          38,
          39,
          40
         ],
         "y": [
          1,
          1,
          0.49,
          0.04,
          0.01,
          0,
          0,
          0,
          0,
          0,
          0,
          0,
          0,
          0,
          0,
          0,
          0,
          0,
          0,
          0,
          0,
          0,
          0,
          0,
          0,
          0,
          0,
          0,
          0,
          0,
          0,
          0,
          0,
          0,
          0,
          0,
          0,
          0,
          0,
          0
         ]
        },
        {
         "mode": "lines+markers",
         "name": "Metabolomics",
         "type": "scatter",
         "x": [
          1,
          2,
          3,
          4,
          5,
          6,
          7,
          8,
          9,
          10,
          11,
          12,
          13,
          14,
          15,
          16,
          17,
          18,
          19,
          20,
          21,
          22,
          23,
          24,
          25,
          26,
          27,
          28,
          29,
          30,
          31,
          32,
          33,
          34,
          35,
          36,
          37,
          38,
          39,
          40
         ],
         "y": [
          1,
          1,
          0.95,
          0.34,
          0.08,
          0.01,
          0,
          0,
          0,
          0,
          0,
          0,
          0,
          0,
          0,
          0,
          0,
          0,
          0,
          0,
          0,
          0,
          0,
          0,
          0,
          0,
          0,
          0,
          0,
          0,
          0,
          0,
          0,
          0,
          0,
          0,
          0,
          0,
          0,
          0
         ]
        }
       ],
       "layout": {
        "shapes": [
         {
          "line": {
           "color": "black",
           "dash": "dot",
           "width": 1
          },
          "type": "line",
          "x0": 0,
          "x1": 1,
          "xref": "x domain",
          "y0": 0.05,
          "y1": 0.05,
          "yref": "y"
         }
        ],
        "template": {
         "data": {
          "bar": [
           {
            "error_x": {
             "color": "#2a3f5f"
            },
            "error_y": {
             "color": "#2a3f5f"
            },
            "marker": {
             "line": {
              "color": "#E5ECF6",
              "width": 0.5
             },
             "pattern": {
              "fillmode": "overlay",
              "size": 10,
              "solidity": 0.2
             }
            },
            "type": "bar"
           }
          ],
          "barpolar": [
           {
            "marker": {
             "line": {
              "color": "#E5ECF6",
              "width": 0.5
             },
             "pattern": {
              "fillmode": "overlay",
              "size": 10,
              "solidity": 0.2
             }
            },
            "type": "barpolar"
           }
          ],
          "carpet": [
           {
            "aaxis": {
             "endlinecolor": "#2a3f5f",
             "gridcolor": "white",
             "linecolor": "white",
             "minorgridcolor": "white",
             "startlinecolor": "#2a3f5f"
            },
            "baxis": {
             "endlinecolor": "#2a3f5f",
             "gridcolor": "white",
             "linecolor": "white",
             "minorgridcolor": "white",
             "startlinecolor": "#2a3f5f"
            },
            "type": "carpet"
           }
          ],
          "choropleth": [
           {
            "colorbar": {
             "outlinewidth": 0,
             "ticks": ""
            },
            "type": "choropleth"
           }
          ],
          "contour": [
           {
            "colorbar": {
             "outlinewidth": 0,
             "ticks": ""
            },
            "colorscale": [
             [
              0,
              "#0d0887"
             ],
             [
              0.1111111111111111,
              "#46039f"
             ],
             [
              0.2222222222222222,
              "#7201a8"
             ],
             [
              0.3333333333333333,
              "#9c179e"
             ],
             [
              0.4444444444444444,
              "#bd3786"
             ],
             [
              0.5555555555555556,
              "#d8576b"
             ],
             [
              0.6666666666666666,
              "#ed7953"
             ],
             [
              0.7777777777777778,
              "#fb9f3a"
             ],
             [
              0.8888888888888888,
              "#fdca26"
             ],
             [
              1,
              "#f0f921"
             ]
            ],
            "type": "contour"
           }
          ],
          "contourcarpet": [
           {
            "colorbar": {
             "outlinewidth": 0,
             "ticks": ""
            },
            "type": "contourcarpet"
           }
          ],
          "heatmap": [
           {
            "colorbar": {
             "outlinewidth": 0,
             "ticks": ""
            },
            "colorscale": [
             [
              0,
              "#0d0887"
             ],
             [
              0.1111111111111111,
              "#46039f"
             ],
             [
              0.2222222222222222,
              "#7201a8"
             ],
             [
              0.3333333333333333,
              "#9c179e"
             ],
             [
              0.4444444444444444,
              "#bd3786"
             ],
             [
              0.5555555555555556,
              "#d8576b"
             ],
             [
              0.6666666666666666,
              "#ed7953"
             ],
             [
              0.7777777777777778,
              "#fb9f3a"
             ],
             [
              0.8888888888888888,
              "#fdca26"
             ],
             [
              1,
              "#f0f921"
             ]
            ],
            "type": "heatmap"
           }
          ],
          "heatmapgl": [
           {
            "colorbar": {
             "outlinewidth": 0,
             "ticks": ""
            },
            "colorscale": [
             [
              0,
              "#0d0887"
             ],
             [
              0.1111111111111111,
              "#46039f"
             ],
             [
              0.2222222222222222,
              "#7201a8"
             ],
             [
              0.3333333333333333,
              "#9c179e"
             ],
             [
              0.4444444444444444,
              "#bd3786"
             ],
             [
              0.5555555555555556,
              "#d8576b"
             ],
             [
              0.6666666666666666,
              "#ed7953"
             ],
             [
              0.7777777777777778,
              "#fb9f3a"
             ],
             [
              0.8888888888888888,
              "#fdca26"
             ],
             [
              1,
              "#f0f921"
             ]
            ],
            "type": "heatmapgl"
           }
          ],
          "histogram": [
           {
            "marker": {
             "pattern": {
              "fillmode": "overlay",
              "size": 10,
              "solidity": 0.2
             }
            },
            "type": "histogram"
           }
          ],
          "histogram2d": [
           {
            "colorbar": {
             "outlinewidth": 0,
             "ticks": ""
            },
            "colorscale": [
             [
              0,
              "#0d0887"
             ],
             [
              0.1111111111111111,
              "#46039f"
             ],
             [
              0.2222222222222222,
              "#7201a8"
             ],
             [
              0.3333333333333333,
              "#9c179e"
             ],
             [
              0.4444444444444444,
              "#bd3786"
             ],
             [
              0.5555555555555556,
              "#d8576b"
             ],
             [
              0.6666666666666666,
              "#ed7953"
             ],
             [
              0.7777777777777778,
              "#fb9f3a"
             ],
             [
              0.8888888888888888,
              "#fdca26"
             ],
             [
              1,
              "#f0f921"
             ]
            ],
            "type": "histogram2d"
           }
          ],
          "histogram2dcontour": [
           {
            "colorbar": {
             "outlinewidth": 0,
             "ticks": ""
            },
            "colorscale": [
             [
              0,
              "#0d0887"
             ],
             [
              0.1111111111111111,
              "#46039f"
             ],
             [
              0.2222222222222222,
              "#7201a8"
             ],
             [
              0.3333333333333333,
              "#9c179e"
             ],
             [
              0.4444444444444444,
              "#bd3786"
             ],
             [
              0.5555555555555556,
              "#d8576b"
             ],
             [
              0.6666666666666666,
              "#ed7953"
             ],
             [
              0.7777777777777778,
              "#fb9f3a"
             ],
             [
              0.8888888888888888,
              "#fdca26"
             ],
             [
              1,
              "#f0f921"
             ]
            ],
            "type": "histogram2dcontour"
           }
          ],
          "mesh3d": [
           {
            "colorbar": {
             "outlinewidth": 0,
             "ticks": ""
            },
            "type": "mesh3d"
           }
          ],
          "parcoords": [
           {
            "line": {
             "colorbar": {
              "outlinewidth": 0,
              "ticks": ""
             }
            },
            "type": "parcoords"
           }
          ],
          "pie": [
           {
            "automargin": true,
            "type": "pie"
           }
          ],
          "scatter": [
           {
            "fillpattern": {
             "fillmode": "overlay",
             "size": 10,
             "solidity": 0.2
            },
            "type": "scatter"
           }
          ],
          "scatter3d": [
           {
            "line": {
             "colorbar": {
              "outlinewidth": 0,
              "ticks": ""
             }
            },
            "marker": {
             "colorbar": {
              "outlinewidth": 0,
              "ticks": ""
             }
            },
            "type": "scatter3d"
           }
          ],
          "scattercarpet": [
           {
            "marker": {
             "colorbar": {
              "outlinewidth": 0,
              "ticks": ""
             }
            },
            "type": "scattercarpet"
           }
          ],
          "scattergeo": [
           {
            "marker": {
             "colorbar": {
              "outlinewidth": 0,
              "ticks": ""
             }
            },
            "type": "scattergeo"
           }
          ],
          "scattergl": [
           {
            "marker": {
             "colorbar": {
              "outlinewidth": 0,
              "ticks": ""
             }
            },
            "type": "scattergl"
           }
          ],
          "scattermapbox": [
           {
            "marker": {
             "colorbar": {
              "outlinewidth": 0,
              "ticks": ""
             }
            },
            "type": "scattermapbox"
           }
          ],
          "scatterpolar": [
           {
            "marker": {
             "colorbar": {
              "outlinewidth": 0,
              "ticks": ""
             }
            },
            "type": "scatterpolar"
           }
          ],
          "scatterpolargl": [
           {
            "marker": {
             "colorbar": {
              "outlinewidth": 0,
              "ticks": ""
             }
            },
            "type": "scatterpolargl"
           }
          ],
          "scatterternary": [
           {
            "marker": {
             "colorbar": {
              "outlinewidth": 0,
              "ticks": ""
             }
            },
            "type": "scatterternary"
           }
          ],
          "surface": [
           {
            "colorbar": {
             "outlinewidth": 0,
             "ticks": ""
            },
            "colorscale": [
             [
              0,
              "#0d0887"
             ],
             [
              0.1111111111111111,
              "#46039f"
             ],
             [
              0.2222222222222222,
              "#7201a8"
             ],
             [
              0.3333333333333333,
              "#9c179e"
             ],
             [
              0.4444444444444444,
              "#bd3786"
             ],
             [
              0.5555555555555556,
              "#d8576b"
             ],
             [
              0.6666666666666666,
              "#ed7953"
             ],
             [
              0.7777777777777778,
              "#fb9f3a"
             ],
             [
              0.8888888888888888,
              "#fdca26"
             ],
             [
              1,
              "#f0f921"
             ]
            ],
            "type": "surface"
           }
          ],
          "table": [
           {
            "cells": {
             "fill": {
              "color": "#EBF0F8"
             },
             "line": {
              "color": "white"
             }
            },
            "header": {
             "fill": {
              "color": "#C8D4E3"
             },
             "line": {
              "color": "white"
             }
            },
            "type": "table"
           }
          ]
         },
         "layout": {
          "annotationdefaults": {
           "arrowcolor": "#2a3f5f",
           "arrowhead": 0,
           "arrowwidth": 1
          },
          "autotypenumbers": "strict",
          "coloraxis": {
           "colorbar": {
            "outlinewidth": 0,
            "ticks": ""
           }
          },
          "colorscale": {
           "diverging": [
            [
             0,
             "#8e0152"
            ],
            [
             0.1,
             "#c51b7d"
            ],
            [
             0.2,
             "#de77ae"
            ],
            [
             0.3,
             "#f1b6da"
            ],
            [
             0.4,
             "#fde0ef"
            ],
            [
             0.5,
             "#f7f7f7"
            ],
            [
             0.6,
             "#e6f5d0"
            ],
            [
             0.7,
             "#b8e186"
            ],
            [
             0.8,
             "#7fbc41"
            ],
            [
             0.9,
             "#4d9221"
            ],
            [
             1,
             "#276419"
            ]
           ],
           "sequential": [
            [
             0,
             "#0d0887"
            ],
            [
             0.1111111111111111,
             "#46039f"
            ],
            [
             0.2222222222222222,
             "#7201a8"
            ],
            [
             0.3333333333333333,
             "#9c179e"
            ],
            [
             0.4444444444444444,
             "#bd3786"
            ],
            [
             0.5555555555555556,
             "#d8576b"
            ],
            [
             0.6666666666666666,
             "#ed7953"
            ],
            [
             0.7777777777777778,
             "#fb9f3a"
            ],
            [
             0.8888888888888888,
             "#fdca26"
            ],
            [
             1,
             "#f0f921"
            ]
           ],
           "sequentialminus": [
            [
             0,
             "#0d0887"
            ],
            [
             0.1111111111111111,
             "#46039f"
            ],
            [
             0.2222222222222222,
             "#7201a8"
            ],
            [
             0.3333333333333333,
             "#9c179e"
            ],
            [
             0.4444444444444444,
             "#bd3786"
            ],
            [
             0.5555555555555556,
             "#d8576b"
            ],
            [
             0.6666666666666666,
             "#ed7953"
            ],
            [
             0.7777777777777778,
             "#fb9f3a"
            ],
            [
             0.8888888888888888,
             "#fdca26"
            ],
            [
             1,
             "#f0f921"
            ]
           ]
          },
          "colorway": [
           "#636efa",
           "#EF553B",
           "#00cc96",
           "#ab63fa",
           "#FFA15A",
           "#19d3f3",
           "#FF6692",
           "#B6E880",
           "#FF97FF",
           "#FECB52"
          ],
          "font": {
           "color": "#2a3f5f"
          },
          "geo": {
           "bgcolor": "white",
           "lakecolor": "white",
           "landcolor": "#E5ECF6",
           "showlakes": true,
           "showland": true,
           "subunitcolor": "white"
          },
          "hoverlabel": {
           "align": "left"
          },
          "hovermode": "closest",
          "mapbox": {
           "style": "light"
          },
          "paper_bgcolor": "white",
          "plot_bgcolor": "#E5ECF6",
          "polar": {
           "angularaxis": {
            "gridcolor": "white",
            "linecolor": "white",
            "ticks": ""
           },
           "bgcolor": "#E5ECF6",
           "radialaxis": {
            "gridcolor": "white",
            "linecolor": "white",
            "ticks": ""
           }
          },
          "scene": {
           "xaxis": {
            "backgroundcolor": "#E5ECF6",
            "gridcolor": "white",
            "gridwidth": 2,
            "linecolor": "white",
            "showbackground": true,
            "ticks": "",
            "zerolinecolor": "white"
           },
           "yaxis": {
            "backgroundcolor": "#E5ECF6",
            "gridcolor": "white",
            "gridwidth": 2,
            "linecolor": "white",
            "showbackground": true,
            "ticks": "",
            "zerolinecolor": "white"
           },
           "zaxis": {
            "backgroundcolor": "#E5ECF6",
            "gridcolor": "white",
            "gridwidth": 2,
            "linecolor": "white",
            "showbackground": true,
            "ticks": "",
            "zerolinecolor": "white"
           }
          },
          "shapedefaults": {
           "line": {
            "color": "#2a3f5f"
           }
          },
          "ternary": {
           "aaxis": {
            "gridcolor": "white",
            "linecolor": "white",
            "ticks": ""
           },
           "baxis": {
            "gridcolor": "white",
            "linecolor": "white",
            "ticks": ""
           },
           "bgcolor": "#E5ECF6",
           "caxis": {
            "gridcolor": "white",
            "linecolor": "white",
            "ticks": ""
           }
          },
          "title": {
           "x": 0.05
          },
          "xaxis": {
           "automargin": true,
           "gridcolor": "white",
           "linecolor": "white",
           "ticks": "",
           "title": {
            "standoff": 15
           },
           "zerolinecolor": "white",
           "zerolinewidth": 2
          },
          "yaxis": {
           "automargin": true,
           "gridcolor": "white",
           "linecolor": "white",
           "ticks": "",
           "title": {
            "standoff": 15
           },
           "zerolinecolor": "white",
           "zerolinewidth": 2
          }
         }
        },
        "title": {
         "text": "Fraction of Random Networks with communities vs N. Iterations"
        },
        "xaxis": {
         "title": {
          "text": "Iterations"
         }
        },
        "yaxis": {
         "title": {
          "text": "Fraction of Random Networks"
         }
        }
       }
      }
     },
     "metadata": {},
     "output_type": "display_data"
    }
   ],
   "source": [
    "i = 40\n",
    "\n",
    "file = 'Plots/ClusterConsensus.html'\n",
    "if os.path.exists(file):\n",
    "    os.remove(file)\n",
    "\n",
    "\n",
    "fig = go.Figure()\n",
    "fig.add_trace(go.Scatter(\n",
    "    x=np.arange(1, i+1),\n",
    "    y =commLqqn[:i],\n",
    "    mode='lines+markers',\n",
    "    name='Proteomics'\n",
    "))\n",
    "fig.add_trace(go.Scatter(\n",
    "    x=np.arange(1, i+1),\n",
    "    y =commLmmn[:i],\n",
    "    mode='lines+markers',\n",
    "    name='Metabolomics'\n",
    "))\n",
    "fig.add_hline(y=0.05,line_width=1, line_dash=\"dot\", line_color=\"black\")\n",
    "fig.update_layout(title='Fraction of Random Networks with communities vs N. Iterations')\n",
    "fig.update_xaxes(title='Iterations'); fig.update_yaxes(title='Fraction of Random Networks')\n",
    "\n",
    "fig.show()\n",
    "with open(file, 'a') as f:\n",
    "    f.write(fig.to_html(full_html=False, include_plotlyjs='cdn', default_height='50%', default_width='80%'))"
   ]
  },
  {
   "cell_type": "code",
   "execution_count": 24,
   "metadata": {},
   "outputs": [],
   "source": [
    "qqcoms = get_communities(qqg, n=n, thr=thr)\n",
    "mmcoms = get_communities(mmg, n=n, thr=thr)"
   ]
  },
  {
   "cell_type": "code",
   "execution_count": 25,
   "metadata": {},
   "outputs": [
    {
     "data": {
      "application/vnd.plotly.v1+json": {
       "config": {
        "plotlyServerURL": "https://plot.ly"
       },
       "data": [
        {
         "marker": {
          "color": "#636EFA"
         },
         "mode": "lines+markers",
         "name": "Proteomics",
         "type": "scatter",
         "x": [
          1,
          2,
          3,
          4,
          5,
          6,
          7,
          8,
          9,
          10,
          11,
          12,
          13,
          14,
          15,
          16,
          17,
          18,
          19,
          20,
          21,
          22,
          23,
          24,
          25,
          26,
          27,
          28,
          29,
          30,
          31,
          32,
          33,
          34,
          35,
          36,
          37,
          38,
          39,
          40
         ],
         "xaxis": "x",
         "y": [
          6,
          6,
          5,
          5,
          5,
          5,
          5,
          5,
          5,
          5,
          5,
          5,
          5,
          5,
          5,
          4,
          3,
          3,
          3,
          3,
          3,
          3,
          3,
          3,
          3,
          3,
          3,
          3,
          3,
          3,
          3,
          3,
          3,
          3,
          3,
          3,
          3,
          3,
          3,
          3
         ],
         "yaxis": "y"
        },
        {
         "marker": {
          "color": "#EF553B"
         },
         "mode": "lines+markers",
         "name": "Metabolomics",
         "type": "scatter",
         "x": [
          1,
          2,
          3,
          4,
          5,
          6,
          7,
          8,
          9,
          10,
          11,
          12,
          13,
          14,
          15,
          16,
          17,
          18,
          19,
          20,
          21,
          22,
          23,
          24,
          25,
          26,
          27,
          28,
          29,
          30,
          31,
          32,
          33,
          34,
          35,
          36,
          37,
          38,
          39,
          40
         ],
         "xaxis": "x",
         "y": [
          11,
          11,
          11,
          11,
          11,
          11,
          11,
          11,
          11,
          11,
          11,
          11,
          11,
          11,
          11,
          11,
          11,
          11,
          11,
          11,
          11,
          11,
          11,
          11,
          11,
          11,
          11,
          11,
          11,
          11,
          11,
          11,
          11,
          11,
          11,
          11,
          11,
          11,
          11,
          11
         ],
         "yaxis": "y"
        },
        {
         "marker": {
          "color": "#636EFA"
         },
         "mode": "lines+markers",
         "name": "Proteomics",
         "type": "scatter",
         "x": [
          1,
          2,
          3,
          4,
          5,
          6,
          7,
          8,
          9,
          10,
          11,
          12,
          13,
          14,
          15,
          16,
          17,
          18,
          19,
          20,
          21,
          22,
          23,
          24,
          25,
          26,
          27,
          28,
          29,
          30,
          31,
          32,
          33,
          34,
          35,
          36,
          37,
          38,
          39,
          40
         ],
         "xaxis": "x2",
         "y": [
          469,
          374,
          290,
          248,
          229,
          222,
          221,
          221,
          216,
          215,
          177,
          177,
          174,
          174,
          174,
          160,
          147,
          146,
          126,
          125,
          125,
          125,
          125,
          125,
          125,
          125,
          124,
          124,
          123,
          123,
          123,
          120,
          120,
          119,
          119,
          119,
          117,
          117,
          117,
          117
         ],
         "yaxis": "y2"
        },
        {
         "marker": {
          "color": "#EF553B"
         },
         "mode": "lines+markers",
         "name": "Metabolomics",
         "type": "scatter",
         "x": [
          1,
          2,
          3,
          4,
          5,
          6,
          7,
          8,
          9,
          10,
          11,
          12,
          13,
          14,
          15,
          16,
          17,
          18,
          19,
          20,
          21,
          22,
          23,
          24,
          25,
          26,
          27,
          28,
          29,
          30,
          31,
          32,
          33,
          34,
          35,
          36,
          37,
          38,
          39,
          40
         ],
         "xaxis": "x2",
         "y": [
          486,
          486,
          486,
          486,
          486,
          486,
          486,
          486,
          486,
          486,
          486,
          486,
          486,
          486,
          486,
          486,
          486,
          486,
          486,
          486,
          486,
          486,
          486,
          486,
          486,
          486,
          486,
          486,
          486,
          486,
          486,
          486,
          486,
          486,
          486,
          486,
          486,
          486,
          486,
          486
         ],
         "yaxis": "y2"
        }
       ],
       "layout": {
        "annotations": [
         {
          "font": {
           "size": 16
          },
          "showarrow": false,
          "text": "Number of communities",
          "x": 0.225,
          "xanchor": "center",
          "xref": "paper",
          "y": 1,
          "yanchor": "bottom",
          "yref": "paper"
         },
         {
          "font": {
           "size": 16
          },
          "showarrow": false,
          "text": "Number of features",
          "x": 0.775,
          "xanchor": "center",
          "xref": "paper",
          "y": 1,
          "yanchor": "bottom",
          "yref": "paper"
         },
         {
          "showarrow": false,
          "text": "Prot. Thr.",
          "x": 4,
          "xanchor": "left",
          "xref": "x",
          "y": 0,
          "yanchor": "bottom",
          "yref": "y domain"
         },
         {
          "showarrow": false,
          "text": "Prot. Thr.",
          "x": 4,
          "xanchor": "left",
          "xref": "x2",
          "y": 0,
          "yanchor": "bottom",
          "yref": "y2 domain"
         },
         {
          "showarrow": false,
          "text": "Metab. Thr.",
          "x": 6,
          "xanchor": "left",
          "xref": "x",
          "y": 1,
          "yanchor": "top",
          "yref": "y domain"
         },
         {
          "showarrow": false,
          "text": "Metab. Thr.",
          "x": 6,
          "xanchor": "left",
          "xref": "x2",
          "y": 1,
          "yanchor": "top",
          "yref": "y2 domain"
         }
        ],
        "shapes": [
         {
          "line": {
           "color": "black",
           "dash": "dot",
           "width": 1
          },
          "type": "line",
          "x0": 4,
          "x1": 4,
          "xref": "x",
          "y0": 0,
          "y1": 1,
          "yref": "y domain"
         },
         {
          "line": {
           "color": "black",
           "dash": "dot",
           "width": 1
          },
          "type": "line",
          "x0": 4,
          "x1": 4,
          "xref": "x2",
          "y0": 0,
          "y1": 1,
          "yref": "y2 domain"
         },
         {
          "line": {
           "color": "black",
           "dash": "dot",
           "width": 1
          },
          "type": "line",
          "x0": 6,
          "x1": 6,
          "xref": "x",
          "y0": 0,
          "y1": 1,
          "yref": "y domain"
         },
         {
          "line": {
           "color": "black",
           "dash": "dot",
           "width": 1
          },
          "type": "line",
          "x0": 6,
          "x1": 6,
          "xref": "x2",
          "y0": 0,
          "y1": 1,
          "yref": "y2 domain"
         }
        ],
        "template": {
         "data": {
          "bar": [
           {
            "error_x": {
             "color": "#2a3f5f"
            },
            "error_y": {
             "color": "#2a3f5f"
            },
            "marker": {
             "line": {
              "color": "#E5ECF6",
              "width": 0.5
             },
             "pattern": {
              "fillmode": "overlay",
              "size": 10,
              "solidity": 0.2
             }
            },
            "type": "bar"
           }
          ],
          "barpolar": [
           {
            "marker": {
             "line": {
              "color": "#E5ECF6",
              "width": 0.5
             },
             "pattern": {
              "fillmode": "overlay",
              "size": 10,
              "solidity": 0.2
             }
            },
            "type": "barpolar"
           }
          ],
          "carpet": [
           {
            "aaxis": {
             "endlinecolor": "#2a3f5f",
             "gridcolor": "white",
             "linecolor": "white",
             "minorgridcolor": "white",
             "startlinecolor": "#2a3f5f"
            },
            "baxis": {
             "endlinecolor": "#2a3f5f",
             "gridcolor": "white",
             "linecolor": "white",
             "minorgridcolor": "white",
             "startlinecolor": "#2a3f5f"
            },
            "type": "carpet"
           }
          ],
          "choropleth": [
           {
            "colorbar": {
             "outlinewidth": 0,
             "ticks": ""
            },
            "type": "choropleth"
           }
          ],
          "contour": [
           {
            "colorbar": {
             "outlinewidth": 0,
             "ticks": ""
            },
            "colorscale": [
             [
              0,
              "#0d0887"
             ],
             [
              0.1111111111111111,
              "#46039f"
             ],
             [
              0.2222222222222222,
              "#7201a8"
             ],
             [
              0.3333333333333333,
              "#9c179e"
             ],
             [
              0.4444444444444444,
              "#bd3786"
             ],
             [
              0.5555555555555556,
              "#d8576b"
             ],
             [
              0.6666666666666666,
              "#ed7953"
             ],
             [
              0.7777777777777778,
              "#fb9f3a"
             ],
             [
              0.8888888888888888,
              "#fdca26"
             ],
             [
              1,
              "#f0f921"
             ]
            ],
            "type": "contour"
           }
          ],
          "contourcarpet": [
           {
            "colorbar": {
             "outlinewidth": 0,
             "ticks": ""
            },
            "type": "contourcarpet"
           }
          ],
          "heatmap": [
           {
            "colorbar": {
             "outlinewidth": 0,
             "ticks": ""
            },
            "colorscale": [
             [
              0,
              "#0d0887"
             ],
             [
              0.1111111111111111,
              "#46039f"
             ],
             [
              0.2222222222222222,
              "#7201a8"
             ],
             [
              0.3333333333333333,
              "#9c179e"
             ],
             [
              0.4444444444444444,
              "#bd3786"
             ],
             [
              0.5555555555555556,
              "#d8576b"
             ],
             [
              0.6666666666666666,
              "#ed7953"
             ],
             [
              0.7777777777777778,
              "#fb9f3a"
             ],
             [
              0.8888888888888888,
              "#fdca26"
             ],
             [
              1,
              "#f0f921"
             ]
            ],
            "type": "heatmap"
           }
          ],
          "heatmapgl": [
           {
            "colorbar": {
             "outlinewidth": 0,
             "ticks": ""
            },
            "colorscale": [
             [
              0,
              "#0d0887"
             ],
             [
              0.1111111111111111,
              "#46039f"
             ],
             [
              0.2222222222222222,
              "#7201a8"
             ],
             [
              0.3333333333333333,
              "#9c179e"
             ],
             [
              0.4444444444444444,
              "#bd3786"
             ],
             [
              0.5555555555555556,
              "#d8576b"
             ],
             [
              0.6666666666666666,
              "#ed7953"
             ],
             [
              0.7777777777777778,
              "#fb9f3a"
             ],
             [
              0.8888888888888888,
              "#fdca26"
             ],
             [
              1,
              "#f0f921"
             ]
            ],
            "type": "heatmapgl"
           }
          ],
          "histogram": [
           {
            "marker": {
             "pattern": {
              "fillmode": "overlay",
              "size": 10,
              "solidity": 0.2
             }
            },
            "type": "histogram"
           }
          ],
          "histogram2d": [
           {
            "colorbar": {
             "outlinewidth": 0,
             "ticks": ""
            },
            "colorscale": [
             [
              0,
              "#0d0887"
             ],
             [
              0.1111111111111111,
              "#46039f"
             ],
             [
              0.2222222222222222,
              "#7201a8"
             ],
             [
              0.3333333333333333,
              "#9c179e"
             ],
             [
              0.4444444444444444,
              "#bd3786"
             ],
             [
              0.5555555555555556,
              "#d8576b"
             ],
             [
              0.6666666666666666,
              "#ed7953"
             ],
             [
              0.7777777777777778,
              "#fb9f3a"
             ],
             [
              0.8888888888888888,
              "#fdca26"
             ],
             [
              1,
              "#f0f921"
             ]
            ],
            "type": "histogram2d"
           }
          ],
          "histogram2dcontour": [
           {
            "colorbar": {
             "outlinewidth": 0,
             "ticks": ""
            },
            "colorscale": [
             [
              0,
              "#0d0887"
             ],
             [
              0.1111111111111111,
              "#46039f"
             ],
             [
              0.2222222222222222,
              "#7201a8"
             ],
             [
              0.3333333333333333,
              "#9c179e"
             ],
             [
              0.4444444444444444,
              "#bd3786"
             ],
             [
              0.5555555555555556,
              "#d8576b"
             ],
             [
              0.6666666666666666,
              "#ed7953"
             ],
             [
              0.7777777777777778,
              "#fb9f3a"
             ],
             [
              0.8888888888888888,
              "#fdca26"
             ],
             [
              1,
              "#f0f921"
             ]
            ],
            "type": "histogram2dcontour"
           }
          ],
          "mesh3d": [
           {
            "colorbar": {
             "outlinewidth": 0,
             "ticks": ""
            },
            "type": "mesh3d"
           }
          ],
          "parcoords": [
           {
            "line": {
             "colorbar": {
              "outlinewidth": 0,
              "ticks": ""
             }
            },
            "type": "parcoords"
           }
          ],
          "pie": [
           {
            "automargin": true,
            "type": "pie"
           }
          ],
          "scatter": [
           {
            "fillpattern": {
             "fillmode": "overlay",
             "size": 10,
             "solidity": 0.2
            },
            "type": "scatter"
           }
          ],
          "scatter3d": [
           {
            "line": {
             "colorbar": {
              "outlinewidth": 0,
              "ticks": ""
             }
            },
            "marker": {
             "colorbar": {
              "outlinewidth": 0,
              "ticks": ""
             }
            },
            "type": "scatter3d"
           }
          ],
          "scattercarpet": [
           {
            "marker": {
             "colorbar": {
              "outlinewidth": 0,
              "ticks": ""
             }
            },
            "type": "scattercarpet"
           }
          ],
          "scattergeo": [
           {
            "marker": {
             "colorbar": {
              "outlinewidth": 0,
              "ticks": ""
             }
            },
            "type": "scattergeo"
           }
          ],
          "scattergl": [
           {
            "marker": {
             "colorbar": {
              "outlinewidth": 0,
              "ticks": ""
             }
            },
            "type": "scattergl"
           }
          ],
          "scattermapbox": [
           {
            "marker": {
             "colorbar": {
              "outlinewidth": 0,
              "ticks": ""
             }
            },
            "type": "scattermapbox"
           }
          ],
          "scatterpolar": [
           {
            "marker": {
             "colorbar": {
              "outlinewidth": 0,
              "ticks": ""
             }
            },
            "type": "scatterpolar"
           }
          ],
          "scatterpolargl": [
           {
            "marker": {
             "colorbar": {
              "outlinewidth": 0,
              "ticks": ""
             }
            },
            "type": "scatterpolargl"
           }
          ],
          "scatterternary": [
           {
            "marker": {
             "colorbar": {
              "outlinewidth": 0,
              "ticks": ""
             }
            },
            "type": "scatterternary"
           }
          ],
          "surface": [
           {
            "colorbar": {
             "outlinewidth": 0,
             "ticks": ""
            },
            "colorscale": [
             [
              0,
              "#0d0887"
             ],
             [
              0.1111111111111111,
              "#46039f"
             ],
             [
              0.2222222222222222,
              "#7201a8"
             ],
             [
              0.3333333333333333,
              "#9c179e"
             ],
             [
              0.4444444444444444,
              "#bd3786"
             ],
             [
              0.5555555555555556,
              "#d8576b"
             ],
             [
              0.6666666666666666,
              "#ed7953"
             ],
             [
              0.7777777777777778,
              "#fb9f3a"
             ],
             [
              0.8888888888888888,
              "#fdca26"
             ],
             [
              1,
              "#f0f921"
             ]
            ],
            "type": "surface"
           }
          ],
          "table": [
           {
            "cells": {
             "fill": {
              "color": "#EBF0F8"
             },
             "line": {
              "color": "white"
             }
            },
            "header": {
             "fill": {
              "color": "#C8D4E3"
             },
             "line": {
              "color": "white"
             }
            },
            "type": "table"
           }
          ]
         },
         "layout": {
          "annotationdefaults": {
           "arrowcolor": "#2a3f5f",
           "arrowhead": 0,
           "arrowwidth": 1
          },
          "autotypenumbers": "strict",
          "coloraxis": {
           "colorbar": {
            "outlinewidth": 0,
            "ticks": ""
           }
          },
          "colorscale": {
           "diverging": [
            [
             0,
             "#8e0152"
            ],
            [
             0.1,
             "#c51b7d"
            ],
            [
             0.2,
             "#de77ae"
            ],
            [
             0.3,
             "#f1b6da"
            ],
            [
             0.4,
             "#fde0ef"
            ],
            [
             0.5,
             "#f7f7f7"
            ],
            [
             0.6,
             "#e6f5d0"
            ],
            [
             0.7,
             "#b8e186"
            ],
            [
             0.8,
             "#7fbc41"
            ],
            [
             0.9,
             "#4d9221"
            ],
            [
             1,
             "#276419"
            ]
           ],
           "sequential": [
            [
             0,
             "#0d0887"
            ],
            [
             0.1111111111111111,
             "#46039f"
            ],
            [
             0.2222222222222222,
             "#7201a8"
            ],
            [
             0.3333333333333333,
             "#9c179e"
            ],
            [
             0.4444444444444444,
             "#bd3786"
            ],
            [
             0.5555555555555556,
             "#d8576b"
            ],
            [
             0.6666666666666666,
             "#ed7953"
            ],
            [
             0.7777777777777778,
             "#fb9f3a"
            ],
            [
             0.8888888888888888,
             "#fdca26"
            ],
            [
             1,
             "#f0f921"
            ]
           ],
           "sequentialminus": [
            [
             0,
             "#0d0887"
            ],
            [
             0.1111111111111111,
             "#46039f"
            ],
            [
             0.2222222222222222,
             "#7201a8"
            ],
            [
             0.3333333333333333,
             "#9c179e"
            ],
            [
             0.4444444444444444,
             "#bd3786"
            ],
            [
             0.5555555555555556,
             "#d8576b"
            ],
            [
             0.6666666666666666,
             "#ed7953"
            ],
            [
             0.7777777777777778,
             "#fb9f3a"
            ],
            [
             0.8888888888888888,
             "#fdca26"
            ],
            [
             1,
             "#f0f921"
            ]
           ]
          },
          "colorway": [
           "#636efa",
           "#EF553B",
           "#00cc96",
           "#ab63fa",
           "#FFA15A",
           "#19d3f3",
           "#FF6692",
           "#B6E880",
           "#FF97FF",
           "#FECB52"
          ],
          "font": {
           "color": "#2a3f5f"
          },
          "geo": {
           "bgcolor": "white",
           "lakecolor": "white",
           "landcolor": "#E5ECF6",
           "showlakes": true,
           "showland": true,
           "subunitcolor": "white"
          },
          "hoverlabel": {
           "align": "left"
          },
          "hovermode": "closest",
          "mapbox": {
           "style": "light"
          },
          "paper_bgcolor": "white",
          "plot_bgcolor": "#E5ECF6",
          "polar": {
           "angularaxis": {
            "gridcolor": "white",
            "linecolor": "white",
            "ticks": ""
           },
           "bgcolor": "#E5ECF6",
           "radialaxis": {
            "gridcolor": "white",
            "linecolor": "white",
            "ticks": ""
           }
          },
          "scene": {
           "xaxis": {
            "backgroundcolor": "#E5ECF6",
            "gridcolor": "white",
            "gridwidth": 2,
            "linecolor": "white",
            "showbackground": true,
            "ticks": "",
            "zerolinecolor": "white"
           },
           "yaxis": {
            "backgroundcolor": "#E5ECF6",
            "gridcolor": "white",
            "gridwidth": 2,
            "linecolor": "white",
            "showbackground": true,
            "ticks": "",
            "zerolinecolor": "white"
           },
           "zaxis": {
            "backgroundcolor": "#E5ECF6",
            "gridcolor": "white",
            "gridwidth": 2,
            "linecolor": "white",
            "showbackground": true,
            "ticks": "",
            "zerolinecolor": "white"
           }
          },
          "shapedefaults": {
           "line": {
            "color": "#2a3f5f"
           }
          },
          "ternary": {
           "aaxis": {
            "gridcolor": "white",
            "linecolor": "white",
            "ticks": ""
           },
           "baxis": {
            "gridcolor": "white",
            "linecolor": "white",
            "ticks": ""
           },
           "bgcolor": "#E5ECF6",
           "caxis": {
            "gridcolor": "white",
            "linecolor": "white",
            "ticks": ""
           }
          },
          "title": {
           "x": 0.05
          },
          "xaxis": {
           "automargin": true,
           "gridcolor": "white",
           "linecolor": "white",
           "ticks": "",
           "title": {
            "standoff": 15
           },
           "zerolinecolor": "white",
           "zerolinewidth": 2
          },
          "yaxis": {
           "automargin": true,
           "gridcolor": "white",
           "linecolor": "white",
           "ticks": "",
           "title": {
            "standoff": 15
           },
           "zerolinecolor": "white",
           "zerolinewidth": 2
          }
         }
        },
        "xaxis": {
         "anchor": "y",
         "domain": [
          0,
          0.45
         ],
         "title": {
          "text": "Iterations"
         }
        },
        "xaxis2": {
         "anchor": "y2",
         "domain": [
          0.55,
          1
         ],
         "title": {
          "text": "Iterations"
         }
        },
        "yaxis": {
         "anchor": "x",
         "domain": [
          0,
          1
         ]
        },
        "yaxis2": {
         "anchor": "x2",
         "domain": [
          0,
          1
         ]
        }
       }
      }
     },
     "metadata": {},
     "output_type": "display_data"
    }
   ],
   "source": [
    "i = 40\n",
    "\n",
    "\n",
    "fig = make_subplots(rows=1, cols=2, subplot_titles=['Number of communities', 'Number of features'])\n",
    "\n",
    "fig.add_trace(go.Scatter(\n",
    "    x=np.arange(1,i+1),\n",
    "    y=[len(i) for i in qqcoms][:i],\n",
    "    mode='lines+markers',\n",
    "    name='Proteomics', marker_color=palette[0]\n",
    "), col=1, row=1)\n",
    "fig.add_trace(go.Scatter(\n",
    "    x=np.arange(1,i+1),\n",
    "    y=[len(i) for i in mmcoms][:i],\n",
    "    mode='lines+markers',\n",
    "    name='Metabolomics', marker_color=palette[1]\n",
    "), col=1, row=1)\n",
    "\n",
    "fig.add_trace(go.Scatter(\n",
    "    x=np.arange(1,i+1),\n",
    "    y=[sum([len(j) for j in i]) for i in qqcoms][:i],\n",
    "    mode='lines+markers',\n",
    "    name='Proteomics', marker_color=palette[0]\n",
    "), col=2, row=1)\n",
    "fig.add_trace(go.Scatter(\n",
    "    x=np.arange(1,i+1),\n",
    "    y=[sum([len(j) for j in i]) for i in mmcoms][:i],\n",
    "    mode='lines+markers',\n",
    "    name='Metabolomics', marker_color=palette[1]\n",
    "), col=2, row=1)\n",
    "\n",
    "fig.add_vline(x=qqThr+1,line_width=1, line_dash=\"dot\", line_color=\"black\", \n",
    "              annotation_text='Prot. Thr.', annotation_position='bottom right')\n",
    "fig.add_vline(x=mmThr+1,line_width=1, line_dash=\"dot\", line_color=\"black\", \n",
    "              annotation_text='Metab. Thr.', annotation_position='top right')\n",
    "\n",
    "fig.update_xaxes(title='Iterations')\n",
    "\n",
    "fig.show()\n",
    "with open(file, 'a') as f:\n",
    "    f.write(fig.to_html(full_html=False, include_plotlyjs='cdn', default_height='50%', default_width='80%'))"
   ]
  },
  {
   "cell_type": "code",
   "execution_count": 26,
   "metadata": {},
   "outputs": [],
   "source": [
    "qqcom = qqcoms[qqThr]\n",
    "mmcom = mmcoms[mmThr]"
   ]
  },
  {
   "cell_type": "code",
   "execution_count": 44,
   "metadata": {},
   "outputs": [
    {
     "data": {
      "application/vnd.plotly.v1+json": {
       "config": {
        "plotlyServerURL": "https://plot.ly"
       },
       "data": [
        {
         "showlegend": false,
         "type": "bar",
         "width": 0.1,
         "x": [
          "0",
          "1",
          "2",
          "3",
          "4"
         ],
         "xaxis": "x",
         "y": [
          68,
          71,
          58,
          39,
          12
         ],
         "yaxis": "y"
        },
        {
         "showlegend": false,
         "type": "bar",
         "width": 0.2,
         "x": [
          "1",
          "9",
          "10"
         ],
         "xaxis": "x2",
         "y": [
          93,
          11,
          11
         ],
         "yaxis": "y2"
        }
       ],
       "layout": {
        "annotations": [
         {
          "font": {
           "size": 16
          },
          "showarrow": false,
          "text": "Proteomics",
          "x": 0.225,
          "xanchor": "center",
          "xref": "paper",
          "y": 1,
          "yanchor": "bottom",
          "yref": "paper"
         },
         {
          "font": {
           "size": 16
          },
          "showarrow": false,
          "text": "Metabolomics",
          "x": 0.775,
          "xanchor": "center",
          "xref": "paper",
          "y": 1,
          "yanchor": "bottom",
          "yref": "paper"
         }
        ],
        "template": {
         "data": {
          "bar": [
           {
            "error_x": {
             "color": "#2a3f5f"
            },
            "error_y": {
             "color": "#2a3f5f"
            },
            "marker": {
             "line": {
              "color": "#E5ECF6",
              "width": 0.5
             },
             "pattern": {
              "fillmode": "overlay",
              "size": 10,
              "solidity": 0.2
             }
            },
            "type": "bar"
           }
          ],
          "barpolar": [
           {
            "marker": {
             "line": {
              "color": "#E5ECF6",
              "width": 0.5
             },
             "pattern": {
              "fillmode": "overlay",
              "size": 10,
              "solidity": 0.2
             }
            },
            "type": "barpolar"
           }
          ],
          "carpet": [
           {
            "aaxis": {
             "endlinecolor": "#2a3f5f",
             "gridcolor": "white",
             "linecolor": "white",
             "minorgridcolor": "white",
             "startlinecolor": "#2a3f5f"
            },
            "baxis": {
             "endlinecolor": "#2a3f5f",
             "gridcolor": "white",
             "linecolor": "white",
             "minorgridcolor": "white",
             "startlinecolor": "#2a3f5f"
            },
            "type": "carpet"
           }
          ],
          "choropleth": [
           {
            "colorbar": {
             "outlinewidth": 0,
             "ticks": ""
            },
            "type": "choropleth"
           }
          ],
          "contour": [
           {
            "colorbar": {
             "outlinewidth": 0,
             "ticks": ""
            },
            "colorscale": [
             [
              0,
              "#0d0887"
             ],
             [
              0.1111111111111111,
              "#46039f"
             ],
             [
              0.2222222222222222,
              "#7201a8"
             ],
             [
              0.3333333333333333,
              "#9c179e"
             ],
             [
              0.4444444444444444,
              "#bd3786"
             ],
             [
              0.5555555555555556,
              "#d8576b"
             ],
             [
              0.6666666666666666,
              "#ed7953"
             ],
             [
              0.7777777777777778,
              "#fb9f3a"
             ],
             [
              0.8888888888888888,
              "#fdca26"
             ],
             [
              1,
              "#f0f921"
             ]
            ],
            "type": "contour"
           }
          ],
          "contourcarpet": [
           {
            "colorbar": {
             "outlinewidth": 0,
             "ticks": ""
            },
            "type": "contourcarpet"
           }
          ],
          "heatmap": [
           {
            "colorbar": {
             "outlinewidth": 0,
             "ticks": ""
            },
            "colorscale": [
             [
              0,
              "#0d0887"
             ],
             [
              0.1111111111111111,
              "#46039f"
             ],
             [
              0.2222222222222222,
              "#7201a8"
             ],
             [
              0.3333333333333333,
              "#9c179e"
             ],
             [
              0.4444444444444444,
              "#bd3786"
             ],
             [
              0.5555555555555556,
              "#d8576b"
             ],
             [
              0.6666666666666666,
              "#ed7953"
             ],
             [
              0.7777777777777778,
              "#fb9f3a"
             ],
             [
              0.8888888888888888,
              "#fdca26"
             ],
             [
              1,
              "#f0f921"
             ]
            ],
            "type": "heatmap"
           }
          ],
          "heatmapgl": [
           {
            "colorbar": {
             "outlinewidth": 0,
             "ticks": ""
            },
            "colorscale": [
             [
              0,
              "#0d0887"
             ],
             [
              0.1111111111111111,
              "#46039f"
             ],
             [
              0.2222222222222222,
              "#7201a8"
             ],
             [
              0.3333333333333333,
              "#9c179e"
             ],
             [
              0.4444444444444444,
              "#bd3786"
             ],
             [
              0.5555555555555556,
              "#d8576b"
             ],
             [
              0.6666666666666666,
              "#ed7953"
             ],
             [
              0.7777777777777778,
              "#fb9f3a"
             ],
             [
              0.8888888888888888,
              "#fdca26"
             ],
             [
              1,
              "#f0f921"
             ]
            ],
            "type": "heatmapgl"
           }
          ],
          "histogram": [
           {
            "marker": {
             "pattern": {
              "fillmode": "overlay",
              "size": 10,
              "solidity": 0.2
             }
            },
            "type": "histogram"
           }
          ],
          "histogram2d": [
           {
            "colorbar": {
             "outlinewidth": 0,
             "ticks": ""
            },
            "colorscale": [
             [
              0,
              "#0d0887"
             ],
             [
              0.1111111111111111,
              "#46039f"
             ],
             [
              0.2222222222222222,
              "#7201a8"
             ],
             [
              0.3333333333333333,
              "#9c179e"
             ],
             [
              0.4444444444444444,
              "#bd3786"
             ],
             [
              0.5555555555555556,
              "#d8576b"
             ],
             [
              0.6666666666666666,
              "#ed7953"
             ],
             [
              0.7777777777777778,
              "#fb9f3a"
             ],
             [
              0.8888888888888888,
              "#fdca26"
             ],
             [
              1,
              "#f0f921"
             ]
            ],
            "type": "histogram2d"
           }
          ],
          "histogram2dcontour": [
           {
            "colorbar": {
             "outlinewidth": 0,
             "ticks": ""
            },
            "colorscale": [
             [
              0,
              "#0d0887"
             ],
             [
              0.1111111111111111,
              "#46039f"
             ],
             [
              0.2222222222222222,
              "#7201a8"
             ],
             [
              0.3333333333333333,
              "#9c179e"
             ],
             [
              0.4444444444444444,
              "#bd3786"
             ],
             [
              0.5555555555555556,
              "#d8576b"
             ],
             [
              0.6666666666666666,
              "#ed7953"
             ],
             [
              0.7777777777777778,
              "#fb9f3a"
             ],
             [
              0.8888888888888888,
              "#fdca26"
             ],
             [
              1,
              "#f0f921"
             ]
            ],
            "type": "histogram2dcontour"
           }
          ],
          "mesh3d": [
           {
            "colorbar": {
             "outlinewidth": 0,
             "ticks": ""
            },
            "type": "mesh3d"
           }
          ],
          "parcoords": [
           {
            "line": {
             "colorbar": {
              "outlinewidth": 0,
              "ticks": ""
             }
            },
            "type": "parcoords"
           }
          ],
          "pie": [
           {
            "automargin": true,
            "type": "pie"
           }
          ],
          "scatter": [
           {
            "fillpattern": {
             "fillmode": "overlay",
             "size": 10,
             "solidity": 0.2
            },
            "type": "scatter"
           }
          ],
          "scatter3d": [
           {
            "line": {
             "colorbar": {
              "outlinewidth": 0,
              "ticks": ""
             }
            },
            "marker": {
             "colorbar": {
              "outlinewidth": 0,
              "ticks": ""
             }
            },
            "type": "scatter3d"
           }
          ],
          "scattercarpet": [
           {
            "marker": {
             "colorbar": {
              "outlinewidth": 0,
              "ticks": ""
             }
            },
            "type": "scattercarpet"
           }
          ],
          "scattergeo": [
           {
            "marker": {
             "colorbar": {
              "outlinewidth": 0,
              "ticks": ""
             }
            },
            "type": "scattergeo"
           }
          ],
          "scattergl": [
           {
            "marker": {
             "colorbar": {
              "outlinewidth": 0,
              "ticks": ""
             }
            },
            "type": "scattergl"
           }
          ],
          "scattermapbox": [
           {
            "marker": {
             "colorbar": {
              "outlinewidth": 0,
              "ticks": ""
             }
            },
            "type": "scattermapbox"
           }
          ],
          "scatterpolar": [
           {
            "marker": {
             "colorbar": {
              "outlinewidth": 0,
              "ticks": ""
             }
            },
            "type": "scatterpolar"
           }
          ],
          "scatterpolargl": [
           {
            "marker": {
             "colorbar": {
              "outlinewidth": 0,
              "ticks": ""
             }
            },
            "type": "scatterpolargl"
           }
          ],
          "scatterternary": [
           {
            "marker": {
             "colorbar": {
              "outlinewidth": 0,
              "ticks": ""
             }
            },
            "type": "scatterternary"
           }
          ],
          "surface": [
           {
            "colorbar": {
             "outlinewidth": 0,
             "ticks": ""
            },
            "colorscale": [
             [
              0,
              "#0d0887"
             ],
             [
              0.1111111111111111,
              "#46039f"
             ],
             [
              0.2222222222222222,
              "#7201a8"
             ],
             [
              0.3333333333333333,
              "#9c179e"
             ],
             [
              0.4444444444444444,
              "#bd3786"
             ],
             [
              0.5555555555555556,
              "#d8576b"
             ],
             [
              0.6666666666666666,
              "#ed7953"
             ],
             [
              0.7777777777777778,
              "#fb9f3a"
             ],
             [
              0.8888888888888888,
              "#fdca26"
             ],
             [
              1,
              "#f0f921"
             ]
            ],
            "type": "surface"
           }
          ],
          "table": [
           {
            "cells": {
             "fill": {
              "color": "#EBF0F8"
             },
             "line": {
              "color": "white"
             }
            },
            "header": {
             "fill": {
              "color": "#C8D4E3"
             },
             "line": {
              "color": "white"
             }
            },
            "type": "table"
           }
          ]
         },
         "layout": {
          "annotationdefaults": {
           "arrowcolor": "#2a3f5f",
           "arrowhead": 0,
           "arrowwidth": 1
          },
          "autotypenumbers": "strict",
          "coloraxis": {
           "colorbar": {
            "outlinewidth": 0,
            "ticks": ""
           }
          },
          "colorscale": {
           "diverging": [
            [
             0,
             "#8e0152"
            ],
            [
             0.1,
             "#c51b7d"
            ],
            [
             0.2,
             "#de77ae"
            ],
            [
             0.3,
             "#f1b6da"
            ],
            [
             0.4,
             "#fde0ef"
            ],
            [
             0.5,
             "#f7f7f7"
            ],
            [
             0.6,
             "#e6f5d0"
            ],
            [
             0.7,
             "#b8e186"
            ],
            [
             0.8,
             "#7fbc41"
            ],
            [
             0.9,
             "#4d9221"
            ],
            [
             1,
             "#276419"
            ]
           ],
           "sequential": [
            [
             0,
             "#0d0887"
            ],
            [
             0.1111111111111111,
             "#46039f"
            ],
            [
             0.2222222222222222,
             "#7201a8"
            ],
            [
             0.3333333333333333,
             "#9c179e"
            ],
            [
             0.4444444444444444,
             "#bd3786"
            ],
            [
             0.5555555555555556,
             "#d8576b"
            ],
            [
             0.6666666666666666,
             "#ed7953"
            ],
            [
             0.7777777777777778,
             "#fb9f3a"
            ],
            [
             0.8888888888888888,
             "#fdca26"
            ],
            [
             1,
             "#f0f921"
            ]
           ],
           "sequentialminus": [
            [
             0,
             "#0d0887"
            ],
            [
             0.1111111111111111,
             "#46039f"
            ],
            [
             0.2222222222222222,
             "#7201a8"
            ],
            [
             0.3333333333333333,
             "#9c179e"
            ],
            [
             0.4444444444444444,
             "#bd3786"
            ],
            [
             0.5555555555555556,
             "#d8576b"
            ],
            [
             0.6666666666666666,
             "#ed7953"
            ],
            [
             0.7777777777777778,
             "#fb9f3a"
            ],
            [
             0.8888888888888888,
             "#fdca26"
            ],
            [
             1,
             "#f0f921"
            ]
           ]
          },
          "colorway": [
           "#636efa",
           "#EF553B",
           "#00cc96",
           "#ab63fa",
           "#FFA15A",
           "#19d3f3",
           "#FF6692",
           "#B6E880",
           "#FF97FF",
           "#FECB52"
          ],
          "font": {
           "color": "#2a3f5f"
          },
          "geo": {
           "bgcolor": "white",
           "lakecolor": "white",
           "landcolor": "#E5ECF6",
           "showlakes": true,
           "showland": true,
           "subunitcolor": "white"
          },
          "hoverlabel": {
           "align": "left"
          },
          "hovermode": "closest",
          "mapbox": {
           "style": "light"
          },
          "paper_bgcolor": "white",
          "plot_bgcolor": "#E5ECF6",
          "polar": {
           "angularaxis": {
            "gridcolor": "white",
            "linecolor": "white",
            "ticks": ""
           },
           "bgcolor": "#E5ECF6",
           "radialaxis": {
            "gridcolor": "white",
            "linecolor": "white",
            "ticks": ""
           }
          },
          "scene": {
           "xaxis": {
            "backgroundcolor": "#E5ECF6",
            "gridcolor": "white",
            "gridwidth": 2,
            "linecolor": "white",
            "showbackground": true,
            "ticks": "",
            "zerolinecolor": "white"
           },
           "yaxis": {
            "backgroundcolor": "#E5ECF6",
            "gridcolor": "white",
            "gridwidth": 2,
            "linecolor": "white",
            "showbackground": true,
            "ticks": "",
            "zerolinecolor": "white"
           },
           "zaxis": {
            "backgroundcolor": "#E5ECF6",
            "gridcolor": "white",
            "gridwidth": 2,
            "linecolor": "white",
            "showbackground": true,
            "ticks": "",
            "zerolinecolor": "white"
           }
          },
          "shapedefaults": {
           "line": {
            "color": "#2a3f5f"
           }
          },
          "ternary": {
           "aaxis": {
            "gridcolor": "white",
            "linecolor": "white",
            "ticks": ""
           },
           "baxis": {
            "gridcolor": "white",
            "linecolor": "white",
            "ticks": ""
           },
           "bgcolor": "#E5ECF6",
           "caxis": {
            "gridcolor": "white",
            "linecolor": "white",
            "ticks": ""
           }
          },
          "title": {
           "x": 0.05
          },
          "xaxis": {
           "automargin": true,
           "gridcolor": "white",
           "linecolor": "white",
           "ticks": "",
           "title": {
            "standoff": 15
           },
           "zerolinecolor": "white",
           "zerolinewidth": 2
          },
          "yaxis": {
           "automargin": true,
           "gridcolor": "white",
           "linecolor": "white",
           "ticks": "",
           "title": {
            "standoff": 15
           },
           "zerolinecolor": "white",
           "zerolinewidth": 2
          }
         }
        },
        "xaxis": {
         "anchor": "y",
         "domain": [
          0,
          0.45
         ],
         "title": {
          "text": "Cluster"
         }
        },
        "xaxis2": {
         "anchor": "y2",
         "domain": [
          0.55,
          1
         ],
         "title": {
          "text": "Cluster"
         }
        },
        "yaxis": {
         "anchor": "x",
         "domain": [
          0,
          1
         ],
         "title": {
          "text": "N. Features"
         }
        },
        "yaxis2": {
         "anchor": "x2",
         "domain": [
          0,
          1
         ],
         "title": {
          "text": "N. Features"
         }
        }
       }
      }
     },
     "metadata": {},
     "output_type": "display_data"
    }
   ],
   "source": [
    "# Number of features per cluster\n",
    "\n",
    "fig = make_subplots(rows=1, cols=2, subplot_titles=['Proteomics', 'Metabolomics'])\n",
    "fig.add_trace(go.Bar(\n",
    "    x=[str(i) for i in range(len(qqcom))],\n",
    "    y=[len(i) for i in qqcom], width=0.1, showlegend=False\n",
    "), row=1, col=1)\n",
    "\n",
    "mmcl = [1,9,10]\n",
    "fig.add_trace(go.Bar(\n",
    "    x=[str(i) for i in range(len(mmcom)) if i in mmcl],\n",
    "    y=[len(i) for n,i in enumerate(mmcom) if n in mmcl], width=0.2, showlegend=False\n",
    "), row=1, col=2)\n",
    "fig.update_xaxes(title='Cluster')\n",
    "fig.update_yaxes(title='N. Features')\n",
    "\n",
    "fig.show()\n",
    "with open(file, 'a') as f:\n",
    "    f.write(fig.to_html(full_html=False, include_plotlyjs='cdn', default_height='50%', default_width='80%'))"
   ]
  },
  {
   "attachments": {},
   "cell_type": "markdown",
   "metadata": {},
   "source": [
    "Module Eigenvector"
   ]
  },
  {
   "cell_type": "code",
   "execution_count": 28,
   "metadata": {},
   "outputs": [
    {
     "data": {
      "application/vnd.plotly.v1+json": {
       "config": {
        "plotlyServerURL": "https://plot.ly"
       },
       "data": [
        {
         "showlegend": false,
         "type": "bar",
         "width": 0.1,
         "x": [
          "0",
          "1",
          "2",
          "3",
          "4"
         ],
         "xaxis": "x",
         "y": [
          0.2500118044046557,
          0.21323517613170634,
          0.21561312400029328,
          0.24300379520105314,
          0.31846006326267906
         ],
         "yaxis": "y"
        },
        {
         "showlegend": false,
         "type": "bar",
         "width": 0.2,
         "x": [
          "0",
          "1",
          "2",
          "3",
          "4",
          "5",
          "6",
          "7",
          "8",
          "9",
          "10"
         ],
         "xaxis": "x2",
         "y": [
          0.8783669547601012,
          0.7773590130714032,
          0.6326836654221064,
          0.8245399085827548,
          0.8820665613163273,
          0.733662143385815,
          0.8751771540147361,
          0.8703996916351635,
          0.8780691398312584,
          0.8046718133961835,
          0.9098842592283032
         ],
         "yaxis": "y2"
        }
       ],
       "layout": {
        "annotations": [
         {
          "font": {
           "size": 16
          },
          "showarrow": false,
          "text": "Proteomics",
          "x": 0.225,
          "xanchor": "center",
          "xref": "paper",
          "y": 1,
          "yanchor": "bottom",
          "yref": "paper"
         },
         {
          "font": {
           "size": 16
          },
          "showarrow": false,
          "text": "Metabolomics",
          "x": 0.775,
          "xanchor": "center",
          "xref": "paper",
          "y": 1,
          "yanchor": "bottom",
          "yref": "paper"
         }
        ],
        "template": {
         "data": {
          "bar": [
           {
            "error_x": {
             "color": "#2a3f5f"
            },
            "error_y": {
             "color": "#2a3f5f"
            },
            "marker": {
             "line": {
              "color": "#E5ECF6",
              "width": 0.5
             },
             "pattern": {
              "fillmode": "overlay",
              "size": 10,
              "solidity": 0.2
             }
            },
            "type": "bar"
           }
          ],
          "barpolar": [
           {
            "marker": {
             "line": {
              "color": "#E5ECF6",
              "width": 0.5
             },
             "pattern": {
              "fillmode": "overlay",
              "size": 10,
              "solidity": 0.2
             }
            },
            "type": "barpolar"
           }
          ],
          "carpet": [
           {
            "aaxis": {
             "endlinecolor": "#2a3f5f",
             "gridcolor": "white",
             "linecolor": "white",
             "minorgridcolor": "white",
             "startlinecolor": "#2a3f5f"
            },
            "baxis": {
             "endlinecolor": "#2a3f5f",
             "gridcolor": "white",
             "linecolor": "white",
             "minorgridcolor": "white",
             "startlinecolor": "#2a3f5f"
            },
            "type": "carpet"
           }
          ],
          "choropleth": [
           {
            "colorbar": {
             "outlinewidth": 0,
             "ticks": ""
            },
            "type": "choropleth"
           }
          ],
          "contour": [
           {
            "colorbar": {
             "outlinewidth": 0,
             "ticks": ""
            },
            "colorscale": [
             [
              0,
              "#0d0887"
             ],
             [
              0.1111111111111111,
              "#46039f"
             ],
             [
              0.2222222222222222,
              "#7201a8"
             ],
             [
              0.3333333333333333,
              "#9c179e"
             ],
             [
              0.4444444444444444,
              "#bd3786"
             ],
             [
              0.5555555555555556,
              "#d8576b"
             ],
             [
              0.6666666666666666,
              "#ed7953"
             ],
             [
              0.7777777777777778,
              "#fb9f3a"
             ],
             [
              0.8888888888888888,
              "#fdca26"
             ],
             [
              1,
              "#f0f921"
             ]
            ],
            "type": "contour"
           }
          ],
          "contourcarpet": [
           {
            "colorbar": {
             "outlinewidth": 0,
             "ticks": ""
            },
            "type": "contourcarpet"
           }
          ],
          "heatmap": [
           {
            "colorbar": {
             "outlinewidth": 0,
             "ticks": ""
            },
            "colorscale": [
             [
              0,
              "#0d0887"
             ],
             [
              0.1111111111111111,
              "#46039f"
             ],
             [
              0.2222222222222222,
              "#7201a8"
             ],
             [
              0.3333333333333333,
              "#9c179e"
             ],
             [
              0.4444444444444444,
              "#bd3786"
             ],
             [
              0.5555555555555556,
              "#d8576b"
             ],
             [
              0.6666666666666666,
              "#ed7953"
             ],
             [
              0.7777777777777778,
              "#fb9f3a"
             ],
             [
              0.8888888888888888,
              "#fdca26"
             ],
             [
              1,
              "#f0f921"
             ]
            ],
            "type": "heatmap"
           }
          ],
          "heatmapgl": [
           {
            "colorbar": {
             "outlinewidth": 0,
             "ticks": ""
            },
            "colorscale": [
             [
              0,
              "#0d0887"
             ],
             [
              0.1111111111111111,
              "#46039f"
             ],
             [
              0.2222222222222222,
              "#7201a8"
             ],
             [
              0.3333333333333333,
              "#9c179e"
             ],
             [
              0.4444444444444444,
              "#bd3786"
             ],
             [
              0.5555555555555556,
              "#d8576b"
             ],
             [
              0.6666666666666666,
              "#ed7953"
             ],
             [
              0.7777777777777778,
              "#fb9f3a"
             ],
             [
              0.8888888888888888,
              "#fdca26"
             ],
             [
              1,
              "#f0f921"
             ]
            ],
            "type": "heatmapgl"
           }
          ],
          "histogram": [
           {
            "marker": {
             "pattern": {
              "fillmode": "overlay",
              "size": 10,
              "solidity": 0.2
             }
            },
            "type": "histogram"
           }
          ],
          "histogram2d": [
           {
            "colorbar": {
             "outlinewidth": 0,
             "ticks": ""
            },
            "colorscale": [
             [
              0,
              "#0d0887"
             ],
             [
              0.1111111111111111,
              "#46039f"
             ],
             [
              0.2222222222222222,
              "#7201a8"
             ],
             [
              0.3333333333333333,
              "#9c179e"
             ],
             [
              0.4444444444444444,
              "#bd3786"
             ],
             [
              0.5555555555555556,
              "#d8576b"
             ],
             [
              0.6666666666666666,
              "#ed7953"
             ],
             [
              0.7777777777777778,
              "#fb9f3a"
             ],
             [
              0.8888888888888888,
              "#fdca26"
             ],
             [
              1,
              "#f0f921"
             ]
            ],
            "type": "histogram2d"
           }
          ],
          "histogram2dcontour": [
           {
            "colorbar": {
             "outlinewidth": 0,
             "ticks": ""
            },
            "colorscale": [
             [
              0,
              "#0d0887"
             ],
             [
              0.1111111111111111,
              "#46039f"
             ],
             [
              0.2222222222222222,
              "#7201a8"
             ],
             [
              0.3333333333333333,
              "#9c179e"
             ],
             [
              0.4444444444444444,
              "#bd3786"
             ],
             [
              0.5555555555555556,
              "#d8576b"
             ],
             [
              0.6666666666666666,
              "#ed7953"
             ],
             [
              0.7777777777777778,
              "#fb9f3a"
             ],
             [
              0.8888888888888888,
              "#fdca26"
             ],
             [
              1,
              "#f0f921"
             ]
            ],
            "type": "histogram2dcontour"
           }
          ],
          "mesh3d": [
           {
            "colorbar": {
             "outlinewidth": 0,
             "ticks": ""
            },
            "type": "mesh3d"
           }
          ],
          "parcoords": [
           {
            "line": {
             "colorbar": {
              "outlinewidth": 0,
              "ticks": ""
             }
            },
            "type": "parcoords"
           }
          ],
          "pie": [
           {
            "automargin": true,
            "type": "pie"
           }
          ],
          "scatter": [
           {
            "fillpattern": {
             "fillmode": "overlay",
             "size": 10,
             "solidity": 0.2
            },
            "type": "scatter"
           }
          ],
          "scatter3d": [
           {
            "line": {
             "colorbar": {
              "outlinewidth": 0,
              "ticks": ""
             }
            },
            "marker": {
             "colorbar": {
              "outlinewidth": 0,
              "ticks": ""
             }
            },
            "type": "scatter3d"
           }
          ],
          "scattercarpet": [
           {
            "marker": {
             "colorbar": {
              "outlinewidth": 0,
              "ticks": ""
             }
            },
            "type": "scattercarpet"
           }
          ],
          "scattergeo": [
           {
            "marker": {
             "colorbar": {
              "outlinewidth": 0,
              "ticks": ""
             }
            },
            "type": "scattergeo"
           }
          ],
          "scattergl": [
           {
            "marker": {
             "colorbar": {
              "outlinewidth": 0,
              "ticks": ""
             }
            },
            "type": "scattergl"
           }
          ],
          "scattermapbox": [
           {
            "marker": {
             "colorbar": {
              "outlinewidth": 0,
              "ticks": ""
             }
            },
            "type": "scattermapbox"
           }
          ],
          "scatterpolar": [
           {
            "marker": {
             "colorbar": {
              "outlinewidth": 0,
              "ticks": ""
             }
            },
            "type": "scatterpolar"
           }
          ],
          "scatterpolargl": [
           {
            "marker": {
             "colorbar": {
              "outlinewidth": 0,
              "ticks": ""
             }
            },
            "type": "scatterpolargl"
           }
          ],
          "scatterternary": [
           {
            "marker": {
             "colorbar": {
              "outlinewidth": 0,
              "ticks": ""
             }
            },
            "type": "scatterternary"
           }
          ],
          "surface": [
           {
            "colorbar": {
             "outlinewidth": 0,
             "ticks": ""
            },
            "colorscale": [
             [
              0,
              "#0d0887"
             ],
             [
              0.1111111111111111,
              "#46039f"
             ],
             [
              0.2222222222222222,
              "#7201a8"
             ],
             [
              0.3333333333333333,
              "#9c179e"
             ],
             [
              0.4444444444444444,
              "#bd3786"
             ],
             [
              0.5555555555555556,
              "#d8576b"
             ],
             [
              0.6666666666666666,
              "#ed7953"
             ],
             [
              0.7777777777777778,
              "#fb9f3a"
             ],
             [
              0.8888888888888888,
              "#fdca26"
             ],
             [
              1,
              "#f0f921"
             ]
            ],
            "type": "surface"
           }
          ],
          "table": [
           {
            "cells": {
             "fill": {
              "color": "#EBF0F8"
             },
             "line": {
              "color": "white"
             }
            },
            "header": {
             "fill": {
              "color": "#C8D4E3"
             },
             "line": {
              "color": "white"
             }
            },
            "type": "table"
           }
          ]
         },
         "layout": {
          "annotationdefaults": {
           "arrowcolor": "#2a3f5f",
           "arrowhead": 0,
           "arrowwidth": 1
          },
          "autotypenumbers": "strict",
          "coloraxis": {
           "colorbar": {
            "outlinewidth": 0,
            "ticks": ""
           }
          },
          "colorscale": {
           "diverging": [
            [
             0,
             "#8e0152"
            ],
            [
             0.1,
             "#c51b7d"
            ],
            [
             0.2,
             "#de77ae"
            ],
            [
             0.3,
             "#f1b6da"
            ],
            [
             0.4,
             "#fde0ef"
            ],
            [
             0.5,
             "#f7f7f7"
            ],
            [
             0.6,
             "#e6f5d0"
            ],
            [
             0.7,
             "#b8e186"
            ],
            [
             0.8,
             "#7fbc41"
            ],
            [
             0.9,
             "#4d9221"
            ],
            [
             1,
             "#276419"
            ]
           ],
           "sequential": [
            [
             0,
             "#0d0887"
            ],
            [
             0.1111111111111111,
             "#46039f"
            ],
            [
             0.2222222222222222,
             "#7201a8"
            ],
            [
             0.3333333333333333,
             "#9c179e"
            ],
            [
             0.4444444444444444,
             "#bd3786"
            ],
            [
             0.5555555555555556,
             "#d8576b"
            ],
            [
             0.6666666666666666,
             "#ed7953"
            ],
            [
             0.7777777777777778,
             "#fb9f3a"
            ],
            [
             0.8888888888888888,
             "#fdca26"
            ],
            [
             1,
             "#f0f921"
            ]
           ],
           "sequentialminus": [
            [
             0,
             "#0d0887"
            ],
            [
             0.1111111111111111,
             "#46039f"
            ],
            [
             0.2222222222222222,
             "#7201a8"
            ],
            [
             0.3333333333333333,
             "#9c179e"
            ],
            [
             0.4444444444444444,
             "#bd3786"
            ],
            [
             0.5555555555555556,
             "#d8576b"
            ],
            [
             0.6666666666666666,
             "#ed7953"
            ],
            [
             0.7777777777777778,
             "#fb9f3a"
            ],
            [
             0.8888888888888888,
             "#fdca26"
            ],
            [
             1,
             "#f0f921"
            ]
           ]
          },
          "colorway": [
           "#636efa",
           "#EF553B",
           "#00cc96",
           "#ab63fa",
           "#FFA15A",
           "#19d3f3",
           "#FF6692",
           "#B6E880",
           "#FF97FF",
           "#FECB52"
          ],
          "font": {
           "color": "#2a3f5f"
          },
          "geo": {
           "bgcolor": "white",
           "lakecolor": "white",
           "landcolor": "#E5ECF6",
           "showlakes": true,
           "showland": true,
           "subunitcolor": "white"
          },
          "hoverlabel": {
           "align": "left"
          },
          "hovermode": "closest",
          "mapbox": {
           "style": "light"
          },
          "paper_bgcolor": "white",
          "plot_bgcolor": "#E5ECF6",
          "polar": {
           "angularaxis": {
            "gridcolor": "white",
            "linecolor": "white",
            "ticks": ""
           },
           "bgcolor": "#E5ECF6",
           "radialaxis": {
            "gridcolor": "white",
            "linecolor": "white",
            "ticks": ""
           }
          },
          "scene": {
           "xaxis": {
            "backgroundcolor": "#E5ECF6",
            "gridcolor": "white",
            "gridwidth": 2,
            "linecolor": "white",
            "showbackground": true,
            "ticks": "",
            "zerolinecolor": "white"
           },
           "yaxis": {
            "backgroundcolor": "#E5ECF6",
            "gridcolor": "white",
            "gridwidth": 2,
            "linecolor": "white",
            "showbackground": true,
            "ticks": "",
            "zerolinecolor": "white"
           },
           "zaxis": {
            "backgroundcolor": "#E5ECF6",
            "gridcolor": "white",
            "gridwidth": 2,
            "linecolor": "white",
            "showbackground": true,
            "ticks": "",
            "zerolinecolor": "white"
           }
          },
          "shapedefaults": {
           "line": {
            "color": "#2a3f5f"
           }
          },
          "ternary": {
           "aaxis": {
            "gridcolor": "white",
            "linecolor": "white",
            "ticks": ""
           },
           "baxis": {
            "gridcolor": "white",
            "linecolor": "white",
            "ticks": ""
           },
           "bgcolor": "#E5ECF6",
           "caxis": {
            "gridcolor": "white",
            "linecolor": "white",
            "ticks": ""
           }
          },
          "title": {
           "x": 0.05
          },
          "xaxis": {
           "automargin": true,
           "gridcolor": "white",
           "linecolor": "white",
           "ticks": "",
           "title": {
            "standoff": 15
           },
           "zerolinecolor": "white",
           "zerolinewidth": 2
          },
          "yaxis": {
           "automargin": true,
           "gridcolor": "white",
           "linecolor": "white",
           "ticks": "",
           "title": {
            "standoff": 15
           },
           "zerolinecolor": "white",
           "zerolinewidth": 2
          }
         }
        },
        "title": {
         "text": "Ratio of Explained Variance in the 1st PC"
        },
        "xaxis": {
         "anchor": "y",
         "domain": [
          0,
          0.45
         ],
         "title": {
          "text": "Cluster"
         }
        },
        "xaxis2": {
         "anchor": "y2",
         "domain": [
          0.55,
          1
         ],
         "title": {
          "text": "Cluster"
         }
        },
        "yaxis": {
         "anchor": "x",
         "domain": [
          0,
          1
         ],
         "range": [
          0,
          1
         ]
        },
        "yaxis2": {
         "anchor": "x2",
         "domain": [
          0,
          1
         ],
         "range": [
          0,
          1
         ]
        }
       }
      }
     },
     "metadata": {},
     "output_type": "display_data"
    }
   ],
   "source": [
    "from sklearn.decomposition import PCA\n",
    "\n",
    "qqcomPCA = [PCA(n_components=1).fit(xq[com]) for com in qqcom]\n",
    "mmcomPCA = [PCA(n_components=1).fit(xm[com]) for com in mmcom]\n",
    "\n",
    "fig = make_subplots(rows=1, cols=2, subplot_titles=['Proteomics', 'Metabolomics'])\n",
    "fig.add_trace(go.Bar(\n",
    "    x=[str(i) for i in range(len(qqcom))],\n",
    "    y=[qqcomPCA[i].explained_variance_ratio_[0] for i in range(len(qqcom))], \n",
    "    width=0.1, showlegend=False\n",
    "), row=1, col=1)\n",
    "\n",
    "fig.add_trace(go.Bar(\n",
    "    x=[str(i) for i in range(len(mmcom))],\n",
    "    y=[mmcomPCA[i].explained_variance_ratio_[0] for i in range(len(mmcom))], \n",
    "    width=0.2, showlegend=False\n",
    "), row=1, col=2)\n",
    "\n",
    "fig.update_yaxes(range=(0,1))\n",
    "fig.update_xaxes(title='Cluster')\n",
    "fig.update_layout(title='Ratio of Explained Variance in the 1st PC')"
   ]
  },
  {
   "cell_type": "code",
   "execution_count": 29,
   "metadata": {},
   "outputs": [],
   "source": [
    "qqcomE = pd.DataFrame(\n",
    "    np.array([PCA(n_components=1).fit_transform(xq[com])[:,0] for com in qqcom]).T,\n",
    "    index=xq.index\n",
    ")\n",
    "\n",
    "mmcomE = pd.DataFrame(\n",
    "    np.array([PCA(n_components=1).fit_transform(xm[com])[:,0] for com in mmcom]).T,\n",
    "    index=xm.index\n",
    ")"
   ]
  },
  {
   "cell_type": "code",
   "execution_count": 30,
   "metadata": {},
   "outputs": [],
   "source": [
    "from PCA_UMAP import PCA_Var\n",
    "\n",
    "catVars = ['Group', 'Smoke']\n",
    "conVars = ['Calcium_Score', 'HDL', 'LDL', 'Total_Cholesterol','Ox-LDL','Lipoprotein(a)',\n",
    "           'CRP', 'Plaque_thickness','Framingham 10y','Framingham 30y','Systolic Blodd Pressure',\n",
    "           'Diastolic Blood Pressure']\n",
    "\n",
    "qqCP = pd.concat([\n",
    "    PCA_Var(xq[com], mdata, conVars, catVars+['Cohort'], n_comp=1)\n",
    "    for com in qqcom\n",
    "]).reset_index(drop=True).T\n",
    "\n",
    "mmCP = pd.concat([\n",
    "    PCA_Var(xm[com], mdata, conVars, catVars+['Cohort'], n_comp=2).loc[[1]]\n",
    "    for com in mmcom\n",
    "]).reset_index(drop=True).T\n",
    "\n",
    "\n",
    "# Apply FDR B-H correction\n",
    "\n",
    "from statsmodels.stats.multitest import multipletests\n",
    "\n",
    "qqCPF = qqCP.iloc[1:, :].copy().T\n",
    "for i in qqCPF.columns:\n",
    "    qqCPF[i] = multipletests(qqCPF.loc[:,i], method='fdr_bh')[1]\n",
    "\n",
    "mmCPF = mmCP.iloc[1:, :].copy().T\n",
    "for i in mmCPF.columns:\n",
    "    mmCPF[i] = multipletests(mmCPF.loc[:,i], method='fdr_bh')[1]"
   ]
  },
  {
   "cell_type": "code",
   "execution_count": 43,
   "metadata": {},
   "outputs": [
    {
     "data": {
      "text/html": [
       "<div>\n",
       "<style scoped>\n",
       "    .dataframe tbody tr th:only-of-type {\n",
       "        vertical-align: middle;\n",
       "    }\n",
       "\n",
       "    .dataframe tbody tr th {\n",
       "        vertical-align: top;\n",
       "    }\n",
       "\n",
       "    .dataframe thead th {\n",
       "        text-align: right;\n",
       "    }\n",
       "</style>\n",
       "<table border=\"1\" class=\"dataframe\">\n",
       "  <thead>\n",
       "    <tr style=\"text-align: right;\">\n",
       "      <th></th>\n",
       "      <th>0</th>\n",
       "      <th>1</th>\n",
       "      <th>2</th>\n",
       "      <th>3</th>\n",
       "      <th>4</th>\n",
       "      <th>5</th>\n",
       "      <th>6</th>\n",
       "      <th>7</th>\n",
       "      <th>8</th>\n",
       "      <th>9</th>\n",
       "      <th>10</th>\n",
       "    </tr>\n",
       "  </thead>\n",
       "  <tbody>\n",
       "    <tr>\n",
       "      <th>Calcium_Score</th>\n",
       "      <td>0.788801</td>\n",
       "      <td>0.788801</td>\n",
       "      <td>0.788801</td>\n",
       "      <td>0.788801</td>\n",
       "      <td>0.788801</td>\n",
       "      <td>0.788801</td>\n",
       "      <td>0.788801</td>\n",
       "      <td>0.788801</td>\n",
       "      <td>0.788801</td>\n",
       "      <td>7.888013e-01</td>\n",
       "      <td>0.788801</td>\n",
       "    </tr>\n",
       "    <tr>\n",
       "      <th>HDL</th>\n",
       "      <td>0.506089</td>\n",
       "      <td>0.995853</td>\n",
       "      <td>0.506089</td>\n",
       "      <td>0.506089</td>\n",
       "      <td>0.685864</td>\n",
       "      <td>0.506089</td>\n",
       "      <td>0.995853</td>\n",
       "      <td>0.759119</td>\n",
       "      <td>0.206384</td>\n",
       "      <td>3.512178e-11</td>\n",
       "      <td>0.506089</td>\n",
       "    </tr>\n",
       "    <tr>\n",
       "      <th>LDL</th>\n",
       "      <td>0.984682</td>\n",
       "      <td>0.021091</td>\n",
       "      <td>0.221828</td>\n",
       "      <td>0.984682</td>\n",
       "      <td>0.646335</td>\n",
       "      <td>0.925499</td>\n",
       "      <td>0.646335</td>\n",
       "      <td>0.407145</td>\n",
       "      <td>0.646335</td>\n",
       "      <td>9.255036e-01</td>\n",
       "      <td>0.773259</td>\n",
       "    </tr>\n",
       "    <tr>\n",
       "      <th>Total_Cholesterol</th>\n",
       "      <td>0.912964</td>\n",
       "      <td>0.000118</td>\n",
       "      <td>0.154214</td>\n",
       "      <td>0.912964</td>\n",
       "      <td>0.681210</td>\n",
       "      <td>0.912964</td>\n",
       "      <td>0.681210</td>\n",
       "      <td>0.284826</td>\n",
       "      <td>0.904143</td>\n",
       "      <td>8.618473e-03</td>\n",
       "      <td>0.904143</td>\n",
       "    </tr>\n",
       "    <tr>\n",
       "      <th>Ox-LDL</th>\n",
       "      <td>0.979162</td>\n",
       "      <td>0.000030</td>\n",
       "      <td>0.979162</td>\n",
       "      <td>0.979162</td>\n",
       "      <td>0.865974</td>\n",
       "      <td>0.979162</td>\n",
       "      <td>0.748992</td>\n",
       "      <td>0.108156</td>\n",
       "      <td>0.867035</td>\n",
       "      <td>1.452454e-08</td>\n",
       "      <td>0.748992</td>\n",
       "    </tr>\n",
       "    <tr>\n",
       "      <th>Lipoprotein(a)</th>\n",
       "      <td>0.503957</td>\n",
       "      <td>0.855144</td>\n",
       "      <td>0.415413</td>\n",
       "      <td>0.415413</td>\n",
       "      <td>0.887221</td>\n",
       "      <td>0.916947</td>\n",
       "      <td>0.855144</td>\n",
       "      <td>0.916947</td>\n",
       "      <td>0.421031</td>\n",
       "      <td>4.154125e-01</td>\n",
       "      <td>0.887221</td>\n",
       "    </tr>\n",
       "    <tr>\n",
       "      <th>CRP</th>\n",
       "      <td>0.960350</td>\n",
       "      <td>0.178511</td>\n",
       "      <td>0.480835</td>\n",
       "      <td>0.122710</td>\n",
       "      <td>0.840800</td>\n",
       "      <td>0.960350</td>\n",
       "      <td>0.716894</td>\n",
       "      <td>0.122710</td>\n",
       "      <td>0.716894</td>\n",
       "      <td>1.326499e-01</td>\n",
       "      <td>0.960350</td>\n",
       "    </tr>\n",
       "    <tr>\n",
       "      <th>Plaque_thickness</th>\n",
       "      <td>0.788381</td>\n",
       "      <td>0.782220</td>\n",
       "      <td>0.788381</td>\n",
       "      <td>0.782220</td>\n",
       "      <td>0.782220</td>\n",
       "      <td>0.788381</td>\n",
       "      <td>0.782220</td>\n",
       "      <td>0.782220</td>\n",
       "      <td>0.782220</td>\n",
       "      <td>6.489162e-01</td>\n",
       "      <td>0.648916</td>\n",
       "    </tr>\n",
       "    <tr>\n",
       "      <th>Framingham 10y</th>\n",
       "      <td>0.186704</td>\n",
       "      <td>0.359842</td>\n",
       "      <td>0.536650</td>\n",
       "      <td>0.240389</td>\n",
       "      <td>0.816134</td>\n",
       "      <td>0.455605</td>\n",
       "      <td>0.455605</td>\n",
       "      <td>0.186704</td>\n",
       "      <td>0.715900</td>\n",
       "      <td>2.227595e-06</td>\n",
       "      <td>0.039355</td>\n",
       "    </tr>\n",
       "    <tr>\n",
       "      <th>Framingham 30y</th>\n",
       "      <td>0.240751</td>\n",
       "      <td>0.115172</td>\n",
       "      <td>0.429596</td>\n",
       "      <td>0.362937</td>\n",
       "      <td>0.806779</td>\n",
       "      <td>0.429596</td>\n",
       "      <td>0.299177</td>\n",
       "      <td>0.047151</td>\n",
       "      <td>0.554712</td>\n",
       "      <td>7.451271e-08</td>\n",
       "      <td>0.001002</td>\n",
       "    </tr>\n",
       "    <tr>\n",
       "      <th>Systolic Blodd Pressure</th>\n",
       "      <td>0.188446</td>\n",
       "      <td>0.539012</td>\n",
       "      <td>0.530320</td>\n",
       "      <td>0.855411</td>\n",
       "      <td>0.213303</td>\n",
       "      <td>0.188446</td>\n",
       "      <td>0.855411</td>\n",
       "      <td>0.188446</td>\n",
       "      <td>0.855411</td>\n",
       "      <td>4.002953e-01</td>\n",
       "      <td>0.188446</td>\n",
       "    </tr>\n",
       "    <tr>\n",
       "      <th>Diastolic Blood Pressure</th>\n",
       "      <td>0.232872</td>\n",
       "      <td>0.232872</td>\n",
       "      <td>0.287198</td>\n",
       "      <td>0.386321</td>\n",
       "      <td>0.776856</td>\n",
       "      <td>0.322788</td>\n",
       "      <td>0.968438</td>\n",
       "      <td>0.016501</td>\n",
       "      <td>0.561665</td>\n",
       "      <td>1.048332e-02</td>\n",
       "      <td>0.232872</td>\n",
       "    </tr>\n",
       "    <tr>\n",
       "      <th>Group</th>\n",
       "      <td>0.916475</td>\n",
       "      <td>0.916475</td>\n",
       "      <td>0.916475</td>\n",
       "      <td>0.916475</td>\n",
       "      <td>0.916475</td>\n",
       "      <td>0.916475</td>\n",
       "      <td>0.958964</td>\n",
       "      <td>0.916475</td>\n",
       "      <td>0.916475</td>\n",
       "      <td>7.800968e-01</td>\n",
       "      <td>0.916475</td>\n",
       "    </tr>\n",
       "    <tr>\n",
       "      <th>Smoke</th>\n",
       "      <td>0.100486</td>\n",
       "      <td>0.728754</td>\n",
       "      <td>0.606815</td>\n",
       "      <td>0.826553</td>\n",
       "      <td>0.061755</td>\n",
       "      <td>0.020733</td>\n",
       "      <td>0.606815</td>\n",
       "      <td>0.606815</td>\n",
       "      <td>0.728754</td>\n",
       "      <td>8.265533e-01</td>\n",
       "      <td>0.826553</td>\n",
       "    </tr>\n",
       "    <tr>\n",
       "      <th>Cohort</th>\n",
       "      <td>0.996660</td>\n",
       "      <td>0.996660</td>\n",
       "      <td>0.996660</td>\n",
       "      <td>0.996660</td>\n",
       "      <td>0.996660</td>\n",
       "      <td>0.996660</td>\n",
       "      <td>0.996660</td>\n",
       "      <td>0.996660</td>\n",
       "      <td>0.996660</td>\n",
       "      <td>9.966600e-01</td>\n",
       "      <td>0.996660</td>\n",
       "    </tr>\n",
       "  </tbody>\n",
       "</table>\n",
       "</div>"
      ],
      "text/plain": [
       "                                0         1         2         3         4   \\\n",
       "Calcium_Score             0.788801  0.788801  0.788801  0.788801  0.788801   \n",
       "HDL                       0.506089  0.995853  0.506089  0.506089  0.685864   \n",
       "LDL                       0.984682  0.021091  0.221828  0.984682  0.646335   \n",
       "Total_Cholesterol         0.912964  0.000118  0.154214  0.912964  0.681210   \n",
       "Ox-LDL                    0.979162  0.000030  0.979162  0.979162  0.865974   \n",
       "Lipoprotein(a)            0.503957  0.855144  0.415413  0.415413  0.887221   \n",
       "CRP                       0.960350  0.178511  0.480835  0.122710  0.840800   \n",
       "Plaque_thickness          0.788381  0.782220  0.788381  0.782220  0.782220   \n",
       "Framingham 10y            0.186704  0.359842  0.536650  0.240389  0.816134   \n",
       "Framingham 30y            0.240751  0.115172  0.429596  0.362937  0.806779   \n",
       "Systolic Blodd Pressure   0.188446  0.539012  0.530320  0.855411  0.213303   \n",
       "Diastolic Blood Pressure  0.232872  0.232872  0.287198  0.386321  0.776856   \n",
       "Group                     0.916475  0.916475  0.916475  0.916475  0.916475   \n",
       "Smoke                     0.100486  0.728754  0.606815  0.826553  0.061755   \n",
       "Cohort                    0.996660  0.996660  0.996660  0.996660  0.996660   \n",
       "\n",
       "                                5         6         7         8   \\\n",
       "Calcium_Score             0.788801  0.788801  0.788801  0.788801   \n",
       "HDL                       0.506089  0.995853  0.759119  0.206384   \n",
       "LDL                       0.925499  0.646335  0.407145  0.646335   \n",
       "Total_Cholesterol         0.912964  0.681210  0.284826  0.904143   \n",
       "Ox-LDL                    0.979162  0.748992  0.108156  0.867035   \n",
       "Lipoprotein(a)            0.916947  0.855144  0.916947  0.421031   \n",
       "CRP                       0.960350  0.716894  0.122710  0.716894   \n",
       "Plaque_thickness          0.788381  0.782220  0.782220  0.782220   \n",
       "Framingham 10y            0.455605  0.455605  0.186704  0.715900   \n",
       "Framingham 30y            0.429596  0.299177  0.047151  0.554712   \n",
       "Systolic Blodd Pressure   0.188446  0.855411  0.188446  0.855411   \n",
       "Diastolic Blood Pressure  0.322788  0.968438  0.016501  0.561665   \n",
       "Group                     0.916475  0.958964  0.916475  0.916475   \n",
       "Smoke                     0.020733  0.606815  0.606815  0.728754   \n",
       "Cohort                    0.996660  0.996660  0.996660  0.996660   \n",
       "\n",
       "                                    9         10  \n",
       "Calcium_Score             7.888013e-01  0.788801  \n",
       "HDL                       3.512178e-11  0.506089  \n",
       "LDL                       9.255036e-01  0.773259  \n",
       "Total_Cholesterol         8.618473e-03  0.904143  \n",
       "Ox-LDL                    1.452454e-08  0.748992  \n",
       "Lipoprotein(a)            4.154125e-01  0.887221  \n",
       "CRP                       1.326499e-01  0.960350  \n",
       "Plaque_thickness          6.489162e-01  0.648916  \n",
       "Framingham 10y            2.227595e-06  0.039355  \n",
       "Framingham 30y            7.451271e-08  0.001002  \n",
       "Systolic Blodd Pressure   4.002953e-01  0.188446  \n",
       "Diastolic Blood Pressure  1.048332e-02  0.232872  \n",
       "Group                     7.800968e-01  0.916475  \n",
       "Smoke                     8.265533e-01  0.826553  \n",
       "Cohort                    9.966600e-01  0.996660  "
      ]
     },
     "execution_count": 43,
     "metadata": {},
     "output_type": "execute_result"
    }
   ],
   "source": [
    "mmCPF.T\n",
    "# qqCPF.T"
   ]
  },
  {
   "cell_type": "code",
   "execution_count": 32,
   "metadata": {},
   "outputs": [
    {
     "data": {
      "application/vnd.plotly.v1+json": {
       "config": {
        "plotlyServerURL": "https://plot.ly"
       },
       "data": [
        {
         "box": {
          "visible": false
         },
         "legendgroup": "C",
         "line": {
          "color": "#636EFA"
         },
         "meanline": {
          "visible": true
         },
         "name": "C",
         "scalegroup": "C",
         "side": "negative",
         "type": "violin",
         "x": [
          0,
          1,
          2,
          3,
          4,
          0,
          1,
          2,
          3,
          4,
          0,
          1,
          2,
          3,
          4,
          0,
          1,
          2,
          3,
          4,
          0,
          1,
          2,
          3,
          4,
          0,
          1,
          2,
          3,
          4,
          0,
          1,
          2,
          3,
          4,
          0,
          1,
          2,
          3,
          4,
          0,
          1,
          2,
          3,
          4,
          0,
          1,
          2,
          3,
          4,
          0,
          1,
          2,
          3,
          4,
          0,
          1,
          2,
          3,
          4,
          0,
          1,
          2,
          3,
          4,
          0,
          1,
          2,
          3,
          4,
          0,
          1,
          2,
          3,
          4,
          0,
          1,
          2,
          3,
          4,
          0,
          1,
          2,
          3,
          4,
          0,
          1,
          2,
          3,
          4,
          0,
          1,
          2,
          3,
          4,
          0,
          1,
          2,
          3,
          4,
          0,
          1,
          2,
          3,
          4,
          0,
          1,
          2,
          3,
          4,
          0,
          1,
          2,
          3,
          4,
          0,
          1,
          2,
          3,
          4,
          0,
          1,
          2,
          3,
          4,
          0,
          1,
          2,
          3,
          4,
          0,
          1,
          2,
          3,
          4,
          0,
          1,
          2,
          3,
          4,
          0,
          1,
          2,
          3,
          4,
          0,
          1,
          2,
          3,
          4,
          0,
          1,
          2,
          3,
          4,
          0,
          1,
          2,
          3,
          4,
          0,
          1,
          2,
          3,
          4,
          0,
          1,
          2,
          3,
          4,
          0,
          1,
          2,
          3,
          4,
          0,
          1,
          2,
          3,
          4,
          0,
          1,
          2,
          3,
          4,
          0,
          1,
          2,
          3,
          4,
          0,
          1,
          2,
          3,
          4,
          0,
          1,
          2,
          3,
          4,
          0,
          1,
          2,
          3,
          4,
          0,
          1,
          2,
          3,
          4,
          0,
          1,
          2,
          3,
          4,
          0,
          1,
          2,
          3,
          4,
          0,
          1,
          2,
          3,
          4,
          0,
          1,
          2,
          3,
          4,
          0,
          1,
          2,
          3,
          4,
          0,
          1,
          2,
          3,
          4,
          0,
          1,
          2,
          3,
          4,
          0,
          1,
          2,
          3,
          4,
          0,
          1,
          2,
          3,
          4,
          0,
          1,
          2,
          3,
          4,
          0,
          1,
          2,
          3,
          4,
          0,
          1,
          2,
          3,
          4,
          0,
          1,
          2,
          3,
          4,
          0,
          1,
          2,
          3,
          4,
          0,
          1,
          2,
          3,
          4,
          0,
          1,
          2,
          3,
          4,
          0,
          1,
          2,
          3,
          4,
          0,
          1,
          2,
          3,
          4,
          0,
          1,
          2,
          3,
          4,
          0,
          1,
          2,
          3,
          4,
          0,
          1,
          2,
          3,
          4,
          0,
          1,
          2,
          3,
          4,
          0,
          1,
          2,
          3,
          4,
          0,
          1,
          2,
          3,
          4,
          0,
          1,
          2,
          3,
          4,
          0,
          1,
          2,
          3,
          4,
          0,
          1,
          2,
          3,
          4,
          0,
          1,
          2,
          3,
          4,
          0,
          1,
          2,
          3,
          4,
          0,
          1,
          2,
          3,
          4,
          0,
          1,
          2,
          3,
          4,
          0,
          1,
          2,
          3,
          4,
          0,
          1,
          2,
          3,
          4,
          0,
          1,
          2,
          3,
          4,
          0,
          1,
          2,
          3,
          4,
          0,
          1,
          2,
          3,
          4,
          0,
          1,
          2,
          3,
          4,
          0,
          1,
          2,
          3,
          4,
          0,
          1,
          2,
          3,
          4,
          0,
          1,
          2,
          3,
          4,
          0,
          1,
          2,
          3,
          4,
          0,
          1,
          2,
          3,
          4,
          0,
          1,
          2,
          3,
          4,
          0,
          1,
          2,
          3,
          4,
          0,
          1,
          2,
          3,
          4,
          0,
          1,
          2,
          3,
          4,
          0,
          1,
          2,
          3,
          4,
          0,
          1,
          2,
          3,
          4,
          0,
          1,
          2,
          3,
          4,
          0,
          1,
          2,
          3,
          4,
          0,
          1,
          2,
          3,
          4,
          0,
          1,
          2,
          3,
          4,
          0,
          1,
          2,
          3,
          4,
          0,
          1,
          2,
          3,
          4,
          0,
          1,
          2,
          3,
          4,
          0,
          1,
          2,
          3,
          4,
          0,
          1,
          2,
          3,
          4,
          0,
          1,
          2,
          3,
          4,
          0,
          1,
          2,
          3,
          4,
          0,
          1,
          2,
          3,
          4,
          0,
          1,
          2,
          3,
          4,
          0,
          1,
          2,
          3,
          4,
          0,
          1,
          2,
          3,
          4,
          0,
          1,
          2,
          3,
          4,
          0,
          1,
          2,
          3,
          4,
          0,
          1,
          2,
          3,
          4,
          0,
          1,
          2,
          3,
          4,
          0,
          1,
          2,
          3,
          4,
          0,
          1,
          2,
          3,
          4,
          0,
          1,
          2,
          3,
          4,
          0,
          1,
          2,
          3,
          4,
          0,
          1,
          2,
          3,
          4,
          0,
          1,
          2,
          3,
          4,
          0,
          1,
          2,
          3,
          4,
          0,
          1,
          2,
          3,
          4,
          0,
          1,
          2,
          3,
          4,
          0,
          1,
          2,
          3,
          4,
          0,
          1,
          2,
          3,
          4,
          0,
          1,
          2,
          3,
          4,
          0,
          1,
          2,
          3,
          4,
          0,
          1,
          2,
          3,
          4,
          0,
          1,
          2,
          3,
          4,
          0,
          1,
          2,
          3,
          4,
          0,
          1,
          2,
          3,
          4,
          0,
          1,
          2,
          3,
          4,
          0,
          1,
          2,
          3,
          4,
          0,
          1,
          2,
          3,
          4,
          0,
          1,
          2,
          3,
          4,
          0,
          1,
          2,
          3,
          4,
          0,
          1,
          2,
          3,
          4,
          0,
          1,
          2,
          3,
          4,
          0,
          1,
          2,
          3,
          4,
          0,
          1,
          2,
          3,
          4,
          0,
          1,
          2,
          3,
          4,
          0,
          1,
          2,
          3,
          4,
          0,
          1,
          2,
          3,
          4,
          0,
          1,
          2,
          3,
          4,
          0,
          1,
          2,
          3,
          4,
          0,
          1,
          2,
          3,
          4,
          0,
          1,
          2,
          3,
          4,
          0,
          1,
          2,
          3,
          4,
          0,
          1,
          2,
          3,
          4,
          0,
          1,
          2,
          3,
          4,
          0,
          1,
          2,
          3,
          4,
          0,
          1,
          2,
          3,
          4,
          0,
          1,
          2,
          3,
          4,
          0,
          1,
          2,
          3,
          4,
          0,
          1,
          2,
          3,
          4,
          0,
          1,
          2,
          3,
          4,
          0,
          1,
          2,
          3,
          4,
          0,
          1,
          2,
          3,
          4,
          0,
          1,
          2,
          3,
          4,
          0,
          1,
          2,
          3,
          4,
          0,
          1,
          2,
          3,
          4,
          0,
          1,
          2,
          3,
          4,
          0,
          1,
          2,
          3,
          4,
          0,
          1,
          2,
          3,
          4,
          0,
          1,
          2,
          3,
          4,
          0,
          1,
          2,
          3,
          4,
          0,
          1,
          2,
          3,
          4,
          0,
          1,
          2,
          3,
          4,
          0,
          1,
          2,
          3,
          4,
          0,
          1,
          2,
          3,
          4,
          0,
          1,
          2,
          3,
          4,
          0,
          1,
          2,
          3,
          4,
          0,
          1,
          2,
          3,
          4,
          0,
          1,
          2,
          3,
          4,
          0,
          1,
          2,
          3,
          4,
          0,
          1,
          2,
          3,
          4,
          0,
          1,
          2,
          3,
          4,
          0,
          1,
          2,
          3,
          4,
          0,
          1,
          2,
          3,
          4,
          0,
          1,
          2,
          3,
          4,
          0,
          1,
          2,
          3,
          4,
          0,
          1,
          2,
          3,
          4,
          0,
          1,
          2,
          3,
          4,
          0,
          1,
          2,
          3,
          4,
          0,
          1,
          2,
          3,
          4,
          0,
          1,
          2,
          3,
          4,
          0,
          1,
          2,
          3,
          4,
          0,
          1,
          2,
          3,
          4,
          0,
          1,
          2,
          3,
          4,
          0,
          1,
          2,
          3,
          4,
          0,
          1,
          2,
          3,
          4,
          0,
          1,
          2,
          3,
          4,
          0,
          1,
          2,
          3,
          4,
          0,
          1,
          2,
          3,
          4,
          0,
          1,
          2,
          3,
          4,
          0,
          1,
          2,
          3,
          4,
          0,
          1,
          2,
          3,
          4,
          0,
          1,
          2,
          3,
          4,
          0,
          1,
          2,
          3,
          4,
          0,
          1,
          2,
          3,
          4,
          0,
          1,
          2,
          3,
          4,
          0,
          1,
          2,
          3,
          4,
          0,
          1,
          2,
          3,
          4,
          0,
          1,
          2,
          3,
          4,
          0,
          1,
          2,
          3,
          4,
          0,
          1,
          2,
          3,
          4,
          0,
          1,
          2,
          3,
          4,
          0,
          1,
          2,
          3,
          4,
          0,
          1,
          2,
          3,
          4,
          0,
          1,
          2,
          3,
          4,
          0,
          1,
          2,
          3,
          4,
          0,
          1,
          2,
          3,
          4,
          0,
          1,
          2,
          3,
          4,
          0,
          1,
          2,
          3,
          4,
          0,
          1,
          2,
          3,
          4,
          0,
          1,
          2,
          3,
          4,
          0,
          1,
          2,
          3,
          4
         ],
         "y": [
          -2.1796548902739725,
          -1.74155126241877,
          -1.5478411343756622,
          0.5731242863813382,
          -1.6740397524399344,
          -0.9250915005966046,
          -2.5422352566913795,
          0.6763021804895112,
          -0.42034086478886423,
          -1.733203582442031,
          -1.885086954700847,
          -3.755114069422245,
          0.09322331544818298,
          -0.8016908960291641,
          -0.14109168137898967,
          -2.2803197769924015,
          -3.326209883260517,
          -0.44892949950630306,
          -5.041657167515627,
          -0.7946783946159025,
          -3.761306119834762,
          0.28929958552419344,
          -0.42438582272089315,
          -2.1694976187810653,
          -1.6951141932336589,
          -2.015116104090423,
          -2.9324738940062414,
          3.8567550046228636,
          -0.7256613170536037,
          1.424792160336646,
          -2.8147493165617328,
          -1.878271199321491,
          2.47742546697284,
          -1.5511759689632751,
          1.1469850566514068,
          -1.526059504265502,
          -0.0028179031036199374,
          1.0827062379763264,
          -2.4175329347450143,
          0.1059204432237239,
          -7.729132053614412,
          1.0873872981467727,
          3.513440389537846,
          -3.749583008629541,
          -0.7335035741137688,
          12.302225835808152,
          12.41067466671214,
          -1.1938374098250009,
          11.175042194110858,
          -0.678872131595772,
          -2.8611594006750707,
          -0.38384073240308647,
          3.928714554744089,
          -0.8921679290718337,
          1.3090969443760374,
          5.22710997954866,
          8.248127016578911,
          -1.280238257776777,
          5.394086668440889,
          5.196126505165552,
          0.43497786922843246,
          -0.5052765509462973,
          3.2699505770458126,
          1.3824088253098865,
          0.630389300572398,
          -1.4160243402024455,
          -2.3708245538672186,
          2.5128531432835697,
          -3.361801865012396,
          -0.6409023788959288,
          -2.2932257725258838,
          -2.3095790164702876,
          4.103190850233561,
          -0.36541495748854963,
          -1.0798836126396805,
          -0.03433101912056127,
          0.48113518344362555,
          1.0204988189148563,
          2.6649853992222923,
          -2.00521614393942,
          0.09880251021098577,
          2.0915490559312837,
          0.1434021896458902,
          3.386069736639384,
          -1.5990591971527652,
          -2.0381205702412095,
          -3.193351430071295,
          1.8638697992549422,
          0.4143761758065505,
          -0.8395701083760978,
          0.17317312773905422,
          1.3437136473932252,
          -1.023698956643048,
          -0.4282158478960417,
          -0.20997308003813075,
          -2.8961162906291635,
          -2.494265077139447,
          5.02959687000962,
          -0.41515712267218824,
          2.243895509030968,
          5.8281852674080055,
          7.755467923510125,
          -4.227997646199628,
          4.112183876921246,
          -1.9650214433959956,
          -4.570992908922878,
          -6.111645094644531,
          4.363905119485894,
          3.396177173690058,
          -1.6459596541306474,
          -2.669264832148232,
          9.478051606626405,
          -5.9241606087880045,
          -1.389969198274932,
          1.9092938931399686,
          -0.7848406240581981,
          -3.217374578071535,
          -0.6357423769379198,
          -0.7011032750199984,
          -1.9079620173754432,
          15.967721078017087,
          13.98506639608859,
          -4.825590085577077,
          11.621379945726954,
          -2.9346961347920204,
          9.511373367855494,
          6.4512260592232735,
          -5.9413330075122595,
          0.2347179924238368,
          -1.24407429502495,
          -3.8962772508709986,
          0.14114497267486129,
          0.02081819707541771,
          4.161138137891287,
          -0.7698780016599015,
          1.5092412718951993,
          -8.881819250617866,
          7.7728653466540925,
          4.494406265767878,
          -0.057992653180760766,
          -0.7020747137912831,
          -3.367612889971777,
          2.2639793831322543,
          -0.34968509703242884,
          1.6335504747542458,
          5.651391870321182,
          5.420017904137371,
          -7.468114788351116,
          0.1029201856900574,
          -1.1256812604608377,
          13.904231883927345,
          3.251589041149447,
          -5.344683936835,
          -0.13041531304830725,
          -1.5640619906402755,
          1.42930854360272,
          -5.758584665401304,
          1.8361087318370903,
          0.871723281552324,
          0.657564376885878,
          2.3484787443466546,
          7.91830023685058,
          16.42293894708961,
          -0.6177315921316002,
          0.882768294954097,
          -1.7861487969815033,
          -3.6523618879505415,
          6.078498066106206,
          -0.4300858921989952,
          2.0993634272518236,
          11.175591387964527,
          8.695275092172714,
          -7.264231831532182,
          5.71862368170012,
          -0.3600121900099862,
          -5.405922627859689,
          0.7114469152448535,
          1.6024825012138995,
          -1.7860167454783098,
          1.450856386968594,
          3.323083448788047,
          -2.7514950426584512,
          2.614210243822073,
          3.7200205485328905,
          -1.1507213877898144,
          -3.8054052969695635,
          -1.0588911710854223,
          0.24544904298353085,
          -0.20099262999137163,
          0.9048291512370189,
          3.212494393002118,
          1.063921940875895,
          0.7133379925493425,
          4.804760664293454,
          0.7137701972369678,
          -2.894291544505923,
          -1.050434041467484,
          2.8812516766941596,
          -0.9206146642920475,
          1.297350668281112,
          -0.065426942426739,
          -5.898910585116033,
          -5.042166261992917,
          -6.914606598179192,
          -2.60703261326396,
          -2.176255531231831,
          -6.828011999199208,
          1.4180143180362148,
          -2.030135739861,
          -2.0724375274731943,
          1.368846564824405,
          -0.3741248361478386,
          -0.02006293410694363,
          3.9882372830781243,
          -1.4545114641674806,
          0.5666183072687478,
          -6.233426489282258,
          -0.12278741870350324,
          -2.4573423392685254,
          2.1319257779673886,
          -0.10131240604744551,
          0.20792379116617804,
          0.03514576682638747,
          0.8104656026013978,
          -0.6212464684794665,
          13.834270994277048,
          7.108328328810117,
          -6.743028093781976,
          2.8313004507384787,
          -1.963524180573334,
          11.106008268209324,
          6.902614006693169,
          -6.400352297936049,
          5.6219531305602,
          -1.5177135402159794,
          -2.261463817537327,
          -0.7462416533298051,
          0.5107126185697877,
          -2.4301822857381925,
          -1.2822195226945359,
          2.1076864829325896,
          -7.521650562189269,
          1.5031339389779594,
          0.7653961939251267,
          -0.3104891545987388,
          8.500529793108964,
          2.62934589049144,
          -1.7392541028675508,
          2.678402085782641,
          -0.5377671652182857,
          -6.330453807548453,
          -3.4073469482064063,
          0.17962233921069415,
          -3.212618622962578,
          -0.2081271094965199,
          -2.971140639173925,
          -6.549758786743065,
          0.019685797268584142,
          -2.871844822810159,
          -1.8881904959894797,
          11.39335432457439,
          11.39358032340233,
          -0.6142329116095334,
          8.77241548645399,
          0.0059660947980944125,
          -3.690672437763879,
          -2.080867352662823,
          2.594943952507399,
          -0.586062972498009,
          3.13325862116047,
          -4.101184974281462,
          -0.9417789358471007,
          0.24934406832762285,
          -2.0510799545234017,
          3.3772331440971,
          -6.656992957450542,
          0.44376051509685566,
          1.4894940623140902,
          -1.6637724707371973,
          3.685807852191552,
          3.252039196082608,
          -0.5729304580944276,
          0.3062937016160157,
          2.916390084359125,
          2.422350925201116,
          6.472001372068355,
          1.777745763569945,
          1.6316051803980451,
          4.207038214657315,
          -1.9378266951266225,
          3.5755833027952466,
          -1.7562259541533314,
          2.239102376798603,
          3.662419826699654,
          -1.7003548964089878,
          -4.027255136217824,
          -2.0476056703661287,
          2.5188950152219967,
          -1.6802931804315564,
          1.897099893329496,
          2.8229853784526795,
          -4.598619996066223,
          3.2085618565600984,
          0.44290541534511313,
          2.2711527130951144,
          -4.837161126693128,
          1.9863418865481737,
          -1.3113536342185326,
          -1.1069349962828914,
          -1.8743836738517952,
          -2.5229965169250987,
          -0.21487533215391652,
          -2.477418874310188,
          -2.0181858836569253,
          -0.5768771380863502,
          -0.8151892371692351,
          -1.0652932224584644,
          -0.45513382864066043,
          1.1407289936219798,
          -0.8419330567779255,
          -3.1366873267567477,
          4.4965562302821125,
          -7.365439132575785,
          -3.6633643690247792,
          0.669739998770375,
          -2.0440479346227645,
          1.9497460093890981,
          -2.758836486971931,
          2.0282003453381563,
          0.9420763291154769,
          -2.1150998318912495,
          2.4840480695812532,
          -0.8553691130757352,
          -2.3342302553305805,
          1.192303178436461,
          4.328557060879829,
          -3.9548432733929366,
          7.008182570971488,
          1.5629891825286746,
          1.5561664496907146,
          -6.3419070759911635,
          0.18709851443523495,
          -4.256701160021169,
          0.5128887321393748,
          0.5866252476737036,
          1.8948367126800814,
          -2.280993291062891,
          0.5548446229720041,
          0.6012417084028271,
          -0.45669795278015474,
          4.712032459556676,
          -2.4934663341465466,
          1.5823784382982788,
          -0.49261341192098457,
          -1.542747977041871,
          2.2625445070457415,
          -5.96730914926693,
          5.208163531303501,
          1.5576434235248462,
          -0.8732916503009582,
          1.3126588138136324,
          -0.16812969812719825,
          0.22961579200207505,
          1.3997004288671666,
          -2.068193117532263,
          3.0089205623811184,
          -2.584385371916676,
          10.797012194475734,
          -3.957845501738961,
          4.0161815799575775,
          3.517956496265951,
          -2.6581603399398293,
          3.7567774990634906,
          -1.5220132682608896,
          0.49689530184256797,
          2.4421836930650915,
          0.6637338249165052,
          3.693635315706931,
          -3.971733921370099,
          -2.8526758780779597,
          -0.9979440582187094,
          0.6152539005238837,
          0.4417176385197574,
          1.3666763701926756,
          -2.23290619344682,
          1.2897951834041415,
          -3.655497869923453,
          2.2547280954109934,
          3.153591669345097,
          -0.2642326499463161,
          -0.7494505971130543,
          -0.9093683301423471,
          -1.3645517806959637,
          0.011699935568688567,
          0.6177165344469278,
          3.515183118981964,
          -4.031406104003213,
          2.0095244793365037,
          1.392640777179391,
          0.20251798154602044,
          0.31194728710353464,
          -6.160253442686306,
          0.5246313159280565,
          0.8787811329919689,
          -2.887046208857645,
          -1.9388377597284032,
          2.1179094842352257,
          -3.5121478273461073,
          -0.5986094742160037,
          1.3871077066502295,
          -6.068343768023451,
          5.10977137290799,
          -4.279230159038711,
          -2.3881082060956946,
          0.9223044833157595,
          1.1943521903935888,
          0.2165131657932566,
          1.643076399513902,
          -0.660730003057808,
          -1.814794712326148,
          3.6681579340959565,
          -1.266725884779946,
          1.2876267201097116,
          -5.836687357921258,
          -0.20642796664810087,
          -2.195679935494114,
          -1.4728461836600926,
          -1.982690381981733,
          -2.1426567443354463,
          -1.5289534158482063,
          -0.24145983414899214,
          2.904910595980984,
          -0.7965373513650984,
          -2.9540711019024952,
          0.7204212919967806,
          3.4717866805094464,
          -0.33895222502552963,
          3.992481138984948,
          -0.7469611681149801,
          0.6887195446307105,
          -1.9193015217148894,
          -1.3414024928347883,
          -3.8719946453293956,
          0.5012583426221183,
          0.7292624309984218,
          -6.527556527094882,
          2.7476025097977397,
          -2.039260976840084,
          -1.5846792382577937,
          -1.2485783689441532,
          3.0879716658145875,
          -3.551342139074616,
          3.2017587225740787,
          5.051504850042915,
          3.295045104915341,
          -5.097518165346568,
          1.2382175859573905,
          -3.868631881011686,
          -0.33018877792031986,
          -0.28481219346245823,
          -0.28646796913764916,
          -4.993714534118742,
          0.43224152883003003,
          6.888947605496426,
          3.0951543299017046,
          -3.9253263454399208,
          4.904175869240946,
          -2.412818472823798,
          0.9082939919007558,
          2.959800813548251,
          -0.5450257938436226,
          1.2810751086053673,
          0.5782792175031544,
          -1.2549221512010837,
          1.2754089697783848,
          4.846253416180108,
          -3.7692056124359037,
          6.8114761698632424,
          0.9798889553662044,
          -1.0688668860551844,
          -4.067327041159641,
          5.535094467759413,
          -3.8503525606773854,
          -4.1071884359594515,
          -1.275494284873625,
          4.5344429462850195,
          -5.326160665284688,
          5.5588928110672,
          4.020861327762574,
          -0.6165283316539377,
          -1.9555829174849333,
          0.6898110884694281,
          0.23764014661169539,
          0.441767884159219,
          -0.8863953001204903,
          0.49152092180707185,
          -0.7327296266372457,
          1.19520069668669,
          1.3500543049440255,
          -0.5315289854187668,
          5.719823131690252,
          -1.2780251683790746,
          3.658908736099692,
          -1.7116666610649576,
          -4.667648021935455,
          -3.5241149684136817,
          3.624924040790102,
          -0.844598858099395,
          -4.1051741704212015,
          0.11990124298356654,
          1.5585437014266355,
          1.2658136939889988,
          4.2147706430010246,
          -2.0301652490133453,
          -1.908764170916799,
          1.216707295657723,
          3.133921321878825,
          2.8972577889239055,
          2.1717146239597396,
          -0.2275666307016574,
          0.3655312971541887,
          -0.03812652739649625,
          -0.0019490018553783301,
          0.2669649666029986,
          -1.3611055850014169,
          3.0516694061122522,
          -6.316461448709325,
          0.5439363727319827,
          2.128588443602684,
          0.4445505372452795,
          -0.9164590354888594,
          -0.6255146060460929,
          0.3327977883692115,
          3.955517612903833,
          -1.1057275069566486,
          2.071640517868616,
          3.2442596111583617,
          1.140931453966377,
          -0.44196324112336804,
          1.5350174086836474,
          3.1695008694835756,
          -6.106706711866363,
          4.146476015197974,
          4.633487483041184,
          1.549957560045059,
          -6.623967314386282,
          7.533363103173394,
          -5.976210567670916,
          -5.066249514826524,
          -0.6491164358775118,
          -0.7070785936138106,
          1.5705771407022031,
          -1.597380477728624,
          0.32503229925456856,
          0.48537399043052964,
          15.279842255195193,
          3.7846120399110674,
          -4.831066688285546,
          5.820842032141017,
          -0.3756489004843769,
          -7.286385792304654,
          8.338734221239566,
          -6.801216941053776,
          -6.212932705682434,
          0.45801981973241146,
          0.9677714725319387,
          4.917166052266728,
          -2.027234494156993,
          4.55394190006627,
          -0.8659741496471776,
          -2.4035407927979398,
          1.5333188787732954,
          1.4534619265461657,
          -0.2172960280127587,
          1.1538881946054924,
          2.131302671942611,
          -0.9177093693311499,
          0.4464293086687797,
          -0.5921483743196897,
          0.8215119868704929,
          -0.6572127848072224,
          -2.0665671590398804,
          -0.40998290623371797,
          -1.588482615965481,
          1.8463512322881923,
          0.8893574409763338,
          -2.536422152177652,
          -1.3179611377402107,
          0.7356098665094716,
          0.8639820554918154,
          -0.7473840341467339,
          -0.3721840999816486,
          -2.707016400168143,
          1.960284936862678,
          0.30708007149869887,
          2.5670464918970772,
          -2.755722817295018,
          4.328989399583749,
          3.63685737957602,
          1.4489802728582348,
          1.3758775793021796,
          2.5085792244689014,
          2.671489550984873,
          0.2127710425178159,
          1.5908600104430353,
          -0.39400596468686394,
          -0.9375685598191298,
          2.7858578447380444,
          0.3300576844394695,
          0.20082549458130503,
          0.836111373492336,
          -1.9921992807005167,
          4.557200176175664,
          -1.7203379486140646,
          -0.8351239583025715,
          8.674709899921902,
          -2.936358906825148,
          9.277295151242074,
          0.8307102573061523,
          1.562730943809108,
          -1.2740190695134765,
          -1.0966164588510199,
          -5.94413013534677,
          2.0849852184807727,
          1.7579763335299,
          -3.529389930675424,
          -0.7642388894364895,
          -4.4196895664791835,
          -0.18632285190922776,
          -1.4910080059591149,
          1.6410753787534442,
          -3.3020216499917656,
          -0.6946202630408119,
          3.243517393031736,
          -1.696812473527426,
          3.3737572894614276,
          -3.9400441101855637,
          0.30663392957371594,
          1.769403369194458,
          -0.7418829126087795,
          -5.453264381621617,
          6.3829338459019205,
          -2.742369361822724,
          -3.166468747990597,
          -0.2551462887729796,
          -0.9086725241127094,
          0.5316181160412196,
          1.4383092025281379,
          -0.5009389425524039,
          -2.2141313117225114,
          3.7462627055317466,
          -5.510647593939491,
          4.071724759974037,
          3.3946477918128832,
          1.775354233065827,
          -0.10164975321025041,
          1.1774661998485538,
          4.23591431311432,
          0.5255575183992104,
          -1.1182907918296614,
          4.174545901258438,
          -4.106685016570574,
          3.4350529513569907,
          3.6535658343182753,
          3.3051299049041787,
          -0.8335337608914516,
          2.345508890170999,
          -2.130839271933975,
          1.2418267723073708,
          -0.5307366625615989,
          0.8291740375425775,
          -0.6358900662133036,
          -0.8801598824544953,
          2.316263407234135,
          1.1094946852974155,
          0.5984569097721321,
          2.764694972107993,
          0.23783570105368887,
          -2.0871409825595353,
          -0.8341352787039519,
          4.879790814949524,
          -7.809748815238793,
          -2.1529198354222787,
          3.703274439664551,
          -1.6882505880916876,
          -0.7212718785878226,
          0.12291296105743575,
          -0.3120697686010569,
          1.703694538737804,
          0.89712471516035,
          -0.5478391008327523,
          0.6102065632322969,
          -3.709500108979561,
          -0.19524899382052607,
          0.014066762797074151,
          -2.092344945793705,
          4.674962052767155,
          -1.7690374443686891,
          -0.21784267029684837,
          -0.1834513876115172,
          1.3439698733895449,
          -1.028230784344734,
          0.10980851431246799,
          1.6462647735621168,
          3.990235512240423,
          -1.1039943857898722,
          2.7587763720150495,
          0.849447659484187,
          2.0765656570734774,
          -0.03136591726487969,
          1.0123499146519808,
          0.5335100750189685,
          2.3663007527380433,
          4.846176374389796,
          0.8840492554246306,
          -1.4967588900866504,
          -1.2344836684965663,
          0.20164825833674022,
          0.03906380467361614,
          -0.9090027567121655,
          -0.0749253404553462,
          0.8254054033880243,
          2.3206730516564598,
          -0.36394646351644194,
          -1.3647240701392993,
          -0.27535676761306976,
          -0.8017455225234483,
          -0.4769787461455452,
          3.478388963466459,
          -0.5467778959798093,
          0.8248974721560629,
          -0.46940218945898704,
          2.0895733209156973,
          -1.7086007582446878,
          2.722185935937798,
          0.9680634739111909,
          2.060790585628693,
          1.8058908053751062,
          -3.243373265632441,
          0.7053843006763275,
          -2.375957306628233,
          -1.2682059779008126,
          -0.9830351742379966,
          -0.9392219292430215,
          -1.6076691790083244,
          1.1832738153205038,
          -0.6205772460783159,
          3.0756347772646544,
          2.0938312545100044,
          0.24427459075131233,
          -1.1331125263524173,
          2.7018115556641735,
          2.3245712019389866,
          -2.110725129032311,
          1.3665504687086893,
          -2.0507692003301523,
          2.9684788854678916,
          -1.2399229273017,
          -3.286629759931399,
          -1.451287493327897,
          -0.36287497935470236,
          -0.6867276956675122,
          4.5119060302968865,
          1.8959364094247666,
          -0.7081861900115559,
          0.5428434723159731,
          -0.3214497742293203,
          5.1649367776395225,
          -0.7036772229537379,
          -2.1250739113150705,
          4.805322898068279,
          -2.5321921905489035,
          5.699343784113408,
          -4.046633376562425,
          1.4722290490507084,
          -2.929896518107047,
          2.4376244120987116,
          -0.8506969991311969,
          -3.5233425040521595,
          -1.7122809328350983,
          2.60918158220338,
          1.896654413776906,
          4.887153596396826,
          -1.2309791044916627,
          -1.8691615536904291,
          6.2712240625701545,
          -4.143166256083742,
          3.824364605540792,
          4.313708923534834,
          1.4396829730153862,
          1.2049840845659079,
          -3.1824559733836706,
          0.964027119453512,
          3.520284681069709,
          0.09509549965474137,
          8.892966628648447,
          -4.534049157928185,
          7.466289149813992,
          -3.8865671321873902,
          -0.45689277758754454,
          -4.370828960415896,
          2.3861531616795397,
          -0.7677877421117729,
          -1.0048602309406953,
          1.5075500382402052,
          -3.944129427705633,
          5.730108906695984,
          -0.6488543556139241,
          -3.31421434550087,
          0.551653519768677,
          -2.5957854838283714,
          1.3905438539059773,
          1.1239238557544404,
          -3.780522085729626,
          -0.33855401012877845,
          -3.066995961909767,
          3.746787090499838,
          -0.5572402318355959,
          -3.5534055194801377,
          -1.1683853344380968,
          -3.967530171406518,
          1.086425278302352,
          -8.953548243832845,
          -1.865052193994363,
          1.5146370201559345,
          -0.4010437121494313,
          0.7934092094273695,
          2.1079545706941967,
          1.4349595072369512,
          2.76951817987051,
          3.7319047445903277,
          -8.267847993043267,
          2.26081605322841,
          2.6767773525713094,
          -0.7230673422893611,
          2.11658503313365,
          -2.501325338473509,
          -2.4703871523212486,
          2.2630483237920678,
          1.0263538934514287,
          -3.7324255165283713,
          0.30894603017736416,
          -0.6145521826883722,
          -1.7339176232958813,
          -1.1334457010144134,
          -4.038727198235226,
          2.178349785934424,
          -0.7038592905364045,
          -1.7285522157175592,
          -0.5214386045871153,
          10.03234936328176,
          4.330540892431025,
          5.950835732606772,
          9.443386801196128,
          3.498842520795768,
          0.23917986258015753,
          -4.295701547446146,
          0.3251480644550911,
          3.7576691915669533,
          -0.05381750523391482,
          1.011614506447521,
          -5.984742635192118,
          -2.0778636133737023,
          0.2879348380466578,
          -0.347205991103013,
          -1.3261386494635792,
          0.7550882075999775,
          -5.027615801537104,
          -2.7814426618990447,
          -0.0014795307657938074,
          -0.7784334502564754,
          3.8298344282612824,
          9.312192359559521,
          3.737685768346497,
          1.419525456221925,
          0.9486136743068508,
          -3.1305791068065467,
          0.8675998082150971,
          -2.0834003988037035,
          -1.174681052795025,
          3.3828901130483326,
          -4.032572674998978,
          -0.41997670198899034,
          2.5180699642836526,
          -0.7989561104443624,
          2.0072559099238285,
          -0.03596677658852981,
          2.4288919845820334,
          -2.2652828679099213,
          0.3949295116220202,
          -4.51038064729466,
          3.6646091091832678,
          -8.175534917329953,
          -0.17100734163072526,
          -0.015299071416212966,
          -4.988598188243455,
          2.560838438890323,
          -2.6469963499900078,
          1.6090269356926283,
          -0.8795031288850228,
          0.04078634308299137,
          -2.6631249730606257,
          0.4722434857337658,
          1.0000489914163297,
          0.8256867986172111,
          -0.3690061991661039,
          -2.3675418800218715,
          -3.78682766563501,
          -0.2078490395421126,
          -1.3327113522834455,
          4.137122822882081,
          1.7141314338435243,
          -2.1766412786132543,
          0.7517388891290344,
          -1.5348548011401097,
          1.3034061818759353,
          0.011415994493093343,
          0.6703189356222332,
          2.971219447997658,
          3.7128980758691292,
          1.8916471833277668,
          -1.330786739784291,
          3.7434210460982236,
          -2.235786789640737,
          1.293653791713391,
          0.9101560254108775,
          4.552050218805904,
          -8.874537189275225,
          1.0089343975594027,
          2.056572566984715,
          0.3465067593516557,
          0.28679216794964063,
          0.8220753108249736,
          -0.3076830674551047,
          -0.5905645097446734,
          -0.8407725693401114,
          1.919622882933206,
          3.2870530828025317,
          -4.363173173291254,
          0.028221128275403826,
          1.3036016752577335,
          0.4903126202065659,
          -2.017547955096578,
          4.0456597056678545,
          -0.1634651696229797,
          1.8320252212945045,
          -0.8056729935850685,
          3.8480721934609523,
          -2.6003204503589923,
          -0.17060208826740594,
          -3.478721739628977,
          1.5712629730449676,
          -3.457253573401807,
          0.05177437630979571,
          0.6716559054963234,
          1.2356952168865991,
          -1.9223723670330004,
          1.5941254956739899,
          0.0206074798277957,
          -1.267916468215879,
          1.3017295311400434,
          -3.521091016932062,
          2.418111579085699,
          -2.807016669325843,
          -0.8026720810026189,
          -1.6550012916071382,
          1.819391185591191,
          4.094452029640536,
          -1.2481033550208056,
          1.7268813622740826,
          7.237101871370748,
          -6.15510747289565,
          4.484686674196815,
          -0.7929460502135001,
          2.3470276127331284,
          -0.8638737545481814,
          -1.4211382503163263,
          1.1017169521740153,
          -4.32411156707971,
          -0.171725434660245,
          -1.124060146181451,
          1.1855486192946303,
          -2.43266848825192,
          -2.3691520273567264,
          -0.9034839215502424,
          -1.6639139690397862,
          -1.1117475924645497,
          -2.193942968501318,
          -2.428495217473896,
          0.6476314685092605,
          6.58252109919426,
          -1.4643814710469945,
          -0.06359449899878282,
          6.330334087124771,
          -1.5396382943909335,
          2.918586333735191,
          -2.7783918703049446,
          -0.9596104668047845,
          -1.8552237145885864,
          0.23851151599948214,
          -1.9207026848637763,
          0.5233068680006667,
          0.5686568626893788,
          -1.8179057235545473,
          -3.19889981579999,
          -2.4947549826688267,
          3.3411108302048937,
          -2.3457261682322184,
          1.144717780684277,
          -0.3068732440636781,
          -0.6060514172748857,
          0.7572047654551065,
          -3.834912822714411,
          0.5652300067174019,
          -0.9637970430329952,
          -1.1960073449337785,
          -3.3299825311848545,
          0.9434354303317057,
          2.9864681890040403,
          -0.04106476094423773,
          -3.456350015734576,
          -0.10523651196040049,
          -1.7501905335429422,
          -1.9617762665658227,
          -1.9563087512278066,
          -4.158183682506783,
          1.9428009065864622,
          -0.2031842401794261,
          -2.4882251093630843,
          -0.7526375770388478,
          -1.8506609674402676,
          0.7402325251146106,
          -0.4960377071416225,
          -0.6868406508631353,
          -1.746509470041931,
          3.2767210160053577,
          -3.999390782516358,
          5.746960903984819,
          2.1909561965599815,
          -2.4414260548501296,
          -2.0672054569877223,
          1.9029580894965952,
          0.6213625704675358,
          0.5211290493867569,
          -0.8246402528257912,
          0.9834747418401956,
          -0.26625263701450996,
          -0.09439957827950231,
          0.158194788973309,
          1.942210113524541,
          1.2122765472980188,
          -1.2250847597987302,
          -0.2690428711433338,
          5.094005563244504,
          -0.9977960673612308,
          4.072664566106293,
          0.2231830649608522,
          6.639365681875092,
          -0.2265227139663475,
          0.48807356955667214
         ]
        },
        {
         "box": {
          "visible": false
         },
         "legendgroup": "D",
         "line": {
          "color": "#EF553B"
         },
         "meanline": {
          "visible": true
         },
         "name": "D",
         "scalegroup": "D",
         "side": "positive",
         "type": "violin",
         "x": [
          0,
          1,
          2,
          3,
          4,
          0,
          1,
          2,
          3,
          4,
          0,
          1,
          2,
          3,
          4,
          0,
          1,
          2,
          3,
          4,
          0,
          1,
          2,
          3,
          4,
          0,
          1,
          2,
          3,
          4,
          0,
          1,
          2,
          3,
          4,
          0,
          1,
          2,
          3,
          4,
          0,
          1,
          2,
          3,
          4,
          0,
          1,
          2,
          3,
          4,
          0,
          1,
          2,
          3,
          4,
          0,
          1,
          2,
          3,
          4,
          0,
          1,
          2,
          3,
          4,
          0,
          1,
          2,
          3,
          4,
          0,
          1,
          2,
          3,
          4,
          0,
          1,
          2,
          3,
          4,
          0,
          1,
          2,
          3,
          4,
          0,
          1,
          2,
          3,
          4,
          0,
          1,
          2,
          3,
          4,
          0,
          1,
          2,
          3,
          4,
          0,
          1,
          2,
          3,
          4,
          0,
          1,
          2,
          3,
          4,
          0,
          1,
          2,
          3,
          4,
          0,
          1,
          2,
          3,
          4,
          0,
          1,
          2,
          3,
          4,
          0,
          1,
          2,
          3,
          4,
          0,
          1,
          2,
          3,
          4,
          0,
          1,
          2,
          3,
          4,
          0,
          1,
          2,
          3,
          4,
          0,
          1,
          2,
          3,
          4,
          0,
          1,
          2,
          3,
          4,
          0,
          1,
          2,
          3,
          4,
          0,
          1,
          2,
          3,
          4,
          0,
          1,
          2,
          3,
          4,
          0,
          1,
          2,
          3,
          4,
          0,
          1,
          2,
          3,
          4,
          0,
          1,
          2,
          3,
          4,
          0,
          1,
          2,
          3,
          4,
          0,
          1,
          2,
          3,
          4,
          0,
          1,
          2,
          3,
          4,
          0,
          1,
          2,
          3,
          4,
          0,
          1,
          2,
          3,
          4,
          0,
          1,
          2,
          3,
          4,
          0,
          1,
          2,
          3,
          4,
          0,
          1,
          2,
          3,
          4,
          0,
          1,
          2,
          3,
          4,
          0,
          1,
          2,
          3,
          4,
          0,
          1,
          2,
          3,
          4,
          0,
          1,
          2,
          3,
          4,
          0,
          1,
          2,
          3,
          4,
          0,
          1,
          2,
          3,
          4,
          0,
          1,
          2,
          3,
          4,
          0,
          1,
          2,
          3,
          4,
          0,
          1,
          2,
          3,
          4,
          0,
          1,
          2,
          3,
          4,
          0,
          1,
          2,
          3,
          4,
          0,
          1,
          2,
          3,
          4,
          0,
          1,
          2,
          3,
          4,
          0,
          1,
          2,
          3,
          4,
          0,
          1,
          2,
          3,
          4,
          0,
          1,
          2,
          3,
          4,
          0,
          1,
          2,
          3,
          4,
          0,
          1,
          2,
          3,
          4,
          0,
          1,
          2,
          3,
          4,
          0,
          1,
          2,
          3,
          4,
          0,
          1,
          2,
          3,
          4,
          0,
          1,
          2,
          3,
          4,
          0,
          1,
          2,
          3,
          4,
          0,
          1,
          2,
          3,
          4,
          0,
          1,
          2,
          3,
          4,
          0,
          1,
          2,
          3,
          4,
          0,
          1,
          2,
          3,
          4,
          0,
          1,
          2,
          3,
          4,
          0,
          1,
          2,
          3,
          4,
          0,
          1,
          2,
          3,
          4,
          0,
          1,
          2,
          3,
          4,
          0,
          1,
          2,
          3,
          4,
          0,
          1,
          2,
          3,
          4,
          0,
          1,
          2,
          3,
          4,
          0,
          1,
          2,
          3,
          4,
          0,
          1,
          2,
          3,
          4,
          0,
          1,
          2,
          3,
          4,
          0,
          1,
          2,
          3,
          4,
          0,
          1,
          2,
          3,
          4,
          0,
          1,
          2,
          3,
          4,
          0,
          1,
          2,
          3,
          4,
          0,
          1,
          2,
          3,
          4,
          0,
          1,
          2,
          3,
          4,
          0,
          1,
          2,
          3,
          4,
          0,
          1,
          2,
          3,
          4,
          0,
          1,
          2,
          3,
          4,
          0,
          1,
          2,
          3,
          4,
          0,
          1,
          2,
          3,
          4,
          0,
          1,
          2,
          3,
          4,
          0,
          1,
          2,
          3,
          4,
          0,
          1,
          2,
          3,
          4,
          0,
          1,
          2,
          3,
          4,
          0,
          1,
          2,
          3,
          4,
          0,
          1,
          2,
          3,
          4,
          0,
          1,
          2,
          3,
          4,
          0,
          1,
          2,
          3,
          4,
          0,
          1,
          2,
          3,
          4,
          0,
          1,
          2,
          3,
          4,
          0,
          1,
          2,
          3,
          4,
          0,
          1,
          2,
          3,
          4,
          0,
          1,
          2,
          3,
          4,
          0,
          1,
          2,
          3,
          4,
          0,
          1,
          2,
          3,
          4,
          0,
          1,
          2,
          3,
          4,
          0,
          1,
          2,
          3,
          4,
          0,
          1,
          2,
          3,
          4,
          0,
          1,
          2,
          3,
          4,
          0,
          1,
          2,
          3,
          4,
          0,
          1,
          2,
          3,
          4,
          0,
          1,
          2,
          3,
          4,
          0,
          1,
          2,
          3,
          4,
          0,
          1,
          2,
          3,
          4,
          0,
          1,
          2,
          3,
          4,
          0,
          1,
          2,
          3,
          4,
          0,
          1,
          2,
          3,
          4,
          0,
          1,
          2,
          3,
          4,
          0,
          1,
          2,
          3,
          4,
          0,
          1,
          2,
          3,
          4,
          0,
          1,
          2,
          3,
          4,
          0,
          1,
          2,
          3,
          4,
          0,
          1,
          2,
          3,
          4,
          0,
          1,
          2,
          3,
          4,
          0,
          1,
          2,
          3,
          4,
          0,
          1,
          2,
          3,
          4,
          0,
          1,
          2,
          3,
          4,
          0,
          1,
          2,
          3,
          4,
          0,
          1,
          2,
          3,
          4,
          0,
          1,
          2,
          3,
          4,
          0,
          1,
          2,
          3,
          4,
          0,
          1,
          2,
          3,
          4,
          0,
          1,
          2,
          3,
          4,
          0,
          1,
          2,
          3,
          4,
          0,
          1,
          2,
          3,
          4,
          0,
          1,
          2,
          3,
          4,
          0,
          1,
          2,
          3,
          4,
          0,
          1,
          2,
          3,
          4,
          0,
          1,
          2,
          3,
          4,
          0,
          1,
          2,
          3,
          4,
          0,
          1,
          2,
          3,
          4,
          0,
          1,
          2,
          3,
          4,
          0,
          1,
          2,
          3,
          4,
          0,
          1,
          2,
          3,
          4,
          0,
          1,
          2,
          3,
          4,
          0,
          1,
          2,
          3,
          4,
          0,
          1,
          2,
          3,
          4,
          0,
          1,
          2,
          3,
          4,
          0,
          1,
          2,
          3,
          4,
          0,
          1,
          2,
          3,
          4,
          0,
          1,
          2,
          3,
          4,
          0,
          1,
          2,
          3,
          4,
          0,
          1,
          2,
          3,
          4,
          0,
          1,
          2,
          3,
          4,
          0,
          1,
          2,
          3,
          4,
          0,
          1,
          2,
          3,
          4,
          0,
          1,
          2,
          3,
          4,
          0,
          1,
          2,
          3,
          4,
          0,
          1,
          2,
          3,
          4,
          0,
          1,
          2,
          3,
          4,
          0,
          1,
          2,
          3,
          4,
          0,
          1,
          2,
          3,
          4,
          0,
          1,
          2,
          3,
          4,
          0,
          1,
          2,
          3,
          4,
          0,
          1,
          2,
          3,
          4,
          0,
          1,
          2,
          3,
          4,
          0,
          1,
          2,
          3,
          4,
          0,
          1,
          2,
          3,
          4,
          0,
          1,
          2,
          3,
          4,
          0,
          1,
          2,
          3,
          4,
          0,
          1,
          2,
          3,
          4,
          0,
          1,
          2,
          3,
          4,
          0,
          1,
          2,
          3,
          4,
          0,
          1,
          2,
          3,
          4,
          0,
          1,
          2,
          3,
          4,
          0,
          1,
          2,
          3,
          4,
          0,
          1,
          2,
          3,
          4,
          0,
          1,
          2,
          3,
          4,
          0,
          1,
          2,
          3,
          4,
          0,
          1,
          2,
          3,
          4,
          0,
          1,
          2,
          3,
          4,
          0,
          1,
          2,
          3,
          4,
          0,
          1,
          2,
          3,
          4,
          0,
          1,
          2,
          3,
          4,
          0,
          1,
          2,
          3,
          4,
          0,
          1,
          2,
          3,
          4,
          0,
          1,
          2,
          3,
          4,
          0,
          1,
          2,
          3,
          4,
          0,
          1,
          2,
          3,
          4,
          0,
          1,
          2,
          3,
          4,
          0,
          1,
          2,
          3,
          4,
          0,
          1,
          2,
          3,
          4,
          0,
          1,
          2,
          3,
          4,
          0,
          1,
          2,
          3,
          4,
          0,
          1,
          2,
          3,
          4,
          0,
          1,
          2,
          3,
          4,
          0,
          1,
          2,
          3,
          4,
          0,
          1,
          2,
          3,
          4,
          0,
          1,
          2,
          3,
          4,
          0,
          1,
          2,
          3,
          4,
          0,
          1,
          2,
          3,
          4,
          0,
          1,
          2,
          3,
          4,
          0,
          1,
          2,
          3,
          4,
          0,
          1,
          2,
          3,
          4,
          0,
          1,
          2,
          3,
          4,
          0,
          1,
          2,
          3,
          4,
          0,
          1,
          2,
          3,
          4,
          0,
          1,
          2,
          3,
          4,
          0,
          1,
          2,
          3,
          4
         ],
         "y": [
          -3.248104961438571,
          -4.105134736850209,
          -1.8450446040272392,
          -1.9738852507785924,
          -1.0730414629364837,
          0.7727256551776968,
          -8.54720504758485,
          -2.0465694403214454,
          -0.7483936074111844,
          -3.7629384849468366,
          -1.7727685276864067,
          -4.111849973113967,
          -1.7101526794188884,
          0.762817193766289,
          1.0887335900797104,
          -4.729784837500115,
          -1.832051324976581,
          -0.8023928838515055,
          -3.5785105753424076,
          3.501702524417103,
          -3.0867661695717743,
          -0.6727777558210979,
          -1.8029566686438276,
          -1.6185031637231746,
          0.23178187490709132,
          -1.2884880530757739,
          -6.299812004639517,
          2.950658612208193,
          -0.7573234971435869,
          -0.8211454689511961,
          -5.868785953063169,
          1.5213929948835894,
          -3.7805208907726873,
          -4.649155392232482,
          1.0981928497609816,
          0.5022736552177307,
          -5.698225851163506,
          4.365361136767467,
          0.7575790093263283,
          -1.1922360091966282,
          7.8168735381965995,
          12.72672378319801,
          -9.044243865624162,
          3.466717429560242,
          -0.1840344278252075,
          -2.0574429571144495,
          -3.6572373783365326,
          4.303420338923607,
          -2.2519998038752216,
          -2.270937987292363,
          -3.532900787326898,
          -0.35533972910478556,
          3.109965088933914,
          -0.5891265554945939,
          -1.0912040530376836,
          -5.0709101269300945,
          -1.7790247616647772,
          0.3132609794663189,
          -2.5350196613086613,
          -0.42948980304312306,
          -7.357236556272357,
          -1.5268370928246913,
          3.1509268955144902,
          0.8386014500183898,
          1.7828059037847233,
          -0.985273345515536,
          0.4596556201870211,
          1.8988783057689722,
          2.464342256572064,
          0.9282063260654619,
          -3.213759994881226,
          -0.16721276848781594,
          0.3829201803699166,
          -3.6138975837106524,
          1.2042846118503594,
          -4.23334116115473,
          0.4675261339226352,
          -1.007881782692221,
          -5.943276224601791,
          0.5600177992024726,
          0.5237991009637242,
          -0.4905066552841517,
          3.8671819484647716,
          0.4842282805180978,
          -0.4990694636405257,
          -3.689212620966913,
          -4.088363407722803,
          3.4938707719030475,
          -2.148539748602676,
          -2.687189176900715,
          -1.7990613930385233,
          -0.17306805052307192,
          1.0584036792271396,
          0.16445230017515874,
          -0.8455204841310835,
          -0.46137720795840226,
          2.9652948828512726,
          -1.3267265252450111,
          -0.5933134489089466,
          -0.9069133967404139,
          4.4266842848828425,
          5.400971157244528,
          -0.21033068728209187,
          3.4464703050693957,
          0.5870297416063944,
          3.661464374973091,
          2.831341950294096,
          -0.7655310929902274,
          2.6659210447625785,
          0.803807038290881,
          -2.6434295060835735,
          -5.245596759720613,
          4.233261784365676,
          5.475074550214232,
          -2.3905630961637465,
          -6.530068866932935,
          -0.34252483707593817,
          -1.5064399167228613,
          -1.5927581288770312,
          -3.930264128634382,
          12.391975617858403,
          12.387860771455827,
          -5.26755843630123,
          5.249996274380077,
          -1.1189811702756973,
          -5.356747445204333,
          2.62366269316658,
          -4.656618540043342,
          -3.697434452519825,
          0.02073791397168423,
          -2.360992992247724,
          -4.448418891995936,
          0.7292046517862737,
          -1.4882115846663129,
          -2.4128419493528495,
          14.680022703897512,
          4.5499608644259935,
          -8.39448892832132,
          -1.553089735050514,
          -2.9999252850703066,
          -2.7120652599141697,
          -2.295632435009136,
          -1.0219911243621147,
          0.1277482185823535,
          0.41974773897573203,
          2.9753357759584524,
          0.9403183987481976,
          -3.3414366831641136,
          2.28703398104304,
          -2.378357751253997,
          12.077193909565446,
          3.0744906983548073,
          -2.688658960916028,
          0.2748532857460352,
          -3.1777336799640055,
          -2.050447640828568,
          1.4463276897112536,
          -1.1640042208388834,
          -3.010640804672807,
          0.18348673224506099,
          -3.3614842049545497,
          -3.346964499470735,
          0.0910420763836552,
          -0.8426381030204539,
          -1.0145806695516197,
          9.734026600993598,
          8.572347282084875,
          -6.979714233165985,
          5.769936602758159,
          0.04078174903782192,
          -5.238495181379243,
          1.0859010768918624,
          4.959745318936788,
          -2.966769163857575,
          0.28498504814840797,
          -1.8941052375601979,
          1.3100345857577063,
          -2.322225904574283,
          2.3809576035990316,
          2.3076714234869082,
          8.844029397962503,
          7.811725925508047,
          -5.2583587478956,
          4.831444426720463,
          -0.8242857568994809,
          -1.2985171058455318,
          0.48742755966063445,
          1.539229120858748,
          -2.4209748077727196,
          0.4785182482590758,
          5.365744407845148,
          0.1153812946074914,
          1.7121891828633193,
          1.287113835385369,
          3.754728165033322,
          -2.881342947190168,
          -4.312712340079868,
          2.978952160641589,
          1.7923757260637776,
          -1.8957380845118477,
          -0.8317913548172927,
          -5.393046361877285,
          -1.7094140444095889,
          -6.444835556094857,
          -0.6610682620432214,
          -3.097705564294153,
          0.20959231442886656,
          -1.6626162593829727,
          -6.529708982150203,
          1.2600909015251298,
          -6.114221085603704,
          0.1575084936412518,
          1.5576127126615673,
          -6.010199867597867,
          3.6572346259293007,
          -5.762153696077571,
          -1.3170503495698722,
          -1.2952060955712126,
          -6.391980684085342,
          3.009467234130933,
          1.8018892738093382,
          0.10270386150043215,
          -2.6654111917917707,
          -1.2952936301541174,
          1.272117922612559,
          9.491932196758404,
          6.336271876308906,
          -6.332419802303275,
          2.0499054279309994,
          -2.28719281800582,
          -1.43575697576678,
          -1.5256397982341687,
          0.6061631341937209,
          2.2507713194744223,
          0.12754398264113584,
          -1.4655531354238756,
          -4.19158164754142,
          4.71282539947464,
          -1.5106722788450653,
          1.3207857486099766,
          -2.611195063647895,
          -7.320128012756815,
          -1.289947570749367,
          -2.3475738200950365,
          -2.199569077439292,
          -4.631822598849665,
          -6.80887483097391,
          -1.3169987167789532,
          -3.4201735391050323,
          -0.6841658692117631,
          -2.2708159353712367,
          -9.807614201461105,
          1.1084127586511914,
          -5.6466983042834,
          -0.916085064306244,
          -3.317534890490536,
          -1.7031485398373658,
          -1.9518283862084473,
          -3.171261661624446,
          -2.515464570645544,
          -3.34725305661386,
          -2.0061296344830697,
          0.8820299015945454,
          -0.9979147817123418,
          -0.5207139898368716,
          -3.25743979374926,
          -2.601374862657178,
          2.447228645560919,
          -0.20425434506301338,
          2.988894987557775,
          -3.128015866547224,
          -1.5047050329036344,
          3.2206854891547616,
          -3.004755099209462,
          -0.2001770800358654,
          -5.285876209046452,
          -1.1727414257318196,
          0.6490140837073175,
          -1.1907208291278737,
          1.7788679980774915,
          -0.19013391184007317,
          -5.733116271572898,
          0.5678664477389053,
          -0.7473447222291016,
          -0.8225260811387183,
          -1.9443222647919423,
          -7.18801763781934,
          5.7079777142138415,
          0.17999402566519057,
          2.1703915779878082,
          -2.8436072918690343,
          -2.2533195762983302,
          -0.27393548599793693,
          -2.8706094302489027,
          0.6652983115076221,
          4.956133995102865,
          1.1641535040700652,
          -2.5099096914780152,
          1.261940877726042,
          -1.5887313711599522,
          -6.302727649216997,
          3.8250586825490833,
          -4.4542317105984885,
          2.18572847377122,
          2.171484811982405,
          -2.9738338370769193,
          1.2000226736778952,
          -4.887624043235845,
          0.7503900629078641,
          -1.4111635601010242,
          -3.2949616268594104,
          -2.8824313252497964,
          -3.7764222776481753,
          -0.9006775503152884,
          -2.517884724558965,
          -0.2005075830219719,
          -7.951987781227474,
          0.3670379989033308,
          -0.05038459181267346,
          -2.759083520991744,
          1.8435485575497994,
          -2.9311905999945975,
          0.6350287552939604,
          -0.2768845770676529,
          -1.0465360575173461,
          -2.2289144988805956,
          0.27931350901629964,
          -4.294797404175586,
          -0.30836475072057445,
          -0.2999509441573869,
          -4.347354389230857,
          2.7740657086573726,
          -3.950161990693734,
          -3.243124744149693,
          1.8481395652700332,
          2.3270614098608626,
          3.663144426319632,
          4.226024873968555,
          0.2929946312133354,
          5.209629567784637,
          -0.7325551436094986,
          1.865405652260229,
          -5.743219571313328,
          1.1497211696734864,
          -0.1778494525578984,
          0.7533963360526291,
          -1.3505702019118977,
          -0.5250865680916746,
          2.376581759912503,
          -1.2137389024077458,
          3.176919863913417,
          -4.314811084033822,
          3.2077473939852665,
          1.680337042479099,
          -4.208455717076333,
          -0.5614749966359764,
          1.1729073975725501,
          -1.4478884467215198,
          -0.8474144195823605,
          -0.0731401481277938,
          -0.40797762249409397,
          2.3246291611552934,
          0.0026098842355428203,
          -1.8726785991994497,
          0.6910511696951122,
          -2.475098466000139,
          5.356036998394178,
          0.07196425566014478,
          -1.2163383511096668,
          -0.7809153964133753,
          0.8157608533538582,
          3.7726608471206187,
          3.55343390611557,
          -1.2535800110583515,
          4.642946484485773,
          -1.004134243401174,
          2.966822847609792,
          -0.8232363793412762,
          -6.268726593338928,
          0.1325041901502023,
          -5.823097614270578,
          3.041200154832042,
          -2.552966663020141,
          2.1310309561942704,
          -0.9632007105064313,
          1.4532340610627261,
          -4.117256336447765,
          2.832846248919728,
          4.989907673062398,
          1.4386305831228403,
          2.588291429944462,
          -2.243499459792094,
          2.1110489714976124,
          6.718276580966044,
          2.3737680411074593,
          -3.625099736957435,
          4.201335440749892,
          -2.739834570553195,
          0.7739543980421251,
          4.626334346806271,
          -2.7243079869693236,
          -2.6467239435445444,
          -0.17379462056634767,
          -0.09523430339821955,
          -1.7348631733377529,
          0.781481294005679,
          1.6256650612470327,
          0.5320334444145831,
          -1.0395077626908176,
          -0.6970911013346447,
          -0.3691286464522866,
          0.3847427422540576,
          -1.2852403835164605,
          -1.0101730324877045,
          1.5268297746111443,
          -1.3257233115810456,
          3.8826410859378697,
          -1.8419930278933339,
          1.974527787887261,
          0.5246373758649123,
          1.8654453018129848,
          -1.0906333615600095,
          0.9828640094570251,
          -0.18414382763157297,
          5.785489831453609,
          3.067827104601306,
          -1.863628663268793,
          0.9659381775763337,
          -2.5005104647610015,
          3.504109193787042,
          -1.0545291569208213,
          2.709711501474597,
          -0.037194962835639736,
          -4.317651145888495,
          0.09509165764138552,
          3.543984105344335,
          -5.361637534534034,
          5.596735103783319,
          3.869799434806323,
          -2.813945173847572,
          0.6019920646686882,
          -1.6050065792709398,
          0.903959921924864,
          2.2015157592068606,
          -0.3810890200240429,
          -2.852370352706388,
          3.473055487884431,
          -2.0253874545488704,
          -1.2872058378222169,
          5.360224534840807,
          -2.481089063620273,
          0.8447964846740116,
          -3.568139070892256,
          0.17479643563553138,
          -1.149894108877165,
          -2.695583073627048,
          0.6412053524719168,
          -3.2011791027377154,
          2.434086862686354,
          -1.1942404435055884,
          1.4283042443066474,
          -1.838174764102685,
          3.37507395926181,
          3.2699410457664464,
          1.1223651217570154,
          3.900154705039227,
          -1.5809341692462122,
          3.7483075576626557,
          0.9051225374264155,
          -0.4379689035429965,
          -4.084389074232379,
          -0.37327173765005434,
          -2.2918166223555567,
          1.8555650929997023,
          0.7833524047363664,
          5.871857123612779,
          -2.855067239603546,
          4.630558547492327,
          1.0762311548443664,
          -2.4116572917206875,
          3.397812503916536,
          -5.29709391904628,
          -0.8048942143304949,
          5.631190611196452,
          -1.9330928224770254,
          0.8401438437021628,
          4.3999649481457785,
          0.7760805836281669,
          -1.9861388134421945,
          -0.17542116296744212,
          0.9919103270212427,
          -1.6666875964917263,
          -0.297452490286842,
          2.8965367247442715,
          0.38359770838451523,
          0.06090109518135639,
          5.022562996636633,
          -2.5438012333634066,
          -4.755846207407743,
          -1.5025518792360482,
          -2.370065328029748,
          8.622414594773426,
          -3.1398497929052493,
          -7.359298798299663,
          0.1302080502602175,
          -1.0488855384413602,
          2.4764546957107574,
          0.42946107759662855,
          -2.7236578358153425,
          -0.12354372518095409,
          4.292804643829317,
          -1.2626048213477363,
          3.7352011173537387,
          -1.0747258080187134,
          -1.8646480599759045,
          -8.303363424362704,
          6.207968461335767,
          -3.2345075034915114,
          -2.328902841664188,
          1.8478334569291057,
          -0.40013956905372694,
          0.3146475363860037,
          -1.4803183218039853,
          0.25792525770954855,
          -0.2546755323115156,
          -1.9708841966912862,
          -0.5940807175898717,
          0.10694643620454733,
          2.562258715000307,
          -0.46437910750527767,
          3.2466690561021507,
          -0.9984539069255373,
          -2.1132137701617504,
          2.595982426528695,
          0.09616625696725584,
          -2.264180874280532,
          2.3385470848310734,
          -4.548179546227454,
          0.810336478569783,
          0.020963163634514545,
          -2.673780599807902,
          3.661052395642256,
          -4.076881659993545,
          -2.3867471164083525,
          -2.1773073382301167,
          3.1143447451757886,
          -0.3746463603581916,
          -2.2637040556975108,
          -3.6861258360347264,
          -0.7602883567414522,
          4.861488999949277,
          4.708338269216494,
          5.426942094814918,
          -7.17401976418978,
          4.992971799494448,
          2.1240060471973616,
          -1.487689633727229,
          0.6867412689981309,
          3.217411443880118,
          -1.4949739106459436,
          2.660786315807808,
          -2.7084903698545473,
          5.6974394577277225,
          5.273881297399872,
          -2.38895382132743,
          -0.035480903208394934,
          0.08502537861622758,
          -1.8079555154563542,
          -0.17916995953145784,
          -0.6445732573199627,
          2.8954308685662156,
          -0.9717377003581763,
          4.170489066932941,
          -1.777708341166083,
          -0.6252396470832224,
          -3.286395738726672,
          -0.2872806034027085,
          -2.1096031722592166,
          0.9434162540105375,
          -1.5615105756732477,
          -1.0971560599294792,
          -4.339252704700933,
          -0.18428916986495772,
          0.46970531537394816,
          3.088683808628412,
          -1.5234265870713644,
          2.6758912844695146,
          -5.483326314147361,
          -4.422848690254173,
          -1.894538250036554,
          2.0456575182140435,
          -4.0994457112128195,
          3.3969791404016276,
          -0.6279955070264905,
          -2.6182115392795473,
          1.573432713376907,
          3.090111400811095,
          2.647201135593999,
          -2.8053275440405745,
          3.3829729650260996,
          6.289778569462275,
          -3.925119727166753,
          6.17331662979119,
          2.7745918136656433,
          0.3400976866128378,
          3.3460731128691346,
          -3.262248217635479,
          3.1187124155678023,
          5.548319889396422,
          -2.0918963738836625,
          6.28069970862668,
          -5.1008559934447595,
          8.018212647522573,
          2.60460026133601,
          -1.8259248379249313,
          2.048924984025777,
          -0.7167904759698073,
          6.07849139249147,
          2.2177257241253554,
          -2.5040994183182015,
          -5.612347462301774,
          1.0766848964253488,
          -11.01513644074224,
          -1.5958748688334279,
          0.6245157019976271,
          3.803450388475835,
          -4.594260506003814,
          -2.694779718248848,
          2.2095902306784962,
          0.4956883530387467,
          4.155477407591083,
          -4.771627211767712,
          -2.140789261529702,
          0.3846770015445801,
          -0.9151855105146531,
          2.3199233716582093,
          -4.657218352883967,
          -2.3230038453865887,
          2.674688002490561,
          -1.5843548360328663,
          -6.202534877695809,
          5.220147178536137,
          -7.6571067427849595,
          -2.9011914534149477,
          -0.18615891581315225,
          -0.263491753820277,
          -0.4601436272383378,
          -1.5673334105209284,
          0.1450814286583426,
          1.4473217257543447,
          -0.4878087833154732,
          -2.3805455940724545,
          -2.0093159278520725,
          2.1748495645600876,
          -0.8780563586944506,
          2.1267378268695576,
          -2.987973500880923,
          2.8655784470336174,
          2.823568598390299,
          0.1299990196164731,
          -0.014276536918908594,
          4.114613298793635,
          1.7156553993897972,
          -1.020558279584725,
          1.4324875497962513,
          -0.5776364572622282,
          -0.7214276386021143,
          3.2884659928999103,
          -1.8008523990397036,
          -1.1079551544452857,
          -3.1707169624053124,
          3.3110118651336964,
          -2.1036371408003327,
          -2.0104551621191,
          -1.9289875463270403,
          0.7192850436244181,
          -0.6503011896414582,
          1.7324392519789595,
          1.0324875762629875,
          0.9201541151862243,
          5.139782968802663,
          2.477949255016073,
          -5.724644155831331,
          1.993050729721072,
          0.07220393980759694,
          1.6018064924035296,
          1.4688392604404112,
          -3.3864685536851447,
          -1.0439254585210482,
          -0.7187403767636495,
          3.900342662537553,
          -5.12040992026821,
          4.120784091627743,
          6.068680956307052,
          -2.308399268223382,
          0.9081284672634077,
          1.3869918573261724,
          -0.984153432671498,
          -0.48730487046341286,
          0.10400396470521064,
          -3.701049910778973,
          3.03690176350452,
          -2.2743054746405744,
          -1.3463739530739038,
          -1.4537840537904676,
          3.1473000963864974,
          -2.175327402344239,
          0.48854034334510865,
          2.4199421905256338,
          -0.6973184541797262,
          -1.5233443093998387,
          2.3933482420281997,
          -0.7883366221045163,
          -1.169155540984406,
          -3.1812497604742975,
          -4.696177092799023,
          7.054061885415838,
          -6.98660528146608,
          -4.534273290018403,
          -0.2992376246168163,
          1.2952748724288818,
          -1.3257763309340387,
          2.9690408034791393,
          -0.7229393673486668,
          -0.31305197356097325,
          -2.66578247421882,
          0.6784647456267575,
          -4.54644991871504,
          0.4818365517389018,
          0.8639807919737602,
          -4.318391672733065,
          2.7986387551471745,
          -4.107803987008318,
          -2.897742637677112,
          1.2246809422846245,
          1.3020110645648184,
          0.49702361529405764,
          -0.4288339946680434,
          -3.5908807634666,
          0.5275772452078442,
          0.7343758598201188,
          -1.5707035087185635,
          3.1756321069010855,
          3.476772590811207,
          -0.6619480534324297,
          -2.4136156178852475,
          0.7857162450927355,
          -0.032903669774046226,
          -3.112996420223313,
          -0.7278499550825883,
          -1.4590432420472736,
          1.8625350559543088,
          -1.7782159620015972,
          -0.8777057119003777,
          12.803443543916092,
          0.4513103452095772,
          0.48190758634320574,
          2.82293508704368,
          1.3298940834289987,
          -1.0856558807069807,
          -1.3835200430615204,
          -0.9022519765318875,
          2.3576381612213435,
          0.17803775749874728,
          -1.3717633398997133,
          -1.9283285960682375,
          2.4008954174517974,
          1.9639411764312167,
          -1.1362157605728942,
          4.731826109388841,
          -3.4120931739360887,
          3.0195297751084347,
          1.1181218461684272,
          0.6048242708874207,
          -2.1766110007119996,
          -5.319400938493607,
          5.874912027882821,
          -2.2821352446334657,
          -5.538961118296072,
          -1.0659614119353735,
          2.3699270379905752,
          3.045156845002959,
          1.8837098698240613,
          -2.6741899224960863,
          1.5122195656956638,
          -1.955357208385216,
          1.2581015446940027,
          0.7785198338226693,
          2.310898863591065,
          0.6355031977316323,
          -4.2368970587935495,
          -0.7852595825824261,
          -1.5519774766037506,
          -0.32637501205219527,
          -1.7830265289259004,
          -5.740836931683593,
          6.25205322557145,
          -2.684932558291673,
          -5.60495443792368,
          0.32684673982491863,
          -1.912627640733385,
          1.6776447245457407,
          -3.032717140639971,
          -0.8123418945041512,
          4.369639946721876,
          -5.740199257909017,
          3.450878862199582,
          -4.8977639367707475,
          -2.711220497488988,
          1.1237795590996793,
          -6.665151535577953,
          5.078061888500224,
          -4.021771677936193,
          -4.173193912997731,
          -0.09704409378588899,
          1.681365724577129,
          2.2400606929547076,
          -0.3349747025945596,
          3.791358387661084,
          0.48502297843243447,
          0.08299180508927147,
          -4.102841352619483,
          0.8048273801600673,
          3.820366030632323,
          -1.363388762131298,
          0.1869973078242597,
          -2.4866264525574717,
          -2.7023371376072864,
          -0.461113208248142,
          -0.9488226018706004,
          -0.8350062177873896,
          -0.6810370063762192,
          -4.747382941156536,
          -1.2538816772364216,
          -2.5002011670002675,
          -5.800116150646953,
          2.5045238027984165,
          -5.377857596274867,
          -1.0667334500484635,
          -0.7049982055896277,
          -5.35573611169343,
          1.6189018545914469,
          -0.7315073351277759,
          -1.805743747748243,
          0.06517207809282033,
          1.2616702995487397,
          -2.9740744889395523,
          1.241110963626213,
          0.8147154791018145,
          -0.12748733542411342,
          -0.35168275949473965,
          0.41314828481941884,
          4.713868962896378,
          0.16698323590212477,
          11.178857370593871,
          1.1207586480161282,
          2.704409310182707,
          -5.1263390235179065,
          -0.47066087082639313,
          0.5933643600919224,
          3.6093054620611857,
          -3.4561261776958805,
          1.7491380531412544,
          0.28159639271684167,
          -0.5057782949793488,
          3.750073230974553,
          -4.067574891823821,
          -1.1681622790353654,
          1.3461356746100603,
          -0.9864296906798106,
          1.6042176686294138,
          -4.85598686576907,
          0.8131789196603895,
          6.883199529462693,
          -1.9828748171415473,
          0.21953358058668695,
          -0.34175695683638063,
          -0.43408101837107177,
          -1.3742736582769526,
          -1.8099169286140626,
          2.2203884853065143,
          -5.2178937572493105,
          4.940401129114307,
          1.0115019942304178,
          1.438713886093672,
          3.1045806989204623,
          -7.17111164293319,
          2.760046031724053,
          3.584252042931096,
          -1.3505828675759366,
          -2.677177389012789,
          1.6629777998360438,
          2.95746468200215,
          -0.5200948929737035,
          -0.7565250392423415,
          9.521381556902181,
          -0.0941733380472274,
          -1.8201787637672922,
          9.495940485953023,
          -0.892898531223226,
          1.3544106347518612,
          -1.2448577809174401,
          -0.7091013087328031,
          2.2957699613667586,
          -2.184864964443393,
          -1.5667930664282006,
          0.001252764803206898,
          -2.4967771170677286,
          4.298938591697526,
          -0.8173560451126137,
          0.6329428281180548,
          4.5685742863745045,
          0.18211454274566108,
          -3.9557894152367217,
          2.296823770225133,
          2.7225793928612405,
          3.150551214915248,
          -2.62310467621042,
          1.7136577288548824,
          -0.905889061230063,
          -2.9905564879193047,
          0.16425293200547236,
          -2.606399107277473,
          -0.48869930000960143,
          -0.16519514820180253,
          0.7353863597386625,
          -1.731170500917221,
          1.602632393812605,
          -2.84062197421018,
          1.2139700743809723,
          1.6592139651831308,
          0.41827192881324704,
          5.670027718374104,
          -5.506176348134555,
          1.6147468822655855,
          -2.80358598161426,
          2.52537951874026,
          -2.1854199459974195,
          -1.618060090191854,
          1.661464054511117,
          -6.567804301084016,
          2.9302515763194714,
          -3.4845606632605812,
          -0.3041915519946294,
          3.491492011771975,
          -0.28430847642101575,
          -2.4190564363909655,
          1.4620566030456448,
          1.451145534275073,
          -2.8104339739482307,
          -4.906662743964627,
          2.4166899102177704,
          -2.5293803449749266,
          -2.8666098723389446,
          2.02910768155654,
          -5.239509375190821,
          -0.5418027271953268,
          -3.361493748032279,
          -0.05207135160751538,
          -1.367945860296526,
          2.488792153713679,
          -4.7088223344699305,
          3.6010947231792083,
          2.045007010834359,
          -0.5027225258606333,
          3.0861442371893024,
          -0.4711804199902979,
          -0.6759652188945622,
          -5.557613721334837,
          -1.3761700893282893,
          -2.297354853149583,
          -0.63926219733226,
          0.7486293504546626,
          2.5549341802109797,
          1.514577022848667,
          0.13769641666239324,
          -1.3309469676444243,
          3.2580846530805294,
          -2.017279881959597,
          -0.14085011199541594,
          -1.1614839867505171,
          -2.018187361880753,
          0.3525601250443437,
          -1.710751846475898,
          -1.443894923364015,
          -2.8369081601126087,
          4.6932158770986,
          -2.959804611704631,
          -3.4429142250955223,
          3.5466726393400525,
          -3.402588949013042,
          0.3872277164322018,
          -4.666419473572387,
          0.0686864225659315,
          -0.7343846987194964,
          -2.050942697192836,
          4.330993187126193,
          0.10651009208477365,
          -5.4263449957109104,
          -1.547301209715854,
          -3.827419664088355,
          14.14837265829271,
          -9.295348353389487,
          -3.818469226228911,
          0.4741385706301767,
          -2.465863938686064,
          5.778482131806855,
          0.0010153874181042962,
          -1.6826615306476356,
          0.5851861199693136,
          0.1793920025314818,
          0.9227904380418707,
          2.333916710030896,
          0.7185100824546338,
          3.3427595244590766,
          -2.196710948325123,
          0.565373257550238,
          -0.6942899089284428,
          -0.5914373308323124,
          -1.6502713480935394,
          -1.7039597796026562,
          1.1125621489939945,
          -2.9167194523039046,
          -3.0073659256605323,
          0.4043922164817184,
          -3.5375945171768093,
          1.4996944999158723,
          -0.45262537904475775,
          -0.39460400429977505,
          -0.38849155002399893,
          -3.309222808547824,
          3.3848629965107833,
          -0.7722092650052061,
          -1.9406904458700687,
          0.5381698619441464,
          -0.9664660277460946,
          2.2356995984130323,
          0.5357456138946609,
          -1.3637049815168887,
          -0.8286017918619273,
          -0.2871235866271514,
          -0.17707364265871686,
          1.9212579205224978,
          -0.5829251862557219,
          -0.9300500183671139,
          -0.5764910280816615,
          3.343651357646754,
          -4.182885974504139,
          1.0412023434115112,
          0.3854166475281935,
          -4.038864688623254,
          0.2387192561673905,
          -1.4731530458275006,
          2.375064893735465,
          1.5022893510447404,
          6.839544497335973,
          -4.103219574058152,
          3.332506727449857,
          1.7469235102965461,
          -1.340707899177712
         ]
        }
       ],
       "layout": {
        "template": {
         "data": {
          "bar": [
           {
            "error_x": {
             "color": "#2a3f5f"
            },
            "error_y": {
             "color": "#2a3f5f"
            },
            "marker": {
             "line": {
              "color": "#E5ECF6",
              "width": 0.5
             },
             "pattern": {
              "fillmode": "overlay",
              "size": 10,
              "solidity": 0.2
             }
            },
            "type": "bar"
           }
          ],
          "barpolar": [
           {
            "marker": {
             "line": {
              "color": "#E5ECF6",
              "width": 0.5
             },
             "pattern": {
              "fillmode": "overlay",
              "size": 10,
              "solidity": 0.2
             }
            },
            "type": "barpolar"
           }
          ],
          "carpet": [
           {
            "aaxis": {
             "endlinecolor": "#2a3f5f",
             "gridcolor": "white",
             "linecolor": "white",
             "minorgridcolor": "white",
             "startlinecolor": "#2a3f5f"
            },
            "baxis": {
             "endlinecolor": "#2a3f5f",
             "gridcolor": "white",
             "linecolor": "white",
             "minorgridcolor": "white",
             "startlinecolor": "#2a3f5f"
            },
            "type": "carpet"
           }
          ],
          "choropleth": [
           {
            "colorbar": {
             "outlinewidth": 0,
             "ticks": ""
            },
            "type": "choropleth"
           }
          ],
          "contour": [
           {
            "colorbar": {
             "outlinewidth": 0,
             "ticks": ""
            },
            "colorscale": [
             [
              0,
              "#0d0887"
             ],
             [
              0.1111111111111111,
              "#46039f"
             ],
             [
              0.2222222222222222,
              "#7201a8"
             ],
             [
              0.3333333333333333,
              "#9c179e"
             ],
             [
              0.4444444444444444,
              "#bd3786"
             ],
             [
              0.5555555555555556,
              "#d8576b"
             ],
             [
              0.6666666666666666,
              "#ed7953"
             ],
             [
              0.7777777777777778,
              "#fb9f3a"
             ],
             [
              0.8888888888888888,
              "#fdca26"
             ],
             [
              1,
              "#f0f921"
             ]
            ],
            "type": "contour"
           }
          ],
          "contourcarpet": [
           {
            "colorbar": {
             "outlinewidth": 0,
             "ticks": ""
            },
            "type": "contourcarpet"
           }
          ],
          "heatmap": [
           {
            "colorbar": {
             "outlinewidth": 0,
             "ticks": ""
            },
            "colorscale": [
             [
              0,
              "#0d0887"
             ],
             [
              0.1111111111111111,
              "#46039f"
             ],
             [
              0.2222222222222222,
              "#7201a8"
             ],
             [
              0.3333333333333333,
              "#9c179e"
             ],
             [
              0.4444444444444444,
              "#bd3786"
             ],
             [
              0.5555555555555556,
              "#d8576b"
             ],
             [
              0.6666666666666666,
              "#ed7953"
             ],
             [
              0.7777777777777778,
              "#fb9f3a"
             ],
             [
              0.8888888888888888,
              "#fdca26"
             ],
             [
              1,
              "#f0f921"
             ]
            ],
            "type": "heatmap"
           }
          ],
          "heatmapgl": [
           {
            "colorbar": {
             "outlinewidth": 0,
             "ticks": ""
            },
            "colorscale": [
             [
              0,
              "#0d0887"
             ],
             [
              0.1111111111111111,
              "#46039f"
             ],
             [
              0.2222222222222222,
              "#7201a8"
             ],
             [
              0.3333333333333333,
              "#9c179e"
             ],
             [
              0.4444444444444444,
              "#bd3786"
             ],
             [
              0.5555555555555556,
              "#d8576b"
             ],
             [
              0.6666666666666666,
              "#ed7953"
             ],
             [
              0.7777777777777778,
              "#fb9f3a"
             ],
             [
              0.8888888888888888,
              "#fdca26"
             ],
             [
              1,
              "#f0f921"
             ]
            ],
            "type": "heatmapgl"
           }
          ],
          "histogram": [
           {
            "marker": {
             "pattern": {
              "fillmode": "overlay",
              "size": 10,
              "solidity": 0.2
             }
            },
            "type": "histogram"
           }
          ],
          "histogram2d": [
           {
            "colorbar": {
             "outlinewidth": 0,
             "ticks": ""
            },
            "colorscale": [
             [
              0,
              "#0d0887"
             ],
             [
              0.1111111111111111,
              "#46039f"
             ],
             [
              0.2222222222222222,
              "#7201a8"
             ],
             [
              0.3333333333333333,
              "#9c179e"
             ],
             [
              0.4444444444444444,
              "#bd3786"
             ],
             [
              0.5555555555555556,
              "#d8576b"
             ],
             [
              0.6666666666666666,
              "#ed7953"
             ],
             [
              0.7777777777777778,
              "#fb9f3a"
             ],
             [
              0.8888888888888888,
              "#fdca26"
             ],
             [
              1,
              "#f0f921"
             ]
            ],
            "type": "histogram2d"
           }
          ],
          "histogram2dcontour": [
           {
            "colorbar": {
             "outlinewidth": 0,
             "ticks": ""
            },
            "colorscale": [
             [
              0,
              "#0d0887"
             ],
             [
              0.1111111111111111,
              "#46039f"
             ],
             [
              0.2222222222222222,
              "#7201a8"
             ],
             [
              0.3333333333333333,
              "#9c179e"
             ],
             [
              0.4444444444444444,
              "#bd3786"
             ],
             [
              0.5555555555555556,
              "#d8576b"
             ],
             [
              0.6666666666666666,
              "#ed7953"
             ],
             [
              0.7777777777777778,
              "#fb9f3a"
             ],
             [
              0.8888888888888888,
              "#fdca26"
             ],
             [
              1,
              "#f0f921"
             ]
            ],
            "type": "histogram2dcontour"
           }
          ],
          "mesh3d": [
           {
            "colorbar": {
             "outlinewidth": 0,
             "ticks": ""
            },
            "type": "mesh3d"
           }
          ],
          "parcoords": [
           {
            "line": {
             "colorbar": {
              "outlinewidth": 0,
              "ticks": ""
             }
            },
            "type": "parcoords"
           }
          ],
          "pie": [
           {
            "automargin": true,
            "type": "pie"
           }
          ],
          "scatter": [
           {
            "fillpattern": {
             "fillmode": "overlay",
             "size": 10,
             "solidity": 0.2
            },
            "type": "scatter"
           }
          ],
          "scatter3d": [
           {
            "line": {
             "colorbar": {
              "outlinewidth": 0,
              "ticks": ""
             }
            },
            "marker": {
             "colorbar": {
              "outlinewidth": 0,
              "ticks": ""
             }
            },
            "type": "scatter3d"
           }
          ],
          "scattercarpet": [
           {
            "marker": {
             "colorbar": {
              "outlinewidth": 0,
              "ticks": ""
             }
            },
            "type": "scattercarpet"
           }
          ],
          "scattergeo": [
           {
            "marker": {
             "colorbar": {
              "outlinewidth": 0,
              "ticks": ""
             }
            },
            "type": "scattergeo"
           }
          ],
          "scattergl": [
           {
            "marker": {
             "colorbar": {
              "outlinewidth": 0,
              "ticks": ""
             }
            },
            "type": "scattergl"
           }
          ],
          "scattermapbox": [
           {
            "marker": {
             "colorbar": {
              "outlinewidth": 0,
              "ticks": ""
             }
            },
            "type": "scattermapbox"
           }
          ],
          "scatterpolar": [
           {
            "marker": {
             "colorbar": {
              "outlinewidth": 0,
              "ticks": ""
             }
            },
            "type": "scatterpolar"
           }
          ],
          "scatterpolargl": [
           {
            "marker": {
             "colorbar": {
              "outlinewidth": 0,
              "ticks": ""
             }
            },
            "type": "scatterpolargl"
           }
          ],
          "scatterternary": [
           {
            "marker": {
             "colorbar": {
              "outlinewidth": 0,
              "ticks": ""
             }
            },
            "type": "scatterternary"
           }
          ],
          "surface": [
           {
            "colorbar": {
             "outlinewidth": 0,
             "ticks": ""
            },
            "colorscale": [
             [
              0,
              "#0d0887"
             ],
             [
              0.1111111111111111,
              "#46039f"
             ],
             [
              0.2222222222222222,
              "#7201a8"
             ],
             [
              0.3333333333333333,
              "#9c179e"
             ],
             [
              0.4444444444444444,
              "#bd3786"
             ],
             [
              0.5555555555555556,
              "#d8576b"
             ],
             [
              0.6666666666666666,
              "#ed7953"
             ],
             [
              0.7777777777777778,
              "#fb9f3a"
             ],
             [
              0.8888888888888888,
              "#fdca26"
             ],
             [
              1,
              "#f0f921"
             ]
            ],
            "type": "surface"
           }
          ],
          "table": [
           {
            "cells": {
             "fill": {
              "color": "#EBF0F8"
             },
             "line": {
              "color": "white"
             }
            },
            "header": {
             "fill": {
              "color": "#C8D4E3"
             },
             "line": {
              "color": "white"
             }
            },
            "type": "table"
           }
          ]
         },
         "layout": {
          "annotationdefaults": {
           "arrowcolor": "#2a3f5f",
           "arrowhead": 0,
           "arrowwidth": 1
          },
          "autotypenumbers": "strict",
          "coloraxis": {
           "colorbar": {
            "outlinewidth": 0,
            "ticks": ""
           }
          },
          "colorscale": {
           "diverging": [
            [
             0,
             "#8e0152"
            ],
            [
             0.1,
             "#c51b7d"
            ],
            [
             0.2,
             "#de77ae"
            ],
            [
             0.3,
             "#f1b6da"
            ],
            [
             0.4,
             "#fde0ef"
            ],
            [
             0.5,
             "#f7f7f7"
            ],
            [
             0.6,
             "#e6f5d0"
            ],
            [
             0.7,
             "#b8e186"
            ],
            [
             0.8,
             "#7fbc41"
            ],
            [
             0.9,
             "#4d9221"
            ],
            [
             1,
             "#276419"
            ]
           ],
           "sequential": [
            [
             0,
             "#0d0887"
            ],
            [
             0.1111111111111111,
             "#46039f"
            ],
            [
             0.2222222222222222,
             "#7201a8"
            ],
            [
             0.3333333333333333,
             "#9c179e"
            ],
            [
             0.4444444444444444,
             "#bd3786"
            ],
            [
             0.5555555555555556,
             "#d8576b"
            ],
            [
             0.6666666666666666,
             "#ed7953"
            ],
            [
             0.7777777777777778,
             "#fb9f3a"
            ],
            [
             0.8888888888888888,
             "#fdca26"
            ],
            [
             1,
             "#f0f921"
            ]
           ],
           "sequentialminus": [
            [
             0,
             "#0d0887"
            ],
            [
             0.1111111111111111,
             "#46039f"
            ],
            [
             0.2222222222222222,
             "#7201a8"
            ],
            [
             0.3333333333333333,
             "#9c179e"
            ],
            [
             0.4444444444444444,
             "#bd3786"
            ],
            [
             0.5555555555555556,
             "#d8576b"
            ],
            [
             0.6666666666666666,
             "#ed7953"
            ],
            [
             0.7777777777777778,
             "#fb9f3a"
            ],
            [
             0.8888888888888888,
             "#fdca26"
            ],
            [
             1,
             "#f0f921"
            ]
           ]
          },
          "colorway": [
           "#636efa",
           "#EF553B",
           "#00cc96",
           "#ab63fa",
           "#FFA15A",
           "#19d3f3",
           "#FF6692",
           "#B6E880",
           "#FF97FF",
           "#FECB52"
          ],
          "font": {
           "color": "#2a3f5f"
          },
          "geo": {
           "bgcolor": "white",
           "lakecolor": "white",
           "landcolor": "#E5ECF6",
           "showlakes": true,
           "showland": true,
           "subunitcolor": "white"
          },
          "hoverlabel": {
           "align": "left"
          },
          "hovermode": "closest",
          "mapbox": {
           "style": "light"
          },
          "paper_bgcolor": "white",
          "plot_bgcolor": "#E5ECF6",
          "polar": {
           "angularaxis": {
            "gridcolor": "white",
            "linecolor": "white",
            "ticks": ""
           },
           "bgcolor": "#E5ECF6",
           "radialaxis": {
            "gridcolor": "white",
            "linecolor": "white",
            "ticks": ""
           }
          },
          "scene": {
           "xaxis": {
            "backgroundcolor": "#E5ECF6",
            "gridcolor": "white",
            "gridwidth": 2,
            "linecolor": "white",
            "showbackground": true,
            "ticks": "",
            "zerolinecolor": "white"
           },
           "yaxis": {
            "backgroundcolor": "#E5ECF6",
            "gridcolor": "white",
            "gridwidth": 2,
            "linecolor": "white",
            "showbackground": true,
            "ticks": "",
            "zerolinecolor": "white"
           },
           "zaxis": {
            "backgroundcolor": "#E5ECF6",
            "gridcolor": "white",
            "gridwidth": 2,
            "linecolor": "white",
            "showbackground": true,
            "ticks": "",
            "zerolinecolor": "white"
           }
          },
          "shapedefaults": {
           "line": {
            "color": "#2a3f5f"
           }
          },
          "ternary": {
           "aaxis": {
            "gridcolor": "white",
            "linecolor": "white",
            "ticks": ""
           },
           "baxis": {
            "gridcolor": "white",
            "linecolor": "white",
            "ticks": ""
           },
           "bgcolor": "#E5ECF6",
           "caxis": {
            "gridcolor": "white",
            "linecolor": "white",
            "ticks": ""
           }
          },
          "title": {
           "x": 0.05
          },
          "xaxis": {
           "automargin": true,
           "gridcolor": "white",
           "linecolor": "white",
           "ticks": "",
           "title": {
            "standoff": 15
           },
           "zerolinecolor": "white",
           "zerolinewidth": 2
          },
          "yaxis": {
           "automargin": true,
           "gridcolor": "white",
           "linecolor": "white",
           "ticks": "",
           "title": {
            "standoff": 15
           },
           "zerolinecolor": "white",
           "zerolinewidth": 2
          }
         }
        },
        "title": {
         "text": "PC1 Projection Distribution per Group"
        },
        "violinmode": "overlay",
        "xaxis": {
         "title": {
          "text": "Protein Cluster"
         }
        },
        "yaxis": {
         "range": [
          -12,
          12
         ],
         "title": {
          "text": "PC1"
         }
        }
       }
      }
     },
     "metadata": {},
     "output_type": "display_data"
    }
   ],
   "source": [
    "# La PC1 de qq1 y qq3 separan entre grupos. Sacar violin plot de la proyección\n",
    "qqcomE\n",
    "tmp = dict(list(mdata.set_index('Seqn').loc[qqcomE.index].reset_index('Seqn').groupby('Group')))\n",
    "tmp2 = pd.melt(qqcomE.reset_index('Seqn'), id_vars='Seqn', value_vars=qqcomE.columns).set_index('Seqn')\n",
    "\n",
    "fig = go.Figure()\n",
    "fig.add_trace(go.Violin(x=tmp2.loc[tmp['C'].Seqn].variable,\n",
    "                        y=tmp2.loc[tmp['C'].Seqn].value,\n",
    "                        legendgroup='C', scalegroup='C', name='C',\n",
    "                        side='negative',\n",
    "                        line_color=palette[0])\n",
    "             )\n",
    "fig.add_trace(go.Violin(x=tmp2.loc[tmp['D'].Seqn].variable,\n",
    "                        y=tmp2.loc[tmp['D'].Seqn].value,\n",
    "                        legendgroup='D', scalegroup='D', name='D',\n",
    "                        side='positive',\n",
    "                        line_color=palette[1])\n",
    "             )\n",
    "\n",
    "fig.update_traces(box_visible=False, meanline_visible=True)\n",
    "fig.update_layout(violinmode='overlay', title='PC1 Projection Distribution per Group')\n",
    "fig.update_yaxes(title='PC1', range=(-12,12))\n",
    "fig.update_xaxes(title='Protein Cluster')\n",
    "fig.show()"
   ]
  },
  {
   "cell_type": "code",
   "execution_count": 33,
   "metadata": {},
   "outputs": [
    {
     "data": {
      "application/vnd.plotly.v1+json": {
       "config": {
        "plotlyServerURL": "https://plot.ly"
       },
       "data": [
        {
         "box": {
          "visible": false
         },
         "legendgroup": "C",
         "line": {
          "color": "#636EFA"
         },
         "meanline": {
          "visible": true
         },
         "name": "C",
         "scalegroup": "C",
         "side": "negative",
         "type": "violin",
         "x": [
          "9",
          "9",
          "9",
          "9",
          "9",
          "9",
          "9",
          "9",
          "9",
          "9",
          "9",
          "9",
          "9",
          "9",
          "9",
          "9",
          "9",
          "9",
          "9",
          "9",
          "9",
          "9",
          "9",
          "9",
          "9",
          "9",
          "9",
          "9",
          "9",
          "9",
          "9",
          "9",
          "9",
          "9",
          "9",
          "9",
          "9",
          "9",
          "9",
          "9",
          "9",
          "9",
          "9",
          "9",
          "9",
          "9",
          "9",
          "9",
          "9",
          "9",
          "9",
          "9",
          "9",
          "9",
          "9",
          "9",
          "9",
          "9",
          "9",
          "9",
          "9",
          "9",
          "9",
          "9",
          "9",
          "9",
          "9",
          "9",
          "9",
          "9",
          "9",
          "9",
          "9",
          "9",
          "9",
          "9",
          "9",
          "9",
          "9",
          "9",
          "9",
          "9",
          "9",
          "9",
          "9",
          "9",
          "9",
          "9",
          "9",
          "9",
          "9",
          "9",
          "9",
          "9",
          "9",
          "9",
          "9",
          "9",
          "9",
          "9",
          "9",
          "9",
          "9",
          "9",
          "9",
          "9",
          "9",
          "9",
          "9",
          "9",
          "9",
          "9",
          "9",
          "9",
          "9",
          "9",
          "9",
          "9",
          "9",
          "9",
          "9",
          "9",
          "9",
          "9",
          "9",
          "9",
          "9",
          "9",
          "9",
          "9",
          "9",
          "9",
          "9",
          "9",
          "9",
          "9",
          "9",
          "9",
          "9",
          "9",
          "9",
          "9",
          "9",
          "9",
          "9",
          "9",
          "9",
          "9",
          "9",
          "9",
          "9",
          "9",
          "9",
          "9",
          "9",
          "9",
          "9",
          "9",
          "9",
          "9",
          "9",
          "9",
          "9",
          "9",
          "9",
          "9",
          "9",
          "9",
          "9",
          "9",
          "9",
          "9",
          "9",
          "9",
          "9",
          "9",
          "9",
          "9",
          "9",
          "9",
          "9",
          "9",
          "9",
          "9",
          "9",
          "9",
          "9",
          "9",
          "9",
          "9",
          "9",
          "9"
         ],
         "y": [
          -7.653243273336835,
          -3.1638295385833004,
          -0.8099948276376844,
          5.088637217349058,
          0.5876192377343944,
          -4.1488543579285615,
          1.846190629930108,
          -0.0868264625140791,
          -0.4792246101812493,
          -5.372784328274237,
          -0.25888273489677166,
          1.6679404310435968,
          -6.800368084525723,
          -3.6342414542646253,
          0.9149513951413683,
          1.2818163097898696,
          1.6091081640207388,
          -3.5028108480161357,
          0.5668702968230112,
          -2.5485767031364794,
          -1.2915074264727362,
          -2.7253037588386273,
          -0.2662809634393895,
          -0.7446220878847167,
          -1.740300049717328,
          -1.1386867367387383,
          1.5753802740527902,
          -4.524107467123145,
          -4.6618647516647576,
          1.6319180963319226,
          2.4867719109538475,
          -1.4149229444716378,
          0.8487070026516771,
          0.6722241535669718,
          3.3400541321941817,
          0.9753788175750953,
          1.7828519875315894,
          1.5112224287411387,
          3.3366573968426296,
          1.7998328236689505,
          -3.1277043384463528,
          1.4591278279777746,
          0.7657369736057383,
          -1.2777794162588678,
          0.22653175563992817,
          3.6321374953488843,
          0.7265454040667401,
          -1.0756807246829123,
          -1.1382742176499105,
          -1.5625189914092847,
          -3.6274500704116117,
          1.3512321154629878,
          1.0962568115400233,
          -2.169559376621921,
          -0.160699188882218,
          -4.88026271134964,
          -3.1494010787467945,
          -3.8895079676538344,
          -1.0827341252332305,
          1.3137092838295064,
          2.0744713535933896,
          1.3936997383337728,
          0.2564651616635164,
          0.2900379781159943,
          0.17635665610522436,
          1.602974658378882,
          0.5120061231353654,
          0.8038604479018863,
          2.2850060194443174,
          -4.828308521867458,
          3.9936029027072304,
          0.45752048178178506,
          1.0320162389818763,
          -0.7227437994838228,
          1.9482484789863328,
          0.8877364881647882,
          -1.0561480846162736,
          5.215793737413484,
          -4.085577408537779,
          -2.1040073130372465,
          -2.048208822978742,
          2.552157774387051,
          -0.9936481755800836,
          2.5086136188424026,
          0.4363300213172017,
          0.6264775999533919,
          -5.1918055801858225,
          -3.49628497370687,
          1.5306285102160004,
          -4.8874479714191805,
          -0.30971997045119043,
          6.361101429141232,
          3.3786146348048947,
          1.2065214536755438,
          4.337755971905786,
          -1.9394923333490082,
          4.46019948864745,
          -2.804489824071272,
          1.1088041077596098,
          2.896492333434971,
          3.41458636184519,
          2.0589720487670835,
          4.0924164387393915,
          -4.094544794611329,
          0.7253568716143258,
          3.2488025459172998,
          -1.4821512671333634,
          -1.3374466347191654,
          -1.5118742875437385,
          0.5846890668659119,
          -3.3968960997324866,
          -2.043685871554519,
          -5.675212837711677,
          -0.05136216232088712,
          -2.552927163769021,
          0.5789211099307017,
          -0.4327388813490639,
          0.2394765511926945,
          2.4446125951555633,
          -1.4061828331050572,
          -0.7912305519204613,
          -1.8263076807616059,
          -1.3325107148755302,
          8.814025227588571,
          -1.633074149069663,
          0.27751707362758343,
          7.116307355886857,
          0.059254295560674,
          -0.3352374786051193,
          0.5129412277098901,
          0.3917684606137854,
          -0.9736729648237757,
          -0.2277003690454344,
          1.7621899795203124,
          -0.09887495204761934,
          -1.32059920971746,
          -0.6363760695461581,
          -3.952336041445776,
          -3.3429389888207304,
          0.2945456667346655,
          5.632487180853866,
          5.305811135339394,
          4.7485585346974135,
          4.499150611190216,
          2.0124511716260263,
          4.973358481576,
          -2.2139138769714126,
          -0.7514280088875879,
          -1.0844438769337386,
          -2.5418981731028105,
          -1.7505377915770624,
          5.771135054234035,
          0.4721770940341671,
          1.9059086770709903,
          -1.8543127451350865,
          -1.0097905596231678,
          4.595444986507029,
          -1.5545026591899465,
          0.03410501297405987,
          -0.27308291535075213,
          0.32484129326338196,
          6.254988604734243,
          0.9606913876342577,
          -2.80919951649212,
          2.9658354626918455,
          1.3528929535362388,
          -1.0475640482553248,
          1.4713404406234474,
          -0.7917277667939218,
          -1.8790833411341172,
          -4.421904251292387,
          -3.8723231221286576,
          -3.2075289664797793,
          -1.0642605992877896,
          -1.7314440468458934,
          -2.1319123651113383,
          -5.404198595270891,
          -5.215566696211295,
          -1.6223746234178222,
          -3.2063196711333832,
          -6.407727810410163,
          -0.44920072084695156,
          0.6997395340837559,
          -3.146549028828536,
          -0.9762612341988789,
          -3.666897474351254,
          -5.686930708985613,
          -5.012082701140912,
          -2.8999466025310996,
          -1.7589316158285975,
          1.2741244181750455,
          -0.785040078946883
         ]
        },
        {
         "box": {
          "visible": false
         },
         "legendgroup": "D",
         "line": {
          "color": "#EF553B"
         },
         "meanline": {
          "visible": true
         },
         "name": "D",
         "scalegroup": "D",
         "side": "positive",
         "type": "violin",
         "x": [
          "9",
          "9",
          "9",
          "9",
          "9",
          "9",
          "9",
          "9",
          "9",
          "9",
          "9",
          "9",
          "9",
          "9",
          "9",
          "9",
          "9",
          "9",
          "9",
          "9",
          "9",
          "9",
          "9",
          "9",
          "9",
          "9",
          "9",
          "9",
          "9",
          "9",
          "9",
          "9",
          "9",
          "9",
          "9",
          "9",
          "9",
          "9",
          "9",
          "9",
          "9",
          "9",
          "9",
          "9",
          "9",
          "9",
          "9",
          "9",
          "9",
          "9",
          "9",
          "9",
          "9",
          "9",
          "9",
          "9",
          "9",
          "9",
          "9",
          "9",
          "9",
          "9",
          "9",
          "9",
          "9",
          "9",
          "9",
          "9",
          "9",
          "9",
          "9",
          "9",
          "9",
          "9",
          "9",
          "9",
          "9",
          "9",
          "9",
          "9",
          "9",
          "9",
          "9",
          "9",
          "9",
          "9",
          "9",
          "9",
          "9",
          "9",
          "9",
          "9",
          "9",
          "9",
          "9",
          "9",
          "9",
          "9",
          "9",
          "9",
          "9",
          "9",
          "9",
          "9",
          "9",
          "9",
          "9",
          "9",
          "9",
          "9",
          "9",
          "9",
          "9",
          "9",
          "9",
          "9",
          "9",
          "9",
          "9",
          "9",
          "9",
          "9",
          "9",
          "9",
          "9",
          "9",
          "9",
          "9",
          "9",
          "9",
          "9",
          "9",
          "9",
          "9",
          "9",
          "9",
          "9",
          "9",
          "9",
          "9",
          "9",
          "9",
          "9",
          "9",
          "9",
          "9",
          "9",
          "9",
          "9",
          "9",
          "9",
          "9",
          "9",
          "9",
          "9",
          "9",
          "9",
          "9",
          "9",
          "9",
          "9",
          "9",
          "9",
          "9",
          "9",
          "9",
          "9",
          "9",
          "9",
          "9",
          "9",
          "9",
          "9",
          "9",
          "9",
          "9",
          "9",
          "9",
          "9",
          "9",
          "9",
          "9",
          "9",
          "9",
          "9",
          "9",
          "9",
          "9",
          "9",
          "9",
          "9"
         ],
         "y": [
          -2.466053714008608,
          -4.352724205353522,
          4.303362683604998,
          -2.733781926682832,
          0.08612446418031076,
          -1.371059318431245,
          -0.3413211835229311,
          -0.7918198280897437,
          1.4687739094359675,
          -4.7870046975662435,
          1.0798998275501226,
          -5.230196788936861,
          -0.177926300712755,
          5.6402515461827045,
          -2.442043305616654,
          1.0325160660727457,
          -2.1275637194242187,
          2.745706347815551,
          -1.3297286672104178,
          -1.3000152609051892,
          -0.8100715108820649,
          -3.1335457100631623,
          -1.7479781664036762,
          -0.39612810793652325,
          4.309895791458142,
          0.9622921493940564,
          2.833669990872892,
          1.7179392531186348,
          -3.8265266105415914,
          4.264421058303258,
          -0.8382059346294541,
          -1.1593764217823475,
          1.2067455247548529,
          4.859383505374979,
          1.8844877418338126,
          0.8992063551956683,
          0.46535096415870736,
          0.2734841474782914,
          -1.4166773953351817,
          2.2712173968276357,
          3.3939901256458733,
          1.4290688130585445,
          1.0012184271254265,
          0.4811488445185877,
          2.038579755529443,
          -2.0654982369243986,
          2.492920793573456,
          1.5594673909465373,
          3.2079416768387827,
          4.517581377349942,
          -0.5133811796040222,
          0.828924241057103,
          3.0532154872531536,
          2.279415835668574,
          -2.2426608500211636,
          0.023572312689359106,
          0.8403230398852171,
          4.257962356771995,
          2.506483604160104,
          0.03511080054865619,
          2.357443760730277,
          3.2614763304537218,
          2.6720284337559495,
          0.011840131091606892,
          0.28248088392537074,
          1.397670331326615,
          4.717649844798153,
          1.5093289217267707,
          -1.6925398520534867,
          -0.23963175377907486,
          2.234053755606666,
          0.8300613450573485,
          1.9336741790611423,
          0.604149602024767,
          -0.6031412415186193,
          3.3823878732170995,
          -2.6273780687445845,
          5.519000078380667,
          2.6292570502945956,
          -1.2640584376038133,
          -3.415654987885917,
          1.071942449903109,
          -2.3026922692576375,
          -2.100439794402609,
          5.135193095591153,
          2.649797077765891,
          -3.868657396701051,
          -3.4151243031241747,
          -2.8583928772196083,
          -2.7550330175449447,
          2.242473586123616,
          1.2902743890604371,
          3.1530154476988645,
          5.965925903686403,
          5.772673011478742,
          0.543100819150896,
          7.0227375969760395,
          5.134305606991444,
          0.5833122951059586,
          7.232760382615952,
          5.9895240285363975,
          -1.08637896138691,
          -0.9864457617785183,
          2.330150420349502,
          -1.7403234507696566,
          3.3377287342641297,
          -0.6440940259950152,
          -6.39301065952488,
          4.80315508112182,
          -1.1900808188878325,
          2.1472188599375324,
          0.1525017881778713,
          -1.2415418632187936,
          -3.688567878914246,
          -0.7145960334652158,
          -7.073186557432045,
          -3.7489442392397683,
          -1.527136959545658,
          -6.501747406027847,
          -4.5130227556888745,
          -1.0055034526442745,
          -1.3598637721539015,
          0.5812502742519137,
          -1.4928606349271845,
          -1.5182075832892545,
          1.9357593564594153,
          3.0315448925235637,
          -0.29760339279395115,
          0.05562620014207149,
          1.0138004617110334,
          -3.559897351934618,
          3.650499873217696,
          -0.9882702467030422,
          -1.855039969119836,
          -2.8486219499695866,
          -0.09000978083506497,
          1.2878402228445158,
          -3.3541903027814293,
          -1.425620248084742,
          -1.2651641577521437,
          0.5424326186498771,
          3.115088328972351,
          4.260747809699678,
          3.260960956274452,
          -1.0190687588588498,
          -0.9337477128455429,
          1.9898174956546368,
          -2.137774987501327,
          7.557648340290373,
          0.16543370876151323,
          4.584089841658401,
          1.8042243480700684,
          5.934807892887835,
          4.08548857166269,
          3.031079545757492,
          5.346242161053387,
          -1.5080998723803933,
          -1.319674927346457,
          -1.3867009660568288,
          3.0342100867862727,
          1.4118320242541842,
          1.0445226019561829,
          1.981442420746633,
          -0.30243438557428676,
          -3.1031402150724126,
          0.28373792657530733,
          1.0605242535973247,
          -2.110658463495459,
          -0.43886094530993003,
          -2.1518373991958044,
          0.3780046347637355,
          -4.382860937217464,
          0.36825757039568063,
          -0.09648944242484608,
          1.4231510075539782,
          -6.111907128501146,
          -2.168000761002904,
          -3.504808324309845,
          0.12450549693627937,
          -0.942675176831106,
          -1.799582737019441,
          -3.9501262823652024,
          -1.2112043277832978,
          0.5316041609785609,
          -1.7153622599796847,
          -0.3547521866032572,
          -5.367682391586431,
          -4.494426669244635,
          -2.9913175056220713,
          -0.6613274970177246,
          -1.048508371997645
         ]
        }
       ],
       "layout": {
        "template": {
         "data": {
          "bar": [
           {
            "error_x": {
             "color": "#2a3f5f"
            },
            "error_y": {
             "color": "#2a3f5f"
            },
            "marker": {
             "line": {
              "color": "#E5ECF6",
              "width": 0.5
             },
             "pattern": {
              "fillmode": "overlay",
              "size": 10,
              "solidity": 0.2
             }
            },
            "type": "bar"
           }
          ],
          "barpolar": [
           {
            "marker": {
             "line": {
              "color": "#E5ECF6",
              "width": 0.5
             },
             "pattern": {
              "fillmode": "overlay",
              "size": 10,
              "solidity": 0.2
             }
            },
            "type": "barpolar"
           }
          ],
          "carpet": [
           {
            "aaxis": {
             "endlinecolor": "#2a3f5f",
             "gridcolor": "white",
             "linecolor": "white",
             "minorgridcolor": "white",
             "startlinecolor": "#2a3f5f"
            },
            "baxis": {
             "endlinecolor": "#2a3f5f",
             "gridcolor": "white",
             "linecolor": "white",
             "minorgridcolor": "white",
             "startlinecolor": "#2a3f5f"
            },
            "type": "carpet"
           }
          ],
          "choropleth": [
           {
            "colorbar": {
             "outlinewidth": 0,
             "ticks": ""
            },
            "type": "choropleth"
           }
          ],
          "contour": [
           {
            "colorbar": {
             "outlinewidth": 0,
             "ticks": ""
            },
            "colorscale": [
             [
              0,
              "#0d0887"
             ],
             [
              0.1111111111111111,
              "#46039f"
             ],
             [
              0.2222222222222222,
              "#7201a8"
             ],
             [
              0.3333333333333333,
              "#9c179e"
             ],
             [
              0.4444444444444444,
              "#bd3786"
             ],
             [
              0.5555555555555556,
              "#d8576b"
             ],
             [
              0.6666666666666666,
              "#ed7953"
             ],
             [
              0.7777777777777778,
              "#fb9f3a"
             ],
             [
              0.8888888888888888,
              "#fdca26"
             ],
             [
              1,
              "#f0f921"
             ]
            ],
            "type": "contour"
           }
          ],
          "contourcarpet": [
           {
            "colorbar": {
             "outlinewidth": 0,
             "ticks": ""
            },
            "type": "contourcarpet"
           }
          ],
          "heatmap": [
           {
            "colorbar": {
             "outlinewidth": 0,
             "ticks": ""
            },
            "colorscale": [
             [
              0,
              "#0d0887"
             ],
             [
              0.1111111111111111,
              "#46039f"
             ],
             [
              0.2222222222222222,
              "#7201a8"
             ],
             [
              0.3333333333333333,
              "#9c179e"
             ],
             [
              0.4444444444444444,
              "#bd3786"
             ],
             [
              0.5555555555555556,
              "#d8576b"
             ],
             [
              0.6666666666666666,
              "#ed7953"
             ],
             [
              0.7777777777777778,
              "#fb9f3a"
             ],
             [
              0.8888888888888888,
              "#fdca26"
             ],
             [
              1,
              "#f0f921"
             ]
            ],
            "type": "heatmap"
           }
          ],
          "heatmapgl": [
           {
            "colorbar": {
             "outlinewidth": 0,
             "ticks": ""
            },
            "colorscale": [
             [
              0,
              "#0d0887"
             ],
             [
              0.1111111111111111,
              "#46039f"
             ],
             [
              0.2222222222222222,
              "#7201a8"
             ],
             [
              0.3333333333333333,
              "#9c179e"
             ],
             [
              0.4444444444444444,
              "#bd3786"
             ],
             [
              0.5555555555555556,
              "#d8576b"
             ],
             [
              0.6666666666666666,
              "#ed7953"
             ],
             [
              0.7777777777777778,
              "#fb9f3a"
             ],
             [
              0.8888888888888888,
              "#fdca26"
             ],
             [
              1,
              "#f0f921"
             ]
            ],
            "type": "heatmapgl"
           }
          ],
          "histogram": [
           {
            "marker": {
             "pattern": {
              "fillmode": "overlay",
              "size": 10,
              "solidity": 0.2
             }
            },
            "type": "histogram"
           }
          ],
          "histogram2d": [
           {
            "colorbar": {
             "outlinewidth": 0,
             "ticks": ""
            },
            "colorscale": [
             [
              0,
              "#0d0887"
             ],
             [
              0.1111111111111111,
              "#46039f"
             ],
             [
              0.2222222222222222,
              "#7201a8"
             ],
             [
              0.3333333333333333,
              "#9c179e"
             ],
             [
              0.4444444444444444,
              "#bd3786"
             ],
             [
              0.5555555555555556,
              "#d8576b"
             ],
             [
              0.6666666666666666,
              "#ed7953"
             ],
             [
              0.7777777777777778,
              "#fb9f3a"
             ],
             [
              0.8888888888888888,
              "#fdca26"
             ],
             [
              1,
              "#f0f921"
             ]
            ],
            "type": "histogram2d"
           }
          ],
          "histogram2dcontour": [
           {
            "colorbar": {
             "outlinewidth": 0,
             "ticks": ""
            },
            "colorscale": [
             [
              0,
              "#0d0887"
             ],
             [
              0.1111111111111111,
              "#46039f"
             ],
             [
              0.2222222222222222,
              "#7201a8"
             ],
             [
              0.3333333333333333,
              "#9c179e"
             ],
             [
              0.4444444444444444,
              "#bd3786"
             ],
             [
              0.5555555555555556,
              "#d8576b"
             ],
             [
              0.6666666666666666,
              "#ed7953"
             ],
             [
              0.7777777777777778,
              "#fb9f3a"
             ],
             [
              0.8888888888888888,
              "#fdca26"
             ],
             [
              1,
              "#f0f921"
             ]
            ],
            "type": "histogram2dcontour"
           }
          ],
          "mesh3d": [
           {
            "colorbar": {
             "outlinewidth": 0,
             "ticks": ""
            },
            "type": "mesh3d"
           }
          ],
          "parcoords": [
           {
            "line": {
             "colorbar": {
              "outlinewidth": 0,
              "ticks": ""
             }
            },
            "type": "parcoords"
           }
          ],
          "pie": [
           {
            "automargin": true,
            "type": "pie"
           }
          ],
          "scatter": [
           {
            "fillpattern": {
             "fillmode": "overlay",
             "size": 10,
             "solidity": 0.2
            },
            "type": "scatter"
           }
          ],
          "scatter3d": [
           {
            "line": {
             "colorbar": {
              "outlinewidth": 0,
              "ticks": ""
             }
            },
            "marker": {
             "colorbar": {
              "outlinewidth": 0,
              "ticks": ""
             }
            },
            "type": "scatter3d"
           }
          ],
          "scattercarpet": [
           {
            "marker": {
             "colorbar": {
              "outlinewidth": 0,
              "ticks": ""
             }
            },
            "type": "scattercarpet"
           }
          ],
          "scattergeo": [
           {
            "marker": {
             "colorbar": {
              "outlinewidth": 0,
              "ticks": ""
             }
            },
            "type": "scattergeo"
           }
          ],
          "scattergl": [
           {
            "marker": {
             "colorbar": {
              "outlinewidth": 0,
              "ticks": ""
             }
            },
            "type": "scattergl"
           }
          ],
          "scattermapbox": [
           {
            "marker": {
             "colorbar": {
              "outlinewidth": 0,
              "ticks": ""
             }
            },
            "type": "scattermapbox"
           }
          ],
          "scatterpolar": [
           {
            "marker": {
             "colorbar": {
              "outlinewidth": 0,
              "ticks": ""
             }
            },
            "type": "scatterpolar"
           }
          ],
          "scatterpolargl": [
           {
            "marker": {
             "colorbar": {
              "outlinewidth": 0,
              "ticks": ""
             }
            },
            "type": "scatterpolargl"
           }
          ],
          "scatterternary": [
           {
            "marker": {
             "colorbar": {
              "outlinewidth": 0,
              "ticks": ""
             }
            },
            "type": "scatterternary"
           }
          ],
          "surface": [
           {
            "colorbar": {
             "outlinewidth": 0,
             "ticks": ""
            },
            "colorscale": [
             [
              0,
              "#0d0887"
             ],
             [
              0.1111111111111111,
              "#46039f"
             ],
             [
              0.2222222222222222,
              "#7201a8"
             ],
             [
              0.3333333333333333,
              "#9c179e"
             ],
             [
              0.4444444444444444,
              "#bd3786"
             ],
             [
              0.5555555555555556,
              "#d8576b"
             ],
             [
              0.6666666666666666,
              "#ed7953"
             ],
             [
              0.7777777777777778,
              "#fb9f3a"
             ],
             [
              0.8888888888888888,
              "#fdca26"
             ],
             [
              1,
              "#f0f921"
             ]
            ],
            "type": "surface"
           }
          ],
          "table": [
           {
            "cells": {
             "fill": {
              "color": "#EBF0F8"
             },
             "line": {
              "color": "white"
             }
            },
            "header": {
             "fill": {
              "color": "#C8D4E3"
             },
             "line": {
              "color": "white"
             }
            },
            "type": "table"
           }
          ]
         },
         "layout": {
          "annotationdefaults": {
           "arrowcolor": "#2a3f5f",
           "arrowhead": 0,
           "arrowwidth": 1
          },
          "autotypenumbers": "strict",
          "coloraxis": {
           "colorbar": {
            "outlinewidth": 0,
            "ticks": ""
           }
          },
          "colorscale": {
           "diverging": [
            [
             0,
             "#8e0152"
            ],
            [
             0.1,
             "#c51b7d"
            ],
            [
             0.2,
             "#de77ae"
            ],
            [
             0.3,
             "#f1b6da"
            ],
            [
             0.4,
             "#fde0ef"
            ],
            [
             0.5,
             "#f7f7f7"
            ],
            [
             0.6,
             "#e6f5d0"
            ],
            [
             0.7,
             "#b8e186"
            ],
            [
             0.8,
             "#7fbc41"
            ],
            [
             0.9,
             "#4d9221"
            ],
            [
             1,
             "#276419"
            ]
           ],
           "sequential": [
            [
             0,
             "#0d0887"
            ],
            [
             0.1111111111111111,
             "#46039f"
            ],
            [
             0.2222222222222222,
             "#7201a8"
            ],
            [
             0.3333333333333333,
             "#9c179e"
            ],
            [
             0.4444444444444444,
             "#bd3786"
            ],
            [
             0.5555555555555556,
             "#d8576b"
            ],
            [
             0.6666666666666666,
             "#ed7953"
            ],
            [
             0.7777777777777778,
             "#fb9f3a"
            ],
            [
             0.8888888888888888,
             "#fdca26"
            ],
            [
             1,
             "#f0f921"
            ]
           ],
           "sequentialminus": [
            [
             0,
             "#0d0887"
            ],
            [
             0.1111111111111111,
             "#46039f"
            ],
            [
             0.2222222222222222,
             "#7201a8"
            ],
            [
             0.3333333333333333,
             "#9c179e"
            ],
            [
             0.4444444444444444,
             "#bd3786"
            ],
            [
             0.5555555555555556,
             "#d8576b"
            ],
            [
             0.6666666666666666,
             "#ed7953"
            ],
            [
             0.7777777777777778,
             "#fb9f3a"
            ],
            [
             0.8888888888888888,
             "#fdca26"
            ],
            [
             1,
             "#f0f921"
            ]
           ]
          },
          "colorway": [
           "#636efa",
           "#EF553B",
           "#00cc96",
           "#ab63fa",
           "#FFA15A",
           "#19d3f3",
           "#FF6692",
           "#B6E880",
           "#FF97FF",
           "#FECB52"
          ],
          "font": {
           "color": "#2a3f5f"
          },
          "geo": {
           "bgcolor": "white",
           "lakecolor": "white",
           "landcolor": "#E5ECF6",
           "showlakes": true,
           "showland": true,
           "subunitcolor": "white"
          },
          "hoverlabel": {
           "align": "left"
          },
          "hovermode": "closest",
          "mapbox": {
           "style": "light"
          },
          "paper_bgcolor": "white",
          "plot_bgcolor": "#E5ECF6",
          "polar": {
           "angularaxis": {
            "gridcolor": "white",
            "linecolor": "white",
            "ticks": ""
           },
           "bgcolor": "#E5ECF6",
           "radialaxis": {
            "gridcolor": "white",
            "linecolor": "white",
            "ticks": ""
           }
          },
          "scene": {
           "xaxis": {
            "backgroundcolor": "#E5ECF6",
            "gridcolor": "white",
            "gridwidth": 2,
            "linecolor": "white",
            "showbackground": true,
            "ticks": "",
            "zerolinecolor": "white"
           },
           "yaxis": {
            "backgroundcolor": "#E5ECF6",
            "gridcolor": "white",
            "gridwidth": 2,
            "linecolor": "white",
            "showbackground": true,
            "ticks": "",
            "zerolinecolor": "white"
           },
           "zaxis": {
            "backgroundcolor": "#E5ECF6",
            "gridcolor": "white",
            "gridwidth": 2,
            "linecolor": "white",
            "showbackground": true,
            "ticks": "",
            "zerolinecolor": "white"
           }
          },
          "shapedefaults": {
           "line": {
            "color": "#2a3f5f"
           }
          },
          "ternary": {
           "aaxis": {
            "gridcolor": "white",
            "linecolor": "white",
            "ticks": ""
           },
           "baxis": {
            "gridcolor": "white",
            "linecolor": "white",
            "ticks": ""
           },
           "bgcolor": "#E5ECF6",
           "caxis": {
            "gridcolor": "white",
            "linecolor": "white",
            "ticks": ""
           }
          },
          "title": {
           "x": 0.05
          },
          "xaxis": {
           "automargin": true,
           "gridcolor": "white",
           "linecolor": "white",
           "ticks": "",
           "title": {
            "standoff": 15
           },
           "zerolinecolor": "white",
           "zerolinewidth": 2
          },
          "yaxis": {
           "automargin": true,
           "gridcolor": "white",
           "linecolor": "white",
           "ticks": "",
           "title": {
            "standoff": 15
           },
           "zerolinecolor": "white",
           "zerolinewidth": 2
          }
         }
        },
        "title": {
         "text": "PC1 Projection Distribution per Group"
        },
        "violinmode": "overlay",
        "xaxis": {
         "title": {
          "text": "Protein Cluster"
         }
        },
        "yaxis": {
         "range": [
          -12,
          12
         ],
         "title": {
          "text": "PC1"
         }
        }
       }
      }
     },
     "metadata": {},
     "output_type": "display_data"
    }
   ],
   "source": [
    "# La PC1 de qq1 y qq3 separan entre grupos. Sacar violin plot de la proyección\n",
    "qqcomE\n",
    "\n",
    "clusters = [9]\n",
    "mmcomE_tmp = mmcomE.iloc[:, clusters]\n",
    "\n",
    "tmp = dict(list(mdata.set_index('Seqn').loc[mmcomE_tmp.index].reset_index(names='Seqn').groupby('Group')))\n",
    "tmp2 = pd.melt(mmcomE_tmp.reset_index(names='Seqn'), id_vars='Seqn', value_vars=mmcomE_tmp.columns).set_index('Seqn')\n",
    "\n",
    "fig = go.Figure()\n",
    "fig.add_trace(go.Violin(x=[str(i) for i in tmp2.loc[tmp['C'].Seqn].variable],\n",
    "                        y=tmp2.loc[tmp['C'].Seqn].value,\n",
    "                        legendgroup='C', scalegroup='C', name='C',\n",
    "                        side='negative',\n",
    "                        line_color=palette[0])\n",
    "             )\n",
    "fig.add_trace(go.Violin(x=[str(i) for i in tmp2.loc[tmp['D'].Seqn].variable],\n",
    "                        y=tmp2.loc[tmp['D'].Seqn].value,\n",
    "                        legendgroup='D', scalegroup='D', name='D',\n",
    "                        side='positive',\n",
    "                        line_color=palette[1])\n",
    "             )\n",
    "\n",
    "fig.update_traces(box_visible=False, meanline_visible=True)\n",
    "fig.update_layout(violinmode='overlay', title='PC1 Projection Distribution per Group')\n",
    "fig.update_yaxes(title='PC1', range=(-12,12))\n",
    "fig.update_xaxes(title='Protein Cluster')\n",
    "fig.show()"
   ]
  },
  {
   "cell_type": "code",
   "execution_count": 34,
   "metadata": {},
   "outputs": [],
   "source": [
    "atable = q2i.loc[qqcom[0]]\n",
    "atable = m2i.loc[mmcom[9], ['ID', 'TP_ID']]"
   ]
  },
  {
   "cell_type": "code",
   "execution_count": 45,
   "metadata": {},
   "outputs": [],
   "source": [
    "qqcom[2]\n",
    "i = pd.DataFrame([(q,m,d['weight']) for q,m,d in qmg.edges.data() if q in qqcom[3]], \n",
    "             columns=['q','m','w']).set_index('m').join(m2i[['TP_ID']])"
   ]
  },
  {
   "cell_type": "code",
   "execution_count": 46,
   "metadata": {},
   "outputs": [],
   "source": [
    "q2i['qName'] = [re.search(r'HUMAN (.*) OS=', i).groups()[0] for i in q2i.qdesc]"
   ]
  },
  {
   "cell_type": "code",
   "execution_count": 39,
   "metadata": {},
   "outputs": [],
   "source": [
    "writer = pd.ExcelWriter('Clusters/DCA.xlsx', engine='openpyxl', mode='w')\n",
    "\n",
    "pd.DataFrame(\n",
    "    [(q2i.loc[i0, 'qName'],q2i.loc[i1, 'qName'],w['weight']) for i0, i1, w in qqg.edges.data()]\n",
    "    ).to_excel(writer, sheet_name='q')\n",
    "\n",
    "pd.DataFrame(\n",
    "    [(m2i.loc[i0,'TP_ID'],m2i.loc[i1,'TP_ID'],w['weight']) for i0, i1, w in mmg.edges.data()]\n",
    "    ).to_excel(writer, sheet_name='m')\n",
    "\n",
    "pd.DataFrame(\n",
    "    [(q2i.loc[i0, 'qName'],m2i.loc[i1,'TP_ID'],w['weight']) for i0, i1, w in qmg.edges.data()]\n",
    "    ).to_excel(writer, sheet_name='qm')\n",
    "\n",
    "writer.close()"
   ]
  },
  {
   "attachments": {},
   "cell_type": "markdown",
   "metadata": {},
   "source": [
    "Pertenencia de cada nodo a su cluster"
   ]
  },
  {
   "cell_type": "code",
   "execution_count": 47,
   "metadata": {},
   "outputs": [],
   "source": [
    "q2iC = q2i.join(\n",
    "    pd.DataFrame(\n",
    "        {q: dict(zip(['ComCorr', 'ComPval', 'Com'], [*pearsonr(qqcomE[n], xq[q]), n])) \n",
    "        for n,com in enumerate(qqcom) for q in com}\n",
    "        ).T,\n",
    "    how='left'\n",
    ")\n",
    "\n",
    "m2iC = m2i.join(\n",
    "    pd.DataFrame(\n",
    "        {m: dict(zip(['ComCorr', 'ComPval', 'Com'], [*pearsonr(mmcomE[n], xm[m]), n])) \n",
    "        for n,com in enumerate(mmcom) for m in com}\n",
    "        ).T,\n",
    "    how='left'\n",
    ")#.loc[:, ['TP_ID', 'ComCorr', 'ComPval', 'Com']]"
   ]
  },
  {
   "cell_type": "code",
   "execution_count": 43,
   "metadata": {},
   "outputs": [],
   "source": [
    "# Write feature info tables separated by cluster\n",
    "\n",
    "_ = [\n",
    "    i[1].to_csv(f'Clusters/qq_{int(i[0])}.tsv', sep='\\t')\n",
    "    for i in q2iC[~q2iC['Com'].isna()].groupby('Com')\n",
    "]\n",
    "\n",
    "_ = [\n",
    "    i[1].to_csv(f'Clusters/mm_{int(i[0])}.tsv', sep='\\t')\n",
    "    for i in m2iC[~m2iC['Com'].isna()].groupby('Com')\n",
    "]"
   ]
  },
  {
   "cell_type": "code",
   "execution_count": 44,
   "metadata": {},
   "outputs": [],
   "source": [
    "# Write feature info tables separated by cluster\n",
    "\n",
    "with pd.ExcelWriter(f'Clusters/qq_allClusters.xlsx') as writer:\n",
    "    _ = [\n",
    "        i[1].to_excel(writer, sheet_name=f'qq_{int(i[0])}')\n",
    "        for i in q2iC[~q2iC['Com'].isna()].groupby('Com')\n",
    "    ]\n",
    "\n",
    "with pd.ExcelWriter(f'Clusters/mm_allClusters.xlsx') as writer:\n",
    "    _ = [\n",
    "        i[1].to_excel(writer, sheet_name=f'mm_{int(i[0])}')\n",
    "        for i in m2iC[~m2iC['Com'].isna()].groupby('Com')\n",
    "    ]"
   ]
  },
  {
   "attachments": {},
   "cell_type": "markdown",
   "metadata": {},
   "source": [
    "Ilustracion de clusteres"
   ]
  },
  {
   "cell_type": "code",
   "execution_count": 136,
   "metadata": {},
   "outputs": [],
   "source": [
    "file='Plots/qqClusterCorrDif.html'\n",
    "if os.path.exists(file):\n",
    "    os.remove(file)\n",
    "\n",
    "for i in range(len(qqcom)):\n",
    "    tmp = qqcom[i]\n",
    "\n",
    "    tmp2 = adpv.rpc.qq.dc.loc[tmp,tmp].to_numpy()[\n",
    "        np.triu_indices(len(tmp), 1)\n",
    "    ]<0.05\n",
    "\n",
    "    rc = corr.rpc.qq.c.loc[tmp,tmp].to_numpy()[\n",
    "        np.triu_indices(len(tmp), 1)\n",
    "    ]\n",
    "\n",
    "    rd = corr.rpc.qq.d.loc[tmp,tmp].to_numpy()[\n",
    "        np.triu_indices(len(tmp), 1)\n",
    "    ]\n",
    "\n",
    "    fig = go.Figure()\n",
    "\n",
    "    fig.add_trace(go.Scatter(\n",
    "        x=rc,\n",
    "        y=rd,\n",
    "        mode='markers', marker_size=2.5, showlegend=False\n",
    "    ))\n",
    "\n",
    "    fig.add_trace(go.Scatter(\n",
    "        x=rc[tmp2],\n",
    "        y=rd[tmp2],\n",
    "        mode='markers', marker_size=2.5, marker_color=palette[1], showlegend=False\n",
    "    ))\n",
    "\n",
    "    fig.update_xaxes(range=(-0.2,0.5), title='Control correlation')\n",
    "    fig.update_yaxes(range=(-0.2,0.5), title='Disease correlation')\n",
    "    fig.add_shape(\n",
    "        type='line',\n",
    "        x0=-1, x1=1, y0=-1, y1=1,\n",
    "        line=dict(width=0.5)\n",
    "    )\n",
    "    fig.update_layout(width=600, height=600, title=f'Proteomics Cluster {i}')\n",
    "\n",
    "    with open(file, 'a') as f:\n",
    "        f.write(fig.to_html(full_html=False, include_plotlyjs='cdn', default_height='50%', default_width='80%'))\n",
    "\n",
    "#corr.rpc.qq.c.loc[qqcom[0],qqcom[0]]"
   ]
  },
  {
   "cell_type": "code",
   "execution_count": 138,
   "metadata": {},
   "outputs": [],
   "source": [
    "file='Plots/mmClusterCorrDif.html'\n",
    "if os.path.exists(file):\n",
    "    os.remove(file)\n",
    "\n",
    "for i in range(len(mmcom)):\n",
    "    tmp = mmcom[i]\n",
    "\n",
    "    tmp2 = adpv.rpc.mm.dc.loc[tmp,tmp].to_numpy()[\n",
    "        np.triu_indices(len(tmp), 1)\n",
    "    ]<0.05\n",
    "\n",
    "    rc = corr.rpc.mm.c.loc[tmp,tmp].to_numpy()[\n",
    "        np.triu_indices(len(tmp), 1)\n",
    "    ]\n",
    "\n",
    "    rd = corr.rpc.mm.d.loc[tmp,tmp].to_numpy()[\n",
    "        np.triu_indices(len(tmp), 1)\n",
    "    ]\n",
    "\n",
    "    fig = go.Figure()\n",
    "\n",
    "    fig.add_trace(go.Scatter(\n",
    "        x=rc,\n",
    "        y=rd,\n",
    "        mode='markers', marker_size=2.5, showlegend=False\n",
    "    ))\n",
    "\n",
    "    fig.add_trace(go.Scatter(\n",
    "        x=rc[tmp2],\n",
    "        y=rd[tmp2],\n",
    "        mode='markers', marker_size=2.5, marker_color=palette[1], showlegend=False\n",
    "    ))\n",
    "\n",
    "    fig.update_xaxes(range=(-0.2,0.5), title='Control correlation')\n",
    "    fig.update_yaxes(range=(-0.2,0.5), title='Disease correlation')\n",
    "    fig.add_shape(\n",
    "        type='line',\n",
    "        x0=-1, x1=1, y0=-1, y1=1,\n",
    "        line=dict(width=0.5)\n",
    "    )\n",
    "    fig.update_layout(width=600, height=600, title=f'Metabolomics Cluster {i}')\n",
    "\n",
    "    with open(file, 'a') as f:\n",
    "        f.write(fig.to_html(full_html=False, include_plotlyjs='cdn', default_height='50%', default_width='80%'))\n",
    "\n",
    "#corr.rpc.qq.c.loc[qqcom[0],qqcom[0]]"
   ]
  },
  {
   "cell_type": "code",
   "execution_count": 208,
   "metadata": {},
   "outputs": [],
   "source": [
    "Rengine = r\"C:\\Users\\rbarreror\\AppData\\Local\\Programs\\R\\R-4.2.2\\bin\\Rscript.exe\"\n",
    "Rpath = r\"S:\\U_Proteomica\\UNIDAD\\software\\MacrosRafa\\data\\Metabolomics\\PESA_Integromics\\Data\\utils\\ChordDiagram.R\"\n",
    "wpath = r\"S:\\U_Proteomica\\UNIDAD\\software\\MacrosRafa\\data\\Metabolomics\\PESA_Integromics\\Data\\Analysis\\03-Network\\PESA\\ChordDiagram\"\n",
    "\n",
    "omic = 'qq'\n",
    "n = 0\n",
    "\n",
    "for omic, coms in [('qq',qqcom), ('mm',mmcom)]:\n",
    "    for n in range(len(coms)):\n",
    "        comL = coms[n]\n",
    "\n",
    "        tmp_pv = adpv.rpc[omic].dc.loc[comL, comL]\n",
    "        tmp_pv = pd.melt(tmp_pv.reset_index(), id_vars='index', value_vars=tmp_pv.columns)\n",
    "\n",
    "        tmp_c = corr.rpc[omic].c.loc[comL, comL].copy()\n",
    "        tmp_c.to_numpy()[np.tril_indices(tmp_c.shape[0])] = 0\n",
    "        tmp_c = pd.melt(tmp_c.reset_index(), id_vars='index', value_vars=tmp_c.columns)\n",
    "        tmp_c.columns = ['var1', 'var2', 'c']\n",
    "        tmp_c = tmp_c[tmp_pv.value<0.05]\n",
    "\n",
    "        tmp_d = corr.rpc[omic].d.loc[comL, comL].copy()\n",
    "        tmp_d.to_numpy()[np.tril_indices(tmp_d.shape[0])] = 0\n",
    "        tmp_d = pd.melt(tmp_d.reset_index(), id_vars='index', value_vars=tmp_d.columns)\n",
    "        tmp_d.columns = ['var1', 'var2', 'd']\n",
    "        tmp_d = tmp_d[tmp_pv.value<0.05]\n",
    "\n",
    "        tmp = pd.merge(\n",
    "            tmp_c, tmp_d,\n",
    "            how='inner', on=['var1', 'var2']\n",
    "        )\n",
    "\n",
    "        tmp.to_csv(f'{wpath}/{omic}_{n}.tsv', sep='\\t', index=False)\n"
   ]
  },
  {
   "attachments": {},
   "cell_type": "markdown",
   "metadata": {},
   "source": [
    "Meta-Network WGCNA"
   ]
  },
  {
   "cell_type": "code",
   "execution_count": 48,
   "metadata": {},
   "outputs": [],
   "source": [
    "# Calcular meta-network mediante correlaciones entre autovectores de los clusteres\n",
    "\n",
    "import itertools\n",
    "\n",
    "\n",
    "metaqq = [\n",
    "    ([i0, i1], [*pearsonr(qqcomE[i0], qqcomE[i1])])\n",
    "    for i0, i1 in itertools.combinations(qqcomE.columns, 2)\n",
    "]\n",
    "\n",
    "metamm = [\n",
    "    ([i0, i1], [*pearsonr(mmcomE[i0], mmcomE[i1])])\n",
    "    for i0, i1 in itertools.combinations(mmcomE.columns, 2)\n",
    "]\n",
    "\n",
    "cidx = np.intersect1d(qqcomE.index, mmcomE.index)\n",
    "\n",
    "metaqm = [\n",
    "    ([i0, i1], [*pearsonr(qqcomE.loc[cidx, i0], mmcomE.loc[cidx, i1])])\n",
    "    for i0, i1 in itertools.product(qqcomE.columns, mmcomE.columns)\n",
    "]"
   ]
  },
  {
   "cell_type": "code",
   "execution_count": 49,
   "metadata": {},
   "outputs": [
    {
     "data": {
      "text/plain": [
       "(array([False, False, False, False, False, False, False, False, False,\n",
       "        False, False, False, False, False, False, False, False, False,\n",
       "        False, False, False, False, False, False, False, False, False,\n",
       "        False, False, False, False, False, False, False, False, False,\n",
       "        False, False, False, False, False, False, False, False, False,\n",
       "        False, False, False, False, False, False, False, False, False,\n",
       "        False]),\n",
       " array([0.66488766, 0.50170153, 0.73488429, 0.26361155, 0.9363605 ,\n",
       "        0.65395483, 0.93067954, 0.9323436 , 0.9323436 , 0.26361155,\n",
       "        0.73488429, 0.9323436 , 0.9323436 , 0.9323436 , 0.86862199,\n",
       "        0.9323436 , 0.9323436 , 0.9323436 , 0.9323436 , 0.93067954,\n",
       "        0.73488429, 0.9363605 , 0.9704068 , 0.9363605 , 0.9323436 ,\n",
       "        0.93067954, 0.9323436 , 0.9323436 , 0.9323436 , 0.66488766,\n",
       "        0.9323436 , 0.3327449 , 0.66488766, 0.93067954, 0.6124503 ,\n",
       "        0.30129845, 0.9323436 , 0.93067954, 0.9363605 , 0.9363605 ,\n",
       "        0.85994185, 0.9363605 , 0.66488766, 0.6124503 , 0.9323436 ,\n",
       "        0.9323436 , 0.9323436 , 0.9323436 , 0.26361155, 0.9323436 ,\n",
       "        0.26361155, 0.09514657, 0.26361155, 0.9323436 , 0.50170153]),\n",
       " 0.0009321706112870309,\n",
       " 0.0009090909090909091)"
      ]
     },
     "execution_count": 49,
     "metadata": {},
     "output_type": "execute_result"
    }
   ],
   "source": [
    "multipletests(list(zip(*list(zip(*metaqm))[1]))[1], method='fdr_bh')"
   ]
  },
  {
   "cell_type": "code",
   "execution_count": 319,
   "metadata": {},
   "outputs": [
    {
     "name": "stdout",
     "output_type": "stream",
     "text": [
      "NT_MetaNetwork_WGCNA.html\n"
     ]
    }
   ],
   "source": [
    "metag = nx.Graph()\n",
    "\n",
    "_ = [metag.add_node(f'q{i}', group='q', sizee=1-np.log(qqCP.loc['Group',i])) for i in qqcomE.columns]\n",
    "_ = [metag.add_node(f'm{i}', group='m', sizee=1-np.log(mmCP.loc['Group',i])) for i in mmcomE.columns]\n",
    "_ = [\n",
    "    metag.add_edge(f'{xx[0]}{nodes[0]}', f'{xx[1]}{nodes[1]}', r=vals[0], p=vals[1], omic=xx)\n",
    "    for metaxx, xx in [(metaqq, 'qq'), (metamm, 'mm'), (metaqm, 'qm')][2:]\n",
    "    for nodes, vals in metaxx if vals[1]<0.05\n",
    "]\n",
    "\n",
    "nt = Network(height='500px', width='100%', select_menu=True, filter_menu=True)\n",
    "nt.force_atlas_2based()\n",
    "nt.from_nx(metag)\n",
    "_ = [i.update({'color': palette[1]}) if i['group']=='m' else i.update({'color': palette[0]}) for i in nt.nodes]\n",
    "_ = [i.update({'color': 'grey'}) if i['r']>0 else i.update({'color': 'grey'}) for i in nt.edges]\n",
    "_ = [i.update({'width': -np.log(i['p'])}) for i in nt.edges]\n",
    "nt.show_buttons(filter_='physics')\n",
    "nt.show('NT_MetaNetwork_WGCNA.html', notebook=False)"
   ]
  },
  {
   "cell_type": "code",
   "execution_count": 50,
   "metadata": {},
   "outputs": [],
   "source": [
    "res = []\n",
    "\n",
    "\n",
    "pd.DataFrame(\n",
    "    [(f'q{i[0]}',f'm{i[1]}',j[0]) for i,j in metaqm if j[1]<0.01],\n",
    "    columns=['var1', 'var2', 'value']\n",
    ").to_csv('ChordDiagram/meta-network_WGCNA.tsv', sep='\\t', index=False)\n",
    "\n",
    "\n",
    "#res.to_csv('ChordDiagram/meta-network_WGCNA.tsv', sep='\\t', index=False)\n",
    "#res"
   ]
  },
  {
   "attachments": {},
   "cell_type": "markdown",
   "metadata": {},
   "source": [
    "Conexiones entre qq y mm mediante Binomial, Poisson y Hypergeom"
   ]
  },
  {
   "cell_type": "code",
   "execution_count": 51,
   "metadata": {},
   "outputs": [],
   "source": [
    "#\n",
    "# Binomial\n",
    "#\n",
    "from scipy.stats import binom, poisson, hypergeom\n",
    "\n",
    "\n",
    "\n",
    "tmp = [\n",
    "    [(i,j), (len(qqcom[i]), len(mmcom[j]))] \n",
    "    for i,j in itertools.product(range(len(qqcom)), range(len(mmcom)))\n",
    "    ]\n",
    "\n",
    "binRes = []\n",
    "for iqm, vqm in tmp:\n",
    "\n",
    "    # The probability estimation for edge existence is the ratio of existing edges\n",
    "    p = qmg.size()/(xq.shape[1]*xm.shape[1])\n",
    "\n",
    "    # The number of tests is the total number of possible edges between both clusters\n",
    "    n = vqm[0]*vqm[1]\n",
    "\n",
    "    # The x value is the number of existing edges between clusters\n",
    "    x = qmg.subgraph(\n",
    "        qqcom[iqm[0]] + mmcom[iqm[1]]\n",
    "    ).size()\n",
    "\n",
    "    binRes.append(\n",
    "        [\n",
    "        iqm, x, n, p, \n",
    "        1-binom.cdf(x-1, n, p), \n",
    "        1-poisson.cdf(x-1, n*p),\n",
    "        1-hypergeom.cdf(x-1, xq.shape[1]*xm.shape[1], n, qmg.size())\n",
    "        ]\n",
    "    )\n",
    "\n",
    "binRes = pd.DataFrame(binRes,\n",
    "             columns=['iqm', 'x', 'n', 'p', 'Bin', 'Poi', 'Hyp']) \n",
    "\n",
    "for i in ['Bin', 'Poi', 'Hyp']:\n",
    "    binRes[i+'_adj'] = multipletests(binRes['Bin'], method='fdr_bh')[1]"
   ]
  },
  {
   "cell_type": "code",
   "execution_count": 52,
   "metadata": {},
   "outputs": [
    {
     "data": {
      "text/html": [
       "<div>\n",
       "<style scoped>\n",
       "    .dataframe tbody tr th:only-of-type {\n",
       "        vertical-align: middle;\n",
       "    }\n",
       "\n",
       "    .dataframe tbody tr th {\n",
       "        vertical-align: top;\n",
       "    }\n",
       "\n",
       "    .dataframe thead th {\n",
       "        text-align: right;\n",
       "    }\n",
       "</style>\n",
       "<table border=\"1\" class=\"dataframe\">\n",
       "  <thead>\n",
       "    <tr style=\"text-align: right;\">\n",
       "      <th></th>\n",
       "      <th>var1</th>\n",
       "      <th>var2</th>\n",
       "      <th>value</th>\n",
       "    </tr>\n",
       "  </thead>\n",
       "  <tbody>\n",
       "    <tr>\n",
       "      <th>0</th>\n",
       "      <td>q0</td>\n",
       "      <td>m3</td>\n",
       "      <td>0.089033</td>\n",
       "    </tr>\n",
       "    <tr>\n",
       "      <th>1</th>\n",
       "      <td>q0</td>\n",
       "      <td>m5</td>\n",
       "      <td>0.076413</td>\n",
       "    </tr>\n",
       "    <tr>\n",
       "      <th>2</th>\n",
       "      <td>q0</td>\n",
       "      <td>m6</td>\n",
       "      <td>0.078833</td>\n",
       "    </tr>\n",
       "    <tr>\n",
       "      <th>3</th>\n",
       "      <td>q0</td>\n",
       "      <td>m8</td>\n",
       "      <td>0.075014</td>\n",
       "    </tr>\n",
       "    <tr>\n",
       "      <th>4</th>\n",
       "      <td>q0</td>\n",
       "      <td>m9</td>\n",
       "      <td>0.103392</td>\n",
       "    </tr>\n",
       "    <tr>\n",
       "      <th>5</th>\n",
       "      <td>q1</td>\n",
       "      <td>m2</td>\n",
       "      <td>0.072704</td>\n",
       "    </tr>\n",
       "    <tr>\n",
       "      <th>6</th>\n",
       "      <td>q1</td>\n",
       "      <td>m9</td>\n",
       "      <td>0.082906</td>\n",
       "    </tr>\n",
       "    <tr>\n",
       "      <th>7</th>\n",
       "      <td>q2</td>\n",
       "      <td>m9</td>\n",
       "      <td>0.084327</td>\n",
       "    </tr>\n",
       "    <tr>\n",
       "      <th>8</th>\n",
       "      <td>q3</td>\n",
       "      <td>m2</td>\n",
       "      <td>0.079445</td>\n",
       "    </tr>\n",
       "    <tr>\n",
       "      <th>9</th>\n",
       "      <td>q3</td>\n",
       "      <td>m3</td>\n",
       "      <td>0.084720</td>\n",
       "    </tr>\n",
       "    <tr>\n",
       "      <th>10</th>\n",
       "      <td>q3</td>\n",
       "      <td>m6</td>\n",
       "      <td>0.084926</td>\n",
       "    </tr>\n",
       "    <tr>\n",
       "      <th>11</th>\n",
       "      <td>q3</td>\n",
       "      <td>m9</td>\n",
       "      <td>0.110679</td>\n",
       "    </tr>\n",
       "    <tr>\n",
       "      <th>12</th>\n",
       "      <td>q3</td>\n",
       "      <td>m10</td>\n",
       "      <td>0.071601</td>\n",
       "    </tr>\n",
       "  </tbody>\n",
       "</table>\n",
       "</div>"
      ],
      "text/plain": [
       "   var1 var2     value\n",
       "0    q0   m3  0.089033\n",
       "1    q0   m5  0.076413\n",
       "2    q0   m6  0.078833\n",
       "3    q0   m8  0.075014\n",
       "4    q0   m9  0.103392\n",
       "5    q1   m2  0.072704\n",
       "6    q1   m9  0.082906\n",
       "7    q2   m9  0.084327\n",
       "8    q3   m2  0.079445\n",
       "9    q3   m3  0.084720\n",
       "10   q3   m6  0.084926\n",
       "11   q3   m9  0.110679\n",
       "12   q3  m10  0.071601"
      ]
     },
     "execution_count": 52,
     "metadata": {},
     "output_type": "execute_result"
    }
   ],
   "source": [
    "res = []\n",
    "\n",
    "tmp = qmc[qmp<0.05].fillna(0)\n",
    "tmp.index = [i.replace('.', '-') for i in tmp.index]\n",
    "\n",
    "for pair in binRes[binRes.Hyp_adj<0.01].iqm.tolist():\n",
    "    # pair = binRes[binRes.Hyp_adj<0.05].iqm.tolist()[0]\n",
    "\n",
    "    r = [tmp.loc[q, m] for q,m in list(itertools.product(qqcom[pair[0]], mmcom[pair[1]]))]\n",
    "    r = np.median([abs(i) for i in r if i!=0])\n",
    "    res.append([*pair, r])\n",
    "\n",
    "    # Positive and negative\n",
    "    # r = [(i, i>0) for i in r if i!=0]\n",
    "    # r.sort(key=lambda x:x[1])\n",
    "    # r = [np.median(list(zip(*list(j)))[0]) for i,j in itertools.groupby(r, lambda x:x[1])]\n",
    "    # res.append([*pair, r[0]]); res.append([*pair, r[1]])\n",
    "\n",
    "res = pd.DataFrame(\n",
    "    [[f\"q{i[0]}\", f\"m{i[1]}\", i[2]] for i in res],\n",
    "    columns=['var1', 'var2', 'value']\n",
    ")\n",
    "\n",
    "res.to_csv('ChordDiagram/meta-network.tsv', sep='\\t', index=False)\n",
    "res\n"
   ]
  },
  {
   "cell_type": "code",
   "execution_count": 38,
   "metadata": {},
   "outputs": [],
   "source": [
    "pv = 0.01\n",
    "metag = nx.Graph()\n",
    "_ = [metag.add_node(f'q{i}', group='q') for i in range(len(qqcom))]\n",
    "_ = [metag.add_node(f'm{i}', group='m') for i in range(len(mmcom))]\n",
    "_ = [metag.add_edge(f'q{i}',f'm{j}') for i,j in binRes.iqm[binRes['Hyp_adj'] < pv]]"
   ]
  },
  {
   "cell_type": "code",
   "execution_count": 318,
   "metadata": {},
   "outputs": [
    {
     "name": "stdout",
     "output_type": "stream",
     "text": [
      "NT_MetaNetwork_Hyper.html\n"
     ]
    }
   ],
   "source": [
    "nt = Network(height='500px', width='100%', select_menu=True, filter_menu=True)\n",
    "nt.force_atlas_2based()\n",
    "nt.from_nx(metag)\n",
    "_ = [i.update({'color': palette[1]}) if i['group']=='m' else i.update({'color': palette[0]}) for i in nt.nodes]\n",
    "_ = [i.update({'color': 'grey'}) for i in nt.edges]\n",
    "#_ = [i.update({'width': -np.log(i['p'])}) for i in nt.edges]\n",
    "nt.show_buttons(filter_='physics')\n",
    "nt.show('NT_MetaNetwork_Hyper.html', notebook=False)"
   ]
  },
  {
   "cell_type": "code",
   "execution_count": null,
   "metadata": {},
   "outputs": [],
   "source": []
  },
  {
   "cell_type": "code",
   "execution_count": 53,
   "metadata": {},
   "outputs": [],
   "source": [
    "# Intersection WGCNA & Hypergeometric\n",
    "wgcna = pd.read_csv(r\"S:\\U_Proteomica\\UNIDAD\\software\\MacrosRafa\\data\\Metabolomics\\PESA_Integromics\\Data\\Analysis\\03-Network\\PESA\\ChordDiagram\\meta-network_WGCNA.tsv\", sep='\\t', index_col=['var1', 'var2'])\n",
    "hyper = pd.read_csv(r\"S:\\U_Proteomica\\UNIDAD\\software\\MacrosRafa\\data\\Metabolomics\\PESA_Integromics\\Data\\Analysis\\03-Network\\PESA\\ChordDiagram\\meta-network.tsv\", sep='\\t', index_col=['var1', 'var2'])"
   ]
  },
  {
   "cell_type": "code",
   "execution_count": 54,
   "metadata": {},
   "outputs": [
    {
     "data": {
      "text/plain": [
       "array([], dtype=object)"
      ]
     },
     "execution_count": 54,
     "metadata": {},
     "output_type": "execute_result"
    }
   ],
   "source": [
    "np.intersect1d(\n",
    "wgcna.index,\n",
    "hyper.index\n",
    ")"
   ]
  },
  {
   "attachments": {},
   "cell_type": "markdown",
   "metadata": {},
   "source": [
    "Calcular proteinas más conectadas con metabolitos"
   ]
  },
  {
   "cell_type": "code",
   "execution_count": 23,
   "metadata": {},
   "outputs": [],
   "source": [
    "qSig = pd.DataFrame([\n",
    "    (q,x, 1-hypergeom.cdf(x-1, xq.shape[1]*xm.shape[1], xm.shape[1], qmg.size())) \n",
    "    for q,x in pd.Series([i[0] for i in qmg.edges.data()]).value_counts().to_dict().items()\n",
    "], columns=['q', 'x', 'pv']).set_index('q')\n",
    "\n",
    "qSig['pv_adj'] = multipletests(qSig['pv'], method='bonferroni')[1]"
   ]
  },
  {
   "cell_type": "code",
   "execution_count": 24,
   "metadata": {},
   "outputs": [],
   "source": [
    "qSig = qSig.join(q2i)"
   ]
  },
  {
   "cell_type": "code",
   "execution_count": 27,
   "metadata": {},
   "outputs": [],
   "source": [
    "qSig.to_csv('qSig.tsv', sep='\\t')"
   ]
  },
  {
   "attachments": {},
   "cell_type": "markdown",
   "metadata": {},
   "source": [
    "Metabolitos más conectados con proteínas"
   ]
  },
  {
   "cell_type": "code",
   "execution_count": 30,
   "metadata": {},
   "outputs": [],
   "source": [
    "mSig = pd.DataFrame([\n",
    "    (m,x, 1-hypergeom.cdf(x-1, xq.shape[1]*xm.shape[1], xq.shape[1], qmg.size())) \n",
    "    for m,x in pd.Series([i[1] for i in qmg.edges.data()]).value_counts().to_dict().items()\n",
    "], columns=['m', 'x', 'pv']).set_index('m')\n",
    "\n",
    "mSig['pv_adj'] = multipletests(mSig['pv'], method='bonferroni')[1]"
   ]
  },
  {
   "cell_type": "code",
   "execution_count": 34,
   "metadata": {},
   "outputs": [],
   "source": [
    "mSig\n",
    "tmp = mSig.join(m2i).loc[:, ['x','pv', 'pv_adj', 'TP_ID', 'ID']]"
   ]
  },
  {
   "attachments": {},
   "cell_type": "markdown",
   "metadata": {},
   "source": [
    "Explorar proteínas más asociadas a metabolitos de interés"
   ]
  },
  {
   "cell_type": "code",
   "execution_count": 39,
   "metadata": {},
   "outputs": [],
   "source": [
    "metabolite = 'C18N71'\n",
    "\n",
    "tmp2 = pd.DataFrame(\n",
    "    [(i[0], i[2]['weight']) for i in qmg.edges.data() if i[1] == metabolite],\n",
    "    columns=['q', 'r']\n",
    ").set_index('q').join(q2i)"
   ]
  },
  {
   "cell_type": "code",
   "execution_count": 134,
   "metadata": {},
   "outputs": [],
   "source": [
    "midList = [\n",
    "    ('C18N71', 'PE(18:0_20:4)'), \n",
    "    ('C18N53', 'PE(20:4/16:0)'),\n",
    "    ('HILP25', 'PC(38:4)'),\n",
    "    ('HILP112', 'LPE(20:4)'),\n",
    "    ('C18N77', 'LPE(18:1)'),\n",
    "    ('C18N133', 'LPC(18:2)'),\n",
    "    ('C18P530', 'LPC(18:2)'),\n",
    "    ('HILN24', 'LPC(18:2)')\n",
    "]\n",
    "\n",
    "midList = [\n",
    "    ('HILP520', 'Arginine'),\n",
    "    ('HILP78', 'Biliverdin'), \n",
    "    ('C18P619', 'Biliverdin'), \n",
    "    ('C18P380', 'Atorvastatin'),\n",
    "]\n",
    "\n",
    "mid = midList[2]\n",
    "\n",
    "\n",
    "file = f'Plots/AlessiaLipids/Arginine_Biliv_Statin.html'\n",
    "if os.path.exists(file):\n",
    "    os.remove(file)\n",
    "\n",
    "for mid in midList:\n",
    "    fig = make_subplots(rows=1, cols=3, subplot_titles=['Inmunoglobulin C Region', 'Apolipoprotein', 'Complement'])\n",
    "\n",
    "    fig = plot_qgroup(fig, r=0, c=0, mid=mid[0], regex='chain C region', title='', cortype='rcca')\n",
    "    fig = plot_qgroup(fig, r=0, c=1, mid=mid[0], regex='Apolipoprotein', title='', cortype='rcca')\n",
    "    fig = plot_qgroup(fig, r=0, c=2, mid=mid[0], regex='Complement', title='', cortype='rcca')\n",
    "    fig.update_layout(title=f'{mid[1]} | {mid[0]}')\n",
    "\n",
    "    with open(file, 'a') as f:\n",
    "        f.write(fig.to_html(full_html=False, include_plotlyjs='cdn', default_height='50%', default_width='100%'))\n",
    "\n",
    "\n",
    "# fig.show()"
   ]
  },
  {
   "cell_type": "code",
   "execution_count": 115,
   "metadata": {},
   "outputs": [],
   "source": [
    "def plot_qgroup(fig, r, c, mid, regex='', title='q Group', cortype='rcca'):\n",
    "    #qid = 'P02741' # ApoB-100\n",
    "\n",
    "    atable = pd.DataFrame(\n",
    "    [\n",
    "        (\n",
    "        q2i.qdesc[i], \n",
    "        i,\n",
    "        k['weight'], \n",
    "        getattr(corr, cortype).qm.c.loc[i.replace('-','.'), mid], \n",
    "        getattr(corr, cortype).qm.d.loc[i.replace('-','.'), mid],\n",
    "        adpv[cortype].qm.c.loc[i.replace('-','.'), mid],\n",
    "        adpv[cortype].qm.d.loc[i.replace('-','.'), mid]\n",
    "        )\n",
    "        for i,j,k in qmg.edges.data() if j==mid\n",
    "    ],\n",
    "    columns=['qdesc', 'fid', 'dc_corr', 'c_corr', 'd_corr', 'c_pv', 'd_pv']\n",
    "    )\n",
    "\n",
    "    tmp = atable[[bool(re.search(fr'{regex}', str(i))) for i in atable.qdesc]]\n",
    "\n",
    "    y0 = tmp.c_corr.to_numpy()\n",
    "    y1 = tmp.d_corr.to_numpy()\n",
    "\n",
    "    cpv, dpv = tmp.c_pv.to_numpy(), tmp.d_pv.to_numpy()\n",
    "\n",
    "    df = pd.DataFrame({'graph_name':['Control']*len(y0)+['Disease']*len(y1),\n",
    "                    'value': np.concatenate([y0,y1],0)}\n",
    "                    # 'color':np.random.choice([0,1,2,3,4,5,6,7,8,9], size=100, replace=True)}\n",
    "                    )\n",
    "\n",
    "    #fig = go.Figure()\n",
    "\n",
    "    ## i will set jittering to 0.1\n",
    "    x0 = np.array([0]*len(y0)) + np.random.uniform(-0.05,0.05,len(y0))\n",
    "    x1 = np.array([1]*len(y0)) + np.random.uniform(-0.05,0.05,len(y0))\n",
    "\n",
    "    for x_start,x_end,y_start,y_end,name,cpvi,dpvi in zip(x0,x1,y0,y1,tmp.qdesc, cpv, dpv):\n",
    "        ## if the color hasn't been added to the legend yet, add a legend entry\n",
    "        text = name[:5]\n",
    "        text = re.search(r'GN=([^\\s]+)(.)', name)\n",
    "        text = text.groups()[0] if text else ''\n",
    "        fig.add_trace(\n",
    "            go.Scatter(\n",
    "                x=[x_start,x_end],\n",
    "                y=[y_start,y_end],\n",
    "                mode='lines+markers+text',\n",
    "                marker=dict(color=['rgba(48, 39, 245, 0.9)' if cpvi<0.05 else 'grey', 'rgba(48, 39, 245, 0.9)' if dpvi<0.05 else 'grey']),\n",
    "                line=dict(color=\"rgba(100,100,100,0.5)\"),\n",
    "                #legendgroup=color_number[color],\n",
    "                #name=color_number[color],\n",
    "                name='', \n",
    "                hovertemplate=name,\n",
    "                text=['', text], textposition='middle left',\n",
    "                showlegend=False,\n",
    "                line_width=0.8,\n",
    "                marker_size=4\n",
    "                #hoverinfo='skip'\n",
    "            ), row=r+1, col=c+1\n",
    "        )\n",
    "\n",
    "    fig.add_trace(go.Box(\n",
    "        y=df.query('graph_name == \"Control\"')['value'], x=len(y0)*[0],\n",
    "        name='Control',hoverinfo='skip', width=0.2, showlegend=False,\n",
    "        marker_color=palette[1], boxpoints = False), row=r+1, col=c+1\n",
    "    )\n",
    "    fig.add_trace(go.Box(\n",
    "        y=df.query('graph_name == \"Disease\"')['value'],  x=len(y1)*[1],\n",
    "        name='Disease',hoverinfo='skip', width=0.2, showlegend=False,\n",
    "        marker_color=palette[2], boxpoints = False), row=r+1, col=c+1\n",
    "    )\n",
    "\n",
    "    fig.update_xaxes(tickvals=[0,1], ticktext=['Control', 'Disease'], range=(-0.2,1.2), title=title, row=r+1, col=c+1)\n",
    "    return fig"
   ]
  },
  {
   "attachments": {},
   "cell_type": "markdown",
   "metadata": {},
   "source": [
    "Explorar proteinas y grupos de lipidos del meta-network"
   ]
  },
  {
   "cell_type": "code",
   "execution_count": 78,
   "metadata": {},
   "outputs": [],
   "source": [
    "myR = pd.melt(corr.rcca.qm.dc.reset_index(), 'index', corr.rcca.qm.dc.columns).rename(columns={'index': 'q', 'variable':'m'})\n",
    "myP = pd.melt(adpv.rcca.qm.dc.reset_index(), 'index', adpv.rcca.qm.dc.columns).rename(columns={'index': 'q', 'variable':'m'})\n",
    "\n",
    "myR = myR[myP.value <= 0.1]\n",
    "\n",
    "myR.q = [i.replace('.', '-') for i in myR.q]\n",
    "\n",
    "aa = pd.merge(\n",
    "    pd.merge(\n",
    "        myR,\n",
    "        q2i.reset_index(),\n",
    "        left_on='q', right_on='fid', how='left'\n",
    "    ).drop('fid', axis=1),\n",
    "    m2i.loc[:, ['TP_ID']].reset_index(),\n",
    "    left_on='m', right_on='fid'\n",
    ").drop('fid', axis=1)\n",
    "\n",
    "aa = pd.merge(\n",
    "    pd.merge(\n",
    "        aa,\n",
    "        pd.melt(corr.rcca.qm.c.reset_index(), 'index', corr.rcca.qm.c.columns).rename(columns={'index': 'q', 'variable':'m', 'value':'c'}),\n",
    "        on=['q', 'm']\n",
    "    ),\n",
    "    pd.melt(corr.rcca.qm.d.reset_index(), 'index', corr.rcca.qm.d.columns).rename(columns={'index': 'q', 'variable':'m', 'value':'d'}),\n",
    ")\n",
    "# pd.melt(corr.rcca.qm.c.reset_index(), 'index', corr.rcca.qm.c.columns).rename(columns={'index': 'q', 'variable':'m', 'value':'c'})\n",
    "# aa"
   ]
  },
  {
   "cell_type": "code",
   "execution_count": 80,
   "metadata": {},
   "outputs": [],
   "source": [
    "aa.to_excel('rcca.xlsx')"
   ]
  },
  {
   "cell_type": "code",
   "execution_count": 40,
   "metadata": {},
   "outputs": [],
   "source": [
    "qid = 'P06396'\n",
    "\n",
    "atable = pd.DataFrame(\n",
    "[\n",
    "    (\n",
    "    m2i.TP_ID[j], \n",
    "    j,\n",
    "    k['weight'],\n",
    "    corr.rcca.qm.c.loc[qid, j], \n",
    "    corr.rcca.qm.d.loc[qid, j],\n",
    "    adpv.rcca.qm.c.loc[qid, j],\n",
    "    adpv.rcca.qm.d.loc[qid, j]\n",
    "    )\n",
    "    for i,j,k in qmg.edges.data() if i==qid\n",
    "],\n",
    "columns=['TP_ID', 'fid', 'dc_corr', 'c_corr', 'd_corr', 'c_pv', 'd_pv']\n",
    ")"
   ]
  },
  {
   "cell_type": "code",
   "execution_count": 88,
   "metadata": {},
   "outputs": [],
   "source": [
    "def plot_qmclass(fig, r, c, qid, regex='', title='q vs lipid class', cortype='rcca'):\n",
    "    #qid = 'P02741' # ApoB-100\n",
    "\n",
    "    atable = pd.DataFrame(\n",
    "    [\n",
    "        (\n",
    "        m2i.TP_ID[j], \n",
    "        j,\n",
    "        k['weight'], \n",
    "        getattr(corr, cortype).qm.c.loc[qid, j], \n",
    "        getattr(corr, cortype).qm.d.loc[qid, j],\n",
    "        adpv[cortype].qm.c.loc[qid, j],\n",
    "        adpv[cortype].qm.d.loc[qid, j]\n",
    "        )\n",
    "        for i,j,k in qmg.edges.data() if i==qid\n",
    "    ],\n",
    "    columns=['TP_ID', 'fid', 'dc_corr', 'c_corr', 'd_corr', 'c_pv', 'd_pv']\n",
    "    )\n",
    "\n",
    "    tmp = atable[[bool(re.search(fr'{regex}', str(i))) for i in atable.TP_ID]]\n",
    "\n",
    "    y0 = tmp.c_corr.to_numpy()\n",
    "    y1 = tmp.d_corr.to_numpy()\n",
    "\n",
    "    cpv, dpv = tmp.c_pv.to_numpy(), tmp.d_pv.to_numpy()\n",
    "\n",
    "    df = pd.DataFrame({'graph_name':['Control']*len(y0)+['Disease']*len(y1),\n",
    "                    'value': np.concatenate([y0,y1],0)}\n",
    "                    # 'color':np.random.choice([0,1,2,3,4,5,6,7,8,9], size=100, replace=True)}\n",
    "                    )\n",
    "\n",
    "    #fig = go.Figure()\n",
    "\n",
    "    ## i will set jittering to 0.1\n",
    "    x0 = np.array([0]*len(y0)) + np.random.uniform(-0.05,0.05,len(y0))\n",
    "    x1 = np.array([1]*len(y0)) + np.random.uniform(-0.05,0.05,len(y0))\n",
    "\n",
    "    for x_start,x_end,y_start,y_end,name,cpvi,dpvi in zip(x0,x1,y0,y1,tmp.TP_ID, cpv, dpv):\n",
    "        ## if the color hasn't been added to the legend yet, add a legend entry\n",
    "        text = name[:5]\n",
    "        fig.add_trace(\n",
    "            go.Scatter(\n",
    "                x=[x_start,x_end],\n",
    "                y=[y_start,y_end],\n",
    "                mode='lines+markers',\n",
    "                marker=dict(color=['rgba(48, 39, 245, 0.9)' if cpvi<0.05 else 'grey', 'rgba(48, 39, 245, 0.9)' if dpvi<0.05 else 'grey']),\n",
    "                line=dict(color=\"rgba(100,100,100,0.5)\"),\n",
    "                #legendgroup=color_number[color],\n",
    "                #name=color_number[color],\n",
    "                name='', \n",
    "                hovertemplate=name,\n",
    "                text=text, textposition='top left',\n",
    "                showlegend=False,\n",
    "                line_width=0.8,\n",
    "                marker_size=4\n",
    "                #hoverinfo='skip'\n",
    "            ), row=r+1, col=c+1\n",
    "        )\n",
    "\n",
    "    # fig.add_trace(go.Box(\n",
    "    #     y=df.query('graph_name == \"Control\"')['value'], x=len(y0)*[0],\n",
    "    #     name='Control',hoverinfo='skip', width=0.2, showlegend=False,\n",
    "    #     marker_color=palette[1], boxpoints = False), row=r+1, col=c+1\n",
    "    # )\n",
    "    # fig.add_trace(go.Box(\n",
    "    #     y=df.query('graph_name == \"Disease\"')['value'],  x=len(y1)*[1],\n",
    "    #     name='Disease',hoverinfo='skip', width=0.2, showlegend=False,\n",
    "    #     marker_color=palette[2], boxpoints = False), row=r+1, col=c+1\n",
    "    # )\n",
    "\n",
    "    fig.update_xaxes(tickvals=[0,1], ticktext=['Control', 'Disease'], range=(-0.2,1.2), title=title, row=r+1, col=c+1)\n",
    "    return fig"
   ]
  },
  {
   "cell_type": "code",
   "execution_count": 89,
   "metadata": {},
   "outputs": [],
   "source": [
    "cortype='rcca'\n",
    "\n",
    "myProts = [\n",
    "    ('P56391', 'Cytochrome c oxidase subunit 6B1'),\n",
    "    ('P28474', 'Alcohol dehydrogenase class-3'),\n",
    "    ('Q9DBK0', 'Acetyl-coenzyme A thioesterase'),\n",
    "    ('Q91WK0', 'Leucine-rich repeat flightless-interacting protein 2')\n",
    "]\n",
    "\n",
    "lipidClass = [\n",
    "    ('(^|\\s)TG\\s', 'TG'),\n",
    "    ('(^|\\s)PG\\s', 'PG'),\n",
    "    # ('(^|\\s)DG\\s', 'DG'),\n",
    "    # ('(^|\\s)PC\\s', 'PC'),\n",
    "    # ('(^|\\s)LPC\\s', 'LPC'),\n",
    "    # ('(^|\\s)PE\\s', 'PE'),\n",
    "    # ('(^|\\s)LPE\\s', 'LPE'),\n",
    "    # ('(^|\\s)PS\\s', 'PS'),\n",
    "    # ('(^|\\s)LPS\\s', 'LPS'),\n",
    "    # ('(^|\\s)SM\\s', 'SM'),\n",
    "    # ('(^|\\s)CAR\\s', 'CAR'),\n",
    "    # ('(^|\\s)FA\\s', 'FA'),\n",
    "    # ('(^|\\s)ST\\s', 'ST'),\n",
    "]\n",
    "\n",
    "r=3; c=5\n",
    "\n",
    "for qid, qdesc in myProts:\n",
    "    fig = make_subplots(rows=r, cols=c, vertical_spacing=0.05)\n",
    "\n",
    "    file = f'Plots/q2LipidClass/{cortype}/{qid}_{qdesc}.html'\n",
    "    if os.path.exists(file):\n",
    "        os.remove(file)\n",
    "\n",
    "    #print(qSig.loc[[qid], :])\n",
    "    for n, (regex, lipid) in enumerate(lipidClass):\n",
    "        fig = plot_qmclass(fig, n//c, n%c, qid,  regex, lipid, cortype)\n",
    "\n",
    "    with open(file, 'a') as f:\n",
    "        f.write(fig.to_html(full_html=False, include_plotlyjs='cdn', default_height='150%', default_width='100%'))\n"
   ]
  },
  {
   "cell_type": "code",
   "execution_count": 46,
   "metadata": {},
   "outputs": [],
   "source": [
    "cortype = 'rcca'\n",
    "\n",
    "myProts = [\n",
    "    ('P01834', 'Ig kappa chain C region'),\n",
    "    ('P01876', 'Ig alpha-1 chain C region'),\n",
    "    ('P01857', 'Ig gamma-1 chain C region'),\n",
    "    ('P01859', 'Ig gamma-2 chain C region'),\n",
    "    ('P01860', 'Ig gamma-3 chain C region'),\n",
    "    ('P0CG05', 'Ig lambda-2 chain C region')\n",
    "]\n",
    "\n",
    "myProts = [\n",
    "    ('P04114', 'ApoB-100'),\n",
    "    ('P02647', 'ApoA-I'),\n",
    "    ('P02652', 'ApoA-II'),\n",
    "    ('P02649', 'ApoE'),\n",
    "    ('P02654', 'ApoC-I'),\n",
    "    ('P02655', 'ApoC-II'),\n",
    "    #('P05546', 'Hep2'),\n",
    "    # ('P00738', 'Haptoglobin')\n",
    "]\n",
    "\n",
    "# myProts = [\n",
    "#     ('P01031', 'C5'),\n",
    "#     ('P00751', 'CFB'),\n",
    "#     ('P07360', 'CO8G'),\n",
    "#     ('P08603', 'CFH'),\n",
    "#     ('P0C0L4', 'C4A'),\n",
    "#     ('P0C0L5', 'C4B'),\n",
    "#     ('P13671', 'C6'),\n",
    "#     ('P05546', 'Hep2'),\n",
    "#     ('P00738', 'Haptoglobin')\n",
    "# ]\n",
    "\n",
    "lipidClass = [\n",
    "    ('(^|\\s)DG\\s', 'DG'),\n",
    "    ('(^|\\s)PC\\s', 'PC'),\n",
    "    ('(^|\\s)LPC\\s', 'LPC'),\n",
    "    ('(^|\\s)PE\\s', 'PE'),\n",
    "    ('(^|\\s)LPE\\s', 'LPE'),\n",
    "    ('(^|\\s)PS\\s', 'PS'),\n",
    "    ('(^|\\s)LPS\\s', 'LPS'),\n",
    "    ('(^|\\s)SM\\s', 'SM'),\n",
    "    ('(^|\\s)CAR\\s', 'CAR'),\n",
    "    ('(^|\\s)FA\\s', 'FA'),\n",
    "    ('(^|\\s)ST\\s', 'ST'),\n",
    "]\n",
    "\n",
    "file = f'Plots/q2LipidClass/{cortype}/Apo_LipidClass.html'\n",
    "\n",
    "r=len(lipidClass); c=len(myProts)\n",
    "\n",
    "#for qid, qdesc in myProts:\n",
    "if os.path.exists(file):\n",
    "    os.remove(file)\n",
    "fig = make_subplots(rows=r, cols=c, vertical_spacing=0.03, subplot_titles=r*list(zip(*myProts))[1])\n",
    "\n",
    "for ni, (regex, lipid) in enumerate(lipidClass):\n",
    "    #print(qSig.loc[[qid], :])\n",
    "    for nj, (qid, qdesc) in enumerate(myProts):\n",
    "        fig = plot_qmclass(fig, ni, nj, qid,  regex, lipid, cortype)\n",
    "\n",
    "with open(file, 'a') as f:\n",
    "    f.write(fig.to_html(full_html=False, include_plotlyjs='cdn', default_height='500%', default_width='100%'))\n"
   ]
  },
  {
   "attachments": {},
   "cell_type": "markdown",
   "metadata": {},
   "source": [
    "Representar correlaciones diferenciales en proteínas significativas por Limma"
   ]
  },
  {
   "cell_type": "code",
   "execution_count": 59,
   "metadata": {},
   "outputs": [],
   "source": [
    "# Read results from Limma\n",
    "\n",
    "qlim = pd.read_csv(r\"S:\\U_Proteomica\\UNIDAD\\software\\MacrosRafa\\data\\Metabolomics\\PESA_Integromics\\Data\\Analysis\\01-BasicStats\\PESA\\qLimma.tsv\", sep='\\t')\n",
    "mlim = pd.read_csv(r\"S:\\U_Proteomica\\UNIDAD\\software\\MacrosRafa\\data\\Metabolomics\\PESA_Integromics\\Data\\Analysis\\01-BasicStats\\PESA\\mLimma.tsv\", sep='\\t')\n",
    "\n",
    "qlim.index = [i.replace('.', '-') for i in qlim.index]\n",
    "\n",
    "qlim = q2i.join(qlim, how='right')\n",
    "mlim = m2i.loc[:, ['ID', 'TP_ID']].join(mlim, how='right')"
   ]
  },
  {
   "cell_type": "code",
   "execution_count": 80,
   "metadata": {},
   "outputs": [],
   "source": [
    "# Get Limma significative proteins\n",
    "pv = 0.1\n",
    "cortype='rcca'\n",
    "\n",
    "\n",
    "myProts = [\n",
    "    (i,re.search(r'GN=([A-z0-9]+)',j))\n",
    "    for i,j in zip(\n",
    "        qlim.index[qlim['adj.P.Val']<pv],\n",
    "        qlim.qdesc[qlim['adj.P.Val']<pv]\n",
    "    )\n",
    "][12:]\n",
    "\n",
    "myProts = [\n",
    "(i, j.groups()[0]) if j else\n",
    "(i, i)\n",
    "for i,j in myProts\n",
    "]\n",
    "\n",
    "file = f'Plots/q2LipidClass/{cortype}/Limma_LipidClass_12-24.html'\n",
    "\n",
    "r=len(lipidClass); c=len(myProts)\n",
    "\n",
    "#for qid, qdesc in myProts:\n",
    "if os.path.exists(file):\n",
    "    os.remove(file)\n",
    "fig = make_subplots(rows=r, cols=c, vertical_spacing=0.03, subplot_titles=r*list(zip(*myProts))[1])\n",
    "\n",
    "for ni, (regex, lipid) in enumerate(lipidClass):\n",
    "    #print(qSig.loc[[qid], :])\n",
    "    for nj, (qid, qdesc) in enumerate(myProts):\n",
    "        fig = plot_qmclass(fig, ni, nj, qid,  regex, lipid, cortype)\n",
    "\n",
    "with open(file, 'a') as f:\n",
    "    f.write(fig.to_html(full_html=False, include_plotlyjs='cdn', default_height='500%', default_width='100%'))\n"
   ]
  },
  {
   "attachments": {},
   "cell_type": "markdown",
   "metadata": {},
   "source": [
    "Representar distribucion de valores de proteinas en control y AS"
   ]
  },
  {
   "cell_type": "code",
   "execution_count": 93,
   "metadata": {},
   "outputs": [],
   "source": [
    "myProts = [\n",
    "    ('P04114', 'ApoB-100'),\n",
    "    ('P02647', 'ApoA-I'),\n",
    "    ('P02652', 'ApoA-II'),\n",
    "    ('P02649', 'ApoE'),\n",
    "    ('P02654', 'ApoC-I'),\n",
    "    ('P02655', 'ApoC-II'),\n",
    "    # ('P01031', 'C5'),\n",
    "    # ('P00738', 'Haptoglobin'),\n",
    "    # ('P05546', 'Hep2')\n",
    "    # ('P01834', 'Ig kappa chain C region'),\n",
    "    # ('P01876', 'Ig alpha-1 chain C region'),\n",
    "    # ('P01857', 'Ig gamma-1 chain C region'),\n",
    "    # ('P01859', 'Ig gamma-2 chain C region'),\n",
    "    # ('P01860', 'Ig gamma-3 chain C region'),\n",
    "    # ('P0CG05', 'Ig lambda-2 chain C region'),\n",
    "]\n",
    "\n",
    "\n",
    "# Limma proteins\n",
    "\n",
    "# pv=0.1\n",
    "# myProts = [\n",
    "#     (i,re.search(r'GN=([A-z0-9]+)',j))\n",
    "#     for i,j in zip(\n",
    "#         qlim.index[qlim['adj.P.Val']<pv],\n",
    "#         qlim.qdesc[qlim['adj.P.Val']<pv]\n",
    "#     )\n",
    "# ][:]\n",
    "\n",
    "# myProts = [\n",
    "# (i, j.groups()[0]) if j else\n",
    "# (i, i)\n",
    "# for i,j in myProts\n",
    "# ]"
   ]
  },
  {
   "cell_type": "code",
   "execution_count": 92,
   "metadata": {},
   "outputs": [
    {
     "data": {
      "application/vnd.plotly.v1+json": {
       "config": {
        "plotlyServerURL": "https://plot.ly"
       },
       "data": [
        {
         "hoverinfo": "skip",
         "legendgroup": "Yes",
         "line": {
          "color": "#EF553B"
         },
         "meanline": {
          "visible": true
         },
         "name": "Control",
         "scalegroup": "Yes",
         "showlegend": false,
         "side": "negative",
         "type": "violin",
         "x": [
          "ApoB-100",
          "ApoB-100",
          "ApoB-100",
          "ApoB-100",
          "ApoB-100",
          "ApoB-100",
          "ApoB-100",
          "ApoB-100",
          "ApoB-100",
          "ApoB-100",
          "ApoB-100",
          "ApoB-100",
          "ApoB-100",
          "ApoB-100",
          "ApoB-100",
          "ApoB-100",
          "ApoB-100",
          "ApoB-100",
          "ApoB-100",
          "ApoB-100",
          "ApoB-100",
          "ApoB-100",
          "ApoB-100",
          "ApoB-100",
          "ApoB-100",
          "ApoB-100",
          "ApoB-100",
          "ApoB-100",
          "ApoB-100",
          "ApoB-100",
          "ApoB-100",
          "ApoB-100",
          "ApoB-100",
          "ApoB-100",
          "ApoB-100",
          "ApoB-100",
          "ApoB-100",
          "ApoB-100",
          "ApoB-100",
          "ApoB-100",
          "ApoB-100",
          "ApoB-100",
          "ApoB-100",
          "ApoB-100",
          "ApoB-100",
          "ApoB-100",
          "ApoB-100",
          "ApoB-100",
          "ApoB-100",
          "ApoB-100",
          "ApoB-100",
          "ApoB-100",
          "ApoB-100",
          "ApoB-100",
          "ApoB-100",
          "ApoB-100",
          "ApoB-100",
          "ApoB-100",
          "ApoB-100",
          "ApoB-100",
          "ApoB-100",
          "ApoB-100",
          "ApoB-100",
          "ApoB-100",
          "ApoB-100",
          "ApoB-100",
          "ApoB-100",
          "ApoB-100",
          "ApoB-100",
          "ApoB-100",
          "ApoB-100",
          "ApoB-100",
          "ApoB-100",
          "ApoB-100",
          "ApoB-100",
          "ApoB-100",
          "ApoB-100",
          "ApoB-100",
          "ApoB-100",
          "ApoB-100",
          "ApoB-100",
          "ApoB-100",
          "ApoB-100",
          "ApoB-100",
          "ApoB-100",
          "ApoB-100",
          "ApoB-100",
          "ApoB-100",
          "ApoB-100",
          "ApoB-100",
          "ApoB-100",
          "ApoB-100",
          "ApoB-100",
          "ApoB-100",
          "ApoB-100",
          "ApoB-100",
          "ApoB-100",
          "ApoB-100",
          "ApoB-100",
          "ApoB-100",
          "ApoB-100",
          "ApoB-100",
          "ApoB-100",
          "ApoB-100",
          "ApoB-100",
          "ApoB-100",
          "ApoB-100",
          "ApoB-100",
          "ApoB-100",
          "ApoB-100",
          "ApoB-100",
          "ApoB-100",
          "ApoB-100",
          "ApoB-100",
          "ApoB-100",
          "ApoB-100",
          "ApoB-100",
          "ApoB-100",
          "ApoB-100",
          "ApoB-100",
          "ApoB-100",
          "ApoB-100",
          "ApoB-100",
          "ApoB-100",
          "ApoB-100",
          "ApoB-100",
          "ApoB-100",
          "ApoB-100",
          "ApoB-100",
          "ApoB-100",
          "ApoB-100",
          "ApoB-100",
          "ApoB-100",
          "ApoB-100",
          "ApoB-100",
          "ApoB-100",
          "ApoB-100",
          "ApoB-100",
          "ApoB-100",
          "ApoB-100",
          "ApoB-100",
          "ApoB-100",
          "ApoB-100",
          "ApoB-100",
          "ApoB-100",
          "ApoB-100",
          "ApoB-100",
          "ApoB-100",
          "ApoB-100",
          "ApoB-100",
          "ApoB-100",
          "ApoB-100",
          "ApoB-100",
          "ApoB-100",
          "ApoB-100",
          "ApoB-100",
          "ApoB-100",
          "ApoB-100",
          "ApoB-100",
          "ApoB-100",
          "ApoB-100",
          "ApoB-100",
          "ApoB-100",
          "ApoB-100",
          "ApoB-100",
          "ApoB-100",
          "ApoB-100",
          "ApoB-100",
          "ApoB-100",
          "ApoB-100",
          "ApoB-100",
          "ApoB-100",
          "ApoB-100",
          "ApoB-100",
          "ApoB-100",
          "ApoB-100",
          "ApoB-100",
          "ApoB-100",
          "ApoB-100",
          "ApoB-100",
          "ApoB-100",
          "ApoB-100",
          "ApoB-100",
          "ApoB-100",
          "ApoB-100",
          "ApoB-100",
          "ApoB-100",
          "ApoB-100",
          "ApoB-100",
          "ApoB-100",
          "ApoB-100",
          "ApoB-100",
          "ApoB-100",
          "ApoB-100",
          "ApoB-100",
          "ApoB-100",
          "ApoB-100",
          "ApoB-100",
          "ApoB-100",
          "ApoB-100",
          "ApoB-100",
          "ApoB-100",
          "ApoB-100",
          "ApoB-100",
          "ApoB-100",
          "ApoB-100",
          "ApoB-100",
          "ApoB-100",
          "ApoB-100",
          "ApoB-100",
          "ApoB-100",
          "ApoB-100"
         ],
         "y": [
          1.00210899215802,
          -0.595859922489217,
          0.475915078683226,
          -0.509829959695855,
          -0.463558859170245,
          1.58448258954654,
          1.07922375940846,
          -0.0514816683595082,
          -0.903335530279523,
          -0.0924464119211888,
          -0.0688488804882498,
          -2.29135071603711,
          0.090107544200613,
          1.35372864609087,
          0.0014842950355801,
          0.770089449748049,
          -0.997233196824772,
          0.568442357893217,
          1.03301937429275,
          1.53362443984644,
          -0.737151518333434,
          0.0142087092518735,
          0.839850648915903,
          -0.968957998776702,
          0.783563052637373,
          -0.576324184062801,
          1.15071779732823,
          -2.84199822012993,
          0.144361823465896,
          0.201289678928861,
          -0.972736469592891,
          0.426668283613457,
          0.585859645270538,
          -1.02716731322683,
          -2.3628675016147,
          -0.107890701369327,
          -1.45645012796037,
          0.695886441208052,
          0.428358064183053,
          0.225080614867031,
          1.0427227926739,
          -0.986362150916779,
          1.4889520060018,
          0.349267834060387,
          0.0567780337814786,
          0.526935904453401,
          -1.59379481173033,
          0.343777900264569,
          0.371736102636599,
          1.18106173723148,
          0.619090214559544,
          0.307948837817266,
          -1.67678148911665,
          0.427660041759824,
          -1.8483926363695,
          -1.61263270981514,
          0.688276385778681,
          -0.517374851116293,
          0.380259269921295,
          0.0719571873524248,
          -1.35450383399996,
          -0.815367508660105,
          -0.389141632629189,
          -0.660290892948686,
          0.0866244463356467,
          0.0788260850570873,
          0.515513385648866,
          1.81976128732107,
          -1.43880327605759,
          0.459287032245525,
          -0.25260324194844,
          0.529550411511929,
          -0.827617566271253,
          -0.405295801991365,
          1.0376340101833,
          -0.787889532882778,
          -1.24947686086999,
          -1.22693219956342,
          0.0648856936920302,
          -0.826755905322429,
          0.574732352606738,
          -2.25142983608121,
          0.791505053986505,
          1.68173292855057,
          0.114378655490622,
          0.666365433073756,
          0.207596901265258,
          0.287886188647005,
          -0.486420398362034,
          -1.63013360731738,
          -1.63540564533621,
          -1.27305179663843,
          -0.661556799148368,
          -1.17775743143386,
          -1.73252199323209,
          -1.38959398260889,
          -0.0291383134097754,
          0.273506285570906,
          -2.11516078786661,
          0.545953004657648,
          -0.611735041608038,
          -0.987231186756651,
          0.0271000033915633,
          0.986282065414798,
          0.502704407507169,
          0.538546204764503,
          -1.01690187598722,
          -0.291944510145222,
          0.717462645830564,
          0.499287494934785,
          -2.25083076336229,
          0.512487132628504,
          1.41442909396744,
          -0.853491254087815,
          0.0798752295290765,
          0.0038829973907589,
          1.4636199148925,
          1.16588515474055,
          0.860157196469804,
          0.480139673262867,
          -0.35558006352547,
          0.0945978130145194,
          -0.301135801490165,
          -0.174513290776697,
          0.190383185042738,
          1.06774074803846,
          -1.09665142834784,
          0.554696132294544,
          0.556164624497108,
          0.651484016456728,
          0.992055849590061,
          -1.88507533773268,
          0.966000320229181,
          0.445581488490182,
          0.177938503880339,
          -2.53112087405713,
          0.660684040572825,
          0.404099536091903,
          0.818257745249378,
          0.608892112587528,
          -0.397087600409326,
          -1.10732531212957,
          0.567501870678262,
          0.995520105785848,
          1.12532296036306,
          -0.437508104630898,
          -2.53334795356073,
          -0.674398176105022,
          0.852366673645727,
          -1.34291585225783,
          -1.75071877431836,
          -2.87929325670879,
          -1.00240001198148,
          -0.313317291765233,
          -1.79562880088104,
          -0.68868196416725,
          -0.084050872026061,
          -1.06798481680296,
          -0.556469867641599,
          0.428623050499665,
          -3.81527975252299,
          -0.521833147033238,
          -0.699687912226834,
          0.483725798321332,
          0.112872229995338,
          -0.646213112910515,
          -0.123388096981684,
          -0.67315816319041,
          -1.04303058210456,
          -1.86371609922308,
          0.832682596830115,
          0.698941765900264,
          -0.9467282104436,
          -0.691148354904933,
          0.746840410268773,
          -0.482530970810704,
          -1.01116641784852,
          0.314873329598624,
          -0.511562508369772,
          0.116317025568071,
          -1.39159075648803,
          -0.462302053501388,
          -1.02276410503303,
          0.215180105760018,
          0.760269270383907,
          0.0095103204590048,
          -0.55451290225975,
          -0.663385880742616,
          -0.659576451042958,
          1.27327591019059,
          1.41397231777988,
          -0.317952876854871,
          0.508669065346111,
          0.593352138199965,
          -0.393493900453049,
          -0.200145069591196,
          -0.616333720775712,
          0.857909952572196,
          0.906620569542482,
          -1.46776869602897,
          -1.50395086029559,
          -1.11080344928215,
          0.437653186808583,
          -0.313791913978022,
          -0.038256949495437,
          0.354520328301367,
          0.70716532847895,
          1.80271927962375,
          -0.943677164463791,
          -1.82816241857238,
          -1.08411037498806,
          0.64458882910415
         ]
        },
        {
         "hoverinfo": "skip",
         "legendgroup": "No",
         "line": {
          "color": "#00CC96"
         },
         "meanline": {
          "visible": true
         },
         "name": "Disease",
         "scalegroup": "No",
         "showlegend": false,
         "side": "positive",
         "type": "violin",
         "x": [
          "ApoB-100",
          "ApoB-100",
          "ApoB-100",
          "ApoB-100",
          "ApoB-100",
          "ApoB-100",
          "ApoB-100",
          "ApoB-100",
          "ApoB-100",
          "ApoB-100",
          "ApoB-100",
          "ApoB-100",
          "ApoB-100",
          "ApoB-100",
          "ApoB-100",
          "ApoB-100",
          "ApoB-100",
          "ApoB-100",
          "ApoB-100",
          "ApoB-100",
          "ApoB-100",
          "ApoB-100",
          "ApoB-100",
          "ApoB-100",
          "ApoB-100",
          "ApoB-100",
          "ApoB-100",
          "ApoB-100",
          "ApoB-100",
          "ApoB-100",
          "ApoB-100",
          "ApoB-100",
          "ApoB-100",
          "ApoB-100",
          "ApoB-100",
          "ApoB-100",
          "ApoB-100",
          "ApoB-100",
          "ApoB-100",
          "ApoB-100",
          "ApoB-100",
          "ApoB-100",
          "ApoB-100",
          "ApoB-100",
          "ApoB-100",
          "ApoB-100",
          "ApoB-100",
          "ApoB-100",
          "ApoB-100",
          "ApoB-100",
          "ApoB-100",
          "ApoB-100",
          "ApoB-100",
          "ApoB-100",
          "ApoB-100",
          "ApoB-100",
          "ApoB-100",
          "ApoB-100",
          "ApoB-100",
          "ApoB-100",
          "ApoB-100",
          "ApoB-100",
          "ApoB-100",
          "ApoB-100",
          "ApoB-100",
          "ApoB-100",
          "ApoB-100",
          "ApoB-100",
          "ApoB-100",
          "ApoB-100",
          "ApoB-100",
          "ApoB-100",
          "ApoB-100",
          "ApoB-100",
          "ApoB-100",
          "ApoB-100",
          "ApoB-100",
          "ApoB-100",
          "ApoB-100",
          "ApoB-100",
          "ApoB-100",
          "ApoB-100",
          "ApoB-100",
          "ApoB-100",
          "ApoB-100",
          "ApoB-100",
          "ApoB-100",
          "ApoB-100",
          "ApoB-100",
          "ApoB-100",
          "ApoB-100",
          "ApoB-100",
          "ApoB-100",
          "ApoB-100",
          "ApoB-100",
          "ApoB-100",
          "ApoB-100",
          "ApoB-100",
          "ApoB-100",
          "ApoB-100",
          "ApoB-100",
          "ApoB-100",
          "ApoB-100",
          "ApoB-100",
          "ApoB-100",
          "ApoB-100",
          "ApoB-100",
          "ApoB-100",
          "ApoB-100",
          "ApoB-100",
          "ApoB-100",
          "ApoB-100",
          "ApoB-100",
          "ApoB-100",
          "ApoB-100",
          "ApoB-100",
          "ApoB-100",
          "ApoB-100",
          "ApoB-100",
          "ApoB-100",
          "ApoB-100",
          "ApoB-100",
          "ApoB-100",
          "ApoB-100",
          "ApoB-100",
          "ApoB-100",
          "ApoB-100",
          "ApoB-100",
          "ApoB-100",
          "ApoB-100",
          "ApoB-100",
          "ApoB-100",
          "ApoB-100",
          "ApoB-100",
          "ApoB-100",
          "ApoB-100",
          "ApoB-100",
          "ApoB-100",
          "ApoB-100",
          "ApoB-100",
          "ApoB-100",
          "ApoB-100",
          "ApoB-100",
          "ApoB-100",
          "ApoB-100",
          "ApoB-100",
          "ApoB-100",
          "ApoB-100",
          "ApoB-100",
          "ApoB-100",
          "ApoB-100",
          "ApoB-100",
          "ApoB-100",
          "ApoB-100",
          "ApoB-100",
          "ApoB-100",
          "ApoB-100",
          "ApoB-100",
          "ApoB-100",
          "ApoB-100",
          "ApoB-100",
          "ApoB-100",
          "ApoB-100",
          "ApoB-100",
          "ApoB-100",
          "ApoB-100",
          "ApoB-100",
          "ApoB-100",
          "ApoB-100",
          "ApoB-100",
          "ApoB-100",
          "ApoB-100",
          "ApoB-100",
          "ApoB-100",
          "ApoB-100",
          "ApoB-100",
          "ApoB-100",
          "ApoB-100",
          "ApoB-100",
          "ApoB-100",
          "ApoB-100",
          "ApoB-100",
          "ApoB-100",
          "ApoB-100",
          "ApoB-100",
          "ApoB-100",
          "ApoB-100",
          "ApoB-100",
          "ApoB-100",
          "ApoB-100",
          "ApoB-100",
          "ApoB-100",
          "ApoB-100",
          "ApoB-100",
          "ApoB-100",
          "ApoB-100",
          "ApoB-100",
          "ApoB-100",
          "ApoB-100",
          "ApoB-100",
          "ApoB-100",
          "ApoB-100",
          "ApoB-100",
          "ApoB-100",
          "ApoB-100",
          "ApoB-100",
          "ApoB-100",
          "ApoB-100",
          "ApoB-100",
          "ApoB-100",
          "ApoB-100",
          "ApoB-100"
         ],
         "y": [
          0.587564215467355,
          -0.337524942734693,
          -0.289061841540488,
          -0.217412752249074,
          1.86907159186247,
          0.286558704505484,
          -0.603895897778906,
          1.30241204740538,
          0.717324351116874,
          -0.319327829674109,
          1.65850092096548,
          0.703322427838748,
          -1.20136815377897,
          0.691365298992455,
          -0.427191560893436,
          -0.579024265712782,
          0.555754178045008,
          -0.121223733871952,
          1.21336231516951,
          1.16670452017859,
          0.336657273616422,
          -0.806200652291699,
          -1.21276509564042,
          0.188653117704949,
          1.56332794525356,
          1.195818435089,
          0.0056055196664106,
          0.952758420088062,
          -0.423505316091324,
          -1.00616519335569,
          1.81897695118845,
          -0.929594286633631,
          -0.0874496507702741,
          0.945311791294859,
          -0.104128888710308,
          -0.0658695414283291,
          0.437184338497028,
          0.847024158524333,
          -0.269676920968146,
          0.582771331067591,
          0.617550561269267,
          -0.378203215701051,
          0.539639315240327,
          1.07031070539007,
          1.14338806148709,
          0.0418417435254806,
          0.263784884147039,
          1.03777712084638,
          -1.58553422464591,
          -0.0170588366184864,
          0.921794693516011,
          1.83893041400521,
          -0.814020908315715,
          -0.31224599814715,
          1.12777327687241,
          -1.08447073863913,
          1.14326644582781,
          0.583663386904504,
          -1.11871601260517,
          0.792271252946036,
          0.069314344718376,
          1.09676697369022,
          1.51953565335216,
          0.242883938098847,
          -0.388914725753686,
          0.225211327032639,
          -0.131840015767664,
          -0.755630052269385,
          0.756155461183866,
          -0.292395156463613,
          -1.16611380341681,
          -0.0826276486019416,
          -1.06283527583867,
          -0.295344600660997,
          0.0570145024362956,
          2.23048343940984,
          -0.844706005872557,
          0.707654243091991,
          -0.351803986376633,
          0.349188185073879,
          1.62765099847331,
          -1.33645005257147,
          1.18295231025004,
          0.931192141129199,
          -1.46068418468769,
          0.838801265983498,
          -0.0580283660825514,
          1.71964933736385,
          0.294301023249556,
          -1.21116749712722,
          1.69369866432216,
          -1.52689785293438,
          0.441600047764949,
          2.10893293041111,
          -1.07256766266692,
          0.514286661201795,
          -0.0252993175960374,
          0.742890342819373,
          2.42677665584484,
          0.653615002279893,
          1.43792736757756,
          1.80547776999608,
          -0.987536043230169,
          0.769355852660871,
          -0.525679130817361,
          -0.861305838465765,
          0.193561215746647,
          0.413881669680354,
          0.560167275856702,
          0.263445590278324,
          0.708855595521927,
          0.214261479330508,
          -0.717141973601329,
          1.07583913170581,
          -0.869997416419529,
          -0.467512004804504,
          1.75301827814902,
          0.190954475718758,
          -0.362676553153287,
          0.29880124886528,
          -0.749951495585713,
          0.359400037748057,
          0.839153773543222,
          -1.4822658864567,
          0.481645656364106,
          0.353184578228331,
          1.06662762666272,
          0.0295551128534956,
          -0.496906056879095,
          1.19488968829586,
          1.84368693787087,
          0.634687724984749,
          -0.575034208037406,
          1.12245111911273,
          0.212125686118799,
          0.555292616544643,
          -0.346138582049066,
          -0.744322862755005,
          0.307131414735249,
          0.652664146698984,
          1.35795068333574,
          0.222495988363356,
          -1.38697426295075,
          0.398623945183758,
          0.741095321548113,
          0.700876799843914,
          -1.30220421690285,
          1.67153176690219,
          0.321019720853708,
          0.606628948659231,
          0.191342662281596,
          0.649270010151077,
          -0.575089647821689,
          -0.963823128446399,
          -0.432580907197341,
          0.0540192869438411,
          0.87872857318661,
          0.404256984533334,
          -0.519213553945532,
          0.268557983561191,
          0.5963658633513,
          0.335476181151751,
          -0.47538756077238,
          -1.26756923221638,
          -1.27546778634119,
          0.0871019255474325,
          0.685127749437205,
          0.931199138683574,
          -0.195370269198873,
          0.18722714400576,
          -1.01434975585363,
          0.0430043267720541,
          -1.0245179535166,
          1.46612096101584,
          0.355821532691101,
          -0.798062725605601,
          -0.436426299627446,
          -0.0469027203103882,
          2.00454869562983,
          0.877213009765651,
          -1.11043691889021,
          0.525298886525632,
          0.533264810039347,
          -0.946806993872717,
          0.275901842972634,
          0.105197390517295,
          0.0006950317167077,
          -0.209550390402694,
          0.967327532955169,
          -1.44525861208839,
          0.352594261887323,
          0.893349520288505,
          0.625848457446116,
          0.910197188350452,
          0.168802078230653,
          0.0806190879784389,
          0.379757084451472,
          -0.505752638210659,
          0.780960995364923,
          0.875746227328408,
          0.715501680029613,
          0.29150942237458,
          1.82107308724782,
          -2.05904697912938,
          0.131783905809016,
          -0.0336680550765264,
          0.299246722334834,
          -1.1368295407146,
          -1.44642694745107,
          -0.200664638429518,
          -1.7525517406607,
          0.0447300792292818
         ]
        },
        {
         "hoverinfo": "skip",
         "legendgroup": "Yes",
         "line": {
          "color": "#EF553B"
         },
         "meanline": {
          "visible": true
         },
         "name": "Control",
         "scalegroup": "Yes",
         "showlegend": false,
         "side": "negative",
         "type": "violin",
         "x": [
          "ApoA-I",
          "ApoA-I",
          "ApoA-I",
          "ApoA-I",
          "ApoA-I",
          "ApoA-I",
          "ApoA-I",
          "ApoA-I",
          "ApoA-I",
          "ApoA-I",
          "ApoA-I",
          "ApoA-I",
          "ApoA-I",
          "ApoA-I",
          "ApoA-I",
          "ApoA-I",
          "ApoA-I",
          "ApoA-I",
          "ApoA-I",
          "ApoA-I",
          "ApoA-I",
          "ApoA-I",
          "ApoA-I",
          "ApoA-I",
          "ApoA-I",
          "ApoA-I",
          "ApoA-I",
          "ApoA-I",
          "ApoA-I",
          "ApoA-I",
          "ApoA-I",
          "ApoA-I",
          "ApoA-I",
          "ApoA-I",
          "ApoA-I",
          "ApoA-I",
          "ApoA-I",
          "ApoA-I",
          "ApoA-I",
          "ApoA-I",
          "ApoA-I",
          "ApoA-I",
          "ApoA-I",
          "ApoA-I",
          "ApoA-I",
          "ApoA-I",
          "ApoA-I",
          "ApoA-I",
          "ApoA-I",
          "ApoA-I",
          "ApoA-I",
          "ApoA-I",
          "ApoA-I",
          "ApoA-I",
          "ApoA-I",
          "ApoA-I",
          "ApoA-I",
          "ApoA-I",
          "ApoA-I",
          "ApoA-I",
          "ApoA-I",
          "ApoA-I",
          "ApoA-I",
          "ApoA-I",
          "ApoA-I",
          "ApoA-I",
          "ApoA-I",
          "ApoA-I",
          "ApoA-I",
          "ApoA-I",
          "ApoA-I",
          "ApoA-I",
          "ApoA-I",
          "ApoA-I",
          "ApoA-I",
          "ApoA-I",
          "ApoA-I",
          "ApoA-I",
          "ApoA-I",
          "ApoA-I",
          "ApoA-I",
          "ApoA-I",
          "ApoA-I",
          "ApoA-I",
          "ApoA-I",
          "ApoA-I",
          "ApoA-I",
          "ApoA-I",
          "ApoA-I",
          "ApoA-I",
          "ApoA-I",
          "ApoA-I",
          "ApoA-I",
          "ApoA-I",
          "ApoA-I",
          "ApoA-I",
          "ApoA-I",
          "ApoA-I",
          "ApoA-I",
          "ApoA-I",
          "ApoA-I",
          "ApoA-I",
          "ApoA-I",
          "ApoA-I",
          "ApoA-I",
          "ApoA-I",
          "ApoA-I",
          "ApoA-I",
          "ApoA-I",
          "ApoA-I",
          "ApoA-I",
          "ApoA-I",
          "ApoA-I",
          "ApoA-I",
          "ApoA-I",
          "ApoA-I",
          "ApoA-I",
          "ApoA-I",
          "ApoA-I",
          "ApoA-I",
          "ApoA-I",
          "ApoA-I",
          "ApoA-I",
          "ApoA-I",
          "ApoA-I",
          "ApoA-I",
          "ApoA-I",
          "ApoA-I",
          "ApoA-I",
          "ApoA-I",
          "ApoA-I",
          "ApoA-I",
          "ApoA-I",
          "ApoA-I",
          "ApoA-I",
          "ApoA-I",
          "ApoA-I",
          "ApoA-I",
          "ApoA-I",
          "ApoA-I",
          "ApoA-I",
          "ApoA-I",
          "ApoA-I",
          "ApoA-I",
          "ApoA-I",
          "ApoA-I",
          "ApoA-I",
          "ApoA-I",
          "ApoA-I",
          "ApoA-I",
          "ApoA-I",
          "ApoA-I",
          "ApoA-I",
          "ApoA-I",
          "ApoA-I",
          "ApoA-I",
          "ApoA-I",
          "ApoA-I",
          "ApoA-I",
          "ApoA-I",
          "ApoA-I",
          "ApoA-I",
          "ApoA-I",
          "ApoA-I",
          "ApoA-I",
          "ApoA-I",
          "ApoA-I",
          "ApoA-I",
          "ApoA-I",
          "ApoA-I",
          "ApoA-I",
          "ApoA-I",
          "ApoA-I",
          "ApoA-I",
          "ApoA-I",
          "ApoA-I",
          "ApoA-I",
          "ApoA-I",
          "ApoA-I",
          "ApoA-I",
          "ApoA-I",
          "ApoA-I",
          "ApoA-I",
          "ApoA-I",
          "ApoA-I",
          "ApoA-I",
          "ApoA-I",
          "ApoA-I",
          "ApoA-I",
          "ApoA-I",
          "ApoA-I",
          "ApoA-I",
          "ApoA-I",
          "ApoA-I",
          "ApoA-I",
          "ApoA-I",
          "ApoA-I",
          "ApoA-I",
          "ApoA-I",
          "ApoA-I",
          "ApoA-I",
          "ApoA-I",
          "ApoA-I",
          "ApoA-I",
          "ApoA-I",
          "ApoA-I",
          "ApoA-I",
          "ApoA-I",
          "ApoA-I",
          "ApoA-I",
          "ApoA-I",
          "ApoA-I"
         ],
         "y": [
          0.997336294799314,
          0.384029644553847,
          0.407373768932439,
          0.45752427579551,
          0.0392333405511365,
          -0.0540708669374579,
          0.0660546913689173,
          -0.393724212297409,
          -0.0317241974264993,
          -0.465566352584464,
          1.07305713395757,
          -2.33656456248024,
          0.431305744722643,
          0.266134392668329,
          1.1374905214668,
          0.415475250895704,
          0.88077075144951,
          0.603713916175396,
          0.321565957949007,
          0.608091080643009,
          -0.941808533539773,
          -1.24945455051906,
          -0.457073518876847,
          0.074549559804625,
          0.773292873937817,
          0.199438072278366,
          0.0053383902821964,
          -1.61009623619671,
          -0.418909202047286,
          -0.206159919989082,
          -0.220027883361343,
          0.827239276120876,
          0.191660041376855,
          -0.722367121419124,
          -2.46203339714596,
          -0.547760769017075,
          0.439687355167079,
          0.284972313784133,
          0.499282278773591,
          -0.293940154517341,
          -0.316215859232757,
          -0.648119346583596,
          -0.482718889905727,
          0.469227388749314,
          0.206375629996988,
          0.533143764241706,
          -0.364051276902507,
          -0.468315036998097,
          1.20222209596934,
          0.624343161413425,
          1.694804403361,
          0.165603699777043,
          -1.04699279998665,
          0.809788173606014,
          -0.614479604792173,
          -1.33427273177902,
          0.703755701458414,
          0.103011895478457,
          -0.0668999299952604,
          1.24971240837697,
          0.730436467286598,
          -0.0894413867826935,
          1.34277091984377,
          0.819743790124589,
          0.968293300515888,
          -0.260931335297823,
          0.180499406411513,
          0.353482052477525,
          -0.354412628289443,
          0.960982965723038,
          0.272990949108223,
          1.56255230104384,
          0.554856798128005,
          -0.0032670561352447,
          -0.324320015426791,
          0.696353736952789,
          0.569553927504693,
          0.730240524450445,
          0.946360427571024,
          1.42100013830531,
          -0.512821381391159,
          -1.23961155886543,
          0.655323187379945,
          0.0124672859394884,
          1.0410688093238,
          0.676416691380907,
          -1.66133541355701,
          2.32055572246013,
          0.300776008549024,
          0.472178680831242,
          -0.126105812299776,
          -1.35399570874466,
          -0.308336471598326,
          -0.0030603560842412,
          -1.7908648108362,
          -0.856515438914239,
          0.164145117459329,
          -0.0013732509495933,
          -2.57287225216646,
          0.492700817371311,
          1.47503964329004,
          0.298964086845922,
          0.523722460873184,
          0.321751474461943,
          0.105111518424356,
          -0.894174344279167,
          -1.39819213902387,
          1.32210997346101,
          0.250649004934175,
          0.2587420981022,
          -0.63875324114997,
          0.845371045762154,
          0.135585864108761,
          -0.152167956663667,
          0.162428626629021,
          0.402583436515487,
          0.0706425633971116,
          1.32434597146731,
          -0.0347077428811882,
          -0.497748668884569,
          1.7601076873528,
          -0.492016078913607,
          -0.326197865785872,
          1.13009061072485,
          0.468775124531159,
          0.754474357781021,
          -0.605743530607293,
          0.50289987411854,
          0.946882215989031,
          0.372798756843706,
          -0.639896990044461,
          -2.01097134024669,
          -0.406757818469413,
          0.877398665743883,
          0.464085559176649,
          1.05075963548646,
          0.361479399219069,
          0.218243893455356,
          -0.0217827511240278,
          0.289546793413435,
          1.1951954033047,
          -0.586344375326105,
          0.0962180039700472,
          0.494380189823192,
          -0.130156156023327,
          -0.138137122061056,
          -1.69366054704027,
          0.822525461285297,
          -0.617210696588566,
          -1.39213716993329,
          -2.21994567754948,
          -0.529717186269896,
          0.0169033416865698,
          0.152001128462463,
          5.87884431899361,
          -0.228381901947719,
          0.0768898879296842,
          -0.70272482270223,
          0.906494794753529,
          -0.238346118208547,
          -3.40643354815965,
          0.0312757346894675,
          0.275289583269098,
          0.257094942448819,
          -0.153746562734617,
          -0.636196792474007,
          -0.234758599797747,
          0.341022701973811,
          0.309718981827949,
          0.356629449625266,
          0.989255441035067,
          1.34113994405519,
          -0.721043590348503,
          -0.60875407508549,
          -0.275148839752087,
          -0.745180655647005,
          -0.016488752659084,
          0.781312412456343,
          0.851113825807382,
          2.56480003396138,
          -0.679655220880538,
          -0.82473586083506,
          1.2714214179064,
          -0.435572188458554,
          -0.230054677494981,
          -0.626675967598747,
          -0.535280429030217,
          0.463189300732231,
          0.153418008726607,
          0.379844307248095,
          -0.260645345675499,
          -0.373841209330569,
          -1.14501096954138,
          1.11261089398286,
          -1.10592144928434,
          -1.71671207762856,
          -1.36686533868497,
          0.465469414431334,
          0.754815449921988,
          -1.55109054435058,
          -0.75720241820636,
          -2.17444646497217,
          0.493730241185881,
          -0.0895276110865295,
          -1.0276010884857,
          0.0955893377646508,
          0.335981615810978,
          0.0249456246097377,
          1.16406127568731,
          -0.583450804882159,
          1.2208531380493,
          0.0315476541080375
         ]
        },
        {
         "hoverinfo": "skip",
         "legendgroup": "No",
         "line": {
          "color": "#00CC96"
         },
         "meanline": {
          "visible": true
         },
         "name": "Disease",
         "scalegroup": "No",
         "showlegend": false,
         "side": "positive",
         "type": "violin",
         "x": [
          "ApoA-I",
          "ApoA-I",
          "ApoA-I",
          "ApoA-I",
          "ApoA-I",
          "ApoA-I",
          "ApoA-I",
          "ApoA-I",
          "ApoA-I",
          "ApoA-I",
          "ApoA-I",
          "ApoA-I",
          "ApoA-I",
          "ApoA-I",
          "ApoA-I",
          "ApoA-I",
          "ApoA-I",
          "ApoA-I",
          "ApoA-I",
          "ApoA-I",
          "ApoA-I",
          "ApoA-I",
          "ApoA-I",
          "ApoA-I",
          "ApoA-I",
          "ApoA-I",
          "ApoA-I",
          "ApoA-I",
          "ApoA-I",
          "ApoA-I",
          "ApoA-I",
          "ApoA-I",
          "ApoA-I",
          "ApoA-I",
          "ApoA-I",
          "ApoA-I",
          "ApoA-I",
          "ApoA-I",
          "ApoA-I",
          "ApoA-I",
          "ApoA-I",
          "ApoA-I",
          "ApoA-I",
          "ApoA-I",
          "ApoA-I",
          "ApoA-I",
          "ApoA-I",
          "ApoA-I",
          "ApoA-I",
          "ApoA-I",
          "ApoA-I",
          "ApoA-I",
          "ApoA-I",
          "ApoA-I",
          "ApoA-I",
          "ApoA-I",
          "ApoA-I",
          "ApoA-I",
          "ApoA-I",
          "ApoA-I",
          "ApoA-I",
          "ApoA-I",
          "ApoA-I",
          "ApoA-I",
          "ApoA-I",
          "ApoA-I",
          "ApoA-I",
          "ApoA-I",
          "ApoA-I",
          "ApoA-I",
          "ApoA-I",
          "ApoA-I",
          "ApoA-I",
          "ApoA-I",
          "ApoA-I",
          "ApoA-I",
          "ApoA-I",
          "ApoA-I",
          "ApoA-I",
          "ApoA-I",
          "ApoA-I",
          "ApoA-I",
          "ApoA-I",
          "ApoA-I",
          "ApoA-I",
          "ApoA-I",
          "ApoA-I",
          "ApoA-I",
          "ApoA-I",
          "ApoA-I",
          "ApoA-I",
          "ApoA-I",
          "ApoA-I",
          "ApoA-I",
          "ApoA-I",
          "ApoA-I",
          "ApoA-I",
          "ApoA-I",
          "ApoA-I",
          "ApoA-I",
          "ApoA-I",
          "ApoA-I",
          "ApoA-I",
          "ApoA-I",
          "ApoA-I",
          "ApoA-I",
          "ApoA-I",
          "ApoA-I",
          "ApoA-I",
          "ApoA-I",
          "ApoA-I",
          "ApoA-I",
          "ApoA-I",
          "ApoA-I",
          "ApoA-I",
          "ApoA-I",
          "ApoA-I",
          "ApoA-I",
          "ApoA-I",
          "ApoA-I",
          "ApoA-I",
          "ApoA-I",
          "ApoA-I",
          "ApoA-I",
          "ApoA-I",
          "ApoA-I",
          "ApoA-I",
          "ApoA-I",
          "ApoA-I",
          "ApoA-I",
          "ApoA-I",
          "ApoA-I",
          "ApoA-I",
          "ApoA-I",
          "ApoA-I",
          "ApoA-I",
          "ApoA-I",
          "ApoA-I",
          "ApoA-I",
          "ApoA-I",
          "ApoA-I",
          "ApoA-I",
          "ApoA-I",
          "ApoA-I",
          "ApoA-I",
          "ApoA-I",
          "ApoA-I",
          "ApoA-I",
          "ApoA-I",
          "ApoA-I",
          "ApoA-I",
          "ApoA-I",
          "ApoA-I",
          "ApoA-I",
          "ApoA-I",
          "ApoA-I",
          "ApoA-I",
          "ApoA-I",
          "ApoA-I",
          "ApoA-I",
          "ApoA-I",
          "ApoA-I",
          "ApoA-I",
          "ApoA-I",
          "ApoA-I",
          "ApoA-I",
          "ApoA-I",
          "ApoA-I",
          "ApoA-I",
          "ApoA-I",
          "ApoA-I",
          "ApoA-I",
          "ApoA-I",
          "ApoA-I",
          "ApoA-I",
          "ApoA-I",
          "ApoA-I",
          "ApoA-I",
          "ApoA-I",
          "ApoA-I",
          "ApoA-I",
          "ApoA-I",
          "ApoA-I",
          "ApoA-I",
          "ApoA-I",
          "ApoA-I",
          "ApoA-I",
          "ApoA-I",
          "ApoA-I",
          "ApoA-I",
          "ApoA-I",
          "ApoA-I",
          "ApoA-I",
          "ApoA-I",
          "ApoA-I",
          "ApoA-I",
          "ApoA-I",
          "ApoA-I",
          "ApoA-I",
          "ApoA-I",
          "ApoA-I",
          "ApoA-I",
          "ApoA-I",
          "ApoA-I",
          "ApoA-I",
          "ApoA-I",
          "ApoA-I",
          "ApoA-I",
          "ApoA-I",
          "ApoA-I",
          "ApoA-I",
          "ApoA-I"
         ],
         "y": [
          0.509007969953013,
          -0.438342199863081,
          -0.053444225469812,
          0.851983928932329,
          -0.178089448500148,
          0.266331429202248,
          -0.808670093942424,
          1.11971579706024,
          -1.35341383130383,
          0.0220444392567728,
          0.0244441935271329,
          0.582161303189913,
          -0.263579523071013,
          0.344713478021442,
          -0.776975693375588,
          0.98868453636624,
          0.906127307144933,
          1.08004027516728,
          -0.0631294553477986,
          0.136050480627534,
          -0.0340274046821734,
          -0.783042649550664,
          0.790309787042659,
          -0.313568872861542,
          0.68583976448615,
          0.160344070256621,
          -1.09786938827739,
          0.410389862475852,
          -0.111723521142806,
          0.0833613506909187,
          -0.276688213061036,
          -0.925428352434851,
          0.227468349029369,
          0.657560475990843,
          0.762081354698374,
          -0.0102519471604266,
          0.414923545817633,
          0.53793017958674,
          -2.91112686838706,
          0.659953903853273,
          0.970011677762947,
          -1.2887488926927,
          -1.55205896211476,
          0.321637261216263,
          -0.337523572558584,
          -1.04832926794274,
          1.49653241529819,
          0.00450318097971,
          -1.39915666133874,
          0.249741027862759,
          0.588375170723083,
          0.280797194237363,
          -0.364847606803525,
          0.932519859902088,
          -0.112286985873278,
          0.231303294742829,
          -0.0055600306689289,
          0.757963993893709,
          -1.15110639125471,
          -0.258882053355722,
          -1.26639167706558,
          0.825753285764213,
          -0.157378904093761,
          0.700110210143909,
          -0.424930245967067,
          0.972188334257663,
          0.422828431789602,
          -0.399230173693866,
          0.838914267271902,
          -0.0580546253777862,
          -1.48540887666084,
          -0.101676018708325,
          -0.685011295953673,
          0.344185163186722,
          -0.623680511860249,
          0.171728599409204,
          -0.560138408169104,
          -0.810267561908252,
          -2.05192346567208,
          0.125400311037411,
          1.21103056759012,
          0.453624486218816,
          0.208643297167356,
          -0.990607645334911,
          0.938006994211075,
          0.61704666274694,
          1.3085156273448,
          -0.121221996263578,
          1.04432634338146,
          -2.34024672359242,
          -0.0734607133418505,
          -1.62245603131561,
          0.556511591981542,
          -0.221629185582818,
          -1.68537582334237,
          -0.253298351401928,
          0.745469158413136,
          -0.165987685653261,
          -0.610033937293956,
          0.0654744611856252,
          -0.0521203840265911,
          -0.695454454844865,
          0.474717603590289,
          0.226461692068539,
          1.00782792715439,
          0.850841026172658,
          0.756037520903637,
          1.99053745219523,
          -1.36934004070603,
          1.76964561244291,
          1.2836613116807,
          1.10827364119855,
          -1.90309425329137,
          -0.500313035896912,
          -1.17768424240508,
          -0.335646746122538,
          -0.611305839528399,
          -0.185267545107258,
          0.169892018346917,
          0.641486116202782,
          -1.42270653189867,
          -0.402343007139339,
          0.621720890908688,
          0.473695037315476,
          1.05078355972249,
          1.33659221380789,
          0.77049121478709,
          -0.159905113614775,
          1.10663080495716,
          1.48651589028627,
          0.680794332151486,
          -1.37341750999333,
          0.0837004287078496,
          -0.174850307204117,
          0.590941795913726,
          -0.28475940807513,
          -0.943084844953244,
          -1.17416149043332,
          -0.98707960672928,
          0.511275129981079,
          -0.238449855653565,
          -0.0493868230170724,
          -2.15075739075591,
          0.977282588384456,
          0.237708385708072,
          0.959157534965365,
          0.875566852096846,
          0.252734436512557,
          -1.21563061082771,
          -0.117184417366666,
          -0.55866936819592,
          1.63038362768996,
          -0.870643701613158,
          -0.830879141429143,
          -0.508361722562643,
          -0.0718470452935922,
          1.16486988158142,
          0.52368733801968,
          -1.81210241808886,
          0.307470862691238,
          0.0424926770785424,
          1.62105871427488,
          0.223760980464855,
          -2.19429254084703,
          0.381184980346674,
          0.356618799716132,
          0.020351523972938,
          0.0808005141993112,
          0.678385111747224,
          -0.479975709176209,
          -1.22628736870461,
          0.998607414000082,
          -1.0466804913067,
          -0.328578049709346,
          -0.122421157316398,
          0.894046819440676,
          -0.587121711111562,
          0.790188028866381,
          0.134485793781522,
          -0.205433775984117,
          -0.360326584449916,
          0.23981187612246,
          -0.0179794859666669,
          -0.645812734329256,
          0.333880740205117,
          0.923121948884984,
          -0.35561151645107,
          -0.387204877407889,
          -0.209380732178714,
          -1.18731682728817,
          1.03588404149805,
          0.473112390555415,
          0.219698973278212,
          0.292946913544335,
          -0.164572057967297,
          -0.37778670351116,
          0.370711304739332,
          0.976648175803881,
          0.940003413345767,
          -2.34240449006012,
          -1.64054620990796,
          0.0717636625432939,
          0.0699141083098876,
          -0.798268881758545,
          0.466485011552502,
          0.831516354857848,
          0.845918411205957,
          -0.538092305554459,
          -1.44440477024824,
          -0.552147350113786,
          1.93768015957149,
          -0.155781992913176
         ]
        },
        {
         "hoverinfo": "skip",
         "legendgroup": "Yes",
         "line": {
          "color": "#EF553B"
         },
         "meanline": {
          "visible": true
         },
         "name": "Control",
         "scalegroup": "Yes",
         "showlegend": false,
         "side": "negative",
         "type": "violin",
         "x": [
          "ApoA-II",
          "ApoA-II",
          "ApoA-II",
          "ApoA-II",
          "ApoA-II",
          "ApoA-II",
          "ApoA-II",
          "ApoA-II",
          "ApoA-II",
          "ApoA-II",
          "ApoA-II",
          "ApoA-II",
          "ApoA-II",
          "ApoA-II",
          "ApoA-II",
          "ApoA-II",
          "ApoA-II",
          "ApoA-II",
          "ApoA-II",
          "ApoA-II",
          "ApoA-II",
          "ApoA-II",
          "ApoA-II",
          "ApoA-II",
          "ApoA-II",
          "ApoA-II",
          "ApoA-II",
          "ApoA-II",
          "ApoA-II",
          "ApoA-II",
          "ApoA-II",
          "ApoA-II",
          "ApoA-II",
          "ApoA-II",
          "ApoA-II",
          "ApoA-II",
          "ApoA-II",
          "ApoA-II",
          "ApoA-II",
          "ApoA-II",
          "ApoA-II",
          "ApoA-II",
          "ApoA-II",
          "ApoA-II",
          "ApoA-II",
          "ApoA-II",
          "ApoA-II",
          "ApoA-II",
          "ApoA-II",
          "ApoA-II",
          "ApoA-II",
          "ApoA-II",
          "ApoA-II",
          "ApoA-II",
          "ApoA-II",
          "ApoA-II",
          "ApoA-II",
          "ApoA-II",
          "ApoA-II",
          "ApoA-II",
          "ApoA-II",
          "ApoA-II",
          "ApoA-II",
          "ApoA-II",
          "ApoA-II",
          "ApoA-II",
          "ApoA-II",
          "ApoA-II",
          "ApoA-II",
          "ApoA-II",
          "ApoA-II",
          "ApoA-II",
          "ApoA-II",
          "ApoA-II",
          "ApoA-II",
          "ApoA-II",
          "ApoA-II",
          "ApoA-II",
          "ApoA-II",
          "ApoA-II",
          "ApoA-II",
          "ApoA-II",
          "ApoA-II",
          "ApoA-II",
          "ApoA-II",
          "ApoA-II",
          "ApoA-II",
          "ApoA-II",
          "ApoA-II",
          "ApoA-II",
          "ApoA-II",
          "ApoA-II",
          "ApoA-II",
          "ApoA-II",
          "ApoA-II",
          "ApoA-II",
          "ApoA-II",
          "ApoA-II",
          "ApoA-II",
          "ApoA-II",
          "ApoA-II",
          "ApoA-II",
          "ApoA-II",
          "ApoA-II",
          "ApoA-II",
          "ApoA-II",
          "ApoA-II",
          "ApoA-II",
          "ApoA-II",
          "ApoA-II",
          "ApoA-II",
          "ApoA-II",
          "ApoA-II",
          "ApoA-II",
          "ApoA-II",
          "ApoA-II",
          "ApoA-II",
          "ApoA-II",
          "ApoA-II",
          "ApoA-II",
          "ApoA-II",
          "ApoA-II",
          "ApoA-II",
          "ApoA-II",
          "ApoA-II",
          "ApoA-II",
          "ApoA-II",
          "ApoA-II",
          "ApoA-II",
          "ApoA-II",
          "ApoA-II",
          "ApoA-II",
          "ApoA-II",
          "ApoA-II",
          "ApoA-II",
          "ApoA-II",
          "ApoA-II",
          "ApoA-II",
          "ApoA-II",
          "ApoA-II",
          "ApoA-II",
          "ApoA-II",
          "ApoA-II",
          "ApoA-II",
          "ApoA-II",
          "ApoA-II",
          "ApoA-II",
          "ApoA-II",
          "ApoA-II",
          "ApoA-II",
          "ApoA-II",
          "ApoA-II",
          "ApoA-II",
          "ApoA-II",
          "ApoA-II",
          "ApoA-II",
          "ApoA-II",
          "ApoA-II",
          "ApoA-II",
          "ApoA-II",
          "ApoA-II",
          "ApoA-II",
          "ApoA-II",
          "ApoA-II",
          "ApoA-II",
          "ApoA-II",
          "ApoA-II",
          "ApoA-II",
          "ApoA-II",
          "ApoA-II",
          "ApoA-II",
          "ApoA-II",
          "ApoA-II",
          "ApoA-II",
          "ApoA-II",
          "ApoA-II",
          "ApoA-II",
          "ApoA-II",
          "ApoA-II",
          "ApoA-II",
          "ApoA-II",
          "ApoA-II",
          "ApoA-II",
          "ApoA-II",
          "ApoA-II",
          "ApoA-II",
          "ApoA-II",
          "ApoA-II",
          "ApoA-II",
          "ApoA-II",
          "ApoA-II",
          "ApoA-II",
          "ApoA-II",
          "ApoA-II",
          "ApoA-II",
          "ApoA-II",
          "ApoA-II",
          "ApoA-II",
          "ApoA-II",
          "ApoA-II",
          "ApoA-II",
          "ApoA-II",
          "ApoA-II",
          "ApoA-II",
          "ApoA-II",
          "ApoA-II",
          "ApoA-II",
          "ApoA-II",
          "ApoA-II",
          "ApoA-II",
          "ApoA-II",
          "ApoA-II"
         ],
         "y": [
          0.913796135392057,
          -0.308504373903312,
          0.326002705424604,
          -1.37139633142159,
          3.4155749268088,
          1.06494452671861,
          0.76951438320548,
          -0.965295699474444,
          -0.166155278274518,
          -1.1355710275605,
          0.296696041846226,
          1.02402690295749,
          0.242901575234775,
          0.232273164383095,
          0.73638035376662,
          0.541912095471565,
          -0.527727880961175,
          0.855352450721891,
          -0.0330520739288403,
          0.926228776183537,
          -0.238030487809032,
          -0.181584127911469,
          0.467983284166009,
          -0.207340169338275,
          -0.469638773542834,
          0.926008353911975,
          0.31153505190727,
          -0.247205708868995,
          -0.86972289665162,
          -1.00742596998325,
          -0.337352750623008,
          1.32526339585674,
          0.839975239590455,
          -0.531814019362471,
          -2.52374847115611,
          -0.985253676660065,
          0.509589001375541,
          0.674993363186025,
          -0.414102248411548,
          -0.619757731521172,
          0.0806232124524823,
          -0.388694705693886,
          0.135913573017622,
          0.027010391812173,
          -0.489192849831181,
          0.392359893101003,
          0.342918135113744,
          -0.579498920198843,
          0.621019905755548,
          0.0882115942552863,
          0.915385328325805,
          -0.181154092893685,
          -0.36601701376542,
          0.859487405466943,
          -0.425261686967761,
          -2.02633488963358,
          1.52766360345699,
          -0.642265519185272,
          0.221074424262908,
          1.16689710468587,
          0.446363169557461,
          -0.474466912171108,
          0.86046025298864,
          -0.558803968314258,
          0.312642644979044,
          1.71045476619964,
          0.496741964632353,
          0.878222286644751,
          -0.393002000122939,
          -0.218015457289301,
          -0.471559524686144,
          0.743416083921996,
          0.0790049306131704,
          1.17856685026211,
          -0.539625785716748,
          0.908692328293157,
          0.202943250007186,
          0.615153297009351,
          -0.403866521816719,
          1.19893603668467,
          -1.01646290686071,
          -2.38773867587808,
          0.399340650420881,
          0.568647808681282,
          0.454231316080372,
          -0.273243590891803,
          -0.0166716816104706,
          1.19599392246634,
          -0.373463510650678,
          1.32813049969554,
          -1.40157259903407,
          0.118428330280753,
          0.849742305589835,
          0.529743573129244,
          -1.490417335154,
          -1.2491755194532,
          0.94562177472423,
          -0.476022401355075,
          -2.28068474093993,
          -0.200996937224784,
          0.725774188350323,
          0.261438250033327,
          1.19259130319171,
          0.902350058624308,
          -0.51191089739773,
          -0.554163034304562,
          0.0150269192183048,
          0.421183942857196,
          0.279369540619972,
          0.563707389069965,
          -1.63836268039281,
          -1.23720298408552,
          0.620482615389686,
          -0.338127431358871,
          -0.543028225943577,
          0.558434325669806,
          0.122122999185484,
          -0.028917405937492,
          0.270138084240427,
          -0.383794652132957,
          -0.841147567167031,
          -0.628406696020698,
          -0.0050491429273237,
          0.2563771564283,
          0.062663962630145,
          0.570073608364369,
          0.0990093829783481,
          1.37147389419121,
          3.01477243178032,
          -0.0359733404628359,
          -0.556896159287701,
          -1.1123727539172,
          -0.994701171014104,
          1.07696482519564,
          0.0737068912756179,
          0.72569366877791,
          0.626407824962303,
          -0.0868699692316043,
          -0.0098614819758293,
          0.0857950047585421,
          1.39189864632341,
          0.195205322423788,
          0.110308123776156,
          0.559089948791953,
          -0.644573999186732,
          -0.407573568714589,
          -0.577719197759637,
          1.14014952311708,
          0.525664317422538,
          -0.567255129264177,
          -2.13576901666422,
          0.0820120100772632,
          -0.739612408161065,
          -0.740408548793099,
          1.56250683124928,
          -0.124821330058069,
          0.445054190999312,
          -0.91047330200612,
          0.737187226109006,
          0.201987916700214,
          -3.4606492076191,
          0.562668478250373,
          0.177163706638245,
          0.433609064664361,
          -0.907275790103947,
          0.637650071846597,
          -0.297949986233321,
          -0.0152179552315991,
          -2.54831579724213,
          -1.4506655873378,
          0.489857034049266,
          0.460241467616779,
          0.702474770875417,
          -0.0437065342210437,
          0.676447947831329,
          -1.24360299501859,
          0.0539488581530277,
          -0.573451746444075,
          -0.165603026541858,
          3.01308044217522,
          -0.200762269258426,
          -0.220235082668434,
          -0.0308552279591495,
          0.21501503507636,
          -0.0397584456265082,
          -0.382580844362345,
          -0.54291774332148,
          0.982223871651713,
          0.265729591725826,
          0.480985579478717,
          -0.362851234091043,
          0.0341574077884718,
          -1.12525297042599,
          -0.469109952998787,
          -0.83296107399756,
          -1.65506703096574,
          -0.575152584679639,
          -0.0827659108301637,
          0.761424809576871,
          -2.23513692185995,
          -1.02350670245088,
          -1.26561363309367,
          0.958194912016305,
          0.712853808281983,
          -0.195471841139915,
          -0.52867058447263,
          -0.588097481039901,
          0.880219752493451,
          0.657655182983817,
          -1.56679904880649,
          0.404862838813113,
          0.0864025877143491
         ]
        },
        {
         "hoverinfo": "skip",
         "legendgroup": "No",
         "line": {
          "color": "#00CC96"
         },
         "meanline": {
          "visible": true
         },
         "name": "Disease",
         "scalegroup": "No",
         "showlegend": false,
         "side": "positive",
         "type": "violin",
         "x": [
          "ApoA-II",
          "ApoA-II",
          "ApoA-II",
          "ApoA-II",
          "ApoA-II",
          "ApoA-II",
          "ApoA-II",
          "ApoA-II",
          "ApoA-II",
          "ApoA-II",
          "ApoA-II",
          "ApoA-II",
          "ApoA-II",
          "ApoA-II",
          "ApoA-II",
          "ApoA-II",
          "ApoA-II",
          "ApoA-II",
          "ApoA-II",
          "ApoA-II",
          "ApoA-II",
          "ApoA-II",
          "ApoA-II",
          "ApoA-II",
          "ApoA-II",
          "ApoA-II",
          "ApoA-II",
          "ApoA-II",
          "ApoA-II",
          "ApoA-II",
          "ApoA-II",
          "ApoA-II",
          "ApoA-II",
          "ApoA-II",
          "ApoA-II",
          "ApoA-II",
          "ApoA-II",
          "ApoA-II",
          "ApoA-II",
          "ApoA-II",
          "ApoA-II",
          "ApoA-II",
          "ApoA-II",
          "ApoA-II",
          "ApoA-II",
          "ApoA-II",
          "ApoA-II",
          "ApoA-II",
          "ApoA-II",
          "ApoA-II",
          "ApoA-II",
          "ApoA-II",
          "ApoA-II",
          "ApoA-II",
          "ApoA-II",
          "ApoA-II",
          "ApoA-II",
          "ApoA-II",
          "ApoA-II",
          "ApoA-II",
          "ApoA-II",
          "ApoA-II",
          "ApoA-II",
          "ApoA-II",
          "ApoA-II",
          "ApoA-II",
          "ApoA-II",
          "ApoA-II",
          "ApoA-II",
          "ApoA-II",
          "ApoA-II",
          "ApoA-II",
          "ApoA-II",
          "ApoA-II",
          "ApoA-II",
          "ApoA-II",
          "ApoA-II",
          "ApoA-II",
          "ApoA-II",
          "ApoA-II",
          "ApoA-II",
          "ApoA-II",
          "ApoA-II",
          "ApoA-II",
          "ApoA-II",
          "ApoA-II",
          "ApoA-II",
          "ApoA-II",
          "ApoA-II",
          "ApoA-II",
          "ApoA-II",
          "ApoA-II",
          "ApoA-II",
          "ApoA-II",
          "ApoA-II",
          "ApoA-II",
          "ApoA-II",
          "ApoA-II",
          "ApoA-II",
          "ApoA-II",
          "ApoA-II",
          "ApoA-II",
          "ApoA-II",
          "ApoA-II",
          "ApoA-II",
          "ApoA-II",
          "ApoA-II",
          "ApoA-II",
          "ApoA-II",
          "ApoA-II",
          "ApoA-II",
          "ApoA-II",
          "ApoA-II",
          "ApoA-II",
          "ApoA-II",
          "ApoA-II",
          "ApoA-II",
          "ApoA-II",
          "ApoA-II",
          "ApoA-II",
          "ApoA-II",
          "ApoA-II",
          "ApoA-II",
          "ApoA-II",
          "ApoA-II",
          "ApoA-II",
          "ApoA-II",
          "ApoA-II",
          "ApoA-II",
          "ApoA-II",
          "ApoA-II",
          "ApoA-II",
          "ApoA-II",
          "ApoA-II",
          "ApoA-II",
          "ApoA-II",
          "ApoA-II",
          "ApoA-II",
          "ApoA-II",
          "ApoA-II",
          "ApoA-II",
          "ApoA-II",
          "ApoA-II",
          "ApoA-II",
          "ApoA-II",
          "ApoA-II",
          "ApoA-II",
          "ApoA-II",
          "ApoA-II",
          "ApoA-II",
          "ApoA-II",
          "ApoA-II",
          "ApoA-II",
          "ApoA-II",
          "ApoA-II",
          "ApoA-II",
          "ApoA-II",
          "ApoA-II",
          "ApoA-II",
          "ApoA-II",
          "ApoA-II",
          "ApoA-II",
          "ApoA-II",
          "ApoA-II",
          "ApoA-II",
          "ApoA-II",
          "ApoA-II",
          "ApoA-II",
          "ApoA-II",
          "ApoA-II",
          "ApoA-II",
          "ApoA-II",
          "ApoA-II",
          "ApoA-II",
          "ApoA-II",
          "ApoA-II",
          "ApoA-II",
          "ApoA-II",
          "ApoA-II",
          "ApoA-II",
          "ApoA-II",
          "ApoA-II",
          "ApoA-II",
          "ApoA-II",
          "ApoA-II",
          "ApoA-II",
          "ApoA-II",
          "ApoA-II",
          "ApoA-II",
          "ApoA-II",
          "ApoA-II",
          "ApoA-II",
          "ApoA-II",
          "ApoA-II",
          "ApoA-II",
          "ApoA-II",
          "ApoA-II",
          "ApoA-II",
          "ApoA-II",
          "ApoA-II",
          "ApoA-II",
          "ApoA-II",
          "ApoA-II",
          "ApoA-II",
          "ApoA-II",
          "ApoA-II",
          "ApoA-II",
          "ApoA-II",
          "ApoA-II",
          "ApoA-II",
          "ApoA-II",
          "ApoA-II"
         ],
         "y": [
          0.874825199789272,
          -0.836987991756904,
          -1.62815225129676,
          0.822301889258697,
          0.428815917400633,
          0.421797635437503,
          0.028105486893005,
          -0.464929248625988,
          -2.44647727170935,
          0.417701556761614,
          0.118529695112201,
          -0.702351348142577,
          -0.761002148646522,
          -0.974983702110043,
          -0.452250074385853,
          1.13385151715957,
          0.902142809709331,
          0.847875721889756,
          -0.0750221476667854,
          0.0235662552151136,
          1.11361486378808,
          -1.15864951373252,
          -0.231571731912756,
          -0.314504249323512,
          -0.271980930669113,
          0.240062931368992,
          0.883346759472522,
          0.905999659548784,
          1.34005929392635,
          0.42058327745896,
          1.48571407390052,
          -0.45105111921532,
          0.760508449445803,
          0.912761946301677,
          0.0473699288822956,
          0.409309407612494,
          0.229232609331021,
          1.03928939460482,
          0.564553736519486,
          0.720007462019539,
          -0.156074121957895,
          -0.0464734910158508,
          -0.334699409248591,
          0.362501703053368,
          -0.403989986319924,
          -0.202192672162423,
          0.694041697002217,
          -0.867185104404342,
          0.111936602935187,
          1.01496012666872,
          0.476692729855126,
          1.13664030269842,
          -0.323562593662713,
          -0.571233357357501,
          0.545114591054425,
          -0.069327725243268,
          0.211260416186868,
          -0.268282371634819,
          -0.510048869220841,
          0.0569718261568718,
          -0.267164199802324,
          1.89084195444323,
          -0.403411007834764,
          0.565970676310505,
          -1.01317634402916,
          0.891119264588349,
          -0.393194167597166,
          0.486604750399905,
          1.17354023016074,
          -1.13234098251647,
          -0.363170294482239,
          -0.14312629433366,
          -0.636408017301516,
          0.467524211161431,
          -0.967860654392736,
          0.708169649065412,
          0.0143427608600374,
          -0.22825481074728,
          -0.569565663214147,
          -1.02090408178363,
          0.170151459505805,
          -0.0738197444359291,
          -0.0447374408493509,
          1.22725351308726,
          -0.470088980915409,
          0.809350640737442,
          0.241092773983073,
          0.247992512042424,
          0.908138282127612,
          0.720711543029637,
          -0.720263744798017,
          -1.4153053159171,
          0.223473535975182,
          0.295487598198322,
          -2.05675428684128,
          -0.241336219904102,
          2.02520810606156,
          -1.0850651416014,
          -3.87002472191048,
          0.257540776837477,
          0.640219407072275,
          -0.209935425194911,
          1.55752174481497,
          0.528054607217835,
          0.505621926322418,
          0.0716307806114275,
          -0.0550647935071021,
          1.81348562951238,
          -0.844905941499538,
          1.22626823428954,
          1.10368446573094,
          0.7005950176116,
          -1.43742352524894,
          -0.062485122430987,
          -0.54387243360994,
          -0.88980333291961,
          -0.978357838860258,
          0.593852314807441,
          0.193337020963301,
          1.24967179838063,
          -0.372141306613315,
          -0.810710854319494,
          1.43047257554713,
          0.0418865138184278,
          0.556663013474048,
          1.67764439594419,
          1.00160997575374,
          -1.04030730310075,
          0.2128797971677,
          0.100777796963863,
          0.871142162425502,
          -0.966261169143772,
          -0.702676954681962,
          0.415897653173499,
          -0.303635497008133,
          0.723340642662356,
          -0.278033102806336,
          -0.267200425311925,
          -0.195497218593371,
          1.37053398405976,
          -0.501177458330659,
          0.282572601759755,
          -3.14519370755934,
          -0.235891226920608,
          0.801046464933373,
          -0.104459263406868,
          0.0146852792120372,
          0.454557125200382,
          -1.14251618678127,
          0.368058921731248,
          0.0234785667682408,
          1.18285136039575,
          -0.710298267411076,
          -1.96185919778785,
          -0.220467672514344,
          0.0152951275429504,
          1.40376210268115,
          0.66226915840993,
          -1.40351333259318,
          0.819460700366763,
          0.535639103027003,
          1.51174394633371,
          0.538143326042588,
          -3.41291427618906,
          0.0448901826231161,
          -0.318536833521076,
          -0.844365504090845,
          0.212252784026333,
          2.52058863253589,
          0.528349367488537,
          -0.871277445225326,
          0.844642810972427,
          -1.74989597007728,
          -0.562052363473226,
          -0.427969727797111,
          0.599265171726279,
          -0.228415699293775,
          0.569603380129445,
          -0.32316963234146,
          -0.0220800671141394,
          -0.447755070692175,
          0.0565687052914922,
          -0.412704779279461,
          -0.486823712534217,
          -0.888399074826303,
          0.674708332208262,
          -0.181093391401349,
          -0.94605782595838,
          0.183828658900071,
          -0.700710203138202,
          0.99034567695404,
          -0.4853101806983,
          0.600251823519645,
          0.63551431542961,
          -0.315605423279093,
          -0.714817576481239,
          -1.10246081704346,
          1.50252836199577,
          0.51429698909533,
          -2.02828662476605,
          -2.49026210108952,
          -0.347091532467912,
          0.512930489512756,
          -0.660003117607312,
          0.242381732557431,
          0.179891043277057,
          1.32217782184373,
          0.113854672110602,
          -0.193423827480886,
          -0.351836968457003,
          3.0536416855345,
          0.858945086422775
         ]
        },
        {
         "hoverinfo": "skip",
         "legendgroup": "Yes",
         "line": {
          "color": "#EF553B"
         },
         "meanline": {
          "visible": true
         },
         "name": "Control",
         "scalegroup": "Yes",
         "showlegend": false,
         "side": "negative",
         "type": "violin",
         "x": [
          "ApoE",
          "ApoE",
          "ApoE",
          "ApoE",
          "ApoE",
          "ApoE",
          "ApoE",
          "ApoE",
          "ApoE",
          "ApoE",
          "ApoE",
          "ApoE",
          "ApoE",
          "ApoE",
          "ApoE",
          "ApoE",
          "ApoE",
          "ApoE",
          "ApoE",
          "ApoE",
          "ApoE",
          "ApoE",
          "ApoE",
          "ApoE",
          "ApoE",
          "ApoE",
          "ApoE",
          "ApoE",
          "ApoE",
          "ApoE",
          "ApoE",
          "ApoE",
          "ApoE",
          "ApoE",
          "ApoE",
          "ApoE",
          "ApoE",
          "ApoE",
          "ApoE",
          "ApoE",
          "ApoE",
          "ApoE",
          "ApoE",
          "ApoE",
          "ApoE",
          "ApoE",
          "ApoE",
          "ApoE",
          "ApoE",
          "ApoE",
          "ApoE",
          "ApoE",
          "ApoE",
          "ApoE",
          "ApoE",
          "ApoE",
          "ApoE",
          "ApoE",
          "ApoE",
          "ApoE",
          "ApoE",
          "ApoE",
          "ApoE",
          "ApoE",
          "ApoE",
          "ApoE",
          "ApoE",
          "ApoE",
          "ApoE",
          "ApoE",
          "ApoE",
          "ApoE",
          "ApoE",
          "ApoE",
          "ApoE",
          "ApoE",
          "ApoE",
          "ApoE",
          "ApoE",
          "ApoE",
          "ApoE",
          "ApoE",
          "ApoE",
          "ApoE",
          "ApoE",
          "ApoE",
          "ApoE",
          "ApoE",
          "ApoE",
          "ApoE",
          "ApoE",
          "ApoE",
          "ApoE",
          "ApoE",
          "ApoE",
          "ApoE",
          "ApoE",
          "ApoE",
          "ApoE",
          "ApoE",
          "ApoE",
          "ApoE",
          "ApoE",
          "ApoE",
          "ApoE",
          "ApoE",
          "ApoE",
          "ApoE",
          "ApoE",
          "ApoE",
          "ApoE",
          "ApoE",
          "ApoE",
          "ApoE",
          "ApoE",
          "ApoE",
          "ApoE",
          "ApoE",
          "ApoE",
          "ApoE",
          "ApoE",
          "ApoE",
          "ApoE",
          "ApoE",
          "ApoE",
          "ApoE",
          "ApoE",
          "ApoE",
          "ApoE",
          "ApoE",
          "ApoE",
          "ApoE",
          "ApoE",
          "ApoE",
          "ApoE",
          "ApoE",
          "ApoE",
          "ApoE",
          "ApoE",
          "ApoE",
          "ApoE",
          "ApoE",
          "ApoE",
          "ApoE",
          "ApoE",
          "ApoE",
          "ApoE",
          "ApoE",
          "ApoE",
          "ApoE",
          "ApoE",
          "ApoE",
          "ApoE",
          "ApoE",
          "ApoE",
          "ApoE",
          "ApoE",
          "ApoE",
          "ApoE",
          "ApoE",
          "ApoE",
          "ApoE",
          "ApoE",
          "ApoE",
          "ApoE",
          "ApoE",
          "ApoE",
          "ApoE",
          "ApoE",
          "ApoE",
          "ApoE",
          "ApoE",
          "ApoE",
          "ApoE",
          "ApoE",
          "ApoE",
          "ApoE",
          "ApoE",
          "ApoE",
          "ApoE",
          "ApoE",
          "ApoE",
          "ApoE",
          "ApoE",
          "ApoE",
          "ApoE",
          "ApoE",
          "ApoE",
          "ApoE",
          "ApoE",
          "ApoE",
          "ApoE",
          "ApoE",
          "ApoE",
          "ApoE",
          "ApoE",
          "ApoE",
          "ApoE",
          "ApoE",
          "ApoE",
          "ApoE",
          "ApoE",
          "ApoE",
          "ApoE",
          "ApoE",
          "ApoE",
          "ApoE",
          "ApoE",
          "ApoE",
          "ApoE",
          "ApoE",
          "ApoE"
         ],
         "y": [
          -0.2106090936213,
          -0.258212049692981,
          0.611197481366751,
          1.69065427400069,
          -0.944482139823111,
          0.430378318580387,
          1.40782103685409,
          0.490057903955749,
          -0.603944036957489,
          -0.183758735461108,
          -1.60176854776992,
          -1.36107777667202,
          1.34881005399594,
          0.896688659287005,
          0.453568754975474,
          -0.631641093269233,
          0.559778401552316,
          1.32119702284722,
          0.804732989451604,
          -0.482419466700075,
          -0.0210334083956206,
          1.15198363304268,
          -0.389405241467497,
          -1.40407428815839,
          -0.0943048809648617,
          -0.0463763053807203,
          1.41911377435338,
          -0.221033168984509,
          -0.946057026168075,
          0.646583612595781,
          -0.693366419054444,
          0.97177968781217,
          -0.368690706123097,
          0.325165000185551,
          -1.43789369193678,
          -0.17967943995407,
          -0.485974622191463,
          -0.314630295891929,
          0.238973530583152,
          -0.0647785620648424,
          2.4281346338457,
          -0.286349202429969,
          0.114904159841491,
          -0.248296511947778,
          0.312669287638924,
          -0.841313877613628,
          -1.66352358348182,
          -1.18068645934125,
          0.926150984979047,
          -0.066075842290072,
          0.582742209724276,
          -1.60649492057389,
          0.618205361801226,
          1.47730159912377,
          -0.339552716401708,
          -1.51131719129852,
          0.604677428172553,
          -1.59752871965483,
          -0.0915779605092187,
          0.0764720951225474,
          0.349119746346374,
          -0.612525996023291,
          -1.51716052414114,
          -1.38662725291724,
          2.74877946375405,
          0.451590000730373,
          -0.522109892096412,
          2.30892027476462,
          0.254502242235051,
          0.154629631481471,
          -1.58328394793123,
          -0.55147761739876,
          -0.507163271328894,
          0.913315645400811,
          0.537378969835488,
          0.597444943405813,
          1.1402878736845,
          0.85307424362169,
          0.172789710227234,
          1.94121828513598,
          0.539238175290657,
          -0.608904619879774,
          0.71272775774233,
          2.28792786116802,
          -0.326141424191044,
          1.17319341903073,
          0.77791452966416,
          -1.11795826671561,
          -1.45020504688011,
          0.542338003590352,
          -1.10374760274973,
          -1.75502381323981,
          -1.08581028482403,
          -0.466529556354899,
          -1.08926941837379,
          0.583878793007036,
          0.27199931932802,
          -0.400536048659985,
          -1.74278140919882,
          -1.0311467121112,
          0.825194494545498,
          -0.360858637492269,
          0.0005852669416149,
          -0.366695287902697,
          -2.00713953967615,
          0.0389729130284344,
          1.40125249385023,
          0.624227205839853,
          1.33847813141439,
          -0.597271478313592,
          -0.411171157051131,
          0.0096278132444839,
          -0.723195810868881,
          -1.56150513353298,
          0.771329474276498,
          0.579381329556941,
          0.828347025980916,
          -0.0558351231066962,
          0.78085391548287,
          0.0624048675906487,
          2.00073746203355,
          0.562910730142259,
          0.0698937823960576,
          -0.395092595641713,
          0.171664483603123,
          -0.400020898537335,
          0.355812674506765,
          -0.331961988650227,
          1.37660394098568,
          -1.06639079717097,
          -0.239510465156973,
          -1.29754242463922,
          -0.309518740171695,
          0.548780691582098,
          -1.30395313178246,
          -1.07345226425469,
          -0.426602363178726,
          -0.475691763369423,
          0.701401326817088,
          0.0940530010377347,
          0.0909065578908052,
          0.466156725604332,
          0.254682058758639,
          -0.497773883481411,
          -0.451456143850242,
          3.19994682130918,
          -0.609388373689082,
          -0.488166125104375,
          1.72405870434956,
          0.405569824628975,
          -1.6372694937675,
          3.08688424373203,
          1.49888155351105,
          -0.395544209032897,
          1.79052202521918,
          0.0384764465900567,
          -0.321529831947633,
          -1.016961811957,
          -0.237279002459738,
          -0.82560852095715,
          -0.673922229512645,
          1.10167258048855,
          -0.245858525089526,
          -0.349839193704401,
          -0.453092102983784,
          -1.08510546094182,
          -1.48735392811377,
          -1.51133864966461,
          1.12433773990561,
          -1.09786754190832,
          0.838812859150007,
          1.41692031910192,
          -1.00416890121459,
          -1.09363285616267,
          -0.703058466276711,
          0.0999793479038802,
          -0.400475651653959,
          0.440126255671562,
          -1.50588328133567,
          1.3740157417758,
          0.221950608245319,
          0.367568190543725,
          -0.122580268421144,
          0.204389500420787,
          -0.192254723212872,
          -1.75349298647122,
          -0.854992928695852,
          -0.620626619464945,
          1.33727656489686,
          1.38756390630863,
          1.10471897877555,
          -0.350793163443469,
          0.828143304230384,
          0.212565271515281,
          -0.185408476812386,
          0.0176977137261877,
          1.93037840365532,
          0.201180508203545,
          0.379199743873719,
          -2.52059854375051,
          -0.747277181829739,
          0.114658717710888,
          0.11407342158554,
          -0.845623331827375,
          -0.637945113838275,
          -0.942185189841146,
          0.885208058531471,
          1.10129942535493,
          0.502683225138084,
          -0.981361934681076,
          0.337969892477141,
          1.08974471721155
         ]
        },
        {
         "hoverinfo": "skip",
         "legendgroup": "No",
         "line": {
          "color": "#00CC96"
         },
         "meanline": {
          "visible": true
         },
         "name": "Disease",
         "scalegroup": "No",
         "showlegend": false,
         "side": "positive",
         "type": "violin",
         "x": [
          "ApoE",
          "ApoE",
          "ApoE",
          "ApoE",
          "ApoE",
          "ApoE",
          "ApoE",
          "ApoE",
          "ApoE",
          "ApoE",
          "ApoE",
          "ApoE",
          "ApoE",
          "ApoE",
          "ApoE",
          "ApoE",
          "ApoE",
          "ApoE",
          "ApoE",
          "ApoE",
          "ApoE",
          "ApoE",
          "ApoE",
          "ApoE",
          "ApoE",
          "ApoE",
          "ApoE",
          "ApoE",
          "ApoE",
          "ApoE",
          "ApoE",
          "ApoE",
          "ApoE",
          "ApoE",
          "ApoE",
          "ApoE",
          "ApoE",
          "ApoE",
          "ApoE",
          "ApoE",
          "ApoE",
          "ApoE",
          "ApoE",
          "ApoE",
          "ApoE",
          "ApoE",
          "ApoE",
          "ApoE",
          "ApoE",
          "ApoE",
          "ApoE",
          "ApoE",
          "ApoE",
          "ApoE",
          "ApoE",
          "ApoE",
          "ApoE",
          "ApoE",
          "ApoE",
          "ApoE",
          "ApoE",
          "ApoE",
          "ApoE",
          "ApoE",
          "ApoE",
          "ApoE",
          "ApoE",
          "ApoE",
          "ApoE",
          "ApoE",
          "ApoE",
          "ApoE",
          "ApoE",
          "ApoE",
          "ApoE",
          "ApoE",
          "ApoE",
          "ApoE",
          "ApoE",
          "ApoE",
          "ApoE",
          "ApoE",
          "ApoE",
          "ApoE",
          "ApoE",
          "ApoE",
          "ApoE",
          "ApoE",
          "ApoE",
          "ApoE",
          "ApoE",
          "ApoE",
          "ApoE",
          "ApoE",
          "ApoE",
          "ApoE",
          "ApoE",
          "ApoE",
          "ApoE",
          "ApoE",
          "ApoE",
          "ApoE",
          "ApoE",
          "ApoE",
          "ApoE",
          "ApoE",
          "ApoE",
          "ApoE",
          "ApoE",
          "ApoE",
          "ApoE",
          "ApoE",
          "ApoE",
          "ApoE",
          "ApoE",
          "ApoE",
          "ApoE",
          "ApoE",
          "ApoE",
          "ApoE",
          "ApoE",
          "ApoE",
          "ApoE",
          "ApoE",
          "ApoE",
          "ApoE",
          "ApoE",
          "ApoE",
          "ApoE",
          "ApoE",
          "ApoE",
          "ApoE",
          "ApoE",
          "ApoE",
          "ApoE",
          "ApoE",
          "ApoE",
          "ApoE",
          "ApoE",
          "ApoE",
          "ApoE",
          "ApoE",
          "ApoE",
          "ApoE",
          "ApoE",
          "ApoE",
          "ApoE",
          "ApoE",
          "ApoE",
          "ApoE",
          "ApoE",
          "ApoE",
          "ApoE",
          "ApoE",
          "ApoE",
          "ApoE",
          "ApoE",
          "ApoE",
          "ApoE",
          "ApoE",
          "ApoE",
          "ApoE",
          "ApoE",
          "ApoE",
          "ApoE",
          "ApoE",
          "ApoE",
          "ApoE",
          "ApoE",
          "ApoE",
          "ApoE",
          "ApoE",
          "ApoE",
          "ApoE",
          "ApoE",
          "ApoE",
          "ApoE",
          "ApoE",
          "ApoE",
          "ApoE",
          "ApoE",
          "ApoE",
          "ApoE",
          "ApoE",
          "ApoE",
          "ApoE",
          "ApoE",
          "ApoE",
          "ApoE",
          "ApoE",
          "ApoE",
          "ApoE",
          "ApoE",
          "ApoE",
          "ApoE",
          "ApoE",
          "ApoE",
          "ApoE",
          "ApoE",
          "ApoE",
          "ApoE",
          "ApoE",
          "ApoE",
          "ApoE",
          "ApoE",
          "ApoE",
          "ApoE",
          "ApoE",
          "ApoE",
          "ApoE",
          "ApoE",
          "ApoE"
         ],
         "y": [
          0.0982227777631129,
          1.42682067862851,
          -1.07188831596089,
          -0.513139820735899,
          -0.559504149307322,
          -0.806684158290066,
          -0.938600346000757,
          1.4059002104295,
          -1.14467737225555,
          0.0580191216613149,
          0.291739900421571,
          -0.170662613080483,
          -0.741989546957567,
          0.752260589745261,
          0.0827128275118098,
          -0.356622616808254,
          -0.612754125543062,
          -0.0537185341826511,
          0.461233261518889,
          1.1066919005697,
          0.83130316171515,
          -0.514211164973612,
          -0.614311035175563,
          -1.70777494253514,
          3.20966935748131,
          0.510912947282179,
          0.19877824604686,
          1.79388598966114,
          1.12896750035954,
          -0.625938597318468,
          1.01036900366697,
          -1.06439645581969,
          0.121166832649455,
          -0.280566978607745,
          -0.890555325026532,
          -1.26322528784967,
          -0.619595109714392,
          2.0255617791974,
          0.407848047064026,
          0.261204770876175,
          -0.227907314812246,
          -1.32998711747282,
          -0.624528855218768,
          -0.687232459266695,
          0.350176331105084,
          0.28839297873401,
          1.06238299132545,
          0.720191235198286,
          -1.60295553850214,
          0.469692902630001,
          0.60249676667289,
          1.30745927569479,
          -0.411255288315237,
          -1.01029819036995,
          -1.67036331272846,
          -1.20497874276623,
          -0.805889025403508,
          0.294088820555548,
          -1.36068096896939,
          0.394725045674358,
          -1.2752823003104,
          1.63066366103362,
          1.11322806454926,
          -2.38457079231077,
          -0.346274529207787,
          -0.0740271483060191,
          -2.27007112360968,
          -0.550623268432175,
          0.751692241586171,
          -0.103506000548877,
          -0.613690021136536,
          -0.285844829000404,
          -0.436324946559621,
          0.376448172903022,
          -0.412481875543351,
          1.17595773198234,
          -0.520886084561799,
          -1.30864439116746,
          -1.07859190855732,
          0.396848686516513,
          0.762224435726695,
          -1.42773995804751,
          -0.458644113812488,
          -0.0216901775830757,
          -0.501889682807056,
          -0.675302518812176,
          -0.447050186249766,
          1.2971938251923,
          0.804553080672633,
          -0.449481547873242,
          0.405040107413892,
          -1.30892417036799,
          1.0348968253835,
          0.470699676297544,
          -1.19679031677717,
          -0.281870645429778,
          0.192737401872469,
          0.715087795327553,
          1.49021211561698,
          0.168372694086499,
          -0.501463142692524,
          3.37230119824877,
          -0.543366624231463,
          -0.110309649263348,
          -0.15006369233157,
          -0.908037629705736,
          -0.0346853299227728,
          -0.488680375875494,
          1.37690001919956,
          -0.0128016416404054,
          0.251603578525937,
          3.22745046095795,
          -0.954066796113283,
          1.67073988411899,
          -0.0315334594472042,
          -0.0954397797343062,
          0.0462910031500284,
          -0.876744134041007,
          -0.724239754754254,
          0.179182032134162,
          -0.219547499854286,
          -0.282073710442225,
          0.597968520190317,
          -1.20804886774892,
          -1.18118887613006,
          0.662224853505832,
          0.1555696158312,
          -0.636314354138055,
          -0.130316781776673,
          0.973826518881132,
          1.48162515228793,
          0.255789036466998,
          -1.04415716993297,
          -0.0558430957669767,
          1.43798547715858,
          1.36211517909991,
          -0.455276574690625,
          -0.730136129259334,
          -0.444394742261163,
          1.47642366883488,
          -0.197647125848714,
          -0.136265126698633,
          0.10657200903367,
          1.05075299471159,
          0.700903900707261,
          -0.427372451935448,
          -0.2085125450072,
          0.631596538188128,
          0.399410244728473,
          1.15681400319105,
          0.810293923835113,
          -0.350319145544016,
          0.0401930718653473,
          -1.62600422885054,
          -0.646433507158844,
          -0.507214483203717,
          -0.696191333138493,
          -0.0167717048361659,
          -0.0133922129791096,
          1.57560332737619,
          0.23896215207241,
          -0.93068045663091,
          -0.963572817707391,
          -0.30351725733174,
          -0.297011459211976,
          -0.0522793755043677,
          1.70645978295903,
          0.825359100267076,
          -0.023546468016213,
          1.08928490556743,
          -1.32718137745908,
          0.42006096213263,
          -0.818377878930003,
          0.863015090503525,
          -0.408591303627396,
          -0.725404791472418,
          0.126980775250675,
          -0.43851505631468,
          0.5403935000701,
          1.37804740949056,
          -1.44416315092193,
          0.500877826410038,
          -0.917934802861191,
          0.0900918104345007,
          -0.576736560484842,
          -0.664977948058536,
          -1.27346226090042,
          -1.62116088915911,
          0.039996567664755,
          -0.892358639560535,
          1.67872047723816,
          1.0211929272202,
          1.65889635691073,
          0.0408224410809698,
          1.09889386152216,
          -0.70303173861942,
          1.46138201349845,
          -1.1033317457771,
          0.487535588610757,
          0.524964402873502,
          -1.55688631846339,
          -0.227050318998317,
          0.815683914864736,
          -1.37298973048886,
          -1.06862121846517,
          0.160916681642398,
          -0.210984911752094,
          -0.260685294275059,
          -0.584370751704366,
          0.575084326284032,
          1.92276569593426,
          -0.423188754357474
         ]
        },
        {
         "hoverinfo": "skip",
         "legendgroup": "Yes",
         "line": {
          "color": "#EF553B"
         },
         "meanline": {
          "visible": true
         },
         "name": "Control",
         "scalegroup": "Yes",
         "showlegend": false,
         "side": "negative",
         "type": "violin",
         "x": [
          "ApoC-I",
          "ApoC-I",
          "ApoC-I",
          "ApoC-I",
          "ApoC-I",
          "ApoC-I",
          "ApoC-I",
          "ApoC-I",
          "ApoC-I",
          "ApoC-I",
          "ApoC-I",
          "ApoC-I",
          "ApoC-I",
          "ApoC-I",
          "ApoC-I",
          "ApoC-I",
          "ApoC-I",
          "ApoC-I",
          "ApoC-I",
          "ApoC-I",
          "ApoC-I",
          "ApoC-I",
          "ApoC-I",
          "ApoC-I",
          "ApoC-I",
          "ApoC-I",
          "ApoC-I",
          "ApoC-I",
          "ApoC-I",
          "ApoC-I",
          "ApoC-I",
          "ApoC-I",
          "ApoC-I",
          "ApoC-I",
          "ApoC-I",
          "ApoC-I",
          "ApoC-I",
          "ApoC-I",
          "ApoC-I",
          "ApoC-I",
          "ApoC-I",
          "ApoC-I",
          "ApoC-I",
          "ApoC-I",
          "ApoC-I",
          "ApoC-I",
          "ApoC-I",
          "ApoC-I",
          "ApoC-I",
          "ApoC-I",
          "ApoC-I",
          "ApoC-I",
          "ApoC-I",
          "ApoC-I",
          "ApoC-I",
          "ApoC-I",
          "ApoC-I",
          "ApoC-I",
          "ApoC-I",
          "ApoC-I",
          "ApoC-I",
          "ApoC-I",
          "ApoC-I",
          "ApoC-I",
          "ApoC-I",
          "ApoC-I",
          "ApoC-I",
          "ApoC-I",
          "ApoC-I",
          "ApoC-I",
          "ApoC-I",
          "ApoC-I",
          "ApoC-I",
          "ApoC-I",
          "ApoC-I",
          "ApoC-I",
          "ApoC-I",
          "ApoC-I",
          "ApoC-I",
          "ApoC-I",
          "ApoC-I",
          "ApoC-I",
          "ApoC-I",
          "ApoC-I",
          "ApoC-I",
          "ApoC-I",
          "ApoC-I",
          "ApoC-I",
          "ApoC-I",
          "ApoC-I",
          "ApoC-I",
          "ApoC-I",
          "ApoC-I",
          "ApoC-I",
          "ApoC-I",
          "ApoC-I",
          "ApoC-I",
          "ApoC-I",
          "ApoC-I",
          "ApoC-I",
          "ApoC-I",
          "ApoC-I",
          "ApoC-I",
          "ApoC-I",
          "ApoC-I",
          "ApoC-I",
          "ApoC-I",
          "ApoC-I",
          "ApoC-I",
          "ApoC-I",
          "ApoC-I",
          "ApoC-I",
          "ApoC-I",
          "ApoC-I",
          "ApoC-I",
          "ApoC-I",
          "ApoC-I",
          "ApoC-I",
          "ApoC-I",
          "ApoC-I",
          "ApoC-I",
          "ApoC-I",
          "ApoC-I",
          "ApoC-I",
          "ApoC-I",
          "ApoC-I",
          "ApoC-I",
          "ApoC-I",
          "ApoC-I",
          "ApoC-I",
          "ApoC-I",
          "ApoC-I",
          "ApoC-I",
          "ApoC-I",
          "ApoC-I",
          "ApoC-I",
          "ApoC-I",
          "ApoC-I",
          "ApoC-I",
          "ApoC-I",
          "ApoC-I",
          "ApoC-I",
          "ApoC-I",
          "ApoC-I",
          "ApoC-I",
          "ApoC-I",
          "ApoC-I",
          "ApoC-I",
          "ApoC-I",
          "ApoC-I",
          "ApoC-I",
          "ApoC-I",
          "ApoC-I",
          "ApoC-I",
          "ApoC-I",
          "ApoC-I",
          "ApoC-I",
          "ApoC-I",
          "ApoC-I",
          "ApoC-I",
          "ApoC-I",
          "ApoC-I",
          "ApoC-I",
          "ApoC-I",
          "ApoC-I",
          "ApoC-I",
          "ApoC-I",
          "ApoC-I",
          "ApoC-I",
          "ApoC-I",
          "ApoC-I",
          "ApoC-I",
          "ApoC-I",
          "ApoC-I",
          "ApoC-I",
          "ApoC-I",
          "ApoC-I",
          "ApoC-I",
          "ApoC-I",
          "ApoC-I",
          "ApoC-I",
          "ApoC-I",
          "ApoC-I",
          "ApoC-I",
          "ApoC-I",
          "ApoC-I",
          "ApoC-I",
          "ApoC-I",
          "ApoC-I",
          "ApoC-I",
          "ApoC-I",
          "ApoC-I",
          "ApoC-I",
          "ApoC-I",
          "ApoC-I",
          "ApoC-I",
          "ApoC-I",
          "ApoC-I",
          "ApoC-I",
          "ApoC-I",
          "ApoC-I",
          "ApoC-I",
          "ApoC-I",
          "ApoC-I",
          "ApoC-I",
          "ApoC-I",
          "ApoC-I",
          "ApoC-I",
          "ApoC-I",
          "ApoC-I",
          "ApoC-I",
          "ApoC-I"
         ],
         "y": [
          -0.397400506992664,
          -0.513712089467383,
          -0.308253613375424,
          1.3385628424207,
          -1.71335213948262,
          0.410255166572834,
          0.376676501999146,
          -0.590813202049687,
          -0.204919035898123,
          1.29031381514384,
          1.90455552387019,
          -1.81935310249122,
          0.531016347538108,
          -0.0728083329713951,
          0.444717286556381,
          -0.673386771721995,
          -0.420236127199547,
          0.715155525391105,
          0.429732939183424,
          0.0007759828194522,
          -0.621638765797983,
          -0.269866436777333,
          -0.483405207556561,
          -1.4600546436363,
          -0.983790617014715,
          -0.807249596962299,
          -0.507411130885955,
          0.772609876683261,
          -0.946404247810426,
          1.58990754699884,
          1.80213506282285,
          0.858551549826349,
          0.172267473655863,
          1.55833777191873,
          -1.34434666882166,
          -1.0249086459954,
          0.729066681441221,
          0.340018385550734,
          0.312369599254491,
          -0.217405735005046,
          0.540639965417408,
          -0.361383667870769,
          -0.0712711197542096,
          -1.47774574117734,
          -0.126045277173378,
          -0.0562290268555465,
          -0.848609409327293,
          -0.839157341454417,
          1.8850240102788,
          -0.571088103230835,
          0.771245735391434,
          -0.503441081368213,
          1.6187925853191,
          0.760945364083007,
          2.2089928475273,
          -1.71569062529198,
          0.121221830585948,
          0.0775199579629772,
          -0.395945217833788,
          -1.125955577147,
          0.187841185837857,
          0.543649870886567,
          0.793298122737239,
          0.0478148565628869,
          0.220335086070577,
          -0.812890805828171,
          0.42210348279146,
          0.65155228138822,
          0.313358172777456,
          -0.632661386107196,
          0.957448874995627,
          0.510882608109941,
          -0.640418515613602,
          0.0526047772049537,
          0.14508310731436,
          0.774977316398758,
          2.12715116179057,
          1.67221963079279,
          0.420923659763686,
          0.371341708940773,
          1.22854428584298,
          3.88018822895729,
          -0.425446996137191,
          1.19414828460996,
          1.10264700785804,
          0.66814180255562,
          -0.728341119416958,
          -0.308434566959158,
          0.392672435840453,
          0.769225178396614,
          -0.979593254837658,
          -0.105922019618403,
          -0.675224047672226,
          -0.468029955743807,
          0.162964785795762,
          0.371894613230498,
          -0.63603353801594,
          0.71387987061743,
          -1.63471377060887,
          1.27960141234006,
          -0.0826892899063642,
          0.74017188017528,
          -0.3314616230781,
          -0.413269903315874,
          -0.253862788115249,
          -0.563635737942154,
          -0.400488902576484,
          -0.740841182042528,
          0.788061822085741,
          -0.396218382968965,
          0.104267628631776,
          -1.18287962185633,
          -0.455023610253374,
          -1.0754274675951,
          -0.448445270754225,
          -0.156347871701135,
          1.18694232619476,
          -0.332284243935188,
          0.572737415983866,
          -0.151371587139662,
          1.84048999569862,
          -1.40886954355907,
          -1.08883614223875,
          0.150765760321109,
          0.322622654754877,
          -1.07359325488241,
          0.0308765219384011,
          -0.0483712087595604,
          1.8454455674467,
          -1.07543864797577,
          0.398140658055933,
          -1.01783947886007,
          -0.619441707761833,
          0.750423363091118,
          0.736325366235978,
          1.46575937105807,
          -0.378243022985637,
          -0.311314918694217,
          -0.345796906222621,
          0.507282808774109,
          -0.419496195323761,
          -0.995782098242163,
          -0.98332001192072,
          -1.47972179630265,
          0.816347828173277,
          -0.198837927281828,
          -0.585201156113289,
          -1.00324200295609,
          0.238249255563619,
          -1.90695671722157,
          -0.585825728522151,
          0.18820883236184,
          0.45987641691773,
          0.42906918930725,
          5.93733103504581,
          -0.745323085279689,
          -0.651190074074856,
          -0.415236770711906,
          0.58304441040182,
          -0.138799767723206,
          -0.712705782397221,
          -0.443972009300691,
          -0.0251188414880371,
          0.0684027940467354,
          -0.879107945486663,
          -1.38564045732918,
          -0.639864062152107,
          -0.156697825246723,
          -0.061310058437973,
          -0.573565066406743,
          0.241431358427906,
          1.40495724681574,
          -1.59249676292505,
          -1.52721659271628,
          -1.86942573271885,
          -0.36036006769824,
          -0.956497026485278,
          0.53326255029068,
          -0.262465659590978,
          1.76116769212988,
          -1.21361190648222,
          -0.725927886635424,
          -0.747039422768027,
          1.03071608283092,
          -0.317885153156009,
          -1.38836196100971,
          -0.900807094808497,
          2.12657759391859,
          0.106833107369235,
          1.40013281293598,
          0.653437479505985,
          -0.857029164796261,
          1.06604174796557,
          1.1850013263717,
          -1.79442163492938,
          -1.78859077317659,
          0.976636317382822,
          0.76978637620901,
          -0.0802332666406929,
          -0.679403328547129,
          -0.606131655027553,
          3.75035311120533,
          -0.830307925548861,
          -0.928263866342716,
          -1.48644779275016,
          0.0798554271021493,
          0.620714922990375,
          -0.622281454879823,
          -0.107229872315293,
          1.00320104668026,
          0.416139061856427,
          -0.590879248539377
         ]
        },
        {
         "hoverinfo": "skip",
         "legendgroup": "No",
         "line": {
          "color": "#00CC96"
         },
         "meanline": {
          "visible": true
         },
         "name": "Disease",
         "scalegroup": "No",
         "showlegend": false,
         "side": "positive",
         "type": "violin",
         "x": [
          "ApoC-I",
          "ApoC-I",
          "ApoC-I",
          "ApoC-I",
          "ApoC-I",
          "ApoC-I",
          "ApoC-I",
          "ApoC-I",
          "ApoC-I",
          "ApoC-I",
          "ApoC-I",
          "ApoC-I",
          "ApoC-I",
          "ApoC-I",
          "ApoC-I",
          "ApoC-I",
          "ApoC-I",
          "ApoC-I",
          "ApoC-I",
          "ApoC-I",
          "ApoC-I",
          "ApoC-I",
          "ApoC-I",
          "ApoC-I",
          "ApoC-I",
          "ApoC-I",
          "ApoC-I",
          "ApoC-I",
          "ApoC-I",
          "ApoC-I",
          "ApoC-I",
          "ApoC-I",
          "ApoC-I",
          "ApoC-I",
          "ApoC-I",
          "ApoC-I",
          "ApoC-I",
          "ApoC-I",
          "ApoC-I",
          "ApoC-I",
          "ApoC-I",
          "ApoC-I",
          "ApoC-I",
          "ApoC-I",
          "ApoC-I",
          "ApoC-I",
          "ApoC-I",
          "ApoC-I",
          "ApoC-I",
          "ApoC-I",
          "ApoC-I",
          "ApoC-I",
          "ApoC-I",
          "ApoC-I",
          "ApoC-I",
          "ApoC-I",
          "ApoC-I",
          "ApoC-I",
          "ApoC-I",
          "ApoC-I",
          "ApoC-I",
          "ApoC-I",
          "ApoC-I",
          "ApoC-I",
          "ApoC-I",
          "ApoC-I",
          "ApoC-I",
          "ApoC-I",
          "ApoC-I",
          "ApoC-I",
          "ApoC-I",
          "ApoC-I",
          "ApoC-I",
          "ApoC-I",
          "ApoC-I",
          "ApoC-I",
          "ApoC-I",
          "ApoC-I",
          "ApoC-I",
          "ApoC-I",
          "ApoC-I",
          "ApoC-I",
          "ApoC-I",
          "ApoC-I",
          "ApoC-I",
          "ApoC-I",
          "ApoC-I",
          "ApoC-I",
          "ApoC-I",
          "ApoC-I",
          "ApoC-I",
          "ApoC-I",
          "ApoC-I",
          "ApoC-I",
          "ApoC-I",
          "ApoC-I",
          "ApoC-I",
          "ApoC-I",
          "ApoC-I",
          "ApoC-I",
          "ApoC-I",
          "ApoC-I",
          "ApoC-I",
          "ApoC-I",
          "ApoC-I",
          "ApoC-I",
          "ApoC-I",
          "ApoC-I",
          "ApoC-I",
          "ApoC-I",
          "ApoC-I",
          "ApoC-I",
          "ApoC-I",
          "ApoC-I",
          "ApoC-I",
          "ApoC-I",
          "ApoC-I",
          "ApoC-I",
          "ApoC-I",
          "ApoC-I",
          "ApoC-I",
          "ApoC-I",
          "ApoC-I",
          "ApoC-I",
          "ApoC-I",
          "ApoC-I",
          "ApoC-I",
          "ApoC-I",
          "ApoC-I",
          "ApoC-I",
          "ApoC-I",
          "ApoC-I",
          "ApoC-I",
          "ApoC-I",
          "ApoC-I",
          "ApoC-I",
          "ApoC-I",
          "ApoC-I",
          "ApoC-I",
          "ApoC-I",
          "ApoC-I",
          "ApoC-I",
          "ApoC-I",
          "ApoC-I",
          "ApoC-I",
          "ApoC-I",
          "ApoC-I",
          "ApoC-I",
          "ApoC-I",
          "ApoC-I",
          "ApoC-I",
          "ApoC-I",
          "ApoC-I",
          "ApoC-I",
          "ApoC-I",
          "ApoC-I",
          "ApoC-I",
          "ApoC-I",
          "ApoC-I",
          "ApoC-I",
          "ApoC-I",
          "ApoC-I",
          "ApoC-I",
          "ApoC-I",
          "ApoC-I",
          "ApoC-I",
          "ApoC-I",
          "ApoC-I",
          "ApoC-I",
          "ApoC-I",
          "ApoC-I",
          "ApoC-I",
          "ApoC-I",
          "ApoC-I",
          "ApoC-I",
          "ApoC-I",
          "ApoC-I",
          "ApoC-I",
          "ApoC-I",
          "ApoC-I",
          "ApoC-I",
          "ApoC-I",
          "ApoC-I",
          "ApoC-I",
          "ApoC-I",
          "ApoC-I",
          "ApoC-I",
          "ApoC-I",
          "ApoC-I",
          "ApoC-I",
          "ApoC-I",
          "ApoC-I",
          "ApoC-I",
          "ApoC-I",
          "ApoC-I",
          "ApoC-I",
          "ApoC-I",
          "ApoC-I",
          "ApoC-I",
          "ApoC-I",
          "ApoC-I",
          "ApoC-I",
          "ApoC-I",
          "ApoC-I",
          "ApoC-I",
          "ApoC-I",
          "ApoC-I",
          "ApoC-I",
          "ApoC-I",
          "ApoC-I",
          "ApoC-I",
          "ApoC-I"
         ],
         "y": [
          -0.521125732291066,
          0.0585026263826919,
          0.0579406326998319,
          0.111471587728614,
          -0.891545198807805,
          -0.730331065497396,
          -1.06496475791244,
          -0.7767022884072,
          -0.349772807801409,
          -0.587768579354779,
          -0.657044269030038,
          0.518064663252761,
          0.407725282886467,
          0.698228292855677,
          -0.924067263205038,
          1.49295097449467,
          1.15206808039764,
          1.30759356183596,
          1.25743364510307,
          0.180353836137376,
          -0.629458236766091,
          1.50025433437332,
          -0.13611823465475,
          -0.0991919126436832,
          1.84577836704242,
          0.0334202220598655,
          -1.44098703591916,
          1.09580184736237,
          0.21888701041668,
          -0.0878963241353213,
          0.34517544139517,
          -0.712584979498053,
          -0.763683209553539,
          0.366691197671848,
          -0.775535621112192,
          -0.0646917885632913,
          -0.15157447223604,
          1.5623518919978,
          -1.12067810084596,
          -0.189254149717287,
          1.24598538024967,
          -1.0675973188003,
          -0.817372356793054,
          -0.0259038196571504,
          -0.494637219576382,
          0.584495929116709,
          0.0274833524492279,
          0.937038610959837,
          -0.907053216358254,
          0.513688526392068,
          0.287880343073336,
          -1.0335658791758,
          -0.573738069805635,
          -0.449321611941519,
          0.215026677153446,
          0.0663534181462185,
          -0.231237083993378,
          -0.719182175532019,
          -1.49345122317361,
          -0.127479329750568,
          -0.812535327256654,
          0.239539447097035,
          0.544320668816468,
          -0.172554284681374,
          2.09406839071323,
          0.391528035665447,
          -0.285236934321789,
          -1.42319179454266,
          0.647675342367526,
          -0.69693665353063,
          -1.62924403191663,
          -0.603187408060894,
          2.06756434224477,
          0.324169999392717,
          -0.307570831370897,
          0.705860403538164,
          0.168190970919169,
          -0.085955011242167,
          -0.192808586494327,
          -1.69406633739663,
          -0.948260249468245,
          -0.0976357695106456,
          0.0616687499780657,
          -0.149453313342355,
          -0.595612334337589,
          -0.359898683058424,
          -0.818791128765845,
          0.750245318271196,
          0.0205658350999397,
          -0.508570192483256,
          0.662874921919295,
          0.647485262949807,
          0.60143158341737,
          -0.804847046552166,
          -1.30786098358844,
          -0.393763598537633,
          -1.11082131410077,
          0.313707800426319,
          2.65132388222395,
          0.73731583716163,
          0.500428719050464,
          0.136887003362271,
          -1.06419591964708,
          -1.19230217295273,
          2.84664467090324,
          -1.30891125380282,
          0.0848398604670202,
          1.16276508759082,
          0.0064009372372098,
          0.920956379247421,
          -1.32242906979368,
          1.34027270966454,
          -0.190529847630382,
          -0.301300055315023,
          -1.46591005636761,
          -0.882184946078081,
          -0.347863341482953,
          0.145673879207946,
          0.0043740330679167,
          0.375811855444209,
          1.72142132104204,
          0.37941351778395,
          0.428198112884322,
          -0.0451158817007586,
          -1.84420278650431,
          1.14631570150917,
          0.330346094111746,
          -0.494814395968279,
          -0.665301818940204,
          0.991171705460112,
          -0.0938839287923098,
          -0.798014630409459,
          -1.80545955468858,
          -0.754443984443711,
          0.410678665275922,
          -0.279624099836121,
          0.230127919464721,
          -0.490158043816608,
          -0.426159595534541,
          0.524935616864548,
          -0.252695085121455,
          -0.544978096808952,
          -1.85973325267676,
          0.684344938558842,
          0.942477098726987,
          0.142567291065736,
          0.134772909422738,
          0.268663402083179,
          0.915978124957979,
          -0.269282795219894,
          1.70833276701632,
          0.492681791134735,
          -0.655662317513698,
          -1.86681969301904,
          -0.370529303485454,
          -0.356253581632607,
          1.25514810674224,
          1.05358693682209,
          -0.50467035459982,
          1.82550701123791,
          -0.694662470364509,
          -0.80565334116558,
          -1.45639934606019,
          -1.00894402734605,
          -0.485404072261425,
          0.684750713110413,
          0.782844796584717,
          0.661726768954624,
          -1.08309177651539,
          -2.33239099483814,
          -1.59556124969035,
          1.12681656726504,
          -0.761069241558173,
          -0.0327565794560055,
          0.279691681753135,
          -0.913706292724701,
          -0.0565701530480986,
          0.514019914083076,
          -0.0361303854470046,
          0.0305289999008505,
          0.140618047118688,
          0.704464942118268,
          -0.837779673524379,
          1.06493166587367,
          0.448195189259273,
          -0.323308548087152,
          -0.676407047057628,
          1.63702745232059,
          0.341221283153153,
          -0.207228647987864,
          0.0741973933265861,
          0.407428220006734,
          1.62879918384542,
          -0.547639160109408,
          1.18489677559884,
          0.852995437712987,
          0.546654777858963,
          -0.150319169859435,
          0.6107278579481,
          1.55292690415056,
          1.16170823798813,
          -0.0352259215404898,
          -0.383821692170802,
          -0.135552552799378,
          -0.565356027935208,
          0.237882339371834,
          -0.0220583203106132,
          1.72436579627617,
          -0.778497757539412,
          0.260031789751428,
          0.78349931284022,
          -0.32228578931175
         ]
        },
        {
         "hoverinfo": "skip",
         "legendgroup": "Yes",
         "line": {
          "color": "#EF553B"
         },
         "meanline": {
          "visible": true
         },
         "name": "Control",
         "scalegroup": "Yes",
         "showlegend": false,
         "side": "negative",
         "type": "violin",
         "x": [
          "ApoC-II",
          "ApoC-II",
          "ApoC-II",
          "ApoC-II",
          "ApoC-II",
          "ApoC-II",
          "ApoC-II",
          "ApoC-II",
          "ApoC-II",
          "ApoC-II",
          "ApoC-II",
          "ApoC-II",
          "ApoC-II",
          "ApoC-II",
          "ApoC-II",
          "ApoC-II",
          "ApoC-II",
          "ApoC-II",
          "ApoC-II",
          "ApoC-II",
          "ApoC-II",
          "ApoC-II",
          "ApoC-II",
          "ApoC-II",
          "ApoC-II",
          "ApoC-II",
          "ApoC-II",
          "ApoC-II",
          "ApoC-II",
          "ApoC-II",
          "ApoC-II",
          "ApoC-II",
          "ApoC-II",
          "ApoC-II",
          "ApoC-II",
          "ApoC-II",
          "ApoC-II",
          "ApoC-II",
          "ApoC-II",
          "ApoC-II",
          "ApoC-II",
          "ApoC-II",
          "ApoC-II",
          "ApoC-II",
          "ApoC-II",
          "ApoC-II",
          "ApoC-II",
          "ApoC-II",
          "ApoC-II",
          "ApoC-II",
          "ApoC-II",
          "ApoC-II",
          "ApoC-II",
          "ApoC-II",
          "ApoC-II",
          "ApoC-II",
          "ApoC-II",
          "ApoC-II",
          "ApoC-II",
          "ApoC-II",
          "ApoC-II",
          "ApoC-II",
          "ApoC-II",
          "ApoC-II",
          "ApoC-II",
          "ApoC-II",
          "ApoC-II",
          "ApoC-II",
          "ApoC-II",
          "ApoC-II",
          "ApoC-II",
          "ApoC-II",
          "ApoC-II",
          "ApoC-II",
          "ApoC-II",
          "ApoC-II",
          "ApoC-II",
          "ApoC-II",
          "ApoC-II",
          "ApoC-II",
          "ApoC-II",
          "ApoC-II",
          "ApoC-II",
          "ApoC-II",
          "ApoC-II",
          "ApoC-II",
          "ApoC-II",
          "ApoC-II",
          "ApoC-II",
          "ApoC-II",
          "ApoC-II",
          "ApoC-II",
          "ApoC-II",
          "ApoC-II",
          "ApoC-II",
          "ApoC-II",
          "ApoC-II",
          "ApoC-II",
          "ApoC-II",
          "ApoC-II",
          "ApoC-II",
          "ApoC-II",
          "ApoC-II",
          "ApoC-II",
          "ApoC-II",
          "ApoC-II",
          "ApoC-II",
          "ApoC-II",
          "ApoC-II",
          "ApoC-II",
          "ApoC-II",
          "ApoC-II",
          "ApoC-II",
          "ApoC-II",
          "ApoC-II",
          "ApoC-II",
          "ApoC-II",
          "ApoC-II",
          "ApoC-II",
          "ApoC-II",
          "ApoC-II",
          "ApoC-II",
          "ApoC-II",
          "ApoC-II",
          "ApoC-II",
          "ApoC-II",
          "ApoC-II",
          "ApoC-II",
          "ApoC-II",
          "ApoC-II",
          "ApoC-II",
          "ApoC-II",
          "ApoC-II",
          "ApoC-II",
          "ApoC-II",
          "ApoC-II",
          "ApoC-II",
          "ApoC-II",
          "ApoC-II",
          "ApoC-II",
          "ApoC-II",
          "ApoC-II",
          "ApoC-II",
          "ApoC-II",
          "ApoC-II",
          "ApoC-II",
          "ApoC-II",
          "ApoC-II",
          "ApoC-II",
          "ApoC-II",
          "ApoC-II",
          "ApoC-II",
          "ApoC-II",
          "ApoC-II",
          "ApoC-II",
          "ApoC-II",
          "ApoC-II",
          "ApoC-II",
          "ApoC-II",
          "ApoC-II",
          "ApoC-II",
          "ApoC-II",
          "ApoC-II",
          "ApoC-II",
          "ApoC-II",
          "ApoC-II",
          "ApoC-II",
          "ApoC-II",
          "ApoC-II",
          "ApoC-II",
          "ApoC-II",
          "ApoC-II",
          "ApoC-II",
          "ApoC-II",
          "ApoC-II",
          "ApoC-II",
          "ApoC-II",
          "ApoC-II",
          "ApoC-II",
          "ApoC-II",
          "ApoC-II",
          "ApoC-II",
          "ApoC-II",
          "ApoC-II",
          "ApoC-II",
          "ApoC-II",
          "ApoC-II",
          "ApoC-II",
          "ApoC-II",
          "ApoC-II",
          "ApoC-II",
          "ApoC-II",
          "ApoC-II",
          "ApoC-II",
          "ApoC-II",
          "ApoC-II",
          "ApoC-II",
          "ApoC-II",
          "ApoC-II",
          "ApoC-II",
          "ApoC-II",
          "ApoC-II",
          "ApoC-II",
          "ApoC-II",
          "ApoC-II",
          "ApoC-II",
          "ApoC-II",
          "ApoC-II",
          "ApoC-II",
          "ApoC-II",
          "ApoC-II",
          "ApoC-II"
         ],
         "y": [
          -0.741892459404744,
          -1.49543219165415,
          0.319923366497426,
          0.267734813475689,
          -0.456828775400047,
          0.622366845530301,
          0.564756986462242,
          0.42636824671477,
          0.0422804273691737,
          -1.34759884279689,
          0.708345833911697,
          -1.27812413008314,
          0.358816547612339,
          1.15686046262211,
          1.23085647229441,
          -0.800838410224053,
          -0.227838565843737,
          0.75476667451575,
          0.653025976283364,
          -0.923106954935012,
          -1.7550722175744,
          -1.08581577557095,
          -0.567161349394549,
          -0.64858101885096,
          -0.720856051616469,
          0.294500376746536,
          0.202276046450272,
          -1.03327643940427,
          -1.01939096856346,
          -0.132457709128164,
          0.251558209596769,
          -0.326371471838957,
          0.594177675373814,
          -0.0043187637584116,
          -1.54903642672455,
          -1.31654829777967,
          -1.70165306793829,
          0.068318809768306,
          0.48084782522202,
          -0.494306474734911,
          2.04989808260013,
          -0.109603677334216,
          -0.118492280802255,
          0.0870312490673453,
          0.232693297233174,
          -1.185203091581,
          -1.60916191243267,
          1.1632041522229,
          0.073910992664794,
          0.371141787001005,
          0.0518067453097971,
          -0.647255190659542,
          0.197146562623293,
          0.674996691613504,
          -1.46521453839934,
          -1.82160548261639,
          0.577627008574376,
          -1.50526478016883,
          0.544701181638165,
          0.031562638178244,
          1.26920437844673,
          0.103850210281018,
          -0.187485776489157,
          -0.894877409349554,
          1.03506479353586,
          -1.5681000292045,
          0.124805052746735,
          0.582326832144533,
          1.12892064191385,
          -0.824164466848507,
          -0.967559186534176,
          1.51380689983351,
          -0.610806654159046,
          0.16086116376088,
          -0.151107268169173,
          0.294789463619725,
          -0.104731623607865,
          -0.810769494132021,
          -0.314671589446612,
          0.116875296365041,
          1.13442378775508,
          -2.34145791870493,
          0.398408224615957,
          3.26128579686992,
          -0.499164526147286,
          -0.161157286893889,
          0.280141843420901,
          -1.00071723340396,
          -0.326026475634513,
          0.867280674634687,
          -0.893830761951075,
          -0.813343983895179,
          0.0724673715867383,
          0.342685814825937,
          -0.628530118665947,
          -0.201071458635867,
          -0.416513939249232,
          -0.393730751191306,
          -2.22934424464116,
          0.446489357364305,
          -0.64755841366753,
          -0.125655537907375,
          0.129901642648207,
          0.826402691251113,
          -0.470812879151906,
          0.131322075428534,
          -0.922976534039429,
          0.685823024554396,
          0.500339251201607,
          -0.284575136660351,
          -1.7402696339724,
          -0.506393749103374,
          1.25614057957973,
          -0.399236405594528,
          0.256223740161857,
          -0.101078068122487,
          0.040156839113559,
          -0.20152362576159,
          0.305873865768436,
          0.988351799948868,
          -0.220055400700404,
          -0.907056795357845,
          0.0412947974117848,
          -0.909135260608121,
          0.15972458152777,
          -0.784473777926241,
          0.368247525502007,
          -0.0474693613607145,
          1.94600325787663,
          -0.541568371299837,
          0.855921235321965,
          -1.43437769455883,
          -0.358912610848706,
          0.311058710045636,
          0.411950040906455,
          -2.00245679019967,
          0.147873495536839,
          -1.54058624986745,
          0.982108003352146,
          0.211906423291038,
          -0.0508381830722877,
          0.040870884166997,
          0.433695274991407,
          0.843156653796479,
          -1.08257637495257,
          0.628929838166091,
          -1.40509283751575,
          1.0474244489581,
          0.447818388874281,
          0.381513041275753,
          -1.96625787347301,
          0.63888872522575,
          0.175039906816605,
          -0.299043604782235,
          5.22563529906243,
          -1.21289834804542,
          -0.487403312137021,
          -1.69420969220926,
          0.988690353187629,
          -0.785195070946135,
          -2.5340842721101,
          0.383222075255723,
          0.203245636180569,
          -0.126060358940026,
          0.262654378698352,
          -0.898330911912972,
          -0.575265965954299,
          -0.425885611689488,
          0.912498156197752,
          -1.85955449055542,
          -0.576578571192552,
          1.15198463715858,
          -0.807030715981069,
          1.80703006623006,
          0.07465350410679,
          -0.410022902449683,
          0.540144433564941,
          0.21467941205469,
          -2.43968524440236,
          0.608027720911541,
          -0.462509275600947,
          -0.281405928678914,
          -0.120854127546454,
          0.877576022529885,
          0.321398193538525,
          -1.65900103873277,
          -0.802305791625122,
          0.390454780441304,
          0.927029463124002,
          1.76624660913752,
          1.05962787231524,
          -0.480363042097274,
          1.36685190027778,
          0.423421100158703,
          -0.741263577213075,
          -0.475165606086792,
          0.89164559500437,
          0.0955661146482318,
          -0.162163188300083,
          -2.56186072932782,
          -0.772806400491345,
          -2.0217195893492,
          0.932658216127602,
          -0.527975303672049,
          -1.48190271249844,
          -0.81492081478366,
          0.151114982766508,
          -0.0693285761981195,
          -0.65468594762086,
          -1.63254107367455,
          -0.714260455526511,
          1.23859962442807
         ]
        },
        {
         "hoverinfo": "skip",
         "legendgroup": "No",
         "line": {
          "color": "#00CC96"
         },
         "meanline": {
          "visible": true
         },
         "name": "Disease",
         "scalegroup": "No",
         "showlegend": false,
         "side": "positive",
         "type": "violin",
         "x": [
          "ApoC-II",
          "ApoC-II",
          "ApoC-II",
          "ApoC-II",
          "ApoC-II",
          "ApoC-II",
          "ApoC-II",
          "ApoC-II",
          "ApoC-II",
          "ApoC-II",
          "ApoC-II",
          "ApoC-II",
          "ApoC-II",
          "ApoC-II",
          "ApoC-II",
          "ApoC-II",
          "ApoC-II",
          "ApoC-II",
          "ApoC-II",
          "ApoC-II",
          "ApoC-II",
          "ApoC-II",
          "ApoC-II",
          "ApoC-II",
          "ApoC-II",
          "ApoC-II",
          "ApoC-II",
          "ApoC-II",
          "ApoC-II",
          "ApoC-II",
          "ApoC-II",
          "ApoC-II",
          "ApoC-II",
          "ApoC-II",
          "ApoC-II",
          "ApoC-II",
          "ApoC-II",
          "ApoC-II",
          "ApoC-II",
          "ApoC-II",
          "ApoC-II",
          "ApoC-II",
          "ApoC-II",
          "ApoC-II",
          "ApoC-II",
          "ApoC-II",
          "ApoC-II",
          "ApoC-II",
          "ApoC-II",
          "ApoC-II",
          "ApoC-II",
          "ApoC-II",
          "ApoC-II",
          "ApoC-II",
          "ApoC-II",
          "ApoC-II",
          "ApoC-II",
          "ApoC-II",
          "ApoC-II",
          "ApoC-II",
          "ApoC-II",
          "ApoC-II",
          "ApoC-II",
          "ApoC-II",
          "ApoC-II",
          "ApoC-II",
          "ApoC-II",
          "ApoC-II",
          "ApoC-II",
          "ApoC-II",
          "ApoC-II",
          "ApoC-II",
          "ApoC-II",
          "ApoC-II",
          "ApoC-II",
          "ApoC-II",
          "ApoC-II",
          "ApoC-II",
          "ApoC-II",
          "ApoC-II",
          "ApoC-II",
          "ApoC-II",
          "ApoC-II",
          "ApoC-II",
          "ApoC-II",
          "ApoC-II",
          "ApoC-II",
          "ApoC-II",
          "ApoC-II",
          "ApoC-II",
          "ApoC-II",
          "ApoC-II",
          "ApoC-II",
          "ApoC-II",
          "ApoC-II",
          "ApoC-II",
          "ApoC-II",
          "ApoC-II",
          "ApoC-II",
          "ApoC-II",
          "ApoC-II",
          "ApoC-II",
          "ApoC-II",
          "ApoC-II",
          "ApoC-II",
          "ApoC-II",
          "ApoC-II",
          "ApoC-II",
          "ApoC-II",
          "ApoC-II",
          "ApoC-II",
          "ApoC-II",
          "ApoC-II",
          "ApoC-II",
          "ApoC-II",
          "ApoC-II",
          "ApoC-II",
          "ApoC-II",
          "ApoC-II",
          "ApoC-II",
          "ApoC-II",
          "ApoC-II",
          "ApoC-II",
          "ApoC-II",
          "ApoC-II",
          "ApoC-II",
          "ApoC-II",
          "ApoC-II",
          "ApoC-II",
          "ApoC-II",
          "ApoC-II",
          "ApoC-II",
          "ApoC-II",
          "ApoC-II",
          "ApoC-II",
          "ApoC-II",
          "ApoC-II",
          "ApoC-II",
          "ApoC-II",
          "ApoC-II",
          "ApoC-II",
          "ApoC-II",
          "ApoC-II",
          "ApoC-II",
          "ApoC-II",
          "ApoC-II",
          "ApoC-II",
          "ApoC-II",
          "ApoC-II",
          "ApoC-II",
          "ApoC-II",
          "ApoC-II",
          "ApoC-II",
          "ApoC-II",
          "ApoC-II",
          "ApoC-II",
          "ApoC-II",
          "ApoC-II",
          "ApoC-II",
          "ApoC-II",
          "ApoC-II",
          "ApoC-II",
          "ApoC-II",
          "ApoC-II",
          "ApoC-II",
          "ApoC-II",
          "ApoC-II",
          "ApoC-II",
          "ApoC-II",
          "ApoC-II",
          "ApoC-II",
          "ApoC-II",
          "ApoC-II",
          "ApoC-II",
          "ApoC-II",
          "ApoC-II",
          "ApoC-II",
          "ApoC-II",
          "ApoC-II",
          "ApoC-II",
          "ApoC-II",
          "ApoC-II",
          "ApoC-II",
          "ApoC-II",
          "ApoC-II",
          "ApoC-II",
          "ApoC-II",
          "ApoC-II",
          "ApoC-II",
          "ApoC-II",
          "ApoC-II",
          "ApoC-II",
          "ApoC-II",
          "ApoC-II",
          "ApoC-II",
          "ApoC-II",
          "ApoC-II",
          "ApoC-II",
          "ApoC-II",
          "ApoC-II",
          "ApoC-II",
          "ApoC-II",
          "ApoC-II",
          "ApoC-II",
          "ApoC-II",
          "ApoC-II",
          "ApoC-II",
          "ApoC-II",
          "ApoC-II",
          "ApoC-II",
          "ApoC-II",
          "ApoC-II"
         ],
         "y": [
          0.377611570243473,
          0.121418022608459,
          -1.22320653233282,
          0.561064501536043,
          0.0910106114532144,
          -1.25777289614593,
          -0.773230136837981,
          0.537014965917822,
          -2.32000811978934,
          0.250159123751638,
          0.068724325440803,
          0.315523347088353,
          -1.1361313443199,
          -0.119442831061937,
          -0.150930515266492,
          -0.275174031969844,
          -0.714282388676382,
          -0.626788501430034,
          -0.555726828159383,
          1.76844665725604,
          -0.396343938357703,
          -1.64928713888987,
          -0.589153895443333,
          0.710800009209037,
          2.30326088354898,
          0.549797025371059,
          0.056605616709703,
          0.751822799043046,
          -0.827192189999132,
          -0.534710287169419,
          1.67945226394501,
          0.471553522506444,
          0.327744256749222,
          0.513949136116094,
          0.164209841492314,
          -0.444407392832916,
          -0.541459093234538,
          1.25054139959685,
          0.162279840488937,
          -0.112826321523318,
          2.60859676165042,
          -2.42307737053918,
          -1.09492439664233,
          -0.0945114962066501,
          0.805892716138329,
          0.16243452017304,
          0.555985145619271,
          0.937781442811228,
          -0.44244565878681,
          0.145799315041803,
          0.276996101783653,
          0.296277496814171,
          -1.59477275610514,
          0.316378001875432,
          0.584144735545554,
          -0.111389574099341,
          0.0244231657618744,
          -0.486869918820345,
          -0.677903186517527,
          0.17685728841382,
          -1.47865135775648,
          2.44395486447895,
          0.850478246787418,
          -1.00322472788483,
          -0.482679015352795,
          -0.0749807789509352,
          0.145305303304957,
          -0.106477829933811,
          0.913494532482674,
          -0.839327564677534,
          -0.253275626961657,
          -0.382097633923354,
          0.175890066128307,
          -0.618342591447064,
          0.0473536209662226,
          1.38377165373953,
          0.737375500162778,
          0.178160639105691,
          -0.531160345767424,
          0.002480513549062,
          0.445597812114789,
          -0.219088963018435,
          0.435140121150221,
          -1.12937849294984,
          -0.0165988598393707,
          -1.18476921274012,
          -1.30612081512189,
          1.13297682258802,
          0.711020749601894,
          0.386874088562119,
          0.374727497835386,
          -0.801094386165627,
          1.04280527594327,
          0.877235476745857,
          -1.22883369415956,
          -0.101029280841148,
          0.659000059187587,
          0.957689678979979,
          1.23349430724714,
          0.889819080009308,
          0.667493120388475,
          1.51437361592675,
          -0.759385782220403,
          0.261749021279225,
          0.219985607296351,
          -0.57827064714303,
          -0.631656316736953,
          0.241274516957707,
          -0.177076299402257,
          0.375244650509728,
          0.0825587904395953,
          1.39203503820058,
          -0.562325279403431,
          2.22082591028266,
          0.758894748768576,
          -0.490377793342549,
          0.0955951716308794,
          1.46555647186753,
          -0.233027870152363,
          0.768289317931165,
          -1.07806449797156,
          -0.385869554198414,
          1.77469742269552,
          0.13716235560043,
          -0.0122750831603411,
          0.581803556273893,
          -0.387605394617644,
          -0.450831471869962,
          1.15527145450882,
          0.863160039410872,
          0.675891740890789,
          0.114878737959585,
          -0.335465839644246,
          0.542359136598072,
          0.0112479439595843,
          0.86396596625027,
          0.59283066886423,
          -0.653481323088904,
          -0.683820195539032,
          1.17804435691294,
          -0.0616190753285507,
          -0.540110384025558,
          -1.01022306288361,
          0.863844651078998,
          -0.461215236873863,
          -0.858390443515235,
          0.845808920202622,
          1.90287596434153,
          1.09166348847955,
          0.113455249766003,
          -0.637597607284178,
          0.360073930137706,
          1.12406106332729,
          -1.19929361415351,
          0.201283160555281,
          -0.181250683661893,
          0.0047993984449251,
          0.144912140422258,
          -1.32888821567692,
          3.10962037431586,
          0.438322747878231,
          0.151341693900934,
          -0.278121267497551,
          -2.13690338533274,
          -0.221991281817538,
          0.868848417268083,
          2.02356673253059,
          0.994779982999124,
          0.462531742930074,
          1.51037646171874,
          -1.48496937313505,
          1.38123301728227,
          -1.03138361116044,
          -0.891881678709362,
          0.147334325305495,
          -0.442525914821369,
          0.481851809430102,
          0.36143733109097,
          0.0803005698229538,
          1.96005103781049,
          -0.611907827106669,
          2.075787818498,
          -0.952136878522659,
          -0.575857198488678,
          -0.723843718754527,
          -0.95380633618063,
          -0.204403671862001,
          0.853576546532769,
          0.926940644817446,
          -0.607464381394549,
          0.59924853469815,
          1.36223774811406,
          0.87936372842814,
          -0.0116302500403034,
          0.508080692812877,
          0.545213812258977,
          0.632246338671737,
          0.284315522432291,
          1.79772648503934,
          0.448618308645675,
          0.751190082263017,
          0.218038211444695,
          1.57237219474626,
          0.317119322210662,
          -1.04478357067058,
          -0.449996452999055,
          0.922812739841752,
          -0.596705818870063,
          -1.25768071195432,
          -0.353528805732627,
          0.631286963638257,
          -0.199068786433166
         ]
        }
       ],
       "layout": {
        "template": {
         "data": {
          "bar": [
           {
            "error_x": {
             "color": "#2a3f5f"
            },
            "error_y": {
             "color": "#2a3f5f"
            },
            "marker": {
             "line": {
              "color": "#E5ECF6",
              "width": 0.5
             },
             "pattern": {
              "fillmode": "overlay",
              "size": 10,
              "solidity": 0.2
             }
            },
            "type": "bar"
           }
          ],
          "barpolar": [
           {
            "marker": {
             "line": {
              "color": "#E5ECF6",
              "width": 0.5
             },
             "pattern": {
              "fillmode": "overlay",
              "size": 10,
              "solidity": 0.2
             }
            },
            "type": "barpolar"
           }
          ],
          "carpet": [
           {
            "aaxis": {
             "endlinecolor": "#2a3f5f",
             "gridcolor": "white",
             "linecolor": "white",
             "minorgridcolor": "white",
             "startlinecolor": "#2a3f5f"
            },
            "baxis": {
             "endlinecolor": "#2a3f5f",
             "gridcolor": "white",
             "linecolor": "white",
             "minorgridcolor": "white",
             "startlinecolor": "#2a3f5f"
            },
            "type": "carpet"
           }
          ],
          "choropleth": [
           {
            "colorbar": {
             "outlinewidth": 0,
             "ticks": ""
            },
            "type": "choropleth"
           }
          ],
          "contour": [
           {
            "colorbar": {
             "outlinewidth": 0,
             "ticks": ""
            },
            "colorscale": [
             [
              0,
              "#0d0887"
             ],
             [
              0.1111111111111111,
              "#46039f"
             ],
             [
              0.2222222222222222,
              "#7201a8"
             ],
             [
              0.3333333333333333,
              "#9c179e"
             ],
             [
              0.4444444444444444,
              "#bd3786"
             ],
             [
              0.5555555555555556,
              "#d8576b"
             ],
             [
              0.6666666666666666,
              "#ed7953"
             ],
             [
              0.7777777777777778,
              "#fb9f3a"
             ],
             [
              0.8888888888888888,
              "#fdca26"
             ],
             [
              1,
              "#f0f921"
             ]
            ],
            "type": "contour"
           }
          ],
          "contourcarpet": [
           {
            "colorbar": {
             "outlinewidth": 0,
             "ticks": ""
            },
            "type": "contourcarpet"
           }
          ],
          "heatmap": [
           {
            "colorbar": {
             "outlinewidth": 0,
             "ticks": ""
            },
            "colorscale": [
             [
              0,
              "#0d0887"
             ],
             [
              0.1111111111111111,
              "#46039f"
             ],
             [
              0.2222222222222222,
              "#7201a8"
             ],
             [
              0.3333333333333333,
              "#9c179e"
             ],
             [
              0.4444444444444444,
              "#bd3786"
             ],
             [
              0.5555555555555556,
              "#d8576b"
             ],
             [
              0.6666666666666666,
              "#ed7953"
             ],
             [
              0.7777777777777778,
              "#fb9f3a"
             ],
             [
              0.8888888888888888,
              "#fdca26"
             ],
             [
              1,
              "#f0f921"
             ]
            ],
            "type": "heatmap"
           }
          ],
          "heatmapgl": [
           {
            "colorbar": {
             "outlinewidth": 0,
             "ticks": ""
            },
            "colorscale": [
             [
              0,
              "#0d0887"
             ],
             [
              0.1111111111111111,
              "#46039f"
             ],
             [
              0.2222222222222222,
              "#7201a8"
             ],
             [
              0.3333333333333333,
              "#9c179e"
             ],
             [
              0.4444444444444444,
              "#bd3786"
             ],
             [
              0.5555555555555556,
              "#d8576b"
             ],
             [
              0.6666666666666666,
              "#ed7953"
             ],
             [
              0.7777777777777778,
              "#fb9f3a"
             ],
             [
              0.8888888888888888,
              "#fdca26"
             ],
             [
              1,
              "#f0f921"
             ]
            ],
            "type": "heatmapgl"
           }
          ],
          "histogram": [
           {
            "marker": {
             "pattern": {
              "fillmode": "overlay",
              "size": 10,
              "solidity": 0.2
             }
            },
            "type": "histogram"
           }
          ],
          "histogram2d": [
           {
            "colorbar": {
             "outlinewidth": 0,
             "ticks": ""
            },
            "colorscale": [
             [
              0,
              "#0d0887"
             ],
             [
              0.1111111111111111,
              "#46039f"
             ],
             [
              0.2222222222222222,
              "#7201a8"
             ],
             [
              0.3333333333333333,
              "#9c179e"
             ],
             [
              0.4444444444444444,
              "#bd3786"
             ],
             [
              0.5555555555555556,
              "#d8576b"
             ],
             [
              0.6666666666666666,
              "#ed7953"
             ],
             [
              0.7777777777777778,
              "#fb9f3a"
             ],
             [
              0.8888888888888888,
              "#fdca26"
             ],
             [
              1,
              "#f0f921"
             ]
            ],
            "type": "histogram2d"
           }
          ],
          "histogram2dcontour": [
           {
            "colorbar": {
             "outlinewidth": 0,
             "ticks": ""
            },
            "colorscale": [
             [
              0,
              "#0d0887"
             ],
             [
              0.1111111111111111,
              "#46039f"
             ],
             [
              0.2222222222222222,
              "#7201a8"
             ],
             [
              0.3333333333333333,
              "#9c179e"
             ],
             [
              0.4444444444444444,
              "#bd3786"
             ],
             [
              0.5555555555555556,
              "#d8576b"
             ],
             [
              0.6666666666666666,
              "#ed7953"
             ],
             [
              0.7777777777777778,
              "#fb9f3a"
             ],
             [
              0.8888888888888888,
              "#fdca26"
             ],
             [
              1,
              "#f0f921"
             ]
            ],
            "type": "histogram2dcontour"
           }
          ],
          "mesh3d": [
           {
            "colorbar": {
             "outlinewidth": 0,
             "ticks": ""
            },
            "type": "mesh3d"
           }
          ],
          "parcoords": [
           {
            "line": {
             "colorbar": {
              "outlinewidth": 0,
              "ticks": ""
             }
            },
            "type": "parcoords"
           }
          ],
          "pie": [
           {
            "automargin": true,
            "type": "pie"
           }
          ],
          "scatter": [
           {
            "fillpattern": {
             "fillmode": "overlay",
             "size": 10,
             "solidity": 0.2
            },
            "type": "scatter"
           }
          ],
          "scatter3d": [
           {
            "line": {
             "colorbar": {
              "outlinewidth": 0,
              "ticks": ""
             }
            },
            "marker": {
             "colorbar": {
              "outlinewidth": 0,
              "ticks": ""
             }
            },
            "type": "scatter3d"
           }
          ],
          "scattercarpet": [
           {
            "marker": {
             "colorbar": {
              "outlinewidth": 0,
              "ticks": ""
             }
            },
            "type": "scattercarpet"
           }
          ],
          "scattergeo": [
           {
            "marker": {
             "colorbar": {
              "outlinewidth": 0,
              "ticks": ""
             }
            },
            "type": "scattergeo"
           }
          ],
          "scattergl": [
           {
            "marker": {
             "colorbar": {
              "outlinewidth": 0,
              "ticks": ""
             }
            },
            "type": "scattergl"
           }
          ],
          "scattermapbox": [
           {
            "marker": {
             "colorbar": {
              "outlinewidth": 0,
              "ticks": ""
             }
            },
            "type": "scattermapbox"
           }
          ],
          "scatterpolar": [
           {
            "marker": {
             "colorbar": {
              "outlinewidth": 0,
              "ticks": ""
             }
            },
            "type": "scatterpolar"
           }
          ],
          "scatterpolargl": [
           {
            "marker": {
             "colorbar": {
              "outlinewidth": 0,
              "ticks": ""
             }
            },
            "type": "scatterpolargl"
           }
          ],
          "scatterternary": [
           {
            "marker": {
             "colorbar": {
              "outlinewidth": 0,
              "ticks": ""
             }
            },
            "type": "scatterternary"
           }
          ],
          "surface": [
           {
            "colorbar": {
             "outlinewidth": 0,
             "ticks": ""
            },
            "colorscale": [
             [
              0,
              "#0d0887"
             ],
             [
              0.1111111111111111,
              "#46039f"
             ],
             [
              0.2222222222222222,
              "#7201a8"
             ],
             [
              0.3333333333333333,
              "#9c179e"
             ],
             [
              0.4444444444444444,
              "#bd3786"
             ],
             [
              0.5555555555555556,
              "#d8576b"
             ],
             [
              0.6666666666666666,
              "#ed7953"
             ],
             [
              0.7777777777777778,
              "#fb9f3a"
             ],
             [
              0.8888888888888888,
              "#fdca26"
             ],
             [
              1,
              "#f0f921"
             ]
            ],
            "type": "surface"
           }
          ],
          "table": [
           {
            "cells": {
             "fill": {
              "color": "#EBF0F8"
             },
             "line": {
              "color": "white"
             }
            },
            "header": {
             "fill": {
              "color": "#C8D4E3"
             },
             "line": {
              "color": "white"
             }
            },
            "type": "table"
           }
          ]
         },
         "layout": {
          "annotationdefaults": {
           "arrowcolor": "#2a3f5f",
           "arrowhead": 0,
           "arrowwidth": 1
          },
          "autotypenumbers": "strict",
          "coloraxis": {
           "colorbar": {
            "outlinewidth": 0,
            "ticks": ""
           }
          },
          "colorscale": {
           "diverging": [
            [
             0,
             "#8e0152"
            ],
            [
             0.1,
             "#c51b7d"
            ],
            [
             0.2,
             "#de77ae"
            ],
            [
             0.3,
             "#f1b6da"
            ],
            [
             0.4,
             "#fde0ef"
            ],
            [
             0.5,
             "#f7f7f7"
            ],
            [
             0.6,
             "#e6f5d0"
            ],
            [
             0.7,
             "#b8e186"
            ],
            [
             0.8,
             "#7fbc41"
            ],
            [
             0.9,
             "#4d9221"
            ],
            [
             1,
             "#276419"
            ]
           ],
           "sequential": [
            [
             0,
             "#0d0887"
            ],
            [
             0.1111111111111111,
             "#46039f"
            ],
            [
             0.2222222222222222,
             "#7201a8"
            ],
            [
             0.3333333333333333,
             "#9c179e"
            ],
            [
             0.4444444444444444,
             "#bd3786"
            ],
            [
             0.5555555555555556,
             "#d8576b"
            ],
            [
             0.6666666666666666,
             "#ed7953"
            ],
            [
             0.7777777777777778,
             "#fb9f3a"
            ],
            [
             0.8888888888888888,
             "#fdca26"
            ],
            [
             1,
             "#f0f921"
            ]
           ],
           "sequentialminus": [
            [
             0,
             "#0d0887"
            ],
            [
             0.1111111111111111,
             "#46039f"
            ],
            [
             0.2222222222222222,
             "#7201a8"
            ],
            [
             0.3333333333333333,
             "#9c179e"
            ],
            [
             0.4444444444444444,
             "#bd3786"
            ],
            [
             0.5555555555555556,
             "#d8576b"
            ],
            [
             0.6666666666666666,
             "#ed7953"
            ],
            [
             0.7777777777777778,
             "#fb9f3a"
            ],
            [
             0.8888888888888888,
             "#fdca26"
            ],
            [
             1,
             "#f0f921"
            ]
           ]
          },
          "colorway": [
           "#636efa",
           "#EF553B",
           "#00cc96",
           "#ab63fa",
           "#FFA15A",
           "#19d3f3",
           "#FF6692",
           "#B6E880",
           "#FF97FF",
           "#FECB52"
          ],
          "font": {
           "color": "#2a3f5f"
          },
          "geo": {
           "bgcolor": "white",
           "lakecolor": "white",
           "landcolor": "#E5ECF6",
           "showlakes": true,
           "showland": true,
           "subunitcolor": "white"
          },
          "hoverlabel": {
           "align": "left"
          },
          "hovermode": "closest",
          "mapbox": {
           "style": "light"
          },
          "paper_bgcolor": "white",
          "plot_bgcolor": "#E5ECF6",
          "polar": {
           "angularaxis": {
            "gridcolor": "white",
            "linecolor": "white",
            "ticks": ""
           },
           "bgcolor": "#E5ECF6",
           "radialaxis": {
            "gridcolor": "white",
            "linecolor": "white",
            "ticks": ""
           }
          },
          "scene": {
           "xaxis": {
            "backgroundcolor": "#E5ECF6",
            "gridcolor": "white",
            "gridwidth": 2,
            "linecolor": "white",
            "showbackground": true,
            "ticks": "",
            "zerolinecolor": "white"
           },
           "yaxis": {
            "backgroundcolor": "#E5ECF6",
            "gridcolor": "white",
            "gridwidth": 2,
            "linecolor": "white",
            "showbackground": true,
            "ticks": "",
            "zerolinecolor": "white"
           },
           "zaxis": {
            "backgroundcolor": "#E5ECF6",
            "gridcolor": "white",
            "gridwidth": 2,
            "linecolor": "white",
            "showbackground": true,
            "ticks": "",
            "zerolinecolor": "white"
           }
          },
          "shapedefaults": {
           "line": {
            "color": "#2a3f5f"
           }
          },
          "ternary": {
           "aaxis": {
            "gridcolor": "white",
            "linecolor": "white",
            "ticks": ""
           },
           "baxis": {
            "gridcolor": "white",
            "linecolor": "white",
            "ticks": ""
           },
           "bgcolor": "#E5ECF6",
           "caxis": {
            "gridcolor": "white",
            "linecolor": "white",
            "ticks": ""
           }
          },
          "title": {
           "x": 0.05
          },
          "xaxis": {
           "automargin": true,
           "gridcolor": "white",
           "linecolor": "white",
           "ticks": "",
           "title": {
            "standoff": 15
           },
           "zerolinecolor": "white",
           "zerolinewidth": 2
          },
          "yaxis": {
           "automargin": true,
           "gridcolor": "white",
           "linecolor": "white",
           "ticks": "",
           "title": {
            "standoff": 15
           },
           "zerolinecolor": "white",
           "zerolinewidth": 2
          }
         }
        },
        "violingap": 0,
        "violinmode": "overlay",
        "xaxis": {
         "range": [
          -0.5,
          6
         ],
         "tickangle": 20
        }
       }
      }
     },
     "metadata": {},
     "output_type": "display_data"
    }
   ],
   "source": [
    "qid, qdesc = [('P02647', 'ApoB-100')][0]\n",
    "\n",
    "cidx = np.intersect1d(xq.index, mdata.Seqn).tolist()\n",
    "qmdata = mdata.set_index('Seqn').loc[cidx]\n",
    "\n",
    "\n",
    "c = qmdata.index[qmdata.Group=='C'].tolist()\n",
    "d = qmdata.index[qmdata.Group=='D'].tolist()\n",
    "\n",
    "\n",
    "fig = go.Figure()\n",
    "\n",
    "for qid, qdesc in myProts:\n",
    "\n",
    "    fig.add_trace(go.Violin(x=len(c)*[qdesc],\n",
    "                            y=xq.loc[c, qid],\n",
    "                            legendgroup='Yes', scalegroup='Yes', name='Control',\n",
    "                            side='negative', showlegend=False,\n",
    "                            line_color=palette[1], hoverinfo='skip')\n",
    "                )\n",
    "    fig.add_trace(go.Violin(x=len(d)*[qdesc],\n",
    "                            y=xq.loc[d, qid],\n",
    "                            legendgroup='No', scalegroup='No', name='Disease',\n",
    "                            side='positive', showlegend=False,\n",
    "                            line_color=palette[2], hoverinfo='skip')\n",
    "                )\n",
    "fig.update_traces(meanline_visible=True)\n",
    "fig.update_xaxes(tickangle=20, range=(-0.5, len(myProts)))\n",
    "fig.update_layout(violingap=0, violinmode='overlay')\n",
    "fig.show()\n",
    "\n",
    "# xq.loc[c, qid]\n",
    "# xq.loc[d, qid]\n",
    "# mdata.loc[cidx, ['Seqn', 'Group']]\n"
   ]
  },
  {
   "attachments": {},
   "cell_type": "markdown",
   "metadata": {},
   "source": [
    "Explorar Proteinas del paper de PESA no exploradas antes"
   ]
  },
  {
   "cell_type": "code",
   "execution_count": 138,
   "metadata": {},
   "outputs": [
    {
     "name": "stdout",
     "output_type": "stream",
     "text": [
      "NT_qq3_mm11.html\n"
     ]
    }
   ],
   "source": [
    "g.subgraph(qqcom[3]+mmcom[11])\n",
    "\n",
    "sg = nx.Graph()\n",
    "sg.add_nodes_from(qqcom[3], group='q')\n",
    "sg.add_nodes_from(mmcom[11], group='m')\n",
    "\n",
    "qmg.edges(data=True)\n",
    "_ = [sg.add_edge(i[0], i[1], weight=i[2]['weight']) for i in qmg.edges.data() if i[0] in sg.nodes and i[1] in sg.nodes]\n",
    "\n",
    "\n",
    "nt = Network(height='500px', width='100%', select_menu=True, filter_menu=True)\n",
    "nt.from_nx(sg)\n",
    "\n",
    "_ = [i.update({'color': palette[1]}) if i['group']=='m' else i.update({'color': palette[0]}) for i in nt.nodes]\n",
    "_ = [i.update({'color': palette[3]}) if i['width']>0 else i.update({'color': palette[4]}) for i in nt.edges]\n",
    "\n",
    "nt.show_buttons(filter_='physics')\n",
    "nt.force_atlas_2based()\n",
    "nt.show('NT_qq3_mm11.html', notebook=False)"
   ]
  },
  {
   "cell_type": "code",
   "execution_count": 50,
   "metadata": {},
   "outputs": [
    {
     "data": {
      "application/vnd.plotly.v1+json": {
       "config": {
        "plotlyServerURL": "https://plot.ly"
       },
       "data": [
        {
         "name": "Control",
         "opacity": 0.8,
         "type": "bar",
         "x": [
          "C18P32-DG 36:2; LMSD{ DG 36:2 } // DG 36:2",
          "C18P33-DG 36:2; LMSD{ DG 36:2 } // DG 36:2",
          "C18P34-UNK",
          "C18P35-DG 36:2; LMSD{ DG 36:2 } // DG 36:2",
          "C18P38-LMSD{ FA 21:1;O2 }",
          "C18P49-DG 36:3; LMSD{ DG 36:3 } // DG 36:3",
          "C18P50-Cer 36:0(Me)(OH); LMSD{ Cer 37:0;O4 }",
          "C18P51-DG 36:3; LMSD{ DG 36:3 } // DG 36:3"
         ],
         "y": [
          0.0696371181665073,
          0.0563795790039167,
          0.0636591485140438,
          0.0746752114991049,
          0.070392723277022,
          0.0940942144196045,
          0.0995084212436151,
          0.0949496377692027
         ]
        },
        {
         "name": "Disease",
         "opacity": 0.8,
         "type": "bar",
         "x": [
          "C18P32-DG 36:2; LMSD{ DG 36:2 } // DG 36:2",
          "C18P33-DG 36:2; LMSD{ DG 36:2 } // DG 36:2",
          "C18P34-UNK",
          "C18P35-DG 36:2; LMSD{ DG 36:2 } // DG 36:2",
          "C18P38-LMSD{ FA 21:1;O2 }",
          "C18P49-DG 36:3; LMSD{ DG 36:3 } // DG 36:3",
          "C18P50-Cer 36:0(Me)(OH); LMSD{ Cer 37:0;O4 }",
          "C18P51-DG 36:3; LMSD{ DG 36:3 } // DG 36:3"
         ],
         "y": [
          0.18360355014957,
          0.190720236199049,
          0.156085814702749,
          0.156596357991244,
          0.183493430455637,
          0.19682382361392,
          0.179794332007558,
          0.188288690246512
         ]
        }
       ],
       "layout": {
        "barmode": "group",
        "template": {
         "data": {
          "bar": [
           {
            "error_x": {
             "color": "#2a3f5f"
            },
            "error_y": {
             "color": "#2a3f5f"
            },
            "marker": {
             "line": {
              "color": "#E5ECF6",
              "width": 0.5
             },
             "pattern": {
              "fillmode": "overlay",
              "size": 10,
              "solidity": 0.2
             }
            },
            "type": "bar"
           }
          ],
          "barpolar": [
           {
            "marker": {
             "line": {
              "color": "#E5ECF6",
              "width": 0.5
             },
             "pattern": {
              "fillmode": "overlay",
              "size": 10,
              "solidity": 0.2
             }
            },
            "type": "barpolar"
           }
          ],
          "carpet": [
           {
            "aaxis": {
             "endlinecolor": "#2a3f5f",
             "gridcolor": "white",
             "linecolor": "white",
             "minorgridcolor": "white",
             "startlinecolor": "#2a3f5f"
            },
            "baxis": {
             "endlinecolor": "#2a3f5f",
             "gridcolor": "white",
             "linecolor": "white",
             "minorgridcolor": "white",
             "startlinecolor": "#2a3f5f"
            },
            "type": "carpet"
           }
          ],
          "choropleth": [
           {
            "colorbar": {
             "outlinewidth": 0,
             "ticks": ""
            },
            "type": "choropleth"
           }
          ],
          "contour": [
           {
            "colorbar": {
             "outlinewidth": 0,
             "ticks": ""
            },
            "colorscale": [
             [
              0,
              "#0d0887"
             ],
             [
              0.1111111111111111,
              "#46039f"
             ],
             [
              0.2222222222222222,
              "#7201a8"
             ],
             [
              0.3333333333333333,
              "#9c179e"
             ],
             [
              0.4444444444444444,
              "#bd3786"
             ],
             [
              0.5555555555555556,
              "#d8576b"
             ],
             [
              0.6666666666666666,
              "#ed7953"
             ],
             [
              0.7777777777777778,
              "#fb9f3a"
             ],
             [
              0.8888888888888888,
              "#fdca26"
             ],
             [
              1,
              "#f0f921"
             ]
            ],
            "type": "contour"
           }
          ],
          "contourcarpet": [
           {
            "colorbar": {
             "outlinewidth": 0,
             "ticks": ""
            },
            "type": "contourcarpet"
           }
          ],
          "heatmap": [
           {
            "colorbar": {
             "outlinewidth": 0,
             "ticks": ""
            },
            "colorscale": [
             [
              0,
              "#0d0887"
             ],
             [
              0.1111111111111111,
              "#46039f"
             ],
             [
              0.2222222222222222,
              "#7201a8"
             ],
             [
              0.3333333333333333,
              "#9c179e"
             ],
             [
              0.4444444444444444,
              "#bd3786"
             ],
             [
              0.5555555555555556,
              "#d8576b"
             ],
             [
              0.6666666666666666,
              "#ed7953"
             ],
             [
              0.7777777777777778,
              "#fb9f3a"
             ],
             [
              0.8888888888888888,
              "#fdca26"
             ],
             [
              1,
              "#f0f921"
             ]
            ],
            "type": "heatmap"
           }
          ],
          "heatmapgl": [
           {
            "colorbar": {
             "outlinewidth": 0,
             "ticks": ""
            },
            "colorscale": [
             [
              0,
              "#0d0887"
             ],
             [
              0.1111111111111111,
              "#46039f"
             ],
             [
              0.2222222222222222,
              "#7201a8"
             ],
             [
              0.3333333333333333,
              "#9c179e"
             ],
             [
              0.4444444444444444,
              "#bd3786"
             ],
             [
              0.5555555555555556,
              "#d8576b"
             ],
             [
              0.6666666666666666,
              "#ed7953"
             ],
             [
              0.7777777777777778,
              "#fb9f3a"
             ],
             [
              0.8888888888888888,
              "#fdca26"
             ],
             [
              1,
              "#f0f921"
             ]
            ],
            "type": "heatmapgl"
           }
          ],
          "histogram": [
           {
            "marker": {
             "pattern": {
              "fillmode": "overlay",
              "size": 10,
              "solidity": 0.2
             }
            },
            "type": "histogram"
           }
          ],
          "histogram2d": [
           {
            "colorbar": {
             "outlinewidth": 0,
             "ticks": ""
            },
            "colorscale": [
             [
              0,
              "#0d0887"
             ],
             [
              0.1111111111111111,
              "#46039f"
             ],
             [
              0.2222222222222222,
              "#7201a8"
             ],
             [
              0.3333333333333333,
              "#9c179e"
             ],
             [
              0.4444444444444444,
              "#bd3786"
             ],
             [
              0.5555555555555556,
              "#d8576b"
             ],
             [
              0.6666666666666666,
              "#ed7953"
             ],
             [
              0.7777777777777778,
              "#fb9f3a"
             ],
             [
              0.8888888888888888,
              "#fdca26"
             ],
             [
              1,
              "#f0f921"
             ]
            ],
            "type": "histogram2d"
           }
          ],
          "histogram2dcontour": [
           {
            "colorbar": {
             "outlinewidth": 0,
             "ticks": ""
            },
            "colorscale": [
             [
              0,
              "#0d0887"
             ],
             [
              0.1111111111111111,
              "#46039f"
             ],
             [
              0.2222222222222222,
              "#7201a8"
             ],
             [
              0.3333333333333333,
              "#9c179e"
             ],
             [
              0.4444444444444444,
              "#bd3786"
             ],
             [
              0.5555555555555556,
              "#d8576b"
             ],
             [
              0.6666666666666666,
              "#ed7953"
             ],
             [
              0.7777777777777778,
              "#fb9f3a"
             ],
             [
              0.8888888888888888,
              "#fdca26"
             ],
             [
              1,
              "#f0f921"
             ]
            ],
            "type": "histogram2dcontour"
           }
          ],
          "mesh3d": [
           {
            "colorbar": {
             "outlinewidth": 0,
             "ticks": ""
            },
            "type": "mesh3d"
           }
          ],
          "parcoords": [
           {
            "line": {
             "colorbar": {
              "outlinewidth": 0,
              "ticks": ""
             }
            },
            "type": "parcoords"
           }
          ],
          "pie": [
           {
            "automargin": true,
            "type": "pie"
           }
          ],
          "scatter": [
           {
            "fillpattern": {
             "fillmode": "overlay",
             "size": 10,
             "solidity": 0.2
            },
            "type": "scatter"
           }
          ],
          "scatter3d": [
           {
            "line": {
             "colorbar": {
              "outlinewidth": 0,
              "ticks": ""
             }
            },
            "marker": {
             "colorbar": {
              "outlinewidth": 0,
              "ticks": ""
             }
            },
            "type": "scatter3d"
           }
          ],
          "scattercarpet": [
           {
            "marker": {
             "colorbar": {
              "outlinewidth": 0,
              "ticks": ""
             }
            },
            "type": "scattercarpet"
           }
          ],
          "scattergeo": [
           {
            "marker": {
             "colorbar": {
              "outlinewidth": 0,
              "ticks": ""
             }
            },
            "type": "scattergeo"
           }
          ],
          "scattergl": [
           {
            "marker": {
             "colorbar": {
              "outlinewidth": 0,
              "ticks": ""
             }
            },
            "type": "scattergl"
           }
          ],
          "scattermapbox": [
           {
            "marker": {
             "colorbar": {
              "outlinewidth": 0,
              "ticks": ""
             }
            },
            "type": "scattermapbox"
           }
          ],
          "scatterpolar": [
           {
            "marker": {
             "colorbar": {
              "outlinewidth": 0,
              "ticks": ""
             }
            },
            "type": "scatterpolar"
           }
          ],
          "scatterpolargl": [
           {
            "marker": {
             "colorbar": {
              "outlinewidth": 0,
              "ticks": ""
             }
            },
            "type": "scatterpolargl"
           }
          ],
          "scatterternary": [
           {
            "marker": {
             "colorbar": {
              "outlinewidth": 0,
              "ticks": ""
             }
            },
            "type": "scatterternary"
           }
          ],
          "surface": [
           {
            "colorbar": {
             "outlinewidth": 0,
             "ticks": ""
            },
            "colorscale": [
             [
              0,
              "#0d0887"
             ],
             [
              0.1111111111111111,
              "#46039f"
             ],
             [
              0.2222222222222222,
              "#7201a8"
             ],
             [
              0.3333333333333333,
              "#9c179e"
             ],
             [
              0.4444444444444444,
              "#bd3786"
             ],
             [
              0.5555555555555556,
              "#d8576b"
             ],
             [
              0.6666666666666666,
              "#ed7953"
             ],
             [
              0.7777777777777778,
              "#fb9f3a"
             ],
             [
              0.8888888888888888,
              "#fdca26"
             ],
             [
              1,
              "#f0f921"
             ]
            ],
            "type": "surface"
           }
          ],
          "table": [
           {
            "cells": {
             "fill": {
              "color": "#EBF0F8"
             },
             "line": {
              "color": "white"
             }
            },
            "header": {
             "fill": {
              "color": "#C8D4E3"
             },
             "line": {
              "color": "white"
             }
            },
            "type": "table"
           }
          ]
         },
         "layout": {
          "annotationdefaults": {
           "arrowcolor": "#2a3f5f",
           "arrowhead": 0,
           "arrowwidth": 1
          },
          "autotypenumbers": "strict",
          "coloraxis": {
           "colorbar": {
            "outlinewidth": 0,
            "ticks": ""
           }
          },
          "colorscale": {
           "diverging": [
            [
             0,
             "#8e0152"
            ],
            [
             0.1,
             "#c51b7d"
            ],
            [
             0.2,
             "#de77ae"
            ],
            [
             0.3,
             "#f1b6da"
            ],
            [
             0.4,
             "#fde0ef"
            ],
            [
             0.5,
             "#f7f7f7"
            ],
            [
             0.6,
             "#e6f5d0"
            ],
            [
             0.7,
             "#b8e186"
            ],
            [
             0.8,
             "#7fbc41"
            ],
            [
             0.9,
             "#4d9221"
            ],
            [
             1,
             "#276419"
            ]
           ],
           "sequential": [
            [
             0,
             "#0d0887"
            ],
            [
             0.1111111111111111,
             "#46039f"
            ],
            [
             0.2222222222222222,
             "#7201a8"
            ],
            [
             0.3333333333333333,
             "#9c179e"
            ],
            [
             0.4444444444444444,
             "#bd3786"
            ],
            [
             0.5555555555555556,
             "#d8576b"
            ],
            [
             0.6666666666666666,
             "#ed7953"
            ],
            [
             0.7777777777777778,
             "#fb9f3a"
            ],
            [
             0.8888888888888888,
             "#fdca26"
            ],
            [
             1,
             "#f0f921"
            ]
           ],
           "sequentialminus": [
            [
             0,
             "#0d0887"
            ],
            [
             0.1111111111111111,
             "#46039f"
            ],
            [
             0.2222222222222222,
             "#7201a8"
            ],
            [
             0.3333333333333333,
             "#9c179e"
            ],
            [
             0.4444444444444444,
             "#bd3786"
            ],
            [
             0.5555555555555556,
             "#d8576b"
            ],
            [
             0.6666666666666666,
             "#ed7953"
            ],
            [
             0.7777777777777778,
             "#fb9f3a"
            ],
            [
             0.8888888888888888,
             "#fdca26"
            ],
            [
             1,
             "#f0f921"
            ]
           ]
          },
          "colorway": [
           "#636efa",
           "#EF553B",
           "#00cc96",
           "#ab63fa",
           "#FFA15A",
           "#19d3f3",
           "#FF6692",
           "#B6E880",
           "#FF97FF",
           "#FECB52"
          ],
          "font": {
           "color": "#2a3f5f"
          },
          "geo": {
           "bgcolor": "white",
           "lakecolor": "white",
           "landcolor": "#E5ECF6",
           "showlakes": true,
           "showland": true,
           "subunitcolor": "white"
          },
          "hoverlabel": {
           "align": "left"
          },
          "hovermode": "closest",
          "mapbox": {
           "style": "light"
          },
          "paper_bgcolor": "white",
          "plot_bgcolor": "#E5ECF6",
          "polar": {
           "angularaxis": {
            "gridcolor": "white",
            "linecolor": "white",
            "ticks": ""
           },
           "bgcolor": "#E5ECF6",
           "radialaxis": {
            "gridcolor": "white",
            "linecolor": "white",
            "ticks": ""
           }
          },
          "scene": {
           "xaxis": {
            "backgroundcolor": "#E5ECF6",
            "gridcolor": "white",
            "gridwidth": 2,
            "linecolor": "white",
            "showbackground": true,
            "ticks": "",
            "zerolinecolor": "white"
           },
           "yaxis": {
            "backgroundcolor": "#E5ECF6",
            "gridcolor": "white",
            "gridwidth": 2,
            "linecolor": "white",
            "showbackground": true,
            "ticks": "",
            "zerolinecolor": "white"
           },
           "zaxis": {
            "backgroundcolor": "#E5ECF6",
            "gridcolor": "white",
            "gridwidth": 2,
            "linecolor": "white",
            "showbackground": true,
            "ticks": "",
            "zerolinecolor": "white"
           }
          },
          "shapedefaults": {
           "line": {
            "color": "#2a3f5f"
           }
          },
          "ternary": {
           "aaxis": {
            "gridcolor": "white",
            "linecolor": "white",
            "ticks": ""
           },
           "baxis": {
            "gridcolor": "white",
            "linecolor": "white",
            "ticks": ""
           },
           "bgcolor": "#E5ECF6",
           "caxis": {
            "gridcolor": "white",
            "linecolor": "white",
            "ticks": ""
           }
          },
          "title": {
           "x": 0.05
          },
          "xaxis": {
           "automargin": true,
           "gridcolor": "white",
           "linecolor": "white",
           "ticks": "",
           "title": {
            "standoff": 15
           },
           "zerolinecolor": "white",
           "zerolinewidth": 2
          },
          "yaxis": {
           "automargin": true,
           "gridcolor": "white",
           "linecolor": "white",
           "ticks": "",
           "title": {
            "standoff": 15
           },
           "zerolinecolor": "white",
           "zerolinewidth": 2
          }
         }
        },
        "title": {
         "text": "Correlation Difference | P00738 & Cluster 9"
        }
       }
      }
     },
     "metadata": {},
     "output_type": "display_data"
    }
   ],
   "source": [
    "myprotein = 'P00738'\n",
    "mmcom_ni = 9\n",
    "\n",
    "file = f'Plots/{myprotein}_mm{mmcom_ni}.html'\n",
    "\n",
    "tmp = m2i.loc[[j for i,j,k in g.edges.data() if i=='P00738' and j in mmcom[mmcom_ni]], 'TP_ID']\n",
    "\n",
    "corr.rcca.qm.c.loc['P00738',tmp.keys()]\n",
    "corr.rcca.qm.d[adpv.rcca.qm.c<0.05].loc['P00738',tmp.keys()]\n",
    "\n",
    "x = [f'{j}-{i}' for i,j in zip(tmp, tmp.keys())]\n",
    "\n",
    "fig = go.Figure(data=[\n",
    "    go.Bar(name='Control', x=x, y=corr.rcca.qm.c[adpv.rcca.qm.c<0.05].loc['P00738',tmp.keys()], opacity=0.8),\n",
    "    go.Bar(name='Disease', x=x, y=corr.rcca.qm.d[adpv.rcca.qm.d<0.05].loc['P00738',tmp.keys()], opacity=0.8),\n",
    "])\n",
    "\n",
    "fig.update_layout(barmode='group', title=f'Correlation Difference | {myprotein} & Cluster {mmcom_ni}')\n",
    "fig.show()\n",
    "\n",
    "with open(file, 'a') as f:\n",
    "    f.write(fig.to_html(full_html=False, include_plotlyjs='cdn', default_height='50%', default_width='80%'))"
   ]
  },
  {
   "attachments": {},
   "cell_type": "markdown",
   "metadata": {},
   "source": [
    "GRAPH VISUALIZATION"
   ]
  },
  {
   "cell_type": "code",
   "execution_count": 123,
   "metadata": {},
   "outputs": [],
   "source": [
    "# G = leidenalg.find_partition(\n",
    "#     ig.Graph.from_networkx(g), leidenalg.ModularityVertexPartition, \n",
    "#     n_iterations=-1, seed=0\n",
    "# ).subgraphs()[0]\n",
    "#G = g.subgraph(G.to_networkx().nodes)\n",
    "\n",
    "G = nx_comm.louvain_communities(g, resolution=2, seed=0)[1]\n",
    "G = g.subgraph(G)"
   ]
  },
  {
   "cell_type": "code",
   "execution_count": 142,
   "metadata": {},
   "outputs": [],
   "source": [
    "G = g.subgraph(qqcom[3])"
   ]
  },
  {
   "cell_type": "code",
   "execution_count": 151,
   "metadata": {},
   "outputs": [
    {
     "name": "stdout",
     "output_type": "stream",
     "text": [
      "nx.html\n"
     ]
    }
   ],
   "source": [
    "\n",
    "\n",
    "nt = Network(height='500px', width='100%', select_menu=True, filter_menu=True)\n",
    "nt.force_atlas_2based()\n",
    "nt.from_nx(metag)\n",
    "#nt.from_nx(g.subgraph(mmcom[1]))\n",
    "#nt.from_nx(qqA[0].subgraph(list(get_communities(qqA[0], n=n)[0])))\n",
    "_ = [i.update({'color': palette[1]}) if i['group']=='m' else i.update({'color': palette[0]}) for i in nt.nodes]\n",
    "_ = [i.update({'color': 'grey'}) if i['r']>0 else i.update({'color': 'grey'}) for i in nt.edges]\n",
    "_ = [i.update({'width': -np.log(i['p'])}) for i in nt.edges]\n",
    "nt.show_buttons(filter_='physics')\n",
    "nt.show('nx.html', notebook=False)"
   ]
  },
  {
   "attachments": {},
   "cell_type": "markdown",
   "metadata": {},
   "source": [
    "STRING ENRICHMENT"
   ]
  },
  {
   "cell_type": "code",
   "execution_count": 271,
   "metadata": {},
   "outputs": [],
   "source": [
    "from STRING import Uniprot2String, FunctionalEnrichment\n",
    "background = Uniprot2String(\n",
    "    q2i.index.tolist()\n",
    ")\n",
    "\n",
    "background = [i[1] for i in background]"
   ]
  },
  {
   "cell_type": "code",
   "execution_count": null,
   "metadata": {},
   "outputs": [],
   "source": [
    "import requests\n",
    "\n",
    "for comm_ni in range(len(qqcom)):\n",
    "\n",
    "    my_genes = Uniprot2String(\n",
    "        #qqcom[comm_ni],\n",
    "        qSig.index[qSig.pv_adj<0.01].tolist()\n",
    "    )\n",
    "    my_genes = [i[1] for i in my_genes]\n",
    "    data = FunctionalEnrichment(my_genes, background, species=9606)\n",
    "\n",
    "    from io import StringIO\n",
    "\n",
    "    data = pd.read_csv(\n",
    "        StringIO(data),\n",
    "        sep='\\t'\n",
    "    )\n",
    "\n",
    "    col = ['category', 'number_of_genes', 'number_of_genes_in_background', 'fdr', 'description']\n",
    "    categories = ['Process', 'KEGG', 'Component']\n",
    "    atable = data[np.isin(data['category'], categories)].sort_values('fdr').loc[:, col]#.head(15)\n",
    "    atable.head(15)\n",
    "\n",
    "    with pd.ExcelWriter('Clusters/qq_allClusters.xlsx', mode='a') as writer:\n",
    "        atable.to_excel(writer, sheet_name=f'qq_{comm_ni}_string', index=False)\n",
    "    \n",
    "    # String network\n",
    "    res = requests.get(\n",
    "    f'https://string-db.org/api/tsv/get_link?identifiers={\"%0d\".join(my_genes)}&species=9606'\n",
    "    )\n",
    "\n",
    "    print(f'Proteomics Cluster {comm_ni}')\n",
    "    print(res.content.decode('ascii'))\n"
   ]
  },
  {
   "cell_type": "code",
   "execution_count": 276,
   "metadata": {},
   "outputs": [
    {
     "name": "stdout",
     "output_type": "stream",
     "text": [
      "url\n",
      "https://string-db.org/cgi/link?to=AE6938C979F29147\n",
      "\n"
     ]
    }
   ],
   "source": [
    "import requests\n",
    "\n",
    "my_genes = Uniprot2String(\n",
    "    #qqcom[comm_ni],\n",
    "    qSig.index[qSig.pv_adj<0.01].tolist()\n",
    ")\n",
    "my_genes = [i[1] for i in my_genes]\n",
    "data = FunctionalEnrichment(my_genes, background, species=9606)\n",
    "\n",
    "from io import StringIO\n",
    "\n",
    "data = pd.read_csv(\n",
    "    StringIO(data),\n",
    "    sep='\\t'\n",
    ")\n",
    "\n",
    "col = ['category', 'number_of_genes', 'number_of_genes_in_background', 'fdr', 'description']\n",
    "categories = ['Process', 'KEGG', 'Component']\n",
    "atable = data[np.isin(data['category'], categories)].sort_values('fdr').loc[:, col]#.head(15)\n",
    "atable.head(15)\n",
    "\n",
    "# String network\n",
    "res = requests.get(\n",
    "f'https://string-db.org/api/tsv/get_link?identifiers={\"%0d\".join(my_genes)}&species=9606'\n",
    ")\n",
    "\n",
    "print(res.content.decode('ascii'))\n"
   ]
  }
 ],
 "metadata": {
  "kernelspec": {
   "display_name": "Python 3",
   "language": "python",
   "name": "python3"
  },
  "language_info": {
   "codemirror_mode": {
    "name": "ipython",
    "version": 3
   },
   "file_extension": ".py",
   "mimetype": "text/x-python",
   "name": "python",
   "nbconvert_exporter": "python",
   "pygments_lexer": "ipython3",
   "version": "3.10.4"
  },
  "orig_nbformat": 4,
  "vscode": {
   "interpreter": {
    "hash": "299fabdee10379681b2207a83aa9f93c313ee5d5504e286e44b436bd7e45d8f9"
   }
  }
 },
 "nbformat": 4,
 "nbformat_minor": 2
}
