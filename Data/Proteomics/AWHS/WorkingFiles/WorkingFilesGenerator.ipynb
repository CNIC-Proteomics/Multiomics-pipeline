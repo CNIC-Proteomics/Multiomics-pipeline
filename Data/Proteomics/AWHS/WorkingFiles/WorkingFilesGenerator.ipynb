{
 "cells": [
  {
   "cell_type": "code",
   "execution_count": 1,
   "metadata": {},
   "outputs": [],
   "source": [
    "#\n",
    "# Import libraries\n",
    "#\n",
    "\n",
    "import numpy as np\n",
    "import os\n",
    "import pandas as pd\n",
    "import sys\n",
    "\n",
    "from itertools import cycle\n",
    "\n",
    "import plotly.express as px\n",
    "import plotly.graph_objects as go\n",
    "from plotly.subplots import make_subplots\n",
    "\n",
    "from sklearn.preprocessing import StandardScaler\n",
    "\n",
    "from IPython.display import Image\n",
    "\n",
    "\n",
    "#\n",
    "# Import own libraries\n",
    "#\n",
    "utilsPath = r'S:\\U_Proteomica\\UNIDAD\\software\\MacrosRafa\\data\\Metabolomics\\PESA_Integromics\\Data\\utils'\n",
    "if utilsPath not in sys.path:\n",
    "    sys.path.append(utilsPath)\n",
    "\n",
    "from myLog import myLog\n",
    "from PlotEDA import PlotEDA\n",
    "from PlotMV import PlotMV\n",
    "from PCA_UMAP import PCA_UMAP, PCA_Var"
   ]
  },
  {
   "cell_type": "code",
   "execution_count": 2,
   "metadata": {},
   "outputs": [],
   "source": [
    "#\n",
    "# Constants\n",
    "#\n",
    "\n",
    "MVF_thr = 0.2\n",
    "MVO_thr = 0.1"
   ]
  },
  {
   "cell_type": "code",
   "execution_count": 3,
   "metadata": {},
   "outputs": [],
   "source": [
    "#\n",
    "# Set constants\n",
    "#\n",
    "\n",
    "working_path = r'S:\\U_Proteomica\\UNIDAD\\software\\MacrosRafa\\data\\Metabolomics\\PESA_Integromics\\Data\\Proteomics\\AWHS'\n",
    "xq_path = os.path.join(working_path, 'OriginalFiles', 'RBR_Xq_minus_X.xlsx')\n",
    "sn2tmtc_path = os.path.join(working_path, 'OriginalFiles', 'SPSS_All.xlsx')\n",
    "\n",
    "fileSummary = os.path.join(working_path, 'WorkingFiles', 'Plots', 'SummaryPlots.html')\n",
    "filePCA = os.path.join(working_path, 'WorkingFiles', 'Plots', 'PCAPlots.html')\n",
    "if os.path.exists(fileSummary): os.remove(fileSummary)\n",
    "if os.path.exists(filePCA): os.remove(filePCA)"
   ]
  },
  {
   "cell_type": "code",
   "execution_count": 4,
   "metadata": {},
   "outputs": [],
   "source": [
    "mdata = pd.read_csv(r'S:\\U_Proteomica\\UNIDAD\\software\\MacrosRafa\\data\\Metabolomics\\PESA_Integromics\\Data\\Metadata\\AWHS\\WorkingFiles\\main_metadata.tsv', sep='\\t')"
   ]
  },
  {
   "cell_type": "code",
   "execution_count": 5,
   "metadata": {},
   "outputs": [
    {
     "name": "stdout",
     "output_type": "stream",
     "text": [
      "Start Session\n"
     ]
    }
   ],
   "source": [
    "#\n",
    "# Set logging\n",
    "#\n",
    "\n",
    "logw = myLog(os.path.join(working_path, 'WorkingFiles', 'info.log'))\n",
    "logw('Start Session')"
   ]
  },
  {
   "cell_type": "code",
   "execution_count": 6,
   "metadata": {},
   "outputs": [],
   "source": [
    "#\n",
    "# Read Dataframes\n",
    "#\n",
    "\n",
    "xq = pd.read_excel(xq_path, sheet_name='Xq_minus_X', header=[0,1])\n",
    "sn2tmtc = pd.read_excel(sn2tmtc_path)"
   ]
  },
  {
   "cell_type": "code",
   "execution_count": 7,
   "metadata": {},
   "outputs": [],
   "source": [
    "#\n",
    "# Write TMT2seqn.tsv\n",
    "#\n",
    "\n",
    "sn2tmtc = sn2tmtc.loc[:, ['SEQN', 'Codigo', 'Cohorte', 'Experimento']].rename(columns={'SEQN': 'Seqn', 'Codigo':'Codigo_Proteo', 'Cohorte': 'Cohort', 'Experimento':'TMT'})\n",
    "sn2tmtc['Cohort'] = [i[-1] for i in sn2tmtc['Cohort']]\n",
    "sn2tmtc.to_csv(os.path.join(working_path, 'WorkingFiles', 'TMT2seqn.tsv'), sep='\\t', index=False)"
   ]
  },
  {
   "cell_type": "code",
   "execution_count": 8,
   "metadata": {},
   "outputs": [],
   "source": [
    "#\n",
    "# Write q2info.tsv\n",
    "#\n",
    "\n",
    "q2i = xq.iloc[:, [0,1,2]].droplevel(0, axis=1).rename(columns={'Proteins':'qdesc', 'Accession':'fid'})\n",
    "q2i.loc[:, ['fid', 'qdesc', 'Np']].to_csv(os.path.join(working_path, 'WorkingFiles', 'q2info.tsv'), sep='\\t', index=False)"
   ]
  },
  {
   "cell_type": "code",
   "execution_count": 9,
   "metadata": {},
   "outputs": [],
   "source": [
    "#\n",
    "# Generate Xq_minus_X.tsv\n",
    "#\n",
    "\n",
    "# set uniprot id as unique index\n",
    "xq = xq.drop(['Np', 'Proteins'], level=1, axis=1).rename(columns={'Accession': 'fid'})\n",
    "xq = xq.set_index(xq.droplevel(0, axis=1).iloc[:, 0]).drop('fid', level=1, axis=1)"
   ]
  },
  {
   "cell_type": "code",
   "execution_count": 10,
   "metadata": {},
   "outputs": [],
   "source": [
    "xq = xq.T.reset_index(names=['Cohort', 'TMT'])\n",
    "xq['Cohort'] = [i[-1] for i in xq['Cohort']]"
   ]
  },
  {
   "cell_type": "code",
   "execution_count": 11,
   "metadata": {},
   "outputs": [
    {
     "name": "stdout",
     "output_type": "stream",
     "text": [
      "From Xq: {'1': 112, '2': 112, '3': 112}\n",
      "From Zq: {'1': 112, '3': 110, '2': 108}\n"
     ]
    }
   ],
   "source": [
    "### WARNING!! El numero de observaciones en Xq y en SPSS_All no coincide:\n",
    "# Estos canales no se usaron. Sin embargo, al crear la PSM_Table, se extrajeron\n",
    "# todas las señales (incluidas las no usadas, y que tenían ruido). Al ejecutar el \n",
    "# SanXoT, se mantuvo el mismo template. Por ello aparecen estas columnas\n",
    "print(f\"From Xq: {xq['Cohort'].value_counts().to_dict()}\")\n",
    "print(f\"From Zq: {sn2tmtc['Cohort'].value_counts().to_dict()}\")"
   ]
  },
  {
   "cell_type": "code",
   "execution_count": 12,
   "metadata": {},
   "outputs": [],
   "source": [
    "xq = pd.merge(\n",
    "    sn2tmtc,\n",
    "    xq,\n",
    "    how='outer',\n",
    "    on=['Cohort', 'TMT']\n",
    ")"
   ]
  },
  {
   "cell_type": "code",
   "execution_count": 13,
   "metadata": {},
   "outputs": [
    {
     "data": {
      "text/html": [
       "<div>\n",
       "<style scoped>\n",
       "    .dataframe tbody tr th:only-of-type {\n",
       "        vertical-align: middle;\n",
       "    }\n",
       "\n",
       "    .dataframe tbody tr th {\n",
       "        vertical-align: top;\n",
       "    }\n",
       "\n",
       "    .dataframe thead th {\n",
       "        text-align: right;\n",
       "    }\n",
       "</style>\n",
       "<table border=\"1\" class=\"dataframe\">\n",
       "  <thead>\n",
       "    <tr style=\"text-align: right;\">\n",
       "      <th></th>\n",
       "      <th>Seqn</th>\n",
       "      <th>Cohort</th>\n",
       "      <th>TMT</th>\n",
       "    </tr>\n",
       "  </thead>\n",
       "  <tbody>\n",
       "    <tr>\n",
       "      <th>330</th>\n",
       "      <td>NaN</td>\n",
       "      <td>2</td>\n",
       "      <td>TMT1_130C</td>\n",
       "    </tr>\n",
       "    <tr>\n",
       "      <th>331</th>\n",
       "      <td>NaN</td>\n",
       "      <td>2</td>\n",
       "      <td>TMT1_130N</td>\n",
       "    </tr>\n",
       "    <tr>\n",
       "      <th>332</th>\n",
       "      <td>NaN</td>\n",
       "      <td>2</td>\n",
       "      <td>TMT2_130C</td>\n",
       "    </tr>\n",
       "    <tr>\n",
       "      <th>333</th>\n",
       "      <td>NaN</td>\n",
       "      <td>2</td>\n",
       "      <td>TMT2_130N</td>\n",
       "    </tr>\n",
       "    <tr>\n",
       "      <th>334</th>\n",
       "      <td>NaN</td>\n",
       "      <td>3</td>\n",
       "      <td>TMT14_130C</td>\n",
       "    </tr>\n",
       "    <tr>\n",
       "      <th>335</th>\n",
       "      <td>NaN</td>\n",
       "      <td>3</td>\n",
       "      <td>TMT14_130N</td>\n",
       "    </tr>\n",
       "  </tbody>\n",
       "</table>\n",
       "</div>"
      ],
      "text/plain": [
       "     Seqn Cohort         TMT\n",
       "330   NaN      2   TMT1_130C\n",
       "331   NaN      2   TMT1_130N\n",
       "332   NaN      2   TMT2_130C\n",
       "333   NaN      2   TMT2_130N\n",
       "334   NaN      3  TMT14_130C\n",
       "335   NaN      3  TMT14_130N"
      ]
     },
     "execution_count": 13,
     "metadata": {},
     "output_type": "execute_result"
    }
   ],
   "source": [
    "xq.loc[xq['Seqn'].isna(), ['Seqn', 'Cohort', 'TMT']]"
   ]
  },
  {
   "cell_type": "code",
   "execution_count": 14,
   "metadata": {},
   "outputs": [],
   "source": [
    "xq = xq.loc[~xq['Seqn'].isna(), :].astype({'Seqn': int}).drop(['Codigo_Proteo', 'Cohort', 'TMT'], axis=1).set_index('Seqn')"
   ]
  },
  {
   "cell_type": "code",
   "execution_count": 15,
   "metadata": {},
   "outputs": [],
   "source": [
    "xq.to_csv(os.path.join(working_path, 'WorkingFiles', 'Xq_minus_X.tsv'), index=True, sep='\\t')"
   ]
  },
  {
   "cell_type": "code",
   "execution_count": 16,
   "metadata": {},
   "outputs": [],
   "source": [
    "#\n",
    "# Start Standardization and Exploratory Data Analysis\n",
    "#"
   ]
  },
  {
   "cell_type": "code",
   "execution_count": 17,
   "metadata": {},
   "outputs": [],
   "source": [
    "#\n",
    "# Check missing values\n",
    "#\n",
    "\n",
    "plotMV = PlotMV(xq, mdata, file=fileSummary)\n",
    "plotMV.plotSummary()"
   ]
  },
  {
   "cell_type": "code",
   "execution_count": 18,
   "metadata": {},
   "outputs": [
    {
     "name": "stdout",
     "output_type": "stream",
     "text": [
      "Total number of observations: 330\n",
      "Total number of proteins: 4229\n",
      "Total number of proteins with <20.0% of missing values(<66 of obs.): 381\n",
      "Missing elements:\n",
      "Group  Cohort\n",
      "C      1         4\n",
      "       2         4\n",
      "       3         2\n",
      "D      1         4\n",
      "       2         4\n",
      "       3         2\n",
      "dtype: int64\n"
     ]
    }
   ],
   "source": [
    "logw(f\"Total number of observations: {xq.shape[0]}\")\n",
    "logw(f\"Total number of proteins: {xq.shape[1]}\")\n",
    "logw(f\"Total number of proteins with <{MVF_thr*100}% of missing values(<{int(xq.shape[0]*MVF_thr)} of obs.): {((xq.isna().sum()/xq.shape[0])<=MVF_thr).sum()}\")\n",
    "\n",
    "logw(\"Missing elements:\")\n",
    "logw(mdata[~np.isin(mdata['Seqn'], xq.index)].loc[:, ['Group', 'Cohort']].groupby(['Group', 'Cohort']).size())"
   ]
  },
  {
   "cell_type": "code",
   "execution_count": 19,
   "metadata": {},
   "outputs": [],
   "source": [
    "mdataq = mdata.set_index('Seqn').loc[xq.index].reset_index(names='Seqn')"
   ]
  },
  {
   "cell_type": "code",
   "execution_count": 20,
   "metadata": {},
   "outputs": [],
   "source": [
    "#\n",
    "# Generate Xq_minus_X_norm.tsv\n",
    "# \n",
    "\n",
    "# Filter by 0.2 missing values\n",
    "xqf = xq.loc[:, (xq.isna().sum()/xq.shape[0])<MVF_thr].copy()"
   ]
  },
  {
   "cell_type": "code",
   "execution_count": 21,
   "metadata": {},
   "outputs": [
    {
     "name": "stdout",
     "output_type": "stream",
     "text": [
      "Total number of observations with <10.0% of missing values: 313 / 330\n"
     ]
    }
   ],
   "source": [
    "#\n",
    "# Filter observations by Missing values\n",
    "#\n",
    "\n",
    "plotMV = PlotMV(xqf, mdata, file=fileSummary)\n",
    "plotMV.plotSummaryObs()\n",
    "\n",
    "# Filter Observations by missing values\n",
    "\n",
    "xqf = xqf[xqf.isna().sum(axis=1)/xqf.shape[1]<MVO_thr]\n",
    "\n",
    "logw(f'Total number of observations with <{MVO_thr*100}% of missing values: {xqf.shape[0]} / {xq.shape[0]}')"
   ]
  },
  {
   "cell_type": "code",
   "execution_count": 22,
   "metadata": {},
   "outputs": [],
   "source": [
    "#\n",
    "# Center and scale\n",
    "#\n",
    "\n",
    "xqfn = pd.DataFrame(\n",
    "    StandardScaler().fit_transform(xqf),\n",
    "    columns=xqf.columns, index=xqf.index\n",
    ")"
   ]
  },
  {
   "cell_type": "code",
   "execution_count": 23,
   "metadata": {},
   "outputs": [],
   "source": [
    "#\n",
    "# Summary plots\n",
    "#\n",
    "\n",
    "plotEDA = PlotEDA(xqf, mdata, file=fileSummary)\n",
    "\n",
    "plotEDA.plotSummary(r11=(-0.4,0.4), r12=(0,2), r21=(-0.4,0.4), r22=(0,2), r3=(-4,4),vl3=[0])\n",
    "plotEDA.plotByGroup('Group', vl1=[0],vl2=[0])\n",
    "plotEDA.plotByGroup('Cohort',vl1=[0],vl2=[0])"
   ]
  },
  {
   "cell_type": "code",
   "execution_count": 24,
   "metadata": {},
   "outputs": [],
   "source": [
    "#\n",
    "# Imputation of missing values using KNN\n",
    "#\n",
    "\n",
    "from sklearn.impute import KNNImputer\n",
    "\n",
    "imputer = KNNImputer(n_neighbors=3)\n",
    "xqfnv = pd.DataFrame(\n",
    "    imputer.fit_transform(xqfn),\n",
    "    columns=xqfn.columns,\n",
    "    index=xqfn.index\n",
    ")\n"
   ]
  },
  {
   "cell_type": "code",
   "execution_count": 25,
   "metadata": {},
   "outputs": [
    {
     "name": "stdout",
     "output_type": "stream",
     "text": [
      "Total number of values: 119253\n",
      "Number of missing values imputed by KNN (n=3): 3043 (2.55%)\n"
     ]
    }
   ],
   "source": [
    "logw(f\"Total number of values: {xqfn.shape[0]*xqfn.shape[1]}\")\n",
    "logw(f\"Number of missing values imputed by KNN (n=3): {xqfn.isna().sum().sum()} ({round(xqfn.isna().sum().sum()/(xqfn.shape[0]*xqfn.shape[1])*100,2)}%)\")"
   ]
  },
  {
   "cell_type": "code",
   "execution_count": 26,
   "metadata": {},
   "outputs": [
    {
     "name": "stdout",
     "output_type": "stream",
     "text": [
      "Loading required package: mgcv\n",
      "Loading required package: nlme\n",
      "This is mgcv 1.8-41. For overview type 'help(\"mgcv-package\")'.\n",
      "Loading required package: genefilter\n",
      "Loading required package: BiocParallel\n",
      "Warning messages:\n",
      "1: package 'sva' was built under R version 4.2.1 \n",
      "2: package 'mgcv' was built under R version 4.2.2 \n",
      "3: package 'nlme' was built under R version 4.2.2 \n",
      "4: package 'genefilter' was built under R version 4.2.2 \n",
      "5: package 'BiocParallel' was built under R version 4.2.2 \n",
      "Found3batches\n",
      "Adjusting for7covariate(s) or covariate level(s)\n",
      "Standardizing Data across genes\n",
      "Fitting L/S model and finding priors\n",
      "Finding nonparametric adjustments\n",
      "Adjusting the Data\n",
      "\n",
      "\n"
     ]
    }
   ],
   "source": [
    "#\n",
    "# Correct batch effect using combat\n",
    "#\n",
    "# https://github.com/brentp/combat.py\n",
    "#\n",
    "\n",
    "# from combat import combat\n",
    "\n",
    "# xqfnvb = combat(\n",
    "#     data=xqfnv.T,\n",
    "#     batch=mdataq.set_index('Seqn').loc[xqf.index, 'Cohort']\n",
    "# ).T\n",
    "\n",
    "from myComBat import myComBat\n",
    "\n",
    "catVars = ['Group', 'smoker', 'diabetes']\n",
    "conVars = ['Plaque thickness', 'Glucosa', 'hdl', 'coltot']\n",
    "xqfnvb = myComBat(xqfnv, mdata, 'Cohort', catVars, conVars, Rpath=os.path.join(working_path, 'WorkingFiles', 'myRData'))"
   ]
  },
  {
   "cell_type": "code",
   "execution_count": 27,
   "metadata": {},
   "outputs": [],
   "source": [
    "plotEDA = PlotEDA(xqfnvb, mdata, file=fileSummary)\n",
    "plotEDA.plotByGroup('Group', vl1=[0],vl2=[0], plotN=False, titleLabel='- Corrected by Batch Effect')\n",
    "plotEDA.plotByGroup('Cohort',vl1=[0],vl2=[0], plotN=False, titleLabel='- Corrected by Batch Effect')"
   ]
  },
  {
   "cell_type": "code",
   "execution_count": 28,
   "metadata": {},
   "outputs": [],
   "source": [
    "ploteda = PlotEDA(xqfnvb, mdata, file=fileSummary)\n",
    "ploteda.plotSummary(plots=[1], titleLabel='- Corrected by Batch Effect', r11=(-0.5, 0.5), r12=(0.85, 1.15))"
   ]
  },
  {
   "cell_type": "code",
   "execution_count": 29,
   "metadata": {},
   "outputs": [
    {
     "name": "stdout",
     "output_type": "stream",
     "text": [
      "\n",
      "Kuskal-Wallis test\n",
      "Non corrected\n",
      "Group - KruskalResult(statistic=78.5722286758321, pvalue=7.712607891046371e-19)\n",
      "Cohort - KruskalResult(statistic=62.89444897248777, pvalue=2.2011210872263378e-14)\n",
      "Corrected\n",
      "Group - KruskalResult(statistic=74.71826035104459, pvalue=5.4291633493358406e-18)\n",
      "Cohort - KruskalResult(statistic=0.512904777075164, pvalue=0.7737918350433243)\n"
     ]
    }
   ],
   "source": [
    "#\n",
    "# Kruskal-Wallisk H test \n",
    "#\n",
    "\n",
    "logw('')\n",
    "logw('Kuskal-Wallis test')\n",
    "logw('Non corrected')\n",
    "logw(f'Group - {plotEDA._kruskal(xqfnv, \"Group\")}')\n",
    "logw(f'Cohort - {plotEDA._kruskal(xqfnv, \"Cohort\")}')\n",
    "logw('Corrected')\n",
    "logw(f'Group - {plotEDA._kruskal(xqfnvb, \"Group\")}')\n",
    "logw(f'Cohort - {plotEDA._kruskal(xqfnvb, \"Cohort\")}')"
   ]
  },
  {
   "cell_type": "code",
   "execution_count": 30,
   "metadata": {},
   "outputs": [],
   "source": [
    "xqfnvb.to_csv(os.path.join(working_path, 'WorkingFiles', 'Xq_minus_X_norm.tsv'), sep='\\t', index=True)"
   ]
  },
  {
   "cell_type": "code",
   "execution_count": 31,
   "metadata": {},
   "outputs": [],
   "source": [
    "pcaumap = PCA_UMAP(xqfnv, mdata, file=filePCA)\n",
    "pcaumap.plotReduction('Cohort', pcacomp=[0,1])\n",
    "pcaumap.plotReduction('Group', pcacomp=[0,1])"
   ]
  },
  {
   "cell_type": "code",
   "execution_count": 32,
   "metadata": {},
   "outputs": [],
   "source": [
    "pcaumap = PCA_UMAP(xqfnvb, mdata, file=filePCA)\n",
    "pcaumap.plotReduction('Cohort', pcacomp=[0,1], titleLabel='- Corrected by Batch Effect')\n",
    "pcaumap.plotReduction('Group', pcacomp=[0,1], titleLabel='- Corrected by Batch Effect')"
   ]
  },
  {
   "cell_type": "code",
   "execution_count": 33,
   "metadata": {},
   "outputs": [
    {
     "data": {
      "text/html": [
       "<div>\n",
       "<style scoped>\n",
       "    .dataframe tbody tr th:only-of-type {\n",
       "        vertical-align: middle;\n",
       "    }\n",
       "\n",
       "    .dataframe tbody tr th {\n",
       "        vertical-align: top;\n",
       "    }\n",
       "\n",
       "    .dataframe thead th {\n",
       "        text-align: right;\n",
       "    }\n",
       "</style>\n",
       "<table border=\"1\" class=\"dataframe\">\n",
       "  <thead>\n",
       "    <tr style=\"text-align: right;\">\n",
       "      <th></th>\n",
       "      <th>%Var PCA</th>\n",
       "      <th>Plaque thickness</th>\n",
       "      <th>Glucosa</th>\n",
       "      <th>hdl</th>\n",
       "      <th>coltot</th>\n",
       "      <th>Group</th>\n",
       "      <th>smoker</th>\n",
       "      <th>diabetes</th>\n",
       "      <th>Cohort</th>\n",
       "    </tr>\n",
       "  </thead>\n",
       "  <tbody>\n",
       "    <tr>\n",
       "      <th>1</th>\n",
       "      <td>13.672072</td>\n",
       "      <td>0.2119</td>\n",
       "      <td>0.5045</td>\n",
       "      <td>0.0411</td>\n",
       "      <td>0.6621</td>\n",
       "      <td>0.6361</td>\n",
       "      <td>0.5599</td>\n",
       "      <td>0.1042</td>\n",
       "      <td>0.0020</td>\n",
       "    </tr>\n",
       "    <tr>\n",
       "      <th>2</th>\n",
       "      <td>7.066286</td>\n",
       "      <td>0.5616</td>\n",
       "      <td>0.3041</td>\n",
       "      <td>0.8538</td>\n",
       "      <td>0.0284</td>\n",
       "      <td>0.0129</td>\n",
       "      <td>0.0607</td>\n",
       "      <td>0.1993</td>\n",
       "      <td>0.0006</td>\n",
       "    </tr>\n",
       "    <tr>\n",
       "      <th>3</th>\n",
       "      <td>6.586803</td>\n",
       "      <td>0.9154</td>\n",
       "      <td>0.7079</td>\n",
       "      <td>0.3728</td>\n",
       "      <td>0.0075</td>\n",
       "      <td>0.0001</td>\n",
       "      <td>0.0351</td>\n",
       "      <td>0.7280</td>\n",
       "      <td>0.3742</td>\n",
       "    </tr>\n",
       "    <tr>\n",
       "      <th>4</th>\n",
       "      <td>3.086397</td>\n",
       "      <td>0.2195</td>\n",
       "      <td>0.4380</td>\n",
       "      <td>0.3946</td>\n",
       "      <td>0.3638</td>\n",
       "      <td>0.0664</td>\n",
       "      <td>0.0024</td>\n",
       "      <td>0.6787</td>\n",
       "      <td>0.0081</td>\n",
       "    </tr>\n",
       "    <tr>\n",
       "      <th>5</th>\n",
       "      <td>2.859518</td>\n",
       "      <td>0.0480</td>\n",
       "      <td>0.0650</td>\n",
       "      <td>0.0005</td>\n",
       "      <td>0.0476</td>\n",
       "      <td>0.0000</td>\n",
       "      <td>0.7555</td>\n",
       "      <td>0.3577</td>\n",
       "      <td>0.4026</td>\n",
       "    </tr>\n",
       "    <tr>\n",
       "      <th>6</th>\n",
       "      <td>2.466264</td>\n",
       "      <td>0.6443</td>\n",
       "      <td>0.0497</td>\n",
       "      <td>0.6278</td>\n",
       "      <td>0.5358</td>\n",
       "      <td>0.0014</td>\n",
       "      <td>0.3901</td>\n",
       "      <td>0.0115</td>\n",
       "      <td>0.2321</td>\n",
       "    </tr>\n",
       "    <tr>\n",
       "      <th>7</th>\n",
       "      <td>2.065590</td>\n",
       "      <td>0.5012</td>\n",
       "      <td>0.6178</td>\n",
       "      <td>0.0167</td>\n",
       "      <td>0.0148</td>\n",
       "      <td>0.3999</td>\n",
       "      <td>0.0006</td>\n",
       "      <td>0.1137</td>\n",
       "      <td>0.8086</td>\n",
       "    </tr>\n",
       "    <tr>\n",
       "      <th>8</th>\n",
       "      <td>2.026402</td>\n",
       "      <td>0.1608</td>\n",
       "      <td>0.1290</td>\n",
       "      <td>0.0231</td>\n",
       "      <td>0.0000</td>\n",
       "      <td>0.0021</td>\n",
       "      <td>0.7385</td>\n",
       "      <td>0.0154</td>\n",
       "      <td>0.0265</td>\n",
       "    </tr>\n",
       "    <tr>\n",
       "      <th>9</th>\n",
       "      <td>1.793214</td>\n",
       "      <td>0.3266</td>\n",
       "      <td>0.8119</td>\n",
       "      <td>0.8485</td>\n",
       "      <td>0.0322</td>\n",
       "      <td>0.0024</td>\n",
       "      <td>0.5036</td>\n",
       "      <td>0.9536</td>\n",
       "      <td>0.0000</td>\n",
       "    </tr>\n",
       "    <tr>\n",
       "      <th>10</th>\n",
       "      <td>1.683503</td>\n",
       "      <td>0.1838</td>\n",
       "      <td>0.2580</td>\n",
       "      <td>0.0022</td>\n",
       "      <td>0.3984</td>\n",
       "      <td>0.0381</td>\n",
       "      <td>0.1470</td>\n",
       "      <td>0.0002</td>\n",
       "      <td>0.9130</td>\n",
       "    </tr>\n",
       "  </tbody>\n",
       "</table>\n",
       "</div>"
      ],
      "text/plain": [
       "     %Var PCA  Plaque thickness  Glucosa     hdl  coltot   Group  smoker  \\\n",
       "1   13.672072            0.2119   0.5045  0.0411  0.6621  0.6361  0.5599   \n",
       "2    7.066286            0.5616   0.3041  0.8538  0.0284  0.0129  0.0607   \n",
       "3    6.586803            0.9154   0.7079  0.3728  0.0075  0.0001  0.0351   \n",
       "4    3.086397            0.2195   0.4380  0.3946  0.3638  0.0664  0.0024   \n",
       "5    2.859518            0.0480   0.0650  0.0005  0.0476  0.0000  0.7555   \n",
       "6    2.466264            0.6443   0.0497  0.6278  0.5358  0.0014  0.3901   \n",
       "7    2.065590            0.5012   0.6178  0.0167  0.0148  0.3999  0.0006   \n",
       "8    2.026402            0.1608   0.1290  0.0231  0.0000  0.0021  0.7385   \n",
       "9    1.793214            0.3266   0.8119  0.8485  0.0322  0.0024  0.5036   \n",
       "10   1.683503            0.1838   0.2580  0.0022  0.3984  0.0381  0.1470   \n",
       "\n",
       "    diabetes  Cohort  \n",
       "1     0.1042  0.0020  \n",
       "2     0.1993  0.0006  \n",
       "3     0.7280  0.3742  \n",
       "4     0.6787  0.0081  \n",
       "5     0.3577  0.4026  \n",
       "6     0.0115  0.2321  \n",
       "7     0.1137  0.8086  \n",
       "8     0.0154  0.0265  \n",
       "9     0.9536  0.0000  \n",
       "10    0.0002  0.9130  "
      ]
     },
     "execution_count": 33,
     "metadata": {},
     "output_type": "execute_result"
    }
   ],
   "source": [
    "PCA_Var(xqfnv, mdata, conVars, catVars+['Cohort'], n_comp=10)"
   ]
  },
  {
   "cell_type": "code",
   "execution_count": 34,
   "metadata": {},
   "outputs": [
    {
     "data": {
      "text/html": [
       "<div>\n",
       "<style scoped>\n",
       "    .dataframe tbody tr th:only-of-type {\n",
       "        vertical-align: middle;\n",
       "    }\n",
       "\n",
       "    .dataframe tbody tr th {\n",
       "        vertical-align: top;\n",
       "    }\n",
       "\n",
       "    .dataframe thead th {\n",
       "        text-align: right;\n",
       "    }\n",
       "</style>\n",
       "<table border=\"1\" class=\"dataframe\">\n",
       "  <thead>\n",
       "    <tr style=\"text-align: right;\">\n",
       "      <th></th>\n",
       "      <th>%Var PCA</th>\n",
       "      <th>Plaque thickness</th>\n",
       "      <th>Glucosa</th>\n",
       "      <th>hdl</th>\n",
       "      <th>coltot</th>\n",
       "      <th>Group</th>\n",
       "      <th>smoker</th>\n",
       "      <th>diabetes</th>\n",
       "      <th>Cohort</th>\n",
       "    </tr>\n",
       "  </thead>\n",
       "  <tbody>\n",
       "    <tr>\n",
       "      <th>1</th>\n",
       "      <td>12.890757</td>\n",
       "      <td>0.4124</td>\n",
       "      <td>0.8222</td>\n",
       "      <td>0.0688</td>\n",
       "      <td>0.5106</td>\n",
       "      <td>0.3669</td>\n",
       "      <td>0.8892</td>\n",
       "      <td>0.3593</td>\n",
       "      <td>0.6223</td>\n",
       "    </tr>\n",
       "    <tr>\n",
       "      <th>2</th>\n",
       "      <td>6.981794</td>\n",
       "      <td>0.8047</td>\n",
       "      <td>0.2145</td>\n",
       "      <td>0.2900</td>\n",
       "      <td>0.0002</td>\n",
       "      <td>0.0986</td>\n",
       "      <td>0.4160</td>\n",
       "      <td>0.5051</td>\n",
       "      <td>0.9469</td>\n",
       "    </tr>\n",
       "    <tr>\n",
       "      <th>3</th>\n",
       "      <td>6.706447</td>\n",
       "      <td>0.4971</td>\n",
       "      <td>0.3460</td>\n",
       "      <td>0.7636</td>\n",
       "      <td>0.7534</td>\n",
       "      <td>0.0000</td>\n",
       "      <td>0.0259</td>\n",
       "      <td>0.1199</td>\n",
       "      <td>0.3955</td>\n",
       "    </tr>\n",
       "    <tr>\n",
       "      <th>4</th>\n",
       "      <td>3.065087</td>\n",
       "      <td>0.0742</td>\n",
       "      <td>0.9935</td>\n",
       "      <td>0.0184</td>\n",
       "      <td>0.0962</td>\n",
       "      <td>0.0005</td>\n",
       "      <td>0.0319</td>\n",
       "      <td>0.9806</td>\n",
       "      <td>0.5297</td>\n",
       "    </tr>\n",
       "    <tr>\n",
       "      <th>5</th>\n",
       "      <td>2.912187</td>\n",
       "      <td>0.1787</td>\n",
       "      <td>0.0588</td>\n",
       "      <td>0.0047</td>\n",
       "      <td>0.1547</td>\n",
       "      <td>0.0006</td>\n",
       "      <td>0.0793</td>\n",
       "      <td>0.2275</td>\n",
       "      <td>0.8921</td>\n",
       "    </tr>\n",
       "    <tr>\n",
       "      <th>6</th>\n",
       "      <td>2.432670</td>\n",
       "      <td>0.8372</td>\n",
       "      <td>0.2987</td>\n",
       "      <td>0.5804</td>\n",
       "      <td>0.2522</td>\n",
       "      <td>0.0001</td>\n",
       "      <td>0.5754</td>\n",
       "      <td>0.2873</td>\n",
       "      <td>0.9647</td>\n",
       "    </tr>\n",
       "    <tr>\n",
       "      <th>7</th>\n",
       "      <td>2.127614</td>\n",
       "      <td>0.4641</td>\n",
       "      <td>0.4983</td>\n",
       "      <td>0.0028</td>\n",
       "      <td>0.0089</td>\n",
       "      <td>0.1974</td>\n",
       "      <td>0.0005</td>\n",
       "      <td>0.0667</td>\n",
       "      <td>0.7127</td>\n",
       "    </tr>\n",
       "    <tr>\n",
       "      <th>8</th>\n",
       "      <td>2.054434</td>\n",
       "      <td>0.2143</td>\n",
       "      <td>0.0815</td>\n",
       "      <td>0.0140</td>\n",
       "      <td>0.0004</td>\n",
       "      <td>0.0070</td>\n",
       "      <td>0.3154</td>\n",
       "      <td>0.0444</td>\n",
       "      <td>0.6334</td>\n",
       "    </tr>\n",
       "    <tr>\n",
       "      <th>9</th>\n",
       "      <td>1.772210</td>\n",
       "      <td>0.2054</td>\n",
       "      <td>0.2681</td>\n",
       "      <td>0.0761</td>\n",
       "      <td>0.0961</td>\n",
       "      <td>0.0048</td>\n",
       "      <td>0.9513</td>\n",
       "      <td>0.1273</td>\n",
       "      <td>0.7321</td>\n",
       "    </tr>\n",
       "    <tr>\n",
       "      <th>10</th>\n",
       "      <td>1.667645</td>\n",
       "      <td>0.3254</td>\n",
       "      <td>0.4179</td>\n",
       "      <td>0.0049</td>\n",
       "      <td>0.0298</td>\n",
       "      <td>0.0388</td>\n",
       "      <td>0.0612</td>\n",
       "      <td>0.0104</td>\n",
       "      <td>0.5801</td>\n",
       "    </tr>\n",
       "  </tbody>\n",
       "</table>\n",
       "</div>"
      ],
      "text/plain": [
       "     %Var PCA  Plaque thickness  Glucosa     hdl  coltot   Group  smoker  \\\n",
       "1   12.890757            0.4124   0.8222  0.0688  0.5106  0.3669  0.8892   \n",
       "2    6.981794            0.8047   0.2145  0.2900  0.0002  0.0986  0.4160   \n",
       "3    6.706447            0.4971   0.3460  0.7636  0.7534  0.0000  0.0259   \n",
       "4    3.065087            0.0742   0.9935  0.0184  0.0962  0.0005  0.0319   \n",
       "5    2.912187            0.1787   0.0588  0.0047  0.1547  0.0006  0.0793   \n",
       "6    2.432670            0.8372   0.2987  0.5804  0.2522  0.0001  0.5754   \n",
       "7    2.127614            0.4641   0.4983  0.0028  0.0089  0.1974  0.0005   \n",
       "8    2.054434            0.2143   0.0815  0.0140  0.0004  0.0070  0.3154   \n",
       "9    1.772210            0.2054   0.2681  0.0761  0.0961  0.0048  0.9513   \n",
       "10   1.667645            0.3254   0.4179  0.0049  0.0298  0.0388  0.0612   \n",
       "\n",
       "    diabetes  Cohort  \n",
       "1     0.3593  0.6223  \n",
       "2     0.5051  0.9469  \n",
       "3     0.1199  0.3955  \n",
       "4     0.9806  0.5297  \n",
       "5     0.2275  0.8921  \n",
       "6     0.2873  0.9647  \n",
       "7     0.0667  0.7127  \n",
       "8     0.0444  0.6334  \n",
       "9     0.1273  0.7321  \n",
       "10    0.0104  0.5801  "
      ]
     },
     "execution_count": 34,
     "metadata": {},
     "output_type": "execute_result"
    }
   ],
   "source": [
    "PCA_Var(xqfnvb, mdata, conVars, catVars+['Cohort'], n_comp=10)"
   ]
  }
 ],
 "metadata": {
  "kernelspec": {
   "display_name": "Python 3",
   "language": "python",
   "name": "python3"
  },
  "language_info": {
   "codemirror_mode": {
    "name": "ipython",
    "version": 3
   },
   "file_extension": ".py",
   "mimetype": "text/x-python",
   "name": "python",
   "nbconvert_exporter": "python",
   "pygments_lexer": "ipython3",
   "version": "3.10.4"
  },
  "orig_nbformat": 4,
  "vscode": {
   "interpreter": {
    "hash": "299fabdee10379681b2207a83aa9f93c313ee5d5504e286e44b436bd7e45d8f9"
   }
  }
 },
 "nbformat": 4,
 "nbformat_minor": 2
}
