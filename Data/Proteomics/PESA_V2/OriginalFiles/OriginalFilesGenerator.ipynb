{
 "cells": [
  {
   "cell_type": "code",
   "execution_count": 62,
   "metadata": {},
   "outputs": [],
   "source": [
    "#\n",
    "# Import Libraries\n",
    "#\n",
    "\n",
    "import pandas as pd\n",
    "import os\n",
    "import re\n",
    "import numpy as np"
   ]
  },
  {
   "cell_type": "code",
   "execution_count": 65,
   "metadata": {},
   "outputs": [],
   "source": [
    "root_path = r'S:\\U_Proteomica\\PROYECTOS\\PESA_omicas'\n",
    "\n",
    "mdata = pd.read_csv(\n",
    "    r\"S:\\U_Proteomica\\UNIDAD\\software\\MacrosRafa\\data\\Metabolomics\\PESA_Integromics\\Data\\Metadata\\PESA_V2\\WorkingFiles\\main_metadata.tsv\",\n",
    "    sep='\\t'\n",
    ")"
   ]
  },
  {
   "cell_type": "code",
   "execution_count": 51,
   "metadata": {},
   "outputs": [],
   "source": [
    "q2a = {}\n",
    "for folder1 in os.listdir(root_path):\n",
    "    if re.match('\\da_Cohorte_\\d+_V2', folder1):\n",
    "        cohort = int(folder1[0])\n",
    "        for folder2 in os.listdir(os.path.join(root_path, folder1,'Proteomics/TMT_Fraccionamiento')):\n",
    "            if re.match('TMT\\d+', folder2):\n",
    "                #tmt = 'TMT'+re.search(r'TMT(\\d+)', folder2).groups()[0]\n",
    "                for folder3 in os.listdir(os.path.join(root_path, folder1,'Proteomics/TMT_Fraccionamiento', folder2, 'SanXoT')):\n",
    "                    q2a[(cohort, f'{folder2}_{folder3}')] = pd.read_csv(\n",
    "                        os.path.join(root_path, folder1,'Proteomics/TMT_Fraccionamiento', folder2, 'SanXoT', folder3, 'data/Q2A_outStats.xls'),\n",
    "                        sep='\\t'\n",
    "                    )"
   ]
  },
  {
   "cell_type": "code",
   "execution_count": 84,
   "metadata": {},
   "outputs": [],
   "source": [
    "xq = {}\n",
    "for i in q2a:\n",
    "    sn = mdata[np.logical_and(mdata.Cohort==i[0], mdata.Comparativa==i[1])].Seqn\n",
    "    if sn.shape[0] == 1:\n",
    "        xq[i] = pd.DataFrame()\n",
    "        xq[i]['q'] = q2a[i]['idinf']\n",
    "        xq[i]['x'] = q2a[i]['Xinf']-q2a[i]['Xsup']\n",
    "        xq[i]['seqn'] = sn.values[0]"
   ]
  },
  {
   "cell_type": "code",
   "execution_count": 88,
   "metadata": {},
   "outputs": [],
   "source": [
    "xq = pd.concat(xq.values())"
   ]
  },
  {
   "cell_type": "code",
   "execution_count": 91,
   "metadata": {},
   "outputs": [],
   "source": [
    "xq = pd.pivot_table(xq, index='seqn', columns='q', values='x')"
   ]
  },
  {
   "cell_type": "code",
   "execution_count": 95,
   "metadata": {},
   "outputs": [],
   "source": [
    "qdesc = xq.columns\n",
    "fid = [re.search(r'\\|([^|]+)\\|', i).groups()[0] for i in xq.columns]"
   ]
  },
  {
   "cell_type": "code",
   "execution_count": 98,
   "metadata": {},
   "outputs": [],
   "source": [
    "q2info = pd.DataFrame({'fid':fid, 'qdesc':qdesc})"
   ]
  },
  {
   "cell_type": "code",
   "execution_count": 99,
   "metadata": {},
   "outputs": [],
   "source": [
    "xq.to_csv('Xq_minus_X.tsv', sep='\\t', index=True)\n",
    "q2info.to_csv('q2info.tsv', sep='\\t', index=False)"
   ]
  }
 ],
 "metadata": {
  "kernelspec": {
   "display_name": "Python 3",
   "language": "python",
   "name": "python3"
  },
  "language_info": {
   "codemirror_mode": {
    "name": "ipython",
    "version": 3
   },
   "file_extension": ".py",
   "mimetype": "text/x-python",
   "name": "python",
   "nbconvert_exporter": "python",
   "pygments_lexer": "ipython3",
   "version": "3.10.4"
  },
  "orig_nbformat": 4
 },
 "nbformat": 4,
 "nbformat_minor": 2
}
